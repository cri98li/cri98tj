{
 "cells": [
  {
   "cell_type": "markdown",
   "source": [
    "https://www.kaggle.com/datasets/crailtap/taxi-trajectory"
   ],
   "metadata": {
    "collapsed": false,
    "pycharm": {
     "name": "#%% md\n"
    }
   }
  },
  {
   "cell_type": "code",
   "execution_count": 1,
   "outputs": [],
   "source": [
    "from concurrent.futures import ThreadPoolExecutor\n",
    "import pandas as pd\n",
    "\n",
    "executor = ThreadPoolExecutor(max_workers=24)"
   ],
   "metadata": {
    "collapsed": false,
    "pycharm": {
     "name": "#%%\n"
    }
   }
  },
  {
   "cell_type": "code",
   "execution_count": 2,
   "outputs": [],
   "source": [
    "df_original = pd.read_csv(\"train.csv\").sort_values(by=[\"TIMESTAMP\"])"
   ],
   "metadata": {
    "collapsed": false,
    "pycharm": {
     "name": "#%%\n"
    }
   }
  },
  {
   "cell_type": "code",
   "execution_count": 3,
   "outputs": [
    {
     "data": {
      "text/plain": "          TIMESTAMP                                           POLYLINE  \\\n577      1372636853  [[-8.610291,41.140746],[-8.6103,41.140755],[-8...   \n3        1372636854  [[-8.574678,41.151951],[-8.574705,41.151942],[...   \n0        1372636858  [[-8.618643,41.141412],[-8.618499,41.141376],[...   \n10       1372636875  [[-8.619894,41.148009],[-8.620164,41.14773],[-...   \n64       1372636896  [[-8.617599,41.146137],[-8.617581,41.14593],[-...   \n...             ...                                                ...   \n1710412  1404172716  [[-8.599248,41.149197],[-8.598645,41.148504],[...   \n1710511  1404172718  [[-8.601192,41.181741],[-8.601201,41.181741],[...   \n1710603  1404172736  [[-8.58609,41.175504],[-8.586351,41.174955],[-...   \n1710532  1404172754       [[-8.604765,41.16123],[-8.604792,41.161167]]   \n1710310  1404172796                                                 []   \n\n                         tid  \n577      1372636853620000380  \n3        1372636854620000520  \n0        1372636858620000589  \n10       1372636875620000233  \n64       1372636896620000360  \n...                      ...  \n1710412  1404172716620000359  \n1710511  1404172718620000066  \n1710603  1404172736620000483  \n1710532  1404172754620000518  \n1710310  1404172796620000657  \n\n[1710657 rows x 3 columns]",
      "text/html": "<div>\n<style scoped>\n    .dataframe tbody tr th:only-of-type {\n        vertical-align: middle;\n    }\n\n    .dataframe tbody tr th {\n        vertical-align: top;\n    }\n\n    .dataframe thead th {\n        text-align: right;\n    }\n</style>\n<table border=\"1\" class=\"dataframe\">\n  <thead>\n    <tr style=\"text-align: right;\">\n      <th></th>\n      <th>TIMESTAMP</th>\n      <th>POLYLINE</th>\n      <th>tid</th>\n    </tr>\n  </thead>\n  <tbody>\n    <tr>\n      <th>577</th>\n      <td>1372636853</td>\n      <td>[[-8.610291,41.140746],[-8.6103,41.140755],[-8...</td>\n      <td>1372636853620000380</td>\n    </tr>\n    <tr>\n      <th>3</th>\n      <td>1372636854</td>\n      <td>[[-8.574678,41.151951],[-8.574705,41.151942],[...</td>\n      <td>1372636854620000520</td>\n    </tr>\n    <tr>\n      <th>0</th>\n      <td>1372636858</td>\n      <td>[[-8.618643,41.141412],[-8.618499,41.141376],[...</td>\n      <td>1372636858620000589</td>\n    </tr>\n    <tr>\n      <th>10</th>\n      <td>1372636875</td>\n      <td>[[-8.619894,41.148009],[-8.620164,41.14773],[-...</td>\n      <td>1372636875620000233</td>\n    </tr>\n    <tr>\n      <th>64</th>\n      <td>1372636896</td>\n      <td>[[-8.617599,41.146137],[-8.617581,41.14593],[-...</td>\n      <td>1372636896620000360</td>\n    </tr>\n    <tr>\n      <th>...</th>\n      <td>...</td>\n      <td>...</td>\n      <td>...</td>\n    </tr>\n    <tr>\n      <th>1710412</th>\n      <td>1404172716</td>\n      <td>[[-8.599248,41.149197],[-8.598645,41.148504],[...</td>\n      <td>1404172716620000359</td>\n    </tr>\n    <tr>\n      <th>1710511</th>\n      <td>1404172718</td>\n      <td>[[-8.601192,41.181741],[-8.601201,41.181741],[...</td>\n      <td>1404172718620000066</td>\n    </tr>\n    <tr>\n      <th>1710603</th>\n      <td>1404172736</td>\n      <td>[[-8.58609,41.175504],[-8.586351,41.174955],[-...</td>\n      <td>1404172736620000483</td>\n    </tr>\n    <tr>\n      <th>1710532</th>\n      <td>1404172754</td>\n      <td>[[-8.604765,41.16123],[-8.604792,41.161167]]</td>\n      <td>1404172754620000518</td>\n    </tr>\n    <tr>\n      <th>1710310</th>\n      <td>1404172796</td>\n      <td>[]</td>\n      <td>1404172796620000657</td>\n    </tr>\n  </tbody>\n</table>\n<p>1710657 rows × 3 columns</p>\n</div>"
     },
     "execution_count": 3,
     "metadata": {},
     "output_type": "execute_result"
    }
   ],
   "source": [
    "df = df_original.copy()\n",
    "\n",
    "df.drop_duplicates(inplace=True)\n",
    "\n",
    "df = df[~df.MISSING_DATA]\n",
    "\n",
    "daEscludere = [\"ORIGIN_CALL\", \"ORIGIN_STAND\", \"TRIP_ID\", \"MISSING_DATA\", \"TAXI_ID\", \"CALL_TYPE\", \"DAY_TYPE\"]\n",
    "\n",
    "df[\"tid\"] = df[\"TRIP_ID\"]\n",
    "\n",
    "df = df[[x for x in df.columns if x not in daEscludere]]\n",
    "\n",
    "df"
   ],
   "metadata": {
    "collapsed": false,
    "pycharm": {
     "name": "#%%\n"
    }
   }
  },
  {
   "cell_type": "code",
   "execution_count": 4,
   "outputs": [
    {
     "data": {
      "text/plain": "          TIMESTAMP                                           POLYLINE  \\\n577      1372636853  [[-8.610291,41.140746],[-8.6103,41.140755],[-8...   \n3        1372636854  [[-8.574678,41.151951],[-8.574705,41.151942],[...   \n0        1372636858  [[-8.618643,41.141412],[-8.618499,41.141376],[...   \n10       1372636875  [[-8.619894,41.148009],[-8.620164,41.14773],[-...   \n64       1372636896  [[-8.617599,41.146137],[-8.617581,41.14593],[-...   \n...             ...                                                ...   \n1710412  1404172716  [[-8.599248,41.149197],[-8.598645,41.148504],[...   \n1710511  1404172718  [[-8.601192,41.181741],[-8.601201,41.181741],[...   \n1710603  1404172736  [[-8.58609,41.175504],[-8.586351,41.174955],[-...   \n1710532  1404172754       [[-8.604765,41.16123],[-8.604792,41.161167]]   \n1710310  1404172796                                                 []   \n\n                         tid  \n577      1372636853620000380  \n3        1372636854620000520  \n0        1372636858620000589  \n10       1372636875620000233  \n64       1372636896620000360  \n...                      ...  \n1710412  1404172716620000359  \n1710511  1404172718620000066  \n1710603  1404172736620000483  \n1710532  1404172754620000518  \n1710310  1404172796620000657  \n\n[1710657 rows x 3 columns]",
      "text/html": "<div>\n<style scoped>\n    .dataframe tbody tr th:only-of-type {\n        vertical-align: middle;\n    }\n\n    .dataframe tbody tr th {\n        vertical-align: top;\n    }\n\n    .dataframe thead th {\n        text-align: right;\n    }\n</style>\n<table border=\"1\" class=\"dataframe\">\n  <thead>\n    <tr style=\"text-align: right;\">\n      <th></th>\n      <th>TIMESTAMP</th>\n      <th>POLYLINE</th>\n      <th>tid</th>\n    </tr>\n  </thead>\n  <tbody>\n    <tr>\n      <th>577</th>\n      <td>1372636853</td>\n      <td>[[-8.610291,41.140746],[-8.6103,41.140755],[-8...</td>\n      <td>1372636853620000380</td>\n    </tr>\n    <tr>\n      <th>3</th>\n      <td>1372636854</td>\n      <td>[[-8.574678,41.151951],[-8.574705,41.151942],[...</td>\n      <td>1372636854620000520</td>\n    </tr>\n    <tr>\n      <th>0</th>\n      <td>1372636858</td>\n      <td>[[-8.618643,41.141412],[-8.618499,41.141376],[...</td>\n      <td>1372636858620000589</td>\n    </tr>\n    <tr>\n      <th>10</th>\n      <td>1372636875</td>\n      <td>[[-8.619894,41.148009],[-8.620164,41.14773],[-...</td>\n      <td>1372636875620000233</td>\n    </tr>\n    <tr>\n      <th>64</th>\n      <td>1372636896</td>\n      <td>[[-8.617599,41.146137],[-8.617581,41.14593],[-...</td>\n      <td>1372636896620000360</td>\n    </tr>\n    <tr>\n      <th>...</th>\n      <td>...</td>\n      <td>...</td>\n      <td>...</td>\n    </tr>\n    <tr>\n      <th>1710412</th>\n      <td>1404172716</td>\n      <td>[[-8.599248,41.149197],[-8.598645,41.148504],[...</td>\n      <td>1404172716620000359</td>\n    </tr>\n    <tr>\n      <th>1710511</th>\n      <td>1404172718</td>\n      <td>[[-8.601192,41.181741],[-8.601201,41.181741],[...</td>\n      <td>1404172718620000066</td>\n    </tr>\n    <tr>\n      <th>1710603</th>\n      <td>1404172736</td>\n      <td>[[-8.58609,41.175504],[-8.586351,41.174955],[-...</td>\n      <td>1404172736620000483</td>\n    </tr>\n    <tr>\n      <th>1710532</th>\n      <td>1404172754</td>\n      <td>[[-8.604765,41.16123],[-8.604792,41.161167]]</td>\n      <td>1404172754620000518</td>\n    </tr>\n    <tr>\n      <th>1710310</th>\n      <td>1404172796</td>\n      <td>[]</td>\n      <td>1404172796620000657</td>\n    </tr>\n  </tbody>\n</table>\n<p>1710657 rows × 3 columns</p>\n</div>"
     },
     "execution_count": 4,
     "metadata": {},
     "output_type": "execute_result"
    }
   ],
   "source": [
    "#df = df[(df.TIMESTAMP >= 1372636853) & (df.TIMESTAMP <= (1372636853 +60*60*24*30*3))]\n",
    "\n",
    "df"
   ],
   "metadata": {
    "collapsed": false,
    "pycharm": {
     "name": "#%%\n"
    }
   }
  },
  {
   "cell_type": "code",
   "execution_count": 5,
   "outputs": [],
   "source": [
    "import datetime\n",
    "\n",
    "df[\"day_of_week\"] = [datetime.datetime.fromtimestamp(x).weekday() for x in df.TIMESTAMP]"
   ],
   "metadata": {
    "collapsed": false,
    "pycharm": {
     "name": "#%%\n"
    }
   }
  },
  {
   "cell_type": "code",
   "execution_count": 5,
   "outputs": [],
   "source": [],
   "metadata": {
    "collapsed": false,
    "pycharm": {
     "name": "#%%\n"
    }
   }
  },
  {
   "cell_type": "code",
   "execution_count": 6,
   "outputs": [
    {
     "name": "stderr",
     "output_type": "stream",
     "text": [
      "100%|██████████| 1710657/1710657 [01:25<00:00, 20016.57it/s]\n"
     ]
    }
   ],
   "source": [
    "from tqdm import tqdm\n",
    "\n",
    "convertedPOLYLINE =[]\n",
    "for polyline in tqdm(df.POLYLINE.values):\n",
    "    if(len(polyline) == 2): #lista vuota\n",
    "        convertedPOLYLINE.append([])\n",
    "        continue\n",
    "\n",
    "    splittedString = polyline[1:-1].split(\",\")\n",
    "    polyline_list = []\n",
    "    for i in range(0, len(splittedString), 2):\n",
    "        polyline_list.append((float(splittedString[i][1:]), float(splittedString[i+1][:-1])))\n",
    "    convertedPOLYLINE.append(polyline_list)"
   ],
   "metadata": {
    "collapsed": false,
    "pycharm": {
     "name": "#%%\n"
    }
   }
  },
  {
   "cell_type": "code",
   "execution_count": 7,
   "outputs": [],
   "source": [
    "df.POLYLINE = convertedPOLYLINE"
   ],
   "metadata": {
    "collapsed": false,
    "pycharm": {
     "name": "#%%\n"
    }
   }
  },
  {
   "cell_type": "code",
   "execution_count": 8,
   "outputs": [],
   "source": [
    "df[\"POLYLINE_LEN\"] = [len(x) for x in df.POLYLINE]"
   ],
   "metadata": {
    "collapsed": false,
    "pycharm": {
     "name": "#%%\n"
    }
   }
  },
  {
   "cell_type": "code",
   "execution_count": 9,
   "outputs": [
    {
     "data": {
      "text/plain": "          TIMESTAMP                                           POLYLINE  \\\n577      1372636853  [(-8.610291, 41.140746), (-8.6103, 41.140755),...   \n3        1372636854  [(-8.574678, 41.151951), (-8.574705, 41.151942...   \n0        1372636858  [(-8.618643, 41.141412), (-8.618499, 41.141376...   \n10       1372636875  [(-8.619894, 41.148009), (-8.620164, 41.14773)...   \n64       1372636896  [(-8.617599, 41.146137), (-8.617581, 41.14593)...   \n...             ...                                                ...   \n1710412  1404172716  [(-8.599248, 41.149197), (-8.598645, 41.148504...   \n1710511  1404172718  [(-8.601192, 41.181741), (-8.601201, 41.181741...   \n1710603  1404172736  [(-8.58609, 41.175504), (-8.586351, 41.174955)...   \n1710532  1404172754    [(-8.604765, 41.16123), (-8.604792, 41.161167)]   \n1710310  1404172796                                                 []   \n\n                         tid  day_of_week  POLYLINE_LEN  \n577      1372636853620000380            0            25  \n3        1372636854620000520            0            43  \n0        1372636858620000589            0            23  \n10       1372636875620000233            0            22  \n64       1372636896620000360            0            43  \n...                      ...          ...           ...  \n1710412  1404172716620000359            1             4  \n1710511  1404172718620000066            1             4  \n1710603  1404172736620000483            1             4  \n1710532  1404172754620000518            1             2  \n1710310  1404172796620000657            1             0  \n\n[1710657 rows x 5 columns]",
      "text/html": "<div>\n<style scoped>\n    .dataframe tbody tr th:only-of-type {\n        vertical-align: middle;\n    }\n\n    .dataframe tbody tr th {\n        vertical-align: top;\n    }\n\n    .dataframe thead th {\n        text-align: right;\n    }\n</style>\n<table border=\"1\" class=\"dataframe\">\n  <thead>\n    <tr style=\"text-align: right;\">\n      <th></th>\n      <th>TIMESTAMP</th>\n      <th>POLYLINE</th>\n      <th>tid</th>\n      <th>day_of_week</th>\n      <th>POLYLINE_LEN</th>\n    </tr>\n  </thead>\n  <tbody>\n    <tr>\n      <th>577</th>\n      <td>1372636853</td>\n      <td>[(-8.610291, 41.140746), (-8.6103, 41.140755),...</td>\n      <td>1372636853620000380</td>\n      <td>0</td>\n      <td>25</td>\n    </tr>\n    <tr>\n      <th>3</th>\n      <td>1372636854</td>\n      <td>[(-8.574678, 41.151951), (-8.574705, 41.151942...</td>\n      <td>1372636854620000520</td>\n      <td>0</td>\n      <td>43</td>\n    </tr>\n    <tr>\n      <th>0</th>\n      <td>1372636858</td>\n      <td>[(-8.618643, 41.141412), (-8.618499, 41.141376...</td>\n      <td>1372636858620000589</td>\n      <td>0</td>\n      <td>23</td>\n    </tr>\n    <tr>\n      <th>10</th>\n      <td>1372636875</td>\n      <td>[(-8.619894, 41.148009), (-8.620164, 41.14773)...</td>\n      <td>1372636875620000233</td>\n      <td>0</td>\n      <td>22</td>\n    </tr>\n    <tr>\n      <th>64</th>\n      <td>1372636896</td>\n      <td>[(-8.617599, 41.146137), (-8.617581, 41.14593)...</td>\n      <td>1372636896620000360</td>\n      <td>0</td>\n      <td>43</td>\n    </tr>\n    <tr>\n      <th>...</th>\n      <td>...</td>\n      <td>...</td>\n      <td>...</td>\n      <td>...</td>\n      <td>...</td>\n    </tr>\n    <tr>\n      <th>1710412</th>\n      <td>1404172716</td>\n      <td>[(-8.599248, 41.149197), (-8.598645, 41.148504...</td>\n      <td>1404172716620000359</td>\n      <td>1</td>\n      <td>4</td>\n    </tr>\n    <tr>\n      <th>1710511</th>\n      <td>1404172718</td>\n      <td>[(-8.601192, 41.181741), (-8.601201, 41.181741...</td>\n      <td>1404172718620000066</td>\n      <td>1</td>\n      <td>4</td>\n    </tr>\n    <tr>\n      <th>1710603</th>\n      <td>1404172736</td>\n      <td>[(-8.58609, 41.175504), (-8.586351, 41.174955)...</td>\n      <td>1404172736620000483</td>\n      <td>1</td>\n      <td>4</td>\n    </tr>\n    <tr>\n      <th>1710532</th>\n      <td>1404172754</td>\n      <td>[(-8.604765, 41.16123), (-8.604792, 41.161167)]</td>\n      <td>1404172754620000518</td>\n      <td>1</td>\n      <td>2</td>\n    </tr>\n    <tr>\n      <th>1710310</th>\n      <td>1404172796</td>\n      <td>[]</td>\n      <td>1404172796620000657</td>\n      <td>1</td>\n      <td>0</td>\n    </tr>\n  </tbody>\n</table>\n<p>1710657 rows × 5 columns</p>\n</div>"
     },
     "execution_count": 9,
     "metadata": {},
     "output_type": "execute_result"
    }
   ],
   "source": [
    "df"
   ],
   "metadata": {
    "collapsed": false,
    "pycharm": {
     "name": "#%%\n"
    }
   }
  },
  {
   "cell_type": "code",
   "execution_count": 10,
   "outputs": [
    {
     "data": {
      "text/plain": "<AxesSubplot:>"
     },
     "execution_count": 10,
     "metadata": {},
     "output_type": "execute_result"
    },
    {
     "data": {
      "text/plain": "<Figure size 432x288 with 1 Axes>",
      "image/png": "[encoded data removed]"
     },
     "metadata": {
      "needs_background": "light"
     },
     "output_type": "display_data"
    }
   ],
   "source": [
    "#i dati hanno sono raccolti ogni 15s, prendo le traiettorie lunghe almeno 5 minuti (20 punti) e al più 30 minuti\n",
    "\n",
    "df[(df.POLYLINE_LEN >= (5*60)/15) & (df.POLYLINE_LEN < (30*60)/15)].POLYLINE_LEN.hist()"
   ],
   "metadata": {
    "collapsed": false,
    "pycharm": {
     "name": "#%%\n"
    }
   }
  },
  {
   "cell_type": "code",
   "execution_count": 11,
   "outputs": [],
   "source": [
    "df = df[(df.POLYLINE_LEN >= (5*60)/15) & (df.POLYLINE_LEN < (30*60)/15)].sort_values(by=[\"tid\", \"TIMESTAMP\"])\n"
   ],
   "metadata": {
    "collapsed": false,
    "pycharm": {
     "name": "#%%\n"
    }
   }
  },
  {
   "cell_type": "code",
   "execution_count": 12,
   "outputs": [
    {
     "data": {
      "text/plain": "          TIMESTAMP                                           POLYLINE  \\\n577      1372636853  [(-8.610291, 41.140746), (-8.6103, 41.140755),...   \n3        1372636854  [(-8.574678, 41.151951), (-8.574705, 41.151942...   \n0        1372636858  [(-8.618643, 41.141412), (-8.618499, 41.141376...   \n10       1372636875  [(-8.619894, 41.148009), (-8.620164, 41.14773)...   \n64       1372636896  [(-8.617599, 41.146137), (-8.617581, 41.14593)...   \n...             ...                                                ...   \n1710358  1404172208  [(-8.591247, 41.18139), (-8.591265, 41.181381)...   \n1710480  1404172241  [(-8.617662, 41.146083), (-8.617626, 41.145984...   \n1710286  1404172319  [(-8.613918, 41.146407), (-8.613819, 41.147163...   \n1710288  1404172369  [(-8.617734, 41.146056), (-8.617572, 41.145498...   \n1710595  1404172481  [(-8.649468, 41.154309), (-8.650008, 41.154264...   \n\n                         tid  day_of_week  POLYLINE_LEN  \n577      1372636853620000380            0            25  \n3        1372636854620000520            0            43  \n0        1372636858620000589            0            23  \n10       1372636875620000233            0            22  \n64       1372636896620000360            0            43  \n...                      ...          ...           ...  \n1710358  1404172208620000196            1            38  \n1710480  1404172241620000675            1            30  \n1710286  1404172319620000571            1            30  \n1710288  1404172369620000171            1            24  \n1710595  1404172481620000603            1            20  \n\n[1459211 rows x 5 columns]",
      "text/html": "<div>\n<style scoped>\n    .dataframe tbody tr th:only-of-type {\n        vertical-align: middle;\n    }\n\n    .dataframe tbody tr th {\n        vertical-align: top;\n    }\n\n    .dataframe thead th {\n        text-align: right;\n    }\n</style>\n<table border=\"1\" class=\"dataframe\">\n  <thead>\n    <tr style=\"text-align: right;\">\n      <th></th>\n      <th>TIMESTAMP</th>\n      <th>POLYLINE</th>\n      <th>tid</th>\n      <th>day_of_week</th>\n      <th>POLYLINE_LEN</th>\n    </tr>\n  </thead>\n  <tbody>\n    <tr>\n      <th>577</th>\n      <td>1372636853</td>\n      <td>[(-8.610291, 41.140746), (-8.6103, 41.140755),...</td>\n      <td>1372636853620000380</td>\n      <td>0</td>\n      <td>25</td>\n    </tr>\n    <tr>\n      <th>3</th>\n      <td>1372636854</td>\n      <td>[(-8.574678, 41.151951), (-8.574705, 41.151942...</td>\n      <td>1372636854620000520</td>\n      <td>0</td>\n      <td>43</td>\n    </tr>\n    <tr>\n      <th>0</th>\n      <td>1372636858</td>\n      <td>[(-8.618643, 41.141412), (-8.618499, 41.141376...</td>\n      <td>1372636858620000589</td>\n      <td>0</td>\n      <td>23</td>\n    </tr>\n    <tr>\n      <th>10</th>\n      <td>1372636875</td>\n      <td>[(-8.619894, 41.148009), (-8.620164, 41.14773)...</td>\n      <td>1372636875620000233</td>\n      <td>0</td>\n      <td>22</td>\n    </tr>\n    <tr>\n      <th>64</th>\n      <td>1372636896</td>\n      <td>[(-8.617599, 41.146137), (-8.617581, 41.14593)...</td>\n      <td>1372636896620000360</td>\n      <td>0</td>\n      <td>43</td>\n    </tr>\n    <tr>\n      <th>...</th>\n      <td>...</td>\n      <td>...</td>\n      <td>...</td>\n      <td>...</td>\n      <td>...</td>\n    </tr>\n    <tr>\n      <th>1710358</th>\n      <td>1404172208</td>\n      <td>[(-8.591247, 41.18139), (-8.591265, 41.181381)...</td>\n      <td>1404172208620000196</td>\n      <td>1</td>\n      <td>38</td>\n    </tr>\n    <tr>\n      <th>1710480</th>\n      <td>1404172241</td>\n      <td>[(-8.617662, 41.146083), (-8.617626, 41.145984...</td>\n      <td>1404172241620000675</td>\n      <td>1</td>\n      <td>30</td>\n    </tr>\n    <tr>\n      <th>1710286</th>\n      <td>1404172319</td>\n      <td>[(-8.613918, 41.146407), (-8.613819, 41.147163...</td>\n      <td>1404172319620000571</td>\n      <td>1</td>\n      <td>30</td>\n    </tr>\n    <tr>\n      <th>1710288</th>\n      <td>1404172369</td>\n      <td>[(-8.617734, 41.146056), (-8.617572, 41.145498...</td>\n      <td>1404172369620000171</td>\n      <td>1</td>\n      <td>24</td>\n    </tr>\n    <tr>\n      <th>1710595</th>\n      <td>1404172481</td>\n      <td>[(-8.649468, 41.154309), (-8.650008, 41.154264...</td>\n      <td>1404172481620000603</td>\n      <td>1</td>\n      <td>20</td>\n    </tr>\n  </tbody>\n</table>\n<p>1459211 rows × 5 columns</p>\n</div>"
     },
     "execution_count": 12,
     "metadata": {},
     "output_type": "execute_result"
    }
   ],
   "source": [
    "df"
   ],
   "metadata": {
    "collapsed": false,
    "pycharm": {
     "name": "#%%\n"
    }
   }
  },
  {
   "cell_type": "code",
   "execution_count": 13,
   "outputs": [],
   "source": [
    "def espandiPolyline(df_oneRow, colToExpand):\n",
    "    row = df_oneRow.values\n",
    "    if len(row) != 1:\n",
    "        raise Exception(\"df di più di 1 riga\")\n",
    "    row = row[0]\n",
    "    df = pd.DataFrame(columns=[x for x in df_oneRow.columns if x != colToExpand] + [\"lat\", \"lon\", \"timestamp_offset\"])\n",
    "\n",
    "    t_lat_lon = [[], [], []]\n",
    "    for t_offset, (lat, lon) in enumerate(row[list(df_oneRow.columns).index(colToExpand)]):\n",
    "        t_lat_lon[0].append(t_offset)\n",
    "        t_lat_lon[1].append(lat)\n",
    "        t_lat_lon[2].append(lon)\n",
    "\n",
    "    df.timestamp_offset = t_lat_lon[0]\n",
    "    df.lat = t_lat_lon[1]\n",
    "    df.lon = t_lat_lon[2]\n",
    "\n",
    "    for i, colName in enumerate(df_oneRow):\n",
    "        if colName == colToExpand:\n",
    "            continue\n",
    "        df[colName] = row[i]\n",
    "\n",
    "    return df\n"
   ],
   "metadata": {
    "collapsed": false,
    "pycharm": {
     "name": "#%%\n"
    }
   }
  },
  {
   "cell_type": "code",
   "execution_count": 14,
   "outputs": [
    {
     "data": {
      "text/plain": "     TIMESTAMP                  tid  day_of_week  POLYLINE_LEN       lat  \\\n0   1372636853  1372636853620000380            0            25 -8.610291   \n1   1372636853  1372636853620000380            0            25 -8.610300   \n2   1372636853  1372636853620000380            0            25 -8.610309   \n3   1372636853  1372636853620000380            0            25 -8.613657   \n4   1372636853  1372636853620000380            0            25 -8.614602   \n5   1372636853  1372636853620000380            0            25 -8.614242   \n6   1372636853  1372636853620000380            0            25 -8.613630   \n7   1372636853  1372636853620000380            0            25 -8.612883   \n8   1372636853  1372636853620000380            0            25 -8.612208   \n9   1372636853  1372636853620000380            0            25 -8.611542   \n10  1372636853  1372636853620000380            0            25 -8.611227   \n11  1372636853  1372636853620000380            0            25 -8.611191   \n12  1372636853  1372636853620000380            0            25 -8.611101   \n13  1372636853  1372636853620000380            0            25 -8.610822   \n14  1372636853  1372636853620000380            0            25 -8.610516   \n15  1372636853  1372636853620000380            0            25 -8.609355   \n16  1372636853  1372636853620000380            0            25 -8.608311   \n17  1372636853  1372636853620000380            0            25 -8.607051   \n18  1372636853  1372636853620000380            0            25 -8.604792   \n19  1372636853  1372636853620000380            0            25 -8.604045   \n20  1372636853  1372636853620000380            0            25 -8.603865   \n21  1372636853  1372636853620000380            0            25 -8.604531   \n22  1372636853  1372636853620000380            0            25 -8.605593   \n23  1372636853  1372636853620000380            0            25 -8.605854   \n24  1372636853  1372636853620000380            0            25 -8.605890   \n\n          lon  timestamp_offset  \n0   41.140746                 0  \n1   41.140755                 1  \n2   41.140890                 2  \n3   41.141358                 3  \n4   41.141484                 4  \n5   41.142618                 5  \n6   41.143239                 6  \n7   41.143761                 7  \n8   41.144238                 8  \n9   41.144724                 9  \n10  41.144931                10  \n11  41.144940                11  \n12  41.145012                12  \n13  41.145552                13  \n14  41.146119                14  \n15  41.146695                15  \n16  41.147694                16  \n17  41.148468                17  \n18  41.147883                18  \n19  41.147685                19  \n20  41.146956                20  \n21  41.146182                21  \n22  41.145534                22  \n23  41.145345                23  \n24  41.145345                24  ",
      "text/html": "<div>\n<style scoped>\n    .dataframe tbody tr th:only-of-type {\n        vertical-align: middle;\n    }\n\n    .dataframe tbody tr th {\n        vertical-align: top;\n    }\n\n    .dataframe thead th {\n        text-align: right;\n    }\n</style>\n<table border=\"1\" class=\"dataframe\">\n  <thead>\n    <tr style=\"text-align: right;\">\n      <th></th>\n      <th>TIMESTAMP</th>\n      <th>tid</th>\n      <th>day_of_week</th>\n      <th>POLYLINE_LEN</th>\n      <th>lat</th>\n      <th>lon</th>\n      <th>timestamp_offset</th>\n    </tr>\n  </thead>\n  <tbody>\n    <tr>\n      <th>0</th>\n      <td>1372636853</td>\n      <td>1372636853620000380</td>\n      <td>0</td>\n      <td>25</td>\n      <td>-8.610291</td>\n      <td>41.140746</td>\n      <td>0</td>\n    </tr>\n    <tr>\n      <th>1</th>\n      <td>1372636853</td>\n      <td>1372636853620000380</td>\n      <td>0</td>\n      <td>25</td>\n      <td>-8.610300</td>\n      <td>41.140755</td>\n      <td>1</td>\n    </tr>\n    <tr>\n      <th>2</th>\n      <td>1372636853</td>\n      <td>1372636853620000380</td>\n      <td>0</td>\n      <td>25</td>\n      <td>-8.610309</td>\n      <td>41.140890</td>\n      <td>2</td>\n    </tr>\n    <tr>\n      <th>3</th>\n      <td>1372636853</td>\n      <td>1372636853620000380</td>\n      <td>0</td>\n      <td>25</td>\n      <td>-8.613657</td>\n      <td>41.141358</td>\n      <td>3</td>\n    </tr>\n    <tr>\n      <th>4</th>\n      <td>1372636853</td>\n      <td>1372636853620000380</td>\n      <td>0</td>\n      <td>25</td>\n      <td>-8.614602</td>\n      <td>41.141484</td>\n      <td>4</td>\n    </tr>\n    <tr>\n      <th>5</th>\n      <td>1372636853</td>\n      <td>1372636853620000380</td>\n      <td>0</td>\n      <td>25</td>\n      <td>-8.614242</td>\n      <td>41.142618</td>\n      <td>5</td>\n    </tr>\n    <tr>\n      <th>6</th>\n      <td>1372636853</td>\n      <td>1372636853620000380</td>\n      <td>0</td>\n      <td>25</td>\n      <td>-8.613630</td>\n      <td>41.143239</td>\n      <td>6</td>\n    </tr>\n    <tr>\n      <th>7</th>\n      <td>1372636853</td>\n      <td>1372636853620000380</td>\n      <td>0</td>\n      <td>25</td>\n      <td>-8.612883</td>\n      <td>41.143761</td>\n      <td>7</td>\n    </tr>\n    <tr>\n      <th>8</th>\n      <td>1372636853</td>\n      <td>1372636853620000380</td>\n      <td>0</td>\n      <td>25</td>\n      <td>-8.612208</td>\n      <td>41.144238</td>\n      <td>8</td>\n    </tr>\n    <tr>\n      <th>9</th>\n      <td>1372636853</td>\n      <td>1372636853620000380</td>\n      <td>0</td>\n      <td>25</td>\n      <td>-8.611542</td>\n      <td>41.144724</td>\n      <td>9</td>\n    </tr>\n    <tr>\n      <th>10</th>\n      <td>1372636853</td>\n      <td>1372636853620000380</td>\n      <td>0</td>\n      <td>25</td>\n      <td>-8.611227</td>\n      <td>41.144931</td>\n      <td>10</td>\n    </tr>\n    <tr>\n      <th>11</th>\n      <td>1372636853</td>\n      <td>1372636853620000380</td>\n      <td>0</td>\n      <td>25</td>\n      <td>-8.611191</td>\n      <td>41.144940</td>\n      <td>11</td>\n    </tr>\n    <tr>\n      <th>12</th>\n      <td>1372636853</td>\n      <td>1372636853620000380</td>\n      <td>0</td>\n      <td>25</td>\n      <td>-8.611101</td>\n      <td>41.145012</td>\n      <td>12</td>\n    </tr>\n    <tr>\n      <th>13</th>\n      <td>1372636853</td>\n      <td>1372636853620000380</td>\n      <td>0</td>\n      <td>25</td>\n      <td>-8.610822</td>\n      <td>41.145552</td>\n      <td>13</td>\n    </tr>\n    <tr>\n      <th>14</th>\n      <td>1372636853</td>\n      <td>1372636853620000380</td>\n      <td>0</td>\n      <td>25</td>\n      <td>-8.610516</td>\n      <td>41.146119</td>\n      <td>14</td>\n    </tr>\n    <tr>\n      <th>15</th>\n      <td>1372636853</td>\n      <td>1372636853620000380</td>\n      <td>0</td>\n      <td>25</td>\n      <td>-8.609355</td>\n      <td>41.146695</td>\n      <td>15</td>\n    </tr>\n    <tr>\n      <th>16</th>\n      <td>1372636853</td>\n      <td>1372636853620000380</td>\n      <td>0</td>\n      <td>25</td>\n      <td>-8.608311</td>\n      <td>41.147694</td>\n      <td>16</td>\n    </tr>\n    <tr>\n      <th>17</th>\n      <td>1372636853</td>\n      <td>1372636853620000380</td>\n      <td>0</td>\n      <td>25</td>\n      <td>-8.607051</td>\n      <td>41.148468</td>\n      <td>17</td>\n    </tr>\n    <tr>\n      <th>18</th>\n      <td>1372636853</td>\n      <td>1372636853620000380</td>\n      <td>0</td>\n      <td>25</td>\n      <td>-8.604792</td>\n      <td>41.147883</td>\n      <td>18</td>\n    </tr>\n    <tr>\n      <th>19</th>\n      <td>1372636853</td>\n      <td>1372636853620000380</td>\n      <td>0</td>\n      <td>25</td>\n      <td>-8.604045</td>\n      <td>41.147685</td>\n      <td>19</td>\n    </tr>\n    <tr>\n      <th>20</th>\n      <td>1372636853</td>\n      <td>1372636853620000380</td>\n      <td>0</td>\n      <td>25</td>\n      <td>-8.603865</td>\n      <td>41.146956</td>\n      <td>20</td>\n    </tr>\n    <tr>\n      <th>21</th>\n      <td>1372636853</td>\n      <td>1372636853620000380</td>\n      <td>0</td>\n      <td>25</td>\n      <td>-8.604531</td>\n      <td>41.146182</td>\n      <td>21</td>\n    </tr>\n    <tr>\n      <th>22</th>\n      <td>1372636853</td>\n      <td>1372636853620000380</td>\n      <td>0</td>\n      <td>25</td>\n      <td>-8.605593</td>\n      <td>41.145534</td>\n      <td>22</td>\n    </tr>\n    <tr>\n      <th>23</th>\n      <td>1372636853</td>\n      <td>1372636853620000380</td>\n      <td>0</td>\n      <td>25</td>\n      <td>-8.605854</td>\n      <td>41.145345</td>\n      <td>23</td>\n    </tr>\n    <tr>\n      <th>24</th>\n      <td>1372636853</td>\n      <td>1372636853620000380</td>\n      <td>0</td>\n      <td>25</td>\n      <td>-8.605890</td>\n      <td>41.145345</td>\n      <td>24</td>\n    </tr>\n  </tbody>\n</table>\n</div>"
     },
     "execution_count": 14,
     "metadata": {},
     "output_type": "execute_result"
    }
   ],
   "source": [
    "espandiPolyline(df[df.tid == 1372636853620000380], \"POLYLINE\")"
   ],
   "metadata": {
    "collapsed": false,
    "pycharm": {
     "name": "#%%\n"
    }
   }
  },
  {
   "cell_type": "code",
   "execution_count": 14,
   "outputs": [],
   "source": [],
   "metadata": {
    "collapsed": false,
    "pycharm": {
     "name": "#%%\n"
    }
   }
  },
  {
   "cell_type": "code",
   "execution_count": 15,
   "outputs": [
    {
     "data": {
      "text/plain": "          TIMESTAMP                                           POLYLINE  \\\n577      1372636853  [(-8.610291, 41.140746), (-8.6103, 41.140755),...   \n3        1372636854  [(-8.574678, 41.151951), (-8.574705, 41.151942...   \n0        1372636858  [(-8.618643, 41.141412), (-8.618499, 41.141376...   \n10       1372636875  [(-8.619894, 41.148009), (-8.620164, 41.14773)...   \n64       1372636896  [(-8.617599, 41.146137), (-8.617581, 41.14593)...   \n...             ...                                                ...   \n1710358  1404172208  [(-8.591247, 41.18139), (-8.591265, 41.181381)...   \n1710480  1404172241  [(-8.617662, 41.146083), (-8.617626, 41.145984...   \n1710286  1404172319  [(-8.613918, 41.146407), (-8.613819, 41.147163...   \n1710288  1404172369  [(-8.617734, 41.146056), (-8.617572, 41.145498...   \n1710595  1404172481  [(-8.649468, 41.154309), (-8.650008, 41.154264...   \n\n                         tid  day_of_week  POLYLINE_LEN  \n577      1372636853620000380            0            25  \n3        1372636854620000520            0            43  \n0        1372636858620000589            0            23  \n10       1372636875620000233            0            22  \n64       1372636896620000360            0            43  \n...                      ...          ...           ...  \n1710358  1404172208620000196            1            38  \n1710480  1404172241620000675            1            30  \n1710286  1404172319620000571            1            30  \n1710288  1404172369620000171            1            24  \n1710595  1404172481620000603            1            20  \n\n[1459211 rows x 5 columns]",
      "text/html": "<div>\n<style scoped>\n    .dataframe tbody tr th:only-of-type {\n        vertical-align: middle;\n    }\n\n    .dataframe tbody tr th {\n        vertical-align: top;\n    }\n\n    .dataframe thead th {\n        text-align: right;\n    }\n</style>\n<table border=\"1\" class=\"dataframe\">\n  <thead>\n    <tr style=\"text-align: right;\">\n      <th></th>\n      <th>TIMESTAMP</th>\n      <th>POLYLINE</th>\n      <th>tid</th>\n      <th>day_of_week</th>\n      <th>POLYLINE_LEN</th>\n    </tr>\n  </thead>\n  <tbody>\n    <tr>\n      <th>577</th>\n      <td>1372636853</td>\n      <td>[(-8.610291, 41.140746), (-8.6103, 41.140755),...</td>\n      <td>1372636853620000380</td>\n      <td>0</td>\n      <td>25</td>\n    </tr>\n    <tr>\n      <th>3</th>\n      <td>1372636854</td>\n      <td>[(-8.574678, 41.151951), (-8.574705, 41.151942...</td>\n      <td>1372636854620000520</td>\n      <td>0</td>\n      <td>43</td>\n    </tr>\n    <tr>\n      <th>0</th>\n      <td>1372636858</td>\n      <td>[(-8.618643, 41.141412), (-8.618499, 41.141376...</td>\n      <td>1372636858620000589</td>\n      <td>0</td>\n      <td>23</td>\n    </tr>\n    <tr>\n      <th>10</th>\n      <td>1372636875</td>\n      <td>[(-8.619894, 41.148009), (-8.620164, 41.14773)...</td>\n      <td>1372636875620000233</td>\n      <td>0</td>\n      <td>22</td>\n    </tr>\n    <tr>\n      <th>64</th>\n      <td>1372636896</td>\n      <td>[(-8.617599, 41.146137), (-8.617581, 41.14593)...</td>\n      <td>1372636896620000360</td>\n      <td>0</td>\n      <td>43</td>\n    </tr>\n    <tr>\n      <th>...</th>\n      <td>...</td>\n      <td>...</td>\n      <td>...</td>\n      <td>...</td>\n      <td>...</td>\n    </tr>\n    <tr>\n      <th>1710358</th>\n      <td>1404172208</td>\n      <td>[(-8.591247, 41.18139), (-8.591265, 41.181381)...</td>\n      <td>1404172208620000196</td>\n      <td>1</td>\n      <td>38</td>\n    </tr>\n    <tr>\n      <th>1710480</th>\n      <td>1404172241</td>\n      <td>[(-8.617662, 41.146083), (-8.617626, 41.145984...</td>\n      <td>1404172241620000675</td>\n      <td>1</td>\n      <td>30</td>\n    </tr>\n    <tr>\n      <th>1710286</th>\n      <td>1404172319</td>\n      <td>[(-8.613918, 41.146407), (-8.613819, 41.147163...</td>\n      <td>1404172319620000571</td>\n      <td>1</td>\n      <td>30</td>\n    </tr>\n    <tr>\n      <th>1710288</th>\n      <td>1404172369</td>\n      <td>[(-8.617734, 41.146056), (-8.617572, 41.145498...</td>\n      <td>1404172369620000171</td>\n      <td>1</td>\n      <td>24</td>\n    </tr>\n    <tr>\n      <th>1710595</th>\n      <td>1404172481</td>\n      <td>[(-8.649468, 41.154309), (-8.650008, 41.154264...</td>\n      <td>1404172481620000603</td>\n      <td>1</td>\n      <td>20</td>\n    </tr>\n  </tbody>\n</table>\n<p>1459211 rows × 5 columns</p>\n</div>"
     },
     "execution_count": 15,
     "metadata": {},
     "output_type": "execute_result"
    }
   ],
   "source": [
    "df"
   ],
   "metadata": {
    "collapsed": false,
    "pycharm": {
     "name": "#%%\n"
    }
   }
  },
  {
   "cell_type": "code",
   "execution_count": 16,
   "outputs": [
    {
     "name": "stderr",
     "output_type": "stream",
     "text": [
      "100%|██████████| 1459211/1459211 [06:56<00:00, 3501.92it/s]\n",
      "100%|██████████| 1459211/1459211 [55:28<00:00, 438.40it/s]   \n"
     ]
    }
   ],
   "source": [
    "executor = ThreadPoolExecutor(max_workers=1000)\n",
    "\n",
    "threads = []\n",
    "for df_tid in tqdm([pd.DataFrame(df.iloc[i]).T for i in tqdm(range(len(df)))]):\n",
    "    threads.append(executor.submit(espandiPolyline, df_tid, \"POLYLINE\"))\n",
    "\n",
    "df_normalizzati = [x.result() for x in threads]"
   ],
   "metadata": {
    "collapsed": false,
    "pycharm": {
     "name": "#%%\n"
    }
   }
  },
  {
   "cell_type": "code",
   "execution_count": 17,
   "outputs": [],
   "source": [
    "df = pd.concat(df_normalizzati)"
   ],
   "metadata": {
    "collapsed": false,
    "pycharm": {
     "name": "#%%\n"
    }
   }
  },
  {
   "cell_type": "code",
   "execution_count": 18,
   "outputs": [
    {
     "data": {
      "text/plain": "     TIMESTAMP                  tid  day_of_week  POLYLINE_LEN       lat  \\\n0   1372636853  1372636853620000380            0            25 -8.610291   \n1   1372636868  1372636853620000380            0            25 -8.610300   \n2   1372636883  1372636853620000380            0            25 -8.610309   \n3   1372636898  1372636853620000380            0            25 -8.613657   \n4   1372636913  1372636853620000380            0            25 -8.614602   \n..         ...                  ...          ...           ...       ...   \n15  1404172706  1404172481620000603            1            20 -8.654004   \n16  1404172721  1404172481620000603            1            20 -8.655309   \n17  1404172736  1404172481620000603            1            20 -8.657478   \n18  1404172751  1404172481620000603            1            20 -8.659980   \n19  1404172766  1404172481620000603            1            20 -8.661528   \n\n          lon  timestamp_offset  \n0   41.140746                 0  \n1   41.140755                 1  \n2   41.140890                 2  \n3   41.141358                 3  \n4   41.141484                 4  \n..        ...               ...  \n15  41.148774                15  \n16  41.148045                16  \n17  41.146938                17  \n18  41.147037                18  \n19  41.147550                19  \n\n[69993803 rows x 7 columns]",
      "text/html": "<div>\n<style scoped>\n    .dataframe tbody tr th:only-of-type {\n        vertical-align: middle;\n    }\n\n    .dataframe tbody tr th {\n        vertical-align: top;\n    }\n\n    .dataframe thead th {\n        text-align: right;\n    }\n</style>\n<table border=\"1\" class=\"dataframe\">\n  <thead>\n    <tr style=\"text-align: right;\">\n      <th></th>\n      <th>TIMESTAMP</th>\n      <th>tid</th>\n      <th>day_of_week</th>\n      <th>POLYLINE_LEN</th>\n      <th>lat</th>\n      <th>lon</th>\n      <th>timestamp_offset</th>\n    </tr>\n  </thead>\n  <tbody>\n    <tr>\n      <th>0</th>\n      <td>1372636853</td>\n      <td>1372636853620000380</td>\n      <td>0</td>\n      <td>25</td>\n      <td>-8.610291</td>\n      <td>41.140746</td>\n      <td>0</td>\n    </tr>\n    <tr>\n      <th>1</th>\n      <td>1372636868</td>\n      <td>1372636853620000380</td>\n      <td>0</td>\n      <td>25</td>\n      <td>-8.610300</td>\n      <td>41.140755</td>\n      <td>1</td>\n    </tr>\n    <tr>\n      <th>2</th>\n      <td>1372636883</td>\n      <td>1372636853620000380</td>\n      <td>0</td>\n      <td>25</td>\n      <td>-8.610309</td>\n      <td>41.140890</td>\n      <td>2</td>\n    </tr>\n    <tr>\n      <th>3</th>\n      <td>1372636898</td>\n      <td>1372636853620000380</td>\n      <td>0</td>\n      <td>25</td>\n      <td>-8.613657</td>\n      <td>41.141358</td>\n      <td>3</td>\n    </tr>\n    <tr>\n      <th>4</th>\n      <td>1372636913</td>\n      <td>1372636853620000380</td>\n      <td>0</td>\n      <td>25</td>\n      <td>-8.614602</td>\n      <td>41.141484</td>\n      <td>4</td>\n    </tr>\n    <tr>\n      <th>...</th>\n      <td>...</td>\n      <td>...</td>\n      <td>...</td>\n      <td>...</td>\n      <td>...</td>\n      <td>...</td>\n      <td>...</td>\n    </tr>\n    <tr>\n      <th>15</th>\n      <td>1404172706</td>\n      <td>1404172481620000603</td>\n      <td>1</td>\n      <td>20</td>\n      <td>-8.654004</td>\n      <td>41.148774</td>\n      <td>15</td>\n    </tr>\n    <tr>\n      <th>16</th>\n      <td>1404172721</td>\n      <td>1404172481620000603</td>\n      <td>1</td>\n      <td>20</td>\n      <td>-8.655309</td>\n      <td>41.148045</td>\n      <td>16</td>\n    </tr>\n    <tr>\n      <th>17</th>\n      <td>1404172736</td>\n      <td>1404172481620000603</td>\n      <td>1</td>\n      <td>20</td>\n      <td>-8.657478</td>\n      <td>41.146938</td>\n      <td>17</td>\n    </tr>\n    <tr>\n      <th>18</th>\n      <td>1404172751</td>\n      <td>1404172481620000603</td>\n      <td>1</td>\n      <td>20</td>\n      <td>-8.659980</td>\n      <td>41.147037</td>\n      <td>18</td>\n    </tr>\n    <tr>\n      <th>19</th>\n      <td>1404172766</td>\n      <td>1404172481620000603</td>\n      <td>1</td>\n      <td>20</td>\n      <td>-8.661528</td>\n      <td>41.147550</td>\n      <td>19</td>\n    </tr>\n  </tbody>\n</table>\n<p>69993803 rows × 7 columns</p>\n</div>"
     },
     "execution_count": 18,
     "metadata": {},
     "output_type": "execute_result"
    }
   ],
   "source": [
    "df.TIMESTAMP = df.TIMESTAMP + df.timestamp_offset*15\n",
    "\n",
    "df"
   ],
   "metadata": {
    "collapsed": false,
    "pycharm": {
     "name": "#%%\n"
    }
   }
  },
  {
   "cell_type": "code",
   "execution_count": 19,
   "outputs": [],
   "source": [
    "df = df[[x for x in df.columns if x != \"timestamp_offset\"]]"
   ],
   "metadata": {
    "collapsed": false,
    "pycharm": {
     "name": "#%%\n"
    }
   }
  },
  {
   "cell_type": "code",
   "execution_count": 20,
   "outputs": [
    {
     "data": {
      "text/plain": "     TIMESTAMP                  tid  day_of_week  POLYLINE_LEN       lat  \\\n0   1372636853  1372636853620000380            0            25 -8.610291   \n1   1372636868  1372636853620000380            0            25 -8.610300   \n2   1372636883  1372636853620000380            0            25 -8.610309   \n3   1372636898  1372636853620000380            0            25 -8.613657   \n4   1372636913  1372636853620000380            0            25 -8.614602   \n..         ...                  ...          ...           ...       ...   \n15  1404172706  1404172481620000603            1            20 -8.654004   \n16  1404172721  1404172481620000603            1            20 -8.655309   \n17  1404172736  1404172481620000603            1            20 -8.657478   \n18  1404172751  1404172481620000603            1            20 -8.659980   \n19  1404172766  1404172481620000603            1            20 -8.661528   \n\n          lon  \n0   41.140746  \n1   41.140755  \n2   41.140890  \n3   41.141358  \n4   41.141484  \n..        ...  \n15  41.148774  \n16  41.148045  \n17  41.146938  \n18  41.147037  \n19  41.147550  \n\n[69993803 rows x 6 columns]",
      "text/html": "<div>\n<style scoped>\n    .dataframe tbody tr th:only-of-type {\n        vertical-align: middle;\n    }\n\n    .dataframe tbody tr th {\n        vertical-align: top;\n    }\n\n    .dataframe thead th {\n        text-align: right;\n    }\n</style>\n<table border=\"1\" class=\"dataframe\">\n  <thead>\n    <tr style=\"text-align: right;\">\n      <th></th>\n      <th>TIMESTAMP</th>\n      <th>tid</th>\n      <th>day_of_week</th>\n      <th>POLYLINE_LEN</th>\n      <th>lat</th>\n      <th>lon</th>\n    </tr>\n  </thead>\n  <tbody>\n    <tr>\n      <th>0</th>\n      <td>1372636853</td>\n      <td>1372636853620000380</td>\n      <td>0</td>\n      <td>25</td>\n      <td>-8.610291</td>\n      <td>41.140746</td>\n    </tr>\n    <tr>\n      <th>1</th>\n      <td>1372636868</td>\n      <td>1372636853620000380</td>\n      <td>0</td>\n      <td>25</td>\n      <td>-8.610300</td>\n      <td>41.140755</td>\n    </tr>\n    <tr>\n      <th>2</th>\n      <td>1372636883</td>\n      <td>1372636853620000380</td>\n      <td>0</td>\n      <td>25</td>\n      <td>-8.610309</td>\n      <td>41.140890</td>\n    </tr>\n    <tr>\n      <th>3</th>\n      <td>1372636898</td>\n      <td>1372636853620000380</td>\n      <td>0</td>\n      <td>25</td>\n      <td>-8.613657</td>\n      <td>41.141358</td>\n    </tr>\n    <tr>\n      <th>4</th>\n      <td>1372636913</td>\n      <td>1372636853620000380</td>\n      <td>0</td>\n      <td>25</td>\n      <td>-8.614602</td>\n      <td>41.141484</td>\n    </tr>\n    <tr>\n      <th>...</th>\n      <td>...</td>\n      <td>...</td>\n      <td>...</td>\n      <td>...</td>\n      <td>...</td>\n      <td>...</td>\n    </tr>\n    <tr>\n      <th>15</th>\n      <td>1404172706</td>\n      <td>1404172481620000603</td>\n      <td>1</td>\n      <td>20</td>\n      <td>-8.654004</td>\n      <td>41.148774</td>\n    </tr>\n    <tr>\n      <th>16</th>\n      <td>1404172721</td>\n      <td>1404172481620000603</td>\n      <td>1</td>\n      <td>20</td>\n      <td>-8.655309</td>\n      <td>41.148045</td>\n    </tr>\n    <tr>\n      <th>17</th>\n      <td>1404172736</td>\n      <td>1404172481620000603</td>\n      <td>1</td>\n      <td>20</td>\n      <td>-8.657478</td>\n      <td>41.146938</td>\n    </tr>\n    <tr>\n      <th>18</th>\n      <td>1404172751</td>\n      <td>1404172481620000603</td>\n      <td>1</td>\n      <td>20</td>\n      <td>-8.659980</td>\n      <td>41.147037</td>\n    </tr>\n    <tr>\n      <th>19</th>\n      <td>1404172766</td>\n      <td>1404172481620000603</td>\n      <td>1</td>\n      <td>20</td>\n      <td>-8.661528</td>\n      <td>41.147550</td>\n    </tr>\n  </tbody>\n</table>\n<p>69993803 rows × 6 columns</p>\n</div>"
     },
     "execution_count": 20,
     "metadata": {},
     "output_type": "execute_result"
    }
   ],
   "source": [
    "df"
   ],
   "metadata": {
    "collapsed": false,
    "pycharm": {
     "name": "#%%\n"
    }
   }
  },
  {
   "cell_type": "code",
   "execution_count": 21,
   "outputs": [],
   "source": [
    "df.to_csv(\"train_denorm_tutto.zip\", index=None)"
   ],
   "metadata": {
    "collapsed": false,
    "pycharm": {
     "name": "#%%\n"
    }
   }
  },
  {
   "cell_type": "code",
   "execution_count": 21,
   "outputs": [],
   "source": [],
   "metadata": {
    "collapsed": false,
    "pycharm": {
     "name": "#%%\n"
    }
   }
  }
 ],
 "metadata": {
  "kernelspec": {
   "display_name": "Python 3",
   "language": "python",
   "name": "python3"
  },
  "language_info": {
   "codemirror_mode": {
    "name": "ipython",
    "version": 2
   },
   "file_extension": ".py",
   "mimetype": "text/x-python",
   "name": "python",
   "nbconvert_exporter": "python",
   "pygments_lexer": "ipython2",
   "version": "2.7.6"
  }
 },
 "nbformat": 4,
 "nbformat_minor": 0
}