{
 "cells": [
  {
   "cell_type": "markdown",
   "metadata": {
    "collapsed": true,
    "pycharm": {
     "name": "#%% md\n"
    }
   },
   "source": [
    "# Metodo guidotti\n",
    "L'idea è quella di trasformare ogni traiettoria in una sequenza di simboli, estrarre i motif e usarli per classificare"
   ]
  },
  {
   "cell_type": "code",
   "execution_count": 61,
   "metadata": {
    "pycharm": {
     "name": "#%%\n"
    }
   },
   "outputs": [
    {
     "data": {
      "text/html": [
       "<div>\n",
       "<style scoped>\n",
       "    .dataframe tbody tr th:only-of-type {\n",
       "        vertical-align: middle;\n",
       "    }\n",
       "\n",
       "    .dataframe tbody tr th {\n",
       "        vertical-align: top;\n",
       "    }\n",
       "\n",
       "    .dataframe thead th {\n",
       "        text-align: right;\n",
       "    }\n",
       "</style>\n",
       "<table border=\"1\" class=\"dataframe\">\n",
       "  <thead>\n",
       "    <tr style=\"text-align: right;\">\n",
       "      <th></th>\n",
       "      <th>tid</th>\n",
       "      <th>class</th>\n",
       "      <th>t</th>\n",
       "      <th>c1</th>\n",
       "      <th>c2</th>\n",
       "    </tr>\n",
       "  </thead>\n",
       "  <tbody>\n",
       "    <tr>\n",
       "      <th>0</th>\n",
       "      <td>0</td>\n",
       "      <td>B</td>\n",
       "      <td>0</td>\n",
       "      <td>42.077160</td>\n",
       "      <td>4.738411</td>\n",
       "    </tr>\n",
       "    <tr>\n",
       "      <th>1</th>\n",
       "      <td>0</td>\n",
       "      <td>B</td>\n",
       "      <td>30</td>\n",
       "      <td>42.077246</td>\n",
       "      <td>4.739088</td>\n",
       "    </tr>\n",
       "    <tr>\n",
       "      <th>2</th>\n",
       "      <td>0</td>\n",
       "      <td>B</td>\n",
       "      <td>60</td>\n",
       "      <td>42.077259</td>\n",
       "      <td>4.739096</td>\n",
       "    </tr>\n",
       "    <tr>\n",
       "      <th>3</th>\n",
       "      <td>0</td>\n",
       "      <td>B</td>\n",
       "      <td>90</td>\n",
       "      <td>42.077369</td>\n",
       "      <td>4.739158</td>\n",
       "    </tr>\n",
       "    <tr>\n",
       "      <th>4</th>\n",
       "      <td>0</td>\n",
       "      <td>B</td>\n",
       "      <td>120</td>\n",
       "      <td>42.077635</td>\n",
       "      <td>4.739343</td>\n",
       "    </tr>\n",
       "  </tbody>\n",
       "</table>\n",
       "</div>"
      ],
      "text/plain": [
       "   tid class    t         c1        c2\n",
       "0    0     B    0  42.077160  4.738411\n",
       "1    0     B   30  42.077246  4.739088\n",
       "2    0     B   60  42.077259  4.739096\n",
       "3    0     B   90  42.077369  4.739158\n",
       "4    0     B  120  42.077635  4.739343"
      ]
     },
     "execution_count": 61,
     "metadata": {},
     "output_type": "execute_result"
    }
   ],
   "source": [
    "import time\n",
    "from concurrent.futures import ThreadPoolExecutor\n",
    "import matplotlib.pyplot as plt\n",
    "import numpy as np\n",
    "import pandas as pd\n",
    "from tqdm.notebook import tqdm\n",
    "import math\n",
    "from datetime import timedelta, datetime\n",
    "import plotly.express as px\n",
    "from geolib import geohash\n",
    "from sklearn.model_selection import train_test_split\n",
    "from sklearn_extra.cluster import KMedoids\n",
    "\n",
    "\n",
    "executor = ThreadPoolExecutor(max_workers=12)\n",
    "\n",
    "df = pd.read_csv(\"vehicles_preapred.zip\").sort_values(by=[\"tid\", 't'])\n",
    "\n",
    "df.tid -= df.tid.min()\n",
    "\n",
    "df.c1 = df.c1/100000\n",
    "df.c2 = df.c2/100000\n",
    "\n",
    "def report(results, n_top=3):\n",
    "    for i in range(1, n_top + 1):\n",
    "        candidates = np.flatnonzero(results['rank_test_score'] == i)\n",
    "        for candidate in candidates:\n",
    "            print(\"Model with rank: {0}\".format(i))\n",
    "            print(\"Mean validation score: {0:.3f} (std: {1:.3f})\".format(\n",
    "                results['mean_test_score'][candidate],\n",
    "                results['std_test_score'][candidate]))\n",
    "            print(\"Parameters: {0}\".format(results['params'][candidate]))\n",
    "            print(\"\")\n",
    "\n",
    "df.head()"
   ]
  },
  {
   "cell_type": "code",
   "execution_count": 62,
   "metadata": {
    "pycharm": {
     "name": "#%%\n"
    }
   },
   "outputs": [],
   "source": [
    "t = 0"
   ]
  },
  {
   "cell_type": "code",
   "execution_count": 63,
   "metadata": {
    "pycharm": {
     "name": "#%%\n"
    }
   },
   "outputs": [
    {
     "data": {
      "application/vnd.jupyter.widget-view+json": {
       "model_id": "db00c7ffda9e411aba3382e23e7ab47e",
       "version_major": 2,
       "version_minor": 0
      },
      "text/plain": [
       "  0%|          | 0/178299 [00:00<?, ?it/s]"
      ]
     },
     "metadata": {},
     "output_type": "display_data"
    },
    {
     "name": "stdout",
     "output_type": "stream",
     "text": [
      "Wall time: 6.37 s\n"
     ]
    }
   ],
   "source": [
    "%%time\n",
    "\n",
    "start = datetime.now()\n",
    "\n",
    "precision =  6 #da 1 a 12\n",
    "\n",
    "df[\"geohash\"] = [geohash.encode(x[0], x[1], precision) for x in tqdm(df[[\"c1\", \"c2\"]].values)]\n",
    "\n",
    "t += (datetime.now()-start).total_seconds()*1000"
   ]
  },
  {
   "cell_type": "code",
   "execution_count": 64,
   "metadata": {},
   "outputs": [
    {
     "data": {
      "text/plain": [
       "6367.136"
      ]
     },
     "execution_count": 64,
     "metadata": {},
     "output_type": "execute_result"
    }
   ],
   "source": [
    "t"
   ]
  },
  {
   "cell_type": "code",
   "execution_count": 65,
   "metadata": {
    "pycharm": {
     "name": "#%%\n"
    }
   },
   "outputs": [
    {
     "data": {
      "application/vnd.jupyter.widget-view+json": {
       "model_id": "de7ea987312943f0ac33704189c26f1f",
       "version_major": 2,
       "version_minor": 0
      },
      "text/plain": [
       "  0%|          | 0/1424 [00:00<?, ?it/s]"
      ]
     },
     "metadata": {},
     "output_type": "display_data"
    },
    {
     "name": "stdout",
     "output_type": "stream",
     "text": [
      "Wall time: 1.03 s\n"
     ]
    }
   ],
   "source": [
    "%%time\n",
    "\n",
    "start = datetime.now()\n",
    "\n",
    "decodes = dict()\n",
    "\n",
    "for gh in tqdm(df.geohash.unique()):\n",
    "    decodes[gh] = geohash.bounds(gh)\n",
    "\n",
    "l = []\n",
    "prec = \"!\"\n",
    "c = -1\n",
    "for gh in df.geohash:\n",
    "    if gh != prec:\n",
    "        prec = gh\n",
    "        c += 1\n",
    "    l.append(gh+\"_\"+str(c))\n",
    "\n",
    "df[\"geohash2\"] = l\n",
    "\n",
    "df[\"lat_norm\"] = df.c1 - df.geohash.transform(lambda x: decodes[x].sw.lat)\n",
    "df[\"lon_norm\"] = df.c2 - df.geohash.transform(lambda x: decodes[x].sw.lon)\n",
    "\n",
    "t += (datetime.now()-start).total_seconds()*1000"
   ]
  },
  {
   "cell_type": "code",
   "execution_count": 66,
   "metadata": {
    "pycharm": {
     "name": "#%%\n"
    }
   },
   "outputs": [
    {
     "data": {
      "application/vnd.plotly.v1+json": {
       "config": {
        "plotlyServerURL": "https://plot.ly"
       },
       "data": [
        {
         "hovertemplate": "geohash2=spe2nd_30<br>t=%{x}<br>c1=%{y}<br>c2=%{z}<extra></extra>",
         "legendgroup": "spe2nd_30",
         "line": {
          "color": "#636efa",
          "dash": "solid"
         },
         "marker": {
          "symbol": "circle"
         },
         "mode": "lines",
         "name": "spe2nd_30",
         "scene": "scene",
         "showlegend": true,
         "type": "scatter3d",
         "x": [
          0,
          30,
          960,
          990,
          1020,
          1050,
          1080,
          1230,
          1260
         ],
         "y": [
          42.203306,
          42.20334,
          42.203250999999995,
          42.202417000000004,
          42.201964000000004,
          42.202035,
          42.202000999999996,
          42.201668,
          42.198652
         ],
         "z": [
          4.860508,
          4.860333,
          4.860684,
          4.860875,
          4.860453,
          4.858893,
          4.858760999999999,
          4.858025,
          4.8568359999999995
         ]
        },
        {
         "hovertemplate": "geohash2=spe2n3_31<br>t=%{x}<br>c1=%{y}<br>c2=%{z}<extra></extra>",
         "legendgroup": "spe2n3_31",
         "line": {
          "color": "#EF553B",
          "dash": "solid"
         },
         "marker": {
          "symbol": "circle"
         },
         "mode": "lines",
         "name": "spe2n3_31",
         "scene": "scene",
         "showlegend": true,
         "type": "scatter3d",
         "x": [
          1290
         ],
         "y": [
          42.194761
         ],
         "z": [
          4.855383
         ]
        },
        {
         "hovertemplate": "geohash2=spe2n2_32<br>t=%{x}<br>c1=%{y}<br>c2=%{z}<extra></extra>",
         "legendgroup": "spe2n2_32",
         "line": {
          "color": "#00cc96",
          "dash": "solid"
         },
         "marker": {
          "symbol": "circle"
         },
         "mode": "lines",
         "name": "spe2n2_32",
         "scene": "scene",
         "showlegend": true,
         "type": "scatter3d",
         "x": [
          1320
         ],
         "y": [
          42.190617
         ],
         "z": [
          4.852992
         ]
        },
        {
         "hovertemplate": "geohash2=sp7ryr_33<br>t=%{x}<br>c1=%{y}<br>c2=%{z}<extra></extra>",
         "legendgroup": "sp7ryr_33",
         "line": {
          "color": "#ab63fa",
          "dash": "solid"
         },
         "marker": {
          "symbol": "circle"
         },
         "mode": "lines",
         "name": "sp7ryr_33",
         "scene": "scene",
         "showlegend": true,
         "type": "scatter3d",
         "x": [
          1350,
          1380,
          1410
         ],
         "y": [
          42.187205999999996,
          42.184959000000006,
          42.182123
         ],
         "z": [
          4.850224,
          4.847968,
          4.84563
         ]
        },
        {
         "hovertemplate": "geohash2=sp7ryn_34<br>t=%{x}<br>c1=%{y}<br>c2=%{z}<extra></extra>",
         "legendgroup": "sp7ryn_34",
         "line": {
          "color": "#FFA15A",
          "dash": "solid"
         },
         "marker": {
          "symbol": "circle"
         },
         "mode": "lines",
         "name": "sp7ryn_34",
         "scene": "scene",
         "showlegend": true,
         "type": "scatter3d",
         "x": [
          1440
         ],
         "y": [
          42.18012
         ],
         "z": [
          4.843785
         ]
        },
        {
         "hovertemplate": "geohash2=sp7ryj_35<br>t=%{x}<br>c1=%{y}<br>c2=%{z}<extra></extra>",
         "legendgroup": "sp7ryj_35",
         "line": {
          "color": "#19d3f3",
          "dash": "solid"
         },
         "marker": {
          "symbol": "circle"
         },
         "mode": "lines",
         "name": "sp7ryj_35",
         "scene": "scene",
         "showlegend": true,
         "type": "scatter3d",
         "x": [
          1470,
          1500,
          1530,
          1560
         ],
         "y": [
          42.176131,
          42.172531,
          42.172255,
          42.171433
         ],
         "z": [
          4.840726,
          4.837388,
          4.835871,
          4.8360970000000005
         ]
        },
        {
         "hovertemplate": "geohash2=sp7ryh_36<br>t=%{x}<br>c1=%{y}<br>c2=%{z}<extra></extra>",
         "legendgroup": "sp7ryh_36",
         "line": {
          "color": "#FF6692",
          "dash": "solid"
         },
         "marker": {
          "symbol": "circle"
         },
         "mode": "lines",
         "name": "sp7ryh_36",
         "scene": "scene",
         "showlegend": true,
         "type": "scatter3d",
         "x": [
          1590
         ],
         "y": [
          42.170657
         ],
         "z": [
          4.834938
         ]
        },
        {
         "hovertemplate": "geohash2=sp7rvu_37<br>t=%{x}<br>c1=%{y}<br>c2=%{z}<extra></extra>",
         "legendgroup": "sp7rvu_37",
         "line": {
          "color": "#B6E880",
          "dash": "solid"
         },
         "marker": {
          "symbol": "circle"
         },
         "mode": "lines",
         "name": "sp7rvu_37",
         "scene": "scene",
         "showlegend": true,
         "type": "scatter3d",
         "x": [
          1620,
          1650
         ],
         "y": [
          42.168413,
          42.165905
         ],
         "z": [
          4.8307590000000005,
          4.825774
         ]
        },
        {
         "hovertemplate": "geohash2=sp7rve_38<br>t=%{x}<br>c1=%{y}<br>c2=%{z}<extra></extra>",
         "legendgroup": "sp7rve_38",
         "line": {
          "color": "#FF97FF",
          "dash": "solid"
         },
         "marker": {
          "symbol": "circle"
         },
         "mode": "lines",
         "name": "sp7rve_38",
         "scene": "scene",
         "showlegend": true,
         "type": "scatter3d",
         "x": [
          1680
         ],
         "y": [
          42.163295999999995
         ],
         "z": [
          4.820585
         ]
        },
        {
         "hovertemplate": "geohash2=sp7rvd_39<br>t=%{x}<br>c1=%{y}<br>c2=%{z}<extra></extra>",
         "legendgroup": "sp7rvd_39",
         "line": {
          "color": "#FECB52",
          "dash": "solid"
         },
         "marker": {
          "symbol": "circle"
         },
         "mode": "lines",
         "name": "sp7rvd_39",
         "scene": "scene",
         "showlegend": true,
         "type": "scatter3d",
         "x": [
          1710,
          1740
         ],
         "y": [
          42.159365,
          42.155662
         ],
         "z": [
          4.816667,
          4.814457
         ]
        },
        {
         "hovertemplate": "geohash2=sp7rv3_40<br>t=%{x}<br>c1=%{y}<br>c2=%{z}<extra></extra>",
         "legendgroup": "sp7rv3_40",
         "line": {
          "color": "#636efa",
          "dash": "solid"
         },
         "marker": {
          "symbol": "circle"
         },
         "mode": "lines",
         "name": "sp7rv3_40",
         "scene": "scene",
         "showlegend": true,
         "type": "scatter3d",
         "x": [
          1770
         ],
         "y": [
          42.151008
         ],
         "z": [
          4.811553
         ]
        },
        {
         "hovertemplate": "geohash2=sp7rv2_41<br>t=%{x}<br>c1=%{y}<br>c2=%{z}<extra></extra>",
         "legendgroup": "sp7rv2_41",
         "line": {
          "color": "#EF553B",
          "dash": "solid"
         },
         "marker": {
          "symbol": "circle"
         },
         "mode": "lines",
         "name": "sp7rv2_41",
         "scene": "scene",
         "showlegend": true,
         "type": "scatter3d",
         "x": [
          1800
         ],
         "y": [
          42.145843
         ],
         "z": [
          4.808393
         ]
        },
        {
         "hovertemplate": "geohash2=sp7rtr_42<br>t=%{x}<br>c1=%{y}<br>c2=%{z}<extra></extra>",
         "legendgroup": "sp7rtr_42",
         "line": {
          "color": "#00cc96",
          "dash": "solid"
         },
         "marker": {
          "symbol": "circle"
         },
         "mode": "lines",
         "name": "sp7rtr_42",
         "scene": "scene",
         "showlegend": true,
         "type": "scatter3d",
         "x": [
          1830
         ],
         "y": [
          42.141000999999996
         ],
         "z": [
          4.804785
         ]
        },
        {
         "hovertemplate": "geohash2=sp7rtn_43<br>t=%{x}<br>c1=%{y}<br>c2=%{z}<extra></extra>",
         "legendgroup": "sp7rtn_43",
         "line": {
          "color": "#ab63fa",
          "dash": "solid"
         },
         "marker": {
          "symbol": "circle"
         },
         "mode": "lines",
         "name": "sp7rtn_43",
         "scene": "scene",
         "showlegend": true,
         "type": "scatter3d",
         "x": [
          1860,
          1890
         ],
         "y": [
          42.137831,
          42.135180999999996
         ],
         "z": [
          4.799725,
          4.794499
         ]
        },
        {
         "hovertemplate": "geohash2=sp7rsv_44<br>t=%{x}<br>c1=%{y}<br>c2=%{z}<extra></extra>",
         "legendgroup": "sp7rsv_44",
         "line": {
          "color": "#FFA15A",
          "dash": "solid"
         },
         "marker": {
          "symbol": "circle"
         },
         "mode": "lines",
         "name": "sp7rsv_44",
         "scene": "scene",
         "showlegend": true,
         "type": "scatter3d",
         "x": [
          1920,
          1950
         ],
         "y": [
          42.132422999999996,
          42.12961
         ],
         "z": [
          4.789063,
          4.783608
         ]
        },
        {
         "hovertemplate": "geohash2=sp7rsu_45<br>t=%{x}<br>c1=%{y}<br>c2=%{z}<extra></extra>",
         "legendgroup": "sp7rsu_45",
         "line": {
          "color": "#19d3f3",
          "dash": "solid"
         },
         "marker": {
          "symbol": "circle"
         },
         "mode": "lines",
         "name": "sp7rsu_45",
         "scene": "scene",
         "showlegend": true,
         "type": "scatter3d",
         "x": [
          1980
         ],
         "y": [
          42.125693
         ],
         "z": [
          4.779326
         ]
        },
        {
         "hovertemplate": "geohash2=sp7rse_46<br>t=%{x}<br>c1=%{y}<br>c2=%{z}<extra></extra>",
         "legendgroup": "sp7rse_46",
         "line": {
          "color": "#FF6692",
          "dash": "solid"
         },
         "marker": {
          "symbol": "circle"
         },
         "mode": "lines",
         "name": "sp7rse_46",
         "scene": "scene",
         "showlegend": true,
         "type": "scatter3d",
         "x": [
          2010
         ],
         "y": [
          42.12037599999999
         ],
         "z": [
          4.776618
         ]
        },
        {
         "hovertemplate": "geohash2=sp7rsd_47<br>t=%{x}<br>c1=%{y}<br>c2=%{z}<extra></extra>",
         "legendgroup": "sp7rsd_47",
         "line": {
          "color": "#B6E880",
          "dash": "solid"
         },
         "marker": {
          "symbol": "circle"
         },
         "mode": "lines",
         "name": "sp7rsd_47",
         "scene": "scene",
         "showlegend": true,
         "type": "scatter3d",
         "x": [
          2040,
          2070,
          2100
         ],
         "y": [
          42.114832,
          42.110965,
          42.110952999999995
         ],
         "z": [
          4.77476,
          4.772565999999999,
          4.772558
         ]
        },
        {
         "hovertemplate": "geohash2=sp7rs9_48<br>t=%{x}<br>c1=%{y}<br>c2=%{z}<extra></extra>",
         "legendgroup": "sp7rs9_48",
         "line": {
          "color": "#FF97FF",
          "dash": "solid"
         },
         "marker": {
          "symbol": "circle"
         },
         "mode": "lines",
         "name": "sp7rs9_48",
         "scene": "scene",
         "showlegend": true,
         "type": "scatter3d",
         "x": [
          2160,
          2190
         ],
         "y": [
          42.110543,
          42.106515
         ],
         "z": [
          4.772205,
          4.768728
         ]
        },
        {
         "hovertemplate": "geohash2=sp7rs2_49<br>t=%{x}<br>c1=%{y}<br>c2=%{z}<extra></extra>",
         "legendgroup": "sp7rs2_49",
         "line": {
          "color": "#FECB52",
          "dash": "solid"
         },
         "marker": {
          "symbol": "circle"
         },
         "mode": "lines",
         "name": "sp7rs2_49",
         "scene": "scene",
         "showlegend": true,
         "type": "scatter3d",
         "x": [
          2220
         ],
         "y": [
          42.101440999999994
         ],
         "z": [
          4.765301
         ]
        },
        {
         "hovertemplate": "geohash2=sp7rkr_50<br>t=%{x}<br>c1=%{y}<br>c2=%{z}<extra></extra>",
         "legendgroup": "sp7rkr_50",
         "line": {
          "color": "#636efa",
          "dash": "solid"
         },
         "marker": {
          "symbol": "circle"
         },
         "mode": "lines",
         "name": "sp7rkr_50",
         "scene": "scene",
         "showlegend": true,
         "type": "scatter3d",
         "x": [
          2250
         ],
         "y": [
          42.09579900000001
         ],
         "z": [
          4.763715
         ]
        },
        {
         "hovertemplate": "geohash2=sp7rkq_51<br>t=%{x}<br>c1=%{y}<br>c2=%{z}<extra></extra>",
         "legendgroup": "sp7rkq_51",
         "line": {
          "color": "#EF553B",
          "dash": "solid"
         },
         "marker": {
          "symbol": "circle"
         },
         "mode": "lines",
         "name": "sp7rkq_51",
         "scene": "scene",
         "showlegend": true,
         "type": "scatter3d",
         "x": [
          2280
         ],
         "y": [
          42.090547
         ],
         "z": [
          4.760831
         ]
        },
        {
         "hovertemplate": "geohash2=sp7rkm_52<br>t=%{x}<br>c1=%{y}<br>c2=%{z}<extra></extra>",
         "legendgroup": "sp7rkm_52",
         "line": {
          "color": "#00cc96",
          "dash": "solid"
         },
         "marker": {
          "symbol": "circle"
         },
         "mode": "lines",
         "name": "sp7rkm_52",
         "scene": "scene",
         "showlegend": true,
         "type": "scatter3d",
         "x": [
          2310
         ],
         "y": [
          42.085381
         ],
         "z": [
          4.758745
         ]
        },
        {
         "hovertemplate": "geohash2=sp7rkk_53<br>t=%{x}<br>c1=%{y}<br>c2=%{z}<extra></extra>",
         "legendgroup": "sp7rkk_53",
         "line": {
          "color": "#ab63fa",
          "dash": "solid"
         },
         "marker": {
          "symbol": "circle"
         },
         "mode": "lines",
         "name": "sp7rkk_53",
         "scene": "scene",
         "showlegend": true,
         "type": "scatter3d",
         "x": [
          2340
         ],
         "y": [
          42.08037
         ],
         "z": [
          4.757115
         ]
        },
        {
         "hovertemplate": "geohash2=sp7rk5_54<br>t=%{x}<br>c1=%{y}<br>c2=%{z}<extra></extra>",
         "legendgroup": "sp7rk5_54",
         "line": {
          "color": "#FFA15A",
          "dash": "solid"
         },
         "marker": {
          "symbol": "circle"
         },
         "mode": "lines",
         "name": "sp7rk5_54",
         "scene": "scene",
         "showlegend": true,
         "type": "scatter3d",
         "x": [
          2370
         ],
         "y": [
          42.075562000000005
         ],
         "z": [
          4.754001
         ]
        },
        {
         "hovertemplate": "geohash2=sp7rk4_55<br>t=%{x}<br>c1=%{y}<br>c2=%{z}<extra></extra>",
         "legendgroup": "sp7rk4_55",
         "line": {
          "color": "#19d3f3",
          "dash": "solid"
         },
         "marker": {
          "symbol": "circle"
         },
         "mode": "lines",
         "name": "sp7rk4_55",
         "scene": "scene",
         "showlegend": true,
         "type": "scatter3d",
         "x": [
          2400
         ],
         "y": [
          42.071643
         ],
         "z": [
          4.7513559999999995
         ]
        },
        {
         "hovertemplate": "geohash2=sp7rk5_56<br>t=%{x}<br>c1=%{y}<br>c2=%{z}<extra></extra>",
         "legendgroup": "sp7rk5_56",
         "line": {
          "color": "#FF6692",
          "dash": "solid"
         },
         "marker": {
          "symbol": "circle"
         },
         "mode": "lines",
         "name": "sp7rk5_56",
         "scene": "scene",
         "showlegend": true,
         "type": "scatter3d",
         "x": [
          2430,
          2460,
          2490,
          2520,
          4170,
          4200
         ],
         "y": [
          42.072149,
          42.072720999999994,
          42.07365,
          42.073772999999996,
          42.072932,
          42.07289
         ],
         "z": [
          4.749181,
          4.74762,
          4.7480970000000005,
          4.748114,
          4.747646,
          4.747681
         ]
        },
        {
         "hovertemplate": "geohash2=sp7rk4_57<br>t=%{x}<br>c1=%{y}<br>c2=%{z}<extra></extra>",
         "legendgroup": "sp7rk4_57",
         "line": {
          "color": "#B6E880",
          "dash": "solid"
         },
         "marker": {
          "symbol": "circle"
         },
         "mode": "lines",
         "name": "sp7rk4_57",
         "scene": "scene",
         "showlegend": true,
         "type": "scatter3d",
         "x": [
          4230,
          4260
         ],
         "y": [
          42.071782,
          42.071065
         ],
         "z": [
          4.747169,
          4.7465790000000005
         ]
        },
        {
         "hovertemplate": "geohash2=sp7r7f_58<br>t=%{x}<br>c1=%{y}<br>c2=%{z}<extra></extra>",
         "legendgroup": "sp7r7f_58",
         "line": {
          "color": "#FF97FF",
          "dash": "solid"
         },
         "marker": {
          "symbol": "circle"
         },
         "mode": "lines",
         "name": "sp7r7f_58",
         "scene": "scene",
         "showlegend": true,
         "type": "scatter3d",
         "x": [
          4290
         ],
         "y": [
          42.072137000000005
         ],
         "z": [
          4.744669
         ]
        },
        {
         "hovertemplate": "geohash2=sp7r7g_59<br>t=%{x}<br>c1=%{y}<br>c2=%{z}<extra></extra>",
         "legendgroup": "sp7r7g_59",
         "line": {
          "color": "#FECB52",
          "dash": "solid"
         },
         "marker": {
          "symbol": "circle"
         },
         "mode": "lines",
         "name": "sp7r7g_59",
         "scene": "scene",
         "showlegend": true,
         "type": "scatter3d",
         "x": [
          4320,
          4350,
          5130,
          5160,
          5190,
          5220,
          5250
         ],
         "y": [
          42.072551,
          42.072594,
          42.072671,
          42.073017,
          42.075169,
          42.076312,
          42.077474
         ],
         "z": [
          4.7437309999999995,
          4.743493,
          4.74309,
          4.742265,
          4.742711,
          4.74296,
          4.743411
         ]
        },
        {
         "hovertemplate": "geohash2=sp7r7u_60<br>t=%{x}<br>c1=%{y}<br>c2=%{z}<extra></extra>",
         "legendgroup": "sp7r7u_60",
         "line": {
          "color": "#636efa",
          "dash": "solid"
         },
         "marker": {
          "symbol": "circle"
         },
         "mode": "lines",
         "name": "sp7r7u_60",
         "scene": "scene",
         "showlegend": true,
         "type": "scatter3d",
         "x": [
          5280,
          5310,
          5340,
          5370
         ],
         "y": [
          42.079579,
          42.08051,
          42.080996,
          42.082727
         ],
         "z": [
          4.7442,
          4.744378,
          4.744537,
          4.744648
         ]
        },
        {
         "hovertemplate": "geohash2=sp7r7v_61<br>t=%{x}<br>c1=%{y}<br>c2=%{z}<extra></extra>",
         "legendgroup": "sp7r7v_61",
         "line": {
          "color": "#EF553B",
          "dash": "solid"
         },
         "marker": {
          "symbol": "circle"
         },
         "mode": "lines",
         "name": "sp7r7v_61",
         "scene": "scene",
         "showlegend": true,
         "type": "scatter3d",
         "x": [
          5400,
          5430
         ],
         "y": [
          42.084925,
          42.087199000000005
         ],
         "z": [
          4.744154,
          4.743785
         ]
        },
        {
         "hovertemplate": "geohash2=sp7r7y_62<br>t=%{x}<br>c1=%{y}<br>c2=%{z}<extra></extra>",
         "legendgroup": "sp7r7y_62",
         "line": {
          "color": "#00cc96",
          "dash": "solid"
         },
         "marker": {
          "symbol": "circle"
         },
         "mode": "lines",
         "name": "sp7r7y_62",
         "scene": "scene",
         "showlegend": true,
         "type": "scatter3d",
         "x": [
          5460,
          5490,
          5520,
          5550,
          5580
         ],
         "y": [
          42.089197999999996,
          42.090274,
          42.090430999999995,
          42.091875,
          42.093073
         ],
         "z": [
          4.7434140000000005,
          4.74319,
          4.743199000000001,
          4.742941,
          4.742769
         ]
        },
        {
         "hovertemplate": "geohash2=sp7r7z_63<br>t=%{x}<br>c1=%{y}<br>c2=%{z}<extra></extra>",
         "legendgroup": "sp7r7z_63",
         "line": {
          "color": "#ab63fa",
          "dash": "solid"
         },
         "marker": {
          "symbol": "circle"
         },
         "mode": "lines",
         "name": "sp7r7z_63",
         "scene": "scene",
         "showlegend": true,
         "type": "scatter3d",
         "x": [
          5610,
          5640,
          5730,
          5760,
          5790,
          5850,
          5880,
          5910,
          5940
         ],
         "y": [
          42.09445,
          42.094550999999996,
          42.095072,
          42.094986,
          42.09502,
          42.095,
          42.094891,
          42.096666,
          42.099042000000004
         ],
         "z": [
          4.74251,
          4.74251,
          4.742425,
          4.741521,
          4.741486,
          4.7410820000000005,
          4.740722,
          4.7403059999999995,
          4.739664
         ]
        },
        {
         "hovertemplate": "geohash2=sp7reb_64<br>t=%{x}<br>c1=%{y}<br>c2=%{z}<extra></extra>",
         "legendgroup": "sp7reb_64",
         "line": {
          "color": "#FFA15A",
          "dash": "solid"
         },
         "marker": {
          "symbol": "circle"
         },
         "mode": "lines",
         "name": "sp7reb_64",
         "scene": "scene",
         "showlegend": true,
         "type": "scatter3d",
         "x": [
          5970,
          6000,
          6030,
          6060,
          6090,
          6120
         ],
         "y": [
          42.101278,
          42.102320999999996,
          42.102602999999995,
          42.102004,
          42.101915999999996,
          42.101917
         ],
         "z": [
          4.738145,
          4.737393,
          4.736666,
          4.736067,
          4.735804,
          4.735611
         ]
        },
        {
         "hovertemplate": "geohash2=sp7re8_65<br>t=%{x}<br>c1=%{y}<br>c2=%{z}<extra></extra>",
         "legendgroup": "sp7re8_65",
         "line": {
          "color": "#19d3f3",
          "dash": "solid"
         },
         "marker": {
          "symbol": "circle"
         },
         "mode": "lines",
         "name": "sp7re8_65",
         "scene": "scene",
         "showlegend": true,
         "type": "scatter3d",
         "x": [
          6480,
          6510,
          6540
         ],
         "y": [
          42.102762,
          42.104121,
          42.104842999999995
         ],
         "z": [
          4.734737,
          4.733205,
          4.732523
         ]
        },
        {
         "hovertemplate": "geohash2=sp7re9_66<br>t=%{x}<br>c1=%{y}<br>c2=%{z}<extra></extra>",
         "legendgroup": "sp7re9_66",
         "line": {
          "color": "#FF6692",
          "dash": "solid"
         },
         "marker": {
          "symbol": "circle"
         },
         "mode": "lines",
         "name": "sp7re9_66",
         "scene": "scene",
         "showlegend": true,
         "type": "scatter3d",
         "x": [
          6570,
          6600,
          6630,
          6660,
          6690
         ],
         "y": [
          42.106045,
          42.106202,
          42.106203,
          42.10656,
          42.105619000000004
         ],
         "z": [
          4.731149,
          4.7309470000000005,
          4.730912,
          4.730272,
          4.72955
         ]
        },
        {
         "hovertemplate": "geohash2=sp7re8_67<br>t=%{x}<br>c1=%{y}<br>c2=%{z}<extra></extra>",
         "legendgroup": "sp7re8_67",
         "line": {
          "color": "#B6E880",
          "dash": "solid"
         },
         "marker": {
          "symbol": "circle"
         },
         "mode": "lines",
         "name": "sp7re8_67",
         "scene": "scene",
         "showlegend": true,
         "type": "scatter3d",
         "x": [
          6720,
          6750,
          6780,
          6810,
          6840
         ],
         "y": [
          42.104677,
          42.103648,
          42.102885,
          42.101957,
          42.100685
         ],
         "z": [
          4.728932,
          4.727657,
          4.726883,
          4.7260029999999995,
          4.725244
         ]
        },
        {
         "hovertemplate": "geohash2=sp7re2_68<br>t=%{x}<br>c1=%{y}<br>c2=%{z}<extra></extra>",
         "legendgroup": "sp7re2_68",
         "line": {
          "color": "#FF97FF",
          "dash": "solid"
         },
         "marker": {
          "symbol": "circle"
         },
         "mode": "lines",
         "name": "sp7re2_68",
         "scene": "scene",
         "showlegend": true,
         "type": "scatter3d",
         "x": [
          6870,
          6900,
          6930,
          6960
         ],
         "y": [
          42.101256,
          42.102393,
          42.103162999999995,
          42.104347000000004
         ],
         "z": [
          4.724095999999999,
          4.72216,
          4.720864000000001,
          4.718744
         ]
        },
        {
         "hovertemplate": "geohash2=sp7re3_69<br>t=%{x}<br>c1=%{y}<br>c2=%{z}<extra></extra>",
         "legendgroup": "sp7re3_69",
         "line": {
          "color": "#FECB52",
          "dash": "solid"
         },
         "marker": {
          "symbol": "circle"
         },
         "mode": "lines",
         "name": "sp7re3_69",
         "scene": "scene",
         "showlegend": true,
         "type": "scatter3d",
         "x": [
          6990,
          7020
         ],
         "y": [
          42.10602,
          42.106271
         ],
         "z": [
          4.715898,
          4.714459000000001
         ]
        },
        {
         "hovertemplate": "geohash2=sp7re2_70<br>t=%{x}<br>c1=%{y}<br>c2=%{z}<extra></extra>",
         "legendgroup": "sp7re2_70",
         "line": {
          "color": "#636efa",
          "dash": "solid"
         },
         "marker": {
          "symbol": "circle"
         },
         "mode": "lines",
         "name": "sp7re2_70",
         "scene": "scene",
         "showlegend": true,
         "type": "scatter3d",
         "x": [
          7050
         ],
         "y": [
          42.104530999999994
         ],
         "z": [
          4.713436
         ]
        },
        {
         "hovertemplate": "geohash2=sp7re0_71<br>t=%{x}<br>c1=%{y}<br>c2=%{z}<extra></extra>",
         "legendgroup": "sp7re0_71",
         "line": {
          "color": "#EF553B",
          "dash": "solid"
         },
         "marker": {
          "symbol": "circle"
         },
         "mode": "lines",
         "name": "sp7re0_71",
         "scene": "scene",
         "showlegend": true,
         "type": "scatter3d",
         "x": [
          7080,
          7110,
          7140
         ],
         "y": [
          42.10317,
          42.101785,
          42.100115
         ],
         "z": [
          4.712668,
          4.711881,
          4.710006
         ]
        },
        {
         "hovertemplate": "geohash2=sp7r7p_72<br>t=%{x}<br>c1=%{y}<br>c2=%{z}<extra></extra>",
         "legendgroup": "sp7r7p_72",
         "line": {
          "color": "#00cc96",
          "dash": "solid"
         },
         "marker": {
          "symbol": "circle"
         },
         "mode": "lines",
         "name": "sp7r7p_72",
         "scene": "scene",
         "showlegend": true,
         "type": "scatter3d",
         "x": [
          7170,
          7200,
          8250,
          8280
         ],
         "y": [
          42.099605,
          42.099571,
          42.09870599999999,
          42.09822
         ],
         "z": [
          4.709627,
          4.709425,
          4.710106,
          4.71215
         ]
        },
        {
         "hovertemplate": "geohash2=sp7r7r_73<br>t=%{x}<br>c1=%{y}<br>c2=%{z}<extra></extra>",
         "legendgroup": "sp7r7r_73",
         "line": {
          "color": "#ab63fa",
          "dash": "solid"
         },
         "marker": {
          "symbol": "circle"
         },
         "mode": "lines",
         "name": "sp7r7r_73",
         "scene": "scene",
         "showlegend": true,
         "type": "scatter3d",
         "x": [
          8310,
          8340
         ],
         "y": [
          42.096262,
          42.09470400000001
         ],
         "z": [
          4.714083,
          4.715517
         ]
        },
        {
         "hovertemplate": "geohash2=sp7r7q_74<br>t=%{x}<br>c1=%{y}<br>c2=%{z}<extra></extra>",
         "legendgroup": "sp7r7q_74",
         "line": {
          "color": "#FFA15A",
          "dash": "solid"
         },
         "marker": {
          "symbol": "circle"
         },
         "mode": "lines",
         "name": "sp7r7q_74",
         "scene": "scene",
         "showlegend": true,
         "type": "scatter3d",
         "x": [
          8370,
          8400,
          8430
         ],
         "y": [
          42.092755,
          42.091328,
          42.089345
         ],
         "z": [
          4.71731,
          4.718656,
          4.720475
         ]
        },
        {
         "hovertemplate": "geohash2=sp7r7m_75<br>t=%{x}<br>c1=%{y}<br>c2=%{z}<extra></extra>",
         "legendgroup": "sp7r7m_75",
         "line": {
          "color": "#19d3f3",
          "dash": "solid"
         },
         "marker": {
          "symbol": "circle"
         },
         "mode": "lines",
         "name": "sp7r7m_75",
         "scene": "scene",
         "showlegend": true,
         "type": "scatter3d",
         "x": [
          8460,
          8490,
          8520,
          8550,
          8580,
          8610,
          8640,
          8670,
          8730,
          8760,
          8790,
          8820,
          8850
         ],
         "y": [
          42.087202999999995,
          42.085642,
          42.085556,
          42.086403,
          42.086655,
          42.086439000000006,
          42.085864,
          42.085809000000005,
          42.085606,
          42.085422,
          42.085226,
          42.084532,
          42.083752000000004
         ],
         "z": [
          4.7206079999999995,
          4.719172,
          4.718197,
          4.716874,
          4.715067,
          4.713724,
          4.71373,
          4.713608,
          4.7147570000000005,
          4.716565,
          4.71839,
          4.719405999999999,
          4.7199040000000005
         ]
        },
        {
         "hovertemplate": "geohash2=sp7r7k_76<br>t=%{x}<br>c1=%{y}<br>c2=%{z}<extra></extra>",
         "legendgroup": "sp7r7k_76",
         "line": {
          "color": "#FF6692",
          "dash": "solid"
         },
         "marker": {
          "symbol": "circle"
         },
         "mode": "lines",
         "name": "sp7r7k_76",
         "scene": "scene",
         "showlegend": true,
         "type": "scatter3d",
         "x": [
          8880,
          8910,
          8940,
          8970
         ],
         "y": [
          42.082229000000005,
          42.081596,
          42.081215,
          42.080325
         ],
         "z": [
          4.720925,
          4.721388,
          4.722878,
          4.723121
         ]
        },
        {
         "hovertemplate": "geohash2=sp7r7s_77<br>t=%{x}<br>c1=%{y}<br>c2=%{z}<extra></extra>",
         "legendgroup": "sp7r7s_77",
         "line": {
          "color": "#B6E880",
          "dash": "solid"
         },
         "marker": {
          "symbol": "circle"
         },
         "mode": "lines",
         "name": "sp7r7s_77",
         "scene": "scene",
         "showlegend": true,
         "type": "scatter3d",
         "x": [
          9000,
          9030,
          9060,
          9300,
          9330
         ],
         "y": [
          42.080067,
          42.079288,
          42.079131,
          42.078720999999994,
          42.07809099999999
         ],
         "z": [
          4.724262,
          4.72426,
          4.724462,
          4.72446,
          4.724204
         ]
        },
        {
         "hovertemplate": "geohash2=sp7r7e_78<br>t=%{x}<br>c1=%{y}<br>c2=%{z}<extra></extra>",
         "legendgroup": "sp7r7e_78",
         "line": {
          "color": "#FF97FF",
          "dash": "solid"
         },
         "marker": {
          "symbol": "circle"
         },
         "mode": "lines",
         "name": "sp7r7e_78",
         "scene": "scene",
         "showlegend": true,
         "type": "scatter3d",
         "x": [
          9360,
          9390,
          9420,
          9450,
          9480
         ],
         "y": [
          42.076665,
          42.076308,
          42.076142999999995,
          42.075697999999996,
          42.07477900000001
         ],
         "z": [
          4.725428,
          4.7257240000000005,
          4.725846,
          4.7257929999999995,
          4.724772
         ]
        },
        {
         "hovertemplate": "geohash2=sp7r77_79<br>t=%{x}<br>c1=%{y}<br>c2=%{z}<extra></extra>",
         "legendgroup": "sp7r77_79",
         "line": {
          "color": "#FECB52",
          "dash": "solid"
         },
         "marker": {
          "symbol": "circle"
         },
         "mode": "lines",
         "name": "sp7r77_79",
         "scene": "scene",
         "showlegend": true,
         "type": "scatter3d",
         "x": [
          9510,
          9540,
          9570,
          9990
         ],
         "y": [
          42.076165,
          42.07641400000001,
          42.076502999999995,
          42.076815999999994
         ],
         "z": [
          4.721766,
          4.720687,
          4.720582,
          4.719441
         ]
        },
        {
         "hovertemplate": "geohash2=sp7r7k_80<br>t=%{x}<br>c1=%{y}<br>c2=%{z}<extra></extra>",
         "legendgroup": "sp7r7k_80",
         "line": {
          "color": "#636efa",
          "dash": "solid"
         },
         "marker": {
          "symbol": "circle"
         },
         "mode": "lines",
         "name": "sp7r7k_80",
         "scene": "scene",
         "showlegend": true,
         "type": "scatter3d",
         "x": [
          10020,
          10050,
          10080,
          10110,
          10170,
          10200
         ],
         "y": [
          42.078126,
          42.078569,
          42.078565999999995,
          42.078689000000004,
          42.078320999999995,
          42.07820099999999
         ],
         "z": [
          4.718788,
          4.719317,
          4.719983,
          4.719931,
          4.719843,
          4.7190959999999995
         ]
        },
        {
         "hovertemplate": "geohash2=sp7r77_81<br>t=%{x}<br>c1=%{y}<br>c2=%{z}<extra></extra>",
         "legendgroup": "sp7r77_81",
         "line": {
          "color": "#EF553B",
          "dash": "solid"
         },
         "marker": {
          "symbol": "circle"
         },
         "mode": "lines",
         "name": "sp7r77_81",
         "scene": "scene",
         "showlegend": true,
         "type": "scatter3d",
         "x": [
          10230,
          10260,
          10290,
          10320,
          10350,
          10380,
          10410,
          10920,
          10950,
          10980,
          11010,
          11160
         ],
         "y": [
          42.077279000000004,
          42.076294000000004,
          42.074906,
          42.074909000000005,
          42.075522,
          42.074627,
          42.074349000000005,
          42.074083,
          42.074127999999995,
          42.07432,
          42.074265999999994,
          42.074322
         ],
         "z": [
          4.719093,
          4.718713,
          4.718392,
          4.717785999999999,
          4.7166559999999995,
          4.715933,
          4.715599,
          4.715335,
          4.714615,
          4.714045,
          4.713983,
          4.713693
         ]
        },
        {
         "hovertemplate": "geohash2=sp7r75_82<br>t=%{x}<br>c1=%{y}<br>c2=%{z}<extra></extra>",
         "legendgroup": "sp7r75_82",
         "line": {
          "color": "#00cc96",
          "dash": "solid"
         },
         "marker": {
          "symbol": "circle"
         },
         "mode": "lines",
         "name": "sp7r75_82",
         "scene": "scene",
         "showlegend": true,
         "type": "scatter3d",
         "x": [
          11190,
          11220,
          11250,
          11340,
          11370,
          11400,
          11430,
          11460,
          11580
         ],
         "y": [
          42.074814,
          42.075095999999995,
          42.075172,
          42.075531,
          42.07499,
          42.074158,
          42.073589000000005,
          42.073445,
          42.072724
         ],
         "z": [
          4.712141,
          4.711431,
          4.711369,
          4.710431,
          4.710069,
          4.7096979999999995,
          4.710205,
          4.7102129999999995,
          4.710738
         ]
        },
        {
         "hovertemplate": "geohash2=sp7r74_83<br>t=%{x}<br>c1=%{y}<br>c2=%{z}<extra></extra>",
         "legendgroup": "sp7r74_83",
         "line": {
          "color": "#ab63fa",
          "dash": "solid"
         },
         "marker": {
          "symbol": "circle"
         },
         "mode": "lines",
         "name": "sp7r74_83",
         "scene": "scene",
         "showlegend": true,
         "type": "scatter3d",
         "x": [
          11610,
          11640,
          11670,
          11700,
          11730,
          11760,
          11790,
          11820,
          11850,
          11880
         ],
         "y": [
          42.071510999999994,
          42.07103,
          42.070665,
          42.07006,
          42.069369,
          42.069796,
          42.069801,
          42.069802,
          42.069590999999996,
          42.069570999999996
         ],
         "z": [
          4.711435,
          4.709607,
          4.708877,
          4.707418,
          4.7056070000000005,
          4.704485,
          4.702915,
          4.702809,
          4.702467,
          4.702397
         ]
        },
        {
         "hovertemplate": "geohash2=sp7r6f_84<br>t=%{x}<br>c1=%{y}<br>c2=%{z}<extra></extra>",
         "legendgroup": "sp7r6f_84",
         "line": {
          "color": "#FFA15A",
          "dash": "solid"
         },
         "marker": {
          "symbol": "circle"
         },
         "mode": "lines",
         "name": "sp7r6f_84",
         "scene": "scene",
         "showlegend": true,
         "type": "scatter3d",
         "x": [
          11970
         ],
         "y": [
          42.06864
         ],
         "z": [
          4.70213
         ]
        },
        {
         "hovertemplate": "geohash2=sp7r74_85<br>t=%{x}<br>c1=%{y}<br>c2=%{z}<extra></extra>",
         "legendgroup": "sp7r74_85",
         "line": {
          "color": "#19d3f3",
          "dash": "solid"
         },
         "marker": {
          "symbol": "circle"
         },
         "mode": "lines",
         "name": "sp7r74_85",
         "scene": "scene",
         "showlegend": true,
         "type": "scatter3d",
         "x": [
          12000,
          12030,
          12060
         ],
         "y": [
          42.06864,
          42.069418,
          42.069418
         ],
         "z": [
          4.7021820000000005,
          4.702395999999999,
          4.702413
         ]
        },
        {
         "hovertemplate": "geohash2=sp7r6f_86<br>t=%{x}<br>c1=%{y}<br>c2=%{z}<extra></extra>",
         "legendgroup": "sp7r6f_86",
         "line": {
          "color": "#FF6692",
          "dash": "solid"
         },
         "marker": {
          "symbol": "circle"
         },
         "mode": "lines",
         "name": "sp7r6f_86",
         "scene": "scene",
         "showlegend": true,
         "type": "scatter3d",
         "x": [
          12090,
          12120,
          12150,
          12180
         ],
         "y": [
          42.069900999999994,
          42.069824000000004,
          42.06938099999999,
          42.068413
         ],
         "z": [
          4.7010179999999995,
          4.697788,
          4.695206,
          4.692693
         ]
        },
        {
         "hovertemplate": "geohash2=sp7r6d_87<br>t=%{x}<br>c1=%{y}<br>c2=%{z}<extra></extra>",
         "legendgroup": "sp7r6d_87",
         "line": {
          "color": "#B6E880",
          "dash": "solid"
         },
         "marker": {
          "symbol": "circle"
         },
         "mode": "lines",
         "name": "sp7r6d_87",
         "scene": "scene",
         "showlegend": true,
         "type": "scatter3d",
         "x": [
          12210
         ],
         "y": [
          42.068186
         ],
         "z": [
          4.690997
         ]
        },
        {
         "hovertemplate": "geohash2=sp7r6f_88<br>t=%{x}<br>c1=%{y}<br>c2=%{z}<extra></extra>",
         "legendgroup": "sp7r6f_88",
         "line": {
          "color": "#FF97FF",
          "dash": "solid"
         },
         "marker": {
          "symbol": "circle"
         },
         "mode": "lines",
         "name": "sp7r6f_88",
         "scene": "scene",
         "showlegend": true,
         "type": "scatter3d",
         "x": [
          12240,
          12270,
          12300,
          12330
         ],
         "y": [
          42.069095,
          42.07030400000001,
          42.071179,
          42.072075
         ],
         "z": [
          4.691342,
          4.691794,
          4.692157,
          4.692502
         ]
        },
        {
         "hovertemplate": "geohash2=sp7r6g_89<br>t=%{x}<br>c1=%{y}<br>c2=%{z}<extra></extra>",
         "legendgroup": "sp7r6g_89",
         "line": {
          "color": "#FECB52",
          "dash": "solid"
         },
         "marker": {
          "symbol": "circle"
         },
         "mode": "lines",
         "name": "sp7r6g_89",
         "scene": "scene",
         "showlegend": true,
         "type": "scatter3d",
         "x": [
          12360,
          12540,
          12570
         ],
         "y": [
          42.072239,
          42.072916,
          42.074253
         ],
         "z": [
          4.692565,
          4.69269,
          4.691888
         ]
        },
        {
         "hovertemplate": "geohash2=sp7r6e_90<br>t=%{x}<br>c1=%{y}<br>c2=%{z}<extra></extra>",
         "legendgroup": "sp7r6e_90",
         "line": {
          "color": "#636efa",
          "dash": "solid"
         },
         "marker": {
          "symbol": "circle"
         },
         "mode": "lines",
         "name": "sp7r6e_90",
         "scene": "scene",
         "showlegend": true,
         "type": "scatter3d",
         "x": [
          12600,
          12630,
          12660,
          12690,
          13050
         ],
         "y": [
          42.07459,
          42.073757,
          42.073435999999994,
          42.073435999999994,
          42.072990999999995
         ],
         "z": [
          4.691072,
          4.690727,
          4.690577,
          4.690568,
          4.690865
         ]
        },
        {
         "hovertemplate": "geohash2=sp7r6g_91<br>t=%{x}<br>c1=%{y}<br>c2=%{z}<extra></extra>",
         "legendgroup": "sp7r6g_91",
         "line": {
          "color": "#EF553B",
          "dash": "solid"
         },
         "marker": {
          "symbol": "circle"
         },
         "mode": "lines",
         "name": "sp7r6g_91",
         "scene": "scene",
         "showlegend": true,
         "type": "scatter3d",
         "x": [
          13080,
          13110,
          13140,
          13170,
          13200,
          13230,
          13260
         ],
         "y": [
          42.072687,
          42.072793,
          42.07345,
          42.074829,
          42.075807999999995,
          42.07646,
          42.07717
         ],
         "z": [
          4.6918109999999995,
          4.692795,
          4.692551,
          4.691669,
          4.691364,
          4.692333,
          4.692598
         ]
        },
        {
         "hovertemplate": "geohash2=sp7r6u_92<br>t=%{x}<br>c1=%{y}<br>c2=%{z}<extra></extra>",
         "legendgroup": "sp7r6u_92",
         "line": {
          "color": "#00cc96",
          "dash": "solid"
         },
         "marker": {
          "symbol": "circle"
         },
         "mode": "lines",
         "name": "sp7r6u_92",
         "scene": "scene",
         "showlegend": true,
         "type": "scatter3d",
         "x": [
          13290,
          13320
         ],
         "y": [
          42.078015,
          42.078762000000005
         ],
         "z": [
          4.6918820000000006,
          4.691332
         ]
        },
        {
         "hovertemplate": "geohash2=sp7r6s_93<br>t=%{x}<br>c1=%{y}<br>c2=%{z}<extra></extra>",
         "legendgroup": "sp7r6s_93",
         "line": {
          "color": "#ab63fa",
          "dash": "solid"
         },
         "marker": {
          "symbol": "circle"
         },
         "mode": "lines",
         "name": "sp7r6s_93",
         "scene": "scene",
         "showlegend": true,
         "type": "scatter3d",
         "x": [
          13350,
          13380
         ],
         "y": [
          42.079332,
          42.078705
         ],
         "z": [
          4.6905790000000005,
          4.689629
         ]
        },
        {
         "hovertemplate": "geohash2=sp7r6e_94<br>t=%{x}<br>c1=%{y}<br>c2=%{z}<extra></extra>",
         "legendgroup": "sp7r6e_94",
         "line": {
          "color": "#FFA15A",
          "dash": "solid"
         },
         "marker": {
          "symbol": "circle"
         },
         "mode": "lines",
         "name": "sp7r6e_94",
         "scene": "scene",
         "showlegend": true,
         "type": "scatter3d",
         "x": [
          13410
         ],
         "y": [
          42.077472
         ],
         "z": [
          4.689932
         ]
        },
        {
         "hovertemplate": "geohash2=sp7r6g_95<br>t=%{x}<br>c1=%{y}<br>c2=%{z}<extra></extra>",
         "legendgroup": "sp7r6g_95",
         "line": {
          "color": "#19d3f3",
          "dash": "solid"
         },
         "marker": {
          "symbol": "circle"
         },
         "mode": "lines",
         "name": "sp7r6g_95",
         "scene": "scene",
         "showlegend": true,
         "type": "scatter3d",
         "x": [
          13440,
          13470
         ],
         "y": [
          42.075258,
          42.07350099999999
         ],
         "z": [
          4.69132,
          4.692437
         ]
        },
        {
         "hovertemplate": "geohash2=sp7r6f_96<br>t=%{x}<br>c1=%{y}<br>c2=%{z}<extra></extra>",
         "legendgroup": "sp7r6f_96",
         "line": {
          "color": "#FF6692",
          "dash": "solid"
         },
         "marker": {
          "symbol": "circle"
         },
         "mode": "lines",
         "name": "sp7r6f_96",
         "scene": "scene",
         "showlegend": true,
         "type": "scatter3d",
         "x": [
          13500,
          13530,
          13560,
          13590,
          13620
         ],
         "y": [
          42.070689,
          42.069810999999994,
          42.069209,
          42.069725999999996,
          42.069793
         ],
         "z": [
          4.694113,
          4.694443,
          4.6947920000000005,
          4.699122,
          4.701843
         ]
        },
        {
         "hovertemplate": "geohash2=sp7r74_97<br>t=%{x}<br>c1=%{y}<br>c2=%{z}<extra></extra>",
         "legendgroup": "sp7r74_97",
         "line": {
          "color": "#B6E880",
          "dash": "solid"
         },
         "marker": {
          "symbol": "circle"
         },
         "mode": "lines",
         "name": "sp7r74_97",
         "scene": "scene",
         "showlegend": true,
         "type": "scatter3d",
         "x": [
          13650,
          13680,
          13710,
          13770,
          13800,
          13830,
          13860
         ],
         "y": [
          42.069776,
          42.06913599999999,
          42.069124,
          42.069871,
          42.070719000000004,
          42.071126,
          42.070995
         ],
         "z": [
          4.702985,
          4.7054409999999995,
          4.705457,
          4.707014,
          4.709028,
          4.710082,
          4.712382
         ]
        },
        {
         "hovertemplate": "geohash2=sp7r76_98<br>t=%{x}<br>c1=%{y}<br>c2=%{z}<extra></extra>",
         "legendgroup": "sp7r76_98",
         "line": {
          "color": "#FF97FF",
          "dash": "solid"
         },
         "marker": {
          "symbol": "circle"
         },
         "mode": "lines",
         "name": "sp7r76_98",
         "scene": "scene",
         "showlegend": true,
         "type": "scatter3d",
         "x": [
          13890,
          13920
         ],
         "y": [
          42.069099,
          42.066793
         ],
         "z": [
          4.714799,
          4.71717
         ]
        },
        {
         "hovertemplate": "geohash2=sp7r73_99<br>t=%{x}<br>c1=%{y}<br>c2=%{z}<extra></extra>",
         "legendgroup": "sp7r73_99",
         "line": {
          "color": "#FECB52",
          "dash": "solid"
         },
         "marker": {
          "symbol": "circle"
         },
         "mode": "lines",
         "name": "sp7r73_99",
         "scene": "scene",
         "showlegend": true,
         "type": "scatter3d",
         "x": [
          13950,
          13980,
          14010
         ],
         "y": [
          42.065255,
          42.06343,
          42.061478
         ],
         "z": [
          4.718605,
          4.72032,
          4.722885
         ]
        },
        {
         "hovertemplate": "geohash2=sp7r72_100<br>t=%{x}<br>c1=%{y}<br>c2=%{z}<extra></extra>",
         "legendgroup": "sp7r72_100",
         "line": {
          "color": "#636efa",
          "dash": "solid"
         },
         "marker": {
          "symbol": "circle"
         },
         "mode": "lines",
         "name": "sp7r72_100",
         "scene": "scene",
         "showlegend": true,
         "type": "scatter3d",
         "x": [
          14040,
          14070
         ],
         "y": [
          42.060621,
          42.0606
         ],
         "z": [
          4.72341,
          4.72341
         ]
        },
        {
         "hovertemplate": "geohash2=sp7r78_101<br>t=%{x}<br>c1=%{y}<br>c2=%{z}<extra></extra>",
         "legendgroup": "sp7r78_101",
         "line": {
          "color": "#EF553B",
          "dash": "solid"
         },
         "marker": {
          "symbol": "circle"
         },
         "mode": "lines",
         "name": "sp7r78_101",
         "scene": "scene",
         "showlegend": true,
         "type": "scatter3d",
         "x": [
          14100,
          14130,
          14160,
          14190,
          14220
         ],
         "y": [
          42.059875,
          42.058635,
          42.057089000000005,
          42.058494,
          42.060375
         ],
         "z": [
          4.725048,
          4.7275540000000005,
          4.729174,
          4.730494,
          4.732493
         ]
        },
        {
         "hovertemplate": "geohash2=sp7r7b_102<br>t=%{x}<br>c1=%{y}<br>c2=%{z}<extra></extra>",
         "legendgroup": "sp7r7b_102",
         "line": {
          "color": "#00cc96",
          "dash": "solid"
         },
         "marker": {
          "symbol": "circle"
         },
         "mode": "lines",
         "name": "sp7r7b_102",
         "scene": "scene",
         "showlegend": true,
         "type": "scatter3d",
         "x": [
          14250,
          14280,
          14310,
          14340,
          14370,
          14400,
          14430
         ],
         "y": [
          42.060354000000004,
          42.059515999999995,
          42.058910999999995,
          42.058977999999996,
          42.059407,
          42.059793,
          42.059667999999995
         ],
         "z": [
          4.7351090000000005,
          4.73659,
          4.737834,
          4.737966,
          4.738837,
          4.739734,
          4.740594000000001
         ]
        },
        {
         "hovertemplate": "geohash2=sp7r7c_103<br>t=%{x}<br>c1=%{y}<br>c2=%{z}<extra></extra>",
         "legendgroup": "sp7r7c_103",
         "line": {
          "color": "#ab63fa",
          "dash": "solid"
         },
         "marker": {
          "symbol": "circle"
         },
         "mode": "lines",
         "name": "sp7r7c_103",
         "scene": "scene",
         "showlegend": true,
         "type": "scatter3d",
         "x": [
          14460,
          14490,
          14520,
          14550
         ],
         "y": [
          42.062253,
          42.065318,
          42.065449,
          42.065449
         ],
         "z": [
          4.74083,
          4.740856,
          4.740909,
          4.740936
         ]
        },
        {
         "hovertemplate": "geohash2=sp7r7f_104<br>t=%{x}<br>c1=%{y}<br>c2=%{z}<extra></extra>",
         "legendgroup": "sp7r7f_104",
         "line": {
          "color": "#FFA15A",
          "dash": "solid"
         },
         "marker": {
          "symbol": "circle"
         },
         "mode": "lines",
         "name": "sp7r7f_104",
         "scene": "scene",
         "showlegend": true,
         "type": "scatter3d",
         "x": [
          14610,
          14640,
          14670,
          14700,
          14730
         ],
         "y": [
          42.067311,
          42.06933,
          42.07077,
          42.0716,
          42.07205
         ],
         "z": [
          4.740915,
          4.741,
          4.742084,
          4.743316,
          4.744116
         ]
        },
        {
         "hovertemplate": "geohash2=sp7rk4_105<br>t=%{x}<br>c1=%{y}<br>c2=%{z}<extra></extra>",
         "legendgroup": "sp7rk4_105",
         "line": {
          "color": "#19d3f3",
          "dash": "solid"
         },
         "marker": {
          "symbol": "circle"
         },
         "mode": "lines",
         "name": "sp7rk4_105",
         "scene": "scene",
         "showlegend": true,
         "type": "scatter3d",
         "x": [
          14760,
          14790
         ],
         "y": [
          42.070799,
          42.071563
         ],
         "z": [
          4.746096,
          4.746853
         ]
        },
        {
         "hovertemplate": "geohash2=sp7rk5_106<br>t=%{x}<br>c1=%{y}<br>c2=%{z}<extra></extra>",
         "legendgroup": "sp7rk5_106",
         "line": {
          "color": "#FF6692",
          "dash": "solid"
         },
         "marker": {
          "symbol": "circle"
         },
         "mode": "lines",
         "name": "sp7rk5_106",
         "scene": "scene",
         "showlegend": true,
         "type": "scatter3d",
         "x": [
          14820,
          14850,
          14880,
          14910,
          15150,
          15180,
          15210,
          15240,
          16290,
          16320,
          16350,
          16380,
          16410
         ],
         "y": [
          42.072472000000005,
          42.074035,
          42.07428,
          42.074335,
          42.074368,
          42.073474000000004,
          42.073530999999996,
          42.073543,
          42.073987,
          42.073221,
          42.07269,
          42.072962000000004,
          42.072928
         ],
         "z": [
          4.747365,
          4.748187,
          4.748355,
          4.7484340000000005,
          4.748715,
          4.75024,
          4.749818,
          4.749853,
          4.750057,
          4.75016,
          4.749236,
          4.747613,
          4.747604
         ]
        },
        {
         "hovertemplate": "geohash2=sp7r7g_107<br>t=%{x}<br>c1=%{y}<br>c2=%{z}<extra></extra>",
         "legendgroup": "sp7r7g_107",
         "line": {
          "color": "#B6E880",
          "dash": "solid"
         },
         "marker": {
          "symbol": "circle"
         },
         "mode": "lines",
         "name": "sp7r7g_107",
         "scene": "scene",
         "showlegend": true,
         "type": "scatter3d",
         "x": [
          16470,
          16500,
          16530
         ],
         "y": [
          42.073857000000004,
          42.075903,
          42.07659400000001
         ],
         "z": [
          4.745694,
          4.74377,
          4.743201
         ]
        },
        {
         "hovertemplate": "geohash2=sp7r7u_108<br>t=%{x}<br>c1=%{y}<br>c2=%{z}<extra></extra>",
         "legendgroup": "sp7r7u_108",
         "line": {
          "color": "#FF97FF",
          "dash": "solid"
         },
         "marker": {
          "symbol": "circle"
         },
         "mode": "lines",
         "name": "sp7r7u_108",
         "scene": "scene",
         "showlegend": true,
         "type": "scatter3d",
         "x": [
          16560,
          16590
         ],
         "y": [
          42.078691,
          42.080773
         ],
         "z": [
          4.742601,
          4.740018
         ]
        },
        {
         "hovertemplate": "geohash2=sp7r7v_109<br>t=%{x}<br>c1=%{y}<br>c2=%{z}<extra></extra>",
         "legendgroup": "sp7r7v_109",
         "line": {
          "color": "#FECB52",
          "dash": "solid"
         },
         "marker": {
          "symbol": "circle"
         },
         "mode": "lines",
         "name": "sp7r7v_109",
         "scene": "scene",
         "showlegend": true,
         "type": "scatter3d",
         "x": [
          16620,
          16650
         ],
         "y": [
          42.083345,
          42.086379
         ],
         "z": [
          4.737955,
          4.73685
         ]
        },
        {
         "hovertemplate": "geohash2=sp7r7y_110<br>t=%{x}<br>c1=%{y}<br>c2=%{z}<extra></extra>",
         "legendgroup": "sp7r7y_110",
         "line": {
          "color": "#636efa",
          "dash": "solid"
         },
         "marker": {
          "symbol": "circle"
         },
         "mode": "lines",
         "name": "sp7r7y_110",
         "scene": "scene",
         "showlegend": true,
         "type": "scatter3d",
         "x": [
          16680,
          16710,
          16740,
          16770,
          16800
         ],
         "y": [
          42.089098,
          42.089405,
          42.090022000000005,
          42.0907,
          42.092123
         ],
         "z": [
          4.736447,
          4.73694,
          4.738487,
          4.738419,
          4.738186
         ]
        },
        {
         "hovertemplate": "geohash2=sp7r7z_111<br>t=%{x}<br>c1=%{y}<br>c2=%{z}<extra></extra>",
         "legendgroup": "sp7r7z_111",
         "line": {
          "color": "#EF553B",
          "dash": "solid"
         },
         "marker": {
          "symbol": "circle"
         },
         "mode": "lines",
         "name": "sp7r7z_111",
         "scene": "scene",
         "showlegend": true,
         "type": "scatter3d",
         "x": [
          16830,
          16860,
          16890
         ],
         "y": [
          42.094622,
          42.09606900000001,
          42.097549
         ],
         "z": [
          4.737377,
          4.7364690000000005,
          4.735518
         ]
        },
        {
         "hovertemplate": "geohash2=sp7r7x_112<br>t=%{x}<br>c1=%{y}<br>c2=%{z}<extra></extra>",
         "legendgroup": "sp7r7x_112",
         "line": {
          "color": "#00cc96",
          "dash": "solid"
         },
         "marker": {
          "symbol": "circle"
         },
         "mode": "lines",
         "name": "sp7r7x_112",
         "scene": "scene",
         "showlegend": true,
         "type": "scatter3d",
         "x": [
          16920
         ],
         "y": [
          42.099017
         ],
         "z": [
          4.734311
         ]
        },
        {
         "hovertemplate": "geohash2=sp7re8_113<br>t=%{x}<br>c1=%{y}<br>c2=%{z}<extra></extra>",
         "legendgroup": "sp7re8_113",
         "line": {
          "color": "#ab63fa",
          "dash": "solid"
         },
         "marker": {
          "symbol": "circle"
         },
         "mode": "lines",
         "name": "sp7re8_113",
         "scene": "scene",
         "showlegend": true,
         "type": "scatter3d",
         "x": [
          16950,
          16980,
          17010
         ],
         "y": [
          42.101501,
          42.102893,
          42.10501
         ],
         "z": [
          4.7318620000000005,
          4.730936,
          4.731996
         ]
        },
        {
         "hovertemplate": "geohash2=sp7re9_114<br>t=%{x}<br>c1=%{y}<br>c2=%{z}<extra></extra>",
         "legendgroup": "sp7re9_114",
         "line": {
          "color": "#FFA15A",
          "dash": "solid"
         },
         "marker": {
          "symbol": "circle"
         },
         "mode": "lines",
         "name": "sp7re9_114",
         "scene": "scene",
         "showlegend": true,
         "type": "scatter3d",
         "x": [
          17040,
          17070,
          17640
         ],
         "y": [
          42.105889000000005,
          42.105978,
          42.105282
         ],
         "z": [
          4.730903,
          4.7308509999999995,
          4.730226
         ]
        },
        {
         "hovertemplate": "geohash2=sp7re8_115<br>t=%{x}<br>c1=%{y}<br>c2=%{z}<extra></extra>",
         "legendgroup": "sp7re8_115",
         "line": {
          "color": "#19d3f3",
          "dash": "solid"
         },
         "marker": {
          "symbol": "circle"
         },
         "mode": "lines",
         "name": "sp7re8_115",
         "scene": "scene",
         "showlegend": true,
         "type": "scatter3d",
         "x": [
          17670,
          17700,
          17730,
          17760,
          17790,
          17850,
          17880,
          17910,
          17940,
          17970,
          18000
         ],
         "y": [
          42.104163,
          42.103024000000005,
          42.102714000000006,
          42.102591,
          42.10257,
          42.102115999999995,
          42.100977,
          42.100979,
          42.101614000000005,
          42.102159,
          42.102661
         ],
         "z": [
          4.729389,
          4.728236,
          4.728611,
          4.728698,
          4.728698,
          4.729064,
          4.727954,
          4.727077,
          4.726035,
          4.724992,
          4.724134
         ]
        },
        {
         "hovertemplate": "geohash2=sp7re2_116<br>t=%{x}<br>c1=%{y}<br>c2=%{z}<extra></extra>",
         "legendgroup": "sp7re2_116",
         "line": {
          "color": "#FF6692",
          "dash": "solid"
         },
         "marker": {
          "symbol": "circle"
         },
         "mode": "lines",
         "name": "sp7re2_116",
         "scene": "scene",
         "showlegend": true,
         "type": "scatter3d",
         "x": [
          18030,
          18120,
          18150,
          18180,
          18210,
          18240
         ],
         "y": [
          42.102695999999995,
          42.102798,
          42.103322999999996,
          42.104147000000005,
          42.104794000000005,
          42.105016
         ],
         "z": [
          4.7240020000000005,
          4.723748,
          4.722434,
          4.721481,
          4.7204120000000005,
          4.719974000000001
         ]
        },
        {
         "hovertemplate": "geohash2=sp7re3_117<br>t=%{x}<br>c1=%{y}<br>c2=%{z}<extra></extra>",
         "legendgroup": "sp7re3_117",
         "line": {
          "color": "#B6E880",
          "dash": "solid"
         },
         "marker": {
          "symbol": "circle"
         },
         "mode": "lines",
         "name": "sp7re3_117",
         "scene": "scene",
         "showlegend": true,
         "type": "scatter3d",
         "x": [
          18270,
          19080,
          19110,
          19140,
          19170,
          19200,
          19230,
          19260,
          19290,
          19320,
          19350,
          19380,
          19410,
          19440,
          19470,
          19500
         ],
         "y": [
          42.105173,
          42.105518,
          42.10611,
          42.107039,
          42.10807,
          42.108965999999995,
          42.109995999999995,
          42.110028,
          42.108731,
          42.108413,
          42.109080999999996,
          42.108818,
          42.108807999999996,
          42.108032,
          42.107323,
          42.106128
         ],
         "z": [
          4.719783,
          4.719302,
          4.718286,
          4.718711,
          4.719259,
          4.719744,
          4.720353,
          4.720967,
          4.7202079999999995,
          4.719365,
          4.718244,
          4.717261,
          4.716314000000001,
          4.715478,
          4.714983,
          4.714243
         ]
        },
        {
         "hovertemplate": "geohash2=sp7re2_118<br>t=%{x}<br>c1=%{y}<br>c2=%{z}<extra></extra>",
         "legendgroup": "sp7re2_118",
         "line": {
          "color": "#FF97FF",
          "dash": "solid"
         },
         "marker": {
          "symbol": "circle"
         },
         "mode": "lines",
         "name": "sp7re2_118",
         "scene": "scene",
         "showlegend": true,
         "type": "scatter3d",
         "x": [
          19530
         ],
         "y": [
          42.104455
         ],
         "z": [
          4.713246
         ]
        },
        {
         "hovertemplate": "geohash2=sp7re0_119<br>t=%{x}<br>c1=%{y}<br>c2=%{z}<extra></extra>",
         "legendgroup": "sp7re0_119",
         "line": {
          "color": "#FECB52",
          "dash": "solid"
         },
         "marker": {
          "symbol": "circle"
         },
         "mode": "lines",
         "name": "sp7re0_119",
         "scene": "scene",
         "showlegend": true,
         "type": "scatter3d",
         "x": [
          19560,
          19590,
          19620
         ],
         "y": [
          42.102727,
          42.10098,
          42.099994
         ],
         "z": [
          4.712249,
          4.710839,
          4.710844
         ]
        },
        {
         "hovertemplate": "geohash2=sp7r7p_120<br>t=%{x}<br>c1=%{y}<br>c2=%{z}<extra></extra>",
         "legendgroup": "sp7r7p_120",
         "line": {
          "color": "#636efa",
          "dash": "solid"
         },
         "marker": {
          "symbol": "circle"
         },
         "mode": "lines",
         "name": "sp7r7p_120",
         "scene": "scene",
         "showlegend": true,
         "type": "scatter3d",
         "x": [
          19650,
          19680,
          19800,
          19830
         ],
         "y": [
          42.09937,
          42.099281,
          42.09867,
          42.098067
         ],
         "z": [
          4.711289,
          4.711315,
          4.711787,
          4.712415
         ]
        },
        {
         "hovertemplate": "geohash2=sp7r7r_121<br>t=%{x}<br>c1=%{y}<br>c2=%{z}<extra></extra>",
         "legendgroup": "sp7r7r_121",
         "line": {
          "color": "#EF553B",
          "dash": "solid"
         },
         "marker": {
          "symbol": "circle"
         },
         "mode": "lines",
         "name": "sp7r7r_121",
         "scene": "scene",
         "showlegend": true,
         "type": "scatter3d",
         "x": [
          19860,
          19890
         ],
         "y": [
          42.096453,
          42.094674000000005
         ],
         "z": [
          4.7139359999999995,
          4.7156590000000005
         ]
        },
        {
         "hovertemplate": "geohash2=sp7r7q_122<br>t=%{x}<br>c1=%{y}<br>c2=%{z}<extra></extra>",
         "legendgroup": "sp7r7q_122",
         "line": {
          "color": "#00cc96",
          "dash": "solid"
         },
         "marker": {
          "symbol": "circle"
         },
         "mode": "lines",
         "name": "sp7r7q_122",
         "scene": "scene",
         "showlegend": true,
         "type": "scatter3d",
         "x": [
          19920,
          19950,
          19980
         ],
         "y": [
          42.092746,
          42.09123,
          42.090007
         ],
         "z": [
          4.717398,
          4.718814,
          4.720126
         ]
        },
        {
         "hovertemplate": "geohash2=sp7r7m_123<br>t=%{x}<br>c1=%{y}<br>c2=%{z}<extra></extra>",
         "legendgroup": "sp7r7m_123",
         "line": {
          "color": "#ab63fa",
          "dash": "solid"
         },
         "marker": {
          "symbol": "circle"
         },
         "mode": "lines",
         "name": "sp7r7m_123",
         "scene": "scene",
         "showlegend": true,
         "type": "scatter3d",
         "x": [
          20010,
          20040,
          20070,
          20100,
          20130,
          20160
         ],
         "y": [
          42.088142999999995,
          42.086721,
          42.086417999999995,
          42.086259000000005,
          42.085989000000005,
          42.085965
         ],
         "z": [
          4.720593,
          4.720501,
          4.721212,
          4.721817,
          4.7229659999999996,
          4.723678
         ]
        },
        {
         "hovertemplate": "geohash2=sp7r7t_124<br>t=%{x}<br>c1=%{y}<br>c2=%{z}<extra></extra>",
         "legendgroup": "sp7r7t_124",
         "line": {
          "color": "#FFA15A",
          "dash": "solid"
         },
         "marker": {
          "symbol": "circle"
         },
         "mode": "lines",
         "name": "sp7r7t_124",
         "scene": "scene",
         "showlegend": true,
         "type": "scatter3d",
         "x": [
          20190,
          20220,
          20250,
          20280
         ],
         "y": [
          42.085482999999996,
          42.085291,
          42.084311,
          42.083235
         ],
         "z": [
          4.72487,
          4.725378,
          4.725927,
          4.726221
         ]
        },
        {
         "hovertemplate": "geohash2=sp7r7s_125<br>t=%{x}<br>c1=%{y}<br>c2=%{z}<extra></extra>",
         "legendgroup": "sp7r7s_125",
         "line": {
          "color": "#19d3f3",
          "dash": "solid"
         },
         "marker": {
          "symbol": "circle"
         },
         "mode": "lines",
         "name": "sp7r7s_125",
         "scene": "scene",
         "showlegend": true,
         "type": "scatter3d",
         "x": [
          20310,
          20340,
          20370,
          20580,
          20610,
          20640,
          20670,
          20700,
          20730,
          20760,
          20790,
          20820,
          20850
         ],
         "y": [
          42.08227,
          42.081790999999996,
          42.081922999999996,
          42.081635,
          42.081124,
          42.080771,
          42.079907999999996,
          42.079519000000005,
          42.079409000000005,
          42.07923099999999,
          42.078885,
          42.078752,
          42.078050999999995
         ],
         "z": [
          4.726288,
          4.726419,
          4.7263329999999995,
          4.726332,
          4.726013,
          4.725065,
          4.725124,
          4.724973,
          4.724946,
          4.725051,
          4.725797,
          4.726446,
          4.727199000000001
         ]
        },
        {
         "hovertemplate": "geohash2=sp7r7e_126<br>t=%{x}<br>c1=%{y}<br>c2=%{z}<extra></extra>",
         "legendgroup": "sp7r7e_126",
         "line": {
          "color": "#FF6692",
          "dash": "solid"
         },
         "marker": {
          "symbol": "circle"
         },
         "mode": "lines",
         "name": "sp7r7e_126",
         "scene": "scene",
         "showlegend": true,
         "type": "scatter3d",
         "x": [
          20880
         ],
         "y": [
          42.07732
         ],
         "z": [
          4.726923
         ]
        }
       ],
       "layout": {
        "legend": {
         "title": {
          "text": "geohash2"
         },
         "tracegroupgap": 0
        },
        "margin": {
         "t": 60
        },
        "scene": {
         "domain": {
          "x": [
           0,
           1
          ],
          "y": [
           0,
           1
          ]
         },
         "xaxis": {
          "title": {
           "text": "t"
          }
         },
         "yaxis": {
          "title": {
           "text": "c1"
          }
         },
         "zaxis": {
          "title": {
           "text": "c2"
          }
         }
        },
        "template": {
         "data": {
          "bar": [
           {
            "error_x": {
             "color": "#2a3f5f"
            },
            "error_y": {
             "color": "#2a3f5f"
            },
            "marker": {
             "line": {
              "color": "#E5ECF6",
              "width": 0.5
             },
             "pattern": {
              "fillmode": "overlay",
              "size": 10,
              "solidity": 0.2
             }
            },
            "type": "bar"
           }
          ],
          "barpolar": [
           {
            "marker": {
             "line": {
              "color": "#E5ECF6",
              "width": 0.5
             },
             "pattern": {
              "fillmode": "overlay",
              "size": 10,
              "solidity": 0.2
             }
            },
            "type": "barpolar"
           }
          ],
          "carpet": [
           {
            "aaxis": {
             "endlinecolor": "#2a3f5f",
             "gridcolor": "white",
             "linecolor": "white",
             "minorgridcolor": "white",
             "startlinecolor": "#2a3f5f"
            },
            "baxis": {
             "endlinecolor": "#2a3f5f",
             "gridcolor": "white",
             "linecolor": "white",
             "minorgridcolor": "white",
             "startlinecolor": "#2a3f5f"
            },
            "type": "carpet"
           }
          ],
          "choropleth": [
           {
            "colorbar": {
             "outlinewidth": 0,
             "ticks": ""
            },
            "type": "choropleth"
           }
          ],
          "contour": [
           {
            "colorbar": {
             "outlinewidth": 0,
             "ticks": ""
            },
            "colorscale": [
             [
              0,
              "#0d0887"
             ],
             [
              0.1111111111111111,
              "#46039f"
             ],
             [
              0.2222222222222222,
              "#7201a8"
             ],
             [
              0.3333333333333333,
              "#9c179e"
             ],
             [
              0.4444444444444444,
              "#bd3786"
             ],
             [
              0.5555555555555556,
              "#d8576b"
             ],
             [
              0.6666666666666666,
              "#ed7953"
             ],
             [
              0.7777777777777778,
              "#fb9f3a"
             ],
             [
              0.8888888888888888,
              "#fdca26"
             ],
             [
              1,
              "#f0f921"
             ]
            ],
            "type": "contour"
           }
          ],
          "contourcarpet": [
           {
            "colorbar": {
             "outlinewidth": 0,
             "ticks": ""
            },
            "type": "contourcarpet"
           }
          ],
          "heatmap": [
           {
            "colorbar": {
             "outlinewidth": 0,
             "ticks": ""
            },
            "colorscale": [
             [
              0,
              "#0d0887"
             ],
             [
              0.1111111111111111,
              "#46039f"
             ],
             [
              0.2222222222222222,
              "#7201a8"
             ],
             [
              0.3333333333333333,
              "#9c179e"
             ],
             [
              0.4444444444444444,
              "#bd3786"
             ],
             [
              0.5555555555555556,
              "#d8576b"
             ],
             [
              0.6666666666666666,
              "#ed7953"
             ],
             [
              0.7777777777777778,
              "#fb9f3a"
             ],
             [
              0.8888888888888888,
              "#fdca26"
             ],
             [
              1,
              "#f0f921"
             ]
            ],
            "type": "heatmap"
           }
          ],
          "heatmapgl": [
           {
            "colorbar": {
             "outlinewidth": 0,
             "ticks": ""
            },
            "colorscale": [
             [
              0,
              "#0d0887"
             ],
             [
              0.1111111111111111,
              "#46039f"
             ],
             [
              0.2222222222222222,
              "#7201a8"
             ],
             [
              0.3333333333333333,
              "#9c179e"
             ],
             [
              0.4444444444444444,
              "#bd3786"
             ],
             [
              0.5555555555555556,
              "#d8576b"
             ],
             [
              0.6666666666666666,
              "#ed7953"
             ],
             [
              0.7777777777777778,
              "#fb9f3a"
             ],
             [
              0.8888888888888888,
              "#fdca26"
             ],
             [
              1,
              "#f0f921"
             ]
            ],
            "type": "heatmapgl"
           }
          ],
          "histogram": [
           {
            "marker": {
             "pattern": {
              "fillmode": "overlay",
              "size": 10,
              "solidity": 0.2
             }
            },
            "type": "histogram"
           }
          ],
          "histogram2d": [
           {
            "colorbar": {
             "outlinewidth": 0,
             "ticks": ""
            },
            "colorscale": [
             [
              0,
              "#0d0887"
             ],
             [
              0.1111111111111111,
              "#46039f"
             ],
             [
              0.2222222222222222,
              "#7201a8"
             ],
             [
              0.3333333333333333,
              "#9c179e"
             ],
             [
              0.4444444444444444,
              "#bd3786"
             ],
             [
              0.5555555555555556,
              "#d8576b"
             ],
             [
              0.6666666666666666,
              "#ed7953"
             ],
             [
              0.7777777777777778,
              "#fb9f3a"
             ],
             [
              0.8888888888888888,
              "#fdca26"
             ],
             [
              1,
              "#f0f921"
             ]
            ],
            "type": "histogram2d"
           }
          ],
          "histogram2dcontour": [
           {
            "colorbar": {
             "outlinewidth": 0,
             "ticks": ""
            },
            "colorscale": [
             [
              0,
              "#0d0887"
             ],
             [
              0.1111111111111111,
              "#46039f"
             ],
             [
              0.2222222222222222,
              "#7201a8"
             ],
             [
              0.3333333333333333,
              "#9c179e"
             ],
             [
              0.4444444444444444,
              "#bd3786"
             ],
             [
              0.5555555555555556,
              "#d8576b"
             ],
             [
              0.6666666666666666,
              "#ed7953"
             ],
             [
              0.7777777777777778,
              "#fb9f3a"
             ],
             [
              0.8888888888888888,
              "#fdca26"
             ],
             [
              1,
              "#f0f921"
             ]
            ],
            "type": "histogram2dcontour"
           }
          ],
          "mesh3d": [
           {
            "colorbar": {
             "outlinewidth": 0,
             "ticks": ""
            },
            "type": "mesh3d"
           }
          ],
          "parcoords": [
           {
            "line": {
             "colorbar": {
              "outlinewidth": 0,
              "ticks": ""
             }
            },
            "type": "parcoords"
           }
          ],
          "pie": [
           {
            "automargin": true,
            "type": "pie"
           }
          ],
          "scatter": [
           {
            "fillpattern": {
             "fillmode": "overlay",
             "size": 10,
             "solidity": 0.2
            },
            "type": "scatter"
           }
          ],
          "scatter3d": [
           {
            "line": {
             "colorbar": {
              "outlinewidth": 0,
              "ticks": ""
             }
            },
            "marker": {
             "colorbar": {
              "outlinewidth": 0,
              "ticks": ""
             }
            },
            "type": "scatter3d"
           }
          ],
          "scattercarpet": [
           {
            "marker": {
             "colorbar": {
              "outlinewidth": 0,
              "ticks": ""
             }
            },
            "type": "scattercarpet"
           }
          ],
          "scattergeo": [
           {
            "marker": {
             "colorbar": {
              "outlinewidth": 0,
              "ticks": ""
             }
            },
            "type": "scattergeo"
           }
          ],
          "scattergl": [
           {
            "marker": {
             "colorbar": {
              "outlinewidth": 0,
              "ticks": ""
             }
            },
            "type": "scattergl"
           }
          ],
          "scattermapbox": [
           {
            "marker": {
             "colorbar": {
              "outlinewidth": 0,
              "ticks": ""
             }
            },
            "type": "scattermapbox"
           }
          ],
          "scatterpolar": [
           {
            "marker": {
             "colorbar": {
              "outlinewidth": 0,
              "ticks": ""
             }
            },
            "type": "scatterpolar"
           }
          ],
          "scatterpolargl": [
           {
            "marker": {
             "colorbar": {
              "outlinewidth": 0,
              "ticks": ""
             }
            },
            "type": "scatterpolargl"
           }
          ],
          "scatterternary": [
           {
            "marker": {
             "colorbar": {
              "outlinewidth": 0,
              "ticks": ""
             }
            },
            "type": "scatterternary"
           }
          ],
          "surface": [
           {
            "colorbar": {
             "outlinewidth": 0,
             "ticks": ""
            },
            "colorscale": [
             [
              0,
              "#0d0887"
             ],
             [
              0.1111111111111111,
              "#46039f"
             ],
             [
              0.2222222222222222,
              "#7201a8"
             ],
             [
              0.3333333333333333,
              "#9c179e"
             ],
             [
              0.4444444444444444,
              "#bd3786"
             ],
             [
              0.5555555555555556,
              "#d8576b"
             ],
             [
              0.6666666666666666,
              "#ed7953"
             ],
             [
              0.7777777777777778,
              "#fb9f3a"
             ],
             [
              0.8888888888888888,
              "#fdca26"
             ],
             [
              1,
              "#f0f921"
             ]
            ],
            "type": "surface"
           }
          ],
          "table": [
           {
            "cells": {
             "fill": {
              "color": "#EBF0F8"
             },
             "line": {
              "color": "white"
             }
            },
            "header": {
             "fill": {
              "color": "#C8D4E3"
             },
             "line": {
              "color": "white"
             }
            },
            "type": "table"
           }
          ]
         },
         "layout": {
          "annotationdefaults": {
           "arrowcolor": "#2a3f5f",
           "arrowhead": 0,
           "arrowwidth": 1
          },
          "autotypenumbers": "strict",
          "coloraxis": {
           "colorbar": {
            "outlinewidth": 0,
            "ticks": ""
           }
          },
          "colorscale": {
           "diverging": [
            [
             0,
             "#8e0152"
            ],
            [
             0.1,
             "#c51b7d"
            ],
            [
             0.2,
             "#de77ae"
            ],
            [
             0.3,
             "#f1b6da"
            ],
            [
             0.4,
             "#fde0ef"
            ],
            [
             0.5,
             "#f7f7f7"
            ],
            [
             0.6,
             "#e6f5d0"
            ],
            [
             0.7,
             "#b8e186"
            ],
            [
             0.8,
             "#7fbc41"
            ],
            [
             0.9,
             "#4d9221"
            ],
            [
             1,
             "#276419"
            ]
           ],
           "sequential": [
            [
             0,
             "#0d0887"
            ],
            [
             0.1111111111111111,
             "#46039f"
            ],
            [
             0.2222222222222222,
             "#7201a8"
            ],
            [
             0.3333333333333333,
             "#9c179e"
            ],
            [
             0.4444444444444444,
             "#bd3786"
            ],
            [
             0.5555555555555556,
             "#d8576b"
            ],
            [
             0.6666666666666666,
             "#ed7953"
            ],
            [
             0.7777777777777778,
             "#fb9f3a"
            ],
            [
             0.8888888888888888,
             "#fdca26"
            ],
            [
             1,
             "#f0f921"
            ]
           ],
           "sequentialminus": [
            [
             0,
             "#0d0887"
            ],
            [
             0.1111111111111111,
             "#46039f"
            ],
            [
             0.2222222222222222,
             "#7201a8"
            ],
            [
             0.3333333333333333,
             "#9c179e"
            ],
            [
             0.4444444444444444,
             "#bd3786"
            ],
            [
             0.5555555555555556,
             "#d8576b"
            ],
            [
             0.6666666666666666,
             "#ed7953"
            ],
            [
             0.7777777777777778,
             "#fb9f3a"
            ],
            [
             0.8888888888888888,
             "#fdca26"
            ],
            [
             1,
             "#f0f921"
            ]
           ]
          },
          "colorway": [
           "#636efa",
           "#EF553B",
           "#00cc96",
           "#ab63fa",
           "#FFA15A",
           "#19d3f3",
           "#FF6692",
           "#B6E880",
           "#FF97FF",
           "#FECB52"
          ],
          "font": {
           "color": "#2a3f5f"
          },
          "geo": {
           "bgcolor": "white",
           "lakecolor": "white",
           "landcolor": "#E5ECF6",
           "showlakes": true,
           "showland": true,
           "subunitcolor": "white"
          },
          "hoverlabel": {
           "align": "left"
          },
          "hovermode": "closest",
          "mapbox": {
           "style": "light"
          },
          "paper_bgcolor": "white",
          "plot_bgcolor": "#E5ECF6",
          "polar": {
           "angularaxis": {
            "gridcolor": "white",
            "linecolor": "white",
            "ticks": ""
           },
           "bgcolor": "#E5ECF6",
           "radialaxis": {
            "gridcolor": "white",
            "linecolor": "white",
            "ticks": ""
           }
          },
          "scene": {
           "xaxis": {
            "backgroundcolor": "#E5ECF6",
            "gridcolor": "white",
            "gridwidth": 2,
            "linecolor": "white",
            "showbackground": true,
            "ticks": "",
            "zerolinecolor": "white"
           },
           "yaxis": {
            "backgroundcolor": "#E5ECF6",
            "gridcolor": "white",
            "gridwidth": 2,
            "linecolor": "white",
            "showbackground": true,
            "ticks": "",
            "zerolinecolor": "white"
           },
           "zaxis": {
            "backgroundcolor": "#E5ECF6",
            "gridcolor": "white",
            "gridwidth": 2,
            "linecolor": "white",
            "showbackground": true,
            "ticks": "",
            "zerolinecolor": "white"
           }
          },
          "shapedefaults": {
           "line": {
            "color": "#2a3f5f"
           }
          },
          "ternary": {
           "aaxis": {
            "gridcolor": "white",
            "linecolor": "white",
            "ticks": ""
           },
           "baxis": {
            "gridcolor": "white",
            "linecolor": "white",
            "ticks": ""
           },
           "bgcolor": "#E5ECF6",
           "caxis": {
            "gridcolor": "white",
            "linecolor": "white",
            "ticks": ""
           }
          },
          "title": {
           "x": 0.05
          },
          "xaxis": {
           "automargin": true,
           "gridcolor": "white",
           "linecolor": "white",
           "ticks": "",
           "title": {
            "standoff": 15
           },
           "zerolinecolor": "white",
           "zerolinewidth": 2
          },
          "yaxis": {
           "automargin": true,
           "gridcolor": "white",
           "linecolor": "white",
           "ticks": "",
           "title": {
            "standoff": 15
           },
           "zerolinecolor": "white",
           "zerolinewidth": 2
          }
         }
        }
       }
      },
      "text/html": [
       "<div>                            <div id=\"53a12306-537f-4499-8583-dfe4cba5c01d\" class=\"plotly-graph-div\" style=\"height:525px; width:100%;\"></div>            <script type=\"text/javascript\">                require([\"plotly\"], function(Plotly) {                    window.PLOTLYENV=window.PLOTLYENV || {};                                    if (document.getElementById(\"53a12306-537f-4499-8583-dfe4cba5c01d\")) {                    Plotly.newPlot(                        \"53a12306-537f-4499-8583-dfe4cba5c01d\",                        [{\"hovertemplate\":\"geohash2=spe2nd_30<br>t=%{x}<br>c1=%{y}<br>c2=%{z}<extra></extra>\",\"legendgroup\":\"spe2nd_30\",\"line\":{\"color\":\"#636efa\",\"dash\":\"solid\"},\"marker\":{\"symbol\":\"circle\"},\"mode\":\"lines\",\"name\":\"spe2nd_30\",\"scene\":\"scene\",\"showlegend\":true,\"x\":[0,30,960,990,1020,1050,1080,1230,1260],\"y\":[42.203306,42.20334,42.203250999999995,42.202417000000004,42.201964000000004,42.202035,42.202000999999996,42.201668,42.198652],\"z\":[4.860508,4.860333,4.860684,4.860875,4.860453,4.858893,4.858760999999999,4.858025,4.8568359999999995],\"type\":\"scatter3d\"},{\"hovertemplate\":\"geohash2=spe2n3_31<br>t=%{x}<br>c1=%{y}<br>c2=%{z}<extra></extra>\",\"legendgroup\":\"spe2n3_31\",\"line\":{\"color\":\"#EF553B\",\"dash\":\"solid\"},\"marker\":{\"symbol\":\"circle\"},\"mode\":\"lines\",\"name\":\"spe2n3_31\",\"scene\":\"scene\",\"showlegend\":true,\"x\":[1290],\"y\":[42.194761],\"z\":[4.855383],\"type\":\"scatter3d\"},{\"hovertemplate\":\"geohash2=spe2n2_32<br>t=%{x}<br>c1=%{y}<br>c2=%{z}<extra></extra>\",\"legendgroup\":\"spe2n2_32\",\"line\":{\"color\":\"#00cc96\",\"dash\":\"solid\"},\"marker\":{\"symbol\":\"circle\"},\"mode\":\"lines\",\"name\":\"spe2n2_32\",\"scene\":\"scene\",\"showlegend\":true,\"x\":[1320],\"y\":[42.190617],\"z\":[4.852992],\"type\":\"scatter3d\"},{\"hovertemplate\":\"geohash2=sp7ryr_33<br>t=%{x}<br>c1=%{y}<br>c2=%{z}<extra></extra>\",\"legendgroup\":\"sp7ryr_33\",\"line\":{\"color\":\"#ab63fa\",\"dash\":\"solid\"},\"marker\":{\"symbol\":\"circle\"},\"mode\":\"lines\",\"name\":\"sp7ryr_33\",\"scene\":\"scene\",\"showlegend\":true,\"x\":[1350,1380,1410],\"y\":[42.187205999999996,42.184959000000006,42.182123],\"z\":[4.850224,4.847968,4.84563],\"type\":\"scatter3d\"},{\"hovertemplate\":\"geohash2=sp7ryn_34<br>t=%{x}<br>c1=%{y}<br>c2=%{z}<extra></extra>\",\"legendgroup\":\"sp7ryn_34\",\"line\":{\"color\":\"#FFA15A\",\"dash\":\"solid\"},\"marker\":{\"symbol\":\"circle\"},\"mode\":\"lines\",\"name\":\"sp7ryn_34\",\"scene\":\"scene\",\"showlegend\":true,\"x\":[1440],\"y\":[42.18012],\"z\":[4.843785],\"type\":\"scatter3d\"},{\"hovertemplate\":\"geohash2=sp7ryj_35<br>t=%{x}<br>c1=%{y}<br>c2=%{z}<extra></extra>\",\"legendgroup\":\"sp7ryj_35\",\"line\":{\"color\":\"#19d3f3\",\"dash\":\"solid\"},\"marker\":{\"symbol\":\"circle\"},\"mode\":\"lines\",\"name\":\"sp7ryj_35\",\"scene\":\"scene\",\"showlegend\":true,\"x\":[1470,1500,1530,1560],\"y\":[42.176131,42.172531,42.172255,42.171433],\"z\":[4.840726,4.837388,4.835871,4.8360970000000005],\"type\":\"scatter3d\"},{\"hovertemplate\":\"geohash2=sp7ryh_36<br>t=%{x}<br>c1=%{y}<br>c2=%{z}<extra></extra>\",\"legendgroup\":\"sp7ryh_36\",\"line\":{\"color\":\"#FF6692\",\"dash\":\"solid\"},\"marker\":{\"symbol\":\"circle\"},\"mode\":\"lines\",\"name\":\"sp7ryh_36\",\"scene\":\"scene\",\"showlegend\":true,\"x\":[1590],\"y\":[42.170657],\"z\":[4.834938],\"type\":\"scatter3d\"},{\"hovertemplate\":\"geohash2=sp7rvu_37<br>t=%{x}<br>c1=%{y}<br>c2=%{z}<extra></extra>\",\"legendgroup\":\"sp7rvu_37\",\"line\":{\"color\":\"#B6E880\",\"dash\":\"solid\"},\"marker\":{\"symbol\":\"circle\"},\"mode\":\"lines\",\"name\":\"sp7rvu_37\",\"scene\":\"scene\",\"showlegend\":true,\"x\":[1620,1650],\"y\":[42.168413,42.165905],\"z\":[4.8307590000000005,4.825774],\"type\":\"scatter3d\"},{\"hovertemplate\":\"geohash2=sp7rve_38<br>t=%{x}<br>c1=%{y}<br>c2=%{z}<extra></extra>\",\"legendgroup\":\"sp7rve_38\",\"line\":{\"color\":\"#FF97FF\",\"dash\":\"solid\"},\"marker\":{\"symbol\":\"circle\"},\"mode\":\"lines\",\"name\":\"sp7rve_38\",\"scene\":\"scene\",\"showlegend\":true,\"x\":[1680],\"y\":[42.163295999999995],\"z\":[4.820585],\"type\":\"scatter3d\"},{\"hovertemplate\":\"geohash2=sp7rvd_39<br>t=%{x}<br>c1=%{y}<br>c2=%{z}<extra></extra>\",\"legendgroup\":\"sp7rvd_39\",\"line\":{\"color\":\"#FECB52\",\"dash\":\"solid\"},\"marker\":{\"symbol\":\"circle\"},\"mode\":\"lines\",\"name\":\"sp7rvd_39\",\"scene\":\"scene\",\"showlegend\":true,\"x\":[1710,1740],\"y\":[42.159365,42.155662],\"z\":[4.816667,4.814457],\"type\":\"scatter3d\"},{\"hovertemplate\":\"geohash2=sp7rv3_40<br>t=%{x}<br>c1=%{y}<br>c2=%{z}<extra></extra>\",\"legendgroup\":\"sp7rv3_40\",\"line\":{\"color\":\"#636efa\",\"dash\":\"solid\"},\"marker\":{\"symbol\":\"circle\"},\"mode\":\"lines\",\"name\":\"sp7rv3_40\",\"scene\":\"scene\",\"showlegend\":true,\"x\":[1770],\"y\":[42.151008],\"z\":[4.811553],\"type\":\"scatter3d\"},{\"hovertemplate\":\"geohash2=sp7rv2_41<br>t=%{x}<br>c1=%{y}<br>c2=%{z}<extra></extra>\",\"legendgroup\":\"sp7rv2_41\",\"line\":{\"color\":\"#EF553B\",\"dash\":\"solid\"},\"marker\":{\"symbol\":\"circle\"},\"mode\":\"lines\",\"name\":\"sp7rv2_41\",\"scene\":\"scene\",\"showlegend\":true,\"x\":[1800],\"y\":[42.145843],\"z\":[4.808393],\"type\":\"scatter3d\"},{\"hovertemplate\":\"geohash2=sp7rtr_42<br>t=%{x}<br>c1=%{y}<br>c2=%{z}<extra></extra>\",\"legendgroup\":\"sp7rtr_42\",\"line\":{\"color\":\"#00cc96\",\"dash\":\"solid\"},\"marker\":{\"symbol\":\"circle\"},\"mode\":\"lines\",\"name\":\"sp7rtr_42\",\"scene\":\"scene\",\"showlegend\":true,\"x\":[1830],\"y\":[42.141000999999996],\"z\":[4.804785],\"type\":\"scatter3d\"},{\"hovertemplate\":\"geohash2=sp7rtn_43<br>t=%{x}<br>c1=%{y}<br>c2=%{z}<extra></extra>\",\"legendgroup\":\"sp7rtn_43\",\"line\":{\"color\":\"#ab63fa\",\"dash\":\"solid\"},\"marker\":{\"symbol\":\"circle\"},\"mode\":\"lines\",\"name\":\"sp7rtn_43\",\"scene\":\"scene\",\"showlegend\":true,\"x\":[1860,1890],\"y\":[42.137831,42.135180999999996],\"z\":[4.799725,4.794499],\"type\":\"scatter3d\"},{\"hovertemplate\":\"geohash2=sp7rsv_44<br>t=%{x}<br>c1=%{y}<br>c2=%{z}<extra></extra>\",\"legendgroup\":\"sp7rsv_44\",\"line\":{\"color\":\"#FFA15A\",\"dash\":\"solid\"},\"marker\":{\"symbol\":\"circle\"},\"mode\":\"lines\",\"name\":\"sp7rsv_44\",\"scene\":\"scene\",\"showlegend\":true,\"x\":[1920,1950],\"y\":[42.132422999999996,42.12961],\"z\":[4.789063,4.783608],\"type\":\"scatter3d\"},{\"hovertemplate\":\"geohash2=sp7rsu_45<br>t=%{x}<br>c1=%{y}<br>c2=%{z}<extra></extra>\",\"legendgroup\":\"sp7rsu_45\",\"line\":{\"color\":\"#19d3f3\",\"dash\":\"solid\"},\"marker\":{\"symbol\":\"circle\"},\"mode\":\"lines\",\"name\":\"sp7rsu_45\",\"scene\":\"scene\",\"showlegend\":true,\"x\":[1980],\"y\":[42.125693],\"z\":[4.779326],\"type\":\"scatter3d\"},{\"hovertemplate\":\"geohash2=sp7rse_46<br>t=%{x}<br>c1=%{y}<br>c2=%{z}<extra></extra>\",\"legendgroup\":\"sp7rse_46\",\"line\":{\"color\":\"#FF6692\",\"dash\":\"solid\"},\"marker\":{\"symbol\":\"circle\"},\"mode\":\"lines\",\"name\":\"sp7rse_46\",\"scene\":\"scene\",\"showlegend\":true,\"x\":[2010],\"y\":[42.12037599999999],\"z\":[4.776618],\"type\":\"scatter3d\"},{\"hovertemplate\":\"geohash2=sp7rsd_47<br>t=%{x}<br>c1=%{y}<br>c2=%{z}<extra></extra>\",\"legendgroup\":\"sp7rsd_47\",\"line\":{\"color\":\"#B6E880\",\"dash\":\"solid\"},\"marker\":{\"symbol\":\"circle\"},\"mode\":\"lines\",\"name\":\"sp7rsd_47\",\"scene\":\"scene\",\"showlegend\":true,\"x\":[2040,2070,2100],\"y\":[42.114832,42.110965,42.110952999999995],\"z\":[4.77476,4.772565999999999,4.772558],\"type\":\"scatter3d\"},{\"hovertemplate\":\"geohash2=sp7rs9_48<br>t=%{x}<br>c1=%{y}<br>c2=%{z}<extra></extra>\",\"legendgroup\":\"sp7rs9_48\",\"line\":{\"color\":\"#FF97FF\",\"dash\":\"solid\"},\"marker\":{\"symbol\":\"circle\"},\"mode\":\"lines\",\"name\":\"sp7rs9_48\",\"scene\":\"scene\",\"showlegend\":true,\"x\":[2160,2190],\"y\":[42.110543,42.106515],\"z\":[4.772205,4.768728],\"type\":\"scatter3d\"},{\"hovertemplate\":\"geohash2=sp7rs2_49<br>t=%{x}<br>c1=%{y}<br>c2=%{z}<extra></extra>\",\"legendgroup\":\"sp7rs2_49\",\"line\":{\"color\":\"#FECB52\",\"dash\":\"solid\"},\"marker\":{\"symbol\":\"circle\"},\"mode\":\"lines\",\"name\":\"sp7rs2_49\",\"scene\":\"scene\",\"showlegend\":true,\"x\":[2220],\"y\":[42.101440999999994],\"z\":[4.765301],\"type\":\"scatter3d\"},{\"hovertemplate\":\"geohash2=sp7rkr_50<br>t=%{x}<br>c1=%{y}<br>c2=%{z}<extra></extra>\",\"legendgroup\":\"sp7rkr_50\",\"line\":{\"color\":\"#636efa\",\"dash\":\"solid\"},\"marker\":{\"symbol\":\"circle\"},\"mode\":\"lines\",\"name\":\"sp7rkr_50\",\"scene\":\"scene\",\"showlegend\":true,\"x\":[2250],\"y\":[42.09579900000001],\"z\":[4.763715],\"type\":\"scatter3d\"},{\"hovertemplate\":\"geohash2=sp7rkq_51<br>t=%{x}<br>c1=%{y}<br>c2=%{z}<extra></extra>\",\"legendgroup\":\"sp7rkq_51\",\"line\":{\"color\":\"#EF553B\",\"dash\":\"solid\"},\"marker\":{\"symbol\":\"circle\"},\"mode\":\"lines\",\"name\":\"sp7rkq_51\",\"scene\":\"scene\",\"showlegend\":true,\"x\":[2280],\"y\":[42.090547],\"z\":[4.760831],\"type\":\"scatter3d\"},{\"hovertemplate\":\"geohash2=sp7rkm_52<br>t=%{x}<br>c1=%{y}<br>c2=%{z}<extra></extra>\",\"legendgroup\":\"sp7rkm_52\",\"line\":{\"color\":\"#00cc96\",\"dash\":\"solid\"},\"marker\":{\"symbol\":\"circle\"},\"mode\":\"lines\",\"name\":\"sp7rkm_52\",\"scene\":\"scene\",\"showlegend\":true,\"x\":[2310],\"y\":[42.085381],\"z\":[4.758745],\"type\":\"scatter3d\"},{\"hovertemplate\":\"geohash2=sp7rkk_53<br>t=%{x}<br>c1=%{y}<br>c2=%{z}<extra></extra>\",\"legendgroup\":\"sp7rkk_53\",\"line\":{\"color\":\"#ab63fa\",\"dash\":\"solid\"},\"marker\":{\"symbol\":\"circle\"},\"mode\":\"lines\",\"name\":\"sp7rkk_53\",\"scene\":\"scene\",\"showlegend\":true,\"x\":[2340],\"y\":[42.08037],\"z\":[4.757115],\"type\":\"scatter3d\"},{\"hovertemplate\":\"geohash2=sp7rk5_54<br>t=%{x}<br>c1=%{y}<br>c2=%{z}<extra></extra>\",\"legendgroup\":\"sp7rk5_54\",\"line\":{\"color\":\"#FFA15A\",\"dash\":\"solid\"},\"marker\":{\"symbol\":\"circle\"},\"mode\":\"lines\",\"name\":\"sp7rk5_54\",\"scene\":\"scene\",\"showlegend\":true,\"x\":[2370],\"y\":[42.075562000000005],\"z\":[4.754001],\"type\":\"scatter3d\"},{\"hovertemplate\":\"geohash2=sp7rk4_55<br>t=%{x}<br>c1=%{y}<br>c2=%{z}<extra></extra>\",\"legendgroup\":\"sp7rk4_55\",\"line\":{\"color\":\"#19d3f3\",\"dash\":\"solid\"},\"marker\":{\"symbol\":\"circle\"},\"mode\":\"lines\",\"name\":\"sp7rk4_55\",\"scene\":\"scene\",\"showlegend\":true,\"x\":[2400],\"y\":[42.071643],\"z\":[4.7513559999999995],\"type\":\"scatter3d\"},{\"hovertemplate\":\"geohash2=sp7rk5_56<br>t=%{x}<br>c1=%{y}<br>c2=%{z}<extra></extra>\",\"legendgroup\":\"sp7rk5_56\",\"line\":{\"color\":\"#FF6692\",\"dash\":\"solid\"},\"marker\":{\"symbol\":\"circle\"},\"mode\":\"lines\",\"name\":\"sp7rk5_56\",\"scene\":\"scene\",\"showlegend\":true,\"x\":[2430,2460,2490,2520,4170,4200],\"y\":[42.072149,42.072720999999994,42.07365,42.073772999999996,42.072932,42.07289],\"z\":[4.749181,4.74762,4.7480970000000005,4.748114,4.747646,4.747681],\"type\":\"scatter3d\"},{\"hovertemplate\":\"geohash2=sp7rk4_57<br>t=%{x}<br>c1=%{y}<br>c2=%{z}<extra></extra>\",\"legendgroup\":\"sp7rk4_57\",\"line\":{\"color\":\"#B6E880\",\"dash\":\"solid\"},\"marker\":{\"symbol\":\"circle\"},\"mode\":\"lines\",\"name\":\"sp7rk4_57\",\"scene\":\"scene\",\"showlegend\":true,\"x\":[4230,4260],\"y\":[42.071782,42.071065],\"z\":[4.747169,4.7465790000000005],\"type\":\"scatter3d\"},{\"hovertemplate\":\"geohash2=sp7r7f_58<br>t=%{x}<br>c1=%{y}<br>c2=%{z}<extra></extra>\",\"legendgroup\":\"sp7r7f_58\",\"line\":{\"color\":\"#FF97FF\",\"dash\":\"solid\"},\"marker\":{\"symbol\":\"circle\"},\"mode\":\"lines\",\"name\":\"sp7r7f_58\",\"scene\":\"scene\",\"showlegend\":true,\"x\":[4290],\"y\":[42.072137000000005],\"z\":[4.744669],\"type\":\"scatter3d\"},{\"hovertemplate\":\"geohash2=sp7r7g_59<br>t=%{x}<br>c1=%{y}<br>c2=%{z}<extra></extra>\",\"legendgroup\":\"sp7r7g_59\",\"line\":{\"color\":\"#FECB52\",\"dash\":\"solid\"},\"marker\":{\"symbol\":\"circle\"},\"mode\":\"lines\",\"name\":\"sp7r7g_59\",\"scene\":\"scene\",\"showlegend\":true,\"x\":[4320,4350,5130,5160,5190,5220,5250],\"y\":[42.072551,42.072594,42.072671,42.073017,42.075169,42.076312,42.077474],\"z\":[4.7437309999999995,4.743493,4.74309,4.742265,4.742711,4.74296,4.743411],\"type\":\"scatter3d\"},{\"hovertemplate\":\"geohash2=sp7r7u_60<br>t=%{x}<br>c1=%{y}<br>c2=%{z}<extra></extra>\",\"legendgroup\":\"sp7r7u_60\",\"line\":{\"color\":\"#636efa\",\"dash\":\"solid\"},\"marker\":{\"symbol\":\"circle\"},\"mode\":\"lines\",\"name\":\"sp7r7u_60\",\"scene\":\"scene\",\"showlegend\":true,\"x\":[5280,5310,5340,5370],\"y\":[42.079579,42.08051,42.080996,42.082727],\"z\":[4.7442,4.744378,4.744537,4.744648],\"type\":\"scatter3d\"},{\"hovertemplate\":\"geohash2=sp7r7v_61<br>t=%{x}<br>c1=%{y}<br>c2=%{z}<extra></extra>\",\"legendgroup\":\"sp7r7v_61\",\"line\":{\"color\":\"#EF553B\",\"dash\":\"solid\"},\"marker\":{\"symbol\":\"circle\"},\"mode\":\"lines\",\"name\":\"sp7r7v_61\",\"scene\":\"scene\",\"showlegend\":true,\"x\":[5400,5430],\"y\":[42.084925,42.087199000000005],\"z\":[4.744154,4.743785],\"type\":\"scatter3d\"},{\"hovertemplate\":\"geohash2=sp7r7y_62<br>t=%{x}<br>c1=%{y}<br>c2=%{z}<extra></extra>\",\"legendgroup\":\"sp7r7y_62\",\"line\":{\"color\":\"#00cc96\",\"dash\":\"solid\"},\"marker\":{\"symbol\":\"circle\"},\"mode\":\"lines\",\"name\":\"sp7r7y_62\",\"scene\":\"scene\",\"showlegend\":true,\"x\":[5460,5490,5520,5550,5580],\"y\":[42.089197999999996,42.090274,42.090430999999995,42.091875,42.093073],\"z\":[4.7434140000000005,4.74319,4.743199000000001,4.742941,4.742769],\"type\":\"scatter3d\"},{\"hovertemplate\":\"geohash2=sp7r7z_63<br>t=%{x}<br>c1=%{y}<br>c2=%{z}<extra></extra>\",\"legendgroup\":\"sp7r7z_63\",\"line\":{\"color\":\"#ab63fa\",\"dash\":\"solid\"},\"marker\":{\"symbol\":\"circle\"},\"mode\":\"lines\",\"name\":\"sp7r7z_63\",\"scene\":\"scene\",\"showlegend\":true,\"x\":[5610,5640,5730,5760,5790,5850,5880,5910,5940],\"y\":[42.09445,42.094550999999996,42.095072,42.094986,42.09502,42.095,42.094891,42.096666,42.099042000000004],\"z\":[4.74251,4.74251,4.742425,4.741521,4.741486,4.7410820000000005,4.740722,4.7403059999999995,4.739664],\"type\":\"scatter3d\"},{\"hovertemplate\":\"geohash2=sp7reb_64<br>t=%{x}<br>c1=%{y}<br>c2=%{z}<extra></extra>\",\"legendgroup\":\"sp7reb_64\",\"line\":{\"color\":\"#FFA15A\",\"dash\":\"solid\"},\"marker\":{\"symbol\":\"circle\"},\"mode\":\"lines\",\"name\":\"sp7reb_64\",\"scene\":\"scene\",\"showlegend\":true,\"x\":[5970,6000,6030,6060,6090,6120],\"y\":[42.101278,42.102320999999996,42.102602999999995,42.102004,42.101915999999996,42.101917],\"z\":[4.738145,4.737393,4.736666,4.736067,4.735804,4.735611],\"type\":\"scatter3d\"},{\"hovertemplate\":\"geohash2=sp7re8_65<br>t=%{x}<br>c1=%{y}<br>c2=%{z}<extra></extra>\",\"legendgroup\":\"sp7re8_65\",\"line\":{\"color\":\"#19d3f3\",\"dash\":\"solid\"},\"marker\":{\"symbol\":\"circle\"},\"mode\":\"lines\",\"name\":\"sp7re8_65\",\"scene\":\"scene\",\"showlegend\":true,\"x\":[6480,6510,6540],\"y\":[42.102762,42.104121,42.104842999999995],\"z\":[4.734737,4.733205,4.732523],\"type\":\"scatter3d\"},{\"hovertemplate\":\"geohash2=sp7re9_66<br>t=%{x}<br>c1=%{y}<br>c2=%{z}<extra></extra>\",\"legendgroup\":\"sp7re9_66\",\"line\":{\"color\":\"#FF6692\",\"dash\":\"solid\"},\"marker\":{\"symbol\":\"circle\"},\"mode\":\"lines\",\"name\":\"sp7re9_66\",\"scene\":\"scene\",\"showlegend\":true,\"x\":[6570,6600,6630,6660,6690],\"y\":[42.106045,42.106202,42.106203,42.10656,42.105619000000004],\"z\":[4.731149,4.7309470000000005,4.730912,4.730272,4.72955],\"type\":\"scatter3d\"},{\"hovertemplate\":\"geohash2=sp7re8_67<br>t=%{x}<br>c1=%{y}<br>c2=%{z}<extra></extra>\",\"legendgroup\":\"sp7re8_67\",\"line\":{\"color\":\"#B6E880\",\"dash\":\"solid\"},\"marker\":{\"symbol\":\"circle\"},\"mode\":\"lines\",\"name\":\"sp7re8_67\",\"scene\":\"scene\",\"showlegend\":true,\"x\":[6720,6750,6780,6810,6840],\"y\":[42.104677,42.103648,42.102885,42.101957,42.100685],\"z\":[4.728932,4.727657,4.726883,4.7260029999999995,4.725244],\"type\":\"scatter3d\"},{\"hovertemplate\":\"geohash2=sp7re2_68<br>t=%{x}<br>c1=%{y}<br>c2=%{z}<extra></extra>\",\"legendgroup\":\"sp7re2_68\",\"line\":{\"color\":\"#FF97FF\",\"dash\":\"solid\"},\"marker\":{\"symbol\":\"circle\"},\"mode\":\"lines\",\"name\":\"sp7re2_68\",\"scene\":\"scene\",\"showlegend\":true,\"x\":[6870,6900,6930,6960],\"y\":[42.101256,42.102393,42.103162999999995,42.104347000000004],\"z\":[4.724095999999999,4.72216,4.720864000000001,4.718744],\"type\":\"scatter3d\"},{\"hovertemplate\":\"geohash2=sp7re3_69<br>t=%{x}<br>c1=%{y}<br>c2=%{z}<extra></extra>\",\"legendgroup\":\"sp7re3_69\",\"line\":{\"color\":\"#FECB52\",\"dash\":\"solid\"},\"marker\":{\"symbol\":\"circle\"},\"mode\":\"lines\",\"name\":\"sp7re3_69\",\"scene\":\"scene\",\"showlegend\":true,\"x\":[6990,7020],\"y\":[42.10602,42.106271],\"z\":[4.715898,4.714459000000001],\"type\":\"scatter3d\"},{\"hovertemplate\":\"geohash2=sp7re2_70<br>t=%{x}<br>c1=%{y}<br>c2=%{z}<extra></extra>\",\"legendgroup\":\"sp7re2_70\",\"line\":{\"color\":\"#636efa\",\"dash\":\"solid\"},\"marker\":{\"symbol\":\"circle\"},\"mode\":\"lines\",\"name\":\"sp7re2_70\",\"scene\":\"scene\",\"showlegend\":true,\"x\":[7050],\"y\":[42.104530999999994],\"z\":[4.713436],\"type\":\"scatter3d\"},{\"hovertemplate\":\"geohash2=sp7re0_71<br>t=%{x}<br>c1=%{y}<br>c2=%{z}<extra></extra>\",\"legendgroup\":\"sp7re0_71\",\"line\":{\"color\":\"#EF553B\",\"dash\":\"solid\"},\"marker\":{\"symbol\":\"circle\"},\"mode\":\"lines\",\"name\":\"sp7re0_71\",\"scene\":\"scene\",\"showlegend\":true,\"x\":[7080,7110,7140],\"y\":[42.10317,42.101785,42.100115],\"z\":[4.712668,4.711881,4.710006],\"type\":\"scatter3d\"},{\"hovertemplate\":\"geohash2=sp7r7p_72<br>t=%{x}<br>c1=%{y}<br>c2=%{z}<extra></extra>\",\"legendgroup\":\"sp7r7p_72\",\"line\":{\"color\":\"#00cc96\",\"dash\":\"solid\"},\"marker\":{\"symbol\":\"circle\"},\"mode\":\"lines\",\"name\":\"sp7r7p_72\",\"scene\":\"scene\",\"showlegend\":true,\"x\":[7170,7200,8250,8280],\"y\":[42.099605,42.099571,42.09870599999999,42.09822],\"z\":[4.709627,4.709425,4.710106,4.71215],\"type\":\"scatter3d\"},{\"hovertemplate\":\"geohash2=sp7r7r_73<br>t=%{x}<br>c1=%{y}<br>c2=%{z}<extra></extra>\",\"legendgroup\":\"sp7r7r_73\",\"line\":{\"color\":\"#ab63fa\",\"dash\":\"solid\"},\"marker\":{\"symbol\":\"circle\"},\"mode\":\"lines\",\"name\":\"sp7r7r_73\",\"scene\":\"scene\",\"showlegend\":true,\"x\":[8310,8340],\"y\":[42.096262,42.09470400000001],\"z\":[4.714083,4.715517],\"type\":\"scatter3d\"},{\"hovertemplate\":\"geohash2=sp7r7q_74<br>t=%{x}<br>c1=%{y}<br>c2=%{z}<extra></extra>\",\"legendgroup\":\"sp7r7q_74\",\"line\":{\"color\":\"#FFA15A\",\"dash\":\"solid\"},\"marker\":{\"symbol\":\"circle\"},\"mode\":\"lines\",\"name\":\"sp7r7q_74\",\"scene\":\"scene\",\"showlegend\":true,\"x\":[8370,8400,8430],\"y\":[42.092755,42.091328,42.089345],\"z\":[4.71731,4.718656,4.720475],\"type\":\"scatter3d\"},{\"hovertemplate\":\"geohash2=sp7r7m_75<br>t=%{x}<br>c1=%{y}<br>c2=%{z}<extra></extra>\",\"legendgroup\":\"sp7r7m_75\",\"line\":{\"color\":\"#19d3f3\",\"dash\":\"solid\"},\"marker\":{\"symbol\":\"circle\"},\"mode\":\"lines\",\"name\":\"sp7r7m_75\",\"scene\":\"scene\",\"showlegend\":true,\"x\":[8460,8490,8520,8550,8580,8610,8640,8670,8730,8760,8790,8820,8850],\"y\":[42.087202999999995,42.085642,42.085556,42.086403,42.086655,42.086439000000006,42.085864,42.085809000000005,42.085606,42.085422,42.085226,42.084532,42.083752000000004],\"z\":[4.7206079999999995,4.719172,4.718197,4.716874,4.715067,4.713724,4.71373,4.713608,4.7147570000000005,4.716565,4.71839,4.719405999999999,4.7199040000000005],\"type\":\"scatter3d\"},{\"hovertemplate\":\"geohash2=sp7r7k_76<br>t=%{x}<br>c1=%{y}<br>c2=%{z}<extra></extra>\",\"legendgroup\":\"sp7r7k_76\",\"line\":{\"color\":\"#FF6692\",\"dash\":\"solid\"},\"marker\":{\"symbol\":\"circle\"},\"mode\":\"lines\",\"name\":\"sp7r7k_76\",\"scene\":\"scene\",\"showlegend\":true,\"x\":[8880,8910,8940,8970],\"y\":[42.082229000000005,42.081596,42.081215,42.080325],\"z\":[4.720925,4.721388,4.722878,4.723121],\"type\":\"scatter3d\"},{\"hovertemplate\":\"geohash2=sp7r7s_77<br>t=%{x}<br>c1=%{y}<br>c2=%{z}<extra></extra>\",\"legendgroup\":\"sp7r7s_77\",\"line\":{\"color\":\"#B6E880\",\"dash\":\"solid\"},\"marker\":{\"symbol\":\"circle\"},\"mode\":\"lines\",\"name\":\"sp7r7s_77\",\"scene\":\"scene\",\"showlegend\":true,\"x\":[9000,9030,9060,9300,9330],\"y\":[42.080067,42.079288,42.079131,42.078720999999994,42.07809099999999],\"z\":[4.724262,4.72426,4.724462,4.72446,4.724204],\"type\":\"scatter3d\"},{\"hovertemplate\":\"geohash2=sp7r7e_78<br>t=%{x}<br>c1=%{y}<br>c2=%{z}<extra></extra>\",\"legendgroup\":\"sp7r7e_78\",\"line\":{\"color\":\"#FF97FF\",\"dash\":\"solid\"},\"marker\":{\"symbol\":\"circle\"},\"mode\":\"lines\",\"name\":\"sp7r7e_78\",\"scene\":\"scene\",\"showlegend\":true,\"x\":[9360,9390,9420,9450,9480],\"y\":[42.076665,42.076308,42.076142999999995,42.075697999999996,42.07477900000001],\"z\":[4.725428,4.7257240000000005,4.725846,4.7257929999999995,4.724772],\"type\":\"scatter3d\"},{\"hovertemplate\":\"geohash2=sp7r77_79<br>t=%{x}<br>c1=%{y}<br>c2=%{z}<extra></extra>\",\"legendgroup\":\"sp7r77_79\",\"line\":{\"color\":\"#FECB52\",\"dash\":\"solid\"},\"marker\":{\"symbol\":\"circle\"},\"mode\":\"lines\",\"name\":\"sp7r77_79\",\"scene\":\"scene\",\"showlegend\":true,\"x\":[9510,9540,9570,9990],\"y\":[42.076165,42.07641400000001,42.076502999999995,42.076815999999994],\"z\":[4.721766,4.720687,4.720582,4.719441],\"type\":\"scatter3d\"},{\"hovertemplate\":\"geohash2=sp7r7k_80<br>t=%{x}<br>c1=%{y}<br>c2=%{z}<extra></extra>\",\"legendgroup\":\"sp7r7k_80\",\"line\":{\"color\":\"#636efa\",\"dash\":\"solid\"},\"marker\":{\"symbol\":\"circle\"},\"mode\":\"lines\",\"name\":\"sp7r7k_80\",\"scene\":\"scene\",\"showlegend\":true,\"x\":[10020,10050,10080,10110,10170,10200],\"y\":[42.078126,42.078569,42.078565999999995,42.078689000000004,42.078320999999995,42.07820099999999],\"z\":[4.718788,4.719317,4.719983,4.719931,4.719843,4.7190959999999995],\"type\":\"scatter3d\"},{\"hovertemplate\":\"geohash2=sp7r77_81<br>t=%{x}<br>c1=%{y}<br>c2=%{z}<extra></extra>\",\"legendgroup\":\"sp7r77_81\",\"line\":{\"color\":\"#EF553B\",\"dash\":\"solid\"},\"marker\":{\"symbol\":\"circle\"},\"mode\":\"lines\",\"name\":\"sp7r77_81\",\"scene\":\"scene\",\"showlegend\":true,\"x\":[10230,10260,10290,10320,10350,10380,10410,10920,10950,10980,11010,11160],\"y\":[42.077279000000004,42.076294000000004,42.074906,42.074909000000005,42.075522,42.074627,42.074349000000005,42.074083,42.074127999999995,42.07432,42.074265999999994,42.074322],\"z\":[4.719093,4.718713,4.718392,4.717785999999999,4.7166559999999995,4.715933,4.715599,4.715335,4.714615,4.714045,4.713983,4.713693],\"type\":\"scatter3d\"},{\"hovertemplate\":\"geohash2=sp7r75_82<br>t=%{x}<br>c1=%{y}<br>c2=%{z}<extra></extra>\",\"legendgroup\":\"sp7r75_82\",\"line\":{\"color\":\"#00cc96\",\"dash\":\"solid\"},\"marker\":{\"symbol\":\"circle\"},\"mode\":\"lines\",\"name\":\"sp7r75_82\",\"scene\":\"scene\",\"showlegend\":true,\"x\":[11190,11220,11250,11340,11370,11400,11430,11460,11580],\"y\":[42.074814,42.075095999999995,42.075172,42.075531,42.07499,42.074158,42.073589000000005,42.073445,42.072724],\"z\":[4.712141,4.711431,4.711369,4.710431,4.710069,4.7096979999999995,4.710205,4.7102129999999995,4.710738],\"type\":\"scatter3d\"},{\"hovertemplate\":\"geohash2=sp7r74_83<br>t=%{x}<br>c1=%{y}<br>c2=%{z}<extra></extra>\",\"legendgroup\":\"sp7r74_83\",\"line\":{\"color\":\"#ab63fa\",\"dash\":\"solid\"},\"marker\":{\"symbol\":\"circle\"},\"mode\":\"lines\",\"name\":\"sp7r74_83\",\"scene\":\"scene\",\"showlegend\":true,\"x\":[11610,11640,11670,11700,11730,11760,11790,11820,11850,11880],\"y\":[42.071510999999994,42.07103,42.070665,42.07006,42.069369,42.069796,42.069801,42.069802,42.069590999999996,42.069570999999996],\"z\":[4.711435,4.709607,4.708877,4.707418,4.7056070000000005,4.704485,4.702915,4.702809,4.702467,4.702397],\"type\":\"scatter3d\"},{\"hovertemplate\":\"geohash2=sp7r6f_84<br>t=%{x}<br>c1=%{y}<br>c2=%{z}<extra></extra>\",\"legendgroup\":\"sp7r6f_84\",\"line\":{\"color\":\"#FFA15A\",\"dash\":\"solid\"},\"marker\":{\"symbol\":\"circle\"},\"mode\":\"lines\",\"name\":\"sp7r6f_84\",\"scene\":\"scene\",\"showlegend\":true,\"x\":[11970],\"y\":[42.06864],\"z\":[4.70213],\"type\":\"scatter3d\"},{\"hovertemplate\":\"geohash2=sp7r74_85<br>t=%{x}<br>c1=%{y}<br>c2=%{z}<extra></extra>\",\"legendgroup\":\"sp7r74_85\",\"line\":{\"color\":\"#19d3f3\",\"dash\":\"solid\"},\"marker\":{\"symbol\":\"circle\"},\"mode\":\"lines\",\"name\":\"sp7r74_85\",\"scene\":\"scene\",\"showlegend\":true,\"x\":[12000,12030,12060],\"y\":[42.06864,42.069418,42.069418],\"z\":[4.7021820000000005,4.702395999999999,4.702413],\"type\":\"scatter3d\"},{\"hovertemplate\":\"geohash2=sp7r6f_86<br>t=%{x}<br>c1=%{y}<br>c2=%{z}<extra></extra>\",\"legendgroup\":\"sp7r6f_86\",\"line\":{\"color\":\"#FF6692\",\"dash\":\"solid\"},\"marker\":{\"symbol\":\"circle\"},\"mode\":\"lines\",\"name\":\"sp7r6f_86\",\"scene\":\"scene\",\"showlegend\":true,\"x\":[12090,12120,12150,12180],\"y\":[42.069900999999994,42.069824000000004,42.06938099999999,42.068413],\"z\":[4.7010179999999995,4.697788,4.695206,4.692693],\"type\":\"scatter3d\"},{\"hovertemplate\":\"geohash2=sp7r6d_87<br>t=%{x}<br>c1=%{y}<br>c2=%{z}<extra></extra>\",\"legendgroup\":\"sp7r6d_87\",\"line\":{\"color\":\"#B6E880\",\"dash\":\"solid\"},\"marker\":{\"symbol\":\"circle\"},\"mode\":\"lines\",\"name\":\"sp7r6d_87\",\"scene\":\"scene\",\"showlegend\":true,\"x\":[12210],\"y\":[42.068186],\"z\":[4.690997],\"type\":\"scatter3d\"},{\"hovertemplate\":\"geohash2=sp7r6f_88<br>t=%{x}<br>c1=%{y}<br>c2=%{z}<extra></extra>\",\"legendgroup\":\"sp7r6f_88\",\"line\":{\"color\":\"#FF97FF\",\"dash\":\"solid\"},\"marker\":{\"symbol\":\"circle\"},\"mode\":\"lines\",\"name\":\"sp7r6f_88\",\"scene\":\"scene\",\"showlegend\":true,\"x\":[12240,12270,12300,12330],\"y\":[42.069095,42.07030400000001,42.071179,42.072075],\"z\":[4.691342,4.691794,4.692157,4.692502],\"type\":\"scatter3d\"},{\"hovertemplate\":\"geohash2=sp7r6g_89<br>t=%{x}<br>c1=%{y}<br>c2=%{z}<extra></extra>\",\"legendgroup\":\"sp7r6g_89\",\"line\":{\"color\":\"#FECB52\",\"dash\":\"solid\"},\"marker\":{\"symbol\":\"circle\"},\"mode\":\"lines\",\"name\":\"sp7r6g_89\",\"scene\":\"scene\",\"showlegend\":true,\"x\":[12360,12540,12570],\"y\":[42.072239,42.072916,42.074253],\"z\":[4.692565,4.69269,4.691888],\"type\":\"scatter3d\"},{\"hovertemplate\":\"geohash2=sp7r6e_90<br>t=%{x}<br>c1=%{y}<br>c2=%{z}<extra></extra>\",\"legendgroup\":\"sp7r6e_90\",\"line\":{\"color\":\"#636efa\",\"dash\":\"solid\"},\"marker\":{\"symbol\":\"circle\"},\"mode\":\"lines\",\"name\":\"sp7r6e_90\",\"scene\":\"scene\",\"showlegend\":true,\"x\":[12600,12630,12660,12690,13050],\"y\":[42.07459,42.073757,42.073435999999994,42.073435999999994,42.072990999999995],\"z\":[4.691072,4.690727,4.690577,4.690568,4.690865],\"type\":\"scatter3d\"},{\"hovertemplate\":\"geohash2=sp7r6g_91<br>t=%{x}<br>c1=%{y}<br>c2=%{z}<extra></extra>\",\"legendgroup\":\"sp7r6g_91\",\"line\":{\"color\":\"#EF553B\",\"dash\":\"solid\"},\"marker\":{\"symbol\":\"circle\"},\"mode\":\"lines\",\"name\":\"sp7r6g_91\",\"scene\":\"scene\",\"showlegend\":true,\"x\":[13080,13110,13140,13170,13200,13230,13260],\"y\":[42.072687,42.072793,42.07345,42.074829,42.075807999999995,42.07646,42.07717],\"z\":[4.6918109999999995,4.692795,4.692551,4.691669,4.691364,4.692333,4.692598],\"type\":\"scatter3d\"},{\"hovertemplate\":\"geohash2=sp7r6u_92<br>t=%{x}<br>c1=%{y}<br>c2=%{z}<extra></extra>\",\"legendgroup\":\"sp7r6u_92\",\"line\":{\"color\":\"#00cc96\",\"dash\":\"solid\"},\"marker\":{\"symbol\":\"circle\"},\"mode\":\"lines\",\"name\":\"sp7r6u_92\",\"scene\":\"scene\",\"showlegend\":true,\"x\":[13290,13320],\"y\":[42.078015,42.078762000000005],\"z\":[4.6918820000000006,4.691332],\"type\":\"scatter3d\"},{\"hovertemplate\":\"geohash2=sp7r6s_93<br>t=%{x}<br>c1=%{y}<br>c2=%{z}<extra></extra>\",\"legendgroup\":\"sp7r6s_93\",\"line\":{\"color\":\"#ab63fa\",\"dash\":\"solid\"},\"marker\":{\"symbol\":\"circle\"},\"mode\":\"lines\",\"name\":\"sp7r6s_93\",\"scene\":\"scene\",\"showlegend\":true,\"x\":[13350,13380],\"y\":[42.079332,42.078705],\"z\":[4.6905790000000005,4.689629],\"type\":\"scatter3d\"},{\"hovertemplate\":\"geohash2=sp7r6e_94<br>t=%{x}<br>c1=%{y}<br>c2=%{z}<extra></extra>\",\"legendgroup\":\"sp7r6e_94\",\"line\":{\"color\":\"#FFA15A\",\"dash\":\"solid\"},\"marker\":{\"symbol\":\"circle\"},\"mode\":\"lines\",\"name\":\"sp7r6e_94\",\"scene\":\"scene\",\"showlegend\":true,\"x\":[13410],\"y\":[42.077472],\"z\":[4.689932],\"type\":\"scatter3d\"},{\"hovertemplate\":\"geohash2=sp7r6g_95<br>t=%{x}<br>c1=%{y}<br>c2=%{z}<extra></extra>\",\"legendgroup\":\"sp7r6g_95\",\"line\":{\"color\":\"#19d3f3\",\"dash\":\"solid\"},\"marker\":{\"symbol\":\"circle\"},\"mode\":\"lines\",\"name\":\"sp7r6g_95\",\"scene\":\"scene\",\"showlegend\":true,\"x\":[13440,13470],\"y\":[42.075258,42.07350099999999],\"z\":[4.69132,4.692437],\"type\":\"scatter3d\"},{\"hovertemplate\":\"geohash2=sp7r6f_96<br>t=%{x}<br>c1=%{y}<br>c2=%{z}<extra></extra>\",\"legendgroup\":\"sp7r6f_96\",\"line\":{\"color\":\"#FF6692\",\"dash\":\"solid\"},\"marker\":{\"symbol\":\"circle\"},\"mode\":\"lines\",\"name\":\"sp7r6f_96\",\"scene\":\"scene\",\"showlegend\":true,\"x\":[13500,13530,13560,13590,13620],\"y\":[42.070689,42.069810999999994,42.069209,42.069725999999996,42.069793],\"z\":[4.694113,4.694443,4.6947920000000005,4.699122,4.701843],\"type\":\"scatter3d\"},{\"hovertemplate\":\"geohash2=sp7r74_97<br>t=%{x}<br>c1=%{y}<br>c2=%{z}<extra></extra>\",\"legendgroup\":\"sp7r74_97\",\"line\":{\"color\":\"#B6E880\",\"dash\":\"solid\"},\"marker\":{\"symbol\":\"circle\"},\"mode\":\"lines\",\"name\":\"sp7r74_97\",\"scene\":\"scene\",\"showlegend\":true,\"x\":[13650,13680,13710,13770,13800,13830,13860],\"y\":[42.069776,42.06913599999999,42.069124,42.069871,42.070719000000004,42.071126,42.070995],\"z\":[4.702985,4.7054409999999995,4.705457,4.707014,4.709028,4.710082,4.712382],\"type\":\"scatter3d\"},{\"hovertemplate\":\"geohash2=sp7r76_98<br>t=%{x}<br>c1=%{y}<br>c2=%{z}<extra></extra>\",\"legendgroup\":\"sp7r76_98\",\"line\":{\"color\":\"#FF97FF\",\"dash\":\"solid\"},\"marker\":{\"symbol\":\"circle\"},\"mode\":\"lines\",\"name\":\"sp7r76_98\",\"scene\":\"scene\",\"showlegend\":true,\"x\":[13890,13920],\"y\":[42.069099,42.066793],\"z\":[4.714799,4.71717],\"type\":\"scatter3d\"},{\"hovertemplate\":\"geohash2=sp7r73_99<br>t=%{x}<br>c1=%{y}<br>c2=%{z}<extra></extra>\",\"legendgroup\":\"sp7r73_99\",\"line\":{\"color\":\"#FECB52\",\"dash\":\"solid\"},\"marker\":{\"symbol\":\"circle\"},\"mode\":\"lines\",\"name\":\"sp7r73_99\",\"scene\":\"scene\",\"showlegend\":true,\"x\":[13950,13980,14010],\"y\":[42.065255,42.06343,42.061478],\"z\":[4.718605,4.72032,4.722885],\"type\":\"scatter3d\"},{\"hovertemplate\":\"geohash2=sp7r72_100<br>t=%{x}<br>c1=%{y}<br>c2=%{z}<extra></extra>\",\"legendgroup\":\"sp7r72_100\",\"line\":{\"color\":\"#636efa\",\"dash\":\"solid\"},\"marker\":{\"symbol\":\"circle\"},\"mode\":\"lines\",\"name\":\"sp7r72_100\",\"scene\":\"scene\",\"showlegend\":true,\"x\":[14040,14070],\"y\":[42.060621,42.0606],\"z\":[4.72341,4.72341],\"type\":\"scatter3d\"},{\"hovertemplate\":\"geohash2=sp7r78_101<br>t=%{x}<br>c1=%{y}<br>c2=%{z}<extra></extra>\",\"legendgroup\":\"sp7r78_101\",\"line\":{\"color\":\"#EF553B\",\"dash\":\"solid\"},\"marker\":{\"symbol\":\"circle\"},\"mode\":\"lines\",\"name\":\"sp7r78_101\",\"scene\":\"scene\",\"showlegend\":true,\"x\":[14100,14130,14160,14190,14220],\"y\":[42.059875,42.058635,42.057089000000005,42.058494,42.060375],\"z\":[4.725048,4.7275540000000005,4.729174,4.730494,4.732493],\"type\":\"scatter3d\"},{\"hovertemplate\":\"geohash2=sp7r7b_102<br>t=%{x}<br>c1=%{y}<br>c2=%{z}<extra></extra>\",\"legendgroup\":\"sp7r7b_102\",\"line\":{\"color\":\"#00cc96\",\"dash\":\"solid\"},\"marker\":{\"symbol\":\"circle\"},\"mode\":\"lines\",\"name\":\"sp7r7b_102\",\"scene\":\"scene\",\"showlegend\":true,\"x\":[14250,14280,14310,14340,14370,14400,14430],\"y\":[42.060354000000004,42.059515999999995,42.058910999999995,42.058977999999996,42.059407,42.059793,42.059667999999995],\"z\":[4.7351090000000005,4.73659,4.737834,4.737966,4.738837,4.739734,4.740594000000001],\"type\":\"scatter3d\"},{\"hovertemplate\":\"geohash2=sp7r7c_103<br>t=%{x}<br>c1=%{y}<br>c2=%{z}<extra></extra>\",\"legendgroup\":\"sp7r7c_103\",\"line\":{\"color\":\"#ab63fa\",\"dash\":\"solid\"},\"marker\":{\"symbol\":\"circle\"},\"mode\":\"lines\",\"name\":\"sp7r7c_103\",\"scene\":\"scene\",\"showlegend\":true,\"x\":[14460,14490,14520,14550],\"y\":[42.062253,42.065318,42.065449,42.065449],\"z\":[4.74083,4.740856,4.740909,4.740936],\"type\":\"scatter3d\"},{\"hovertemplate\":\"geohash2=sp7r7f_104<br>t=%{x}<br>c1=%{y}<br>c2=%{z}<extra></extra>\",\"legendgroup\":\"sp7r7f_104\",\"line\":{\"color\":\"#FFA15A\",\"dash\":\"solid\"},\"marker\":{\"symbol\":\"circle\"},\"mode\":\"lines\",\"name\":\"sp7r7f_104\",\"scene\":\"scene\",\"showlegend\":true,\"x\":[14610,14640,14670,14700,14730],\"y\":[42.067311,42.06933,42.07077,42.0716,42.07205],\"z\":[4.740915,4.741,4.742084,4.743316,4.744116],\"type\":\"scatter3d\"},{\"hovertemplate\":\"geohash2=sp7rk4_105<br>t=%{x}<br>c1=%{y}<br>c2=%{z}<extra></extra>\",\"legendgroup\":\"sp7rk4_105\",\"line\":{\"color\":\"#19d3f3\",\"dash\":\"solid\"},\"marker\":{\"symbol\":\"circle\"},\"mode\":\"lines\",\"name\":\"sp7rk4_105\",\"scene\":\"scene\",\"showlegend\":true,\"x\":[14760,14790],\"y\":[42.070799,42.071563],\"z\":[4.746096,4.746853],\"type\":\"scatter3d\"},{\"hovertemplate\":\"geohash2=sp7rk5_106<br>t=%{x}<br>c1=%{y}<br>c2=%{z}<extra></extra>\",\"legendgroup\":\"sp7rk5_106\",\"line\":{\"color\":\"#FF6692\",\"dash\":\"solid\"},\"marker\":{\"symbol\":\"circle\"},\"mode\":\"lines\",\"name\":\"sp7rk5_106\",\"scene\":\"scene\",\"showlegend\":true,\"x\":[14820,14850,14880,14910,15150,15180,15210,15240,16290,16320,16350,16380,16410],\"y\":[42.072472000000005,42.074035,42.07428,42.074335,42.074368,42.073474000000004,42.073530999999996,42.073543,42.073987,42.073221,42.07269,42.072962000000004,42.072928],\"z\":[4.747365,4.748187,4.748355,4.7484340000000005,4.748715,4.75024,4.749818,4.749853,4.750057,4.75016,4.749236,4.747613,4.747604],\"type\":\"scatter3d\"},{\"hovertemplate\":\"geohash2=sp7r7g_107<br>t=%{x}<br>c1=%{y}<br>c2=%{z}<extra></extra>\",\"legendgroup\":\"sp7r7g_107\",\"line\":{\"color\":\"#B6E880\",\"dash\":\"solid\"},\"marker\":{\"symbol\":\"circle\"},\"mode\":\"lines\",\"name\":\"sp7r7g_107\",\"scene\":\"scene\",\"showlegend\":true,\"x\":[16470,16500,16530],\"y\":[42.073857000000004,42.075903,42.07659400000001],\"z\":[4.745694,4.74377,4.743201],\"type\":\"scatter3d\"},{\"hovertemplate\":\"geohash2=sp7r7u_108<br>t=%{x}<br>c1=%{y}<br>c2=%{z}<extra></extra>\",\"legendgroup\":\"sp7r7u_108\",\"line\":{\"color\":\"#FF97FF\",\"dash\":\"solid\"},\"marker\":{\"symbol\":\"circle\"},\"mode\":\"lines\",\"name\":\"sp7r7u_108\",\"scene\":\"scene\",\"showlegend\":true,\"x\":[16560,16590],\"y\":[42.078691,42.080773],\"z\":[4.742601,4.740018],\"type\":\"scatter3d\"},{\"hovertemplate\":\"geohash2=sp7r7v_109<br>t=%{x}<br>c1=%{y}<br>c2=%{z}<extra></extra>\",\"legendgroup\":\"sp7r7v_109\",\"line\":{\"color\":\"#FECB52\",\"dash\":\"solid\"},\"marker\":{\"symbol\":\"circle\"},\"mode\":\"lines\",\"name\":\"sp7r7v_109\",\"scene\":\"scene\",\"showlegend\":true,\"x\":[16620,16650],\"y\":[42.083345,42.086379],\"z\":[4.737955,4.73685],\"type\":\"scatter3d\"},{\"hovertemplate\":\"geohash2=sp7r7y_110<br>t=%{x}<br>c1=%{y}<br>c2=%{z}<extra></extra>\",\"legendgroup\":\"sp7r7y_110\",\"line\":{\"color\":\"#636efa\",\"dash\":\"solid\"},\"marker\":{\"symbol\":\"circle\"},\"mode\":\"lines\",\"name\":\"sp7r7y_110\",\"scene\":\"scene\",\"showlegend\":true,\"x\":[16680,16710,16740,16770,16800],\"y\":[42.089098,42.089405,42.090022000000005,42.0907,42.092123],\"z\":[4.736447,4.73694,4.738487,4.738419,4.738186],\"type\":\"scatter3d\"},{\"hovertemplate\":\"geohash2=sp7r7z_111<br>t=%{x}<br>c1=%{y}<br>c2=%{z}<extra></extra>\",\"legendgroup\":\"sp7r7z_111\",\"line\":{\"color\":\"#EF553B\",\"dash\":\"solid\"},\"marker\":{\"symbol\":\"circle\"},\"mode\":\"lines\",\"name\":\"sp7r7z_111\",\"scene\":\"scene\",\"showlegend\":true,\"x\":[16830,16860,16890],\"y\":[42.094622,42.09606900000001,42.097549],\"z\":[4.737377,4.7364690000000005,4.735518],\"type\":\"scatter3d\"},{\"hovertemplate\":\"geohash2=sp7r7x_112<br>t=%{x}<br>c1=%{y}<br>c2=%{z}<extra></extra>\",\"legendgroup\":\"sp7r7x_112\",\"line\":{\"color\":\"#00cc96\",\"dash\":\"solid\"},\"marker\":{\"symbol\":\"circle\"},\"mode\":\"lines\",\"name\":\"sp7r7x_112\",\"scene\":\"scene\",\"showlegend\":true,\"x\":[16920],\"y\":[42.099017],\"z\":[4.734311],\"type\":\"scatter3d\"},{\"hovertemplate\":\"geohash2=sp7re8_113<br>t=%{x}<br>c1=%{y}<br>c2=%{z}<extra></extra>\",\"legendgroup\":\"sp7re8_113\",\"line\":{\"color\":\"#ab63fa\",\"dash\":\"solid\"},\"marker\":{\"symbol\":\"circle\"},\"mode\":\"lines\",\"name\":\"sp7re8_113\",\"scene\":\"scene\",\"showlegend\":true,\"x\":[16950,16980,17010],\"y\":[42.101501,42.102893,42.10501],\"z\":[4.7318620000000005,4.730936,4.731996],\"type\":\"scatter3d\"},{\"hovertemplate\":\"geohash2=sp7re9_114<br>t=%{x}<br>c1=%{y}<br>c2=%{z}<extra></extra>\",\"legendgroup\":\"sp7re9_114\",\"line\":{\"color\":\"#FFA15A\",\"dash\":\"solid\"},\"marker\":{\"symbol\":\"circle\"},\"mode\":\"lines\",\"name\":\"sp7re9_114\",\"scene\":\"scene\",\"showlegend\":true,\"x\":[17040,17070,17640],\"y\":[42.105889000000005,42.105978,42.105282],\"z\":[4.730903,4.7308509999999995,4.730226],\"type\":\"scatter3d\"},{\"hovertemplate\":\"geohash2=sp7re8_115<br>t=%{x}<br>c1=%{y}<br>c2=%{z}<extra></extra>\",\"legendgroup\":\"sp7re8_115\",\"line\":{\"color\":\"#19d3f3\",\"dash\":\"solid\"},\"marker\":{\"symbol\":\"circle\"},\"mode\":\"lines\",\"name\":\"sp7re8_115\",\"scene\":\"scene\",\"showlegend\":true,\"x\":[17670,17700,17730,17760,17790,17850,17880,17910,17940,17970,18000],\"y\":[42.104163,42.103024000000005,42.102714000000006,42.102591,42.10257,42.102115999999995,42.100977,42.100979,42.101614000000005,42.102159,42.102661],\"z\":[4.729389,4.728236,4.728611,4.728698,4.728698,4.729064,4.727954,4.727077,4.726035,4.724992,4.724134],\"type\":\"scatter3d\"},{\"hovertemplate\":\"geohash2=sp7re2_116<br>t=%{x}<br>c1=%{y}<br>c2=%{z}<extra></extra>\",\"legendgroup\":\"sp7re2_116\",\"line\":{\"color\":\"#FF6692\",\"dash\":\"solid\"},\"marker\":{\"symbol\":\"circle\"},\"mode\":\"lines\",\"name\":\"sp7re2_116\",\"scene\":\"scene\",\"showlegend\":true,\"x\":[18030,18120,18150,18180,18210,18240],\"y\":[42.102695999999995,42.102798,42.103322999999996,42.104147000000005,42.104794000000005,42.105016],\"z\":[4.7240020000000005,4.723748,4.722434,4.721481,4.7204120000000005,4.719974000000001],\"type\":\"scatter3d\"},{\"hovertemplate\":\"geohash2=sp7re3_117<br>t=%{x}<br>c1=%{y}<br>c2=%{z}<extra></extra>\",\"legendgroup\":\"sp7re3_117\",\"line\":{\"color\":\"#B6E880\",\"dash\":\"solid\"},\"marker\":{\"symbol\":\"circle\"},\"mode\":\"lines\",\"name\":\"sp7re3_117\",\"scene\":\"scene\",\"showlegend\":true,\"x\":[18270,19080,19110,19140,19170,19200,19230,19260,19290,19320,19350,19380,19410,19440,19470,19500],\"y\":[42.105173,42.105518,42.10611,42.107039,42.10807,42.108965999999995,42.109995999999995,42.110028,42.108731,42.108413,42.109080999999996,42.108818,42.108807999999996,42.108032,42.107323,42.106128],\"z\":[4.719783,4.719302,4.718286,4.718711,4.719259,4.719744,4.720353,4.720967,4.7202079999999995,4.719365,4.718244,4.717261,4.716314000000001,4.715478,4.714983,4.714243],\"type\":\"scatter3d\"},{\"hovertemplate\":\"geohash2=sp7re2_118<br>t=%{x}<br>c1=%{y}<br>c2=%{z}<extra></extra>\",\"legendgroup\":\"sp7re2_118\",\"line\":{\"color\":\"#FF97FF\",\"dash\":\"solid\"},\"marker\":{\"symbol\":\"circle\"},\"mode\":\"lines\",\"name\":\"sp7re2_118\",\"scene\":\"scene\",\"showlegend\":true,\"x\":[19530],\"y\":[42.104455],\"z\":[4.713246],\"type\":\"scatter3d\"},{\"hovertemplate\":\"geohash2=sp7re0_119<br>t=%{x}<br>c1=%{y}<br>c2=%{z}<extra></extra>\",\"legendgroup\":\"sp7re0_119\",\"line\":{\"color\":\"#FECB52\",\"dash\":\"solid\"},\"marker\":{\"symbol\":\"circle\"},\"mode\":\"lines\",\"name\":\"sp7re0_119\",\"scene\":\"scene\",\"showlegend\":true,\"x\":[19560,19590,19620],\"y\":[42.102727,42.10098,42.099994],\"z\":[4.712249,4.710839,4.710844],\"type\":\"scatter3d\"},{\"hovertemplate\":\"geohash2=sp7r7p_120<br>t=%{x}<br>c1=%{y}<br>c2=%{z}<extra></extra>\",\"legendgroup\":\"sp7r7p_120\",\"line\":{\"color\":\"#636efa\",\"dash\":\"solid\"},\"marker\":{\"symbol\":\"circle\"},\"mode\":\"lines\",\"name\":\"sp7r7p_120\",\"scene\":\"scene\",\"showlegend\":true,\"x\":[19650,19680,19800,19830],\"y\":[42.09937,42.099281,42.09867,42.098067],\"z\":[4.711289,4.711315,4.711787,4.712415],\"type\":\"scatter3d\"},{\"hovertemplate\":\"geohash2=sp7r7r_121<br>t=%{x}<br>c1=%{y}<br>c2=%{z}<extra></extra>\",\"legendgroup\":\"sp7r7r_121\",\"line\":{\"color\":\"#EF553B\",\"dash\":\"solid\"},\"marker\":{\"symbol\":\"circle\"},\"mode\":\"lines\",\"name\":\"sp7r7r_121\",\"scene\":\"scene\",\"showlegend\":true,\"x\":[19860,19890],\"y\":[42.096453,42.094674000000005],\"z\":[4.7139359999999995,4.7156590000000005],\"type\":\"scatter3d\"},{\"hovertemplate\":\"geohash2=sp7r7q_122<br>t=%{x}<br>c1=%{y}<br>c2=%{z}<extra></extra>\",\"legendgroup\":\"sp7r7q_122\",\"line\":{\"color\":\"#00cc96\",\"dash\":\"solid\"},\"marker\":{\"symbol\":\"circle\"},\"mode\":\"lines\",\"name\":\"sp7r7q_122\",\"scene\":\"scene\",\"showlegend\":true,\"x\":[19920,19950,19980],\"y\":[42.092746,42.09123,42.090007],\"z\":[4.717398,4.718814,4.720126],\"type\":\"scatter3d\"},{\"hovertemplate\":\"geohash2=sp7r7m_123<br>t=%{x}<br>c1=%{y}<br>c2=%{z}<extra></extra>\",\"legendgroup\":\"sp7r7m_123\",\"line\":{\"color\":\"#ab63fa\",\"dash\":\"solid\"},\"marker\":{\"symbol\":\"circle\"},\"mode\":\"lines\",\"name\":\"sp7r7m_123\",\"scene\":\"scene\",\"showlegend\":true,\"x\":[20010,20040,20070,20100,20130,20160],\"y\":[42.088142999999995,42.086721,42.086417999999995,42.086259000000005,42.085989000000005,42.085965],\"z\":[4.720593,4.720501,4.721212,4.721817,4.7229659999999996,4.723678],\"type\":\"scatter3d\"},{\"hovertemplate\":\"geohash2=sp7r7t_124<br>t=%{x}<br>c1=%{y}<br>c2=%{z}<extra></extra>\",\"legendgroup\":\"sp7r7t_124\",\"line\":{\"color\":\"#FFA15A\",\"dash\":\"solid\"},\"marker\":{\"symbol\":\"circle\"},\"mode\":\"lines\",\"name\":\"sp7r7t_124\",\"scene\":\"scene\",\"showlegend\":true,\"x\":[20190,20220,20250,20280],\"y\":[42.085482999999996,42.085291,42.084311,42.083235],\"z\":[4.72487,4.725378,4.725927,4.726221],\"type\":\"scatter3d\"},{\"hovertemplate\":\"geohash2=sp7r7s_125<br>t=%{x}<br>c1=%{y}<br>c2=%{z}<extra></extra>\",\"legendgroup\":\"sp7r7s_125\",\"line\":{\"color\":\"#19d3f3\",\"dash\":\"solid\"},\"marker\":{\"symbol\":\"circle\"},\"mode\":\"lines\",\"name\":\"sp7r7s_125\",\"scene\":\"scene\",\"showlegend\":true,\"x\":[20310,20340,20370,20580,20610,20640,20670,20700,20730,20760,20790,20820,20850],\"y\":[42.08227,42.081790999999996,42.081922999999996,42.081635,42.081124,42.080771,42.079907999999996,42.079519000000005,42.079409000000005,42.07923099999999,42.078885,42.078752,42.078050999999995],\"z\":[4.726288,4.726419,4.7263329999999995,4.726332,4.726013,4.725065,4.725124,4.724973,4.724946,4.725051,4.725797,4.726446,4.727199000000001],\"type\":\"scatter3d\"},{\"hovertemplate\":\"geohash2=sp7r7e_126<br>t=%{x}<br>c1=%{y}<br>c2=%{z}<extra></extra>\",\"legendgroup\":\"sp7r7e_126\",\"line\":{\"color\":\"#FF6692\",\"dash\":\"solid\"},\"marker\":{\"symbol\":\"circle\"},\"mode\":\"lines\",\"name\":\"sp7r7e_126\",\"scene\":\"scene\",\"showlegend\":true,\"x\":[20880],\"y\":[42.07732],\"z\":[4.726923],\"type\":\"scatter3d\"}],                        {\"template\":{\"data\":{\"histogram2dcontour\":[{\"type\":\"histogram2dcontour\",\"colorbar\":{\"outlinewidth\":0,\"ticks\":\"\"},\"colorscale\":[[0.0,\"#0d0887\"],[0.1111111111111111,\"#46039f\"],[0.2222222222222222,\"#7201a8\"],[0.3333333333333333,\"#9c179e\"],[0.4444444444444444,\"#bd3786\"],[0.5555555555555556,\"#d8576b\"],[0.6666666666666666,\"#ed7953\"],[0.7777777777777778,\"#fb9f3a\"],[0.8888888888888888,\"#fdca26\"],[1.0,\"#f0f921\"]]}],\"choropleth\":[{\"type\":\"choropleth\",\"colorbar\":{\"outlinewidth\":0,\"ticks\":\"\"}}],\"histogram2d\":[{\"type\":\"histogram2d\",\"colorbar\":{\"outlinewidth\":0,\"ticks\":\"\"},\"colorscale\":[[0.0,\"#0d0887\"],[0.1111111111111111,\"#46039f\"],[0.2222222222222222,\"#7201a8\"],[0.3333333333333333,\"#9c179e\"],[0.4444444444444444,\"#bd3786\"],[0.5555555555555556,\"#d8576b\"],[0.6666666666666666,\"#ed7953\"],[0.7777777777777778,\"#fb9f3a\"],[0.8888888888888888,\"#fdca26\"],[1.0,\"#f0f921\"]]}],\"heatmap\":[{\"type\":\"heatmap\",\"colorbar\":{\"outlinewidth\":0,\"ticks\":\"\"},\"colorscale\":[[0.0,\"#0d0887\"],[0.1111111111111111,\"#46039f\"],[0.2222222222222222,\"#7201a8\"],[0.3333333333333333,\"#9c179e\"],[0.4444444444444444,\"#bd3786\"],[0.5555555555555556,\"#d8576b\"],[0.6666666666666666,\"#ed7953\"],[0.7777777777777778,\"#fb9f3a\"],[0.8888888888888888,\"#fdca26\"],[1.0,\"#f0f921\"]]}],\"heatmapgl\":[{\"type\":\"heatmapgl\",\"colorbar\":{\"outlinewidth\":0,\"ticks\":\"\"},\"colorscale\":[[0.0,\"#0d0887\"],[0.1111111111111111,\"#46039f\"],[0.2222222222222222,\"#7201a8\"],[0.3333333333333333,\"#9c179e\"],[0.4444444444444444,\"#bd3786\"],[0.5555555555555556,\"#d8576b\"],[0.6666666666666666,\"#ed7953\"],[0.7777777777777778,\"#fb9f3a\"],[0.8888888888888888,\"#fdca26\"],[1.0,\"#f0f921\"]]}],\"contourcarpet\":[{\"type\":\"contourcarpet\",\"colorbar\":{\"outlinewidth\":0,\"ticks\":\"\"}}],\"contour\":[{\"type\":\"contour\",\"colorbar\":{\"outlinewidth\":0,\"ticks\":\"\"},\"colorscale\":[[0.0,\"#0d0887\"],[0.1111111111111111,\"#46039f\"],[0.2222222222222222,\"#7201a8\"],[0.3333333333333333,\"#9c179e\"],[0.4444444444444444,\"#bd3786\"],[0.5555555555555556,\"#d8576b\"],[0.6666666666666666,\"#ed7953\"],[0.7777777777777778,\"#fb9f3a\"],[0.8888888888888888,\"#fdca26\"],[1.0,\"#f0f921\"]]}],\"surface\":[{\"type\":\"surface\",\"colorbar\":{\"outlinewidth\":0,\"ticks\":\"\"},\"colorscale\":[[0.0,\"#0d0887\"],[0.1111111111111111,\"#46039f\"],[0.2222222222222222,\"#7201a8\"],[0.3333333333333333,\"#9c179e\"],[0.4444444444444444,\"#bd3786\"],[0.5555555555555556,\"#d8576b\"],[0.6666666666666666,\"#ed7953\"],[0.7777777777777778,\"#fb9f3a\"],[0.8888888888888888,\"#fdca26\"],[1.0,\"#f0f921\"]]}],\"mesh3d\":[{\"type\":\"mesh3d\",\"colorbar\":{\"outlinewidth\":0,\"ticks\":\"\"}}],\"scatter\":[{\"fillpattern\":{\"fillmode\":\"overlay\",\"size\":10,\"solidity\":0.2},\"type\":\"scatter\"}],\"parcoords\":[{\"type\":\"parcoords\",\"line\":{\"colorbar\":{\"outlinewidth\":0,\"ticks\":\"\"}}}],\"scatterpolargl\":[{\"type\":\"scatterpolargl\",\"marker\":{\"colorbar\":{\"outlinewidth\":0,\"ticks\":\"\"}}}],\"bar\":[{\"error_x\":{\"color\":\"#2a3f5f\"},\"error_y\":{\"color\":\"#2a3f5f\"},\"marker\":{\"line\":{\"color\":\"#E5ECF6\",\"width\":0.5},\"pattern\":{\"fillmode\":\"overlay\",\"size\":10,\"solidity\":0.2}},\"type\":\"bar\"}],\"scattergeo\":[{\"type\":\"scattergeo\",\"marker\":{\"colorbar\":{\"outlinewidth\":0,\"ticks\":\"\"}}}],\"scatterpolar\":[{\"type\":\"scatterpolar\",\"marker\":{\"colorbar\":{\"outlinewidth\":0,\"ticks\":\"\"}}}],\"histogram\":[{\"marker\":{\"pattern\":{\"fillmode\":\"overlay\",\"size\":10,\"solidity\":0.2}},\"type\":\"histogram\"}],\"scattergl\":[{\"type\":\"scattergl\",\"marker\":{\"colorbar\":{\"outlinewidth\":0,\"ticks\":\"\"}}}],\"scatter3d\":[{\"type\":\"scatter3d\",\"line\":{\"colorbar\":{\"outlinewidth\":0,\"ticks\":\"\"}},\"marker\":{\"colorbar\":{\"outlinewidth\":0,\"ticks\":\"\"}}}],\"scattermapbox\":[{\"type\":\"scattermapbox\",\"marker\":{\"colorbar\":{\"outlinewidth\":0,\"ticks\":\"\"}}}],\"scatterternary\":[{\"type\":\"scatterternary\",\"marker\":{\"colorbar\":{\"outlinewidth\":0,\"ticks\":\"\"}}}],\"scattercarpet\":[{\"type\":\"scattercarpet\",\"marker\":{\"colorbar\":{\"outlinewidth\":0,\"ticks\":\"\"}}}],\"carpet\":[{\"aaxis\":{\"endlinecolor\":\"#2a3f5f\",\"gridcolor\":\"white\",\"linecolor\":\"white\",\"minorgridcolor\":\"white\",\"startlinecolor\":\"#2a3f5f\"},\"baxis\":{\"endlinecolor\":\"#2a3f5f\",\"gridcolor\":\"white\",\"linecolor\":\"white\",\"minorgridcolor\":\"white\",\"startlinecolor\":\"#2a3f5f\"},\"type\":\"carpet\"}],\"table\":[{\"cells\":{\"fill\":{\"color\":\"#EBF0F8\"},\"line\":{\"color\":\"white\"}},\"header\":{\"fill\":{\"color\":\"#C8D4E3\"},\"line\":{\"color\":\"white\"}},\"type\":\"table\"}],\"barpolar\":[{\"marker\":{\"line\":{\"color\":\"#E5ECF6\",\"width\":0.5},\"pattern\":{\"fillmode\":\"overlay\",\"size\":10,\"solidity\":0.2}},\"type\":\"barpolar\"}],\"pie\":[{\"automargin\":true,\"type\":\"pie\"}]},\"layout\":{\"autotypenumbers\":\"strict\",\"colorway\":[\"#636efa\",\"#EF553B\",\"#00cc96\",\"#ab63fa\",\"#FFA15A\",\"#19d3f3\",\"#FF6692\",\"#B6E880\",\"#FF97FF\",\"#FECB52\"],\"font\":{\"color\":\"#2a3f5f\"},\"hovermode\":\"closest\",\"hoverlabel\":{\"align\":\"left\"},\"paper_bgcolor\":\"white\",\"plot_bgcolor\":\"#E5ECF6\",\"polar\":{\"bgcolor\":\"#E5ECF6\",\"angularaxis\":{\"gridcolor\":\"white\",\"linecolor\":\"white\",\"ticks\":\"\"},\"radialaxis\":{\"gridcolor\":\"white\",\"linecolor\":\"white\",\"ticks\":\"\"}},\"ternary\":{\"bgcolor\":\"#E5ECF6\",\"aaxis\":{\"gridcolor\":\"white\",\"linecolor\":\"white\",\"ticks\":\"\"},\"baxis\":{\"gridcolor\":\"white\",\"linecolor\":\"white\",\"ticks\":\"\"},\"caxis\":{\"gridcolor\":\"white\",\"linecolor\":\"white\",\"ticks\":\"\"}},\"coloraxis\":{\"colorbar\":{\"outlinewidth\":0,\"ticks\":\"\"}},\"colorscale\":{\"sequential\":[[0.0,\"#0d0887\"],[0.1111111111111111,\"#46039f\"],[0.2222222222222222,\"#7201a8\"],[0.3333333333333333,\"#9c179e\"],[0.4444444444444444,\"#bd3786\"],[0.5555555555555556,\"#d8576b\"],[0.6666666666666666,\"#ed7953\"],[0.7777777777777778,\"#fb9f3a\"],[0.8888888888888888,\"#fdca26\"],[1.0,\"#f0f921\"]],\"sequentialminus\":[[0.0,\"#0d0887\"],[0.1111111111111111,\"#46039f\"],[0.2222222222222222,\"#7201a8\"],[0.3333333333333333,\"#9c179e\"],[0.4444444444444444,\"#bd3786\"],[0.5555555555555556,\"#d8576b\"],[0.6666666666666666,\"#ed7953\"],[0.7777777777777778,\"#fb9f3a\"],[0.8888888888888888,\"#fdca26\"],[1.0,\"#f0f921\"]],\"diverging\":[[0,\"#8e0152\"],[0.1,\"#c51b7d\"],[0.2,\"#de77ae\"],[0.3,\"#f1b6da\"],[0.4,\"#fde0ef\"],[0.5,\"#f7f7f7\"],[0.6,\"#e6f5d0\"],[0.7,\"#b8e186\"],[0.8,\"#7fbc41\"],[0.9,\"#4d9221\"],[1,\"#276419\"]]},\"xaxis\":{\"gridcolor\":\"white\",\"linecolor\":\"white\",\"ticks\":\"\",\"title\":{\"standoff\":15},\"zerolinecolor\":\"white\",\"automargin\":true,\"zerolinewidth\":2},\"yaxis\":{\"gridcolor\":\"white\",\"linecolor\":\"white\",\"ticks\":\"\",\"title\":{\"standoff\":15},\"zerolinecolor\":\"white\",\"automargin\":true,\"zerolinewidth\":2},\"scene\":{\"xaxis\":{\"backgroundcolor\":\"#E5ECF6\",\"gridcolor\":\"white\",\"linecolor\":\"white\",\"showbackground\":true,\"ticks\":\"\",\"zerolinecolor\":\"white\",\"gridwidth\":2},\"yaxis\":{\"backgroundcolor\":\"#E5ECF6\",\"gridcolor\":\"white\",\"linecolor\":\"white\",\"showbackground\":true,\"ticks\":\"\",\"zerolinecolor\":\"white\",\"gridwidth\":2},\"zaxis\":{\"backgroundcolor\":\"#E5ECF6\",\"gridcolor\":\"white\",\"linecolor\":\"white\",\"showbackground\":true,\"ticks\":\"\",\"zerolinecolor\":\"white\",\"gridwidth\":2}},\"shapedefaults\":{\"line\":{\"color\":\"#2a3f5f\"}},\"annotationdefaults\":{\"arrowcolor\":\"#2a3f5f\",\"arrowhead\":0,\"arrowwidth\":1},\"geo\":{\"bgcolor\":\"white\",\"landcolor\":\"#E5ECF6\",\"subunitcolor\":\"white\",\"showland\":true,\"showlakes\":true,\"lakecolor\":\"white\"},\"title\":{\"x\":0.05},\"mapbox\":{\"style\":\"light\"}}},\"scene\":{\"domain\":{\"x\":[0.0,1.0],\"y\":[0.0,1.0]},\"xaxis\":{\"title\":{\"text\":\"t\"}},\"yaxis\":{\"title\":{\"text\":\"c1\"}},\"zaxis\":{\"title\":{\"text\":\"c2\"}}},\"legend\":{\"title\":{\"text\":\"geohash2\"},\"tracegroupgap\":0},\"margin\":{\"t\":60}},                        {\"responsive\": true}                    ).then(function(){\n",
       "                            \n",
       "var gd = document.getElementById('53a12306-537f-4499-8583-dfe4cba5c01d');\n",
       "var x = new MutationObserver(function (mutations, observer) {{\n",
       "        var display = window.getComputedStyle(gd).display;\n",
       "        if (!display || display === 'none') {{\n",
       "            console.log([gd, 'removed!']);\n",
       "            Plotly.purge(gd);\n",
       "            observer.disconnect();\n",
       "        }}\n",
       "}});\n",
       "\n",
       "// Listen for the removal of the full notebook cells\n",
       "var notebookContainer = gd.closest('#notebook-container');\n",
       "if (notebookContainer) {{\n",
       "    x.observe(notebookContainer, {childList: true});\n",
       "}}\n",
       "\n",
       "// Listen for the clearing of the current output cell\n",
       "var outputEl = gd.closest('.output');\n",
       "if (outputEl) {{\n",
       "    x.observe(outputEl, {childList: true});\n",
       "}}\n",
       "\n",
       "                        })                };                });            </script>        </div>"
      ]
     },
     "metadata": {},
     "output_type": "display_data"
    }
   ],
   "source": [
    "px.line_3d(df[df.tid == 1], x=\"t\", y=\"c1\", z=\"c2\", color=\"geohash2\")"
   ]
  },
  {
   "cell_type": "code",
   "execution_count": 67,
   "metadata": {
    "pycharm": {
     "name": "#%%\n"
    }
   },
   "outputs": [
    {
     "data": {
      "application/vnd.plotly.v1+json": {
       "config": {
        "plotlyServerURL": "https://plot.ly"
       },
       "data": [
        {
         "hovertemplate": "geohash2=spe2nd_30<br>t=%{x}<br>lat_norm=%{y}<br>lon_norm=%{z}<extra></extra>",
         "legendgroup": "spe2nd_30",
         "line": {
          "color": "#636efa",
          "dash": "solid"
         },
         "marker": {
          "symbol": "circle"
         },
         "mode": "lines",
         "name": "spe2nd_30",
         "scene": "scene",
         "showlegend": true,
         "type": "scatter3d",
         "x": [
          0,
          30,
          960,
          990,
          1020,
          1050,
          1080,
          1230,
          1260
         ],
         "y": [
          0.004819671874997766,
          0.00485367187499719,
          0.004764671874994519,
          0.003930671875004066,
          0.003477671875003807,
          0.003548671875002185,
          0.0035146718749956563,
          0.00318167187499796,
          0.0001656718750027153
         ],
         "z": [
          0.004550968750000273,
          0.004375968749999792,
          0.004726968750000005,
          0.004917968750000057,
          0.00449596874999969,
          0.0029359687500001286,
          0.0028039687499994415,
          0.0020679687499995936,
          0.0008789687499994869
         ]
        },
        {
         "hovertemplate": "geohash2=spe2n3_31<br>t=%{x}<br>lat_norm=%{y}<br>lon_norm=%{z}<extra></extra>",
         "legendgroup": "spe2n3_31",
         "line": {
          "color": "#EF553B",
          "dash": "solid"
         },
         "marker": {
          "symbol": "circle"
         },
         "mode": "lines",
         "name": "spe2n3_31",
         "scene": "scene",
         "showlegend": true,
         "type": "scatter3d",
         "x": [
          1290
         ],
         "y": [
          0.0017678359374997399
         ],
         "z": [
          0.010412296874999782
         ]
        },
        {
         "hovertemplate": "geohash2=spe2n2_32<br>t=%{x}<br>lat_norm=%{y}<br>lon_norm=%{z}<extra></extra>",
         "legendgroup": "spe2n2_32",
         "line": {
          "color": "#00cc96",
          "dash": "solid"
         },
         "marker": {
          "symbol": "circle"
         },
         "mode": "lines",
         "name": "spe2n2_32",
         "scene": "scene",
         "showlegend": true,
         "type": "scatter3d",
         "x": [
          1320
         ],
         "y": [
          0.003117000000003145
         ],
         "z": [
          0.008021296875000417
         ]
        },
        {
         "hovertemplate": "geohash2=sp7ryr_33<br>t=%{x}<br>lat_norm=%{y}<br>lon_norm=%{z}<extra></extra>",
         "legendgroup": "sp7ryr_33",
         "line": {
          "color": "#ab63fa",
          "dash": "solid"
         },
         "marker": {
          "symbol": "circle"
         },
         "mode": "lines",
         "name": "sp7ryr_33",
         "scene": "scene",
         "showlegend": true,
         "type": "scatter3d",
         "x": [
          1350,
          1380,
          1410
         ],
         "y": [
          0.005199164062496209,
          0.002952164062506313,
          0.00011616406249714828
         ],
         "z": [
          0.005253296874999869,
          0.002997296874999833,
          0.0006592968749998818
         ]
        },
        {
         "hovertemplate": "geohash2=sp7ryn_34<br>t=%{x}<br>lat_norm=%{y}<br>lon_norm=%{z}<extra></extra>",
         "legendgroup": "sp7ryn_34",
         "line": {
          "color": "#FFA15A",
          "dash": "solid"
         },
         "marker": {
          "symbol": "circle"
         },
         "mode": "lines",
         "name": "sp7ryn_34",
         "scene": "scene",
         "showlegend": true,
         "type": "scatter3d",
         "x": [
          1440
         ],
         "y": [
          0.0036063281250022783
         ],
         "z": [
          0.009800624999999563
         ]
        },
        {
         "hovertemplate": "geohash2=sp7ryj_35<br>t=%{x}<br>lat_norm=%{y}<br>lon_norm=%{z}<extra></extra>",
         "legendgroup": "sp7ryj_35",
         "line": {
          "color": "#19d3f3",
          "dash": "solid"
         },
         "marker": {
          "symbol": "circle"
         },
         "mode": "lines",
         "name": "sp7ryj_35",
         "scene": "scene",
         "showlegend": true,
         "type": "scatter3d",
         "x": [
          1470,
          1500,
          1530,
          1560
         ],
         "y": [
          0.005110492187498039,
          0.0015104921874993238,
          0.001234492187499825,
          0.00041249218750039063
         ],
         "z": [
          0.006741625000000084,
          0.003403624999999799,
          0.0018866250000000306,
          0.002112625000000534
         ]
        },
        {
         "hovertemplate": "geohash2=sp7ryh_36<br>t=%{x}<br>lat_norm=%{y}<br>lon_norm=%{z}<extra></extra>",
         "legendgroup": "sp7ryh_36",
         "line": {
          "color": "#FF6692",
          "dash": "solid"
         },
         "marker": {
          "symbol": "circle"
         },
         "mode": "lines",
         "name": "sp7ryh_36",
         "scene": "scene",
         "showlegend": true,
         "type": "scatter3d",
         "x": [
          1590
         ],
         "y": [
          0.005129656249998504
         ],
         "z": [
          0.00095362500000018
         ]
        },
        {
         "hovertemplate": "geohash2=sp7rvu_37<br>t=%{x}<br>lat_norm=%{y}<br>lon_norm=%{z}<extra></extra>",
         "legendgroup": "sp7rvu_37",
         "line": {
          "color": "#B6E880",
          "dash": "solid"
         },
         "marker": {
          "symbol": "circle"
         },
         "mode": "lines",
         "name": "sp7rvu_37",
         "scene": "scene",
         "showlegend": true,
         "type": "scatter3d",
         "x": [
          1620,
          1650
         ],
         "y": [
          0.002885656250001034,
          0.0003776562500021896
         ],
         "z": [
          0.007760953125000469,
          0.002775953125000008
         ]
        },
        {
         "hovertemplate": "geohash2=sp7rve_38<br>t=%{x}<br>lat_norm=%{y}<br>lon_norm=%{z}<extra></extra>",
         "legendgroup": "sp7rve_38",
         "line": {
          "color": "#FF97FF",
          "dash": "solid"
         },
         "marker": {
          "symbol": "circle"
         },
         "mode": "lines",
         "name": "sp7rve_38",
         "scene": "scene",
         "showlegend": true,
         "type": "scatter3d",
         "x": [
          1680
         ],
         "y": [
          0.003261820312495445
         ],
         "z": [
          0.008573281250000342
         ]
        },
        {
         "hovertemplate": "geohash2=sp7rvd_39<br>t=%{x}<br>lat_norm=%{y}<br>lon_norm=%{z}<extra></extra>",
         "legendgroup": "sp7rvd_39",
         "line": {
          "color": "#FECB52",
          "dash": "solid"
         },
         "marker": {
          "symbol": "circle"
         },
         "mode": "lines",
         "name": "sp7rvd_39",
         "scene": "scene",
         "showlegend": true,
         "type": "scatter3d",
         "x": [
          1710,
          1740
         ],
         "y": [
          0.004823984375001089,
          0.001120984374999523
         ],
         "z": [
          0.00465528124999981,
          0.0024452812499999865
         ]
        },
        {
         "hovertemplate": "geohash2=sp7rv3_40<br>t=%{x}<br>lat_norm=%{y}<br>lon_norm=%{z}<extra></extra>",
         "legendgroup": "sp7rv3_40",
         "line": {
          "color": "#636efa",
          "dash": "solid"
         },
         "marker": {
          "symbol": "circle"
         },
         "mode": "lines",
         "name": "sp7rv3_40",
         "scene": "scene",
         "showlegend": true,
         "type": "scatter3d",
         "x": [
          1770
         ],
         "y": [
          0.0019601484374973666
         ],
         "z": [
          0.010527609374999969
         ]
        },
        {
         "hovertemplate": "geohash2=sp7rv2_41<br>t=%{x}<br>lat_norm=%{y}<br>lon_norm=%{z}<extra></extra>",
         "legendgroup": "sp7rv2_41",
         "line": {
          "color": "#EF553B",
          "dash": "solid"
         },
         "marker": {
          "symbol": "circle"
         },
         "mode": "lines",
         "name": "sp7rv2_41",
         "scene": "scene",
         "showlegend": true,
         "type": "scatter3d",
         "x": [
          1800
         ],
         "y": [
          0.0022883124999992788
         ],
         "z": [
          0.007367609374999695
         ]
        },
        {
         "hovertemplate": "geohash2=sp7rtr_42<br>t=%{x}<br>lat_norm=%{y}<br>lon_norm=%{z}<extra></extra>",
         "legendgroup": "sp7rtr_42",
         "line": {
          "color": "#00cc96",
          "dash": "solid"
         },
         "marker": {
          "symbol": "circle"
         },
         "mode": "lines",
         "name": "sp7rtr_42",
         "scene": "scene",
         "showlegend": true,
         "type": "scatter3d",
         "x": [
          1830
         ],
         "y": [
          0.002939476562495713
         ],
         "z": [
          0.0037596093749998616
         ]
        },
        {
         "hovertemplate": "geohash2=sp7rtn_43<br>t=%{x}<br>lat_norm=%{y}<br>lon_norm=%{z}<extra></extra>",
         "legendgroup": "sp7rtn_43",
         "line": {
          "color": "#ab63fa",
          "dash": "solid"
         },
         "marker": {
          "symbol": "circle"
         },
         "mode": "lines",
         "name": "sp7rtn_43",
         "scene": "scene",
         "showlegend": true,
         "type": "scatter3d",
         "x": [
          1860,
          1890
         ],
         "y": [
          0.0052626406249984825,
          0.0026126406249957768
         ],
         "z": [
          0.009685937499999575,
          0.004459937500000066
         ]
        },
        {
         "hovertemplate": "geohash2=sp7rsv_44<br>t=%{x}<br>lat_norm=%{y}<br>lon_norm=%{z}<extra></extra>",
         "legendgroup": "sp7rsv_44",
         "line": {
          "color": "#FFA15A",
          "dash": "solid"
         },
         "marker": {
          "symbol": "circle"
         },
         "mode": "lines",
         "name": "sp7rsv_44",
         "scene": "scene",
         "showlegend": true,
         "type": "scatter3d",
         "x": [
          1920,
          1950
         ],
         "y": [
          0.0053478046874957386,
          0.002534804687499559
         ],
         "z": [
          0.010010265624999626,
          0.004555265625000082
         ]
        },
        {
         "hovertemplate": "geohash2=sp7rsu_45<br>t=%{x}<br>lat_norm=%{y}<br>lon_norm=%{z}<extra></extra>",
         "legendgroup": "sp7rsu_45",
         "line": {
          "color": "#19d3f3",
          "dash": "solid"
         },
         "marker": {
          "symbol": "circle"
         },
         "mode": "lines",
         "name": "sp7rsu_45",
         "scene": "scene",
         "showlegend": true,
         "type": "scatter3d",
         "x": [
          1980
         ],
         "y": [
          0.004110968749998278
         ],
         "z": [
          0.00027326562500018525
         ]
        },
        {
         "hovertemplate": "geohash2=sp7rse_46<br>t=%{x}<br>lat_norm=%{y}<br>lon_norm=%{z}<extra></extra>",
         "legendgroup": "sp7rse_46",
         "line": {
          "color": "#FF6692",
          "dash": "solid"
         },
         "marker": {
          "symbol": "circle"
         },
         "mode": "lines",
         "name": "sp7rse_46",
         "scene": "scene",
         "showlegend": true,
         "type": "scatter3d",
         "x": [
          2010
         ],
         "y": [
          0.004287132812493155
         ],
         "z": [
          0.00855159375000003
         ]
        },
        {
         "hovertemplate": "geohash2=sp7rsd_47<br>t=%{x}<br>lat_norm=%{y}<br>lon_norm=%{z}<extra></extra>",
         "legendgroup": "sp7rsd_47",
         "line": {
          "color": "#B6E880",
          "dash": "solid"
         },
         "marker": {
          "symbol": "circle"
         },
         "mode": "lines",
         "name": "sp7rsd_47",
         "scene": "scene",
         "showlegend": true,
         "type": "scatter3d",
         "x": [
          2040,
          2070,
          2100
         ],
         "y": [
          0.004236296874999823,
          0.00036929687500020236,
          0.0003572968749949723
         ],
         "z": [
          0.006693593749999671,
          0.00449959374999942,
          0.004491593750000078
         ]
        },
        {
         "hovertemplate": "geohash2=sp7rs9_48<br>t=%{x}<br>lat_norm=%{y}<br>lon_norm=%{z}<extra></extra>",
         "legendgroup": "sp7rs9_48",
         "line": {
          "color": "#FF97FF",
          "dash": "solid"
         },
         "marker": {
          "symbol": "circle"
         },
         "mode": "lines",
         "name": "sp7rs9_48",
         "scene": "scene",
         "showlegend": true,
         "type": "scatter3d",
         "x": [
          2160,
          2190
         ],
         "y": [
          0.005440460937499836,
          0.0014124609375016917
         ],
         "z": [
          0.004138593749999586,
          0.0006615937500003
         ]
        },
        {
         "hovertemplate": "geohash2=sp7rs2_49<br>t=%{x}<br>lat_norm=%{y}<br>lon_norm=%{z}<extra></extra>",
         "legendgroup": "sp7rs2_49",
         "line": {
          "color": "#FECB52",
          "dash": "solid"
         },
         "marker": {
          "symbol": "circle"
         },
         "mode": "lines",
         "name": "sp7rs2_49",
         "scene": "scene",
         "showlegend": true,
         "type": "scatter3d",
         "x": [
          2220
         ],
         "y": [
          0.0018316249999941192
         ],
         "z": [
          0.008220921875000009
         ]
        },
        {
         "hovertemplate": "geohash2=sp7rkr_50<br>t=%{x}<br>lat_norm=%{y}<br>lon_norm=%{z}<extra></extra>",
         "legendgroup": "sp7rkr_50",
         "line": {
          "color": "#636efa",
          "dash": "solid"
         },
         "marker": {
          "symbol": "circle"
         },
         "mode": "lines",
         "name": "sp7rkr_50",
         "scene": "scene",
         "showlegend": true,
         "type": "scatter3d",
         "x": [
          2250
         ],
         "y": [
          0.0016827890625066289
         ],
         "z": [
          0.006634921875000366
         ]
        },
        {
         "hovertemplate": "geohash2=sp7rkq_51<br>t=%{x}<br>lat_norm=%{y}<br>lon_norm=%{z}<extra></extra>",
         "legendgroup": "sp7rkq_51",
         "line": {
          "color": "#EF553B",
          "dash": "solid"
         },
         "marker": {
          "symbol": "circle"
         },
         "mode": "lines",
         "name": "sp7rkq_51",
         "scene": "scene",
         "showlegend": true,
         "type": "scatter3d",
         "x": [
          2280
         ],
         "y": [
          0.0019239531250008213
         ],
         "z": [
          0.003750921874999591
         ]
        },
        {
         "hovertemplate": "geohash2=sp7rkm_52<br>t=%{x}<br>lat_norm=%{y}<br>lon_norm=%{z}<extra></extra>",
         "legendgroup": "sp7rkm_52",
         "line": {
          "color": "#00cc96",
          "dash": "solid"
         },
         "marker": {
          "symbol": "circle"
         },
         "mode": "lines",
         "name": "sp7rkm_52",
         "scene": "scene",
         "showlegend": true,
         "type": "scatter3d",
         "x": [
          2310
         ],
         "y": [
          0.002251117187498153
         ],
         "z": [
          0.0016649218750002248
         ]
        },
        {
         "hovertemplate": "geohash2=sp7rkk_53<br>t=%{x}<br>lat_norm=%{y}<br>lon_norm=%{z}<extra></extra>",
         "legendgroup": "sp7rkk_53",
         "line": {
          "color": "#ab63fa",
          "dash": "solid"
         },
         "marker": {
          "symbol": "circle"
         },
         "mode": "lines",
         "name": "sp7rkk_53",
         "scene": "scene",
         "showlegend": true,
         "type": "scatter3d",
         "x": [
          2340
         ],
         "y": [
          0.002733281250002051
         ],
         "z": [
          3.4921874999760405e-05
         ]
        },
        {
         "hovertemplate": "geohash2=sp7rk5_54<br>t=%{x}<br>lat_norm=%{y}<br>lon_norm=%{z}<extra></extra>",
         "legendgroup": "sp7rk5_54",
         "line": {
          "color": "#FFA15A",
          "dash": "solid"
         },
         "marker": {
          "symbol": "circle"
         },
         "mode": "lines",
         "name": "sp7rk5_54",
         "scene": "scene",
         "showlegend": true,
         "type": "scatter3d",
         "x": [
          2370
         ],
         "y": [
          0.003418445312505014
         ],
         "z": [
          0.0079072499999997
         ]
        },
        {
         "hovertemplate": "geohash2=sp7rk4_55<br>t=%{x}<br>lat_norm=%{y}<br>lon_norm=%{z}<extra></extra>",
         "legendgroup": "sp7rk4_55",
         "line": {
          "color": "#19d3f3",
          "dash": "solid"
         },
         "marker": {
          "symbol": "circle"
         },
         "mode": "lines",
         "name": "sp7rk4_55",
         "scene": "scene",
         "showlegend": true,
         "type": "scatter3d",
         "x": [
          2400
         ],
         "y": [
          0.0049926093750016776
         ],
         "z": [
          0.005262249999999469
         ]
        },
        {
         "hovertemplate": "geohash2=sp7rk5_56<br>t=%{x}<br>lat_norm=%{y}<br>lon_norm=%{z}<extra></extra>",
         "legendgroup": "sp7rk5_56",
         "line": {
          "color": "#FF6692",
          "dash": "solid"
         },
         "marker": {
          "symbol": "circle"
         },
         "mode": "lines",
         "name": "sp7rk5_56",
         "scene": "scene",
         "showlegend": true,
         "type": "scatter3d",
         "x": [
          2430,
          2460,
          2490,
          2520,
          4170,
          4200
         ],
         "y": [
          5.4453125031272975e-06,
          0.0005774453124942625,
          0.0015064453125006594,
          0.0016294453124956476,
          0.0007884453125015511,
          0.0007464453125010095
         ],
         "z": [
          0.003087250000000097,
          0.0015262500000003953,
          0.002003250000000456,
          0.0020202500000001677,
          0.0015522499999995887,
          0.00158725000000004
         ]
        },
        {
         "hovertemplate": "geohash2=sp7rk4_57<br>t=%{x}<br>lat_norm=%{y}<br>lon_norm=%{z}<extra></extra>",
         "legendgroup": "sp7rk4_57",
         "line": {
          "color": "#B6E880",
          "dash": "solid"
         },
         "marker": {
          "symbol": "circle"
         },
         "mode": "lines",
         "name": "sp7rk4_57",
         "scene": "scene",
         "showlegend": true,
         "type": "scatter3d",
         "x": [
          4230,
          4260
         ],
         "y": [
          0.005131609374998902,
          0.004414609374997269
         ],
         "z": [
          0.0010752500000004162,
          0.00048525000000054774
         ]
        },
        {
         "hovertemplate": "geohash2=sp7r7f_58<br>t=%{x}<br>lat_norm=%{y}<br>lon_norm=%{z}<extra></extra>",
         "legendgroup": "sp7r7f_58",
         "line": {
          "color": "#FF97FF",
          "dash": "solid"
         },
         "marker": {
          "symbol": "circle"
         },
         "mode": "lines",
         "name": "sp7r7f_58",
         "scene": "scene",
         "showlegend": true,
         "type": "scatter3d",
         "x": [
          4290
         ],
         "y": [
          0.005486609375005003
         ],
         "z": [
          0.009561578125000025
         ]
        },
        {
         "hovertemplate": "geohash2=sp7r7g_59<br>t=%{x}<br>lat_norm=%{y}<br>lon_norm=%{z}<extra></extra>",
         "legendgroup": "sp7r7g_59",
         "line": {
          "color": "#FECB52",
          "dash": "solid"
         },
         "marker": {
          "symbol": "circle"
         },
         "mode": "lines",
         "name": "sp7r7g_59",
         "scene": "scene",
         "showlegend": true,
         "type": "scatter3d",
         "x": [
          4320,
          4350,
          5130,
          5160,
          5190,
          5220,
          5250
         ],
         "y": [
          0.00040744531249714555,
          0.0004504453125022678,
          0.000527445312499708,
          0.0008734453125001096,
          0.003025445312502484,
          0.00416844531250149,
          0.005330445312502263
         ],
         "z": [
          0.008623578124999476,
          0.00838557812499996,
          0.007982578124999584,
          0.0071575781249997306,
          0.007603578124999899,
          0.007852578125000065,
          0.008303578125000044
         ]
        },
        {
         "hovertemplate": "geohash2=sp7r7u_60<br>t=%{x}<br>lat_norm=%{y}<br>lon_norm=%{z}<extra></extra>",
         "legendgroup": "sp7r7u_60",
         "line": {
          "color": "#636efa",
          "dash": "solid"
         },
         "marker": {
          "symbol": "circle"
         },
         "mode": "lines",
         "name": "sp7r7u_60",
         "scene": "scene",
         "showlegend": true,
         "type": "scatter3d",
         "x": [
          5280,
          5310,
          5340,
          5370
         ],
         "y": [
          0.0019422812500025088,
          0.002873281249996751,
          0.0033592812499989577,
          0.005090281249998441
         ],
         "z": [
          0.009092578125000195,
          0.009270578125000206,
          0.009429578125000226,
          0.009540578124999755
         ]
        },
        {
         "hovertemplate": "geohash2=sp7r7v_61<br>t=%{x}<br>lat_norm=%{y}<br>lon_norm=%{z}<extra></extra>",
         "legendgroup": "sp7r7v_61",
         "line": {
          "color": "#EF553B",
          "dash": "solid"
         },
         "marker": {
          "symbol": "circle"
         },
         "mode": "lines",
         "name": "sp7r7v_61",
         "scene": "scene",
         "showlegend": true,
         "type": "scatter3d",
         "x": [
          5400,
          5430
         ],
         "y": [
          0.001795117187498363,
          0.0040691171875053556
         ],
         "z": [
          0.009046578124999982,
          0.008677578124999918
         ]
        },
        {
         "hovertemplate": "geohash2=sp7r7y_62<br>t=%{x}<br>lat_norm=%{y}<br>lon_norm=%{z}<extra></extra>",
         "legendgroup": "sp7r7y_62",
         "line": {
          "color": "#00cc96",
          "dash": "solid"
         },
         "marker": {
          "symbol": "circle"
         },
         "mode": "lines",
         "name": "sp7r7y_62",
         "scene": "scene",
         "showlegend": true,
         "type": "scatter3d",
         "x": [
          5460,
          5490,
          5520,
          5550,
          5580
         ],
         "y": [
          0.0005749531249961137,
          0.0016509531250008536,
          0.0018079531249952652,
          0.0032519531250017053,
          0.004449953124996853
         ],
         "z": [
          0.008306578125000463,
          0.00808257812500024,
          0.00809157812500061,
          0.007833578125000074,
          0.0076615781250000126
         ]
        },
        {
         "hovertemplate": "geohash2=sp7r7z_63<br>t=%{x}<br>lat_norm=%{y}<br>lon_norm=%{z}<extra></extra>",
         "legendgroup": "sp7r7z_63",
         "line": {
          "color": "#ab63fa",
          "dash": "solid"
         },
         "marker": {
          "symbol": "circle"
         },
         "mode": "lines",
         "name": "sp7r7z_63",
         "scene": "scene",
         "showlegend": true,
         "type": "scatter3d",
         "x": [
          5610,
          5640,
          5730,
          5760,
          5790,
          5850,
          5880,
          5910,
          5940
         ],
         "y": [
          0.0003337890625019213,
          0.0004347890624956108,
          0.0009557890625018217,
          0.0008697890624986826,
          0.000903789062498106,
          0.0008837890624988631,
          0.00077478906249695,
          0.0025497890624990305,
          0.004925789062504293
         ],
         "z": [
          0.007402578125000225,
          0.007402578125000225,
          0.007317578124999891,
          0.006413578124999653,
          0.0063785781250000895,
          0.005974578125000463,
          0.0056145781249998805,
          0.0051985781249994645,
          0.004556578125000321
         ]
        },
        {
         "hovertemplate": "geohash2=sp7reb_64<br>t=%{x}<br>lat_norm=%{y}<br>lon_norm=%{z}<extra></extra>",
         "legendgroup": "sp7reb_64",
         "line": {
          "color": "#FFA15A",
          "dash": "solid"
         },
         "marker": {
          "symbol": "circle"
         },
         "mode": "lines",
         "name": "sp7reb_64",
         "scene": "scene",
         "showlegend": true,
         "type": "scatter3d",
         "x": [
          5970,
          6000,
          6030,
          6060,
          6090,
          6120
         ],
         "y": [
          0.0016686250000006453,
          0.0027116249999963316,
          0.0029936249999948927,
          0.0023946250000008718,
          0.0023066249999956767,
          0.0023076250000002574
         ],
         "z": [
          0.003037578125000273,
          0.002285578124999965,
          0.001558578124999599,
          0.0009595781250002489,
          0.0006965781249999026,
          0.0005035781249995708
         ]
        },
        {
         "hovertemplate": "geohash2=sp7re8_65<br>t=%{x}<br>lat_norm=%{y}<br>lon_norm=%{z}<extra></extra>",
         "legendgroup": "sp7re8_65",
         "line": {
          "color": "#19d3f3",
          "dash": "solid"
         },
         "marker": {
          "symbol": "circle"
         },
         "mode": "lines",
         "name": "sp7re8_65",
         "scene": "scene",
         "showlegend": true,
         "type": "scatter3d",
         "x": [
          6480,
          6510,
          6540
         ],
         "y": [
          0.0031526249999984657,
          0.004511624999999242,
          0.005233624999995357
         ],
         "z": [
          0.010615906249999973,
          0.009083906249999885,
          0.008401906249999591
         ]
        },
        {
         "hovertemplate": "geohash2=sp7re9_66<br>t=%{x}<br>lat_norm=%{y}<br>lon_norm=%{z}<extra></extra>",
         "legendgroup": "sp7re9_66",
         "line": {
          "color": "#FF6692",
          "dash": "solid"
         },
         "marker": {
          "symbol": "circle"
         },
         "mode": "lines",
         "name": "sp7re9_66",
         "scene": "scene",
         "showlegend": true,
         "type": "scatter3d",
         "x": [
          6570,
          6600,
          6630,
          6660,
          6690
         ],
         "y": [
          0.0009424609375017212,
          0.0010994609375032383,
          0.0011004609375007135,
          0.0014574609375017644,
          0.0005164609375043483
         ],
         "z": [
          0.007027906250000271,
          0.0068259062500004575,
          0.006790906250000006,
          0.006150906250000254,
          0.005428906249999699
         ]
        },
        {
         "hovertemplate": "geohash2=sp7re8_67<br>t=%{x}<br>lat_norm=%{y}<br>lon_norm=%{z}<extra></extra>",
         "legendgroup": "sp7re8_67",
         "line": {
          "color": "#B6E880",
          "dash": "solid"
         },
         "marker": {
          "symbol": "circle"
         },
         "mode": "lines",
         "name": "sp7re8_67",
         "scene": "scene",
         "showlegend": true,
         "type": "scatter3d",
         "x": [
          6720,
          6750,
          6780,
          6810,
          6840
         ],
         "y": [
          0.0050676250000023515,
          0.00403862499999974,
          0.0032756250000005593,
          0.002347624999998743,
          0.0010756249999985812
         ],
         "z": [
          0.004810906250000357,
          0.003535906249999776,
          0.002761906249999946,
          0.0018819062499995098,
          0.0011229062499999998
         ]
        },
        {
         "hovertemplate": "geohash2=sp7re2_68<br>t=%{x}<br>lat_norm=%{y}<br>lon_norm=%{z}<extra></extra>",
         "legendgroup": "sp7re2_68",
         "line": {
          "color": "#FF97FF",
          "dash": "solid"
         },
         "marker": {
          "symbol": "circle"
         },
         "mode": "lines",
         "name": "sp7re2_68",
         "scene": "scene",
         "showlegend": true,
         "type": "scatter3d",
         "x": [
          6870,
          6900,
          6930,
          6960
         ],
         "y": [
          0.0016466249999993465,
          0.00278362499999929,
          0.0035536249999950087,
          0.004737625000004186
         ],
         "z": [
          0.010961234374999407,
          0.009025234374999691,
          0.007729234375000615,
          0.0056092343750000495
         ]
        },
        {
         "hovertemplate": "geohash2=sp7re3_69<br>t=%{x}<br>lat_norm=%{y}<br>lon_norm=%{z}<extra></extra>",
         "legendgroup": "sp7re3_69",
         "line": {
          "color": "#FECB52",
          "dash": "solid"
         },
         "marker": {
          "symbol": "circle"
         },
         "mode": "lines",
         "name": "sp7re3_69",
         "scene": "scene",
         "showlegend": true,
         "type": "scatter3d",
         "x": [
          6990,
          7020
         ],
         "y": [
          0.0009174609375008913,
          0.0011684609374995603
         ],
         "z": [
          0.0027632343750001453,
          0.0013242343750006214
         ]
        },
        {
         "hovertemplate": "geohash2=sp7re2_70<br>t=%{x}<br>lat_norm=%{y}<br>lon_norm=%{z}<extra></extra>",
         "legendgroup": "sp7re2_70",
         "line": {
          "color": "#636efa",
          "dash": "solid"
         },
         "marker": {
          "symbol": "circle"
         },
         "mode": "lines",
         "name": "sp7re2_70",
         "scene": "scene",
         "showlegend": true,
         "type": "scatter3d",
         "x": [
          7050
         ],
         "y": [
          0.004921624999994378
         ],
         "z": [
          0.00030123437499973704
         ]
        },
        {
         "hovertemplate": "geohash2=sp7re0_71<br>t=%{x}<br>lat_norm=%{y}<br>lon_norm=%{z}<extra></extra>",
         "legendgroup": "sp7re0_71",
         "line": {
          "color": "#EF553B",
          "dash": "solid"
         },
         "marker": {
          "symbol": "circle"
         },
         "mode": "lines",
         "name": "sp7re0_71",
         "scene": "scene",
         "showlegend": true,
         "type": "scatter3d",
         "x": [
          7080,
          7110,
          7140
         ],
         "y": [
          0.0035606249999986517,
          0.0021756249999995703,
          0.0005056250000023965
         ],
         "z": [
          0.010519562499999857,
          0.009732562499999986,
          0.007857562499999915
         ]
        },
        {
         "hovertemplate": "geohash2=sp7r7p_72<br>t=%{x}<br>lat_norm=%{y}<br>lon_norm=%{z}<extra></extra>",
         "legendgroup": "sp7r7p_72",
         "line": {
          "color": "#00cc96",
          "dash": "solid"
         },
         "marker": {
          "symbol": "circle"
         },
         "mode": "lines",
         "name": "sp7r7p_72",
         "scene": "scene",
         "showlegend": true,
         "type": "scatter3d",
         "x": [
          7170,
          7200,
          8250,
          8280
         ],
         "y": [
          0.005488789062496835,
          0.005454789062497412,
          0.004589789062492855,
          0.0041037890624977535
         ],
         "z": [
          0.00747856250000023,
          0.007276562500000416,
          0.007957562499999682,
          0.010001562500000283
         ]
        },
        {
         "hovertemplate": "geohash2=sp7r7r_73<br>t=%{x}<br>lat_norm=%{y}<br>lon_norm=%{z}<extra></extra>",
         "legendgroup": "sp7r7r_73",
         "line": {
          "color": "#ab63fa",
          "dash": "solid"
         },
         "marker": {
          "symbol": "circle"
         },
         "mode": "lines",
         "name": "sp7r7r_73",
         "scene": "scene",
         "showlegend": true,
         "type": "scatter3d",
         "x": [
          8310,
          8340
         ],
         "y": [
          0.0021457890625029563,
          0.0005877890625072268
         ],
         "z": [
          0.0009482343749995792,
          0.0023822343750001806
         ]
        },
        {
         "hovertemplate": "geohash2=sp7r7q_74<br>t=%{x}<br>lat_norm=%{y}<br>lon_norm=%{z}<extra></extra>",
         "legendgroup": "sp7r7q_74",
         "line": {
          "color": "#FFA15A",
          "dash": "solid"
         },
         "marker": {
          "symbol": "circle"
         },
         "mode": "lines",
         "name": "sp7r7q_74",
         "scene": "scene",
         "showlegend": true,
         "type": "scatter3d",
         "x": [
          8370,
          8400,
          8430
         ],
         "y": [
          0.004131953124996812,
          0.002704953124997189,
          0.0007219531250015621
         ],
         "z": [
          0.004175234375000336,
          0.0055212343750001835,
          0.007340234375000421
         ]
        },
        {
         "hovertemplate": "geohash2=sp7r7m_75<br>t=%{x}<br>lat_norm=%{y}<br>lon_norm=%{z}<extra></extra>",
         "legendgroup": "sp7r7m_75",
         "line": {
          "color": "#19d3f3",
          "dash": "solid"
         },
         "marker": {
          "symbol": "circle"
         },
         "mode": "lines",
         "name": "sp7r7m_75",
         "scene": "scene",
         "showlegend": true,
         "type": "scatter3d",
         "x": [
          8460,
          8490,
          8520,
          8550,
          8580,
          8610,
          8640,
          8670,
          8730,
          8760,
          8790,
          8820,
          8850
         ],
         "y": [
          0.0040731171874952565,
          0.002512117187499996,
          0.002426117187496857,
          0.003273117187497121,
          0.0035251171875003706,
          0.0033091171875057057,
          0.0027341171875008285,
          0.002679117187504687,
          0.0024761171874985166,
          0.002292117187501219,
          0.0020961171874986917,
          0.0014021171875029381,
          0.0006221171875040454
         ],
         "z": [
          0.007473234374999471,
          0.0060372343750003665,
          0.005062234374999974,
          0.003739234374999789,
          0.0019322343750003412,
          0.0005892343750000251,
          0.0005952343749999756,
          0.00047323437499979804,
          0.0016222343750005308,
          0.0034302343750001185,
          0.005255234375000306,
          0.006271234374999324,
          0.0067692343750005435
         ]
        },
        {
         "hovertemplate": "geohash2=sp7r7k_76<br>t=%{x}<br>lat_norm=%{y}<br>lon_norm=%{z}<extra></extra>",
         "legendgroup": "sp7r7k_76",
         "line": {
          "color": "#FF6692",
          "dash": "solid"
         },
         "marker": {
          "symbol": "circle"
         },
         "mode": "lines",
         "name": "sp7r7k_76",
         "scene": "scene",
         "showlegend": true,
         "type": "scatter3d",
         "x": [
          8880,
          8910,
          8940,
          8970
         ],
         "y": [
          0.004592281250005215,
          0.003959281249997559,
          0.003578281250000259,
          0.002688281250001978
         ],
         "z": [
          0.00779023437500026,
          0.00825323437500014,
          0.009743234374999687,
          0.009986234374999903
         ]
        },
        {
         "hovertemplate": "geohash2=sp7r7s_77<br>t=%{x}<br>lat_norm=%{y}<br>lon_norm=%{z}<extra></extra>",
         "legendgroup": "sp7r7s_77",
         "line": {
          "color": "#B6E880",
          "dash": "solid"
         },
         "marker": {
          "symbol": "circle"
         },
         "mode": "lines",
         "name": "sp7r7s_77",
         "scene": "scene",
         "showlegend": true,
         "type": "scatter3d",
         "x": [
          9000,
          9030,
          9060,
          9300,
          9330
         ],
         "y": [
          0.002430281249999666,
          0.0016512812499982488,
          0.0014942812499967317,
          0.0010842812499944898,
          0.0004542812499934712
         ],
         "z": [
          0.00014090625000040546,
          0.0001389062500001259,
          0.00034090624999993935,
          0.0003389062499996598,
          8.290625000029195e-05
         ]
        },
        {
         "hovertemplate": "geohash2=sp7r7e_78<br>t=%{x}<br>lat_norm=%{y}<br>lon_norm=%{z}<extra></extra>",
         "legendgroup": "sp7r7e_78",
         "line": {
          "color": "#FF97FF",
          "dash": "solid"
         },
         "marker": {
          "symbol": "circle"
         },
         "mode": "lines",
         "name": "sp7r7e_78",
         "scene": "scene",
         "showlegend": true,
         "type": "scatter3d",
         "x": [
          9360,
          9390,
          9420,
          9450,
          9480
         ],
         "y": [
          0.004521445312498429,
          0.004164445312497378,
          0.003999445312494743,
          0.003554445312495602,
          0.00263544531250659
         ],
         "z": [
          0.0013069062499999617,
          0.0016029062500004798,
          0.0017249062499997692,
          0.0016719062499994664,
          0.0006509062499997498
         ]
        },
        {
         "hovertemplate": "geohash2=sp7r77_79<br>t=%{x}<br>lat_norm=%{y}<br>lon_norm=%{z}<extra></extra>",
         "legendgroup": "sp7r77_79",
         "line": {
          "color": "#FECB52",
          "dash": "solid"
         },
         "marker": {
          "symbol": "circle"
         },
         "mode": "lines",
         "name": "sp7r77_79",
         "scene": "scene",
         "showlegend": true,
         "type": "scatter3d",
         "x": [
          9510,
          9540,
          9570,
          9990
         ],
         "y": [
          0.004021445312503147,
          0.004270445312506865,
          0.004359445312495325,
          0.004672445312493778
         ],
         "z": [
          0.008631234374999686,
          0.0075522343749998555,
          0.007447234375000278,
          0.006306234374999775
         ]
        },
        {
         "hovertemplate": "geohash2=sp7r7k_80<br>t=%{x}<br>lat_norm=%{y}<br>lon_norm=%{z}<extra></extra>",
         "legendgroup": "sp7r7k_80",
         "line": {
          "color": "#636efa",
          "dash": "solid"
         },
         "marker": {
          "symbol": "circle"
         },
         "mode": "lines",
         "name": "sp7r7k_80",
         "scene": "scene",
         "showlegend": true,
         "type": "scatter3d",
         "x": [
          10020,
          10050,
          10080,
          10110,
          10170,
          10200
         ],
         "y": [
          0.0004892812499974752,
          0.0009322812500016653,
          0.0009292812499950287,
          0.0010522812500042278,
          0.0006842812499954221,
          0.0005642812499928596
         ],
         "z": [
          0.0056532343749999825,
          0.006182234375000206,
          0.00684823437500004,
          0.006796234374999877,
          0.006708234375000011,
          0.005961234374999513
         ]
        },
        {
         "hovertemplate": "geohash2=sp7r77_81<br>t=%{x}<br>lat_norm=%{y}<br>lon_norm=%{z}<extra></extra>",
         "legendgroup": "sp7r77_81",
         "line": {
          "color": "#EF553B",
          "dash": "solid"
         },
         "marker": {
          "symbol": "circle"
         },
         "mode": "lines",
         "name": "sp7r77_81",
         "scene": "scene",
         "showlegend": true,
         "type": "scatter3d",
         "x": [
          10230,
          10260,
          10290,
          10320,
          10350,
          10380,
          10410,
          10920,
          10950,
          10980,
          11010,
          11160
         ],
         "y": [
          0.0051354453125043165,
          0.004150445312504303,
          0.002762445312498585,
          0.0027654453125052214,
          0.003378445312499423,
          0.002483445312499555,
          0.0022054453125051054,
          0.0019394453125016753,
          0.0019844453124946426,
          0.0021764453125001637,
          0.002122445312494392,
          0.0021784453125022196
         ],
         "z": [
          0.005958234374999982,
          0.005578234375000157,
          0.0052572343749996975,
          0.004651234374999369,
          0.0035212343749995156,
          0.0027982343749997085,
          0.002464234375000096,
          0.00220023437499961,
          0.0014802343750002223,
          0.0009102343749995967,
          0.0008482343749998122,
          0.0005582343750001328
         ]
        },
        {
         "hovertemplate": "geohash2=sp7r75_82<br>t=%{x}<br>lat_norm=%{y}<br>lon_norm=%{z}<extra></extra>",
         "legendgroup": "sp7r75_82",
         "line": {
          "color": "#00cc96",
          "dash": "solid"
         },
         "marker": {
          "symbol": "circle"
         },
         "mode": "lines",
         "name": "sp7r75_82",
         "scene": "scene",
         "showlegend": true,
         "type": "scatter3d",
         "x": [
          11190,
          11220,
          11250,
          11340,
          11370,
          11400,
          11430,
          11460,
          11580
         ],
         "y": [
          0.002670445312503489,
          0.0029524453124949446,
          0.003028445312502015,
          0.0033874453124980164,
          0.002846445312499668,
          0.0020144453124970596,
          0.0014454453125054556,
          0.0013014453124995384,
          0.000580445312500899
         ],
         "z": [
          0.009992562499999913,
          0.009282562500000147,
          0.009220562500000362,
          0.008282562499999813,
          0.00792056249999984,
          0.007549562499999496,
          0.008056562500000197,
          0.008064562499999539,
          0.008589562500000092
         ]
        },
        {
         "hovertemplate": "geohash2=sp7r74_83<br>t=%{x}<br>lat_norm=%{y}<br>lon_norm=%{z}<extra></extra>",
         "legendgroup": "sp7r74_83",
         "line": {
          "color": "#ab63fa",
          "dash": "solid"
         },
         "marker": {
          "symbol": "circle"
         },
         "mode": "lines",
         "name": "sp7r74_83",
         "scene": "scene",
         "showlegend": true,
         "type": "scatter3d",
         "x": [
          11610,
          11640,
          11670,
          11700,
          11730,
          11760,
          11790,
          11820,
          11850,
          11880
         ],
         "y": [
          0.004860609374993885,
          0.004379609375000371,
          0.0040146093749982015,
          0.0034096093749980128,
          0.0027186093750017903,
          0.0031456093749966385,
          0.0031506093749982256,
          0.0031516093750028062,
          0.0029406093749955176,
          0.0029206093749962747
         ],
         "z": [
          0.009286562499999818,
          0.007458562500000099,
          0.006728562500000201,
          0.005269562499999658,
          0.0034585625000005393,
          0.002336562500000028,
          0.0007665624999999565,
          0.0006605625000002391,
          0.00031856250000039665,
          0.00024856250000038216
         ]
        },
        {
         "hovertemplate": "geohash2=sp7r6f_84<br>t=%{x}<br>lat_norm=%{y}<br>lon_norm=%{z}<extra></extra>",
         "legendgroup": "sp7r6f_84",
         "line": {
          "color": "#FFA15A",
          "dash": "solid"
         },
         "marker": {
          "symbol": "circle"
         },
         "mode": "lines",
         "name": "sp7r6f_84",
         "scene": "scene",
         "showlegend": true,
         "type": "scatter3d",
         "x": [
          11970
         ],
         "y": [
          0.0019896093750020327
         ],
         "z": [
          0.010967890625000365
         ]
        },
        {
         "hovertemplate": "geohash2=sp7r74_85<br>t=%{x}<br>lat_norm=%{y}<br>lon_norm=%{z}<extra></extra>",
         "legendgroup": "sp7r74_85",
         "line": {
          "color": "#19d3f3",
          "dash": "solid"
         },
         "marker": {
          "symbol": "circle"
         },
         "mode": "lines",
         "name": "sp7r74_85",
         "scene": "scene",
         "showlegend": true,
         "type": "scatter3d",
         "x": [
          12000,
          12030,
          12060
         ],
         "y": [
          0.0019896093750020327,
          0.0027676093749988695,
          0.0027676093749988695
         ],
         "z": [
          3.356250000052796e-05,
          0.0002475624999993542,
          0.00026456249999995407
         ]
        },
        {
         "hovertemplate": "geohash2=sp7r6f_86<br>t=%{x}<br>lat_norm=%{y}<br>lon_norm=%{z}<extra></extra>",
         "legendgroup": "sp7r6f_86",
         "line": {
          "color": "#FF6692",
          "dash": "solid"
         },
         "marker": {
          "symbol": "circle"
         },
         "mode": "lines",
         "name": "sp7r6f_86",
         "scene": "scene",
         "showlegend": true,
         "type": "scatter3d",
         "x": [
          12090,
          12120,
          12150,
          12180
         ],
         "y": [
          0.00325060937499444,
          0.003173609375004105,
          0.0027306093749928095,
          0.001762609374999613
         ],
         "z": [
          0.009855890624999475,
          0.006625890625000075,
          0.004043890624999769,
          0.0015308906250002252
         ]
        },
        {
         "hovertemplate": "geohash2=sp7r6d_87<br>t=%{x}<br>lat_norm=%{y}<br>lon_norm=%{z}<extra></extra>",
         "legendgroup": "sp7r6d_87",
         "line": {
          "color": "#B6E880",
          "dash": "solid"
         },
         "marker": {
          "symbol": "circle"
         },
         "mode": "lines",
         "name": "sp7r6d_87",
         "scene": "scene",
         "showlegend": true,
         "type": "scatter3d",
         "x": [
          12210
         ],
         "y": [
          0.0015356093749971933
         ],
         "z": [
          0.010821218750000305
         ]
        },
        {
         "hovertemplate": "geohash2=sp7r6f_88<br>t=%{x}<br>lat_norm=%{y}<br>lon_norm=%{z}<extra></extra>",
         "legendgroup": "sp7r6f_88",
         "line": {
          "color": "#FF97FF",
          "dash": "solid"
         },
         "marker": {
          "symbol": "circle"
         },
         "mode": "lines",
         "name": "sp7r6f_88",
         "scene": "scene",
         "showlegend": true,
         "type": "scatter3d",
         "x": [
          12240,
          12270,
          12300,
          12330
         ],
         "y": [
          0.002444609374997242,
          0.0036536093750072496,
          0.004528609375000769,
          0.005424609374998113
         ],
         "z": [
          0.000179890624999679,
          0.000631890624999798,
          0.0009948906249999112,
          0.001339890625000173
         ]
        },
        {
         "hovertemplate": "geohash2=sp7r6g_89<br>t=%{x}<br>lat_norm=%{y}<br>lon_norm=%{z}<extra></extra>",
         "legendgroup": "sp7r6g_89",
         "line": {
          "color": "#FECB52",
          "dash": "solid"
         },
         "marker": {
          "symbol": "circle"
         },
         "mode": "lines",
         "name": "sp7r6g_89",
         "scene": "scene",
         "showlegend": true,
         "type": "scatter3d",
         "x": [
          12360,
          12540,
          12570
         ],
         "y": [
          9.544531250327282e-05,
          0.0007724453124993147,
          0.002109445312498792
         ],
         "z": [
          0.0014028906250000972,
          0.0015278906249998059,
          0.0007258906249996144
         ]
        },
        {
         "hovertemplate": "geohash2=sp7r6e_90<br>t=%{x}<br>lat_norm=%{y}<br>lon_norm=%{z}<extra></extra>",
         "legendgroup": "sp7r6e_90",
         "line": {
          "color": "#636efa",
          "dash": "solid"
         },
         "marker": {
          "symbol": "circle"
         },
         "mode": "lines",
         "name": "sp7r6e_90",
         "scene": "scene",
         "showlegend": true,
         "type": "scatter3d",
         "x": [
          12600,
          12630,
          12660,
          12690,
          13050
         ],
         "y": [
          0.0024464453125006003,
          0.0016134453125005166,
          0.0012924453124938395,
          0.0012924453124938395,
          0.000847445312494699
         ],
         "z": [
          0.01089621875000013,
          0.010551218749999869,
          0.010401218750000218,
          0.010392218749999849,
          0.010689218749999618
         ]
        },
        {
         "hovertemplate": "geohash2=sp7r6g_91<br>t=%{x}<br>lat_norm=%{y}<br>lon_norm=%{z}<extra></extra>",
         "legendgroup": "sp7r6g_91",
         "line": {
          "color": "#EF553B",
          "dash": "solid"
         },
         "marker": {
          "symbol": "circle"
         },
         "mode": "lines",
         "name": "sp7r6g_91",
         "scene": "scene",
         "showlegend": true,
         "type": "scatter3d",
         "x": [
          13080,
          13110,
          13140,
          13170,
          13200,
          13230,
          13260
         ],
         "y": [
          0.0005434453125019445,
          0.000649445312497221,
          0.0013064453125011255,
          0.0026854453125011446,
          0.0036644453124949905,
          0.004316445312497308,
          0.005026445312502403
         ],
         "z": [
          0.0006488906249995097,
          0.0016328906250002717,
          0.0013888906249999167,
          0.0005068906250000893,
          0.00020189062500008959,
          0.0011708906249996431,
          0.001435890625000269
         ]
        },
        {
         "hovertemplate": "geohash2=sp7r6u_92<br>t=%{x}<br>lat_norm=%{y}<br>lon_norm=%{z}<extra></extra>",
         "legendgroup": "sp7r6u_92",
         "line": {
          "color": "#00cc96",
          "dash": "solid"
         },
         "marker": {
          "symbol": "circle"
         },
         "mode": "lines",
         "name": "sp7r6u_92",
         "scene": "scene",
         "showlegend": true,
         "type": "scatter3d",
         "x": [
          13290,
          13320
         ],
         "y": [
          0.00037828125000061164,
          0.0011252812500046616
         ],
         "z": [
          0.0007198906250005521,
          0.00016989062500005758
         ]
        },
        {
         "hovertemplate": "geohash2=sp7r6s_93<br>t=%{x}<br>lat_norm=%{y}<br>lon_norm=%{z}<extra></extra>",
         "legendgroup": "sp7r6s_93",
         "line": {
          "color": "#ab63fa",
          "dash": "solid"
         },
         "marker": {
          "symbol": "circle"
         },
         "mode": "lines",
         "name": "sp7r6s_93",
         "scene": "scene",
         "showlegend": true,
         "type": "scatter3d",
         "x": [
          13350,
          13380
         ],
         "y": [
          0.0016952812500008463,
          0.0010682812499993588
         ],
         "z": [
          0.010403218750000498,
          0.009453218750000048
         ]
        },
        {
         "hovertemplate": "geohash2=sp7r6e_94<br>t=%{x}<br>lat_norm=%{y}<br>lon_norm=%{z}<extra></extra>",
         "legendgroup": "sp7r6e_94",
         "line": {
          "color": "#FFA15A",
          "dash": "solid"
         },
         "marker": {
          "symbol": "circle"
         },
         "mode": "lines",
         "name": "sp7r6e_94",
         "scene": "scene",
         "showlegend": true,
         "type": "scatter3d",
         "x": [
          13410
         ],
         "y": [
          0.005328445312500207
         ],
         "z": [
          0.009756218749999768
         ]
        },
        {
         "hovertemplate": "geohash2=sp7r6g_95<br>t=%{x}<br>lat_norm=%{y}<br>lon_norm=%{z}<extra></extra>",
         "legendgroup": "sp7r6g_95",
         "line": {
          "color": "#19d3f3",
          "dash": "solid"
         },
         "marker": {
          "symbol": "circle"
         },
         "mode": "lines",
         "name": "sp7r6g_95",
         "scene": "scene",
         "showlegend": true,
         "type": "scatter3d",
         "x": [
          13440,
          13470
         ],
         "y": [
          0.0031144453124980487,
          0.0013574453124931551
         ],
         "z": [
          0.0001578906250001566,
          0.0012748906249999692
         ]
        },
        {
         "hovertemplate": "geohash2=sp7r6f_96<br>t=%{x}<br>lat_norm=%{y}<br>lon_norm=%{z}<extra></extra>",
         "legendgroup": "sp7r6f_96",
         "line": {
          "color": "#FF6692",
          "dash": "solid"
         },
         "marker": {
          "symbol": "circle"
         },
         "mode": "lines",
         "name": "sp7r6f_96",
         "scene": "scene",
         "showlegend": true,
         "type": "scatter3d",
         "x": [
          13500,
          13530,
          13560,
          13590,
          13620
         ],
         "y": [
          0.004038609375001556,
          0.0031606093749942943,
          0.002558609375000742,
          0.003075609374995736,
          0.0031426093749971074
         ],
         "z": [
          0.002950890624999758,
          0.0032808906249996994,
          0.0036298906250005203,
          0.007959890625000021,
          0.010680890625000217
         ]
        },
        {
         "hovertemplate": "geohash2=sp7r74_97<br>t=%{x}<br>lat_norm=%{y}<br>lon_norm=%{z}<extra></extra>",
         "legendgroup": "sp7r74_97",
         "line": {
          "color": "#B6E880",
          "dash": "solid"
         },
         "marker": {
          "symbol": "circle"
         },
         "mode": "lines",
         "name": "sp7r74_97",
         "scene": "scene",
         "showlegend": true,
         "type": "scatter3d",
         "x": [
          13650,
          13680,
          13710,
          13770,
          13800,
          13830,
          13860
         ],
         "y": [
          0.0031256093749973957,
          0.002485609374993203,
          0.0024736093750021837,
          0.0032206093749991282,
          0.004068609375003973,
          0.0044756093749995784,
          0.004344609375003472
         ],
         "z": [
          0.000836562499999971,
          0.0032925624999995406,
          0.0033085625000000007,
          0.004865562500000031,
          0.006879562499999992,
          0.00793356249999988,
          0.010233562499999849
         ]
        },
        {
         "hovertemplate": "geohash2=sp7r76_98<br>t=%{x}<br>lat_norm=%{y}<br>lon_norm=%{z}<extra></extra>",
         "legendgroup": "sp7r76_98",
         "line": {
          "color": "#FF97FF",
          "dash": "solid"
         },
         "marker": {
          "symbol": "circle"
         },
         "mode": "lines",
         "name": "sp7r76_98",
         "scene": "scene",
         "showlegend": true,
         "type": "scatter3d",
         "x": [
          13890,
          13920
         ],
         "y": [
          0.0024486093750013538,
          0.00014260937499699367
         ],
         "z": [
          0.0016642343750001842,
          0.004035234375000307
         ]
        },
        {
         "hovertemplate": "geohash2=sp7r73_99<br>t=%{x}<br>lat_norm=%{y}<br>lon_norm=%{z}<extra></extra>",
         "legendgroup": "sp7r73_99",
         "line": {
          "color": "#FECB52",
          "dash": "solid"
         },
         "marker": {
          "symbol": "circle"
         },
         "mode": "lines",
         "name": "sp7r73_99",
         "scene": "scene",
         "showlegend": true,
         "type": "scatter3d",
         "x": [
          13950,
          13980,
          14010
         ],
         "y": [
          0.004097773437500507,
          0.0022727734374967667,
          0.0003207734375010318
         ],
         "z": [
          0.00547023437500016,
          0.007185234375000071,
          0.009750234374999778
         ]
        },
        {
         "hovertemplate": "geohash2=sp7r72_100<br>t=%{x}<br>lat_norm=%{y}<br>lon_norm=%{z}<extra></extra>",
         "legendgroup": "sp7r72_100",
         "line": {
          "color": "#636efa",
          "dash": "solid"
         },
         "marker": {
          "symbol": "circle"
         },
         "mode": "lines",
         "name": "sp7r72_100",
         "scene": "scene",
         "showlegend": true,
         "type": "scatter3d",
         "x": [
          14040,
          14070
         ],
         "y": [
          0.0049569374999975935,
          0.004935937500000875
         ],
         "z": [
          0.01027523437500033,
          0.01027523437500033
         ]
        },
        {
         "hovertemplate": "geohash2=sp7r78_101<br>t=%{x}<br>lat_norm=%{y}<br>lon_norm=%{z}<extra></extra>",
         "legendgroup": "sp7r78_101",
         "line": {
          "color": "#EF553B",
          "dash": "solid"
         },
         "marker": {
          "symbol": "circle"
         },
         "mode": "lines",
         "name": "sp7r78_101",
         "scene": "scene",
         "showlegend": true,
         "type": "scatter3d",
         "x": [
          14100,
          14130,
          14160,
          14190,
          14220
         ],
         "y": [
          0.004210937499998124,
          0.002970937500002435,
          0.0014249375000048303,
          0.0028299375000031546,
          0.004710937500000512
         ],
         "z": [
          0.0009269062500001368,
          0.003432906250000478,
          0.005052906250000433,
          0.006372906250000199,
          0.008371906249999839
         ]
        },
        {
         "hovertemplate": "geohash2=sp7r7b_102<br>t=%{x}<br>lat_norm=%{y}<br>lon_norm=%{z}<extra></extra>",
         "legendgroup": "sp7r7b_102",
         "line": {
          "color": "#00cc96",
          "dash": "solid"
         },
         "marker": {
          "symbol": "circle"
         },
         "mode": "lines",
         "name": "sp7r7b_102",
         "scene": "scene",
         "showlegend": true,
         "type": "scatter3d",
         "x": [
          14250,
          14280,
          14310,
          14340,
          14370,
          14400,
          14430
         ],
         "y": [
          0.0046899375000037935,
          0.0038519374999950173,
          0.0032469374999948286,
          0.0033139374999962,
          0.0037429375000002096,
          0.004128937499999097,
          0.004003937499994947
         ],
         "z": [
          1.5781250004565095e-06,
          0.001482578124999634,
          0.002726578125000323,
          0.002858578125000122,
          0.003729578125000188,
          0.004626578125000336,
          0.005486578125000641
         ]
        },
        {
         "hovertemplate": "geohash2=sp7r7c_103<br>t=%{x}<br>lat_norm=%{y}<br>lon_norm=%{z}<extra></extra>",
         "legendgroup": "sp7r7c_103",
         "line": {
          "color": "#ab63fa",
          "dash": "solid"
         },
         "marker": {
          "symbol": "circle"
         },
         "mode": "lines",
         "name": "sp7r7c_103",
         "scene": "scene",
         "showlegend": true,
         "type": "scatter3d",
         "x": [
          14460,
          14490,
          14520,
          14550
         ],
         "y": [
          0.0010957734374983374,
          0.004160773437497767,
          0.004291773437500979,
          0.004291773437500979
         ],
         "z": [
          0.0057225781249998775,
          0.005748578124999959,
          0.005801578125000262,
          0.005828578124999595
         ]
        },
        {
         "hovertemplate": "geohash2=sp7r7f_104<br>t=%{x}<br>lat_norm=%{y}<br>lon_norm=%{z}<extra></extra>",
         "legendgroup": "sp7r7f_104",
         "line": {
          "color": "#FFA15A",
          "dash": "solid"
         },
         "marker": {
          "symbol": "circle"
         },
         "mode": "lines",
         "name": "sp7r7f_104",
         "scene": "scene",
         "showlegend": true,
         "type": "scatter3d",
         "x": [
          14610,
          14640,
          14670,
          14700,
          14730
         ],
         "y": [
          0.000660609374996568,
          0.00267960937500078,
          0.004119609375003108,
          0.004949609374996555,
          0.005399609374997283
         ],
         "z": [
          0.005807578125000212,
          0.005892578124999659,
          0.006976578125000188,
          0.008208578125000088,
          0.009008578125
         ]
        },
        {
         "hovertemplate": "geohash2=sp7rk4_105<br>t=%{x}<br>lat_norm=%{y}<br>lon_norm=%{z}<extra></extra>",
         "legendgroup": "sp7rk4_105",
         "line": {
          "color": "#19d3f3",
          "dash": "solid"
         },
         "marker": {
          "symbol": "circle"
         },
         "mode": "lines",
         "name": "sp7rk4_105",
         "scene": "scene",
         "showlegend": true,
         "type": "scatter3d",
         "x": [
          14760,
          14790
         ],
         "y": [
          0.0041486093750009445,
          0.004912609374997601
         ],
         "z": [
          2.2499999996483666e-06,
          0.0007592499999997671
         ]
        },
        {
         "hovertemplate": "geohash2=sp7rk5_106<br>t=%{x}<br>lat_norm=%{y}<br>lon_norm=%{z}<extra></extra>",
         "legendgroup": "sp7rk5_106",
         "line": {
          "color": "#FF6692",
          "dash": "solid"
         },
         "marker": {
          "symbol": "circle"
         },
         "mode": "lines",
         "name": "sp7rk5_106",
         "scene": "scene",
         "showlegend": true,
         "type": "scatter3d",
         "x": [
          14820,
          14850,
          14880,
          14910,
          15150,
          15180,
          15210,
          15240,
          16290,
          16320,
          16350,
          16380,
          16410
         ],
         "y": [
          0.00032844531250475484,
          0.0018914453125020714,
          0.002136445312501678,
          0.0021914453124978195,
          0.0022244453124997676,
          0.0013304453125044802,
          0.0013874453124955721,
          0.0013994453125008022,
          0.0018434453125024675,
          0.0010774453124966499,
          0.0005464453125014757,
          0.0008184453125039681,
          0.0007844453124974393
         ],
         "z": [
          0.001271250000000279,
          0.0020932499999997134,
          0.0022612500000001035,
          0.0023402500000004878,
          0.0026212499999997974,
          0.004146249999999796,
          0.0037242500000003176,
          0.0037592499999998807,
          0.003963249999999974,
          0.00406625000000016,
          0.003142249999999791,
          0.001519250000000305,
          0.0015102499999999353
         ]
        },
        {
         "hovertemplate": "geohash2=sp7r7g_107<br>t=%{x}<br>lat_norm=%{y}<br>lon_norm=%{z}<extra></extra>",
         "legendgroup": "sp7r7g_107",
         "line": {
          "color": "#B6E880",
          "dash": "solid"
         },
         "marker": {
          "symbol": "circle"
         },
         "mode": "lines",
         "name": "sp7r7g_107",
         "scene": "scene",
         "showlegend": true,
         "type": "scatter3d",
         "x": [
          16470,
          16500,
          16530
         ],
         "y": [
          0.0017134453125038362,
          0.003759445312496723,
          0.004450445312507156
         ],
         "z": [
          0.010586578125000301,
          0.008662578124999598,
          0.008093578125
         ]
        },
        {
         "hovertemplate": "geohash2=sp7r7u_108<br>t=%{x}<br>lat_norm=%{y}<br>lon_norm=%{z}<extra></extra>",
         "legendgroup": "sp7r7u_108",
         "line": {
          "color": "#FF97FF",
          "dash": "solid"
         },
         "marker": {
          "symbol": "circle"
         },
         "mode": "lines",
         "name": "sp7r7u_108",
         "scene": "scene",
         "showlegend": true,
         "type": "scatter3d",
         "x": [
          16560,
          16590
         ],
         "y": [
          0.0010542812499991783,
          0.00313628125000065
         ],
         "z": [
          0.0074935781249996225,
          0.004910578125000065
         ]
        },
        {
         "hovertemplate": "geohash2=sp7r7v_109<br>t=%{x}<br>lat_norm=%{y}<br>lon_norm=%{z}<extra></extra>",
         "legendgroup": "sp7r7v_109",
         "line": {
          "color": "#FECB52",
          "dash": "solid"
         },
         "marker": {
          "symbol": "circle"
         },
         "mode": "lines",
         "name": "sp7r7v_109",
         "scene": "scene",
         "showlegend": true,
         "type": "scatter3d",
         "x": [
          16620,
          16650
         ],
         "y": [
          0.00021511718750133468,
          0.0032491171875008718
         ],
         "z": [
          0.0028475781250003607,
          0.0017425781249995609
         ]
        },
        {
         "hovertemplate": "geohash2=sp7r7y_110<br>t=%{x}<br>lat_norm=%{y}<br>lon_norm=%{z}<extra></extra>",
         "legendgroup": "sp7r7y_110",
         "line": {
          "color": "#636efa",
          "dash": "solid"
         },
         "marker": {
          "symbol": "circle"
         },
         "mode": "lines",
         "name": "sp7r7y_110",
         "scene": "scene",
         "showlegend": true,
         "type": "scatter3d",
         "x": [
          16680,
          16710,
          16740,
          16770,
          16800
         ],
         "y": [
          0.0004749531249998995,
          0.0007819531249992906,
          0.0013989531250047094,
          0.0020769531249982265,
          0.003499953125000843
         ],
         "z": [
          0.0013395781250000738,
          0.0018325781249997064,
          0.0033795781250001156,
          0.0033115781250003806,
          0.0030785781249997868
         ]
        },
        {
         "hovertemplate": "geohash2=sp7r7z_111<br>t=%{x}<br>lat_norm=%{y}<br>lon_norm=%{z}<extra></extra>",
         "legendgroup": "sp7r7z_111",
         "line": {
          "color": "#EF553B",
          "dash": "solid"
         },
         "marker": {
          "symbol": "circle"
         },
         "mode": "lines",
         "name": "sp7r7z_111",
         "scene": "scene",
         "showlegend": true,
         "type": "scatter3d",
         "x": [
          16830,
          16860,
          16890
         ],
         "y": [
          0.0005057890625010941,
          0.0019527890625070654,
          0.003432789062500774
         ],
         "z": [
          0.0022695781250003932,
          0.0013615781250004844,
          0.0004105781249998941
         ]
        },
        {
         "hovertemplate": "geohash2=sp7r7x_112<br>t=%{x}<br>lat_norm=%{y}<br>lon_norm=%{z}<extra></extra>",
         "legendgroup": "sp7r7x_112",
         "line": {
          "color": "#00cc96",
          "dash": "solid"
         },
         "marker": {
          "symbol": "circle"
         },
         "mode": "lines",
         "name": "sp7r7x_112",
         "scene": "scene",
         "showlegend": true,
         "type": "scatter3d",
         "x": [
          16920
         ],
         "y": [
          0.004900789062503463
         ],
         "z": [
          0.010189906249999936
         ]
        },
        {
         "hovertemplate": "geohash2=sp7re8_113<br>t=%{x}<br>lat_norm=%{y}<br>lon_norm=%{z}<extra></extra>",
         "legendgroup": "sp7re8_113",
         "line": {
          "color": "#ab63fa",
          "dash": "solid"
         },
         "marker": {
          "symbol": "circle"
         },
         "mode": "lines",
         "name": "sp7re8_113",
         "scene": "scene",
         "showlegend": true,
         "type": "scatter3d",
         "x": [
          16950,
          16980,
          17010
         ],
         "y": [
          0.0018916249999989532,
          0.0032836250000016776,
          0.005400625000000048
         ],
         "z": [
          0.007740906250000457,
          0.006814906249999808,
          0.007874906249999647
         ]
        },
        {
         "hovertemplate": "geohash2=sp7re9_114<br>t=%{x}<br>lat_norm=%{y}<br>lon_norm=%{z}<extra></extra>",
         "legendgroup": "sp7re9_114",
         "line": {
          "color": "#FFA15A",
          "dash": "solid"
         },
         "marker": {
          "symbol": "circle"
         },
         "mode": "lines",
         "name": "sp7re9_114",
         "scene": "scene",
         "showlegend": true,
         "type": "scatter3d",
         "x": [
          17040,
          17070,
          17640
         ],
         "y": [
          0.0007864609375047849,
          0.0008754609375003497,
          0.00017946093750254022
         ],
         "z": [
          0.006781906249999636,
          0.006729906249999473,
          0.006104906250000042
         ]
        },
        {
         "hovertemplate": "geohash2=sp7re8_115<br>t=%{x}<br>lat_norm=%{y}<br>lon_norm=%{z}<extra></extra>",
         "legendgroup": "sp7re8_115",
         "line": {
          "color": "#19d3f3",
          "dash": "solid"
         },
         "marker": {
          "symbol": "circle"
         },
         "mode": "lines",
         "name": "sp7re8_115",
         "scene": "scene",
         "showlegend": true,
         "type": "scatter3d",
         "x": [
          17670,
          17700,
          17730,
          17760,
          17790,
          17850,
          17880,
          17910,
          17940,
          17970,
          18000
         ],
         "y": [
          0.0045536249999997835,
          0.0034146250000048894,
          0.003104625000005967,
          0.002981624999996768,
          0.00296062500000005,
          0.0025066249999952106,
          0.0013676250000003165,
          0.0013696250000023724,
          0.002004625000004978,
          0.002549625000000333,
          0.003051624999997671
         ],
         "z": [
          0.005267906250000287,
          0.004114906249999883,
          0.004489906249999898,
          0.004576906249999624,
          0.004576906249999624,
          0.004942906250000156,
          0.003832906250000434,
          0.0029559062500004174,
          0.00191390625000043,
          0.0008709062500003029,
          1.2906250000277453e-05
         ]
        },
        {
         "hovertemplate": "geohash2=sp7re2_116<br>t=%{x}<br>lat_norm=%{y}<br>lon_norm=%{z}<extra></extra>",
         "legendgroup": "sp7re2_116",
         "line": {
          "color": "#FF6692",
          "dash": "solid"
         },
         "marker": {
          "symbol": "circle"
         },
         "mode": "lines",
         "name": "sp7re2_116",
         "scene": "scene",
         "showlegend": true,
         "type": "scatter3d",
         "x": [
          18030,
          18120,
          18150,
          18180,
          18210,
          18240
         ],
         "y": [
          0.0030866249999945694,
          0.003188624999999945,
          0.003713624999996057,
          0.0045376250000046525,
          0.005184625000005383,
          0.00540662499999911
         ],
         "z": [
          0.010867234375000479,
          0.010613234374999614,
          0.009299234374999799,
          0.008346234374999817,
          0.007277234375000496,
          0.006839234375000558
         ]
        },
        {
         "hovertemplate": "geohash2=sp7re3_117<br>t=%{x}<br>lat_norm=%{y}<br>lon_norm=%{z}<extra></extra>",
         "legendgroup": "sp7re3_117",
         "line": {
          "color": "#B6E880",
          "dash": "solid"
         },
         "marker": {
          "symbol": "circle"
         },
         "mode": "lines",
         "name": "sp7re3_117",
         "scene": "scene",
         "showlegend": true,
         "type": "scatter3d",
         "x": [
          18270,
          19080,
          19110,
          19140,
          19170,
          19200,
          19230,
          19260,
          19290,
          19320,
          19350,
          19380,
          19410,
          19440,
          19470,
          19500
         ],
         "y": [
          7.04609375006271e-05,
          0.00041546093749644797,
          0.0010074609375010368,
          0.0019364609375003283,
          0.00296746093749789,
          0.0038634609374952333,
          0.00489346093749532,
          0.004925460937499793,
          0.003628460937498801,
          0.0033104609374987604,
          0.003978460937496209,
          0.003715460937499415,
          0.003705460937496241,
          0.00292946093750146,
          0.0022204609375009454,
          0.0010254609374982238
         ],
         "z": [
          0.0066482343749996176,
          0.006167234374999886,
          0.00515123437499998,
          0.005576234374999878,
          0.006124234375000093,
          0.0066092343750003835,
          0.007218234375000243,
          0.007832234374999913,
          0.007073234374999515,
          0.00623023437499981,
          0.005109234375000327,
          0.004126234374999704,
          0.0031792343750005614,
          0.0023432343750000584,
          0.0018482343750001462,
          0.0011082343749997392
         ]
        },
        {
         "hovertemplate": "geohash2=sp7re2_118<br>t=%{x}<br>lat_norm=%{y}<br>lon_norm=%{z}<extra></extra>",
         "legendgroup": "sp7re2_118",
         "line": {
          "color": "#FF97FF",
          "dash": "solid"
         },
         "marker": {
          "symbol": "circle"
         },
         "mode": "lines",
         "name": "sp7re2_118",
         "scene": "scene",
         "showlegend": true,
         "type": "scatter3d",
         "x": [
          19530
         ],
         "y": [
          0.004845625000001519
         ],
         "z": [
          0.00011123437499982458
         ]
        },
        {
         "hovertemplate": "geohash2=sp7re0_119<br>t=%{x}<br>lat_norm=%{y}<br>lon_norm=%{z}<extra></extra>",
         "legendgroup": "sp7re0_119",
         "line": {
          "color": "#FECB52",
          "dash": "solid"
         },
         "marker": {
          "symbol": "circle"
         },
         "mode": "lines",
         "name": "sp7re0_119",
         "scene": "scene",
         "showlegend": true,
         "type": "scatter3d",
         "x": [
          19560,
          19590,
          19620
         ],
         "y": [
          0.003117625000001567,
          0.0013706249999998477,
          0.0003846250000023588
         ],
         "z": [
          0.01010056249999991,
          0.008690562499999999,
          0.00869556249999981
         ]
        },
        {
         "hovertemplate": "geohash2=sp7r7p_120<br>t=%{x}<br>lat_norm=%{y}<br>lon_norm=%{z}<extra></extra>",
         "legendgroup": "sp7r7p_120",
         "line": {
          "color": "#636efa",
          "dash": "solid"
         },
         "marker": {
          "symbol": "circle"
         },
         "mode": "lines",
         "name": "sp7r7p_120",
         "scene": "scene",
         "showlegend": true,
         "type": "scatter3d",
         "x": [
          19650,
          19680,
          19800,
          19830
         ],
         "y": [
          0.0052537890625004025,
          0.005164789062497732,
          0.004553789062498481,
          0.003950789062500348
         ],
         "z": [
          0.009140562499999838,
          0.00916656249999992,
          0.00963856250000017,
          0.01026656250000002
         ]
        },
        {
         "hovertemplate": "geohash2=sp7r7r_121<br>t=%{x}<br>lat_norm=%{y}<br>lon_norm=%{z}<extra></extra>",
         "legendgroup": "sp7r7r_121",
         "line": {
          "color": "#EF553B",
          "dash": "solid"
         },
         "marker": {
          "symbol": "circle"
         },
         "mode": "lines",
         "name": "sp7r7r_121",
         "scene": "scene",
         "showlegend": true,
         "type": "scatter3d",
         "x": [
          19860,
          19890
         ],
         "y": [
          0.0023367890624967913,
          0.0005577890625048099
         ],
         "z": [
          0.0008012343749994599,
          0.002524234375000489
         ]
        },
        {
         "hovertemplate": "geohash2=sp7r7q_122<br>t=%{x}<br>lat_norm=%{y}<br>lon_norm=%{z}<extra></extra>",
         "legendgroup": "sp7r7q_122",
         "line": {
          "color": "#00cc96",
          "dash": "solid"
         },
         "marker": {
          "symbol": "circle"
         },
         "mode": "lines",
         "name": "sp7r7q_122",
         "scene": "scene",
         "showlegend": true,
         "type": "scatter3d",
         "x": [
          19920,
          19950,
          19980
         ],
         "y": [
          0.004122953124998219,
          0.002606953125003031,
          0.0013839531249999482
         ],
         "z": [
          0.004263234375000202,
          0.005679234375000064,
          0.0069912343749996
         ]
        },
        {
         "hovertemplate": "geohash2=sp7r7m_123<br>t=%{x}<br>lat_norm=%{y}<br>lon_norm=%{z}<extra></extra>",
         "legendgroup": "sp7r7m_123",
         "line": {
          "color": "#ab63fa",
          "dash": "solid"
         },
         "marker": {
          "symbol": "circle"
         },
         "mode": "lines",
         "name": "sp7r7m_123",
         "scene": "scene",
         "showlegend": true,
         "type": "scatter3d",
         "x": [
          20010,
          20040,
          20070,
          20100,
          20130,
          20160
         ],
         "y": [
          0.005013117187495197,
          0.0035911171874971615,
          0.0032881171874947768,
          0.0031291171875054147,
          0.002859117187504978,
          0.0028351171875016234
         ],
         "z": [
          0.007458234375000039,
          0.007366234374999614,
          0.008077234375000408,
          0.008682234374999709,
          0.009831234374999553,
          0.0105432343749996
         ]
        },
        {
         "hovertemplate": "geohash2=sp7r7t_124<br>t=%{x}<br>lat_norm=%{y}<br>lon_norm=%{z}<extra></extra>",
         "legendgroup": "sp7r7t_124",
         "line": {
          "color": "#FFA15A",
          "dash": "solid"
         },
         "marker": {
          "symbol": "circle"
         },
         "mode": "lines",
         "name": "sp7r7t_124",
         "scene": "scene",
         "showlegend": true,
         "type": "scatter3d",
         "x": [
          20190,
          20220,
          20250,
          20280
         ],
         "y": [
          0.002353117187496423,
          0.0021611171874980073,
          0.0011811171874995807,
          0.00010511718750194632
         ],
         "z": [
          0.0007489062500001253,
          0.0012569062500000783,
          0.001805906250000433,
          0.0020999062499997834
         ]
        },
        {
         "hovertemplate": "geohash2=sp7r7s_125<br>t=%{x}<br>lat_norm=%{y}<br>lon_norm=%{z}<extra></extra>",
         "legendgroup": "sp7r7s_125",
         "line": {
          "color": "#19d3f3",
          "dash": "solid"
         },
         "marker": {
          "symbol": "circle"
         },
         "mode": "lines",
         "name": "sp7r7s_125",
         "scene": "scene",
         "showlegend": true,
         "type": "scatter3d",
         "x": [
          20310,
          20340,
          20370,
          20580,
          20610,
          20640,
          20670,
          20700,
          20730,
          20760,
          20790,
          20820,
          20850
         ],
         "y": [
          0.0046332812500011755,
          0.004154281249995506,
          0.004286281249996193,
          0.00399828124999857,
          0.0034872812500026384,
          0.003134281249998594,
          0.0022712812499960933,
          0.0018822812500047803,
          0.001772281250005392,
          0.001594281249992946,
          0.0012482812499996498,
          0.0011152812500014875,
          0.0004142812499949855
         ],
         "z": [
          0.0021669062500002667,
          0.002297906249999926,
          0.0022119062499994513,
          0.0022109062500001997,
          0.0018919062500000194,
          0.0009439062499998485,
          0.0010029062500001018,
          0.0008519062500003116,
          0.0008249062500000903,
          0.000929906249999668,
          0.0016759062500000255,
          0.002324906250000147,
          0.003077906250000595
         ]
        },
        {
         "hovertemplate": "geohash2=sp7r7e_126<br>t=%{x}<br>lat_norm=%{y}<br>lon_norm=%{z}<extra></extra>",
         "legendgroup": "sp7r7e_126",
         "line": {
          "color": "#FF6692",
          "dash": "solid"
         },
         "marker": {
          "symbol": "circle"
         },
         "mode": "lines",
         "name": "sp7r7e_126",
         "scene": "scene",
         "showlegend": true,
         "type": "scatter3d",
         "x": [
          20880
         ],
         "y": [
          0.005176445312500277
         ],
         "z": [
          0.002801906250000208
         ]
        }
       ],
       "layout": {
        "legend": {
         "title": {
          "text": "geohash2"
         },
         "tracegroupgap": 0
        },
        "margin": {
         "t": 60
        },
        "scene": {
         "domain": {
          "x": [
           0,
           1
          ],
          "y": [
           0,
           1
          ]
         },
         "xaxis": {
          "title": {
           "text": "t"
          }
         },
         "yaxis": {
          "title": {
           "text": "lat_norm"
          }
         },
         "zaxis": {
          "title": {
           "text": "lon_norm"
          }
         }
        },
        "template": {
         "data": {
          "bar": [
           {
            "error_x": {
             "color": "#2a3f5f"
            },
            "error_y": {
             "color": "#2a3f5f"
            },
            "marker": {
             "line": {
              "color": "#E5ECF6",
              "width": 0.5
             },
             "pattern": {
              "fillmode": "overlay",
              "size": 10,
              "solidity": 0.2
             }
            },
            "type": "bar"
           }
          ],
          "barpolar": [
           {
            "marker": {
             "line": {
              "color": "#E5ECF6",
              "width": 0.5
             },
             "pattern": {
              "fillmode": "overlay",
              "size": 10,
              "solidity": 0.2
             }
            },
            "type": "barpolar"
           }
          ],
          "carpet": [
           {
            "aaxis": {
             "endlinecolor": "#2a3f5f",
             "gridcolor": "white",
             "linecolor": "white",
             "minorgridcolor": "white",
             "startlinecolor": "#2a3f5f"
            },
            "baxis": {
             "endlinecolor": "#2a3f5f",
             "gridcolor": "white",
             "linecolor": "white",
             "minorgridcolor": "white",
             "startlinecolor": "#2a3f5f"
            },
            "type": "carpet"
           }
          ],
          "choropleth": [
           {
            "colorbar": {
             "outlinewidth": 0,
             "ticks": ""
            },
            "type": "choropleth"
           }
          ],
          "contour": [
           {
            "colorbar": {
             "outlinewidth": 0,
             "ticks": ""
            },
            "colorscale": [
             [
              0,
              "#0d0887"
             ],
             [
              0.1111111111111111,
              "#46039f"
             ],
             [
              0.2222222222222222,
              "#7201a8"
             ],
             [
              0.3333333333333333,
              "#9c179e"
             ],
             [
              0.4444444444444444,
              "#bd3786"
             ],
             [
              0.5555555555555556,
              "#d8576b"
             ],
             [
              0.6666666666666666,
              "#ed7953"
             ],
             [
              0.7777777777777778,
              "#fb9f3a"
             ],
             [
              0.8888888888888888,
              "#fdca26"
             ],
             [
              1,
              "#f0f921"
             ]
            ],
            "type": "contour"
           }
          ],
          "contourcarpet": [
           {
            "colorbar": {
             "outlinewidth": 0,
             "ticks": ""
            },
            "type": "contourcarpet"
           }
          ],
          "heatmap": [
           {
            "colorbar": {
             "outlinewidth": 0,
             "ticks": ""
            },
            "colorscale": [
             [
              0,
              "#0d0887"
             ],
             [
              0.1111111111111111,
              "#46039f"
             ],
             [
              0.2222222222222222,
              "#7201a8"
             ],
             [
              0.3333333333333333,
              "#9c179e"
             ],
             [
              0.4444444444444444,
              "#bd3786"
             ],
             [
              0.5555555555555556,
              "#d8576b"
             ],
             [
              0.6666666666666666,
              "#ed7953"
             ],
             [
              0.7777777777777778,
              "#fb9f3a"
             ],
             [
              0.8888888888888888,
              "#fdca26"
             ],
             [
              1,
              "#f0f921"
             ]
            ],
            "type": "heatmap"
           }
          ],
          "heatmapgl": [
           {
            "colorbar": {
             "outlinewidth": 0,
             "ticks": ""
            },
            "colorscale": [
             [
              0,
              "#0d0887"
             ],
             [
              0.1111111111111111,
              "#46039f"
             ],
             [
              0.2222222222222222,
              "#7201a8"
             ],
             [
              0.3333333333333333,
              "#9c179e"
             ],
             [
              0.4444444444444444,
              "#bd3786"
             ],
             [
              0.5555555555555556,
              "#d8576b"
             ],
             [
              0.6666666666666666,
              "#ed7953"
             ],
             [
              0.7777777777777778,
              "#fb9f3a"
             ],
             [
              0.8888888888888888,
              "#fdca26"
             ],
             [
              1,
              "#f0f921"
             ]
            ],
            "type": "heatmapgl"
           }
          ],
          "histogram": [
           {
            "marker": {
             "pattern": {
              "fillmode": "overlay",
              "size": 10,
              "solidity": 0.2
             }
            },
            "type": "histogram"
           }
          ],
          "histogram2d": [
           {
            "colorbar": {
             "outlinewidth": 0,
             "ticks": ""
            },
            "colorscale": [
             [
              0,
              "#0d0887"
             ],
             [
              0.1111111111111111,
              "#46039f"
             ],
             [
              0.2222222222222222,
              "#7201a8"
             ],
             [
              0.3333333333333333,
              "#9c179e"
             ],
             [
              0.4444444444444444,
              "#bd3786"
             ],
             [
              0.5555555555555556,
              "#d8576b"
             ],
             [
              0.6666666666666666,
              "#ed7953"
             ],
             [
              0.7777777777777778,
              "#fb9f3a"
             ],
             [
              0.8888888888888888,
              "#fdca26"
             ],
             [
              1,
              "#f0f921"
             ]
            ],
            "type": "histogram2d"
           }
          ],
          "histogram2dcontour": [
           {
            "colorbar": {
             "outlinewidth": 0,
             "ticks": ""
            },
            "colorscale": [
             [
              0,
              "#0d0887"
             ],
             [
              0.1111111111111111,
              "#46039f"
             ],
             [
              0.2222222222222222,
              "#7201a8"
             ],
             [
              0.3333333333333333,
              "#9c179e"
             ],
             [
              0.4444444444444444,
              "#bd3786"
             ],
             [
              0.5555555555555556,
              "#d8576b"
             ],
             [
              0.6666666666666666,
              "#ed7953"
             ],
             [
              0.7777777777777778,
              "#fb9f3a"
             ],
             [
              0.8888888888888888,
              "#fdca26"
             ],
             [
              1,
              "#f0f921"
             ]
            ],
            "type": "histogram2dcontour"
           }
          ],
          "mesh3d": [
           {
            "colorbar": {
             "outlinewidth": 0,
             "ticks": ""
            },
            "type": "mesh3d"
           }
          ],
          "parcoords": [
           {
            "line": {
             "colorbar": {
              "outlinewidth": 0,
              "ticks": ""
             }
            },
            "type": "parcoords"
           }
          ],
          "pie": [
           {
            "automargin": true,
            "type": "pie"
           }
          ],
          "scatter": [
           {
            "fillpattern": {
             "fillmode": "overlay",
             "size": 10,
             "solidity": 0.2
            },
            "type": "scatter"
           }
          ],
          "scatter3d": [
           {
            "line": {
             "colorbar": {
              "outlinewidth": 0,
              "ticks": ""
             }
            },
            "marker": {
             "colorbar": {
              "outlinewidth": 0,
              "ticks": ""
             }
            },
            "type": "scatter3d"
           }
          ],
          "scattercarpet": [
           {
            "marker": {
             "colorbar": {
              "outlinewidth": 0,
              "ticks": ""
             }
            },
            "type": "scattercarpet"
           }
          ],
          "scattergeo": [
           {
            "marker": {
             "colorbar": {
              "outlinewidth": 0,
              "ticks": ""
             }
            },
            "type": "scattergeo"
           }
          ],
          "scattergl": [
           {
            "marker": {
             "colorbar": {
              "outlinewidth": 0,
              "ticks": ""
             }
            },
            "type": "scattergl"
           }
          ],
          "scattermapbox": [
           {
            "marker": {
             "colorbar": {
              "outlinewidth": 0,
              "ticks": ""
             }
            },
            "type": "scattermapbox"
           }
          ],
          "scatterpolar": [
           {
            "marker": {
             "colorbar": {
              "outlinewidth": 0,
              "ticks": ""
             }
            },
            "type": "scatterpolar"
           }
          ],
          "scatterpolargl": [
           {
            "marker": {
             "colorbar": {
              "outlinewidth": 0,
              "ticks": ""
             }
            },
            "type": "scatterpolargl"
           }
          ],
          "scatterternary": [
           {
            "marker": {
             "colorbar": {
              "outlinewidth": 0,
              "ticks": ""
             }
            },
            "type": "scatterternary"
           }
          ],
          "surface": [
           {
            "colorbar": {
             "outlinewidth": 0,
             "ticks": ""
            },
            "colorscale": [
             [
              0,
              "#0d0887"
             ],
             [
              0.1111111111111111,
              "#46039f"
             ],
             [
              0.2222222222222222,
              "#7201a8"
             ],
             [
              0.3333333333333333,
              "#9c179e"
             ],
             [
              0.4444444444444444,
              "#bd3786"
             ],
             [
              0.5555555555555556,
              "#d8576b"
             ],
             [
              0.6666666666666666,
              "#ed7953"
             ],
             [
              0.7777777777777778,
              "#fb9f3a"
             ],
             [
              0.8888888888888888,
              "#fdca26"
             ],
             [
              1,
              "#f0f921"
             ]
            ],
            "type": "surface"
           }
          ],
          "table": [
           {
            "cells": {
             "fill": {
              "color": "#EBF0F8"
             },
             "line": {
              "color": "white"
             }
            },
            "header": {
             "fill": {
              "color": "#C8D4E3"
             },
             "line": {
              "color": "white"
             }
            },
            "type": "table"
           }
          ]
         },
         "layout": {
          "annotationdefaults": {
           "arrowcolor": "#2a3f5f",
           "arrowhead": 0,
           "arrowwidth": 1
          },
          "autotypenumbers": "strict",
          "coloraxis": {
           "colorbar": {
            "outlinewidth": 0,
            "ticks": ""
           }
          },
          "colorscale": {
           "diverging": [
            [
             0,
             "#8e0152"
            ],
            [
             0.1,
             "#c51b7d"
            ],
            [
             0.2,
             "#de77ae"
            ],
            [
             0.3,
             "#f1b6da"
            ],
            [
             0.4,
             "#fde0ef"
            ],
            [
             0.5,
             "#f7f7f7"
            ],
            [
             0.6,
             "#e6f5d0"
            ],
            [
             0.7,
             "#b8e186"
            ],
            [
             0.8,
             "#7fbc41"
            ],
            [
             0.9,
             "#4d9221"
            ],
            [
             1,
             "#276419"
            ]
           ],
           "sequential": [
            [
             0,
             "#0d0887"
            ],
            [
             0.1111111111111111,
             "#46039f"
            ],
            [
             0.2222222222222222,
             "#7201a8"
            ],
            [
             0.3333333333333333,
             "#9c179e"
            ],
            [
             0.4444444444444444,
             "#bd3786"
            ],
            [
             0.5555555555555556,
             "#d8576b"
            ],
            [
             0.6666666666666666,
             "#ed7953"
            ],
            [
             0.7777777777777778,
             "#fb9f3a"
            ],
            [
             0.8888888888888888,
             "#fdca26"
            ],
            [
             1,
             "#f0f921"
            ]
           ],
           "sequentialminus": [
            [
             0,
             "#0d0887"
            ],
            [
             0.1111111111111111,
             "#46039f"
            ],
            [
             0.2222222222222222,
             "#7201a8"
            ],
            [
             0.3333333333333333,
             "#9c179e"
            ],
            [
             0.4444444444444444,
             "#bd3786"
            ],
            [
             0.5555555555555556,
             "#d8576b"
            ],
            [
             0.6666666666666666,
             "#ed7953"
            ],
            [
             0.7777777777777778,
             "#fb9f3a"
            ],
            [
             0.8888888888888888,
             "#fdca26"
            ],
            [
             1,
             "#f0f921"
            ]
           ]
          },
          "colorway": [
           "#636efa",
           "#EF553B",
           "#00cc96",
           "#ab63fa",
           "#FFA15A",
           "#19d3f3",
           "#FF6692",
           "#B6E880",
           "#FF97FF",
           "#FECB52"
          ],
          "font": {
           "color": "#2a3f5f"
          },
          "geo": {
           "bgcolor": "white",
           "lakecolor": "white",
           "landcolor": "#E5ECF6",
           "showlakes": true,
           "showland": true,
           "subunitcolor": "white"
          },
          "hoverlabel": {
           "align": "left"
          },
          "hovermode": "closest",
          "mapbox": {
           "style": "light"
          },
          "paper_bgcolor": "white",
          "plot_bgcolor": "#E5ECF6",
          "polar": {
           "angularaxis": {
            "gridcolor": "white",
            "linecolor": "white",
            "ticks": ""
           },
           "bgcolor": "#E5ECF6",
           "radialaxis": {
            "gridcolor": "white",
            "linecolor": "white",
            "ticks": ""
           }
          },
          "scene": {
           "xaxis": {
            "backgroundcolor": "#E5ECF6",
            "gridcolor": "white",
            "gridwidth": 2,
            "linecolor": "white",
            "showbackground": true,
            "ticks": "",
            "zerolinecolor": "white"
           },
           "yaxis": {
            "backgroundcolor": "#E5ECF6",
            "gridcolor": "white",
            "gridwidth": 2,
            "linecolor": "white",
            "showbackground": true,
            "ticks": "",
            "zerolinecolor": "white"
           },
           "zaxis": {
            "backgroundcolor": "#E5ECF6",
            "gridcolor": "white",
            "gridwidth": 2,
            "linecolor": "white",
            "showbackground": true,
            "ticks": "",
            "zerolinecolor": "white"
           }
          },
          "shapedefaults": {
           "line": {
            "color": "#2a3f5f"
           }
          },
          "ternary": {
           "aaxis": {
            "gridcolor": "white",
            "linecolor": "white",
            "ticks": ""
           },
           "baxis": {
            "gridcolor": "white",
            "linecolor": "white",
            "ticks": ""
           },
           "bgcolor": "#E5ECF6",
           "caxis": {
            "gridcolor": "white",
            "linecolor": "white",
            "ticks": ""
           }
          },
          "title": {
           "x": 0.05
          },
          "xaxis": {
           "automargin": true,
           "gridcolor": "white",
           "linecolor": "white",
           "ticks": "",
           "title": {
            "standoff": 15
           },
           "zerolinecolor": "white",
           "zerolinewidth": 2
          },
          "yaxis": {
           "automargin": true,
           "gridcolor": "white",
           "linecolor": "white",
           "ticks": "",
           "title": {
            "standoff": 15
           },
           "zerolinecolor": "white",
           "zerolinewidth": 2
          }
         }
        }
       }
      },
      "text/html": [
       "<div>                            <div id=\"b30d2145-32f6-4b03-a2b7-a72dbebe740d\" class=\"plotly-graph-div\" style=\"height:525px; width:100%;\"></div>            <script type=\"text/javascript\">                require([\"plotly\"], function(Plotly) {                    window.PLOTLYENV=window.PLOTLYENV || {};                                    if (document.getElementById(\"b30d2145-32f6-4b03-a2b7-a72dbebe740d\")) {                    Plotly.newPlot(                        \"b30d2145-32f6-4b03-a2b7-a72dbebe740d\",                        [{\"hovertemplate\":\"geohash2=spe2nd_30<br>t=%{x}<br>lat_norm=%{y}<br>lon_norm=%{z}<extra></extra>\",\"legendgroup\":\"spe2nd_30\",\"line\":{\"color\":\"#636efa\",\"dash\":\"solid\"},\"marker\":{\"symbol\":\"circle\"},\"mode\":\"lines\",\"name\":\"spe2nd_30\",\"scene\":\"scene\",\"showlegend\":true,\"x\":[0,30,960,990,1020,1050,1080,1230,1260],\"y\":[0.004819671874997766,0.00485367187499719,0.004764671874994519,0.003930671875004066,0.003477671875003807,0.003548671875002185,0.0035146718749956563,0.00318167187499796,0.0001656718750027153],\"z\":[0.004550968750000273,0.004375968749999792,0.004726968750000005,0.004917968750000057,0.00449596874999969,0.0029359687500001286,0.0028039687499994415,0.0020679687499995936,0.0008789687499994869],\"type\":\"scatter3d\"},{\"hovertemplate\":\"geohash2=spe2n3_31<br>t=%{x}<br>lat_norm=%{y}<br>lon_norm=%{z}<extra></extra>\",\"legendgroup\":\"spe2n3_31\",\"line\":{\"color\":\"#EF553B\",\"dash\":\"solid\"},\"marker\":{\"symbol\":\"circle\"},\"mode\":\"lines\",\"name\":\"spe2n3_31\",\"scene\":\"scene\",\"showlegend\":true,\"x\":[1290],\"y\":[0.0017678359374997399],\"z\":[0.010412296874999782],\"type\":\"scatter3d\"},{\"hovertemplate\":\"geohash2=spe2n2_32<br>t=%{x}<br>lat_norm=%{y}<br>lon_norm=%{z}<extra></extra>\",\"legendgroup\":\"spe2n2_32\",\"line\":{\"color\":\"#00cc96\",\"dash\":\"solid\"},\"marker\":{\"symbol\":\"circle\"},\"mode\":\"lines\",\"name\":\"spe2n2_32\",\"scene\":\"scene\",\"showlegend\":true,\"x\":[1320],\"y\":[0.003117000000003145],\"z\":[0.008021296875000417],\"type\":\"scatter3d\"},{\"hovertemplate\":\"geohash2=sp7ryr_33<br>t=%{x}<br>lat_norm=%{y}<br>lon_norm=%{z}<extra></extra>\",\"legendgroup\":\"sp7ryr_33\",\"line\":{\"color\":\"#ab63fa\",\"dash\":\"solid\"},\"marker\":{\"symbol\":\"circle\"},\"mode\":\"lines\",\"name\":\"sp7ryr_33\",\"scene\":\"scene\",\"showlegend\":true,\"x\":[1350,1380,1410],\"y\":[0.005199164062496209,0.002952164062506313,0.00011616406249714828],\"z\":[0.005253296874999869,0.002997296874999833,0.0006592968749998818],\"type\":\"scatter3d\"},{\"hovertemplate\":\"geohash2=sp7ryn_34<br>t=%{x}<br>lat_norm=%{y}<br>lon_norm=%{z}<extra></extra>\",\"legendgroup\":\"sp7ryn_34\",\"line\":{\"color\":\"#FFA15A\",\"dash\":\"solid\"},\"marker\":{\"symbol\":\"circle\"},\"mode\":\"lines\",\"name\":\"sp7ryn_34\",\"scene\":\"scene\",\"showlegend\":true,\"x\":[1440],\"y\":[0.0036063281250022783],\"z\":[0.009800624999999563],\"type\":\"scatter3d\"},{\"hovertemplate\":\"geohash2=sp7ryj_35<br>t=%{x}<br>lat_norm=%{y}<br>lon_norm=%{z}<extra></extra>\",\"legendgroup\":\"sp7ryj_35\",\"line\":{\"color\":\"#19d3f3\",\"dash\":\"solid\"},\"marker\":{\"symbol\":\"circle\"},\"mode\":\"lines\",\"name\":\"sp7ryj_35\",\"scene\":\"scene\",\"showlegend\":true,\"x\":[1470,1500,1530,1560],\"y\":[0.005110492187498039,0.0015104921874993238,0.001234492187499825,0.00041249218750039063],\"z\":[0.006741625000000084,0.003403624999999799,0.0018866250000000306,0.002112625000000534],\"type\":\"scatter3d\"},{\"hovertemplate\":\"geohash2=sp7ryh_36<br>t=%{x}<br>lat_norm=%{y}<br>lon_norm=%{z}<extra></extra>\",\"legendgroup\":\"sp7ryh_36\",\"line\":{\"color\":\"#FF6692\",\"dash\":\"solid\"},\"marker\":{\"symbol\":\"circle\"},\"mode\":\"lines\",\"name\":\"sp7ryh_36\",\"scene\":\"scene\",\"showlegend\":true,\"x\":[1590],\"y\":[0.005129656249998504],\"z\":[0.00095362500000018],\"type\":\"scatter3d\"},{\"hovertemplate\":\"geohash2=sp7rvu_37<br>t=%{x}<br>lat_norm=%{y}<br>lon_norm=%{z}<extra></extra>\",\"legendgroup\":\"sp7rvu_37\",\"line\":{\"color\":\"#B6E880\",\"dash\":\"solid\"},\"marker\":{\"symbol\":\"circle\"},\"mode\":\"lines\",\"name\":\"sp7rvu_37\",\"scene\":\"scene\",\"showlegend\":true,\"x\":[1620,1650],\"y\":[0.002885656250001034,0.0003776562500021896],\"z\":[0.007760953125000469,0.002775953125000008],\"type\":\"scatter3d\"},{\"hovertemplate\":\"geohash2=sp7rve_38<br>t=%{x}<br>lat_norm=%{y}<br>lon_norm=%{z}<extra></extra>\",\"legendgroup\":\"sp7rve_38\",\"line\":{\"color\":\"#FF97FF\",\"dash\":\"solid\"},\"marker\":{\"symbol\":\"circle\"},\"mode\":\"lines\",\"name\":\"sp7rve_38\",\"scene\":\"scene\",\"showlegend\":true,\"x\":[1680],\"y\":[0.003261820312495445],\"z\":[0.008573281250000342],\"type\":\"scatter3d\"},{\"hovertemplate\":\"geohash2=sp7rvd_39<br>t=%{x}<br>lat_norm=%{y}<br>lon_norm=%{z}<extra></extra>\",\"legendgroup\":\"sp7rvd_39\",\"line\":{\"color\":\"#FECB52\",\"dash\":\"solid\"},\"marker\":{\"symbol\":\"circle\"},\"mode\":\"lines\",\"name\":\"sp7rvd_39\",\"scene\":\"scene\",\"showlegend\":true,\"x\":[1710,1740],\"y\":[0.004823984375001089,0.001120984374999523],\"z\":[0.00465528124999981,0.0024452812499999865],\"type\":\"scatter3d\"},{\"hovertemplate\":\"geohash2=sp7rv3_40<br>t=%{x}<br>lat_norm=%{y}<br>lon_norm=%{z}<extra></extra>\",\"legendgroup\":\"sp7rv3_40\",\"line\":{\"color\":\"#636efa\",\"dash\":\"solid\"},\"marker\":{\"symbol\":\"circle\"},\"mode\":\"lines\",\"name\":\"sp7rv3_40\",\"scene\":\"scene\",\"showlegend\":true,\"x\":[1770],\"y\":[0.0019601484374973666],\"z\":[0.010527609374999969],\"type\":\"scatter3d\"},{\"hovertemplate\":\"geohash2=sp7rv2_41<br>t=%{x}<br>lat_norm=%{y}<br>lon_norm=%{z}<extra></extra>\",\"legendgroup\":\"sp7rv2_41\",\"line\":{\"color\":\"#EF553B\",\"dash\":\"solid\"},\"marker\":{\"symbol\":\"circle\"},\"mode\":\"lines\",\"name\":\"sp7rv2_41\",\"scene\":\"scene\",\"showlegend\":true,\"x\":[1800],\"y\":[0.0022883124999992788],\"z\":[0.007367609374999695],\"type\":\"scatter3d\"},{\"hovertemplate\":\"geohash2=sp7rtr_42<br>t=%{x}<br>lat_norm=%{y}<br>lon_norm=%{z}<extra></extra>\",\"legendgroup\":\"sp7rtr_42\",\"line\":{\"color\":\"#00cc96\",\"dash\":\"solid\"},\"marker\":{\"symbol\":\"circle\"},\"mode\":\"lines\",\"name\":\"sp7rtr_42\",\"scene\":\"scene\",\"showlegend\":true,\"x\":[1830],\"y\":[0.002939476562495713],\"z\":[0.0037596093749998616],\"type\":\"scatter3d\"},{\"hovertemplate\":\"geohash2=sp7rtn_43<br>t=%{x}<br>lat_norm=%{y}<br>lon_norm=%{z}<extra></extra>\",\"legendgroup\":\"sp7rtn_43\",\"line\":{\"color\":\"#ab63fa\",\"dash\":\"solid\"},\"marker\":{\"symbol\":\"circle\"},\"mode\":\"lines\",\"name\":\"sp7rtn_43\",\"scene\":\"scene\",\"showlegend\":true,\"x\":[1860,1890],\"y\":[0.0052626406249984825,0.0026126406249957768],\"z\":[0.009685937499999575,0.004459937500000066],\"type\":\"scatter3d\"},{\"hovertemplate\":\"geohash2=sp7rsv_44<br>t=%{x}<br>lat_norm=%{y}<br>lon_norm=%{z}<extra></extra>\",\"legendgroup\":\"sp7rsv_44\",\"line\":{\"color\":\"#FFA15A\",\"dash\":\"solid\"},\"marker\":{\"symbol\":\"circle\"},\"mode\":\"lines\",\"name\":\"sp7rsv_44\",\"scene\":\"scene\",\"showlegend\":true,\"x\":[1920,1950],\"y\":[0.0053478046874957386,0.002534804687499559],\"z\":[0.010010265624999626,0.004555265625000082],\"type\":\"scatter3d\"},{\"hovertemplate\":\"geohash2=sp7rsu_45<br>t=%{x}<br>lat_norm=%{y}<br>lon_norm=%{z}<extra></extra>\",\"legendgroup\":\"sp7rsu_45\",\"line\":{\"color\":\"#19d3f3\",\"dash\":\"solid\"},\"marker\":{\"symbol\":\"circle\"},\"mode\":\"lines\",\"name\":\"sp7rsu_45\",\"scene\":\"scene\",\"showlegend\":true,\"x\":[1980],\"y\":[0.004110968749998278],\"z\":[0.00027326562500018525],\"type\":\"scatter3d\"},{\"hovertemplate\":\"geohash2=sp7rse_46<br>t=%{x}<br>lat_norm=%{y}<br>lon_norm=%{z}<extra></extra>\",\"legendgroup\":\"sp7rse_46\",\"line\":{\"color\":\"#FF6692\",\"dash\":\"solid\"},\"marker\":{\"symbol\":\"circle\"},\"mode\":\"lines\",\"name\":\"sp7rse_46\",\"scene\":\"scene\",\"showlegend\":true,\"x\":[2010],\"y\":[0.004287132812493155],\"z\":[0.00855159375000003],\"type\":\"scatter3d\"},{\"hovertemplate\":\"geohash2=sp7rsd_47<br>t=%{x}<br>lat_norm=%{y}<br>lon_norm=%{z}<extra></extra>\",\"legendgroup\":\"sp7rsd_47\",\"line\":{\"color\":\"#B6E880\",\"dash\":\"solid\"},\"marker\":{\"symbol\":\"circle\"},\"mode\":\"lines\",\"name\":\"sp7rsd_47\",\"scene\":\"scene\",\"showlegend\":true,\"x\":[2040,2070,2100],\"y\":[0.004236296874999823,0.00036929687500020236,0.0003572968749949723],\"z\":[0.006693593749999671,0.00449959374999942,0.004491593750000078],\"type\":\"scatter3d\"},{\"hovertemplate\":\"geohash2=sp7rs9_48<br>t=%{x}<br>lat_norm=%{y}<br>lon_norm=%{z}<extra></extra>\",\"legendgroup\":\"sp7rs9_48\",\"line\":{\"color\":\"#FF97FF\",\"dash\":\"solid\"},\"marker\":{\"symbol\":\"circle\"},\"mode\":\"lines\",\"name\":\"sp7rs9_48\",\"scene\":\"scene\",\"showlegend\":true,\"x\":[2160,2190],\"y\":[0.005440460937499836,0.0014124609375016917],\"z\":[0.004138593749999586,0.0006615937500003],\"type\":\"scatter3d\"},{\"hovertemplate\":\"geohash2=sp7rs2_49<br>t=%{x}<br>lat_norm=%{y}<br>lon_norm=%{z}<extra></extra>\",\"legendgroup\":\"sp7rs2_49\",\"line\":{\"color\":\"#FECB52\",\"dash\":\"solid\"},\"marker\":{\"symbol\":\"circle\"},\"mode\":\"lines\",\"name\":\"sp7rs2_49\",\"scene\":\"scene\",\"showlegend\":true,\"x\":[2220],\"y\":[0.0018316249999941192],\"z\":[0.008220921875000009],\"type\":\"scatter3d\"},{\"hovertemplate\":\"geohash2=sp7rkr_50<br>t=%{x}<br>lat_norm=%{y}<br>lon_norm=%{z}<extra></extra>\",\"legendgroup\":\"sp7rkr_50\",\"line\":{\"color\":\"#636efa\",\"dash\":\"solid\"},\"marker\":{\"symbol\":\"circle\"},\"mode\":\"lines\",\"name\":\"sp7rkr_50\",\"scene\":\"scene\",\"showlegend\":true,\"x\":[2250],\"y\":[0.0016827890625066289],\"z\":[0.006634921875000366],\"type\":\"scatter3d\"},{\"hovertemplate\":\"geohash2=sp7rkq_51<br>t=%{x}<br>lat_norm=%{y}<br>lon_norm=%{z}<extra></extra>\",\"legendgroup\":\"sp7rkq_51\",\"line\":{\"color\":\"#EF553B\",\"dash\":\"solid\"},\"marker\":{\"symbol\":\"circle\"},\"mode\":\"lines\",\"name\":\"sp7rkq_51\",\"scene\":\"scene\",\"showlegend\":true,\"x\":[2280],\"y\":[0.0019239531250008213],\"z\":[0.003750921874999591],\"type\":\"scatter3d\"},{\"hovertemplate\":\"geohash2=sp7rkm_52<br>t=%{x}<br>lat_norm=%{y}<br>lon_norm=%{z}<extra></extra>\",\"legendgroup\":\"sp7rkm_52\",\"line\":{\"color\":\"#00cc96\",\"dash\":\"solid\"},\"marker\":{\"symbol\":\"circle\"},\"mode\":\"lines\",\"name\":\"sp7rkm_52\",\"scene\":\"scene\",\"showlegend\":true,\"x\":[2310],\"y\":[0.002251117187498153],\"z\":[0.0016649218750002248],\"type\":\"scatter3d\"},{\"hovertemplate\":\"geohash2=sp7rkk_53<br>t=%{x}<br>lat_norm=%{y}<br>lon_norm=%{z}<extra></extra>\",\"legendgroup\":\"sp7rkk_53\",\"line\":{\"color\":\"#ab63fa\",\"dash\":\"solid\"},\"marker\":{\"symbol\":\"circle\"},\"mode\":\"lines\",\"name\":\"sp7rkk_53\",\"scene\":\"scene\",\"showlegend\":true,\"x\":[2340],\"y\":[0.002733281250002051],\"z\":[3.4921874999760405e-05],\"type\":\"scatter3d\"},{\"hovertemplate\":\"geohash2=sp7rk5_54<br>t=%{x}<br>lat_norm=%{y}<br>lon_norm=%{z}<extra></extra>\",\"legendgroup\":\"sp7rk5_54\",\"line\":{\"color\":\"#FFA15A\",\"dash\":\"solid\"},\"marker\":{\"symbol\":\"circle\"},\"mode\":\"lines\",\"name\":\"sp7rk5_54\",\"scene\":\"scene\",\"showlegend\":true,\"x\":[2370],\"y\":[0.003418445312505014],\"z\":[0.0079072499999997],\"type\":\"scatter3d\"},{\"hovertemplate\":\"geohash2=sp7rk4_55<br>t=%{x}<br>lat_norm=%{y}<br>lon_norm=%{z}<extra></extra>\",\"legendgroup\":\"sp7rk4_55\",\"line\":{\"color\":\"#19d3f3\",\"dash\":\"solid\"},\"marker\":{\"symbol\":\"circle\"},\"mode\":\"lines\",\"name\":\"sp7rk4_55\",\"scene\":\"scene\",\"showlegend\":true,\"x\":[2400],\"y\":[0.0049926093750016776],\"z\":[0.005262249999999469],\"type\":\"scatter3d\"},{\"hovertemplate\":\"geohash2=sp7rk5_56<br>t=%{x}<br>lat_norm=%{y}<br>lon_norm=%{z}<extra></extra>\",\"legendgroup\":\"sp7rk5_56\",\"line\":{\"color\":\"#FF6692\",\"dash\":\"solid\"},\"marker\":{\"symbol\":\"circle\"},\"mode\":\"lines\",\"name\":\"sp7rk5_56\",\"scene\":\"scene\",\"showlegend\":true,\"x\":[2430,2460,2490,2520,4170,4200],\"y\":[5.4453125031272975e-06,0.0005774453124942625,0.0015064453125006594,0.0016294453124956476,0.0007884453125015511,0.0007464453125010095],\"z\":[0.003087250000000097,0.0015262500000003953,0.002003250000000456,0.0020202500000001677,0.0015522499999995887,0.00158725000000004],\"type\":\"scatter3d\"},{\"hovertemplate\":\"geohash2=sp7rk4_57<br>t=%{x}<br>lat_norm=%{y}<br>lon_norm=%{z}<extra></extra>\",\"legendgroup\":\"sp7rk4_57\",\"line\":{\"color\":\"#B6E880\",\"dash\":\"solid\"},\"marker\":{\"symbol\":\"circle\"},\"mode\":\"lines\",\"name\":\"sp7rk4_57\",\"scene\":\"scene\",\"showlegend\":true,\"x\":[4230,4260],\"y\":[0.005131609374998902,0.004414609374997269],\"z\":[0.0010752500000004162,0.00048525000000054774],\"type\":\"scatter3d\"},{\"hovertemplate\":\"geohash2=sp7r7f_58<br>t=%{x}<br>lat_norm=%{y}<br>lon_norm=%{z}<extra></extra>\",\"legendgroup\":\"sp7r7f_58\",\"line\":{\"color\":\"#FF97FF\",\"dash\":\"solid\"},\"marker\":{\"symbol\":\"circle\"},\"mode\":\"lines\",\"name\":\"sp7r7f_58\",\"scene\":\"scene\",\"showlegend\":true,\"x\":[4290],\"y\":[0.005486609375005003],\"z\":[0.009561578125000025],\"type\":\"scatter3d\"},{\"hovertemplate\":\"geohash2=sp7r7g_59<br>t=%{x}<br>lat_norm=%{y}<br>lon_norm=%{z}<extra></extra>\",\"legendgroup\":\"sp7r7g_59\",\"line\":{\"color\":\"#FECB52\",\"dash\":\"solid\"},\"marker\":{\"symbol\":\"circle\"},\"mode\":\"lines\",\"name\":\"sp7r7g_59\",\"scene\":\"scene\",\"showlegend\":true,\"x\":[4320,4350,5130,5160,5190,5220,5250],\"y\":[0.00040744531249714555,0.0004504453125022678,0.000527445312499708,0.0008734453125001096,0.003025445312502484,0.00416844531250149,0.005330445312502263],\"z\":[0.008623578124999476,0.00838557812499996,0.007982578124999584,0.0071575781249997306,0.007603578124999899,0.007852578125000065,0.008303578125000044],\"type\":\"scatter3d\"},{\"hovertemplate\":\"geohash2=sp7r7u_60<br>t=%{x}<br>lat_norm=%{y}<br>lon_norm=%{z}<extra></extra>\",\"legendgroup\":\"sp7r7u_60\",\"line\":{\"color\":\"#636efa\",\"dash\":\"solid\"},\"marker\":{\"symbol\":\"circle\"},\"mode\":\"lines\",\"name\":\"sp7r7u_60\",\"scene\":\"scene\",\"showlegend\":true,\"x\":[5280,5310,5340,5370],\"y\":[0.0019422812500025088,0.002873281249996751,0.0033592812499989577,0.005090281249998441],\"z\":[0.009092578125000195,0.009270578125000206,0.009429578125000226,0.009540578124999755],\"type\":\"scatter3d\"},{\"hovertemplate\":\"geohash2=sp7r7v_61<br>t=%{x}<br>lat_norm=%{y}<br>lon_norm=%{z}<extra></extra>\",\"legendgroup\":\"sp7r7v_61\",\"line\":{\"color\":\"#EF553B\",\"dash\":\"solid\"},\"marker\":{\"symbol\":\"circle\"},\"mode\":\"lines\",\"name\":\"sp7r7v_61\",\"scene\":\"scene\",\"showlegend\":true,\"x\":[5400,5430],\"y\":[0.001795117187498363,0.0040691171875053556],\"z\":[0.009046578124999982,0.008677578124999918],\"type\":\"scatter3d\"},{\"hovertemplate\":\"geohash2=sp7r7y_62<br>t=%{x}<br>lat_norm=%{y}<br>lon_norm=%{z}<extra></extra>\",\"legendgroup\":\"sp7r7y_62\",\"line\":{\"color\":\"#00cc96\",\"dash\":\"solid\"},\"marker\":{\"symbol\":\"circle\"},\"mode\":\"lines\",\"name\":\"sp7r7y_62\",\"scene\":\"scene\",\"showlegend\":true,\"x\":[5460,5490,5520,5550,5580],\"y\":[0.0005749531249961137,0.0016509531250008536,0.0018079531249952652,0.0032519531250017053,0.004449953124996853],\"z\":[0.008306578125000463,0.00808257812500024,0.00809157812500061,0.007833578125000074,0.0076615781250000126],\"type\":\"scatter3d\"},{\"hovertemplate\":\"geohash2=sp7r7z_63<br>t=%{x}<br>lat_norm=%{y}<br>lon_norm=%{z}<extra></extra>\",\"legendgroup\":\"sp7r7z_63\",\"line\":{\"color\":\"#ab63fa\",\"dash\":\"solid\"},\"marker\":{\"symbol\":\"circle\"},\"mode\":\"lines\",\"name\":\"sp7r7z_63\",\"scene\":\"scene\",\"showlegend\":true,\"x\":[5610,5640,5730,5760,5790,5850,5880,5910,5940],\"y\":[0.0003337890625019213,0.0004347890624956108,0.0009557890625018217,0.0008697890624986826,0.000903789062498106,0.0008837890624988631,0.00077478906249695,0.0025497890624990305,0.004925789062504293],\"z\":[0.007402578125000225,0.007402578125000225,0.007317578124999891,0.006413578124999653,0.0063785781250000895,0.005974578125000463,0.0056145781249998805,0.0051985781249994645,0.004556578125000321],\"type\":\"scatter3d\"},{\"hovertemplate\":\"geohash2=sp7reb_64<br>t=%{x}<br>lat_norm=%{y}<br>lon_norm=%{z}<extra></extra>\",\"legendgroup\":\"sp7reb_64\",\"line\":{\"color\":\"#FFA15A\",\"dash\":\"solid\"},\"marker\":{\"symbol\":\"circle\"},\"mode\":\"lines\",\"name\":\"sp7reb_64\",\"scene\":\"scene\",\"showlegend\":true,\"x\":[5970,6000,6030,6060,6090,6120],\"y\":[0.0016686250000006453,0.0027116249999963316,0.0029936249999948927,0.0023946250000008718,0.0023066249999956767,0.0023076250000002574],\"z\":[0.003037578125000273,0.002285578124999965,0.001558578124999599,0.0009595781250002489,0.0006965781249999026,0.0005035781249995708],\"type\":\"scatter3d\"},{\"hovertemplate\":\"geohash2=sp7re8_65<br>t=%{x}<br>lat_norm=%{y}<br>lon_norm=%{z}<extra></extra>\",\"legendgroup\":\"sp7re8_65\",\"line\":{\"color\":\"#19d3f3\",\"dash\":\"solid\"},\"marker\":{\"symbol\":\"circle\"},\"mode\":\"lines\",\"name\":\"sp7re8_65\",\"scene\":\"scene\",\"showlegend\":true,\"x\":[6480,6510,6540],\"y\":[0.0031526249999984657,0.004511624999999242,0.005233624999995357],\"z\":[0.010615906249999973,0.009083906249999885,0.008401906249999591],\"type\":\"scatter3d\"},{\"hovertemplate\":\"geohash2=sp7re9_66<br>t=%{x}<br>lat_norm=%{y}<br>lon_norm=%{z}<extra></extra>\",\"legendgroup\":\"sp7re9_66\",\"line\":{\"color\":\"#FF6692\",\"dash\":\"solid\"},\"marker\":{\"symbol\":\"circle\"},\"mode\":\"lines\",\"name\":\"sp7re9_66\",\"scene\":\"scene\",\"showlegend\":true,\"x\":[6570,6600,6630,6660,6690],\"y\":[0.0009424609375017212,0.0010994609375032383,0.0011004609375007135,0.0014574609375017644,0.0005164609375043483],\"z\":[0.007027906250000271,0.0068259062500004575,0.006790906250000006,0.006150906250000254,0.005428906249999699],\"type\":\"scatter3d\"},{\"hovertemplate\":\"geohash2=sp7re8_67<br>t=%{x}<br>lat_norm=%{y}<br>lon_norm=%{z}<extra></extra>\",\"legendgroup\":\"sp7re8_67\",\"line\":{\"color\":\"#B6E880\",\"dash\":\"solid\"},\"marker\":{\"symbol\":\"circle\"},\"mode\":\"lines\",\"name\":\"sp7re8_67\",\"scene\":\"scene\",\"showlegend\":true,\"x\":[6720,6750,6780,6810,6840],\"y\":[0.0050676250000023515,0.00403862499999974,0.0032756250000005593,0.002347624999998743,0.0010756249999985812],\"z\":[0.004810906250000357,0.003535906249999776,0.002761906249999946,0.0018819062499995098,0.0011229062499999998],\"type\":\"scatter3d\"},{\"hovertemplate\":\"geohash2=sp7re2_68<br>t=%{x}<br>lat_norm=%{y}<br>lon_norm=%{z}<extra></extra>\",\"legendgroup\":\"sp7re2_68\",\"line\":{\"color\":\"#FF97FF\",\"dash\":\"solid\"},\"marker\":{\"symbol\":\"circle\"},\"mode\":\"lines\",\"name\":\"sp7re2_68\",\"scene\":\"scene\",\"showlegend\":true,\"x\":[6870,6900,6930,6960],\"y\":[0.0016466249999993465,0.00278362499999929,0.0035536249999950087,0.004737625000004186],\"z\":[0.010961234374999407,0.009025234374999691,0.007729234375000615,0.0056092343750000495],\"type\":\"scatter3d\"},{\"hovertemplate\":\"geohash2=sp7re3_69<br>t=%{x}<br>lat_norm=%{y}<br>lon_norm=%{z}<extra></extra>\",\"legendgroup\":\"sp7re3_69\",\"line\":{\"color\":\"#FECB52\",\"dash\":\"solid\"},\"marker\":{\"symbol\":\"circle\"},\"mode\":\"lines\",\"name\":\"sp7re3_69\",\"scene\":\"scene\",\"showlegend\":true,\"x\":[6990,7020],\"y\":[0.0009174609375008913,0.0011684609374995603],\"z\":[0.0027632343750001453,0.0013242343750006214],\"type\":\"scatter3d\"},{\"hovertemplate\":\"geohash2=sp7re2_70<br>t=%{x}<br>lat_norm=%{y}<br>lon_norm=%{z}<extra></extra>\",\"legendgroup\":\"sp7re2_70\",\"line\":{\"color\":\"#636efa\",\"dash\":\"solid\"},\"marker\":{\"symbol\":\"circle\"},\"mode\":\"lines\",\"name\":\"sp7re2_70\",\"scene\":\"scene\",\"showlegend\":true,\"x\":[7050],\"y\":[0.004921624999994378],\"z\":[0.00030123437499973704],\"type\":\"scatter3d\"},{\"hovertemplate\":\"geohash2=sp7re0_71<br>t=%{x}<br>lat_norm=%{y}<br>lon_norm=%{z}<extra></extra>\",\"legendgroup\":\"sp7re0_71\",\"line\":{\"color\":\"#EF553B\",\"dash\":\"solid\"},\"marker\":{\"symbol\":\"circle\"},\"mode\":\"lines\",\"name\":\"sp7re0_71\",\"scene\":\"scene\",\"showlegend\":true,\"x\":[7080,7110,7140],\"y\":[0.0035606249999986517,0.0021756249999995703,0.0005056250000023965],\"z\":[0.010519562499999857,0.009732562499999986,0.007857562499999915],\"type\":\"scatter3d\"},{\"hovertemplate\":\"geohash2=sp7r7p_72<br>t=%{x}<br>lat_norm=%{y}<br>lon_norm=%{z}<extra></extra>\",\"legendgroup\":\"sp7r7p_72\",\"line\":{\"color\":\"#00cc96\",\"dash\":\"solid\"},\"marker\":{\"symbol\":\"circle\"},\"mode\":\"lines\",\"name\":\"sp7r7p_72\",\"scene\":\"scene\",\"showlegend\":true,\"x\":[7170,7200,8250,8280],\"y\":[0.005488789062496835,0.005454789062497412,0.004589789062492855,0.0041037890624977535],\"z\":[0.00747856250000023,0.007276562500000416,0.007957562499999682,0.010001562500000283],\"type\":\"scatter3d\"},{\"hovertemplate\":\"geohash2=sp7r7r_73<br>t=%{x}<br>lat_norm=%{y}<br>lon_norm=%{z}<extra></extra>\",\"legendgroup\":\"sp7r7r_73\",\"line\":{\"color\":\"#ab63fa\",\"dash\":\"solid\"},\"marker\":{\"symbol\":\"circle\"},\"mode\":\"lines\",\"name\":\"sp7r7r_73\",\"scene\":\"scene\",\"showlegend\":true,\"x\":[8310,8340],\"y\":[0.0021457890625029563,0.0005877890625072268],\"z\":[0.0009482343749995792,0.0023822343750001806],\"type\":\"scatter3d\"},{\"hovertemplate\":\"geohash2=sp7r7q_74<br>t=%{x}<br>lat_norm=%{y}<br>lon_norm=%{z}<extra></extra>\",\"legendgroup\":\"sp7r7q_74\",\"line\":{\"color\":\"#FFA15A\",\"dash\":\"solid\"},\"marker\":{\"symbol\":\"circle\"},\"mode\":\"lines\",\"name\":\"sp7r7q_74\",\"scene\":\"scene\",\"showlegend\":true,\"x\":[8370,8400,8430],\"y\":[0.004131953124996812,0.002704953124997189,0.0007219531250015621],\"z\":[0.004175234375000336,0.0055212343750001835,0.007340234375000421],\"type\":\"scatter3d\"},{\"hovertemplate\":\"geohash2=sp7r7m_75<br>t=%{x}<br>lat_norm=%{y}<br>lon_norm=%{z}<extra></extra>\",\"legendgroup\":\"sp7r7m_75\",\"line\":{\"color\":\"#19d3f3\",\"dash\":\"solid\"},\"marker\":{\"symbol\":\"circle\"},\"mode\":\"lines\",\"name\":\"sp7r7m_75\",\"scene\":\"scene\",\"showlegend\":true,\"x\":[8460,8490,8520,8550,8580,8610,8640,8670,8730,8760,8790,8820,8850],\"y\":[0.0040731171874952565,0.002512117187499996,0.002426117187496857,0.003273117187497121,0.0035251171875003706,0.0033091171875057057,0.0027341171875008285,0.002679117187504687,0.0024761171874985166,0.002292117187501219,0.0020961171874986917,0.0014021171875029381,0.0006221171875040454],\"z\":[0.007473234374999471,0.0060372343750003665,0.005062234374999974,0.003739234374999789,0.0019322343750003412,0.0005892343750000251,0.0005952343749999756,0.00047323437499979804,0.0016222343750005308,0.0034302343750001185,0.005255234375000306,0.006271234374999324,0.0067692343750005435],\"type\":\"scatter3d\"},{\"hovertemplate\":\"geohash2=sp7r7k_76<br>t=%{x}<br>lat_norm=%{y}<br>lon_norm=%{z}<extra></extra>\",\"legendgroup\":\"sp7r7k_76\",\"line\":{\"color\":\"#FF6692\",\"dash\":\"solid\"},\"marker\":{\"symbol\":\"circle\"},\"mode\":\"lines\",\"name\":\"sp7r7k_76\",\"scene\":\"scene\",\"showlegend\":true,\"x\":[8880,8910,8940,8970],\"y\":[0.004592281250005215,0.003959281249997559,0.003578281250000259,0.002688281250001978],\"z\":[0.00779023437500026,0.00825323437500014,0.009743234374999687,0.009986234374999903],\"type\":\"scatter3d\"},{\"hovertemplate\":\"geohash2=sp7r7s_77<br>t=%{x}<br>lat_norm=%{y}<br>lon_norm=%{z}<extra></extra>\",\"legendgroup\":\"sp7r7s_77\",\"line\":{\"color\":\"#B6E880\",\"dash\":\"solid\"},\"marker\":{\"symbol\":\"circle\"},\"mode\":\"lines\",\"name\":\"sp7r7s_77\",\"scene\":\"scene\",\"showlegend\":true,\"x\":[9000,9030,9060,9300,9330],\"y\":[0.002430281249999666,0.0016512812499982488,0.0014942812499967317,0.0010842812499944898,0.0004542812499934712],\"z\":[0.00014090625000040546,0.0001389062500001259,0.00034090624999993935,0.0003389062499996598,8.290625000029195e-05],\"type\":\"scatter3d\"},{\"hovertemplate\":\"geohash2=sp7r7e_78<br>t=%{x}<br>lat_norm=%{y}<br>lon_norm=%{z}<extra></extra>\",\"legendgroup\":\"sp7r7e_78\",\"line\":{\"color\":\"#FF97FF\",\"dash\":\"solid\"},\"marker\":{\"symbol\":\"circle\"},\"mode\":\"lines\",\"name\":\"sp7r7e_78\",\"scene\":\"scene\",\"showlegend\":true,\"x\":[9360,9390,9420,9450,9480],\"y\":[0.004521445312498429,0.004164445312497378,0.003999445312494743,0.003554445312495602,0.00263544531250659],\"z\":[0.0013069062499999617,0.0016029062500004798,0.0017249062499997692,0.0016719062499994664,0.0006509062499997498],\"type\":\"scatter3d\"},{\"hovertemplate\":\"geohash2=sp7r77_79<br>t=%{x}<br>lat_norm=%{y}<br>lon_norm=%{z}<extra></extra>\",\"legendgroup\":\"sp7r77_79\",\"line\":{\"color\":\"#FECB52\",\"dash\":\"solid\"},\"marker\":{\"symbol\":\"circle\"},\"mode\":\"lines\",\"name\":\"sp7r77_79\",\"scene\":\"scene\",\"showlegend\":true,\"x\":[9510,9540,9570,9990],\"y\":[0.004021445312503147,0.004270445312506865,0.004359445312495325,0.004672445312493778],\"z\":[0.008631234374999686,0.0075522343749998555,0.007447234375000278,0.006306234374999775],\"type\":\"scatter3d\"},{\"hovertemplate\":\"geohash2=sp7r7k_80<br>t=%{x}<br>lat_norm=%{y}<br>lon_norm=%{z}<extra></extra>\",\"legendgroup\":\"sp7r7k_80\",\"line\":{\"color\":\"#636efa\",\"dash\":\"solid\"},\"marker\":{\"symbol\":\"circle\"},\"mode\":\"lines\",\"name\":\"sp7r7k_80\",\"scene\":\"scene\",\"showlegend\":true,\"x\":[10020,10050,10080,10110,10170,10200],\"y\":[0.0004892812499974752,0.0009322812500016653,0.0009292812499950287,0.0010522812500042278,0.0006842812499954221,0.0005642812499928596],\"z\":[0.0056532343749999825,0.006182234375000206,0.00684823437500004,0.006796234374999877,0.006708234375000011,0.005961234374999513],\"type\":\"scatter3d\"},{\"hovertemplate\":\"geohash2=sp7r77_81<br>t=%{x}<br>lat_norm=%{y}<br>lon_norm=%{z}<extra></extra>\",\"legendgroup\":\"sp7r77_81\",\"line\":{\"color\":\"#EF553B\",\"dash\":\"solid\"},\"marker\":{\"symbol\":\"circle\"},\"mode\":\"lines\",\"name\":\"sp7r77_81\",\"scene\":\"scene\",\"showlegend\":true,\"x\":[10230,10260,10290,10320,10350,10380,10410,10920,10950,10980,11010,11160],\"y\":[0.0051354453125043165,0.004150445312504303,0.002762445312498585,0.0027654453125052214,0.003378445312499423,0.002483445312499555,0.0022054453125051054,0.0019394453125016753,0.0019844453124946426,0.0021764453125001637,0.002122445312494392,0.0021784453125022196],\"z\":[0.005958234374999982,0.005578234375000157,0.0052572343749996975,0.004651234374999369,0.0035212343749995156,0.0027982343749997085,0.002464234375000096,0.00220023437499961,0.0014802343750002223,0.0009102343749995967,0.0008482343749998122,0.0005582343750001328],\"type\":\"scatter3d\"},{\"hovertemplate\":\"geohash2=sp7r75_82<br>t=%{x}<br>lat_norm=%{y}<br>lon_norm=%{z}<extra></extra>\",\"legendgroup\":\"sp7r75_82\",\"line\":{\"color\":\"#00cc96\",\"dash\":\"solid\"},\"marker\":{\"symbol\":\"circle\"},\"mode\":\"lines\",\"name\":\"sp7r75_82\",\"scene\":\"scene\",\"showlegend\":true,\"x\":[11190,11220,11250,11340,11370,11400,11430,11460,11580],\"y\":[0.002670445312503489,0.0029524453124949446,0.003028445312502015,0.0033874453124980164,0.002846445312499668,0.0020144453124970596,0.0014454453125054556,0.0013014453124995384,0.000580445312500899],\"z\":[0.009992562499999913,0.009282562500000147,0.009220562500000362,0.008282562499999813,0.00792056249999984,0.007549562499999496,0.008056562500000197,0.008064562499999539,0.008589562500000092],\"type\":\"scatter3d\"},{\"hovertemplate\":\"geohash2=sp7r74_83<br>t=%{x}<br>lat_norm=%{y}<br>lon_norm=%{z}<extra></extra>\",\"legendgroup\":\"sp7r74_83\",\"line\":{\"color\":\"#ab63fa\",\"dash\":\"solid\"},\"marker\":{\"symbol\":\"circle\"},\"mode\":\"lines\",\"name\":\"sp7r74_83\",\"scene\":\"scene\",\"showlegend\":true,\"x\":[11610,11640,11670,11700,11730,11760,11790,11820,11850,11880],\"y\":[0.004860609374993885,0.004379609375000371,0.0040146093749982015,0.0034096093749980128,0.0027186093750017903,0.0031456093749966385,0.0031506093749982256,0.0031516093750028062,0.0029406093749955176,0.0029206093749962747],\"z\":[0.009286562499999818,0.007458562500000099,0.006728562500000201,0.005269562499999658,0.0034585625000005393,0.002336562500000028,0.0007665624999999565,0.0006605625000002391,0.00031856250000039665,0.00024856250000038216],\"type\":\"scatter3d\"},{\"hovertemplate\":\"geohash2=sp7r6f_84<br>t=%{x}<br>lat_norm=%{y}<br>lon_norm=%{z}<extra></extra>\",\"legendgroup\":\"sp7r6f_84\",\"line\":{\"color\":\"#FFA15A\",\"dash\":\"solid\"},\"marker\":{\"symbol\":\"circle\"},\"mode\":\"lines\",\"name\":\"sp7r6f_84\",\"scene\":\"scene\",\"showlegend\":true,\"x\":[11970],\"y\":[0.0019896093750020327],\"z\":[0.010967890625000365],\"type\":\"scatter3d\"},{\"hovertemplate\":\"geohash2=sp7r74_85<br>t=%{x}<br>lat_norm=%{y}<br>lon_norm=%{z}<extra></extra>\",\"legendgroup\":\"sp7r74_85\",\"line\":{\"color\":\"#19d3f3\",\"dash\":\"solid\"},\"marker\":{\"symbol\":\"circle\"},\"mode\":\"lines\",\"name\":\"sp7r74_85\",\"scene\":\"scene\",\"showlegend\":true,\"x\":[12000,12030,12060],\"y\":[0.0019896093750020327,0.0027676093749988695,0.0027676093749988695],\"z\":[3.356250000052796e-05,0.0002475624999993542,0.00026456249999995407],\"type\":\"scatter3d\"},{\"hovertemplate\":\"geohash2=sp7r6f_86<br>t=%{x}<br>lat_norm=%{y}<br>lon_norm=%{z}<extra></extra>\",\"legendgroup\":\"sp7r6f_86\",\"line\":{\"color\":\"#FF6692\",\"dash\":\"solid\"},\"marker\":{\"symbol\":\"circle\"},\"mode\":\"lines\",\"name\":\"sp7r6f_86\",\"scene\":\"scene\",\"showlegend\":true,\"x\":[12090,12120,12150,12180],\"y\":[0.00325060937499444,0.003173609375004105,0.0027306093749928095,0.001762609374999613],\"z\":[0.009855890624999475,0.006625890625000075,0.004043890624999769,0.0015308906250002252],\"type\":\"scatter3d\"},{\"hovertemplate\":\"geohash2=sp7r6d_87<br>t=%{x}<br>lat_norm=%{y}<br>lon_norm=%{z}<extra></extra>\",\"legendgroup\":\"sp7r6d_87\",\"line\":{\"color\":\"#B6E880\",\"dash\":\"solid\"},\"marker\":{\"symbol\":\"circle\"},\"mode\":\"lines\",\"name\":\"sp7r6d_87\",\"scene\":\"scene\",\"showlegend\":true,\"x\":[12210],\"y\":[0.0015356093749971933],\"z\":[0.010821218750000305],\"type\":\"scatter3d\"},{\"hovertemplate\":\"geohash2=sp7r6f_88<br>t=%{x}<br>lat_norm=%{y}<br>lon_norm=%{z}<extra></extra>\",\"legendgroup\":\"sp7r6f_88\",\"line\":{\"color\":\"#FF97FF\",\"dash\":\"solid\"},\"marker\":{\"symbol\":\"circle\"},\"mode\":\"lines\",\"name\":\"sp7r6f_88\",\"scene\":\"scene\",\"showlegend\":true,\"x\":[12240,12270,12300,12330],\"y\":[0.002444609374997242,0.0036536093750072496,0.004528609375000769,0.005424609374998113],\"z\":[0.000179890624999679,0.000631890624999798,0.0009948906249999112,0.001339890625000173],\"type\":\"scatter3d\"},{\"hovertemplate\":\"geohash2=sp7r6g_89<br>t=%{x}<br>lat_norm=%{y}<br>lon_norm=%{z}<extra></extra>\",\"legendgroup\":\"sp7r6g_89\",\"line\":{\"color\":\"#FECB52\",\"dash\":\"solid\"},\"marker\":{\"symbol\":\"circle\"},\"mode\":\"lines\",\"name\":\"sp7r6g_89\",\"scene\":\"scene\",\"showlegend\":true,\"x\":[12360,12540,12570],\"y\":[9.544531250327282e-05,0.0007724453124993147,0.002109445312498792],\"z\":[0.0014028906250000972,0.0015278906249998059,0.0007258906249996144],\"type\":\"scatter3d\"},{\"hovertemplate\":\"geohash2=sp7r6e_90<br>t=%{x}<br>lat_norm=%{y}<br>lon_norm=%{z}<extra></extra>\",\"legendgroup\":\"sp7r6e_90\",\"line\":{\"color\":\"#636efa\",\"dash\":\"solid\"},\"marker\":{\"symbol\":\"circle\"},\"mode\":\"lines\",\"name\":\"sp7r6e_90\",\"scene\":\"scene\",\"showlegend\":true,\"x\":[12600,12630,12660,12690,13050],\"y\":[0.0024464453125006003,0.0016134453125005166,0.0012924453124938395,0.0012924453124938395,0.000847445312494699],\"z\":[0.01089621875000013,0.010551218749999869,0.010401218750000218,0.010392218749999849,0.010689218749999618],\"type\":\"scatter3d\"},{\"hovertemplate\":\"geohash2=sp7r6g_91<br>t=%{x}<br>lat_norm=%{y}<br>lon_norm=%{z}<extra></extra>\",\"legendgroup\":\"sp7r6g_91\",\"line\":{\"color\":\"#EF553B\",\"dash\":\"solid\"},\"marker\":{\"symbol\":\"circle\"},\"mode\":\"lines\",\"name\":\"sp7r6g_91\",\"scene\":\"scene\",\"showlegend\":true,\"x\":[13080,13110,13140,13170,13200,13230,13260],\"y\":[0.0005434453125019445,0.000649445312497221,0.0013064453125011255,0.0026854453125011446,0.0036644453124949905,0.004316445312497308,0.005026445312502403],\"z\":[0.0006488906249995097,0.0016328906250002717,0.0013888906249999167,0.0005068906250000893,0.00020189062500008959,0.0011708906249996431,0.001435890625000269],\"type\":\"scatter3d\"},{\"hovertemplate\":\"geohash2=sp7r6u_92<br>t=%{x}<br>lat_norm=%{y}<br>lon_norm=%{z}<extra></extra>\",\"legendgroup\":\"sp7r6u_92\",\"line\":{\"color\":\"#00cc96\",\"dash\":\"solid\"},\"marker\":{\"symbol\":\"circle\"},\"mode\":\"lines\",\"name\":\"sp7r6u_92\",\"scene\":\"scene\",\"showlegend\":true,\"x\":[13290,13320],\"y\":[0.00037828125000061164,0.0011252812500046616],\"z\":[0.0007198906250005521,0.00016989062500005758],\"type\":\"scatter3d\"},{\"hovertemplate\":\"geohash2=sp7r6s_93<br>t=%{x}<br>lat_norm=%{y}<br>lon_norm=%{z}<extra></extra>\",\"legendgroup\":\"sp7r6s_93\",\"line\":{\"color\":\"#ab63fa\",\"dash\":\"solid\"},\"marker\":{\"symbol\":\"circle\"},\"mode\":\"lines\",\"name\":\"sp7r6s_93\",\"scene\":\"scene\",\"showlegend\":true,\"x\":[13350,13380],\"y\":[0.0016952812500008463,0.0010682812499993588],\"z\":[0.010403218750000498,0.009453218750000048],\"type\":\"scatter3d\"},{\"hovertemplate\":\"geohash2=sp7r6e_94<br>t=%{x}<br>lat_norm=%{y}<br>lon_norm=%{z}<extra></extra>\",\"legendgroup\":\"sp7r6e_94\",\"line\":{\"color\":\"#FFA15A\",\"dash\":\"solid\"},\"marker\":{\"symbol\":\"circle\"},\"mode\":\"lines\",\"name\":\"sp7r6e_94\",\"scene\":\"scene\",\"showlegend\":true,\"x\":[13410],\"y\":[0.005328445312500207],\"z\":[0.009756218749999768],\"type\":\"scatter3d\"},{\"hovertemplate\":\"geohash2=sp7r6g_95<br>t=%{x}<br>lat_norm=%{y}<br>lon_norm=%{z}<extra></extra>\",\"legendgroup\":\"sp7r6g_95\",\"line\":{\"color\":\"#19d3f3\",\"dash\":\"solid\"},\"marker\":{\"symbol\":\"circle\"},\"mode\":\"lines\",\"name\":\"sp7r6g_95\",\"scene\":\"scene\",\"showlegend\":true,\"x\":[13440,13470],\"y\":[0.0031144453124980487,0.0013574453124931551],\"z\":[0.0001578906250001566,0.0012748906249999692],\"type\":\"scatter3d\"},{\"hovertemplate\":\"geohash2=sp7r6f_96<br>t=%{x}<br>lat_norm=%{y}<br>lon_norm=%{z}<extra></extra>\",\"legendgroup\":\"sp7r6f_96\",\"line\":{\"color\":\"#FF6692\",\"dash\":\"solid\"},\"marker\":{\"symbol\":\"circle\"},\"mode\":\"lines\",\"name\":\"sp7r6f_96\",\"scene\":\"scene\",\"showlegend\":true,\"x\":[13500,13530,13560,13590,13620],\"y\":[0.004038609375001556,0.0031606093749942943,0.002558609375000742,0.003075609374995736,0.0031426093749971074],\"z\":[0.002950890624999758,0.0032808906249996994,0.0036298906250005203,0.007959890625000021,0.010680890625000217],\"type\":\"scatter3d\"},{\"hovertemplate\":\"geohash2=sp7r74_97<br>t=%{x}<br>lat_norm=%{y}<br>lon_norm=%{z}<extra></extra>\",\"legendgroup\":\"sp7r74_97\",\"line\":{\"color\":\"#B6E880\",\"dash\":\"solid\"},\"marker\":{\"symbol\":\"circle\"},\"mode\":\"lines\",\"name\":\"sp7r74_97\",\"scene\":\"scene\",\"showlegend\":true,\"x\":[13650,13680,13710,13770,13800,13830,13860],\"y\":[0.0031256093749973957,0.002485609374993203,0.0024736093750021837,0.0032206093749991282,0.004068609375003973,0.0044756093749995784,0.004344609375003472],\"z\":[0.000836562499999971,0.0032925624999995406,0.0033085625000000007,0.004865562500000031,0.006879562499999992,0.00793356249999988,0.010233562499999849],\"type\":\"scatter3d\"},{\"hovertemplate\":\"geohash2=sp7r76_98<br>t=%{x}<br>lat_norm=%{y}<br>lon_norm=%{z}<extra></extra>\",\"legendgroup\":\"sp7r76_98\",\"line\":{\"color\":\"#FF97FF\",\"dash\":\"solid\"},\"marker\":{\"symbol\":\"circle\"},\"mode\":\"lines\",\"name\":\"sp7r76_98\",\"scene\":\"scene\",\"showlegend\":true,\"x\":[13890,13920],\"y\":[0.0024486093750013538,0.00014260937499699367],\"z\":[0.0016642343750001842,0.004035234375000307],\"type\":\"scatter3d\"},{\"hovertemplate\":\"geohash2=sp7r73_99<br>t=%{x}<br>lat_norm=%{y}<br>lon_norm=%{z}<extra></extra>\",\"legendgroup\":\"sp7r73_99\",\"line\":{\"color\":\"#FECB52\",\"dash\":\"solid\"},\"marker\":{\"symbol\":\"circle\"},\"mode\":\"lines\",\"name\":\"sp7r73_99\",\"scene\":\"scene\",\"showlegend\":true,\"x\":[13950,13980,14010],\"y\":[0.004097773437500507,0.0022727734374967667,0.0003207734375010318],\"z\":[0.00547023437500016,0.007185234375000071,0.009750234374999778],\"type\":\"scatter3d\"},{\"hovertemplate\":\"geohash2=sp7r72_100<br>t=%{x}<br>lat_norm=%{y}<br>lon_norm=%{z}<extra></extra>\",\"legendgroup\":\"sp7r72_100\",\"line\":{\"color\":\"#636efa\",\"dash\":\"solid\"},\"marker\":{\"symbol\":\"circle\"},\"mode\":\"lines\",\"name\":\"sp7r72_100\",\"scene\":\"scene\",\"showlegend\":true,\"x\":[14040,14070],\"y\":[0.0049569374999975935,0.004935937500000875],\"z\":[0.01027523437500033,0.01027523437500033],\"type\":\"scatter3d\"},{\"hovertemplate\":\"geohash2=sp7r78_101<br>t=%{x}<br>lat_norm=%{y}<br>lon_norm=%{z}<extra></extra>\",\"legendgroup\":\"sp7r78_101\",\"line\":{\"color\":\"#EF553B\",\"dash\":\"solid\"},\"marker\":{\"symbol\":\"circle\"},\"mode\":\"lines\",\"name\":\"sp7r78_101\",\"scene\":\"scene\",\"showlegend\":true,\"x\":[14100,14130,14160,14190,14220],\"y\":[0.004210937499998124,0.002970937500002435,0.0014249375000048303,0.0028299375000031546,0.004710937500000512],\"z\":[0.0009269062500001368,0.003432906250000478,0.005052906250000433,0.006372906250000199,0.008371906249999839],\"type\":\"scatter3d\"},{\"hovertemplate\":\"geohash2=sp7r7b_102<br>t=%{x}<br>lat_norm=%{y}<br>lon_norm=%{z}<extra></extra>\",\"legendgroup\":\"sp7r7b_102\",\"line\":{\"color\":\"#00cc96\",\"dash\":\"solid\"},\"marker\":{\"symbol\":\"circle\"},\"mode\":\"lines\",\"name\":\"sp7r7b_102\",\"scene\":\"scene\",\"showlegend\":true,\"x\":[14250,14280,14310,14340,14370,14400,14430],\"y\":[0.0046899375000037935,0.0038519374999950173,0.0032469374999948286,0.0033139374999962,0.0037429375000002096,0.004128937499999097,0.004003937499994947],\"z\":[1.5781250004565095e-06,0.001482578124999634,0.002726578125000323,0.002858578125000122,0.003729578125000188,0.004626578125000336,0.005486578125000641],\"type\":\"scatter3d\"},{\"hovertemplate\":\"geohash2=sp7r7c_103<br>t=%{x}<br>lat_norm=%{y}<br>lon_norm=%{z}<extra></extra>\",\"legendgroup\":\"sp7r7c_103\",\"line\":{\"color\":\"#ab63fa\",\"dash\":\"solid\"},\"marker\":{\"symbol\":\"circle\"},\"mode\":\"lines\",\"name\":\"sp7r7c_103\",\"scene\":\"scene\",\"showlegend\":true,\"x\":[14460,14490,14520,14550],\"y\":[0.0010957734374983374,0.004160773437497767,0.004291773437500979,0.004291773437500979],\"z\":[0.0057225781249998775,0.005748578124999959,0.005801578125000262,0.005828578124999595],\"type\":\"scatter3d\"},{\"hovertemplate\":\"geohash2=sp7r7f_104<br>t=%{x}<br>lat_norm=%{y}<br>lon_norm=%{z}<extra></extra>\",\"legendgroup\":\"sp7r7f_104\",\"line\":{\"color\":\"#FFA15A\",\"dash\":\"solid\"},\"marker\":{\"symbol\":\"circle\"},\"mode\":\"lines\",\"name\":\"sp7r7f_104\",\"scene\":\"scene\",\"showlegend\":true,\"x\":[14610,14640,14670,14700,14730],\"y\":[0.000660609374996568,0.00267960937500078,0.004119609375003108,0.004949609374996555,0.005399609374997283],\"z\":[0.005807578125000212,0.005892578124999659,0.006976578125000188,0.008208578125000088,0.009008578125],\"type\":\"scatter3d\"},{\"hovertemplate\":\"geohash2=sp7rk4_105<br>t=%{x}<br>lat_norm=%{y}<br>lon_norm=%{z}<extra></extra>\",\"legendgroup\":\"sp7rk4_105\",\"line\":{\"color\":\"#19d3f3\",\"dash\":\"solid\"},\"marker\":{\"symbol\":\"circle\"},\"mode\":\"lines\",\"name\":\"sp7rk4_105\",\"scene\":\"scene\",\"showlegend\":true,\"x\":[14760,14790],\"y\":[0.0041486093750009445,0.004912609374997601],\"z\":[2.2499999996483666e-06,0.0007592499999997671],\"type\":\"scatter3d\"},{\"hovertemplate\":\"geohash2=sp7rk5_106<br>t=%{x}<br>lat_norm=%{y}<br>lon_norm=%{z}<extra></extra>\",\"legendgroup\":\"sp7rk5_106\",\"line\":{\"color\":\"#FF6692\",\"dash\":\"solid\"},\"marker\":{\"symbol\":\"circle\"},\"mode\":\"lines\",\"name\":\"sp7rk5_106\",\"scene\":\"scene\",\"showlegend\":true,\"x\":[14820,14850,14880,14910,15150,15180,15210,15240,16290,16320,16350,16380,16410],\"y\":[0.00032844531250475484,0.0018914453125020714,0.002136445312501678,0.0021914453124978195,0.0022244453124997676,0.0013304453125044802,0.0013874453124955721,0.0013994453125008022,0.0018434453125024675,0.0010774453124966499,0.0005464453125014757,0.0008184453125039681,0.0007844453124974393],\"z\":[0.001271250000000279,0.0020932499999997134,0.0022612500000001035,0.0023402500000004878,0.0026212499999997974,0.004146249999999796,0.0037242500000003176,0.0037592499999998807,0.003963249999999974,0.00406625000000016,0.003142249999999791,0.001519250000000305,0.0015102499999999353],\"type\":\"scatter3d\"},{\"hovertemplate\":\"geohash2=sp7r7g_107<br>t=%{x}<br>lat_norm=%{y}<br>lon_norm=%{z}<extra></extra>\",\"legendgroup\":\"sp7r7g_107\",\"line\":{\"color\":\"#B6E880\",\"dash\":\"solid\"},\"marker\":{\"symbol\":\"circle\"},\"mode\":\"lines\",\"name\":\"sp7r7g_107\",\"scene\":\"scene\",\"showlegend\":true,\"x\":[16470,16500,16530],\"y\":[0.0017134453125038362,0.003759445312496723,0.004450445312507156],\"z\":[0.010586578125000301,0.008662578124999598,0.008093578125],\"type\":\"scatter3d\"},{\"hovertemplate\":\"geohash2=sp7r7u_108<br>t=%{x}<br>lat_norm=%{y}<br>lon_norm=%{z}<extra></extra>\",\"legendgroup\":\"sp7r7u_108\",\"line\":{\"color\":\"#FF97FF\",\"dash\":\"solid\"},\"marker\":{\"symbol\":\"circle\"},\"mode\":\"lines\",\"name\":\"sp7r7u_108\",\"scene\":\"scene\",\"showlegend\":true,\"x\":[16560,16590],\"y\":[0.0010542812499991783,0.00313628125000065],\"z\":[0.0074935781249996225,0.004910578125000065],\"type\":\"scatter3d\"},{\"hovertemplate\":\"geohash2=sp7r7v_109<br>t=%{x}<br>lat_norm=%{y}<br>lon_norm=%{z}<extra></extra>\",\"legendgroup\":\"sp7r7v_109\",\"line\":{\"color\":\"#FECB52\",\"dash\":\"solid\"},\"marker\":{\"symbol\":\"circle\"},\"mode\":\"lines\",\"name\":\"sp7r7v_109\",\"scene\":\"scene\",\"showlegend\":true,\"x\":[16620,16650],\"y\":[0.00021511718750133468,0.0032491171875008718],\"z\":[0.0028475781250003607,0.0017425781249995609],\"type\":\"scatter3d\"},{\"hovertemplate\":\"geohash2=sp7r7y_110<br>t=%{x}<br>lat_norm=%{y}<br>lon_norm=%{z}<extra></extra>\",\"legendgroup\":\"sp7r7y_110\",\"line\":{\"color\":\"#636efa\",\"dash\":\"solid\"},\"marker\":{\"symbol\":\"circle\"},\"mode\":\"lines\",\"name\":\"sp7r7y_110\",\"scene\":\"scene\",\"showlegend\":true,\"x\":[16680,16710,16740,16770,16800],\"y\":[0.0004749531249998995,0.0007819531249992906,0.0013989531250047094,0.0020769531249982265,0.003499953125000843],\"z\":[0.0013395781250000738,0.0018325781249997064,0.0033795781250001156,0.0033115781250003806,0.0030785781249997868],\"type\":\"scatter3d\"},{\"hovertemplate\":\"geohash2=sp7r7z_111<br>t=%{x}<br>lat_norm=%{y}<br>lon_norm=%{z}<extra></extra>\",\"legendgroup\":\"sp7r7z_111\",\"line\":{\"color\":\"#EF553B\",\"dash\":\"solid\"},\"marker\":{\"symbol\":\"circle\"},\"mode\":\"lines\",\"name\":\"sp7r7z_111\",\"scene\":\"scene\",\"showlegend\":true,\"x\":[16830,16860,16890],\"y\":[0.0005057890625010941,0.0019527890625070654,0.003432789062500774],\"z\":[0.0022695781250003932,0.0013615781250004844,0.0004105781249998941],\"type\":\"scatter3d\"},{\"hovertemplate\":\"geohash2=sp7r7x_112<br>t=%{x}<br>lat_norm=%{y}<br>lon_norm=%{z}<extra></extra>\",\"legendgroup\":\"sp7r7x_112\",\"line\":{\"color\":\"#00cc96\",\"dash\":\"solid\"},\"marker\":{\"symbol\":\"circle\"},\"mode\":\"lines\",\"name\":\"sp7r7x_112\",\"scene\":\"scene\",\"showlegend\":true,\"x\":[16920],\"y\":[0.004900789062503463],\"z\":[0.010189906249999936],\"type\":\"scatter3d\"},{\"hovertemplate\":\"geohash2=sp7re8_113<br>t=%{x}<br>lat_norm=%{y}<br>lon_norm=%{z}<extra></extra>\",\"legendgroup\":\"sp7re8_113\",\"line\":{\"color\":\"#ab63fa\",\"dash\":\"solid\"},\"marker\":{\"symbol\":\"circle\"},\"mode\":\"lines\",\"name\":\"sp7re8_113\",\"scene\":\"scene\",\"showlegend\":true,\"x\":[16950,16980,17010],\"y\":[0.0018916249999989532,0.0032836250000016776,0.005400625000000048],\"z\":[0.007740906250000457,0.006814906249999808,0.007874906249999647],\"type\":\"scatter3d\"},{\"hovertemplate\":\"geohash2=sp7re9_114<br>t=%{x}<br>lat_norm=%{y}<br>lon_norm=%{z}<extra></extra>\",\"legendgroup\":\"sp7re9_114\",\"line\":{\"color\":\"#FFA15A\",\"dash\":\"solid\"},\"marker\":{\"symbol\":\"circle\"},\"mode\":\"lines\",\"name\":\"sp7re9_114\",\"scene\":\"scene\",\"showlegend\":true,\"x\":[17040,17070,17640],\"y\":[0.0007864609375047849,0.0008754609375003497,0.00017946093750254022],\"z\":[0.006781906249999636,0.006729906249999473,0.006104906250000042],\"type\":\"scatter3d\"},{\"hovertemplate\":\"geohash2=sp7re8_115<br>t=%{x}<br>lat_norm=%{y}<br>lon_norm=%{z}<extra></extra>\",\"legendgroup\":\"sp7re8_115\",\"line\":{\"color\":\"#19d3f3\",\"dash\":\"solid\"},\"marker\":{\"symbol\":\"circle\"},\"mode\":\"lines\",\"name\":\"sp7re8_115\",\"scene\":\"scene\",\"showlegend\":true,\"x\":[17670,17700,17730,17760,17790,17850,17880,17910,17940,17970,18000],\"y\":[0.0045536249999997835,0.0034146250000048894,0.003104625000005967,0.002981624999996768,0.00296062500000005,0.0025066249999952106,0.0013676250000003165,0.0013696250000023724,0.002004625000004978,0.002549625000000333,0.003051624999997671],\"z\":[0.005267906250000287,0.004114906249999883,0.004489906249999898,0.004576906249999624,0.004576906249999624,0.004942906250000156,0.003832906250000434,0.0029559062500004174,0.00191390625000043,0.0008709062500003029,1.2906250000277453e-05],\"type\":\"scatter3d\"},{\"hovertemplate\":\"geohash2=sp7re2_116<br>t=%{x}<br>lat_norm=%{y}<br>lon_norm=%{z}<extra></extra>\",\"legendgroup\":\"sp7re2_116\",\"line\":{\"color\":\"#FF6692\",\"dash\":\"solid\"},\"marker\":{\"symbol\":\"circle\"},\"mode\":\"lines\",\"name\":\"sp7re2_116\",\"scene\":\"scene\",\"showlegend\":true,\"x\":[18030,18120,18150,18180,18210,18240],\"y\":[0.0030866249999945694,0.003188624999999945,0.003713624999996057,0.0045376250000046525,0.005184625000005383,0.00540662499999911],\"z\":[0.010867234375000479,0.010613234374999614,0.009299234374999799,0.008346234374999817,0.007277234375000496,0.006839234375000558],\"type\":\"scatter3d\"},{\"hovertemplate\":\"geohash2=sp7re3_117<br>t=%{x}<br>lat_norm=%{y}<br>lon_norm=%{z}<extra></extra>\",\"legendgroup\":\"sp7re3_117\",\"line\":{\"color\":\"#B6E880\",\"dash\":\"solid\"},\"marker\":{\"symbol\":\"circle\"},\"mode\":\"lines\",\"name\":\"sp7re3_117\",\"scene\":\"scene\",\"showlegend\":true,\"x\":[18270,19080,19110,19140,19170,19200,19230,19260,19290,19320,19350,19380,19410,19440,19470,19500],\"y\":[7.04609375006271e-05,0.00041546093749644797,0.0010074609375010368,0.0019364609375003283,0.00296746093749789,0.0038634609374952333,0.00489346093749532,0.004925460937499793,0.003628460937498801,0.0033104609374987604,0.003978460937496209,0.003715460937499415,0.003705460937496241,0.00292946093750146,0.0022204609375009454,0.0010254609374982238],\"z\":[0.0066482343749996176,0.006167234374999886,0.00515123437499998,0.005576234374999878,0.006124234375000093,0.0066092343750003835,0.007218234375000243,0.007832234374999913,0.007073234374999515,0.00623023437499981,0.005109234375000327,0.004126234374999704,0.0031792343750005614,0.0023432343750000584,0.0018482343750001462,0.0011082343749997392],\"type\":\"scatter3d\"},{\"hovertemplate\":\"geohash2=sp7re2_118<br>t=%{x}<br>lat_norm=%{y}<br>lon_norm=%{z}<extra></extra>\",\"legendgroup\":\"sp7re2_118\",\"line\":{\"color\":\"#FF97FF\",\"dash\":\"solid\"},\"marker\":{\"symbol\":\"circle\"},\"mode\":\"lines\",\"name\":\"sp7re2_118\",\"scene\":\"scene\",\"showlegend\":true,\"x\":[19530],\"y\":[0.004845625000001519],\"z\":[0.00011123437499982458],\"type\":\"scatter3d\"},{\"hovertemplate\":\"geohash2=sp7re0_119<br>t=%{x}<br>lat_norm=%{y}<br>lon_norm=%{z}<extra></extra>\",\"legendgroup\":\"sp7re0_119\",\"line\":{\"color\":\"#FECB52\",\"dash\":\"solid\"},\"marker\":{\"symbol\":\"circle\"},\"mode\":\"lines\",\"name\":\"sp7re0_119\",\"scene\":\"scene\",\"showlegend\":true,\"x\":[19560,19590,19620],\"y\":[0.003117625000001567,0.0013706249999998477,0.0003846250000023588],\"z\":[0.01010056249999991,0.008690562499999999,0.00869556249999981],\"type\":\"scatter3d\"},{\"hovertemplate\":\"geohash2=sp7r7p_120<br>t=%{x}<br>lat_norm=%{y}<br>lon_norm=%{z}<extra></extra>\",\"legendgroup\":\"sp7r7p_120\",\"line\":{\"color\":\"#636efa\",\"dash\":\"solid\"},\"marker\":{\"symbol\":\"circle\"},\"mode\":\"lines\",\"name\":\"sp7r7p_120\",\"scene\":\"scene\",\"showlegend\":true,\"x\":[19650,19680,19800,19830],\"y\":[0.0052537890625004025,0.005164789062497732,0.004553789062498481,0.003950789062500348],\"z\":[0.009140562499999838,0.00916656249999992,0.00963856250000017,0.01026656250000002],\"type\":\"scatter3d\"},{\"hovertemplate\":\"geohash2=sp7r7r_121<br>t=%{x}<br>lat_norm=%{y}<br>lon_norm=%{z}<extra></extra>\",\"legendgroup\":\"sp7r7r_121\",\"line\":{\"color\":\"#EF553B\",\"dash\":\"solid\"},\"marker\":{\"symbol\":\"circle\"},\"mode\":\"lines\",\"name\":\"sp7r7r_121\",\"scene\":\"scene\",\"showlegend\":true,\"x\":[19860,19890],\"y\":[0.0023367890624967913,0.0005577890625048099],\"z\":[0.0008012343749994599,0.002524234375000489],\"type\":\"scatter3d\"},{\"hovertemplate\":\"geohash2=sp7r7q_122<br>t=%{x}<br>lat_norm=%{y}<br>lon_norm=%{z}<extra></extra>\",\"legendgroup\":\"sp7r7q_122\",\"line\":{\"color\":\"#00cc96\",\"dash\":\"solid\"},\"marker\":{\"symbol\":\"circle\"},\"mode\":\"lines\",\"name\":\"sp7r7q_122\",\"scene\":\"scene\",\"showlegend\":true,\"x\":[19920,19950,19980],\"y\":[0.004122953124998219,0.002606953125003031,0.0013839531249999482],\"z\":[0.004263234375000202,0.005679234375000064,0.0069912343749996],\"type\":\"scatter3d\"},{\"hovertemplate\":\"geohash2=sp7r7m_123<br>t=%{x}<br>lat_norm=%{y}<br>lon_norm=%{z}<extra></extra>\",\"legendgroup\":\"sp7r7m_123\",\"line\":{\"color\":\"#ab63fa\",\"dash\":\"solid\"},\"marker\":{\"symbol\":\"circle\"},\"mode\":\"lines\",\"name\":\"sp7r7m_123\",\"scene\":\"scene\",\"showlegend\":true,\"x\":[20010,20040,20070,20100,20130,20160],\"y\":[0.005013117187495197,0.0035911171874971615,0.0032881171874947768,0.0031291171875054147,0.002859117187504978,0.0028351171875016234],\"z\":[0.007458234375000039,0.007366234374999614,0.008077234375000408,0.008682234374999709,0.009831234374999553,0.0105432343749996],\"type\":\"scatter3d\"},{\"hovertemplate\":\"geohash2=sp7r7t_124<br>t=%{x}<br>lat_norm=%{y}<br>lon_norm=%{z}<extra></extra>\",\"legendgroup\":\"sp7r7t_124\",\"line\":{\"color\":\"#FFA15A\",\"dash\":\"solid\"},\"marker\":{\"symbol\":\"circle\"},\"mode\":\"lines\",\"name\":\"sp7r7t_124\",\"scene\":\"scene\",\"showlegend\":true,\"x\":[20190,20220,20250,20280],\"y\":[0.002353117187496423,0.0021611171874980073,0.0011811171874995807,0.00010511718750194632],\"z\":[0.0007489062500001253,0.0012569062500000783,0.001805906250000433,0.0020999062499997834],\"type\":\"scatter3d\"},{\"hovertemplate\":\"geohash2=sp7r7s_125<br>t=%{x}<br>lat_norm=%{y}<br>lon_norm=%{z}<extra></extra>\",\"legendgroup\":\"sp7r7s_125\",\"line\":{\"color\":\"#19d3f3\",\"dash\":\"solid\"},\"marker\":{\"symbol\":\"circle\"},\"mode\":\"lines\",\"name\":\"sp7r7s_125\",\"scene\":\"scene\",\"showlegend\":true,\"x\":[20310,20340,20370,20580,20610,20640,20670,20700,20730,20760,20790,20820,20850],\"y\":[0.0046332812500011755,0.004154281249995506,0.004286281249996193,0.00399828124999857,0.0034872812500026384,0.003134281249998594,0.0022712812499960933,0.0018822812500047803,0.001772281250005392,0.001594281249992946,0.0012482812499996498,0.0011152812500014875,0.0004142812499949855],\"z\":[0.0021669062500002667,0.002297906249999926,0.0022119062499994513,0.0022109062500001997,0.0018919062500000194,0.0009439062499998485,0.0010029062500001018,0.0008519062500003116,0.0008249062500000903,0.000929906249999668,0.0016759062500000255,0.002324906250000147,0.003077906250000595],\"type\":\"scatter3d\"},{\"hovertemplate\":\"geohash2=sp7r7e_126<br>t=%{x}<br>lat_norm=%{y}<br>lon_norm=%{z}<extra></extra>\",\"legendgroup\":\"sp7r7e_126\",\"line\":{\"color\":\"#FF6692\",\"dash\":\"solid\"},\"marker\":{\"symbol\":\"circle\"},\"mode\":\"lines\",\"name\":\"sp7r7e_126\",\"scene\":\"scene\",\"showlegend\":true,\"x\":[20880],\"y\":[0.005176445312500277],\"z\":[0.002801906250000208],\"type\":\"scatter3d\"}],                        {\"template\":{\"data\":{\"histogram2dcontour\":[{\"type\":\"histogram2dcontour\",\"colorbar\":{\"outlinewidth\":0,\"ticks\":\"\"},\"colorscale\":[[0.0,\"#0d0887\"],[0.1111111111111111,\"#46039f\"],[0.2222222222222222,\"#7201a8\"],[0.3333333333333333,\"#9c179e\"],[0.4444444444444444,\"#bd3786\"],[0.5555555555555556,\"#d8576b\"],[0.6666666666666666,\"#ed7953\"],[0.7777777777777778,\"#fb9f3a\"],[0.8888888888888888,\"#fdca26\"],[1.0,\"#f0f921\"]]}],\"choropleth\":[{\"type\":\"choropleth\",\"colorbar\":{\"outlinewidth\":0,\"ticks\":\"\"}}],\"histogram2d\":[{\"type\":\"histogram2d\",\"colorbar\":{\"outlinewidth\":0,\"ticks\":\"\"},\"colorscale\":[[0.0,\"#0d0887\"],[0.1111111111111111,\"#46039f\"],[0.2222222222222222,\"#7201a8\"],[0.3333333333333333,\"#9c179e\"],[0.4444444444444444,\"#bd3786\"],[0.5555555555555556,\"#d8576b\"],[0.6666666666666666,\"#ed7953\"],[0.7777777777777778,\"#fb9f3a\"],[0.8888888888888888,\"#fdca26\"],[1.0,\"#f0f921\"]]}],\"heatmap\":[{\"type\":\"heatmap\",\"colorbar\":{\"outlinewidth\":0,\"ticks\":\"\"},\"colorscale\":[[0.0,\"#0d0887\"],[0.1111111111111111,\"#46039f\"],[0.2222222222222222,\"#7201a8\"],[0.3333333333333333,\"#9c179e\"],[0.4444444444444444,\"#bd3786\"],[0.5555555555555556,\"#d8576b\"],[0.6666666666666666,\"#ed7953\"],[0.7777777777777778,\"#fb9f3a\"],[0.8888888888888888,\"#fdca26\"],[1.0,\"#f0f921\"]]}],\"heatmapgl\":[{\"type\":\"heatmapgl\",\"colorbar\":{\"outlinewidth\":0,\"ticks\":\"\"},\"colorscale\":[[0.0,\"#0d0887\"],[0.1111111111111111,\"#46039f\"],[0.2222222222222222,\"#7201a8\"],[0.3333333333333333,\"#9c179e\"],[0.4444444444444444,\"#bd3786\"],[0.5555555555555556,\"#d8576b\"],[0.6666666666666666,\"#ed7953\"],[0.7777777777777778,\"#fb9f3a\"],[0.8888888888888888,\"#fdca26\"],[1.0,\"#f0f921\"]]}],\"contourcarpet\":[{\"type\":\"contourcarpet\",\"colorbar\":{\"outlinewidth\":0,\"ticks\":\"\"}}],\"contour\":[{\"type\":\"contour\",\"colorbar\":{\"outlinewidth\":0,\"ticks\":\"\"},\"colorscale\":[[0.0,\"#0d0887\"],[0.1111111111111111,\"#46039f\"],[0.2222222222222222,\"#7201a8\"],[0.3333333333333333,\"#9c179e\"],[0.4444444444444444,\"#bd3786\"],[0.5555555555555556,\"#d8576b\"],[0.6666666666666666,\"#ed7953\"],[0.7777777777777778,\"#fb9f3a\"],[0.8888888888888888,\"#fdca26\"],[1.0,\"#f0f921\"]]}],\"surface\":[{\"type\":\"surface\",\"colorbar\":{\"outlinewidth\":0,\"ticks\":\"\"},\"colorscale\":[[0.0,\"#0d0887\"],[0.1111111111111111,\"#46039f\"],[0.2222222222222222,\"#7201a8\"],[0.3333333333333333,\"#9c179e\"],[0.4444444444444444,\"#bd3786\"],[0.5555555555555556,\"#d8576b\"],[0.6666666666666666,\"#ed7953\"],[0.7777777777777778,\"#fb9f3a\"],[0.8888888888888888,\"#fdca26\"],[1.0,\"#f0f921\"]]}],\"mesh3d\":[{\"type\":\"mesh3d\",\"colorbar\":{\"outlinewidth\":0,\"ticks\":\"\"}}],\"scatter\":[{\"fillpattern\":{\"fillmode\":\"overlay\",\"size\":10,\"solidity\":0.2},\"type\":\"scatter\"}],\"parcoords\":[{\"type\":\"parcoords\",\"line\":{\"colorbar\":{\"outlinewidth\":0,\"ticks\":\"\"}}}],\"scatterpolargl\":[{\"type\":\"scatterpolargl\",\"marker\":{\"colorbar\":{\"outlinewidth\":0,\"ticks\":\"\"}}}],\"bar\":[{\"error_x\":{\"color\":\"#2a3f5f\"},\"error_y\":{\"color\":\"#2a3f5f\"},\"marker\":{\"line\":{\"color\":\"#E5ECF6\",\"width\":0.5},\"pattern\":{\"fillmode\":\"overlay\",\"size\":10,\"solidity\":0.2}},\"type\":\"bar\"}],\"scattergeo\":[{\"type\":\"scattergeo\",\"marker\":{\"colorbar\":{\"outlinewidth\":0,\"ticks\":\"\"}}}],\"scatterpolar\":[{\"type\":\"scatterpolar\",\"marker\":{\"colorbar\":{\"outlinewidth\":0,\"ticks\":\"\"}}}],\"histogram\":[{\"marker\":{\"pattern\":{\"fillmode\":\"overlay\",\"size\":10,\"solidity\":0.2}},\"type\":\"histogram\"}],\"scattergl\":[{\"type\":\"scattergl\",\"marker\":{\"colorbar\":{\"outlinewidth\":0,\"ticks\":\"\"}}}],\"scatter3d\":[{\"type\":\"scatter3d\",\"line\":{\"colorbar\":{\"outlinewidth\":0,\"ticks\":\"\"}},\"marker\":{\"colorbar\":{\"outlinewidth\":0,\"ticks\":\"\"}}}],\"scattermapbox\":[{\"type\":\"scattermapbox\",\"marker\":{\"colorbar\":{\"outlinewidth\":0,\"ticks\":\"\"}}}],\"scatterternary\":[{\"type\":\"scatterternary\",\"marker\":{\"colorbar\":{\"outlinewidth\":0,\"ticks\":\"\"}}}],\"scattercarpet\":[{\"type\":\"scattercarpet\",\"marker\":{\"colorbar\":{\"outlinewidth\":0,\"ticks\":\"\"}}}],\"carpet\":[{\"aaxis\":{\"endlinecolor\":\"#2a3f5f\",\"gridcolor\":\"white\",\"linecolor\":\"white\",\"minorgridcolor\":\"white\",\"startlinecolor\":\"#2a3f5f\"},\"baxis\":{\"endlinecolor\":\"#2a3f5f\",\"gridcolor\":\"white\",\"linecolor\":\"white\",\"minorgridcolor\":\"white\",\"startlinecolor\":\"#2a3f5f\"},\"type\":\"carpet\"}],\"table\":[{\"cells\":{\"fill\":{\"color\":\"#EBF0F8\"},\"line\":{\"color\":\"white\"}},\"header\":{\"fill\":{\"color\":\"#C8D4E3\"},\"line\":{\"color\":\"white\"}},\"type\":\"table\"}],\"barpolar\":[{\"marker\":{\"line\":{\"color\":\"#E5ECF6\",\"width\":0.5},\"pattern\":{\"fillmode\":\"overlay\",\"size\":10,\"solidity\":0.2}},\"type\":\"barpolar\"}],\"pie\":[{\"automargin\":true,\"type\":\"pie\"}]},\"layout\":{\"autotypenumbers\":\"strict\",\"colorway\":[\"#636efa\",\"#EF553B\",\"#00cc96\",\"#ab63fa\",\"#FFA15A\",\"#19d3f3\",\"#FF6692\",\"#B6E880\",\"#FF97FF\",\"#FECB52\"],\"font\":{\"color\":\"#2a3f5f\"},\"hovermode\":\"closest\",\"hoverlabel\":{\"align\":\"left\"},\"paper_bgcolor\":\"white\",\"plot_bgcolor\":\"#E5ECF6\",\"polar\":{\"bgcolor\":\"#E5ECF6\",\"angularaxis\":{\"gridcolor\":\"white\",\"linecolor\":\"white\",\"ticks\":\"\"},\"radialaxis\":{\"gridcolor\":\"white\",\"linecolor\":\"white\",\"ticks\":\"\"}},\"ternary\":{\"bgcolor\":\"#E5ECF6\",\"aaxis\":{\"gridcolor\":\"white\",\"linecolor\":\"white\",\"ticks\":\"\"},\"baxis\":{\"gridcolor\":\"white\",\"linecolor\":\"white\",\"ticks\":\"\"},\"caxis\":{\"gridcolor\":\"white\",\"linecolor\":\"white\",\"ticks\":\"\"}},\"coloraxis\":{\"colorbar\":{\"outlinewidth\":0,\"ticks\":\"\"}},\"colorscale\":{\"sequential\":[[0.0,\"#0d0887\"],[0.1111111111111111,\"#46039f\"],[0.2222222222222222,\"#7201a8\"],[0.3333333333333333,\"#9c179e\"],[0.4444444444444444,\"#bd3786\"],[0.5555555555555556,\"#d8576b\"],[0.6666666666666666,\"#ed7953\"],[0.7777777777777778,\"#fb9f3a\"],[0.8888888888888888,\"#fdca26\"],[1.0,\"#f0f921\"]],\"sequentialminus\":[[0.0,\"#0d0887\"],[0.1111111111111111,\"#46039f\"],[0.2222222222222222,\"#7201a8\"],[0.3333333333333333,\"#9c179e\"],[0.4444444444444444,\"#bd3786\"],[0.5555555555555556,\"#d8576b\"],[0.6666666666666666,\"#ed7953\"],[0.7777777777777778,\"#fb9f3a\"],[0.8888888888888888,\"#fdca26\"],[1.0,\"#f0f921\"]],\"diverging\":[[0,\"#8e0152\"],[0.1,\"#c51b7d\"],[0.2,\"#de77ae\"],[0.3,\"#f1b6da\"],[0.4,\"#fde0ef\"],[0.5,\"#f7f7f7\"],[0.6,\"#e6f5d0\"],[0.7,\"#b8e186\"],[0.8,\"#7fbc41\"],[0.9,\"#4d9221\"],[1,\"#276419\"]]},\"xaxis\":{\"gridcolor\":\"white\",\"linecolor\":\"white\",\"ticks\":\"\",\"title\":{\"standoff\":15},\"zerolinecolor\":\"white\",\"automargin\":true,\"zerolinewidth\":2},\"yaxis\":{\"gridcolor\":\"white\",\"linecolor\":\"white\",\"ticks\":\"\",\"title\":{\"standoff\":15},\"zerolinecolor\":\"white\",\"automargin\":true,\"zerolinewidth\":2},\"scene\":{\"xaxis\":{\"backgroundcolor\":\"#E5ECF6\",\"gridcolor\":\"white\",\"linecolor\":\"white\",\"showbackground\":true,\"ticks\":\"\",\"zerolinecolor\":\"white\",\"gridwidth\":2},\"yaxis\":{\"backgroundcolor\":\"#E5ECF6\",\"gridcolor\":\"white\",\"linecolor\":\"white\",\"showbackground\":true,\"ticks\":\"\",\"zerolinecolor\":\"white\",\"gridwidth\":2},\"zaxis\":{\"backgroundcolor\":\"#E5ECF6\",\"gridcolor\":\"white\",\"linecolor\":\"white\",\"showbackground\":true,\"ticks\":\"\",\"zerolinecolor\":\"white\",\"gridwidth\":2}},\"shapedefaults\":{\"line\":{\"color\":\"#2a3f5f\"}},\"annotationdefaults\":{\"arrowcolor\":\"#2a3f5f\",\"arrowhead\":0,\"arrowwidth\":1},\"geo\":{\"bgcolor\":\"white\",\"landcolor\":\"#E5ECF6\",\"subunitcolor\":\"white\",\"showland\":true,\"showlakes\":true,\"lakecolor\":\"white\"},\"title\":{\"x\":0.05},\"mapbox\":{\"style\":\"light\"}}},\"scene\":{\"domain\":{\"x\":[0.0,1.0],\"y\":[0.0,1.0]},\"xaxis\":{\"title\":{\"text\":\"t\"}},\"yaxis\":{\"title\":{\"text\":\"lat_norm\"}},\"zaxis\":{\"title\":{\"text\":\"lon_norm\"}}},\"legend\":{\"title\":{\"text\":\"geohash2\"},\"tracegroupgap\":0},\"margin\":{\"t\":60}},                        {\"responsive\": true}                    ).then(function(){\n",
       "                            \n",
       "var gd = document.getElementById('b30d2145-32f6-4b03-a2b7-a72dbebe740d');\n",
       "var x = new MutationObserver(function (mutations, observer) {{\n",
       "        var display = window.getComputedStyle(gd).display;\n",
       "        if (!display || display === 'none') {{\n",
       "            console.log([gd, 'removed!']);\n",
       "            Plotly.purge(gd);\n",
       "            observer.disconnect();\n",
       "        }}\n",
       "}});\n",
       "\n",
       "// Listen for the removal of the full notebook cells\n",
       "var notebookContainer = gd.closest('#notebook-container');\n",
       "if (notebookContainer) {{\n",
       "    x.observe(notebookContainer, {childList: true});\n",
       "}}\n",
       "\n",
       "// Listen for the clearing of the current output cell\n",
       "var outputEl = gd.closest('.output');\n",
       "if (outputEl) {{\n",
       "    x.observe(outputEl, {childList: true});\n",
       "}}\n",
       "\n",
       "                        })                };                });            </script>        </div>"
      ]
     },
     "metadata": {},
     "output_type": "display_data"
    }
   ],
   "source": [
    "px.line_3d(df[df.tid == 1], x=\"t\", y=\"lat_norm\", z=\"lon_norm\", color=\"geohash2\")"
   ]
  },
  {
   "cell_type": "code",
   "execution_count": 68,
   "metadata": {
    "pycharm": {
     "name": "#%%\n"
    }
   },
   "outputs": [
    {
     "data": {
      "application/vnd.plotly.v1+json": {
       "config": {
        "plotlyServerURL": "https://plot.ly"
       },
       "data": [
        {
         "hovertemplate": "geohash2=spe2nd_30<br>lat_norm=%{x}<br>lon_norm=%{y}<extra></extra>",
         "legendgroup": "spe2nd_30",
         "line": {
          "color": "#636efa",
          "dash": "solid"
         },
         "marker": {
          "symbol": "circle"
         },
         "mode": "lines",
         "name": "spe2nd_30",
         "orientation": "v",
         "showlegend": true,
         "type": "scatter",
         "x": [
          0.004819671874997766,
          0.00485367187499719,
          0.004764671874994519,
          0.003930671875004066,
          0.003477671875003807,
          0.003548671875002185,
          0.0035146718749956563,
          0.00318167187499796,
          0.0001656718750027153
         ],
         "xaxis": "x",
         "y": [
          0.004550968750000273,
          0.004375968749999792,
          0.004726968750000005,
          0.004917968750000057,
          0.00449596874999969,
          0.0029359687500001286,
          0.0028039687499994415,
          0.0020679687499995936,
          0.0008789687499994869
         ],
         "yaxis": "y"
        },
        {
         "hovertemplate": "geohash2=spe2n3_31<br>lat_norm=%{x}<br>lon_norm=%{y}<extra></extra>",
         "legendgroup": "spe2n3_31",
         "line": {
          "color": "#EF553B",
          "dash": "solid"
         },
         "marker": {
          "symbol": "circle"
         },
         "mode": "lines",
         "name": "spe2n3_31",
         "orientation": "v",
         "showlegend": true,
         "type": "scatter",
         "x": [
          0.0017678359374997399
         ],
         "xaxis": "x",
         "y": [
          0.010412296874999782
         ],
         "yaxis": "y"
        },
        {
         "hovertemplate": "geohash2=spe2n2_32<br>lat_norm=%{x}<br>lon_norm=%{y}<extra></extra>",
         "legendgroup": "spe2n2_32",
         "line": {
          "color": "#00cc96",
          "dash": "solid"
         },
         "marker": {
          "symbol": "circle"
         },
         "mode": "lines",
         "name": "spe2n2_32",
         "orientation": "v",
         "showlegend": true,
         "type": "scatter",
         "x": [
          0.003117000000003145
         ],
         "xaxis": "x",
         "y": [
          0.008021296875000417
         ],
         "yaxis": "y"
        },
        {
         "hovertemplate": "geohash2=sp7ryr_33<br>lat_norm=%{x}<br>lon_norm=%{y}<extra></extra>",
         "legendgroup": "sp7ryr_33",
         "line": {
          "color": "#ab63fa",
          "dash": "solid"
         },
         "marker": {
          "symbol": "circle"
         },
         "mode": "lines",
         "name": "sp7ryr_33",
         "orientation": "v",
         "showlegend": true,
         "type": "scatter",
         "x": [
          0.005199164062496209,
          0.002952164062506313,
          0.00011616406249714828
         ],
         "xaxis": "x",
         "y": [
          0.005253296874999869,
          0.002997296874999833,
          0.0006592968749998818
         ],
         "yaxis": "y"
        },
        {
         "hovertemplate": "geohash2=sp7ryn_34<br>lat_norm=%{x}<br>lon_norm=%{y}<extra></extra>",
         "legendgroup": "sp7ryn_34",
         "line": {
          "color": "#FFA15A",
          "dash": "solid"
         },
         "marker": {
          "symbol": "circle"
         },
         "mode": "lines",
         "name": "sp7ryn_34",
         "orientation": "v",
         "showlegend": true,
         "type": "scatter",
         "x": [
          0.0036063281250022783
         ],
         "xaxis": "x",
         "y": [
          0.009800624999999563
         ],
         "yaxis": "y"
        },
        {
         "hovertemplate": "geohash2=sp7ryj_35<br>lat_norm=%{x}<br>lon_norm=%{y}<extra></extra>",
         "legendgroup": "sp7ryj_35",
         "line": {
          "color": "#19d3f3",
          "dash": "solid"
         },
         "marker": {
          "symbol": "circle"
         },
         "mode": "lines",
         "name": "sp7ryj_35",
         "orientation": "v",
         "showlegend": true,
         "type": "scatter",
         "x": [
          0.005110492187498039,
          0.0015104921874993238,
          0.001234492187499825,
          0.00041249218750039063
         ],
         "xaxis": "x",
         "y": [
          0.006741625000000084,
          0.003403624999999799,
          0.0018866250000000306,
          0.002112625000000534
         ],
         "yaxis": "y"
        },
        {
         "hovertemplate": "geohash2=sp7ryh_36<br>lat_norm=%{x}<br>lon_norm=%{y}<extra></extra>",
         "legendgroup": "sp7ryh_36",
         "line": {
          "color": "#FF6692",
          "dash": "solid"
         },
         "marker": {
          "symbol": "circle"
         },
         "mode": "lines",
         "name": "sp7ryh_36",
         "orientation": "v",
         "showlegend": true,
         "type": "scatter",
         "x": [
          0.005129656249998504
         ],
         "xaxis": "x",
         "y": [
          0.00095362500000018
         ],
         "yaxis": "y"
        },
        {
         "hovertemplate": "geohash2=sp7rvu_37<br>lat_norm=%{x}<br>lon_norm=%{y}<extra></extra>",
         "legendgroup": "sp7rvu_37",
         "line": {
          "color": "#B6E880",
          "dash": "solid"
         },
         "marker": {
          "symbol": "circle"
         },
         "mode": "lines",
         "name": "sp7rvu_37",
         "orientation": "v",
         "showlegend": true,
         "type": "scatter",
         "x": [
          0.002885656250001034,
          0.0003776562500021896
         ],
         "xaxis": "x",
         "y": [
          0.007760953125000469,
          0.002775953125000008
         ],
         "yaxis": "y"
        },
        {
         "hovertemplate": "geohash2=sp7rve_38<br>lat_norm=%{x}<br>lon_norm=%{y}<extra></extra>",
         "legendgroup": "sp7rve_38",
         "line": {
          "color": "#FF97FF",
          "dash": "solid"
         },
         "marker": {
          "symbol": "circle"
         },
         "mode": "lines",
         "name": "sp7rve_38",
         "orientation": "v",
         "showlegend": true,
         "type": "scatter",
         "x": [
          0.003261820312495445
         ],
         "xaxis": "x",
         "y": [
          0.008573281250000342
         ],
         "yaxis": "y"
        },
        {
         "hovertemplate": "geohash2=sp7rvd_39<br>lat_norm=%{x}<br>lon_norm=%{y}<extra></extra>",
         "legendgroup": "sp7rvd_39",
         "line": {
          "color": "#FECB52",
          "dash": "solid"
         },
         "marker": {
          "symbol": "circle"
         },
         "mode": "lines",
         "name": "sp7rvd_39",
         "orientation": "v",
         "showlegend": true,
         "type": "scatter",
         "x": [
          0.004823984375001089,
          0.001120984374999523
         ],
         "xaxis": "x",
         "y": [
          0.00465528124999981,
          0.0024452812499999865
         ],
         "yaxis": "y"
        },
        {
         "hovertemplate": "geohash2=sp7rv3_40<br>lat_norm=%{x}<br>lon_norm=%{y}<extra></extra>",
         "legendgroup": "sp7rv3_40",
         "line": {
          "color": "#636efa",
          "dash": "solid"
         },
         "marker": {
          "symbol": "circle"
         },
         "mode": "lines",
         "name": "sp7rv3_40",
         "orientation": "v",
         "showlegend": true,
         "type": "scatter",
         "x": [
          0.0019601484374973666
         ],
         "xaxis": "x",
         "y": [
          0.010527609374999969
         ],
         "yaxis": "y"
        },
        {
         "hovertemplate": "geohash2=sp7rv2_41<br>lat_norm=%{x}<br>lon_norm=%{y}<extra></extra>",
         "legendgroup": "sp7rv2_41",
         "line": {
          "color": "#EF553B",
          "dash": "solid"
         },
         "marker": {
          "symbol": "circle"
         },
         "mode": "lines",
         "name": "sp7rv2_41",
         "orientation": "v",
         "showlegend": true,
         "type": "scatter",
         "x": [
          0.0022883124999992788
         ],
         "xaxis": "x",
         "y": [
          0.007367609374999695
         ],
         "yaxis": "y"
        },
        {
         "hovertemplate": "geohash2=sp7rtr_42<br>lat_norm=%{x}<br>lon_norm=%{y}<extra></extra>",
         "legendgroup": "sp7rtr_42",
         "line": {
          "color": "#00cc96",
          "dash": "solid"
         },
         "marker": {
          "symbol": "circle"
         },
         "mode": "lines",
         "name": "sp7rtr_42",
         "orientation": "v",
         "showlegend": true,
         "type": "scatter",
         "x": [
          0.002939476562495713
         ],
         "xaxis": "x",
         "y": [
          0.0037596093749998616
         ],
         "yaxis": "y"
        },
        {
         "hovertemplate": "geohash2=sp7rtn_43<br>lat_norm=%{x}<br>lon_norm=%{y}<extra></extra>",
         "legendgroup": "sp7rtn_43",
         "line": {
          "color": "#ab63fa",
          "dash": "solid"
         },
         "marker": {
          "symbol": "circle"
         },
         "mode": "lines",
         "name": "sp7rtn_43",
         "orientation": "v",
         "showlegend": true,
         "type": "scatter",
         "x": [
          0.0052626406249984825,
          0.0026126406249957768
         ],
         "xaxis": "x",
         "y": [
          0.009685937499999575,
          0.004459937500000066
         ],
         "yaxis": "y"
        },
        {
         "hovertemplate": "geohash2=sp7rsv_44<br>lat_norm=%{x}<br>lon_norm=%{y}<extra></extra>",
         "legendgroup": "sp7rsv_44",
         "line": {
          "color": "#FFA15A",
          "dash": "solid"
         },
         "marker": {
          "symbol": "circle"
         },
         "mode": "lines",
         "name": "sp7rsv_44",
         "orientation": "v",
         "showlegend": true,
         "type": "scatter",
         "x": [
          0.0053478046874957386,
          0.002534804687499559
         ],
         "xaxis": "x",
         "y": [
          0.010010265624999626,
          0.004555265625000082
         ],
         "yaxis": "y"
        },
        {
         "hovertemplate": "geohash2=sp7rsu_45<br>lat_norm=%{x}<br>lon_norm=%{y}<extra></extra>",
         "legendgroup": "sp7rsu_45",
         "line": {
          "color": "#19d3f3",
          "dash": "solid"
         },
         "marker": {
          "symbol": "circle"
         },
         "mode": "lines",
         "name": "sp7rsu_45",
         "orientation": "v",
         "showlegend": true,
         "type": "scatter",
         "x": [
          0.004110968749998278
         ],
         "xaxis": "x",
         "y": [
          0.00027326562500018525
         ],
         "yaxis": "y"
        },
        {
         "hovertemplate": "geohash2=sp7rse_46<br>lat_norm=%{x}<br>lon_norm=%{y}<extra></extra>",
         "legendgroup": "sp7rse_46",
         "line": {
          "color": "#FF6692",
          "dash": "solid"
         },
         "marker": {
          "symbol": "circle"
         },
         "mode": "lines",
         "name": "sp7rse_46",
         "orientation": "v",
         "showlegend": true,
         "type": "scatter",
         "x": [
          0.004287132812493155
         ],
         "xaxis": "x",
         "y": [
          0.00855159375000003
         ],
         "yaxis": "y"
        },
        {
         "hovertemplate": "geohash2=sp7rsd_47<br>lat_norm=%{x}<br>lon_norm=%{y}<extra></extra>",
         "legendgroup": "sp7rsd_47",
         "line": {
          "color": "#B6E880",
          "dash": "solid"
         },
         "marker": {
          "symbol": "circle"
         },
         "mode": "lines",
         "name": "sp7rsd_47",
         "orientation": "v",
         "showlegend": true,
         "type": "scatter",
         "x": [
          0.004236296874999823,
          0.00036929687500020236,
          0.0003572968749949723
         ],
         "xaxis": "x",
         "y": [
          0.006693593749999671,
          0.00449959374999942,
          0.004491593750000078
         ],
         "yaxis": "y"
        },
        {
         "hovertemplate": "geohash2=sp7rs9_48<br>lat_norm=%{x}<br>lon_norm=%{y}<extra></extra>",
         "legendgroup": "sp7rs9_48",
         "line": {
          "color": "#FF97FF",
          "dash": "solid"
         },
         "marker": {
          "symbol": "circle"
         },
         "mode": "lines",
         "name": "sp7rs9_48",
         "orientation": "v",
         "showlegend": true,
         "type": "scatter",
         "x": [
          0.005440460937499836,
          0.0014124609375016917
         ],
         "xaxis": "x",
         "y": [
          0.004138593749999586,
          0.0006615937500003
         ],
         "yaxis": "y"
        },
        {
         "hovertemplate": "geohash2=sp7rs2_49<br>lat_norm=%{x}<br>lon_norm=%{y}<extra></extra>",
         "legendgroup": "sp7rs2_49",
         "line": {
          "color": "#FECB52",
          "dash": "solid"
         },
         "marker": {
          "symbol": "circle"
         },
         "mode": "lines",
         "name": "sp7rs2_49",
         "orientation": "v",
         "showlegend": true,
         "type": "scatter",
         "x": [
          0.0018316249999941192
         ],
         "xaxis": "x",
         "y": [
          0.008220921875000009
         ],
         "yaxis": "y"
        },
        {
         "hovertemplate": "geohash2=sp7rkr_50<br>lat_norm=%{x}<br>lon_norm=%{y}<extra></extra>",
         "legendgroup": "sp7rkr_50",
         "line": {
          "color": "#636efa",
          "dash": "solid"
         },
         "marker": {
          "symbol": "circle"
         },
         "mode": "lines",
         "name": "sp7rkr_50",
         "orientation": "v",
         "showlegend": true,
         "type": "scatter",
         "x": [
          0.0016827890625066289
         ],
         "xaxis": "x",
         "y": [
          0.006634921875000366
         ],
         "yaxis": "y"
        },
        {
         "hovertemplate": "geohash2=sp7rkq_51<br>lat_norm=%{x}<br>lon_norm=%{y}<extra></extra>",
         "legendgroup": "sp7rkq_51",
         "line": {
          "color": "#EF553B",
          "dash": "solid"
         },
         "marker": {
          "symbol": "circle"
         },
         "mode": "lines",
         "name": "sp7rkq_51",
         "orientation": "v",
         "showlegend": true,
         "type": "scatter",
         "x": [
          0.0019239531250008213
         ],
         "xaxis": "x",
         "y": [
          0.003750921874999591
         ],
         "yaxis": "y"
        },
        {
         "hovertemplate": "geohash2=sp7rkm_52<br>lat_norm=%{x}<br>lon_norm=%{y}<extra></extra>",
         "legendgroup": "sp7rkm_52",
         "line": {
          "color": "#00cc96",
          "dash": "solid"
         },
         "marker": {
          "symbol": "circle"
         },
         "mode": "lines",
         "name": "sp7rkm_52",
         "orientation": "v",
         "showlegend": true,
         "type": "scatter",
         "x": [
          0.002251117187498153
         ],
         "xaxis": "x",
         "y": [
          0.0016649218750002248
         ],
         "yaxis": "y"
        },
        {
         "hovertemplate": "geohash2=sp7rkk_53<br>lat_norm=%{x}<br>lon_norm=%{y}<extra></extra>",
         "legendgroup": "sp7rkk_53",
         "line": {
          "color": "#ab63fa",
          "dash": "solid"
         },
         "marker": {
          "symbol": "circle"
         },
         "mode": "lines",
         "name": "sp7rkk_53",
         "orientation": "v",
         "showlegend": true,
         "type": "scatter",
         "x": [
          0.002733281250002051
         ],
         "xaxis": "x",
         "y": [
          3.4921874999760405e-05
         ],
         "yaxis": "y"
        },
        {
         "hovertemplate": "geohash2=sp7rk5_54<br>lat_norm=%{x}<br>lon_norm=%{y}<extra></extra>",
         "legendgroup": "sp7rk5_54",
         "line": {
          "color": "#FFA15A",
          "dash": "solid"
         },
         "marker": {
          "symbol": "circle"
         },
         "mode": "lines",
         "name": "sp7rk5_54",
         "orientation": "v",
         "showlegend": true,
         "type": "scatter",
         "x": [
          0.003418445312505014
         ],
         "xaxis": "x",
         "y": [
          0.0079072499999997
         ],
         "yaxis": "y"
        },
        {
         "hovertemplate": "geohash2=sp7rk4_55<br>lat_norm=%{x}<br>lon_norm=%{y}<extra></extra>",
         "legendgroup": "sp7rk4_55",
         "line": {
          "color": "#19d3f3",
          "dash": "solid"
         },
         "marker": {
          "symbol": "circle"
         },
         "mode": "lines",
         "name": "sp7rk4_55",
         "orientation": "v",
         "showlegend": true,
         "type": "scatter",
         "x": [
          0.0049926093750016776
         ],
         "xaxis": "x",
         "y": [
          0.005262249999999469
         ],
         "yaxis": "y"
        },
        {
         "hovertemplate": "geohash2=sp7rk5_56<br>lat_norm=%{x}<br>lon_norm=%{y}<extra></extra>",
         "legendgroup": "sp7rk5_56",
         "line": {
          "color": "#FF6692",
          "dash": "solid"
         },
         "marker": {
          "symbol": "circle"
         },
         "mode": "lines",
         "name": "sp7rk5_56",
         "orientation": "v",
         "showlegend": true,
         "type": "scatter",
         "x": [
          5.4453125031272975e-06,
          0.0005774453124942625,
          0.0015064453125006594,
          0.0016294453124956476,
          0.0007884453125015511,
          0.0007464453125010095
         ],
         "xaxis": "x",
         "y": [
          0.003087250000000097,
          0.0015262500000003953,
          0.002003250000000456,
          0.0020202500000001677,
          0.0015522499999995887,
          0.00158725000000004
         ],
         "yaxis": "y"
        },
        {
         "hovertemplate": "geohash2=sp7rk4_57<br>lat_norm=%{x}<br>lon_norm=%{y}<extra></extra>",
         "legendgroup": "sp7rk4_57",
         "line": {
          "color": "#B6E880",
          "dash": "solid"
         },
         "marker": {
          "symbol": "circle"
         },
         "mode": "lines",
         "name": "sp7rk4_57",
         "orientation": "v",
         "showlegend": true,
         "type": "scatter",
         "x": [
          0.005131609374998902,
          0.004414609374997269
         ],
         "xaxis": "x",
         "y": [
          0.0010752500000004162,
          0.00048525000000054774
         ],
         "yaxis": "y"
        },
        {
         "hovertemplate": "geohash2=sp7r7f_58<br>lat_norm=%{x}<br>lon_norm=%{y}<extra></extra>",
         "legendgroup": "sp7r7f_58",
         "line": {
          "color": "#FF97FF",
          "dash": "solid"
         },
         "marker": {
          "symbol": "circle"
         },
         "mode": "lines",
         "name": "sp7r7f_58",
         "orientation": "v",
         "showlegend": true,
         "type": "scatter",
         "x": [
          0.005486609375005003
         ],
         "xaxis": "x",
         "y": [
          0.009561578125000025
         ],
         "yaxis": "y"
        },
        {
         "hovertemplate": "geohash2=sp7r7g_59<br>lat_norm=%{x}<br>lon_norm=%{y}<extra></extra>",
         "legendgroup": "sp7r7g_59",
         "line": {
          "color": "#FECB52",
          "dash": "solid"
         },
         "marker": {
          "symbol": "circle"
         },
         "mode": "lines",
         "name": "sp7r7g_59",
         "orientation": "v",
         "showlegend": true,
         "type": "scatter",
         "x": [
          0.00040744531249714555,
          0.0004504453125022678,
          0.000527445312499708,
          0.0008734453125001096,
          0.003025445312502484,
          0.00416844531250149,
          0.005330445312502263
         ],
         "xaxis": "x",
         "y": [
          0.008623578124999476,
          0.00838557812499996,
          0.007982578124999584,
          0.0071575781249997306,
          0.007603578124999899,
          0.007852578125000065,
          0.008303578125000044
         ],
         "yaxis": "y"
        },
        {
         "hovertemplate": "geohash2=sp7r7u_60<br>lat_norm=%{x}<br>lon_norm=%{y}<extra></extra>",
         "legendgroup": "sp7r7u_60",
         "line": {
          "color": "#636efa",
          "dash": "solid"
         },
         "marker": {
          "symbol": "circle"
         },
         "mode": "lines",
         "name": "sp7r7u_60",
         "orientation": "v",
         "showlegend": true,
         "type": "scatter",
         "x": [
          0.0019422812500025088,
          0.002873281249996751,
          0.0033592812499989577,
          0.005090281249998441
         ],
         "xaxis": "x",
         "y": [
          0.009092578125000195,
          0.009270578125000206,
          0.009429578125000226,
          0.009540578124999755
         ],
         "yaxis": "y"
        },
        {
         "hovertemplate": "geohash2=sp7r7v_61<br>lat_norm=%{x}<br>lon_norm=%{y}<extra></extra>",
         "legendgroup": "sp7r7v_61",
         "line": {
          "color": "#EF553B",
          "dash": "solid"
         },
         "marker": {
          "symbol": "circle"
         },
         "mode": "lines",
         "name": "sp7r7v_61",
         "orientation": "v",
         "showlegend": true,
         "type": "scatter",
         "x": [
          0.001795117187498363,
          0.0040691171875053556
         ],
         "xaxis": "x",
         "y": [
          0.009046578124999982,
          0.008677578124999918
         ],
         "yaxis": "y"
        },
        {
         "hovertemplate": "geohash2=sp7r7y_62<br>lat_norm=%{x}<br>lon_norm=%{y}<extra></extra>",
         "legendgroup": "sp7r7y_62",
         "line": {
          "color": "#00cc96",
          "dash": "solid"
         },
         "marker": {
          "symbol": "circle"
         },
         "mode": "lines",
         "name": "sp7r7y_62",
         "orientation": "v",
         "showlegend": true,
         "type": "scatter",
         "x": [
          0.0005749531249961137,
          0.0016509531250008536,
          0.0018079531249952652,
          0.0032519531250017053,
          0.004449953124996853
         ],
         "xaxis": "x",
         "y": [
          0.008306578125000463,
          0.00808257812500024,
          0.00809157812500061,
          0.007833578125000074,
          0.0076615781250000126
         ],
         "yaxis": "y"
        },
        {
         "hovertemplate": "geohash2=sp7r7z_63<br>lat_norm=%{x}<br>lon_norm=%{y}<extra></extra>",
         "legendgroup": "sp7r7z_63",
         "line": {
          "color": "#ab63fa",
          "dash": "solid"
         },
         "marker": {
          "symbol": "circle"
         },
         "mode": "lines",
         "name": "sp7r7z_63",
         "orientation": "v",
         "showlegend": true,
         "type": "scatter",
         "x": [
          0.0003337890625019213,
          0.0004347890624956108,
          0.0009557890625018217,
          0.0008697890624986826,
          0.000903789062498106,
          0.0008837890624988631,
          0.00077478906249695,
          0.0025497890624990305,
          0.004925789062504293
         ],
         "xaxis": "x",
         "y": [
          0.007402578125000225,
          0.007402578125000225,
          0.007317578124999891,
          0.006413578124999653,
          0.0063785781250000895,
          0.005974578125000463,
          0.0056145781249998805,
          0.0051985781249994645,
          0.004556578125000321
         ],
         "yaxis": "y"
        },
        {
         "hovertemplate": "geohash2=sp7reb_64<br>lat_norm=%{x}<br>lon_norm=%{y}<extra></extra>",
         "legendgroup": "sp7reb_64",
         "line": {
          "color": "#FFA15A",
          "dash": "solid"
         },
         "marker": {
          "symbol": "circle"
         },
         "mode": "lines",
         "name": "sp7reb_64",
         "orientation": "v",
         "showlegend": true,
         "type": "scatter",
         "x": [
          0.0016686250000006453,
          0.0027116249999963316,
          0.0029936249999948927,
          0.0023946250000008718,
          0.0023066249999956767,
          0.0023076250000002574
         ],
         "xaxis": "x",
         "y": [
          0.003037578125000273,
          0.002285578124999965,
          0.001558578124999599,
          0.0009595781250002489,
          0.0006965781249999026,
          0.0005035781249995708
         ],
         "yaxis": "y"
        },
        {
         "hovertemplate": "geohash2=sp7re8_65<br>lat_norm=%{x}<br>lon_norm=%{y}<extra></extra>",
         "legendgroup": "sp7re8_65",
         "line": {
          "color": "#19d3f3",
          "dash": "solid"
         },
         "marker": {
          "symbol": "circle"
         },
         "mode": "lines",
         "name": "sp7re8_65",
         "orientation": "v",
         "showlegend": true,
         "type": "scatter",
         "x": [
          0.0031526249999984657,
          0.004511624999999242,
          0.005233624999995357
         ],
         "xaxis": "x",
         "y": [
          0.010615906249999973,
          0.009083906249999885,
          0.008401906249999591
         ],
         "yaxis": "y"
        },
        {
         "hovertemplate": "geohash2=sp7re9_66<br>lat_norm=%{x}<br>lon_norm=%{y}<extra></extra>",
         "legendgroup": "sp7re9_66",
         "line": {
          "color": "#FF6692",
          "dash": "solid"
         },
         "marker": {
          "symbol": "circle"
         },
         "mode": "lines",
         "name": "sp7re9_66",
         "orientation": "v",
         "showlegend": true,
         "type": "scatter",
         "x": [
          0.0009424609375017212,
          0.0010994609375032383,
          0.0011004609375007135,
          0.0014574609375017644,
          0.0005164609375043483
         ],
         "xaxis": "x",
         "y": [
          0.007027906250000271,
          0.0068259062500004575,
          0.006790906250000006,
          0.006150906250000254,
          0.005428906249999699
         ],
         "yaxis": "y"
        },
        {
         "hovertemplate": "geohash2=sp7re8_67<br>lat_norm=%{x}<br>lon_norm=%{y}<extra></extra>",
         "legendgroup": "sp7re8_67",
         "line": {
          "color": "#B6E880",
          "dash": "solid"
         },
         "marker": {
          "symbol": "circle"
         },
         "mode": "lines",
         "name": "sp7re8_67",
         "orientation": "v",
         "showlegend": true,
         "type": "scatter",
         "x": [
          0.0050676250000023515,
          0.00403862499999974,
          0.0032756250000005593,
          0.002347624999998743,
          0.0010756249999985812
         ],
         "xaxis": "x",
         "y": [
          0.004810906250000357,
          0.003535906249999776,
          0.002761906249999946,
          0.0018819062499995098,
          0.0011229062499999998
         ],
         "yaxis": "y"
        },
        {
         "hovertemplate": "geohash2=sp7re2_68<br>lat_norm=%{x}<br>lon_norm=%{y}<extra></extra>",
         "legendgroup": "sp7re2_68",
         "line": {
          "color": "#FF97FF",
          "dash": "solid"
         },
         "marker": {
          "symbol": "circle"
         },
         "mode": "lines",
         "name": "sp7re2_68",
         "orientation": "v",
         "showlegend": true,
         "type": "scatter",
         "x": [
          0.0016466249999993465,
          0.00278362499999929,
          0.0035536249999950087,
          0.004737625000004186
         ],
         "xaxis": "x",
         "y": [
          0.010961234374999407,
          0.009025234374999691,
          0.007729234375000615,
          0.0056092343750000495
         ],
         "yaxis": "y"
        },
        {
         "hovertemplate": "geohash2=sp7re3_69<br>lat_norm=%{x}<br>lon_norm=%{y}<extra></extra>",
         "legendgroup": "sp7re3_69",
         "line": {
          "color": "#FECB52",
          "dash": "solid"
         },
         "marker": {
          "symbol": "circle"
         },
         "mode": "lines",
         "name": "sp7re3_69",
         "orientation": "v",
         "showlegend": true,
         "type": "scatter",
         "x": [
          0.0009174609375008913,
          0.0011684609374995603
         ],
         "xaxis": "x",
         "y": [
          0.0027632343750001453,
          0.0013242343750006214
         ],
         "yaxis": "y"
        },
        {
         "hovertemplate": "geohash2=sp7re2_70<br>lat_norm=%{x}<br>lon_norm=%{y}<extra></extra>",
         "legendgroup": "sp7re2_70",
         "line": {
          "color": "#636efa",
          "dash": "solid"
         },
         "marker": {
          "symbol": "circle"
         },
         "mode": "lines",
         "name": "sp7re2_70",
         "orientation": "v",
         "showlegend": true,
         "type": "scatter",
         "x": [
          0.004921624999994378
         ],
         "xaxis": "x",
         "y": [
          0.00030123437499973704
         ],
         "yaxis": "y"
        },
        {
         "hovertemplate": "geohash2=sp7re0_71<br>lat_norm=%{x}<br>lon_norm=%{y}<extra></extra>",
         "legendgroup": "sp7re0_71",
         "line": {
          "color": "#EF553B",
          "dash": "solid"
         },
         "marker": {
          "symbol": "circle"
         },
         "mode": "lines",
         "name": "sp7re0_71",
         "orientation": "v",
         "showlegend": true,
         "type": "scatter",
         "x": [
          0.0035606249999986517,
          0.0021756249999995703,
          0.0005056250000023965
         ],
         "xaxis": "x",
         "y": [
          0.010519562499999857,
          0.009732562499999986,
          0.007857562499999915
         ],
         "yaxis": "y"
        },
        {
         "hovertemplate": "geohash2=sp7r7p_72<br>lat_norm=%{x}<br>lon_norm=%{y}<extra></extra>",
         "legendgroup": "sp7r7p_72",
         "line": {
          "color": "#00cc96",
          "dash": "solid"
         },
         "marker": {
          "symbol": "circle"
         },
         "mode": "lines",
         "name": "sp7r7p_72",
         "orientation": "v",
         "showlegend": true,
         "type": "scatter",
         "x": [
          0.005488789062496835,
          0.005454789062497412,
          0.004589789062492855,
          0.0041037890624977535
         ],
         "xaxis": "x",
         "y": [
          0.00747856250000023,
          0.007276562500000416,
          0.007957562499999682,
          0.010001562500000283
         ],
         "yaxis": "y"
        },
        {
         "hovertemplate": "geohash2=sp7r7r_73<br>lat_norm=%{x}<br>lon_norm=%{y}<extra></extra>",
         "legendgroup": "sp7r7r_73",
         "line": {
          "color": "#ab63fa",
          "dash": "solid"
         },
         "marker": {
          "symbol": "circle"
         },
         "mode": "lines",
         "name": "sp7r7r_73",
         "orientation": "v",
         "showlegend": true,
         "type": "scatter",
         "x": [
          0.0021457890625029563,
          0.0005877890625072268
         ],
         "xaxis": "x",
         "y": [
          0.0009482343749995792,
          0.0023822343750001806
         ],
         "yaxis": "y"
        },
        {
         "hovertemplate": "geohash2=sp7r7q_74<br>lat_norm=%{x}<br>lon_norm=%{y}<extra></extra>",
         "legendgroup": "sp7r7q_74",
         "line": {
          "color": "#FFA15A",
          "dash": "solid"
         },
         "marker": {
          "symbol": "circle"
         },
         "mode": "lines",
         "name": "sp7r7q_74",
         "orientation": "v",
         "showlegend": true,
         "type": "scatter",
         "x": [
          0.004131953124996812,
          0.002704953124997189,
          0.0007219531250015621
         ],
         "xaxis": "x",
         "y": [
          0.004175234375000336,
          0.0055212343750001835,
          0.007340234375000421
         ],
         "yaxis": "y"
        },
        {
         "hovertemplate": "geohash2=sp7r7m_75<br>lat_norm=%{x}<br>lon_norm=%{y}<extra></extra>",
         "legendgroup": "sp7r7m_75",
         "line": {
          "color": "#19d3f3",
          "dash": "solid"
         },
         "marker": {
          "symbol": "circle"
         },
         "mode": "lines",
         "name": "sp7r7m_75",
         "orientation": "v",
         "showlegend": true,
         "type": "scatter",
         "x": [
          0.0040731171874952565,
          0.002512117187499996,
          0.002426117187496857,
          0.003273117187497121,
          0.0035251171875003706,
          0.0033091171875057057,
          0.0027341171875008285,
          0.002679117187504687,
          0.0024761171874985166,
          0.002292117187501219,
          0.0020961171874986917,
          0.0014021171875029381,
          0.0006221171875040454
         ],
         "xaxis": "x",
         "y": [
          0.007473234374999471,
          0.0060372343750003665,
          0.005062234374999974,
          0.003739234374999789,
          0.0019322343750003412,
          0.0005892343750000251,
          0.0005952343749999756,
          0.00047323437499979804,
          0.0016222343750005308,
          0.0034302343750001185,
          0.005255234375000306,
          0.006271234374999324,
          0.0067692343750005435
         ],
         "yaxis": "y"
        },
        {
         "hovertemplate": "geohash2=sp7r7k_76<br>lat_norm=%{x}<br>lon_norm=%{y}<extra></extra>",
         "legendgroup": "sp7r7k_76",
         "line": {
          "color": "#FF6692",
          "dash": "solid"
         },
         "marker": {
          "symbol": "circle"
         },
         "mode": "lines",
         "name": "sp7r7k_76",
         "orientation": "v",
         "showlegend": true,
         "type": "scatter",
         "x": [
          0.004592281250005215,
          0.003959281249997559,
          0.003578281250000259,
          0.002688281250001978
         ],
         "xaxis": "x",
         "y": [
          0.00779023437500026,
          0.00825323437500014,
          0.009743234374999687,
          0.009986234374999903
         ],
         "yaxis": "y"
        },
        {
         "hovertemplate": "geohash2=sp7r7s_77<br>lat_norm=%{x}<br>lon_norm=%{y}<extra></extra>",
         "legendgroup": "sp7r7s_77",
         "line": {
          "color": "#B6E880",
          "dash": "solid"
         },
         "marker": {
          "symbol": "circle"
         },
         "mode": "lines",
         "name": "sp7r7s_77",
         "orientation": "v",
         "showlegend": true,
         "type": "scatter",
         "x": [
          0.002430281249999666,
          0.0016512812499982488,
          0.0014942812499967317,
          0.0010842812499944898,
          0.0004542812499934712
         ],
         "xaxis": "x",
         "y": [
          0.00014090625000040546,
          0.0001389062500001259,
          0.00034090624999993935,
          0.0003389062499996598,
          8.290625000029195e-05
         ],
         "yaxis": "y"
        },
        {
         "hovertemplate": "geohash2=sp7r7e_78<br>lat_norm=%{x}<br>lon_norm=%{y}<extra></extra>",
         "legendgroup": "sp7r7e_78",
         "line": {
          "color": "#FF97FF",
          "dash": "solid"
         },
         "marker": {
          "symbol": "circle"
         },
         "mode": "lines",
         "name": "sp7r7e_78",
         "orientation": "v",
         "showlegend": true,
         "type": "scatter",
         "x": [
          0.004521445312498429,
          0.004164445312497378,
          0.003999445312494743,
          0.003554445312495602,
          0.00263544531250659
         ],
         "xaxis": "x",
         "y": [
          0.0013069062499999617,
          0.0016029062500004798,
          0.0017249062499997692,
          0.0016719062499994664,
          0.0006509062499997498
         ],
         "yaxis": "y"
        },
        {
         "hovertemplate": "geohash2=sp7r77_79<br>lat_norm=%{x}<br>lon_norm=%{y}<extra></extra>",
         "legendgroup": "sp7r77_79",
         "line": {
          "color": "#FECB52",
          "dash": "solid"
         },
         "marker": {
          "symbol": "circle"
         },
         "mode": "lines",
         "name": "sp7r77_79",
         "orientation": "v",
         "showlegend": true,
         "type": "scatter",
         "x": [
          0.004021445312503147,
          0.004270445312506865,
          0.004359445312495325,
          0.004672445312493778
         ],
         "xaxis": "x",
         "y": [
          0.008631234374999686,
          0.0075522343749998555,
          0.007447234375000278,
          0.006306234374999775
         ],
         "yaxis": "y"
        },
        {
         "hovertemplate": "geohash2=sp7r7k_80<br>lat_norm=%{x}<br>lon_norm=%{y}<extra></extra>",
         "legendgroup": "sp7r7k_80",
         "line": {
          "color": "#636efa",
          "dash": "solid"
         },
         "marker": {
          "symbol": "circle"
         },
         "mode": "lines",
         "name": "sp7r7k_80",
         "orientation": "v",
         "showlegend": true,
         "type": "scatter",
         "x": [
          0.0004892812499974752,
          0.0009322812500016653,
          0.0009292812499950287,
          0.0010522812500042278,
          0.0006842812499954221,
          0.0005642812499928596
         ],
         "xaxis": "x",
         "y": [
          0.0056532343749999825,
          0.006182234375000206,
          0.00684823437500004,
          0.006796234374999877,
          0.006708234375000011,
          0.005961234374999513
         ],
         "yaxis": "y"
        },
        {
         "hovertemplate": "geohash2=sp7r77_81<br>lat_norm=%{x}<br>lon_norm=%{y}<extra></extra>",
         "legendgroup": "sp7r77_81",
         "line": {
          "color": "#EF553B",
          "dash": "solid"
         },
         "marker": {
          "symbol": "circle"
         },
         "mode": "lines",
         "name": "sp7r77_81",
         "orientation": "v",
         "showlegend": true,
         "type": "scatter",
         "x": [
          0.0051354453125043165,
          0.004150445312504303,
          0.002762445312498585,
          0.0027654453125052214,
          0.003378445312499423,
          0.002483445312499555,
          0.0022054453125051054,
          0.0019394453125016753,
          0.0019844453124946426,
          0.0021764453125001637,
          0.002122445312494392,
          0.0021784453125022196
         ],
         "xaxis": "x",
         "y": [
          0.005958234374999982,
          0.005578234375000157,
          0.0052572343749996975,
          0.004651234374999369,
          0.0035212343749995156,
          0.0027982343749997085,
          0.002464234375000096,
          0.00220023437499961,
          0.0014802343750002223,
          0.0009102343749995967,
          0.0008482343749998122,
          0.0005582343750001328
         ],
         "yaxis": "y"
        },
        {
         "hovertemplate": "geohash2=sp7r75_82<br>lat_norm=%{x}<br>lon_norm=%{y}<extra></extra>",
         "legendgroup": "sp7r75_82",
         "line": {
          "color": "#00cc96",
          "dash": "solid"
         },
         "marker": {
          "symbol": "circle"
         },
         "mode": "lines",
         "name": "sp7r75_82",
         "orientation": "v",
         "showlegend": true,
         "type": "scatter",
         "x": [
          0.002670445312503489,
          0.0029524453124949446,
          0.003028445312502015,
          0.0033874453124980164,
          0.002846445312499668,
          0.0020144453124970596,
          0.0014454453125054556,
          0.0013014453124995384,
          0.000580445312500899
         ],
         "xaxis": "x",
         "y": [
          0.009992562499999913,
          0.009282562500000147,
          0.009220562500000362,
          0.008282562499999813,
          0.00792056249999984,
          0.007549562499999496,
          0.008056562500000197,
          0.008064562499999539,
          0.008589562500000092
         ],
         "yaxis": "y"
        },
        {
         "hovertemplate": "geohash2=sp7r74_83<br>lat_norm=%{x}<br>lon_norm=%{y}<extra></extra>",
         "legendgroup": "sp7r74_83",
         "line": {
          "color": "#ab63fa",
          "dash": "solid"
         },
         "marker": {
          "symbol": "circle"
         },
         "mode": "lines",
         "name": "sp7r74_83",
         "orientation": "v",
         "showlegend": true,
         "type": "scatter",
         "x": [
          0.004860609374993885,
          0.004379609375000371,
          0.0040146093749982015,
          0.0034096093749980128,
          0.0027186093750017903,
          0.0031456093749966385,
          0.0031506093749982256,
          0.0031516093750028062,
          0.0029406093749955176,
          0.0029206093749962747
         ],
         "xaxis": "x",
         "y": [
          0.009286562499999818,
          0.007458562500000099,
          0.006728562500000201,
          0.005269562499999658,
          0.0034585625000005393,
          0.002336562500000028,
          0.0007665624999999565,
          0.0006605625000002391,
          0.00031856250000039665,
          0.00024856250000038216
         ],
         "yaxis": "y"
        },
        {
         "hovertemplate": "geohash2=sp7r6f_84<br>lat_norm=%{x}<br>lon_norm=%{y}<extra></extra>",
         "legendgroup": "sp7r6f_84",
         "line": {
          "color": "#FFA15A",
          "dash": "solid"
         },
         "marker": {
          "symbol": "circle"
         },
         "mode": "lines",
         "name": "sp7r6f_84",
         "orientation": "v",
         "showlegend": true,
         "type": "scatter",
         "x": [
          0.0019896093750020327
         ],
         "xaxis": "x",
         "y": [
          0.010967890625000365
         ],
         "yaxis": "y"
        },
        {
         "hovertemplate": "geohash2=sp7r74_85<br>lat_norm=%{x}<br>lon_norm=%{y}<extra></extra>",
         "legendgroup": "sp7r74_85",
         "line": {
          "color": "#19d3f3",
          "dash": "solid"
         },
         "marker": {
          "symbol": "circle"
         },
         "mode": "lines",
         "name": "sp7r74_85",
         "orientation": "v",
         "showlegend": true,
         "type": "scatter",
         "x": [
          0.0019896093750020327,
          0.0027676093749988695,
          0.0027676093749988695
         ],
         "xaxis": "x",
         "y": [
          3.356250000052796e-05,
          0.0002475624999993542,
          0.00026456249999995407
         ],
         "yaxis": "y"
        },
        {
         "hovertemplate": "geohash2=sp7r6f_86<br>lat_norm=%{x}<br>lon_norm=%{y}<extra></extra>",
         "legendgroup": "sp7r6f_86",
         "line": {
          "color": "#FF6692",
          "dash": "solid"
         },
         "marker": {
          "symbol": "circle"
         },
         "mode": "lines",
         "name": "sp7r6f_86",
         "orientation": "v",
         "showlegend": true,
         "type": "scatter",
         "x": [
          0.00325060937499444,
          0.003173609375004105,
          0.0027306093749928095,
          0.001762609374999613
         ],
         "xaxis": "x",
         "y": [
          0.009855890624999475,
          0.006625890625000075,
          0.004043890624999769,
          0.0015308906250002252
         ],
         "yaxis": "y"
        },
        {
         "hovertemplate": "geohash2=sp7r6d_87<br>lat_norm=%{x}<br>lon_norm=%{y}<extra></extra>",
         "legendgroup": "sp7r6d_87",
         "line": {
          "color": "#B6E880",
          "dash": "solid"
         },
         "marker": {
          "symbol": "circle"
         },
         "mode": "lines",
         "name": "sp7r6d_87",
         "orientation": "v",
         "showlegend": true,
         "type": "scatter",
         "x": [
          0.0015356093749971933
         ],
         "xaxis": "x",
         "y": [
          0.010821218750000305
         ],
         "yaxis": "y"
        },
        {
         "hovertemplate": "geohash2=sp7r6f_88<br>lat_norm=%{x}<br>lon_norm=%{y}<extra></extra>",
         "legendgroup": "sp7r6f_88",
         "line": {
          "color": "#FF97FF",
          "dash": "solid"
         },
         "marker": {
          "symbol": "circle"
         },
         "mode": "lines",
         "name": "sp7r6f_88",
         "orientation": "v",
         "showlegend": true,
         "type": "scatter",
         "x": [
          0.002444609374997242,
          0.0036536093750072496,
          0.004528609375000769,
          0.005424609374998113
         ],
         "xaxis": "x",
         "y": [
          0.000179890624999679,
          0.000631890624999798,
          0.0009948906249999112,
          0.001339890625000173
         ],
         "yaxis": "y"
        },
        {
         "hovertemplate": "geohash2=sp7r6g_89<br>lat_norm=%{x}<br>lon_norm=%{y}<extra></extra>",
         "legendgroup": "sp7r6g_89",
         "line": {
          "color": "#FECB52",
          "dash": "solid"
         },
         "marker": {
          "symbol": "circle"
         },
         "mode": "lines",
         "name": "sp7r6g_89",
         "orientation": "v",
         "showlegend": true,
         "type": "scatter",
         "x": [
          9.544531250327282e-05,
          0.0007724453124993147,
          0.002109445312498792
         ],
         "xaxis": "x",
         "y": [
          0.0014028906250000972,
          0.0015278906249998059,
          0.0007258906249996144
         ],
         "yaxis": "y"
        },
        {
         "hovertemplate": "geohash2=sp7r6e_90<br>lat_norm=%{x}<br>lon_norm=%{y}<extra></extra>",
         "legendgroup": "sp7r6e_90",
         "line": {
          "color": "#636efa",
          "dash": "solid"
         },
         "marker": {
          "symbol": "circle"
         },
         "mode": "lines",
         "name": "sp7r6e_90",
         "orientation": "v",
         "showlegend": true,
         "type": "scatter",
         "x": [
          0.0024464453125006003,
          0.0016134453125005166,
          0.0012924453124938395,
          0.0012924453124938395,
          0.000847445312494699
         ],
         "xaxis": "x",
         "y": [
          0.01089621875000013,
          0.010551218749999869,
          0.010401218750000218,
          0.010392218749999849,
          0.010689218749999618
         ],
         "yaxis": "y"
        },
        {
         "hovertemplate": "geohash2=sp7r6g_91<br>lat_norm=%{x}<br>lon_norm=%{y}<extra></extra>",
         "legendgroup": "sp7r6g_91",
         "line": {
          "color": "#EF553B",
          "dash": "solid"
         },
         "marker": {
          "symbol": "circle"
         },
         "mode": "lines",
         "name": "sp7r6g_91",
         "orientation": "v",
         "showlegend": true,
         "type": "scatter",
         "x": [
          0.0005434453125019445,
          0.000649445312497221,
          0.0013064453125011255,
          0.0026854453125011446,
          0.0036644453124949905,
          0.004316445312497308,
          0.005026445312502403
         ],
         "xaxis": "x",
         "y": [
          0.0006488906249995097,
          0.0016328906250002717,
          0.0013888906249999167,
          0.0005068906250000893,
          0.00020189062500008959,
          0.0011708906249996431,
          0.001435890625000269
         ],
         "yaxis": "y"
        },
        {
         "hovertemplate": "geohash2=sp7r6u_92<br>lat_norm=%{x}<br>lon_norm=%{y}<extra></extra>",
         "legendgroup": "sp7r6u_92",
         "line": {
          "color": "#00cc96",
          "dash": "solid"
         },
         "marker": {
          "symbol": "circle"
         },
         "mode": "lines",
         "name": "sp7r6u_92",
         "orientation": "v",
         "showlegend": true,
         "type": "scatter",
         "x": [
          0.00037828125000061164,
          0.0011252812500046616
         ],
         "xaxis": "x",
         "y": [
          0.0007198906250005521,
          0.00016989062500005758
         ],
         "yaxis": "y"
        },
        {
         "hovertemplate": "geohash2=sp7r6s_93<br>lat_norm=%{x}<br>lon_norm=%{y}<extra></extra>",
         "legendgroup": "sp7r6s_93",
         "line": {
          "color": "#ab63fa",
          "dash": "solid"
         },
         "marker": {
          "symbol": "circle"
         },
         "mode": "lines",
         "name": "sp7r6s_93",
         "orientation": "v",
         "showlegend": true,
         "type": "scatter",
         "x": [
          0.0016952812500008463,
          0.0010682812499993588
         ],
         "xaxis": "x",
         "y": [
          0.010403218750000498,
          0.009453218750000048
         ],
         "yaxis": "y"
        },
        {
         "hovertemplate": "geohash2=sp7r6e_94<br>lat_norm=%{x}<br>lon_norm=%{y}<extra></extra>",
         "legendgroup": "sp7r6e_94",
         "line": {
          "color": "#FFA15A",
          "dash": "solid"
         },
         "marker": {
          "symbol": "circle"
         },
         "mode": "lines",
         "name": "sp7r6e_94",
         "orientation": "v",
         "showlegend": true,
         "type": "scatter",
         "x": [
          0.005328445312500207
         ],
         "xaxis": "x",
         "y": [
          0.009756218749999768
         ],
         "yaxis": "y"
        },
        {
         "hovertemplate": "geohash2=sp7r6g_95<br>lat_norm=%{x}<br>lon_norm=%{y}<extra></extra>",
         "legendgroup": "sp7r6g_95",
         "line": {
          "color": "#19d3f3",
          "dash": "solid"
         },
         "marker": {
          "symbol": "circle"
         },
         "mode": "lines",
         "name": "sp7r6g_95",
         "orientation": "v",
         "showlegend": true,
         "type": "scatter",
         "x": [
          0.0031144453124980487,
          0.0013574453124931551
         ],
         "xaxis": "x",
         "y": [
          0.0001578906250001566,
          0.0012748906249999692
         ],
         "yaxis": "y"
        },
        {
         "hovertemplate": "geohash2=sp7r6f_96<br>lat_norm=%{x}<br>lon_norm=%{y}<extra></extra>",
         "legendgroup": "sp7r6f_96",
         "line": {
          "color": "#FF6692",
          "dash": "solid"
         },
         "marker": {
          "symbol": "circle"
         },
         "mode": "lines",
         "name": "sp7r6f_96",
         "orientation": "v",
         "showlegend": true,
         "type": "scatter",
         "x": [
          0.004038609375001556,
          0.0031606093749942943,
          0.002558609375000742,
          0.003075609374995736,
          0.0031426093749971074
         ],
         "xaxis": "x",
         "y": [
          0.002950890624999758,
          0.0032808906249996994,
          0.0036298906250005203,
          0.007959890625000021,
          0.010680890625000217
         ],
         "yaxis": "y"
        },
        {
         "hovertemplate": "geohash2=sp7r74_97<br>lat_norm=%{x}<br>lon_norm=%{y}<extra></extra>",
         "legendgroup": "sp7r74_97",
         "line": {
          "color": "#B6E880",
          "dash": "solid"
         },
         "marker": {
          "symbol": "circle"
         },
         "mode": "lines",
         "name": "sp7r74_97",
         "orientation": "v",
         "showlegend": true,
         "type": "scatter",
         "x": [
          0.0031256093749973957,
          0.002485609374993203,
          0.0024736093750021837,
          0.0032206093749991282,
          0.004068609375003973,
          0.0044756093749995784,
          0.004344609375003472
         ],
         "xaxis": "x",
         "y": [
          0.000836562499999971,
          0.0032925624999995406,
          0.0033085625000000007,
          0.004865562500000031,
          0.006879562499999992,
          0.00793356249999988,
          0.010233562499999849
         ],
         "yaxis": "y"
        },
        {
         "hovertemplate": "geohash2=sp7r76_98<br>lat_norm=%{x}<br>lon_norm=%{y}<extra></extra>",
         "legendgroup": "sp7r76_98",
         "line": {
          "color": "#FF97FF",
          "dash": "solid"
         },
         "marker": {
          "symbol": "circle"
         },
         "mode": "lines",
         "name": "sp7r76_98",
         "orientation": "v",
         "showlegend": true,
         "type": "scatter",
         "x": [
          0.0024486093750013538,
          0.00014260937499699367
         ],
         "xaxis": "x",
         "y": [
          0.0016642343750001842,
          0.004035234375000307
         ],
         "yaxis": "y"
        },
        {
         "hovertemplate": "geohash2=sp7r73_99<br>lat_norm=%{x}<br>lon_norm=%{y}<extra></extra>",
         "legendgroup": "sp7r73_99",
         "line": {
          "color": "#FECB52",
          "dash": "solid"
         },
         "marker": {
          "symbol": "circle"
         },
         "mode": "lines",
         "name": "sp7r73_99",
         "orientation": "v",
         "showlegend": true,
         "type": "scatter",
         "x": [
          0.004097773437500507,
          0.0022727734374967667,
          0.0003207734375010318
         ],
         "xaxis": "x",
         "y": [
          0.00547023437500016,
          0.007185234375000071,
          0.009750234374999778
         ],
         "yaxis": "y"
        },
        {
         "hovertemplate": "geohash2=sp7r72_100<br>lat_norm=%{x}<br>lon_norm=%{y}<extra></extra>",
         "legendgroup": "sp7r72_100",
         "line": {
          "color": "#636efa",
          "dash": "solid"
         },
         "marker": {
          "symbol": "circle"
         },
         "mode": "lines",
         "name": "sp7r72_100",
         "orientation": "v",
         "showlegend": true,
         "type": "scatter",
         "x": [
          0.0049569374999975935,
          0.004935937500000875
         ],
         "xaxis": "x",
         "y": [
          0.01027523437500033,
          0.01027523437500033
         ],
         "yaxis": "y"
        },
        {
         "hovertemplate": "geohash2=sp7r78_101<br>lat_norm=%{x}<br>lon_norm=%{y}<extra></extra>",
         "legendgroup": "sp7r78_101",
         "line": {
          "color": "#EF553B",
          "dash": "solid"
         },
         "marker": {
          "symbol": "circle"
         },
         "mode": "lines",
         "name": "sp7r78_101",
         "orientation": "v",
         "showlegend": true,
         "type": "scatter",
         "x": [
          0.004210937499998124,
          0.002970937500002435,
          0.0014249375000048303,
          0.0028299375000031546,
          0.004710937500000512
         ],
         "xaxis": "x",
         "y": [
          0.0009269062500001368,
          0.003432906250000478,
          0.005052906250000433,
          0.006372906250000199,
          0.008371906249999839
         ],
         "yaxis": "y"
        },
        {
         "hovertemplate": "geohash2=sp7r7b_102<br>lat_norm=%{x}<br>lon_norm=%{y}<extra></extra>",
         "legendgroup": "sp7r7b_102",
         "line": {
          "color": "#00cc96",
          "dash": "solid"
         },
         "marker": {
          "symbol": "circle"
         },
         "mode": "lines",
         "name": "sp7r7b_102",
         "orientation": "v",
         "showlegend": true,
         "type": "scatter",
         "x": [
          0.0046899375000037935,
          0.0038519374999950173,
          0.0032469374999948286,
          0.0033139374999962,
          0.0037429375000002096,
          0.004128937499999097,
          0.004003937499994947
         ],
         "xaxis": "x",
         "y": [
          1.5781250004565095e-06,
          0.001482578124999634,
          0.002726578125000323,
          0.002858578125000122,
          0.003729578125000188,
          0.004626578125000336,
          0.005486578125000641
         ],
         "yaxis": "y"
        },
        {
         "hovertemplate": "geohash2=sp7r7c_103<br>lat_norm=%{x}<br>lon_norm=%{y}<extra></extra>",
         "legendgroup": "sp7r7c_103",
         "line": {
          "color": "#ab63fa",
          "dash": "solid"
         },
         "marker": {
          "symbol": "circle"
         },
         "mode": "lines",
         "name": "sp7r7c_103",
         "orientation": "v",
         "showlegend": true,
         "type": "scatter",
         "x": [
          0.0010957734374983374,
          0.004160773437497767,
          0.004291773437500979,
          0.004291773437500979
         ],
         "xaxis": "x",
         "y": [
          0.0057225781249998775,
          0.005748578124999959,
          0.005801578125000262,
          0.005828578124999595
         ],
         "yaxis": "y"
        },
        {
         "hovertemplate": "geohash2=sp7r7f_104<br>lat_norm=%{x}<br>lon_norm=%{y}<extra></extra>",
         "legendgroup": "sp7r7f_104",
         "line": {
          "color": "#FFA15A",
          "dash": "solid"
         },
         "marker": {
          "symbol": "circle"
         },
         "mode": "lines",
         "name": "sp7r7f_104",
         "orientation": "v",
         "showlegend": true,
         "type": "scatter",
         "x": [
          0.000660609374996568,
          0.00267960937500078,
          0.004119609375003108,
          0.004949609374996555,
          0.005399609374997283
         ],
         "xaxis": "x",
         "y": [
          0.005807578125000212,
          0.005892578124999659,
          0.006976578125000188,
          0.008208578125000088,
          0.009008578125
         ],
         "yaxis": "y"
        },
        {
         "hovertemplate": "geohash2=sp7rk4_105<br>lat_norm=%{x}<br>lon_norm=%{y}<extra></extra>",
         "legendgroup": "sp7rk4_105",
         "line": {
          "color": "#19d3f3",
          "dash": "solid"
         },
         "marker": {
          "symbol": "circle"
         },
         "mode": "lines",
         "name": "sp7rk4_105",
         "orientation": "v",
         "showlegend": true,
         "type": "scatter",
         "x": [
          0.0041486093750009445,
          0.004912609374997601
         ],
         "xaxis": "x",
         "y": [
          2.2499999996483666e-06,
          0.0007592499999997671
         ],
         "yaxis": "y"
        },
        {
         "hovertemplate": "geohash2=sp7rk5_106<br>lat_norm=%{x}<br>lon_norm=%{y}<extra></extra>",
         "legendgroup": "sp7rk5_106",
         "line": {
          "color": "#FF6692",
          "dash": "solid"
         },
         "marker": {
          "symbol": "circle"
         },
         "mode": "lines",
         "name": "sp7rk5_106",
         "orientation": "v",
         "showlegend": true,
         "type": "scatter",
         "x": [
          0.00032844531250475484,
          0.0018914453125020714,
          0.002136445312501678,
          0.0021914453124978195,
          0.0022244453124997676,
          0.0013304453125044802,
          0.0013874453124955721,
          0.0013994453125008022,
          0.0018434453125024675,
          0.0010774453124966499,
          0.0005464453125014757,
          0.0008184453125039681,
          0.0007844453124974393
         ],
         "xaxis": "x",
         "y": [
          0.001271250000000279,
          0.0020932499999997134,
          0.0022612500000001035,
          0.0023402500000004878,
          0.0026212499999997974,
          0.004146249999999796,
          0.0037242500000003176,
          0.0037592499999998807,
          0.003963249999999974,
          0.00406625000000016,
          0.003142249999999791,
          0.001519250000000305,
          0.0015102499999999353
         ],
         "yaxis": "y"
        },
        {
         "hovertemplate": "geohash2=sp7r7g_107<br>lat_norm=%{x}<br>lon_norm=%{y}<extra></extra>",
         "legendgroup": "sp7r7g_107",
         "line": {
          "color": "#B6E880",
          "dash": "solid"
         },
         "marker": {
          "symbol": "circle"
         },
         "mode": "lines",
         "name": "sp7r7g_107",
         "orientation": "v",
         "showlegend": true,
         "type": "scatter",
         "x": [
          0.0017134453125038362,
          0.003759445312496723,
          0.004450445312507156
         ],
         "xaxis": "x",
         "y": [
          0.010586578125000301,
          0.008662578124999598,
          0.008093578125
         ],
         "yaxis": "y"
        },
        {
         "hovertemplate": "geohash2=sp7r7u_108<br>lat_norm=%{x}<br>lon_norm=%{y}<extra></extra>",
         "legendgroup": "sp7r7u_108",
         "line": {
          "color": "#FF97FF",
          "dash": "solid"
         },
         "marker": {
          "symbol": "circle"
         },
         "mode": "lines",
         "name": "sp7r7u_108",
         "orientation": "v",
         "showlegend": true,
         "type": "scatter",
         "x": [
          0.0010542812499991783,
          0.00313628125000065
         ],
         "xaxis": "x",
         "y": [
          0.0074935781249996225,
          0.004910578125000065
         ],
         "yaxis": "y"
        },
        {
         "hovertemplate": "geohash2=sp7r7v_109<br>lat_norm=%{x}<br>lon_norm=%{y}<extra></extra>",
         "legendgroup": "sp7r7v_109",
         "line": {
          "color": "#FECB52",
          "dash": "solid"
         },
         "marker": {
          "symbol": "circle"
         },
         "mode": "lines",
         "name": "sp7r7v_109",
         "orientation": "v",
         "showlegend": true,
         "type": "scatter",
         "x": [
          0.00021511718750133468,
          0.0032491171875008718
         ],
         "xaxis": "x",
         "y": [
          0.0028475781250003607,
          0.0017425781249995609
         ],
         "yaxis": "y"
        },
        {
         "hovertemplate": "geohash2=sp7r7y_110<br>lat_norm=%{x}<br>lon_norm=%{y}<extra></extra>",
         "legendgroup": "sp7r7y_110",
         "line": {
          "color": "#636efa",
          "dash": "solid"
         },
         "marker": {
          "symbol": "circle"
         },
         "mode": "lines",
         "name": "sp7r7y_110",
         "orientation": "v",
         "showlegend": true,
         "type": "scatter",
         "x": [
          0.0004749531249998995,
          0.0007819531249992906,
          0.0013989531250047094,
          0.0020769531249982265,
          0.003499953125000843
         ],
         "xaxis": "x",
         "y": [
          0.0013395781250000738,
          0.0018325781249997064,
          0.0033795781250001156,
          0.0033115781250003806,
          0.0030785781249997868
         ],
         "yaxis": "y"
        },
        {
         "hovertemplate": "geohash2=sp7r7z_111<br>lat_norm=%{x}<br>lon_norm=%{y}<extra></extra>",
         "legendgroup": "sp7r7z_111",
         "line": {
          "color": "#EF553B",
          "dash": "solid"
         },
         "marker": {
          "symbol": "circle"
         },
         "mode": "lines",
         "name": "sp7r7z_111",
         "orientation": "v",
         "showlegend": true,
         "type": "scatter",
         "x": [
          0.0005057890625010941,
          0.0019527890625070654,
          0.003432789062500774
         ],
         "xaxis": "x",
         "y": [
          0.0022695781250003932,
          0.0013615781250004844,
          0.0004105781249998941
         ],
         "yaxis": "y"
        },
        {
         "hovertemplate": "geohash2=sp7r7x_112<br>lat_norm=%{x}<br>lon_norm=%{y}<extra></extra>",
         "legendgroup": "sp7r7x_112",
         "line": {
          "color": "#00cc96",
          "dash": "solid"
         },
         "marker": {
          "symbol": "circle"
         },
         "mode": "lines",
         "name": "sp7r7x_112",
         "orientation": "v",
         "showlegend": true,
         "type": "scatter",
         "x": [
          0.004900789062503463
         ],
         "xaxis": "x",
         "y": [
          0.010189906249999936
         ],
         "yaxis": "y"
        },
        {
         "hovertemplate": "geohash2=sp7re8_113<br>lat_norm=%{x}<br>lon_norm=%{y}<extra></extra>",
         "legendgroup": "sp7re8_113",
         "line": {
          "color": "#ab63fa",
          "dash": "solid"
         },
         "marker": {
          "symbol": "circle"
         },
         "mode": "lines",
         "name": "sp7re8_113",
         "orientation": "v",
         "showlegend": true,
         "type": "scatter",
         "x": [
          0.0018916249999989532,
          0.0032836250000016776,
          0.005400625000000048
         ],
         "xaxis": "x",
         "y": [
          0.007740906250000457,
          0.006814906249999808,
          0.007874906249999647
         ],
         "yaxis": "y"
        },
        {
         "hovertemplate": "geohash2=sp7re9_114<br>lat_norm=%{x}<br>lon_norm=%{y}<extra></extra>",
         "legendgroup": "sp7re9_114",
         "line": {
          "color": "#FFA15A",
          "dash": "solid"
         },
         "marker": {
          "symbol": "circle"
         },
         "mode": "lines",
         "name": "sp7re9_114",
         "orientation": "v",
         "showlegend": true,
         "type": "scatter",
         "x": [
          0.0007864609375047849,
          0.0008754609375003497,
          0.00017946093750254022
         ],
         "xaxis": "x",
         "y": [
          0.006781906249999636,
          0.006729906249999473,
          0.006104906250000042
         ],
         "yaxis": "y"
        },
        {
         "hovertemplate": "geohash2=sp7re8_115<br>lat_norm=%{x}<br>lon_norm=%{y}<extra></extra>",
         "legendgroup": "sp7re8_115",
         "line": {
          "color": "#19d3f3",
          "dash": "solid"
         },
         "marker": {
          "symbol": "circle"
         },
         "mode": "lines",
         "name": "sp7re8_115",
         "orientation": "v",
         "showlegend": true,
         "type": "scatter",
         "x": [
          0.0045536249999997835,
          0.0034146250000048894,
          0.003104625000005967,
          0.002981624999996768,
          0.00296062500000005,
          0.0025066249999952106,
          0.0013676250000003165,
          0.0013696250000023724,
          0.002004625000004978,
          0.002549625000000333,
          0.003051624999997671
         ],
         "xaxis": "x",
         "y": [
          0.005267906250000287,
          0.004114906249999883,
          0.004489906249999898,
          0.004576906249999624,
          0.004576906249999624,
          0.004942906250000156,
          0.003832906250000434,
          0.0029559062500004174,
          0.00191390625000043,
          0.0008709062500003029,
          1.2906250000277453e-05
         ],
         "yaxis": "y"
        },
        {
         "hovertemplate": "geohash2=sp7re2_116<br>lat_norm=%{x}<br>lon_norm=%{y}<extra></extra>",
         "legendgroup": "sp7re2_116",
         "line": {
          "color": "#FF6692",
          "dash": "solid"
         },
         "marker": {
          "symbol": "circle"
         },
         "mode": "lines",
         "name": "sp7re2_116",
         "orientation": "v",
         "showlegend": true,
         "type": "scatter",
         "x": [
          0.0030866249999945694,
          0.003188624999999945,
          0.003713624999996057,
          0.0045376250000046525,
          0.005184625000005383,
          0.00540662499999911
         ],
         "xaxis": "x",
         "y": [
          0.010867234375000479,
          0.010613234374999614,
          0.009299234374999799,
          0.008346234374999817,
          0.007277234375000496,
          0.006839234375000558
         ],
         "yaxis": "y"
        },
        {
         "hovertemplate": "geohash2=sp7re3_117<br>lat_norm=%{x}<br>lon_norm=%{y}<extra></extra>",
         "legendgroup": "sp7re3_117",
         "line": {
          "color": "#B6E880",
          "dash": "solid"
         },
         "marker": {
          "symbol": "circle"
         },
         "mode": "lines",
         "name": "sp7re3_117",
         "orientation": "v",
         "showlegend": true,
         "type": "scatter",
         "x": [
          7.04609375006271e-05,
          0.00041546093749644797,
          0.0010074609375010368,
          0.0019364609375003283,
          0.00296746093749789,
          0.0038634609374952333,
          0.00489346093749532,
          0.004925460937499793,
          0.003628460937498801,
          0.0033104609374987604,
          0.003978460937496209,
          0.003715460937499415,
          0.003705460937496241,
          0.00292946093750146,
          0.0022204609375009454,
          0.0010254609374982238
         ],
         "xaxis": "x",
         "y": [
          0.0066482343749996176,
          0.006167234374999886,
          0.00515123437499998,
          0.005576234374999878,
          0.006124234375000093,
          0.0066092343750003835,
          0.007218234375000243,
          0.007832234374999913,
          0.007073234374999515,
          0.00623023437499981,
          0.005109234375000327,
          0.004126234374999704,
          0.0031792343750005614,
          0.0023432343750000584,
          0.0018482343750001462,
          0.0011082343749997392
         ],
         "yaxis": "y"
        },
        {
         "hovertemplate": "geohash2=sp7re2_118<br>lat_norm=%{x}<br>lon_norm=%{y}<extra></extra>",
         "legendgroup": "sp7re2_118",
         "line": {
          "color": "#FF97FF",
          "dash": "solid"
         },
         "marker": {
          "symbol": "circle"
         },
         "mode": "lines",
         "name": "sp7re2_118",
         "orientation": "v",
         "showlegend": true,
         "type": "scatter",
         "x": [
          0.004845625000001519
         ],
         "xaxis": "x",
         "y": [
          0.00011123437499982458
         ],
         "yaxis": "y"
        },
        {
         "hovertemplate": "geohash2=sp7re0_119<br>lat_norm=%{x}<br>lon_norm=%{y}<extra></extra>",
         "legendgroup": "sp7re0_119",
         "line": {
          "color": "#FECB52",
          "dash": "solid"
         },
         "marker": {
          "symbol": "circle"
         },
         "mode": "lines",
         "name": "sp7re0_119",
         "orientation": "v",
         "showlegend": true,
         "type": "scatter",
         "x": [
          0.003117625000001567,
          0.0013706249999998477,
          0.0003846250000023588
         ],
         "xaxis": "x",
         "y": [
          0.01010056249999991,
          0.008690562499999999,
          0.00869556249999981
         ],
         "yaxis": "y"
        },
        {
         "hovertemplate": "geohash2=sp7r7p_120<br>lat_norm=%{x}<br>lon_norm=%{y}<extra></extra>",
         "legendgroup": "sp7r7p_120",
         "line": {
          "color": "#636efa",
          "dash": "solid"
         },
         "marker": {
          "symbol": "circle"
         },
         "mode": "lines",
         "name": "sp7r7p_120",
         "orientation": "v",
         "showlegend": true,
         "type": "scatter",
         "x": [
          0.0052537890625004025,
          0.005164789062497732,
          0.004553789062498481,
          0.003950789062500348
         ],
         "xaxis": "x",
         "y": [
          0.009140562499999838,
          0.00916656249999992,
          0.00963856250000017,
          0.01026656250000002
         ],
         "yaxis": "y"
        },
        {
         "hovertemplate": "geohash2=sp7r7r_121<br>lat_norm=%{x}<br>lon_norm=%{y}<extra></extra>",
         "legendgroup": "sp7r7r_121",
         "line": {
          "color": "#EF553B",
          "dash": "solid"
         },
         "marker": {
          "symbol": "circle"
         },
         "mode": "lines",
         "name": "sp7r7r_121",
         "orientation": "v",
         "showlegend": true,
         "type": "scatter",
         "x": [
          0.0023367890624967913,
          0.0005577890625048099
         ],
         "xaxis": "x",
         "y": [
          0.0008012343749994599,
          0.002524234375000489
         ],
         "yaxis": "y"
        },
        {
         "hovertemplate": "geohash2=sp7r7q_122<br>lat_norm=%{x}<br>lon_norm=%{y}<extra></extra>",
         "legendgroup": "sp7r7q_122",
         "line": {
          "color": "#00cc96",
          "dash": "solid"
         },
         "marker": {
          "symbol": "circle"
         },
         "mode": "lines",
         "name": "sp7r7q_122",
         "orientation": "v",
         "showlegend": true,
         "type": "scatter",
         "x": [
          0.004122953124998219,
          0.002606953125003031,
          0.0013839531249999482
         ],
         "xaxis": "x",
         "y": [
          0.004263234375000202,
          0.005679234375000064,
          0.0069912343749996
         ],
         "yaxis": "y"
        },
        {
         "hovertemplate": "geohash2=sp7r7m_123<br>lat_norm=%{x}<br>lon_norm=%{y}<extra></extra>",
         "legendgroup": "sp7r7m_123",
         "line": {
          "color": "#ab63fa",
          "dash": "solid"
         },
         "marker": {
          "symbol": "circle"
         },
         "mode": "lines",
         "name": "sp7r7m_123",
         "orientation": "v",
         "showlegend": true,
         "type": "scatter",
         "x": [
          0.005013117187495197,
          0.0035911171874971615,
          0.0032881171874947768,
          0.0031291171875054147,
          0.002859117187504978,
          0.0028351171875016234
         ],
         "xaxis": "x",
         "y": [
          0.007458234375000039,
          0.007366234374999614,
          0.008077234375000408,
          0.008682234374999709,
          0.009831234374999553,
          0.0105432343749996
         ],
         "yaxis": "y"
        },
        {
         "hovertemplate": "geohash2=sp7r7t_124<br>lat_norm=%{x}<br>lon_norm=%{y}<extra></extra>",
         "legendgroup": "sp7r7t_124",
         "line": {
          "color": "#FFA15A",
          "dash": "solid"
         },
         "marker": {
          "symbol": "circle"
         },
         "mode": "lines",
         "name": "sp7r7t_124",
         "orientation": "v",
         "showlegend": true,
         "type": "scatter",
         "x": [
          0.002353117187496423,
          0.0021611171874980073,
          0.0011811171874995807,
          0.00010511718750194632
         ],
         "xaxis": "x",
         "y": [
          0.0007489062500001253,
          0.0012569062500000783,
          0.001805906250000433,
          0.0020999062499997834
         ],
         "yaxis": "y"
        },
        {
         "hovertemplate": "geohash2=sp7r7s_125<br>lat_norm=%{x}<br>lon_norm=%{y}<extra></extra>",
         "legendgroup": "sp7r7s_125",
         "line": {
          "color": "#19d3f3",
          "dash": "solid"
         },
         "marker": {
          "symbol": "circle"
         },
         "mode": "lines",
         "name": "sp7r7s_125",
         "orientation": "v",
         "showlegend": true,
         "type": "scatter",
         "x": [
          0.0046332812500011755,
          0.004154281249995506,
          0.004286281249996193,
          0.00399828124999857,
          0.0034872812500026384,
          0.003134281249998594,
          0.0022712812499960933,
          0.0018822812500047803,
          0.001772281250005392,
          0.001594281249992946,
          0.0012482812499996498,
          0.0011152812500014875,
          0.0004142812499949855
         ],
         "xaxis": "x",
         "y": [
          0.0021669062500002667,
          0.002297906249999926,
          0.0022119062499994513,
          0.0022109062500001997,
          0.0018919062500000194,
          0.0009439062499998485,
          0.0010029062500001018,
          0.0008519062500003116,
          0.0008249062500000903,
          0.000929906249999668,
          0.0016759062500000255,
          0.002324906250000147,
          0.003077906250000595
         ],
         "yaxis": "y"
        },
        {
         "hovertemplate": "geohash2=sp7r7e_126<br>lat_norm=%{x}<br>lon_norm=%{y}<extra></extra>",
         "legendgroup": "sp7r7e_126",
         "line": {
          "color": "#FF6692",
          "dash": "solid"
         },
         "marker": {
          "symbol": "circle"
         },
         "mode": "lines",
         "name": "sp7r7e_126",
         "orientation": "v",
         "showlegend": true,
         "type": "scatter",
         "x": [
          0.005176445312500277
         ],
         "xaxis": "x",
         "y": [
          0.002801906250000208
         ],
         "yaxis": "y"
        }
       ],
       "layout": {
        "legend": {
         "title": {
          "text": "geohash2"
         },
         "tracegroupgap": 0
        },
        "margin": {
         "t": 60
        },
        "template": {
         "data": {
          "bar": [
           {
            "error_x": {
             "color": "#2a3f5f"
            },
            "error_y": {
             "color": "#2a3f5f"
            },
            "marker": {
             "line": {
              "color": "#E5ECF6",
              "width": 0.5
             },
             "pattern": {
              "fillmode": "overlay",
              "size": 10,
              "solidity": 0.2
             }
            },
            "type": "bar"
           }
          ],
          "barpolar": [
           {
            "marker": {
             "line": {
              "color": "#E5ECF6",
              "width": 0.5
             },
             "pattern": {
              "fillmode": "overlay",
              "size": 10,
              "solidity": 0.2
             }
            },
            "type": "barpolar"
           }
          ],
          "carpet": [
           {
            "aaxis": {
             "endlinecolor": "#2a3f5f",
             "gridcolor": "white",
             "linecolor": "white",
             "minorgridcolor": "white",
             "startlinecolor": "#2a3f5f"
            },
            "baxis": {
             "endlinecolor": "#2a3f5f",
             "gridcolor": "white",
             "linecolor": "white",
             "minorgridcolor": "white",
             "startlinecolor": "#2a3f5f"
            },
            "type": "carpet"
           }
          ],
          "choropleth": [
           {
            "colorbar": {
             "outlinewidth": 0,
             "ticks": ""
            },
            "type": "choropleth"
           }
          ],
          "contour": [
           {
            "colorbar": {
             "outlinewidth": 0,
             "ticks": ""
            },
            "colorscale": [
             [
              0,
              "#0d0887"
             ],
             [
              0.1111111111111111,
              "#46039f"
             ],
             [
              0.2222222222222222,
              "#7201a8"
             ],
             [
              0.3333333333333333,
              "#9c179e"
             ],
             [
              0.4444444444444444,
              "#bd3786"
             ],
             [
              0.5555555555555556,
              "#d8576b"
             ],
             [
              0.6666666666666666,
              "#ed7953"
             ],
             [
              0.7777777777777778,
              "#fb9f3a"
             ],
             [
              0.8888888888888888,
              "#fdca26"
             ],
             [
              1,
              "#f0f921"
             ]
            ],
            "type": "contour"
           }
          ],
          "contourcarpet": [
           {
            "colorbar": {
             "outlinewidth": 0,
             "ticks": ""
            },
            "type": "contourcarpet"
           }
          ],
          "heatmap": [
           {
            "colorbar": {
             "outlinewidth": 0,
             "ticks": ""
            },
            "colorscale": [
             [
              0,
              "#0d0887"
             ],
             [
              0.1111111111111111,
              "#46039f"
             ],
             [
              0.2222222222222222,
              "#7201a8"
             ],
             [
              0.3333333333333333,
              "#9c179e"
             ],
             [
              0.4444444444444444,
              "#bd3786"
             ],
             [
              0.5555555555555556,
              "#d8576b"
             ],
             [
              0.6666666666666666,
              "#ed7953"
             ],
             [
              0.7777777777777778,
              "#fb9f3a"
             ],
             [
              0.8888888888888888,
              "#fdca26"
             ],
             [
              1,
              "#f0f921"
             ]
            ],
            "type": "heatmap"
           }
          ],
          "heatmapgl": [
           {
            "colorbar": {
             "outlinewidth": 0,
             "ticks": ""
            },
            "colorscale": [
             [
              0,
              "#0d0887"
             ],
             [
              0.1111111111111111,
              "#46039f"
             ],
             [
              0.2222222222222222,
              "#7201a8"
             ],
             [
              0.3333333333333333,
              "#9c179e"
             ],
             [
              0.4444444444444444,
              "#bd3786"
             ],
             [
              0.5555555555555556,
              "#d8576b"
             ],
             [
              0.6666666666666666,
              "#ed7953"
             ],
             [
              0.7777777777777778,
              "#fb9f3a"
             ],
             [
              0.8888888888888888,
              "#fdca26"
             ],
             [
              1,
              "#f0f921"
             ]
            ],
            "type": "heatmapgl"
           }
          ],
          "histogram": [
           {
            "marker": {
             "pattern": {
              "fillmode": "overlay",
              "size": 10,
              "solidity": 0.2
             }
            },
            "type": "histogram"
           }
          ],
          "histogram2d": [
           {
            "colorbar": {
             "outlinewidth": 0,
             "ticks": ""
            },
            "colorscale": [
             [
              0,
              "#0d0887"
             ],
             [
              0.1111111111111111,
              "#46039f"
             ],
             [
              0.2222222222222222,
              "#7201a8"
             ],
             [
              0.3333333333333333,
              "#9c179e"
             ],
             [
              0.4444444444444444,
              "#bd3786"
             ],
             [
              0.5555555555555556,
              "#d8576b"
             ],
             [
              0.6666666666666666,
              "#ed7953"
             ],
             [
              0.7777777777777778,
              "#fb9f3a"
             ],
             [
              0.8888888888888888,
              "#fdca26"
             ],
             [
              1,
              "#f0f921"
             ]
            ],
            "type": "histogram2d"
           }
          ],
          "histogram2dcontour": [
           {
            "colorbar": {
             "outlinewidth": 0,
             "ticks": ""
            },
            "colorscale": [
             [
              0,
              "#0d0887"
             ],
             [
              0.1111111111111111,
              "#46039f"
             ],
             [
              0.2222222222222222,
              "#7201a8"
             ],
             [
              0.3333333333333333,
              "#9c179e"
             ],
             [
              0.4444444444444444,
              "#bd3786"
             ],
             [
              0.5555555555555556,
              "#d8576b"
             ],
             [
              0.6666666666666666,
              "#ed7953"
             ],
             [
              0.7777777777777778,
              "#fb9f3a"
             ],
             [
              0.8888888888888888,
              "#fdca26"
             ],
             [
              1,
              "#f0f921"
             ]
            ],
            "type": "histogram2dcontour"
           }
          ],
          "mesh3d": [
           {
            "colorbar": {
             "outlinewidth": 0,
             "ticks": ""
            },
            "type": "mesh3d"
           }
          ],
          "parcoords": [
           {
            "line": {
             "colorbar": {
              "outlinewidth": 0,
              "ticks": ""
             }
            },
            "type": "parcoords"
           }
          ],
          "pie": [
           {
            "automargin": true,
            "type": "pie"
           }
          ],
          "scatter": [
           {
            "fillpattern": {
             "fillmode": "overlay",
             "size": 10,
             "solidity": 0.2
            },
            "type": "scatter"
           }
          ],
          "scatter3d": [
           {
            "line": {
             "colorbar": {
              "outlinewidth": 0,
              "ticks": ""
             }
            },
            "marker": {
             "colorbar": {
              "outlinewidth": 0,
              "ticks": ""
             }
            },
            "type": "scatter3d"
           }
          ],
          "scattercarpet": [
           {
            "marker": {
             "colorbar": {
              "outlinewidth": 0,
              "ticks": ""
             }
            },
            "type": "scattercarpet"
           }
          ],
          "scattergeo": [
           {
            "marker": {
             "colorbar": {
              "outlinewidth": 0,
              "ticks": ""
             }
            },
            "type": "scattergeo"
           }
          ],
          "scattergl": [
           {
            "marker": {
             "colorbar": {
              "outlinewidth": 0,
              "ticks": ""
             }
            },
            "type": "scattergl"
           }
          ],
          "scattermapbox": [
           {
            "marker": {
             "colorbar": {
              "outlinewidth": 0,
              "ticks": ""
             }
            },
            "type": "scattermapbox"
           }
          ],
          "scatterpolar": [
           {
            "marker": {
             "colorbar": {
              "outlinewidth": 0,
              "ticks": ""
             }
            },
            "type": "scatterpolar"
           }
          ],
          "scatterpolargl": [
           {
            "marker": {
             "colorbar": {
              "outlinewidth": 0,
              "ticks": ""
             }
            },
            "type": "scatterpolargl"
           }
          ],
          "scatterternary": [
           {
            "marker": {
             "colorbar": {
              "outlinewidth": 0,
              "ticks": ""
             }
            },
            "type": "scatterternary"
           }
          ],
          "surface": [
           {
            "colorbar": {
             "outlinewidth": 0,
             "ticks": ""
            },
            "colorscale": [
             [
              0,
              "#0d0887"
             ],
             [
              0.1111111111111111,
              "#46039f"
             ],
             [
              0.2222222222222222,
              "#7201a8"
             ],
             [
              0.3333333333333333,
              "#9c179e"
             ],
             [
              0.4444444444444444,
              "#bd3786"
             ],
             [
              0.5555555555555556,
              "#d8576b"
             ],
             [
              0.6666666666666666,
              "#ed7953"
             ],
             [
              0.7777777777777778,
              "#fb9f3a"
             ],
             [
              0.8888888888888888,
              "#fdca26"
             ],
             [
              1,
              "#f0f921"
             ]
            ],
            "type": "surface"
           }
          ],
          "table": [
           {
            "cells": {
             "fill": {
              "color": "#EBF0F8"
             },
             "line": {
              "color": "white"
             }
            },
            "header": {
             "fill": {
              "color": "#C8D4E3"
             },
             "line": {
              "color": "white"
             }
            },
            "type": "table"
           }
          ]
         },
         "layout": {
          "annotationdefaults": {
           "arrowcolor": "#2a3f5f",
           "arrowhead": 0,
           "arrowwidth": 1
          },
          "autotypenumbers": "strict",
          "coloraxis": {
           "colorbar": {
            "outlinewidth": 0,
            "ticks": ""
           }
          },
          "colorscale": {
           "diverging": [
            [
             0,
             "#8e0152"
            ],
            [
             0.1,
             "#c51b7d"
            ],
            [
             0.2,
             "#de77ae"
            ],
            [
             0.3,
             "#f1b6da"
            ],
            [
             0.4,
             "#fde0ef"
            ],
            [
             0.5,
             "#f7f7f7"
            ],
            [
             0.6,
             "#e6f5d0"
            ],
            [
             0.7,
             "#b8e186"
            ],
            [
             0.8,
             "#7fbc41"
            ],
            [
             0.9,
             "#4d9221"
            ],
            [
             1,
             "#276419"
            ]
           ],
           "sequential": [
            [
             0,
             "#0d0887"
            ],
            [
             0.1111111111111111,
             "#46039f"
            ],
            [
             0.2222222222222222,
             "#7201a8"
            ],
            [
             0.3333333333333333,
             "#9c179e"
            ],
            [
             0.4444444444444444,
             "#bd3786"
            ],
            [
             0.5555555555555556,
             "#d8576b"
            ],
            [
             0.6666666666666666,
             "#ed7953"
            ],
            [
             0.7777777777777778,
             "#fb9f3a"
            ],
            [
             0.8888888888888888,
             "#fdca26"
            ],
            [
             1,
             "#f0f921"
            ]
           ],
           "sequentialminus": [
            [
             0,
             "#0d0887"
            ],
            [
             0.1111111111111111,
             "#46039f"
            ],
            [
             0.2222222222222222,
             "#7201a8"
            ],
            [
             0.3333333333333333,
             "#9c179e"
            ],
            [
             0.4444444444444444,
             "#bd3786"
            ],
            [
             0.5555555555555556,
             "#d8576b"
            ],
            [
             0.6666666666666666,
             "#ed7953"
            ],
            [
             0.7777777777777778,
             "#fb9f3a"
            ],
            [
             0.8888888888888888,
             "#fdca26"
            ],
            [
             1,
             "#f0f921"
            ]
           ]
          },
          "colorway": [
           "#636efa",
           "#EF553B",
           "#00cc96",
           "#ab63fa",
           "#FFA15A",
           "#19d3f3",
           "#FF6692",
           "#B6E880",
           "#FF97FF",
           "#FECB52"
          ],
          "font": {
           "color": "#2a3f5f"
          },
          "geo": {
           "bgcolor": "white",
           "lakecolor": "white",
           "landcolor": "#E5ECF6",
           "showlakes": true,
           "showland": true,
           "subunitcolor": "white"
          },
          "hoverlabel": {
           "align": "left"
          },
          "hovermode": "closest",
          "mapbox": {
           "style": "light"
          },
          "paper_bgcolor": "white",
          "plot_bgcolor": "#E5ECF6",
          "polar": {
           "angularaxis": {
            "gridcolor": "white",
            "linecolor": "white",
            "ticks": ""
           },
           "bgcolor": "#E5ECF6",
           "radialaxis": {
            "gridcolor": "white",
            "linecolor": "white",
            "ticks": ""
           }
          },
          "scene": {
           "xaxis": {
            "backgroundcolor": "#E5ECF6",
            "gridcolor": "white",
            "gridwidth": 2,
            "linecolor": "white",
            "showbackground": true,
            "ticks": "",
            "zerolinecolor": "white"
           },
           "yaxis": {
            "backgroundcolor": "#E5ECF6",
            "gridcolor": "white",
            "gridwidth": 2,
            "linecolor": "white",
            "showbackground": true,
            "ticks": "",
            "zerolinecolor": "white"
           },
           "zaxis": {
            "backgroundcolor": "#E5ECF6",
            "gridcolor": "white",
            "gridwidth": 2,
            "linecolor": "white",
            "showbackground": true,
            "ticks": "",
            "zerolinecolor": "white"
           }
          },
          "shapedefaults": {
           "line": {
            "color": "#2a3f5f"
           }
          },
          "ternary": {
           "aaxis": {
            "gridcolor": "white",
            "linecolor": "white",
            "ticks": ""
           },
           "baxis": {
            "gridcolor": "white",
            "linecolor": "white",
            "ticks": ""
           },
           "bgcolor": "#E5ECF6",
           "caxis": {
            "gridcolor": "white",
            "linecolor": "white",
            "ticks": ""
           }
          },
          "title": {
           "x": 0.05
          },
          "xaxis": {
           "automargin": true,
           "gridcolor": "white",
           "linecolor": "white",
           "ticks": "",
           "title": {
            "standoff": 15
           },
           "zerolinecolor": "white",
           "zerolinewidth": 2
          },
          "yaxis": {
           "automargin": true,
           "gridcolor": "white",
           "linecolor": "white",
           "ticks": "",
           "title": {
            "standoff": 15
           },
           "zerolinecolor": "white",
           "zerolinewidth": 2
          }
         }
        },
        "xaxis": {
         "anchor": "y",
         "domain": [
          0,
          1
         ],
         "title": {
          "text": "lat_norm"
         }
        },
        "yaxis": {
         "anchor": "x",
         "domain": [
          0,
          1
         ],
         "title": {
          "text": "lon_norm"
         }
        }
       }
      },
      "text/html": [
       "<div>                            <div id=\"456d9720-b549-4de0-b0ae-9929e900eacd\" class=\"plotly-graph-div\" style=\"height:525px; width:100%;\"></div>            <script type=\"text/javascript\">                require([\"plotly\"], function(Plotly) {                    window.PLOTLYENV=window.PLOTLYENV || {};                                    if (document.getElementById(\"456d9720-b549-4de0-b0ae-9929e900eacd\")) {                    Plotly.newPlot(                        \"456d9720-b549-4de0-b0ae-9929e900eacd\",                        [{\"hovertemplate\":\"geohash2=spe2nd_30<br>lat_norm=%{x}<br>lon_norm=%{y}<extra></extra>\",\"legendgroup\":\"spe2nd_30\",\"line\":{\"color\":\"#636efa\",\"dash\":\"solid\"},\"marker\":{\"symbol\":\"circle\"},\"mode\":\"lines\",\"name\":\"spe2nd_30\",\"orientation\":\"v\",\"showlegend\":true,\"x\":[0.004819671874997766,0.00485367187499719,0.004764671874994519,0.003930671875004066,0.003477671875003807,0.003548671875002185,0.0035146718749956563,0.00318167187499796,0.0001656718750027153],\"xaxis\":\"x\",\"y\":[0.004550968750000273,0.004375968749999792,0.004726968750000005,0.004917968750000057,0.00449596874999969,0.0029359687500001286,0.0028039687499994415,0.0020679687499995936,0.0008789687499994869],\"yaxis\":\"y\",\"type\":\"scatter\"},{\"hovertemplate\":\"geohash2=spe2n3_31<br>lat_norm=%{x}<br>lon_norm=%{y}<extra></extra>\",\"legendgroup\":\"spe2n3_31\",\"line\":{\"color\":\"#EF553B\",\"dash\":\"solid\"},\"marker\":{\"symbol\":\"circle\"},\"mode\":\"lines\",\"name\":\"spe2n3_31\",\"orientation\":\"v\",\"showlegend\":true,\"x\":[0.0017678359374997399],\"xaxis\":\"x\",\"y\":[0.010412296874999782],\"yaxis\":\"y\",\"type\":\"scatter\"},{\"hovertemplate\":\"geohash2=spe2n2_32<br>lat_norm=%{x}<br>lon_norm=%{y}<extra></extra>\",\"legendgroup\":\"spe2n2_32\",\"line\":{\"color\":\"#00cc96\",\"dash\":\"solid\"},\"marker\":{\"symbol\":\"circle\"},\"mode\":\"lines\",\"name\":\"spe2n2_32\",\"orientation\":\"v\",\"showlegend\":true,\"x\":[0.003117000000003145],\"xaxis\":\"x\",\"y\":[0.008021296875000417],\"yaxis\":\"y\",\"type\":\"scatter\"},{\"hovertemplate\":\"geohash2=sp7ryr_33<br>lat_norm=%{x}<br>lon_norm=%{y}<extra></extra>\",\"legendgroup\":\"sp7ryr_33\",\"line\":{\"color\":\"#ab63fa\",\"dash\":\"solid\"},\"marker\":{\"symbol\":\"circle\"},\"mode\":\"lines\",\"name\":\"sp7ryr_33\",\"orientation\":\"v\",\"showlegend\":true,\"x\":[0.005199164062496209,0.002952164062506313,0.00011616406249714828],\"xaxis\":\"x\",\"y\":[0.005253296874999869,0.002997296874999833,0.0006592968749998818],\"yaxis\":\"y\",\"type\":\"scatter\"},{\"hovertemplate\":\"geohash2=sp7ryn_34<br>lat_norm=%{x}<br>lon_norm=%{y}<extra></extra>\",\"legendgroup\":\"sp7ryn_34\",\"line\":{\"color\":\"#FFA15A\",\"dash\":\"solid\"},\"marker\":{\"symbol\":\"circle\"},\"mode\":\"lines\",\"name\":\"sp7ryn_34\",\"orientation\":\"v\",\"showlegend\":true,\"x\":[0.0036063281250022783],\"xaxis\":\"x\",\"y\":[0.009800624999999563],\"yaxis\":\"y\",\"type\":\"scatter\"},{\"hovertemplate\":\"geohash2=sp7ryj_35<br>lat_norm=%{x}<br>lon_norm=%{y}<extra></extra>\",\"legendgroup\":\"sp7ryj_35\",\"line\":{\"color\":\"#19d3f3\",\"dash\":\"solid\"},\"marker\":{\"symbol\":\"circle\"},\"mode\":\"lines\",\"name\":\"sp7ryj_35\",\"orientation\":\"v\",\"showlegend\":true,\"x\":[0.005110492187498039,0.0015104921874993238,0.001234492187499825,0.00041249218750039063],\"xaxis\":\"x\",\"y\":[0.006741625000000084,0.003403624999999799,0.0018866250000000306,0.002112625000000534],\"yaxis\":\"y\",\"type\":\"scatter\"},{\"hovertemplate\":\"geohash2=sp7ryh_36<br>lat_norm=%{x}<br>lon_norm=%{y}<extra></extra>\",\"legendgroup\":\"sp7ryh_36\",\"line\":{\"color\":\"#FF6692\",\"dash\":\"solid\"},\"marker\":{\"symbol\":\"circle\"},\"mode\":\"lines\",\"name\":\"sp7ryh_36\",\"orientation\":\"v\",\"showlegend\":true,\"x\":[0.005129656249998504],\"xaxis\":\"x\",\"y\":[0.00095362500000018],\"yaxis\":\"y\",\"type\":\"scatter\"},{\"hovertemplate\":\"geohash2=sp7rvu_37<br>lat_norm=%{x}<br>lon_norm=%{y}<extra></extra>\",\"legendgroup\":\"sp7rvu_37\",\"line\":{\"color\":\"#B6E880\",\"dash\":\"solid\"},\"marker\":{\"symbol\":\"circle\"},\"mode\":\"lines\",\"name\":\"sp7rvu_37\",\"orientation\":\"v\",\"showlegend\":true,\"x\":[0.002885656250001034,0.0003776562500021896],\"xaxis\":\"x\",\"y\":[0.007760953125000469,0.002775953125000008],\"yaxis\":\"y\",\"type\":\"scatter\"},{\"hovertemplate\":\"geohash2=sp7rve_38<br>lat_norm=%{x}<br>lon_norm=%{y}<extra></extra>\",\"legendgroup\":\"sp7rve_38\",\"line\":{\"color\":\"#FF97FF\",\"dash\":\"solid\"},\"marker\":{\"symbol\":\"circle\"},\"mode\":\"lines\",\"name\":\"sp7rve_38\",\"orientation\":\"v\",\"showlegend\":true,\"x\":[0.003261820312495445],\"xaxis\":\"x\",\"y\":[0.008573281250000342],\"yaxis\":\"y\",\"type\":\"scatter\"},{\"hovertemplate\":\"geohash2=sp7rvd_39<br>lat_norm=%{x}<br>lon_norm=%{y}<extra></extra>\",\"legendgroup\":\"sp7rvd_39\",\"line\":{\"color\":\"#FECB52\",\"dash\":\"solid\"},\"marker\":{\"symbol\":\"circle\"},\"mode\":\"lines\",\"name\":\"sp7rvd_39\",\"orientation\":\"v\",\"showlegend\":true,\"x\":[0.004823984375001089,0.001120984374999523],\"xaxis\":\"x\",\"y\":[0.00465528124999981,0.0024452812499999865],\"yaxis\":\"y\",\"type\":\"scatter\"},{\"hovertemplate\":\"geohash2=sp7rv3_40<br>lat_norm=%{x}<br>lon_norm=%{y}<extra></extra>\",\"legendgroup\":\"sp7rv3_40\",\"line\":{\"color\":\"#636efa\",\"dash\":\"solid\"},\"marker\":{\"symbol\":\"circle\"},\"mode\":\"lines\",\"name\":\"sp7rv3_40\",\"orientation\":\"v\",\"showlegend\":true,\"x\":[0.0019601484374973666],\"xaxis\":\"x\",\"y\":[0.010527609374999969],\"yaxis\":\"y\",\"type\":\"scatter\"},{\"hovertemplate\":\"geohash2=sp7rv2_41<br>lat_norm=%{x}<br>lon_norm=%{y}<extra></extra>\",\"legendgroup\":\"sp7rv2_41\",\"line\":{\"color\":\"#EF553B\",\"dash\":\"solid\"},\"marker\":{\"symbol\":\"circle\"},\"mode\":\"lines\",\"name\":\"sp7rv2_41\",\"orientation\":\"v\",\"showlegend\":true,\"x\":[0.0022883124999992788],\"xaxis\":\"x\",\"y\":[0.007367609374999695],\"yaxis\":\"y\",\"type\":\"scatter\"},{\"hovertemplate\":\"geohash2=sp7rtr_42<br>lat_norm=%{x}<br>lon_norm=%{y}<extra></extra>\",\"legendgroup\":\"sp7rtr_42\",\"line\":{\"color\":\"#00cc96\",\"dash\":\"solid\"},\"marker\":{\"symbol\":\"circle\"},\"mode\":\"lines\",\"name\":\"sp7rtr_42\",\"orientation\":\"v\",\"showlegend\":true,\"x\":[0.002939476562495713],\"xaxis\":\"x\",\"y\":[0.0037596093749998616],\"yaxis\":\"y\",\"type\":\"scatter\"},{\"hovertemplate\":\"geohash2=sp7rtn_43<br>lat_norm=%{x}<br>lon_norm=%{y}<extra></extra>\",\"legendgroup\":\"sp7rtn_43\",\"line\":{\"color\":\"#ab63fa\",\"dash\":\"solid\"},\"marker\":{\"symbol\":\"circle\"},\"mode\":\"lines\",\"name\":\"sp7rtn_43\",\"orientation\":\"v\",\"showlegend\":true,\"x\":[0.0052626406249984825,0.0026126406249957768],\"xaxis\":\"x\",\"y\":[0.009685937499999575,0.004459937500000066],\"yaxis\":\"y\",\"type\":\"scatter\"},{\"hovertemplate\":\"geohash2=sp7rsv_44<br>lat_norm=%{x}<br>lon_norm=%{y}<extra></extra>\",\"legendgroup\":\"sp7rsv_44\",\"line\":{\"color\":\"#FFA15A\",\"dash\":\"solid\"},\"marker\":{\"symbol\":\"circle\"},\"mode\":\"lines\",\"name\":\"sp7rsv_44\",\"orientation\":\"v\",\"showlegend\":true,\"x\":[0.0053478046874957386,0.002534804687499559],\"xaxis\":\"x\",\"y\":[0.010010265624999626,0.004555265625000082],\"yaxis\":\"y\",\"type\":\"scatter\"},{\"hovertemplate\":\"geohash2=sp7rsu_45<br>lat_norm=%{x}<br>lon_norm=%{y}<extra></extra>\",\"legendgroup\":\"sp7rsu_45\",\"line\":{\"color\":\"#19d3f3\",\"dash\":\"solid\"},\"marker\":{\"symbol\":\"circle\"},\"mode\":\"lines\",\"name\":\"sp7rsu_45\",\"orientation\":\"v\",\"showlegend\":true,\"x\":[0.004110968749998278],\"xaxis\":\"x\",\"y\":[0.00027326562500018525],\"yaxis\":\"y\",\"type\":\"scatter\"},{\"hovertemplate\":\"geohash2=sp7rse_46<br>lat_norm=%{x}<br>lon_norm=%{y}<extra></extra>\",\"legendgroup\":\"sp7rse_46\",\"line\":{\"color\":\"#FF6692\",\"dash\":\"solid\"},\"marker\":{\"symbol\":\"circle\"},\"mode\":\"lines\",\"name\":\"sp7rse_46\",\"orientation\":\"v\",\"showlegend\":true,\"x\":[0.004287132812493155],\"xaxis\":\"x\",\"y\":[0.00855159375000003],\"yaxis\":\"y\",\"type\":\"scatter\"},{\"hovertemplate\":\"geohash2=sp7rsd_47<br>lat_norm=%{x}<br>lon_norm=%{y}<extra></extra>\",\"legendgroup\":\"sp7rsd_47\",\"line\":{\"color\":\"#B6E880\",\"dash\":\"solid\"},\"marker\":{\"symbol\":\"circle\"},\"mode\":\"lines\",\"name\":\"sp7rsd_47\",\"orientation\":\"v\",\"showlegend\":true,\"x\":[0.004236296874999823,0.00036929687500020236,0.0003572968749949723],\"xaxis\":\"x\",\"y\":[0.006693593749999671,0.00449959374999942,0.004491593750000078],\"yaxis\":\"y\",\"type\":\"scatter\"},{\"hovertemplate\":\"geohash2=sp7rs9_48<br>lat_norm=%{x}<br>lon_norm=%{y}<extra></extra>\",\"legendgroup\":\"sp7rs9_48\",\"line\":{\"color\":\"#FF97FF\",\"dash\":\"solid\"},\"marker\":{\"symbol\":\"circle\"},\"mode\":\"lines\",\"name\":\"sp7rs9_48\",\"orientation\":\"v\",\"showlegend\":true,\"x\":[0.005440460937499836,0.0014124609375016917],\"xaxis\":\"x\",\"y\":[0.004138593749999586,0.0006615937500003],\"yaxis\":\"y\",\"type\":\"scatter\"},{\"hovertemplate\":\"geohash2=sp7rs2_49<br>lat_norm=%{x}<br>lon_norm=%{y}<extra></extra>\",\"legendgroup\":\"sp7rs2_49\",\"line\":{\"color\":\"#FECB52\",\"dash\":\"solid\"},\"marker\":{\"symbol\":\"circle\"},\"mode\":\"lines\",\"name\":\"sp7rs2_49\",\"orientation\":\"v\",\"showlegend\":true,\"x\":[0.0018316249999941192],\"xaxis\":\"x\",\"y\":[0.008220921875000009],\"yaxis\":\"y\",\"type\":\"scatter\"},{\"hovertemplate\":\"geohash2=sp7rkr_50<br>lat_norm=%{x}<br>lon_norm=%{y}<extra></extra>\",\"legendgroup\":\"sp7rkr_50\",\"line\":{\"color\":\"#636efa\",\"dash\":\"solid\"},\"marker\":{\"symbol\":\"circle\"},\"mode\":\"lines\",\"name\":\"sp7rkr_50\",\"orientation\":\"v\",\"showlegend\":true,\"x\":[0.0016827890625066289],\"xaxis\":\"x\",\"y\":[0.006634921875000366],\"yaxis\":\"y\",\"type\":\"scatter\"},{\"hovertemplate\":\"geohash2=sp7rkq_51<br>lat_norm=%{x}<br>lon_norm=%{y}<extra></extra>\",\"legendgroup\":\"sp7rkq_51\",\"line\":{\"color\":\"#EF553B\",\"dash\":\"solid\"},\"marker\":{\"symbol\":\"circle\"},\"mode\":\"lines\",\"name\":\"sp7rkq_51\",\"orientation\":\"v\",\"showlegend\":true,\"x\":[0.0019239531250008213],\"xaxis\":\"x\",\"y\":[0.003750921874999591],\"yaxis\":\"y\",\"type\":\"scatter\"},{\"hovertemplate\":\"geohash2=sp7rkm_52<br>lat_norm=%{x}<br>lon_norm=%{y}<extra></extra>\",\"legendgroup\":\"sp7rkm_52\",\"line\":{\"color\":\"#00cc96\",\"dash\":\"solid\"},\"marker\":{\"symbol\":\"circle\"},\"mode\":\"lines\",\"name\":\"sp7rkm_52\",\"orientation\":\"v\",\"showlegend\":true,\"x\":[0.002251117187498153],\"xaxis\":\"x\",\"y\":[0.0016649218750002248],\"yaxis\":\"y\",\"type\":\"scatter\"},{\"hovertemplate\":\"geohash2=sp7rkk_53<br>lat_norm=%{x}<br>lon_norm=%{y}<extra></extra>\",\"legendgroup\":\"sp7rkk_53\",\"line\":{\"color\":\"#ab63fa\",\"dash\":\"solid\"},\"marker\":{\"symbol\":\"circle\"},\"mode\":\"lines\",\"name\":\"sp7rkk_53\",\"orientation\":\"v\",\"showlegend\":true,\"x\":[0.002733281250002051],\"xaxis\":\"x\",\"y\":[3.4921874999760405e-05],\"yaxis\":\"y\",\"type\":\"scatter\"},{\"hovertemplate\":\"geohash2=sp7rk5_54<br>lat_norm=%{x}<br>lon_norm=%{y}<extra></extra>\",\"legendgroup\":\"sp7rk5_54\",\"line\":{\"color\":\"#FFA15A\",\"dash\":\"solid\"},\"marker\":{\"symbol\":\"circle\"},\"mode\":\"lines\",\"name\":\"sp7rk5_54\",\"orientation\":\"v\",\"showlegend\":true,\"x\":[0.003418445312505014],\"xaxis\":\"x\",\"y\":[0.0079072499999997],\"yaxis\":\"y\",\"type\":\"scatter\"},{\"hovertemplate\":\"geohash2=sp7rk4_55<br>lat_norm=%{x}<br>lon_norm=%{y}<extra></extra>\",\"legendgroup\":\"sp7rk4_55\",\"line\":{\"color\":\"#19d3f3\",\"dash\":\"solid\"},\"marker\":{\"symbol\":\"circle\"},\"mode\":\"lines\",\"name\":\"sp7rk4_55\",\"orientation\":\"v\",\"showlegend\":true,\"x\":[0.0049926093750016776],\"xaxis\":\"x\",\"y\":[0.005262249999999469],\"yaxis\":\"y\",\"type\":\"scatter\"},{\"hovertemplate\":\"geohash2=sp7rk5_56<br>lat_norm=%{x}<br>lon_norm=%{y}<extra></extra>\",\"legendgroup\":\"sp7rk5_56\",\"line\":{\"color\":\"#FF6692\",\"dash\":\"solid\"},\"marker\":{\"symbol\":\"circle\"},\"mode\":\"lines\",\"name\":\"sp7rk5_56\",\"orientation\":\"v\",\"showlegend\":true,\"x\":[5.4453125031272975e-06,0.0005774453124942625,0.0015064453125006594,0.0016294453124956476,0.0007884453125015511,0.0007464453125010095],\"xaxis\":\"x\",\"y\":[0.003087250000000097,0.0015262500000003953,0.002003250000000456,0.0020202500000001677,0.0015522499999995887,0.00158725000000004],\"yaxis\":\"y\",\"type\":\"scatter\"},{\"hovertemplate\":\"geohash2=sp7rk4_57<br>lat_norm=%{x}<br>lon_norm=%{y}<extra></extra>\",\"legendgroup\":\"sp7rk4_57\",\"line\":{\"color\":\"#B6E880\",\"dash\":\"solid\"},\"marker\":{\"symbol\":\"circle\"},\"mode\":\"lines\",\"name\":\"sp7rk4_57\",\"orientation\":\"v\",\"showlegend\":true,\"x\":[0.005131609374998902,0.004414609374997269],\"xaxis\":\"x\",\"y\":[0.0010752500000004162,0.00048525000000054774],\"yaxis\":\"y\",\"type\":\"scatter\"},{\"hovertemplate\":\"geohash2=sp7r7f_58<br>lat_norm=%{x}<br>lon_norm=%{y}<extra></extra>\",\"legendgroup\":\"sp7r7f_58\",\"line\":{\"color\":\"#FF97FF\",\"dash\":\"solid\"},\"marker\":{\"symbol\":\"circle\"},\"mode\":\"lines\",\"name\":\"sp7r7f_58\",\"orientation\":\"v\",\"showlegend\":true,\"x\":[0.005486609375005003],\"xaxis\":\"x\",\"y\":[0.009561578125000025],\"yaxis\":\"y\",\"type\":\"scatter\"},{\"hovertemplate\":\"geohash2=sp7r7g_59<br>lat_norm=%{x}<br>lon_norm=%{y}<extra></extra>\",\"legendgroup\":\"sp7r7g_59\",\"line\":{\"color\":\"#FECB52\",\"dash\":\"solid\"},\"marker\":{\"symbol\":\"circle\"},\"mode\":\"lines\",\"name\":\"sp7r7g_59\",\"orientation\":\"v\",\"showlegend\":true,\"x\":[0.00040744531249714555,0.0004504453125022678,0.000527445312499708,0.0008734453125001096,0.003025445312502484,0.00416844531250149,0.005330445312502263],\"xaxis\":\"x\",\"y\":[0.008623578124999476,0.00838557812499996,0.007982578124999584,0.0071575781249997306,0.007603578124999899,0.007852578125000065,0.008303578125000044],\"yaxis\":\"y\",\"type\":\"scatter\"},{\"hovertemplate\":\"geohash2=sp7r7u_60<br>lat_norm=%{x}<br>lon_norm=%{y}<extra></extra>\",\"legendgroup\":\"sp7r7u_60\",\"line\":{\"color\":\"#636efa\",\"dash\":\"solid\"},\"marker\":{\"symbol\":\"circle\"},\"mode\":\"lines\",\"name\":\"sp7r7u_60\",\"orientation\":\"v\",\"showlegend\":true,\"x\":[0.0019422812500025088,0.002873281249996751,0.0033592812499989577,0.005090281249998441],\"xaxis\":\"x\",\"y\":[0.009092578125000195,0.009270578125000206,0.009429578125000226,0.009540578124999755],\"yaxis\":\"y\",\"type\":\"scatter\"},{\"hovertemplate\":\"geohash2=sp7r7v_61<br>lat_norm=%{x}<br>lon_norm=%{y}<extra></extra>\",\"legendgroup\":\"sp7r7v_61\",\"line\":{\"color\":\"#EF553B\",\"dash\":\"solid\"},\"marker\":{\"symbol\":\"circle\"},\"mode\":\"lines\",\"name\":\"sp7r7v_61\",\"orientation\":\"v\",\"showlegend\":true,\"x\":[0.001795117187498363,0.0040691171875053556],\"xaxis\":\"x\",\"y\":[0.009046578124999982,0.008677578124999918],\"yaxis\":\"y\",\"type\":\"scatter\"},{\"hovertemplate\":\"geohash2=sp7r7y_62<br>lat_norm=%{x}<br>lon_norm=%{y}<extra></extra>\",\"legendgroup\":\"sp7r7y_62\",\"line\":{\"color\":\"#00cc96\",\"dash\":\"solid\"},\"marker\":{\"symbol\":\"circle\"},\"mode\":\"lines\",\"name\":\"sp7r7y_62\",\"orientation\":\"v\",\"showlegend\":true,\"x\":[0.0005749531249961137,0.0016509531250008536,0.0018079531249952652,0.0032519531250017053,0.004449953124996853],\"xaxis\":\"x\",\"y\":[0.008306578125000463,0.00808257812500024,0.00809157812500061,0.007833578125000074,0.0076615781250000126],\"yaxis\":\"y\",\"type\":\"scatter\"},{\"hovertemplate\":\"geohash2=sp7r7z_63<br>lat_norm=%{x}<br>lon_norm=%{y}<extra></extra>\",\"legendgroup\":\"sp7r7z_63\",\"line\":{\"color\":\"#ab63fa\",\"dash\":\"solid\"},\"marker\":{\"symbol\":\"circle\"},\"mode\":\"lines\",\"name\":\"sp7r7z_63\",\"orientation\":\"v\",\"showlegend\":true,\"x\":[0.0003337890625019213,0.0004347890624956108,0.0009557890625018217,0.0008697890624986826,0.000903789062498106,0.0008837890624988631,0.00077478906249695,0.0025497890624990305,0.004925789062504293],\"xaxis\":\"x\",\"y\":[0.007402578125000225,0.007402578125000225,0.007317578124999891,0.006413578124999653,0.0063785781250000895,0.005974578125000463,0.0056145781249998805,0.0051985781249994645,0.004556578125000321],\"yaxis\":\"y\",\"type\":\"scatter\"},{\"hovertemplate\":\"geohash2=sp7reb_64<br>lat_norm=%{x}<br>lon_norm=%{y}<extra></extra>\",\"legendgroup\":\"sp7reb_64\",\"line\":{\"color\":\"#FFA15A\",\"dash\":\"solid\"},\"marker\":{\"symbol\":\"circle\"},\"mode\":\"lines\",\"name\":\"sp7reb_64\",\"orientation\":\"v\",\"showlegend\":true,\"x\":[0.0016686250000006453,0.0027116249999963316,0.0029936249999948927,0.0023946250000008718,0.0023066249999956767,0.0023076250000002574],\"xaxis\":\"x\",\"y\":[0.003037578125000273,0.002285578124999965,0.001558578124999599,0.0009595781250002489,0.0006965781249999026,0.0005035781249995708],\"yaxis\":\"y\",\"type\":\"scatter\"},{\"hovertemplate\":\"geohash2=sp7re8_65<br>lat_norm=%{x}<br>lon_norm=%{y}<extra></extra>\",\"legendgroup\":\"sp7re8_65\",\"line\":{\"color\":\"#19d3f3\",\"dash\":\"solid\"},\"marker\":{\"symbol\":\"circle\"},\"mode\":\"lines\",\"name\":\"sp7re8_65\",\"orientation\":\"v\",\"showlegend\":true,\"x\":[0.0031526249999984657,0.004511624999999242,0.005233624999995357],\"xaxis\":\"x\",\"y\":[0.010615906249999973,0.009083906249999885,0.008401906249999591],\"yaxis\":\"y\",\"type\":\"scatter\"},{\"hovertemplate\":\"geohash2=sp7re9_66<br>lat_norm=%{x}<br>lon_norm=%{y}<extra></extra>\",\"legendgroup\":\"sp7re9_66\",\"line\":{\"color\":\"#FF6692\",\"dash\":\"solid\"},\"marker\":{\"symbol\":\"circle\"},\"mode\":\"lines\",\"name\":\"sp7re9_66\",\"orientation\":\"v\",\"showlegend\":true,\"x\":[0.0009424609375017212,0.0010994609375032383,0.0011004609375007135,0.0014574609375017644,0.0005164609375043483],\"xaxis\":\"x\",\"y\":[0.007027906250000271,0.0068259062500004575,0.006790906250000006,0.006150906250000254,0.005428906249999699],\"yaxis\":\"y\",\"type\":\"scatter\"},{\"hovertemplate\":\"geohash2=sp7re8_67<br>lat_norm=%{x}<br>lon_norm=%{y}<extra></extra>\",\"legendgroup\":\"sp7re8_67\",\"line\":{\"color\":\"#B6E880\",\"dash\":\"solid\"},\"marker\":{\"symbol\":\"circle\"},\"mode\":\"lines\",\"name\":\"sp7re8_67\",\"orientation\":\"v\",\"showlegend\":true,\"x\":[0.0050676250000023515,0.00403862499999974,0.0032756250000005593,0.002347624999998743,0.0010756249999985812],\"xaxis\":\"x\",\"y\":[0.004810906250000357,0.003535906249999776,0.002761906249999946,0.0018819062499995098,0.0011229062499999998],\"yaxis\":\"y\",\"type\":\"scatter\"},{\"hovertemplate\":\"geohash2=sp7re2_68<br>lat_norm=%{x}<br>lon_norm=%{y}<extra></extra>\",\"legendgroup\":\"sp7re2_68\",\"line\":{\"color\":\"#FF97FF\",\"dash\":\"solid\"},\"marker\":{\"symbol\":\"circle\"},\"mode\":\"lines\",\"name\":\"sp7re2_68\",\"orientation\":\"v\",\"showlegend\":true,\"x\":[0.0016466249999993465,0.00278362499999929,0.0035536249999950087,0.004737625000004186],\"xaxis\":\"x\",\"y\":[0.010961234374999407,0.009025234374999691,0.007729234375000615,0.0056092343750000495],\"yaxis\":\"y\",\"type\":\"scatter\"},{\"hovertemplate\":\"geohash2=sp7re3_69<br>lat_norm=%{x}<br>lon_norm=%{y}<extra></extra>\",\"legendgroup\":\"sp7re3_69\",\"line\":{\"color\":\"#FECB52\",\"dash\":\"solid\"},\"marker\":{\"symbol\":\"circle\"},\"mode\":\"lines\",\"name\":\"sp7re3_69\",\"orientation\":\"v\",\"showlegend\":true,\"x\":[0.0009174609375008913,0.0011684609374995603],\"xaxis\":\"x\",\"y\":[0.0027632343750001453,0.0013242343750006214],\"yaxis\":\"y\",\"type\":\"scatter\"},{\"hovertemplate\":\"geohash2=sp7re2_70<br>lat_norm=%{x}<br>lon_norm=%{y}<extra></extra>\",\"legendgroup\":\"sp7re2_70\",\"line\":{\"color\":\"#636efa\",\"dash\":\"solid\"},\"marker\":{\"symbol\":\"circle\"},\"mode\":\"lines\",\"name\":\"sp7re2_70\",\"orientation\":\"v\",\"showlegend\":true,\"x\":[0.004921624999994378],\"xaxis\":\"x\",\"y\":[0.00030123437499973704],\"yaxis\":\"y\",\"type\":\"scatter\"},{\"hovertemplate\":\"geohash2=sp7re0_71<br>lat_norm=%{x}<br>lon_norm=%{y}<extra></extra>\",\"legendgroup\":\"sp7re0_71\",\"line\":{\"color\":\"#EF553B\",\"dash\":\"solid\"},\"marker\":{\"symbol\":\"circle\"},\"mode\":\"lines\",\"name\":\"sp7re0_71\",\"orientation\":\"v\",\"showlegend\":true,\"x\":[0.0035606249999986517,0.0021756249999995703,0.0005056250000023965],\"xaxis\":\"x\",\"y\":[0.010519562499999857,0.009732562499999986,0.007857562499999915],\"yaxis\":\"y\",\"type\":\"scatter\"},{\"hovertemplate\":\"geohash2=sp7r7p_72<br>lat_norm=%{x}<br>lon_norm=%{y}<extra></extra>\",\"legendgroup\":\"sp7r7p_72\",\"line\":{\"color\":\"#00cc96\",\"dash\":\"solid\"},\"marker\":{\"symbol\":\"circle\"},\"mode\":\"lines\",\"name\":\"sp7r7p_72\",\"orientation\":\"v\",\"showlegend\":true,\"x\":[0.005488789062496835,0.005454789062497412,0.004589789062492855,0.0041037890624977535],\"xaxis\":\"x\",\"y\":[0.00747856250000023,0.007276562500000416,0.007957562499999682,0.010001562500000283],\"yaxis\":\"y\",\"type\":\"scatter\"},{\"hovertemplate\":\"geohash2=sp7r7r_73<br>lat_norm=%{x}<br>lon_norm=%{y}<extra></extra>\",\"legendgroup\":\"sp7r7r_73\",\"line\":{\"color\":\"#ab63fa\",\"dash\":\"solid\"},\"marker\":{\"symbol\":\"circle\"},\"mode\":\"lines\",\"name\":\"sp7r7r_73\",\"orientation\":\"v\",\"showlegend\":true,\"x\":[0.0021457890625029563,0.0005877890625072268],\"xaxis\":\"x\",\"y\":[0.0009482343749995792,0.0023822343750001806],\"yaxis\":\"y\",\"type\":\"scatter\"},{\"hovertemplate\":\"geohash2=sp7r7q_74<br>lat_norm=%{x}<br>lon_norm=%{y}<extra></extra>\",\"legendgroup\":\"sp7r7q_74\",\"line\":{\"color\":\"#FFA15A\",\"dash\":\"solid\"},\"marker\":{\"symbol\":\"circle\"},\"mode\":\"lines\",\"name\":\"sp7r7q_74\",\"orientation\":\"v\",\"showlegend\":true,\"x\":[0.004131953124996812,0.002704953124997189,0.0007219531250015621],\"xaxis\":\"x\",\"y\":[0.004175234375000336,0.0055212343750001835,0.007340234375000421],\"yaxis\":\"y\",\"type\":\"scatter\"},{\"hovertemplate\":\"geohash2=sp7r7m_75<br>lat_norm=%{x}<br>lon_norm=%{y}<extra></extra>\",\"legendgroup\":\"sp7r7m_75\",\"line\":{\"color\":\"#19d3f3\",\"dash\":\"solid\"},\"marker\":{\"symbol\":\"circle\"},\"mode\":\"lines\",\"name\":\"sp7r7m_75\",\"orientation\":\"v\",\"showlegend\":true,\"x\":[0.0040731171874952565,0.002512117187499996,0.002426117187496857,0.003273117187497121,0.0035251171875003706,0.0033091171875057057,0.0027341171875008285,0.002679117187504687,0.0024761171874985166,0.002292117187501219,0.0020961171874986917,0.0014021171875029381,0.0006221171875040454],\"xaxis\":\"x\",\"y\":[0.007473234374999471,0.0060372343750003665,0.005062234374999974,0.003739234374999789,0.0019322343750003412,0.0005892343750000251,0.0005952343749999756,0.00047323437499979804,0.0016222343750005308,0.0034302343750001185,0.005255234375000306,0.006271234374999324,0.0067692343750005435],\"yaxis\":\"y\",\"type\":\"scatter\"},{\"hovertemplate\":\"geohash2=sp7r7k_76<br>lat_norm=%{x}<br>lon_norm=%{y}<extra></extra>\",\"legendgroup\":\"sp7r7k_76\",\"line\":{\"color\":\"#FF6692\",\"dash\":\"solid\"},\"marker\":{\"symbol\":\"circle\"},\"mode\":\"lines\",\"name\":\"sp7r7k_76\",\"orientation\":\"v\",\"showlegend\":true,\"x\":[0.004592281250005215,0.003959281249997559,0.003578281250000259,0.002688281250001978],\"xaxis\":\"x\",\"y\":[0.00779023437500026,0.00825323437500014,0.009743234374999687,0.009986234374999903],\"yaxis\":\"y\",\"type\":\"scatter\"},{\"hovertemplate\":\"geohash2=sp7r7s_77<br>lat_norm=%{x}<br>lon_norm=%{y}<extra></extra>\",\"legendgroup\":\"sp7r7s_77\",\"line\":{\"color\":\"#B6E880\",\"dash\":\"solid\"},\"marker\":{\"symbol\":\"circle\"},\"mode\":\"lines\",\"name\":\"sp7r7s_77\",\"orientation\":\"v\",\"showlegend\":true,\"x\":[0.002430281249999666,0.0016512812499982488,0.0014942812499967317,0.0010842812499944898,0.0004542812499934712],\"xaxis\":\"x\",\"y\":[0.00014090625000040546,0.0001389062500001259,0.00034090624999993935,0.0003389062499996598,8.290625000029195e-05],\"yaxis\":\"y\",\"type\":\"scatter\"},{\"hovertemplate\":\"geohash2=sp7r7e_78<br>lat_norm=%{x}<br>lon_norm=%{y}<extra></extra>\",\"legendgroup\":\"sp7r7e_78\",\"line\":{\"color\":\"#FF97FF\",\"dash\":\"solid\"},\"marker\":{\"symbol\":\"circle\"},\"mode\":\"lines\",\"name\":\"sp7r7e_78\",\"orientation\":\"v\",\"showlegend\":true,\"x\":[0.004521445312498429,0.004164445312497378,0.003999445312494743,0.003554445312495602,0.00263544531250659],\"xaxis\":\"x\",\"y\":[0.0013069062499999617,0.0016029062500004798,0.0017249062499997692,0.0016719062499994664,0.0006509062499997498],\"yaxis\":\"y\",\"type\":\"scatter\"},{\"hovertemplate\":\"geohash2=sp7r77_79<br>lat_norm=%{x}<br>lon_norm=%{y}<extra></extra>\",\"legendgroup\":\"sp7r77_79\",\"line\":{\"color\":\"#FECB52\",\"dash\":\"solid\"},\"marker\":{\"symbol\":\"circle\"},\"mode\":\"lines\",\"name\":\"sp7r77_79\",\"orientation\":\"v\",\"showlegend\":true,\"x\":[0.004021445312503147,0.004270445312506865,0.004359445312495325,0.004672445312493778],\"xaxis\":\"x\",\"y\":[0.008631234374999686,0.0075522343749998555,0.007447234375000278,0.006306234374999775],\"yaxis\":\"y\",\"type\":\"scatter\"},{\"hovertemplate\":\"geohash2=sp7r7k_80<br>lat_norm=%{x}<br>lon_norm=%{y}<extra></extra>\",\"legendgroup\":\"sp7r7k_80\",\"line\":{\"color\":\"#636efa\",\"dash\":\"solid\"},\"marker\":{\"symbol\":\"circle\"},\"mode\":\"lines\",\"name\":\"sp7r7k_80\",\"orientation\":\"v\",\"showlegend\":true,\"x\":[0.0004892812499974752,0.0009322812500016653,0.0009292812499950287,0.0010522812500042278,0.0006842812499954221,0.0005642812499928596],\"xaxis\":\"x\",\"y\":[0.0056532343749999825,0.006182234375000206,0.00684823437500004,0.006796234374999877,0.006708234375000011,0.005961234374999513],\"yaxis\":\"y\",\"type\":\"scatter\"},{\"hovertemplate\":\"geohash2=sp7r77_81<br>lat_norm=%{x}<br>lon_norm=%{y}<extra></extra>\",\"legendgroup\":\"sp7r77_81\",\"line\":{\"color\":\"#EF553B\",\"dash\":\"solid\"},\"marker\":{\"symbol\":\"circle\"},\"mode\":\"lines\",\"name\":\"sp7r77_81\",\"orientation\":\"v\",\"showlegend\":true,\"x\":[0.0051354453125043165,0.004150445312504303,0.002762445312498585,0.0027654453125052214,0.003378445312499423,0.002483445312499555,0.0022054453125051054,0.0019394453125016753,0.0019844453124946426,0.0021764453125001637,0.002122445312494392,0.0021784453125022196],\"xaxis\":\"x\",\"y\":[0.005958234374999982,0.005578234375000157,0.0052572343749996975,0.004651234374999369,0.0035212343749995156,0.0027982343749997085,0.002464234375000096,0.00220023437499961,0.0014802343750002223,0.0009102343749995967,0.0008482343749998122,0.0005582343750001328],\"yaxis\":\"y\",\"type\":\"scatter\"},{\"hovertemplate\":\"geohash2=sp7r75_82<br>lat_norm=%{x}<br>lon_norm=%{y}<extra></extra>\",\"legendgroup\":\"sp7r75_82\",\"line\":{\"color\":\"#00cc96\",\"dash\":\"solid\"},\"marker\":{\"symbol\":\"circle\"},\"mode\":\"lines\",\"name\":\"sp7r75_82\",\"orientation\":\"v\",\"showlegend\":true,\"x\":[0.002670445312503489,0.0029524453124949446,0.003028445312502015,0.0033874453124980164,0.002846445312499668,0.0020144453124970596,0.0014454453125054556,0.0013014453124995384,0.000580445312500899],\"xaxis\":\"x\",\"y\":[0.009992562499999913,0.009282562500000147,0.009220562500000362,0.008282562499999813,0.00792056249999984,0.007549562499999496,0.008056562500000197,0.008064562499999539,0.008589562500000092],\"yaxis\":\"y\",\"type\":\"scatter\"},{\"hovertemplate\":\"geohash2=sp7r74_83<br>lat_norm=%{x}<br>lon_norm=%{y}<extra></extra>\",\"legendgroup\":\"sp7r74_83\",\"line\":{\"color\":\"#ab63fa\",\"dash\":\"solid\"},\"marker\":{\"symbol\":\"circle\"},\"mode\":\"lines\",\"name\":\"sp7r74_83\",\"orientation\":\"v\",\"showlegend\":true,\"x\":[0.004860609374993885,0.004379609375000371,0.0040146093749982015,0.0034096093749980128,0.0027186093750017903,0.0031456093749966385,0.0031506093749982256,0.0031516093750028062,0.0029406093749955176,0.0029206093749962747],\"xaxis\":\"x\",\"y\":[0.009286562499999818,0.007458562500000099,0.006728562500000201,0.005269562499999658,0.0034585625000005393,0.002336562500000028,0.0007665624999999565,0.0006605625000002391,0.00031856250000039665,0.00024856250000038216],\"yaxis\":\"y\",\"type\":\"scatter\"},{\"hovertemplate\":\"geohash2=sp7r6f_84<br>lat_norm=%{x}<br>lon_norm=%{y}<extra></extra>\",\"legendgroup\":\"sp7r6f_84\",\"line\":{\"color\":\"#FFA15A\",\"dash\":\"solid\"},\"marker\":{\"symbol\":\"circle\"},\"mode\":\"lines\",\"name\":\"sp7r6f_84\",\"orientation\":\"v\",\"showlegend\":true,\"x\":[0.0019896093750020327],\"xaxis\":\"x\",\"y\":[0.010967890625000365],\"yaxis\":\"y\",\"type\":\"scatter\"},{\"hovertemplate\":\"geohash2=sp7r74_85<br>lat_norm=%{x}<br>lon_norm=%{y}<extra></extra>\",\"legendgroup\":\"sp7r74_85\",\"line\":{\"color\":\"#19d3f3\",\"dash\":\"solid\"},\"marker\":{\"symbol\":\"circle\"},\"mode\":\"lines\",\"name\":\"sp7r74_85\",\"orientation\":\"v\",\"showlegend\":true,\"x\":[0.0019896093750020327,0.0027676093749988695,0.0027676093749988695],\"xaxis\":\"x\",\"y\":[3.356250000052796e-05,0.0002475624999993542,0.00026456249999995407],\"yaxis\":\"y\",\"type\":\"scatter\"},{\"hovertemplate\":\"geohash2=sp7r6f_86<br>lat_norm=%{x}<br>lon_norm=%{y}<extra></extra>\",\"legendgroup\":\"sp7r6f_86\",\"line\":{\"color\":\"#FF6692\",\"dash\":\"solid\"},\"marker\":{\"symbol\":\"circle\"},\"mode\":\"lines\",\"name\":\"sp7r6f_86\",\"orientation\":\"v\",\"showlegend\":true,\"x\":[0.00325060937499444,0.003173609375004105,0.0027306093749928095,0.001762609374999613],\"xaxis\":\"x\",\"y\":[0.009855890624999475,0.006625890625000075,0.004043890624999769,0.0015308906250002252],\"yaxis\":\"y\",\"type\":\"scatter\"},{\"hovertemplate\":\"geohash2=sp7r6d_87<br>lat_norm=%{x}<br>lon_norm=%{y}<extra></extra>\",\"legendgroup\":\"sp7r6d_87\",\"line\":{\"color\":\"#B6E880\",\"dash\":\"solid\"},\"marker\":{\"symbol\":\"circle\"},\"mode\":\"lines\",\"name\":\"sp7r6d_87\",\"orientation\":\"v\",\"showlegend\":true,\"x\":[0.0015356093749971933],\"xaxis\":\"x\",\"y\":[0.010821218750000305],\"yaxis\":\"y\",\"type\":\"scatter\"},{\"hovertemplate\":\"geohash2=sp7r6f_88<br>lat_norm=%{x}<br>lon_norm=%{y}<extra></extra>\",\"legendgroup\":\"sp7r6f_88\",\"line\":{\"color\":\"#FF97FF\",\"dash\":\"solid\"},\"marker\":{\"symbol\":\"circle\"},\"mode\":\"lines\",\"name\":\"sp7r6f_88\",\"orientation\":\"v\",\"showlegend\":true,\"x\":[0.002444609374997242,0.0036536093750072496,0.004528609375000769,0.005424609374998113],\"xaxis\":\"x\",\"y\":[0.000179890624999679,0.000631890624999798,0.0009948906249999112,0.001339890625000173],\"yaxis\":\"y\",\"type\":\"scatter\"},{\"hovertemplate\":\"geohash2=sp7r6g_89<br>lat_norm=%{x}<br>lon_norm=%{y}<extra></extra>\",\"legendgroup\":\"sp7r6g_89\",\"line\":{\"color\":\"#FECB52\",\"dash\":\"solid\"},\"marker\":{\"symbol\":\"circle\"},\"mode\":\"lines\",\"name\":\"sp7r6g_89\",\"orientation\":\"v\",\"showlegend\":true,\"x\":[9.544531250327282e-05,0.0007724453124993147,0.002109445312498792],\"xaxis\":\"x\",\"y\":[0.0014028906250000972,0.0015278906249998059,0.0007258906249996144],\"yaxis\":\"y\",\"type\":\"scatter\"},{\"hovertemplate\":\"geohash2=sp7r6e_90<br>lat_norm=%{x}<br>lon_norm=%{y}<extra></extra>\",\"legendgroup\":\"sp7r6e_90\",\"line\":{\"color\":\"#636efa\",\"dash\":\"solid\"},\"marker\":{\"symbol\":\"circle\"},\"mode\":\"lines\",\"name\":\"sp7r6e_90\",\"orientation\":\"v\",\"showlegend\":true,\"x\":[0.0024464453125006003,0.0016134453125005166,0.0012924453124938395,0.0012924453124938395,0.000847445312494699],\"xaxis\":\"x\",\"y\":[0.01089621875000013,0.010551218749999869,0.010401218750000218,0.010392218749999849,0.010689218749999618],\"yaxis\":\"y\",\"type\":\"scatter\"},{\"hovertemplate\":\"geohash2=sp7r6g_91<br>lat_norm=%{x}<br>lon_norm=%{y}<extra></extra>\",\"legendgroup\":\"sp7r6g_91\",\"line\":{\"color\":\"#EF553B\",\"dash\":\"solid\"},\"marker\":{\"symbol\":\"circle\"},\"mode\":\"lines\",\"name\":\"sp7r6g_91\",\"orientation\":\"v\",\"showlegend\":true,\"x\":[0.0005434453125019445,0.000649445312497221,0.0013064453125011255,0.0026854453125011446,0.0036644453124949905,0.004316445312497308,0.005026445312502403],\"xaxis\":\"x\",\"y\":[0.0006488906249995097,0.0016328906250002717,0.0013888906249999167,0.0005068906250000893,0.00020189062500008959,0.0011708906249996431,0.001435890625000269],\"yaxis\":\"y\",\"type\":\"scatter\"},{\"hovertemplate\":\"geohash2=sp7r6u_92<br>lat_norm=%{x}<br>lon_norm=%{y}<extra></extra>\",\"legendgroup\":\"sp7r6u_92\",\"line\":{\"color\":\"#00cc96\",\"dash\":\"solid\"},\"marker\":{\"symbol\":\"circle\"},\"mode\":\"lines\",\"name\":\"sp7r6u_92\",\"orientation\":\"v\",\"showlegend\":true,\"x\":[0.00037828125000061164,0.0011252812500046616],\"xaxis\":\"x\",\"y\":[0.0007198906250005521,0.00016989062500005758],\"yaxis\":\"y\",\"type\":\"scatter\"},{\"hovertemplate\":\"geohash2=sp7r6s_93<br>lat_norm=%{x}<br>lon_norm=%{y}<extra></extra>\",\"legendgroup\":\"sp7r6s_93\",\"line\":{\"color\":\"#ab63fa\",\"dash\":\"solid\"},\"marker\":{\"symbol\":\"circle\"},\"mode\":\"lines\",\"name\":\"sp7r6s_93\",\"orientation\":\"v\",\"showlegend\":true,\"x\":[0.0016952812500008463,0.0010682812499993588],\"xaxis\":\"x\",\"y\":[0.010403218750000498,0.009453218750000048],\"yaxis\":\"y\",\"type\":\"scatter\"},{\"hovertemplate\":\"geohash2=sp7r6e_94<br>lat_norm=%{x}<br>lon_norm=%{y}<extra></extra>\",\"legendgroup\":\"sp7r6e_94\",\"line\":{\"color\":\"#FFA15A\",\"dash\":\"solid\"},\"marker\":{\"symbol\":\"circle\"},\"mode\":\"lines\",\"name\":\"sp7r6e_94\",\"orientation\":\"v\",\"showlegend\":true,\"x\":[0.005328445312500207],\"xaxis\":\"x\",\"y\":[0.009756218749999768],\"yaxis\":\"y\",\"type\":\"scatter\"},{\"hovertemplate\":\"geohash2=sp7r6g_95<br>lat_norm=%{x}<br>lon_norm=%{y}<extra></extra>\",\"legendgroup\":\"sp7r6g_95\",\"line\":{\"color\":\"#19d3f3\",\"dash\":\"solid\"},\"marker\":{\"symbol\":\"circle\"},\"mode\":\"lines\",\"name\":\"sp7r6g_95\",\"orientation\":\"v\",\"showlegend\":true,\"x\":[0.0031144453124980487,0.0013574453124931551],\"xaxis\":\"x\",\"y\":[0.0001578906250001566,0.0012748906249999692],\"yaxis\":\"y\",\"type\":\"scatter\"},{\"hovertemplate\":\"geohash2=sp7r6f_96<br>lat_norm=%{x}<br>lon_norm=%{y}<extra></extra>\",\"legendgroup\":\"sp7r6f_96\",\"line\":{\"color\":\"#FF6692\",\"dash\":\"solid\"},\"marker\":{\"symbol\":\"circle\"},\"mode\":\"lines\",\"name\":\"sp7r6f_96\",\"orientation\":\"v\",\"showlegend\":true,\"x\":[0.004038609375001556,0.0031606093749942943,0.002558609375000742,0.003075609374995736,0.0031426093749971074],\"xaxis\":\"x\",\"y\":[0.002950890624999758,0.0032808906249996994,0.0036298906250005203,0.007959890625000021,0.010680890625000217],\"yaxis\":\"y\",\"type\":\"scatter\"},{\"hovertemplate\":\"geohash2=sp7r74_97<br>lat_norm=%{x}<br>lon_norm=%{y}<extra></extra>\",\"legendgroup\":\"sp7r74_97\",\"line\":{\"color\":\"#B6E880\",\"dash\":\"solid\"},\"marker\":{\"symbol\":\"circle\"},\"mode\":\"lines\",\"name\":\"sp7r74_97\",\"orientation\":\"v\",\"showlegend\":true,\"x\":[0.0031256093749973957,0.002485609374993203,0.0024736093750021837,0.0032206093749991282,0.004068609375003973,0.0044756093749995784,0.004344609375003472],\"xaxis\":\"x\",\"y\":[0.000836562499999971,0.0032925624999995406,0.0033085625000000007,0.004865562500000031,0.006879562499999992,0.00793356249999988,0.010233562499999849],\"yaxis\":\"y\",\"type\":\"scatter\"},{\"hovertemplate\":\"geohash2=sp7r76_98<br>lat_norm=%{x}<br>lon_norm=%{y}<extra></extra>\",\"legendgroup\":\"sp7r76_98\",\"line\":{\"color\":\"#FF97FF\",\"dash\":\"solid\"},\"marker\":{\"symbol\":\"circle\"},\"mode\":\"lines\",\"name\":\"sp7r76_98\",\"orientation\":\"v\",\"showlegend\":true,\"x\":[0.0024486093750013538,0.00014260937499699367],\"xaxis\":\"x\",\"y\":[0.0016642343750001842,0.004035234375000307],\"yaxis\":\"y\",\"type\":\"scatter\"},{\"hovertemplate\":\"geohash2=sp7r73_99<br>lat_norm=%{x}<br>lon_norm=%{y}<extra></extra>\",\"legendgroup\":\"sp7r73_99\",\"line\":{\"color\":\"#FECB52\",\"dash\":\"solid\"},\"marker\":{\"symbol\":\"circle\"},\"mode\":\"lines\",\"name\":\"sp7r73_99\",\"orientation\":\"v\",\"showlegend\":true,\"x\":[0.004097773437500507,0.0022727734374967667,0.0003207734375010318],\"xaxis\":\"x\",\"y\":[0.00547023437500016,0.007185234375000071,0.009750234374999778],\"yaxis\":\"y\",\"type\":\"scatter\"},{\"hovertemplate\":\"geohash2=sp7r72_100<br>lat_norm=%{x}<br>lon_norm=%{y}<extra></extra>\",\"legendgroup\":\"sp7r72_100\",\"line\":{\"color\":\"#636efa\",\"dash\":\"solid\"},\"marker\":{\"symbol\":\"circle\"},\"mode\":\"lines\",\"name\":\"sp7r72_100\",\"orientation\":\"v\",\"showlegend\":true,\"x\":[0.0049569374999975935,0.004935937500000875],\"xaxis\":\"x\",\"y\":[0.01027523437500033,0.01027523437500033],\"yaxis\":\"y\",\"type\":\"scatter\"},{\"hovertemplate\":\"geohash2=sp7r78_101<br>lat_norm=%{x}<br>lon_norm=%{y}<extra></extra>\",\"legendgroup\":\"sp7r78_101\",\"line\":{\"color\":\"#EF553B\",\"dash\":\"solid\"},\"marker\":{\"symbol\":\"circle\"},\"mode\":\"lines\",\"name\":\"sp7r78_101\",\"orientation\":\"v\",\"showlegend\":true,\"x\":[0.004210937499998124,0.002970937500002435,0.0014249375000048303,0.0028299375000031546,0.004710937500000512],\"xaxis\":\"x\",\"y\":[0.0009269062500001368,0.003432906250000478,0.005052906250000433,0.006372906250000199,0.008371906249999839],\"yaxis\":\"y\",\"type\":\"scatter\"},{\"hovertemplate\":\"geohash2=sp7r7b_102<br>lat_norm=%{x}<br>lon_norm=%{y}<extra></extra>\",\"legendgroup\":\"sp7r7b_102\",\"line\":{\"color\":\"#00cc96\",\"dash\":\"solid\"},\"marker\":{\"symbol\":\"circle\"},\"mode\":\"lines\",\"name\":\"sp7r7b_102\",\"orientation\":\"v\",\"showlegend\":true,\"x\":[0.0046899375000037935,0.0038519374999950173,0.0032469374999948286,0.0033139374999962,0.0037429375000002096,0.004128937499999097,0.004003937499994947],\"xaxis\":\"x\",\"y\":[1.5781250004565095e-06,0.001482578124999634,0.002726578125000323,0.002858578125000122,0.003729578125000188,0.004626578125000336,0.005486578125000641],\"yaxis\":\"y\",\"type\":\"scatter\"},{\"hovertemplate\":\"geohash2=sp7r7c_103<br>lat_norm=%{x}<br>lon_norm=%{y}<extra></extra>\",\"legendgroup\":\"sp7r7c_103\",\"line\":{\"color\":\"#ab63fa\",\"dash\":\"solid\"},\"marker\":{\"symbol\":\"circle\"},\"mode\":\"lines\",\"name\":\"sp7r7c_103\",\"orientation\":\"v\",\"showlegend\":true,\"x\":[0.0010957734374983374,0.004160773437497767,0.004291773437500979,0.004291773437500979],\"xaxis\":\"x\",\"y\":[0.0057225781249998775,0.005748578124999959,0.005801578125000262,0.005828578124999595],\"yaxis\":\"y\",\"type\":\"scatter\"},{\"hovertemplate\":\"geohash2=sp7r7f_104<br>lat_norm=%{x}<br>lon_norm=%{y}<extra></extra>\",\"legendgroup\":\"sp7r7f_104\",\"line\":{\"color\":\"#FFA15A\",\"dash\":\"solid\"},\"marker\":{\"symbol\":\"circle\"},\"mode\":\"lines\",\"name\":\"sp7r7f_104\",\"orientation\":\"v\",\"showlegend\":true,\"x\":[0.000660609374996568,0.00267960937500078,0.004119609375003108,0.004949609374996555,0.005399609374997283],\"xaxis\":\"x\",\"y\":[0.005807578125000212,0.005892578124999659,0.006976578125000188,0.008208578125000088,0.009008578125],\"yaxis\":\"y\",\"type\":\"scatter\"},{\"hovertemplate\":\"geohash2=sp7rk4_105<br>lat_norm=%{x}<br>lon_norm=%{y}<extra></extra>\",\"legendgroup\":\"sp7rk4_105\",\"line\":{\"color\":\"#19d3f3\",\"dash\":\"solid\"},\"marker\":{\"symbol\":\"circle\"},\"mode\":\"lines\",\"name\":\"sp7rk4_105\",\"orientation\":\"v\",\"showlegend\":true,\"x\":[0.0041486093750009445,0.004912609374997601],\"xaxis\":\"x\",\"y\":[2.2499999996483666e-06,0.0007592499999997671],\"yaxis\":\"y\",\"type\":\"scatter\"},{\"hovertemplate\":\"geohash2=sp7rk5_106<br>lat_norm=%{x}<br>lon_norm=%{y}<extra></extra>\",\"legendgroup\":\"sp7rk5_106\",\"line\":{\"color\":\"#FF6692\",\"dash\":\"solid\"},\"marker\":{\"symbol\":\"circle\"},\"mode\":\"lines\",\"name\":\"sp7rk5_106\",\"orientation\":\"v\",\"showlegend\":true,\"x\":[0.00032844531250475484,0.0018914453125020714,0.002136445312501678,0.0021914453124978195,0.0022244453124997676,0.0013304453125044802,0.0013874453124955721,0.0013994453125008022,0.0018434453125024675,0.0010774453124966499,0.0005464453125014757,0.0008184453125039681,0.0007844453124974393],\"xaxis\":\"x\",\"y\":[0.001271250000000279,0.0020932499999997134,0.0022612500000001035,0.0023402500000004878,0.0026212499999997974,0.004146249999999796,0.0037242500000003176,0.0037592499999998807,0.003963249999999974,0.00406625000000016,0.003142249999999791,0.001519250000000305,0.0015102499999999353],\"yaxis\":\"y\",\"type\":\"scatter\"},{\"hovertemplate\":\"geohash2=sp7r7g_107<br>lat_norm=%{x}<br>lon_norm=%{y}<extra></extra>\",\"legendgroup\":\"sp7r7g_107\",\"line\":{\"color\":\"#B6E880\",\"dash\":\"solid\"},\"marker\":{\"symbol\":\"circle\"},\"mode\":\"lines\",\"name\":\"sp7r7g_107\",\"orientation\":\"v\",\"showlegend\":true,\"x\":[0.0017134453125038362,0.003759445312496723,0.004450445312507156],\"xaxis\":\"x\",\"y\":[0.010586578125000301,0.008662578124999598,0.008093578125],\"yaxis\":\"y\",\"type\":\"scatter\"},{\"hovertemplate\":\"geohash2=sp7r7u_108<br>lat_norm=%{x}<br>lon_norm=%{y}<extra></extra>\",\"legendgroup\":\"sp7r7u_108\",\"line\":{\"color\":\"#FF97FF\",\"dash\":\"solid\"},\"marker\":{\"symbol\":\"circle\"},\"mode\":\"lines\",\"name\":\"sp7r7u_108\",\"orientation\":\"v\",\"showlegend\":true,\"x\":[0.0010542812499991783,0.00313628125000065],\"xaxis\":\"x\",\"y\":[0.0074935781249996225,0.004910578125000065],\"yaxis\":\"y\",\"type\":\"scatter\"},{\"hovertemplate\":\"geohash2=sp7r7v_109<br>lat_norm=%{x}<br>lon_norm=%{y}<extra></extra>\",\"legendgroup\":\"sp7r7v_109\",\"line\":{\"color\":\"#FECB52\",\"dash\":\"solid\"},\"marker\":{\"symbol\":\"circle\"},\"mode\":\"lines\",\"name\":\"sp7r7v_109\",\"orientation\":\"v\",\"showlegend\":true,\"x\":[0.00021511718750133468,0.0032491171875008718],\"xaxis\":\"x\",\"y\":[0.0028475781250003607,0.0017425781249995609],\"yaxis\":\"y\",\"type\":\"scatter\"},{\"hovertemplate\":\"geohash2=sp7r7y_110<br>lat_norm=%{x}<br>lon_norm=%{y}<extra></extra>\",\"legendgroup\":\"sp7r7y_110\",\"line\":{\"color\":\"#636efa\",\"dash\":\"solid\"},\"marker\":{\"symbol\":\"circle\"},\"mode\":\"lines\",\"name\":\"sp7r7y_110\",\"orientation\":\"v\",\"showlegend\":true,\"x\":[0.0004749531249998995,0.0007819531249992906,0.0013989531250047094,0.0020769531249982265,0.003499953125000843],\"xaxis\":\"x\",\"y\":[0.0013395781250000738,0.0018325781249997064,0.0033795781250001156,0.0033115781250003806,0.0030785781249997868],\"yaxis\":\"y\",\"type\":\"scatter\"},{\"hovertemplate\":\"geohash2=sp7r7z_111<br>lat_norm=%{x}<br>lon_norm=%{y}<extra></extra>\",\"legendgroup\":\"sp7r7z_111\",\"line\":{\"color\":\"#EF553B\",\"dash\":\"solid\"},\"marker\":{\"symbol\":\"circle\"},\"mode\":\"lines\",\"name\":\"sp7r7z_111\",\"orientation\":\"v\",\"showlegend\":true,\"x\":[0.0005057890625010941,0.0019527890625070654,0.003432789062500774],\"xaxis\":\"x\",\"y\":[0.0022695781250003932,0.0013615781250004844,0.0004105781249998941],\"yaxis\":\"y\",\"type\":\"scatter\"},{\"hovertemplate\":\"geohash2=sp7r7x_112<br>lat_norm=%{x}<br>lon_norm=%{y}<extra></extra>\",\"legendgroup\":\"sp7r7x_112\",\"line\":{\"color\":\"#00cc96\",\"dash\":\"solid\"},\"marker\":{\"symbol\":\"circle\"},\"mode\":\"lines\",\"name\":\"sp7r7x_112\",\"orientation\":\"v\",\"showlegend\":true,\"x\":[0.004900789062503463],\"xaxis\":\"x\",\"y\":[0.010189906249999936],\"yaxis\":\"y\",\"type\":\"scatter\"},{\"hovertemplate\":\"geohash2=sp7re8_113<br>lat_norm=%{x}<br>lon_norm=%{y}<extra></extra>\",\"legendgroup\":\"sp7re8_113\",\"line\":{\"color\":\"#ab63fa\",\"dash\":\"solid\"},\"marker\":{\"symbol\":\"circle\"},\"mode\":\"lines\",\"name\":\"sp7re8_113\",\"orientation\":\"v\",\"showlegend\":true,\"x\":[0.0018916249999989532,0.0032836250000016776,0.005400625000000048],\"xaxis\":\"x\",\"y\":[0.007740906250000457,0.006814906249999808,0.007874906249999647],\"yaxis\":\"y\",\"type\":\"scatter\"},{\"hovertemplate\":\"geohash2=sp7re9_114<br>lat_norm=%{x}<br>lon_norm=%{y}<extra></extra>\",\"legendgroup\":\"sp7re9_114\",\"line\":{\"color\":\"#FFA15A\",\"dash\":\"solid\"},\"marker\":{\"symbol\":\"circle\"},\"mode\":\"lines\",\"name\":\"sp7re9_114\",\"orientation\":\"v\",\"showlegend\":true,\"x\":[0.0007864609375047849,0.0008754609375003497,0.00017946093750254022],\"xaxis\":\"x\",\"y\":[0.006781906249999636,0.006729906249999473,0.006104906250000042],\"yaxis\":\"y\",\"type\":\"scatter\"},{\"hovertemplate\":\"geohash2=sp7re8_115<br>lat_norm=%{x}<br>lon_norm=%{y}<extra></extra>\",\"legendgroup\":\"sp7re8_115\",\"line\":{\"color\":\"#19d3f3\",\"dash\":\"solid\"},\"marker\":{\"symbol\":\"circle\"},\"mode\":\"lines\",\"name\":\"sp7re8_115\",\"orientation\":\"v\",\"showlegend\":true,\"x\":[0.0045536249999997835,0.0034146250000048894,0.003104625000005967,0.002981624999996768,0.00296062500000005,0.0025066249999952106,0.0013676250000003165,0.0013696250000023724,0.002004625000004978,0.002549625000000333,0.003051624999997671],\"xaxis\":\"x\",\"y\":[0.005267906250000287,0.004114906249999883,0.004489906249999898,0.004576906249999624,0.004576906249999624,0.004942906250000156,0.003832906250000434,0.0029559062500004174,0.00191390625000043,0.0008709062500003029,1.2906250000277453e-05],\"yaxis\":\"y\",\"type\":\"scatter\"},{\"hovertemplate\":\"geohash2=sp7re2_116<br>lat_norm=%{x}<br>lon_norm=%{y}<extra></extra>\",\"legendgroup\":\"sp7re2_116\",\"line\":{\"color\":\"#FF6692\",\"dash\":\"solid\"},\"marker\":{\"symbol\":\"circle\"},\"mode\":\"lines\",\"name\":\"sp7re2_116\",\"orientation\":\"v\",\"showlegend\":true,\"x\":[0.0030866249999945694,0.003188624999999945,0.003713624999996057,0.0045376250000046525,0.005184625000005383,0.00540662499999911],\"xaxis\":\"x\",\"y\":[0.010867234375000479,0.010613234374999614,0.009299234374999799,0.008346234374999817,0.007277234375000496,0.006839234375000558],\"yaxis\":\"y\",\"type\":\"scatter\"},{\"hovertemplate\":\"geohash2=sp7re3_117<br>lat_norm=%{x}<br>lon_norm=%{y}<extra></extra>\",\"legendgroup\":\"sp7re3_117\",\"line\":{\"color\":\"#B6E880\",\"dash\":\"solid\"},\"marker\":{\"symbol\":\"circle\"},\"mode\":\"lines\",\"name\":\"sp7re3_117\",\"orientation\":\"v\",\"showlegend\":true,\"x\":[7.04609375006271e-05,0.00041546093749644797,0.0010074609375010368,0.0019364609375003283,0.00296746093749789,0.0038634609374952333,0.00489346093749532,0.004925460937499793,0.003628460937498801,0.0033104609374987604,0.003978460937496209,0.003715460937499415,0.003705460937496241,0.00292946093750146,0.0022204609375009454,0.0010254609374982238],\"xaxis\":\"x\",\"y\":[0.0066482343749996176,0.006167234374999886,0.00515123437499998,0.005576234374999878,0.006124234375000093,0.0066092343750003835,0.007218234375000243,0.007832234374999913,0.007073234374999515,0.00623023437499981,0.005109234375000327,0.004126234374999704,0.0031792343750005614,0.0023432343750000584,0.0018482343750001462,0.0011082343749997392],\"yaxis\":\"y\",\"type\":\"scatter\"},{\"hovertemplate\":\"geohash2=sp7re2_118<br>lat_norm=%{x}<br>lon_norm=%{y}<extra></extra>\",\"legendgroup\":\"sp7re2_118\",\"line\":{\"color\":\"#FF97FF\",\"dash\":\"solid\"},\"marker\":{\"symbol\":\"circle\"},\"mode\":\"lines\",\"name\":\"sp7re2_118\",\"orientation\":\"v\",\"showlegend\":true,\"x\":[0.004845625000001519],\"xaxis\":\"x\",\"y\":[0.00011123437499982458],\"yaxis\":\"y\",\"type\":\"scatter\"},{\"hovertemplate\":\"geohash2=sp7re0_119<br>lat_norm=%{x}<br>lon_norm=%{y}<extra></extra>\",\"legendgroup\":\"sp7re0_119\",\"line\":{\"color\":\"#FECB52\",\"dash\":\"solid\"},\"marker\":{\"symbol\":\"circle\"},\"mode\":\"lines\",\"name\":\"sp7re0_119\",\"orientation\":\"v\",\"showlegend\":true,\"x\":[0.003117625000001567,0.0013706249999998477,0.0003846250000023588],\"xaxis\":\"x\",\"y\":[0.01010056249999991,0.008690562499999999,0.00869556249999981],\"yaxis\":\"y\",\"type\":\"scatter\"},{\"hovertemplate\":\"geohash2=sp7r7p_120<br>lat_norm=%{x}<br>lon_norm=%{y}<extra></extra>\",\"legendgroup\":\"sp7r7p_120\",\"line\":{\"color\":\"#636efa\",\"dash\":\"solid\"},\"marker\":{\"symbol\":\"circle\"},\"mode\":\"lines\",\"name\":\"sp7r7p_120\",\"orientation\":\"v\",\"showlegend\":true,\"x\":[0.0052537890625004025,0.005164789062497732,0.004553789062498481,0.003950789062500348],\"xaxis\":\"x\",\"y\":[0.009140562499999838,0.00916656249999992,0.00963856250000017,0.01026656250000002],\"yaxis\":\"y\",\"type\":\"scatter\"},{\"hovertemplate\":\"geohash2=sp7r7r_121<br>lat_norm=%{x}<br>lon_norm=%{y}<extra></extra>\",\"legendgroup\":\"sp7r7r_121\",\"line\":{\"color\":\"#EF553B\",\"dash\":\"solid\"},\"marker\":{\"symbol\":\"circle\"},\"mode\":\"lines\",\"name\":\"sp7r7r_121\",\"orientation\":\"v\",\"showlegend\":true,\"x\":[0.0023367890624967913,0.0005577890625048099],\"xaxis\":\"x\",\"y\":[0.0008012343749994599,0.002524234375000489],\"yaxis\":\"y\",\"type\":\"scatter\"},{\"hovertemplate\":\"geohash2=sp7r7q_122<br>lat_norm=%{x}<br>lon_norm=%{y}<extra></extra>\",\"legendgroup\":\"sp7r7q_122\",\"line\":{\"color\":\"#00cc96\",\"dash\":\"solid\"},\"marker\":{\"symbol\":\"circle\"},\"mode\":\"lines\",\"name\":\"sp7r7q_122\",\"orientation\":\"v\",\"showlegend\":true,\"x\":[0.004122953124998219,0.002606953125003031,0.0013839531249999482],\"xaxis\":\"x\",\"y\":[0.004263234375000202,0.005679234375000064,0.0069912343749996],\"yaxis\":\"y\",\"type\":\"scatter\"},{\"hovertemplate\":\"geohash2=sp7r7m_123<br>lat_norm=%{x}<br>lon_norm=%{y}<extra></extra>\",\"legendgroup\":\"sp7r7m_123\",\"line\":{\"color\":\"#ab63fa\",\"dash\":\"solid\"},\"marker\":{\"symbol\":\"circle\"},\"mode\":\"lines\",\"name\":\"sp7r7m_123\",\"orientation\":\"v\",\"showlegend\":true,\"x\":[0.005013117187495197,0.0035911171874971615,0.0032881171874947768,0.0031291171875054147,0.002859117187504978,0.0028351171875016234],\"xaxis\":\"x\",\"y\":[0.007458234375000039,0.007366234374999614,0.008077234375000408,0.008682234374999709,0.009831234374999553,0.0105432343749996],\"yaxis\":\"y\",\"type\":\"scatter\"},{\"hovertemplate\":\"geohash2=sp7r7t_124<br>lat_norm=%{x}<br>lon_norm=%{y}<extra></extra>\",\"legendgroup\":\"sp7r7t_124\",\"line\":{\"color\":\"#FFA15A\",\"dash\":\"solid\"},\"marker\":{\"symbol\":\"circle\"},\"mode\":\"lines\",\"name\":\"sp7r7t_124\",\"orientation\":\"v\",\"showlegend\":true,\"x\":[0.002353117187496423,0.0021611171874980073,0.0011811171874995807,0.00010511718750194632],\"xaxis\":\"x\",\"y\":[0.0007489062500001253,0.0012569062500000783,0.001805906250000433,0.0020999062499997834],\"yaxis\":\"y\",\"type\":\"scatter\"},{\"hovertemplate\":\"geohash2=sp7r7s_125<br>lat_norm=%{x}<br>lon_norm=%{y}<extra></extra>\",\"legendgroup\":\"sp7r7s_125\",\"line\":{\"color\":\"#19d3f3\",\"dash\":\"solid\"},\"marker\":{\"symbol\":\"circle\"},\"mode\":\"lines\",\"name\":\"sp7r7s_125\",\"orientation\":\"v\",\"showlegend\":true,\"x\":[0.0046332812500011755,0.004154281249995506,0.004286281249996193,0.00399828124999857,0.0034872812500026384,0.003134281249998594,0.0022712812499960933,0.0018822812500047803,0.001772281250005392,0.001594281249992946,0.0012482812499996498,0.0011152812500014875,0.0004142812499949855],\"xaxis\":\"x\",\"y\":[0.0021669062500002667,0.002297906249999926,0.0022119062499994513,0.0022109062500001997,0.0018919062500000194,0.0009439062499998485,0.0010029062500001018,0.0008519062500003116,0.0008249062500000903,0.000929906249999668,0.0016759062500000255,0.002324906250000147,0.003077906250000595],\"yaxis\":\"y\",\"type\":\"scatter\"},{\"hovertemplate\":\"geohash2=sp7r7e_126<br>lat_norm=%{x}<br>lon_norm=%{y}<extra></extra>\",\"legendgroup\":\"sp7r7e_126\",\"line\":{\"color\":\"#FF6692\",\"dash\":\"solid\"},\"marker\":{\"symbol\":\"circle\"},\"mode\":\"lines\",\"name\":\"sp7r7e_126\",\"orientation\":\"v\",\"showlegend\":true,\"x\":[0.005176445312500277],\"xaxis\":\"x\",\"y\":[0.002801906250000208],\"yaxis\":\"y\",\"type\":\"scatter\"}],                        {\"template\":{\"data\":{\"histogram2dcontour\":[{\"type\":\"histogram2dcontour\",\"colorbar\":{\"outlinewidth\":0,\"ticks\":\"\"},\"colorscale\":[[0.0,\"#0d0887\"],[0.1111111111111111,\"#46039f\"],[0.2222222222222222,\"#7201a8\"],[0.3333333333333333,\"#9c179e\"],[0.4444444444444444,\"#bd3786\"],[0.5555555555555556,\"#d8576b\"],[0.6666666666666666,\"#ed7953\"],[0.7777777777777778,\"#fb9f3a\"],[0.8888888888888888,\"#fdca26\"],[1.0,\"#f0f921\"]]}],\"choropleth\":[{\"type\":\"choropleth\",\"colorbar\":{\"outlinewidth\":0,\"ticks\":\"\"}}],\"histogram2d\":[{\"type\":\"histogram2d\",\"colorbar\":{\"outlinewidth\":0,\"ticks\":\"\"},\"colorscale\":[[0.0,\"#0d0887\"],[0.1111111111111111,\"#46039f\"],[0.2222222222222222,\"#7201a8\"],[0.3333333333333333,\"#9c179e\"],[0.4444444444444444,\"#bd3786\"],[0.5555555555555556,\"#d8576b\"],[0.6666666666666666,\"#ed7953\"],[0.7777777777777778,\"#fb9f3a\"],[0.8888888888888888,\"#fdca26\"],[1.0,\"#f0f921\"]]}],\"heatmap\":[{\"type\":\"heatmap\",\"colorbar\":{\"outlinewidth\":0,\"ticks\":\"\"},\"colorscale\":[[0.0,\"#0d0887\"],[0.1111111111111111,\"#46039f\"],[0.2222222222222222,\"#7201a8\"],[0.3333333333333333,\"#9c179e\"],[0.4444444444444444,\"#bd3786\"],[0.5555555555555556,\"#d8576b\"],[0.6666666666666666,\"#ed7953\"],[0.7777777777777778,\"#fb9f3a\"],[0.8888888888888888,\"#fdca26\"],[1.0,\"#f0f921\"]]}],\"heatmapgl\":[{\"type\":\"heatmapgl\",\"colorbar\":{\"outlinewidth\":0,\"ticks\":\"\"},\"colorscale\":[[0.0,\"#0d0887\"],[0.1111111111111111,\"#46039f\"],[0.2222222222222222,\"#7201a8\"],[0.3333333333333333,\"#9c179e\"],[0.4444444444444444,\"#bd3786\"],[0.5555555555555556,\"#d8576b\"],[0.6666666666666666,\"#ed7953\"],[0.7777777777777778,\"#fb9f3a\"],[0.8888888888888888,\"#fdca26\"],[1.0,\"#f0f921\"]]}],\"contourcarpet\":[{\"type\":\"contourcarpet\",\"colorbar\":{\"outlinewidth\":0,\"ticks\":\"\"}}],\"contour\":[{\"type\":\"contour\",\"colorbar\":{\"outlinewidth\":0,\"ticks\":\"\"},\"colorscale\":[[0.0,\"#0d0887\"],[0.1111111111111111,\"#46039f\"],[0.2222222222222222,\"#7201a8\"],[0.3333333333333333,\"#9c179e\"],[0.4444444444444444,\"#bd3786\"],[0.5555555555555556,\"#d8576b\"],[0.6666666666666666,\"#ed7953\"],[0.7777777777777778,\"#fb9f3a\"],[0.8888888888888888,\"#fdca26\"],[1.0,\"#f0f921\"]]}],\"surface\":[{\"type\":\"surface\",\"colorbar\":{\"outlinewidth\":0,\"ticks\":\"\"},\"colorscale\":[[0.0,\"#0d0887\"],[0.1111111111111111,\"#46039f\"],[0.2222222222222222,\"#7201a8\"],[0.3333333333333333,\"#9c179e\"],[0.4444444444444444,\"#bd3786\"],[0.5555555555555556,\"#d8576b\"],[0.6666666666666666,\"#ed7953\"],[0.7777777777777778,\"#fb9f3a\"],[0.8888888888888888,\"#fdca26\"],[1.0,\"#f0f921\"]]}],\"mesh3d\":[{\"type\":\"mesh3d\",\"colorbar\":{\"outlinewidth\":0,\"ticks\":\"\"}}],\"scatter\":[{\"fillpattern\":{\"fillmode\":\"overlay\",\"size\":10,\"solidity\":0.2},\"type\":\"scatter\"}],\"parcoords\":[{\"type\":\"parcoords\",\"line\":{\"colorbar\":{\"outlinewidth\":0,\"ticks\":\"\"}}}],\"scatterpolargl\":[{\"type\":\"scatterpolargl\",\"marker\":{\"colorbar\":{\"outlinewidth\":0,\"ticks\":\"\"}}}],\"bar\":[{\"error_x\":{\"color\":\"#2a3f5f\"},\"error_y\":{\"color\":\"#2a3f5f\"},\"marker\":{\"line\":{\"color\":\"#E5ECF6\",\"width\":0.5},\"pattern\":{\"fillmode\":\"overlay\",\"size\":10,\"solidity\":0.2}},\"type\":\"bar\"}],\"scattergeo\":[{\"type\":\"scattergeo\",\"marker\":{\"colorbar\":{\"outlinewidth\":0,\"ticks\":\"\"}}}],\"scatterpolar\":[{\"type\":\"scatterpolar\",\"marker\":{\"colorbar\":{\"outlinewidth\":0,\"ticks\":\"\"}}}],\"histogram\":[{\"marker\":{\"pattern\":{\"fillmode\":\"overlay\",\"size\":10,\"solidity\":0.2}},\"type\":\"histogram\"}],\"scattergl\":[{\"type\":\"scattergl\",\"marker\":{\"colorbar\":{\"outlinewidth\":0,\"ticks\":\"\"}}}],\"scatter3d\":[{\"type\":\"scatter3d\",\"line\":{\"colorbar\":{\"outlinewidth\":0,\"ticks\":\"\"}},\"marker\":{\"colorbar\":{\"outlinewidth\":0,\"ticks\":\"\"}}}],\"scattermapbox\":[{\"type\":\"scattermapbox\",\"marker\":{\"colorbar\":{\"outlinewidth\":0,\"ticks\":\"\"}}}],\"scatterternary\":[{\"type\":\"scatterternary\",\"marker\":{\"colorbar\":{\"outlinewidth\":0,\"ticks\":\"\"}}}],\"scattercarpet\":[{\"type\":\"scattercarpet\",\"marker\":{\"colorbar\":{\"outlinewidth\":0,\"ticks\":\"\"}}}],\"carpet\":[{\"aaxis\":{\"endlinecolor\":\"#2a3f5f\",\"gridcolor\":\"white\",\"linecolor\":\"white\",\"minorgridcolor\":\"white\",\"startlinecolor\":\"#2a3f5f\"},\"baxis\":{\"endlinecolor\":\"#2a3f5f\",\"gridcolor\":\"white\",\"linecolor\":\"white\",\"minorgridcolor\":\"white\",\"startlinecolor\":\"#2a3f5f\"},\"type\":\"carpet\"}],\"table\":[{\"cells\":{\"fill\":{\"color\":\"#EBF0F8\"},\"line\":{\"color\":\"white\"}},\"header\":{\"fill\":{\"color\":\"#C8D4E3\"},\"line\":{\"color\":\"white\"}},\"type\":\"table\"}],\"barpolar\":[{\"marker\":{\"line\":{\"color\":\"#E5ECF6\",\"width\":0.5},\"pattern\":{\"fillmode\":\"overlay\",\"size\":10,\"solidity\":0.2}},\"type\":\"barpolar\"}],\"pie\":[{\"automargin\":true,\"type\":\"pie\"}]},\"layout\":{\"autotypenumbers\":\"strict\",\"colorway\":[\"#636efa\",\"#EF553B\",\"#00cc96\",\"#ab63fa\",\"#FFA15A\",\"#19d3f3\",\"#FF6692\",\"#B6E880\",\"#FF97FF\",\"#FECB52\"],\"font\":{\"color\":\"#2a3f5f\"},\"hovermode\":\"closest\",\"hoverlabel\":{\"align\":\"left\"},\"paper_bgcolor\":\"white\",\"plot_bgcolor\":\"#E5ECF6\",\"polar\":{\"bgcolor\":\"#E5ECF6\",\"angularaxis\":{\"gridcolor\":\"white\",\"linecolor\":\"white\",\"ticks\":\"\"},\"radialaxis\":{\"gridcolor\":\"white\",\"linecolor\":\"white\",\"ticks\":\"\"}},\"ternary\":{\"bgcolor\":\"#E5ECF6\",\"aaxis\":{\"gridcolor\":\"white\",\"linecolor\":\"white\",\"ticks\":\"\"},\"baxis\":{\"gridcolor\":\"white\",\"linecolor\":\"white\",\"ticks\":\"\"},\"caxis\":{\"gridcolor\":\"white\",\"linecolor\":\"white\",\"ticks\":\"\"}},\"coloraxis\":{\"colorbar\":{\"outlinewidth\":0,\"ticks\":\"\"}},\"colorscale\":{\"sequential\":[[0.0,\"#0d0887\"],[0.1111111111111111,\"#46039f\"],[0.2222222222222222,\"#7201a8\"],[0.3333333333333333,\"#9c179e\"],[0.4444444444444444,\"#bd3786\"],[0.5555555555555556,\"#d8576b\"],[0.6666666666666666,\"#ed7953\"],[0.7777777777777778,\"#fb9f3a\"],[0.8888888888888888,\"#fdca26\"],[1.0,\"#f0f921\"]],\"sequentialminus\":[[0.0,\"#0d0887\"],[0.1111111111111111,\"#46039f\"],[0.2222222222222222,\"#7201a8\"],[0.3333333333333333,\"#9c179e\"],[0.4444444444444444,\"#bd3786\"],[0.5555555555555556,\"#d8576b\"],[0.6666666666666666,\"#ed7953\"],[0.7777777777777778,\"#fb9f3a\"],[0.8888888888888888,\"#fdca26\"],[1.0,\"#f0f921\"]],\"diverging\":[[0,\"#8e0152\"],[0.1,\"#c51b7d\"],[0.2,\"#de77ae\"],[0.3,\"#f1b6da\"],[0.4,\"#fde0ef\"],[0.5,\"#f7f7f7\"],[0.6,\"#e6f5d0\"],[0.7,\"#b8e186\"],[0.8,\"#7fbc41\"],[0.9,\"#4d9221\"],[1,\"#276419\"]]},\"xaxis\":{\"gridcolor\":\"white\",\"linecolor\":\"white\",\"ticks\":\"\",\"title\":{\"standoff\":15},\"zerolinecolor\":\"white\",\"automargin\":true,\"zerolinewidth\":2},\"yaxis\":{\"gridcolor\":\"white\",\"linecolor\":\"white\",\"ticks\":\"\",\"title\":{\"standoff\":15},\"zerolinecolor\":\"white\",\"automargin\":true,\"zerolinewidth\":2},\"scene\":{\"xaxis\":{\"backgroundcolor\":\"#E5ECF6\",\"gridcolor\":\"white\",\"linecolor\":\"white\",\"showbackground\":true,\"ticks\":\"\",\"zerolinecolor\":\"white\",\"gridwidth\":2},\"yaxis\":{\"backgroundcolor\":\"#E5ECF6\",\"gridcolor\":\"white\",\"linecolor\":\"white\",\"showbackground\":true,\"ticks\":\"\",\"zerolinecolor\":\"white\",\"gridwidth\":2},\"zaxis\":{\"backgroundcolor\":\"#E5ECF6\",\"gridcolor\":\"white\",\"linecolor\":\"white\",\"showbackground\":true,\"ticks\":\"\",\"zerolinecolor\":\"white\",\"gridwidth\":2}},\"shapedefaults\":{\"line\":{\"color\":\"#2a3f5f\"}},\"annotationdefaults\":{\"arrowcolor\":\"#2a3f5f\",\"arrowhead\":0,\"arrowwidth\":1},\"geo\":{\"bgcolor\":\"white\",\"landcolor\":\"#E5ECF6\",\"subunitcolor\":\"white\",\"showland\":true,\"showlakes\":true,\"lakecolor\":\"white\"},\"title\":{\"x\":0.05},\"mapbox\":{\"style\":\"light\"}}},\"xaxis\":{\"anchor\":\"y\",\"domain\":[0.0,1.0],\"title\":{\"text\":\"lat_norm\"}},\"yaxis\":{\"anchor\":\"x\",\"domain\":[0.0,1.0],\"title\":{\"text\":\"lon_norm\"}},\"legend\":{\"title\":{\"text\":\"geohash2\"},\"tracegroupgap\":0},\"margin\":{\"t\":60}},                        {\"responsive\": true}                    ).then(function(){\n",
       "                            \n",
       "var gd = document.getElementById('456d9720-b549-4de0-b0ae-9929e900eacd');\n",
       "var x = new MutationObserver(function (mutations, observer) {{\n",
       "        var display = window.getComputedStyle(gd).display;\n",
       "        if (!display || display === 'none') {{\n",
       "            console.log([gd, 'removed!']);\n",
       "            Plotly.purge(gd);\n",
       "            observer.disconnect();\n",
       "        }}\n",
       "}});\n",
       "\n",
       "// Listen for the removal of the full notebook cells\n",
       "var notebookContainer = gd.closest('#notebook-container');\n",
       "if (notebookContainer) {{\n",
       "    x.observe(notebookContainer, {childList: true});\n",
       "}}\n",
       "\n",
       "// Listen for the clearing of the current output cell\n",
       "var outputEl = gd.closest('.output');\n",
       "if (outputEl) {{\n",
       "    x.observe(outputEl, {childList: true});\n",
       "}}\n",
       "\n",
       "                        })                };                });            </script>        </div>"
      ]
     },
     "metadata": {},
     "output_type": "display_data"
    }
   ],
   "source": [
    "px.line(df[df.tid==1], x=\"lat_norm\", y=\"lon_norm\", color=\"geohash2\")"
   ]
  },
  {
   "cell_type": "code",
   "execution_count": 69,
   "metadata": {
    "pycharm": {
     "name": "#%%\n"
    }
   },
   "outputs": [
    {
     "data": {
      "application/vnd.plotly.v1+json": {
       "config": {
        "plotlyServerURL": "https://plot.ly"
       },
       "data": [
        {
         "hovertemplate": "t=%{x}<br>c1=%{y}<br>c2=%{z}<extra></extra>",
         "legendgroup": "",
         "line": {
          "color": "#636efa",
          "dash": "solid"
         },
         "marker": {
          "symbol": "circle"
         },
         "mode": "lines",
         "name": "",
         "scene": "scene",
         "showlegend": false,
         "type": "scatter3d",
         "x": [
          0,
          30,
          960,
          990,
          1020,
          1050,
          1080,
          1230,
          1260,
          1290,
          1320,
          1350,
          1380,
          1410,
          1440,
          1470,
          1500,
          1530,
          1560,
          1590,
          1620,
          1650,
          1680,
          1710,
          1740,
          1770,
          1800,
          1830,
          1860,
          1890,
          1920,
          1950,
          1980,
          2010,
          2040,
          2070,
          2100,
          2160,
          2190,
          2220,
          2250,
          2280,
          2310,
          2340,
          2370,
          2400,
          2430,
          2460,
          2490,
          2520,
          4170,
          4200,
          4230,
          4260,
          4290,
          4320,
          4350,
          5130,
          5160,
          5190,
          5220,
          5250,
          5280,
          5310,
          5340,
          5370,
          5400,
          5430,
          5460,
          5490,
          5520,
          5550,
          5580,
          5610,
          5640,
          5730,
          5760,
          5790,
          5850,
          5880,
          5910,
          5940,
          5970,
          6000,
          6030,
          6060,
          6090,
          6120,
          6480,
          6510,
          6540,
          6570,
          6600,
          6630,
          6660,
          6690,
          6720,
          6750,
          6780,
          6810,
          6840,
          6870,
          6900,
          6930,
          6960,
          6990,
          7020,
          7050,
          7080,
          7110,
          7140,
          7170,
          7200,
          8250,
          8280,
          8310,
          8340,
          8370,
          8400,
          8430,
          8460,
          8490,
          8520,
          8550,
          8580,
          8610,
          8640,
          8670,
          8730,
          8760,
          8790,
          8820,
          8850,
          8880,
          8910,
          8940,
          8970,
          9000,
          9030,
          9060,
          9300,
          9330,
          9360,
          9390,
          9420,
          9450,
          9480,
          9510,
          9540,
          9570,
          9990,
          10020,
          10050,
          10080,
          10110,
          10170,
          10200,
          10230,
          10260,
          10290,
          10320,
          10350,
          10380,
          10410,
          10920,
          10950,
          10980,
          11010,
          11160,
          11190,
          11220,
          11250,
          11340,
          11370,
          11400,
          11430,
          11460,
          11580,
          11610,
          11640,
          11670,
          11700,
          11730,
          11760,
          11790,
          11820,
          11850,
          11880,
          11970,
          12000,
          12030,
          12060,
          12090,
          12120,
          12150,
          12180,
          12210,
          12240,
          12270,
          12300,
          12330,
          12360,
          12540,
          12570,
          12600,
          12630,
          12660,
          12690,
          13050,
          13080,
          13110,
          13140,
          13170,
          13200,
          13230,
          13260,
          13290,
          13320,
          13350,
          13380,
          13410,
          13440,
          13470,
          13500,
          13530,
          13560,
          13590,
          13620,
          13650,
          13680,
          13710,
          13770,
          13800,
          13830,
          13860,
          13890,
          13920,
          13950,
          13980,
          14010,
          14040,
          14070,
          14100,
          14130,
          14160,
          14190,
          14220,
          14250,
          14280,
          14310,
          14340,
          14370,
          14400,
          14430,
          14460,
          14490,
          14520,
          14550,
          14610,
          14640,
          14670,
          14700,
          14730,
          14760,
          14790,
          14820,
          14850,
          14880,
          14910,
          15150,
          15180,
          15210,
          15240,
          16290,
          16320,
          16350,
          16380,
          16410,
          16470,
          16500,
          16530,
          16560,
          16590,
          16620,
          16650,
          16680,
          16710,
          16740,
          16770,
          16800,
          16830,
          16860,
          16890,
          16920,
          16950,
          16980,
          17010,
          17040,
          17070,
          17640,
          17670,
          17700,
          17730,
          17760,
          17790,
          17850,
          17880,
          17910,
          17940,
          17970,
          18000,
          18030,
          18120,
          18150,
          18180,
          18210,
          18240,
          18270,
          19080,
          19110,
          19140,
          19170,
          19200,
          19230,
          19260,
          19290,
          19320,
          19350,
          19380,
          19410,
          19440,
          19470,
          19500,
          19530,
          19560,
          19590,
          19620,
          19650,
          19680,
          19800,
          19830,
          19860,
          19890,
          19920,
          19950,
          19980,
          20010,
          20040,
          20070,
          20100,
          20130,
          20160,
          20190,
          20220,
          20250,
          20280,
          20310,
          20340,
          20370,
          20580,
          20610,
          20640,
          20670,
          20700,
          20730,
          20760,
          20790,
          20820,
          20850,
          20880
         ],
         "y": [
          42.203306,
          42.20334,
          42.203250999999995,
          42.202417000000004,
          42.201964000000004,
          42.202035,
          42.202000999999996,
          42.201668,
          42.198652,
          42.194761,
          42.190617,
          42.187205999999996,
          42.184959000000006,
          42.182123,
          42.18012,
          42.176131,
          42.172531,
          42.172255,
          42.171433,
          42.170657,
          42.168413,
          42.165905,
          42.163295999999995,
          42.159365,
          42.155662,
          42.151008,
          42.145843,
          42.141000999999996,
          42.137831,
          42.135180999999996,
          42.132422999999996,
          42.12961,
          42.125693,
          42.12037599999999,
          42.114832,
          42.110965,
          42.110952999999995,
          42.110543,
          42.106515,
          42.101440999999994,
          42.09579900000001,
          42.090547,
          42.085381,
          42.08037,
          42.075562000000005,
          42.071643,
          42.072149,
          42.072720999999994,
          42.07365,
          42.073772999999996,
          42.072932,
          42.07289,
          42.071782,
          42.071065,
          42.072137000000005,
          42.072551,
          42.072594,
          42.072671,
          42.073017,
          42.075169,
          42.076312,
          42.077474,
          42.079579,
          42.08051,
          42.080996,
          42.082727,
          42.084925,
          42.087199000000005,
          42.089197999999996,
          42.090274,
          42.090430999999995,
          42.091875,
          42.093073,
          42.09445,
          42.094550999999996,
          42.095072,
          42.094986,
          42.09502,
          42.095,
          42.094891,
          42.096666,
          42.099042000000004,
          42.101278,
          42.102320999999996,
          42.102602999999995,
          42.102004,
          42.101915999999996,
          42.101917,
          42.102762,
          42.104121,
          42.104842999999995,
          42.106045,
          42.106202,
          42.106203,
          42.10656,
          42.105619000000004,
          42.104677,
          42.103648,
          42.102885,
          42.101957,
          42.100685,
          42.101256,
          42.102393,
          42.103162999999995,
          42.104347000000004,
          42.10602,
          42.106271,
          42.104530999999994,
          42.10317,
          42.101785,
          42.100115,
          42.099605,
          42.099571,
          42.09870599999999,
          42.09822,
          42.096262,
          42.09470400000001,
          42.092755,
          42.091328,
          42.089345,
          42.087202999999995,
          42.085642,
          42.085556,
          42.086403,
          42.086655,
          42.086439000000006,
          42.085864,
          42.085809000000005,
          42.085606,
          42.085422,
          42.085226,
          42.084532,
          42.083752000000004,
          42.082229000000005,
          42.081596,
          42.081215,
          42.080325,
          42.080067,
          42.079288,
          42.079131,
          42.078720999999994,
          42.07809099999999,
          42.076665,
          42.076308,
          42.076142999999995,
          42.075697999999996,
          42.07477900000001,
          42.076165,
          42.07641400000001,
          42.076502999999995,
          42.076815999999994,
          42.078126,
          42.078569,
          42.078565999999995,
          42.078689000000004,
          42.078320999999995,
          42.07820099999999,
          42.077279000000004,
          42.076294000000004,
          42.074906,
          42.074909000000005,
          42.075522,
          42.074627,
          42.074349000000005,
          42.074083,
          42.074127999999995,
          42.07432,
          42.074265999999994,
          42.074322,
          42.074814,
          42.075095999999995,
          42.075172,
          42.075531,
          42.07499,
          42.074158,
          42.073589000000005,
          42.073445,
          42.072724,
          42.071510999999994,
          42.07103,
          42.070665,
          42.07006,
          42.069369,
          42.069796,
          42.069801,
          42.069802,
          42.069590999999996,
          42.069570999999996,
          42.06864,
          42.06864,
          42.069418,
          42.069418,
          42.069900999999994,
          42.069824000000004,
          42.06938099999999,
          42.068413,
          42.068186,
          42.069095,
          42.07030400000001,
          42.071179,
          42.072075,
          42.072239,
          42.072916,
          42.074253,
          42.07459,
          42.073757,
          42.073435999999994,
          42.073435999999994,
          42.072990999999995,
          42.072687,
          42.072793,
          42.07345,
          42.074829,
          42.075807999999995,
          42.07646,
          42.07717,
          42.078015,
          42.078762000000005,
          42.079332,
          42.078705,
          42.077472,
          42.075258,
          42.07350099999999,
          42.070689,
          42.069810999999994,
          42.069209,
          42.069725999999996,
          42.069793,
          42.069776,
          42.06913599999999,
          42.069124,
          42.069871,
          42.070719000000004,
          42.071126,
          42.070995,
          42.069099,
          42.066793,
          42.065255,
          42.06343,
          42.061478,
          42.060621,
          42.0606,
          42.059875,
          42.058635,
          42.057089000000005,
          42.058494,
          42.060375,
          42.060354000000004,
          42.059515999999995,
          42.058910999999995,
          42.058977999999996,
          42.059407,
          42.059793,
          42.059667999999995,
          42.062253,
          42.065318,
          42.065449,
          42.065449,
          42.067311,
          42.06933,
          42.07077,
          42.0716,
          42.07205,
          42.070799,
          42.071563,
          42.072472000000005,
          42.074035,
          42.07428,
          42.074335,
          42.074368,
          42.073474000000004,
          42.073530999999996,
          42.073543,
          42.073987,
          42.073221,
          42.07269,
          42.072962000000004,
          42.072928,
          42.073857000000004,
          42.075903,
          42.07659400000001,
          42.078691,
          42.080773,
          42.083345,
          42.086379,
          42.089098,
          42.089405,
          42.090022000000005,
          42.0907,
          42.092123,
          42.094622,
          42.09606900000001,
          42.097549,
          42.099017,
          42.101501,
          42.102893,
          42.10501,
          42.105889000000005,
          42.105978,
          42.105282,
          42.104163,
          42.103024000000005,
          42.102714000000006,
          42.102591,
          42.10257,
          42.102115999999995,
          42.100977,
          42.100979,
          42.101614000000005,
          42.102159,
          42.102661,
          42.102695999999995,
          42.102798,
          42.103322999999996,
          42.104147000000005,
          42.104794000000005,
          42.105016,
          42.105173,
          42.105518,
          42.10611,
          42.107039,
          42.10807,
          42.108965999999995,
          42.109995999999995,
          42.110028,
          42.108731,
          42.108413,
          42.109080999999996,
          42.108818,
          42.108807999999996,
          42.108032,
          42.107323,
          42.106128,
          42.104455,
          42.102727,
          42.10098,
          42.099994,
          42.09937,
          42.099281,
          42.09867,
          42.098067,
          42.096453,
          42.094674000000005,
          42.092746,
          42.09123,
          42.090007,
          42.088142999999995,
          42.086721,
          42.086417999999995,
          42.086259000000005,
          42.085989000000005,
          42.085965,
          42.085482999999996,
          42.085291,
          42.084311,
          42.083235,
          42.08227,
          42.081790999999996,
          42.081922999999996,
          42.081635,
          42.081124,
          42.080771,
          42.079907999999996,
          42.079519000000005,
          42.079409000000005,
          42.07923099999999,
          42.078885,
          42.078752,
          42.078050999999995,
          42.07732
         ],
         "z": [
          4.860508,
          4.860333,
          4.860684,
          4.860875,
          4.860453,
          4.858893,
          4.858760999999999,
          4.858025,
          4.8568359999999995,
          4.855383,
          4.852992,
          4.850224,
          4.847968,
          4.84563,
          4.843785,
          4.840726,
          4.837388,
          4.835871,
          4.8360970000000005,
          4.834938,
          4.8307590000000005,
          4.825774,
          4.820585,
          4.816667,
          4.814457,
          4.811553,
          4.808393,
          4.804785,
          4.799725,
          4.794499,
          4.789063,
          4.783608,
          4.779326,
          4.776618,
          4.77476,
          4.772565999999999,
          4.772558,
          4.772205,
          4.768728,
          4.765301,
          4.763715,
          4.760831,
          4.758745,
          4.757115,
          4.754001,
          4.7513559999999995,
          4.749181,
          4.74762,
          4.7480970000000005,
          4.748114,
          4.747646,
          4.747681,
          4.747169,
          4.7465790000000005,
          4.744669,
          4.7437309999999995,
          4.743493,
          4.74309,
          4.742265,
          4.742711,
          4.74296,
          4.743411,
          4.7442,
          4.744378,
          4.744537,
          4.744648,
          4.744154,
          4.743785,
          4.7434140000000005,
          4.74319,
          4.743199000000001,
          4.742941,
          4.742769,
          4.74251,
          4.74251,
          4.742425,
          4.741521,
          4.741486,
          4.7410820000000005,
          4.740722,
          4.7403059999999995,
          4.739664,
          4.738145,
          4.737393,
          4.736666,
          4.736067,
          4.735804,
          4.735611,
          4.734737,
          4.733205,
          4.732523,
          4.731149,
          4.7309470000000005,
          4.730912,
          4.730272,
          4.72955,
          4.728932,
          4.727657,
          4.726883,
          4.7260029999999995,
          4.725244,
          4.724095999999999,
          4.72216,
          4.720864000000001,
          4.718744,
          4.715898,
          4.714459000000001,
          4.713436,
          4.712668,
          4.711881,
          4.710006,
          4.709627,
          4.709425,
          4.710106,
          4.71215,
          4.714083,
          4.715517,
          4.71731,
          4.718656,
          4.720475,
          4.7206079999999995,
          4.719172,
          4.718197,
          4.716874,
          4.715067,
          4.713724,
          4.71373,
          4.713608,
          4.7147570000000005,
          4.716565,
          4.71839,
          4.719405999999999,
          4.7199040000000005,
          4.720925,
          4.721388,
          4.722878,
          4.723121,
          4.724262,
          4.72426,
          4.724462,
          4.72446,
          4.724204,
          4.725428,
          4.7257240000000005,
          4.725846,
          4.7257929999999995,
          4.724772,
          4.721766,
          4.720687,
          4.720582,
          4.719441,
          4.718788,
          4.719317,
          4.719983,
          4.719931,
          4.719843,
          4.7190959999999995,
          4.719093,
          4.718713,
          4.718392,
          4.717785999999999,
          4.7166559999999995,
          4.715933,
          4.715599,
          4.715335,
          4.714615,
          4.714045,
          4.713983,
          4.713693,
          4.712141,
          4.711431,
          4.711369,
          4.710431,
          4.710069,
          4.7096979999999995,
          4.710205,
          4.7102129999999995,
          4.710738,
          4.711435,
          4.709607,
          4.708877,
          4.707418,
          4.7056070000000005,
          4.704485,
          4.702915,
          4.702809,
          4.702467,
          4.702397,
          4.70213,
          4.7021820000000005,
          4.702395999999999,
          4.702413,
          4.7010179999999995,
          4.697788,
          4.695206,
          4.692693,
          4.690997,
          4.691342,
          4.691794,
          4.692157,
          4.692502,
          4.692565,
          4.69269,
          4.691888,
          4.691072,
          4.690727,
          4.690577,
          4.690568,
          4.690865,
          4.6918109999999995,
          4.692795,
          4.692551,
          4.691669,
          4.691364,
          4.692333,
          4.692598,
          4.6918820000000006,
          4.691332,
          4.6905790000000005,
          4.689629,
          4.689932,
          4.69132,
          4.692437,
          4.694113,
          4.694443,
          4.6947920000000005,
          4.699122,
          4.701843,
          4.702985,
          4.7054409999999995,
          4.705457,
          4.707014,
          4.709028,
          4.710082,
          4.712382,
          4.714799,
          4.71717,
          4.718605,
          4.72032,
          4.722885,
          4.72341,
          4.72341,
          4.725048,
          4.7275540000000005,
          4.729174,
          4.730494,
          4.732493,
          4.7351090000000005,
          4.73659,
          4.737834,
          4.737966,
          4.738837,
          4.739734,
          4.740594000000001,
          4.74083,
          4.740856,
          4.740909,
          4.740936,
          4.740915,
          4.741,
          4.742084,
          4.743316,
          4.744116,
          4.746096,
          4.746853,
          4.747365,
          4.748187,
          4.748355,
          4.7484340000000005,
          4.748715,
          4.75024,
          4.749818,
          4.749853,
          4.750057,
          4.75016,
          4.749236,
          4.747613,
          4.747604,
          4.745694,
          4.74377,
          4.743201,
          4.742601,
          4.740018,
          4.737955,
          4.73685,
          4.736447,
          4.73694,
          4.738487,
          4.738419,
          4.738186,
          4.737377,
          4.7364690000000005,
          4.735518,
          4.734311,
          4.7318620000000005,
          4.730936,
          4.731996,
          4.730903,
          4.7308509999999995,
          4.730226,
          4.729389,
          4.728236,
          4.728611,
          4.728698,
          4.728698,
          4.729064,
          4.727954,
          4.727077,
          4.726035,
          4.724992,
          4.724134,
          4.7240020000000005,
          4.723748,
          4.722434,
          4.721481,
          4.7204120000000005,
          4.719974000000001,
          4.719783,
          4.719302,
          4.718286,
          4.718711,
          4.719259,
          4.719744,
          4.720353,
          4.720967,
          4.7202079999999995,
          4.719365,
          4.718244,
          4.717261,
          4.716314000000001,
          4.715478,
          4.714983,
          4.714243,
          4.713246,
          4.712249,
          4.710839,
          4.710844,
          4.711289,
          4.711315,
          4.711787,
          4.712415,
          4.7139359999999995,
          4.7156590000000005,
          4.717398,
          4.718814,
          4.720126,
          4.720593,
          4.720501,
          4.721212,
          4.721817,
          4.7229659999999996,
          4.723678,
          4.72487,
          4.725378,
          4.725927,
          4.726221,
          4.726288,
          4.726419,
          4.7263329999999995,
          4.726332,
          4.726013,
          4.725065,
          4.725124,
          4.724973,
          4.724946,
          4.725051,
          4.725797,
          4.726446,
          4.727199000000001,
          4.726923
         ]
        }
       ],
       "layout": {
        "legend": {
         "tracegroupgap": 0
        },
        "margin": {
         "t": 60
        },
        "scene": {
         "domain": {
          "x": [
           0,
           1
          ],
          "y": [
           0,
           1
          ]
         },
         "xaxis": {
          "title": {
           "text": "t"
          }
         },
         "yaxis": {
          "title": {
           "text": "c1"
          }
         },
         "zaxis": {
          "title": {
           "text": "c2"
          }
         }
        },
        "template": {
         "data": {
          "bar": [
           {
            "error_x": {
             "color": "#2a3f5f"
            },
            "error_y": {
             "color": "#2a3f5f"
            },
            "marker": {
             "line": {
              "color": "#E5ECF6",
              "width": 0.5
             },
             "pattern": {
              "fillmode": "overlay",
              "size": 10,
              "solidity": 0.2
             }
            },
            "type": "bar"
           }
          ],
          "barpolar": [
           {
            "marker": {
             "line": {
              "color": "#E5ECF6",
              "width": 0.5
             },
             "pattern": {
              "fillmode": "overlay",
              "size": 10,
              "solidity": 0.2
             }
            },
            "type": "barpolar"
           }
          ],
          "carpet": [
           {
            "aaxis": {
             "endlinecolor": "#2a3f5f",
             "gridcolor": "white",
             "linecolor": "white",
             "minorgridcolor": "white",
             "startlinecolor": "#2a3f5f"
            },
            "baxis": {
             "endlinecolor": "#2a3f5f",
             "gridcolor": "white",
             "linecolor": "white",
             "minorgridcolor": "white",
             "startlinecolor": "#2a3f5f"
            },
            "type": "carpet"
           }
          ],
          "choropleth": [
           {
            "colorbar": {
             "outlinewidth": 0,
             "ticks": ""
            },
            "type": "choropleth"
           }
          ],
          "contour": [
           {
            "colorbar": {
             "outlinewidth": 0,
             "ticks": ""
            },
            "colorscale": [
             [
              0,
              "#0d0887"
             ],
             [
              0.1111111111111111,
              "#46039f"
             ],
             [
              0.2222222222222222,
              "#7201a8"
             ],
             [
              0.3333333333333333,
              "#9c179e"
             ],
             [
              0.4444444444444444,
              "#bd3786"
             ],
             [
              0.5555555555555556,
              "#d8576b"
             ],
             [
              0.6666666666666666,
              "#ed7953"
             ],
             [
              0.7777777777777778,
              "#fb9f3a"
             ],
             [
              0.8888888888888888,
              "#fdca26"
             ],
             [
              1,
              "#f0f921"
             ]
            ],
            "type": "contour"
           }
          ],
          "contourcarpet": [
           {
            "colorbar": {
             "outlinewidth": 0,
             "ticks": ""
            },
            "type": "contourcarpet"
           }
          ],
          "heatmap": [
           {
            "colorbar": {
             "outlinewidth": 0,
             "ticks": ""
            },
            "colorscale": [
             [
              0,
              "#0d0887"
             ],
             [
              0.1111111111111111,
              "#46039f"
             ],
             [
              0.2222222222222222,
              "#7201a8"
             ],
             [
              0.3333333333333333,
              "#9c179e"
             ],
             [
              0.4444444444444444,
              "#bd3786"
             ],
             [
              0.5555555555555556,
              "#d8576b"
             ],
             [
              0.6666666666666666,
              "#ed7953"
             ],
             [
              0.7777777777777778,
              "#fb9f3a"
             ],
             [
              0.8888888888888888,
              "#fdca26"
             ],
             [
              1,
              "#f0f921"
             ]
            ],
            "type": "heatmap"
           }
          ],
          "heatmapgl": [
           {
            "colorbar": {
             "outlinewidth": 0,
             "ticks": ""
            },
            "colorscale": [
             [
              0,
              "#0d0887"
             ],
             [
              0.1111111111111111,
              "#46039f"
             ],
             [
              0.2222222222222222,
              "#7201a8"
             ],
             [
              0.3333333333333333,
              "#9c179e"
             ],
             [
              0.4444444444444444,
              "#bd3786"
             ],
             [
              0.5555555555555556,
              "#d8576b"
             ],
             [
              0.6666666666666666,
              "#ed7953"
             ],
             [
              0.7777777777777778,
              "#fb9f3a"
             ],
             [
              0.8888888888888888,
              "#fdca26"
             ],
             [
              1,
              "#f0f921"
             ]
            ],
            "type": "heatmapgl"
           }
          ],
          "histogram": [
           {
            "marker": {
             "pattern": {
              "fillmode": "overlay",
              "size": 10,
              "solidity": 0.2
             }
            },
            "type": "histogram"
           }
          ],
          "histogram2d": [
           {
            "colorbar": {
             "outlinewidth": 0,
             "ticks": ""
            },
            "colorscale": [
             [
              0,
              "#0d0887"
             ],
             [
              0.1111111111111111,
              "#46039f"
             ],
             [
              0.2222222222222222,
              "#7201a8"
             ],
             [
              0.3333333333333333,
              "#9c179e"
             ],
             [
              0.4444444444444444,
              "#bd3786"
             ],
             [
              0.5555555555555556,
              "#d8576b"
             ],
             [
              0.6666666666666666,
              "#ed7953"
             ],
             [
              0.7777777777777778,
              "#fb9f3a"
             ],
             [
              0.8888888888888888,
              "#fdca26"
             ],
             [
              1,
              "#f0f921"
             ]
            ],
            "type": "histogram2d"
           }
          ],
          "histogram2dcontour": [
           {
            "colorbar": {
             "outlinewidth": 0,
             "ticks": ""
            },
            "colorscale": [
             [
              0,
              "#0d0887"
             ],
             [
              0.1111111111111111,
              "#46039f"
             ],
             [
              0.2222222222222222,
              "#7201a8"
             ],
             [
              0.3333333333333333,
              "#9c179e"
             ],
             [
              0.4444444444444444,
              "#bd3786"
             ],
             [
              0.5555555555555556,
              "#d8576b"
             ],
             [
              0.6666666666666666,
              "#ed7953"
             ],
             [
              0.7777777777777778,
              "#fb9f3a"
             ],
             [
              0.8888888888888888,
              "#fdca26"
             ],
             [
              1,
              "#f0f921"
             ]
            ],
            "type": "histogram2dcontour"
           }
          ],
          "mesh3d": [
           {
            "colorbar": {
             "outlinewidth": 0,
             "ticks": ""
            },
            "type": "mesh3d"
           }
          ],
          "parcoords": [
           {
            "line": {
             "colorbar": {
              "outlinewidth": 0,
              "ticks": ""
             }
            },
            "type": "parcoords"
           }
          ],
          "pie": [
           {
            "automargin": true,
            "type": "pie"
           }
          ],
          "scatter": [
           {
            "fillpattern": {
             "fillmode": "overlay",
             "size": 10,
             "solidity": 0.2
            },
            "type": "scatter"
           }
          ],
          "scatter3d": [
           {
            "line": {
             "colorbar": {
              "outlinewidth": 0,
              "ticks": ""
             }
            },
            "marker": {
             "colorbar": {
              "outlinewidth": 0,
              "ticks": ""
             }
            },
            "type": "scatter3d"
           }
          ],
          "scattercarpet": [
           {
            "marker": {
             "colorbar": {
              "outlinewidth": 0,
              "ticks": ""
             }
            },
            "type": "scattercarpet"
           }
          ],
          "scattergeo": [
           {
            "marker": {
             "colorbar": {
              "outlinewidth": 0,
              "ticks": ""
             }
            },
            "type": "scattergeo"
           }
          ],
          "scattergl": [
           {
            "marker": {
             "colorbar": {
              "outlinewidth": 0,
              "ticks": ""
             }
            },
            "type": "scattergl"
           }
          ],
          "scattermapbox": [
           {
            "marker": {
             "colorbar": {
              "outlinewidth": 0,
              "ticks": ""
             }
            },
            "type": "scattermapbox"
           }
          ],
          "scatterpolar": [
           {
            "marker": {
             "colorbar": {
              "outlinewidth": 0,
              "ticks": ""
             }
            },
            "type": "scatterpolar"
           }
          ],
          "scatterpolargl": [
           {
            "marker": {
             "colorbar": {
              "outlinewidth": 0,
              "ticks": ""
             }
            },
            "type": "scatterpolargl"
           }
          ],
          "scatterternary": [
           {
            "marker": {
             "colorbar": {
              "outlinewidth": 0,
              "ticks": ""
             }
            },
            "type": "scatterternary"
           }
          ],
          "surface": [
           {
            "colorbar": {
             "outlinewidth": 0,
             "ticks": ""
            },
            "colorscale": [
             [
              0,
              "#0d0887"
             ],
             [
              0.1111111111111111,
              "#46039f"
             ],
             [
              0.2222222222222222,
              "#7201a8"
             ],
             [
              0.3333333333333333,
              "#9c179e"
             ],
             [
              0.4444444444444444,
              "#bd3786"
             ],
             [
              0.5555555555555556,
              "#d8576b"
             ],
             [
              0.6666666666666666,
              "#ed7953"
             ],
             [
              0.7777777777777778,
              "#fb9f3a"
             ],
             [
              0.8888888888888888,
              "#fdca26"
             ],
             [
              1,
              "#f0f921"
             ]
            ],
            "type": "surface"
           }
          ],
          "table": [
           {
            "cells": {
             "fill": {
              "color": "#EBF0F8"
             },
             "line": {
              "color": "white"
             }
            },
            "header": {
             "fill": {
              "color": "#C8D4E3"
             },
             "line": {
              "color": "white"
             }
            },
            "type": "table"
           }
          ]
         },
         "layout": {
          "annotationdefaults": {
           "arrowcolor": "#2a3f5f",
           "arrowhead": 0,
           "arrowwidth": 1
          },
          "autotypenumbers": "strict",
          "coloraxis": {
           "colorbar": {
            "outlinewidth": 0,
            "ticks": ""
           }
          },
          "colorscale": {
           "diverging": [
            [
             0,
             "#8e0152"
            ],
            [
             0.1,
             "#c51b7d"
            ],
            [
             0.2,
             "#de77ae"
            ],
            [
             0.3,
             "#f1b6da"
            ],
            [
             0.4,
             "#fde0ef"
            ],
            [
             0.5,
             "#f7f7f7"
            ],
            [
             0.6,
             "#e6f5d0"
            ],
            [
             0.7,
             "#b8e186"
            ],
            [
             0.8,
             "#7fbc41"
            ],
            [
             0.9,
             "#4d9221"
            ],
            [
             1,
             "#276419"
            ]
           ],
           "sequential": [
            [
             0,
             "#0d0887"
            ],
            [
             0.1111111111111111,
             "#46039f"
            ],
            [
             0.2222222222222222,
             "#7201a8"
            ],
            [
             0.3333333333333333,
             "#9c179e"
            ],
            [
             0.4444444444444444,
             "#bd3786"
            ],
            [
             0.5555555555555556,
             "#d8576b"
            ],
            [
             0.6666666666666666,
             "#ed7953"
            ],
            [
             0.7777777777777778,
             "#fb9f3a"
            ],
            [
             0.8888888888888888,
             "#fdca26"
            ],
            [
             1,
             "#f0f921"
            ]
           ],
           "sequentialminus": [
            [
             0,
             "#0d0887"
            ],
            [
             0.1111111111111111,
             "#46039f"
            ],
            [
             0.2222222222222222,
             "#7201a8"
            ],
            [
             0.3333333333333333,
             "#9c179e"
            ],
            [
             0.4444444444444444,
             "#bd3786"
            ],
            [
             0.5555555555555556,
             "#d8576b"
            ],
            [
             0.6666666666666666,
             "#ed7953"
            ],
            [
             0.7777777777777778,
             "#fb9f3a"
            ],
            [
             0.8888888888888888,
             "#fdca26"
            ],
            [
             1,
             "#f0f921"
            ]
           ]
          },
          "colorway": [
           "#636efa",
           "#EF553B",
           "#00cc96",
           "#ab63fa",
           "#FFA15A",
           "#19d3f3",
           "#FF6692",
           "#B6E880",
           "#FF97FF",
           "#FECB52"
          ],
          "font": {
           "color": "#2a3f5f"
          },
          "geo": {
           "bgcolor": "white",
           "lakecolor": "white",
           "landcolor": "#E5ECF6",
           "showlakes": true,
           "showland": true,
           "subunitcolor": "white"
          },
          "hoverlabel": {
           "align": "left"
          },
          "hovermode": "closest",
          "mapbox": {
           "style": "light"
          },
          "paper_bgcolor": "white",
          "plot_bgcolor": "#E5ECF6",
          "polar": {
           "angularaxis": {
            "gridcolor": "white",
            "linecolor": "white",
            "ticks": ""
           },
           "bgcolor": "#E5ECF6",
           "radialaxis": {
            "gridcolor": "white",
            "linecolor": "white",
            "ticks": ""
           }
          },
          "scene": {
           "xaxis": {
            "backgroundcolor": "#E5ECF6",
            "gridcolor": "white",
            "gridwidth": 2,
            "linecolor": "white",
            "showbackground": true,
            "ticks": "",
            "zerolinecolor": "white"
           },
           "yaxis": {
            "backgroundcolor": "#E5ECF6",
            "gridcolor": "white",
            "gridwidth": 2,
            "linecolor": "white",
            "showbackground": true,
            "ticks": "",
            "zerolinecolor": "white"
           },
           "zaxis": {
            "backgroundcolor": "#E5ECF6",
            "gridcolor": "white",
            "gridwidth": 2,
            "linecolor": "white",
            "showbackground": true,
            "ticks": "",
            "zerolinecolor": "white"
           }
          },
          "shapedefaults": {
           "line": {
            "color": "#2a3f5f"
           }
          },
          "ternary": {
           "aaxis": {
            "gridcolor": "white",
            "linecolor": "white",
            "ticks": ""
           },
           "baxis": {
            "gridcolor": "white",
            "linecolor": "white",
            "ticks": ""
           },
           "bgcolor": "#E5ECF6",
           "caxis": {
            "gridcolor": "white",
            "linecolor": "white",
            "ticks": ""
           }
          },
          "title": {
           "x": 0.05
          },
          "xaxis": {
           "automargin": true,
           "gridcolor": "white",
           "linecolor": "white",
           "ticks": "",
           "title": {
            "standoff": 15
           },
           "zerolinecolor": "white",
           "zerolinewidth": 2
          },
          "yaxis": {
           "automargin": true,
           "gridcolor": "white",
           "linecolor": "white",
           "ticks": "",
           "title": {
            "standoff": 15
           },
           "zerolinecolor": "white",
           "zerolinewidth": 2
          }
         }
        }
       }
      },
      "text/html": [
       "<div>                            <div id=\"91b7caa0-4cdf-44f3-a012-261a9c7785fe\" class=\"plotly-graph-div\" style=\"height:525px; width:100%;\"></div>            <script type=\"text/javascript\">                require([\"plotly\"], function(Plotly) {                    window.PLOTLYENV=window.PLOTLYENV || {};                                    if (document.getElementById(\"91b7caa0-4cdf-44f3-a012-261a9c7785fe\")) {                    Plotly.newPlot(                        \"91b7caa0-4cdf-44f3-a012-261a9c7785fe\",                        [{\"hovertemplate\":\"t=%{x}<br>c1=%{y}<br>c2=%{z}<extra></extra>\",\"legendgroup\":\"\",\"line\":{\"color\":\"#636efa\",\"dash\":\"solid\"},\"marker\":{\"symbol\":\"circle\"},\"mode\":\"lines\",\"name\":\"\",\"scene\":\"scene\",\"showlegend\":false,\"x\":[0,30,960,990,1020,1050,1080,1230,1260,1290,1320,1350,1380,1410,1440,1470,1500,1530,1560,1590,1620,1650,1680,1710,1740,1770,1800,1830,1860,1890,1920,1950,1980,2010,2040,2070,2100,2160,2190,2220,2250,2280,2310,2340,2370,2400,2430,2460,2490,2520,4170,4200,4230,4260,4290,4320,4350,5130,5160,5190,5220,5250,5280,5310,5340,5370,5400,5430,5460,5490,5520,5550,5580,5610,5640,5730,5760,5790,5850,5880,5910,5940,5970,6000,6030,6060,6090,6120,6480,6510,6540,6570,6600,6630,6660,6690,6720,6750,6780,6810,6840,6870,6900,6930,6960,6990,7020,7050,7080,7110,7140,7170,7200,8250,8280,8310,8340,8370,8400,8430,8460,8490,8520,8550,8580,8610,8640,8670,8730,8760,8790,8820,8850,8880,8910,8940,8970,9000,9030,9060,9300,9330,9360,9390,9420,9450,9480,9510,9540,9570,9990,10020,10050,10080,10110,10170,10200,10230,10260,10290,10320,10350,10380,10410,10920,10950,10980,11010,11160,11190,11220,11250,11340,11370,11400,11430,11460,11580,11610,11640,11670,11700,11730,11760,11790,11820,11850,11880,11970,12000,12030,12060,12090,12120,12150,12180,12210,12240,12270,12300,12330,12360,12540,12570,12600,12630,12660,12690,13050,13080,13110,13140,13170,13200,13230,13260,13290,13320,13350,13380,13410,13440,13470,13500,13530,13560,13590,13620,13650,13680,13710,13770,13800,13830,13860,13890,13920,13950,13980,14010,14040,14070,14100,14130,14160,14190,14220,14250,14280,14310,14340,14370,14400,14430,14460,14490,14520,14550,14610,14640,14670,14700,14730,14760,14790,14820,14850,14880,14910,15150,15180,15210,15240,16290,16320,16350,16380,16410,16470,16500,16530,16560,16590,16620,16650,16680,16710,16740,16770,16800,16830,16860,16890,16920,16950,16980,17010,17040,17070,17640,17670,17700,17730,17760,17790,17850,17880,17910,17940,17970,18000,18030,18120,18150,18180,18210,18240,18270,19080,19110,19140,19170,19200,19230,19260,19290,19320,19350,19380,19410,19440,19470,19500,19530,19560,19590,19620,19650,19680,19800,19830,19860,19890,19920,19950,19980,20010,20040,20070,20100,20130,20160,20190,20220,20250,20280,20310,20340,20370,20580,20610,20640,20670,20700,20730,20760,20790,20820,20850,20880],\"y\":[42.203306,42.20334,42.203250999999995,42.202417000000004,42.201964000000004,42.202035,42.202000999999996,42.201668,42.198652,42.194761,42.190617,42.187205999999996,42.184959000000006,42.182123,42.18012,42.176131,42.172531,42.172255,42.171433,42.170657,42.168413,42.165905,42.163295999999995,42.159365,42.155662,42.151008,42.145843,42.141000999999996,42.137831,42.135180999999996,42.132422999999996,42.12961,42.125693,42.12037599999999,42.114832,42.110965,42.110952999999995,42.110543,42.106515,42.101440999999994,42.09579900000001,42.090547,42.085381,42.08037,42.075562000000005,42.071643,42.072149,42.072720999999994,42.07365,42.073772999999996,42.072932,42.07289,42.071782,42.071065,42.072137000000005,42.072551,42.072594,42.072671,42.073017,42.075169,42.076312,42.077474,42.079579,42.08051,42.080996,42.082727,42.084925,42.087199000000005,42.089197999999996,42.090274,42.090430999999995,42.091875,42.093073,42.09445,42.094550999999996,42.095072,42.094986,42.09502,42.095,42.094891,42.096666,42.099042000000004,42.101278,42.102320999999996,42.102602999999995,42.102004,42.101915999999996,42.101917,42.102762,42.104121,42.104842999999995,42.106045,42.106202,42.106203,42.10656,42.105619000000004,42.104677,42.103648,42.102885,42.101957,42.100685,42.101256,42.102393,42.103162999999995,42.104347000000004,42.10602,42.106271,42.104530999999994,42.10317,42.101785,42.100115,42.099605,42.099571,42.09870599999999,42.09822,42.096262,42.09470400000001,42.092755,42.091328,42.089345,42.087202999999995,42.085642,42.085556,42.086403,42.086655,42.086439000000006,42.085864,42.085809000000005,42.085606,42.085422,42.085226,42.084532,42.083752000000004,42.082229000000005,42.081596,42.081215,42.080325,42.080067,42.079288,42.079131,42.078720999999994,42.07809099999999,42.076665,42.076308,42.076142999999995,42.075697999999996,42.07477900000001,42.076165,42.07641400000001,42.076502999999995,42.076815999999994,42.078126,42.078569,42.078565999999995,42.078689000000004,42.078320999999995,42.07820099999999,42.077279000000004,42.076294000000004,42.074906,42.074909000000005,42.075522,42.074627,42.074349000000005,42.074083,42.074127999999995,42.07432,42.074265999999994,42.074322,42.074814,42.075095999999995,42.075172,42.075531,42.07499,42.074158,42.073589000000005,42.073445,42.072724,42.071510999999994,42.07103,42.070665,42.07006,42.069369,42.069796,42.069801,42.069802,42.069590999999996,42.069570999999996,42.06864,42.06864,42.069418,42.069418,42.069900999999994,42.069824000000004,42.06938099999999,42.068413,42.068186,42.069095,42.07030400000001,42.071179,42.072075,42.072239,42.072916,42.074253,42.07459,42.073757,42.073435999999994,42.073435999999994,42.072990999999995,42.072687,42.072793,42.07345,42.074829,42.075807999999995,42.07646,42.07717,42.078015,42.078762000000005,42.079332,42.078705,42.077472,42.075258,42.07350099999999,42.070689,42.069810999999994,42.069209,42.069725999999996,42.069793,42.069776,42.06913599999999,42.069124,42.069871,42.070719000000004,42.071126,42.070995,42.069099,42.066793,42.065255,42.06343,42.061478,42.060621,42.0606,42.059875,42.058635,42.057089000000005,42.058494,42.060375,42.060354000000004,42.059515999999995,42.058910999999995,42.058977999999996,42.059407,42.059793,42.059667999999995,42.062253,42.065318,42.065449,42.065449,42.067311,42.06933,42.07077,42.0716,42.07205,42.070799,42.071563,42.072472000000005,42.074035,42.07428,42.074335,42.074368,42.073474000000004,42.073530999999996,42.073543,42.073987,42.073221,42.07269,42.072962000000004,42.072928,42.073857000000004,42.075903,42.07659400000001,42.078691,42.080773,42.083345,42.086379,42.089098,42.089405,42.090022000000005,42.0907,42.092123,42.094622,42.09606900000001,42.097549,42.099017,42.101501,42.102893,42.10501,42.105889000000005,42.105978,42.105282,42.104163,42.103024000000005,42.102714000000006,42.102591,42.10257,42.102115999999995,42.100977,42.100979,42.101614000000005,42.102159,42.102661,42.102695999999995,42.102798,42.103322999999996,42.104147000000005,42.104794000000005,42.105016,42.105173,42.105518,42.10611,42.107039,42.10807,42.108965999999995,42.109995999999995,42.110028,42.108731,42.108413,42.109080999999996,42.108818,42.108807999999996,42.108032,42.107323,42.106128,42.104455,42.102727,42.10098,42.099994,42.09937,42.099281,42.09867,42.098067,42.096453,42.094674000000005,42.092746,42.09123,42.090007,42.088142999999995,42.086721,42.086417999999995,42.086259000000005,42.085989000000005,42.085965,42.085482999999996,42.085291,42.084311,42.083235,42.08227,42.081790999999996,42.081922999999996,42.081635,42.081124,42.080771,42.079907999999996,42.079519000000005,42.079409000000005,42.07923099999999,42.078885,42.078752,42.078050999999995,42.07732],\"z\":[4.860508,4.860333,4.860684,4.860875,4.860453,4.858893,4.858760999999999,4.858025,4.8568359999999995,4.855383,4.852992,4.850224,4.847968,4.84563,4.843785,4.840726,4.837388,4.835871,4.8360970000000005,4.834938,4.8307590000000005,4.825774,4.820585,4.816667,4.814457,4.811553,4.808393,4.804785,4.799725,4.794499,4.789063,4.783608,4.779326,4.776618,4.77476,4.772565999999999,4.772558,4.772205,4.768728,4.765301,4.763715,4.760831,4.758745,4.757115,4.754001,4.7513559999999995,4.749181,4.74762,4.7480970000000005,4.748114,4.747646,4.747681,4.747169,4.7465790000000005,4.744669,4.7437309999999995,4.743493,4.74309,4.742265,4.742711,4.74296,4.743411,4.7442,4.744378,4.744537,4.744648,4.744154,4.743785,4.7434140000000005,4.74319,4.743199000000001,4.742941,4.742769,4.74251,4.74251,4.742425,4.741521,4.741486,4.7410820000000005,4.740722,4.7403059999999995,4.739664,4.738145,4.737393,4.736666,4.736067,4.735804,4.735611,4.734737,4.733205,4.732523,4.731149,4.7309470000000005,4.730912,4.730272,4.72955,4.728932,4.727657,4.726883,4.7260029999999995,4.725244,4.724095999999999,4.72216,4.720864000000001,4.718744,4.715898,4.714459000000001,4.713436,4.712668,4.711881,4.710006,4.709627,4.709425,4.710106,4.71215,4.714083,4.715517,4.71731,4.718656,4.720475,4.7206079999999995,4.719172,4.718197,4.716874,4.715067,4.713724,4.71373,4.713608,4.7147570000000005,4.716565,4.71839,4.719405999999999,4.7199040000000005,4.720925,4.721388,4.722878,4.723121,4.724262,4.72426,4.724462,4.72446,4.724204,4.725428,4.7257240000000005,4.725846,4.7257929999999995,4.724772,4.721766,4.720687,4.720582,4.719441,4.718788,4.719317,4.719983,4.719931,4.719843,4.7190959999999995,4.719093,4.718713,4.718392,4.717785999999999,4.7166559999999995,4.715933,4.715599,4.715335,4.714615,4.714045,4.713983,4.713693,4.712141,4.711431,4.711369,4.710431,4.710069,4.7096979999999995,4.710205,4.7102129999999995,4.710738,4.711435,4.709607,4.708877,4.707418,4.7056070000000005,4.704485,4.702915,4.702809,4.702467,4.702397,4.70213,4.7021820000000005,4.702395999999999,4.702413,4.7010179999999995,4.697788,4.695206,4.692693,4.690997,4.691342,4.691794,4.692157,4.692502,4.692565,4.69269,4.691888,4.691072,4.690727,4.690577,4.690568,4.690865,4.6918109999999995,4.692795,4.692551,4.691669,4.691364,4.692333,4.692598,4.6918820000000006,4.691332,4.6905790000000005,4.689629,4.689932,4.69132,4.692437,4.694113,4.694443,4.6947920000000005,4.699122,4.701843,4.702985,4.7054409999999995,4.705457,4.707014,4.709028,4.710082,4.712382,4.714799,4.71717,4.718605,4.72032,4.722885,4.72341,4.72341,4.725048,4.7275540000000005,4.729174,4.730494,4.732493,4.7351090000000005,4.73659,4.737834,4.737966,4.738837,4.739734,4.740594000000001,4.74083,4.740856,4.740909,4.740936,4.740915,4.741,4.742084,4.743316,4.744116,4.746096,4.746853,4.747365,4.748187,4.748355,4.7484340000000005,4.748715,4.75024,4.749818,4.749853,4.750057,4.75016,4.749236,4.747613,4.747604,4.745694,4.74377,4.743201,4.742601,4.740018,4.737955,4.73685,4.736447,4.73694,4.738487,4.738419,4.738186,4.737377,4.7364690000000005,4.735518,4.734311,4.7318620000000005,4.730936,4.731996,4.730903,4.7308509999999995,4.730226,4.729389,4.728236,4.728611,4.728698,4.728698,4.729064,4.727954,4.727077,4.726035,4.724992,4.724134,4.7240020000000005,4.723748,4.722434,4.721481,4.7204120000000005,4.719974000000001,4.719783,4.719302,4.718286,4.718711,4.719259,4.719744,4.720353,4.720967,4.7202079999999995,4.719365,4.718244,4.717261,4.716314000000001,4.715478,4.714983,4.714243,4.713246,4.712249,4.710839,4.710844,4.711289,4.711315,4.711787,4.712415,4.7139359999999995,4.7156590000000005,4.717398,4.718814,4.720126,4.720593,4.720501,4.721212,4.721817,4.7229659999999996,4.723678,4.72487,4.725378,4.725927,4.726221,4.726288,4.726419,4.7263329999999995,4.726332,4.726013,4.725065,4.725124,4.724973,4.724946,4.725051,4.725797,4.726446,4.727199000000001,4.726923],\"type\":\"scatter3d\"}],                        {\"template\":{\"data\":{\"histogram2dcontour\":[{\"type\":\"histogram2dcontour\",\"colorbar\":{\"outlinewidth\":0,\"ticks\":\"\"},\"colorscale\":[[0.0,\"#0d0887\"],[0.1111111111111111,\"#46039f\"],[0.2222222222222222,\"#7201a8\"],[0.3333333333333333,\"#9c179e\"],[0.4444444444444444,\"#bd3786\"],[0.5555555555555556,\"#d8576b\"],[0.6666666666666666,\"#ed7953\"],[0.7777777777777778,\"#fb9f3a\"],[0.8888888888888888,\"#fdca26\"],[1.0,\"#f0f921\"]]}],\"choropleth\":[{\"type\":\"choropleth\",\"colorbar\":{\"outlinewidth\":0,\"ticks\":\"\"}}],\"histogram2d\":[{\"type\":\"histogram2d\",\"colorbar\":{\"outlinewidth\":0,\"ticks\":\"\"},\"colorscale\":[[0.0,\"#0d0887\"],[0.1111111111111111,\"#46039f\"],[0.2222222222222222,\"#7201a8\"],[0.3333333333333333,\"#9c179e\"],[0.4444444444444444,\"#bd3786\"],[0.5555555555555556,\"#d8576b\"],[0.6666666666666666,\"#ed7953\"],[0.7777777777777778,\"#fb9f3a\"],[0.8888888888888888,\"#fdca26\"],[1.0,\"#f0f921\"]]}],\"heatmap\":[{\"type\":\"heatmap\",\"colorbar\":{\"outlinewidth\":0,\"ticks\":\"\"},\"colorscale\":[[0.0,\"#0d0887\"],[0.1111111111111111,\"#46039f\"],[0.2222222222222222,\"#7201a8\"],[0.3333333333333333,\"#9c179e\"],[0.4444444444444444,\"#bd3786\"],[0.5555555555555556,\"#d8576b\"],[0.6666666666666666,\"#ed7953\"],[0.7777777777777778,\"#fb9f3a\"],[0.8888888888888888,\"#fdca26\"],[1.0,\"#f0f921\"]]}],\"heatmapgl\":[{\"type\":\"heatmapgl\",\"colorbar\":{\"outlinewidth\":0,\"ticks\":\"\"},\"colorscale\":[[0.0,\"#0d0887\"],[0.1111111111111111,\"#46039f\"],[0.2222222222222222,\"#7201a8\"],[0.3333333333333333,\"#9c179e\"],[0.4444444444444444,\"#bd3786\"],[0.5555555555555556,\"#d8576b\"],[0.6666666666666666,\"#ed7953\"],[0.7777777777777778,\"#fb9f3a\"],[0.8888888888888888,\"#fdca26\"],[1.0,\"#f0f921\"]]}],\"contourcarpet\":[{\"type\":\"contourcarpet\",\"colorbar\":{\"outlinewidth\":0,\"ticks\":\"\"}}],\"contour\":[{\"type\":\"contour\",\"colorbar\":{\"outlinewidth\":0,\"ticks\":\"\"},\"colorscale\":[[0.0,\"#0d0887\"],[0.1111111111111111,\"#46039f\"],[0.2222222222222222,\"#7201a8\"],[0.3333333333333333,\"#9c179e\"],[0.4444444444444444,\"#bd3786\"],[0.5555555555555556,\"#d8576b\"],[0.6666666666666666,\"#ed7953\"],[0.7777777777777778,\"#fb9f3a\"],[0.8888888888888888,\"#fdca26\"],[1.0,\"#f0f921\"]]}],\"surface\":[{\"type\":\"surface\",\"colorbar\":{\"outlinewidth\":0,\"ticks\":\"\"},\"colorscale\":[[0.0,\"#0d0887\"],[0.1111111111111111,\"#46039f\"],[0.2222222222222222,\"#7201a8\"],[0.3333333333333333,\"#9c179e\"],[0.4444444444444444,\"#bd3786\"],[0.5555555555555556,\"#d8576b\"],[0.6666666666666666,\"#ed7953\"],[0.7777777777777778,\"#fb9f3a\"],[0.8888888888888888,\"#fdca26\"],[1.0,\"#f0f921\"]]}],\"mesh3d\":[{\"type\":\"mesh3d\",\"colorbar\":{\"outlinewidth\":0,\"ticks\":\"\"}}],\"scatter\":[{\"fillpattern\":{\"fillmode\":\"overlay\",\"size\":10,\"solidity\":0.2},\"type\":\"scatter\"}],\"parcoords\":[{\"type\":\"parcoords\",\"line\":{\"colorbar\":{\"outlinewidth\":0,\"ticks\":\"\"}}}],\"scatterpolargl\":[{\"type\":\"scatterpolargl\",\"marker\":{\"colorbar\":{\"outlinewidth\":0,\"ticks\":\"\"}}}],\"bar\":[{\"error_x\":{\"color\":\"#2a3f5f\"},\"error_y\":{\"color\":\"#2a3f5f\"},\"marker\":{\"line\":{\"color\":\"#E5ECF6\",\"width\":0.5},\"pattern\":{\"fillmode\":\"overlay\",\"size\":10,\"solidity\":0.2}},\"type\":\"bar\"}],\"scattergeo\":[{\"type\":\"scattergeo\",\"marker\":{\"colorbar\":{\"outlinewidth\":0,\"ticks\":\"\"}}}],\"scatterpolar\":[{\"type\":\"scatterpolar\",\"marker\":{\"colorbar\":{\"outlinewidth\":0,\"ticks\":\"\"}}}],\"histogram\":[{\"marker\":{\"pattern\":{\"fillmode\":\"overlay\",\"size\":10,\"solidity\":0.2}},\"type\":\"histogram\"}],\"scattergl\":[{\"type\":\"scattergl\",\"marker\":{\"colorbar\":{\"outlinewidth\":0,\"ticks\":\"\"}}}],\"scatter3d\":[{\"type\":\"scatter3d\",\"line\":{\"colorbar\":{\"outlinewidth\":0,\"ticks\":\"\"}},\"marker\":{\"colorbar\":{\"outlinewidth\":0,\"ticks\":\"\"}}}],\"scattermapbox\":[{\"type\":\"scattermapbox\",\"marker\":{\"colorbar\":{\"outlinewidth\":0,\"ticks\":\"\"}}}],\"scatterternary\":[{\"type\":\"scatterternary\",\"marker\":{\"colorbar\":{\"outlinewidth\":0,\"ticks\":\"\"}}}],\"scattercarpet\":[{\"type\":\"scattercarpet\",\"marker\":{\"colorbar\":{\"outlinewidth\":0,\"ticks\":\"\"}}}],\"carpet\":[{\"aaxis\":{\"endlinecolor\":\"#2a3f5f\",\"gridcolor\":\"white\",\"linecolor\":\"white\",\"minorgridcolor\":\"white\",\"startlinecolor\":\"#2a3f5f\"},\"baxis\":{\"endlinecolor\":\"#2a3f5f\",\"gridcolor\":\"white\",\"linecolor\":\"white\",\"minorgridcolor\":\"white\",\"startlinecolor\":\"#2a3f5f\"},\"type\":\"carpet\"}],\"table\":[{\"cells\":{\"fill\":{\"color\":\"#EBF0F8\"},\"line\":{\"color\":\"white\"}},\"header\":{\"fill\":{\"color\":\"#C8D4E3\"},\"line\":{\"color\":\"white\"}},\"type\":\"table\"}],\"barpolar\":[{\"marker\":{\"line\":{\"color\":\"#E5ECF6\",\"width\":0.5},\"pattern\":{\"fillmode\":\"overlay\",\"size\":10,\"solidity\":0.2}},\"type\":\"barpolar\"}],\"pie\":[{\"automargin\":true,\"type\":\"pie\"}]},\"layout\":{\"autotypenumbers\":\"strict\",\"colorway\":[\"#636efa\",\"#EF553B\",\"#00cc96\",\"#ab63fa\",\"#FFA15A\",\"#19d3f3\",\"#FF6692\",\"#B6E880\",\"#FF97FF\",\"#FECB52\"],\"font\":{\"color\":\"#2a3f5f\"},\"hovermode\":\"closest\",\"hoverlabel\":{\"align\":\"left\"},\"paper_bgcolor\":\"white\",\"plot_bgcolor\":\"#E5ECF6\",\"polar\":{\"bgcolor\":\"#E5ECF6\",\"angularaxis\":{\"gridcolor\":\"white\",\"linecolor\":\"white\",\"ticks\":\"\"},\"radialaxis\":{\"gridcolor\":\"white\",\"linecolor\":\"white\",\"ticks\":\"\"}},\"ternary\":{\"bgcolor\":\"#E5ECF6\",\"aaxis\":{\"gridcolor\":\"white\",\"linecolor\":\"white\",\"ticks\":\"\"},\"baxis\":{\"gridcolor\":\"white\",\"linecolor\":\"white\",\"ticks\":\"\"},\"caxis\":{\"gridcolor\":\"white\",\"linecolor\":\"white\",\"ticks\":\"\"}},\"coloraxis\":{\"colorbar\":{\"outlinewidth\":0,\"ticks\":\"\"}},\"colorscale\":{\"sequential\":[[0.0,\"#0d0887\"],[0.1111111111111111,\"#46039f\"],[0.2222222222222222,\"#7201a8\"],[0.3333333333333333,\"#9c179e\"],[0.4444444444444444,\"#bd3786\"],[0.5555555555555556,\"#d8576b\"],[0.6666666666666666,\"#ed7953\"],[0.7777777777777778,\"#fb9f3a\"],[0.8888888888888888,\"#fdca26\"],[1.0,\"#f0f921\"]],\"sequentialminus\":[[0.0,\"#0d0887\"],[0.1111111111111111,\"#46039f\"],[0.2222222222222222,\"#7201a8\"],[0.3333333333333333,\"#9c179e\"],[0.4444444444444444,\"#bd3786\"],[0.5555555555555556,\"#d8576b\"],[0.6666666666666666,\"#ed7953\"],[0.7777777777777778,\"#fb9f3a\"],[0.8888888888888888,\"#fdca26\"],[1.0,\"#f0f921\"]],\"diverging\":[[0,\"#8e0152\"],[0.1,\"#c51b7d\"],[0.2,\"#de77ae\"],[0.3,\"#f1b6da\"],[0.4,\"#fde0ef\"],[0.5,\"#f7f7f7\"],[0.6,\"#e6f5d0\"],[0.7,\"#b8e186\"],[0.8,\"#7fbc41\"],[0.9,\"#4d9221\"],[1,\"#276419\"]]},\"xaxis\":{\"gridcolor\":\"white\",\"linecolor\":\"white\",\"ticks\":\"\",\"title\":{\"standoff\":15},\"zerolinecolor\":\"white\",\"automargin\":true,\"zerolinewidth\":2},\"yaxis\":{\"gridcolor\":\"white\",\"linecolor\":\"white\",\"ticks\":\"\",\"title\":{\"standoff\":15},\"zerolinecolor\":\"white\",\"automargin\":true,\"zerolinewidth\":2},\"scene\":{\"xaxis\":{\"backgroundcolor\":\"#E5ECF6\",\"gridcolor\":\"white\",\"linecolor\":\"white\",\"showbackground\":true,\"ticks\":\"\",\"zerolinecolor\":\"white\",\"gridwidth\":2},\"yaxis\":{\"backgroundcolor\":\"#E5ECF6\",\"gridcolor\":\"white\",\"linecolor\":\"white\",\"showbackground\":true,\"ticks\":\"\",\"zerolinecolor\":\"white\",\"gridwidth\":2},\"zaxis\":{\"backgroundcolor\":\"#E5ECF6\",\"gridcolor\":\"white\",\"linecolor\":\"white\",\"showbackground\":true,\"ticks\":\"\",\"zerolinecolor\":\"white\",\"gridwidth\":2}},\"shapedefaults\":{\"line\":{\"color\":\"#2a3f5f\"}},\"annotationdefaults\":{\"arrowcolor\":\"#2a3f5f\",\"arrowhead\":0,\"arrowwidth\":1},\"geo\":{\"bgcolor\":\"white\",\"landcolor\":\"#E5ECF6\",\"subunitcolor\":\"white\",\"showland\":true,\"showlakes\":true,\"lakecolor\":\"white\"},\"title\":{\"x\":0.05},\"mapbox\":{\"style\":\"light\"}}},\"scene\":{\"domain\":{\"x\":[0.0,1.0],\"y\":[0.0,1.0]},\"xaxis\":{\"title\":{\"text\":\"t\"}},\"yaxis\":{\"title\":{\"text\":\"c1\"}},\"zaxis\":{\"title\":{\"text\":\"c2\"}}},\"legend\":{\"tracegroupgap\":0},\"margin\":{\"t\":60}},                        {\"responsive\": true}                    ).then(function(){\n",
       "                            \n",
       "var gd = document.getElementById('91b7caa0-4cdf-44f3-a012-261a9c7785fe');\n",
       "var x = new MutationObserver(function (mutations, observer) {{\n",
       "        var display = window.getComputedStyle(gd).display;\n",
       "        if (!display || display === 'none') {{\n",
       "            console.log([gd, 'removed!']);\n",
       "            Plotly.purge(gd);\n",
       "            observer.disconnect();\n",
       "        }}\n",
       "}});\n",
       "\n",
       "// Listen for the removal of the full notebook cells\n",
       "var notebookContainer = gd.closest('#notebook-container');\n",
       "if (notebookContainer) {{\n",
       "    x.observe(notebookContainer, {childList: true});\n",
       "}}\n",
       "\n",
       "// Listen for the clearing of the current output cell\n",
       "var outputEl = gd.closest('.output');\n",
       "if (outputEl) {{\n",
       "    x.observe(outputEl, {childList: true});\n",
       "}}\n",
       "\n",
       "                        })                };                });            </script>        </div>"
      ]
     },
     "metadata": {},
     "output_type": "display_data"
    }
   ],
   "source": [
    "px.line_3d(df[df.tid == 1], x=\"t\", y=\"c1\", z=\"c2\")"
   ]
  },
  {
   "cell_type": "code",
   "execution_count": 70,
   "metadata": {
    "pycharm": {
     "name": "#%%\n"
    }
   },
   "outputs": [
    {
     "name": "stdout",
     "output_type": "stream",
     "text": [
      "Wall time: 620 ms\n"
     ]
    },
    {
     "data": {
      "text/html": [
       "<div>\n",
       "<style scoped>\n",
       "    .dataframe tbody tr th:only-of-type {\n",
       "        vertical-align: middle;\n",
       "    }\n",
       "\n",
       "    .dataframe tbody tr th {\n",
       "        vertical-align: top;\n",
       "    }\n",
       "\n",
       "    .dataframe thead th {\n",
       "        text-align: right;\n",
       "    }\n",
       "</style>\n",
       "<table border=\"1\" class=\"dataframe\">\n",
       "  <thead>\n",
       "    <tr style=\"text-align: right;\">\n",
       "      <th></th>\n",
       "      <th>tid</th>\n",
       "      <th>class</th>\n",
       "      <th>t</th>\n",
       "      <th>c1</th>\n",
       "      <th>c2</th>\n",
       "      <th>geohash</th>\n",
       "      <th>geohash2</th>\n",
       "      <th>lat_norm</th>\n",
       "      <th>lon_norm</th>\n",
       "    </tr>\n",
       "  </thead>\n",
       "  <tbody>\n",
       "    <tr>\n",
       "      <th>652</th>\n",
       "      <td>11102</td>\n",
       "      <td>B</td>\n",
       "      <td>0</td>\n",
       "      <td>42.078687</td>\n",
       "      <td>4.782075</td>\n",
       "      <td>sp7rku</td>\n",
       "      <td>sp7rku_175</td>\n",
       "      <td>0.001050</td>\n",
       "      <td>0.003022</td>\n",
       "    </tr>\n",
       "    <tr>\n",
       "      <th>653</th>\n",
       "      <td>11102</td>\n",
       "      <td>B</td>\n",
       "      <td>34</td>\n",
       "      <td>42.077084</td>\n",
       "      <td>4.781617</td>\n",
       "      <td>sp7rkg</td>\n",
       "      <td>sp7rkg_176</td>\n",
       "      <td>0.004940</td>\n",
       "      <td>0.002564</td>\n",
       "    </tr>\n",
       "    <tr>\n",
       "      <th>654</th>\n",
       "      <td>11102</td>\n",
       "      <td>B</td>\n",
       "      <td>64</td>\n",
       "      <td>42.077367</td>\n",
       "      <td>4.780521</td>\n",
       "      <td>sp7rkg</td>\n",
       "      <td>sp7rkg_176</td>\n",
       "      <td>0.005223</td>\n",
       "      <td>0.001468</td>\n",
       "    </tr>\n",
       "    <tr>\n",
       "      <th>655</th>\n",
       "      <td>11102</td>\n",
       "      <td>B</td>\n",
       "      <td>94</td>\n",
       "      <td>42.077895</td>\n",
       "      <td>4.779303</td>\n",
       "      <td>sp7rku</td>\n",
       "      <td>sp7rku_177</td>\n",
       "      <td>0.000258</td>\n",
       "      <td>0.000250</td>\n",
       "    </tr>\n",
       "    <tr>\n",
       "      <th>656</th>\n",
       "      <td>11102</td>\n",
       "      <td>B</td>\n",
       "      <td>124</td>\n",
       "      <td>42.078541</td>\n",
       "      <td>4.778304</td>\n",
       "      <td>sp7rks</td>\n",
       "      <td>sp7rks_178</td>\n",
       "      <td>0.000904</td>\n",
       "      <td>0.010238</td>\n",
       "    </tr>\n",
       "    <tr>\n",
       "      <th>...</th>\n",
       "      <td>...</td>\n",
       "      <td>...</td>\n",
       "      <td>...</td>\n",
       "      <td>...</td>\n",
       "      <td>...</td>\n",
       "      <td>...</td>\n",
       "      <td>...</td>\n",
       "      <td>...</td>\n",
       "      <td>...</td>\n",
       "    </tr>\n",
       "    <tr>\n",
       "      <th>177632</th>\n",
       "      <td>389203</td>\n",
       "      <td>B</td>\n",
       "      <td>38516</td>\n",
       "      <td>42.084660</td>\n",
       "      <td>4.838882</td>\n",
       "      <td>sp7rqj</td>\n",
       "      <td>sp7rqj_50035</td>\n",
       "      <td>0.001530</td>\n",
       "      <td>0.004898</td>\n",
       "    </tr>\n",
       "    <tr>\n",
       "      <th>177633</th>\n",
       "      <td>389203</td>\n",
       "      <td>B</td>\n",
       "      <td>38546</td>\n",
       "      <td>42.082078</td>\n",
       "      <td>4.836761</td>\n",
       "      <td>sp7rqh</td>\n",
       "      <td>sp7rqh_50036</td>\n",
       "      <td>0.004441</td>\n",
       "      <td>0.002777</td>\n",
       "    </tr>\n",
       "    <tr>\n",
       "      <th>177634</th>\n",
       "      <td>389203</td>\n",
       "      <td>B</td>\n",
       "      <td>38576</td>\n",
       "      <td>42.080869</td>\n",
       "      <td>4.836100</td>\n",
       "      <td>sp7rqh</td>\n",
       "      <td>sp7rqh_50036</td>\n",
       "      <td>0.003232</td>\n",
       "      <td>0.002116</td>\n",
       "    </tr>\n",
       "    <tr>\n",
       "      <th>177635</th>\n",
       "      <td>389203</td>\n",
       "      <td>B</td>\n",
       "      <td>38606</td>\n",
       "      <td>42.078729</td>\n",
       "      <td>4.835051</td>\n",
       "      <td>sp7rqh</td>\n",
       "      <td>sp7rqh_50036</td>\n",
       "      <td>0.001092</td>\n",
       "      <td>0.001067</td>\n",
       "    </tr>\n",
       "    <tr>\n",
       "      <th>177636</th>\n",
       "      <td>389203</td>\n",
       "      <td>B</td>\n",
       "      <td>38636</td>\n",
       "      <td>42.078752</td>\n",
       "      <td>4.833928</td>\n",
       "      <td>sp7rmu</td>\n",
       "      <td>sp7rmu_50037</td>\n",
       "      <td>0.001115</td>\n",
       "      <td>0.010930</td>\n",
       "    </tr>\n",
       "  </tbody>\n",
       "</table>\n",
       "<p>125348 rows × 9 columns</p>\n",
       "</div>"
      ],
      "text/plain": [
       "           tid class      t         c1        c2 geohash      geohash2  \\\n",
       "652      11102     B      0  42.078687  4.782075  sp7rku    sp7rku_175   \n",
       "653      11102     B     34  42.077084  4.781617  sp7rkg    sp7rkg_176   \n",
       "654      11102     B     64  42.077367  4.780521  sp7rkg    sp7rkg_176   \n",
       "655      11102     B     94  42.077895  4.779303  sp7rku    sp7rku_177   \n",
       "656      11102     B    124  42.078541  4.778304  sp7rks    sp7rks_178   \n",
       "...        ...   ...    ...        ...       ...     ...           ...   \n",
       "177632  389203     B  38516  42.084660  4.838882  sp7rqj  sp7rqj_50035   \n",
       "177633  389203     B  38546  42.082078  4.836761  sp7rqh  sp7rqh_50036   \n",
       "177634  389203     B  38576  42.080869  4.836100  sp7rqh  sp7rqh_50036   \n",
       "177635  389203     B  38606  42.078729  4.835051  sp7rqh  sp7rqh_50036   \n",
       "177636  389203     B  38636  42.078752  4.833928  sp7rmu  sp7rmu_50037   \n",
       "\n",
       "        lat_norm  lon_norm  \n",
       "652     0.001050  0.003022  \n",
       "653     0.004940  0.002564  \n",
       "654     0.005223  0.001468  \n",
       "655     0.000258  0.000250  \n",
       "656     0.000904  0.010238  \n",
       "...          ...       ...  \n",
       "177632  0.001530  0.004898  \n",
       "177633  0.004441  0.002777  \n",
       "177634  0.003232  0.002116  \n",
       "177635  0.001092  0.001067  \n",
       "177636  0.001115  0.010930  \n",
       "\n",
       "[125348 rows x 9 columns]"
      ]
     },
     "execution_count": 70,
     "metadata": {},
     "output_type": "execute_result"
    }
   ],
   "source": [
    "%%time\n",
    "\n",
    "start = datetime.now()\n",
    "\n",
    "tid_train, tid_test, _, _ = train_test_split(df.groupby(by=[\"tid\"]).max().reset_index()[\"tid\"],\n",
    "                                                        df.groupby(by=[\"tid\"]).max().reset_index()[\"class\"],\n",
    "                                                        test_size=.3,\n",
    "                                                        stratify=df.groupby(by=[\"tid\"]).max().reset_index()[\"class\"],\n",
    "                                                        random_state=3)\n",
    "\n",
    "df_train = df[df.tid.isin(tid_train)]\n",
    "df_test = df[~df.tid.isin(tid_train)]\n",
    "\n",
    "t+= (datetime.now()-start).total_seconds()*1000\n",
    "df_train"
   ]
  },
  {
   "cell_type": "code",
   "execution_count": null,
   "metadata": {
    "pycharm": {
     "name": "#%%\n"
    }
   },
   "outputs": [],
   "source": []
  },
  {
   "cell_type": "code",
   "execution_count": 71,
   "metadata": {
    "pycharm": {
     "name": "#%%\n"
    }
   },
   "outputs": [
    {
     "data": {
      "application/vnd.jupyter.widget-view+json": {
       "model_id": "f04b2e313e0a4a80bb5508aa47fecea6",
       "version_major": 2,
       "version_minor": 0
      },
      "text/plain": [
       "  0%|          | 0/125348 [00:00<?, ?it/s]"
      ]
     },
     "metadata": {},
     "output_type": "display_data"
    },
    {
     "name": "stdout",
     "output_type": "stream",
     "text": [
      "Wall time: 383 ms\n"
     ]
    }
   ],
   "source": [
    "%%time\n",
    "\n",
    "start = datetime.now()\n",
    "\n",
    "movelets = []\n",
    "\n",
    "movelet = []\n",
    "movelets.append(movelet)\n",
    "prec_gh2 = df_train.values[0, 6]\n",
    "first_row = df_train.values[0]\n",
    "for row in tqdm(df_train.values):\n",
    "    if row[6] != prec_gh2:\n",
    "        prec_gh2 = row[6]\n",
    "        first_row = row\n",
    "        movelet = []\n",
    "        movelets.append(movelet)\n",
    "\n",
    "    movelet.append((row[-2]-first_row[-2], row[-1]-first_row[-1], row[2]-first_row[2]))\n",
    "\n",
    "t+= (datetime.now()-start).total_seconds()*1000"
   ]
  },
  {
   "cell_type": "code",
   "execution_count": 72,
   "metadata": {
    "pycharm": {
     "name": "#%%\n"
    }
   },
   "outputs": [],
   "source": [
    "import csv\n",
    "\n",
    "with open(\"movelet veicoli guidotti 5.csv\", \"w\") as f:\n",
    "    wr = csv.writer(f)\n",
    "    wr.writerows(movelets)"
   ]
  },
  {
   "cell_type": "raw",
   "metadata": {},
   "source": [
    "import csv\n",
    "\n",
    "movelets = []\n",
    "\n",
    "with open(\"movelet veicoli guidotti 5.csv\", \"r\") as f:\n",
    "    re = csv.reader(f)\n",
    "    for row in re:\n",
    "        movelet = []\n",
    "        for val in row:\n",
    "            val_splitted = val[1:-1].split(\",\")\n",
    "            movelet.append((float(val_splitted[0]), float(val_splitted[1]), float(val_splitted[2])))\n",
    "        movelets.append(movelet)"
   ]
  },
  {
   "cell_type": "code",
   "execution_count": 73,
   "metadata": {
    "pycharm": {
     "name": "#%%\n"
    }
   },
   "outputs": [],
   "source": [
    "#From here credits to Riccardo Guidotti\n",
    "\n",
    "def spherical_distance(a, b):\n",
    "    lat1 = a[1]\n",
    "    lon1 = a[0]\n",
    "    lat2 = b[1]\n",
    "    lon2 = b[0]\n",
    "    R = 6371000\n",
    "    rlon1 = lon1 * math.pi / 180.0\n",
    "    rlon2 = lon2 * math.pi / 180.0\n",
    "    rlat1 = lat1 * math.pi / 180.0\n",
    "    rlat2 = lat2 * math.pi / 180.0\n",
    "    dlon = (rlon1 - rlon2) / 2.0\n",
    "    dlat = (rlat1 - rlat2) / 2.0\n",
    "    lat12 = (rlat1 + rlat2) / 2.0\n",
    "    sindlat = math.sin(dlat)\n",
    "    sindlon = math.sin(dlon)\n",
    "    cosdlon = math.cos(dlon)\n",
    "    coslat12 = math.cos(lat12)\n",
    "    f = sindlat * sindlat * cosdlon * cosdlon + sindlon * sindlon * coslat12 * coslat12\n",
    "    f = math.sqrt(f)\n",
    "    f = math.asin(f) * 2.0 # the angle between the points\n",
    "    f *= R\n",
    "    return f\n",
    "\n",
    "def trajectory_distance(tr1, tr2):\n",
    "    if len(tr1) == 1 and len(tr2) == 1:\n",
    "        return .0\n",
    "\n",
    "    i1 = 0\n",
    "    i2 = 0\n",
    "    np = 0\n",
    "\n",
    "    last_tr1 = tr1[i1]\n",
    "    last_tr2 = tr2[i2]\n",
    "\n",
    "    dist = spherical_distance(last_tr1, last_tr2)\n",
    "    np += 1\n",
    "\n",
    "    while True:\n",
    "        if i1 >= (len(tr1)-1) or i2 >= (len(tr2)-1):\n",
    "            break\n",
    "\n",
    "        step_tr1 = spherical_distance(last_tr1, tr1[i1 + 1])\n",
    "        step_tr2 = spherical_distance(last_tr2, tr2[i2 + 1])\n",
    "\n",
    "        if step_tr1 < step_tr2:\n",
    "            i1 += 1\n",
    "            last_tr1 = tr1[i1]\n",
    "            last_tr2 = closest_point_on_segment(last_tr2, tr2[i2+1], last_tr1)\n",
    "        elif step_tr1 > step_tr2:\n",
    "            i2 += 1\n",
    "            last_tr2 = tr2[i2]\n",
    "            last_tr1 = closest_point_on_segment(last_tr1, tr1[i1+1], last_tr2)\n",
    "        else:\n",
    "            i1 += 1\n",
    "            i2 += 1\n",
    "            last_tr1 = tr1[i1]\n",
    "            last_tr2 = tr2[i2]\n",
    "\n",
    "        d = spherical_distance(last_tr1, last_tr2)\n",
    "\n",
    "        dist += d\n",
    "        np += 1\n",
    "\n",
    "    for i in range(i1, len(tr1)):\n",
    "        d = spherical_distance(tr2[-1], tr1[i])\n",
    "        dist += d\n",
    "        np += 1\n",
    "\n",
    "    for i in range(i2, len(tr2)):\n",
    "        d = spherical_distance(tr1[-1], tr2[i])\n",
    "        dist += d\n",
    "        np += 1\n",
    "\n",
    "    dist = 1.0 * dist / np\n",
    "\n",
    "    return dist\n",
    "\n",
    "def closest_point_on_segment(a, b, p):\n",
    "    sx1 = a[0]\n",
    "    sx2 = b[0]\n",
    "    sy1 = a[1]\n",
    "    sy2 = b[1]\n",
    "    sz1 = a[2]\n",
    "    sz2 = b[2]\n",
    "    px = p[0]\n",
    "    py = p[1]\n",
    "\n",
    "    x_delta = sx2 - sx1\n",
    "    y_delta = sy2 - sy1\n",
    "    z_delta = sz2 - sz1\n",
    "\n",
    "    if x_delta == 0 and y_delta == 0:\n",
    "        return p\n",
    "\n",
    "    u = ((px - sx1) * x_delta + (py - sy1) * y_delta) / (x_delta * x_delta + y_delta * y_delta)\n",
    "    if u < 0:\n",
    "        closest_point = a\n",
    "    elif u > 1:\n",
    "        closest_point = b\n",
    "    else:\n",
    "        cp_x = sx1 + u * x_delta\n",
    "        cp_y = sy1 + u * y_delta\n",
    "        dist_a_cp = spherical_distance(a, [cp_x, cp_y, 0])\n",
    "        if dist_a_cp != 0:\n",
    "            cp_z = sz1 + z_delta / (spherical_distance(a, b) / spherical_distance(a, [cp_x, cp_y, 0]))\n",
    "        else:\n",
    "            cp_z = a[2]\n",
    "        closest_point = [cp_x, cp_y, cp_z]\n",
    "\n",
    "    return closest_point"
   ]
  },
  {
   "cell_type": "code",
   "execution_count": null,
   "metadata": {},
   "outputs": [],
   "source": []
  },
  {
   "cell_type": "code",
   "execution_count": 74,
   "metadata": {},
   "outputs": [
    {
     "name": "stdout",
     "output_type": "stream",
     "text": [
      "Wall time: 41 ms\n"
     ]
    }
   ],
   "source": [
    "%%time\n",
    "\n",
    "start = datetime.now()\n",
    "\n",
    "colToDelete = 0\n",
    "\n",
    "new_movelets = []\n",
    "\n",
    "for i in range(len(movelets)):\n",
    "    if(len(movelets[i]) < 5):\n",
    "        colToDelete += 1\n",
    "        continue\n",
    "\n",
    "    new_movelets.append(movelets[i])\n",
    "\n",
    "t+= (datetime.now()-start).total_seconds()*1000"
   ]
  },
  {
   "cell_type": "code",
   "execution_count": null,
   "metadata": {},
   "outputs": [],
   "source": []
  },
  {
   "cell_type": "code",
   "execution_count": null,
   "metadata": {},
   "outputs": [],
   "source": []
  },
  {
   "cell_type": "code",
   "execution_count": 75,
   "metadata": {
    "pycharm": {
     "name": "#%%\n"
    }
   },
   "outputs": [
    {
     "data": {
      "application/vnd.jupyter.widget-view+json": {
       "model_id": "37bcdef47207486ca6592e351c636c86",
       "version_major": 2,
       "version_minor": 0
      },
      "text/plain": [
       "  0%|          | 0/8194 [00:00<?, ?it/s]"
      ]
     },
     "metadata": {},
     "output_type": "display_data"
    },
    {
     "name": "stdout",
     "output_type": "stream",
     "text": [
      "Wall time: 58min 4s\n"
     ]
    }
   ],
   "source": [
    "%%time\n",
    "\n",
    "start = datetime.now()\n",
    "\n",
    "dim = len(new_movelets)\n",
    "\n",
    "dist_matrix = np.zeros((dim, dim))\n",
    "\n",
    "for i, tr1 in enumerate(tqdm(new_movelets)):\n",
    "    for j, tr2 in enumerate(new_movelets[:i+1]):\n",
    "        dist = trajectory_distance(tr1, tr2)\n",
    "        dist_matrix[i, j] = dist\n",
    "        dist_matrix[j, i] = dist\n",
    "        \n",
    "t+= (datetime.now()-start).total_seconds()*1000"
   ]
  },
  {
   "cell_type": "code",
   "execution_count": 76,
   "metadata": {
    "pycharm": {
     "name": "#%%\n"
    }
   },
   "outputs": [],
   "source": [
    "np.save(\"dist_matrix_6.npy\", dist_matrix)"
   ]
  },
  {
   "cell_type": "code",
   "execution_count": 77,
   "metadata": {
    "pycharm": {
     "name": "#%%\n"
    }
   },
   "outputs": [],
   "source": [
    "dist_matrix = np.load(\"dist_matrix_6.npy\")"
   ]
  },
  {
   "cell_type": "code",
   "execution_count": 78,
   "metadata": {
    "pycharm": {
     "name": "#%%\n"
    }
   },
   "outputs": [
    {
     "data": {
      "text/plain": [
       "1"
      ]
     },
     "execution_count": 78,
     "metadata": {},
     "output_type": "execute_result"
    }
   ],
   "source": [
    "len(movelets[0])"
   ]
  },
  {
   "cell_type": "code",
   "execution_count": 79,
   "metadata": {
    "pycharm": {
     "name": "#%%\n"
    }
   },
   "outputs": [
    {
     "data": {
      "text/plain": [
       "3492815.4729999998"
      ]
     },
     "execution_count": 79,
     "metadata": {},
     "output_type": "execute_result"
    }
   ],
   "source": [
    "t"
   ]
  },
  {
   "cell_type": "code",
   "execution_count": null,
   "metadata": {},
   "outputs": [],
   "source": []
  },
  {
   "cell_type": "markdown",
   "metadata": {},
   "source": [
    "# QUI"
   ]
  },
  {
   "cell_type": "code",
   "execution_count": null,
   "metadata": {},
   "outputs": [],
   "source": []
  },
  {
   "cell_type": "code",
   "execution_count": 80,
   "metadata": {},
   "outputs": [],
   "source": [
    "t = 0\n",
    "\n",
    "def symbolize(medoids, tr):\n",
    "    i = 0\n",
    "    sym = []\n",
    "    while i < len(tr):\n",
    "        best_medoid_id = np.inf\n",
    "        best_medoid_score = np.inf\n",
    "        for j, medoid in enumerate(medoids):\n",
    "            score = trajectory_distance(medoid, list(map(lambda x: (x[0]-tr[i][0], x[1]-tr[i][1], x[2]-tr[i][2]), tr[i:i+len(medoid)])))\n",
    "            if best_medoid_score > score:\n",
    "                best_medoid_id = j\n",
    "                best_medoid_score = score\n",
    "        sym.append(best_medoid_id)\n",
    "        i += len(medoids[best_medoid_id])\n",
    "\n",
    "    return sym\n",
    "\n",
    "def myContains(big, small):\n",
    "    count = 0\n",
    "    for i in range(len(big)):\n",
    "        if big[i] == small[count]:\n",
    "            count +=1\n",
    "        else:\n",
    "            count = 0\n",
    "        if count == len(small):\n",
    "            return True\n",
    "\n",
    "    return False"
   ]
  },
  {
   "cell_type": "code",
   "execution_count": 81,
   "metadata": {},
   "outputs": [],
   "source": [
    "from sklearn.feature_selection import mutual_info_classif\n",
    "\n",
    "y=df.groupby(by=\"tid\").max()[\"class\"]"
   ]
  },
  {
   "cell_type": "code",
   "execution_count": 82,
   "metadata": {},
   "outputs": [],
   "source": [
    "def guidotti(n_clust=20, sliding_w=3, top_k=200):\n",
    "    kmedoids = KMedoids(n_clusters=n_clust, random_state=0, metric=\"precomputed\").fit(dist_matrix)    \n",
    "    medoids = [new_movelets[x] for x in kmedoids.medoid_indices_]\n",
    "    trajectories = [[(x[3], x[4], x[2]) for x in df[df.tid == tid].values] for tid in df.tid.unique()]\n",
    "    \n",
    "    trajectories_sym=[]\n",
    "    for trajectory in tqdm(trajectories, desc=\"symbolize\"):\n",
    "        trajectories_sym.append(symbolize(medoids, trajectory))\n",
    "            \n",
    "    trajectories_sym_train, _, y_sym_tr, _ = train_test_split(trajectories_sym,\n",
    "                                                        y,\n",
    "                                                        test_size=.3,\n",
    "                                                        stratify=y,\n",
    "                                                        random_state=3)\n",
    "    \n",
    "    subtrajectories_sym=[]\n",
    "    for i, tr in enumerate(tqdm(trajectories_sym_train, desc=\"sliding w\")):\n",
    "        for j in range(0, len(tr)-sliding_w):\n",
    "            subtrajectories_sym.append(tr[j:j+sliding_w])\n",
    "    \n",
    "    sliding_w *= 2\n",
    "    for i, tr in enumerate(tqdm(trajectories_sym_train, desc=\"sliding w\")):\n",
    "        for j in range(0, len(tr)-sliding_w):\n",
    "            subtrajectories_sym.append(tr[j:j+sliding_w])\n",
    "    \n",
    "    sliding_w *= 2\n",
    "    for i, tr in enumerate(tqdm(trajectories_sym_train, desc=\"sliding w\")):\n",
    "        for j in range(0, len(tr)-sliding_w):\n",
    "            subtrajectories_sym.append(tr[j:j+sliding_w])\n",
    "    \n",
    "    matr_sub = np.ones((len(trajectories_sym_train), len(subtrajectories_sym)))*np.NAN\n",
    "    for i, traiettoria in enumerate(tqdm(trajectories_sym_train, desc=\"contains\")):\n",
    "        for j, pattern in enumerate(subtrajectories_sym):\n",
    "            matr_sub[i][j] = 1 if myContains(traiettoria, pattern) else 0\n",
    "    \n",
    "    mi = mutual_info_classif(matr_sub, y_sym_tr)\n",
    "    d = {i: x for i, x in enumerate(mi)}\n",
    "    d = {k: v for k, v in sorted(d.items(), key=lambda item: -item[1])}\n",
    "    \n",
    "    res = []\n",
    "    for key in list(d.keys())[:top_k]:\n",
    "        res.append(subtrajectories_sym[key])\n",
    "        \n",
    "    matr = np.ones((len(trajectories_sym), len(res)))*np.NAN\n",
    "    for i, traiettoria in enumerate(tqdm(trajectories_sym)):\n",
    "        for j, pattern in enumerate(res):\n",
    "            matr[i][j] = 1 if myContains(traiettoria, pattern) else 0\n",
    "    \n",
    "    return matr"
   ]
  },
  {
   "cell_type": "code",
   "execution_count": null,
   "metadata": {},
   "outputs": [],
   "source": []
  },
  {
   "cell_type": "code",
   "execution_count": null,
   "metadata": {},
   "outputs": [],
   "source": []
  },
  {
   "cell_type": "code",
   "execution_count": null,
   "metadata": {},
   "outputs": [],
   "source": []
  },
  {
   "cell_type": "code",
   "execution_count": 83,
   "metadata": {},
   "outputs": [],
   "source": [
    "def runTest(n_clust, sliding_w, top_k):\n",
    "    start = datetime.now()\n",
    "    \n",
    "    X = guidotti(n_clust=n_clust, sliding_w=sliding_w, top_k=top_k)\n",
    "    \n",
    "    return (datetime.now()-start).total_seconds()*1000, X"
   ]
  },
  {
   "cell_type": "code",
   "execution_count": 84,
   "metadata": {},
   "outputs": [],
   "source": [
    "def foo(x):\n",
    "    return (x, x*x)"
   ]
  },
  {
   "cell_type": "code",
   "execution_count": 85,
   "metadata": {},
   "outputs": [
    {
     "data": {
      "application/vnd.jupyter.widget-view+json": {
       "model_id": "22ad776b64214083aecab463bbd8aa34",
       "version_major": 2,
       "version_minor": 0
      },
      "text/plain": [
       "  0%|          | 0/5 [00:00<?, ?it/s]"
      ]
     },
     "metadata": {},
     "output_type": "display_data"
    },
    {
     "data": {
      "application/vnd.jupyter.widget-view+json": {
       "model_id": "f8ae3db44403416f8c51a321b60ebbbc",
       "version_major": 2,
       "version_minor": 0
      },
      "text/plain": [
       "symbolize:   0%|          | 0/381 [00:00<?, ?it/s]"
      ]
     },
     "metadata": {},
     "output_type": "display_data"
    },
    {
     "data": {
      "application/vnd.jupyter.widget-view+json": {
       "model_id": "b8972b98336743bd96e2a09d28880c38",
       "version_major": 2,
       "version_minor": 0
      },
      "text/plain": [
       "sliding w:   0%|          | 0/266 [00:00<?, ?it/s]"
      ]
     },
     "metadata": {},
     "output_type": "display_data"
    },
    {
     "data": {
      "application/vnd.jupyter.widget-view+json": {
       "model_id": "8018d5586f3a402e9aa75c1e6fff7c79",
       "version_major": 2,
       "version_minor": 0
      },
      "text/plain": [
       "sliding w:   0%|          | 0/266 [00:00<?, ?it/s]"
      ]
     },
     "metadata": {},
     "output_type": "display_data"
    },
    {
     "data": {
      "application/vnd.jupyter.widget-view+json": {
       "model_id": "16b41ce518b94aa7a0804fe91c6fd976",
       "version_major": 2,
       "version_minor": 0
      },
      "text/plain": [
       "sliding w:   0%|          | 0/266 [00:00<?, ?it/s]"
      ]
     },
     "metadata": {},
     "output_type": "display_data"
    },
    {
     "data": {
      "application/vnd.jupyter.widget-view+json": {
       "model_id": "79392ded396f471d89ac90820b064c68",
       "version_major": 2,
       "version_minor": 0
      },
      "text/plain": [
       "contains:   0%|          | 0/266 [00:00<?, ?it/s]"
      ]
     },
     "metadata": {},
     "output_type": "display_data"
    },
    {
     "data": {
      "application/vnd.jupyter.widget-view+json": {
       "model_id": "21c760abc1fe47fab46ed746547bde47",
       "version_major": 2,
       "version_minor": 0
      },
      "text/plain": [
       "  0%|          | 0/381 [00:00<?, ?it/s]"
      ]
     },
     "metadata": {},
     "output_type": "display_data"
    },
    {
     "data": {
      "application/vnd.jupyter.widget-view+json": {
       "model_id": "86c15b6135f94b4482f312e509af83b0",
       "version_major": 2,
       "version_minor": 0
      },
      "text/plain": [
       "symbolize:   0%|          | 0/381 [00:00<?, ?it/s]"
      ]
     },
     "metadata": {},
     "output_type": "display_data"
    },
    {
     "data": {
      "application/vnd.jupyter.widget-view+json": {
       "model_id": "25fa22669a0b42a1ad2477a4fb18986a",
       "version_major": 2,
       "version_minor": 0
      },
      "text/plain": [
       "sliding w:   0%|          | 0/266 [00:00<?, ?it/s]"
      ]
     },
     "metadata": {},
     "output_type": "display_data"
    },
    {
     "data": {
      "application/vnd.jupyter.widget-view+json": {
       "model_id": "127bd423b4684833a17a353aa620eeb1",
       "version_major": 2,
       "version_minor": 0
      },
      "text/plain": [
       "sliding w:   0%|          | 0/266 [00:00<?, ?it/s]"
      ]
     },
     "metadata": {},
     "output_type": "display_data"
    },
    {
     "data": {
      "application/vnd.jupyter.widget-view+json": {
       "model_id": "42dffb31475943049e7e0cc0c6bf3f23",
       "version_major": 2,
       "version_minor": 0
      },
      "text/plain": [
       "sliding w:   0%|          | 0/266 [00:00<?, ?it/s]"
      ]
     },
     "metadata": {},
     "output_type": "display_data"
    },
    {
     "data": {
      "application/vnd.jupyter.widget-view+json": {
       "model_id": "4d98a5cd816f4aefb9164b82f3c4b64b",
       "version_major": 2,
       "version_minor": 0
      },
      "text/plain": [
       "contains:   0%|          | 0/266 [00:00<?, ?it/s]"
      ]
     },
     "metadata": {},
     "output_type": "display_data"
    },
    {
     "data": {
      "application/vnd.jupyter.widget-view+json": {
       "model_id": "e63e4c600fc745d8b2cd50f2cc8fdab8",
       "version_major": 2,
       "version_minor": 0
      },
      "text/plain": [
       "  0%|          | 0/381 [00:00<?, ?it/s]"
      ]
     },
     "metadata": {},
     "output_type": "display_data"
    },
    {
     "data": {
      "application/vnd.jupyter.widget-view+json": {
       "model_id": "381818b3d79642c1b324dfa863797865",
       "version_major": 2,
       "version_minor": 0
      },
      "text/plain": [
       "symbolize:   0%|          | 0/381 [00:00<?, ?it/s]"
      ]
     },
     "metadata": {},
     "output_type": "display_data"
    },
    {
     "data": {
      "application/vnd.jupyter.widget-view+json": {
       "model_id": "2a11987398a5427e931d45dab3a55184",
       "version_major": 2,
       "version_minor": 0
      },
      "text/plain": [
       "sliding w:   0%|          | 0/266 [00:00<?, ?it/s]"
      ]
     },
     "metadata": {},
     "output_type": "display_data"
    },
    {
     "data": {
      "application/vnd.jupyter.widget-view+json": {
       "model_id": "dc40bdf392ab47faaaa955aa9d7216ec",
       "version_major": 2,
       "version_minor": 0
      },
      "text/plain": [
       "sliding w:   0%|          | 0/266 [00:00<?, ?it/s]"
      ]
     },
     "metadata": {},
     "output_type": "display_data"
    },
    {
     "data": {
      "application/vnd.jupyter.widget-view+json": {
       "model_id": "3181d97579074ab29147f1ba5c4dd3ff",
       "version_major": 2,
       "version_minor": 0
      },
      "text/plain": [
       "sliding w:   0%|          | 0/266 [00:00<?, ?it/s]"
      ]
     },
     "metadata": {},
     "output_type": "display_data"
    },
    {
     "data": {
      "application/vnd.jupyter.widget-view+json": {
       "model_id": "620032fc96f948fb890be8685a6256f0",
       "version_major": 2,
       "version_minor": 0
      },
      "text/plain": [
       "contains:   0%|          | 0/266 [00:00<?, ?it/s]"
      ]
     },
     "metadata": {},
     "output_type": "display_data"
    },
    {
     "data": {
      "application/vnd.jupyter.widget-view+json": {
       "model_id": "f9ab242578f640b783ea2e9fd55b63d9",
       "version_major": 2,
       "version_minor": 0
      },
      "text/plain": [
       "  0%|          | 0/381 [00:00<?, ?it/s]"
      ]
     },
     "metadata": {},
     "output_type": "display_data"
    },
    {
     "data": {
      "application/vnd.jupyter.widget-view+json": {
       "model_id": "7ba472addc3d457faf6fcb9190715e03",
       "version_major": 2,
       "version_minor": 0
      },
      "text/plain": [
       "symbolize:   0%|          | 0/381 [00:00<?, ?it/s]"
      ]
     },
     "metadata": {},
     "output_type": "display_data"
    },
    {
     "data": {
      "application/vnd.jupyter.widget-view+json": {
       "model_id": "5cd4c972e92a4946a328d1f387ef84b5",
       "version_major": 2,
       "version_minor": 0
      },
      "text/plain": [
       "sliding w:   0%|          | 0/266 [00:00<?, ?it/s]"
      ]
     },
     "metadata": {},
     "output_type": "display_data"
    },
    {
     "data": {
      "application/vnd.jupyter.widget-view+json": {
       "model_id": "568338cc4f6345e287feb16a1c1d550b",
       "version_major": 2,
       "version_minor": 0
      },
      "text/plain": [
       "sliding w:   0%|          | 0/266 [00:00<?, ?it/s]"
      ]
     },
     "metadata": {},
     "output_type": "display_data"
    },
    {
     "data": {
      "application/vnd.jupyter.widget-view+json": {
       "model_id": "6a354e460d984ea1b5bf888750b8550b",
       "version_major": 2,
       "version_minor": 0
      },
      "text/plain": [
       "sliding w:   0%|          | 0/266 [00:00<?, ?it/s]"
      ]
     },
     "metadata": {},
     "output_type": "display_data"
    },
    {
     "data": {
      "application/vnd.jupyter.widget-view+json": {
       "model_id": "bc4a5e504a59436cab864376f7a00aca",
       "version_major": 2,
       "version_minor": 0
      },
      "text/plain": [
       "contains:   0%|          | 0/266 [00:00<?, ?it/s]"
      ]
     },
     "metadata": {},
     "output_type": "display_data"
    },
    {
     "data": {
      "application/vnd.jupyter.widget-view+json": {
       "model_id": "bfc9b3527356469ca9bf52deadc17d8e",
       "version_major": 2,
       "version_minor": 0
      },
      "text/plain": [
       "  0%|          | 0/381 [00:00<?, ?it/s]"
      ]
     },
     "metadata": {},
     "output_type": "display_data"
    },
    {
     "data": {
      "application/vnd.jupyter.widget-view+json": {
       "model_id": "96ff4b97f8a147bdafc290b9da2abc9f",
       "version_major": 2,
       "version_minor": 0
      },
      "text/plain": [
       "symbolize:   0%|          | 0/381 [00:00<?, ?it/s]"
      ]
     },
     "metadata": {},
     "output_type": "display_data"
    },
    {
     "data": {
      "application/vnd.jupyter.widget-view+json": {
       "model_id": "76fd9627ff964a3f9f47102805570881",
       "version_major": 2,
       "version_minor": 0
      },
      "text/plain": [
       "sliding w:   0%|          | 0/266 [00:00<?, ?it/s]"
      ]
     },
     "metadata": {},
     "output_type": "display_data"
    },
    {
     "data": {
      "application/vnd.jupyter.widget-view+json": {
       "model_id": "10123b0e264e4777b240d1f888bc2ac9",
       "version_major": 2,
       "version_minor": 0
      },
      "text/plain": [
       "sliding w:   0%|          | 0/266 [00:00<?, ?it/s]"
      ]
     },
     "metadata": {},
     "output_type": "display_data"
    },
    {
     "data": {
      "application/vnd.jupyter.widget-view+json": {
       "model_id": "87cd57182bbf49acb640f9f291aee563",
       "version_major": 2,
       "version_minor": 0
      },
      "text/plain": [
       "sliding w:   0%|          | 0/266 [00:00<?, ?it/s]"
      ]
     },
     "metadata": {},
     "output_type": "display_data"
    },
    {
     "data": {
      "application/vnd.jupyter.widget-view+json": {
       "model_id": "c8b1e8b4ec14496b9037b61098538618",
       "version_major": 2,
       "version_minor": 0
      },
      "text/plain": [
       "contains:   0%|          | 0/266 [00:00<?, ?it/s]"
      ]
     },
     "metadata": {},
     "output_type": "display_data"
    },
    {
     "data": {
      "application/vnd.jupyter.widget-view+json": {
       "model_id": "bb2b9ecedc954cfc87358578dc0fd1da",
       "version_major": 2,
       "version_minor": 0
      },
      "text/plain": [
       "  0%|          | 0/381 [00:00<?, ?it/s]"
      ]
     },
     "metadata": {},
     "output_type": "display_data"
    },
    {
     "data": {
      "application/vnd.jupyter.widget-view+json": {
       "model_id": "b912515cf58343128a1d77ae6f51327d",
       "version_major": 2,
       "version_minor": 0
      },
      "text/plain": [
       "symbolize:   0%|          | 0/381 [00:00<?, ?it/s]"
      ]
     },
     "metadata": {},
     "output_type": "display_data"
    },
    {
     "data": {
      "application/vnd.jupyter.widget-view+json": {
       "model_id": "48d2c549b9ce44b8bc88c8f8a79443ae",
       "version_major": 2,
       "version_minor": 0
      },
      "text/plain": [
       "sliding w:   0%|          | 0/266 [00:00<?, ?it/s]"
      ]
     },
     "metadata": {},
     "output_type": "display_data"
    },
    {
     "data": {
      "application/vnd.jupyter.widget-view+json": {
       "model_id": "4fe3947f92d549ecabf4a16862e98ec7",
       "version_major": 2,
       "version_minor": 0
      },
      "text/plain": [
       "sliding w:   0%|          | 0/266 [00:00<?, ?it/s]"
      ]
     },
     "metadata": {},
     "output_type": "display_data"
    },
    {
     "data": {
      "application/vnd.jupyter.widget-view+json": {
       "model_id": "306b14c1ce474c749b3c58cc7d55e290",
       "version_major": 2,
       "version_minor": 0
      },
      "text/plain": [
       "sliding w:   0%|          | 0/266 [00:00<?, ?it/s]"
      ]
     },
     "metadata": {},
     "output_type": "display_data"
    },
    {
     "data": {
      "application/vnd.jupyter.widget-view+json": {
       "model_id": "2efdfad132cd4d75afa48806af0899ae",
       "version_major": 2,
       "version_minor": 0
      },
      "text/plain": [
       "contains:   0%|          | 0/266 [00:00<?, ?it/s]"
      ]
     },
     "metadata": {},
     "output_type": "display_data"
    },
    {
     "data": {
      "application/vnd.jupyter.widget-view+json": {
       "model_id": "44ee8da0494b4d3db10b781de762f756",
       "version_major": 2,
       "version_minor": 0
      },
      "text/plain": [
       "  0%|          | 0/381 [00:00<?, ?it/s]"
      ]
     },
     "metadata": {},
     "output_type": "display_data"
    },
    {
     "data": {
      "application/vnd.jupyter.widget-view+json": {
       "model_id": "eb9ebc8844f9482fa557866d04682c2e",
       "version_major": 2,
       "version_minor": 0
      },
      "text/plain": [
       "symbolize:   0%|          | 0/381 [00:00<?, ?it/s]"
      ]
     },
     "metadata": {},
     "output_type": "display_data"
    },
    {
     "data": {
      "application/vnd.jupyter.widget-view+json": {
       "model_id": "6cda815704994c76887bcd44939161b0",
       "version_major": 2,
       "version_minor": 0
      },
      "text/plain": [
       "sliding w:   0%|          | 0/266 [00:00<?, ?it/s]"
      ]
     },
     "metadata": {},
     "output_type": "display_data"
    },
    {
     "data": {
      "application/vnd.jupyter.widget-view+json": {
       "model_id": "a2ec6270a3904b9a8b5293f8e8e57dd9",
       "version_major": 2,
       "version_minor": 0
      },
      "text/plain": [
       "sliding w:   0%|          | 0/266 [00:00<?, ?it/s]"
      ]
     },
     "metadata": {},
     "output_type": "display_data"
    },
    {
     "data": {
      "application/vnd.jupyter.widget-view+json": {
       "model_id": "e725d51af1c843228dbb0776999af180",
       "version_major": 2,
       "version_minor": 0
      },
      "text/plain": [
       "sliding w:   0%|          | 0/266 [00:00<?, ?it/s]"
      ]
     },
     "metadata": {},
     "output_type": "display_data"
    },
    {
     "data": {
      "application/vnd.jupyter.widget-view+json": {
       "model_id": "8f6128cb90a94e5d8b35f8c1a78bdee6",
       "version_major": 2,
       "version_minor": 0
      },
      "text/plain": [
       "contains:   0%|          | 0/266 [00:00<?, ?it/s]"
      ]
     },
     "metadata": {},
     "output_type": "display_data"
    },
    {
     "data": {
      "application/vnd.jupyter.widget-view+json": {
       "model_id": "ee5f5d7ba1db43b08ddccb106216aa4b",
       "version_major": 2,
       "version_minor": 0
      },
      "text/plain": [
       "  0%|          | 0/381 [00:00<?, ?it/s]"
      ]
     },
     "metadata": {},
     "output_type": "display_data"
    },
    {
     "data": {
      "application/vnd.jupyter.widget-view+json": {
       "model_id": "3c9f7b6b08ae40929d9aea8df40255c7",
       "version_major": 2,
       "version_minor": 0
      },
      "text/plain": [
       "symbolize:   0%|          | 0/381 [00:00<?, ?it/s]"
      ]
     },
     "metadata": {},
     "output_type": "display_data"
    },
    {
     "data": {
      "application/vnd.jupyter.widget-view+json": {
       "model_id": "71642e6a346346c1aec762fa9446edec",
       "version_major": 2,
       "version_minor": 0
      },
      "text/plain": [
       "sliding w:   0%|          | 0/266 [00:00<?, ?it/s]"
      ]
     },
     "metadata": {},
     "output_type": "display_data"
    },
    {
     "data": {
      "application/vnd.jupyter.widget-view+json": {
       "model_id": "5a6084243cf44f7d8399610e8df16733",
       "version_major": 2,
       "version_minor": 0
      },
      "text/plain": [
       "sliding w:   0%|          | 0/266 [00:00<?, ?it/s]"
      ]
     },
     "metadata": {},
     "output_type": "display_data"
    },
    {
     "data": {
      "application/vnd.jupyter.widget-view+json": {
       "model_id": "8810bca7357e46d9a9aa8dffbcdd030b",
       "version_major": 2,
       "version_minor": 0
      },
      "text/plain": [
       "sliding w:   0%|          | 0/266 [00:00<?, ?it/s]"
      ]
     },
     "metadata": {},
     "output_type": "display_data"
    },
    {
     "data": {
      "application/vnd.jupyter.widget-view+json": {
       "model_id": "7c36e928f3294b08a079a3ce1b8fb676",
       "version_major": 2,
       "version_minor": 0
      },
      "text/plain": [
       "contains:   0%|          | 0/266 [00:00<?, ?it/s]"
      ]
     },
     "metadata": {},
     "output_type": "display_data"
    },
    {
     "data": {
      "application/vnd.jupyter.widget-view+json": {
       "model_id": "f07554004d05466680817f00e20aa334",
       "version_major": 2,
       "version_minor": 0
      },
      "text/plain": [
       "  0%|          | 0/381 [00:00<?, ?it/s]"
      ]
     },
     "metadata": {},
     "output_type": "display_data"
    },
    {
     "data": {
      "application/vnd.jupyter.widget-view+json": {
       "model_id": "9861318e577749a384872f4bdd7a5ae7",
       "version_major": 2,
       "version_minor": 0
      },
      "text/plain": [
       "symbolize:   0%|          | 0/381 [00:00<?, ?it/s]"
      ]
     },
     "metadata": {},
     "output_type": "display_data"
    },
    {
     "data": {
      "application/vnd.jupyter.widget-view+json": {
       "model_id": "4f4c622f867141ae87888028384326c9",
       "version_major": 2,
       "version_minor": 0
      },
      "text/plain": [
       "sliding w:   0%|          | 0/266 [00:00<?, ?it/s]"
      ]
     },
     "metadata": {},
     "output_type": "display_data"
    },
    {
     "data": {
      "application/vnd.jupyter.widget-view+json": {
       "model_id": "479b37b9bbeb46688846111367451593",
       "version_major": 2,
       "version_minor": 0
      },
      "text/plain": [
       "sliding w:   0%|          | 0/266 [00:00<?, ?it/s]"
      ]
     },
     "metadata": {},
     "output_type": "display_data"
    },
    {
     "data": {
      "application/vnd.jupyter.widget-view+json": {
       "model_id": "82ffa6cee134443bae705b99dec107ab",
       "version_major": 2,
       "version_minor": 0
      },
      "text/plain": [
       "sliding w:   0%|          | 0/266 [00:00<?, ?it/s]"
      ]
     },
     "metadata": {},
     "output_type": "display_data"
    },
    {
     "data": {
      "application/vnd.jupyter.widget-view+json": {
       "model_id": "24ffa256002943eea0ea691f5920530c",
       "version_major": 2,
       "version_minor": 0
      },
      "text/plain": [
       "contains:   0%|          | 0/266 [00:00<?, ?it/s]"
      ]
     },
     "metadata": {},
     "output_type": "display_data"
    },
    {
     "data": {
      "application/vnd.jupyter.widget-view+json": {
       "model_id": "5737836defec4a9e9e435ac4b82faf84",
       "version_major": 2,
       "version_minor": 0
      },
      "text/plain": [
       "  0%|          | 0/381 [00:00<?, ?it/s]"
      ]
     },
     "metadata": {},
     "output_type": "display_data"
    },
    {
     "data": {
      "application/vnd.jupyter.widget-view+json": {
       "model_id": "93a1a3c6c56b4e8385c61203dee5213f",
       "version_major": 2,
       "version_minor": 0
      },
      "text/plain": [
       "symbolize:   0%|          | 0/381 [00:00<?, ?it/s]"
      ]
     },
     "metadata": {},
     "output_type": "display_data"
    },
    {
     "data": {
      "application/vnd.jupyter.widget-view+json": {
       "model_id": "7043495420114359bf9b7607c31a9081",
       "version_major": 2,
       "version_minor": 0
      },
      "text/plain": [
       "sliding w:   0%|          | 0/266 [00:00<?, ?it/s]"
      ]
     },
     "metadata": {},
     "output_type": "display_data"
    },
    {
     "data": {
      "application/vnd.jupyter.widget-view+json": {
       "model_id": "5f92902ab15c485ea6d9f401114fc6dd",
       "version_major": 2,
       "version_minor": 0
      },
      "text/plain": [
       "sliding w:   0%|          | 0/266 [00:00<?, ?it/s]"
      ]
     },
     "metadata": {},
     "output_type": "display_data"
    },
    {
     "data": {
      "application/vnd.jupyter.widget-view+json": {
       "model_id": "b75dd5fff1e44574b5f0367222c35f9a",
       "version_major": 2,
       "version_minor": 0
      },
      "text/plain": [
       "sliding w:   0%|          | 0/266 [00:00<?, ?it/s]"
      ]
     },
     "metadata": {},
     "output_type": "display_data"
    },
    {
     "data": {
      "application/vnd.jupyter.widget-view+json": {
       "model_id": "6f6daa314efa45f6bae0dfd901e061bb",
       "version_major": 2,
       "version_minor": 0
      },
      "text/plain": [
       "contains:   0%|          | 0/266 [00:00<?, ?it/s]"
      ]
     },
     "metadata": {},
     "output_type": "display_data"
    },
    {
     "data": {
      "application/vnd.jupyter.widget-view+json": {
       "model_id": "0327cb4a53bc4856ad183329033ceb21",
       "version_major": 2,
       "version_minor": 0
      },
      "text/plain": [
       "  0%|          | 0/381 [00:00<?, ?it/s]"
      ]
     },
     "metadata": {},
     "output_type": "display_data"
    },
    {
     "data": {
      "application/vnd.jupyter.widget-view+json": {
       "model_id": "c05a9aa9c5ca4a59b18dc35943390fe6",
       "version_major": 2,
       "version_minor": 0
      },
      "text/plain": [
       "symbolize:   0%|          | 0/381 [00:00<?, ?it/s]"
      ]
     },
     "metadata": {},
     "output_type": "display_data"
    },
    {
     "data": {
      "application/vnd.jupyter.widget-view+json": {
       "model_id": "dffffb0878524c918f157c61908b00d2",
       "version_major": 2,
       "version_minor": 0
      },
      "text/plain": [
       "sliding w:   0%|          | 0/266 [00:00<?, ?it/s]"
      ]
     },
     "metadata": {},
     "output_type": "display_data"
    },
    {
     "data": {
      "application/vnd.jupyter.widget-view+json": {
       "model_id": "ff4eb5a5576243c7aa0d417eebbf5a03",
       "version_major": 2,
       "version_minor": 0
      },
      "text/plain": [
       "sliding w:   0%|          | 0/266 [00:00<?, ?it/s]"
      ]
     },
     "metadata": {},
     "output_type": "display_data"
    },
    {
     "data": {
      "application/vnd.jupyter.widget-view+json": {
       "model_id": "bf1fb26edd22438784497fa87f7a7897",
       "version_major": 2,
       "version_minor": 0
      },
      "text/plain": [
       "sliding w:   0%|          | 0/266 [00:00<?, ?it/s]"
      ]
     },
     "metadata": {},
     "output_type": "display_data"
    },
    {
     "data": {
      "application/vnd.jupyter.widget-view+json": {
       "model_id": "0f4ffb21376142c481d806bb7468ecb0",
       "version_major": 2,
       "version_minor": 0
      },
      "text/plain": [
       "contains:   0%|          | 0/266 [00:00<?, ?it/s]"
      ]
     },
     "metadata": {},
     "output_type": "display_data"
    },
    {
     "data": {
      "application/vnd.jupyter.widget-view+json": {
       "model_id": "26dfbaa9b9f74eb894ec90c25fb1c3d9",
       "version_major": 2,
       "version_minor": 0
      },
      "text/plain": [
       "  0%|          | 0/381 [00:00<?, ?it/s]"
      ]
     },
     "metadata": {},
     "output_type": "display_data"
    },
    {
     "data": {
      "application/vnd.jupyter.widget-view+json": {
       "model_id": "027e9b6463b84ad58b7153486415c210",
       "version_major": 2,
       "version_minor": 0
      },
      "text/plain": [
       "symbolize:   0%|          | 0/381 [00:00<?, ?it/s]"
      ]
     },
     "metadata": {},
     "output_type": "display_data"
    },
    {
     "data": {
      "application/vnd.jupyter.widget-view+json": {
       "model_id": "80dfd6896cba477895df4d4764f28949",
       "version_major": 2,
       "version_minor": 0
      },
      "text/plain": [
       "sliding w:   0%|          | 0/266 [00:00<?, ?it/s]"
      ]
     },
     "metadata": {},
     "output_type": "display_data"
    },
    {
     "data": {
      "application/vnd.jupyter.widget-view+json": {
       "model_id": "1fbcf07d8b9e42b78ecc687c361c7f7b",
       "version_major": 2,
       "version_minor": 0
      },
      "text/plain": [
       "sliding w:   0%|          | 0/266 [00:00<?, ?it/s]"
      ]
     },
     "metadata": {},
     "output_type": "display_data"
    },
    {
     "data": {
      "application/vnd.jupyter.widget-view+json": {
       "model_id": "8c4e8161f8044a00a53b5158b49a78b4",
       "version_major": 2,
       "version_minor": 0
      },
      "text/plain": [
       "sliding w:   0%|          | 0/266 [00:00<?, ?it/s]"
      ]
     },
     "metadata": {},
     "output_type": "display_data"
    },
    {
     "data": {
      "application/vnd.jupyter.widget-view+json": {
       "model_id": "2a8aae20685b4875a6830bcc6b379aef",
       "version_major": 2,
       "version_minor": 0
      },
      "text/plain": [
       "contains:   0%|          | 0/266 [00:00<?, ?it/s]"
      ]
     },
     "metadata": {},
     "output_type": "display_data"
    },
    {
     "data": {
      "application/vnd.jupyter.widget-view+json": {
       "model_id": "ecb82a195c6b4fa49075d39139d9e2a5",
       "version_major": 2,
       "version_minor": 0
      },
      "text/plain": [
       "  0%|          | 0/381 [00:00<?, ?it/s]"
      ]
     },
     "metadata": {},
     "output_type": "display_data"
    },
    {
     "data": {
      "application/vnd.jupyter.widget-view+json": {
       "model_id": "32da065c0b40483593d68674897883b2",
       "version_major": 2,
       "version_minor": 0
      },
      "text/plain": [
       "symbolize:   0%|          | 0/381 [00:00<?, ?it/s]"
      ]
     },
     "metadata": {},
     "output_type": "display_data"
    },
    {
     "data": {
      "application/vnd.jupyter.widget-view+json": {
       "model_id": "55fffb6376b74578848bd67f55f96990",
       "version_major": 2,
       "version_minor": 0
      },
      "text/plain": [
       "sliding w:   0%|          | 0/266 [00:00<?, ?it/s]"
      ]
     },
     "metadata": {},
     "output_type": "display_data"
    },
    {
     "data": {
      "application/vnd.jupyter.widget-view+json": {
       "model_id": "cee9f025c8ed4588b6fb02a45cf87e0f",
       "version_major": 2,
       "version_minor": 0
      },
      "text/plain": [
       "sliding w:   0%|          | 0/266 [00:00<?, ?it/s]"
      ]
     },
     "metadata": {},
     "output_type": "display_data"
    },
    {
     "data": {
      "application/vnd.jupyter.widget-view+json": {
       "model_id": "80b63fcb036e40488d196c3f12264a86",
       "version_major": 2,
       "version_minor": 0
      },
      "text/plain": [
       "sliding w:   0%|          | 0/266 [00:00<?, ?it/s]"
      ]
     },
     "metadata": {},
     "output_type": "display_data"
    },
    {
     "data": {
      "application/vnd.jupyter.widget-view+json": {
       "model_id": "16e7d3eb560a4f5d914c3335b1ac1e2a",
       "version_major": 2,
       "version_minor": 0
      },
      "text/plain": [
       "contains:   0%|          | 0/266 [00:00<?, ?it/s]"
      ]
     },
     "metadata": {},
     "output_type": "display_data"
    },
    {
     "data": {
      "application/vnd.jupyter.widget-view+json": {
       "model_id": "76268611d0cb47ed9e4fb21cb4fa877f",
       "version_major": 2,
       "version_minor": 0
      },
      "text/plain": [
       "  0%|          | 0/381 [00:00<?, ?it/s]"
      ]
     },
     "metadata": {},
     "output_type": "display_data"
    },
    {
     "data": {
      "application/vnd.jupyter.widget-view+json": {
       "model_id": "e27c829a97514b58922243932f4153cc",
       "version_major": 2,
       "version_minor": 0
      },
      "text/plain": [
       "symbolize:   0%|          | 0/381 [00:00<?, ?it/s]"
      ]
     },
     "metadata": {},
     "output_type": "display_data"
    },
    {
     "data": {
      "application/vnd.jupyter.widget-view+json": {
       "model_id": "c7aa65bcc098493e9dafc62f49dc04ef",
       "version_major": 2,
       "version_minor": 0
      },
      "text/plain": [
       "sliding w:   0%|          | 0/266 [00:00<?, ?it/s]"
      ]
     },
     "metadata": {},
     "output_type": "display_data"
    },
    {
     "data": {
      "application/vnd.jupyter.widget-view+json": {
       "model_id": "9178674ac81d4f31a562bc0a7f38bbba",
       "version_major": 2,
       "version_minor": 0
      },
      "text/plain": [
       "sliding w:   0%|          | 0/266 [00:00<?, ?it/s]"
      ]
     },
     "metadata": {},
     "output_type": "display_data"
    },
    {
     "data": {
      "application/vnd.jupyter.widget-view+json": {
       "model_id": "773d1e9b26c4429db96f9f2902716b76",
       "version_major": 2,
       "version_minor": 0
      },
      "text/plain": [
       "sliding w:   0%|          | 0/266 [00:00<?, ?it/s]"
      ]
     },
     "metadata": {},
     "output_type": "display_data"
    },
    {
     "data": {
      "application/vnd.jupyter.widget-view+json": {
       "model_id": "c305bd9bf43f45d8a763bde2e44841ae",
       "version_major": 2,
       "version_minor": 0
      },
      "text/plain": [
       "contains:   0%|          | 0/266 [00:00<?, ?it/s]"
      ]
     },
     "metadata": {},
     "output_type": "display_data"
    },
    {
     "data": {
      "application/vnd.jupyter.widget-view+json": {
       "model_id": "d9ebafdf2ca5479ea3353c141c9d75a9",
       "version_major": 2,
       "version_minor": 0
      },
      "text/plain": [
       "  0%|          | 0/381 [00:00<?, ?it/s]"
      ]
     },
     "metadata": {},
     "output_type": "display_data"
    },
    {
     "data": {
      "application/vnd.jupyter.widget-view+json": {
       "model_id": "e78fc6826d5b4396916736ca575fe0f0",
       "version_major": 2,
       "version_minor": 0
      },
      "text/plain": [
       "symbolize:   0%|          | 0/381 [00:00<?, ?it/s]"
      ]
     },
     "metadata": {},
     "output_type": "display_data"
    },
    {
     "data": {
      "application/vnd.jupyter.widget-view+json": {
       "model_id": "0fe8cb92575240f9815f0d47e8228fb8",
       "version_major": 2,
       "version_minor": 0
      },
      "text/plain": [
       "sliding w:   0%|          | 0/266 [00:00<?, ?it/s]"
      ]
     },
     "metadata": {},
     "output_type": "display_data"
    },
    {
     "data": {
      "application/vnd.jupyter.widget-view+json": {
       "model_id": "b5e3587fd004409daa99621745cef372",
       "version_major": 2,
       "version_minor": 0
      },
      "text/plain": [
       "sliding w:   0%|          | 0/266 [00:00<?, ?it/s]"
      ]
     },
     "metadata": {},
     "output_type": "display_data"
    },
    {
     "data": {
      "application/vnd.jupyter.widget-view+json": {
       "model_id": "128d84fddc6c40579bbaf12e6a6d02cb",
       "version_major": 2,
       "version_minor": 0
      },
      "text/plain": [
       "sliding w:   0%|          | 0/266 [00:00<?, ?it/s]"
      ]
     },
     "metadata": {},
     "output_type": "display_data"
    },
    {
     "data": {
      "application/vnd.jupyter.widget-view+json": {
       "model_id": "f354862c90b446a0ac567638035773c0",
       "version_major": 2,
       "version_minor": 0
      },
      "text/plain": [
       "contains:   0%|          | 0/266 [00:00<?, ?it/s]"
      ]
     },
     "metadata": {},
     "output_type": "display_data"
    },
    {
     "data": {
      "application/vnd.jupyter.widget-view+json": {
       "model_id": "98fb40274d374d81abd78528e72d2688",
       "version_major": 2,
       "version_minor": 0
      },
      "text/plain": [
       "  0%|          | 0/381 [00:00<?, ?it/s]"
      ]
     },
     "metadata": {},
     "output_type": "display_data"
    },
    {
     "data": {
      "application/vnd.jupyter.widget-view+json": {
       "model_id": "9a7ea7755b8e47e2af403be885c97f6e",
       "version_major": 2,
       "version_minor": 0
      },
      "text/plain": [
       "symbolize:   0%|          | 0/381 [00:00<?, ?it/s]"
      ]
     },
     "metadata": {},
     "output_type": "display_data"
    },
    {
     "data": {
      "application/vnd.jupyter.widget-view+json": {
       "model_id": "fb37c935acde401d891ffc2e020cda14",
       "version_major": 2,
       "version_minor": 0
      },
      "text/plain": [
       "sliding w:   0%|          | 0/266 [00:00<?, ?it/s]"
      ]
     },
     "metadata": {},
     "output_type": "display_data"
    },
    {
     "data": {
      "application/vnd.jupyter.widget-view+json": {
       "model_id": "3b493a4798d4497db374d1022219a26c",
       "version_major": 2,
       "version_minor": 0
      },
      "text/plain": [
       "sliding w:   0%|          | 0/266 [00:00<?, ?it/s]"
      ]
     },
     "metadata": {},
     "output_type": "display_data"
    },
    {
     "data": {
      "application/vnd.jupyter.widget-view+json": {
       "model_id": "0e80854d149d432eb874cc78a4156072",
       "version_major": 2,
       "version_minor": 0
      },
      "text/plain": [
       "sliding w:   0%|          | 0/266 [00:00<?, ?it/s]"
      ]
     },
     "metadata": {},
     "output_type": "display_data"
    },
    {
     "data": {
      "application/vnd.jupyter.widget-view+json": {
       "model_id": "d92c1a607e734a9ea368dc48f0008870",
       "version_major": 2,
       "version_minor": 0
      },
      "text/plain": [
       "contains:   0%|          | 0/266 [00:00<?, ?it/s]"
      ]
     },
     "metadata": {},
     "output_type": "display_data"
    },
    {
     "data": {
      "application/vnd.jupyter.widget-view+json": {
       "model_id": "f3ca6479eb92499a93f94e049324d745",
       "version_major": 2,
       "version_minor": 0
      },
      "text/plain": [
       "  0%|          | 0/381 [00:00<?, ?it/s]"
      ]
     },
     "metadata": {},
     "output_type": "display_data"
    },
    {
     "data": {
      "application/vnd.jupyter.widget-view+json": {
       "model_id": "ce3d38f4526d44d2b61c44228fc57aae",
       "version_major": 2,
       "version_minor": 0
      },
      "text/plain": [
       "symbolize:   0%|          | 0/381 [00:00<?, ?it/s]"
      ]
     },
     "metadata": {},
     "output_type": "display_data"
    },
    {
     "data": {
      "application/vnd.jupyter.widget-view+json": {
       "model_id": "dfaf539c0ef945cb906e76edcd4b78ec",
       "version_major": 2,
       "version_minor": 0
      },
      "text/plain": [
       "sliding w:   0%|          | 0/266 [00:00<?, ?it/s]"
      ]
     },
     "metadata": {},
     "output_type": "display_data"
    },
    {
     "data": {
      "application/vnd.jupyter.widget-view+json": {
       "model_id": "549eaaf4346d4127b5adb518ebc3b8a3",
       "version_major": 2,
       "version_minor": 0
      },
      "text/plain": [
       "sliding w:   0%|          | 0/266 [00:00<?, ?it/s]"
      ]
     },
     "metadata": {},
     "output_type": "display_data"
    },
    {
     "data": {
      "application/vnd.jupyter.widget-view+json": {
       "model_id": "0397bbf051b54e70a6d7ce687900f36c",
       "version_major": 2,
       "version_minor": 0
      },
      "text/plain": [
       "sliding w:   0%|          | 0/266 [00:00<?, ?it/s]"
      ]
     },
     "metadata": {},
     "output_type": "display_data"
    },
    {
     "data": {
      "application/vnd.jupyter.widget-view+json": {
       "model_id": "8e2efbb2f8514e038c6e15cdb76e7dd9",
       "version_major": 2,
       "version_minor": 0
      },
      "text/plain": [
       "contains:   0%|          | 0/266 [00:00<?, ?it/s]"
      ]
     },
     "metadata": {},
     "output_type": "display_data"
    },
    {
     "data": {
      "application/vnd.jupyter.widget-view+json": {
       "model_id": "35ee56dbcfed47009e345eb7df52e73b",
       "version_major": 2,
       "version_minor": 0
      },
      "text/plain": [
       "  0%|          | 0/381 [00:00<?, ?it/s]"
      ]
     },
     "metadata": {},
     "output_type": "display_data"
    },
    {
     "data": {
      "application/vnd.jupyter.widget-view+json": {
       "model_id": "517c59316ea245038b706f34ff49203d",
       "version_major": 2,
       "version_minor": 0
      },
      "text/plain": [
       "symbolize:   0%|          | 0/381 [00:00<?, ?it/s]"
      ]
     },
     "metadata": {},
     "output_type": "display_data"
    },
    {
     "data": {
      "application/vnd.jupyter.widget-view+json": {
       "model_id": "9ab06458acbb40b7bcd59473fc470cc8",
       "version_major": 2,
       "version_minor": 0
      },
      "text/plain": [
       "sliding w:   0%|          | 0/266 [00:00<?, ?it/s]"
      ]
     },
     "metadata": {},
     "output_type": "display_data"
    },
    {
     "data": {
      "application/vnd.jupyter.widget-view+json": {
       "model_id": "35d52e33f70149b5ae1cb66d784808b2",
       "version_major": 2,
       "version_minor": 0
      },
      "text/plain": [
       "sliding w:   0%|          | 0/266 [00:00<?, ?it/s]"
      ]
     },
     "metadata": {},
     "output_type": "display_data"
    },
    {
     "data": {
      "application/vnd.jupyter.widget-view+json": {
       "model_id": "e55c47c29c2d40759e28dd74bf3a4aab",
       "version_major": 2,
       "version_minor": 0
      },
      "text/plain": [
       "sliding w:   0%|          | 0/266 [00:00<?, ?it/s]"
      ]
     },
     "metadata": {},
     "output_type": "display_data"
    },
    {
     "data": {
      "application/vnd.jupyter.widget-view+json": {
       "model_id": "8540c9d0898f4904bd4184c06d756a06",
       "version_major": 2,
       "version_minor": 0
      },
      "text/plain": [
       "contains:   0%|          | 0/266 [00:00<?, ?it/s]"
      ]
     },
     "metadata": {},
     "output_type": "display_data"
    },
    {
     "data": {
      "application/vnd.jupyter.widget-view+json": {
       "model_id": "64ee10a648d745a2a05f6b13cbe4f144",
       "version_major": 2,
       "version_minor": 0
      },
      "text/plain": [
       "  0%|          | 0/381 [00:00<?, ?it/s]"
      ]
     },
     "metadata": {},
     "output_type": "display_data"
    },
    {
     "data": {
      "application/vnd.jupyter.widget-view+json": {
       "model_id": "d1087194198a43088d05d13251715234",
       "version_major": 2,
       "version_minor": 0
      },
      "text/plain": [
       "symbolize:   0%|          | 0/381 [00:00<?, ?it/s]"
      ]
     },
     "metadata": {},
     "output_type": "display_data"
    },
    {
     "data": {
      "application/vnd.jupyter.widget-view+json": {
       "model_id": "604c9c60cb634bebbc0b96fb0430dd60",
       "version_major": 2,
       "version_minor": 0
      },
      "text/plain": [
       "sliding w:   0%|          | 0/266 [00:00<?, ?it/s]"
      ]
     },
     "metadata": {},
     "output_type": "display_data"
    },
    {
     "data": {
      "application/vnd.jupyter.widget-view+json": {
       "model_id": "c630f61eba7a4d47bfbf3711058cf1dc",
       "version_major": 2,
       "version_minor": 0
      },
      "text/plain": [
       "sliding w:   0%|          | 0/266 [00:00<?, ?it/s]"
      ]
     },
     "metadata": {},
     "output_type": "display_data"
    },
    {
     "data": {
      "application/vnd.jupyter.widget-view+json": {
       "model_id": "c8dbf92161614b20b1dd7be2009b063f",
       "version_major": 2,
       "version_minor": 0
      },
      "text/plain": [
       "sliding w:   0%|          | 0/266 [00:00<?, ?it/s]"
      ]
     },
     "metadata": {},
     "output_type": "display_data"
    },
    {
     "data": {
      "application/vnd.jupyter.widget-view+json": {
       "model_id": "547ed662dd7d4a3bba575d8c71676b23",
       "version_major": 2,
       "version_minor": 0
      },
      "text/plain": [
       "contains:   0%|          | 0/266 [00:00<?, ?it/s]"
      ]
     },
     "metadata": {},
     "output_type": "display_data"
    },
    {
     "data": {
      "application/vnd.jupyter.widget-view+json": {
       "model_id": "3233cba922b54d6baeab8da48efc5baf",
       "version_major": 2,
       "version_minor": 0
      },
      "text/plain": [
       "  0%|          | 0/381 [00:00<?, ?it/s]"
      ]
     },
     "metadata": {},
     "output_type": "display_data"
    },
    {
     "data": {
      "application/vnd.jupyter.widget-view+json": {
       "model_id": "68a03f36845844ee9260ae103d96dd19",
       "version_major": 2,
       "version_minor": 0
      },
      "text/plain": [
       "symbolize:   0%|          | 0/381 [00:00<?, ?it/s]"
      ]
     },
     "metadata": {},
     "output_type": "display_data"
    },
    {
     "data": {
      "application/vnd.jupyter.widget-view+json": {
       "model_id": "9f22a4f7303e4210bcedf86336d04eb3",
       "version_major": 2,
       "version_minor": 0
      },
      "text/plain": [
       "sliding w:   0%|          | 0/266 [00:00<?, ?it/s]"
      ]
     },
     "metadata": {},
     "output_type": "display_data"
    },
    {
     "data": {
      "application/vnd.jupyter.widget-view+json": {
       "model_id": "aebd44f565a140cea1a4a7cc907a5aaa",
       "version_major": 2,
       "version_minor": 0
      },
      "text/plain": [
       "sliding w:   0%|          | 0/266 [00:00<?, ?it/s]"
      ]
     },
     "metadata": {},
     "output_type": "display_data"
    },
    {
     "data": {
      "application/vnd.jupyter.widget-view+json": {
       "model_id": "8b2c1f7a31634aa4a582a0fcefa46c5b",
       "version_major": 2,
       "version_minor": 0
      },
      "text/plain": [
       "sliding w:   0%|          | 0/266 [00:00<?, ?it/s]"
      ]
     },
     "metadata": {},
     "output_type": "display_data"
    },
    {
     "data": {
      "application/vnd.jupyter.widget-view+json": {
       "model_id": "1c3ee2a4fe404c7fa5d1e4e4ff2aa182",
       "version_major": 2,
       "version_minor": 0
      },
      "text/plain": [
       "contains:   0%|          | 0/266 [00:00<?, ?it/s]"
      ]
     },
     "metadata": {},
     "output_type": "display_data"
    },
    {
     "data": {
      "application/vnd.jupyter.widget-view+json": {
       "model_id": "705218d4f8e1490bae7b8edc671902da",
       "version_major": 2,
       "version_minor": 0
      },
      "text/plain": [
       "  0%|          | 0/381 [00:00<?, ?it/s]"
      ]
     },
     "metadata": {},
     "output_type": "display_data"
    },
    {
     "data": {
      "application/vnd.jupyter.widget-view+json": {
       "model_id": "3b208ea7216a4695a159c1569e96fd10",
       "version_major": 2,
       "version_minor": 0
      },
      "text/plain": [
       "symbolize:   0%|          | 0/381 [00:00<?, ?it/s]"
      ]
     },
     "metadata": {},
     "output_type": "display_data"
    },
    {
     "data": {
      "application/vnd.jupyter.widget-view+json": {
       "model_id": "200146510f36454e9110f34838f9ec29",
       "version_major": 2,
       "version_minor": 0
      },
      "text/plain": [
       "sliding w:   0%|          | 0/266 [00:00<?, ?it/s]"
      ]
     },
     "metadata": {},
     "output_type": "display_data"
    },
    {
     "data": {
      "application/vnd.jupyter.widget-view+json": {
       "model_id": "dac113ef1ff44f43903d27df6fafb81a",
       "version_major": 2,
       "version_minor": 0
      },
      "text/plain": [
       "sliding w:   0%|          | 0/266 [00:00<?, ?it/s]"
      ]
     },
     "metadata": {},
     "output_type": "display_data"
    },
    {
     "data": {
      "application/vnd.jupyter.widget-view+json": {
       "model_id": "46c205b80251497fb032c8a0a6fbd48f",
       "version_major": 2,
       "version_minor": 0
      },
      "text/plain": [
       "sliding w:   0%|          | 0/266 [00:00<?, ?it/s]"
      ]
     },
     "metadata": {},
     "output_type": "display_data"
    },
    {
     "data": {
      "application/vnd.jupyter.widget-view+json": {
       "model_id": "f050381bfa404947af7a3a0ec45942fb",
       "version_major": 2,
       "version_minor": 0
      },
      "text/plain": [
       "contains:   0%|          | 0/266 [00:00<?, ?it/s]"
      ]
     },
     "metadata": {},
     "output_type": "display_data"
    },
    {
     "data": {
      "application/vnd.jupyter.widget-view+json": {
       "model_id": "2fd3129f7f384b2eb79096ebc56758d0",
       "version_major": 2,
       "version_minor": 0
      },
      "text/plain": [
       "  0%|          | 0/381 [00:00<?, ?it/s]"
      ]
     },
     "metadata": {},
     "output_type": "display_data"
    },
    {
     "data": {
      "application/vnd.jupyter.widget-view+json": {
       "model_id": "3e0d613f7ee54d00a69d9aca7dc020a8",
       "version_major": 2,
       "version_minor": 0
      },
      "text/plain": [
       "symbolize:   0%|          | 0/381 [00:00<?, ?it/s]"
      ]
     },
     "metadata": {},
     "output_type": "display_data"
    },
    {
     "data": {
      "application/vnd.jupyter.widget-view+json": {
       "model_id": "807caed5f3e84db5ad4d712f32c59ad1",
       "version_major": 2,
       "version_minor": 0
      },
      "text/plain": [
       "sliding w:   0%|          | 0/266 [00:00<?, ?it/s]"
      ]
     },
     "metadata": {},
     "output_type": "display_data"
    },
    {
     "data": {
      "application/vnd.jupyter.widget-view+json": {
       "model_id": "9b31d20d8a644597a74dbc5afc1b9ea1",
       "version_major": 2,
       "version_minor": 0
      },
      "text/plain": [
       "sliding w:   0%|          | 0/266 [00:00<?, ?it/s]"
      ]
     },
     "metadata": {},
     "output_type": "display_data"
    },
    {
     "data": {
      "application/vnd.jupyter.widget-view+json": {
       "model_id": "c7ab550ed2d546ff8eb5533db3718b7e",
       "version_major": 2,
       "version_minor": 0
      },
      "text/plain": [
       "sliding w:   0%|          | 0/266 [00:00<?, ?it/s]"
      ]
     },
     "metadata": {},
     "output_type": "display_data"
    },
    {
     "data": {
      "application/vnd.jupyter.widget-view+json": {
       "model_id": "a06a724d45a74e4cb1add67af7c05ca1",
       "version_major": 2,
       "version_minor": 0
      },
      "text/plain": [
       "contains:   0%|          | 0/266 [00:00<?, ?it/s]"
      ]
     },
     "metadata": {},
     "output_type": "display_data"
    },
    {
     "data": {
      "application/vnd.jupyter.widget-view+json": {
       "model_id": "0293068db21b4ca597aa9f1c3fb633a7",
       "version_major": 2,
       "version_minor": 0
      },
      "text/plain": [
       "  0%|          | 0/381 [00:00<?, ?it/s]"
      ]
     },
     "metadata": {},
     "output_type": "display_data"
    },
    {
     "data": {
      "application/vnd.jupyter.widget-view+json": {
       "model_id": "b1404b12e7744abaa76dae7940fa58c9",
       "version_major": 2,
       "version_minor": 0
      },
      "text/plain": [
       "symbolize:   0%|          | 0/381 [00:00<?, ?it/s]"
      ]
     },
     "metadata": {},
     "output_type": "display_data"
    },
    {
     "data": {
      "application/vnd.jupyter.widget-view+json": {
       "model_id": "19c7827697234539882e6af803da9743",
       "version_major": 2,
       "version_minor": 0
      },
      "text/plain": [
       "sliding w:   0%|          | 0/266 [00:00<?, ?it/s]"
      ]
     },
     "metadata": {},
     "output_type": "display_data"
    },
    {
     "data": {
      "application/vnd.jupyter.widget-view+json": {
       "model_id": "d18a6d7274334cbb8cba9e1687940fcd",
       "version_major": 2,
       "version_minor": 0
      },
      "text/plain": [
       "sliding w:   0%|          | 0/266 [00:00<?, ?it/s]"
      ]
     },
     "metadata": {},
     "output_type": "display_data"
    },
    {
     "data": {
      "application/vnd.jupyter.widget-view+json": {
       "model_id": "1560048e364d4f6dab2bc51348dfab9b",
       "version_major": 2,
       "version_minor": 0
      },
      "text/plain": [
       "sliding w:   0%|          | 0/266 [00:00<?, ?it/s]"
      ]
     },
     "metadata": {},
     "output_type": "display_data"
    },
    {
     "data": {
      "application/vnd.jupyter.widget-view+json": {
       "model_id": "4f7851b50ae14c30be47b47baa5610a3",
       "version_major": 2,
       "version_minor": 0
      },
      "text/plain": [
       "contains:   0%|          | 0/266 [00:00<?, ?it/s]"
      ]
     },
     "metadata": {},
     "output_type": "display_data"
    },
    {
     "data": {
      "application/vnd.jupyter.widget-view+json": {
       "model_id": "b3bf4a51db3348ee9216c14f42db2481",
       "version_major": 2,
       "version_minor": 0
      },
      "text/plain": [
       "  0%|          | 0/381 [00:00<?, ?it/s]"
      ]
     },
     "metadata": {},
     "output_type": "display_data"
    },
    {
     "data": {
      "application/vnd.jupyter.widget-view+json": {
       "model_id": "49089bc5cf8b4f5c86e63bbe90a4bb7c",
       "version_major": 2,
       "version_minor": 0
      },
      "text/plain": [
       "symbolize:   0%|          | 0/381 [00:00<?, ?it/s]"
      ]
     },
     "metadata": {},
     "output_type": "display_data"
    },
    {
     "data": {
      "application/vnd.jupyter.widget-view+json": {
       "model_id": "5d2e1277c1db472ba9b639d5e321cb4e",
       "version_major": 2,
       "version_minor": 0
      },
      "text/plain": [
       "sliding w:   0%|          | 0/266 [00:00<?, ?it/s]"
      ]
     },
     "metadata": {},
     "output_type": "display_data"
    },
    {
     "data": {
      "application/vnd.jupyter.widget-view+json": {
       "model_id": "acfd42485f3f49b5a57447f9a47b3232",
       "version_major": 2,
       "version_minor": 0
      },
      "text/plain": [
       "sliding w:   0%|          | 0/266 [00:00<?, ?it/s]"
      ]
     },
     "metadata": {},
     "output_type": "display_data"
    },
    {
     "data": {
      "application/vnd.jupyter.widget-view+json": {
       "model_id": "97fe572a65df4fdfaa3e1594d0997138",
       "version_major": 2,
       "version_minor": 0
      },
      "text/plain": [
       "sliding w:   0%|          | 0/266 [00:00<?, ?it/s]"
      ]
     },
     "metadata": {},
     "output_type": "display_data"
    },
    {
     "data": {
      "application/vnd.jupyter.widget-view+json": {
       "model_id": "a11492b32e9d430ea3e6935fe6a716af",
       "version_major": 2,
       "version_minor": 0
      },
      "text/plain": [
       "contains:   0%|          | 0/266 [00:00<?, ?it/s]"
      ]
     },
     "metadata": {},
     "output_type": "display_data"
    },
    {
     "data": {
      "application/vnd.jupyter.widget-view+json": {
       "model_id": "d53c16e5c2ae4cfcb9d66ef879ac4829",
       "version_major": 2,
       "version_minor": 0
      },
      "text/plain": [
       "  0%|          | 0/381 [00:00<?, ?it/s]"
      ]
     },
     "metadata": {},
     "output_type": "display_data"
    },
    {
     "data": {
      "application/vnd.jupyter.widget-view+json": {
       "model_id": "478198a458a247baaf06627a460f8037",
       "version_major": 2,
       "version_minor": 0
      },
      "text/plain": [
       "symbolize:   0%|          | 0/381 [00:00<?, ?it/s]"
      ]
     },
     "metadata": {},
     "output_type": "display_data"
    },
    {
     "data": {
      "application/vnd.jupyter.widget-view+json": {
       "model_id": "435e313c28024920ad072c9a4e36432b",
       "version_major": 2,
       "version_minor": 0
      },
      "text/plain": [
       "sliding w:   0%|          | 0/266 [00:00<?, ?it/s]"
      ]
     },
     "metadata": {},
     "output_type": "display_data"
    },
    {
     "data": {
      "application/vnd.jupyter.widget-view+json": {
       "model_id": "67ab44cd4e7c4c98b2c3f31e5a45f54a",
       "version_major": 2,
       "version_minor": 0
      },
      "text/plain": [
       "sliding w:   0%|          | 0/266 [00:00<?, ?it/s]"
      ]
     },
     "metadata": {},
     "output_type": "display_data"
    },
    {
     "data": {
      "application/vnd.jupyter.widget-view+json": {
       "model_id": "fdc648a0ffef44cf9fd6ebbaed6e57a2",
       "version_major": 2,
       "version_minor": 0
      },
      "text/plain": [
       "sliding w:   0%|          | 0/266 [00:00<?, ?it/s]"
      ]
     },
     "metadata": {},
     "output_type": "display_data"
    },
    {
     "data": {
      "application/vnd.jupyter.widget-view+json": {
       "model_id": "6dab1466bd3b4c8bb13e9a5931fc8178",
       "version_major": 2,
       "version_minor": 0
      },
      "text/plain": [
       "contains:   0%|          | 0/266 [00:00<?, ?it/s]"
      ]
     },
     "metadata": {},
     "output_type": "display_data"
    },
    {
     "data": {
      "application/vnd.jupyter.widget-view+json": {
       "model_id": "984bad3c297d4958b6d6b478f8bbce41",
       "version_major": 2,
       "version_minor": 0
      },
      "text/plain": [
       "  0%|          | 0/381 [00:00<?, ?it/s]"
      ]
     },
     "metadata": {},
     "output_type": "display_data"
    },
    {
     "data": {
      "application/vnd.jupyter.widget-view+json": {
       "model_id": "1f9c67bfbf354564bf083a9c381784f2",
       "version_major": 2,
       "version_minor": 0
      },
      "text/plain": [
       "symbolize:   0%|          | 0/381 [00:00<?, ?it/s]"
      ]
     },
     "metadata": {},
     "output_type": "display_data"
    },
    {
     "data": {
      "application/vnd.jupyter.widget-view+json": {
       "model_id": "e0d0052dbd00464ab8a6c6b71c354aee",
       "version_major": 2,
       "version_minor": 0
      },
      "text/plain": [
       "sliding w:   0%|          | 0/266 [00:00<?, ?it/s]"
      ]
     },
     "metadata": {},
     "output_type": "display_data"
    },
    {
     "data": {
      "application/vnd.jupyter.widget-view+json": {
       "model_id": "b423609a2c7a492bb77996b16424df18",
       "version_major": 2,
       "version_minor": 0
      },
      "text/plain": [
       "sliding w:   0%|          | 0/266 [00:00<?, ?it/s]"
      ]
     },
     "metadata": {},
     "output_type": "display_data"
    },
    {
     "data": {
      "application/vnd.jupyter.widget-view+json": {
       "model_id": "d279bee398704f709e3bac5fa851ffe9",
       "version_major": 2,
       "version_minor": 0
      },
      "text/plain": [
       "sliding w:   0%|          | 0/266 [00:00<?, ?it/s]"
      ]
     },
     "metadata": {},
     "output_type": "display_data"
    },
    {
     "data": {
      "application/vnd.jupyter.widget-view+json": {
       "model_id": "7e23b61946f94ba8abe9887f25fc03d8",
       "version_major": 2,
       "version_minor": 0
      },
      "text/plain": [
       "contains:   0%|          | 0/266 [00:00<?, ?it/s]"
      ]
     },
     "metadata": {},
     "output_type": "display_data"
    },
    {
     "data": {
      "application/vnd.jupyter.widget-view+json": {
       "model_id": "03d5198134a64a82bfdf47ba9351e66a",
       "version_major": 2,
       "version_minor": 0
      },
      "text/plain": [
       "  0%|          | 0/381 [00:00<?, ?it/s]"
      ]
     },
     "metadata": {},
     "output_type": "display_data"
    },
    {
     "data": {
      "application/vnd.jupyter.widget-view+json": {
       "model_id": "c9006a171b654396812c53de53277af7",
       "version_major": 2,
       "version_minor": 0
      },
      "text/plain": [
       "symbolize:   0%|          | 0/381 [00:00<?, ?it/s]"
      ]
     },
     "metadata": {},
     "output_type": "display_data"
    },
    {
     "data": {
      "application/vnd.jupyter.widget-view+json": {
       "model_id": "bc0b63316d5a4491bb7f250672b4fe46",
       "version_major": 2,
       "version_minor": 0
      },
      "text/plain": [
       "sliding w:   0%|          | 0/266 [00:00<?, ?it/s]"
      ]
     },
     "metadata": {},
     "output_type": "display_data"
    },
    {
     "data": {
      "application/vnd.jupyter.widget-view+json": {
       "model_id": "2cb4bfa2533d4904a4415b29167344e8",
       "version_major": 2,
       "version_minor": 0
      },
      "text/plain": [
       "sliding w:   0%|          | 0/266 [00:00<?, ?it/s]"
      ]
     },
     "metadata": {},
     "output_type": "display_data"
    },
    {
     "data": {
      "application/vnd.jupyter.widget-view+json": {
       "model_id": "829e0d5a32434a00810ba63c920b0c53",
       "version_major": 2,
       "version_minor": 0
      },
      "text/plain": [
       "sliding w:   0%|          | 0/266 [00:00<?, ?it/s]"
      ]
     },
     "metadata": {},
     "output_type": "display_data"
    },
    {
     "data": {
      "application/vnd.jupyter.widget-view+json": {
       "model_id": "7bb6fa15bbae46e4b7edaa60ded93eba",
       "version_major": 2,
       "version_minor": 0
      },
      "text/plain": [
       "contains:   0%|          | 0/266 [00:00<?, ?it/s]"
      ]
     },
     "metadata": {},
     "output_type": "display_data"
    },
    {
     "data": {
      "application/vnd.jupyter.widget-view+json": {
       "model_id": "40932c7c211f4963823f2d198a129300",
       "version_major": 2,
       "version_minor": 0
      },
      "text/plain": [
       "  0%|          | 0/381 [00:00<?, ?it/s]"
      ]
     },
     "metadata": {},
     "output_type": "display_data"
    },
    {
     "data": {
      "application/vnd.jupyter.widget-view+json": {
       "model_id": "fd22d12aa48e47cc80af96c851370277",
       "version_major": 2,
       "version_minor": 0
      },
      "text/plain": [
       "symbolize:   0%|          | 0/381 [00:00<?, ?it/s]"
      ]
     },
     "metadata": {},
     "output_type": "display_data"
    },
    {
     "data": {
      "application/vnd.jupyter.widget-view+json": {
       "model_id": "5097a28ea1044475bc7c62863d0de6cc",
       "version_major": 2,
       "version_minor": 0
      },
      "text/plain": [
       "sliding w:   0%|          | 0/266 [00:00<?, ?it/s]"
      ]
     },
     "metadata": {},
     "output_type": "display_data"
    },
    {
     "data": {
      "application/vnd.jupyter.widget-view+json": {
       "model_id": "4249bfce5be041fba883d8b881096f47",
       "version_major": 2,
       "version_minor": 0
      },
      "text/plain": [
       "sliding w:   0%|          | 0/266 [00:00<?, ?it/s]"
      ]
     },
     "metadata": {},
     "output_type": "display_data"
    },
    {
     "data": {
      "application/vnd.jupyter.widget-view+json": {
       "model_id": "c4e33caa0ca74e1ab3aa256bc49cefa8",
       "version_major": 2,
       "version_minor": 0
      },
      "text/plain": [
       "sliding w:   0%|          | 0/266 [00:00<?, ?it/s]"
      ]
     },
     "metadata": {},
     "output_type": "display_data"
    },
    {
     "data": {
      "application/vnd.jupyter.widget-view+json": {
       "model_id": "3105d6f2678f4eed8448b3b21d956ce2",
       "version_major": 2,
       "version_minor": 0
      },
      "text/plain": [
       "contains:   0%|          | 0/266 [00:00<?, ?it/s]"
      ]
     },
     "metadata": {},
     "output_type": "display_data"
    },
    {
     "data": {
      "application/vnd.jupyter.widget-view+json": {
       "model_id": "7c7fdfacc6ca425fbe4148eb37ebc209",
       "version_major": 2,
       "version_minor": 0
      },
      "text/plain": [
       "  0%|          | 0/381 [00:00<?, ?it/s]"
      ]
     },
     "metadata": {},
     "output_type": "display_data"
    },
    {
     "data": {
      "application/vnd.jupyter.widget-view+json": {
       "model_id": "7b66265670844085961ff556bd8fb9b9",
       "version_major": 2,
       "version_minor": 0
      },
      "text/plain": [
       "symbolize:   0%|          | 0/381 [00:00<?, ?it/s]"
      ]
     },
     "metadata": {},
     "output_type": "display_data"
    },
    {
     "data": {
      "application/vnd.jupyter.widget-view+json": {
       "model_id": "634a79ada02a49dc99ed54895180b9d3",
       "version_major": 2,
       "version_minor": 0
      },
      "text/plain": [
       "sliding w:   0%|          | 0/266 [00:00<?, ?it/s]"
      ]
     },
     "metadata": {},
     "output_type": "display_data"
    },
    {
     "data": {
      "application/vnd.jupyter.widget-view+json": {
       "model_id": "a1bca498162b4aedba51047c8a64c1af",
       "version_major": 2,
       "version_minor": 0
      },
      "text/plain": [
       "sliding w:   0%|          | 0/266 [00:00<?, ?it/s]"
      ]
     },
     "metadata": {},
     "output_type": "display_data"
    },
    {
     "data": {
      "application/vnd.jupyter.widget-view+json": {
       "model_id": "881442b83ee54a528d764eda920414fc",
       "version_major": 2,
       "version_minor": 0
      },
      "text/plain": [
       "sliding w:   0%|          | 0/266 [00:00<?, ?it/s]"
      ]
     },
     "metadata": {},
     "output_type": "display_data"
    },
    {
     "data": {
      "application/vnd.jupyter.widget-view+json": {
       "model_id": "d41de89f547c409db0404ad3bc4e6b6e",
       "version_major": 2,
       "version_minor": 0
      },
      "text/plain": [
       "contains:   0%|          | 0/266 [00:00<?, ?it/s]"
      ]
     },
     "metadata": {},
     "output_type": "display_data"
    },
    {
     "data": {
      "application/vnd.jupyter.widget-view+json": {
       "model_id": "13ec00fa574e4991804380a94865d1f2",
       "version_major": 2,
       "version_minor": 0
      },
      "text/plain": [
       "  0%|          | 0/381 [00:00<?, ?it/s]"
      ]
     },
     "metadata": {},
     "output_type": "display_data"
    },
    {
     "data": {
      "application/vnd.jupyter.widget-view+json": {
       "model_id": "78e7c2d061394f069e1fd1a26d835d68",
       "version_major": 2,
       "version_minor": 0
      },
      "text/plain": [
       "symbolize:   0%|          | 0/381 [00:00<?, ?it/s]"
      ]
     },
     "metadata": {},
     "output_type": "display_data"
    },
    {
     "data": {
      "application/vnd.jupyter.widget-view+json": {
       "model_id": "1c63066820a3407bb2393f34930f8dd9",
       "version_major": 2,
       "version_minor": 0
      },
      "text/plain": [
       "sliding w:   0%|          | 0/266 [00:00<?, ?it/s]"
      ]
     },
     "metadata": {},
     "output_type": "display_data"
    },
    {
     "data": {
      "application/vnd.jupyter.widget-view+json": {
       "model_id": "9c8895ed2c314b02aef756764746d338",
       "version_major": 2,
       "version_minor": 0
      },
      "text/plain": [
       "sliding w:   0%|          | 0/266 [00:00<?, ?it/s]"
      ]
     },
     "metadata": {},
     "output_type": "display_data"
    },
    {
     "data": {
      "application/vnd.jupyter.widget-view+json": {
       "model_id": "9bd472885e664bee9c4498aa4bb19863",
       "version_major": 2,
       "version_minor": 0
      },
      "text/plain": [
       "sliding w:   0%|          | 0/266 [00:00<?, ?it/s]"
      ]
     },
     "metadata": {},
     "output_type": "display_data"
    },
    {
     "data": {
      "application/vnd.jupyter.widget-view+json": {
       "model_id": "2028ef7824394fe58cff91fb811138f7",
       "version_major": 2,
       "version_minor": 0
      },
      "text/plain": [
       "contains:   0%|          | 0/266 [00:00<?, ?it/s]"
      ]
     },
     "metadata": {},
     "output_type": "display_data"
    },
    {
     "data": {
      "application/vnd.jupyter.widget-view+json": {
       "model_id": "a08df8b477064d4bb440db47ad94cdce",
       "version_major": 2,
       "version_minor": 0
      },
      "text/plain": [
       "  0%|          | 0/381 [00:00<?, ?it/s]"
      ]
     },
     "metadata": {},
     "output_type": "display_data"
    },
    {
     "data": {
      "application/vnd.jupyter.widget-view+json": {
       "model_id": "cc048275c3f3412da0f6ef6ef7317a3c",
       "version_major": 2,
       "version_minor": 0
      },
      "text/plain": [
       "symbolize:   0%|          | 0/381 [00:00<?, ?it/s]"
      ]
     },
     "metadata": {},
     "output_type": "display_data"
    },
    {
     "data": {
      "application/vnd.jupyter.widget-view+json": {
       "model_id": "a1caaa770e5a4a11a3d307e5c83799ec",
       "version_major": 2,
       "version_minor": 0
      },
      "text/plain": [
       "sliding w:   0%|          | 0/266 [00:00<?, ?it/s]"
      ]
     },
     "metadata": {},
     "output_type": "display_data"
    },
    {
     "data": {
      "application/vnd.jupyter.widget-view+json": {
       "model_id": "11d393256f294fbdbd9cfadb94e38e5f",
       "version_major": 2,
       "version_minor": 0
      },
      "text/plain": [
       "sliding w:   0%|          | 0/266 [00:00<?, ?it/s]"
      ]
     },
     "metadata": {},
     "output_type": "display_data"
    },
    {
     "data": {
      "application/vnd.jupyter.widget-view+json": {
       "model_id": "4ce5476bc0464f049c4026ce1882e75e",
       "version_major": 2,
       "version_minor": 0
      },
      "text/plain": [
       "sliding w:   0%|          | 0/266 [00:00<?, ?it/s]"
      ]
     },
     "metadata": {},
     "output_type": "display_data"
    },
    {
     "data": {
      "application/vnd.jupyter.widget-view+json": {
       "model_id": "6e9a963e9a6d4df9b52737d842ca5275",
       "version_major": 2,
       "version_minor": 0
      },
      "text/plain": [
       "contains:   0%|          | 0/266 [00:00<?, ?it/s]"
      ]
     },
     "metadata": {},
     "output_type": "display_data"
    },
    {
     "data": {
      "application/vnd.jupyter.widget-view+json": {
       "model_id": "a7042e20a2f94f85926a800fb296254b",
       "version_major": 2,
       "version_minor": 0
      },
      "text/plain": [
       "  0%|          | 0/381 [00:00<?, ?it/s]"
      ]
     },
     "metadata": {},
     "output_type": "display_data"
    },
    {
     "data": {
      "application/vnd.jupyter.widget-view+json": {
       "model_id": "6d428c4a9bbc459e931a55e9cbd28db5",
       "version_major": 2,
       "version_minor": 0
      },
      "text/plain": [
       "symbolize:   0%|          | 0/381 [00:00<?, ?it/s]"
      ]
     },
     "metadata": {},
     "output_type": "display_data"
    },
    {
     "data": {
      "application/vnd.jupyter.widget-view+json": {
       "model_id": "4eb620d8da6040d28aa18a140ca33924",
       "version_major": 2,
       "version_minor": 0
      },
      "text/plain": [
       "sliding w:   0%|          | 0/266 [00:00<?, ?it/s]"
      ]
     },
     "metadata": {},
     "output_type": "display_data"
    },
    {
     "data": {
      "application/vnd.jupyter.widget-view+json": {
       "model_id": "96a25ec0e7f44fafa789e3286719c13d",
       "version_major": 2,
       "version_minor": 0
      },
      "text/plain": [
       "sliding w:   0%|          | 0/266 [00:00<?, ?it/s]"
      ]
     },
     "metadata": {},
     "output_type": "display_data"
    },
    {
     "data": {
      "application/vnd.jupyter.widget-view+json": {
       "model_id": "9a02ea9877d84221a83c2d38632642d4",
       "version_major": 2,
       "version_minor": 0
      },
      "text/plain": [
       "sliding w:   0%|          | 0/266 [00:00<?, ?it/s]"
      ]
     },
     "metadata": {},
     "output_type": "display_data"
    },
    {
     "data": {
      "application/vnd.jupyter.widget-view+json": {
       "model_id": "121e68ba6ba4483e8c7d25a01afe2de7",
       "version_major": 2,
       "version_minor": 0
      },
      "text/plain": [
       "contains:   0%|          | 0/266 [00:00<?, ?it/s]"
      ]
     },
     "metadata": {},
     "output_type": "display_data"
    },
    {
     "data": {
      "application/vnd.jupyter.widget-view+json": {
       "model_id": "c915cb6f9e8a4b7d84b5c12c04ffe394",
       "version_major": 2,
       "version_minor": 0
      },
      "text/plain": [
       "  0%|          | 0/381 [00:00<?, ?it/s]"
      ]
     },
     "metadata": {},
     "output_type": "display_data"
    },
    {
     "data": {
      "application/vnd.jupyter.widget-view+json": {
       "model_id": "e04b79a5eb7f45ca90543a00160314e7",
       "version_major": 2,
       "version_minor": 0
      },
      "text/plain": [
       "symbolize:   0%|          | 0/381 [00:00<?, ?it/s]"
      ]
     },
     "metadata": {},
     "output_type": "display_data"
    },
    {
     "data": {
      "application/vnd.jupyter.widget-view+json": {
       "model_id": "acfade0e3be843d081c93a5b457af743",
       "version_major": 2,
       "version_minor": 0
      },
      "text/plain": [
       "sliding w:   0%|          | 0/266 [00:00<?, ?it/s]"
      ]
     },
     "metadata": {},
     "output_type": "display_data"
    },
    {
     "data": {
      "application/vnd.jupyter.widget-view+json": {
       "model_id": "54c1fdd805bd4d9d85c03951ca1a27fd",
       "version_major": 2,
       "version_minor": 0
      },
      "text/plain": [
       "sliding w:   0%|          | 0/266 [00:00<?, ?it/s]"
      ]
     },
     "metadata": {},
     "output_type": "display_data"
    },
    {
     "data": {
      "application/vnd.jupyter.widget-view+json": {
       "model_id": "749db5e0564944c9b332d86a30977310",
       "version_major": 2,
       "version_minor": 0
      },
      "text/plain": [
       "sliding w:   0%|          | 0/266 [00:00<?, ?it/s]"
      ]
     },
     "metadata": {},
     "output_type": "display_data"
    },
    {
     "data": {
      "application/vnd.jupyter.widget-view+json": {
       "model_id": "879a7bc58de641eebaaeff681ac5f327",
       "version_major": 2,
       "version_minor": 0
      },
      "text/plain": [
       "contains:   0%|          | 0/266 [00:00<?, ?it/s]"
      ]
     },
     "metadata": {},
     "output_type": "display_data"
    },
    {
     "data": {
      "application/vnd.jupyter.widget-view+json": {
       "model_id": "ee126a055a7344358cc1911be10ee0c3",
       "version_major": 2,
       "version_minor": 0
      },
      "text/plain": [
       "  0%|          | 0/381 [00:00<?, ?it/s]"
      ]
     },
     "metadata": {},
     "output_type": "display_data"
    },
    {
     "data": {
      "application/vnd.jupyter.widget-view+json": {
       "model_id": "4636b35520a2409eafb9b75baccb258b",
       "version_major": 2,
       "version_minor": 0
      },
      "text/plain": [
       "symbolize:   0%|          | 0/381 [00:00<?, ?it/s]"
      ]
     },
     "metadata": {},
     "output_type": "display_data"
    },
    {
     "data": {
      "application/vnd.jupyter.widget-view+json": {
       "model_id": "809bde9ca403489ab3848c703aafbd71",
       "version_major": 2,
       "version_minor": 0
      },
      "text/plain": [
       "sliding w:   0%|          | 0/266 [00:00<?, ?it/s]"
      ]
     },
     "metadata": {},
     "output_type": "display_data"
    },
    {
     "data": {
      "application/vnd.jupyter.widget-view+json": {
       "model_id": "4a5dfd366b4047368c5030fd0f70ed7d",
       "version_major": 2,
       "version_minor": 0
      },
      "text/plain": [
       "sliding w:   0%|          | 0/266 [00:00<?, ?it/s]"
      ]
     },
     "metadata": {},
     "output_type": "display_data"
    },
    {
     "data": {
      "application/vnd.jupyter.widget-view+json": {
       "model_id": "e2d6cf169f474c629c1ab9b638269204",
       "version_major": 2,
       "version_minor": 0
      },
      "text/plain": [
       "sliding w:   0%|          | 0/266 [00:00<?, ?it/s]"
      ]
     },
     "metadata": {},
     "output_type": "display_data"
    },
    {
     "data": {
      "application/vnd.jupyter.widget-view+json": {
       "model_id": "cb2df8051cc8469a90a82bbfe0fc017d",
       "version_major": 2,
       "version_minor": 0
      },
      "text/plain": [
       "contains:   0%|          | 0/266 [00:00<?, ?it/s]"
      ]
     },
     "metadata": {},
     "output_type": "display_data"
    },
    {
     "data": {
      "application/vnd.jupyter.widget-view+json": {
       "model_id": "b6bc8c9cb96440508bf125025b884dd9",
       "version_major": 2,
       "version_minor": 0
      },
      "text/plain": [
       "  0%|          | 0/381 [00:00<?, ?it/s]"
      ]
     },
     "metadata": {},
     "output_type": "display_data"
    },
    {
     "data": {
      "application/vnd.jupyter.widget-view+json": {
       "model_id": "6c863ca7de8a41a58e5e1a10a16dba51",
       "version_major": 2,
       "version_minor": 0
      },
      "text/plain": [
       "symbolize:   0%|          | 0/381 [00:00<?, ?it/s]"
      ]
     },
     "metadata": {},
     "output_type": "display_data"
    },
    {
     "data": {
      "application/vnd.jupyter.widget-view+json": {
       "model_id": "1b5e5a7a1fce4ceca43f03b719b73c42",
       "version_major": 2,
       "version_minor": 0
      },
      "text/plain": [
       "sliding w:   0%|          | 0/266 [00:00<?, ?it/s]"
      ]
     },
     "metadata": {},
     "output_type": "display_data"
    },
    {
     "data": {
      "application/vnd.jupyter.widget-view+json": {
       "model_id": "14f2d04be67a46f9be020e81a52ff9ca",
       "version_major": 2,
       "version_minor": 0
      },
      "text/plain": [
       "sliding w:   0%|          | 0/266 [00:00<?, ?it/s]"
      ]
     },
     "metadata": {},
     "output_type": "display_data"
    },
    {
     "data": {
      "application/vnd.jupyter.widget-view+json": {
       "model_id": "a03683ec87a34c2dba90eb2f29be61dc",
       "version_major": 2,
       "version_minor": 0
      },
      "text/plain": [
       "sliding w:   0%|          | 0/266 [00:00<?, ?it/s]"
      ]
     },
     "metadata": {},
     "output_type": "display_data"
    },
    {
     "data": {
      "application/vnd.jupyter.widget-view+json": {
       "model_id": "ffb3bcdc8a7b4112b0f84f335c40f8aa",
       "version_major": 2,
       "version_minor": 0
      },
      "text/plain": [
       "contains:   0%|          | 0/266 [00:00<?, ?it/s]"
      ]
     },
     "metadata": {},
     "output_type": "display_data"
    },
    {
     "data": {
      "application/vnd.jupyter.widget-view+json": {
       "model_id": "d45cb3a62018416b9a7f169db979e57e",
       "version_major": 2,
       "version_minor": 0
      },
      "text/plain": [
       "  0%|          | 0/381 [00:00<?, ?it/s]"
      ]
     },
     "metadata": {},
     "output_type": "display_data"
    },
    {
     "data": {
      "application/vnd.jupyter.widget-view+json": {
       "model_id": "41ddec8addc141caa05b7d6feca3b84f",
       "version_major": 2,
       "version_minor": 0
      },
      "text/plain": [
       "symbolize:   0%|          | 0/381 [00:00<?, ?it/s]"
      ]
     },
     "metadata": {},
     "output_type": "display_data"
    },
    {
     "data": {
      "application/vnd.jupyter.widget-view+json": {
       "model_id": "8d29c7d771754a8bac798cd84b5919cb",
       "version_major": 2,
       "version_minor": 0
      },
      "text/plain": [
       "sliding w:   0%|          | 0/266 [00:00<?, ?it/s]"
      ]
     },
     "metadata": {},
     "output_type": "display_data"
    },
    {
     "data": {
      "application/vnd.jupyter.widget-view+json": {
       "model_id": "46f41fdc1141464c84a29de6db6f9377",
       "version_major": 2,
       "version_minor": 0
      },
      "text/plain": [
       "sliding w:   0%|          | 0/266 [00:00<?, ?it/s]"
      ]
     },
     "metadata": {},
     "output_type": "display_data"
    },
    {
     "data": {
      "application/vnd.jupyter.widget-view+json": {
       "model_id": "2c3c932237a941e6920821e7c558f621",
       "version_major": 2,
       "version_minor": 0
      },
      "text/plain": [
       "sliding w:   0%|          | 0/266 [00:00<?, ?it/s]"
      ]
     },
     "metadata": {},
     "output_type": "display_data"
    },
    {
     "data": {
      "application/vnd.jupyter.widget-view+json": {
       "model_id": "44c4a7979cae40a3b427eebb72083a05",
       "version_major": 2,
       "version_minor": 0
      },
      "text/plain": [
       "contains:   0%|          | 0/266 [00:00<?, ?it/s]"
      ]
     },
     "metadata": {},
     "output_type": "display_data"
    },
    {
     "data": {
      "application/vnd.jupyter.widget-view+json": {
       "model_id": "abb11e5eb7b9419da89c5f8d4d23441c",
       "version_major": 2,
       "version_minor": 0
      },
      "text/plain": [
       "  0%|          | 0/381 [00:00<?, ?it/s]"
      ]
     },
     "metadata": {},
     "output_type": "display_data"
    },
    {
     "data": {
      "application/vnd.jupyter.widget-view+json": {
       "model_id": "6621296d146e457ca035183b9b77e24f",
       "version_major": 2,
       "version_minor": 0
      },
      "text/plain": [
       "symbolize:   0%|          | 0/381 [00:00<?, ?it/s]"
      ]
     },
     "metadata": {},
     "output_type": "display_data"
    },
    {
     "data": {
      "application/vnd.jupyter.widget-view+json": {
       "model_id": "4f368ddb81a241fbb447fe57fd5edacd",
       "version_major": 2,
       "version_minor": 0
      },
      "text/plain": [
       "sliding w:   0%|          | 0/266 [00:00<?, ?it/s]"
      ]
     },
     "metadata": {},
     "output_type": "display_data"
    },
    {
     "data": {
      "application/vnd.jupyter.widget-view+json": {
       "model_id": "fc99fc74a67b43e5bd39b82fa313473d",
       "version_major": 2,
       "version_minor": 0
      },
      "text/plain": [
       "sliding w:   0%|          | 0/266 [00:00<?, ?it/s]"
      ]
     },
     "metadata": {},
     "output_type": "display_data"
    },
    {
     "data": {
      "application/vnd.jupyter.widget-view+json": {
       "model_id": "2c0f9de63cec4db6938e80036bf8e5dd",
       "version_major": 2,
       "version_minor": 0
      },
      "text/plain": [
       "sliding w:   0%|          | 0/266 [00:00<?, ?it/s]"
      ]
     },
     "metadata": {},
     "output_type": "display_data"
    },
    {
     "data": {
      "application/vnd.jupyter.widget-view+json": {
       "model_id": "732d81bc4b5d455ebb132b6332262c63",
       "version_major": 2,
       "version_minor": 0
      },
      "text/plain": [
       "contains:   0%|          | 0/266 [00:00<?, ?it/s]"
      ]
     },
     "metadata": {},
     "output_type": "display_data"
    },
    {
     "data": {
      "application/vnd.jupyter.widget-view+json": {
       "model_id": "2a84b525f5e44090a8b2b8a4416eef1e",
       "version_major": 2,
       "version_minor": 0
      },
      "text/plain": [
       "  0%|          | 0/381 [00:00<?, ?it/s]"
      ]
     },
     "metadata": {},
     "output_type": "display_data"
    },
    {
     "data": {
      "application/vnd.jupyter.widget-view+json": {
       "model_id": "fa827345bfc84a5ab3e2ac74ae7e249b",
       "version_major": 2,
       "version_minor": 0
      },
      "text/plain": [
       "symbolize:   0%|          | 0/381 [00:00<?, ?it/s]"
      ]
     },
     "metadata": {},
     "output_type": "display_data"
    },
    {
     "data": {
      "application/vnd.jupyter.widget-view+json": {
       "model_id": "74fd1c79d2114fb58a0c7cdf4e779929",
       "version_major": 2,
       "version_minor": 0
      },
      "text/plain": [
       "sliding w:   0%|          | 0/266 [00:00<?, ?it/s]"
      ]
     },
     "metadata": {},
     "output_type": "display_data"
    },
    {
     "data": {
      "application/vnd.jupyter.widget-view+json": {
       "model_id": "56c686381d9049eeb126ab76181c9195",
       "version_major": 2,
       "version_minor": 0
      },
      "text/plain": [
       "sliding w:   0%|          | 0/266 [00:00<?, ?it/s]"
      ]
     },
     "metadata": {},
     "output_type": "display_data"
    },
    {
     "data": {
      "application/vnd.jupyter.widget-view+json": {
       "model_id": "23f386305b49402f8a3d0d6c10851547",
       "version_major": 2,
       "version_minor": 0
      },
      "text/plain": [
       "sliding w:   0%|          | 0/266 [00:00<?, ?it/s]"
      ]
     },
     "metadata": {},
     "output_type": "display_data"
    },
    {
     "data": {
      "application/vnd.jupyter.widget-view+json": {
       "model_id": "4943378d546b4164ad998006691a5024",
       "version_major": 2,
       "version_minor": 0
      },
      "text/plain": [
       "contains:   0%|          | 0/266 [00:00<?, ?it/s]"
      ]
     },
     "metadata": {},
     "output_type": "display_data"
    },
    {
     "data": {
      "application/vnd.jupyter.widget-view+json": {
       "model_id": "43c12f52819047368a737c37fc90e6e2",
       "version_major": 2,
       "version_minor": 0
      },
      "text/plain": [
       "  0%|          | 0/381 [00:00<?, ?it/s]"
      ]
     },
     "metadata": {},
     "output_type": "display_data"
    },
    {
     "data": {
      "application/vnd.jupyter.widget-view+json": {
       "model_id": "4ae1c678a0d8454b817866b55dafe094",
       "version_major": 2,
       "version_minor": 0
      },
      "text/plain": [
       "symbolize:   0%|          | 0/381 [00:00<?, ?it/s]"
      ]
     },
     "metadata": {},
     "output_type": "display_data"
    },
    {
     "data": {
      "application/vnd.jupyter.widget-view+json": {
       "model_id": "8226985f46cc48fdb3f02b26bd4940fc",
       "version_major": 2,
       "version_minor": 0
      },
      "text/plain": [
       "sliding w:   0%|          | 0/266 [00:00<?, ?it/s]"
      ]
     },
     "metadata": {},
     "output_type": "display_data"
    },
    {
     "data": {
      "application/vnd.jupyter.widget-view+json": {
       "model_id": "247980f3a30049a5a2be9a510c1cd292",
       "version_major": 2,
       "version_minor": 0
      },
      "text/plain": [
       "sliding w:   0%|          | 0/266 [00:00<?, ?it/s]"
      ]
     },
     "metadata": {},
     "output_type": "display_data"
    },
    {
     "data": {
      "application/vnd.jupyter.widget-view+json": {
       "model_id": "4ec26c68054a4e89a37c582916188cc0",
       "version_major": 2,
       "version_minor": 0
      },
      "text/plain": [
       "sliding w:   0%|          | 0/266 [00:00<?, ?it/s]"
      ]
     },
     "metadata": {},
     "output_type": "display_data"
    },
    {
     "data": {
      "application/vnd.jupyter.widget-view+json": {
       "model_id": "e8307a60bf1d4e20b6be5bc14e7d3072",
       "version_major": 2,
       "version_minor": 0
      },
      "text/plain": [
       "contains:   0%|          | 0/266 [00:00<?, ?it/s]"
      ]
     },
     "metadata": {},
     "output_type": "display_data"
    },
    {
     "data": {
      "application/vnd.jupyter.widget-view+json": {
       "model_id": "254972a6507149dba3be8d9424701008",
       "version_major": 2,
       "version_minor": 0
      },
      "text/plain": [
       "  0%|          | 0/381 [00:00<?, ?it/s]"
      ]
     },
     "metadata": {},
     "output_type": "display_data"
    },
    {
     "data": {
      "application/vnd.jupyter.widget-view+json": {
       "model_id": "f2a1e8e8a0b04e2297c7a65277c5c04b",
       "version_major": 2,
       "version_minor": 0
      },
      "text/plain": [
       "symbolize:   0%|          | 0/381 [00:00<?, ?it/s]"
      ]
     },
     "metadata": {},
     "output_type": "display_data"
    },
    {
     "data": {
      "application/vnd.jupyter.widget-view+json": {
       "model_id": "45716f89cb534f8caaa791e923fb1053",
       "version_major": 2,
       "version_minor": 0
      },
      "text/plain": [
       "sliding w:   0%|          | 0/266 [00:00<?, ?it/s]"
      ]
     },
     "metadata": {},
     "output_type": "display_data"
    },
    {
     "data": {
      "application/vnd.jupyter.widget-view+json": {
       "model_id": "a38d36c2e33a43e9b66d56a7dcbea7a6",
       "version_major": 2,
       "version_minor": 0
      },
      "text/plain": [
       "sliding w:   0%|          | 0/266 [00:00<?, ?it/s]"
      ]
     },
     "metadata": {},
     "output_type": "display_data"
    },
    {
     "data": {
      "application/vnd.jupyter.widget-view+json": {
       "model_id": "b71e3622bf42489f80ac98d96f885464",
       "version_major": 2,
       "version_minor": 0
      },
      "text/plain": [
       "sliding w:   0%|          | 0/266 [00:00<?, ?it/s]"
      ]
     },
     "metadata": {},
     "output_type": "display_data"
    },
    {
     "data": {
      "application/vnd.jupyter.widget-view+json": {
       "model_id": "4b306e56379e4567a1f927348f1b0284",
       "version_major": 2,
       "version_minor": 0
      },
      "text/plain": [
       "contains:   0%|          | 0/266 [00:00<?, ?it/s]"
      ]
     },
     "metadata": {},
     "output_type": "display_data"
    },
    {
     "data": {
      "application/vnd.jupyter.widget-view+json": {
       "model_id": "21d5ee63a139441c902cdd5f5ae04d31",
       "version_major": 2,
       "version_minor": 0
      },
      "text/plain": [
       "  0%|          | 0/381 [00:00<?, ?it/s]"
      ]
     },
     "metadata": {},
     "output_type": "display_data"
    },
    {
     "data": {
      "application/vnd.jupyter.widget-view+json": {
       "model_id": "84d5791e26fc4ef195d58d721603670b",
       "version_major": 2,
       "version_minor": 0
      },
      "text/plain": [
       "symbolize:   0%|          | 0/381 [00:00<?, ?it/s]"
      ]
     },
     "metadata": {},
     "output_type": "display_data"
    },
    {
     "data": {
      "application/vnd.jupyter.widget-view+json": {
       "model_id": "ddb6dac7bb424301900fe7ed444402b7",
       "version_major": 2,
       "version_minor": 0
      },
      "text/plain": [
       "sliding w:   0%|          | 0/266 [00:00<?, ?it/s]"
      ]
     },
     "metadata": {},
     "output_type": "display_data"
    },
    {
     "data": {
      "application/vnd.jupyter.widget-view+json": {
       "model_id": "f3d99ffeec304cd289cd3636fa8caef5",
       "version_major": 2,
       "version_minor": 0
      },
      "text/plain": [
       "sliding w:   0%|          | 0/266 [00:00<?, ?it/s]"
      ]
     },
     "metadata": {},
     "output_type": "display_data"
    },
    {
     "data": {
      "application/vnd.jupyter.widget-view+json": {
       "model_id": "93f82b5eb91141fcbb4f31faaa44302e",
       "version_major": 2,
       "version_minor": 0
      },
      "text/plain": [
       "sliding w:   0%|          | 0/266 [00:00<?, ?it/s]"
      ]
     },
     "metadata": {},
     "output_type": "display_data"
    },
    {
     "data": {
      "application/vnd.jupyter.widget-view+json": {
       "model_id": "d14328b4edf64c38abaabcb7ec31cebe",
       "version_major": 2,
       "version_minor": 0
      },
      "text/plain": [
       "contains:   0%|          | 0/266 [00:00<?, ?it/s]"
      ]
     },
     "metadata": {},
     "output_type": "display_data"
    },
    {
     "data": {
      "application/vnd.jupyter.widget-view+json": {
       "model_id": "9e066d3a38184fbe903e5741249dafaf",
       "version_major": 2,
       "version_minor": 0
      },
      "text/plain": [
       "  0%|          | 0/381 [00:00<?, ?it/s]"
      ]
     },
     "metadata": {},
     "output_type": "display_data"
    },
    {
     "data": {
      "application/vnd.jupyter.widget-view+json": {
       "model_id": "9ccd3c4cd94c411ca1f5614b49226a80",
       "version_major": 2,
       "version_minor": 0
      },
      "text/plain": [
       "symbolize:   0%|          | 0/381 [00:00<?, ?it/s]"
      ]
     },
     "metadata": {},
     "output_type": "display_data"
    },
    {
     "data": {
      "application/vnd.jupyter.widget-view+json": {
       "model_id": "58d5419d48a94e839b351b9bab4b1567",
       "version_major": 2,
       "version_minor": 0
      },
      "text/plain": [
       "sliding w:   0%|          | 0/266 [00:00<?, ?it/s]"
      ]
     },
     "metadata": {},
     "output_type": "display_data"
    },
    {
     "data": {
      "application/vnd.jupyter.widget-view+json": {
       "model_id": "ed3b061b0fe94f67b7f34292688e4c84",
       "version_major": 2,
       "version_minor": 0
      },
      "text/plain": [
       "sliding w:   0%|          | 0/266 [00:00<?, ?it/s]"
      ]
     },
     "metadata": {},
     "output_type": "display_data"
    },
    {
     "data": {
      "application/vnd.jupyter.widget-view+json": {
       "model_id": "06fa09e7ec1240aeadbf2228c6af451b",
       "version_major": 2,
       "version_minor": 0
      },
      "text/plain": [
       "sliding w:   0%|          | 0/266 [00:00<?, ?it/s]"
      ]
     },
     "metadata": {},
     "output_type": "display_data"
    },
    {
     "data": {
      "application/vnd.jupyter.widget-view+json": {
       "model_id": "e278a61b286b4bcdbad518906bd63497",
       "version_major": 2,
       "version_minor": 0
      },
      "text/plain": [
       "contains:   0%|          | 0/266 [00:00<?, ?it/s]"
      ]
     },
     "metadata": {},
     "output_type": "display_data"
    },
    {
     "data": {
      "application/vnd.jupyter.widget-view+json": {
       "model_id": "fc1917dad46544a08e7364d152a5090a",
       "version_major": 2,
       "version_minor": 0
      },
      "text/plain": [
       "  0%|          | 0/381 [00:00<?, ?it/s]"
      ]
     },
     "metadata": {},
     "output_type": "display_data"
    },
    {
     "data": {
      "application/vnd.jupyter.widget-view+json": {
       "model_id": "41de013b97cc4e3b8f2c1295150f3145",
       "version_major": 2,
       "version_minor": 0
      },
      "text/plain": [
       "symbolize:   0%|          | 0/381 [00:00<?, ?it/s]"
      ]
     },
     "metadata": {},
     "output_type": "display_data"
    },
    {
     "data": {
      "application/vnd.jupyter.widget-view+json": {
       "model_id": "0914ad2926864b57a758e9b15bb77049",
       "version_major": 2,
       "version_minor": 0
      },
      "text/plain": [
       "sliding w:   0%|          | 0/266 [00:00<?, ?it/s]"
      ]
     },
     "metadata": {},
     "output_type": "display_data"
    },
    {
     "data": {
      "application/vnd.jupyter.widget-view+json": {
       "model_id": "5551812624ca4f3490864980036fd487",
       "version_major": 2,
       "version_minor": 0
      },
      "text/plain": [
       "sliding w:   0%|          | 0/266 [00:00<?, ?it/s]"
      ]
     },
     "metadata": {},
     "output_type": "display_data"
    },
    {
     "data": {
      "application/vnd.jupyter.widget-view+json": {
       "model_id": "86e89c0f4e794042800fcc1e127a0181",
       "version_major": 2,
       "version_minor": 0
      },
      "text/plain": [
       "sliding w:   0%|          | 0/266 [00:00<?, ?it/s]"
      ]
     },
     "metadata": {},
     "output_type": "display_data"
    },
    {
     "data": {
      "application/vnd.jupyter.widget-view+json": {
       "model_id": "7bb4868493f14c0cbd69b8e69e3f1dc5",
       "version_major": 2,
       "version_minor": 0
      },
      "text/plain": [
       "contains:   0%|          | 0/266 [00:00<?, ?it/s]"
      ]
     },
     "metadata": {},
     "output_type": "display_data"
    },
    {
     "data": {
      "application/vnd.jupyter.widget-view+json": {
       "model_id": "a07d8cf19c7344989fbc54151fe53531",
       "version_major": 2,
       "version_minor": 0
      },
      "text/plain": [
       "  0%|          | 0/381 [00:00<?, ?it/s]"
      ]
     },
     "metadata": {},
     "output_type": "display_data"
    },
    {
     "data": {
      "application/vnd.jupyter.widget-view+json": {
       "model_id": "4d81df85e82d4903993c007f30b4aba8",
       "version_major": 2,
       "version_minor": 0
      },
      "text/plain": [
       "symbolize:   0%|          | 0/381 [00:00<?, ?it/s]"
      ]
     },
     "metadata": {},
     "output_type": "display_data"
    },
    {
     "data": {
      "application/vnd.jupyter.widget-view+json": {
       "model_id": "15224affac26433191f3825562cc27f6",
       "version_major": 2,
       "version_minor": 0
      },
      "text/plain": [
       "sliding w:   0%|          | 0/266 [00:00<?, ?it/s]"
      ]
     },
     "metadata": {},
     "output_type": "display_data"
    },
    {
     "data": {
      "application/vnd.jupyter.widget-view+json": {
       "model_id": "9f73785716b342ae80c15f8bdea2b4a8",
       "version_major": 2,
       "version_minor": 0
      },
      "text/plain": [
       "sliding w:   0%|          | 0/266 [00:00<?, ?it/s]"
      ]
     },
     "metadata": {},
     "output_type": "display_data"
    },
    {
     "data": {
      "application/vnd.jupyter.widget-view+json": {
       "model_id": "512745446424440ca3ce661820e96280",
       "version_major": 2,
       "version_minor": 0
      },
      "text/plain": [
       "sliding w:   0%|          | 0/266 [00:00<?, ?it/s]"
      ]
     },
     "metadata": {},
     "output_type": "display_data"
    },
    {
     "data": {
      "application/vnd.jupyter.widget-view+json": {
       "model_id": "465b16f4b691478980cedbe0bd5c49bb",
       "version_major": 2,
       "version_minor": 0
      },
      "text/plain": [
       "contains:   0%|          | 0/266 [00:00<?, ?it/s]"
      ]
     },
     "metadata": {},
     "output_type": "display_data"
    },
    {
     "data": {
      "application/vnd.jupyter.widget-view+json": {
       "model_id": "1477a75b73174352a6e171cded458f07",
       "version_major": 2,
       "version_minor": 0
      },
      "text/plain": [
       "  0%|          | 0/381 [00:00<?, ?it/s]"
      ]
     },
     "metadata": {},
     "output_type": "display_data"
    },
    {
     "data": {
      "application/vnd.jupyter.widget-view+json": {
       "model_id": "f8080a920ee44a37816a70c828a54ca5",
       "version_major": 2,
       "version_minor": 0
      },
      "text/plain": [
       "symbolize:   0%|          | 0/381 [00:00<?, ?it/s]"
      ]
     },
     "metadata": {},
     "output_type": "display_data"
    },
    {
     "data": {
      "application/vnd.jupyter.widget-view+json": {
       "model_id": "2813b9af3b634837b7fe51fc2eda79f4",
       "version_major": 2,
       "version_minor": 0
      },
      "text/plain": [
       "sliding w:   0%|          | 0/266 [00:00<?, ?it/s]"
      ]
     },
     "metadata": {},
     "output_type": "display_data"
    },
    {
     "data": {
      "application/vnd.jupyter.widget-view+json": {
       "model_id": "e634eec0ec7048dbb617806a37298055",
       "version_major": 2,
       "version_minor": 0
      },
      "text/plain": [
       "sliding w:   0%|          | 0/266 [00:00<?, ?it/s]"
      ]
     },
     "metadata": {},
     "output_type": "display_data"
    },
    {
     "data": {
      "application/vnd.jupyter.widget-view+json": {
       "model_id": "8de392d92e8a4cca91f665b62eb2e769",
       "version_major": 2,
       "version_minor": 0
      },
      "text/plain": [
       "sliding w:   0%|          | 0/266 [00:00<?, ?it/s]"
      ]
     },
     "metadata": {},
     "output_type": "display_data"
    },
    {
     "data": {
      "application/vnd.jupyter.widget-view+json": {
       "model_id": "c84d93bc4ad848f883f25b1816153fbf",
       "version_major": 2,
       "version_minor": 0
      },
      "text/plain": [
       "contains:   0%|          | 0/266 [00:00<?, ?it/s]"
      ]
     },
     "metadata": {},
     "output_type": "display_data"
    },
    {
     "data": {
      "application/vnd.jupyter.widget-view+json": {
       "model_id": "78bfd0a3087d44e2bb8eda00cb1552ac",
       "version_major": 2,
       "version_minor": 0
      },
      "text/plain": [
       "  0%|          | 0/381 [00:00<?, ?it/s]"
      ]
     },
     "metadata": {},
     "output_type": "display_data"
    },
    {
     "data": {
      "application/vnd.jupyter.widget-view+json": {
       "model_id": "26c6022a6582491e9ee99a0d845eb850",
       "version_major": 2,
       "version_minor": 0
      },
      "text/plain": [
       "symbolize:   0%|          | 0/381 [00:00<?, ?it/s]"
      ]
     },
     "metadata": {},
     "output_type": "display_data"
    },
    {
     "data": {
      "application/vnd.jupyter.widget-view+json": {
       "model_id": "26d4e6213324439c98e2a29472876ebd",
       "version_major": 2,
       "version_minor": 0
      },
      "text/plain": [
       "sliding w:   0%|          | 0/266 [00:00<?, ?it/s]"
      ]
     },
     "metadata": {},
     "output_type": "display_data"
    },
    {
     "data": {
      "application/vnd.jupyter.widget-view+json": {
       "model_id": "b997954da318449fb700c15797a700c3",
       "version_major": 2,
       "version_minor": 0
      },
      "text/plain": [
       "sliding w:   0%|          | 0/266 [00:00<?, ?it/s]"
      ]
     },
     "metadata": {},
     "output_type": "display_data"
    },
    {
     "data": {
      "application/vnd.jupyter.widget-view+json": {
       "model_id": "599d52140694435d8552ae24ad9efc82",
       "version_major": 2,
       "version_minor": 0
      },
      "text/plain": [
       "sliding w:   0%|          | 0/266 [00:00<?, ?it/s]"
      ]
     },
     "metadata": {},
     "output_type": "display_data"
    },
    {
     "data": {
      "application/vnd.jupyter.widget-view+json": {
       "model_id": "e2e721f6114348cd9c6fd72b6e55f918",
       "version_major": 2,
       "version_minor": 0
      },
      "text/plain": [
       "contains:   0%|          | 0/266 [00:00<?, ?it/s]"
      ]
     },
     "metadata": {},
     "output_type": "display_data"
    },
    {
     "data": {
      "application/vnd.jupyter.widget-view+json": {
       "model_id": "fb484a361a1e4dcdaa843df1227addab",
       "version_major": 2,
       "version_minor": 0
      },
      "text/plain": [
       "  0%|          | 0/381 [00:00<?, ?it/s]"
      ]
     },
     "metadata": {},
     "output_type": "display_data"
    },
    {
     "data": {
      "application/vnd.jupyter.widget-view+json": {
       "model_id": "1e99d1e1ae714bafa03de6f63133fb07",
       "version_major": 2,
       "version_minor": 0
      },
      "text/plain": [
       "symbolize:   0%|          | 0/381 [00:00<?, ?it/s]"
      ]
     },
     "metadata": {},
     "output_type": "display_data"
    },
    {
     "data": {
      "application/vnd.jupyter.widget-view+json": {
       "model_id": "d84bc60c91a244838122c73baaf837c3",
       "version_major": 2,
       "version_minor": 0
      },
      "text/plain": [
       "sliding w:   0%|          | 0/266 [00:00<?, ?it/s]"
      ]
     },
     "metadata": {},
     "output_type": "display_data"
    },
    {
     "data": {
      "application/vnd.jupyter.widget-view+json": {
       "model_id": "2d55e02525f44676a0f886ad61ee8aef",
       "version_major": 2,
       "version_minor": 0
      },
      "text/plain": [
       "sliding w:   0%|          | 0/266 [00:00<?, ?it/s]"
      ]
     },
     "metadata": {},
     "output_type": "display_data"
    },
    {
     "data": {
      "application/vnd.jupyter.widget-view+json": {
       "model_id": "646b59c3430e430eafea118e495d65f6",
       "version_major": 2,
       "version_minor": 0
      },
      "text/plain": [
       "sliding w:   0%|          | 0/266 [00:00<?, ?it/s]"
      ]
     },
     "metadata": {},
     "output_type": "display_data"
    },
    {
     "data": {
      "application/vnd.jupyter.widget-view+json": {
       "model_id": "b36e663e8704434395feadd2db7e94b3",
       "version_major": 2,
       "version_minor": 0
      },
      "text/plain": [
       "contains:   0%|          | 0/266 [00:00<?, ?it/s]"
      ]
     },
     "metadata": {},
     "output_type": "display_data"
    },
    {
     "data": {
      "application/vnd.jupyter.widget-view+json": {
       "model_id": "9fdba4eff7d74ad6b81fd258b3b93096",
       "version_major": 2,
       "version_minor": 0
      },
      "text/plain": [
       "  0%|          | 0/381 [00:00<?, ?it/s]"
      ]
     },
     "metadata": {},
     "output_type": "display_data"
    },
    {
     "data": {
      "application/vnd.jupyter.widget-view+json": {
       "model_id": "ad04e4e1687c4cd9b72dc7c5a84e59d8",
       "version_major": 2,
       "version_minor": 0
      },
      "text/plain": [
       "symbolize:   0%|          | 0/381 [00:00<?, ?it/s]"
      ]
     },
     "metadata": {},
     "output_type": "display_data"
    },
    {
     "data": {
      "application/vnd.jupyter.widget-view+json": {
       "model_id": "d1df116a93204a949b89672c1a088d18",
       "version_major": 2,
       "version_minor": 0
      },
      "text/plain": [
       "sliding w:   0%|          | 0/266 [00:00<?, ?it/s]"
      ]
     },
     "metadata": {},
     "output_type": "display_data"
    },
    {
     "data": {
      "application/vnd.jupyter.widget-view+json": {
       "model_id": "13f70e11346d47218dc3a72ddee26156",
       "version_major": 2,
       "version_minor": 0
      },
      "text/plain": [
       "sliding w:   0%|          | 0/266 [00:00<?, ?it/s]"
      ]
     },
     "metadata": {},
     "output_type": "display_data"
    },
    {
     "data": {
      "application/vnd.jupyter.widget-view+json": {
       "model_id": "8959239cd0b54014859d301fb477a205",
       "version_major": 2,
       "version_minor": 0
      },
      "text/plain": [
       "sliding w:   0%|          | 0/266 [00:00<?, ?it/s]"
      ]
     },
     "metadata": {},
     "output_type": "display_data"
    },
    {
     "data": {
      "application/vnd.jupyter.widget-view+json": {
       "model_id": "d6a3775039624a51b2b4acf29114c915",
       "version_major": 2,
       "version_minor": 0
      },
      "text/plain": [
       "contains:   0%|          | 0/266 [00:00<?, ?it/s]"
      ]
     },
     "metadata": {},
     "output_type": "display_data"
    },
    {
     "data": {
      "application/vnd.jupyter.widget-view+json": {
       "model_id": "425e79752dbe4f84851849efefea9afa",
       "version_major": 2,
       "version_minor": 0
      },
      "text/plain": [
       "  0%|          | 0/381 [00:00<?, ?it/s]"
      ]
     },
     "metadata": {},
     "output_type": "display_data"
    },
    {
     "data": {
      "application/vnd.jupyter.widget-view+json": {
       "model_id": "80c7b7c977d640f28ceae31bd58fa7c5",
       "version_major": 2,
       "version_minor": 0
      },
      "text/plain": [
       "symbolize:   0%|          | 0/381 [00:00<?, ?it/s]"
      ]
     },
     "metadata": {},
     "output_type": "display_data"
    },
    {
     "data": {
      "application/vnd.jupyter.widget-view+json": {
       "model_id": "64a8b6bc4dce422589bb2fbab204eef9",
       "version_major": 2,
       "version_minor": 0
      },
      "text/plain": [
       "sliding w:   0%|          | 0/266 [00:00<?, ?it/s]"
      ]
     },
     "metadata": {},
     "output_type": "display_data"
    },
    {
     "data": {
      "application/vnd.jupyter.widget-view+json": {
       "model_id": "e49e1c694b814ac3975018fa5059da07",
       "version_major": 2,
       "version_minor": 0
      },
      "text/plain": [
       "sliding w:   0%|          | 0/266 [00:00<?, ?it/s]"
      ]
     },
     "metadata": {},
     "output_type": "display_data"
    },
    {
     "data": {
      "application/vnd.jupyter.widget-view+json": {
       "model_id": "28bf0c72ab2147d9bebfe26215b022d0",
       "version_major": 2,
       "version_minor": 0
      },
      "text/plain": [
       "sliding w:   0%|          | 0/266 [00:00<?, ?it/s]"
      ]
     },
     "metadata": {},
     "output_type": "display_data"
    },
    {
     "data": {
      "application/vnd.jupyter.widget-view+json": {
       "model_id": "fca1015f79b845b488634f83b18d9ce3",
       "version_major": 2,
       "version_minor": 0
      },
      "text/plain": [
       "contains:   0%|          | 0/266 [00:00<?, ?it/s]"
      ]
     },
     "metadata": {},
     "output_type": "display_data"
    },
    {
     "data": {
      "application/vnd.jupyter.widget-view+json": {
       "model_id": "18b29b8556e04859acd8ef90828d1aa8",
       "version_major": 2,
       "version_minor": 0
      },
      "text/plain": [
       "  0%|          | 0/381 [00:00<?, ?it/s]"
      ]
     },
     "metadata": {},
     "output_type": "display_data"
    },
    {
     "data": {
      "application/vnd.jupyter.widget-view+json": {
       "model_id": "6d0bb6f650cb49d1944f012ca7ddd625",
       "version_major": 2,
       "version_minor": 0
      },
      "text/plain": [
       "symbolize:   0%|          | 0/381 [00:00<?, ?it/s]"
      ]
     },
     "metadata": {},
     "output_type": "display_data"
    },
    {
     "data": {
      "application/vnd.jupyter.widget-view+json": {
       "model_id": "2482d48fae9d429ca65dae90eedbce9a",
       "version_major": 2,
       "version_minor": 0
      },
      "text/plain": [
       "sliding w:   0%|          | 0/266 [00:00<?, ?it/s]"
      ]
     },
     "metadata": {},
     "output_type": "display_data"
    },
    {
     "data": {
      "application/vnd.jupyter.widget-view+json": {
       "model_id": "124b94d725114f08bf39d3db166afe83",
       "version_major": 2,
       "version_minor": 0
      },
      "text/plain": [
       "sliding w:   0%|          | 0/266 [00:00<?, ?it/s]"
      ]
     },
     "metadata": {},
     "output_type": "display_data"
    },
    {
     "data": {
      "application/vnd.jupyter.widget-view+json": {
       "model_id": "bd5ca4cb1337412c8e8a66b239b085c7",
       "version_major": 2,
       "version_minor": 0
      },
      "text/plain": [
       "sliding w:   0%|          | 0/266 [00:00<?, ?it/s]"
      ]
     },
     "metadata": {},
     "output_type": "display_data"
    },
    {
     "data": {
      "application/vnd.jupyter.widget-view+json": {
       "model_id": "839dab6f46b34abfae0956994d55a442",
       "version_major": 2,
       "version_minor": 0
      },
      "text/plain": [
       "contains:   0%|          | 0/266 [00:00<?, ?it/s]"
      ]
     },
     "metadata": {},
     "output_type": "display_data"
    },
    {
     "data": {
      "application/vnd.jupyter.widget-view+json": {
       "model_id": "15c9329a591d4550bcdfd2c0961a692f",
       "version_major": 2,
       "version_minor": 0
      },
      "text/plain": [
       "  0%|          | 0/381 [00:00<?, ?it/s]"
      ]
     },
     "metadata": {},
     "output_type": "display_data"
    },
    {
     "data": {
      "application/vnd.jupyter.widget-view+json": {
       "model_id": "0a6a349c3f2b4a948168637f44f63d79",
       "version_major": 2,
       "version_minor": 0
      },
      "text/plain": [
       "symbolize:   0%|          | 0/381 [00:00<?, ?it/s]"
      ]
     },
     "metadata": {},
     "output_type": "display_data"
    },
    {
     "data": {
      "application/vnd.jupyter.widget-view+json": {
       "model_id": "34611688c1844205972d594b16a7c6f9",
       "version_major": 2,
       "version_minor": 0
      },
      "text/plain": [
       "sliding w:   0%|          | 0/266 [00:00<?, ?it/s]"
      ]
     },
     "metadata": {},
     "output_type": "display_data"
    },
    {
     "data": {
      "application/vnd.jupyter.widget-view+json": {
       "model_id": "d2b315a0a06746639ff4416e35159e9e",
       "version_major": 2,
       "version_minor": 0
      },
      "text/plain": [
       "sliding w:   0%|          | 0/266 [00:00<?, ?it/s]"
      ]
     },
     "metadata": {},
     "output_type": "display_data"
    },
    {
     "data": {
      "application/vnd.jupyter.widget-view+json": {
       "model_id": "79060ff86e87484695ce3800991ca27d",
       "version_major": 2,
       "version_minor": 0
      },
      "text/plain": [
       "sliding w:   0%|          | 0/266 [00:00<?, ?it/s]"
      ]
     },
     "metadata": {},
     "output_type": "display_data"
    },
    {
     "data": {
      "application/vnd.jupyter.widget-view+json": {
       "model_id": "387f390bb98d4a9a9ea3c31fadef063b",
       "version_major": 2,
       "version_minor": 0
      },
      "text/plain": [
       "contains:   0%|          | 0/266 [00:00<?, ?it/s]"
      ]
     },
     "metadata": {},
     "output_type": "display_data"
    },
    {
     "data": {
      "application/vnd.jupyter.widget-view+json": {
       "model_id": "62643a0a6f6e4ae894743e1a665df511",
       "version_major": 2,
       "version_minor": 0
      },
      "text/plain": [
       "  0%|          | 0/381 [00:00<?, ?it/s]"
      ]
     },
     "metadata": {},
     "output_type": "display_data"
    },
    {
     "data": {
      "application/vnd.jupyter.widget-view+json": {
       "model_id": "dceedde3af614df7a0d4e690d6963946",
       "version_major": 2,
       "version_minor": 0
      },
      "text/plain": [
       "symbolize:   0%|          | 0/381 [00:00<?, ?it/s]"
      ]
     },
     "metadata": {},
     "output_type": "display_data"
    },
    {
     "data": {
      "application/vnd.jupyter.widget-view+json": {
       "model_id": "ccc07724477b4fa487fd067a154af6a1",
       "version_major": 2,
       "version_minor": 0
      },
      "text/plain": [
       "sliding w:   0%|          | 0/266 [00:00<?, ?it/s]"
      ]
     },
     "metadata": {},
     "output_type": "display_data"
    },
    {
     "data": {
      "application/vnd.jupyter.widget-view+json": {
       "model_id": "26df7079552846c29752e4f683c68796",
       "version_major": 2,
       "version_minor": 0
      },
      "text/plain": [
       "sliding w:   0%|          | 0/266 [00:00<?, ?it/s]"
      ]
     },
     "metadata": {},
     "output_type": "display_data"
    },
    {
     "data": {
      "application/vnd.jupyter.widget-view+json": {
       "model_id": "e490012ec2934811a1a559be4a1edd55",
       "version_major": 2,
       "version_minor": 0
      },
      "text/plain": [
       "sliding w:   0%|          | 0/266 [00:00<?, ?it/s]"
      ]
     },
     "metadata": {},
     "output_type": "display_data"
    },
    {
     "data": {
      "application/vnd.jupyter.widget-view+json": {
       "model_id": "38f18a29dbcc4d658b0465341acd20eb",
       "version_major": 2,
       "version_minor": 0
      },
      "text/plain": [
       "contains:   0%|          | 0/266 [00:00<?, ?it/s]"
      ]
     },
     "metadata": {},
     "output_type": "display_data"
    },
    {
     "data": {
      "application/vnd.jupyter.widget-view+json": {
       "model_id": "1604f81ced36403ba27e8467f2f44a19",
       "version_major": 2,
       "version_minor": 0
      },
      "text/plain": [
       "  0%|          | 0/381 [00:00<?, ?it/s]"
      ]
     },
     "metadata": {},
     "output_type": "display_data"
    },
    {
     "data": {
      "application/vnd.jupyter.widget-view+json": {
       "model_id": "ab79967712934521a388c576fc764184",
       "version_major": 2,
       "version_minor": 0
      },
      "text/plain": [
       "symbolize:   0%|          | 0/381 [00:00<?, ?it/s]"
      ]
     },
     "metadata": {},
     "output_type": "display_data"
    },
    {
     "data": {
      "application/vnd.jupyter.widget-view+json": {
       "model_id": "2a6315c1210144b4b48905889af02eb9",
       "version_major": 2,
       "version_minor": 0
      },
      "text/plain": [
       "sliding w:   0%|          | 0/266 [00:00<?, ?it/s]"
      ]
     },
     "metadata": {},
     "output_type": "display_data"
    },
    {
     "data": {
      "application/vnd.jupyter.widget-view+json": {
       "model_id": "e14a4754d0e74d99adc329c581d331ac",
       "version_major": 2,
       "version_minor": 0
      },
      "text/plain": [
       "sliding w:   0%|          | 0/266 [00:00<?, ?it/s]"
      ]
     },
     "metadata": {},
     "output_type": "display_data"
    },
    {
     "data": {
      "application/vnd.jupyter.widget-view+json": {
       "model_id": "5d106917734d490fb44f89b6692e8c45",
       "version_major": 2,
       "version_minor": 0
      },
      "text/plain": [
       "sliding w:   0%|          | 0/266 [00:00<?, ?it/s]"
      ]
     },
     "metadata": {},
     "output_type": "display_data"
    },
    {
     "data": {
      "application/vnd.jupyter.widget-view+json": {
       "model_id": "13bae73f4b1947fdbdb837ce6bc9222e",
       "version_major": 2,
       "version_minor": 0
      },
      "text/plain": [
       "contains:   0%|          | 0/266 [00:00<?, ?it/s]"
      ]
     },
     "metadata": {},
     "output_type": "display_data"
    },
    {
     "data": {
      "application/vnd.jupyter.widget-view+json": {
       "model_id": "b5eedf5bc90d4d22af581799ab1c8b99",
       "version_major": 2,
       "version_minor": 0
      },
      "text/plain": [
       "  0%|          | 0/381 [00:00<?, ?it/s]"
      ]
     },
     "metadata": {},
     "output_type": "display_data"
    },
    {
     "data": {
      "application/vnd.jupyter.widget-view+json": {
       "model_id": "1437b55085464ad4bd612bfe3cecfcc4",
       "version_major": 2,
       "version_minor": 0
      },
      "text/plain": [
       "symbolize:   0%|          | 0/381 [00:00<?, ?it/s]"
      ]
     },
     "metadata": {},
     "output_type": "display_data"
    },
    {
     "data": {
      "application/vnd.jupyter.widget-view+json": {
       "model_id": "84b0e889645e48a1b83760f3940e9df0",
       "version_major": 2,
       "version_minor": 0
      },
      "text/plain": [
       "sliding w:   0%|          | 0/266 [00:00<?, ?it/s]"
      ]
     },
     "metadata": {},
     "output_type": "display_data"
    },
    {
     "data": {
      "application/vnd.jupyter.widget-view+json": {
       "model_id": "7bf8103d972c44e69f4637ce11e12d32",
       "version_major": 2,
       "version_minor": 0
      },
      "text/plain": [
       "sliding w:   0%|          | 0/266 [00:00<?, ?it/s]"
      ]
     },
     "metadata": {},
     "output_type": "display_data"
    },
    {
     "data": {
      "application/vnd.jupyter.widget-view+json": {
       "model_id": "fe8a433809a34f8eaf3b06cdb1c31eb5",
       "version_major": 2,
       "version_minor": 0
      },
      "text/plain": [
       "sliding w:   0%|          | 0/266 [00:00<?, ?it/s]"
      ]
     },
     "metadata": {},
     "output_type": "display_data"
    },
    {
     "data": {
      "application/vnd.jupyter.widget-view+json": {
       "model_id": "0f1ccd23881c40a39abc01f2ce9e4181",
       "version_major": 2,
       "version_minor": 0
      },
      "text/plain": [
       "contains:   0%|          | 0/266 [00:00<?, ?it/s]"
      ]
     },
     "metadata": {},
     "output_type": "display_data"
    },
    {
     "data": {
      "application/vnd.jupyter.widget-view+json": {
       "model_id": "85cb2e96d7f54324918e9ab76b03e4f6",
       "version_major": 2,
       "version_minor": 0
      },
      "text/plain": [
       "  0%|          | 0/381 [00:00<?, ?it/s]"
      ]
     },
     "metadata": {},
     "output_type": "display_data"
    },
    {
     "data": {
      "application/vnd.jupyter.widget-view+json": {
       "model_id": "f59f7a8646b04480a8c4eebb083fdb6c",
       "version_major": 2,
       "version_minor": 0
      },
      "text/plain": [
       "symbolize:   0%|          | 0/381 [00:00<?, ?it/s]"
      ]
     },
     "metadata": {},
     "output_type": "display_data"
    },
    {
     "data": {
      "application/vnd.jupyter.widget-view+json": {
       "model_id": "20608684bef346f483477ae2a1286af4",
       "version_major": 2,
       "version_minor": 0
      },
      "text/plain": [
       "sliding w:   0%|          | 0/266 [00:00<?, ?it/s]"
      ]
     },
     "metadata": {},
     "output_type": "display_data"
    },
    {
     "data": {
      "application/vnd.jupyter.widget-view+json": {
       "model_id": "28d40285ea6b4df2a1beed6ab167a4dc",
       "version_major": 2,
       "version_minor": 0
      },
      "text/plain": [
       "sliding w:   0%|          | 0/266 [00:00<?, ?it/s]"
      ]
     },
     "metadata": {},
     "output_type": "display_data"
    },
    {
     "data": {
      "application/vnd.jupyter.widget-view+json": {
       "model_id": "6e629fbd8c6e4020a5b11a67a41a0e50",
       "version_major": 2,
       "version_minor": 0
      },
      "text/plain": [
       "sliding w:   0%|          | 0/266 [00:00<?, ?it/s]"
      ]
     },
     "metadata": {},
     "output_type": "display_data"
    },
    {
     "data": {
      "application/vnd.jupyter.widget-view+json": {
       "model_id": "7df3687a14b745f7b70b0238f6e768f8",
       "version_major": 2,
       "version_minor": 0
      },
      "text/plain": [
       "contains:   0%|          | 0/266 [00:00<?, ?it/s]"
      ]
     },
     "metadata": {},
     "output_type": "display_data"
    },
    {
     "data": {
      "application/vnd.jupyter.widget-view+json": {
       "model_id": "4f398d3e034545adbc66c02084666c1f",
       "version_major": 2,
       "version_minor": 0
      },
      "text/plain": [
       "  0%|          | 0/381 [00:00<?, ?it/s]"
      ]
     },
     "metadata": {},
     "output_type": "display_data"
    },
    {
     "data": {
      "application/vnd.jupyter.widget-view+json": {
       "model_id": "1bc8442bd0a84d4080d2c94d726529f2",
       "version_major": 2,
       "version_minor": 0
      },
      "text/plain": [
       "symbolize:   0%|          | 0/381 [00:00<?, ?it/s]"
      ]
     },
     "metadata": {},
     "output_type": "display_data"
    },
    {
     "data": {
      "application/vnd.jupyter.widget-view+json": {
       "model_id": "e06504307a404c2283eafe975839c5fb",
       "version_major": 2,
       "version_minor": 0
      },
      "text/plain": [
       "sliding w:   0%|          | 0/266 [00:00<?, ?it/s]"
      ]
     },
     "metadata": {},
     "output_type": "display_data"
    },
    {
     "data": {
      "application/vnd.jupyter.widget-view+json": {
       "model_id": "e9f41262903349ecb1d2bcae2c0a4b56",
       "version_major": 2,
       "version_minor": 0
      },
      "text/plain": [
       "sliding w:   0%|          | 0/266 [00:00<?, ?it/s]"
      ]
     },
     "metadata": {},
     "output_type": "display_data"
    },
    {
     "data": {
      "application/vnd.jupyter.widget-view+json": {
       "model_id": "2250ffa6954a4bd98da0374abb3afd22",
       "version_major": 2,
       "version_minor": 0
      },
      "text/plain": [
       "sliding w:   0%|          | 0/266 [00:00<?, ?it/s]"
      ]
     },
     "metadata": {},
     "output_type": "display_data"
    },
    {
     "data": {
      "application/vnd.jupyter.widget-view+json": {
       "model_id": "678ad07013cf4a34b1574bf75cca1349",
       "version_major": 2,
       "version_minor": 0
      },
      "text/plain": [
       "contains:   0%|          | 0/266 [00:00<?, ?it/s]"
      ]
     },
     "metadata": {},
     "output_type": "display_data"
    },
    {
     "data": {
      "application/vnd.jupyter.widget-view+json": {
       "model_id": "63e4badebb57409090dac0503d04aeaa",
       "version_major": 2,
       "version_minor": 0
      },
      "text/plain": [
       "  0%|          | 0/381 [00:00<?, ?it/s]"
      ]
     },
     "metadata": {},
     "output_type": "display_data"
    },
    {
     "data": {
      "application/vnd.jupyter.widget-view+json": {
       "model_id": "fc91d4227f9d475c90c9d6ab939bf7b9",
       "version_major": 2,
       "version_minor": 0
      },
      "text/plain": [
       "symbolize:   0%|          | 0/381 [00:00<?, ?it/s]"
      ]
     },
     "metadata": {},
     "output_type": "display_data"
    },
    {
     "data": {
      "application/vnd.jupyter.widget-view+json": {
       "model_id": "2682113c506f43b2a6b2109fe13f4124",
       "version_major": 2,
       "version_minor": 0
      },
      "text/plain": [
       "sliding w:   0%|          | 0/266 [00:00<?, ?it/s]"
      ]
     },
     "metadata": {},
     "output_type": "display_data"
    },
    {
     "data": {
      "application/vnd.jupyter.widget-view+json": {
       "model_id": "66a3f904d8684ea48347720d6246aa86",
       "version_major": 2,
       "version_minor": 0
      },
      "text/plain": [
       "sliding w:   0%|          | 0/266 [00:00<?, ?it/s]"
      ]
     },
     "metadata": {},
     "output_type": "display_data"
    },
    {
     "data": {
      "application/vnd.jupyter.widget-view+json": {
       "model_id": "ecb9ae85ee6b4ce9aae7a2efeff5b6af",
       "version_major": 2,
       "version_minor": 0
      },
      "text/plain": [
       "sliding w:   0%|          | 0/266 [00:00<?, ?it/s]"
      ]
     },
     "metadata": {},
     "output_type": "display_data"
    },
    {
     "data": {
      "application/vnd.jupyter.widget-view+json": {
       "model_id": "04f0acf753ee424a9e8b5a130baa0743",
       "version_major": 2,
       "version_minor": 0
      },
      "text/plain": [
       "contains:   0%|          | 0/266 [00:00<?, ?it/s]"
      ]
     },
     "metadata": {},
     "output_type": "display_data"
    },
    {
     "data": {
      "application/vnd.jupyter.widget-view+json": {
       "model_id": "86cb08a0b8754f54a9c385642cb13f96",
       "version_major": 2,
       "version_minor": 0
      },
      "text/plain": [
       "  0%|          | 0/381 [00:00<?, ?it/s]"
      ]
     },
     "metadata": {},
     "output_type": "display_data"
    },
    {
     "data": {
      "application/vnd.jupyter.widget-view+json": {
       "model_id": "31ec61d1f27a446a8c5bc2e496a55e14",
       "version_major": 2,
       "version_minor": 0
      },
      "text/plain": [
       "symbolize:   0%|          | 0/381 [00:00<?, ?it/s]"
      ]
     },
     "metadata": {},
     "output_type": "display_data"
    },
    {
     "data": {
      "application/vnd.jupyter.widget-view+json": {
       "model_id": "f5630bc844224ff4b1aa7af702e1085c",
       "version_major": 2,
       "version_minor": 0
      },
      "text/plain": [
       "sliding w:   0%|          | 0/266 [00:00<?, ?it/s]"
      ]
     },
     "metadata": {},
     "output_type": "display_data"
    },
    {
     "data": {
      "application/vnd.jupyter.widget-view+json": {
       "model_id": "ffc57392552246dcb88b9429b5be0de8",
       "version_major": 2,
       "version_minor": 0
      },
      "text/plain": [
       "sliding w:   0%|          | 0/266 [00:00<?, ?it/s]"
      ]
     },
     "metadata": {},
     "output_type": "display_data"
    },
    {
     "data": {
      "application/vnd.jupyter.widget-view+json": {
       "model_id": "7795c1b35a0a4ec3b0795fea63704d21",
       "version_major": 2,
       "version_minor": 0
      },
      "text/plain": [
       "sliding w:   0%|          | 0/266 [00:00<?, ?it/s]"
      ]
     },
     "metadata": {},
     "output_type": "display_data"
    },
    {
     "data": {
      "application/vnd.jupyter.widget-view+json": {
       "model_id": "5df2a85927704647a21b970111deb708",
       "version_major": 2,
       "version_minor": 0
      },
      "text/plain": [
       "contains:   0%|          | 0/266 [00:00<?, ?it/s]"
      ]
     },
     "metadata": {},
     "output_type": "display_data"
    },
    {
     "data": {
      "application/vnd.jupyter.widget-view+json": {
       "model_id": "165f04db1c8c4a06939398b5f57c2413",
       "version_major": 2,
       "version_minor": 0
      },
      "text/plain": [
       "  0%|          | 0/381 [00:00<?, ?it/s]"
      ]
     },
     "metadata": {},
     "output_type": "display_data"
    },
    {
     "data": {
      "application/vnd.jupyter.widget-view+json": {
       "model_id": "e27aa961a6e7441db497df00ef8f4e86",
       "version_major": 2,
       "version_minor": 0
      },
      "text/plain": [
       "symbolize:   0%|          | 0/381 [00:00<?, ?it/s]"
      ]
     },
     "metadata": {},
     "output_type": "display_data"
    },
    {
     "data": {
      "application/vnd.jupyter.widget-view+json": {
       "model_id": "5cebfc99528e4319a5aa2b9a88be8296",
       "version_major": 2,
       "version_minor": 0
      },
      "text/plain": [
       "sliding w:   0%|          | 0/266 [00:00<?, ?it/s]"
      ]
     },
     "metadata": {},
     "output_type": "display_data"
    },
    {
     "data": {
      "application/vnd.jupyter.widget-view+json": {
       "model_id": "d8112476f3304ef288a62c66f700d06b",
       "version_major": 2,
       "version_minor": 0
      },
      "text/plain": [
       "sliding w:   0%|          | 0/266 [00:00<?, ?it/s]"
      ]
     },
     "metadata": {},
     "output_type": "display_data"
    },
    {
     "data": {
      "application/vnd.jupyter.widget-view+json": {
       "model_id": "ad64420344f14b229731171c3d84abac",
       "version_major": 2,
       "version_minor": 0
      },
      "text/plain": [
       "sliding w:   0%|          | 0/266 [00:00<?, ?it/s]"
      ]
     },
     "metadata": {},
     "output_type": "display_data"
    },
    {
     "data": {
      "application/vnd.jupyter.widget-view+json": {
       "model_id": "d52a97331cd6446eb4a704e9e2f2f570",
       "version_major": 2,
       "version_minor": 0
      },
      "text/plain": [
       "contains:   0%|          | 0/266 [00:00<?, ?it/s]"
      ]
     },
     "metadata": {},
     "output_type": "display_data"
    },
    {
     "data": {
      "application/vnd.jupyter.widget-view+json": {
       "model_id": "2116693a518c4a3d84930a813f586119",
       "version_major": 2,
       "version_minor": 0
      },
      "text/plain": [
       "  0%|          | 0/381 [00:00<?, ?it/s]"
      ]
     },
     "metadata": {},
     "output_type": "display_data"
    },
    {
     "data": {
      "application/vnd.jupyter.widget-view+json": {
       "model_id": "9c699db70873425f9f620a1046e28472",
       "version_major": 2,
       "version_minor": 0
      },
      "text/plain": [
       "symbolize:   0%|          | 0/381 [00:00<?, ?it/s]"
      ]
     },
     "metadata": {},
     "output_type": "display_data"
    },
    {
     "data": {
      "application/vnd.jupyter.widget-view+json": {
       "model_id": "4d657f824c364053927e55d99bfeffe4",
       "version_major": 2,
       "version_minor": 0
      },
      "text/plain": [
       "sliding w:   0%|          | 0/266 [00:00<?, ?it/s]"
      ]
     },
     "metadata": {},
     "output_type": "display_data"
    },
    {
     "data": {
      "application/vnd.jupyter.widget-view+json": {
       "model_id": "02c0c338845c40bb87f0ca0471f49ae7",
       "version_major": 2,
       "version_minor": 0
      },
      "text/plain": [
       "sliding w:   0%|          | 0/266 [00:00<?, ?it/s]"
      ]
     },
     "metadata": {},
     "output_type": "display_data"
    },
    {
     "data": {
      "application/vnd.jupyter.widget-view+json": {
       "model_id": "ba487749d3b04bd2be58e21fb2fb0a71",
       "version_major": 2,
       "version_minor": 0
      },
      "text/plain": [
       "sliding w:   0%|          | 0/266 [00:00<?, ?it/s]"
      ]
     },
     "metadata": {},
     "output_type": "display_data"
    },
    {
     "data": {
      "application/vnd.jupyter.widget-view+json": {
       "model_id": "c91abeb2b6df454ab73dffe16c3aecf0",
       "version_major": 2,
       "version_minor": 0
      },
      "text/plain": [
       "contains:   0%|          | 0/266 [00:00<?, ?it/s]"
      ]
     },
     "metadata": {},
     "output_type": "display_data"
    },
    {
     "data": {
      "application/vnd.jupyter.widget-view+json": {
       "model_id": "408ff31997104b01bda7034fb1f2e924",
       "version_major": 2,
       "version_minor": 0
      },
      "text/plain": [
       "  0%|          | 0/381 [00:00<?, ?it/s]"
      ]
     },
     "metadata": {},
     "output_type": "display_data"
    },
    {
     "data": {
      "application/vnd.jupyter.widget-view+json": {
       "model_id": "401f78de22a34857b4159f7f4f0a6278",
       "version_major": 2,
       "version_minor": 0
      },
      "text/plain": [
       "symbolize:   0%|          | 0/381 [00:00<?, ?it/s]"
      ]
     },
     "metadata": {},
     "output_type": "display_data"
    },
    {
     "data": {
      "application/vnd.jupyter.widget-view+json": {
       "model_id": "25eb655c009a46a3bf0593dd58339052",
       "version_major": 2,
       "version_minor": 0
      },
      "text/plain": [
       "sliding w:   0%|          | 0/266 [00:00<?, ?it/s]"
      ]
     },
     "metadata": {},
     "output_type": "display_data"
    },
    {
     "data": {
      "application/vnd.jupyter.widget-view+json": {
       "model_id": "ceada4be1c0d464ca6fb29e0b3b9d813",
       "version_major": 2,
       "version_minor": 0
      },
      "text/plain": [
       "sliding w:   0%|          | 0/266 [00:00<?, ?it/s]"
      ]
     },
     "metadata": {},
     "output_type": "display_data"
    },
    {
     "data": {
      "application/vnd.jupyter.widget-view+json": {
       "model_id": "6a098b706206449c9042b9d59ac3dd57",
       "version_major": 2,
       "version_minor": 0
      },
      "text/plain": [
       "sliding w:   0%|          | 0/266 [00:00<?, ?it/s]"
      ]
     },
     "metadata": {},
     "output_type": "display_data"
    },
    {
     "data": {
      "application/vnd.jupyter.widget-view+json": {
       "model_id": "9c0b0c336b884841a7b841a628573493",
       "version_major": 2,
       "version_minor": 0
      },
      "text/plain": [
       "contains:   0%|          | 0/266 [00:00<?, ?it/s]"
      ]
     },
     "metadata": {},
     "output_type": "display_data"
    },
    {
     "data": {
      "application/vnd.jupyter.widget-view+json": {
       "model_id": "3ab2e4059fd245c0b2a918c0338a6f76",
       "version_major": 2,
       "version_minor": 0
      },
      "text/plain": [
       "  0%|          | 0/381 [00:00<?, ?it/s]"
      ]
     },
     "metadata": {},
     "output_type": "display_data"
    },
    {
     "data": {
      "application/vnd.jupyter.widget-view+json": {
       "model_id": "9069b149153149909f0f0c6900cc5aff",
       "version_major": 2,
       "version_minor": 0
      },
      "text/plain": [
       "symbolize:   0%|          | 0/381 [00:00<?, ?it/s]"
      ]
     },
     "metadata": {},
     "output_type": "display_data"
    },
    {
     "data": {
      "application/vnd.jupyter.widget-view+json": {
       "model_id": "a4bedf683a18466ba4a1d2df78b8b71d",
       "version_major": 2,
       "version_minor": 0
      },
      "text/plain": [
       "sliding w:   0%|          | 0/266 [00:00<?, ?it/s]"
      ]
     },
     "metadata": {},
     "output_type": "display_data"
    },
    {
     "data": {
      "application/vnd.jupyter.widget-view+json": {
       "model_id": "85c3309c5ba94b1e8bd3c0ecba935276",
       "version_major": 2,
       "version_minor": 0
      },
      "text/plain": [
       "sliding w:   0%|          | 0/266 [00:00<?, ?it/s]"
      ]
     },
     "metadata": {},
     "output_type": "display_data"
    },
    {
     "data": {
      "application/vnd.jupyter.widget-view+json": {
       "model_id": "129fbc5853b74139a49292ea410cbc2a",
       "version_major": 2,
       "version_minor": 0
      },
      "text/plain": [
       "sliding w:   0%|          | 0/266 [00:00<?, ?it/s]"
      ]
     },
     "metadata": {},
     "output_type": "display_data"
    },
    {
     "data": {
      "application/vnd.jupyter.widget-view+json": {
       "model_id": "9c56327a150042329f9633d53728937c",
       "version_major": 2,
       "version_minor": 0
      },
      "text/plain": [
       "contains:   0%|          | 0/266 [00:00<?, ?it/s]"
      ]
     },
     "metadata": {},
     "output_type": "display_data"
    },
    {
     "data": {
      "application/vnd.jupyter.widget-view+json": {
       "model_id": "f103e28dc9304279b5312f8a5f6b9c15",
       "version_major": 2,
       "version_minor": 0
      },
      "text/plain": [
       "  0%|          | 0/381 [00:00<?, ?it/s]"
      ]
     },
     "metadata": {},
     "output_type": "display_data"
    },
    {
     "data": {
      "application/vnd.jupyter.widget-view+json": {
       "model_id": "edcc198ce7e04eb39a674037eb4574e8",
       "version_major": 2,
       "version_minor": 0
      },
      "text/plain": [
       "symbolize:   0%|          | 0/381 [00:00<?, ?it/s]"
      ]
     },
     "metadata": {},
     "output_type": "display_data"
    },
    {
     "data": {
      "application/vnd.jupyter.widget-view+json": {
       "model_id": "a66d91b364f14d62abeb73161fce3288",
       "version_major": 2,
       "version_minor": 0
      },
      "text/plain": [
       "sliding w:   0%|          | 0/266 [00:00<?, ?it/s]"
      ]
     },
     "metadata": {},
     "output_type": "display_data"
    },
    {
     "data": {
      "application/vnd.jupyter.widget-view+json": {
       "model_id": "4a34919eeb3b4c57a669afb8a159667c",
       "version_major": 2,
       "version_minor": 0
      },
      "text/plain": [
       "sliding w:   0%|          | 0/266 [00:00<?, ?it/s]"
      ]
     },
     "metadata": {},
     "output_type": "display_data"
    },
    {
     "data": {
      "application/vnd.jupyter.widget-view+json": {
       "model_id": "c702769263634f21b277baff8a67881c",
       "version_major": 2,
       "version_minor": 0
      },
      "text/plain": [
       "sliding w:   0%|          | 0/266 [00:00<?, ?it/s]"
      ]
     },
     "metadata": {},
     "output_type": "display_data"
    },
    {
     "data": {
      "application/vnd.jupyter.widget-view+json": {
       "model_id": "46f53b3151b144f99aa5e0871f1257d7",
       "version_major": 2,
       "version_minor": 0
      },
      "text/plain": [
       "contains:   0%|          | 0/266 [00:00<?, ?it/s]"
      ]
     },
     "metadata": {},
     "output_type": "display_data"
    },
    {
     "data": {
      "application/vnd.jupyter.widget-view+json": {
       "model_id": "bbd961a9470649a4bf3c8113eadc5f5c",
       "version_major": 2,
       "version_minor": 0
      },
      "text/plain": [
       "  0%|          | 0/381 [00:00<?, ?it/s]"
      ]
     },
     "metadata": {},
     "output_type": "display_data"
    },
    {
     "data": {
      "application/vnd.jupyter.widget-view+json": {
       "model_id": "ead600dafd2544ada6389076f5959d22",
       "version_major": 2,
       "version_minor": 0
      },
      "text/plain": [
       "symbolize:   0%|          | 0/381 [00:00<?, ?it/s]"
      ]
     },
     "metadata": {},
     "output_type": "display_data"
    },
    {
     "data": {
      "application/vnd.jupyter.widget-view+json": {
       "model_id": "5d4603290fd74f27b381564eeb364035",
       "version_major": 2,
       "version_minor": 0
      },
      "text/plain": [
       "sliding w:   0%|          | 0/266 [00:00<?, ?it/s]"
      ]
     },
     "metadata": {},
     "output_type": "display_data"
    },
    {
     "data": {
      "application/vnd.jupyter.widget-view+json": {
       "model_id": "15463465956447eea207d3fd93c18afe",
       "version_major": 2,
       "version_minor": 0
      },
      "text/plain": [
       "sliding w:   0%|          | 0/266 [00:00<?, ?it/s]"
      ]
     },
     "metadata": {},
     "output_type": "display_data"
    },
    {
     "data": {
      "application/vnd.jupyter.widget-view+json": {
       "model_id": "dc5e5f2fe5ff477daf1a804bf2a13fc6",
       "version_major": 2,
       "version_minor": 0
      },
      "text/plain": [
       "sliding w:   0%|          | 0/266 [00:00<?, ?it/s]"
      ]
     },
     "metadata": {},
     "output_type": "display_data"
    },
    {
     "data": {
      "application/vnd.jupyter.widget-view+json": {
       "model_id": "e3bb6bbc46b249f4ba10d75693db1c6d",
       "version_major": 2,
       "version_minor": 0
      },
      "text/plain": [
       "contains:   0%|          | 0/266 [00:00<?, ?it/s]"
      ]
     },
     "metadata": {},
     "output_type": "display_data"
    },
    {
     "data": {
      "application/vnd.jupyter.widget-view+json": {
       "model_id": "d5eca376ff724855b3e4487396463616",
       "version_major": 2,
       "version_minor": 0
      },
      "text/plain": [
       "  0%|          | 0/381 [00:00<?, ?it/s]"
      ]
     },
     "metadata": {},
     "output_type": "display_data"
    },
    {
     "data": {
      "application/vnd.jupyter.widget-view+json": {
       "model_id": "57988b14e0724710af611e91cf55c25d",
       "version_major": 2,
       "version_minor": 0
      },
      "text/plain": [
       "symbolize:   0%|          | 0/381 [00:00<?, ?it/s]"
      ]
     },
     "metadata": {},
     "output_type": "display_data"
    },
    {
     "data": {
      "application/vnd.jupyter.widget-view+json": {
       "model_id": "df7a452236c743faa85b6a1f670c3577",
       "version_major": 2,
       "version_minor": 0
      },
      "text/plain": [
       "sliding w:   0%|          | 0/266 [00:00<?, ?it/s]"
      ]
     },
     "metadata": {},
     "output_type": "display_data"
    },
    {
     "data": {
      "application/vnd.jupyter.widget-view+json": {
       "model_id": "89cbb2a5bb1b4579827763bc96d2e4d4",
       "version_major": 2,
       "version_minor": 0
      },
      "text/plain": [
       "sliding w:   0%|          | 0/266 [00:00<?, ?it/s]"
      ]
     },
     "metadata": {},
     "output_type": "display_data"
    },
    {
     "data": {
      "application/vnd.jupyter.widget-view+json": {
       "model_id": "bb772f46a93d4a6ab7fd788f0cba7bd0",
       "version_major": 2,
       "version_minor": 0
      },
      "text/plain": [
       "sliding w:   0%|          | 0/266 [00:00<?, ?it/s]"
      ]
     },
     "metadata": {},
     "output_type": "display_data"
    },
    {
     "data": {
      "application/vnd.jupyter.widget-view+json": {
       "model_id": "c220fc1d5b8b4a0bbc2b07b4627bdf0b",
       "version_major": 2,
       "version_minor": 0
      },
      "text/plain": [
       "contains:   0%|          | 0/266 [00:00<?, ?it/s]"
      ]
     },
     "metadata": {},
     "output_type": "display_data"
    },
    {
     "data": {
      "application/vnd.jupyter.widget-view+json": {
       "model_id": "8ced813f09f140fcaf417fd6f98c1ff0",
       "version_major": 2,
       "version_minor": 0
      },
      "text/plain": [
       "  0%|          | 0/381 [00:00<?, ?it/s]"
      ]
     },
     "metadata": {},
     "output_type": "display_data"
    },
    {
     "data": {
      "application/vnd.jupyter.widget-view+json": {
       "model_id": "34f88387b6c04424aac88435db1f9a75",
       "version_major": 2,
       "version_minor": 0
      },
      "text/plain": [
       "symbolize:   0%|          | 0/381 [00:00<?, ?it/s]"
      ]
     },
     "metadata": {},
     "output_type": "display_data"
    },
    {
     "data": {
      "application/vnd.jupyter.widget-view+json": {
       "model_id": "71efbe09cef14e86bc25cdef71fccad0",
       "version_major": 2,
       "version_minor": 0
      },
      "text/plain": [
       "sliding w:   0%|          | 0/266 [00:00<?, ?it/s]"
      ]
     },
     "metadata": {},
     "output_type": "display_data"
    },
    {
     "data": {
      "application/vnd.jupyter.widget-view+json": {
       "model_id": "b1e464a2615c48749e607f3b7ec91644",
       "version_major": 2,
       "version_minor": 0
      },
      "text/plain": [
       "sliding w:   0%|          | 0/266 [00:00<?, ?it/s]"
      ]
     },
     "metadata": {},
     "output_type": "display_data"
    },
    {
     "data": {
      "application/vnd.jupyter.widget-view+json": {
       "model_id": "1e601422312a4806846776b85cbf349b",
       "version_major": 2,
       "version_minor": 0
      },
      "text/plain": [
       "sliding w:   0%|          | 0/266 [00:00<?, ?it/s]"
      ]
     },
     "metadata": {},
     "output_type": "display_data"
    },
    {
     "data": {
      "application/vnd.jupyter.widget-view+json": {
       "model_id": "77694ecc79744ada93cc4d04697c2b0e",
       "version_major": 2,
       "version_minor": 0
      },
      "text/plain": [
       "contains:   0%|          | 0/266 [00:00<?, ?it/s]"
      ]
     },
     "metadata": {},
     "output_type": "display_data"
    },
    {
     "data": {
      "application/vnd.jupyter.widget-view+json": {
       "model_id": "4e9de61b35a446b09fbff342cb9dbcf3",
       "version_major": 2,
       "version_minor": 0
      },
      "text/plain": [
       "  0%|          | 0/381 [00:00<?, ?it/s]"
      ]
     },
     "metadata": {},
     "output_type": "display_data"
    },
    {
     "data": {
      "application/vnd.jupyter.widget-view+json": {
       "model_id": "648e5af887cd457690e179549819480d",
       "version_major": 2,
       "version_minor": 0
      },
      "text/plain": [
       "symbolize:   0%|          | 0/381 [00:00<?, ?it/s]"
      ]
     },
     "metadata": {},
     "output_type": "display_data"
    },
    {
     "data": {
      "application/vnd.jupyter.widget-view+json": {
       "model_id": "11a80694980946bf8db3bb88b94a35d0",
       "version_major": 2,
       "version_minor": 0
      },
      "text/plain": [
       "sliding w:   0%|          | 0/266 [00:00<?, ?it/s]"
      ]
     },
     "metadata": {},
     "output_type": "display_data"
    },
    {
     "data": {
      "application/vnd.jupyter.widget-view+json": {
       "model_id": "fc8bd5792b3843e8b68560efea0b572c",
       "version_major": 2,
       "version_minor": 0
      },
      "text/plain": [
       "sliding w:   0%|          | 0/266 [00:00<?, ?it/s]"
      ]
     },
     "metadata": {},
     "output_type": "display_data"
    },
    {
     "data": {
      "application/vnd.jupyter.widget-view+json": {
       "model_id": "9d721640280f48888dca4a835c0acfce",
       "version_major": 2,
       "version_minor": 0
      },
      "text/plain": [
       "sliding w:   0%|          | 0/266 [00:00<?, ?it/s]"
      ]
     },
     "metadata": {},
     "output_type": "display_data"
    },
    {
     "data": {
      "application/vnd.jupyter.widget-view+json": {
       "model_id": "1c811b29aff442b59abf778ef7c1c2cc",
       "version_major": 2,
       "version_minor": 0
      },
      "text/plain": [
       "contains:   0%|          | 0/266 [00:00<?, ?it/s]"
      ]
     },
     "metadata": {},
     "output_type": "display_data"
    },
    {
     "data": {
      "application/vnd.jupyter.widget-view+json": {
       "model_id": "3e3202ac3d0948849161e06c211ec755",
       "version_major": 2,
       "version_minor": 0
      },
      "text/plain": [
       "  0%|          | 0/381 [00:00<?, ?it/s]"
      ]
     },
     "metadata": {},
     "output_type": "display_data"
    },
    {
     "data": {
      "application/vnd.jupyter.widget-view+json": {
       "model_id": "fa2c836798364d3db5450c700be47265",
       "version_major": 2,
       "version_minor": 0
      },
      "text/plain": [
       "symbolize:   0%|          | 0/381 [00:00<?, ?it/s]"
      ]
     },
     "metadata": {},
     "output_type": "display_data"
    },
    {
     "data": {
      "application/vnd.jupyter.widget-view+json": {
       "model_id": "04bcbe7a48574289b34e491722db408d",
       "version_major": 2,
       "version_minor": 0
      },
      "text/plain": [
       "sliding w:   0%|          | 0/266 [00:00<?, ?it/s]"
      ]
     },
     "metadata": {},
     "output_type": "display_data"
    },
    {
     "data": {
      "application/vnd.jupyter.widget-view+json": {
       "model_id": "c617b3366594458bb3eeb314177f9802",
       "version_major": 2,
       "version_minor": 0
      },
      "text/plain": [
       "sliding w:   0%|          | 0/266 [00:00<?, ?it/s]"
      ]
     },
     "metadata": {},
     "output_type": "display_data"
    },
    {
     "data": {
      "application/vnd.jupyter.widget-view+json": {
       "model_id": "90e6bab3a29840adb1fc2d15a34b5bea",
       "version_major": 2,
       "version_minor": 0
      },
      "text/plain": [
       "sliding w:   0%|          | 0/266 [00:00<?, ?it/s]"
      ]
     },
     "metadata": {},
     "output_type": "display_data"
    },
    {
     "data": {
      "application/vnd.jupyter.widget-view+json": {
       "model_id": "6b5bc294181c47da82714aa7a21d1b1c",
       "version_major": 2,
       "version_minor": 0
      },
      "text/plain": [
       "contains:   0%|          | 0/266 [00:00<?, ?it/s]"
      ]
     },
     "metadata": {},
     "output_type": "display_data"
    },
    {
     "data": {
      "application/vnd.jupyter.widget-view+json": {
       "model_id": "52d840009aa94a65a7af162625c36de6",
       "version_major": 2,
       "version_minor": 0
      },
      "text/plain": [
       "  0%|          | 0/381 [00:00<?, ?it/s]"
      ]
     },
     "metadata": {},
     "output_type": "display_data"
    },
    {
     "data": {
      "application/vnd.jupyter.widget-view+json": {
       "model_id": "6faf81a47c7042a0851c3053f77a49c9",
       "version_major": 2,
       "version_minor": 0
      },
      "text/plain": [
       "symbolize:   0%|          | 0/381 [00:00<?, ?it/s]"
      ]
     },
     "metadata": {},
     "output_type": "display_data"
    },
    {
     "data": {
      "application/vnd.jupyter.widget-view+json": {
       "model_id": "dd9b093d1cec4bbeb330809cec9bf8de",
       "version_major": 2,
       "version_minor": 0
      },
      "text/plain": [
       "sliding w:   0%|          | 0/266 [00:00<?, ?it/s]"
      ]
     },
     "metadata": {},
     "output_type": "display_data"
    },
    {
     "data": {
      "application/vnd.jupyter.widget-view+json": {
       "model_id": "31d3563188104d2a85b504e335f56951",
       "version_major": 2,
       "version_minor": 0
      },
      "text/plain": [
       "sliding w:   0%|          | 0/266 [00:00<?, ?it/s]"
      ]
     },
     "metadata": {},
     "output_type": "display_data"
    },
    {
     "data": {
      "application/vnd.jupyter.widget-view+json": {
       "model_id": "f5ec858540ff4127a0c5914d59242c55",
       "version_major": 2,
       "version_minor": 0
      },
      "text/plain": [
       "sliding w:   0%|          | 0/266 [00:00<?, ?it/s]"
      ]
     },
     "metadata": {},
     "output_type": "display_data"
    },
    {
     "data": {
      "application/vnd.jupyter.widget-view+json": {
       "model_id": "007450e83e4b42efa43000ae1f0ed009",
       "version_major": 2,
       "version_minor": 0
      },
      "text/plain": [
       "contains:   0%|          | 0/266 [00:00<?, ?it/s]"
      ]
     },
     "metadata": {},
     "output_type": "display_data"
    },
    {
     "data": {
      "application/vnd.jupyter.widget-view+json": {
       "model_id": "4e96abf20c9548b0b3ff0c5175abe472",
       "version_major": 2,
       "version_minor": 0
      },
      "text/plain": [
       "  0%|          | 0/381 [00:00<?, ?it/s]"
      ]
     },
     "metadata": {},
     "output_type": "display_data"
    },
    {
     "data": {
      "application/vnd.jupyter.widget-view+json": {
       "model_id": "57347f941a314713a34c10199eff7c4d",
       "version_major": 2,
       "version_minor": 0
      },
      "text/plain": [
       "symbolize:   0%|          | 0/381 [00:00<?, ?it/s]"
      ]
     },
     "metadata": {},
     "output_type": "display_data"
    },
    {
     "data": {
      "application/vnd.jupyter.widget-view+json": {
       "model_id": "660081c8ed74484e9442558611fd6a74",
       "version_major": 2,
       "version_minor": 0
      },
      "text/plain": [
       "sliding w:   0%|          | 0/266 [00:00<?, ?it/s]"
      ]
     },
     "metadata": {},
     "output_type": "display_data"
    },
    {
     "data": {
      "application/vnd.jupyter.widget-view+json": {
       "model_id": "8a1384798ad944a49953ba52daaf541e",
       "version_major": 2,
       "version_minor": 0
      },
      "text/plain": [
       "sliding w:   0%|          | 0/266 [00:00<?, ?it/s]"
      ]
     },
     "metadata": {},
     "output_type": "display_data"
    },
    {
     "data": {
      "application/vnd.jupyter.widget-view+json": {
       "model_id": "cd3bcc218a794c389208d14406fc0a31",
       "version_major": 2,
       "version_minor": 0
      },
      "text/plain": [
       "sliding w:   0%|          | 0/266 [00:00<?, ?it/s]"
      ]
     },
     "metadata": {},
     "output_type": "display_data"
    },
    {
     "data": {
      "application/vnd.jupyter.widget-view+json": {
       "model_id": "e81c1e7befb14f68b18fccf8ffe37ceb",
       "version_major": 2,
       "version_minor": 0
      },
      "text/plain": [
       "contains:   0%|          | 0/266 [00:00<?, ?it/s]"
      ]
     },
     "metadata": {},
     "output_type": "display_data"
    },
    {
     "data": {
      "application/vnd.jupyter.widget-view+json": {
       "model_id": "db9c387ce05c4f12bd94255397c3fecf",
       "version_major": 2,
       "version_minor": 0
      },
      "text/plain": [
       "  0%|          | 0/381 [00:00<?, ?it/s]"
      ]
     },
     "metadata": {},
     "output_type": "display_data"
    },
    {
     "data": {
      "application/vnd.jupyter.widget-view+json": {
       "model_id": "40595fed5b8f474ba7f275017153e2a2",
       "version_major": 2,
       "version_minor": 0
      },
      "text/plain": [
       "symbolize:   0%|          | 0/381 [00:00<?, ?it/s]"
      ]
     },
     "metadata": {},
     "output_type": "display_data"
    },
    {
     "data": {
      "application/vnd.jupyter.widget-view+json": {
       "model_id": "d41a60fb6a67482580cd43ef35b16ef2",
       "version_major": 2,
       "version_minor": 0
      },
      "text/plain": [
       "sliding w:   0%|          | 0/266 [00:00<?, ?it/s]"
      ]
     },
     "metadata": {},
     "output_type": "display_data"
    },
    {
     "data": {
      "application/vnd.jupyter.widget-view+json": {
       "model_id": "4665a2f683774db6ba741c10695a7d2b",
       "version_major": 2,
       "version_minor": 0
      },
      "text/plain": [
       "sliding w:   0%|          | 0/266 [00:00<?, ?it/s]"
      ]
     },
     "metadata": {},
     "output_type": "display_data"
    },
    {
     "data": {
      "application/vnd.jupyter.widget-view+json": {
       "model_id": "42aaeec669dc4f34b2c0a1f43fb9c9dc",
       "version_major": 2,
       "version_minor": 0
      },
      "text/plain": [
       "sliding w:   0%|          | 0/266 [00:00<?, ?it/s]"
      ]
     },
     "metadata": {},
     "output_type": "display_data"
    },
    {
     "data": {
      "application/vnd.jupyter.widget-view+json": {
       "model_id": "6b72b09b30f343a8be2be1327ef5955a",
       "version_major": 2,
       "version_minor": 0
      },
      "text/plain": [
       "contains:   0%|          | 0/266 [00:00<?, ?it/s]"
      ]
     },
     "metadata": {},
     "output_type": "display_data"
    },
    {
     "data": {
      "application/vnd.jupyter.widget-view+json": {
       "model_id": "4742ac6a49be4b9cb270733ad0fece60",
       "version_major": 2,
       "version_minor": 0
      },
      "text/plain": [
       "  0%|          | 0/381 [00:00<?, ?it/s]"
      ]
     },
     "metadata": {},
     "output_type": "display_data"
    },
    {
     "data": {
      "application/vnd.jupyter.widget-view+json": {
       "model_id": "60a0e9b6792646a7b0b6c744c3affc45",
       "version_major": 2,
       "version_minor": 0
      },
      "text/plain": [
       "symbolize:   0%|          | 0/381 [00:00<?, ?it/s]"
      ]
     },
     "metadata": {},
     "output_type": "display_data"
    },
    {
     "data": {
      "application/vnd.jupyter.widget-view+json": {
       "model_id": "e2922fe60ba34f429de66f128c3bed13",
       "version_major": 2,
       "version_minor": 0
      },
      "text/plain": [
       "sliding w:   0%|          | 0/266 [00:00<?, ?it/s]"
      ]
     },
     "metadata": {},
     "output_type": "display_data"
    },
    {
     "data": {
      "application/vnd.jupyter.widget-view+json": {
       "model_id": "4abb620250da47a1a1f690a0b9c8f1f9",
       "version_major": 2,
       "version_minor": 0
      },
      "text/plain": [
       "sliding w:   0%|          | 0/266 [00:00<?, ?it/s]"
      ]
     },
     "metadata": {},
     "output_type": "display_data"
    },
    {
     "data": {
      "application/vnd.jupyter.widget-view+json": {
       "model_id": "da488ee1d152482aaaa10c163f404c67",
       "version_major": 2,
       "version_minor": 0
      },
      "text/plain": [
       "sliding w:   0%|          | 0/266 [00:00<?, ?it/s]"
      ]
     },
     "metadata": {},
     "output_type": "display_data"
    },
    {
     "data": {
      "application/vnd.jupyter.widget-view+json": {
       "model_id": "9ced3ab360e045598a5834a52017a081",
       "version_major": 2,
       "version_minor": 0
      },
      "text/plain": [
       "contains:   0%|          | 0/266 [00:00<?, ?it/s]"
      ]
     },
     "metadata": {},
     "output_type": "display_data"
    },
    {
     "data": {
      "application/vnd.jupyter.widget-view+json": {
       "model_id": "7648f67a4e2e439b8161a05f6c2ac16f",
       "version_major": 2,
       "version_minor": 0
      },
      "text/plain": [
       "  0%|          | 0/381 [00:00<?, ?it/s]"
      ]
     },
     "metadata": {},
     "output_type": "display_data"
    },
    {
     "data": {
      "application/vnd.jupyter.widget-view+json": {
       "model_id": "1261f12be5fc426f95cf258555b6e02e",
       "version_major": 2,
       "version_minor": 0
      },
      "text/plain": [
       "symbolize:   0%|          | 0/381 [00:00<?, ?it/s]"
      ]
     },
     "metadata": {},
     "output_type": "display_data"
    },
    {
     "data": {
      "application/vnd.jupyter.widget-view+json": {
       "model_id": "ca935cd7b22c418cba83b665df58b7ad",
       "version_major": 2,
       "version_minor": 0
      },
      "text/plain": [
       "sliding w:   0%|          | 0/266 [00:00<?, ?it/s]"
      ]
     },
     "metadata": {},
     "output_type": "display_data"
    },
    {
     "data": {
      "application/vnd.jupyter.widget-view+json": {
       "model_id": "1c722dd9a50b440cbfb167a411b0e357",
       "version_major": 2,
       "version_minor": 0
      },
      "text/plain": [
       "sliding w:   0%|          | 0/266 [00:00<?, ?it/s]"
      ]
     },
     "metadata": {},
     "output_type": "display_data"
    },
    {
     "data": {
      "application/vnd.jupyter.widget-view+json": {
       "model_id": "db2fd165417a47f3be1ce2f917473398",
       "version_major": 2,
       "version_minor": 0
      },
      "text/plain": [
       "sliding w:   0%|          | 0/266 [00:00<?, ?it/s]"
      ]
     },
     "metadata": {},
     "output_type": "display_data"
    },
    {
     "data": {
      "application/vnd.jupyter.widget-view+json": {
       "model_id": "2da5278bf863422b887e959dfc9fed9f",
       "version_major": 2,
       "version_minor": 0
      },
      "text/plain": [
       "contains:   0%|          | 0/266 [00:00<?, ?it/s]"
      ]
     },
     "metadata": {},
     "output_type": "display_data"
    },
    {
     "data": {
      "application/vnd.jupyter.widget-view+json": {
       "model_id": "49924eb04c59430082c8573490177bca",
       "version_major": 2,
       "version_minor": 0
      },
      "text/plain": [
       "  0%|          | 0/381 [00:00<?, ?it/s]"
      ]
     },
     "metadata": {},
     "output_type": "display_data"
    },
    {
     "data": {
      "application/vnd.jupyter.widget-view+json": {
       "model_id": "76ea7dbbe3e042a8a667dc219cf50eaa",
       "version_major": 2,
       "version_minor": 0
      },
      "text/plain": [
       "symbolize:   0%|          | 0/381 [00:00<?, ?it/s]"
      ]
     },
     "metadata": {},
     "output_type": "display_data"
    },
    {
     "data": {
      "application/vnd.jupyter.widget-view+json": {
       "model_id": "b26b52ffb38f4c939b695fe0dec312a2",
       "version_major": 2,
       "version_minor": 0
      },
      "text/plain": [
       "sliding w:   0%|          | 0/266 [00:00<?, ?it/s]"
      ]
     },
     "metadata": {},
     "output_type": "display_data"
    },
    {
     "data": {
      "application/vnd.jupyter.widget-view+json": {
       "model_id": "e88146a630264ae58928159d84aeecb9",
       "version_major": 2,
       "version_minor": 0
      },
      "text/plain": [
       "sliding w:   0%|          | 0/266 [00:00<?, ?it/s]"
      ]
     },
     "metadata": {},
     "output_type": "display_data"
    },
    {
     "data": {
      "application/vnd.jupyter.widget-view+json": {
       "model_id": "3040a724ddc14af28b14a1214ce6159c",
       "version_major": 2,
       "version_minor": 0
      },
      "text/plain": [
       "sliding w:   0%|          | 0/266 [00:00<?, ?it/s]"
      ]
     },
     "metadata": {},
     "output_type": "display_data"
    },
    {
     "data": {
      "application/vnd.jupyter.widget-view+json": {
       "model_id": "33ed0a1b50604699b0a322b2979b6470",
       "version_major": 2,
       "version_minor": 0
      },
      "text/plain": [
       "contains:   0%|          | 0/266 [00:00<?, ?it/s]"
      ]
     },
     "metadata": {},
     "output_type": "display_data"
    },
    {
     "data": {
      "application/vnd.jupyter.widget-view+json": {
       "model_id": "19d432963cce49f19f7e002a4bad8db8",
       "version_major": 2,
       "version_minor": 0
      },
      "text/plain": [
       "  0%|          | 0/381 [00:00<?, ?it/s]"
      ]
     },
     "metadata": {},
     "output_type": "display_data"
    },
    {
     "data": {
      "application/vnd.jupyter.widget-view+json": {
       "model_id": "d08c5faa20d44d4e9aceb8ad06f14d7d",
       "version_major": 2,
       "version_minor": 0
      },
      "text/plain": [
       "symbolize:   0%|          | 0/381 [00:00<?, ?it/s]"
      ]
     },
     "metadata": {},
     "output_type": "display_data"
    },
    {
     "data": {
      "application/vnd.jupyter.widget-view+json": {
       "model_id": "320ed095ea1742fcb998eee7dd7268e5",
       "version_major": 2,
       "version_minor": 0
      },
      "text/plain": [
       "sliding w:   0%|          | 0/266 [00:00<?, ?it/s]"
      ]
     },
     "metadata": {},
     "output_type": "display_data"
    },
    {
     "data": {
      "application/vnd.jupyter.widget-view+json": {
       "model_id": "238f81a0aa064687afed1707229ad1ff",
       "version_major": 2,
       "version_minor": 0
      },
      "text/plain": [
       "sliding w:   0%|          | 0/266 [00:00<?, ?it/s]"
      ]
     },
     "metadata": {},
     "output_type": "display_data"
    },
    {
     "data": {
      "application/vnd.jupyter.widget-view+json": {
       "model_id": "dd5301e1129c4cd58bd04b42706c6030",
       "version_major": 2,
       "version_minor": 0
      },
      "text/plain": [
       "sliding w:   0%|          | 0/266 [00:00<?, ?it/s]"
      ]
     },
     "metadata": {},
     "output_type": "display_data"
    },
    {
     "data": {
      "application/vnd.jupyter.widget-view+json": {
       "model_id": "6876a231e03e4566b3f462f7de87bb96",
       "version_major": 2,
       "version_minor": 0
      },
      "text/plain": [
       "contains:   0%|          | 0/266 [00:00<?, ?it/s]"
      ]
     },
     "metadata": {},
     "output_type": "display_data"
    },
    {
     "data": {
      "application/vnd.jupyter.widget-view+json": {
       "model_id": "eaab84c765ab4a61813d41124043383c",
       "version_major": 2,
       "version_minor": 0
      },
      "text/plain": [
       "  0%|          | 0/381 [00:00<?, ?it/s]"
      ]
     },
     "metadata": {},
     "output_type": "display_data"
    },
    {
     "data": {
      "application/vnd.jupyter.widget-view+json": {
       "model_id": "170427cee7994df6a7ec419df496fa99",
       "version_major": 2,
       "version_minor": 0
      },
      "text/plain": [
       "symbolize:   0%|          | 0/381 [00:00<?, ?it/s]"
      ]
     },
     "metadata": {},
     "output_type": "display_data"
    },
    {
     "data": {
      "application/vnd.jupyter.widget-view+json": {
       "model_id": "d4af7d55bf234867a18f67d808c2e619",
       "version_major": 2,
       "version_minor": 0
      },
      "text/plain": [
       "sliding w:   0%|          | 0/266 [00:00<?, ?it/s]"
      ]
     },
     "metadata": {},
     "output_type": "display_data"
    },
    {
     "data": {
      "application/vnd.jupyter.widget-view+json": {
       "model_id": "b4cbf89cd8c3457998bcf3e9c08e1010",
       "version_major": 2,
       "version_minor": 0
      },
      "text/plain": [
       "sliding w:   0%|          | 0/266 [00:00<?, ?it/s]"
      ]
     },
     "metadata": {},
     "output_type": "display_data"
    },
    {
     "data": {
      "application/vnd.jupyter.widget-view+json": {
       "model_id": "c62210b9744a4c9aa03663de6d261f54",
       "version_major": 2,
       "version_minor": 0
      },
      "text/plain": [
       "sliding w:   0%|          | 0/266 [00:00<?, ?it/s]"
      ]
     },
     "metadata": {},
     "output_type": "display_data"
    },
    {
     "data": {
      "application/vnd.jupyter.widget-view+json": {
       "model_id": "fda1deac99e14749b1d92345aaf56d9c",
       "version_major": 2,
       "version_minor": 0
      },
      "text/plain": [
       "contains:   0%|          | 0/266 [00:00<?, ?it/s]"
      ]
     },
     "metadata": {},
     "output_type": "display_data"
    },
    {
     "data": {
      "application/vnd.jupyter.widget-view+json": {
       "model_id": "9b259d9d45054aee870a7266eeee488d",
       "version_major": 2,
       "version_minor": 0
      },
      "text/plain": [
       "  0%|          | 0/381 [00:00<?, ?it/s]"
      ]
     },
     "metadata": {},
     "output_type": "display_data"
    },
    {
     "data": {
      "application/vnd.jupyter.widget-view+json": {
       "model_id": "d9bb3a5b02d14df7ba97f03bd51ca623",
       "version_major": 2,
       "version_minor": 0
      },
      "text/plain": [
       "symbolize:   0%|          | 0/381 [00:00<?, ?it/s]"
      ]
     },
     "metadata": {},
     "output_type": "display_data"
    },
    {
     "data": {
      "application/vnd.jupyter.widget-view+json": {
       "model_id": "e8f925ebc8954de2acfaa48da087e63e",
       "version_major": 2,
       "version_minor": 0
      },
      "text/plain": [
       "sliding w:   0%|          | 0/266 [00:00<?, ?it/s]"
      ]
     },
     "metadata": {},
     "output_type": "display_data"
    },
    {
     "data": {
      "application/vnd.jupyter.widget-view+json": {
       "model_id": "ee791d3231dc4e4ba677fd2bc62dffa7",
       "version_major": 2,
       "version_minor": 0
      },
      "text/plain": [
       "sliding w:   0%|          | 0/266 [00:00<?, ?it/s]"
      ]
     },
     "metadata": {},
     "output_type": "display_data"
    },
    {
     "data": {
      "application/vnd.jupyter.widget-view+json": {
       "model_id": "bc5a5165a4d343e2a6d608feea818412",
       "version_major": 2,
       "version_minor": 0
      },
      "text/plain": [
       "sliding w:   0%|          | 0/266 [00:00<?, ?it/s]"
      ]
     },
     "metadata": {},
     "output_type": "display_data"
    },
    {
     "data": {
      "application/vnd.jupyter.widget-view+json": {
       "model_id": "3d96355d9ef146aca2c38dac9277c93c",
       "version_major": 2,
       "version_minor": 0
      },
      "text/plain": [
       "contains:   0%|          | 0/266 [00:00<?, ?it/s]"
      ]
     },
     "metadata": {},
     "output_type": "display_data"
    },
    {
     "data": {
      "application/vnd.jupyter.widget-view+json": {
       "model_id": "605d4f852903428597b0c789c2064de0",
       "version_major": 2,
       "version_minor": 0
      },
      "text/plain": [
       "  0%|          | 0/381 [00:00<?, ?it/s]"
      ]
     },
     "metadata": {},
     "output_type": "display_data"
    },
    {
     "data": {
      "application/vnd.jupyter.widget-view+json": {
       "model_id": "926a2d8f350e44749eff7c1ea07ec822",
       "version_major": 2,
       "version_minor": 0
      },
      "text/plain": [
       "symbolize:   0%|          | 0/381 [00:00<?, ?it/s]"
      ]
     },
     "metadata": {},
     "output_type": "display_data"
    },
    {
     "data": {
      "application/vnd.jupyter.widget-view+json": {
       "model_id": "2cf0e7d8850b411097c8c82ef7e269c7",
       "version_major": 2,
       "version_minor": 0
      },
      "text/plain": [
       "sliding w:   0%|          | 0/266 [00:00<?, ?it/s]"
      ]
     },
     "metadata": {},
     "output_type": "display_data"
    },
    {
     "data": {
      "application/vnd.jupyter.widget-view+json": {
       "model_id": "c3404d43e89749869b1fc9a4946e9594",
       "version_major": 2,
       "version_minor": 0
      },
      "text/plain": [
       "sliding w:   0%|          | 0/266 [00:00<?, ?it/s]"
      ]
     },
     "metadata": {},
     "output_type": "display_data"
    },
    {
     "data": {
      "application/vnd.jupyter.widget-view+json": {
       "model_id": "260e036074ce42afb8023c83f9dc6e4a",
       "version_major": 2,
       "version_minor": 0
      },
      "text/plain": [
       "sliding w:   0%|          | 0/266 [00:00<?, ?it/s]"
      ]
     },
     "metadata": {},
     "output_type": "display_data"
    },
    {
     "data": {
      "application/vnd.jupyter.widget-view+json": {
       "model_id": "d40cff3c58c6463b8a0b1f137cca5c20",
       "version_major": 2,
       "version_minor": 0
      },
      "text/plain": [
       "contains:   0%|          | 0/266 [00:00<?, ?it/s]"
      ]
     },
     "metadata": {},
     "output_type": "display_data"
    },
    {
     "data": {
      "application/vnd.jupyter.widget-view+json": {
       "model_id": "43de6cc2b38c4bec98f6825709dad753",
       "version_major": 2,
       "version_minor": 0
      },
      "text/plain": [
       "  0%|          | 0/381 [00:00<?, ?it/s]"
      ]
     },
     "metadata": {},
     "output_type": "display_data"
    },
    {
     "data": {
      "application/vnd.jupyter.widget-view+json": {
       "model_id": "5f84b178929244b1a13ef3898c238344",
       "version_major": 2,
       "version_minor": 0
      },
      "text/plain": [
       "symbolize:   0%|          | 0/381 [00:00<?, ?it/s]"
      ]
     },
     "metadata": {},
     "output_type": "display_data"
    },
    {
     "data": {
      "application/vnd.jupyter.widget-view+json": {
       "model_id": "d0f81cbd1fd14142877f676bb167e8e8",
       "version_major": 2,
       "version_minor": 0
      },
      "text/plain": [
       "sliding w:   0%|          | 0/266 [00:00<?, ?it/s]"
      ]
     },
     "metadata": {},
     "output_type": "display_data"
    },
    {
     "data": {
      "application/vnd.jupyter.widget-view+json": {
       "model_id": "bee2d718601542608f806d3930cb34d9",
       "version_major": 2,
       "version_minor": 0
      },
      "text/plain": [
       "sliding w:   0%|          | 0/266 [00:00<?, ?it/s]"
      ]
     },
     "metadata": {},
     "output_type": "display_data"
    },
    {
     "data": {
      "application/vnd.jupyter.widget-view+json": {
       "model_id": "9e57983d3e0d43d69591d67e295df1bd",
       "version_major": 2,
       "version_minor": 0
      },
      "text/plain": [
       "sliding w:   0%|          | 0/266 [00:00<?, ?it/s]"
      ]
     },
     "metadata": {},
     "output_type": "display_data"
    },
    {
     "data": {
      "application/vnd.jupyter.widget-view+json": {
       "model_id": "4f292ef2d5944802a9b31bf57568c51e",
       "version_major": 2,
       "version_minor": 0
      },
      "text/plain": [
       "contains:   0%|          | 0/266 [00:00<?, ?it/s]"
      ]
     },
     "metadata": {},
     "output_type": "display_data"
    },
    {
     "data": {
      "application/vnd.jupyter.widget-view+json": {
       "model_id": "e80a1fd973da49acb5286de457fabdb2",
       "version_major": 2,
       "version_minor": 0
      },
      "text/plain": [
       "  0%|          | 0/381 [00:00<?, ?it/s]"
      ]
     },
     "metadata": {},
     "output_type": "display_data"
    },
    {
     "data": {
      "application/vnd.jupyter.widget-view+json": {
       "model_id": "42b6bbbab0aa487c821d28e0847ba6d1",
       "version_major": 2,
       "version_minor": 0
      },
      "text/plain": [
       "symbolize:   0%|          | 0/381 [00:00<?, ?it/s]"
      ]
     },
     "metadata": {},
     "output_type": "display_data"
    },
    {
     "data": {
      "application/vnd.jupyter.widget-view+json": {
       "model_id": "7e22d81c4b3742a087fa9b0ddf968047",
       "version_major": 2,
       "version_minor": 0
      },
      "text/plain": [
       "sliding w:   0%|          | 0/266 [00:00<?, ?it/s]"
      ]
     },
     "metadata": {},
     "output_type": "display_data"
    },
    {
     "data": {
      "application/vnd.jupyter.widget-view+json": {
       "model_id": "3f7db8fecb3c4c5390e7d4506ef8ac76",
       "version_major": 2,
       "version_minor": 0
      },
      "text/plain": [
       "sliding w:   0%|          | 0/266 [00:00<?, ?it/s]"
      ]
     },
     "metadata": {},
     "output_type": "display_data"
    },
    {
     "data": {
      "application/vnd.jupyter.widget-view+json": {
       "model_id": "2580298fb61a48ddaad9a7bc5acb66fd",
       "version_major": 2,
       "version_minor": 0
      },
      "text/plain": [
       "sliding w:   0%|          | 0/266 [00:00<?, ?it/s]"
      ]
     },
     "metadata": {},
     "output_type": "display_data"
    },
    {
     "data": {
      "application/vnd.jupyter.widget-view+json": {
       "model_id": "0a7dc4c34c5d4076be71deab8b9f933d",
       "version_major": 2,
       "version_minor": 0
      },
      "text/plain": [
       "contains:   0%|          | 0/266 [00:00<?, ?it/s]"
      ]
     },
     "metadata": {},
     "output_type": "display_data"
    },
    {
     "data": {
      "application/vnd.jupyter.widget-view+json": {
       "model_id": "a19ff8b5f4f440018be5187495b317e9",
       "version_major": 2,
       "version_minor": 0
      },
      "text/plain": [
       "  0%|          | 0/381 [00:00<?, ?it/s]"
      ]
     },
     "metadata": {},
     "output_type": "display_data"
    },
    {
     "data": {
      "application/vnd.jupyter.widget-view+json": {
       "model_id": "cde00e4e26134743aa532612b1d4c71c",
       "version_major": 2,
       "version_minor": 0
      },
      "text/plain": [
       "symbolize:   0%|          | 0/381 [00:00<?, ?it/s]"
      ]
     },
     "metadata": {},
     "output_type": "display_data"
    },
    {
     "data": {
      "application/vnd.jupyter.widget-view+json": {
       "model_id": "4655c0816bda4da5b5c51eaba3332f3d",
       "version_major": 2,
       "version_minor": 0
      },
      "text/plain": [
       "sliding w:   0%|          | 0/266 [00:00<?, ?it/s]"
      ]
     },
     "metadata": {},
     "output_type": "display_data"
    },
    {
     "data": {
      "application/vnd.jupyter.widget-view+json": {
       "model_id": "a1c09fdc6c274c2581fe4c006c7f6ca7",
       "version_major": 2,
       "version_minor": 0
      },
      "text/plain": [
       "sliding w:   0%|          | 0/266 [00:00<?, ?it/s]"
      ]
     },
     "metadata": {},
     "output_type": "display_data"
    },
    {
     "data": {
      "application/vnd.jupyter.widget-view+json": {
       "model_id": "24abb265a29348cd9e276cccaed8a4fb",
       "version_major": 2,
       "version_minor": 0
      },
      "text/plain": [
       "sliding w:   0%|          | 0/266 [00:00<?, ?it/s]"
      ]
     },
     "metadata": {},
     "output_type": "display_data"
    },
    {
     "data": {
      "application/vnd.jupyter.widget-view+json": {
       "model_id": "e0de8749ddeb48ee8fefb459eb57e3f9",
       "version_major": 2,
       "version_minor": 0
      },
      "text/plain": [
       "contains:   0%|          | 0/266 [00:00<?, ?it/s]"
      ]
     },
     "metadata": {},
     "output_type": "display_data"
    },
    {
     "data": {
      "application/vnd.jupyter.widget-view+json": {
       "model_id": "9f6f4d8aca634ef2808c6271f08e4e4f",
       "version_major": 2,
       "version_minor": 0
      },
      "text/plain": [
       "  0%|          | 0/381 [00:00<?, ?it/s]"
      ]
     },
     "metadata": {},
     "output_type": "display_data"
    },
    {
     "data": {
      "application/vnd.jupyter.widget-view+json": {
       "model_id": "f605e6e46ec5485b8bb3bdf031145fc0",
       "version_major": 2,
       "version_minor": 0
      },
      "text/plain": [
       "symbolize:   0%|          | 0/381 [00:00<?, ?it/s]"
      ]
     },
     "metadata": {},
     "output_type": "display_data"
    },
    {
     "data": {
      "application/vnd.jupyter.widget-view+json": {
       "model_id": "b376d5a138674da4aeff0f032f2bd34d",
       "version_major": 2,
       "version_minor": 0
      },
      "text/plain": [
       "sliding w:   0%|          | 0/266 [00:00<?, ?it/s]"
      ]
     },
     "metadata": {},
     "output_type": "display_data"
    },
    {
     "data": {
      "application/vnd.jupyter.widget-view+json": {
       "model_id": "58861aa78a97491f880e761f4a06695c",
       "version_major": 2,
       "version_minor": 0
      },
      "text/plain": [
       "sliding w:   0%|          | 0/266 [00:00<?, ?it/s]"
      ]
     },
     "metadata": {},
     "output_type": "display_data"
    },
    {
     "data": {
      "application/vnd.jupyter.widget-view+json": {
       "model_id": "018bbe08d6b249f6847d8d4bbd674986",
       "version_major": 2,
       "version_minor": 0
      },
      "text/plain": [
       "sliding w:   0%|          | 0/266 [00:00<?, ?it/s]"
      ]
     },
     "metadata": {},
     "output_type": "display_data"
    },
    {
     "data": {
      "application/vnd.jupyter.widget-view+json": {
       "model_id": "aeb978ecc9b2436ba704c51302b45179",
       "version_major": 2,
       "version_minor": 0
      },
      "text/plain": [
       "contains:   0%|          | 0/266 [00:00<?, ?it/s]"
      ]
     },
     "metadata": {},
     "output_type": "display_data"
    },
    {
     "data": {
      "application/vnd.jupyter.widget-view+json": {
       "model_id": "465bfd3f376e4b5299780d71419cfb7e",
       "version_major": 2,
       "version_minor": 0
      },
      "text/plain": [
       "  0%|          | 0/381 [00:00<?, ?it/s]"
      ]
     },
     "metadata": {},
     "output_type": "display_data"
    },
    {
     "data": {
      "application/vnd.jupyter.widget-view+json": {
       "model_id": "44e98b3e56804c529e89248155e4ceb0",
       "version_major": 2,
       "version_minor": 0
      },
      "text/plain": [
       "symbolize:   0%|          | 0/381 [00:00<?, ?it/s]"
      ]
     },
     "metadata": {},
     "output_type": "display_data"
    },
    {
     "data": {
      "application/vnd.jupyter.widget-view+json": {
       "model_id": "e6500a4d363942f29487b701012e906b",
       "version_major": 2,
       "version_minor": 0
      },
      "text/plain": [
       "sliding w:   0%|          | 0/266 [00:00<?, ?it/s]"
      ]
     },
     "metadata": {},
     "output_type": "display_data"
    },
    {
     "data": {
      "application/vnd.jupyter.widget-view+json": {
       "model_id": "bd7e09a7361c438caf62013b1be42ce9",
       "version_major": 2,
       "version_minor": 0
      },
      "text/plain": [
       "sliding w:   0%|          | 0/266 [00:00<?, ?it/s]"
      ]
     },
     "metadata": {},
     "output_type": "display_data"
    },
    {
     "data": {
      "application/vnd.jupyter.widget-view+json": {
       "model_id": "d144fbbe26184332acf0345b773212e8",
       "version_major": 2,
       "version_minor": 0
      },
      "text/plain": [
       "sliding w:   0%|          | 0/266 [00:00<?, ?it/s]"
      ]
     },
     "metadata": {},
     "output_type": "display_data"
    },
    {
     "data": {
      "application/vnd.jupyter.widget-view+json": {
       "model_id": "d91ba20eb8e6499fa10876cb073bc433",
       "version_major": 2,
       "version_minor": 0
      },
      "text/plain": [
       "contains:   0%|          | 0/266 [00:00<?, ?it/s]"
      ]
     },
     "metadata": {},
     "output_type": "display_data"
    },
    {
     "data": {
      "application/vnd.jupyter.widget-view+json": {
       "model_id": "8614e59d095c4d42aba2195400b1899d",
       "version_major": 2,
       "version_minor": 0
      },
      "text/plain": [
       "  0%|          | 0/381 [00:00<?, ?it/s]"
      ]
     },
     "metadata": {},
     "output_type": "display_data"
    },
    {
     "data": {
      "application/vnd.jupyter.widget-view+json": {
       "model_id": "485623375e24496093a5602d6c03dee3",
       "version_major": 2,
       "version_minor": 0
      },
      "text/plain": [
       "symbolize:   0%|          | 0/381 [00:00<?, ?it/s]"
      ]
     },
     "metadata": {},
     "output_type": "display_data"
    },
    {
     "data": {
      "application/vnd.jupyter.widget-view+json": {
       "model_id": "cbab5fdc311e4b358a1fe2b2297bbd09",
       "version_major": 2,
       "version_minor": 0
      },
      "text/plain": [
       "sliding w:   0%|          | 0/266 [00:00<?, ?it/s]"
      ]
     },
     "metadata": {},
     "output_type": "display_data"
    },
    {
     "data": {
      "application/vnd.jupyter.widget-view+json": {
       "model_id": "71ffe0268fc94444a65850d9cce2d051",
       "version_major": 2,
       "version_minor": 0
      },
      "text/plain": [
       "sliding w:   0%|          | 0/266 [00:00<?, ?it/s]"
      ]
     },
     "metadata": {},
     "output_type": "display_data"
    },
    {
     "data": {
      "application/vnd.jupyter.widget-view+json": {
       "model_id": "3a9557becbb44239bacb279b24d5bb03",
       "version_major": 2,
       "version_minor": 0
      },
      "text/plain": [
       "sliding w:   0%|          | 0/266 [00:00<?, ?it/s]"
      ]
     },
     "metadata": {},
     "output_type": "display_data"
    },
    {
     "data": {
      "application/vnd.jupyter.widget-view+json": {
       "model_id": "7aa7841969774a53a57425fd9999b0a2",
       "version_major": 2,
       "version_minor": 0
      },
      "text/plain": [
       "contains:   0%|          | 0/266 [00:00<?, ?it/s]"
      ]
     },
     "metadata": {},
     "output_type": "display_data"
    },
    {
     "data": {
      "application/vnd.jupyter.widget-view+json": {
       "model_id": "a8a2a3acf20f44f085b46ab0928fe2bd",
       "version_major": 2,
       "version_minor": 0
      },
      "text/plain": [
       "  0%|          | 0/381 [00:00<?, ?it/s]"
      ]
     },
     "metadata": {},
     "output_type": "display_data"
    },
    {
     "data": {
      "application/vnd.jupyter.widget-view+json": {
       "model_id": "407d49c5fdb64b59a55672f5c48c8fc8",
       "version_major": 2,
       "version_minor": 0
      },
      "text/plain": [
       "symbolize:   0%|          | 0/381 [00:00<?, ?it/s]"
      ]
     },
     "metadata": {},
     "output_type": "display_data"
    },
    {
     "data": {
      "application/vnd.jupyter.widget-view+json": {
       "model_id": "e4995f67883e486d886508c0376f494d",
       "version_major": 2,
       "version_minor": 0
      },
      "text/plain": [
       "sliding w:   0%|          | 0/266 [00:00<?, ?it/s]"
      ]
     },
     "metadata": {},
     "output_type": "display_data"
    },
    {
     "data": {
      "application/vnd.jupyter.widget-view+json": {
       "model_id": "f4cc14f534f047ffaeec192b9ed2a781",
       "version_major": 2,
       "version_minor": 0
      },
      "text/plain": [
       "sliding w:   0%|          | 0/266 [00:00<?, ?it/s]"
      ]
     },
     "metadata": {},
     "output_type": "display_data"
    },
    {
     "data": {
      "application/vnd.jupyter.widget-view+json": {
       "model_id": "3590c85d47e847d7b4f9ac67cdac539b",
       "version_major": 2,
       "version_minor": 0
      },
      "text/plain": [
       "sliding w:   0%|          | 0/266 [00:00<?, ?it/s]"
      ]
     },
     "metadata": {},
     "output_type": "display_data"
    },
    {
     "data": {
      "application/vnd.jupyter.widget-view+json": {
       "model_id": "1ec41ad4bd86419c952a334f40b98f10",
       "version_major": 2,
       "version_minor": 0
      },
      "text/plain": [
       "contains:   0%|          | 0/266 [00:00<?, ?it/s]"
      ]
     },
     "metadata": {},
     "output_type": "display_data"
    },
    {
     "data": {
      "application/vnd.jupyter.widget-view+json": {
       "model_id": "a3ab1cedeedf421a83b93402045ed67a",
       "version_major": 2,
       "version_minor": 0
      },
      "text/plain": [
       "  0%|          | 0/381 [00:00<?, ?it/s]"
      ]
     },
     "metadata": {},
     "output_type": "display_data"
    },
    {
     "data": {
      "application/vnd.jupyter.widget-view+json": {
       "model_id": "6e7f734cff5d478ca16cd4e3b61691e5",
       "version_major": 2,
       "version_minor": 0
      },
      "text/plain": [
       "symbolize:   0%|          | 0/381 [00:00<?, ?it/s]"
      ]
     },
     "metadata": {},
     "output_type": "display_data"
    },
    {
     "data": {
      "application/vnd.jupyter.widget-view+json": {
       "model_id": "8d6dc19ea3b24b698ef62f309f7d7b2c",
       "version_major": 2,
       "version_minor": 0
      },
      "text/plain": [
       "sliding w:   0%|          | 0/266 [00:00<?, ?it/s]"
      ]
     },
     "metadata": {},
     "output_type": "display_data"
    },
    {
     "data": {
      "application/vnd.jupyter.widget-view+json": {
       "model_id": "3fa5052bdc404ae59f8f355da409b2d3",
       "version_major": 2,
       "version_minor": 0
      },
      "text/plain": [
       "sliding w:   0%|          | 0/266 [00:00<?, ?it/s]"
      ]
     },
     "metadata": {},
     "output_type": "display_data"
    },
    {
     "data": {
      "application/vnd.jupyter.widget-view+json": {
       "model_id": "83637a89b24546398218b6008652eba2",
       "version_major": 2,
       "version_minor": 0
      },
      "text/plain": [
       "sliding w:   0%|          | 0/266 [00:00<?, ?it/s]"
      ]
     },
     "metadata": {},
     "output_type": "display_data"
    },
    {
     "data": {
      "application/vnd.jupyter.widget-view+json": {
       "model_id": "6b2cccae56b04f02b617188ff82bed83",
       "version_major": 2,
       "version_minor": 0
      },
      "text/plain": [
       "contains:   0%|          | 0/266 [00:00<?, ?it/s]"
      ]
     },
     "metadata": {},
     "output_type": "display_data"
    },
    {
     "data": {
      "application/vnd.jupyter.widget-view+json": {
       "model_id": "56c045052e294d2c9b91b6aeccbd1aed",
       "version_major": 2,
       "version_minor": 0
      },
      "text/plain": [
       "  0%|          | 0/381 [00:00<?, ?it/s]"
      ]
     },
     "metadata": {},
     "output_type": "display_data"
    },
    {
     "data": {
      "application/vnd.jupyter.widget-view+json": {
       "model_id": "63b16794c076479fb21f8c11ad740c03",
       "version_major": 2,
       "version_minor": 0
      },
      "text/plain": [
       "symbolize:   0%|          | 0/381 [00:00<?, ?it/s]"
      ]
     },
     "metadata": {},
     "output_type": "display_data"
    },
    {
     "data": {
      "application/vnd.jupyter.widget-view+json": {
       "model_id": "52ac76feb7584ddc8f9b1c8dedb59b7f",
       "version_major": 2,
       "version_minor": 0
      },
      "text/plain": [
       "sliding w:   0%|          | 0/266 [00:00<?, ?it/s]"
      ]
     },
     "metadata": {},
     "output_type": "display_data"
    },
    {
     "data": {
      "application/vnd.jupyter.widget-view+json": {
       "model_id": "fe9bdbaeed2f45f396e4de01216923fd",
       "version_major": 2,
       "version_minor": 0
      },
      "text/plain": [
       "sliding w:   0%|          | 0/266 [00:00<?, ?it/s]"
      ]
     },
     "metadata": {},
     "output_type": "display_data"
    },
    {
     "data": {
      "application/vnd.jupyter.widget-view+json": {
       "model_id": "0d4c7874648041b39bfc2c3f125c80b1",
       "version_major": 2,
       "version_minor": 0
      },
      "text/plain": [
       "sliding w:   0%|          | 0/266 [00:00<?, ?it/s]"
      ]
     },
     "metadata": {},
     "output_type": "display_data"
    },
    {
     "data": {
      "application/vnd.jupyter.widget-view+json": {
       "model_id": "23d9967976614eafbf6155ce3a5c9d6c",
       "version_major": 2,
       "version_minor": 0
      },
      "text/plain": [
       "contains:   0%|          | 0/266 [00:00<?, ?it/s]"
      ]
     },
     "metadata": {},
     "output_type": "display_data"
    },
    {
     "data": {
      "application/vnd.jupyter.widget-view+json": {
       "model_id": "f70f3584575f4301bbfee2f1242b9ed1",
       "version_major": 2,
       "version_minor": 0
      },
      "text/plain": [
       "  0%|          | 0/381 [00:00<?, ?it/s]"
      ]
     },
     "metadata": {},
     "output_type": "display_data"
    },
    {
     "data": {
      "application/vnd.jupyter.widget-view+json": {
       "model_id": "7772ed54928a49b4a968606a7c9c8336",
       "version_major": 2,
       "version_minor": 0
      },
      "text/plain": [
       "symbolize:   0%|          | 0/381 [00:00<?, ?it/s]"
      ]
     },
     "metadata": {},
     "output_type": "display_data"
    },
    {
     "data": {
      "application/vnd.jupyter.widget-view+json": {
       "model_id": "3fb551942e5344569e30648624f60629",
       "version_major": 2,
       "version_minor": 0
      },
      "text/plain": [
       "sliding w:   0%|          | 0/266 [00:00<?, ?it/s]"
      ]
     },
     "metadata": {},
     "output_type": "display_data"
    },
    {
     "data": {
      "application/vnd.jupyter.widget-view+json": {
       "model_id": "3e8bd79f668346088461ae25a9d49fd2",
       "version_major": 2,
       "version_minor": 0
      },
      "text/plain": [
       "sliding w:   0%|          | 0/266 [00:00<?, ?it/s]"
      ]
     },
     "metadata": {},
     "output_type": "display_data"
    },
    {
     "data": {
      "application/vnd.jupyter.widget-view+json": {
       "model_id": "fd0201873b7546acb3bc685661ecdf3b",
       "version_major": 2,
       "version_minor": 0
      },
      "text/plain": [
       "sliding w:   0%|          | 0/266 [00:00<?, ?it/s]"
      ]
     },
     "metadata": {},
     "output_type": "display_data"
    },
    {
     "data": {
      "application/vnd.jupyter.widget-view+json": {
       "model_id": "09dc17e911244eeda2eb50732695df64",
       "version_major": 2,
       "version_minor": 0
      },
      "text/plain": [
       "contains:   0%|          | 0/266 [00:00<?, ?it/s]"
      ]
     },
     "metadata": {},
     "output_type": "display_data"
    },
    {
     "data": {
      "application/vnd.jupyter.widget-view+json": {
       "model_id": "b1b5134c75ab4bda8884b06d8e8f4d1a",
       "version_major": 2,
       "version_minor": 0
      },
      "text/plain": [
       "  0%|          | 0/381 [00:00<?, ?it/s]"
      ]
     },
     "metadata": {},
     "output_type": "display_data"
    },
    {
     "data": {
      "application/vnd.jupyter.widget-view+json": {
       "model_id": "6711445d05fa4c6f94aec30fc6e4b68c",
       "version_major": 2,
       "version_minor": 0
      },
      "text/plain": [
       "symbolize:   0%|          | 0/381 [00:00<?, ?it/s]"
      ]
     },
     "metadata": {},
     "output_type": "display_data"
    },
    {
     "data": {
      "application/vnd.jupyter.widget-view+json": {
       "model_id": "b955a770ec8f44ffbd9da3eabfc56ae7",
       "version_major": 2,
       "version_minor": 0
      },
      "text/plain": [
       "sliding w:   0%|          | 0/266 [00:00<?, ?it/s]"
      ]
     },
     "metadata": {},
     "output_type": "display_data"
    },
    {
     "data": {
      "application/vnd.jupyter.widget-view+json": {
       "model_id": "fb0c8ca54e2d41439fcde479a12b7428",
       "version_major": 2,
       "version_minor": 0
      },
      "text/plain": [
       "sliding w:   0%|          | 0/266 [00:00<?, ?it/s]"
      ]
     },
     "metadata": {},
     "output_type": "display_data"
    },
    {
     "data": {
      "application/vnd.jupyter.widget-view+json": {
       "model_id": "3ca83350402b4efe85362611d3ab2ccd",
       "version_major": 2,
       "version_minor": 0
      },
      "text/plain": [
       "sliding w:   0%|          | 0/266 [00:00<?, ?it/s]"
      ]
     },
     "metadata": {},
     "output_type": "display_data"
    },
    {
     "data": {
      "application/vnd.jupyter.widget-view+json": {
       "model_id": "ed5b1368457643da9d06553dc3f8d75e",
       "version_major": 2,
       "version_minor": 0
      },
      "text/plain": [
       "contains:   0%|          | 0/266 [00:00<?, ?it/s]"
      ]
     },
     "metadata": {},
     "output_type": "display_data"
    },
    {
     "data": {
      "application/vnd.jupyter.widget-view+json": {
       "model_id": "85496e3490b342f1acbd819a4fca3bf1",
       "version_major": 2,
       "version_minor": 0
      },
      "text/plain": [
       "  0%|          | 0/381 [00:00<?, ?it/s]"
      ]
     },
     "metadata": {},
     "output_type": "display_data"
    },
    {
     "data": {
      "application/vnd.jupyter.widget-view+json": {
       "model_id": "8fc1c540e3554e1f8211435ee8b496e7",
       "version_major": 2,
       "version_minor": 0
      },
      "text/plain": [
       "symbolize:   0%|          | 0/381 [00:00<?, ?it/s]"
      ]
     },
     "metadata": {},
     "output_type": "display_data"
    },
    {
     "data": {
      "application/vnd.jupyter.widget-view+json": {
       "model_id": "7ed433556da04fddae49f4a9c767b0ff",
       "version_major": 2,
       "version_minor": 0
      },
      "text/plain": [
       "sliding w:   0%|          | 0/266 [00:00<?, ?it/s]"
      ]
     },
     "metadata": {},
     "output_type": "display_data"
    },
    {
     "data": {
      "application/vnd.jupyter.widget-view+json": {
       "model_id": "286ce033d2e24632ba1725706a393268",
       "version_major": 2,
       "version_minor": 0
      },
      "text/plain": [
       "sliding w:   0%|          | 0/266 [00:00<?, ?it/s]"
      ]
     },
     "metadata": {},
     "output_type": "display_data"
    },
    {
     "data": {
      "application/vnd.jupyter.widget-view+json": {
       "model_id": "882905e8247748c892e3253b8a3e3231",
       "version_major": 2,
       "version_minor": 0
      },
      "text/plain": [
       "sliding w:   0%|          | 0/266 [00:00<?, ?it/s]"
      ]
     },
     "metadata": {},
     "output_type": "display_data"
    },
    {
     "data": {
      "application/vnd.jupyter.widget-view+json": {
       "model_id": "e7085d85a1e54ba09cc91380351c9a5f",
       "version_major": 2,
       "version_minor": 0
      },
      "text/plain": [
       "contains:   0%|          | 0/266 [00:00<?, ?it/s]"
      ]
     },
     "metadata": {},
     "output_type": "display_data"
    },
    {
     "data": {
      "application/vnd.jupyter.widget-view+json": {
       "model_id": "74731fd6544e4811bcd17c1b710c4f4c",
       "version_major": 2,
       "version_minor": 0
      },
      "text/plain": [
       "  0%|          | 0/381 [00:00<?, ?it/s]"
      ]
     },
     "metadata": {},
     "output_type": "display_data"
    },
    {
     "data": {
      "application/vnd.jupyter.widget-view+json": {
       "model_id": "037a6c7a584f4fdabc4b059f7529a5c7",
       "version_major": 2,
       "version_minor": 0
      },
      "text/plain": [
       "symbolize:   0%|          | 0/381 [00:00<?, ?it/s]"
      ]
     },
     "metadata": {},
     "output_type": "display_data"
    },
    {
     "data": {
      "application/vnd.jupyter.widget-view+json": {
       "model_id": "1d260bc4143644399f20a22810c61214",
       "version_major": 2,
       "version_minor": 0
      },
      "text/plain": [
       "sliding w:   0%|          | 0/266 [00:00<?, ?it/s]"
      ]
     },
     "metadata": {},
     "output_type": "display_data"
    },
    {
     "data": {
      "application/vnd.jupyter.widget-view+json": {
       "model_id": "54c2eb64dc2741d5b63cedbf2f249f0c",
       "version_major": 2,
       "version_minor": 0
      },
      "text/plain": [
       "sliding w:   0%|          | 0/266 [00:00<?, ?it/s]"
      ]
     },
     "metadata": {},
     "output_type": "display_data"
    },
    {
     "data": {
      "application/vnd.jupyter.widget-view+json": {
       "model_id": "41df4d8d978d4a798f3821fc16e97104",
       "version_major": 2,
       "version_minor": 0
      },
      "text/plain": [
       "sliding w:   0%|          | 0/266 [00:00<?, ?it/s]"
      ]
     },
     "metadata": {},
     "output_type": "display_data"
    },
    {
     "data": {
      "application/vnd.jupyter.widget-view+json": {
       "model_id": "5bcf592534204d9d9ce98a6f5cfa9afc",
       "version_major": 2,
       "version_minor": 0
      },
      "text/plain": [
       "contains:   0%|          | 0/266 [00:00<?, ?it/s]"
      ]
     },
     "metadata": {},
     "output_type": "display_data"
    },
    {
     "data": {
      "application/vnd.jupyter.widget-view+json": {
       "model_id": "e1b574bb635b4409ada9b8c0e71ac054",
       "version_major": 2,
       "version_minor": 0
      },
      "text/plain": [
       "  0%|          | 0/381 [00:00<?, ?it/s]"
      ]
     },
     "metadata": {},
     "output_type": "display_data"
    },
    {
     "data": {
      "application/vnd.jupyter.widget-view+json": {
       "model_id": "030293155e554e4d8664e4584eb8dc60",
       "version_major": 2,
       "version_minor": 0
      },
      "text/plain": [
       "symbolize:   0%|          | 0/381 [00:00<?, ?it/s]"
      ]
     },
     "metadata": {},
     "output_type": "display_data"
    },
    {
     "data": {
      "application/vnd.jupyter.widget-view+json": {
       "model_id": "7ea42b4ce6cc46768ad8bbdbd3dbae7e",
       "version_major": 2,
       "version_minor": 0
      },
      "text/plain": [
       "sliding w:   0%|          | 0/266 [00:00<?, ?it/s]"
      ]
     },
     "metadata": {},
     "output_type": "display_data"
    },
    {
     "data": {
      "application/vnd.jupyter.widget-view+json": {
       "model_id": "23613b11fd104fada10cb2c2b9dc721a",
       "version_major": 2,
       "version_minor": 0
      },
      "text/plain": [
       "sliding w:   0%|          | 0/266 [00:00<?, ?it/s]"
      ]
     },
     "metadata": {},
     "output_type": "display_data"
    },
    {
     "data": {
      "application/vnd.jupyter.widget-view+json": {
       "model_id": "097c85cb6fac42968009deec91c2ed40",
       "version_major": 2,
       "version_minor": 0
      },
      "text/plain": [
       "sliding w:   0%|          | 0/266 [00:00<?, ?it/s]"
      ]
     },
     "metadata": {},
     "output_type": "display_data"
    },
    {
     "data": {
      "application/vnd.jupyter.widget-view+json": {
       "model_id": "1029c422fc4a4fd9816f104ce5e9d44e",
       "version_major": 2,
       "version_minor": 0
      },
      "text/plain": [
       "contains:   0%|          | 0/266 [00:00<?, ?it/s]"
      ]
     },
     "metadata": {},
     "output_type": "display_data"
    },
    {
     "data": {
      "application/vnd.jupyter.widget-view+json": {
       "model_id": "7ee8ff88bdb842329e0ac778b1c2a22b",
       "version_major": 2,
       "version_minor": 0
      },
      "text/plain": [
       "  0%|          | 0/381 [00:00<?, ?it/s]"
      ]
     },
     "metadata": {},
     "output_type": "display_data"
    },
    {
     "data": {
      "application/vnd.jupyter.widget-view+json": {
       "model_id": "7fb46ff859ff430d85c269b902e394b7",
       "version_major": 2,
       "version_minor": 0
      },
      "text/plain": [
       "symbolize:   0%|          | 0/381 [00:00<?, ?it/s]"
      ]
     },
     "metadata": {},
     "output_type": "display_data"
    },
    {
     "data": {
      "application/vnd.jupyter.widget-view+json": {
       "model_id": "9a77f94fa77148ba95aef28c2b00ba1f",
       "version_major": 2,
       "version_minor": 0
      },
      "text/plain": [
       "sliding w:   0%|          | 0/266 [00:00<?, ?it/s]"
      ]
     },
     "metadata": {},
     "output_type": "display_data"
    },
    {
     "data": {
      "application/vnd.jupyter.widget-view+json": {
       "model_id": "9f60fdb2d5d44cd6b9c051fab0dd427c",
       "version_major": 2,
       "version_minor": 0
      },
      "text/plain": [
       "sliding w:   0%|          | 0/266 [00:00<?, ?it/s]"
      ]
     },
     "metadata": {},
     "output_type": "display_data"
    },
    {
     "data": {
      "application/vnd.jupyter.widget-view+json": {
       "model_id": "f65b6886c12d43b8add279cf911dcb4d",
       "version_major": 2,
       "version_minor": 0
      },
      "text/plain": [
       "sliding w:   0%|          | 0/266 [00:00<?, ?it/s]"
      ]
     },
     "metadata": {},
     "output_type": "display_data"
    },
    {
     "data": {
      "application/vnd.jupyter.widget-view+json": {
       "model_id": "a86b85355533482eaa78a1c0f30dc6b3",
       "version_major": 2,
       "version_minor": 0
      },
      "text/plain": [
       "contains:   0%|          | 0/266 [00:00<?, ?it/s]"
      ]
     },
     "metadata": {},
     "output_type": "display_data"
    },
    {
     "data": {
      "application/vnd.jupyter.widget-view+json": {
       "model_id": "f4ac9e048dee4fd18a13924f29e9da85",
       "version_major": 2,
       "version_minor": 0
      },
      "text/plain": [
       "  0%|          | 0/381 [00:00<?, ?it/s]"
      ]
     },
     "metadata": {},
     "output_type": "display_data"
    },
    {
     "data": {
      "application/vnd.jupyter.widget-view+json": {
       "model_id": "2e7fa927cb6746e4ab1536a4ba4620da",
       "version_major": 2,
       "version_minor": 0
      },
      "text/plain": [
       "symbolize:   0%|          | 0/381 [00:00<?, ?it/s]"
      ]
     },
     "metadata": {},
     "output_type": "display_data"
    },
    {
     "data": {
      "application/vnd.jupyter.widget-view+json": {
       "model_id": "b289b999ef0e48acbdd2e607aa618b05",
       "version_major": 2,
       "version_minor": 0
      },
      "text/plain": [
       "sliding w:   0%|          | 0/266 [00:00<?, ?it/s]"
      ]
     },
     "metadata": {},
     "output_type": "display_data"
    },
    {
     "data": {
      "application/vnd.jupyter.widget-view+json": {
       "model_id": "0c6db20d0ac342f890c44e73f6f3a284",
       "version_major": 2,
       "version_minor": 0
      },
      "text/plain": [
       "sliding w:   0%|          | 0/266 [00:00<?, ?it/s]"
      ]
     },
     "metadata": {},
     "output_type": "display_data"
    },
    {
     "data": {
      "application/vnd.jupyter.widget-view+json": {
       "model_id": "3a897f6d652644b7b24b7714fe2d4f86",
       "version_major": 2,
       "version_minor": 0
      },
      "text/plain": [
       "sliding w:   0%|          | 0/266 [00:00<?, ?it/s]"
      ]
     },
     "metadata": {},
     "output_type": "display_data"
    },
    {
     "data": {
      "application/vnd.jupyter.widget-view+json": {
       "model_id": "c11364135ef14f9fab533f56b9253334",
       "version_major": 2,
       "version_minor": 0
      },
      "text/plain": [
       "contains:   0%|          | 0/266 [00:00<?, ?it/s]"
      ]
     },
     "metadata": {},
     "output_type": "display_data"
    },
    {
     "data": {
      "application/vnd.jupyter.widget-view+json": {
       "model_id": "6afd21727b3c40658b6038c951edb813",
       "version_major": 2,
       "version_minor": 0
      },
      "text/plain": [
       "  0%|          | 0/381 [00:00<?, ?it/s]"
      ]
     },
     "metadata": {},
     "output_type": "display_data"
    },
    {
     "data": {
      "application/vnd.jupyter.widget-view+json": {
       "model_id": "75748929f1c24b32ae88f8ad78cccebc",
       "version_major": 2,
       "version_minor": 0
      },
      "text/plain": [
       "symbolize:   0%|          | 0/381 [00:00<?, ?it/s]"
      ]
     },
     "metadata": {},
     "output_type": "display_data"
    },
    {
     "data": {
      "application/vnd.jupyter.widget-view+json": {
       "model_id": "521c5ccca9754c0ba94d7ad69bef0fcd",
       "version_major": 2,
       "version_minor": 0
      },
      "text/plain": [
       "sliding w:   0%|          | 0/266 [00:00<?, ?it/s]"
      ]
     },
     "metadata": {},
     "output_type": "display_data"
    },
    {
     "data": {
      "application/vnd.jupyter.widget-view+json": {
       "model_id": "582f9c9597e84da9b0cdcbb117242eb0",
       "version_major": 2,
       "version_minor": 0
      },
      "text/plain": [
       "sliding w:   0%|          | 0/266 [00:00<?, ?it/s]"
      ]
     },
     "metadata": {},
     "output_type": "display_data"
    },
    {
     "data": {
      "application/vnd.jupyter.widget-view+json": {
       "model_id": "35531606733c4cdd91cc6e4d76932d0e",
       "version_major": 2,
       "version_minor": 0
      },
      "text/plain": [
       "sliding w:   0%|          | 0/266 [00:00<?, ?it/s]"
      ]
     },
     "metadata": {},
     "output_type": "display_data"
    },
    {
     "data": {
      "application/vnd.jupyter.widget-view+json": {
       "model_id": "2d1ef7e6c8b9448ea404c5c6878c1853",
       "version_major": 2,
       "version_minor": 0
      },
      "text/plain": [
       "contains:   0%|          | 0/266 [00:00<?, ?it/s]"
      ]
     },
     "metadata": {},
     "output_type": "display_data"
    },
    {
     "data": {
      "application/vnd.jupyter.widget-view+json": {
       "model_id": "0afdebb49b6941d68a6b5b5d45199374",
       "version_major": 2,
       "version_minor": 0
      },
      "text/plain": [
       "  0%|          | 0/381 [00:00<?, ?it/s]"
      ]
     },
     "metadata": {},
     "output_type": "display_data"
    },
    {
     "data": {
      "application/vnd.jupyter.widget-view+json": {
       "model_id": "2f98848f34744371bcc39a60be4a7420",
       "version_major": 2,
       "version_minor": 0
      },
      "text/plain": [
       "symbolize:   0%|          | 0/381 [00:00<?, ?it/s]"
      ]
     },
     "metadata": {},
     "output_type": "display_data"
    },
    {
     "data": {
      "application/vnd.jupyter.widget-view+json": {
       "model_id": "e71263ab16c14f45abf6f97b7731a625",
       "version_major": 2,
       "version_minor": 0
      },
      "text/plain": [
       "sliding w:   0%|          | 0/266 [00:00<?, ?it/s]"
      ]
     },
     "metadata": {},
     "output_type": "display_data"
    },
    {
     "data": {
      "application/vnd.jupyter.widget-view+json": {
       "model_id": "bbebf0a6b2f9405682c5e409dab0f55e",
       "version_major": 2,
       "version_minor": 0
      },
      "text/plain": [
       "sliding w:   0%|          | 0/266 [00:00<?, ?it/s]"
      ]
     },
     "metadata": {},
     "output_type": "display_data"
    },
    {
     "data": {
      "application/vnd.jupyter.widget-view+json": {
       "model_id": "4550817e3d054c79b36f127f640e0919",
       "version_major": 2,
       "version_minor": 0
      },
      "text/plain": [
       "sliding w:   0%|          | 0/266 [00:00<?, ?it/s]"
      ]
     },
     "metadata": {},
     "output_type": "display_data"
    },
    {
     "data": {
      "application/vnd.jupyter.widget-view+json": {
       "model_id": "3b6983c2e56d4d7284f3e3a0b8592efb",
       "version_major": 2,
       "version_minor": 0
      },
      "text/plain": [
       "contains:   0%|          | 0/266 [00:00<?, ?it/s]"
      ]
     },
     "metadata": {},
     "output_type": "display_data"
    },
    {
     "data": {
      "application/vnd.jupyter.widget-view+json": {
       "model_id": "e7f5671aac0b46d89c09d1a61b3be064",
       "version_major": 2,
       "version_minor": 0
      },
      "text/plain": [
       "  0%|          | 0/381 [00:00<?, ?it/s]"
      ]
     },
     "metadata": {},
     "output_type": "display_data"
    },
    {
     "data": {
      "application/vnd.jupyter.widget-view+json": {
       "model_id": "fa29fe0c877643d9a1c9393b27c21fa0",
       "version_major": 2,
       "version_minor": 0
      },
      "text/plain": [
       "symbolize:   0%|          | 0/381 [00:00<?, ?it/s]"
      ]
     },
     "metadata": {},
     "output_type": "display_data"
    },
    {
     "data": {
      "application/vnd.jupyter.widget-view+json": {
       "model_id": "562780331ee349a8b56baa51f550f6a2",
       "version_major": 2,
       "version_minor": 0
      },
      "text/plain": [
       "sliding w:   0%|          | 0/266 [00:00<?, ?it/s]"
      ]
     },
     "metadata": {},
     "output_type": "display_data"
    },
    {
     "data": {
      "application/vnd.jupyter.widget-view+json": {
       "model_id": "e9b5dd1b4eb84944abb119f0acfa1484",
       "version_major": 2,
       "version_minor": 0
      },
      "text/plain": [
       "sliding w:   0%|          | 0/266 [00:00<?, ?it/s]"
      ]
     },
     "metadata": {},
     "output_type": "display_data"
    },
    {
     "data": {
      "application/vnd.jupyter.widget-view+json": {
       "model_id": "e949d9619dc449a788ecfc7adf7ef7a1",
       "version_major": 2,
       "version_minor": 0
      },
      "text/plain": [
       "sliding w:   0%|          | 0/266 [00:00<?, ?it/s]"
      ]
     },
     "metadata": {},
     "output_type": "display_data"
    },
    {
     "data": {
      "application/vnd.jupyter.widget-view+json": {
       "model_id": "935d45c7c44840e0a8b146240d612f4e",
       "version_major": 2,
       "version_minor": 0
      },
      "text/plain": [
       "contains:   0%|          | 0/266 [00:00<?, ?it/s]"
      ]
     },
     "metadata": {},
     "output_type": "display_data"
    },
    {
     "data": {
      "application/vnd.jupyter.widget-view+json": {
       "model_id": "3c73b8c84bcf4138995e8d959e80f657",
       "version_major": 2,
       "version_minor": 0
      },
      "text/plain": [
       "  0%|          | 0/381 [00:00<?, ?it/s]"
      ]
     },
     "metadata": {},
     "output_type": "display_data"
    },
    {
     "data": {
      "application/vnd.jupyter.widget-view+json": {
       "model_id": "f150eeed009e47bd9014f970109acaac",
       "version_major": 2,
       "version_minor": 0
      },
      "text/plain": [
       "symbolize:   0%|          | 0/381 [00:00<?, ?it/s]"
      ]
     },
     "metadata": {},
     "output_type": "display_data"
    },
    {
     "data": {
      "application/vnd.jupyter.widget-view+json": {
       "model_id": "61289511d1ef46fda0fef909e8ca3bdf",
       "version_major": 2,
       "version_minor": 0
      },
      "text/plain": [
       "sliding w:   0%|          | 0/266 [00:00<?, ?it/s]"
      ]
     },
     "metadata": {},
     "output_type": "display_data"
    },
    {
     "data": {
      "application/vnd.jupyter.widget-view+json": {
       "model_id": "5489c3c5c0c04ddf9f5b200d1c0a7521",
       "version_major": 2,
       "version_minor": 0
      },
      "text/plain": [
       "sliding w:   0%|          | 0/266 [00:00<?, ?it/s]"
      ]
     },
     "metadata": {},
     "output_type": "display_data"
    },
    {
     "data": {
      "application/vnd.jupyter.widget-view+json": {
       "model_id": "713a30009e684cdd9da3664ef65235f2",
       "version_major": 2,
       "version_minor": 0
      },
      "text/plain": [
       "sliding w:   0%|          | 0/266 [00:00<?, ?it/s]"
      ]
     },
     "metadata": {},
     "output_type": "display_data"
    },
    {
     "data": {
      "application/vnd.jupyter.widget-view+json": {
       "model_id": "1ae04b0b12a84cd5a77b82330ead3abf",
       "version_major": 2,
       "version_minor": 0
      },
      "text/plain": [
       "contains:   0%|          | 0/266 [00:00<?, ?it/s]"
      ]
     },
     "metadata": {},
     "output_type": "display_data"
    },
    {
     "data": {
      "application/vnd.jupyter.widget-view+json": {
       "model_id": "32a889bd2d9c44d7a53bd7d0031cc837",
       "version_major": 2,
       "version_minor": 0
      },
      "text/plain": [
       "  0%|          | 0/381 [00:00<?, ?it/s]"
      ]
     },
     "metadata": {},
     "output_type": "display_data"
    },
    {
     "data": {
      "application/vnd.jupyter.widget-view+json": {
       "model_id": "20f5a148e22f4cbf98a066975a3e10f5",
       "version_major": 2,
       "version_minor": 0
      },
      "text/plain": [
       "symbolize:   0%|          | 0/381 [00:00<?, ?it/s]"
      ]
     },
     "metadata": {},
     "output_type": "display_data"
    },
    {
     "data": {
      "application/vnd.jupyter.widget-view+json": {
       "model_id": "8361ac92f78f44ec9d6fabbb7d87164a",
       "version_major": 2,
       "version_minor": 0
      },
      "text/plain": [
       "sliding w:   0%|          | 0/266 [00:00<?, ?it/s]"
      ]
     },
     "metadata": {},
     "output_type": "display_data"
    },
    {
     "data": {
      "application/vnd.jupyter.widget-view+json": {
       "model_id": "efc42f814f1f428c8e375c35293bd47f",
       "version_major": 2,
       "version_minor": 0
      },
      "text/plain": [
       "sliding w:   0%|          | 0/266 [00:00<?, ?it/s]"
      ]
     },
     "metadata": {},
     "output_type": "display_data"
    },
    {
     "data": {
      "application/vnd.jupyter.widget-view+json": {
       "model_id": "5041a310fe9a44d4b6eb4f37b2a09aca",
       "version_major": 2,
       "version_minor": 0
      },
      "text/plain": [
       "sliding w:   0%|          | 0/266 [00:00<?, ?it/s]"
      ]
     },
     "metadata": {},
     "output_type": "display_data"
    },
    {
     "data": {
      "application/vnd.jupyter.widget-view+json": {
       "model_id": "cb20c8593a024ee9bb85222277fad547",
       "version_major": 2,
       "version_minor": 0
      },
      "text/plain": [
       "contains:   0%|          | 0/266 [00:00<?, ?it/s]"
      ]
     },
     "metadata": {},
     "output_type": "display_data"
    },
    {
     "data": {
      "application/vnd.jupyter.widget-view+json": {
       "model_id": "f76fff1bb48a4cc6bf6d533705967c67",
       "version_major": 2,
       "version_minor": 0
      },
      "text/plain": [
       "  0%|          | 0/381 [00:00<?, ?it/s]"
      ]
     },
     "metadata": {},
     "output_type": "display_data"
    },
    {
     "data": {
      "application/vnd.jupyter.widget-view+json": {
       "model_id": "7dadfff917284cce895dc08a2e396a42",
       "version_major": 2,
       "version_minor": 0
      },
      "text/plain": [
       "symbolize:   0%|          | 0/381 [00:00<?, ?it/s]"
      ]
     },
     "metadata": {},
     "output_type": "display_data"
    },
    {
     "data": {
      "application/vnd.jupyter.widget-view+json": {
       "model_id": "f759ce16855a42339282ed2c75a8d5af",
       "version_major": 2,
       "version_minor": 0
      },
      "text/plain": [
       "sliding w:   0%|          | 0/266 [00:00<?, ?it/s]"
      ]
     },
     "metadata": {},
     "output_type": "display_data"
    },
    {
     "data": {
      "application/vnd.jupyter.widget-view+json": {
       "model_id": "cdc1818999b442358ffc18963896e8c2",
       "version_major": 2,
       "version_minor": 0
      },
      "text/plain": [
       "sliding w:   0%|          | 0/266 [00:00<?, ?it/s]"
      ]
     },
     "metadata": {},
     "output_type": "display_data"
    },
    {
     "data": {
      "application/vnd.jupyter.widget-view+json": {
       "model_id": "349947157aa24ae782e71e7f1316b6e4",
       "version_major": 2,
       "version_minor": 0
      },
      "text/plain": [
       "sliding w:   0%|          | 0/266 [00:00<?, ?it/s]"
      ]
     },
     "metadata": {},
     "output_type": "display_data"
    },
    {
     "data": {
      "application/vnd.jupyter.widget-view+json": {
       "model_id": "152fe894449443afba2949e9de1e9265",
       "version_major": 2,
       "version_minor": 0
      },
      "text/plain": [
       "contains:   0%|          | 0/266 [00:00<?, ?it/s]"
      ]
     },
     "metadata": {},
     "output_type": "display_data"
    },
    {
     "data": {
      "application/vnd.jupyter.widget-view+json": {
       "model_id": "050aa6205c0f40df9cc03493e847d454",
       "version_major": 2,
       "version_minor": 0
      },
      "text/plain": [
       "  0%|          | 0/381 [00:00<?, ?it/s]"
      ]
     },
     "metadata": {},
     "output_type": "display_data"
    }
   ],
   "source": [
    "from concurrent.futures import ProcessPoolExecutor\n",
    "\n",
    "executor = ProcessPoolExecutor(max_workers=1)\n",
    "\n",
    "n_clusters = [2, 5, 10, 20, 100]\n",
    "sliding_windows = [2, 3, 5, 10]\n",
    "top_k = [1, 2, 10, 30, 50]\n",
    "\n",
    "res_t = []\n",
    "res_X = []\n",
    "\n",
    "conf = []\n",
    "processes = []\n",
    "for n_clust in tqdm(n_clusters, position=0):\n",
    "    for sliding_w in sliding_windows:\n",
    "        for k in top_k:\n",
    "            try:\n",
    "                conf.append((n_clust, sliding_w, k))\n",
    "                #processes.append(executor.submit(foo, 1))\n",
    "                #processes.append(executor.submit(runTest, n_clust, sliding_w, k))\n",
    "                t, x = runTest(n_clust, sliding_w, k)\n",
    "                res_t.append(t)\n",
    "                res_X.append(x)\n",
    "            except:\n",
    "                print(\"FAIL\")\n",
    "                res_t.append(np.NAN)\n",
    "                res_X.append(np.NAN)\n"
   ]
  },
  {
   "cell_type": "code",
   "execution_count": null,
   "metadata": {},
   "outputs": [],
   "source": []
  },
  {
   "cell_type": "code",
   "execution_count": 86,
   "metadata": {},
   "outputs": [
    {
     "data": {
      "text/plain": [
       "[(2, 2, 1),\n",
       " (2, 2, 2),\n",
       " (2, 2, 10),\n",
       " (2, 2, 30),\n",
       " (2, 2, 50),\n",
       " (2, 3, 1),\n",
       " (2, 3, 2),\n",
       " (2, 3, 10),\n",
       " (2, 3, 30),\n",
       " (2, 3, 50),\n",
       " (2, 5, 1),\n",
       " (2, 5, 2),\n",
       " (2, 5, 10),\n",
       " (2, 5, 30),\n",
       " (2, 5, 50),\n",
       " (2, 10, 1),\n",
       " (2, 10, 2),\n",
       " (2, 10, 10),\n",
       " (2, 10, 30),\n",
       " (2, 10, 50),\n",
       " (5, 2, 1),\n",
       " (5, 2, 2),\n",
       " (5, 2, 10),\n",
       " (5, 2, 30),\n",
       " (5, 2, 50),\n",
       " (5, 3, 1),\n",
       " (5, 3, 2),\n",
       " (5, 3, 10),\n",
       " (5, 3, 30),\n",
       " (5, 3, 50),\n",
       " (5, 5, 1),\n",
       " (5, 5, 2),\n",
       " (5, 5, 10),\n",
       " (5, 5, 30),\n",
       " (5, 5, 50),\n",
       " (5, 10, 1),\n",
       " (5, 10, 2),\n",
       " (5, 10, 10),\n",
       " (5, 10, 30),\n",
       " (5, 10, 50),\n",
       " (10, 2, 1),\n",
       " (10, 2, 2),\n",
       " (10, 2, 10),\n",
       " (10, 2, 30),\n",
       " (10, 2, 50),\n",
       " (10, 3, 1),\n",
       " (10, 3, 2),\n",
       " (10, 3, 10),\n",
       " (10, 3, 30),\n",
       " (10, 3, 50),\n",
       " (10, 5, 1),\n",
       " (10, 5, 2),\n",
       " (10, 5, 10),\n",
       " (10, 5, 30),\n",
       " (10, 5, 50),\n",
       " (10, 10, 1),\n",
       " (10, 10, 2),\n",
       " (10, 10, 10),\n",
       " (10, 10, 30),\n",
       " (10, 10, 50),\n",
       " (20, 2, 1),\n",
       " (20, 2, 2),\n",
       " (20, 2, 10),\n",
       " (20, 2, 30),\n",
       " (20, 2, 50),\n",
       " (20, 3, 1),\n",
       " (20, 3, 2),\n",
       " (20, 3, 10),\n",
       " (20, 3, 30),\n",
       " (20, 3, 50),\n",
       " (20, 5, 1),\n",
       " (20, 5, 2),\n",
       " (20, 5, 10),\n",
       " (20, 5, 30),\n",
       " (20, 5, 50),\n",
       " (20, 10, 1),\n",
       " (20, 10, 2),\n",
       " (20, 10, 10),\n",
       " (20, 10, 30),\n",
       " (20, 10, 50),\n",
       " (100, 2, 1),\n",
       " (100, 2, 2),\n",
       " (100, 2, 10),\n",
       " (100, 2, 30),\n",
       " (100, 2, 50),\n",
       " (100, 3, 1),\n",
       " (100, 3, 2),\n",
       " (100, 3, 10),\n",
       " (100, 3, 30),\n",
       " (100, 3, 50),\n",
       " (100, 5, 1),\n",
       " (100, 5, 2),\n",
       " (100, 5, 10),\n",
       " (100, 5, 30),\n",
       " (100, 5, 50),\n",
       " (100, 10, 1),\n",
       " (100, 10, 2),\n",
       " (100, 10, 10),\n",
       " (100, 10, 30),\n",
       " (100, 10, 50)]"
      ]
     },
     "execution_count": 86,
     "metadata": {},
     "output_type": "execute_result"
    }
   ],
   "source": [
    "conf"
   ]
  },
  {
   "cell_type": "code",
   "execution_count": null,
   "metadata": {},
   "outputs": [],
   "source": []
  },
  {
   "cell_type": "code",
   "execution_count": 87,
   "metadata": {},
   "outputs": [
    {
     "data": {
      "application/vnd.jupyter.widget-view+json": {
       "model_id": "ab42125d9b984e0a834a19fb4f0677e7",
       "version_major": 2,
       "version_minor": 0
      },
      "text/plain": [
       "  0%|          | 0/100 [00:00<?, ?it/s]"
      ]
     },
     "metadata": {},
     "output_type": "display_data"
    },
    {
     "name": "stdout",
     "output_type": "stream",
     "text": [
      "(0.7130434782608696, 0.7130434782608696, 0.7130434782608696, 0.7130434782608696)\n",
      "(0.7130434782608696, 0.7130434782608696, 0.7130434782608696, 0.7130434782608696)\n",
      "(0.7217391304347827, 0.7217391304347827, 0.7217391304347827, 0.7217391304347827)\n",
      "(0.7217391304347827, 0.7217391304347827, 0.7217391304347827, 0.7217391304347827)\n",
      "(0.7304347826086957, 0.7304347826086957, 0.7304347826086957, 0.7304347826086957)\n",
      "(0.7130434782608696, 0.7130434782608696, 0.7130434782608696, 0.7130434782608696)\n",
      "(0.6956521739130435, 0.6956521739130435, 0.6956521739130435, 0.6956521739130435)\n",
      "(0.7043478260869566, 0.7043478260869566, 0.7043478260869566, 0.7043478260869566)\n",
      "(0.6869565217391305, 0.6869565217391305, 0.6869565217391305, 0.6869565217391305)\n",
      "(0.6956521739130435, 0.6956521739130435, 0.6956521739130435, 0.6956521739130435)\n",
      "(0.7130434782608696, 0.7130434782608696, 0.7130434782608696, 0.7130434782608696)\n",
      "(0.7130434782608696, 0.7130434782608696, 0.7130434782608696, 0.7130434782608696)\n",
      "(0.7043478260869566, 0.7043478260869566, 0.7043478260869566, 0.7043478260869566)\n",
      "(0.7217391304347827, 0.7217391304347827, 0.7217391304347827, 0.7217391304347827)\n",
      "(0.6782608695652174, 0.6782608695652174, 0.6782608695652174, 0.6782608695652174)\n",
      "(0.7130434782608696, 0.7130434782608696, 0.7130434782608696, 0.7130434782608696)\n",
      "(0.7043478260869566, 0.7043478260869566, 0.7043478260869566, 0.7043478260869566)\n",
      "(0.7391304347826086, 0.7391304347826086, 0.7391304347826085, 0.7391304347826086)\n",
      "(0.7043478260869566, 0.7043478260869566, 0.7043478260869566, 0.7043478260869566)\n",
      "(0.7130434782608696, 0.7130434782608696, 0.7130434782608696, 0.7130434782608696)\n",
      "(0.7130434782608696, 0.7130434782608696, 0.7130434782608696, 0.7130434782608696)\n",
      "(0.7130434782608696, 0.7130434782608696, 0.7130434782608696, 0.7130434782608696)\n",
      "(0.6869565217391305, 0.6869565217391305, 0.6869565217391305, 0.6869565217391305)\n",
      "(0.7913043478260869, 0.7913043478260869, 0.791304347826087, 0.7913043478260869)\n",
      "(0.7565217391304347, 0.7565217391304347, 0.7565217391304349, 0.7565217391304347)\n",
      "(0.7217391304347827, 0.7217391304347827, 0.7217391304347827, 0.7217391304347827)\n",
      "(0.7217391304347827, 0.7217391304347827, 0.7217391304347827, 0.7217391304347827)\n",
      "(0.7565217391304347, 0.7565217391304347, 0.7565217391304349, 0.7565217391304347)\n",
      "(0.7391304347826086, 0.7391304347826086, 0.7391304347826085, 0.7391304347826086)\n",
      "(0.7391304347826086, 0.7391304347826086, 0.7391304347826085, 0.7391304347826086)\n",
      "(0.7130434782608696, 0.7130434782608696, 0.7130434782608696, 0.7130434782608696)\n",
      "(0.7130434782608696, 0.7130434782608696, 0.7130434782608696, 0.7130434782608696)\n",
      "(0.7130434782608696, 0.7130434782608696, 0.7130434782608696, 0.7130434782608696)\n",
      "(0.7391304347826086, 0.7391304347826086, 0.7391304347826085, 0.7391304347826086)\n",
      "(0.7130434782608696, 0.7130434782608696, 0.7130434782608696, 0.7130434782608696)\n",
      "(0.7130434782608696, 0.7130434782608696, 0.7130434782608696, 0.7130434782608696)\n",
      "(0.7130434782608696, 0.7130434782608696, 0.7130434782608696, 0.7130434782608696)\n",
      "(0.7217391304347827, 0.7217391304347827, 0.7217391304347827, 0.7217391304347827)\n",
      "(0.7043478260869566, 0.7043478260869566, 0.7043478260869566, 0.7043478260869566)\n",
      "(0.7130434782608696, 0.7130434782608696, 0.7130434782608696, 0.7130434782608696)\n",
      "(0.7130434782608696, 0.7130434782608696, 0.7130434782608696, 0.7130434782608696)\n",
      "(0.7130434782608696, 0.7130434782608696, 0.7130434782608696, 0.7130434782608696)\n",
      "(0.6869565217391305, 0.6869565217391305, 0.6869565217391305, 0.6869565217391305)\n",
      "(0.6782608695652174, 0.6782608695652174, 0.6782608695652174, 0.6782608695652174)\n",
      "(0.7043478260869566, 0.7043478260869566, 0.7043478260869566, 0.7043478260869566)\n",
      "(0.7130434782608696, 0.7130434782608696, 0.7130434782608696, 0.7130434782608696)\n",
      "(0.7130434782608696, 0.7130434782608696, 0.7130434782608696, 0.7130434782608696)\n",
      "(0.7304347826086957, 0.7304347826086957, 0.7304347826086957, 0.7304347826086957)\n",
      "(0.7217391304347827, 0.7217391304347827, 0.7217391304347827, 0.7217391304347827)\n",
      "(0.7130434782608696, 0.7130434782608696, 0.7130434782608696, 0.7130434782608696)\n",
      "(0.7478260869565218, 0.7478260869565218, 0.7478260869565218, 0.7478260869565218)\n",
      "(0.7478260869565218, 0.7478260869565218, 0.7478260869565218, 0.7478260869565218)\n",
      "(0.7478260869565218, 0.7478260869565218, 0.7478260869565218, 0.7478260869565218)\n",
      "(0.7478260869565218, 0.7478260869565218, 0.7478260869565218, 0.7478260869565218)\n",
      "(0.7478260869565218, 0.7478260869565218, 0.7478260869565218, 0.7478260869565218)\n",
      "(0.7478260869565218, 0.7478260869565218, 0.7478260869565218, 0.7478260869565218)\n",
      "(0.7478260869565218, 0.7478260869565218, 0.7478260869565218, 0.7478260869565218)\n",
      "(0.7478260869565218, 0.7478260869565218, 0.7478260869565218, 0.7478260869565218)\n",
      "(0.7478260869565218, 0.7478260869565218, 0.7478260869565218, 0.7478260869565218)\n",
      "(0.7478260869565218, 0.7478260869565218, 0.7478260869565218, 0.7478260869565218)\n",
      "(0.7130434782608696, 0.7130434782608696, 0.7130434782608696, 0.7130434782608696)\n",
      "(0.6, 0.6, 0.6, 0.6)\n",
      "(0.6434782608695652, 0.6434782608695652, 0.6434782608695652, 0.6434782608695652)\n",
      "(0.6869565217391305, 0.6869565217391305, 0.6869565217391305, 0.6869565217391305)\n",
      "(0.6608695652173913, 0.6608695652173913, 0.6608695652173913, 0.6608695652173913)\n",
      "(0.7130434782608696, 0.7130434782608696, 0.7130434782608696, 0.7130434782608696)\n",
      "(0.7130434782608696, 0.7130434782608696, 0.7130434782608696, 0.7130434782608696)\n",
      "(0.782608695652174, 0.782608695652174, 0.782608695652174, 0.782608695652174)\n",
      "(0.7304347826086957, 0.7304347826086957, 0.7304347826086957, 0.7304347826086957)\n",
      "(0.7913043478260869, 0.7913043478260869, 0.791304347826087, 0.7913043478260869)\n",
      "(0.6869565217391305, 0.6869565217391305, 0.6869565217391305, 0.6869565217391305)\n",
      "(0.7130434782608696, 0.7130434782608696, 0.7130434782608696, 0.7130434782608696)\n",
      "(0.7130434782608696, 0.7130434782608696, 0.7130434782608696, 0.7130434782608696)\n",
      "(0.7739130434782608, 0.7739130434782608, 0.7739130434782608, 0.7739130434782608)\n",
      "(0.7739130434782608, 0.7739130434782608, 0.7739130434782608, 0.7739130434782608)\n",
      "(0.7130434782608696, 0.7130434782608696, 0.7130434782608696, 0.7130434782608696)\n",
      "(0.7130434782608696, 0.7130434782608696, 0.7130434782608696, 0.7130434782608696)\n",
      "(0.7130434782608696, 0.7130434782608696, 0.7130434782608696, 0.7130434782608696)\n",
      "(0.7130434782608696, 0.7130434782608696, 0.7130434782608696, 0.7130434782608696)\n",
      "(0.7130434782608696, 0.7130434782608696, 0.7130434782608696, 0.7130434782608696)\n",
      "(0.6782608695652174, 0.6782608695652174, 0.6782608695652174, 0.6782608695652174)\n",
      "(0.7130434782608696, 0.7130434782608696, 0.7130434782608696, 0.7130434782608696)\n",
      "(0.7304347826086957, 0.7304347826086957, 0.7304347826086957, 0.7304347826086957)\n",
      "(0.7130434782608696, 0.7130434782608696, 0.7130434782608696, 0.7130434782608696)\n",
      "(0.7304347826086957, 0.7304347826086957, 0.7304347826086957, 0.7304347826086957)\n",
      "(0.7130434782608696, 0.7130434782608696, 0.7130434782608696, 0.7130434782608696)\n",
      "(0.7478260869565218, 0.7478260869565218, 0.7478260869565218, 0.7478260869565218)\n",
      "(0.7913043478260869, 0.7913043478260869, 0.791304347826087, 0.7913043478260869)\n",
      "(0.7478260869565218, 0.7478260869565218, 0.7478260869565218, 0.7478260869565218)\n",
      "(0.7913043478260869, 0.7913043478260869, 0.791304347826087, 0.7913043478260869)\n",
      "(0.7130434782608696, 0.7130434782608696, 0.7130434782608696, 0.7130434782608696)\n",
      "(0.7130434782608696, 0.7130434782608696, 0.7130434782608696, 0.7130434782608696)\n",
      "(0.7478260869565218, 0.7478260869565218, 0.7478260869565218, 0.7478260869565218)\n",
      "(0.7565217391304347, 0.7565217391304347, 0.7565217391304349, 0.7565217391304347)\n",
      "(0.7478260869565218, 0.7478260869565218, 0.7478260869565218, 0.7478260869565218)\n",
      "(0.7130434782608696, 0.7130434782608696, 0.7130434782608696, 0.7130434782608696)\n",
      "(0.7130434782608696, 0.7130434782608696, 0.7130434782608696, 0.7130434782608696)\n",
      "(0.7043478260869566, 0.7043478260869566, 0.7043478260869566, 0.7043478260869566)\n",
      "(0.7217391304347827, 0.7217391304347827, 0.7217391304347827, 0.7217391304347827)\n",
      "(0.7304347826086957, 0.7304347826086957, 0.7304347826086957, 0.7304347826086957)\n"
     ]
    }
   ],
   "source": [
    "from sklearn.metrics import accuracy_score, precision_score, f1_score, recall_score\n",
    "\n",
    "def compute_measures(test, pred):\n",
    "    return (accuracy_score(test, pred), precision_score(test, pred, average=\"micro\"), f1_score(test, pred, average=\"micro\"), recall_score(test, pred, average=\"micro\"))\n",
    "\n",
    "res_val = []\n",
    "\n",
    "for x in tqdm(res_X):\n",
    "    try:\n",
    "\n",
    "        X = x\n",
    "        X_train, X_test, y_train, y_test = train_test_split(X, y, test_size=.3, stratify=y, random_state=3)\n",
    "\n",
    "        tree_para = {'n_estimators':range(100, 1500, 300),\n",
    "                     'max_depth':range(2, 18, 3)}\n",
    "        gs = GridSearchCV(RandomForestClassifier(), tree_para, cv=5, n_jobs=12, verbose=0)\n",
    "        result = gs.fit(X_train, y_train)\n",
    "\n",
    "        y_pred = result.best_estimator_.fit(X_train, y_train).predict(X_test)\n",
    "\n",
    "        res_val.append(compute_measures(y_test, y_pred))\n",
    "\n",
    "        print(compute_measures(y_test, y_pred))\n",
    "    except:\n",
    "        print(\"skip\")\n",
    "        res_val.append((np.NAN, np.NAN, np.NAN, np.NAN))"
   ]
  },
  {
   "cell_type": "code",
   "execution_count": null,
   "metadata": {},
   "outputs": [],
   "source": []
  },
  {
   "cell_type": "code",
   "execution_count": 89,
   "metadata": {},
   "outputs": [
    {
     "data": {
      "text/html": [
       "<div>\n",
       "<style scoped>\n",
       "    .dataframe tbody tr th:only-of-type {\n",
       "        vertical-align: middle;\n",
       "    }\n",
       "\n",
       "    .dataframe tbody tr th {\n",
       "        vertical-align: top;\n",
       "    }\n",
       "\n",
       "    .dataframe thead th {\n",
       "        text-align: right;\n",
       "    }\n",
       "</style>\n",
       "<table border=\"1\" class=\"dataframe\">\n",
       "  <thead>\n",
       "    <tr style=\"text-align: right;\">\n",
       "      <th></th>\n",
       "      <th>acc</th>\n",
       "      <th>precision</th>\n",
       "      <th>f1</th>\n",
       "      <th>recall</th>\n",
       "      <th>nclust</th>\n",
       "      <th>sliding</th>\n",
       "      <th>k</th>\n",
       "      <th>t</th>\n",
       "    </tr>\n",
       "  </thead>\n",
       "  <tbody>\n",
       "    <tr>\n",
       "      <th>0</th>\n",
       "      <td>0.713043</td>\n",
       "      <td>0.713043</td>\n",
       "      <td>0.713043</td>\n",
       "      <td>0.713043</td>\n",
       "      <td>2</td>\n",
       "      <td>2</td>\n",
       "      <td>1</td>\n",
       "      <td>3546647.006</td>\n",
       "    </tr>\n",
       "    <tr>\n",
       "      <th>1</th>\n",
       "      <td>0.713043</td>\n",
       "      <td>0.713043</td>\n",
       "      <td>0.713043</td>\n",
       "      <td>0.713043</td>\n",
       "      <td>2</td>\n",
       "      <td>2</td>\n",
       "      <td>2</td>\n",
       "      <td>3547816.237</td>\n",
       "    </tr>\n",
       "    <tr>\n",
       "      <th>2</th>\n",
       "      <td>0.721739</td>\n",
       "      <td>0.721739</td>\n",
       "      <td>0.721739</td>\n",
       "      <td>0.721739</td>\n",
       "      <td>2</td>\n",
       "      <td>2</td>\n",
       "      <td>10</td>\n",
       "      <td>3546867.370</td>\n",
       "    </tr>\n",
       "    <tr>\n",
       "      <th>3</th>\n",
       "      <td>0.721739</td>\n",
       "      <td>0.721739</td>\n",
       "      <td>0.721739</td>\n",
       "      <td>0.721739</td>\n",
       "      <td>2</td>\n",
       "      <td>2</td>\n",
       "      <td>30</td>\n",
       "      <td>3547898.232</td>\n",
       "    </tr>\n",
       "    <tr>\n",
       "      <th>4</th>\n",
       "      <td>0.730435</td>\n",
       "      <td>0.730435</td>\n",
       "      <td>0.730435</td>\n",
       "      <td>0.730435</td>\n",
       "      <td>2</td>\n",
       "      <td>2</td>\n",
       "      <td>50</td>\n",
       "      <td>3548640.011</td>\n",
       "    </tr>\n",
       "    <tr>\n",
       "      <th>...</th>\n",
       "      <td>...</td>\n",
       "      <td>...</td>\n",
       "      <td>...</td>\n",
       "      <td>...</td>\n",
       "      <td>...</td>\n",
       "      <td>...</td>\n",
       "      <td>...</td>\n",
       "      <td>...</td>\n",
       "    </tr>\n",
       "    <tr>\n",
       "      <th>95</th>\n",
       "      <td>0.713043</td>\n",
       "      <td>0.713043</td>\n",
       "      <td>0.713043</td>\n",
       "      <td>0.713043</td>\n",
       "      <td>100</td>\n",
       "      <td>10</td>\n",
       "      <td>1</td>\n",
       "      <td>4144742.011</td>\n",
       "    </tr>\n",
       "    <tr>\n",
       "      <th>96</th>\n",
       "      <td>0.713043</td>\n",
       "      <td>0.713043</td>\n",
       "      <td>0.713043</td>\n",
       "      <td>0.713043</td>\n",
       "      <td>100</td>\n",
       "      <td>10</td>\n",
       "      <td>2</td>\n",
       "      <td>4149634.476</td>\n",
       "    </tr>\n",
       "    <tr>\n",
       "      <th>97</th>\n",
       "      <td>0.704348</td>\n",
       "      <td>0.704348</td>\n",
       "      <td>0.704348</td>\n",
       "      <td>0.704348</td>\n",
       "      <td>100</td>\n",
       "      <td>10</td>\n",
       "      <td>10</td>\n",
       "      <td>4162665.415</td>\n",
       "    </tr>\n",
       "    <tr>\n",
       "      <th>98</th>\n",
       "      <td>0.721739</td>\n",
       "      <td>0.721739</td>\n",
       "      <td>0.721739</td>\n",
       "      <td>0.721739</td>\n",
       "      <td>100</td>\n",
       "      <td>10</td>\n",
       "      <td>30</td>\n",
       "      <td>4153645.645</td>\n",
       "    </tr>\n",
       "    <tr>\n",
       "      <th>99</th>\n",
       "      <td>0.730435</td>\n",
       "      <td>0.730435</td>\n",
       "      <td>0.730435</td>\n",
       "      <td>0.730435</td>\n",
       "      <td>100</td>\n",
       "      <td>10</td>\n",
       "      <td>50</td>\n",
       "      <td>4148109.018</td>\n",
       "    </tr>\n",
       "  </tbody>\n",
       "</table>\n",
       "<p>100 rows × 8 columns</p>\n",
       "</div>"
      ],
      "text/plain": [
       "         acc  precision        f1    recall  nclust  sliding   k            t\n",
       "0   0.713043   0.713043  0.713043  0.713043       2        2   1  3546647.006\n",
       "1   0.713043   0.713043  0.713043  0.713043       2        2   2  3547816.237\n",
       "2   0.721739   0.721739  0.721739  0.721739       2        2  10  3546867.370\n",
       "3   0.721739   0.721739  0.721739  0.721739       2        2  30  3547898.232\n",
       "4   0.730435   0.730435  0.730435  0.730435       2        2  50  3548640.011\n",
       "..       ...        ...       ...       ...     ...      ...  ..          ...\n",
       "95  0.713043   0.713043  0.713043  0.713043     100       10   1  4144742.011\n",
       "96  0.713043   0.713043  0.713043  0.713043     100       10   2  4149634.476\n",
       "97  0.704348   0.704348  0.704348  0.704348     100       10  10  4162665.415\n",
       "98  0.721739   0.721739  0.721739  0.721739     100       10  30  4153645.645\n",
       "99  0.730435   0.730435  0.730435  0.730435     100       10  50  4148109.018\n",
       "\n",
       "[100 rows x 8 columns]"
      ]
     },
     "execution_count": 89,
     "metadata": {},
     "output_type": "execute_result"
    }
   ],
   "source": [
    "df_res = pd.DataFrame(res_val, columns=[\"acc\", \"precision\", \"f1\", \"recall\"])\n",
    "\n",
    "df_res[[\"nclust\", \"sliding\", \"k\"]] = conf\n",
    "\n",
    "df_res[\"t\"] = res_t\n",
    "\n",
    "df_res[\"t\"] += 3492*1000\n",
    "\n",
    "df_res.to_csv(\"Vehicle search multiple rappresentation precision 6.csv\", index=None)\n",
    "\n",
    "df_res"
   ]
  },
  {
   "cell_type": "code",
   "execution_count": 92,
   "metadata": {},
   "outputs": [
    {
     "data": {
      "text/html": [
       "<div>\n",
       "<style scoped>\n",
       "    .dataframe tbody tr th:only-of-type {\n",
       "        vertical-align: middle;\n",
       "    }\n",
       "\n",
       "    .dataframe tbody tr th {\n",
       "        vertical-align: top;\n",
       "    }\n",
       "\n",
       "    .dataframe thead th {\n",
       "        text-align: right;\n",
       "    }\n",
       "</style>\n",
       "<table border=\"1\" class=\"dataframe\">\n",
       "  <thead>\n",
       "    <tr style=\"text-align: right;\">\n",
       "      <th></th>\n",
       "      <th>acc</th>\n",
       "      <th>precision</th>\n",
       "      <th>f1</th>\n",
       "      <th>recall</th>\n",
       "      <th>nclust</th>\n",
       "      <th>sliding</th>\n",
       "      <th>k</th>\n",
       "      <th>t</th>\n",
       "    </tr>\n",
       "  </thead>\n",
       "  <tbody>\n",
       "    <tr>\n",
       "      <th>89</th>\n",
       "      <td>0.791304</td>\n",
       "      <td>0.791304</td>\n",
       "      <td>0.791304</td>\n",
       "      <td>0.791304</td>\n",
       "      <td>100</td>\n",
       "      <td>3</td>\n",
       "      <td>50</td>\n",
       "      <td>4313920.387</td>\n",
       "    </tr>\n",
       "    <tr>\n",
       "      <th>87</th>\n",
       "      <td>0.791304</td>\n",
       "      <td>0.791304</td>\n",
       "      <td>0.791304</td>\n",
       "      <td>0.791304</td>\n",
       "      <td>100</td>\n",
       "      <td>3</td>\n",
       "      <td>10</td>\n",
       "      <td>4242672.643</td>\n",
       "    </tr>\n",
       "    <tr>\n",
       "      <th>69</th>\n",
       "      <td>0.791304</td>\n",
       "      <td>0.791304</td>\n",
       "      <td>0.791304</td>\n",
       "      <td>0.791304</td>\n",
       "      <td>20</td>\n",
       "      <td>3</td>\n",
       "      <td>50</td>\n",
       "      <td>3676550.699</td>\n",
       "    </tr>\n",
       "    <tr>\n",
       "      <th>23</th>\n",
       "      <td>0.791304</td>\n",
       "      <td>0.791304</td>\n",
       "      <td>0.791304</td>\n",
       "      <td>0.791304</td>\n",
       "      <td>5</td>\n",
       "      <td>2</td>\n",
       "      <td>30</td>\n",
       "      <td>3557958.989</td>\n",
       "    </tr>\n",
       "    <tr>\n",
       "      <th>67</th>\n",
       "      <td>0.782609</td>\n",
       "      <td>0.782609</td>\n",
       "      <td>0.782609</td>\n",
       "      <td>0.782609</td>\n",
       "      <td>20</td>\n",
       "      <td>3</td>\n",
       "      <td>10</td>\n",
       "      <td>3675986.895</td>\n",
       "    </tr>\n",
       "  </tbody>\n",
       "</table>\n",
       "</div>"
      ],
      "text/plain": [
       "         acc  precision        f1    recall  nclust  sliding   k            t\n",
       "89  0.791304   0.791304  0.791304  0.791304     100        3  50  4313920.387\n",
       "87  0.791304   0.791304  0.791304  0.791304     100        3  10  4242672.643\n",
       "69  0.791304   0.791304  0.791304  0.791304      20        3  50  3676550.699\n",
       "23  0.791304   0.791304  0.791304  0.791304       5        2  30  3557958.989\n",
       "67  0.782609   0.782609  0.782609  0.782609      20        3  10  3675986.895"
      ]
     },
     "execution_count": 92,
     "metadata": {},
     "output_type": "execute_result"
    }
   ],
   "source": [
    "df_res.sort_values(by=\"acc\", ascending=False).head()"
   ]
  },
  {
   "cell_type": "code",
   "execution_count": 30,
   "metadata": {},
   "outputs": [
    {
     "name": "stdout",
     "output_type": "stream",
     "text": [
      "Fitting 10 folds for each of 42 candidates, totalling 420 fits\n",
      "Model with rank: 1\n",
      "Mean validation score: 0.726 (std: 0.052)\n",
      "Parameters: {'max_depth': 2, 'n_estimators': 400}\n",
      "\n",
      "Model with rank: 1\n",
      "Mean validation score: 0.726 (std: 0.052)\n",
      "Parameters: {'max_depth': 2, 'n_estimators': 700}\n",
      "\n",
      "Model with rank: 1\n",
      "Mean validation score: 0.726 (std: 0.052)\n",
      "Parameters: {'max_depth': 2, 'n_estimators': 1000}\n",
      "\n",
      "Model with rank: 1\n",
      "Mean validation score: 0.726 (std: 0.052)\n",
      "Parameters: {'max_depth': 2, 'n_estimators': 1300}\n",
      "\n",
      "Model with rank: 1\n",
      "Mean validation score: 0.726 (std: 0.052)\n",
      "Parameters: {'max_depth': 5, 'n_estimators': 100}\n",
      "\n",
      "Model with rank: 1\n",
      "Mean validation score: 0.726 (std: 0.052)\n",
      "Parameters: {'max_depth': 5, 'n_estimators': 1000}\n",
      "\n",
      "Model with rank: 1\n",
      "Mean validation score: 0.726 (std: 0.052)\n",
      "Parameters: {'max_depth': 5, 'n_estimators': 1300}\n",
      "\n",
      "Model with rank: 1\n",
      "Mean validation score: 0.726 (std: 0.052)\n",
      "Parameters: {'max_depth': 5, 'n_estimators': 1600}\n",
      "\n",
      "Model with rank: 1\n",
      "Mean validation score: 0.726 (std: 0.052)\n",
      "Parameters: {'max_depth': 8, 'n_estimators': 400}\n",
      "\n",
      "Model with rank: 1\n",
      "Mean validation score: 0.726 (std: 0.052)\n",
      "Parameters: {'max_depth': 8, 'n_estimators': 700}\n",
      "\n",
      "Model with rank: 1\n",
      "Mean validation score: 0.726 (std: 0.052)\n",
      "Parameters: {'max_depth': 8, 'n_estimators': 1900}\n",
      "\n",
      "Model with rank: 1\n",
      "Mean validation score: 0.726 (std: 0.052)\n",
      "Parameters: {'max_depth': 11, 'n_estimators': 1000}\n",
      "\n",
      "Model with rank: 1\n",
      "Mean validation score: 0.726 (std: 0.052)\n",
      "Parameters: {'max_depth': 14, 'n_estimators': 400}\n",
      "\n",
      "Model with rank: 1\n",
      "Mean validation score: 0.726 (std: 0.052)\n",
      "Parameters: {'max_depth': 14, 'n_estimators': 700}\n",
      "\n",
      "Model with rank: 1\n",
      "Mean validation score: 0.726 (std: 0.052)\n",
      "Parameters: {'max_depth': 14, 'n_estimators': 1000}\n",
      "\n",
      "Model with rank: 1\n",
      "Mean validation score: 0.726 (std: 0.052)\n",
      "Parameters: {'max_depth': 14, 'n_estimators': 1300}\n",
      "\n",
      "Model with rank: 1\n",
      "Mean validation score: 0.726 (std: 0.052)\n",
      "Parameters: {'max_depth': 14, 'n_estimators': 1900}\n",
      "\n",
      "Model with rank: 1\n",
      "Mean validation score: 0.726 (std: 0.052)\n",
      "Parameters: {'max_depth': 17, 'n_estimators': 400}\n",
      "\n",
      "Model with rank: 1\n",
      "Mean validation score: 0.726 (std: 0.052)\n",
      "Parameters: {'max_depth': 17, 'n_estimators': 1600}\n",
      "\n"
     ]
    }
   ],
   "source": [
    "from sklearn.tree import DecisionTreeClassifier\n",
    "from sklearn.ensemble import RandomForestClassifier\n",
    "from sklearn.model_selection import GridSearchCV\n",
    "\n",
    "tree_para = {'n_estimators':range(100, 1500, 300),\n",
    "             'max_depth':range(2, 18, 3)}\n",
    "gs = GridSearchCV(RandomForestClassifier(), tree_para, cv=10, n_jobs=12, verbose=3)\n",
    "result = gs.fit(X_train, y_train)\n",
    "\n",
    "report(gs.cv_results_, n_top=1)"
   ]
  },
  {
   "cell_type": "code",
   "execution_count": 34,
   "metadata": {},
   "outputs": [
    {
     "name": "stdout",
     "output_type": "stream",
     "text": [
      "              precision    recall  f1-score   support\n",
      "\n",
      "           B       1.00      0.09      0.17        33\n",
      "           T       0.73      1.00      0.85        82\n",
      "\n",
      "    accuracy                           0.74       115\n",
      "   macro avg       0.87      0.55      0.51       115\n",
      "weighted avg       0.81      0.74      0.65       115\n",
      "\n"
     ]
    }
   ],
   "source": [
    "from sklearn.ensemble import RandomForestClassifier\n",
    "\n",
    "clf = RandomForestClassifier(max_depth=2, random_state=3, n_jobs=-1, n_estimators=400)\n",
    "\n",
    "clf.fit(X_train, y_train)\n",
    "y_pred = clf.predict(X_test)\n",
    "\n",
    "from sklearn.metrics import classification_report\n",
    "\n",
    "print(classification_report(y_test, y_pred))"
   ]
  },
  {
   "cell_type": "code",
   "execution_count": null,
   "metadata": {},
   "outputs": [],
   "source": []
  },
  {
   "cell_type": "code",
   "execution_count": 37,
   "metadata": {},
   "outputs": [
    {
     "name": "stdout",
     "output_type": "stream",
     "text": [
      "              precision    recall  f1-score   support\n",
      "\n",
      "           B       1.00      0.09      0.17        33\n",
      "           T       0.73      1.00      0.85        82\n",
      "\n",
      "    accuracy                           0.74       115\n",
      "   macro avg       0.87      0.55      0.51       115\n",
      "weighted avg       0.81      0.74      0.65       115\n",
      "\n"
     ]
    }
   ],
   "source": [
    "print(classification_report(y_test, result.best_estimator_.fit(X_train, y_train).predict(X_test)))"
   ]
  }
 ],
 "metadata": {
  "kernelspec": {
   "display_name": "Python 3 (ipykernel)",
   "language": "python",
   "name": "python3"
  },
  "language_info": {
   "codemirror_mode": {
    "name": "ipython",
    "version": 3
   },
   "file_extension": ".py",
   "mimetype": "text/x-python",
   "name": "python",
   "nbconvert_exporter": "python",
   "pygments_lexer": "ipython3",
   "version": "3.7.6"
  }
 },
 "nbformat": 4,
 "nbformat_minor": 1
}
