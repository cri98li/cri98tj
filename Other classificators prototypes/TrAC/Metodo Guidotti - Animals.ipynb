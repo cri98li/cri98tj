{
 "cells": [
  {
   "cell_type": "markdown",
   "metadata": {
    "collapsed": true,
    "pycharm": {
     "name": "#%% md\n"
    }
   },
   "source": [
    "# Metodo guidotti\n",
    "L'idea è quella di trasformare ogni traiettoria in una sequenza di simboli, estrarre i motif e usarli per classificare"
   ]
  },
  {
   "cell_type": "code",
   "execution_count": 1,
   "metadata": {
    "pycharm": {
     "name": "#%%\n"
    }
   },
   "outputs": [
    {
     "data": {
      "text/html": [
       "<div>\n",
       "<style scoped>\n",
       "    .dataframe tbody tr th:only-of-type {\n",
       "        vertical-align: middle;\n",
       "    }\n",
       "\n",
       "    .dataframe tbody tr th {\n",
       "        vertical-align: top;\n",
       "    }\n",
       "\n",
       "    .dataframe thead th {\n",
       "        text-align: right;\n",
       "    }\n",
       "</style>\n",
       "<table border=\"1\" class=\"dataframe\">\n",
       "  <thead>\n",
       "    <tr style=\"text-align: right;\">\n",
       "      <th></th>\n",
       "      <th>tid</th>\n",
       "      <th>class</th>\n",
       "      <th>t</th>\n",
       "      <th>c1</th>\n",
       "      <th>c2</th>\n",
       "    </tr>\n",
       "  </thead>\n",
       "  <tbody>\n",
       "    <tr>\n",
       "      <th>0</th>\n",
       "      <td>0</td>\n",
       "      <td>D</td>\n",
       "      <td>0</td>\n",
       "      <td>50.1066</td>\n",
       "      <td>3.79665</td>\n",
       "    </tr>\n",
       "    <tr>\n",
       "      <th>1</th>\n",
       "      <td>0</td>\n",
       "      <td>D</td>\n",
       "      <td>4</td>\n",
       "      <td>50.1045</td>\n",
       "      <td>3.79455</td>\n",
       "    </tr>\n",
       "    <tr>\n",
       "      <th>2</th>\n",
       "      <td>0</td>\n",
       "      <td>D</td>\n",
       "      <td>7</td>\n",
       "      <td>50.1111</td>\n",
       "      <td>3.79845</td>\n",
       "    </tr>\n",
       "    <tr>\n",
       "      <th>3</th>\n",
       "      <td>0</td>\n",
       "      <td>D</td>\n",
       "      <td>9</td>\n",
       "      <td>50.1072</td>\n",
       "      <td>3.79845</td>\n",
       "    </tr>\n",
       "    <tr>\n",
       "      <th>4</th>\n",
       "      <td>0</td>\n",
       "      <td>D</td>\n",
       "      <td>15</td>\n",
       "      <td>50.1132</td>\n",
       "      <td>3.79965</td>\n",
       "    </tr>\n",
       "  </tbody>\n",
       "</table>\n",
       "</div>"
      ],
      "text/plain": [
       "   tid class   t       c1       c2\n",
       "0    0     D   0  50.1066  3.79665\n",
       "1    0     D   4  50.1045  3.79455\n",
       "2    0     D   7  50.1111  3.79845\n",
       "3    0     D   9  50.1072  3.79845\n",
       "4    0     D  15  50.1132  3.79965"
      ]
     },
     "execution_count": 1,
     "metadata": {},
     "output_type": "execute_result"
    }
   ],
   "source": [
    "import time\n",
    "from concurrent.futures import ThreadPoolExecutor\n",
    "import matplotlib.pyplot as plt\n",
    "import numpy as np\n",
    "import pandas as pd\n",
    "from tqdm.notebook import tqdm\n",
    "import math\n",
    "from datetime import timedelta, datetime\n",
    "import plotly.express as px\n",
    "from geolib import geohash\n",
    "from sklearn.model_selection import train_test_split\n",
    "from sklearn_extra.cluster import KMedoids\n",
    "\n",
    "\n",
    "executor = ThreadPoolExecutor(max_workers=12)\n",
    "\n",
    "df = pd.read_csv(\"../../examples/Animals Dataset/data/animals_preapred.zip\").sort_values(by=[\"tid\", 't'])\n",
    "\n",
    "df.tid -= df.tid.min()\n",
    "\n",
    "def report(results, n_top=3):\n",
    "    for i in range(1, n_top + 1):\n",
    "        candidates = np.flatnonzero(results['rank_test_score'] == i)\n",
    "        for candidate in candidates:\n",
    "            print(\"Model with rank: {0}\".format(i))\n",
    "            print(\"Mean validation score: {0:.3f} (std: {1:.3f})\".format(\n",
    "                results['mean_test_score'][candidate],\n",
    "                results['std_test_score'][candidate]))\n",
    "            print(\"Parameters: {0}\".format(results['params'][candidate]))\n",
    "            print(\"\")\n",
    "\n",
    "df.head()"
   ]
  },
  {
   "cell_type": "code",
   "execution_count": 35,
   "metadata": {
    "pycharm": {
     "name": "#%%\n"
    }
   },
   "outputs": [],
   "source": [
    "t = 0"
   ]
  },
  {
   "cell_type": "code",
   "execution_count": 36,
   "metadata": {
    "pycharm": {
     "name": "#%%\n"
    }
   },
   "outputs": [
    {
     "data": {
      "application/vnd.jupyter.widget-view+json": {
       "model_id": "40e680d57c1f4accad0c424ae5c08454",
       "version_major": 2,
       "version_minor": 0
      },
      "text/plain": [
       "  0%|          | 0/14990 [00:00<?, ?it/s]"
      ]
     },
     "metadata": {},
     "output_type": "display_data"
    },
    {
     "name": "stdout",
     "output_type": "stream",
     "text": [
      "Wall time: 1.1 s\n"
     ]
    }
   ],
   "source": [
    "%%time\n",
    "\n",
    "start = datetime.now()\n",
    "\n",
    "precision =  4 #da 1 a 12\n",
    "\n",
    "df[\"geohash\"] = [geohash.encode(x[0], x[1], precision) for x in tqdm(df[[\"c1\", \"c2\"]].values)]\n",
    "\n",
    "t += (datetime.now()-start).total_seconds()*1000"
   ]
  },
  {
   "cell_type": "code",
   "execution_count": 37,
   "metadata": {},
   "outputs": [
    {
     "data": {
      "text/plain": [
       "1103.001"
      ]
     },
     "execution_count": 37,
     "metadata": {},
     "output_type": "execute_result"
    }
   ],
   "source": [
    "t"
   ]
  },
  {
   "cell_type": "code",
   "execution_count": 38,
   "metadata": {
    "pycharm": {
     "name": "#%%\n"
    }
   },
   "outputs": [
    {
     "data": {
      "application/vnd.jupyter.widget-view+json": {
       "model_id": "1fa0fa57f9f44ca0b5049fb900460613",
       "version_major": 2,
       "version_minor": 0
      },
      "text/plain": [
       "  0%|          | 0/2 [00:00<?, ?it/s]"
      ]
     },
     "metadata": {},
     "output_type": "display_data"
    },
    {
     "name": "stdout",
     "output_type": "stream",
     "text": [
      "Wall time: 256 ms\n"
     ]
    }
   ],
   "source": [
    "%%time\n",
    "\n",
    "start = datetime.now()\n",
    "\n",
    "decodes = dict()\n",
    "\n",
    "for gh in tqdm(df.geohash.unique()):\n",
    "    decodes[gh] = geohash.bounds(gh)\n",
    "\n",
    "l = []\n",
    "prec = \"!\"\n",
    "c = -1\n",
    "for gh in df.geohash:\n",
    "    if gh != prec:\n",
    "        prec = gh\n",
    "        c += 1\n",
    "    l.append(gh+\"_\"+str(c))\n",
    "\n",
    "df[\"geohash2\"] = l\n",
    "\n",
    "df[\"lat_norm\"] = df.c1 - df.geohash.transform(lambda x: decodes[x].sw.lat)\n",
    "df[\"lon_norm\"] = df.c2 - df.geohash.transform(lambda x: decodes[x].sw.lon)\n",
    "\n",
    "t += (datetime.now()-start).total_seconds()*1000"
   ]
  },
  {
   "cell_type": "code",
   "execution_count": 39,
   "metadata": {
    "pycharm": {
     "name": "#%%\n"
    }
   },
   "outputs": [
    {
     "data": {
      "application/vnd.plotly.v1+json": {
       "config": {
        "plotlyServerURL": "https://plot.ly"
       },
       "data": [
        {
         "hovertemplate": "geohash2=u0ft_0<br>t=%{x}<br>c1=%{y}<br>c2=%{z}<extra></extra>",
         "legendgroup": "u0ft_0",
         "line": {
          "color": "#636efa",
          "dash": "solid"
         },
         "marker": {
          "symbol": "circle"
         },
         "mode": "lines",
         "name": "u0ft_0",
         "scene": "scene",
         "showlegend": true,
         "type": "scatter3d",
         "x": [
          0,
          46,
          48,
          59,
          60,
          71,
          78,
          80,
          82,
          88,
          96,
          97,
          106,
          117,
          118,
          122,
          123,
          125,
          129,
          130,
          134,
          141,
          143,
          145,
          148,
          154,
          161,
          164,
          166,
          175,
          178,
          180,
          185,
          189,
          191,
          192,
          194,
          196,
          201,
          228,
          237,
          240,
          242,
          245,
          247,
          249,
          261,
          263,
          267,
          268,
          274,
          275,
          277,
          284,
          286,
          288,
          290,
          294,
          297,
          300,
          302,
          309,
          311,
          313,
          316,
          318,
          320,
          322,
          323,
          329,
          330,
          334,
          339,
          341,
          341,
          342,
          342,
          343,
          347,
          352,
          354,
          356,
          358,
          359,
          361,
          363,
          364,
          366,
          370,
          371,
          373,
          377,
          379,
          380,
          384,
          386,
          387,
          389,
          391,
          393,
          395,
          396,
          405,
          407,
          410,
          414,
          416,
          418,
          419,
          421,
          430,
          432,
          434,
          435,
          439,
          441,
          443,
          453,
          461,
          465,
          467,
          479,
          483,
          485,
          487,
          489,
          491,
          493,
          494,
          497,
          499,
          501,
          503,
          505,
          506,
          509,
          511,
          513,
          515,
          517,
          519,
          521,
          523,
          525,
          527,
          529,
          531,
          533,
          537,
          538,
          540,
          542,
          544,
          549,
          550,
          558,
          564,
          566,
          568,
          570,
          572,
          574,
          576,
          580,
          582,
          584,
          586,
          592,
          594,
          598,
          600,
          602,
          604,
          606,
          609,
          611,
          614,
          617,
          623,
          627,
          629,
          635,
          637,
          639,
          643,
          645,
          647,
          649,
          651,
          653,
          655,
          659,
          661,
          665,
          669,
          671,
          673,
          677,
          681,
          692,
          694,
          696,
          697,
          699,
          708,
          710,
          712
         ],
         "y": [
          50.145,
          50.1267,
          50.1243,
          50.1234,
          50.1222,
          50.13,
          50.1456,
          50.1408,
          50.1366,
          50.1342,
          50.1333,
          50.1321,
          50.1327,
          50.1318,
          50.1312,
          50.1303,
          50.1327,
          50.1336,
          50.1312,
          50.127,
          50.1306,
          50.1294,
          50.1267,
          50.1444,
          50.1456,
          50.1426,
          50.1483,
          50.1312,
          50.1351,
          50.121,
          50.1207,
          50.1216,
          50.157,
          50.1561,
          50.1456,
          50.1462,
          50.1408,
          50.1417,
          50.1405,
          50.1303,
          50.1285,
          50.1267,
          50.127,
          50.1267,
          50.1267,
          50.1264,
          50.1306,
          50.1324,
          50.1294,
          50.1285,
          50.1285,
          50.1288,
          50.1285,
          50.1282,
          50.1291,
          50.1282,
          50.1282,
          50.1285,
          50.1279,
          50.1273,
          50.1264,
          50.1255,
          50.1252,
          50.1255,
          50.124,
          50.124,
          50.1252,
          50.1246,
          50.1258,
          50.1249,
          50.1255,
          50.1258,
          50.124,
          50.1237,
          50.124,
          50.1243,
          50.1246,
          50.1255,
          50.1258,
          50.1258,
          50.1255,
          50.1258,
          50.1258,
          50.1255,
          50.1291,
          50.1267,
          50.1297,
          50.1291,
          50.1291,
          50.1297,
          50.1249,
          50.1288,
          50.1297,
          50.1276,
          50.1264,
          50.1225,
          50.1222,
          50.1222,
          50.1231,
          50.1237,
          50.1228,
          50.1237,
          50.124,
          50.1237,
          50.1252,
          50.1222,
          50.1213,
          50.1258,
          50.1255,
          50.1318,
          50.133,
          50.1324,
          50.1327,
          50.1324,
          50.1348,
          50.1321,
          50.1324,
          50.1336,
          50.1345,
          50.1342,
          50.1348,
          50.1351,
          50.1351,
          50.1369,
          50.1363,
          50.136,
          50.1351,
          50.1345,
          50.1345,
          50.1354,
          50.1348,
          50.1354,
          50.1357,
          50.136,
          50.1354,
          50.1366,
          50.1372,
          50.1366,
          50.1357,
          50.1348,
          50.1351,
          50.1348,
          50.1357,
          50.1354,
          50.1348,
          50.1345,
          50.1348,
          50.1351,
          50.1345,
          50.1348,
          50.1345,
          50.1345,
          50.1348,
          50.1357,
          50.1315,
          50.1309,
          50.1318,
          50.1297,
          50.1294,
          50.1303,
          50.1303,
          50.1297,
          50.1306,
          50.1297,
          50.13,
          50.1306,
          50.1306,
          50.1321,
          50.1315,
          50.1324,
          50.1324,
          50.1336,
          50.1333,
          50.1333,
          50.1333,
          50.1339,
          50.1324,
          50.1318,
          50.1297,
          50.13,
          50.1291,
          50.1297,
          50.1291,
          50.1285,
          50.1294,
          50.1291,
          50.1327,
          50.133,
          50.133,
          50.133,
          50.1318,
          50.1318,
          50.1333,
          50.1333,
          50.1333,
          50.1309,
          50.1309,
          50.1306,
          50.1297,
          50.1309,
          50.1294,
          50.1303,
          50.1267,
          50.1297,
          50.1303,
          50.1309,
          50.13
         ],
         "z": [
          3.77175,
          3.77475,
          3.77595,
          3.77505,
          3.77295,
          3.78345,
          3.77385,
          3.77055,
          3.76845,
          3.76245,
          3.76095,
          3.76035,
          3.76185,
          3.75915,
          3.75945,
          3.76185,
          3.75945,
          3.76215,
          3.76365,
          3.76335,
          3.76905,
          3.76695,
          3.76395,
          3.76875,
          3.76935,
          3.76575,
          3.76725,
          3.76335,
          3.76275,
          3.76815,
          3.76575,
          3.76785,
          3.77655,
          3.77745,
          3.77145,
          3.77595,
          3.77175,
          3.77235,
          3.77145,
          3.76935,
          3.76605,
          3.76665,
          3.76665,
          3.76365,
          3.76605,
          3.76545,
          3.76335,
          3.75825,
          3.75405,
          3.75435,
          3.75405,
          3.75285,
          3.75315,
          3.75375,
          3.75285,
          3.75225,
          3.75165,
          3.75195,
          3.75225,
          3.75435,
          3.75135,
          3.75225,
          3.75195,
          3.75195,
          3.74985,
          3.75255,
          3.75225,
          3.75135,
          3.75165,
          3.75015,
          3.75135,
          3.75225,
          3.75105,
          3.75165,
          3.75135,
          3.75255,
          3.75255,
          3.75255,
          3.75315,
          3.75285,
          3.75165,
          3.75135,
          3.75165,
          3.75375,
          3.75315,
          3.75165,
          3.75435,
          3.75345,
          3.75255,
          3.75255,
          3.75255,
          3.75285,
          3.75165,
          3.75765,
          3.75255,
          3.75555,
          3.75465,
          3.75495,
          3.75495,
          3.75495,
          3.75405,
          3.75315,
          3.75465,
          3.75405,
          3.75495,
          3.75345,
          3.75255,
          3.75225,
          3.75195,
          3.75405,
          3.75435,
          3.75345,
          3.75405,
          3.75435,
          3.75435,
          3.75825,
          3.75945,
          3.76125,
          3.76365,
          3.76365,
          3.76275,
          3.76335,
          3.76305,
          3.76725,
          3.76755,
          3.76695,
          3.76635,
          3.76695,
          3.76755,
          3.76785,
          3.76725,
          3.76635,
          3.76995,
          3.76845,
          3.76665,
          3.76785,
          3.76905,
          3.76575,
          3.76875,
          3.76935,
          3.76875,
          3.76845,
          3.76905,
          3.76875,
          3.76935,
          3.77025,
          3.77055,
          3.77055,
          3.77025,
          3.76965,
          3.76995,
          3.76965,
          3.76875,
          3.77175,
          3.76905,
          3.77175,
          3.77175,
          3.76755,
          3.76725,
          3.76665,
          3.76635,
          3.76605,
          3.76425,
          3.76305,
          3.76395,
          3.76425,
          3.76365,
          3.76245,
          3.76125,
          3.76335,
          3.76065,
          3.76245,
          3.76185,
          3.76125,
          3.76005,
          3.76275,
          3.76305,
          3.76275,
          3.76635,
          3.76605,
          3.76305,
          3.76815,
          3.76695,
          3.76605,
          3.76665,
          3.76725,
          3.76065,
          3.76035,
          3.76035,
          3.76065,
          3.76005,
          3.76095,
          3.76035,
          3.76095,
          3.76185,
          3.76845,
          3.76785,
          3.76935,
          3.76845,
          3.76875,
          3.76875,
          3.76305,
          3.76905,
          3.76755,
          3.76845,
          3.76635,
          3.76695
         ]
        }
       ],
       "layout": {
        "legend": {
         "title": {
          "text": "geohash2"
         },
         "tracegroupgap": 0
        },
        "margin": {
         "t": 60
        },
        "scene": {
         "domain": {
          "x": [
           0,
           1
          ],
          "y": [
           0,
           1
          ]
         },
         "xaxis": {
          "title": {
           "text": "t"
          }
         },
         "yaxis": {
          "title": {
           "text": "c1"
          }
         },
         "zaxis": {
          "title": {
           "text": "c2"
          }
         }
        },
        "template": {
         "data": {
          "bar": [
           {
            "error_x": {
             "color": "#2a3f5f"
            },
            "error_y": {
             "color": "#2a3f5f"
            },
            "marker": {
             "line": {
              "color": "#E5ECF6",
              "width": 0.5
             },
             "pattern": {
              "fillmode": "overlay",
              "size": 10,
              "solidity": 0.2
             }
            },
            "type": "bar"
           }
          ],
          "barpolar": [
           {
            "marker": {
             "line": {
              "color": "#E5ECF6",
              "width": 0.5
             },
             "pattern": {
              "fillmode": "overlay",
              "size": 10,
              "solidity": 0.2
             }
            },
            "type": "barpolar"
           }
          ],
          "carpet": [
           {
            "aaxis": {
             "endlinecolor": "#2a3f5f",
             "gridcolor": "white",
             "linecolor": "white",
             "minorgridcolor": "white",
             "startlinecolor": "#2a3f5f"
            },
            "baxis": {
             "endlinecolor": "#2a3f5f",
             "gridcolor": "white",
             "linecolor": "white",
             "minorgridcolor": "white",
             "startlinecolor": "#2a3f5f"
            },
            "type": "carpet"
           }
          ],
          "choropleth": [
           {
            "colorbar": {
             "outlinewidth": 0,
             "ticks": ""
            },
            "type": "choropleth"
           }
          ],
          "contour": [
           {
            "colorbar": {
             "outlinewidth": 0,
             "ticks": ""
            },
            "colorscale": [
             [
              0,
              "#0d0887"
             ],
             [
              0.1111111111111111,
              "#46039f"
             ],
             [
              0.2222222222222222,
              "#7201a8"
             ],
             [
              0.3333333333333333,
              "#9c179e"
             ],
             [
              0.4444444444444444,
              "#bd3786"
             ],
             [
              0.5555555555555556,
              "#d8576b"
             ],
             [
              0.6666666666666666,
              "#ed7953"
             ],
             [
              0.7777777777777778,
              "#fb9f3a"
             ],
             [
              0.8888888888888888,
              "#fdca26"
             ],
             [
              1,
              "#f0f921"
             ]
            ],
            "type": "contour"
           }
          ],
          "contourcarpet": [
           {
            "colorbar": {
             "outlinewidth": 0,
             "ticks": ""
            },
            "type": "contourcarpet"
           }
          ],
          "heatmap": [
           {
            "colorbar": {
             "outlinewidth": 0,
             "ticks": ""
            },
            "colorscale": [
             [
              0,
              "#0d0887"
             ],
             [
              0.1111111111111111,
              "#46039f"
             ],
             [
              0.2222222222222222,
              "#7201a8"
             ],
             [
              0.3333333333333333,
              "#9c179e"
             ],
             [
              0.4444444444444444,
              "#bd3786"
             ],
             [
              0.5555555555555556,
              "#d8576b"
             ],
             [
              0.6666666666666666,
              "#ed7953"
             ],
             [
              0.7777777777777778,
              "#fb9f3a"
             ],
             [
              0.8888888888888888,
              "#fdca26"
             ],
             [
              1,
              "#f0f921"
             ]
            ],
            "type": "heatmap"
           }
          ],
          "heatmapgl": [
           {
            "colorbar": {
             "outlinewidth": 0,
             "ticks": ""
            },
            "colorscale": [
             [
              0,
              "#0d0887"
             ],
             [
              0.1111111111111111,
              "#46039f"
             ],
             [
              0.2222222222222222,
              "#7201a8"
             ],
             [
              0.3333333333333333,
              "#9c179e"
             ],
             [
              0.4444444444444444,
              "#bd3786"
             ],
             [
              0.5555555555555556,
              "#d8576b"
             ],
             [
              0.6666666666666666,
              "#ed7953"
             ],
             [
              0.7777777777777778,
              "#fb9f3a"
             ],
             [
              0.8888888888888888,
              "#fdca26"
             ],
             [
              1,
              "#f0f921"
             ]
            ],
            "type": "heatmapgl"
           }
          ],
          "histogram": [
           {
            "marker": {
             "pattern": {
              "fillmode": "overlay",
              "size": 10,
              "solidity": 0.2
             }
            },
            "type": "histogram"
           }
          ],
          "histogram2d": [
           {
            "colorbar": {
             "outlinewidth": 0,
             "ticks": ""
            },
            "colorscale": [
             [
              0,
              "#0d0887"
             ],
             [
              0.1111111111111111,
              "#46039f"
             ],
             [
              0.2222222222222222,
              "#7201a8"
             ],
             [
              0.3333333333333333,
              "#9c179e"
             ],
             [
              0.4444444444444444,
              "#bd3786"
             ],
             [
              0.5555555555555556,
              "#d8576b"
             ],
             [
              0.6666666666666666,
              "#ed7953"
             ],
             [
              0.7777777777777778,
              "#fb9f3a"
             ],
             [
              0.8888888888888888,
              "#fdca26"
             ],
             [
              1,
              "#f0f921"
             ]
            ],
            "type": "histogram2d"
           }
          ],
          "histogram2dcontour": [
           {
            "colorbar": {
             "outlinewidth": 0,
             "ticks": ""
            },
            "colorscale": [
             [
              0,
              "#0d0887"
             ],
             [
              0.1111111111111111,
              "#46039f"
             ],
             [
              0.2222222222222222,
              "#7201a8"
             ],
             [
              0.3333333333333333,
              "#9c179e"
             ],
             [
              0.4444444444444444,
              "#bd3786"
             ],
             [
              0.5555555555555556,
              "#d8576b"
             ],
             [
              0.6666666666666666,
              "#ed7953"
             ],
             [
              0.7777777777777778,
              "#fb9f3a"
             ],
             [
              0.8888888888888888,
              "#fdca26"
             ],
             [
              1,
              "#f0f921"
             ]
            ],
            "type": "histogram2dcontour"
           }
          ],
          "mesh3d": [
           {
            "colorbar": {
             "outlinewidth": 0,
             "ticks": ""
            },
            "type": "mesh3d"
           }
          ],
          "parcoords": [
           {
            "line": {
             "colorbar": {
              "outlinewidth": 0,
              "ticks": ""
             }
            },
            "type": "parcoords"
           }
          ],
          "pie": [
           {
            "automargin": true,
            "type": "pie"
           }
          ],
          "scatter": [
           {
            "fillpattern": {
             "fillmode": "overlay",
             "size": 10,
             "solidity": 0.2
            },
            "type": "scatter"
           }
          ],
          "scatter3d": [
           {
            "line": {
             "colorbar": {
              "outlinewidth": 0,
              "ticks": ""
             }
            },
            "marker": {
             "colorbar": {
              "outlinewidth": 0,
              "ticks": ""
             }
            },
            "type": "scatter3d"
           }
          ],
          "scattercarpet": [
           {
            "marker": {
             "colorbar": {
              "outlinewidth": 0,
              "ticks": ""
             }
            },
            "type": "scattercarpet"
           }
          ],
          "scattergeo": [
           {
            "marker": {
             "colorbar": {
              "outlinewidth": 0,
              "ticks": ""
             }
            },
            "type": "scattergeo"
           }
          ],
          "scattergl": [
           {
            "marker": {
             "colorbar": {
              "outlinewidth": 0,
              "ticks": ""
             }
            },
            "type": "scattergl"
           }
          ],
          "scattermapbox": [
           {
            "marker": {
             "colorbar": {
              "outlinewidth": 0,
              "ticks": ""
             }
            },
            "type": "scattermapbox"
           }
          ],
          "scatterpolar": [
           {
            "marker": {
             "colorbar": {
              "outlinewidth": 0,
              "ticks": ""
             }
            },
            "type": "scatterpolar"
           }
          ],
          "scatterpolargl": [
           {
            "marker": {
             "colorbar": {
              "outlinewidth": 0,
              "ticks": ""
             }
            },
            "type": "scatterpolargl"
           }
          ],
          "scatterternary": [
           {
            "marker": {
             "colorbar": {
              "outlinewidth": 0,
              "ticks": ""
             }
            },
            "type": "scatterternary"
           }
          ],
          "surface": [
           {
            "colorbar": {
             "outlinewidth": 0,
             "ticks": ""
            },
            "colorscale": [
             [
              0,
              "#0d0887"
             ],
             [
              0.1111111111111111,
              "#46039f"
             ],
             [
              0.2222222222222222,
              "#7201a8"
             ],
             [
              0.3333333333333333,
              "#9c179e"
             ],
             [
              0.4444444444444444,
              "#bd3786"
             ],
             [
              0.5555555555555556,
              "#d8576b"
             ],
             [
              0.6666666666666666,
              "#ed7953"
             ],
             [
              0.7777777777777778,
              "#fb9f3a"
             ],
             [
              0.8888888888888888,
              "#fdca26"
             ],
             [
              1,
              "#f0f921"
             ]
            ],
            "type": "surface"
           }
          ],
          "table": [
           {
            "cells": {
             "fill": {
              "color": "#EBF0F8"
             },
             "line": {
              "color": "white"
             }
            },
            "header": {
             "fill": {
              "color": "#C8D4E3"
             },
             "line": {
              "color": "white"
             }
            },
            "type": "table"
           }
          ]
         },
         "layout": {
          "annotationdefaults": {
           "arrowcolor": "#2a3f5f",
           "arrowhead": 0,
           "arrowwidth": 1
          },
          "autotypenumbers": "strict",
          "coloraxis": {
           "colorbar": {
            "outlinewidth": 0,
            "ticks": ""
           }
          },
          "colorscale": {
           "diverging": [
            [
             0,
             "#8e0152"
            ],
            [
             0.1,
             "#c51b7d"
            ],
            [
             0.2,
             "#de77ae"
            ],
            [
             0.3,
             "#f1b6da"
            ],
            [
             0.4,
             "#fde0ef"
            ],
            [
             0.5,
             "#f7f7f7"
            ],
            [
             0.6,
             "#e6f5d0"
            ],
            [
             0.7,
             "#b8e186"
            ],
            [
             0.8,
             "#7fbc41"
            ],
            [
             0.9,
             "#4d9221"
            ],
            [
             1,
             "#276419"
            ]
           ],
           "sequential": [
            [
             0,
             "#0d0887"
            ],
            [
             0.1111111111111111,
             "#46039f"
            ],
            [
             0.2222222222222222,
             "#7201a8"
            ],
            [
             0.3333333333333333,
             "#9c179e"
            ],
            [
             0.4444444444444444,
             "#bd3786"
            ],
            [
             0.5555555555555556,
             "#d8576b"
            ],
            [
             0.6666666666666666,
             "#ed7953"
            ],
            [
             0.7777777777777778,
             "#fb9f3a"
            ],
            [
             0.8888888888888888,
             "#fdca26"
            ],
            [
             1,
             "#f0f921"
            ]
           ],
           "sequentialminus": [
            [
             0,
             "#0d0887"
            ],
            [
             0.1111111111111111,
             "#46039f"
            ],
            [
             0.2222222222222222,
             "#7201a8"
            ],
            [
             0.3333333333333333,
             "#9c179e"
            ],
            [
             0.4444444444444444,
             "#bd3786"
            ],
            [
             0.5555555555555556,
             "#d8576b"
            ],
            [
             0.6666666666666666,
             "#ed7953"
            ],
            [
             0.7777777777777778,
             "#fb9f3a"
            ],
            [
             0.8888888888888888,
             "#fdca26"
            ],
            [
             1,
             "#f0f921"
            ]
           ]
          },
          "colorway": [
           "#636efa",
           "#EF553B",
           "#00cc96",
           "#ab63fa",
           "#FFA15A",
           "#19d3f3",
           "#FF6692",
           "#B6E880",
           "#FF97FF",
           "#FECB52"
          ],
          "font": {
           "color": "#2a3f5f"
          },
          "geo": {
           "bgcolor": "white",
           "lakecolor": "white",
           "landcolor": "#E5ECF6",
           "showlakes": true,
           "showland": true,
           "subunitcolor": "white"
          },
          "hoverlabel": {
           "align": "left"
          },
          "hovermode": "closest",
          "mapbox": {
           "style": "light"
          },
          "paper_bgcolor": "white",
          "plot_bgcolor": "#E5ECF6",
          "polar": {
           "angularaxis": {
            "gridcolor": "white",
            "linecolor": "white",
            "ticks": ""
           },
           "bgcolor": "#E5ECF6",
           "radialaxis": {
            "gridcolor": "white",
            "linecolor": "white",
            "ticks": ""
           }
          },
          "scene": {
           "xaxis": {
            "backgroundcolor": "#E5ECF6",
            "gridcolor": "white",
            "gridwidth": 2,
            "linecolor": "white",
            "showbackground": true,
            "ticks": "",
            "zerolinecolor": "white"
           },
           "yaxis": {
            "backgroundcolor": "#E5ECF6",
            "gridcolor": "white",
            "gridwidth": 2,
            "linecolor": "white",
            "showbackground": true,
            "ticks": "",
            "zerolinecolor": "white"
           },
           "zaxis": {
            "backgroundcolor": "#E5ECF6",
            "gridcolor": "white",
            "gridwidth": 2,
            "linecolor": "white",
            "showbackground": true,
            "ticks": "",
            "zerolinecolor": "white"
           }
          },
          "shapedefaults": {
           "line": {
            "color": "#2a3f5f"
           }
          },
          "ternary": {
           "aaxis": {
            "gridcolor": "white",
            "linecolor": "white",
            "ticks": ""
           },
           "baxis": {
            "gridcolor": "white",
            "linecolor": "white",
            "ticks": ""
           },
           "bgcolor": "#E5ECF6",
           "caxis": {
            "gridcolor": "white",
            "linecolor": "white",
            "ticks": ""
           }
          },
          "title": {
           "x": 0.05
          },
          "xaxis": {
           "automargin": true,
           "gridcolor": "white",
           "linecolor": "white",
           "ticks": "",
           "title": {
            "standoff": 15
           },
           "zerolinecolor": "white",
           "zerolinewidth": 2
          },
          "yaxis": {
           "automargin": true,
           "gridcolor": "white",
           "linecolor": "white",
           "ticks": "",
           "title": {
            "standoff": 15
           },
           "zerolinecolor": "white",
           "zerolinewidth": 2
          }
         }
        }
       }
      },
      "text/html": [
       "<div>                            <div id=\"be4565ce-46a0-4afb-b0b1-535955062dd5\" class=\"plotly-graph-div\" style=\"height:525px; width:100%;\"></div>            <script type=\"text/javascript\">                require([\"plotly\"], function(Plotly) {                    window.PLOTLYENV=window.PLOTLYENV || {};                                    if (document.getElementById(\"be4565ce-46a0-4afb-b0b1-535955062dd5\")) {                    Plotly.newPlot(                        \"be4565ce-46a0-4afb-b0b1-535955062dd5\",                        [{\"hovertemplate\":\"geohash2=u0ft_0<br>t=%{x}<br>c1=%{y}<br>c2=%{z}<extra></extra>\",\"legendgroup\":\"u0ft_0\",\"line\":{\"color\":\"#636efa\",\"dash\":\"solid\"},\"marker\":{\"symbol\":\"circle\"},\"mode\":\"lines\",\"name\":\"u0ft_0\",\"scene\":\"scene\",\"showlegend\":true,\"x\":[0,46,48,59,60,71,78,80,82,88,96,97,106,117,118,122,123,125,129,130,134,141,143,145,148,154,161,164,166,175,178,180,185,189,191,192,194,196,201,228,237,240,242,245,247,249,261,263,267,268,274,275,277,284,286,288,290,294,297,300,302,309,311,313,316,318,320,322,323,329,330,334,339,341,341,342,342,343,347,352,354,356,358,359,361,363,364,366,370,371,373,377,379,380,384,386,387,389,391,393,395,396,405,407,410,414,416,418,419,421,430,432,434,435,439,441,443,453,461,465,467,479,483,485,487,489,491,493,494,497,499,501,503,505,506,509,511,513,515,517,519,521,523,525,527,529,531,533,537,538,540,542,544,549,550,558,564,566,568,570,572,574,576,580,582,584,586,592,594,598,600,602,604,606,609,611,614,617,623,627,629,635,637,639,643,645,647,649,651,653,655,659,661,665,669,671,673,677,681,692,694,696,697,699,708,710,712],\"y\":[50.145,50.1267,50.1243,50.1234,50.1222,50.13,50.1456,50.1408,50.1366,50.1342,50.1333,50.1321,50.1327,50.1318,50.1312,50.1303,50.1327,50.1336,50.1312,50.127,50.1306,50.1294,50.1267,50.1444,50.1456,50.1426,50.1483,50.1312,50.1351,50.121,50.1207,50.1216,50.157,50.1561,50.1456,50.1462,50.1408,50.1417,50.1405,50.1303,50.1285,50.1267,50.127,50.1267,50.1267,50.1264,50.1306,50.1324,50.1294,50.1285,50.1285,50.1288,50.1285,50.1282,50.1291,50.1282,50.1282,50.1285,50.1279,50.1273,50.1264,50.1255,50.1252,50.1255,50.124,50.124,50.1252,50.1246,50.1258,50.1249,50.1255,50.1258,50.124,50.1237,50.124,50.1243,50.1246,50.1255,50.1258,50.1258,50.1255,50.1258,50.1258,50.1255,50.1291,50.1267,50.1297,50.1291,50.1291,50.1297,50.1249,50.1288,50.1297,50.1276,50.1264,50.1225,50.1222,50.1222,50.1231,50.1237,50.1228,50.1237,50.124,50.1237,50.1252,50.1222,50.1213,50.1258,50.1255,50.1318,50.133,50.1324,50.1327,50.1324,50.1348,50.1321,50.1324,50.1336,50.1345,50.1342,50.1348,50.1351,50.1351,50.1369,50.1363,50.136,50.1351,50.1345,50.1345,50.1354,50.1348,50.1354,50.1357,50.136,50.1354,50.1366,50.1372,50.1366,50.1357,50.1348,50.1351,50.1348,50.1357,50.1354,50.1348,50.1345,50.1348,50.1351,50.1345,50.1348,50.1345,50.1345,50.1348,50.1357,50.1315,50.1309,50.1318,50.1297,50.1294,50.1303,50.1303,50.1297,50.1306,50.1297,50.13,50.1306,50.1306,50.1321,50.1315,50.1324,50.1324,50.1336,50.1333,50.1333,50.1333,50.1339,50.1324,50.1318,50.1297,50.13,50.1291,50.1297,50.1291,50.1285,50.1294,50.1291,50.1327,50.133,50.133,50.133,50.1318,50.1318,50.1333,50.1333,50.1333,50.1309,50.1309,50.1306,50.1297,50.1309,50.1294,50.1303,50.1267,50.1297,50.1303,50.1309,50.13],\"z\":[3.77175,3.77475,3.77595,3.77505,3.77295,3.78345,3.77385,3.77055,3.76845,3.76245,3.76095,3.76035,3.76185,3.75915,3.75945,3.76185,3.75945,3.76215,3.76365,3.76335,3.76905,3.76695,3.76395,3.76875,3.76935,3.76575,3.76725,3.76335,3.76275,3.76815,3.76575,3.76785,3.77655,3.77745,3.77145,3.77595,3.77175,3.77235,3.77145,3.76935,3.76605,3.76665,3.76665,3.76365,3.76605,3.76545,3.76335,3.75825,3.75405,3.75435,3.75405,3.75285,3.75315,3.75375,3.75285,3.75225,3.75165,3.75195,3.75225,3.75435,3.75135,3.75225,3.75195,3.75195,3.74985,3.75255,3.75225,3.75135,3.75165,3.75015,3.75135,3.75225,3.75105,3.75165,3.75135,3.75255,3.75255,3.75255,3.75315,3.75285,3.75165,3.75135,3.75165,3.75375,3.75315,3.75165,3.75435,3.75345,3.75255,3.75255,3.75255,3.75285,3.75165,3.75765,3.75255,3.75555,3.75465,3.75495,3.75495,3.75495,3.75405,3.75315,3.75465,3.75405,3.75495,3.75345,3.75255,3.75225,3.75195,3.75405,3.75435,3.75345,3.75405,3.75435,3.75435,3.75825,3.75945,3.76125,3.76365,3.76365,3.76275,3.76335,3.76305,3.76725,3.76755,3.76695,3.76635,3.76695,3.76755,3.76785,3.76725,3.76635,3.76995,3.76845,3.76665,3.76785,3.76905,3.76575,3.76875,3.76935,3.76875,3.76845,3.76905,3.76875,3.76935,3.77025,3.77055,3.77055,3.77025,3.76965,3.76995,3.76965,3.76875,3.77175,3.76905,3.77175,3.77175,3.76755,3.76725,3.76665,3.76635,3.76605,3.76425,3.76305,3.76395,3.76425,3.76365,3.76245,3.76125,3.76335,3.76065,3.76245,3.76185,3.76125,3.76005,3.76275,3.76305,3.76275,3.76635,3.76605,3.76305,3.76815,3.76695,3.76605,3.76665,3.76725,3.76065,3.76035,3.76035,3.76065,3.76005,3.76095,3.76035,3.76095,3.76185,3.76845,3.76785,3.76935,3.76845,3.76875,3.76875,3.76305,3.76905,3.76755,3.76845,3.76635,3.76695],\"type\":\"scatter3d\"}],                        {\"template\":{\"data\":{\"histogram2dcontour\":[{\"type\":\"histogram2dcontour\",\"colorbar\":{\"outlinewidth\":0,\"ticks\":\"\"},\"colorscale\":[[0.0,\"#0d0887\"],[0.1111111111111111,\"#46039f\"],[0.2222222222222222,\"#7201a8\"],[0.3333333333333333,\"#9c179e\"],[0.4444444444444444,\"#bd3786\"],[0.5555555555555556,\"#d8576b\"],[0.6666666666666666,\"#ed7953\"],[0.7777777777777778,\"#fb9f3a\"],[0.8888888888888888,\"#fdca26\"],[1.0,\"#f0f921\"]]}],\"choropleth\":[{\"type\":\"choropleth\",\"colorbar\":{\"outlinewidth\":0,\"ticks\":\"\"}}],\"histogram2d\":[{\"type\":\"histogram2d\",\"colorbar\":{\"outlinewidth\":0,\"ticks\":\"\"},\"colorscale\":[[0.0,\"#0d0887\"],[0.1111111111111111,\"#46039f\"],[0.2222222222222222,\"#7201a8\"],[0.3333333333333333,\"#9c179e\"],[0.4444444444444444,\"#bd3786\"],[0.5555555555555556,\"#d8576b\"],[0.6666666666666666,\"#ed7953\"],[0.7777777777777778,\"#fb9f3a\"],[0.8888888888888888,\"#fdca26\"],[1.0,\"#f0f921\"]]}],\"heatmap\":[{\"type\":\"heatmap\",\"colorbar\":{\"outlinewidth\":0,\"ticks\":\"\"},\"colorscale\":[[0.0,\"#0d0887\"],[0.1111111111111111,\"#46039f\"],[0.2222222222222222,\"#7201a8\"],[0.3333333333333333,\"#9c179e\"],[0.4444444444444444,\"#bd3786\"],[0.5555555555555556,\"#d8576b\"],[0.6666666666666666,\"#ed7953\"],[0.7777777777777778,\"#fb9f3a\"],[0.8888888888888888,\"#fdca26\"],[1.0,\"#f0f921\"]]}],\"heatmapgl\":[{\"type\":\"heatmapgl\",\"colorbar\":{\"outlinewidth\":0,\"ticks\":\"\"},\"colorscale\":[[0.0,\"#0d0887\"],[0.1111111111111111,\"#46039f\"],[0.2222222222222222,\"#7201a8\"],[0.3333333333333333,\"#9c179e\"],[0.4444444444444444,\"#bd3786\"],[0.5555555555555556,\"#d8576b\"],[0.6666666666666666,\"#ed7953\"],[0.7777777777777778,\"#fb9f3a\"],[0.8888888888888888,\"#fdca26\"],[1.0,\"#f0f921\"]]}],\"contourcarpet\":[{\"type\":\"contourcarpet\",\"colorbar\":{\"outlinewidth\":0,\"ticks\":\"\"}}],\"contour\":[{\"type\":\"contour\",\"colorbar\":{\"outlinewidth\":0,\"ticks\":\"\"},\"colorscale\":[[0.0,\"#0d0887\"],[0.1111111111111111,\"#46039f\"],[0.2222222222222222,\"#7201a8\"],[0.3333333333333333,\"#9c179e\"],[0.4444444444444444,\"#bd3786\"],[0.5555555555555556,\"#d8576b\"],[0.6666666666666666,\"#ed7953\"],[0.7777777777777778,\"#fb9f3a\"],[0.8888888888888888,\"#fdca26\"],[1.0,\"#f0f921\"]]}],\"surface\":[{\"type\":\"surface\",\"colorbar\":{\"outlinewidth\":0,\"ticks\":\"\"},\"colorscale\":[[0.0,\"#0d0887\"],[0.1111111111111111,\"#46039f\"],[0.2222222222222222,\"#7201a8\"],[0.3333333333333333,\"#9c179e\"],[0.4444444444444444,\"#bd3786\"],[0.5555555555555556,\"#d8576b\"],[0.6666666666666666,\"#ed7953\"],[0.7777777777777778,\"#fb9f3a\"],[0.8888888888888888,\"#fdca26\"],[1.0,\"#f0f921\"]]}],\"mesh3d\":[{\"type\":\"mesh3d\",\"colorbar\":{\"outlinewidth\":0,\"ticks\":\"\"}}],\"scatter\":[{\"fillpattern\":{\"fillmode\":\"overlay\",\"size\":10,\"solidity\":0.2},\"type\":\"scatter\"}],\"parcoords\":[{\"type\":\"parcoords\",\"line\":{\"colorbar\":{\"outlinewidth\":0,\"ticks\":\"\"}}}],\"scatterpolargl\":[{\"type\":\"scatterpolargl\",\"marker\":{\"colorbar\":{\"outlinewidth\":0,\"ticks\":\"\"}}}],\"bar\":[{\"error_x\":{\"color\":\"#2a3f5f\"},\"error_y\":{\"color\":\"#2a3f5f\"},\"marker\":{\"line\":{\"color\":\"#E5ECF6\",\"width\":0.5},\"pattern\":{\"fillmode\":\"overlay\",\"size\":10,\"solidity\":0.2}},\"type\":\"bar\"}],\"scattergeo\":[{\"type\":\"scattergeo\",\"marker\":{\"colorbar\":{\"outlinewidth\":0,\"ticks\":\"\"}}}],\"scatterpolar\":[{\"type\":\"scatterpolar\",\"marker\":{\"colorbar\":{\"outlinewidth\":0,\"ticks\":\"\"}}}],\"histogram\":[{\"marker\":{\"pattern\":{\"fillmode\":\"overlay\",\"size\":10,\"solidity\":0.2}},\"type\":\"histogram\"}],\"scattergl\":[{\"type\":\"scattergl\",\"marker\":{\"colorbar\":{\"outlinewidth\":0,\"ticks\":\"\"}}}],\"scatter3d\":[{\"type\":\"scatter3d\",\"line\":{\"colorbar\":{\"outlinewidth\":0,\"ticks\":\"\"}},\"marker\":{\"colorbar\":{\"outlinewidth\":0,\"ticks\":\"\"}}}],\"scattermapbox\":[{\"type\":\"scattermapbox\",\"marker\":{\"colorbar\":{\"outlinewidth\":0,\"ticks\":\"\"}}}],\"scatterternary\":[{\"type\":\"scatterternary\",\"marker\":{\"colorbar\":{\"outlinewidth\":0,\"ticks\":\"\"}}}],\"scattercarpet\":[{\"type\":\"scattercarpet\",\"marker\":{\"colorbar\":{\"outlinewidth\":0,\"ticks\":\"\"}}}],\"carpet\":[{\"aaxis\":{\"endlinecolor\":\"#2a3f5f\",\"gridcolor\":\"white\",\"linecolor\":\"white\",\"minorgridcolor\":\"white\",\"startlinecolor\":\"#2a3f5f\"},\"baxis\":{\"endlinecolor\":\"#2a3f5f\",\"gridcolor\":\"white\",\"linecolor\":\"white\",\"minorgridcolor\":\"white\",\"startlinecolor\":\"#2a3f5f\"},\"type\":\"carpet\"}],\"table\":[{\"cells\":{\"fill\":{\"color\":\"#EBF0F8\"},\"line\":{\"color\":\"white\"}},\"header\":{\"fill\":{\"color\":\"#C8D4E3\"},\"line\":{\"color\":\"white\"}},\"type\":\"table\"}],\"barpolar\":[{\"marker\":{\"line\":{\"color\":\"#E5ECF6\",\"width\":0.5},\"pattern\":{\"fillmode\":\"overlay\",\"size\":10,\"solidity\":0.2}},\"type\":\"barpolar\"}],\"pie\":[{\"automargin\":true,\"type\":\"pie\"}]},\"layout\":{\"autotypenumbers\":\"strict\",\"colorway\":[\"#636efa\",\"#EF553B\",\"#00cc96\",\"#ab63fa\",\"#FFA15A\",\"#19d3f3\",\"#FF6692\",\"#B6E880\",\"#FF97FF\",\"#FECB52\"],\"font\":{\"color\":\"#2a3f5f\"},\"hovermode\":\"closest\",\"hoverlabel\":{\"align\":\"left\"},\"paper_bgcolor\":\"white\",\"plot_bgcolor\":\"#E5ECF6\",\"polar\":{\"bgcolor\":\"#E5ECF6\",\"angularaxis\":{\"gridcolor\":\"white\",\"linecolor\":\"white\",\"ticks\":\"\"},\"radialaxis\":{\"gridcolor\":\"white\",\"linecolor\":\"white\",\"ticks\":\"\"}},\"ternary\":{\"bgcolor\":\"#E5ECF6\",\"aaxis\":{\"gridcolor\":\"white\",\"linecolor\":\"white\",\"ticks\":\"\"},\"baxis\":{\"gridcolor\":\"white\",\"linecolor\":\"white\",\"ticks\":\"\"},\"caxis\":{\"gridcolor\":\"white\",\"linecolor\":\"white\",\"ticks\":\"\"}},\"coloraxis\":{\"colorbar\":{\"outlinewidth\":0,\"ticks\":\"\"}},\"colorscale\":{\"sequential\":[[0.0,\"#0d0887\"],[0.1111111111111111,\"#46039f\"],[0.2222222222222222,\"#7201a8\"],[0.3333333333333333,\"#9c179e\"],[0.4444444444444444,\"#bd3786\"],[0.5555555555555556,\"#d8576b\"],[0.6666666666666666,\"#ed7953\"],[0.7777777777777778,\"#fb9f3a\"],[0.8888888888888888,\"#fdca26\"],[1.0,\"#f0f921\"]],\"sequentialminus\":[[0.0,\"#0d0887\"],[0.1111111111111111,\"#46039f\"],[0.2222222222222222,\"#7201a8\"],[0.3333333333333333,\"#9c179e\"],[0.4444444444444444,\"#bd3786\"],[0.5555555555555556,\"#d8576b\"],[0.6666666666666666,\"#ed7953\"],[0.7777777777777778,\"#fb9f3a\"],[0.8888888888888888,\"#fdca26\"],[1.0,\"#f0f921\"]],\"diverging\":[[0,\"#8e0152\"],[0.1,\"#c51b7d\"],[0.2,\"#de77ae\"],[0.3,\"#f1b6da\"],[0.4,\"#fde0ef\"],[0.5,\"#f7f7f7\"],[0.6,\"#e6f5d0\"],[0.7,\"#b8e186\"],[0.8,\"#7fbc41\"],[0.9,\"#4d9221\"],[1,\"#276419\"]]},\"xaxis\":{\"gridcolor\":\"white\",\"linecolor\":\"white\",\"ticks\":\"\",\"title\":{\"standoff\":15},\"zerolinecolor\":\"white\",\"automargin\":true,\"zerolinewidth\":2},\"yaxis\":{\"gridcolor\":\"white\",\"linecolor\":\"white\",\"ticks\":\"\",\"title\":{\"standoff\":15},\"zerolinecolor\":\"white\",\"automargin\":true,\"zerolinewidth\":2},\"scene\":{\"xaxis\":{\"backgroundcolor\":\"#E5ECF6\",\"gridcolor\":\"white\",\"linecolor\":\"white\",\"showbackground\":true,\"ticks\":\"\",\"zerolinecolor\":\"white\",\"gridwidth\":2},\"yaxis\":{\"backgroundcolor\":\"#E5ECF6\",\"gridcolor\":\"white\",\"linecolor\":\"white\",\"showbackground\":true,\"ticks\":\"\",\"zerolinecolor\":\"white\",\"gridwidth\":2},\"zaxis\":{\"backgroundcolor\":\"#E5ECF6\",\"gridcolor\":\"white\",\"linecolor\":\"white\",\"showbackground\":true,\"ticks\":\"\",\"zerolinecolor\":\"white\",\"gridwidth\":2}},\"shapedefaults\":{\"line\":{\"color\":\"#2a3f5f\"}},\"annotationdefaults\":{\"arrowcolor\":\"#2a3f5f\",\"arrowhead\":0,\"arrowwidth\":1},\"geo\":{\"bgcolor\":\"white\",\"landcolor\":\"#E5ECF6\",\"subunitcolor\":\"white\",\"showland\":true,\"showlakes\":true,\"lakecolor\":\"white\"},\"title\":{\"x\":0.05},\"mapbox\":{\"style\":\"light\"}}},\"scene\":{\"domain\":{\"x\":[0.0,1.0],\"y\":[0.0,1.0]},\"xaxis\":{\"title\":{\"text\":\"t\"}},\"yaxis\":{\"title\":{\"text\":\"c1\"}},\"zaxis\":{\"title\":{\"text\":\"c2\"}}},\"legend\":{\"title\":{\"text\":\"geohash2\"},\"tracegroupgap\":0},\"margin\":{\"t\":60}},                        {\"responsive\": true}                    ).then(function(){\n",
       "                            \n",
       "var gd = document.getElementById('be4565ce-46a0-4afb-b0b1-535955062dd5');\n",
       "var x = new MutationObserver(function (mutations, observer) {{\n",
       "        var display = window.getComputedStyle(gd).display;\n",
       "        if (!display || display === 'none') {{\n",
       "            console.log([gd, 'removed!']);\n",
       "            Plotly.purge(gd);\n",
       "            observer.disconnect();\n",
       "        }}\n",
       "}});\n",
       "\n",
       "// Listen for the removal of the full notebook cells\n",
       "var notebookContainer = gd.closest('#notebook-container');\n",
       "if (notebookContainer) {{\n",
       "    x.observe(notebookContainer, {childList: true});\n",
       "}}\n",
       "\n",
       "// Listen for the clearing of the current output cell\n",
       "var outputEl = gd.closest('.output');\n",
       "if (outputEl) {{\n",
       "    x.observe(outputEl, {childList: true});\n",
       "}}\n",
       "\n",
       "                        })                };                });            </script>        </div>"
      ]
     },
     "metadata": {},
     "output_type": "display_data"
    }
   ],
   "source": [
    "px.line_3d(df[df.tid == 1], x=\"t\", y=\"c1\", z=\"c2\", color=\"geohash2\")"
   ]
  },
  {
   "cell_type": "code",
   "execution_count": 40,
   "metadata": {
    "pycharm": {
     "name": "#%%\n"
    }
   },
   "outputs": [
    {
     "data": {
      "application/vnd.plotly.v1+json": {
       "config": {
        "plotlyServerURL": "https://plot.ly"
       },
       "data": [
        {
         "hovertemplate": "geohash2=u0ft_0<br>t=%{x}<br>lat_norm=%{y}<br>lon_norm=%{z}<extra></extra>",
         "legendgroup": "u0ft_0",
         "line": {
          "color": "#636efa",
          "dash": "solid"
         },
         "marker": {
          "symbol": "circle"
         },
         "mode": "lines",
         "name": "u0ft_0",
         "scene": "scene",
         "showlegend": true,
         "type": "scatter3d",
         "x": [
          0,
          46,
          48,
          59,
          60,
          71,
          78,
          80,
          82,
          88,
          96,
          97,
          106,
          117,
          118,
          122,
          123,
          125,
          129,
          130,
          134,
          141,
          143,
          145,
          148,
          154,
          161,
          164,
          166,
          175,
          178,
          180,
          185,
          189,
          191,
          192,
          194,
          196,
          201,
          228,
          237,
          240,
          242,
          245,
          247,
          249,
          261,
          263,
          267,
          268,
          274,
          275,
          277,
          284,
          286,
          288,
          290,
          294,
          297,
          300,
          302,
          309,
          311,
          313,
          316,
          318,
          320,
          322,
          323,
          329,
          330,
          334,
          339,
          341,
          341,
          342,
          342,
          343,
          347,
          352,
          354,
          356,
          358,
          359,
          361,
          363,
          364,
          366,
          370,
          371,
          373,
          377,
          379,
          380,
          384,
          386,
          387,
          389,
          391,
          393,
          395,
          396,
          405,
          407,
          410,
          414,
          416,
          418,
          419,
          421,
          430,
          432,
          434,
          435,
          439,
          441,
          443,
          453,
          461,
          465,
          467,
          479,
          483,
          485,
          487,
          489,
          491,
          493,
          494,
          497,
          499,
          501,
          503,
          505,
          506,
          509,
          511,
          513,
          515,
          517,
          519,
          521,
          523,
          525,
          527,
          529,
          531,
          533,
          537,
          538,
          540,
          542,
          544,
          549,
          550,
          558,
          564,
          566,
          568,
          570,
          572,
          574,
          576,
          580,
          582,
          584,
          586,
          592,
          594,
          598,
          600,
          602,
          604,
          606,
          609,
          611,
          614,
          617,
          623,
          627,
          629,
          635,
          637,
          639,
          643,
          645,
          647,
          649,
          651,
          653,
          655,
          659,
          661,
          665,
          669,
          671,
          673,
          677,
          681,
          692,
          694,
          696,
          697,
          699,
          708,
          710,
          712
         ],
         "y": [
          0.047343750000003126,
          0.02904374999999959,
          0.02664374999999808,
          0.025743749999996624,
          0.02454374999999942,
          0.03234375000000256,
          0.04794375000000173,
          0.043143749999998704,
          0.03894375000000139,
          0.036543749999999875,
          0.03564374999999842,
          0.034443750000001216,
          0.03504374999999982,
          0.03414374999999836,
          0.03354374999999976,
          0.032643749999998306,
          0.03504374999999982,
          0.03594375000000127,
          0.03354374999999976,
          0.029343750000002444,
          0.03294375000000116,
          0.03174374999999685,
          0.02904374999999959,
          0.04674374999999742,
          0.04794375000000173,
          0.044943750000001614,
          0.05064374999999899,
          0.03354374999999976,
          0.03744375000000133,
          0.023343750000002217,
          0.023043749999999363,
          0.02394375000000082,
          0.059343749999996476,
          0.058443750000002126,
          0.04794375000000173,
          0.04854375000000033,
          0.043143749999998704,
          0.04404375000000016,
          0.042843750000002956,
          0.032643749999998306,
          0.0308437500000025,
          0.02904374999999959,
          0.029343750000002444,
          0.02904374999999959,
          0.02904374999999959,
          0.028743749999996737,
          0.03294375000000116,
          0.034743749999996965,
          0.03174374999999685,
          0.0308437500000025,
          0.0308437500000025,
          0.03114374999999825,
          0.0308437500000025,
          0.030543749999999648,
          0.0314437500000011,
          0.030543749999999648,
          0.030543749999999648,
          0.0308437500000025,
          0.030243749999996794,
          0.029643749999998192,
          0.028743749999996737,
          0.027843750000002387,
          0.027543749999999534,
          0.027843750000002387,
          0.02634375000000233,
          0.02634375000000233,
          0.027543749999999534,
          0.026943750000000932,
          0.028143749999998136,
          0.02724374999999668,
          0.027843750000002387,
          0.028143749999998136,
          0.02634375000000233,
          0.026043749999999477,
          0.02634375000000233,
          0.02664374999999808,
          0.026943750000000932,
          0.027843750000002387,
          0.028143749999998136,
          0.028143749999998136,
          0.027843750000002387,
          0.028143749999998136,
          0.028143749999998136,
          0.027843750000002387,
          0.0314437500000011,
          0.02904374999999959,
          0.032043749999999704,
          0.0314437500000011,
          0.0314437500000011,
          0.032043749999999704,
          0.02724374999999668,
          0.03114374999999825,
          0.032043749999999704,
          0.029943750000001046,
          0.028743749999996737,
          0.024843750000002274,
          0.02454374999999942,
          0.02454374999999942,
          0.025443750000000875,
          0.026043749999999477,
          0.025143749999998022,
          0.026043749999999477,
          0.02634375000000233,
          0.026043749999999477,
          0.027543749999999534,
          0.02454374999999942,
          0.023643749999997965,
          0.028143749999998136,
          0.027843750000002387,
          0.03414374999999836,
          0.03534375000000267,
          0.034743749999996965,
          0.03504374999999982,
          0.034743749999996965,
          0.03714374999999848,
          0.034443750000001216,
          0.034743749999996965,
          0.03594375000000127,
          0.03684375000000273,
          0.036543749999999875,
          0.03714374999999848,
          0.03744375000000133,
          0.03744375000000133,
          0.039243749999997135,
          0.03864374999999853,
          0.038343750000002785,
          0.03744375000000133,
          0.03684375000000273,
          0.03684375000000273,
          0.03774374999999708,
          0.03714374999999848,
          0.03774374999999708,
          0.03804374999999993,
          0.038343750000002785,
          0.03774374999999708,
          0.03894375000000139,
          0.03954374999999999,
          0.03894375000000139,
          0.03804374999999993,
          0.03714374999999848,
          0.03744375000000133,
          0.03714374999999848,
          0.03804374999999993,
          0.03774374999999708,
          0.03714374999999848,
          0.03684375000000273,
          0.03714374999999848,
          0.03744375000000133,
          0.03684375000000273,
          0.03714374999999848,
          0.03684375000000273,
          0.03684375000000273,
          0.03714374999999848,
          0.03804374999999993,
          0.033843750000002615,
          0.03324374999999691,
          0.03414374999999836,
          0.032043749999999704,
          0.03174374999999685,
          0.032643749999998306,
          0.032643749999998306,
          0.032043749999999704,
          0.03294375000000116,
          0.032043749999999704,
          0.03234375000000256,
          0.03294375000000116,
          0.03294375000000116,
          0.034443750000001216,
          0.033843750000002615,
          0.034743749999996965,
          0.034743749999996965,
          0.03594375000000127,
          0.03564374999999842,
          0.03564374999999842,
          0.03564374999999842,
          0.03624374999999702,
          0.034743749999996965,
          0.03414374999999836,
          0.032043749999999704,
          0.03234375000000256,
          0.0314437500000011,
          0.032043749999999704,
          0.0314437500000011,
          0.0308437500000025,
          0.03174374999999685,
          0.0314437500000011,
          0.03504374999999982,
          0.03534375000000267,
          0.03534375000000267,
          0.03534375000000267,
          0.03414374999999836,
          0.03414374999999836,
          0.03564374999999842,
          0.03564374999999842,
          0.03564374999999842,
          0.03324374999999691,
          0.03324374999999691,
          0.03294375000000116,
          0.032043749999999704,
          0.03324374999999691,
          0.03174374999999685,
          0.032643749999998306,
          0.02904374999999959,
          0.032043749999999704,
          0.032643749999998306,
          0.03324374999999691,
          0.03234375000000256
         ],
         "z": [
          0.25612499999999994,
          0.25912500000000005,
          0.2603249999999999,
          0.2594249999999998,
          0.2573249999999998,
          0.2678250000000002,
          0.2582249999999999,
          0.25492500000000007,
          0.2528250000000001,
          0.24682499999999985,
          0.2453249999999998,
          0.24472499999999986,
          0.24622499999999992,
          0.243525,
          0.24382500000000018,
          0.24622499999999992,
          0.24382500000000018,
          0.2465250000000001,
          0.24802500000000016,
          0.24772499999999997,
          0.253425,
          0.251325,
          0.2483249999999999,
          0.2531249999999998,
          0.2537250000000002,
          0.25012500000000015,
          0.2516250000000002,
          0.24772499999999997,
          0.24712500000000004,
          0.2525249999999999,
          0.25012500000000015,
          0.25222500000000014,
          0.26092499999999985,
          0.261825,
          0.2558250000000002,
          0.2603249999999999,
          0.25612499999999994,
          0.25672499999999987,
          0.2558250000000002,
          0.2537250000000002,
          0.2504249999999999,
          0.25102499999999983,
          0.25102499999999983,
          0.24802500000000016,
          0.2504249999999999,
          0.24982499999999996,
          0.24772499999999997,
          0.24262499999999987,
          0.2384249999999999,
          0.23872500000000008,
          0.2384249999999999,
          0.23722500000000002,
          0.2375250000000002,
          0.23812500000000014,
          0.23722500000000002,
          0.23662500000000009,
          0.23602500000000015,
          0.2363249999999999,
          0.23662500000000009,
          0.23872500000000008,
          0.23572499999999996,
          0.23662500000000009,
          0.2363249999999999,
          0.2363249999999999,
          0.2342249999999999,
          0.23692499999999983,
          0.23662500000000009,
          0.23572499999999996,
          0.23602500000000015,
          0.2345250000000001,
          0.23572499999999996,
          0.23662500000000009,
          0.23542500000000022,
          0.23602500000000015,
          0.23572499999999996,
          0.23692499999999983,
          0.23692499999999983,
          0.23692499999999983,
          0.2375250000000002,
          0.23722500000000002,
          0.23602500000000015,
          0.23572499999999996,
          0.23602500000000015,
          0.23812500000000014,
          0.2375250000000002,
          0.23602500000000015,
          0.23872500000000008,
          0.23782499999999995,
          0.23692499999999983,
          0.23692499999999983,
          0.23692499999999983,
          0.23722500000000002,
          0.23602500000000015,
          0.24202499999999993,
          0.23692499999999983,
          0.23992499999999994,
          0.23902499999999982,
          0.239325,
          0.239325,
          0.239325,
          0.2384249999999999,
          0.2375250000000002,
          0.23902499999999982,
          0.2384249999999999,
          0.239325,
          0.23782499999999995,
          0.23692499999999983,
          0.23662500000000009,
          0.2363249999999999,
          0.2384249999999999,
          0.23872500000000008,
          0.23782499999999995,
          0.2384249999999999,
          0.23872500000000008,
          0.23872500000000008,
          0.24262499999999987,
          0.24382500000000018,
          0.24562499999999998,
          0.24802500000000016,
          0.24802500000000016,
          0.24712500000000004,
          0.24772499999999997,
          0.24742499999999978,
          0.2516250000000002,
          0.25192499999999995,
          0.251325,
          0.2507250000000001,
          0.251325,
          0.25192499999999995,
          0.25222500000000014,
          0.2516250000000002,
          0.2507250000000001,
          0.25432500000000013,
          0.2528250000000001,
          0.25102499999999983,
          0.25222500000000014,
          0.253425,
          0.25012500000000015,
          0.2531249999999998,
          0.2537250000000002,
          0.2531249999999998,
          0.2528250000000001,
          0.253425,
          0.2531249999999998,
          0.2537250000000002,
          0.2546249999999999,
          0.25492500000000007,
          0.25492500000000007,
          0.2546249999999999,
          0.25402499999999995,
          0.25432500000000013,
          0.25402499999999995,
          0.2531249999999998,
          0.25612499999999994,
          0.253425,
          0.25612499999999994,
          0.25612499999999994,
          0.25192499999999995,
          0.2516250000000002,
          0.25102499999999983,
          0.2507250000000001,
          0.2504249999999999,
          0.2486250000000001,
          0.24742499999999978,
          0.2483249999999999,
          0.2486250000000001,
          0.24802500000000016,
          0.24682499999999985,
          0.24562499999999998,
          0.24772499999999997,
          0.24502500000000005,
          0.24682499999999985,
          0.24622499999999992,
          0.24562499999999998,
          0.24442500000000011,
          0.24712500000000004,
          0.24742499999999978,
          0.24712500000000004,
          0.2507250000000001,
          0.2504249999999999,
          0.24742499999999978,
          0.2525249999999999,
          0.251325,
          0.2504249999999999,
          0.25102499999999983,
          0.2516250000000002,
          0.24502500000000005,
          0.24472499999999986,
          0.24472499999999986,
          0.24502500000000005,
          0.24442500000000011,
          0.2453249999999998,
          0.24472499999999986,
          0.2453249999999998,
          0.24622499999999992,
          0.2528250000000001,
          0.25222500000000014,
          0.2537250000000002,
          0.2528250000000001,
          0.2531249999999998,
          0.2531249999999998,
          0.24742499999999978,
          0.253425,
          0.25192499999999995,
          0.2528250000000001,
          0.2507250000000001,
          0.251325
         ]
        }
       ],
       "layout": {
        "legend": {
         "title": {
          "text": "geohash2"
         },
         "tracegroupgap": 0
        },
        "margin": {
         "t": 60
        },
        "scene": {
         "domain": {
          "x": [
           0,
           1
          ],
          "y": [
           0,
           1
          ]
         },
         "xaxis": {
          "title": {
           "text": "t"
          }
         },
         "yaxis": {
          "title": {
           "text": "lat_norm"
          }
         },
         "zaxis": {
          "title": {
           "text": "lon_norm"
          }
         }
        },
        "template": {
         "data": {
          "bar": [
           {
            "error_x": {
             "color": "#2a3f5f"
            },
            "error_y": {
             "color": "#2a3f5f"
            },
            "marker": {
             "line": {
              "color": "#E5ECF6",
              "width": 0.5
             },
             "pattern": {
              "fillmode": "overlay",
              "size": 10,
              "solidity": 0.2
             }
            },
            "type": "bar"
           }
          ],
          "barpolar": [
           {
            "marker": {
             "line": {
              "color": "#E5ECF6",
              "width": 0.5
             },
             "pattern": {
              "fillmode": "overlay",
              "size": 10,
              "solidity": 0.2
             }
            },
            "type": "barpolar"
           }
          ],
          "carpet": [
           {
            "aaxis": {
             "endlinecolor": "#2a3f5f",
             "gridcolor": "white",
             "linecolor": "white",
             "minorgridcolor": "white",
             "startlinecolor": "#2a3f5f"
            },
            "baxis": {
             "endlinecolor": "#2a3f5f",
             "gridcolor": "white",
             "linecolor": "white",
             "minorgridcolor": "white",
             "startlinecolor": "#2a3f5f"
            },
            "type": "carpet"
           }
          ],
          "choropleth": [
           {
            "colorbar": {
             "outlinewidth": 0,
             "ticks": ""
            },
            "type": "choropleth"
           }
          ],
          "contour": [
           {
            "colorbar": {
             "outlinewidth": 0,
             "ticks": ""
            },
            "colorscale": [
             [
              0,
              "#0d0887"
             ],
             [
              0.1111111111111111,
              "#46039f"
             ],
             [
              0.2222222222222222,
              "#7201a8"
             ],
             [
              0.3333333333333333,
              "#9c179e"
             ],
             [
              0.4444444444444444,
              "#bd3786"
             ],
             [
              0.5555555555555556,
              "#d8576b"
             ],
             [
              0.6666666666666666,
              "#ed7953"
             ],
             [
              0.7777777777777778,
              "#fb9f3a"
             ],
             [
              0.8888888888888888,
              "#fdca26"
             ],
             [
              1,
              "#f0f921"
             ]
            ],
            "type": "contour"
           }
          ],
          "contourcarpet": [
           {
            "colorbar": {
             "outlinewidth": 0,
             "ticks": ""
            },
            "type": "contourcarpet"
           }
          ],
          "heatmap": [
           {
            "colorbar": {
             "outlinewidth": 0,
             "ticks": ""
            },
            "colorscale": [
             [
              0,
              "#0d0887"
             ],
             [
              0.1111111111111111,
              "#46039f"
             ],
             [
              0.2222222222222222,
              "#7201a8"
             ],
             [
              0.3333333333333333,
              "#9c179e"
             ],
             [
              0.4444444444444444,
              "#bd3786"
             ],
             [
              0.5555555555555556,
              "#d8576b"
             ],
             [
              0.6666666666666666,
              "#ed7953"
             ],
             [
              0.7777777777777778,
              "#fb9f3a"
             ],
             [
              0.8888888888888888,
              "#fdca26"
             ],
             [
              1,
              "#f0f921"
             ]
            ],
            "type": "heatmap"
           }
          ],
          "heatmapgl": [
           {
            "colorbar": {
             "outlinewidth": 0,
             "ticks": ""
            },
            "colorscale": [
             [
              0,
              "#0d0887"
             ],
             [
              0.1111111111111111,
              "#46039f"
             ],
             [
              0.2222222222222222,
              "#7201a8"
             ],
             [
              0.3333333333333333,
              "#9c179e"
             ],
             [
              0.4444444444444444,
              "#bd3786"
             ],
             [
              0.5555555555555556,
              "#d8576b"
             ],
             [
              0.6666666666666666,
              "#ed7953"
             ],
             [
              0.7777777777777778,
              "#fb9f3a"
             ],
             [
              0.8888888888888888,
              "#fdca26"
             ],
             [
              1,
              "#f0f921"
             ]
            ],
            "type": "heatmapgl"
           }
          ],
          "histogram": [
           {
            "marker": {
             "pattern": {
              "fillmode": "overlay",
              "size": 10,
              "solidity": 0.2
             }
            },
            "type": "histogram"
           }
          ],
          "histogram2d": [
           {
            "colorbar": {
             "outlinewidth": 0,
             "ticks": ""
            },
            "colorscale": [
             [
              0,
              "#0d0887"
             ],
             [
              0.1111111111111111,
              "#46039f"
             ],
             [
              0.2222222222222222,
              "#7201a8"
             ],
             [
              0.3333333333333333,
              "#9c179e"
             ],
             [
              0.4444444444444444,
              "#bd3786"
             ],
             [
              0.5555555555555556,
              "#d8576b"
             ],
             [
              0.6666666666666666,
              "#ed7953"
             ],
             [
              0.7777777777777778,
              "#fb9f3a"
             ],
             [
              0.8888888888888888,
              "#fdca26"
             ],
             [
              1,
              "#f0f921"
             ]
            ],
            "type": "histogram2d"
           }
          ],
          "histogram2dcontour": [
           {
            "colorbar": {
             "outlinewidth": 0,
             "ticks": ""
            },
            "colorscale": [
             [
              0,
              "#0d0887"
             ],
             [
              0.1111111111111111,
              "#46039f"
             ],
             [
              0.2222222222222222,
              "#7201a8"
             ],
             [
              0.3333333333333333,
              "#9c179e"
             ],
             [
              0.4444444444444444,
              "#bd3786"
             ],
             [
              0.5555555555555556,
              "#d8576b"
             ],
             [
              0.6666666666666666,
              "#ed7953"
             ],
             [
              0.7777777777777778,
              "#fb9f3a"
             ],
             [
              0.8888888888888888,
              "#fdca26"
             ],
             [
              1,
              "#f0f921"
             ]
            ],
            "type": "histogram2dcontour"
           }
          ],
          "mesh3d": [
           {
            "colorbar": {
             "outlinewidth": 0,
             "ticks": ""
            },
            "type": "mesh3d"
           }
          ],
          "parcoords": [
           {
            "line": {
             "colorbar": {
              "outlinewidth": 0,
              "ticks": ""
             }
            },
            "type": "parcoords"
           }
          ],
          "pie": [
           {
            "automargin": true,
            "type": "pie"
           }
          ],
          "scatter": [
           {
            "fillpattern": {
             "fillmode": "overlay",
             "size": 10,
             "solidity": 0.2
            },
            "type": "scatter"
           }
          ],
          "scatter3d": [
           {
            "line": {
             "colorbar": {
              "outlinewidth": 0,
              "ticks": ""
             }
            },
            "marker": {
             "colorbar": {
              "outlinewidth": 0,
              "ticks": ""
             }
            },
            "type": "scatter3d"
           }
          ],
          "scattercarpet": [
           {
            "marker": {
             "colorbar": {
              "outlinewidth": 0,
              "ticks": ""
             }
            },
            "type": "scattercarpet"
           }
          ],
          "scattergeo": [
           {
            "marker": {
             "colorbar": {
              "outlinewidth": 0,
              "ticks": ""
             }
            },
            "type": "scattergeo"
           }
          ],
          "scattergl": [
           {
            "marker": {
             "colorbar": {
              "outlinewidth": 0,
              "ticks": ""
             }
            },
            "type": "scattergl"
           }
          ],
          "scattermapbox": [
           {
            "marker": {
             "colorbar": {
              "outlinewidth": 0,
              "ticks": ""
             }
            },
            "type": "scattermapbox"
           }
          ],
          "scatterpolar": [
           {
            "marker": {
             "colorbar": {
              "outlinewidth": 0,
              "ticks": ""
             }
            },
            "type": "scatterpolar"
           }
          ],
          "scatterpolargl": [
           {
            "marker": {
             "colorbar": {
              "outlinewidth": 0,
              "ticks": ""
             }
            },
            "type": "scatterpolargl"
           }
          ],
          "scatterternary": [
           {
            "marker": {
             "colorbar": {
              "outlinewidth": 0,
              "ticks": ""
             }
            },
            "type": "scatterternary"
           }
          ],
          "surface": [
           {
            "colorbar": {
             "outlinewidth": 0,
             "ticks": ""
            },
            "colorscale": [
             [
              0,
              "#0d0887"
             ],
             [
              0.1111111111111111,
              "#46039f"
             ],
             [
              0.2222222222222222,
              "#7201a8"
             ],
             [
              0.3333333333333333,
              "#9c179e"
             ],
             [
              0.4444444444444444,
              "#bd3786"
             ],
             [
              0.5555555555555556,
              "#d8576b"
             ],
             [
              0.6666666666666666,
              "#ed7953"
             ],
             [
              0.7777777777777778,
              "#fb9f3a"
             ],
             [
              0.8888888888888888,
              "#fdca26"
             ],
             [
              1,
              "#f0f921"
             ]
            ],
            "type": "surface"
           }
          ],
          "table": [
           {
            "cells": {
             "fill": {
              "color": "#EBF0F8"
             },
             "line": {
              "color": "white"
             }
            },
            "header": {
             "fill": {
              "color": "#C8D4E3"
             },
             "line": {
              "color": "white"
             }
            },
            "type": "table"
           }
          ]
         },
         "layout": {
          "annotationdefaults": {
           "arrowcolor": "#2a3f5f",
           "arrowhead": 0,
           "arrowwidth": 1
          },
          "autotypenumbers": "strict",
          "coloraxis": {
           "colorbar": {
            "outlinewidth": 0,
            "ticks": ""
           }
          },
          "colorscale": {
           "diverging": [
            [
             0,
             "#8e0152"
            ],
            [
             0.1,
             "#c51b7d"
            ],
            [
             0.2,
             "#de77ae"
            ],
            [
             0.3,
             "#f1b6da"
            ],
            [
             0.4,
             "#fde0ef"
            ],
            [
             0.5,
             "#f7f7f7"
            ],
            [
             0.6,
             "#e6f5d0"
            ],
            [
             0.7,
             "#b8e186"
            ],
            [
             0.8,
             "#7fbc41"
            ],
            [
             0.9,
             "#4d9221"
            ],
            [
             1,
             "#276419"
            ]
           ],
           "sequential": [
            [
             0,
             "#0d0887"
            ],
            [
             0.1111111111111111,
             "#46039f"
            ],
            [
             0.2222222222222222,
             "#7201a8"
            ],
            [
             0.3333333333333333,
             "#9c179e"
            ],
            [
             0.4444444444444444,
             "#bd3786"
            ],
            [
             0.5555555555555556,
             "#d8576b"
            ],
            [
             0.6666666666666666,
             "#ed7953"
            ],
            [
             0.7777777777777778,
             "#fb9f3a"
            ],
            [
             0.8888888888888888,
             "#fdca26"
            ],
            [
             1,
             "#f0f921"
            ]
           ],
           "sequentialminus": [
            [
             0,
             "#0d0887"
            ],
            [
             0.1111111111111111,
             "#46039f"
            ],
            [
             0.2222222222222222,
             "#7201a8"
            ],
            [
             0.3333333333333333,
             "#9c179e"
            ],
            [
             0.4444444444444444,
             "#bd3786"
            ],
            [
             0.5555555555555556,
             "#d8576b"
            ],
            [
             0.6666666666666666,
             "#ed7953"
            ],
            [
             0.7777777777777778,
             "#fb9f3a"
            ],
            [
             0.8888888888888888,
             "#fdca26"
            ],
            [
             1,
             "#f0f921"
            ]
           ]
          },
          "colorway": [
           "#636efa",
           "#EF553B",
           "#00cc96",
           "#ab63fa",
           "#FFA15A",
           "#19d3f3",
           "#FF6692",
           "#B6E880",
           "#FF97FF",
           "#FECB52"
          ],
          "font": {
           "color": "#2a3f5f"
          },
          "geo": {
           "bgcolor": "white",
           "lakecolor": "white",
           "landcolor": "#E5ECF6",
           "showlakes": true,
           "showland": true,
           "subunitcolor": "white"
          },
          "hoverlabel": {
           "align": "left"
          },
          "hovermode": "closest",
          "mapbox": {
           "style": "light"
          },
          "paper_bgcolor": "white",
          "plot_bgcolor": "#E5ECF6",
          "polar": {
           "angularaxis": {
            "gridcolor": "white",
            "linecolor": "white",
            "ticks": ""
           },
           "bgcolor": "#E5ECF6",
           "radialaxis": {
            "gridcolor": "white",
            "linecolor": "white",
            "ticks": ""
           }
          },
          "scene": {
           "xaxis": {
            "backgroundcolor": "#E5ECF6",
            "gridcolor": "white",
            "gridwidth": 2,
            "linecolor": "white",
            "showbackground": true,
            "ticks": "",
            "zerolinecolor": "white"
           },
           "yaxis": {
            "backgroundcolor": "#E5ECF6",
            "gridcolor": "white",
            "gridwidth": 2,
            "linecolor": "white",
            "showbackground": true,
            "ticks": "",
            "zerolinecolor": "white"
           },
           "zaxis": {
            "backgroundcolor": "#E5ECF6",
            "gridcolor": "white",
            "gridwidth": 2,
            "linecolor": "white",
            "showbackground": true,
            "ticks": "",
            "zerolinecolor": "white"
           }
          },
          "shapedefaults": {
           "line": {
            "color": "#2a3f5f"
           }
          },
          "ternary": {
           "aaxis": {
            "gridcolor": "white",
            "linecolor": "white",
            "ticks": ""
           },
           "baxis": {
            "gridcolor": "white",
            "linecolor": "white",
            "ticks": ""
           },
           "bgcolor": "#E5ECF6",
           "caxis": {
            "gridcolor": "white",
            "linecolor": "white",
            "ticks": ""
           }
          },
          "title": {
           "x": 0.05
          },
          "xaxis": {
           "automargin": true,
           "gridcolor": "white",
           "linecolor": "white",
           "ticks": "",
           "title": {
            "standoff": 15
           },
           "zerolinecolor": "white",
           "zerolinewidth": 2
          },
          "yaxis": {
           "automargin": true,
           "gridcolor": "white",
           "linecolor": "white",
           "ticks": "",
           "title": {
            "standoff": 15
           },
           "zerolinecolor": "white",
           "zerolinewidth": 2
          }
         }
        }
       }
      },
      "text/html": [
       "<div>                            <div id=\"08324e24-ff6a-4bce-a092-d6c704872d16\" class=\"plotly-graph-div\" style=\"height:525px; width:100%;\"></div>            <script type=\"text/javascript\">                require([\"plotly\"], function(Plotly) {                    window.PLOTLYENV=window.PLOTLYENV || {};                                    if (document.getElementById(\"08324e24-ff6a-4bce-a092-d6c704872d16\")) {                    Plotly.newPlot(                        \"08324e24-ff6a-4bce-a092-d6c704872d16\",                        [{\"hovertemplate\":\"geohash2=u0ft_0<br>t=%{x}<br>lat_norm=%{y}<br>lon_norm=%{z}<extra></extra>\",\"legendgroup\":\"u0ft_0\",\"line\":{\"color\":\"#636efa\",\"dash\":\"solid\"},\"marker\":{\"symbol\":\"circle\"},\"mode\":\"lines\",\"name\":\"u0ft_0\",\"scene\":\"scene\",\"showlegend\":true,\"x\":[0,46,48,59,60,71,78,80,82,88,96,97,106,117,118,122,123,125,129,130,134,141,143,145,148,154,161,164,166,175,178,180,185,189,191,192,194,196,201,228,237,240,242,245,247,249,261,263,267,268,274,275,277,284,286,288,290,294,297,300,302,309,311,313,316,318,320,322,323,329,330,334,339,341,341,342,342,343,347,352,354,356,358,359,361,363,364,366,370,371,373,377,379,380,384,386,387,389,391,393,395,396,405,407,410,414,416,418,419,421,430,432,434,435,439,441,443,453,461,465,467,479,483,485,487,489,491,493,494,497,499,501,503,505,506,509,511,513,515,517,519,521,523,525,527,529,531,533,537,538,540,542,544,549,550,558,564,566,568,570,572,574,576,580,582,584,586,592,594,598,600,602,604,606,609,611,614,617,623,627,629,635,637,639,643,645,647,649,651,653,655,659,661,665,669,671,673,677,681,692,694,696,697,699,708,710,712],\"y\":[0.047343750000003126,0.02904374999999959,0.02664374999999808,0.025743749999996624,0.02454374999999942,0.03234375000000256,0.04794375000000173,0.043143749999998704,0.03894375000000139,0.036543749999999875,0.03564374999999842,0.034443750000001216,0.03504374999999982,0.03414374999999836,0.03354374999999976,0.032643749999998306,0.03504374999999982,0.03594375000000127,0.03354374999999976,0.029343750000002444,0.03294375000000116,0.03174374999999685,0.02904374999999959,0.04674374999999742,0.04794375000000173,0.044943750000001614,0.05064374999999899,0.03354374999999976,0.03744375000000133,0.023343750000002217,0.023043749999999363,0.02394375000000082,0.059343749999996476,0.058443750000002126,0.04794375000000173,0.04854375000000033,0.043143749999998704,0.04404375000000016,0.042843750000002956,0.032643749999998306,0.0308437500000025,0.02904374999999959,0.029343750000002444,0.02904374999999959,0.02904374999999959,0.028743749999996737,0.03294375000000116,0.034743749999996965,0.03174374999999685,0.0308437500000025,0.0308437500000025,0.03114374999999825,0.0308437500000025,0.030543749999999648,0.0314437500000011,0.030543749999999648,0.030543749999999648,0.0308437500000025,0.030243749999996794,0.029643749999998192,0.028743749999996737,0.027843750000002387,0.027543749999999534,0.027843750000002387,0.02634375000000233,0.02634375000000233,0.027543749999999534,0.026943750000000932,0.028143749999998136,0.02724374999999668,0.027843750000002387,0.028143749999998136,0.02634375000000233,0.026043749999999477,0.02634375000000233,0.02664374999999808,0.026943750000000932,0.027843750000002387,0.028143749999998136,0.028143749999998136,0.027843750000002387,0.028143749999998136,0.028143749999998136,0.027843750000002387,0.0314437500000011,0.02904374999999959,0.032043749999999704,0.0314437500000011,0.0314437500000011,0.032043749999999704,0.02724374999999668,0.03114374999999825,0.032043749999999704,0.029943750000001046,0.028743749999996737,0.024843750000002274,0.02454374999999942,0.02454374999999942,0.025443750000000875,0.026043749999999477,0.025143749999998022,0.026043749999999477,0.02634375000000233,0.026043749999999477,0.027543749999999534,0.02454374999999942,0.023643749999997965,0.028143749999998136,0.027843750000002387,0.03414374999999836,0.03534375000000267,0.034743749999996965,0.03504374999999982,0.034743749999996965,0.03714374999999848,0.034443750000001216,0.034743749999996965,0.03594375000000127,0.03684375000000273,0.036543749999999875,0.03714374999999848,0.03744375000000133,0.03744375000000133,0.039243749999997135,0.03864374999999853,0.038343750000002785,0.03744375000000133,0.03684375000000273,0.03684375000000273,0.03774374999999708,0.03714374999999848,0.03774374999999708,0.03804374999999993,0.038343750000002785,0.03774374999999708,0.03894375000000139,0.03954374999999999,0.03894375000000139,0.03804374999999993,0.03714374999999848,0.03744375000000133,0.03714374999999848,0.03804374999999993,0.03774374999999708,0.03714374999999848,0.03684375000000273,0.03714374999999848,0.03744375000000133,0.03684375000000273,0.03714374999999848,0.03684375000000273,0.03684375000000273,0.03714374999999848,0.03804374999999993,0.033843750000002615,0.03324374999999691,0.03414374999999836,0.032043749999999704,0.03174374999999685,0.032643749999998306,0.032643749999998306,0.032043749999999704,0.03294375000000116,0.032043749999999704,0.03234375000000256,0.03294375000000116,0.03294375000000116,0.034443750000001216,0.033843750000002615,0.034743749999996965,0.034743749999996965,0.03594375000000127,0.03564374999999842,0.03564374999999842,0.03564374999999842,0.03624374999999702,0.034743749999996965,0.03414374999999836,0.032043749999999704,0.03234375000000256,0.0314437500000011,0.032043749999999704,0.0314437500000011,0.0308437500000025,0.03174374999999685,0.0314437500000011,0.03504374999999982,0.03534375000000267,0.03534375000000267,0.03534375000000267,0.03414374999999836,0.03414374999999836,0.03564374999999842,0.03564374999999842,0.03564374999999842,0.03324374999999691,0.03324374999999691,0.03294375000000116,0.032043749999999704,0.03324374999999691,0.03174374999999685,0.032643749999998306,0.02904374999999959,0.032043749999999704,0.032643749999998306,0.03324374999999691,0.03234375000000256],\"z\":[0.25612499999999994,0.25912500000000005,0.2603249999999999,0.2594249999999998,0.2573249999999998,0.2678250000000002,0.2582249999999999,0.25492500000000007,0.2528250000000001,0.24682499999999985,0.2453249999999998,0.24472499999999986,0.24622499999999992,0.243525,0.24382500000000018,0.24622499999999992,0.24382500000000018,0.2465250000000001,0.24802500000000016,0.24772499999999997,0.253425,0.251325,0.2483249999999999,0.2531249999999998,0.2537250000000002,0.25012500000000015,0.2516250000000002,0.24772499999999997,0.24712500000000004,0.2525249999999999,0.25012500000000015,0.25222500000000014,0.26092499999999985,0.261825,0.2558250000000002,0.2603249999999999,0.25612499999999994,0.25672499999999987,0.2558250000000002,0.2537250000000002,0.2504249999999999,0.25102499999999983,0.25102499999999983,0.24802500000000016,0.2504249999999999,0.24982499999999996,0.24772499999999997,0.24262499999999987,0.2384249999999999,0.23872500000000008,0.2384249999999999,0.23722500000000002,0.2375250000000002,0.23812500000000014,0.23722500000000002,0.23662500000000009,0.23602500000000015,0.2363249999999999,0.23662500000000009,0.23872500000000008,0.23572499999999996,0.23662500000000009,0.2363249999999999,0.2363249999999999,0.2342249999999999,0.23692499999999983,0.23662500000000009,0.23572499999999996,0.23602500000000015,0.2345250000000001,0.23572499999999996,0.23662500000000009,0.23542500000000022,0.23602500000000015,0.23572499999999996,0.23692499999999983,0.23692499999999983,0.23692499999999983,0.2375250000000002,0.23722500000000002,0.23602500000000015,0.23572499999999996,0.23602500000000015,0.23812500000000014,0.2375250000000002,0.23602500000000015,0.23872500000000008,0.23782499999999995,0.23692499999999983,0.23692499999999983,0.23692499999999983,0.23722500000000002,0.23602500000000015,0.24202499999999993,0.23692499999999983,0.23992499999999994,0.23902499999999982,0.239325,0.239325,0.239325,0.2384249999999999,0.2375250000000002,0.23902499999999982,0.2384249999999999,0.239325,0.23782499999999995,0.23692499999999983,0.23662500000000009,0.2363249999999999,0.2384249999999999,0.23872500000000008,0.23782499999999995,0.2384249999999999,0.23872500000000008,0.23872500000000008,0.24262499999999987,0.24382500000000018,0.24562499999999998,0.24802500000000016,0.24802500000000016,0.24712500000000004,0.24772499999999997,0.24742499999999978,0.2516250000000002,0.25192499999999995,0.251325,0.2507250000000001,0.251325,0.25192499999999995,0.25222500000000014,0.2516250000000002,0.2507250000000001,0.25432500000000013,0.2528250000000001,0.25102499999999983,0.25222500000000014,0.253425,0.25012500000000015,0.2531249999999998,0.2537250000000002,0.2531249999999998,0.2528250000000001,0.253425,0.2531249999999998,0.2537250000000002,0.2546249999999999,0.25492500000000007,0.25492500000000007,0.2546249999999999,0.25402499999999995,0.25432500000000013,0.25402499999999995,0.2531249999999998,0.25612499999999994,0.253425,0.25612499999999994,0.25612499999999994,0.25192499999999995,0.2516250000000002,0.25102499999999983,0.2507250000000001,0.2504249999999999,0.2486250000000001,0.24742499999999978,0.2483249999999999,0.2486250000000001,0.24802500000000016,0.24682499999999985,0.24562499999999998,0.24772499999999997,0.24502500000000005,0.24682499999999985,0.24622499999999992,0.24562499999999998,0.24442500000000011,0.24712500000000004,0.24742499999999978,0.24712500000000004,0.2507250000000001,0.2504249999999999,0.24742499999999978,0.2525249999999999,0.251325,0.2504249999999999,0.25102499999999983,0.2516250000000002,0.24502500000000005,0.24472499999999986,0.24472499999999986,0.24502500000000005,0.24442500000000011,0.2453249999999998,0.24472499999999986,0.2453249999999998,0.24622499999999992,0.2528250000000001,0.25222500000000014,0.2537250000000002,0.2528250000000001,0.2531249999999998,0.2531249999999998,0.24742499999999978,0.253425,0.25192499999999995,0.2528250000000001,0.2507250000000001,0.251325],\"type\":\"scatter3d\"}],                        {\"template\":{\"data\":{\"histogram2dcontour\":[{\"type\":\"histogram2dcontour\",\"colorbar\":{\"outlinewidth\":0,\"ticks\":\"\"},\"colorscale\":[[0.0,\"#0d0887\"],[0.1111111111111111,\"#46039f\"],[0.2222222222222222,\"#7201a8\"],[0.3333333333333333,\"#9c179e\"],[0.4444444444444444,\"#bd3786\"],[0.5555555555555556,\"#d8576b\"],[0.6666666666666666,\"#ed7953\"],[0.7777777777777778,\"#fb9f3a\"],[0.8888888888888888,\"#fdca26\"],[1.0,\"#f0f921\"]]}],\"choropleth\":[{\"type\":\"choropleth\",\"colorbar\":{\"outlinewidth\":0,\"ticks\":\"\"}}],\"histogram2d\":[{\"type\":\"histogram2d\",\"colorbar\":{\"outlinewidth\":0,\"ticks\":\"\"},\"colorscale\":[[0.0,\"#0d0887\"],[0.1111111111111111,\"#46039f\"],[0.2222222222222222,\"#7201a8\"],[0.3333333333333333,\"#9c179e\"],[0.4444444444444444,\"#bd3786\"],[0.5555555555555556,\"#d8576b\"],[0.6666666666666666,\"#ed7953\"],[0.7777777777777778,\"#fb9f3a\"],[0.8888888888888888,\"#fdca26\"],[1.0,\"#f0f921\"]]}],\"heatmap\":[{\"type\":\"heatmap\",\"colorbar\":{\"outlinewidth\":0,\"ticks\":\"\"},\"colorscale\":[[0.0,\"#0d0887\"],[0.1111111111111111,\"#46039f\"],[0.2222222222222222,\"#7201a8\"],[0.3333333333333333,\"#9c179e\"],[0.4444444444444444,\"#bd3786\"],[0.5555555555555556,\"#d8576b\"],[0.6666666666666666,\"#ed7953\"],[0.7777777777777778,\"#fb9f3a\"],[0.8888888888888888,\"#fdca26\"],[1.0,\"#f0f921\"]]}],\"heatmapgl\":[{\"type\":\"heatmapgl\",\"colorbar\":{\"outlinewidth\":0,\"ticks\":\"\"},\"colorscale\":[[0.0,\"#0d0887\"],[0.1111111111111111,\"#46039f\"],[0.2222222222222222,\"#7201a8\"],[0.3333333333333333,\"#9c179e\"],[0.4444444444444444,\"#bd3786\"],[0.5555555555555556,\"#d8576b\"],[0.6666666666666666,\"#ed7953\"],[0.7777777777777778,\"#fb9f3a\"],[0.8888888888888888,\"#fdca26\"],[1.0,\"#f0f921\"]]}],\"contourcarpet\":[{\"type\":\"contourcarpet\",\"colorbar\":{\"outlinewidth\":0,\"ticks\":\"\"}}],\"contour\":[{\"type\":\"contour\",\"colorbar\":{\"outlinewidth\":0,\"ticks\":\"\"},\"colorscale\":[[0.0,\"#0d0887\"],[0.1111111111111111,\"#46039f\"],[0.2222222222222222,\"#7201a8\"],[0.3333333333333333,\"#9c179e\"],[0.4444444444444444,\"#bd3786\"],[0.5555555555555556,\"#d8576b\"],[0.6666666666666666,\"#ed7953\"],[0.7777777777777778,\"#fb9f3a\"],[0.8888888888888888,\"#fdca26\"],[1.0,\"#f0f921\"]]}],\"surface\":[{\"type\":\"surface\",\"colorbar\":{\"outlinewidth\":0,\"ticks\":\"\"},\"colorscale\":[[0.0,\"#0d0887\"],[0.1111111111111111,\"#46039f\"],[0.2222222222222222,\"#7201a8\"],[0.3333333333333333,\"#9c179e\"],[0.4444444444444444,\"#bd3786\"],[0.5555555555555556,\"#d8576b\"],[0.6666666666666666,\"#ed7953\"],[0.7777777777777778,\"#fb9f3a\"],[0.8888888888888888,\"#fdca26\"],[1.0,\"#f0f921\"]]}],\"mesh3d\":[{\"type\":\"mesh3d\",\"colorbar\":{\"outlinewidth\":0,\"ticks\":\"\"}}],\"scatter\":[{\"fillpattern\":{\"fillmode\":\"overlay\",\"size\":10,\"solidity\":0.2},\"type\":\"scatter\"}],\"parcoords\":[{\"type\":\"parcoords\",\"line\":{\"colorbar\":{\"outlinewidth\":0,\"ticks\":\"\"}}}],\"scatterpolargl\":[{\"type\":\"scatterpolargl\",\"marker\":{\"colorbar\":{\"outlinewidth\":0,\"ticks\":\"\"}}}],\"bar\":[{\"error_x\":{\"color\":\"#2a3f5f\"},\"error_y\":{\"color\":\"#2a3f5f\"},\"marker\":{\"line\":{\"color\":\"#E5ECF6\",\"width\":0.5},\"pattern\":{\"fillmode\":\"overlay\",\"size\":10,\"solidity\":0.2}},\"type\":\"bar\"}],\"scattergeo\":[{\"type\":\"scattergeo\",\"marker\":{\"colorbar\":{\"outlinewidth\":0,\"ticks\":\"\"}}}],\"scatterpolar\":[{\"type\":\"scatterpolar\",\"marker\":{\"colorbar\":{\"outlinewidth\":0,\"ticks\":\"\"}}}],\"histogram\":[{\"marker\":{\"pattern\":{\"fillmode\":\"overlay\",\"size\":10,\"solidity\":0.2}},\"type\":\"histogram\"}],\"scattergl\":[{\"type\":\"scattergl\",\"marker\":{\"colorbar\":{\"outlinewidth\":0,\"ticks\":\"\"}}}],\"scatter3d\":[{\"type\":\"scatter3d\",\"line\":{\"colorbar\":{\"outlinewidth\":0,\"ticks\":\"\"}},\"marker\":{\"colorbar\":{\"outlinewidth\":0,\"ticks\":\"\"}}}],\"scattermapbox\":[{\"type\":\"scattermapbox\",\"marker\":{\"colorbar\":{\"outlinewidth\":0,\"ticks\":\"\"}}}],\"scatterternary\":[{\"type\":\"scatterternary\",\"marker\":{\"colorbar\":{\"outlinewidth\":0,\"ticks\":\"\"}}}],\"scattercarpet\":[{\"type\":\"scattercarpet\",\"marker\":{\"colorbar\":{\"outlinewidth\":0,\"ticks\":\"\"}}}],\"carpet\":[{\"aaxis\":{\"endlinecolor\":\"#2a3f5f\",\"gridcolor\":\"white\",\"linecolor\":\"white\",\"minorgridcolor\":\"white\",\"startlinecolor\":\"#2a3f5f\"},\"baxis\":{\"endlinecolor\":\"#2a3f5f\",\"gridcolor\":\"white\",\"linecolor\":\"white\",\"minorgridcolor\":\"white\",\"startlinecolor\":\"#2a3f5f\"},\"type\":\"carpet\"}],\"table\":[{\"cells\":{\"fill\":{\"color\":\"#EBF0F8\"},\"line\":{\"color\":\"white\"}},\"header\":{\"fill\":{\"color\":\"#C8D4E3\"},\"line\":{\"color\":\"white\"}},\"type\":\"table\"}],\"barpolar\":[{\"marker\":{\"line\":{\"color\":\"#E5ECF6\",\"width\":0.5},\"pattern\":{\"fillmode\":\"overlay\",\"size\":10,\"solidity\":0.2}},\"type\":\"barpolar\"}],\"pie\":[{\"automargin\":true,\"type\":\"pie\"}]},\"layout\":{\"autotypenumbers\":\"strict\",\"colorway\":[\"#636efa\",\"#EF553B\",\"#00cc96\",\"#ab63fa\",\"#FFA15A\",\"#19d3f3\",\"#FF6692\",\"#B6E880\",\"#FF97FF\",\"#FECB52\"],\"font\":{\"color\":\"#2a3f5f\"},\"hovermode\":\"closest\",\"hoverlabel\":{\"align\":\"left\"},\"paper_bgcolor\":\"white\",\"plot_bgcolor\":\"#E5ECF6\",\"polar\":{\"bgcolor\":\"#E5ECF6\",\"angularaxis\":{\"gridcolor\":\"white\",\"linecolor\":\"white\",\"ticks\":\"\"},\"radialaxis\":{\"gridcolor\":\"white\",\"linecolor\":\"white\",\"ticks\":\"\"}},\"ternary\":{\"bgcolor\":\"#E5ECF6\",\"aaxis\":{\"gridcolor\":\"white\",\"linecolor\":\"white\",\"ticks\":\"\"},\"baxis\":{\"gridcolor\":\"white\",\"linecolor\":\"white\",\"ticks\":\"\"},\"caxis\":{\"gridcolor\":\"white\",\"linecolor\":\"white\",\"ticks\":\"\"}},\"coloraxis\":{\"colorbar\":{\"outlinewidth\":0,\"ticks\":\"\"}},\"colorscale\":{\"sequential\":[[0.0,\"#0d0887\"],[0.1111111111111111,\"#46039f\"],[0.2222222222222222,\"#7201a8\"],[0.3333333333333333,\"#9c179e\"],[0.4444444444444444,\"#bd3786\"],[0.5555555555555556,\"#d8576b\"],[0.6666666666666666,\"#ed7953\"],[0.7777777777777778,\"#fb9f3a\"],[0.8888888888888888,\"#fdca26\"],[1.0,\"#f0f921\"]],\"sequentialminus\":[[0.0,\"#0d0887\"],[0.1111111111111111,\"#46039f\"],[0.2222222222222222,\"#7201a8\"],[0.3333333333333333,\"#9c179e\"],[0.4444444444444444,\"#bd3786\"],[0.5555555555555556,\"#d8576b\"],[0.6666666666666666,\"#ed7953\"],[0.7777777777777778,\"#fb9f3a\"],[0.8888888888888888,\"#fdca26\"],[1.0,\"#f0f921\"]],\"diverging\":[[0,\"#8e0152\"],[0.1,\"#c51b7d\"],[0.2,\"#de77ae\"],[0.3,\"#f1b6da\"],[0.4,\"#fde0ef\"],[0.5,\"#f7f7f7\"],[0.6,\"#e6f5d0\"],[0.7,\"#b8e186\"],[0.8,\"#7fbc41\"],[0.9,\"#4d9221\"],[1,\"#276419\"]]},\"xaxis\":{\"gridcolor\":\"white\",\"linecolor\":\"white\",\"ticks\":\"\",\"title\":{\"standoff\":15},\"zerolinecolor\":\"white\",\"automargin\":true,\"zerolinewidth\":2},\"yaxis\":{\"gridcolor\":\"white\",\"linecolor\":\"white\",\"ticks\":\"\",\"title\":{\"standoff\":15},\"zerolinecolor\":\"white\",\"automargin\":true,\"zerolinewidth\":2},\"scene\":{\"xaxis\":{\"backgroundcolor\":\"#E5ECF6\",\"gridcolor\":\"white\",\"linecolor\":\"white\",\"showbackground\":true,\"ticks\":\"\",\"zerolinecolor\":\"white\",\"gridwidth\":2},\"yaxis\":{\"backgroundcolor\":\"#E5ECF6\",\"gridcolor\":\"white\",\"linecolor\":\"white\",\"showbackground\":true,\"ticks\":\"\",\"zerolinecolor\":\"white\",\"gridwidth\":2},\"zaxis\":{\"backgroundcolor\":\"#E5ECF6\",\"gridcolor\":\"white\",\"linecolor\":\"white\",\"showbackground\":true,\"ticks\":\"\",\"zerolinecolor\":\"white\",\"gridwidth\":2}},\"shapedefaults\":{\"line\":{\"color\":\"#2a3f5f\"}},\"annotationdefaults\":{\"arrowcolor\":\"#2a3f5f\",\"arrowhead\":0,\"arrowwidth\":1},\"geo\":{\"bgcolor\":\"white\",\"landcolor\":\"#E5ECF6\",\"subunitcolor\":\"white\",\"showland\":true,\"showlakes\":true,\"lakecolor\":\"white\"},\"title\":{\"x\":0.05},\"mapbox\":{\"style\":\"light\"}}},\"scene\":{\"domain\":{\"x\":[0.0,1.0],\"y\":[0.0,1.0]},\"xaxis\":{\"title\":{\"text\":\"t\"}},\"yaxis\":{\"title\":{\"text\":\"lat_norm\"}},\"zaxis\":{\"title\":{\"text\":\"lon_norm\"}}},\"legend\":{\"title\":{\"text\":\"geohash2\"},\"tracegroupgap\":0},\"margin\":{\"t\":60}},                        {\"responsive\": true}                    ).then(function(){\n",
       "                            \n",
       "var gd = document.getElementById('08324e24-ff6a-4bce-a092-d6c704872d16');\n",
       "var x = new MutationObserver(function (mutations, observer) {{\n",
       "        var display = window.getComputedStyle(gd).display;\n",
       "        if (!display || display === 'none') {{\n",
       "            console.log([gd, 'removed!']);\n",
       "            Plotly.purge(gd);\n",
       "            observer.disconnect();\n",
       "        }}\n",
       "}});\n",
       "\n",
       "// Listen for the removal of the full notebook cells\n",
       "var notebookContainer = gd.closest('#notebook-container');\n",
       "if (notebookContainer) {{\n",
       "    x.observe(notebookContainer, {childList: true});\n",
       "}}\n",
       "\n",
       "// Listen for the clearing of the current output cell\n",
       "var outputEl = gd.closest('.output');\n",
       "if (outputEl) {{\n",
       "    x.observe(outputEl, {childList: true});\n",
       "}}\n",
       "\n",
       "                        })                };                });            </script>        </div>"
      ]
     },
     "metadata": {},
     "output_type": "display_data"
    }
   ],
   "source": [
    "px.line_3d(df[df.tid == 1], x=\"t\", y=\"lat_norm\", z=\"lon_norm\", color=\"geohash2\")"
   ]
  },
  {
   "cell_type": "code",
   "execution_count": 41,
   "metadata": {
    "pycharm": {
     "name": "#%%\n"
    }
   },
   "outputs": [
    {
     "data": {
      "application/vnd.plotly.v1+json": {
       "config": {
        "plotlyServerURL": "https://plot.ly"
       },
       "data": [
        {
         "hovertemplate": "geohash2=u0ft_0<br>lat_norm=%{x}<br>lon_norm=%{y}<extra></extra>",
         "legendgroup": "u0ft_0",
         "line": {
          "color": "#636efa",
          "dash": "solid"
         },
         "marker": {
          "symbol": "circle"
         },
         "mode": "lines",
         "name": "u0ft_0",
         "orientation": "v",
         "showlegend": true,
         "type": "scatter",
         "x": [
          0.047343750000003126,
          0.02904374999999959,
          0.02664374999999808,
          0.025743749999996624,
          0.02454374999999942,
          0.03234375000000256,
          0.04794375000000173,
          0.043143749999998704,
          0.03894375000000139,
          0.036543749999999875,
          0.03564374999999842,
          0.034443750000001216,
          0.03504374999999982,
          0.03414374999999836,
          0.03354374999999976,
          0.032643749999998306,
          0.03504374999999982,
          0.03594375000000127,
          0.03354374999999976,
          0.029343750000002444,
          0.03294375000000116,
          0.03174374999999685,
          0.02904374999999959,
          0.04674374999999742,
          0.04794375000000173,
          0.044943750000001614,
          0.05064374999999899,
          0.03354374999999976,
          0.03744375000000133,
          0.023343750000002217,
          0.023043749999999363,
          0.02394375000000082,
          0.059343749999996476,
          0.058443750000002126,
          0.04794375000000173,
          0.04854375000000033,
          0.043143749999998704,
          0.04404375000000016,
          0.042843750000002956,
          0.032643749999998306,
          0.0308437500000025,
          0.02904374999999959,
          0.029343750000002444,
          0.02904374999999959,
          0.02904374999999959,
          0.028743749999996737,
          0.03294375000000116,
          0.034743749999996965,
          0.03174374999999685,
          0.0308437500000025,
          0.0308437500000025,
          0.03114374999999825,
          0.0308437500000025,
          0.030543749999999648,
          0.0314437500000011,
          0.030543749999999648,
          0.030543749999999648,
          0.0308437500000025,
          0.030243749999996794,
          0.029643749999998192,
          0.028743749999996737,
          0.027843750000002387,
          0.027543749999999534,
          0.027843750000002387,
          0.02634375000000233,
          0.02634375000000233,
          0.027543749999999534,
          0.026943750000000932,
          0.028143749999998136,
          0.02724374999999668,
          0.027843750000002387,
          0.028143749999998136,
          0.02634375000000233,
          0.026043749999999477,
          0.02634375000000233,
          0.02664374999999808,
          0.026943750000000932,
          0.027843750000002387,
          0.028143749999998136,
          0.028143749999998136,
          0.027843750000002387,
          0.028143749999998136,
          0.028143749999998136,
          0.027843750000002387,
          0.0314437500000011,
          0.02904374999999959,
          0.032043749999999704,
          0.0314437500000011,
          0.0314437500000011,
          0.032043749999999704,
          0.02724374999999668,
          0.03114374999999825,
          0.032043749999999704,
          0.029943750000001046,
          0.028743749999996737,
          0.024843750000002274,
          0.02454374999999942,
          0.02454374999999942,
          0.025443750000000875,
          0.026043749999999477,
          0.025143749999998022,
          0.026043749999999477,
          0.02634375000000233,
          0.026043749999999477,
          0.027543749999999534,
          0.02454374999999942,
          0.023643749999997965,
          0.028143749999998136,
          0.027843750000002387,
          0.03414374999999836,
          0.03534375000000267,
          0.034743749999996965,
          0.03504374999999982,
          0.034743749999996965,
          0.03714374999999848,
          0.034443750000001216,
          0.034743749999996965,
          0.03594375000000127,
          0.03684375000000273,
          0.036543749999999875,
          0.03714374999999848,
          0.03744375000000133,
          0.03744375000000133,
          0.039243749999997135,
          0.03864374999999853,
          0.038343750000002785,
          0.03744375000000133,
          0.03684375000000273,
          0.03684375000000273,
          0.03774374999999708,
          0.03714374999999848,
          0.03774374999999708,
          0.03804374999999993,
          0.038343750000002785,
          0.03774374999999708,
          0.03894375000000139,
          0.03954374999999999,
          0.03894375000000139,
          0.03804374999999993,
          0.03714374999999848,
          0.03744375000000133,
          0.03714374999999848,
          0.03804374999999993,
          0.03774374999999708,
          0.03714374999999848,
          0.03684375000000273,
          0.03714374999999848,
          0.03744375000000133,
          0.03684375000000273,
          0.03714374999999848,
          0.03684375000000273,
          0.03684375000000273,
          0.03714374999999848,
          0.03804374999999993,
          0.033843750000002615,
          0.03324374999999691,
          0.03414374999999836,
          0.032043749999999704,
          0.03174374999999685,
          0.032643749999998306,
          0.032643749999998306,
          0.032043749999999704,
          0.03294375000000116,
          0.032043749999999704,
          0.03234375000000256,
          0.03294375000000116,
          0.03294375000000116,
          0.034443750000001216,
          0.033843750000002615,
          0.034743749999996965,
          0.034743749999996965,
          0.03594375000000127,
          0.03564374999999842,
          0.03564374999999842,
          0.03564374999999842,
          0.03624374999999702,
          0.034743749999996965,
          0.03414374999999836,
          0.032043749999999704,
          0.03234375000000256,
          0.0314437500000011,
          0.032043749999999704,
          0.0314437500000011,
          0.0308437500000025,
          0.03174374999999685,
          0.0314437500000011,
          0.03504374999999982,
          0.03534375000000267,
          0.03534375000000267,
          0.03534375000000267,
          0.03414374999999836,
          0.03414374999999836,
          0.03564374999999842,
          0.03564374999999842,
          0.03564374999999842,
          0.03324374999999691,
          0.03324374999999691,
          0.03294375000000116,
          0.032043749999999704,
          0.03324374999999691,
          0.03174374999999685,
          0.032643749999998306,
          0.02904374999999959,
          0.032043749999999704,
          0.032643749999998306,
          0.03324374999999691,
          0.03234375000000256
         ],
         "xaxis": "x",
         "y": [
          0.25612499999999994,
          0.25912500000000005,
          0.2603249999999999,
          0.2594249999999998,
          0.2573249999999998,
          0.2678250000000002,
          0.2582249999999999,
          0.25492500000000007,
          0.2528250000000001,
          0.24682499999999985,
          0.2453249999999998,
          0.24472499999999986,
          0.24622499999999992,
          0.243525,
          0.24382500000000018,
          0.24622499999999992,
          0.24382500000000018,
          0.2465250000000001,
          0.24802500000000016,
          0.24772499999999997,
          0.253425,
          0.251325,
          0.2483249999999999,
          0.2531249999999998,
          0.2537250000000002,
          0.25012500000000015,
          0.2516250000000002,
          0.24772499999999997,
          0.24712500000000004,
          0.2525249999999999,
          0.25012500000000015,
          0.25222500000000014,
          0.26092499999999985,
          0.261825,
          0.2558250000000002,
          0.2603249999999999,
          0.25612499999999994,
          0.25672499999999987,
          0.2558250000000002,
          0.2537250000000002,
          0.2504249999999999,
          0.25102499999999983,
          0.25102499999999983,
          0.24802500000000016,
          0.2504249999999999,
          0.24982499999999996,
          0.24772499999999997,
          0.24262499999999987,
          0.2384249999999999,
          0.23872500000000008,
          0.2384249999999999,
          0.23722500000000002,
          0.2375250000000002,
          0.23812500000000014,
          0.23722500000000002,
          0.23662500000000009,
          0.23602500000000015,
          0.2363249999999999,
          0.23662500000000009,
          0.23872500000000008,
          0.23572499999999996,
          0.23662500000000009,
          0.2363249999999999,
          0.2363249999999999,
          0.2342249999999999,
          0.23692499999999983,
          0.23662500000000009,
          0.23572499999999996,
          0.23602500000000015,
          0.2345250000000001,
          0.23572499999999996,
          0.23662500000000009,
          0.23542500000000022,
          0.23602500000000015,
          0.23572499999999996,
          0.23692499999999983,
          0.23692499999999983,
          0.23692499999999983,
          0.2375250000000002,
          0.23722500000000002,
          0.23602500000000015,
          0.23572499999999996,
          0.23602500000000015,
          0.23812500000000014,
          0.2375250000000002,
          0.23602500000000015,
          0.23872500000000008,
          0.23782499999999995,
          0.23692499999999983,
          0.23692499999999983,
          0.23692499999999983,
          0.23722500000000002,
          0.23602500000000015,
          0.24202499999999993,
          0.23692499999999983,
          0.23992499999999994,
          0.23902499999999982,
          0.239325,
          0.239325,
          0.239325,
          0.2384249999999999,
          0.2375250000000002,
          0.23902499999999982,
          0.2384249999999999,
          0.239325,
          0.23782499999999995,
          0.23692499999999983,
          0.23662500000000009,
          0.2363249999999999,
          0.2384249999999999,
          0.23872500000000008,
          0.23782499999999995,
          0.2384249999999999,
          0.23872500000000008,
          0.23872500000000008,
          0.24262499999999987,
          0.24382500000000018,
          0.24562499999999998,
          0.24802500000000016,
          0.24802500000000016,
          0.24712500000000004,
          0.24772499999999997,
          0.24742499999999978,
          0.2516250000000002,
          0.25192499999999995,
          0.251325,
          0.2507250000000001,
          0.251325,
          0.25192499999999995,
          0.25222500000000014,
          0.2516250000000002,
          0.2507250000000001,
          0.25432500000000013,
          0.2528250000000001,
          0.25102499999999983,
          0.25222500000000014,
          0.253425,
          0.25012500000000015,
          0.2531249999999998,
          0.2537250000000002,
          0.2531249999999998,
          0.2528250000000001,
          0.253425,
          0.2531249999999998,
          0.2537250000000002,
          0.2546249999999999,
          0.25492500000000007,
          0.25492500000000007,
          0.2546249999999999,
          0.25402499999999995,
          0.25432500000000013,
          0.25402499999999995,
          0.2531249999999998,
          0.25612499999999994,
          0.253425,
          0.25612499999999994,
          0.25612499999999994,
          0.25192499999999995,
          0.2516250000000002,
          0.25102499999999983,
          0.2507250000000001,
          0.2504249999999999,
          0.2486250000000001,
          0.24742499999999978,
          0.2483249999999999,
          0.2486250000000001,
          0.24802500000000016,
          0.24682499999999985,
          0.24562499999999998,
          0.24772499999999997,
          0.24502500000000005,
          0.24682499999999985,
          0.24622499999999992,
          0.24562499999999998,
          0.24442500000000011,
          0.24712500000000004,
          0.24742499999999978,
          0.24712500000000004,
          0.2507250000000001,
          0.2504249999999999,
          0.24742499999999978,
          0.2525249999999999,
          0.251325,
          0.2504249999999999,
          0.25102499999999983,
          0.2516250000000002,
          0.24502500000000005,
          0.24472499999999986,
          0.24472499999999986,
          0.24502500000000005,
          0.24442500000000011,
          0.2453249999999998,
          0.24472499999999986,
          0.2453249999999998,
          0.24622499999999992,
          0.2528250000000001,
          0.25222500000000014,
          0.2537250000000002,
          0.2528250000000001,
          0.2531249999999998,
          0.2531249999999998,
          0.24742499999999978,
          0.253425,
          0.25192499999999995,
          0.2528250000000001,
          0.2507250000000001,
          0.251325
         ],
         "yaxis": "y"
        }
       ],
       "layout": {
        "legend": {
         "title": {
          "text": "geohash2"
         },
         "tracegroupgap": 0
        },
        "margin": {
         "t": 60
        },
        "template": {
         "data": {
          "bar": [
           {
            "error_x": {
             "color": "#2a3f5f"
            },
            "error_y": {
             "color": "#2a3f5f"
            },
            "marker": {
             "line": {
              "color": "#E5ECF6",
              "width": 0.5
             },
             "pattern": {
              "fillmode": "overlay",
              "size": 10,
              "solidity": 0.2
             }
            },
            "type": "bar"
           }
          ],
          "barpolar": [
           {
            "marker": {
             "line": {
              "color": "#E5ECF6",
              "width": 0.5
             },
             "pattern": {
              "fillmode": "overlay",
              "size": 10,
              "solidity": 0.2
             }
            },
            "type": "barpolar"
           }
          ],
          "carpet": [
           {
            "aaxis": {
             "endlinecolor": "#2a3f5f",
             "gridcolor": "white",
             "linecolor": "white",
             "minorgridcolor": "white",
             "startlinecolor": "#2a3f5f"
            },
            "baxis": {
             "endlinecolor": "#2a3f5f",
             "gridcolor": "white",
             "linecolor": "white",
             "minorgridcolor": "white",
             "startlinecolor": "#2a3f5f"
            },
            "type": "carpet"
           }
          ],
          "choropleth": [
           {
            "colorbar": {
             "outlinewidth": 0,
             "ticks": ""
            },
            "type": "choropleth"
           }
          ],
          "contour": [
           {
            "colorbar": {
             "outlinewidth": 0,
             "ticks": ""
            },
            "colorscale": [
             [
              0,
              "#0d0887"
             ],
             [
              0.1111111111111111,
              "#46039f"
             ],
             [
              0.2222222222222222,
              "#7201a8"
             ],
             [
              0.3333333333333333,
              "#9c179e"
             ],
             [
              0.4444444444444444,
              "#bd3786"
             ],
             [
              0.5555555555555556,
              "#d8576b"
             ],
             [
              0.6666666666666666,
              "#ed7953"
             ],
             [
              0.7777777777777778,
              "#fb9f3a"
             ],
             [
              0.8888888888888888,
              "#fdca26"
             ],
             [
              1,
              "#f0f921"
             ]
            ],
            "type": "contour"
           }
          ],
          "contourcarpet": [
           {
            "colorbar": {
             "outlinewidth": 0,
             "ticks": ""
            },
            "type": "contourcarpet"
           }
          ],
          "heatmap": [
           {
            "colorbar": {
             "outlinewidth": 0,
             "ticks": ""
            },
            "colorscale": [
             [
              0,
              "#0d0887"
             ],
             [
              0.1111111111111111,
              "#46039f"
             ],
             [
              0.2222222222222222,
              "#7201a8"
             ],
             [
              0.3333333333333333,
              "#9c179e"
             ],
             [
              0.4444444444444444,
              "#bd3786"
             ],
             [
              0.5555555555555556,
              "#d8576b"
             ],
             [
              0.6666666666666666,
              "#ed7953"
             ],
             [
              0.7777777777777778,
              "#fb9f3a"
             ],
             [
              0.8888888888888888,
              "#fdca26"
             ],
             [
              1,
              "#f0f921"
             ]
            ],
            "type": "heatmap"
           }
          ],
          "heatmapgl": [
           {
            "colorbar": {
             "outlinewidth": 0,
             "ticks": ""
            },
            "colorscale": [
             [
              0,
              "#0d0887"
             ],
             [
              0.1111111111111111,
              "#46039f"
             ],
             [
              0.2222222222222222,
              "#7201a8"
             ],
             [
              0.3333333333333333,
              "#9c179e"
             ],
             [
              0.4444444444444444,
              "#bd3786"
             ],
             [
              0.5555555555555556,
              "#d8576b"
             ],
             [
              0.6666666666666666,
              "#ed7953"
             ],
             [
              0.7777777777777778,
              "#fb9f3a"
             ],
             [
              0.8888888888888888,
              "#fdca26"
             ],
             [
              1,
              "#f0f921"
             ]
            ],
            "type": "heatmapgl"
           }
          ],
          "histogram": [
           {
            "marker": {
             "pattern": {
              "fillmode": "overlay",
              "size": 10,
              "solidity": 0.2
             }
            },
            "type": "histogram"
           }
          ],
          "histogram2d": [
           {
            "colorbar": {
             "outlinewidth": 0,
             "ticks": ""
            },
            "colorscale": [
             [
              0,
              "#0d0887"
             ],
             [
              0.1111111111111111,
              "#46039f"
             ],
             [
              0.2222222222222222,
              "#7201a8"
             ],
             [
              0.3333333333333333,
              "#9c179e"
             ],
             [
              0.4444444444444444,
              "#bd3786"
             ],
             [
              0.5555555555555556,
              "#d8576b"
             ],
             [
              0.6666666666666666,
              "#ed7953"
             ],
             [
              0.7777777777777778,
              "#fb9f3a"
             ],
             [
              0.8888888888888888,
              "#fdca26"
             ],
             [
              1,
              "#f0f921"
             ]
            ],
            "type": "histogram2d"
           }
          ],
          "histogram2dcontour": [
           {
            "colorbar": {
             "outlinewidth": 0,
             "ticks": ""
            },
            "colorscale": [
             [
              0,
              "#0d0887"
             ],
             [
              0.1111111111111111,
              "#46039f"
             ],
             [
              0.2222222222222222,
              "#7201a8"
             ],
             [
              0.3333333333333333,
              "#9c179e"
             ],
             [
              0.4444444444444444,
              "#bd3786"
             ],
             [
              0.5555555555555556,
              "#d8576b"
             ],
             [
              0.6666666666666666,
              "#ed7953"
             ],
             [
              0.7777777777777778,
              "#fb9f3a"
             ],
             [
              0.8888888888888888,
              "#fdca26"
             ],
             [
              1,
              "#f0f921"
             ]
            ],
            "type": "histogram2dcontour"
           }
          ],
          "mesh3d": [
           {
            "colorbar": {
             "outlinewidth": 0,
             "ticks": ""
            },
            "type": "mesh3d"
           }
          ],
          "parcoords": [
           {
            "line": {
             "colorbar": {
              "outlinewidth": 0,
              "ticks": ""
             }
            },
            "type": "parcoords"
           }
          ],
          "pie": [
           {
            "automargin": true,
            "type": "pie"
           }
          ],
          "scatter": [
           {
            "fillpattern": {
             "fillmode": "overlay",
             "size": 10,
             "solidity": 0.2
            },
            "type": "scatter"
           }
          ],
          "scatter3d": [
           {
            "line": {
             "colorbar": {
              "outlinewidth": 0,
              "ticks": ""
             }
            },
            "marker": {
             "colorbar": {
              "outlinewidth": 0,
              "ticks": ""
             }
            },
            "type": "scatter3d"
           }
          ],
          "scattercarpet": [
           {
            "marker": {
             "colorbar": {
              "outlinewidth": 0,
              "ticks": ""
             }
            },
            "type": "scattercarpet"
           }
          ],
          "scattergeo": [
           {
            "marker": {
             "colorbar": {
              "outlinewidth": 0,
              "ticks": ""
             }
            },
            "type": "scattergeo"
           }
          ],
          "scattergl": [
           {
            "marker": {
             "colorbar": {
              "outlinewidth": 0,
              "ticks": ""
             }
            },
            "type": "scattergl"
           }
          ],
          "scattermapbox": [
           {
            "marker": {
             "colorbar": {
              "outlinewidth": 0,
              "ticks": ""
             }
            },
            "type": "scattermapbox"
           }
          ],
          "scatterpolar": [
           {
            "marker": {
             "colorbar": {
              "outlinewidth": 0,
              "ticks": ""
             }
            },
            "type": "scatterpolar"
           }
          ],
          "scatterpolargl": [
           {
            "marker": {
             "colorbar": {
              "outlinewidth": 0,
              "ticks": ""
             }
            },
            "type": "scatterpolargl"
           }
          ],
          "scatterternary": [
           {
            "marker": {
             "colorbar": {
              "outlinewidth": 0,
              "ticks": ""
             }
            },
            "type": "scatterternary"
           }
          ],
          "surface": [
           {
            "colorbar": {
             "outlinewidth": 0,
             "ticks": ""
            },
            "colorscale": [
             [
              0,
              "#0d0887"
             ],
             [
              0.1111111111111111,
              "#46039f"
             ],
             [
              0.2222222222222222,
              "#7201a8"
             ],
             [
              0.3333333333333333,
              "#9c179e"
             ],
             [
              0.4444444444444444,
              "#bd3786"
             ],
             [
              0.5555555555555556,
              "#d8576b"
             ],
             [
              0.6666666666666666,
              "#ed7953"
             ],
             [
              0.7777777777777778,
              "#fb9f3a"
             ],
             [
              0.8888888888888888,
              "#fdca26"
             ],
             [
              1,
              "#f0f921"
             ]
            ],
            "type": "surface"
           }
          ],
          "table": [
           {
            "cells": {
             "fill": {
              "color": "#EBF0F8"
             },
             "line": {
              "color": "white"
             }
            },
            "header": {
             "fill": {
              "color": "#C8D4E3"
             },
             "line": {
              "color": "white"
             }
            },
            "type": "table"
           }
          ]
         },
         "layout": {
          "annotationdefaults": {
           "arrowcolor": "#2a3f5f",
           "arrowhead": 0,
           "arrowwidth": 1
          },
          "autotypenumbers": "strict",
          "coloraxis": {
           "colorbar": {
            "outlinewidth": 0,
            "ticks": ""
           }
          },
          "colorscale": {
           "diverging": [
            [
             0,
             "#8e0152"
            ],
            [
             0.1,
             "#c51b7d"
            ],
            [
             0.2,
             "#de77ae"
            ],
            [
             0.3,
             "#f1b6da"
            ],
            [
             0.4,
             "#fde0ef"
            ],
            [
             0.5,
             "#f7f7f7"
            ],
            [
             0.6,
             "#e6f5d0"
            ],
            [
             0.7,
             "#b8e186"
            ],
            [
             0.8,
             "#7fbc41"
            ],
            [
             0.9,
             "#4d9221"
            ],
            [
             1,
             "#276419"
            ]
           ],
           "sequential": [
            [
             0,
             "#0d0887"
            ],
            [
             0.1111111111111111,
             "#46039f"
            ],
            [
             0.2222222222222222,
             "#7201a8"
            ],
            [
             0.3333333333333333,
             "#9c179e"
            ],
            [
             0.4444444444444444,
             "#bd3786"
            ],
            [
             0.5555555555555556,
             "#d8576b"
            ],
            [
             0.6666666666666666,
             "#ed7953"
            ],
            [
             0.7777777777777778,
             "#fb9f3a"
            ],
            [
             0.8888888888888888,
             "#fdca26"
            ],
            [
             1,
             "#f0f921"
            ]
           ],
           "sequentialminus": [
            [
             0,
             "#0d0887"
            ],
            [
             0.1111111111111111,
             "#46039f"
            ],
            [
             0.2222222222222222,
             "#7201a8"
            ],
            [
             0.3333333333333333,
             "#9c179e"
            ],
            [
             0.4444444444444444,
             "#bd3786"
            ],
            [
             0.5555555555555556,
             "#d8576b"
            ],
            [
             0.6666666666666666,
             "#ed7953"
            ],
            [
             0.7777777777777778,
             "#fb9f3a"
            ],
            [
             0.8888888888888888,
             "#fdca26"
            ],
            [
             1,
             "#f0f921"
            ]
           ]
          },
          "colorway": [
           "#636efa",
           "#EF553B",
           "#00cc96",
           "#ab63fa",
           "#FFA15A",
           "#19d3f3",
           "#FF6692",
           "#B6E880",
           "#FF97FF",
           "#FECB52"
          ],
          "font": {
           "color": "#2a3f5f"
          },
          "geo": {
           "bgcolor": "white",
           "lakecolor": "white",
           "landcolor": "#E5ECF6",
           "showlakes": true,
           "showland": true,
           "subunitcolor": "white"
          },
          "hoverlabel": {
           "align": "left"
          },
          "hovermode": "closest",
          "mapbox": {
           "style": "light"
          },
          "paper_bgcolor": "white",
          "plot_bgcolor": "#E5ECF6",
          "polar": {
           "angularaxis": {
            "gridcolor": "white",
            "linecolor": "white",
            "ticks": ""
           },
           "bgcolor": "#E5ECF6",
           "radialaxis": {
            "gridcolor": "white",
            "linecolor": "white",
            "ticks": ""
           }
          },
          "scene": {
           "xaxis": {
            "backgroundcolor": "#E5ECF6",
            "gridcolor": "white",
            "gridwidth": 2,
            "linecolor": "white",
            "showbackground": true,
            "ticks": "",
            "zerolinecolor": "white"
           },
           "yaxis": {
            "backgroundcolor": "#E5ECF6",
            "gridcolor": "white",
            "gridwidth": 2,
            "linecolor": "white",
            "showbackground": true,
            "ticks": "",
            "zerolinecolor": "white"
           },
           "zaxis": {
            "backgroundcolor": "#E5ECF6",
            "gridcolor": "white",
            "gridwidth": 2,
            "linecolor": "white",
            "showbackground": true,
            "ticks": "",
            "zerolinecolor": "white"
           }
          },
          "shapedefaults": {
           "line": {
            "color": "#2a3f5f"
           }
          },
          "ternary": {
           "aaxis": {
            "gridcolor": "white",
            "linecolor": "white",
            "ticks": ""
           },
           "baxis": {
            "gridcolor": "white",
            "linecolor": "white",
            "ticks": ""
           },
           "bgcolor": "#E5ECF6",
           "caxis": {
            "gridcolor": "white",
            "linecolor": "white",
            "ticks": ""
           }
          },
          "title": {
           "x": 0.05
          },
          "xaxis": {
           "automargin": true,
           "gridcolor": "white",
           "linecolor": "white",
           "ticks": "",
           "title": {
            "standoff": 15
           },
           "zerolinecolor": "white",
           "zerolinewidth": 2
          },
          "yaxis": {
           "automargin": true,
           "gridcolor": "white",
           "linecolor": "white",
           "ticks": "",
           "title": {
            "standoff": 15
           },
           "zerolinecolor": "white",
           "zerolinewidth": 2
          }
         }
        },
        "xaxis": {
         "anchor": "y",
         "domain": [
          0,
          1
         ],
         "title": {
          "text": "lat_norm"
         }
        },
        "yaxis": {
         "anchor": "x",
         "domain": [
          0,
          1
         ],
         "title": {
          "text": "lon_norm"
         }
        }
       }
      },
      "text/html": [
       "<div>                            <div id=\"85930920-021e-47d6-9790-fc1dbcfc3148\" class=\"plotly-graph-div\" style=\"height:525px; width:100%;\"></div>            <script type=\"text/javascript\">                require([\"plotly\"], function(Plotly) {                    window.PLOTLYENV=window.PLOTLYENV || {};                                    if (document.getElementById(\"85930920-021e-47d6-9790-fc1dbcfc3148\")) {                    Plotly.newPlot(                        \"85930920-021e-47d6-9790-fc1dbcfc3148\",                        [{\"hovertemplate\":\"geohash2=u0ft_0<br>lat_norm=%{x}<br>lon_norm=%{y}<extra></extra>\",\"legendgroup\":\"u0ft_0\",\"line\":{\"color\":\"#636efa\",\"dash\":\"solid\"},\"marker\":{\"symbol\":\"circle\"},\"mode\":\"lines\",\"name\":\"u0ft_0\",\"orientation\":\"v\",\"showlegend\":true,\"x\":[0.047343750000003126,0.02904374999999959,0.02664374999999808,0.025743749999996624,0.02454374999999942,0.03234375000000256,0.04794375000000173,0.043143749999998704,0.03894375000000139,0.036543749999999875,0.03564374999999842,0.034443750000001216,0.03504374999999982,0.03414374999999836,0.03354374999999976,0.032643749999998306,0.03504374999999982,0.03594375000000127,0.03354374999999976,0.029343750000002444,0.03294375000000116,0.03174374999999685,0.02904374999999959,0.04674374999999742,0.04794375000000173,0.044943750000001614,0.05064374999999899,0.03354374999999976,0.03744375000000133,0.023343750000002217,0.023043749999999363,0.02394375000000082,0.059343749999996476,0.058443750000002126,0.04794375000000173,0.04854375000000033,0.043143749999998704,0.04404375000000016,0.042843750000002956,0.032643749999998306,0.0308437500000025,0.02904374999999959,0.029343750000002444,0.02904374999999959,0.02904374999999959,0.028743749999996737,0.03294375000000116,0.034743749999996965,0.03174374999999685,0.0308437500000025,0.0308437500000025,0.03114374999999825,0.0308437500000025,0.030543749999999648,0.0314437500000011,0.030543749999999648,0.030543749999999648,0.0308437500000025,0.030243749999996794,0.029643749999998192,0.028743749999996737,0.027843750000002387,0.027543749999999534,0.027843750000002387,0.02634375000000233,0.02634375000000233,0.027543749999999534,0.026943750000000932,0.028143749999998136,0.02724374999999668,0.027843750000002387,0.028143749999998136,0.02634375000000233,0.026043749999999477,0.02634375000000233,0.02664374999999808,0.026943750000000932,0.027843750000002387,0.028143749999998136,0.028143749999998136,0.027843750000002387,0.028143749999998136,0.028143749999998136,0.027843750000002387,0.0314437500000011,0.02904374999999959,0.032043749999999704,0.0314437500000011,0.0314437500000011,0.032043749999999704,0.02724374999999668,0.03114374999999825,0.032043749999999704,0.029943750000001046,0.028743749999996737,0.024843750000002274,0.02454374999999942,0.02454374999999942,0.025443750000000875,0.026043749999999477,0.025143749999998022,0.026043749999999477,0.02634375000000233,0.026043749999999477,0.027543749999999534,0.02454374999999942,0.023643749999997965,0.028143749999998136,0.027843750000002387,0.03414374999999836,0.03534375000000267,0.034743749999996965,0.03504374999999982,0.034743749999996965,0.03714374999999848,0.034443750000001216,0.034743749999996965,0.03594375000000127,0.03684375000000273,0.036543749999999875,0.03714374999999848,0.03744375000000133,0.03744375000000133,0.039243749999997135,0.03864374999999853,0.038343750000002785,0.03744375000000133,0.03684375000000273,0.03684375000000273,0.03774374999999708,0.03714374999999848,0.03774374999999708,0.03804374999999993,0.038343750000002785,0.03774374999999708,0.03894375000000139,0.03954374999999999,0.03894375000000139,0.03804374999999993,0.03714374999999848,0.03744375000000133,0.03714374999999848,0.03804374999999993,0.03774374999999708,0.03714374999999848,0.03684375000000273,0.03714374999999848,0.03744375000000133,0.03684375000000273,0.03714374999999848,0.03684375000000273,0.03684375000000273,0.03714374999999848,0.03804374999999993,0.033843750000002615,0.03324374999999691,0.03414374999999836,0.032043749999999704,0.03174374999999685,0.032643749999998306,0.032643749999998306,0.032043749999999704,0.03294375000000116,0.032043749999999704,0.03234375000000256,0.03294375000000116,0.03294375000000116,0.034443750000001216,0.033843750000002615,0.034743749999996965,0.034743749999996965,0.03594375000000127,0.03564374999999842,0.03564374999999842,0.03564374999999842,0.03624374999999702,0.034743749999996965,0.03414374999999836,0.032043749999999704,0.03234375000000256,0.0314437500000011,0.032043749999999704,0.0314437500000011,0.0308437500000025,0.03174374999999685,0.0314437500000011,0.03504374999999982,0.03534375000000267,0.03534375000000267,0.03534375000000267,0.03414374999999836,0.03414374999999836,0.03564374999999842,0.03564374999999842,0.03564374999999842,0.03324374999999691,0.03324374999999691,0.03294375000000116,0.032043749999999704,0.03324374999999691,0.03174374999999685,0.032643749999998306,0.02904374999999959,0.032043749999999704,0.032643749999998306,0.03324374999999691,0.03234375000000256],\"xaxis\":\"x\",\"y\":[0.25612499999999994,0.25912500000000005,0.2603249999999999,0.2594249999999998,0.2573249999999998,0.2678250000000002,0.2582249999999999,0.25492500000000007,0.2528250000000001,0.24682499999999985,0.2453249999999998,0.24472499999999986,0.24622499999999992,0.243525,0.24382500000000018,0.24622499999999992,0.24382500000000018,0.2465250000000001,0.24802500000000016,0.24772499999999997,0.253425,0.251325,0.2483249999999999,0.2531249999999998,0.2537250000000002,0.25012500000000015,0.2516250000000002,0.24772499999999997,0.24712500000000004,0.2525249999999999,0.25012500000000015,0.25222500000000014,0.26092499999999985,0.261825,0.2558250000000002,0.2603249999999999,0.25612499999999994,0.25672499999999987,0.2558250000000002,0.2537250000000002,0.2504249999999999,0.25102499999999983,0.25102499999999983,0.24802500000000016,0.2504249999999999,0.24982499999999996,0.24772499999999997,0.24262499999999987,0.2384249999999999,0.23872500000000008,0.2384249999999999,0.23722500000000002,0.2375250000000002,0.23812500000000014,0.23722500000000002,0.23662500000000009,0.23602500000000015,0.2363249999999999,0.23662500000000009,0.23872500000000008,0.23572499999999996,0.23662500000000009,0.2363249999999999,0.2363249999999999,0.2342249999999999,0.23692499999999983,0.23662500000000009,0.23572499999999996,0.23602500000000015,0.2345250000000001,0.23572499999999996,0.23662500000000009,0.23542500000000022,0.23602500000000015,0.23572499999999996,0.23692499999999983,0.23692499999999983,0.23692499999999983,0.2375250000000002,0.23722500000000002,0.23602500000000015,0.23572499999999996,0.23602500000000015,0.23812500000000014,0.2375250000000002,0.23602500000000015,0.23872500000000008,0.23782499999999995,0.23692499999999983,0.23692499999999983,0.23692499999999983,0.23722500000000002,0.23602500000000015,0.24202499999999993,0.23692499999999983,0.23992499999999994,0.23902499999999982,0.239325,0.239325,0.239325,0.2384249999999999,0.2375250000000002,0.23902499999999982,0.2384249999999999,0.239325,0.23782499999999995,0.23692499999999983,0.23662500000000009,0.2363249999999999,0.2384249999999999,0.23872500000000008,0.23782499999999995,0.2384249999999999,0.23872500000000008,0.23872500000000008,0.24262499999999987,0.24382500000000018,0.24562499999999998,0.24802500000000016,0.24802500000000016,0.24712500000000004,0.24772499999999997,0.24742499999999978,0.2516250000000002,0.25192499999999995,0.251325,0.2507250000000001,0.251325,0.25192499999999995,0.25222500000000014,0.2516250000000002,0.2507250000000001,0.25432500000000013,0.2528250000000001,0.25102499999999983,0.25222500000000014,0.253425,0.25012500000000015,0.2531249999999998,0.2537250000000002,0.2531249999999998,0.2528250000000001,0.253425,0.2531249999999998,0.2537250000000002,0.2546249999999999,0.25492500000000007,0.25492500000000007,0.2546249999999999,0.25402499999999995,0.25432500000000013,0.25402499999999995,0.2531249999999998,0.25612499999999994,0.253425,0.25612499999999994,0.25612499999999994,0.25192499999999995,0.2516250000000002,0.25102499999999983,0.2507250000000001,0.2504249999999999,0.2486250000000001,0.24742499999999978,0.2483249999999999,0.2486250000000001,0.24802500000000016,0.24682499999999985,0.24562499999999998,0.24772499999999997,0.24502500000000005,0.24682499999999985,0.24622499999999992,0.24562499999999998,0.24442500000000011,0.24712500000000004,0.24742499999999978,0.24712500000000004,0.2507250000000001,0.2504249999999999,0.24742499999999978,0.2525249999999999,0.251325,0.2504249999999999,0.25102499999999983,0.2516250000000002,0.24502500000000005,0.24472499999999986,0.24472499999999986,0.24502500000000005,0.24442500000000011,0.2453249999999998,0.24472499999999986,0.2453249999999998,0.24622499999999992,0.2528250000000001,0.25222500000000014,0.2537250000000002,0.2528250000000001,0.2531249999999998,0.2531249999999998,0.24742499999999978,0.253425,0.25192499999999995,0.2528250000000001,0.2507250000000001,0.251325],\"yaxis\":\"y\",\"type\":\"scatter\"}],                        {\"template\":{\"data\":{\"histogram2dcontour\":[{\"type\":\"histogram2dcontour\",\"colorbar\":{\"outlinewidth\":0,\"ticks\":\"\"},\"colorscale\":[[0.0,\"#0d0887\"],[0.1111111111111111,\"#46039f\"],[0.2222222222222222,\"#7201a8\"],[0.3333333333333333,\"#9c179e\"],[0.4444444444444444,\"#bd3786\"],[0.5555555555555556,\"#d8576b\"],[0.6666666666666666,\"#ed7953\"],[0.7777777777777778,\"#fb9f3a\"],[0.8888888888888888,\"#fdca26\"],[1.0,\"#f0f921\"]]}],\"choropleth\":[{\"type\":\"choropleth\",\"colorbar\":{\"outlinewidth\":0,\"ticks\":\"\"}}],\"histogram2d\":[{\"type\":\"histogram2d\",\"colorbar\":{\"outlinewidth\":0,\"ticks\":\"\"},\"colorscale\":[[0.0,\"#0d0887\"],[0.1111111111111111,\"#46039f\"],[0.2222222222222222,\"#7201a8\"],[0.3333333333333333,\"#9c179e\"],[0.4444444444444444,\"#bd3786\"],[0.5555555555555556,\"#d8576b\"],[0.6666666666666666,\"#ed7953\"],[0.7777777777777778,\"#fb9f3a\"],[0.8888888888888888,\"#fdca26\"],[1.0,\"#f0f921\"]]}],\"heatmap\":[{\"type\":\"heatmap\",\"colorbar\":{\"outlinewidth\":0,\"ticks\":\"\"},\"colorscale\":[[0.0,\"#0d0887\"],[0.1111111111111111,\"#46039f\"],[0.2222222222222222,\"#7201a8\"],[0.3333333333333333,\"#9c179e\"],[0.4444444444444444,\"#bd3786\"],[0.5555555555555556,\"#d8576b\"],[0.6666666666666666,\"#ed7953\"],[0.7777777777777778,\"#fb9f3a\"],[0.8888888888888888,\"#fdca26\"],[1.0,\"#f0f921\"]]}],\"heatmapgl\":[{\"type\":\"heatmapgl\",\"colorbar\":{\"outlinewidth\":0,\"ticks\":\"\"},\"colorscale\":[[0.0,\"#0d0887\"],[0.1111111111111111,\"#46039f\"],[0.2222222222222222,\"#7201a8\"],[0.3333333333333333,\"#9c179e\"],[0.4444444444444444,\"#bd3786\"],[0.5555555555555556,\"#d8576b\"],[0.6666666666666666,\"#ed7953\"],[0.7777777777777778,\"#fb9f3a\"],[0.8888888888888888,\"#fdca26\"],[1.0,\"#f0f921\"]]}],\"contourcarpet\":[{\"type\":\"contourcarpet\",\"colorbar\":{\"outlinewidth\":0,\"ticks\":\"\"}}],\"contour\":[{\"type\":\"contour\",\"colorbar\":{\"outlinewidth\":0,\"ticks\":\"\"},\"colorscale\":[[0.0,\"#0d0887\"],[0.1111111111111111,\"#46039f\"],[0.2222222222222222,\"#7201a8\"],[0.3333333333333333,\"#9c179e\"],[0.4444444444444444,\"#bd3786\"],[0.5555555555555556,\"#d8576b\"],[0.6666666666666666,\"#ed7953\"],[0.7777777777777778,\"#fb9f3a\"],[0.8888888888888888,\"#fdca26\"],[1.0,\"#f0f921\"]]}],\"surface\":[{\"type\":\"surface\",\"colorbar\":{\"outlinewidth\":0,\"ticks\":\"\"},\"colorscale\":[[0.0,\"#0d0887\"],[0.1111111111111111,\"#46039f\"],[0.2222222222222222,\"#7201a8\"],[0.3333333333333333,\"#9c179e\"],[0.4444444444444444,\"#bd3786\"],[0.5555555555555556,\"#d8576b\"],[0.6666666666666666,\"#ed7953\"],[0.7777777777777778,\"#fb9f3a\"],[0.8888888888888888,\"#fdca26\"],[1.0,\"#f0f921\"]]}],\"mesh3d\":[{\"type\":\"mesh3d\",\"colorbar\":{\"outlinewidth\":0,\"ticks\":\"\"}}],\"scatter\":[{\"fillpattern\":{\"fillmode\":\"overlay\",\"size\":10,\"solidity\":0.2},\"type\":\"scatter\"}],\"parcoords\":[{\"type\":\"parcoords\",\"line\":{\"colorbar\":{\"outlinewidth\":0,\"ticks\":\"\"}}}],\"scatterpolargl\":[{\"type\":\"scatterpolargl\",\"marker\":{\"colorbar\":{\"outlinewidth\":0,\"ticks\":\"\"}}}],\"bar\":[{\"error_x\":{\"color\":\"#2a3f5f\"},\"error_y\":{\"color\":\"#2a3f5f\"},\"marker\":{\"line\":{\"color\":\"#E5ECF6\",\"width\":0.5},\"pattern\":{\"fillmode\":\"overlay\",\"size\":10,\"solidity\":0.2}},\"type\":\"bar\"}],\"scattergeo\":[{\"type\":\"scattergeo\",\"marker\":{\"colorbar\":{\"outlinewidth\":0,\"ticks\":\"\"}}}],\"scatterpolar\":[{\"type\":\"scatterpolar\",\"marker\":{\"colorbar\":{\"outlinewidth\":0,\"ticks\":\"\"}}}],\"histogram\":[{\"marker\":{\"pattern\":{\"fillmode\":\"overlay\",\"size\":10,\"solidity\":0.2}},\"type\":\"histogram\"}],\"scattergl\":[{\"type\":\"scattergl\",\"marker\":{\"colorbar\":{\"outlinewidth\":0,\"ticks\":\"\"}}}],\"scatter3d\":[{\"type\":\"scatter3d\",\"line\":{\"colorbar\":{\"outlinewidth\":0,\"ticks\":\"\"}},\"marker\":{\"colorbar\":{\"outlinewidth\":0,\"ticks\":\"\"}}}],\"scattermapbox\":[{\"type\":\"scattermapbox\",\"marker\":{\"colorbar\":{\"outlinewidth\":0,\"ticks\":\"\"}}}],\"scatterternary\":[{\"type\":\"scatterternary\",\"marker\":{\"colorbar\":{\"outlinewidth\":0,\"ticks\":\"\"}}}],\"scattercarpet\":[{\"type\":\"scattercarpet\",\"marker\":{\"colorbar\":{\"outlinewidth\":0,\"ticks\":\"\"}}}],\"carpet\":[{\"aaxis\":{\"endlinecolor\":\"#2a3f5f\",\"gridcolor\":\"white\",\"linecolor\":\"white\",\"minorgridcolor\":\"white\",\"startlinecolor\":\"#2a3f5f\"},\"baxis\":{\"endlinecolor\":\"#2a3f5f\",\"gridcolor\":\"white\",\"linecolor\":\"white\",\"minorgridcolor\":\"white\",\"startlinecolor\":\"#2a3f5f\"},\"type\":\"carpet\"}],\"table\":[{\"cells\":{\"fill\":{\"color\":\"#EBF0F8\"},\"line\":{\"color\":\"white\"}},\"header\":{\"fill\":{\"color\":\"#C8D4E3\"},\"line\":{\"color\":\"white\"}},\"type\":\"table\"}],\"barpolar\":[{\"marker\":{\"line\":{\"color\":\"#E5ECF6\",\"width\":0.5},\"pattern\":{\"fillmode\":\"overlay\",\"size\":10,\"solidity\":0.2}},\"type\":\"barpolar\"}],\"pie\":[{\"automargin\":true,\"type\":\"pie\"}]},\"layout\":{\"autotypenumbers\":\"strict\",\"colorway\":[\"#636efa\",\"#EF553B\",\"#00cc96\",\"#ab63fa\",\"#FFA15A\",\"#19d3f3\",\"#FF6692\",\"#B6E880\",\"#FF97FF\",\"#FECB52\"],\"font\":{\"color\":\"#2a3f5f\"},\"hovermode\":\"closest\",\"hoverlabel\":{\"align\":\"left\"},\"paper_bgcolor\":\"white\",\"plot_bgcolor\":\"#E5ECF6\",\"polar\":{\"bgcolor\":\"#E5ECF6\",\"angularaxis\":{\"gridcolor\":\"white\",\"linecolor\":\"white\",\"ticks\":\"\"},\"radialaxis\":{\"gridcolor\":\"white\",\"linecolor\":\"white\",\"ticks\":\"\"}},\"ternary\":{\"bgcolor\":\"#E5ECF6\",\"aaxis\":{\"gridcolor\":\"white\",\"linecolor\":\"white\",\"ticks\":\"\"},\"baxis\":{\"gridcolor\":\"white\",\"linecolor\":\"white\",\"ticks\":\"\"},\"caxis\":{\"gridcolor\":\"white\",\"linecolor\":\"white\",\"ticks\":\"\"}},\"coloraxis\":{\"colorbar\":{\"outlinewidth\":0,\"ticks\":\"\"}},\"colorscale\":{\"sequential\":[[0.0,\"#0d0887\"],[0.1111111111111111,\"#46039f\"],[0.2222222222222222,\"#7201a8\"],[0.3333333333333333,\"#9c179e\"],[0.4444444444444444,\"#bd3786\"],[0.5555555555555556,\"#d8576b\"],[0.6666666666666666,\"#ed7953\"],[0.7777777777777778,\"#fb9f3a\"],[0.8888888888888888,\"#fdca26\"],[1.0,\"#f0f921\"]],\"sequentialminus\":[[0.0,\"#0d0887\"],[0.1111111111111111,\"#46039f\"],[0.2222222222222222,\"#7201a8\"],[0.3333333333333333,\"#9c179e\"],[0.4444444444444444,\"#bd3786\"],[0.5555555555555556,\"#d8576b\"],[0.6666666666666666,\"#ed7953\"],[0.7777777777777778,\"#fb9f3a\"],[0.8888888888888888,\"#fdca26\"],[1.0,\"#f0f921\"]],\"diverging\":[[0,\"#8e0152\"],[0.1,\"#c51b7d\"],[0.2,\"#de77ae\"],[0.3,\"#f1b6da\"],[0.4,\"#fde0ef\"],[0.5,\"#f7f7f7\"],[0.6,\"#e6f5d0\"],[0.7,\"#b8e186\"],[0.8,\"#7fbc41\"],[0.9,\"#4d9221\"],[1,\"#276419\"]]},\"xaxis\":{\"gridcolor\":\"white\",\"linecolor\":\"white\",\"ticks\":\"\",\"title\":{\"standoff\":15},\"zerolinecolor\":\"white\",\"automargin\":true,\"zerolinewidth\":2},\"yaxis\":{\"gridcolor\":\"white\",\"linecolor\":\"white\",\"ticks\":\"\",\"title\":{\"standoff\":15},\"zerolinecolor\":\"white\",\"automargin\":true,\"zerolinewidth\":2},\"scene\":{\"xaxis\":{\"backgroundcolor\":\"#E5ECF6\",\"gridcolor\":\"white\",\"linecolor\":\"white\",\"showbackground\":true,\"ticks\":\"\",\"zerolinecolor\":\"white\",\"gridwidth\":2},\"yaxis\":{\"backgroundcolor\":\"#E5ECF6\",\"gridcolor\":\"white\",\"linecolor\":\"white\",\"showbackground\":true,\"ticks\":\"\",\"zerolinecolor\":\"white\",\"gridwidth\":2},\"zaxis\":{\"backgroundcolor\":\"#E5ECF6\",\"gridcolor\":\"white\",\"linecolor\":\"white\",\"showbackground\":true,\"ticks\":\"\",\"zerolinecolor\":\"white\",\"gridwidth\":2}},\"shapedefaults\":{\"line\":{\"color\":\"#2a3f5f\"}},\"annotationdefaults\":{\"arrowcolor\":\"#2a3f5f\",\"arrowhead\":0,\"arrowwidth\":1},\"geo\":{\"bgcolor\":\"white\",\"landcolor\":\"#E5ECF6\",\"subunitcolor\":\"white\",\"showland\":true,\"showlakes\":true,\"lakecolor\":\"white\"},\"title\":{\"x\":0.05},\"mapbox\":{\"style\":\"light\"}}},\"xaxis\":{\"anchor\":\"y\",\"domain\":[0.0,1.0],\"title\":{\"text\":\"lat_norm\"}},\"yaxis\":{\"anchor\":\"x\",\"domain\":[0.0,1.0],\"title\":{\"text\":\"lon_norm\"}},\"legend\":{\"title\":{\"text\":\"geohash2\"},\"tracegroupgap\":0},\"margin\":{\"t\":60}},                        {\"responsive\": true}                    ).then(function(){\n",
       "                            \n",
       "var gd = document.getElementById('85930920-021e-47d6-9790-fc1dbcfc3148');\n",
       "var x = new MutationObserver(function (mutations, observer) {{\n",
       "        var display = window.getComputedStyle(gd).display;\n",
       "        if (!display || display === 'none') {{\n",
       "            console.log([gd, 'removed!']);\n",
       "            Plotly.purge(gd);\n",
       "            observer.disconnect();\n",
       "        }}\n",
       "}});\n",
       "\n",
       "// Listen for the removal of the full notebook cells\n",
       "var notebookContainer = gd.closest('#notebook-container');\n",
       "if (notebookContainer) {{\n",
       "    x.observe(notebookContainer, {childList: true});\n",
       "}}\n",
       "\n",
       "// Listen for the clearing of the current output cell\n",
       "var outputEl = gd.closest('.output');\n",
       "if (outputEl) {{\n",
       "    x.observe(outputEl, {childList: true});\n",
       "}}\n",
       "\n",
       "                        })                };                });            </script>        </div>"
      ]
     },
     "metadata": {},
     "output_type": "display_data"
    }
   ],
   "source": [
    "px.line(df[df.tid==1], x=\"lat_norm\", y=\"lon_norm\", color=\"geohash2\")"
   ]
  },
  {
   "cell_type": "code",
   "execution_count": 42,
   "metadata": {
    "pycharm": {
     "name": "#%%\n"
    }
   },
   "outputs": [
    {
     "data": {
      "application/vnd.plotly.v1+json": {
       "config": {
        "plotlyServerURL": "https://plot.ly"
       },
       "data": [
        {
         "hovertemplate": "t=%{x}<br>c1=%{y}<br>c2=%{z}<extra></extra>",
         "legendgroup": "",
         "line": {
          "color": "#636efa",
          "dash": "solid"
         },
         "marker": {
          "symbol": "circle"
         },
         "mode": "lines",
         "name": "",
         "scene": "scene",
         "showlegend": false,
         "type": "scatter3d",
         "x": [
          0,
          46,
          48,
          59,
          60,
          71,
          78,
          80,
          82,
          88,
          96,
          97,
          106,
          117,
          118,
          122,
          123,
          125,
          129,
          130,
          134,
          141,
          143,
          145,
          148,
          154,
          161,
          164,
          166,
          175,
          178,
          180,
          185,
          189,
          191,
          192,
          194,
          196,
          201,
          228,
          237,
          240,
          242,
          245,
          247,
          249,
          261,
          263,
          267,
          268,
          274,
          275,
          277,
          284,
          286,
          288,
          290,
          294,
          297,
          300,
          302,
          309,
          311,
          313,
          316,
          318,
          320,
          322,
          323,
          329,
          330,
          334,
          339,
          341,
          341,
          342,
          342,
          343,
          347,
          352,
          354,
          356,
          358,
          359,
          361,
          363,
          364,
          366,
          370,
          371,
          373,
          377,
          379,
          380,
          384,
          386,
          387,
          389,
          391,
          393,
          395,
          396,
          405,
          407,
          410,
          414,
          416,
          418,
          419,
          421,
          430,
          432,
          434,
          435,
          439,
          441,
          443,
          453,
          461,
          465,
          467,
          479,
          483,
          485,
          487,
          489,
          491,
          493,
          494,
          497,
          499,
          501,
          503,
          505,
          506,
          509,
          511,
          513,
          515,
          517,
          519,
          521,
          523,
          525,
          527,
          529,
          531,
          533,
          537,
          538,
          540,
          542,
          544,
          549,
          550,
          558,
          564,
          566,
          568,
          570,
          572,
          574,
          576,
          580,
          582,
          584,
          586,
          592,
          594,
          598,
          600,
          602,
          604,
          606,
          609,
          611,
          614,
          617,
          623,
          627,
          629,
          635,
          637,
          639,
          643,
          645,
          647,
          649,
          651,
          653,
          655,
          659,
          661,
          665,
          669,
          671,
          673,
          677,
          681,
          692,
          694,
          696,
          697,
          699,
          708,
          710,
          712
         ],
         "y": [
          50.145,
          50.1267,
          50.1243,
          50.1234,
          50.1222,
          50.13,
          50.1456,
          50.1408,
          50.1366,
          50.1342,
          50.1333,
          50.1321,
          50.1327,
          50.1318,
          50.1312,
          50.1303,
          50.1327,
          50.1336,
          50.1312,
          50.127,
          50.1306,
          50.1294,
          50.1267,
          50.1444,
          50.1456,
          50.1426,
          50.1483,
          50.1312,
          50.1351,
          50.121,
          50.1207,
          50.1216,
          50.157,
          50.1561,
          50.1456,
          50.1462,
          50.1408,
          50.1417,
          50.1405,
          50.1303,
          50.1285,
          50.1267,
          50.127,
          50.1267,
          50.1267,
          50.1264,
          50.1306,
          50.1324,
          50.1294,
          50.1285,
          50.1285,
          50.1288,
          50.1285,
          50.1282,
          50.1291,
          50.1282,
          50.1282,
          50.1285,
          50.1279,
          50.1273,
          50.1264,
          50.1255,
          50.1252,
          50.1255,
          50.124,
          50.124,
          50.1252,
          50.1246,
          50.1258,
          50.1249,
          50.1255,
          50.1258,
          50.124,
          50.1237,
          50.124,
          50.1243,
          50.1246,
          50.1255,
          50.1258,
          50.1258,
          50.1255,
          50.1258,
          50.1258,
          50.1255,
          50.1291,
          50.1267,
          50.1297,
          50.1291,
          50.1291,
          50.1297,
          50.1249,
          50.1288,
          50.1297,
          50.1276,
          50.1264,
          50.1225,
          50.1222,
          50.1222,
          50.1231,
          50.1237,
          50.1228,
          50.1237,
          50.124,
          50.1237,
          50.1252,
          50.1222,
          50.1213,
          50.1258,
          50.1255,
          50.1318,
          50.133,
          50.1324,
          50.1327,
          50.1324,
          50.1348,
          50.1321,
          50.1324,
          50.1336,
          50.1345,
          50.1342,
          50.1348,
          50.1351,
          50.1351,
          50.1369,
          50.1363,
          50.136,
          50.1351,
          50.1345,
          50.1345,
          50.1354,
          50.1348,
          50.1354,
          50.1357,
          50.136,
          50.1354,
          50.1366,
          50.1372,
          50.1366,
          50.1357,
          50.1348,
          50.1351,
          50.1348,
          50.1357,
          50.1354,
          50.1348,
          50.1345,
          50.1348,
          50.1351,
          50.1345,
          50.1348,
          50.1345,
          50.1345,
          50.1348,
          50.1357,
          50.1315,
          50.1309,
          50.1318,
          50.1297,
          50.1294,
          50.1303,
          50.1303,
          50.1297,
          50.1306,
          50.1297,
          50.13,
          50.1306,
          50.1306,
          50.1321,
          50.1315,
          50.1324,
          50.1324,
          50.1336,
          50.1333,
          50.1333,
          50.1333,
          50.1339,
          50.1324,
          50.1318,
          50.1297,
          50.13,
          50.1291,
          50.1297,
          50.1291,
          50.1285,
          50.1294,
          50.1291,
          50.1327,
          50.133,
          50.133,
          50.133,
          50.1318,
          50.1318,
          50.1333,
          50.1333,
          50.1333,
          50.1309,
          50.1309,
          50.1306,
          50.1297,
          50.1309,
          50.1294,
          50.1303,
          50.1267,
          50.1297,
          50.1303,
          50.1309,
          50.13
         ],
         "z": [
          3.77175,
          3.77475,
          3.77595,
          3.77505,
          3.77295,
          3.78345,
          3.77385,
          3.77055,
          3.76845,
          3.76245,
          3.76095,
          3.76035,
          3.76185,
          3.75915,
          3.75945,
          3.76185,
          3.75945,
          3.76215,
          3.76365,
          3.76335,
          3.76905,
          3.76695,
          3.76395,
          3.76875,
          3.76935,
          3.76575,
          3.76725,
          3.76335,
          3.76275,
          3.76815,
          3.76575,
          3.76785,
          3.77655,
          3.77745,
          3.77145,
          3.77595,
          3.77175,
          3.77235,
          3.77145,
          3.76935,
          3.76605,
          3.76665,
          3.76665,
          3.76365,
          3.76605,
          3.76545,
          3.76335,
          3.75825,
          3.75405,
          3.75435,
          3.75405,
          3.75285,
          3.75315,
          3.75375,
          3.75285,
          3.75225,
          3.75165,
          3.75195,
          3.75225,
          3.75435,
          3.75135,
          3.75225,
          3.75195,
          3.75195,
          3.74985,
          3.75255,
          3.75225,
          3.75135,
          3.75165,
          3.75015,
          3.75135,
          3.75225,
          3.75105,
          3.75165,
          3.75135,
          3.75255,
          3.75255,
          3.75255,
          3.75315,
          3.75285,
          3.75165,
          3.75135,
          3.75165,
          3.75375,
          3.75315,
          3.75165,
          3.75435,
          3.75345,
          3.75255,
          3.75255,
          3.75255,
          3.75285,
          3.75165,
          3.75765,
          3.75255,
          3.75555,
          3.75465,
          3.75495,
          3.75495,
          3.75495,
          3.75405,
          3.75315,
          3.75465,
          3.75405,
          3.75495,
          3.75345,
          3.75255,
          3.75225,
          3.75195,
          3.75405,
          3.75435,
          3.75345,
          3.75405,
          3.75435,
          3.75435,
          3.75825,
          3.75945,
          3.76125,
          3.76365,
          3.76365,
          3.76275,
          3.76335,
          3.76305,
          3.76725,
          3.76755,
          3.76695,
          3.76635,
          3.76695,
          3.76755,
          3.76785,
          3.76725,
          3.76635,
          3.76995,
          3.76845,
          3.76665,
          3.76785,
          3.76905,
          3.76575,
          3.76875,
          3.76935,
          3.76875,
          3.76845,
          3.76905,
          3.76875,
          3.76935,
          3.77025,
          3.77055,
          3.77055,
          3.77025,
          3.76965,
          3.76995,
          3.76965,
          3.76875,
          3.77175,
          3.76905,
          3.77175,
          3.77175,
          3.76755,
          3.76725,
          3.76665,
          3.76635,
          3.76605,
          3.76425,
          3.76305,
          3.76395,
          3.76425,
          3.76365,
          3.76245,
          3.76125,
          3.76335,
          3.76065,
          3.76245,
          3.76185,
          3.76125,
          3.76005,
          3.76275,
          3.76305,
          3.76275,
          3.76635,
          3.76605,
          3.76305,
          3.76815,
          3.76695,
          3.76605,
          3.76665,
          3.76725,
          3.76065,
          3.76035,
          3.76035,
          3.76065,
          3.76005,
          3.76095,
          3.76035,
          3.76095,
          3.76185,
          3.76845,
          3.76785,
          3.76935,
          3.76845,
          3.76875,
          3.76875,
          3.76305,
          3.76905,
          3.76755,
          3.76845,
          3.76635,
          3.76695
         ]
        }
       ],
       "layout": {
        "legend": {
         "tracegroupgap": 0
        },
        "margin": {
         "t": 60
        },
        "scene": {
         "domain": {
          "x": [
           0,
           1
          ],
          "y": [
           0,
           1
          ]
         },
         "xaxis": {
          "title": {
           "text": "t"
          }
         },
         "yaxis": {
          "title": {
           "text": "c1"
          }
         },
         "zaxis": {
          "title": {
           "text": "c2"
          }
         }
        },
        "template": {
         "data": {
          "bar": [
           {
            "error_x": {
             "color": "#2a3f5f"
            },
            "error_y": {
             "color": "#2a3f5f"
            },
            "marker": {
             "line": {
              "color": "#E5ECF6",
              "width": 0.5
             },
             "pattern": {
              "fillmode": "overlay",
              "size": 10,
              "solidity": 0.2
             }
            },
            "type": "bar"
           }
          ],
          "barpolar": [
           {
            "marker": {
             "line": {
              "color": "#E5ECF6",
              "width": 0.5
             },
             "pattern": {
              "fillmode": "overlay",
              "size": 10,
              "solidity": 0.2
             }
            },
            "type": "barpolar"
           }
          ],
          "carpet": [
           {
            "aaxis": {
             "endlinecolor": "#2a3f5f",
             "gridcolor": "white",
             "linecolor": "white",
             "minorgridcolor": "white",
             "startlinecolor": "#2a3f5f"
            },
            "baxis": {
             "endlinecolor": "#2a3f5f",
             "gridcolor": "white",
             "linecolor": "white",
             "minorgridcolor": "white",
             "startlinecolor": "#2a3f5f"
            },
            "type": "carpet"
           }
          ],
          "choropleth": [
           {
            "colorbar": {
             "outlinewidth": 0,
             "ticks": ""
            },
            "type": "choropleth"
           }
          ],
          "contour": [
           {
            "colorbar": {
             "outlinewidth": 0,
             "ticks": ""
            },
            "colorscale": [
             [
              0,
              "#0d0887"
             ],
             [
              0.1111111111111111,
              "#46039f"
             ],
             [
              0.2222222222222222,
              "#7201a8"
             ],
             [
              0.3333333333333333,
              "#9c179e"
             ],
             [
              0.4444444444444444,
              "#bd3786"
             ],
             [
              0.5555555555555556,
              "#d8576b"
             ],
             [
              0.6666666666666666,
              "#ed7953"
             ],
             [
              0.7777777777777778,
              "#fb9f3a"
             ],
             [
              0.8888888888888888,
              "#fdca26"
             ],
             [
              1,
              "#f0f921"
             ]
            ],
            "type": "contour"
           }
          ],
          "contourcarpet": [
           {
            "colorbar": {
             "outlinewidth": 0,
             "ticks": ""
            },
            "type": "contourcarpet"
           }
          ],
          "heatmap": [
           {
            "colorbar": {
             "outlinewidth": 0,
             "ticks": ""
            },
            "colorscale": [
             [
              0,
              "#0d0887"
             ],
             [
              0.1111111111111111,
              "#46039f"
             ],
             [
              0.2222222222222222,
              "#7201a8"
             ],
             [
              0.3333333333333333,
              "#9c179e"
             ],
             [
              0.4444444444444444,
              "#bd3786"
             ],
             [
              0.5555555555555556,
              "#d8576b"
             ],
             [
              0.6666666666666666,
              "#ed7953"
             ],
             [
              0.7777777777777778,
              "#fb9f3a"
             ],
             [
              0.8888888888888888,
              "#fdca26"
             ],
             [
              1,
              "#f0f921"
             ]
            ],
            "type": "heatmap"
           }
          ],
          "heatmapgl": [
           {
            "colorbar": {
             "outlinewidth": 0,
             "ticks": ""
            },
            "colorscale": [
             [
              0,
              "#0d0887"
             ],
             [
              0.1111111111111111,
              "#46039f"
             ],
             [
              0.2222222222222222,
              "#7201a8"
             ],
             [
              0.3333333333333333,
              "#9c179e"
             ],
             [
              0.4444444444444444,
              "#bd3786"
             ],
             [
              0.5555555555555556,
              "#d8576b"
             ],
             [
              0.6666666666666666,
              "#ed7953"
             ],
             [
              0.7777777777777778,
              "#fb9f3a"
             ],
             [
              0.8888888888888888,
              "#fdca26"
             ],
             [
              1,
              "#f0f921"
             ]
            ],
            "type": "heatmapgl"
           }
          ],
          "histogram": [
           {
            "marker": {
             "pattern": {
              "fillmode": "overlay",
              "size": 10,
              "solidity": 0.2
             }
            },
            "type": "histogram"
           }
          ],
          "histogram2d": [
           {
            "colorbar": {
             "outlinewidth": 0,
             "ticks": ""
            },
            "colorscale": [
             [
              0,
              "#0d0887"
             ],
             [
              0.1111111111111111,
              "#46039f"
             ],
             [
              0.2222222222222222,
              "#7201a8"
             ],
             [
              0.3333333333333333,
              "#9c179e"
             ],
             [
              0.4444444444444444,
              "#bd3786"
             ],
             [
              0.5555555555555556,
              "#d8576b"
             ],
             [
              0.6666666666666666,
              "#ed7953"
             ],
             [
              0.7777777777777778,
              "#fb9f3a"
             ],
             [
              0.8888888888888888,
              "#fdca26"
             ],
             [
              1,
              "#f0f921"
             ]
            ],
            "type": "histogram2d"
           }
          ],
          "histogram2dcontour": [
           {
            "colorbar": {
             "outlinewidth": 0,
             "ticks": ""
            },
            "colorscale": [
             [
              0,
              "#0d0887"
             ],
             [
              0.1111111111111111,
              "#46039f"
             ],
             [
              0.2222222222222222,
              "#7201a8"
             ],
             [
              0.3333333333333333,
              "#9c179e"
             ],
             [
              0.4444444444444444,
              "#bd3786"
             ],
             [
              0.5555555555555556,
              "#d8576b"
             ],
             [
              0.6666666666666666,
              "#ed7953"
             ],
             [
              0.7777777777777778,
              "#fb9f3a"
             ],
             [
              0.8888888888888888,
              "#fdca26"
             ],
             [
              1,
              "#f0f921"
             ]
            ],
            "type": "histogram2dcontour"
           }
          ],
          "mesh3d": [
           {
            "colorbar": {
             "outlinewidth": 0,
             "ticks": ""
            },
            "type": "mesh3d"
           }
          ],
          "parcoords": [
           {
            "line": {
             "colorbar": {
              "outlinewidth": 0,
              "ticks": ""
             }
            },
            "type": "parcoords"
           }
          ],
          "pie": [
           {
            "automargin": true,
            "type": "pie"
           }
          ],
          "scatter": [
           {
            "fillpattern": {
             "fillmode": "overlay",
             "size": 10,
             "solidity": 0.2
            },
            "type": "scatter"
           }
          ],
          "scatter3d": [
           {
            "line": {
             "colorbar": {
              "outlinewidth": 0,
              "ticks": ""
             }
            },
            "marker": {
             "colorbar": {
              "outlinewidth": 0,
              "ticks": ""
             }
            },
            "type": "scatter3d"
           }
          ],
          "scattercarpet": [
           {
            "marker": {
             "colorbar": {
              "outlinewidth": 0,
              "ticks": ""
             }
            },
            "type": "scattercarpet"
           }
          ],
          "scattergeo": [
           {
            "marker": {
             "colorbar": {
              "outlinewidth": 0,
              "ticks": ""
             }
            },
            "type": "scattergeo"
           }
          ],
          "scattergl": [
           {
            "marker": {
             "colorbar": {
              "outlinewidth": 0,
              "ticks": ""
             }
            },
            "type": "scattergl"
           }
          ],
          "scattermapbox": [
           {
            "marker": {
             "colorbar": {
              "outlinewidth": 0,
              "ticks": ""
             }
            },
            "type": "scattermapbox"
           }
          ],
          "scatterpolar": [
           {
            "marker": {
             "colorbar": {
              "outlinewidth": 0,
              "ticks": ""
             }
            },
            "type": "scatterpolar"
           }
          ],
          "scatterpolargl": [
           {
            "marker": {
             "colorbar": {
              "outlinewidth": 0,
              "ticks": ""
             }
            },
            "type": "scatterpolargl"
           }
          ],
          "scatterternary": [
           {
            "marker": {
             "colorbar": {
              "outlinewidth": 0,
              "ticks": ""
             }
            },
            "type": "scatterternary"
           }
          ],
          "surface": [
           {
            "colorbar": {
             "outlinewidth": 0,
             "ticks": ""
            },
            "colorscale": [
             [
              0,
              "#0d0887"
             ],
             [
              0.1111111111111111,
              "#46039f"
             ],
             [
              0.2222222222222222,
              "#7201a8"
             ],
             [
              0.3333333333333333,
              "#9c179e"
             ],
             [
              0.4444444444444444,
              "#bd3786"
             ],
             [
              0.5555555555555556,
              "#d8576b"
             ],
             [
              0.6666666666666666,
              "#ed7953"
             ],
             [
              0.7777777777777778,
              "#fb9f3a"
             ],
             [
              0.8888888888888888,
              "#fdca26"
             ],
             [
              1,
              "#f0f921"
             ]
            ],
            "type": "surface"
           }
          ],
          "table": [
           {
            "cells": {
             "fill": {
              "color": "#EBF0F8"
             },
             "line": {
              "color": "white"
             }
            },
            "header": {
             "fill": {
              "color": "#C8D4E3"
             },
             "line": {
              "color": "white"
             }
            },
            "type": "table"
           }
          ]
         },
         "layout": {
          "annotationdefaults": {
           "arrowcolor": "#2a3f5f",
           "arrowhead": 0,
           "arrowwidth": 1
          },
          "autotypenumbers": "strict",
          "coloraxis": {
           "colorbar": {
            "outlinewidth": 0,
            "ticks": ""
           }
          },
          "colorscale": {
           "diverging": [
            [
             0,
             "#8e0152"
            ],
            [
             0.1,
             "#c51b7d"
            ],
            [
             0.2,
             "#de77ae"
            ],
            [
             0.3,
             "#f1b6da"
            ],
            [
             0.4,
             "#fde0ef"
            ],
            [
             0.5,
             "#f7f7f7"
            ],
            [
             0.6,
             "#e6f5d0"
            ],
            [
             0.7,
             "#b8e186"
            ],
            [
             0.8,
             "#7fbc41"
            ],
            [
             0.9,
             "#4d9221"
            ],
            [
             1,
             "#276419"
            ]
           ],
           "sequential": [
            [
             0,
             "#0d0887"
            ],
            [
             0.1111111111111111,
             "#46039f"
            ],
            [
             0.2222222222222222,
             "#7201a8"
            ],
            [
             0.3333333333333333,
             "#9c179e"
            ],
            [
             0.4444444444444444,
             "#bd3786"
            ],
            [
             0.5555555555555556,
             "#d8576b"
            ],
            [
             0.6666666666666666,
             "#ed7953"
            ],
            [
             0.7777777777777778,
             "#fb9f3a"
            ],
            [
             0.8888888888888888,
             "#fdca26"
            ],
            [
             1,
             "#f0f921"
            ]
           ],
           "sequentialminus": [
            [
             0,
             "#0d0887"
            ],
            [
             0.1111111111111111,
             "#46039f"
            ],
            [
             0.2222222222222222,
             "#7201a8"
            ],
            [
             0.3333333333333333,
             "#9c179e"
            ],
            [
             0.4444444444444444,
             "#bd3786"
            ],
            [
             0.5555555555555556,
             "#d8576b"
            ],
            [
             0.6666666666666666,
             "#ed7953"
            ],
            [
             0.7777777777777778,
             "#fb9f3a"
            ],
            [
             0.8888888888888888,
             "#fdca26"
            ],
            [
             1,
             "#f0f921"
            ]
           ]
          },
          "colorway": [
           "#636efa",
           "#EF553B",
           "#00cc96",
           "#ab63fa",
           "#FFA15A",
           "#19d3f3",
           "#FF6692",
           "#B6E880",
           "#FF97FF",
           "#FECB52"
          ],
          "font": {
           "color": "#2a3f5f"
          },
          "geo": {
           "bgcolor": "white",
           "lakecolor": "white",
           "landcolor": "#E5ECF6",
           "showlakes": true,
           "showland": true,
           "subunitcolor": "white"
          },
          "hoverlabel": {
           "align": "left"
          },
          "hovermode": "closest",
          "mapbox": {
           "style": "light"
          },
          "paper_bgcolor": "white",
          "plot_bgcolor": "#E5ECF6",
          "polar": {
           "angularaxis": {
            "gridcolor": "white",
            "linecolor": "white",
            "ticks": ""
           },
           "bgcolor": "#E5ECF6",
           "radialaxis": {
            "gridcolor": "white",
            "linecolor": "white",
            "ticks": ""
           }
          },
          "scene": {
           "xaxis": {
            "backgroundcolor": "#E5ECF6",
            "gridcolor": "white",
            "gridwidth": 2,
            "linecolor": "white",
            "showbackground": true,
            "ticks": "",
            "zerolinecolor": "white"
           },
           "yaxis": {
            "backgroundcolor": "#E5ECF6",
            "gridcolor": "white",
            "gridwidth": 2,
            "linecolor": "white",
            "showbackground": true,
            "ticks": "",
            "zerolinecolor": "white"
           },
           "zaxis": {
            "backgroundcolor": "#E5ECF6",
            "gridcolor": "white",
            "gridwidth": 2,
            "linecolor": "white",
            "showbackground": true,
            "ticks": "",
            "zerolinecolor": "white"
           }
          },
          "shapedefaults": {
           "line": {
            "color": "#2a3f5f"
           }
          },
          "ternary": {
           "aaxis": {
            "gridcolor": "white",
            "linecolor": "white",
            "ticks": ""
           },
           "baxis": {
            "gridcolor": "white",
            "linecolor": "white",
            "ticks": ""
           },
           "bgcolor": "#E5ECF6",
           "caxis": {
            "gridcolor": "white",
            "linecolor": "white",
            "ticks": ""
           }
          },
          "title": {
           "x": 0.05
          },
          "xaxis": {
           "automargin": true,
           "gridcolor": "white",
           "linecolor": "white",
           "ticks": "",
           "title": {
            "standoff": 15
           },
           "zerolinecolor": "white",
           "zerolinewidth": 2
          },
          "yaxis": {
           "automargin": true,
           "gridcolor": "white",
           "linecolor": "white",
           "ticks": "",
           "title": {
            "standoff": 15
           },
           "zerolinecolor": "white",
           "zerolinewidth": 2
          }
         }
        }
       }
      },
      "text/html": [
       "<div>                            <div id=\"4245d68a-f4e6-46fa-ac30-85a4990f3f56\" class=\"plotly-graph-div\" style=\"height:525px; width:100%;\"></div>            <script type=\"text/javascript\">                require([\"plotly\"], function(Plotly) {                    window.PLOTLYENV=window.PLOTLYENV || {};                                    if (document.getElementById(\"4245d68a-f4e6-46fa-ac30-85a4990f3f56\")) {                    Plotly.newPlot(                        \"4245d68a-f4e6-46fa-ac30-85a4990f3f56\",                        [{\"hovertemplate\":\"t=%{x}<br>c1=%{y}<br>c2=%{z}<extra></extra>\",\"legendgroup\":\"\",\"line\":{\"color\":\"#636efa\",\"dash\":\"solid\"},\"marker\":{\"symbol\":\"circle\"},\"mode\":\"lines\",\"name\":\"\",\"scene\":\"scene\",\"showlegend\":false,\"x\":[0,46,48,59,60,71,78,80,82,88,96,97,106,117,118,122,123,125,129,130,134,141,143,145,148,154,161,164,166,175,178,180,185,189,191,192,194,196,201,228,237,240,242,245,247,249,261,263,267,268,274,275,277,284,286,288,290,294,297,300,302,309,311,313,316,318,320,322,323,329,330,334,339,341,341,342,342,343,347,352,354,356,358,359,361,363,364,366,370,371,373,377,379,380,384,386,387,389,391,393,395,396,405,407,410,414,416,418,419,421,430,432,434,435,439,441,443,453,461,465,467,479,483,485,487,489,491,493,494,497,499,501,503,505,506,509,511,513,515,517,519,521,523,525,527,529,531,533,537,538,540,542,544,549,550,558,564,566,568,570,572,574,576,580,582,584,586,592,594,598,600,602,604,606,609,611,614,617,623,627,629,635,637,639,643,645,647,649,651,653,655,659,661,665,669,671,673,677,681,692,694,696,697,699,708,710,712],\"y\":[50.145,50.1267,50.1243,50.1234,50.1222,50.13,50.1456,50.1408,50.1366,50.1342,50.1333,50.1321,50.1327,50.1318,50.1312,50.1303,50.1327,50.1336,50.1312,50.127,50.1306,50.1294,50.1267,50.1444,50.1456,50.1426,50.1483,50.1312,50.1351,50.121,50.1207,50.1216,50.157,50.1561,50.1456,50.1462,50.1408,50.1417,50.1405,50.1303,50.1285,50.1267,50.127,50.1267,50.1267,50.1264,50.1306,50.1324,50.1294,50.1285,50.1285,50.1288,50.1285,50.1282,50.1291,50.1282,50.1282,50.1285,50.1279,50.1273,50.1264,50.1255,50.1252,50.1255,50.124,50.124,50.1252,50.1246,50.1258,50.1249,50.1255,50.1258,50.124,50.1237,50.124,50.1243,50.1246,50.1255,50.1258,50.1258,50.1255,50.1258,50.1258,50.1255,50.1291,50.1267,50.1297,50.1291,50.1291,50.1297,50.1249,50.1288,50.1297,50.1276,50.1264,50.1225,50.1222,50.1222,50.1231,50.1237,50.1228,50.1237,50.124,50.1237,50.1252,50.1222,50.1213,50.1258,50.1255,50.1318,50.133,50.1324,50.1327,50.1324,50.1348,50.1321,50.1324,50.1336,50.1345,50.1342,50.1348,50.1351,50.1351,50.1369,50.1363,50.136,50.1351,50.1345,50.1345,50.1354,50.1348,50.1354,50.1357,50.136,50.1354,50.1366,50.1372,50.1366,50.1357,50.1348,50.1351,50.1348,50.1357,50.1354,50.1348,50.1345,50.1348,50.1351,50.1345,50.1348,50.1345,50.1345,50.1348,50.1357,50.1315,50.1309,50.1318,50.1297,50.1294,50.1303,50.1303,50.1297,50.1306,50.1297,50.13,50.1306,50.1306,50.1321,50.1315,50.1324,50.1324,50.1336,50.1333,50.1333,50.1333,50.1339,50.1324,50.1318,50.1297,50.13,50.1291,50.1297,50.1291,50.1285,50.1294,50.1291,50.1327,50.133,50.133,50.133,50.1318,50.1318,50.1333,50.1333,50.1333,50.1309,50.1309,50.1306,50.1297,50.1309,50.1294,50.1303,50.1267,50.1297,50.1303,50.1309,50.13],\"z\":[3.77175,3.77475,3.77595,3.77505,3.77295,3.78345,3.77385,3.77055,3.76845,3.76245,3.76095,3.76035,3.76185,3.75915,3.75945,3.76185,3.75945,3.76215,3.76365,3.76335,3.76905,3.76695,3.76395,3.76875,3.76935,3.76575,3.76725,3.76335,3.76275,3.76815,3.76575,3.76785,3.77655,3.77745,3.77145,3.77595,3.77175,3.77235,3.77145,3.76935,3.76605,3.76665,3.76665,3.76365,3.76605,3.76545,3.76335,3.75825,3.75405,3.75435,3.75405,3.75285,3.75315,3.75375,3.75285,3.75225,3.75165,3.75195,3.75225,3.75435,3.75135,3.75225,3.75195,3.75195,3.74985,3.75255,3.75225,3.75135,3.75165,3.75015,3.75135,3.75225,3.75105,3.75165,3.75135,3.75255,3.75255,3.75255,3.75315,3.75285,3.75165,3.75135,3.75165,3.75375,3.75315,3.75165,3.75435,3.75345,3.75255,3.75255,3.75255,3.75285,3.75165,3.75765,3.75255,3.75555,3.75465,3.75495,3.75495,3.75495,3.75405,3.75315,3.75465,3.75405,3.75495,3.75345,3.75255,3.75225,3.75195,3.75405,3.75435,3.75345,3.75405,3.75435,3.75435,3.75825,3.75945,3.76125,3.76365,3.76365,3.76275,3.76335,3.76305,3.76725,3.76755,3.76695,3.76635,3.76695,3.76755,3.76785,3.76725,3.76635,3.76995,3.76845,3.76665,3.76785,3.76905,3.76575,3.76875,3.76935,3.76875,3.76845,3.76905,3.76875,3.76935,3.77025,3.77055,3.77055,3.77025,3.76965,3.76995,3.76965,3.76875,3.77175,3.76905,3.77175,3.77175,3.76755,3.76725,3.76665,3.76635,3.76605,3.76425,3.76305,3.76395,3.76425,3.76365,3.76245,3.76125,3.76335,3.76065,3.76245,3.76185,3.76125,3.76005,3.76275,3.76305,3.76275,3.76635,3.76605,3.76305,3.76815,3.76695,3.76605,3.76665,3.76725,3.76065,3.76035,3.76035,3.76065,3.76005,3.76095,3.76035,3.76095,3.76185,3.76845,3.76785,3.76935,3.76845,3.76875,3.76875,3.76305,3.76905,3.76755,3.76845,3.76635,3.76695],\"type\":\"scatter3d\"}],                        {\"template\":{\"data\":{\"histogram2dcontour\":[{\"type\":\"histogram2dcontour\",\"colorbar\":{\"outlinewidth\":0,\"ticks\":\"\"},\"colorscale\":[[0.0,\"#0d0887\"],[0.1111111111111111,\"#46039f\"],[0.2222222222222222,\"#7201a8\"],[0.3333333333333333,\"#9c179e\"],[0.4444444444444444,\"#bd3786\"],[0.5555555555555556,\"#d8576b\"],[0.6666666666666666,\"#ed7953\"],[0.7777777777777778,\"#fb9f3a\"],[0.8888888888888888,\"#fdca26\"],[1.0,\"#f0f921\"]]}],\"choropleth\":[{\"type\":\"choropleth\",\"colorbar\":{\"outlinewidth\":0,\"ticks\":\"\"}}],\"histogram2d\":[{\"type\":\"histogram2d\",\"colorbar\":{\"outlinewidth\":0,\"ticks\":\"\"},\"colorscale\":[[0.0,\"#0d0887\"],[0.1111111111111111,\"#46039f\"],[0.2222222222222222,\"#7201a8\"],[0.3333333333333333,\"#9c179e\"],[0.4444444444444444,\"#bd3786\"],[0.5555555555555556,\"#d8576b\"],[0.6666666666666666,\"#ed7953\"],[0.7777777777777778,\"#fb9f3a\"],[0.8888888888888888,\"#fdca26\"],[1.0,\"#f0f921\"]]}],\"heatmap\":[{\"type\":\"heatmap\",\"colorbar\":{\"outlinewidth\":0,\"ticks\":\"\"},\"colorscale\":[[0.0,\"#0d0887\"],[0.1111111111111111,\"#46039f\"],[0.2222222222222222,\"#7201a8\"],[0.3333333333333333,\"#9c179e\"],[0.4444444444444444,\"#bd3786\"],[0.5555555555555556,\"#d8576b\"],[0.6666666666666666,\"#ed7953\"],[0.7777777777777778,\"#fb9f3a\"],[0.8888888888888888,\"#fdca26\"],[1.0,\"#f0f921\"]]}],\"heatmapgl\":[{\"type\":\"heatmapgl\",\"colorbar\":{\"outlinewidth\":0,\"ticks\":\"\"},\"colorscale\":[[0.0,\"#0d0887\"],[0.1111111111111111,\"#46039f\"],[0.2222222222222222,\"#7201a8\"],[0.3333333333333333,\"#9c179e\"],[0.4444444444444444,\"#bd3786\"],[0.5555555555555556,\"#d8576b\"],[0.6666666666666666,\"#ed7953\"],[0.7777777777777778,\"#fb9f3a\"],[0.8888888888888888,\"#fdca26\"],[1.0,\"#f0f921\"]]}],\"contourcarpet\":[{\"type\":\"contourcarpet\",\"colorbar\":{\"outlinewidth\":0,\"ticks\":\"\"}}],\"contour\":[{\"type\":\"contour\",\"colorbar\":{\"outlinewidth\":0,\"ticks\":\"\"},\"colorscale\":[[0.0,\"#0d0887\"],[0.1111111111111111,\"#46039f\"],[0.2222222222222222,\"#7201a8\"],[0.3333333333333333,\"#9c179e\"],[0.4444444444444444,\"#bd3786\"],[0.5555555555555556,\"#d8576b\"],[0.6666666666666666,\"#ed7953\"],[0.7777777777777778,\"#fb9f3a\"],[0.8888888888888888,\"#fdca26\"],[1.0,\"#f0f921\"]]}],\"surface\":[{\"type\":\"surface\",\"colorbar\":{\"outlinewidth\":0,\"ticks\":\"\"},\"colorscale\":[[0.0,\"#0d0887\"],[0.1111111111111111,\"#46039f\"],[0.2222222222222222,\"#7201a8\"],[0.3333333333333333,\"#9c179e\"],[0.4444444444444444,\"#bd3786\"],[0.5555555555555556,\"#d8576b\"],[0.6666666666666666,\"#ed7953\"],[0.7777777777777778,\"#fb9f3a\"],[0.8888888888888888,\"#fdca26\"],[1.0,\"#f0f921\"]]}],\"mesh3d\":[{\"type\":\"mesh3d\",\"colorbar\":{\"outlinewidth\":0,\"ticks\":\"\"}}],\"scatter\":[{\"fillpattern\":{\"fillmode\":\"overlay\",\"size\":10,\"solidity\":0.2},\"type\":\"scatter\"}],\"parcoords\":[{\"type\":\"parcoords\",\"line\":{\"colorbar\":{\"outlinewidth\":0,\"ticks\":\"\"}}}],\"scatterpolargl\":[{\"type\":\"scatterpolargl\",\"marker\":{\"colorbar\":{\"outlinewidth\":0,\"ticks\":\"\"}}}],\"bar\":[{\"error_x\":{\"color\":\"#2a3f5f\"},\"error_y\":{\"color\":\"#2a3f5f\"},\"marker\":{\"line\":{\"color\":\"#E5ECF6\",\"width\":0.5},\"pattern\":{\"fillmode\":\"overlay\",\"size\":10,\"solidity\":0.2}},\"type\":\"bar\"}],\"scattergeo\":[{\"type\":\"scattergeo\",\"marker\":{\"colorbar\":{\"outlinewidth\":0,\"ticks\":\"\"}}}],\"scatterpolar\":[{\"type\":\"scatterpolar\",\"marker\":{\"colorbar\":{\"outlinewidth\":0,\"ticks\":\"\"}}}],\"histogram\":[{\"marker\":{\"pattern\":{\"fillmode\":\"overlay\",\"size\":10,\"solidity\":0.2}},\"type\":\"histogram\"}],\"scattergl\":[{\"type\":\"scattergl\",\"marker\":{\"colorbar\":{\"outlinewidth\":0,\"ticks\":\"\"}}}],\"scatter3d\":[{\"type\":\"scatter3d\",\"line\":{\"colorbar\":{\"outlinewidth\":0,\"ticks\":\"\"}},\"marker\":{\"colorbar\":{\"outlinewidth\":0,\"ticks\":\"\"}}}],\"scattermapbox\":[{\"type\":\"scattermapbox\",\"marker\":{\"colorbar\":{\"outlinewidth\":0,\"ticks\":\"\"}}}],\"scatterternary\":[{\"type\":\"scatterternary\",\"marker\":{\"colorbar\":{\"outlinewidth\":0,\"ticks\":\"\"}}}],\"scattercarpet\":[{\"type\":\"scattercarpet\",\"marker\":{\"colorbar\":{\"outlinewidth\":0,\"ticks\":\"\"}}}],\"carpet\":[{\"aaxis\":{\"endlinecolor\":\"#2a3f5f\",\"gridcolor\":\"white\",\"linecolor\":\"white\",\"minorgridcolor\":\"white\",\"startlinecolor\":\"#2a3f5f\"},\"baxis\":{\"endlinecolor\":\"#2a3f5f\",\"gridcolor\":\"white\",\"linecolor\":\"white\",\"minorgridcolor\":\"white\",\"startlinecolor\":\"#2a3f5f\"},\"type\":\"carpet\"}],\"table\":[{\"cells\":{\"fill\":{\"color\":\"#EBF0F8\"},\"line\":{\"color\":\"white\"}},\"header\":{\"fill\":{\"color\":\"#C8D4E3\"},\"line\":{\"color\":\"white\"}},\"type\":\"table\"}],\"barpolar\":[{\"marker\":{\"line\":{\"color\":\"#E5ECF6\",\"width\":0.5},\"pattern\":{\"fillmode\":\"overlay\",\"size\":10,\"solidity\":0.2}},\"type\":\"barpolar\"}],\"pie\":[{\"automargin\":true,\"type\":\"pie\"}]},\"layout\":{\"autotypenumbers\":\"strict\",\"colorway\":[\"#636efa\",\"#EF553B\",\"#00cc96\",\"#ab63fa\",\"#FFA15A\",\"#19d3f3\",\"#FF6692\",\"#B6E880\",\"#FF97FF\",\"#FECB52\"],\"font\":{\"color\":\"#2a3f5f\"},\"hovermode\":\"closest\",\"hoverlabel\":{\"align\":\"left\"},\"paper_bgcolor\":\"white\",\"plot_bgcolor\":\"#E5ECF6\",\"polar\":{\"bgcolor\":\"#E5ECF6\",\"angularaxis\":{\"gridcolor\":\"white\",\"linecolor\":\"white\",\"ticks\":\"\"},\"radialaxis\":{\"gridcolor\":\"white\",\"linecolor\":\"white\",\"ticks\":\"\"}},\"ternary\":{\"bgcolor\":\"#E5ECF6\",\"aaxis\":{\"gridcolor\":\"white\",\"linecolor\":\"white\",\"ticks\":\"\"},\"baxis\":{\"gridcolor\":\"white\",\"linecolor\":\"white\",\"ticks\":\"\"},\"caxis\":{\"gridcolor\":\"white\",\"linecolor\":\"white\",\"ticks\":\"\"}},\"coloraxis\":{\"colorbar\":{\"outlinewidth\":0,\"ticks\":\"\"}},\"colorscale\":{\"sequential\":[[0.0,\"#0d0887\"],[0.1111111111111111,\"#46039f\"],[0.2222222222222222,\"#7201a8\"],[0.3333333333333333,\"#9c179e\"],[0.4444444444444444,\"#bd3786\"],[0.5555555555555556,\"#d8576b\"],[0.6666666666666666,\"#ed7953\"],[0.7777777777777778,\"#fb9f3a\"],[0.8888888888888888,\"#fdca26\"],[1.0,\"#f0f921\"]],\"sequentialminus\":[[0.0,\"#0d0887\"],[0.1111111111111111,\"#46039f\"],[0.2222222222222222,\"#7201a8\"],[0.3333333333333333,\"#9c179e\"],[0.4444444444444444,\"#bd3786\"],[0.5555555555555556,\"#d8576b\"],[0.6666666666666666,\"#ed7953\"],[0.7777777777777778,\"#fb9f3a\"],[0.8888888888888888,\"#fdca26\"],[1.0,\"#f0f921\"]],\"diverging\":[[0,\"#8e0152\"],[0.1,\"#c51b7d\"],[0.2,\"#de77ae\"],[0.3,\"#f1b6da\"],[0.4,\"#fde0ef\"],[0.5,\"#f7f7f7\"],[0.6,\"#e6f5d0\"],[0.7,\"#b8e186\"],[0.8,\"#7fbc41\"],[0.9,\"#4d9221\"],[1,\"#276419\"]]},\"xaxis\":{\"gridcolor\":\"white\",\"linecolor\":\"white\",\"ticks\":\"\",\"title\":{\"standoff\":15},\"zerolinecolor\":\"white\",\"automargin\":true,\"zerolinewidth\":2},\"yaxis\":{\"gridcolor\":\"white\",\"linecolor\":\"white\",\"ticks\":\"\",\"title\":{\"standoff\":15},\"zerolinecolor\":\"white\",\"automargin\":true,\"zerolinewidth\":2},\"scene\":{\"xaxis\":{\"backgroundcolor\":\"#E5ECF6\",\"gridcolor\":\"white\",\"linecolor\":\"white\",\"showbackground\":true,\"ticks\":\"\",\"zerolinecolor\":\"white\",\"gridwidth\":2},\"yaxis\":{\"backgroundcolor\":\"#E5ECF6\",\"gridcolor\":\"white\",\"linecolor\":\"white\",\"showbackground\":true,\"ticks\":\"\",\"zerolinecolor\":\"white\",\"gridwidth\":2},\"zaxis\":{\"backgroundcolor\":\"#E5ECF6\",\"gridcolor\":\"white\",\"linecolor\":\"white\",\"showbackground\":true,\"ticks\":\"\",\"zerolinecolor\":\"white\",\"gridwidth\":2}},\"shapedefaults\":{\"line\":{\"color\":\"#2a3f5f\"}},\"annotationdefaults\":{\"arrowcolor\":\"#2a3f5f\",\"arrowhead\":0,\"arrowwidth\":1},\"geo\":{\"bgcolor\":\"white\",\"landcolor\":\"#E5ECF6\",\"subunitcolor\":\"white\",\"showland\":true,\"showlakes\":true,\"lakecolor\":\"white\"},\"title\":{\"x\":0.05},\"mapbox\":{\"style\":\"light\"}}},\"scene\":{\"domain\":{\"x\":[0.0,1.0],\"y\":[0.0,1.0]},\"xaxis\":{\"title\":{\"text\":\"t\"}},\"yaxis\":{\"title\":{\"text\":\"c1\"}},\"zaxis\":{\"title\":{\"text\":\"c2\"}}},\"legend\":{\"tracegroupgap\":0},\"margin\":{\"t\":60}},                        {\"responsive\": true}                    ).then(function(){\n",
       "                            \n",
       "var gd = document.getElementById('4245d68a-f4e6-46fa-ac30-85a4990f3f56');\n",
       "var x = new MutationObserver(function (mutations, observer) {{\n",
       "        var display = window.getComputedStyle(gd).display;\n",
       "        if (!display || display === 'none') {{\n",
       "            console.log([gd, 'removed!']);\n",
       "            Plotly.purge(gd);\n",
       "            observer.disconnect();\n",
       "        }}\n",
       "}});\n",
       "\n",
       "// Listen for the removal of the full notebook cells\n",
       "var notebookContainer = gd.closest('#notebook-container');\n",
       "if (notebookContainer) {{\n",
       "    x.observe(notebookContainer, {childList: true});\n",
       "}}\n",
       "\n",
       "// Listen for the clearing of the current output cell\n",
       "var outputEl = gd.closest('.output');\n",
       "if (outputEl) {{\n",
       "    x.observe(outputEl, {childList: true});\n",
       "}}\n",
       "\n",
       "                        })                };                });            </script>        </div>"
      ]
     },
     "metadata": {},
     "output_type": "display_data"
    }
   ],
   "source": [
    "px.line_3d(df[df.tid == 1], x=\"t\", y=\"c1\", z=\"c2\")"
   ]
  },
  {
   "cell_type": "code",
   "execution_count": 43,
   "metadata": {
    "pycharm": {
     "name": "#%%\n"
    }
   },
   "outputs": [
    {
     "name": "stdout",
     "output_type": "stream",
     "text": [
      "Wall time: 475 ms\n"
     ]
    },
    {
     "data": {
      "text/html": [
       "<div>\n",
       "<style scoped>\n",
       "    .dataframe tbody tr th:only-of-type {\n",
       "        vertical-align: middle;\n",
       "    }\n",
       "\n",
       "    .dataframe tbody tr th {\n",
       "        vertical-align: top;\n",
       "    }\n",
       "\n",
       "    .dataframe thead th {\n",
       "        text-align: right;\n",
       "    }\n",
       "</style>\n",
       "<table border=\"1\" class=\"dataframe\">\n",
       "  <thead>\n",
       "    <tr style=\"text-align: right;\">\n",
       "      <th></th>\n",
       "      <th>tid</th>\n",
       "      <th>class</th>\n",
       "      <th>t</th>\n",
       "      <th>c1</th>\n",
       "      <th>c2</th>\n",
       "      <th>geohash</th>\n",
       "      <th>geohash2</th>\n",
       "      <th>lat_norm</th>\n",
       "      <th>lon_norm</th>\n",
       "    </tr>\n",
       "  </thead>\n",
       "  <tbody>\n",
       "    <tr>\n",
       "      <th>0</th>\n",
       "      <td>0</td>\n",
       "      <td>D</td>\n",
       "      <td>0</td>\n",
       "      <td>50.1066</td>\n",
       "      <td>3.79665</td>\n",
       "      <td>u0ft</td>\n",
       "      <td>u0ft_0</td>\n",
       "      <td>0.008944</td>\n",
       "      <td>0.281025</td>\n",
       "    </tr>\n",
       "    <tr>\n",
       "      <th>1</th>\n",
       "      <td>0</td>\n",
       "      <td>D</td>\n",
       "      <td>4</td>\n",
       "      <td>50.1045</td>\n",
       "      <td>3.79455</td>\n",
       "      <td>u0ft</td>\n",
       "      <td>u0ft_0</td>\n",
       "      <td>0.006844</td>\n",
       "      <td>0.278925</td>\n",
       "    </tr>\n",
       "    <tr>\n",
       "      <th>2</th>\n",
       "      <td>0</td>\n",
       "      <td>D</td>\n",
       "      <td>7</td>\n",
       "      <td>50.1111</td>\n",
       "      <td>3.79845</td>\n",
       "      <td>u0ft</td>\n",
       "      <td>u0ft_0</td>\n",
       "      <td>0.013444</td>\n",
       "      <td>0.282825</td>\n",
       "    </tr>\n",
       "    <tr>\n",
       "      <th>3</th>\n",
       "      <td>0</td>\n",
       "      <td>D</td>\n",
       "      <td>9</td>\n",
       "      <td>50.1072</td>\n",
       "      <td>3.79845</td>\n",
       "      <td>u0ft</td>\n",
       "      <td>u0ft_0</td>\n",
       "      <td>0.009544</td>\n",
       "      <td>0.282825</td>\n",
       "    </tr>\n",
       "    <tr>\n",
       "      <th>4</th>\n",
       "      <td>0</td>\n",
       "      <td>D</td>\n",
       "      <td>15</td>\n",
       "      <td>50.1132</td>\n",
       "      <td>3.79965</td>\n",
       "      <td>u0ft</td>\n",
       "      <td>u0ft_0</td>\n",
       "      <td>0.015544</td>\n",
       "      <td>0.284025</td>\n",
       "    </tr>\n",
       "    <tr>\n",
       "      <th>...</th>\n",
       "      <td>...</td>\n",
       "      <td>...</td>\n",
       "      <td>...</td>\n",
       "      <td>...</td>\n",
       "      <td>...</td>\n",
       "      <td>...</td>\n",
       "      <td>...</td>\n",
       "      <td>...</td>\n",
       "      <td>...</td>\n",
       "    </tr>\n",
       "    <tr>\n",
       "      <th>14863</th>\n",
       "      <td>100</td>\n",
       "      <td>C</td>\n",
       "      <td>260</td>\n",
       "      <td>50.1768</td>\n",
       "      <td>3.76185</td>\n",
       "      <td>u0ft</td>\n",
       "      <td>u0ft_486</td>\n",
       "      <td>0.079144</td>\n",
       "      <td>0.246225</td>\n",
       "    </tr>\n",
       "    <tr>\n",
       "      <th>14864</th>\n",
       "      <td>100</td>\n",
       "      <td>C</td>\n",
       "      <td>262</td>\n",
       "      <td>50.1765</td>\n",
       "      <td>3.76095</td>\n",
       "      <td>u0ft</td>\n",
       "      <td>u0ft_486</td>\n",
       "      <td>0.078844</td>\n",
       "      <td>0.245325</td>\n",
       "    </tr>\n",
       "    <tr>\n",
       "      <th>14865</th>\n",
       "      <td>100</td>\n",
       "      <td>C</td>\n",
       "      <td>264</td>\n",
       "      <td>50.1753</td>\n",
       "      <td>3.76005</td>\n",
       "      <td>u0ft</td>\n",
       "      <td>u0ft_486</td>\n",
       "      <td>0.077644</td>\n",
       "      <td>0.244425</td>\n",
       "    </tr>\n",
       "    <tr>\n",
       "      <th>14866</th>\n",
       "      <td>100</td>\n",
       "      <td>C</td>\n",
       "      <td>266</td>\n",
       "      <td>50.1717</td>\n",
       "      <td>3.76545</td>\n",
       "      <td>u0ft</td>\n",
       "      <td>u0ft_486</td>\n",
       "      <td>0.074044</td>\n",
       "      <td>0.249825</td>\n",
       "    </tr>\n",
       "    <tr>\n",
       "      <th>14867</th>\n",
       "      <td>100</td>\n",
       "      <td>C</td>\n",
       "      <td>268</td>\n",
       "      <td>50.1717</td>\n",
       "      <td>3.76575</td>\n",
       "      <td>u0ft</td>\n",
       "      <td>u0ft_486</td>\n",
       "      <td>0.074044</td>\n",
       "      <td>0.250125</td>\n",
       "    </tr>\n",
       "  </tbody>\n",
       "</table>\n",
       "<p>10600 rows × 9 columns</p>\n",
       "</div>"
      ],
      "text/plain": [
       "       tid class    t       c1       c2 geohash  geohash2  lat_norm  lon_norm\n",
       "0        0     D    0  50.1066  3.79665    u0ft    u0ft_0  0.008944  0.281025\n",
       "1        0     D    4  50.1045  3.79455    u0ft    u0ft_0  0.006844  0.278925\n",
       "2        0     D    7  50.1111  3.79845    u0ft    u0ft_0  0.013444  0.282825\n",
       "3        0     D    9  50.1072  3.79845    u0ft    u0ft_0  0.009544  0.282825\n",
       "4        0     D   15  50.1132  3.79965    u0ft    u0ft_0  0.015544  0.284025\n",
       "...    ...   ...  ...      ...      ...     ...       ...       ...       ...\n",
       "14863  100     C  260  50.1768  3.76185    u0ft  u0ft_486  0.079144  0.246225\n",
       "14864  100     C  262  50.1765  3.76095    u0ft  u0ft_486  0.078844  0.245325\n",
       "14865  100     C  264  50.1753  3.76005    u0ft  u0ft_486  0.077644  0.244425\n",
       "14866  100     C  266  50.1717  3.76545    u0ft  u0ft_486  0.074044  0.249825\n",
       "14867  100     C  268  50.1717  3.76575    u0ft  u0ft_486  0.074044  0.250125\n",
       "\n",
       "[10600 rows x 9 columns]"
      ]
     },
     "execution_count": 43,
     "metadata": {},
     "output_type": "execute_result"
    }
   ],
   "source": [
    "%%time\n",
    "\n",
    "start = datetime.now()\n",
    "\n",
    "tid_train, tid_test, _, _ = train_test_split(df.groupby(by=[\"tid\"]).max().reset_index()[\"tid\"],\n",
    "                                                        df.groupby(by=[\"tid\"]).max().reset_index()[\"class\"],\n",
    "                                                        test_size=.3,\n",
    "                                                        stratify=df.groupby(by=[\"tid\"]).max().reset_index()[\"class\"],\n",
    "                                                        random_state=3)\n",
    "\n",
    "df_train = df[df.tid.isin(tid_train)]\n",
    "df_test = df[~df.tid.isin(tid_train)]\n",
    "\n",
    "t+= (datetime.now()-start).total_seconds()*1000\n",
    "df_train"
   ]
  },
  {
   "cell_type": "code",
   "execution_count": null,
   "metadata": {
    "pycharm": {
     "name": "#%%\n"
    }
   },
   "outputs": [],
   "source": []
  },
  {
   "cell_type": "code",
   "execution_count": 44,
   "metadata": {
    "pycharm": {
     "name": "#%%\n"
    }
   },
   "outputs": [
    {
     "data": {
      "application/vnd.jupyter.widget-view+json": {
       "model_id": "06416d2ec2174f428b3774ff3b184794",
       "version_major": 2,
       "version_minor": 0
      },
      "text/plain": [
       "  0%|          | 0/10600 [00:00<?, ?it/s]"
      ]
     },
     "metadata": {},
     "output_type": "display_data"
    },
    {
     "name": "stdout",
     "output_type": "stream",
     "text": [
      "Wall time: 150 ms\n"
     ]
    }
   ],
   "source": [
    "%%time\n",
    "\n",
    "start = datetime.now()\n",
    "\n",
    "movelets = []\n",
    "\n",
    "movelet = []\n",
    "movelets.append(movelet)\n",
    "prec_gh2 = df_train.values[0, 6]\n",
    "first_row = df_train.values[0]\n",
    "for row in tqdm(df_train.values):\n",
    "    if row[6] != prec_gh2:\n",
    "        prec_gh2 = row[6]\n",
    "        first_row = row\n",
    "        movelet = []\n",
    "        movelets.append(movelet)\n",
    "\n",
    "    movelet.append((row[-2]-first_row[-2], row[-1]-first_row[-1], row[2]-first_row[2]))\n",
    "\n",
    "t+= (datetime.now()-start).total_seconds()*1000"
   ]
  },
  {
   "cell_type": "raw",
   "metadata": {
    "pycharm": {
     "name": "#%%\n"
    }
   },
   "source": [
    "import csv\n",
    "\n",
    "with open(\"movelet animals guidotti 5.csv\", \"w\") as f:\n",
    "    wr = csv.writer(f)\n",
    "    wr.writerows(movelets)"
   ]
  },
  {
   "cell_type": "raw",
   "metadata": {},
   "source": [
    "import csv\n",
    "\n",
    "movelets = []\n",
    "\n",
    "with open(\"movelet veicoli guidotti 5.csv\", \"r\") as f:\n",
    "    re = csv.reader(f)\n",
    "    for row in re:\n",
    "        movelet = []\n",
    "        for val in row:\n",
    "            val_splitted = val[1:-1].split(\",\")\n",
    "            movelet.append((float(val_splitted[0]), float(val_splitted[1]), float(val_splitted[2])))\n",
    "        movelets.append(movelet)"
   ]
  },
  {
   "cell_type": "code",
   "execution_count": 45,
   "metadata": {
    "pycharm": {
     "name": "#%%\n"
    }
   },
   "outputs": [],
   "source": [
    "#From here credits to Riccardo Guidotti\n",
    "\n",
    "def spherical_distance(a, b):\n",
    "    lat1 = a[1]\n",
    "    lon1 = a[0]\n",
    "    lat2 = b[1]\n",
    "    lon2 = b[0]\n",
    "    R = 6371000\n",
    "    rlon1 = lon1 * math.pi / 180.0\n",
    "    rlon2 = lon2 * math.pi / 180.0\n",
    "    rlat1 = lat1 * math.pi / 180.0\n",
    "    rlat2 = lat2 * math.pi / 180.0\n",
    "    dlon = (rlon1 - rlon2) / 2.0\n",
    "    dlat = (rlat1 - rlat2) / 2.0\n",
    "    lat12 = (rlat1 + rlat2) / 2.0\n",
    "    sindlat = math.sin(dlat)\n",
    "    sindlon = math.sin(dlon)\n",
    "    cosdlon = math.cos(dlon)\n",
    "    coslat12 = math.cos(lat12)\n",
    "    f = sindlat * sindlat * cosdlon * cosdlon + sindlon * sindlon * coslat12 * coslat12\n",
    "    f = math.sqrt(f)\n",
    "    f = math.asin(f) * 2.0 # the angle between the points\n",
    "    f *= R\n",
    "    return f\n",
    "\n",
    "def trajectory_distance(tr1, tr2):\n",
    "    if len(tr1) == 1 and len(tr2) == 1:\n",
    "        return .0\n",
    "\n",
    "    i1 = 0\n",
    "    i2 = 0\n",
    "    np = 0\n",
    "\n",
    "    last_tr1 = tr1[i1]\n",
    "    last_tr2 = tr2[i2]\n",
    "\n",
    "    dist = spherical_distance(last_tr1, last_tr2)\n",
    "    np += 1\n",
    "\n",
    "    while True:\n",
    "        if i1 >= (len(tr1)-1) or i2 >= (len(tr2)-1):\n",
    "            break\n",
    "\n",
    "        step_tr1 = spherical_distance(last_tr1, tr1[i1 + 1])\n",
    "        step_tr2 = spherical_distance(last_tr2, tr2[i2 + 1])\n",
    "\n",
    "        if step_tr1 < step_tr2:\n",
    "            i1 += 1\n",
    "            last_tr1 = tr1[i1]\n",
    "            last_tr2 = closest_point_on_segment(last_tr2, tr2[i2+1], last_tr1)\n",
    "        elif step_tr1 > step_tr2:\n",
    "            i2 += 1\n",
    "            last_tr2 = tr2[i2]\n",
    "            last_tr1 = closest_point_on_segment(last_tr1, tr1[i1+1], last_tr2)\n",
    "        else:\n",
    "            i1 += 1\n",
    "            i2 += 1\n",
    "            last_tr1 = tr1[i1]\n",
    "            last_tr2 = tr2[i2]\n",
    "\n",
    "        d = spherical_distance(last_tr1, last_tr2)\n",
    "\n",
    "        dist += d\n",
    "        np += 1\n",
    "\n",
    "    for i in range(i1, len(tr1)):\n",
    "        d = spherical_distance(tr2[-1], tr1[i])\n",
    "        dist += d\n",
    "        np += 1\n",
    "\n",
    "    for i in range(i2, len(tr2)):\n",
    "        d = spherical_distance(tr1[-1], tr2[i])\n",
    "        dist += d\n",
    "        np += 1\n",
    "\n",
    "    dist = 1.0 * dist / np\n",
    "\n",
    "    return dist\n",
    "\n",
    "def closest_point_on_segment(a, b, p):\n",
    "    sx1 = a[0]\n",
    "    sx2 = b[0]\n",
    "    sy1 = a[1]\n",
    "    sy2 = b[1]\n",
    "    sz1 = a[2]\n",
    "    sz2 = b[2]\n",
    "    px = p[0]\n",
    "    py = p[1]\n",
    "\n",
    "    x_delta = sx2 - sx1\n",
    "    y_delta = sy2 - sy1\n",
    "    z_delta = sz2 - sz1\n",
    "\n",
    "    if x_delta == 0 and y_delta == 0:\n",
    "        return p\n",
    "\n",
    "    u = ((px - sx1) * x_delta + (py - sy1) * y_delta) / (x_delta * x_delta + y_delta * y_delta)\n",
    "    if u < 0:\n",
    "        closest_point = a\n",
    "    elif u > 1:\n",
    "        closest_point = b\n",
    "    else:\n",
    "        cp_x = sx1 + u * x_delta\n",
    "        cp_y = sy1 + u * y_delta\n",
    "        dist_a_cp = spherical_distance(a, [cp_x, cp_y, 0])\n",
    "        if dist_a_cp != 0:\n",
    "            cp_z = sz1 + z_delta / (spherical_distance(a, b) / spherical_distance(a, [cp_x, cp_y, 0]))\n",
    "        else:\n",
    "            cp_z = a[2]\n",
    "        closest_point = [cp_x, cp_y, cp_z]\n",
    "\n",
    "    return closest_point"
   ]
  },
  {
   "cell_type": "code",
   "execution_count": null,
   "metadata": {},
   "outputs": [],
   "source": []
  },
  {
   "cell_type": "code",
   "execution_count": 46,
   "metadata": {},
   "outputs": [
    {
     "name": "stdout",
     "output_type": "stream",
     "text": [
      "Wall time: 1 ms\n"
     ]
    }
   ],
   "source": [
    "%%time\n",
    "\n",
    "start = datetime.now()\n",
    "\n",
    "colToDelete = 0\n",
    "\n",
    "new_movelets = []\n",
    "\n",
    "for i in range(len(movelets)):\n",
    "    if(len(movelets[i]) < 5):\n",
    "        colToDelete += 1\n",
    "        continue\n",
    "\n",
    "    new_movelets.append(movelets[i])\n",
    "\n",
    "t+= (datetime.now()-start).total_seconds()*1000"
   ]
  },
  {
   "cell_type": "code",
   "execution_count": null,
   "metadata": {},
   "outputs": [],
   "source": []
  },
  {
   "cell_type": "code",
   "execution_count": null,
   "metadata": {},
   "outputs": [],
   "source": []
  },
  {
   "cell_type": "code",
   "execution_count": 47,
   "metadata": {
    "pycharm": {
     "name": "#%%\n"
    }
   },
   "outputs": [
    {
     "data": {
      "application/vnd.jupyter.widget-view+json": {
       "model_id": "5f90e4229fbd4eb38980745cbd7aba3a",
       "version_major": 2,
       "version_minor": 0
      },
      "text/plain": [
       "  0%|          | 0/179 [00:00<?, ?it/s]"
      ]
     },
     "metadata": {},
     "output_type": "display_data"
    },
    {
     "name": "stdout",
     "output_type": "stream",
     "text": [
      "Wall time: 15.5 s\n"
     ]
    }
   ],
   "source": [
    "%%time\n",
    "\n",
    "start = datetime.now()\n",
    "\n",
    "dim = len(new_movelets)\n",
    "\n",
    "dist_matrix = np.zeros((dim, dim))\n",
    "\n",
    "for i, tr1 in enumerate(tqdm(new_movelets)):\n",
    "    for j, tr2 in enumerate(new_movelets[:i+1]):\n",
    "        dist = trajectory_distance(tr1, tr2)\n",
    "        dist_matrix[i, j] = dist\n",
    "        dist_matrix[j, i] = dist\n",
    "        \n",
    "t+= (datetime.now()-start).total_seconds()*1000"
   ]
  },
  {
   "cell_type": "raw",
   "metadata": {
    "pycharm": {
     "name": "#%%\n"
    }
   },
   "source": [
    "np.save(\"dist_matrix_6.npy\", dist_matrix)"
   ]
  },
  {
   "cell_type": "raw",
   "metadata": {
    "pycharm": {
     "name": "#%%\n"
    }
   },
   "source": [
    "dist_matrix = np.load(\"dist_matrix_6.npy\")"
   ]
  },
  {
   "cell_type": "code",
   "execution_count": 48,
   "metadata": {
    "pycharm": {
     "name": "#%%\n"
    }
   },
   "outputs": [
    {
     "data": {
      "text/plain": [
       "345"
      ]
     },
     "execution_count": 48,
     "metadata": {},
     "output_type": "execute_result"
    }
   ],
   "source": [
    "len(movelets[0])"
   ]
  },
  {
   "cell_type": "code",
   "execution_count": 49,
   "metadata": {
    "pycharm": {
     "name": "#%%\n"
    }
   },
   "outputs": [
    {
     "data": {
      "text/plain": [
       "17438.003"
      ]
     },
     "execution_count": 49,
     "metadata": {},
     "output_type": "execute_result"
    }
   ],
   "source": [
    "t"
   ]
  },
  {
   "cell_type": "code",
   "execution_count": null,
   "metadata": {},
   "outputs": [],
   "source": []
  },
  {
   "cell_type": "markdown",
   "metadata": {},
   "source": [
    "# QUI"
   ]
  },
  {
   "cell_type": "code",
   "execution_count": null,
   "metadata": {},
   "outputs": [],
   "source": []
  },
  {
   "cell_type": "code",
   "execution_count": 50,
   "metadata": {},
   "outputs": [],
   "source": [
    "t = 0\n",
    "\n",
    "def symbolize(medoids, tr):\n",
    "    i = 0\n",
    "    sym = []\n",
    "    while i < len(tr):\n",
    "        best_medoid_id = np.inf\n",
    "        best_medoid_score = np.inf\n",
    "        for j, medoid in enumerate(medoids):\n",
    "            score = trajectory_distance(medoid, list(map(lambda x: (x[0]-tr[i][0], x[1]-tr[i][1], x[2]-tr[i][2]), tr[i:i+len(medoid)])))\n",
    "            if best_medoid_score > score:\n",
    "                best_medoid_id = j\n",
    "                best_medoid_score = score\n",
    "        sym.append(best_medoid_id)\n",
    "        i += len(medoids[best_medoid_id])\n",
    "\n",
    "    return sym\n",
    "\n",
    "def myContains(big, small):\n",
    "    count = 0\n",
    "    for i in range(len(big)):\n",
    "        if big[i] == small[count]:\n",
    "            count +=1\n",
    "        else:\n",
    "            count = 0\n",
    "        if count == len(small):\n",
    "            return True\n",
    "\n",
    "    return False"
   ]
  },
  {
   "cell_type": "code",
   "execution_count": 51,
   "metadata": {},
   "outputs": [],
   "source": [
    "from sklearn.feature_selection import mutual_info_classif\n",
    "\n",
    "y=df.groupby(by=\"tid\").max()[\"class\"]"
   ]
  },
  {
   "cell_type": "code",
   "execution_count": 52,
   "metadata": {},
   "outputs": [],
   "source": [
    "def guidotti(n_clust=20, sliding_w=3, top_k=200):\n",
    "    kmedoids = KMedoids(n_clusters=n_clust, random_state=0, metric=\"precomputed\").fit(dist_matrix)    \n",
    "    medoids = [new_movelets[x] for x in kmedoids.medoid_indices_]\n",
    "    trajectories = [[(x[3], x[4], x[2]) for x in df[df.tid == tid].values] for tid in df.tid.unique()]\n",
    "    \n",
    "    trajectories_sym=[]\n",
    "    for trajectory in tqdm(trajectories, desc=\"symbolize\"):\n",
    "        trajectories_sym.append(symbolize(medoids, trajectory))\n",
    "            \n",
    "    trajectories_sym_train, _, y_sym_tr, _ = train_test_split(trajectories_sym,\n",
    "                                                        y,\n",
    "                                                        test_size=.3,\n",
    "                                                        stratify=y,\n",
    "                                                        random_state=3)\n",
    "    \n",
    "    subtrajectories_sym=[]\n",
    "    for i, tr in enumerate(tqdm(trajectories_sym_train, desc=\"sliding w\")):\n",
    "        for j in range(0, len(tr)-sliding_w):\n",
    "            subtrajectories_sym.append(tr[j:j+sliding_w])\n",
    "    \n",
    "    sliding_w *= 2\n",
    "    for i, tr in enumerate(tqdm(trajectories_sym_train, desc=\"sliding w\")):\n",
    "        for j in range(0, len(tr)-sliding_w):\n",
    "            subtrajectories_sym.append(tr[j:j+sliding_w])\n",
    "    \n",
    "    sliding_w *= 2\n",
    "    for i, tr in enumerate(tqdm(trajectories_sym_train, desc=\"sliding w\")):\n",
    "        for j in range(0, len(tr)-sliding_w):\n",
    "            subtrajectories_sym.append(tr[j:j+sliding_w])\n",
    "    \n",
    "    matr_sub = np.ones((len(trajectories_sym_train), len(subtrajectories_sym)))*np.NAN\n",
    "    for i, traiettoria in enumerate(tqdm(trajectories_sym_train, desc=\"contains\")):\n",
    "        for j, pattern in enumerate(subtrajectories_sym):\n",
    "            matr_sub[i][j] = 1 if myContains(traiettoria, pattern) else 0\n",
    "    \n",
    "    mi = mutual_info_classif(matr_sub, y_sym_tr)\n",
    "    d = {i: x for i, x in enumerate(mi)}\n",
    "    d = {k: v for k, v in sorted(d.items(), key=lambda item: -item[1])}\n",
    "    \n",
    "    res = []\n",
    "    for key in list(d.keys())[:top_k]:\n",
    "        res.append(subtrajectories_sym[key])\n",
    "        \n",
    "    matr = np.ones((len(trajectories_sym), len(res)))*np.NAN\n",
    "    for i, traiettoria in enumerate(tqdm(trajectories_sym)):\n",
    "        for j, pattern in enumerate(res):\n",
    "            matr[i][j] = 1 if myContains(traiettoria, pattern) else 0\n",
    "    \n",
    "    return matr"
   ]
  },
  {
   "cell_type": "code",
   "execution_count": null,
   "metadata": {},
   "outputs": [],
   "source": []
  },
  {
   "cell_type": "code",
   "execution_count": null,
   "metadata": {},
   "outputs": [],
   "source": []
  },
  {
   "cell_type": "code",
   "execution_count": null,
   "metadata": {},
   "outputs": [],
   "source": []
  },
  {
   "cell_type": "code",
   "execution_count": 53,
   "metadata": {},
   "outputs": [],
   "source": [
    "def runTest(n_clust, sliding_w, top_k):\n",
    "    start = datetime.now()\n",
    "    \n",
    "    X = guidotti(n_clust=n_clust, sliding_w=sliding_w, top_k=top_k)\n",
    "    \n",
    "    return (datetime.now()-start).total_seconds()*1000, X"
   ]
  },
  {
   "cell_type": "code",
   "execution_count": 54,
   "metadata": {},
   "outputs": [],
   "source": [
    "def foo(x):\n",
    "    return (x, x*x)"
   ]
  },
  {
   "cell_type": "code",
   "execution_count": 55,
   "metadata": {
    "scrolled": true
   },
   "outputs": [
    {
     "data": {
      "application/vnd.jupyter.widget-view+json": {
       "model_id": "2dfe9c6f1d6c4a3fae19f5585431adca",
       "version_major": 2,
       "version_minor": 0
      },
      "text/plain": [
       "  0%|          | 0/4 [00:00<?, ?it/s]"
      ]
     },
     "metadata": {},
     "output_type": "display_data"
    },
    {
     "data": {
      "application/vnd.jupyter.widget-view+json": {
       "model_id": "010369a16ccc4fefa3c1a1983445abe0",
       "version_major": 2,
       "version_minor": 0
      },
      "text/plain": [
       "symbolize:   0%|          | 0/102 [00:00<?, ?it/s]"
      ]
     },
     "metadata": {},
     "output_type": "display_data"
    },
    {
     "data": {
      "application/vnd.jupyter.widget-view+json": {
       "model_id": "b55a17207f464f4b98c880ffc9c728a0",
       "version_major": 2,
       "version_minor": 0
      },
      "text/plain": [
       "sliding w:   0%|          | 0/71 [00:00<?, ?it/s]"
      ]
     },
     "metadata": {},
     "output_type": "display_data"
    },
    {
     "data": {
      "application/vnd.jupyter.widget-view+json": {
       "model_id": "fa8bced04b054bde8f02bbd90a0c2930",
       "version_major": 2,
       "version_minor": 0
      },
      "text/plain": [
       "sliding w:   0%|          | 0/71 [00:00<?, ?it/s]"
      ]
     },
     "metadata": {},
     "output_type": "display_data"
    },
    {
     "data": {
      "application/vnd.jupyter.widget-view+json": {
       "model_id": "f61289bd1ec440059a88b6aae8a65678",
       "version_major": 2,
       "version_minor": 0
      },
      "text/plain": [
       "sliding w:   0%|          | 0/71 [00:00<?, ?it/s]"
      ]
     },
     "metadata": {},
     "output_type": "display_data"
    },
    {
     "data": {
      "application/vnd.jupyter.widget-view+json": {
       "model_id": "922eea1e043e4896977d2db7bbbb4c63",
       "version_major": 2,
       "version_minor": 0
      },
      "text/plain": [
       "contains:   0%|          | 0/71 [00:00<?, ?it/s]"
      ]
     },
     "metadata": {},
     "output_type": "display_data"
    },
    {
     "data": {
      "application/vnd.jupyter.widget-view+json": {
       "model_id": "f33389dd924a4e1da65ab28cfe33632e",
       "version_major": 2,
       "version_minor": 0
      },
      "text/plain": [
       "  0%|          | 0/102 [00:00<?, ?it/s]"
      ]
     },
     "metadata": {},
     "output_type": "display_data"
    },
    {
     "data": {
      "application/vnd.jupyter.widget-view+json": {
       "model_id": "a4545e0169944a65a4b13f5bea00fe76",
       "version_major": 2,
       "version_minor": 0
      },
      "text/plain": [
       "symbolize:   0%|          | 0/102 [00:00<?, ?it/s]"
      ]
     },
     "metadata": {},
     "output_type": "display_data"
    },
    {
     "data": {
      "application/vnd.jupyter.widget-view+json": {
       "model_id": "3fb883b6d62443138b2c8f1e319116b3",
       "version_major": 2,
       "version_minor": 0
      },
      "text/plain": [
       "sliding w:   0%|          | 0/71 [00:00<?, ?it/s]"
      ]
     },
     "metadata": {},
     "output_type": "display_data"
    },
    {
     "data": {
      "application/vnd.jupyter.widget-view+json": {
       "model_id": "72e8e3fd63974a04a4537fa7210589c4",
       "version_major": 2,
       "version_minor": 0
      },
      "text/plain": [
       "sliding w:   0%|          | 0/71 [00:00<?, ?it/s]"
      ]
     },
     "metadata": {},
     "output_type": "display_data"
    },
    {
     "data": {
      "application/vnd.jupyter.widget-view+json": {
       "model_id": "e32d0d87366645ee974d42d2e5c32cf4",
       "version_major": 2,
       "version_minor": 0
      },
      "text/plain": [
       "sliding w:   0%|          | 0/71 [00:00<?, ?it/s]"
      ]
     },
     "metadata": {},
     "output_type": "display_data"
    },
    {
     "data": {
      "application/vnd.jupyter.widget-view+json": {
       "model_id": "4bd7ded1a94a42e2a885f979bd361fd9",
       "version_major": 2,
       "version_minor": 0
      },
      "text/plain": [
       "contains:   0%|          | 0/71 [00:00<?, ?it/s]"
      ]
     },
     "metadata": {},
     "output_type": "display_data"
    },
    {
     "data": {
      "application/vnd.jupyter.widget-view+json": {
       "model_id": "3e20bd2082854f0593bf03c9b32057e5",
       "version_major": 2,
       "version_minor": 0
      },
      "text/plain": [
       "  0%|          | 0/102 [00:00<?, ?it/s]"
      ]
     },
     "metadata": {},
     "output_type": "display_data"
    },
    {
     "data": {
      "application/vnd.jupyter.widget-view+json": {
       "model_id": "8e3e3536189a4380a13ff2492988dc28",
       "version_major": 2,
       "version_minor": 0
      },
      "text/plain": [
       "symbolize:   0%|          | 0/102 [00:00<?, ?it/s]"
      ]
     },
     "metadata": {},
     "output_type": "display_data"
    },
    {
     "data": {
      "application/vnd.jupyter.widget-view+json": {
       "model_id": "f85c46c1beca4c3b9848801be0102c45",
       "version_major": 2,
       "version_minor": 0
      },
      "text/plain": [
       "sliding w:   0%|          | 0/71 [00:00<?, ?it/s]"
      ]
     },
     "metadata": {},
     "output_type": "display_data"
    },
    {
     "data": {
      "application/vnd.jupyter.widget-view+json": {
       "model_id": "45531860ed3849048da64ccc609f0de4",
       "version_major": 2,
       "version_minor": 0
      },
      "text/plain": [
       "sliding w:   0%|          | 0/71 [00:00<?, ?it/s]"
      ]
     },
     "metadata": {},
     "output_type": "display_data"
    },
    {
     "data": {
      "application/vnd.jupyter.widget-view+json": {
       "model_id": "bc9abc77fcac455f8c4231959a4b9374",
       "version_major": 2,
       "version_minor": 0
      },
      "text/plain": [
       "sliding w:   0%|          | 0/71 [00:00<?, ?it/s]"
      ]
     },
     "metadata": {},
     "output_type": "display_data"
    },
    {
     "data": {
      "application/vnd.jupyter.widget-view+json": {
       "model_id": "0c472e79104945968e00eb6687afbb75",
       "version_major": 2,
       "version_minor": 0
      },
      "text/plain": [
       "contains:   0%|          | 0/71 [00:00<?, ?it/s]"
      ]
     },
     "metadata": {},
     "output_type": "display_data"
    },
    {
     "data": {
      "application/vnd.jupyter.widget-view+json": {
       "model_id": "72d7793c8d6c49659466dc7b06418e82",
       "version_major": 2,
       "version_minor": 0
      },
      "text/plain": [
       "  0%|          | 0/102 [00:00<?, ?it/s]"
      ]
     },
     "metadata": {},
     "output_type": "display_data"
    },
    {
     "data": {
      "application/vnd.jupyter.widget-view+json": {
       "model_id": "2458de0401f042318bd69435d841bcb5",
       "version_major": 2,
       "version_minor": 0
      },
      "text/plain": [
       "symbolize:   0%|          | 0/102 [00:00<?, ?it/s]"
      ]
     },
     "metadata": {},
     "output_type": "display_data"
    },
    {
     "data": {
      "application/vnd.jupyter.widget-view+json": {
       "model_id": "d436c77a6f5d49549558baa848307209",
       "version_major": 2,
       "version_minor": 0
      },
      "text/plain": [
       "sliding w:   0%|          | 0/71 [00:00<?, ?it/s]"
      ]
     },
     "metadata": {},
     "output_type": "display_data"
    },
    {
     "data": {
      "application/vnd.jupyter.widget-view+json": {
       "model_id": "f67b5922a43b4e399e3cbb87b844aed2",
       "version_major": 2,
       "version_minor": 0
      },
      "text/plain": [
       "sliding w:   0%|          | 0/71 [00:00<?, ?it/s]"
      ]
     },
     "metadata": {},
     "output_type": "display_data"
    },
    {
     "data": {
      "application/vnd.jupyter.widget-view+json": {
       "model_id": "59213343bf4145809f0aeef2bf783a1d",
       "version_major": 2,
       "version_minor": 0
      },
      "text/plain": [
       "sliding w:   0%|          | 0/71 [00:00<?, ?it/s]"
      ]
     },
     "metadata": {},
     "output_type": "display_data"
    },
    {
     "data": {
      "application/vnd.jupyter.widget-view+json": {
       "model_id": "45659e07df6e4bd08432194002cdd092",
       "version_major": 2,
       "version_minor": 0
      },
      "text/plain": [
       "contains:   0%|          | 0/71 [00:00<?, ?it/s]"
      ]
     },
     "metadata": {},
     "output_type": "display_data"
    },
    {
     "data": {
      "application/vnd.jupyter.widget-view+json": {
       "model_id": "95930c12e3f64ab5ac7940adc5d5c3dc",
       "version_major": 2,
       "version_minor": 0
      },
      "text/plain": [
       "  0%|          | 0/102 [00:00<?, ?it/s]"
      ]
     },
     "metadata": {},
     "output_type": "display_data"
    },
    {
     "data": {
      "application/vnd.jupyter.widget-view+json": {
       "model_id": "0dbf2928df984f3996f007b2f1d7b53a",
       "version_major": 2,
       "version_minor": 0
      },
      "text/plain": [
       "symbolize:   0%|          | 0/102 [00:00<?, ?it/s]"
      ]
     },
     "metadata": {},
     "output_type": "display_data"
    },
    {
     "data": {
      "application/vnd.jupyter.widget-view+json": {
       "model_id": "c1f092a034a042eb9f8584fcfd44842a",
       "version_major": 2,
       "version_minor": 0
      },
      "text/plain": [
       "sliding w:   0%|          | 0/71 [00:00<?, ?it/s]"
      ]
     },
     "metadata": {},
     "output_type": "display_data"
    },
    {
     "data": {
      "application/vnd.jupyter.widget-view+json": {
       "model_id": "f9cbd2b04b6148be85f3e08db2575565",
       "version_major": 2,
       "version_minor": 0
      },
      "text/plain": [
       "sliding w:   0%|          | 0/71 [00:00<?, ?it/s]"
      ]
     },
     "metadata": {},
     "output_type": "display_data"
    },
    {
     "data": {
      "application/vnd.jupyter.widget-view+json": {
       "model_id": "a99e822f34b84e76970e5e62836fccd5",
       "version_major": 2,
       "version_minor": 0
      },
      "text/plain": [
       "sliding w:   0%|          | 0/71 [00:00<?, ?it/s]"
      ]
     },
     "metadata": {},
     "output_type": "display_data"
    },
    {
     "data": {
      "application/vnd.jupyter.widget-view+json": {
       "model_id": "411c40debda640dd863a11861e261fa5",
       "version_major": 2,
       "version_minor": 0
      },
      "text/plain": [
       "contains:   0%|          | 0/71 [00:00<?, ?it/s]"
      ]
     },
     "metadata": {},
     "output_type": "display_data"
    },
    {
     "data": {
      "application/vnd.jupyter.widget-view+json": {
       "model_id": "0856f1aec9f24957b41ad49723e0e685",
       "version_major": 2,
       "version_minor": 0
      },
      "text/plain": [
       "  0%|          | 0/102 [00:00<?, ?it/s]"
      ]
     },
     "metadata": {},
     "output_type": "display_data"
    },
    {
     "data": {
      "application/vnd.jupyter.widget-view+json": {
       "model_id": "0c1865606e3040bc83dfa4345752e815",
       "version_major": 2,
       "version_minor": 0
      },
      "text/plain": [
       "symbolize:   0%|          | 0/102 [00:00<?, ?it/s]"
      ]
     },
     "metadata": {},
     "output_type": "display_data"
    },
    {
     "data": {
      "application/vnd.jupyter.widget-view+json": {
       "model_id": "7d8bb79793c5407ba89e40c1bec09c78",
       "version_major": 2,
       "version_minor": 0
      },
      "text/plain": [
       "sliding w:   0%|          | 0/71 [00:00<?, ?it/s]"
      ]
     },
     "metadata": {},
     "output_type": "display_data"
    },
    {
     "data": {
      "application/vnd.jupyter.widget-view+json": {
       "model_id": "051fcdb2618d40c58882784e0c393ad2",
       "version_major": 2,
       "version_minor": 0
      },
      "text/plain": [
       "sliding w:   0%|          | 0/71 [00:00<?, ?it/s]"
      ]
     },
     "metadata": {},
     "output_type": "display_data"
    },
    {
     "data": {
      "application/vnd.jupyter.widget-view+json": {
       "model_id": "9f78bbf8bc5e4557be0987a2f32fd870",
       "version_major": 2,
       "version_minor": 0
      },
      "text/plain": [
       "sliding w:   0%|          | 0/71 [00:00<?, ?it/s]"
      ]
     },
     "metadata": {},
     "output_type": "display_data"
    },
    {
     "data": {
      "application/vnd.jupyter.widget-view+json": {
       "model_id": "b808403f6263407492c110b92d26bc24",
       "version_major": 2,
       "version_minor": 0
      },
      "text/plain": [
       "contains:   0%|          | 0/71 [00:00<?, ?it/s]"
      ]
     },
     "metadata": {},
     "output_type": "display_data"
    },
    {
     "data": {
      "application/vnd.jupyter.widget-view+json": {
       "model_id": "83f600b8c13f48d6aedb2a0190b0ae7b",
       "version_major": 2,
       "version_minor": 0
      },
      "text/plain": [
       "  0%|          | 0/102 [00:00<?, ?it/s]"
      ]
     },
     "metadata": {},
     "output_type": "display_data"
    },
    {
     "data": {
      "application/vnd.jupyter.widget-view+json": {
       "model_id": "c69d6e8e256d4136be57d7516c1027a3",
       "version_major": 2,
       "version_minor": 0
      },
      "text/plain": [
       "symbolize:   0%|          | 0/102 [00:00<?, ?it/s]"
      ]
     },
     "metadata": {},
     "output_type": "display_data"
    },
    {
     "data": {
      "application/vnd.jupyter.widget-view+json": {
       "model_id": "506a7fa009c24fff8fffacd2fd420f96",
       "version_major": 2,
       "version_minor": 0
      },
      "text/plain": [
       "sliding w:   0%|          | 0/71 [00:00<?, ?it/s]"
      ]
     },
     "metadata": {},
     "output_type": "display_data"
    },
    {
     "data": {
      "application/vnd.jupyter.widget-view+json": {
       "model_id": "45d0cfeb0c6c4ea8b7ffacaa7167d100",
       "version_major": 2,
       "version_minor": 0
      },
      "text/plain": [
       "sliding w:   0%|          | 0/71 [00:00<?, ?it/s]"
      ]
     },
     "metadata": {},
     "output_type": "display_data"
    },
    {
     "data": {
      "application/vnd.jupyter.widget-view+json": {
       "model_id": "f3331853811847db8e6b40bc6595c6be",
       "version_major": 2,
       "version_minor": 0
      },
      "text/plain": [
       "sliding w:   0%|          | 0/71 [00:00<?, ?it/s]"
      ]
     },
     "metadata": {},
     "output_type": "display_data"
    },
    {
     "data": {
      "application/vnd.jupyter.widget-view+json": {
       "model_id": "891a5f5237df49fe983c350cda3b544e",
       "version_major": 2,
       "version_minor": 0
      },
      "text/plain": [
       "contains:   0%|          | 0/71 [00:00<?, ?it/s]"
      ]
     },
     "metadata": {},
     "output_type": "display_data"
    },
    {
     "data": {
      "application/vnd.jupyter.widget-view+json": {
       "model_id": "8e3c6ef4066743dd91e9717056efe9a6",
       "version_major": 2,
       "version_minor": 0
      },
      "text/plain": [
       "  0%|          | 0/102 [00:00<?, ?it/s]"
      ]
     },
     "metadata": {},
     "output_type": "display_data"
    },
    {
     "data": {
      "application/vnd.jupyter.widget-view+json": {
       "model_id": "0cc8e2671cf2456d91ee63bce87095bb",
       "version_major": 2,
       "version_minor": 0
      },
      "text/plain": [
       "symbolize:   0%|          | 0/102 [00:00<?, ?it/s]"
      ]
     },
     "metadata": {},
     "output_type": "display_data"
    },
    {
     "data": {
      "application/vnd.jupyter.widget-view+json": {
       "model_id": "0d1ecc5c261b42d6a0a45299b5d4bced",
       "version_major": 2,
       "version_minor": 0
      },
      "text/plain": [
       "sliding w:   0%|          | 0/71 [00:00<?, ?it/s]"
      ]
     },
     "metadata": {},
     "output_type": "display_data"
    },
    {
     "data": {
      "application/vnd.jupyter.widget-view+json": {
       "model_id": "3d507f8665af473e8325882961b4eefa",
       "version_major": 2,
       "version_minor": 0
      },
      "text/plain": [
       "sliding w:   0%|          | 0/71 [00:00<?, ?it/s]"
      ]
     },
     "metadata": {},
     "output_type": "display_data"
    },
    {
     "data": {
      "application/vnd.jupyter.widget-view+json": {
       "model_id": "d9a4101be1d0450996068967fcd35269",
       "version_major": 2,
       "version_minor": 0
      },
      "text/plain": [
       "sliding w:   0%|          | 0/71 [00:00<?, ?it/s]"
      ]
     },
     "metadata": {},
     "output_type": "display_data"
    },
    {
     "data": {
      "application/vnd.jupyter.widget-view+json": {
       "model_id": "0bf0c8b6ad1f40bb8e38e72862d4e4f8",
       "version_major": 2,
       "version_minor": 0
      },
      "text/plain": [
       "contains:   0%|          | 0/71 [00:00<?, ?it/s]"
      ]
     },
     "metadata": {},
     "output_type": "display_data"
    },
    {
     "data": {
      "application/vnd.jupyter.widget-view+json": {
       "model_id": "43558f1c886243af8fbaefb753a20b6f",
       "version_major": 2,
       "version_minor": 0
      },
      "text/plain": [
       "  0%|          | 0/102 [00:00<?, ?it/s]"
      ]
     },
     "metadata": {},
     "output_type": "display_data"
    },
    {
     "data": {
      "application/vnd.jupyter.widget-view+json": {
       "model_id": "d0d56e2e7d9a405e8f9ee542e275f86a",
       "version_major": 2,
       "version_minor": 0
      },
      "text/plain": [
       "symbolize:   0%|          | 0/102 [00:00<?, ?it/s]"
      ]
     },
     "metadata": {},
     "output_type": "display_data"
    },
    {
     "data": {
      "application/vnd.jupyter.widget-view+json": {
       "model_id": "9aa7e94ff32848b8bff180ce2d8d7238",
       "version_major": 2,
       "version_minor": 0
      },
      "text/plain": [
       "sliding w:   0%|          | 0/71 [00:00<?, ?it/s]"
      ]
     },
     "metadata": {},
     "output_type": "display_data"
    },
    {
     "data": {
      "application/vnd.jupyter.widget-view+json": {
       "model_id": "a2cead74a1244ddbb9ff74ca15b05601",
       "version_major": 2,
       "version_minor": 0
      },
      "text/plain": [
       "sliding w:   0%|          | 0/71 [00:00<?, ?it/s]"
      ]
     },
     "metadata": {},
     "output_type": "display_data"
    },
    {
     "data": {
      "application/vnd.jupyter.widget-view+json": {
       "model_id": "0a28bd83da5445298572ba4b146474a7",
       "version_major": 2,
       "version_minor": 0
      },
      "text/plain": [
       "sliding w:   0%|          | 0/71 [00:00<?, ?it/s]"
      ]
     },
     "metadata": {},
     "output_type": "display_data"
    },
    {
     "data": {
      "application/vnd.jupyter.widget-view+json": {
       "model_id": "195d8dd205be449abb23459578aa343f",
       "version_major": 2,
       "version_minor": 0
      },
      "text/plain": [
       "contains:   0%|          | 0/71 [00:00<?, ?it/s]"
      ]
     },
     "metadata": {},
     "output_type": "display_data"
    },
    {
     "data": {
      "application/vnd.jupyter.widget-view+json": {
       "model_id": "a6efbb59a6b942eebb34c413c912df9b",
       "version_major": 2,
       "version_minor": 0
      },
      "text/plain": [
       "  0%|          | 0/102 [00:00<?, ?it/s]"
      ]
     },
     "metadata": {},
     "output_type": "display_data"
    },
    {
     "data": {
      "application/vnd.jupyter.widget-view+json": {
       "model_id": "34c2306f03ba453cb53089b463fdfcdc",
       "version_major": 2,
       "version_minor": 0
      },
      "text/plain": [
       "symbolize:   0%|          | 0/102 [00:00<?, ?it/s]"
      ]
     },
     "metadata": {},
     "output_type": "display_data"
    },
    {
     "data": {
      "application/vnd.jupyter.widget-view+json": {
       "model_id": "500d226c1d8c4c5aa2167c22aa132bf1",
       "version_major": 2,
       "version_minor": 0
      },
      "text/plain": [
       "sliding w:   0%|          | 0/71 [00:00<?, ?it/s]"
      ]
     },
     "metadata": {},
     "output_type": "display_data"
    },
    {
     "data": {
      "application/vnd.jupyter.widget-view+json": {
       "model_id": "804361f6dd5547a9b7753c1d709c1da7",
       "version_major": 2,
       "version_minor": 0
      },
      "text/plain": [
       "sliding w:   0%|          | 0/71 [00:00<?, ?it/s]"
      ]
     },
     "metadata": {},
     "output_type": "display_data"
    },
    {
     "data": {
      "application/vnd.jupyter.widget-view+json": {
       "model_id": "94557e8ddf174acb8b12f315f303e0ea",
       "version_major": 2,
       "version_minor": 0
      },
      "text/plain": [
       "sliding w:   0%|          | 0/71 [00:00<?, ?it/s]"
      ]
     },
     "metadata": {},
     "output_type": "display_data"
    },
    {
     "data": {
      "application/vnd.jupyter.widget-view+json": {
       "model_id": "0cf0ef431c134af1a584162abc2c45ad",
       "version_major": 2,
       "version_minor": 0
      },
      "text/plain": [
       "contains:   0%|          | 0/71 [00:00<?, ?it/s]"
      ]
     },
     "metadata": {},
     "output_type": "display_data"
    },
    {
     "data": {
      "application/vnd.jupyter.widget-view+json": {
       "model_id": "e6210177e9d84377ad4d13a85e26924b",
       "version_major": 2,
       "version_minor": 0
      },
      "text/plain": [
       "  0%|          | 0/102 [00:00<?, ?it/s]"
      ]
     },
     "metadata": {},
     "output_type": "display_data"
    },
    {
     "data": {
      "application/vnd.jupyter.widget-view+json": {
       "model_id": "94f7036aee384221b0f173d83e5ddd90",
       "version_major": 2,
       "version_minor": 0
      },
      "text/plain": [
       "symbolize:   0%|          | 0/102 [00:00<?, ?it/s]"
      ]
     },
     "metadata": {},
     "output_type": "display_data"
    },
    {
     "data": {
      "application/vnd.jupyter.widget-view+json": {
       "model_id": "e4420dcbe98f42289e83459fddd270dc",
       "version_major": 2,
       "version_minor": 0
      },
      "text/plain": [
       "sliding w:   0%|          | 0/71 [00:00<?, ?it/s]"
      ]
     },
     "metadata": {},
     "output_type": "display_data"
    },
    {
     "data": {
      "application/vnd.jupyter.widget-view+json": {
       "model_id": "9768a5ee443f4616b0aec2fbaa0606f0",
       "version_major": 2,
       "version_minor": 0
      },
      "text/plain": [
       "sliding w:   0%|          | 0/71 [00:00<?, ?it/s]"
      ]
     },
     "metadata": {},
     "output_type": "display_data"
    },
    {
     "data": {
      "application/vnd.jupyter.widget-view+json": {
       "model_id": "cb70291b305748da984da36703ba6348",
       "version_major": 2,
       "version_minor": 0
      },
      "text/plain": [
       "sliding w:   0%|          | 0/71 [00:00<?, ?it/s]"
      ]
     },
     "metadata": {},
     "output_type": "display_data"
    },
    {
     "data": {
      "application/vnd.jupyter.widget-view+json": {
       "model_id": "2462d858d5b3476d9081ff019f8bb3f2",
       "version_major": 2,
       "version_minor": 0
      },
      "text/plain": [
       "contains:   0%|          | 0/71 [00:00<?, ?it/s]"
      ]
     },
     "metadata": {},
     "output_type": "display_data"
    },
    {
     "data": {
      "application/vnd.jupyter.widget-view+json": {
       "model_id": "a46726570328488e9beb35e13c80d7b9",
       "version_major": 2,
       "version_minor": 0
      },
      "text/plain": [
       "  0%|          | 0/102 [00:00<?, ?it/s]"
      ]
     },
     "metadata": {},
     "output_type": "display_data"
    },
    {
     "data": {
      "application/vnd.jupyter.widget-view+json": {
       "model_id": "83a20c9c83de4b538a896756022276b2",
       "version_major": 2,
       "version_minor": 0
      },
      "text/plain": [
       "symbolize:   0%|          | 0/102 [00:00<?, ?it/s]"
      ]
     },
     "metadata": {},
     "output_type": "display_data"
    },
    {
     "data": {
      "application/vnd.jupyter.widget-view+json": {
       "model_id": "22d424c9e47141a59addb46b50df37d8",
       "version_major": 2,
       "version_minor": 0
      },
      "text/plain": [
       "sliding w:   0%|          | 0/71 [00:00<?, ?it/s]"
      ]
     },
     "metadata": {},
     "output_type": "display_data"
    },
    {
     "data": {
      "application/vnd.jupyter.widget-view+json": {
       "model_id": "e3f330c058d146a48963cb84c459b769",
       "version_major": 2,
       "version_minor": 0
      },
      "text/plain": [
       "sliding w:   0%|          | 0/71 [00:00<?, ?it/s]"
      ]
     },
     "metadata": {},
     "output_type": "display_data"
    },
    {
     "data": {
      "application/vnd.jupyter.widget-view+json": {
       "model_id": "f9c2d710aa564094b43d1280c454d220",
       "version_major": 2,
       "version_minor": 0
      },
      "text/plain": [
       "sliding w:   0%|          | 0/71 [00:00<?, ?it/s]"
      ]
     },
     "metadata": {},
     "output_type": "display_data"
    },
    {
     "data": {
      "application/vnd.jupyter.widget-view+json": {
       "model_id": "51dd8cee118e4deb87d1dd621680a812",
       "version_major": 2,
       "version_minor": 0
      },
      "text/plain": [
       "contains:   0%|          | 0/71 [00:00<?, ?it/s]"
      ]
     },
     "metadata": {},
     "output_type": "display_data"
    },
    {
     "data": {
      "application/vnd.jupyter.widget-view+json": {
       "model_id": "689ed0b9782044c6b833369b0e3641f9",
       "version_major": 2,
       "version_minor": 0
      },
      "text/plain": [
       "  0%|          | 0/102 [00:00<?, ?it/s]"
      ]
     },
     "metadata": {},
     "output_type": "display_data"
    },
    {
     "data": {
      "application/vnd.jupyter.widget-view+json": {
       "model_id": "151dc9dd56454a6c819d9b51719fe12a",
       "version_major": 2,
       "version_minor": 0
      },
      "text/plain": [
       "symbolize:   0%|          | 0/102 [00:00<?, ?it/s]"
      ]
     },
     "metadata": {},
     "output_type": "display_data"
    },
    {
     "data": {
      "application/vnd.jupyter.widget-view+json": {
       "model_id": "da94108881a9445fad02aa1f6ff4b7a5",
       "version_major": 2,
       "version_minor": 0
      },
      "text/plain": [
       "sliding w:   0%|          | 0/71 [00:00<?, ?it/s]"
      ]
     },
     "metadata": {},
     "output_type": "display_data"
    },
    {
     "data": {
      "application/vnd.jupyter.widget-view+json": {
       "model_id": "084ac27bae164be885a6d5c2e816836f",
       "version_major": 2,
       "version_minor": 0
      },
      "text/plain": [
       "sliding w:   0%|          | 0/71 [00:00<?, ?it/s]"
      ]
     },
     "metadata": {},
     "output_type": "display_data"
    },
    {
     "data": {
      "application/vnd.jupyter.widget-view+json": {
       "model_id": "9ffaa5a3953541cba13190df34060401",
       "version_major": 2,
       "version_minor": 0
      },
      "text/plain": [
       "sliding w:   0%|          | 0/71 [00:00<?, ?it/s]"
      ]
     },
     "metadata": {},
     "output_type": "display_data"
    },
    {
     "data": {
      "application/vnd.jupyter.widget-view+json": {
       "model_id": "684cf55be15d459397902917cda1c4c8",
       "version_major": 2,
       "version_minor": 0
      },
      "text/plain": [
       "contains:   0%|          | 0/71 [00:00<?, ?it/s]"
      ]
     },
     "metadata": {},
     "output_type": "display_data"
    },
    {
     "data": {
      "application/vnd.jupyter.widget-view+json": {
       "model_id": "82ace67689844173b73e0cbbb530c1e7",
       "version_major": 2,
       "version_minor": 0
      },
      "text/plain": [
       "  0%|          | 0/102 [00:00<?, ?it/s]"
      ]
     },
     "metadata": {},
     "output_type": "display_data"
    },
    {
     "data": {
      "application/vnd.jupyter.widget-view+json": {
       "model_id": "9ba4d6f1f50d4a188fadce1423bf454f",
       "version_major": 2,
       "version_minor": 0
      },
      "text/plain": [
       "symbolize:   0%|          | 0/102 [00:00<?, ?it/s]"
      ]
     },
     "metadata": {},
     "output_type": "display_data"
    },
    {
     "data": {
      "application/vnd.jupyter.widget-view+json": {
       "model_id": "782b3e26aced4c5daf458019f13bc5c8",
       "version_major": 2,
       "version_minor": 0
      },
      "text/plain": [
       "sliding w:   0%|          | 0/71 [00:00<?, ?it/s]"
      ]
     },
     "metadata": {},
     "output_type": "display_data"
    },
    {
     "data": {
      "application/vnd.jupyter.widget-view+json": {
       "model_id": "d6a20112dc5e4c18b38746674429d7fa",
       "version_major": 2,
       "version_minor": 0
      },
      "text/plain": [
       "sliding w:   0%|          | 0/71 [00:00<?, ?it/s]"
      ]
     },
     "metadata": {},
     "output_type": "display_data"
    },
    {
     "data": {
      "application/vnd.jupyter.widget-view+json": {
       "model_id": "9bdda0e8160a44eeaca67b6eefa6ca95",
       "version_major": 2,
       "version_minor": 0
      },
      "text/plain": [
       "sliding w:   0%|          | 0/71 [00:00<?, ?it/s]"
      ]
     },
     "metadata": {},
     "output_type": "display_data"
    },
    {
     "data": {
      "application/vnd.jupyter.widget-view+json": {
       "model_id": "1197dc11d8cd46e89088431389d47838",
       "version_major": 2,
       "version_minor": 0
      },
      "text/plain": [
       "contains:   0%|          | 0/71 [00:00<?, ?it/s]"
      ]
     },
     "metadata": {},
     "output_type": "display_data"
    },
    {
     "data": {
      "application/vnd.jupyter.widget-view+json": {
       "model_id": "05328988bf254bf1a315b297bfc113ba",
       "version_major": 2,
       "version_minor": 0
      },
      "text/plain": [
       "  0%|          | 0/102 [00:00<?, ?it/s]"
      ]
     },
     "metadata": {},
     "output_type": "display_data"
    },
    {
     "data": {
      "application/vnd.jupyter.widget-view+json": {
       "model_id": "0f7d4d44a5e6413cb6da53e810afd535",
       "version_major": 2,
       "version_minor": 0
      },
      "text/plain": [
       "symbolize:   0%|          | 0/102 [00:00<?, ?it/s]"
      ]
     },
     "metadata": {},
     "output_type": "display_data"
    },
    {
     "data": {
      "application/vnd.jupyter.widget-view+json": {
       "model_id": "30308b4ad4654fed9a88b4121335253f",
       "version_major": 2,
       "version_minor": 0
      },
      "text/plain": [
       "sliding w:   0%|          | 0/71 [00:00<?, ?it/s]"
      ]
     },
     "metadata": {},
     "output_type": "display_data"
    },
    {
     "data": {
      "application/vnd.jupyter.widget-view+json": {
       "model_id": "db798b6ca77f4229a6ecd77d93afa791",
       "version_major": 2,
       "version_minor": 0
      },
      "text/plain": [
       "sliding w:   0%|          | 0/71 [00:00<?, ?it/s]"
      ]
     },
     "metadata": {},
     "output_type": "display_data"
    },
    {
     "data": {
      "application/vnd.jupyter.widget-view+json": {
       "model_id": "67fc06759a464602b9a33e0c8eeed52d",
       "version_major": 2,
       "version_minor": 0
      },
      "text/plain": [
       "sliding w:   0%|          | 0/71 [00:00<?, ?it/s]"
      ]
     },
     "metadata": {},
     "output_type": "display_data"
    },
    {
     "data": {
      "application/vnd.jupyter.widget-view+json": {
       "model_id": "3b0e2981ef9548d48b466a7bee5f9de2",
       "version_major": 2,
       "version_minor": 0
      },
      "text/plain": [
       "contains:   0%|          | 0/71 [00:00<?, ?it/s]"
      ]
     },
     "metadata": {},
     "output_type": "display_data"
    },
    {
     "data": {
      "application/vnd.jupyter.widget-view+json": {
       "model_id": "87ee7e690f7849fdaa435631c1ca2374",
       "version_major": 2,
       "version_minor": 0
      },
      "text/plain": [
       "  0%|          | 0/102 [00:00<?, ?it/s]"
      ]
     },
     "metadata": {},
     "output_type": "display_data"
    },
    {
     "data": {
      "application/vnd.jupyter.widget-view+json": {
       "model_id": "5e6350b06c174310bb0c38b3124947c7",
       "version_major": 2,
       "version_minor": 0
      },
      "text/plain": [
       "symbolize:   0%|          | 0/102 [00:00<?, ?it/s]"
      ]
     },
     "metadata": {},
     "output_type": "display_data"
    },
    {
     "data": {
      "application/vnd.jupyter.widget-view+json": {
       "model_id": "897d9adc5cd64501a4b04dff481514ab",
       "version_major": 2,
       "version_minor": 0
      },
      "text/plain": [
       "sliding w:   0%|          | 0/71 [00:00<?, ?it/s]"
      ]
     },
     "metadata": {},
     "output_type": "display_data"
    },
    {
     "data": {
      "application/vnd.jupyter.widget-view+json": {
       "model_id": "22efd041b62547229837ebe8874b807b",
       "version_major": 2,
       "version_minor": 0
      },
      "text/plain": [
       "sliding w:   0%|          | 0/71 [00:00<?, ?it/s]"
      ]
     },
     "metadata": {},
     "output_type": "display_data"
    },
    {
     "data": {
      "application/vnd.jupyter.widget-view+json": {
       "model_id": "601b11674e4e47bc91a29720b6306ebd",
       "version_major": 2,
       "version_minor": 0
      },
      "text/plain": [
       "sliding w:   0%|          | 0/71 [00:00<?, ?it/s]"
      ]
     },
     "metadata": {},
     "output_type": "display_data"
    },
    {
     "data": {
      "application/vnd.jupyter.widget-view+json": {
       "model_id": "b5f219486291492ba537e32d7299e876",
       "version_major": 2,
       "version_minor": 0
      },
      "text/plain": [
       "contains:   0%|          | 0/71 [00:00<?, ?it/s]"
      ]
     },
     "metadata": {},
     "output_type": "display_data"
    },
    {
     "data": {
      "application/vnd.jupyter.widget-view+json": {
       "model_id": "9c2ea45262bf43fd8a6d1e5916c294dc",
       "version_major": 2,
       "version_minor": 0
      },
      "text/plain": [
       "  0%|          | 0/102 [00:00<?, ?it/s]"
      ]
     },
     "metadata": {},
     "output_type": "display_data"
    },
    {
     "data": {
      "application/vnd.jupyter.widget-view+json": {
       "model_id": "b039c33fa97e478896a6ee1af5b34975",
       "version_major": 2,
       "version_minor": 0
      },
      "text/plain": [
       "symbolize:   0%|          | 0/102 [00:00<?, ?it/s]"
      ]
     },
     "metadata": {},
     "output_type": "display_data"
    },
    {
     "data": {
      "application/vnd.jupyter.widget-view+json": {
       "model_id": "5172728e402b44f5adbdf6b04d11b32a",
       "version_major": 2,
       "version_minor": 0
      },
      "text/plain": [
       "sliding w:   0%|          | 0/71 [00:00<?, ?it/s]"
      ]
     },
     "metadata": {},
     "output_type": "display_data"
    },
    {
     "data": {
      "application/vnd.jupyter.widget-view+json": {
       "model_id": "3b658333516946349f1309e6e1b969f4",
       "version_major": 2,
       "version_minor": 0
      },
      "text/plain": [
       "sliding w:   0%|          | 0/71 [00:00<?, ?it/s]"
      ]
     },
     "metadata": {},
     "output_type": "display_data"
    },
    {
     "data": {
      "application/vnd.jupyter.widget-view+json": {
       "model_id": "4833498f67c84d9eb169b74f3d9d0488",
       "version_major": 2,
       "version_minor": 0
      },
      "text/plain": [
       "sliding w:   0%|          | 0/71 [00:00<?, ?it/s]"
      ]
     },
     "metadata": {},
     "output_type": "display_data"
    },
    {
     "data": {
      "application/vnd.jupyter.widget-view+json": {
       "model_id": "30dcef31b2da49fb94c0c0c6acd5f6e9",
       "version_major": 2,
       "version_minor": 0
      },
      "text/plain": [
       "contains:   0%|          | 0/71 [00:00<?, ?it/s]"
      ]
     },
     "metadata": {},
     "output_type": "display_data"
    },
    {
     "data": {
      "application/vnd.jupyter.widget-view+json": {
       "model_id": "f49b93ba29214eeba1f7570f1ddcaead",
       "version_major": 2,
       "version_minor": 0
      },
      "text/plain": [
       "  0%|          | 0/102 [00:00<?, ?it/s]"
      ]
     },
     "metadata": {},
     "output_type": "display_data"
    },
    {
     "data": {
      "application/vnd.jupyter.widget-view+json": {
       "model_id": "75a11b6130f54c03aa94e549216522f5",
       "version_major": 2,
       "version_minor": 0
      },
      "text/plain": [
       "symbolize:   0%|          | 0/102 [00:00<?, ?it/s]"
      ]
     },
     "metadata": {},
     "output_type": "display_data"
    },
    {
     "data": {
      "application/vnd.jupyter.widget-view+json": {
       "model_id": "0214723893834cb98b0623dbd4846f78",
       "version_major": 2,
       "version_minor": 0
      },
      "text/plain": [
       "sliding w:   0%|          | 0/71 [00:00<?, ?it/s]"
      ]
     },
     "metadata": {},
     "output_type": "display_data"
    },
    {
     "data": {
      "application/vnd.jupyter.widget-view+json": {
       "model_id": "5cf68764dfd84bb6abad405e5bbadbf5",
       "version_major": 2,
       "version_minor": 0
      },
      "text/plain": [
       "sliding w:   0%|          | 0/71 [00:00<?, ?it/s]"
      ]
     },
     "metadata": {},
     "output_type": "display_data"
    },
    {
     "data": {
      "application/vnd.jupyter.widget-view+json": {
       "model_id": "c8f308c4503a44cdbd72834e3437164b",
       "version_major": 2,
       "version_minor": 0
      },
      "text/plain": [
       "sliding w:   0%|          | 0/71 [00:00<?, ?it/s]"
      ]
     },
     "metadata": {},
     "output_type": "display_data"
    },
    {
     "data": {
      "application/vnd.jupyter.widget-view+json": {
       "model_id": "4db270257d5b48ab82bd4473f63694d3",
       "version_major": 2,
       "version_minor": 0
      },
      "text/plain": [
       "contains:   0%|          | 0/71 [00:00<?, ?it/s]"
      ]
     },
     "metadata": {},
     "output_type": "display_data"
    },
    {
     "data": {
      "application/vnd.jupyter.widget-view+json": {
       "model_id": "fa6587e9ef5148c0b330df4c2b347a02",
       "version_major": 2,
       "version_minor": 0
      },
      "text/plain": [
       "  0%|          | 0/102 [00:00<?, ?it/s]"
      ]
     },
     "metadata": {},
     "output_type": "display_data"
    },
    {
     "data": {
      "application/vnd.jupyter.widget-view+json": {
       "model_id": "a16cde4cb98349389d155cdbb0c8d4ec",
       "version_major": 2,
       "version_minor": 0
      },
      "text/plain": [
       "symbolize:   0%|          | 0/102 [00:00<?, ?it/s]"
      ]
     },
     "metadata": {},
     "output_type": "display_data"
    },
    {
     "data": {
      "application/vnd.jupyter.widget-view+json": {
       "model_id": "350be2abf327486484e87afcd19adab4",
       "version_major": 2,
       "version_minor": 0
      },
      "text/plain": [
       "sliding w:   0%|          | 0/71 [00:00<?, ?it/s]"
      ]
     },
     "metadata": {},
     "output_type": "display_data"
    },
    {
     "data": {
      "application/vnd.jupyter.widget-view+json": {
       "model_id": "7e2b94ecfd3440b0b92138ba8d55255f",
       "version_major": 2,
       "version_minor": 0
      },
      "text/plain": [
       "sliding w:   0%|          | 0/71 [00:00<?, ?it/s]"
      ]
     },
     "metadata": {},
     "output_type": "display_data"
    },
    {
     "data": {
      "application/vnd.jupyter.widget-view+json": {
       "model_id": "b5bec5fbc1274fbfa8e4785e9caa5394",
       "version_major": 2,
       "version_minor": 0
      },
      "text/plain": [
       "sliding w:   0%|          | 0/71 [00:00<?, ?it/s]"
      ]
     },
     "metadata": {},
     "output_type": "display_data"
    },
    {
     "data": {
      "application/vnd.jupyter.widget-view+json": {
       "model_id": "f5084672f09543e3b4c8f408cdcec02a",
       "version_major": 2,
       "version_minor": 0
      },
      "text/plain": [
       "contains:   0%|          | 0/71 [00:00<?, ?it/s]"
      ]
     },
     "metadata": {},
     "output_type": "display_data"
    },
    {
     "data": {
      "application/vnd.jupyter.widget-view+json": {
       "model_id": "7b1e685cfab94f7e9e0563fe3c0d9cd1",
       "version_major": 2,
       "version_minor": 0
      },
      "text/plain": [
       "  0%|          | 0/102 [00:00<?, ?it/s]"
      ]
     },
     "metadata": {},
     "output_type": "display_data"
    },
    {
     "data": {
      "application/vnd.jupyter.widget-view+json": {
       "model_id": "bf269b3395104eeaba34cc1b83b246be",
       "version_major": 2,
       "version_minor": 0
      },
      "text/plain": [
       "symbolize:   0%|          | 0/102 [00:00<?, ?it/s]"
      ]
     },
     "metadata": {},
     "output_type": "display_data"
    },
    {
     "data": {
      "application/vnd.jupyter.widget-view+json": {
       "model_id": "7cfb261a9ebe422da004127d1c44d1ed",
       "version_major": 2,
       "version_minor": 0
      },
      "text/plain": [
       "sliding w:   0%|          | 0/71 [00:00<?, ?it/s]"
      ]
     },
     "metadata": {},
     "output_type": "display_data"
    },
    {
     "data": {
      "application/vnd.jupyter.widget-view+json": {
       "model_id": "b6db21a1c69247d1b737d3f3d288230c",
       "version_major": 2,
       "version_minor": 0
      },
      "text/plain": [
       "sliding w:   0%|          | 0/71 [00:00<?, ?it/s]"
      ]
     },
     "metadata": {},
     "output_type": "display_data"
    },
    {
     "data": {
      "application/vnd.jupyter.widget-view+json": {
       "model_id": "f6b990b1504341d88d68bb4985796bb1",
       "version_major": 2,
       "version_minor": 0
      },
      "text/plain": [
       "sliding w:   0%|          | 0/71 [00:00<?, ?it/s]"
      ]
     },
     "metadata": {},
     "output_type": "display_data"
    },
    {
     "data": {
      "application/vnd.jupyter.widget-view+json": {
       "model_id": "c58fb4f5ce42431baecea9f78912af1d",
       "version_major": 2,
       "version_minor": 0
      },
      "text/plain": [
       "contains:   0%|          | 0/71 [00:00<?, ?it/s]"
      ]
     },
     "metadata": {},
     "output_type": "display_data"
    },
    {
     "data": {
      "application/vnd.jupyter.widget-view+json": {
       "model_id": "fc0d720682624c6baedc8726a43a6817",
       "version_major": 2,
       "version_minor": 0
      },
      "text/plain": [
       "  0%|          | 0/102 [00:00<?, ?it/s]"
      ]
     },
     "metadata": {},
     "output_type": "display_data"
    },
    {
     "data": {
      "application/vnd.jupyter.widget-view+json": {
       "model_id": "462ad3e341d0484a862d764c780d0bb3",
       "version_major": 2,
       "version_minor": 0
      },
      "text/plain": [
       "symbolize:   0%|          | 0/102 [00:00<?, ?it/s]"
      ]
     },
     "metadata": {},
     "output_type": "display_data"
    },
    {
     "data": {
      "application/vnd.jupyter.widget-view+json": {
       "model_id": "84862543eeab450195c2dfe338c125a9",
       "version_major": 2,
       "version_minor": 0
      },
      "text/plain": [
       "sliding w:   0%|          | 0/71 [00:00<?, ?it/s]"
      ]
     },
     "metadata": {},
     "output_type": "display_data"
    },
    {
     "data": {
      "application/vnd.jupyter.widget-view+json": {
       "model_id": "f6aa449172b64698baf398776f68a3d4",
       "version_major": 2,
       "version_minor": 0
      },
      "text/plain": [
       "sliding w:   0%|          | 0/71 [00:00<?, ?it/s]"
      ]
     },
     "metadata": {},
     "output_type": "display_data"
    },
    {
     "data": {
      "application/vnd.jupyter.widget-view+json": {
       "model_id": "a06827b8900d46d89f3f8b92419be3d6",
       "version_major": 2,
       "version_minor": 0
      },
      "text/plain": [
       "sliding w:   0%|          | 0/71 [00:00<?, ?it/s]"
      ]
     },
     "metadata": {},
     "output_type": "display_data"
    },
    {
     "data": {
      "application/vnd.jupyter.widget-view+json": {
       "model_id": "86532d8abb0349d7bd58633040d4cee8",
       "version_major": 2,
       "version_minor": 0
      },
      "text/plain": [
       "contains:   0%|          | 0/71 [00:00<?, ?it/s]"
      ]
     },
     "metadata": {},
     "output_type": "display_data"
    },
    {
     "data": {
      "application/vnd.jupyter.widget-view+json": {
       "model_id": "7eb3ef66263f4ff9bc66350879f10b63",
       "version_major": 2,
       "version_minor": 0
      },
      "text/plain": [
       "  0%|          | 0/102 [00:00<?, ?it/s]"
      ]
     },
     "metadata": {},
     "output_type": "display_data"
    },
    {
     "data": {
      "application/vnd.jupyter.widget-view+json": {
       "model_id": "0ba7823b38be4ec19c3167e97f4511ff",
       "version_major": 2,
       "version_minor": 0
      },
      "text/plain": [
       "symbolize:   0%|          | 0/102 [00:00<?, ?it/s]"
      ]
     },
     "metadata": {},
     "output_type": "display_data"
    },
    {
     "data": {
      "application/vnd.jupyter.widget-view+json": {
       "model_id": "b4e830104e6241cba945c092d03f45b9",
       "version_major": 2,
       "version_minor": 0
      },
      "text/plain": [
       "sliding w:   0%|          | 0/71 [00:00<?, ?it/s]"
      ]
     },
     "metadata": {},
     "output_type": "display_data"
    },
    {
     "data": {
      "application/vnd.jupyter.widget-view+json": {
       "model_id": "36651824c6364c4ea6f3dee584e6c3bf",
       "version_major": 2,
       "version_minor": 0
      },
      "text/plain": [
       "sliding w:   0%|          | 0/71 [00:00<?, ?it/s]"
      ]
     },
     "metadata": {},
     "output_type": "display_data"
    },
    {
     "data": {
      "application/vnd.jupyter.widget-view+json": {
       "model_id": "1a71333f445a4ef2957977f175470117",
       "version_major": 2,
       "version_minor": 0
      },
      "text/plain": [
       "sliding w:   0%|          | 0/71 [00:00<?, ?it/s]"
      ]
     },
     "metadata": {},
     "output_type": "display_data"
    },
    {
     "data": {
      "application/vnd.jupyter.widget-view+json": {
       "model_id": "169e5fe6b47e4ab8bb1c3e9d92a53aa4",
       "version_major": 2,
       "version_minor": 0
      },
      "text/plain": [
       "contains:   0%|          | 0/71 [00:00<?, ?it/s]"
      ]
     },
     "metadata": {},
     "output_type": "display_data"
    },
    {
     "data": {
      "application/vnd.jupyter.widget-view+json": {
       "model_id": "3ee2df57aa3e4d5f988640962277396d",
       "version_major": 2,
       "version_minor": 0
      },
      "text/plain": [
       "  0%|          | 0/102 [00:00<?, ?it/s]"
      ]
     },
     "metadata": {},
     "output_type": "display_data"
    },
    {
     "data": {
      "application/vnd.jupyter.widget-view+json": {
       "model_id": "256305d202af43dc9310b58ba0740881",
       "version_major": 2,
       "version_minor": 0
      },
      "text/plain": [
       "symbolize:   0%|          | 0/102 [00:00<?, ?it/s]"
      ]
     },
     "metadata": {},
     "output_type": "display_data"
    },
    {
     "data": {
      "application/vnd.jupyter.widget-view+json": {
       "model_id": "8a790fc47c6f4629ba6d69dcaa84d6c6",
       "version_major": 2,
       "version_minor": 0
      },
      "text/plain": [
       "sliding w:   0%|          | 0/71 [00:00<?, ?it/s]"
      ]
     },
     "metadata": {},
     "output_type": "display_data"
    },
    {
     "data": {
      "application/vnd.jupyter.widget-view+json": {
       "model_id": "727be58a4fb34ed5a7b4a68e6e24d715",
       "version_major": 2,
       "version_minor": 0
      },
      "text/plain": [
       "sliding w:   0%|          | 0/71 [00:00<?, ?it/s]"
      ]
     },
     "metadata": {},
     "output_type": "display_data"
    },
    {
     "data": {
      "application/vnd.jupyter.widget-view+json": {
       "model_id": "6221b75c965f476fa6a81d90c42bb7f3",
       "version_major": 2,
       "version_minor": 0
      },
      "text/plain": [
       "sliding w:   0%|          | 0/71 [00:00<?, ?it/s]"
      ]
     },
     "metadata": {},
     "output_type": "display_data"
    },
    {
     "data": {
      "application/vnd.jupyter.widget-view+json": {
       "model_id": "7b73d7a743b444b891aeaf8a10cfab6a",
       "version_major": 2,
       "version_minor": 0
      },
      "text/plain": [
       "contains:   0%|          | 0/71 [00:00<?, ?it/s]"
      ]
     },
     "metadata": {},
     "output_type": "display_data"
    },
    {
     "data": {
      "application/vnd.jupyter.widget-view+json": {
       "model_id": "46ed3548d7274b23a08e7003cc507af5",
       "version_major": 2,
       "version_minor": 0
      },
      "text/plain": [
       "  0%|          | 0/102 [00:00<?, ?it/s]"
      ]
     },
     "metadata": {},
     "output_type": "display_data"
    },
    {
     "data": {
      "application/vnd.jupyter.widget-view+json": {
       "model_id": "f039c9e759de41a7b525df54462ff2ff",
       "version_major": 2,
       "version_minor": 0
      },
      "text/plain": [
       "symbolize:   0%|          | 0/102 [00:00<?, ?it/s]"
      ]
     },
     "metadata": {},
     "output_type": "display_data"
    },
    {
     "data": {
      "application/vnd.jupyter.widget-view+json": {
       "model_id": "a64ef828342a4114a2f91ff5e6946f11",
       "version_major": 2,
       "version_minor": 0
      },
      "text/plain": [
       "sliding w:   0%|          | 0/71 [00:00<?, ?it/s]"
      ]
     },
     "metadata": {},
     "output_type": "display_data"
    },
    {
     "data": {
      "application/vnd.jupyter.widget-view+json": {
       "model_id": "562c8efcf0324005b75ab15bea3ccc19",
       "version_major": 2,
       "version_minor": 0
      },
      "text/plain": [
       "sliding w:   0%|          | 0/71 [00:00<?, ?it/s]"
      ]
     },
     "metadata": {},
     "output_type": "display_data"
    },
    {
     "data": {
      "application/vnd.jupyter.widget-view+json": {
       "model_id": "e754aeab2c744bb3b40827386ab5580c",
       "version_major": 2,
       "version_minor": 0
      },
      "text/plain": [
       "sliding w:   0%|          | 0/71 [00:00<?, ?it/s]"
      ]
     },
     "metadata": {},
     "output_type": "display_data"
    },
    {
     "data": {
      "application/vnd.jupyter.widget-view+json": {
       "model_id": "0d16b0ab11254ad4a9e9702315a53d89",
       "version_major": 2,
       "version_minor": 0
      },
      "text/plain": [
       "contains:   0%|          | 0/71 [00:00<?, ?it/s]"
      ]
     },
     "metadata": {},
     "output_type": "display_data"
    },
    {
     "data": {
      "application/vnd.jupyter.widget-view+json": {
       "model_id": "43aeeaa9246c469297108710eb16f04d",
       "version_major": 2,
       "version_minor": 0
      },
      "text/plain": [
       "  0%|          | 0/102 [00:00<?, ?it/s]"
      ]
     },
     "metadata": {},
     "output_type": "display_data"
    },
    {
     "data": {
      "application/vnd.jupyter.widget-view+json": {
       "model_id": "d3f31f8e5ef4429180b83834c36a3ce6",
       "version_major": 2,
       "version_minor": 0
      },
      "text/plain": [
       "symbolize:   0%|          | 0/102 [00:00<?, ?it/s]"
      ]
     },
     "metadata": {},
     "output_type": "display_data"
    },
    {
     "data": {
      "application/vnd.jupyter.widget-view+json": {
       "model_id": "9b5df48b4b1d467686a5e7cb0e3e0638",
       "version_major": 2,
       "version_minor": 0
      },
      "text/plain": [
       "sliding w:   0%|          | 0/71 [00:00<?, ?it/s]"
      ]
     },
     "metadata": {},
     "output_type": "display_data"
    },
    {
     "data": {
      "application/vnd.jupyter.widget-view+json": {
       "model_id": "0c14284747d34d8e87bd3543adf68dd0",
       "version_major": 2,
       "version_minor": 0
      },
      "text/plain": [
       "sliding w:   0%|          | 0/71 [00:00<?, ?it/s]"
      ]
     },
     "metadata": {},
     "output_type": "display_data"
    },
    {
     "data": {
      "application/vnd.jupyter.widget-view+json": {
       "model_id": "dfc9da7b88b84ec69694200886208cd4",
       "version_major": 2,
       "version_minor": 0
      },
      "text/plain": [
       "sliding w:   0%|          | 0/71 [00:00<?, ?it/s]"
      ]
     },
     "metadata": {},
     "output_type": "display_data"
    },
    {
     "data": {
      "application/vnd.jupyter.widget-view+json": {
       "model_id": "97961da495da437e9f388def78b5e776",
       "version_major": 2,
       "version_minor": 0
      },
      "text/plain": [
       "contains:   0%|          | 0/71 [00:00<?, ?it/s]"
      ]
     },
     "metadata": {},
     "output_type": "display_data"
    },
    {
     "data": {
      "application/vnd.jupyter.widget-view+json": {
       "model_id": "aa2cdfa38cad4831aabd16713e1a3789",
       "version_major": 2,
       "version_minor": 0
      },
      "text/plain": [
       "  0%|          | 0/102 [00:00<?, ?it/s]"
      ]
     },
     "metadata": {},
     "output_type": "display_data"
    },
    {
     "data": {
      "application/vnd.jupyter.widget-view+json": {
       "model_id": "534d146872e04204890b6ed2750b36ee",
       "version_major": 2,
       "version_minor": 0
      },
      "text/plain": [
       "symbolize:   0%|          | 0/102 [00:00<?, ?it/s]"
      ]
     },
     "metadata": {},
     "output_type": "display_data"
    },
    {
     "data": {
      "application/vnd.jupyter.widget-view+json": {
       "model_id": "a658dba8e89d4877b357c409c89ee4c0",
       "version_major": 2,
       "version_minor": 0
      },
      "text/plain": [
       "sliding w:   0%|          | 0/71 [00:00<?, ?it/s]"
      ]
     },
     "metadata": {},
     "output_type": "display_data"
    },
    {
     "data": {
      "application/vnd.jupyter.widget-view+json": {
       "model_id": "0a3b441b78604b83a10be6e3dd92313e",
       "version_major": 2,
       "version_minor": 0
      },
      "text/plain": [
       "sliding w:   0%|          | 0/71 [00:00<?, ?it/s]"
      ]
     },
     "metadata": {},
     "output_type": "display_data"
    },
    {
     "data": {
      "application/vnd.jupyter.widget-view+json": {
       "model_id": "796510e71027478d99ce20a88a37933c",
       "version_major": 2,
       "version_minor": 0
      },
      "text/plain": [
       "sliding w:   0%|          | 0/71 [00:00<?, ?it/s]"
      ]
     },
     "metadata": {},
     "output_type": "display_data"
    },
    {
     "data": {
      "application/vnd.jupyter.widget-view+json": {
       "model_id": "1658a774307f4b9fbf6f4a53a1566796",
       "version_major": 2,
       "version_minor": 0
      },
      "text/plain": [
       "contains:   0%|          | 0/71 [00:00<?, ?it/s]"
      ]
     },
     "metadata": {},
     "output_type": "display_data"
    },
    {
     "data": {
      "application/vnd.jupyter.widget-view+json": {
       "model_id": "54c982a3d52041a883f149c65424b3ab",
       "version_major": 2,
       "version_minor": 0
      },
      "text/plain": [
       "  0%|          | 0/102 [00:00<?, ?it/s]"
      ]
     },
     "metadata": {},
     "output_type": "display_data"
    },
    {
     "data": {
      "application/vnd.jupyter.widget-view+json": {
       "model_id": "74caad0255a2407eb3886cad2548d4ce",
       "version_major": 2,
       "version_minor": 0
      },
      "text/plain": [
       "symbolize:   0%|          | 0/102 [00:00<?, ?it/s]"
      ]
     },
     "metadata": {},
     "output_type": "display_data"
    },
    {
     "data": {
      "application/vnd.jupyter.widget-view+json": {
       "model_id": "b0acab7550924ca68bc4e06c9d77572a",
       "version_major": 2,
       "version_minor": 0
      },
      "text/plain": [
       "sliding w:   0%|          | 0/71 [00:00<?, ?it/s]"
      ]
     },
     "metadata": {},
     "output_type": "display_data"
    },
    {
     "data": {
      "application/vnd.jupyter.widget-view+json": {
       "model_id": "c562f6b0478646898883e7722f2bd69c",
       "version_major": 2,
       "version_minor": 0
      },
      "text/plain": [
       "sliding w:   0%|          | 0/71 [00:00<?, ?it/s]"
      ]
     },
     "metadata": {},
     "output_type": "display_data"
    },
    {
     "data": {
      "application/vnd.jupyter.widget-view+json": {
       "model_id": "092258d9760f4736ac129bca7fd570c7",
       "version_major": 2,
       "version_minor": 0
      },
      "text/plain": [
       "sliding w:   0%|          | 0/71 [00:00<?, ?it/s]"
      ]
     },
     "metadata": {},
     "output_type": "display_data"
    },
    {
     "data": {
      "application/vnd.jupyter.widget-view+json": {
       "model_id": "96b7a0cc258740939ce77c5ca3d3d31b",
       "version_major": 2,
       "version_minor": 0
      },
      "text/plain": [
       "contains:   0%|          | 0/71 [00:00<?, ?it/s]"
      ]
     },
     "metadata": {},
     "output_type": "display_data"
    },
    {
     "data": {
      "application/vnd.jupyter.widget-view+json": {
       "model_id": "fb9f203e129742f0a1e9fbcaf346ffc6",
       "version_major": 2,
       "version_minor": 0
      },
      "text/plain": [
       "  0%|          | 0/102 [00:00<?, ?it/s]"
      ]
     },
     "metadata": {},
     "output_type": "display_data"
    },
    {
     "data": {
      "application/vnd.jupyter.widget-view+json": {
       "model_id": "95df857c5a0046abbb7fe15703363ac9",
       "version_major": 2,
       "version_minor": 0
      },
      "text/plain": [
       "symbolize:   0%|          | 0/102 [00:00<?, ?it/s]"
      ]
     },
     "metadata": {},
     "output_type": "display_data"
    },
    {
     "data": {
      "application/vnd.jupyter.widget-view+json": {
       "model_id": "333e9d8b4af044ffa47c528c57fe8355",
       "version_major": 2,
       "version_minor": 0
      },
      "text/plain": [
       "sliding w:   0%|          | 0/71 [00:00<?, ?it/s]"
      ]
     },
     "metadata": {},
     "output_type": "display_data"
    },
    {
     "data": {
      "application/vnd.jupyter.widget-view+json": {
       "model_id": "80345df0df1145648920238e45bf6a30",
       "version_major": 2,
       "version_minor": 0
      },
      "text/plain": [
       "sliding w:   0%|          | 0/71 [00:00<?, ?it/s]"
      ]
     },
     "metadata": {},
     "output_type": "display_data"
    },
    {
     "data": {
      "application/vnd.jupyter.widget-view+json": {
       "model_id": "9421ea92c2e74d5f8b77e1e21b5d7db9",
       "version_major": 2,
       "version_minor": 0
      },
      "text/plain": [
       "sliding w:   0%|          | 0/71 [00:00<?, ?it/s]"
      ]
     },
     "metadata": {},
     "output_type": "display_data"
    },
    {
     "data": {
      "application/vnd.jupyter.widget-view+json": {
       "model_id": "b348cc4f455c468fbe38e4db701800c6",
       "version_major": 2,
       "version_minor": 0
      },
      "text/plain": [
       "contains:   0%|          | 0/71 [00:00<?, ?it/s]"
      ]
     },
     "metadata": {},
     "output_type": "display_data"
    },
    {
     "data": {
      "application/vnd.jupyter.widget-view+json": {
       "model_id": "40484b969d044eaa9889bb8ce38d9f85",
       "version_major": 2,
       "version_minor": 0
      },
      "text/plain": [
       "  0%|          | 0/102 [00:00<?, ?it/s]"
      ]
     },
     "metadata": {},
     "output_type": "display_data"
    },
    {
     "data": {
      "application/vnd.jupyter.widget-view+json": {
       "model_id": "4fa900eac51d469c8bd779946d1054e8",
       "version_major": 2,
       "version_minor": 0
      },
      "text/plain": [
       "symbolize:   0%|          | 0/102 [00:00<?, ?it/s]"
      ]
     },
     "metadata": {},
     "output_type": "display_data"
    },
    {
     "data": {
      "application/vnd.jupyter.widget-view+json": {
       "model_id": "8e3d9a040d9a46b4bb1ba9de220249b6",
       "version_major": 2,
       "version_minor": 0
      },
      "text/plain": [
       "sliding w:   0%|          | 0/71 [00:00<?, ?it/s]"
      ]
     },
     "metadata": {},
     "output_type": "display_data"
    },
    {
     "data": {
      "application/vnd.jupyter.widget-view+json": {
       "model_id": "21ce73e88872414188c14cb46920655a",
       "version_major": 2,
       "version_minor": 0
      },
      "text/plain": [
       "sliding w:   0%|          | 0/71 [00:00<?, ?it/s]"
      ]
     },
     "metadata": {},
     "output_type": "display_data"
    },
    {
     "data": {
      "application/vnd.jupyter.widget-view+json": {
       "model_id": "1aa11417c94f4342a3f8f63f8994e1ee",
       "version_major": 2,
       "version_minor": 0
      },
      "text/plain": [
       "sliding w:   0%|          | 0/71 [00:00<?, ?it/s]"
      ]
     },
     "metadata": {},
     "output_type": "display_data"
    },
    {
     "data": {
      "application/vnd.jupyter.widget-view+json": {
       "model_id": "53b64b8cde2a4384bc09c85c96d37a79",
       "version_major": 2,
       "version_minor": 0
      },
      "text/plain": [
       "contains:   0%|          | 0/71 [00:00<?, ?it/s]"
      ]
     },
     "metadata": {},
     "output_type": "display_data"
    },
    {
     "data": {
      "application/vnd.jupyter.widget-view+json": {
       "model_id": "4e18f02b92b544cf8910916eb4d65da3",
       "version_major": 2,
       "version_minor": 0
      },
      "text/plain": [
       "  0%|          | 0/102 [00:00<?, ?it/s]"
      ]
     },
     "metadata": {},
     "output_type": "display_data"
    },
    {
     "data": {
      "application/vnd.jupyter.widget-view+json": {
       "model_id": "295d0aafc3e24db88731f21d0683ae7a",
       "version_major": 2,
       "version_minor": 0
      },
      "text/plain": [
       "symbolize:   0%|          | 0/102 [00:00<?, ?it/s]"
      ]
     },
     "metadata": {},
     "output_type": "display_data"
    },
    {
     "data": {
      "application/vnd.jupyter.widget-view+json": {
       "model_id": "b57fd0388d8440dc8b9f90cd94b31f30",
       "version_major": 2,
       "version_minor": 0
      },
      "text/plain": [
       "sliding w:   0%|          | 0/71 [00:00<?, ?it/s]"
      ]
     },
     "metadata": {},
     "output_type": "display_data"
    },
    {
     "data": {
      "application/vnd.jupyter.widget-view+json": {
       "model_id": "3df4578ff9224ac3b8bc0894f1aeb284",
       "version_major": 2,
       "version_minor": 0
      },
      "text/plain": [
       "sliding w:   0%|          | 0/71 [00:00<?, ?it/s]"
      ]
     },
     "metadata": {},
     "output_type": "display_data"
    },
    {
     "data": {
      "application/vnd.jupyter.widget-view+json": {
       "model_id": "9000097544624ef4b4086223b64f5010",
       "version_major": 2,
       "version_minor": 0
      },
      "text/plain": [
       "sliding w:   0%|          | 0/71 [00:00<?, ?it/s]"
      ]
     },
     "metadata": {},
     "output_type": "display_data"
    },
    {
     "data": {
      "application/vnd.jupyter.widget-view+json": {
       "model_id": "f4172f3e1c9546f7a840adfb35791076",
       "version_major": 2,
       "version_minor": 0
      },
      "text/plain": [
       "contains:   0%|          | 0/71 [00:00<?, ?it/s]"
      ]
     },
     "metadata": {},
     "output_type": "display_data"
    },
    {
     "data": {
      "application/vnd.jupyter.widget-view+json": {
       "model_id": "dafdbcf3cd924e6d8cfcfd28685878f8",
       "version_major": 2,
       "version_minor": 0
      },
      "text/plain": [
       "  0%|          | 0/102 [00:00<?, ?it/s]"
      ]
     },
     "metadata": {},
     "output_type": "display_data"
    },
    {
     "data": {
      "application/vnd.jupyter.widget-view+json": {
       "model_id": "0d66c0dee4c84dc5b18e2e91504ad88e",
       "version_major": 2,
       "version_minor": 0
      },
      "text/plain": [
       "symbolize:   0%|          | 0/102 [00:00<?, ?it/s]"
      ]
     },
     "metadata": {},
     "output_type": "display_data"
    },
    {
     "data": {
      "application/vnd.jupyter.widget-view+json": {
       "model_id": "925e1222b1b947cc93caf6361189ffd2",
       "version_major": 2,
       "version_minor": 0
      },
      "text/plain": [
       "sliding w:   0%|          | 0/71 [00:00<?, ?it/s]"
      ]
     },
     "metadata": {},
     "output_type": "display_data"
    },
    {
     "data": {
      "application/vnd.jupyter.widget-view+json": {
       "model_id": "d8dc13200a6f47a09fd3ccdebcc67318",
       "version_major": 2,
       "version_minor": 0
      },
      "text/plain": [
       "sliding w:   0%|          | 0/71 [00:00<?, ?it/s]"
      ]
     },
     "metadata": {},
     "output_type": "display_data"
    },
    {
     "data": {
      "application/vnd.jupyter.widget-view+json": {
       "model_id": "5fc1fe28f4e545a6ba34a1e2f8f733ce",
       "version_major": 2,
       "version_minor": 0
      },
      "text/plain": [
       "sliding w:   0%|          | 0/71 [00:00<?, ?it/s]"
      ]
     },
     "metadata": {},
     "output_type": "display_data"
    },
    {
     "data": {
      "application/vnd.jupyter.widget-view+json": {
       "model_id": "3d041d7db27a4c018ef0aca411318ff3",
       "version_major": 2,
       "version_minor": 0
      },
      "text/plain": [
       "contains:   0%|          | 0/71 [00:00<?, ?it/s]"
      ]
     },
     "metadata": {},
     "output_type": "display_data"
    },
    {
     "data": {
      "application/vnd.jupyter.widget-view+json": {
       "model_id": "005bbc7f34044c6794688c677e815f11",
       "version_major": 2,
       "version_minor": 0
      },
      "text/plain": [
       "  0%|          | 0/102 [00:00<?, ?it/s]"
      ]
     },
     "metadata": {},
     "output_type": "display_data"
    },
    {
     "data": {
      "application/vnd.jupyter.widget-view+json": {
       "model_id": "a152137466164ff697c1ed51fd96fe5d",
       "version_major": 2,
       "version_minor": 0
      },
      "text/plain": [
       "symbolize:   0%|          | 0/102 [00:00<?, ?it/s]"
      ]
     },
     "metadata": {},
     "output_type": "display_data"
    },
    {
     "data": {
      "application/vnd.jupyter.widget-view+json": {
       "model_id": "6ecc850ba8e24f7cbacc6accac7f4da2",
       "version_major": 2,
       "version_minor": 0
      },
      "text/plain": [
       "sliding w:   0%|          | 0/71 [00:00<?, ?it/s]"
      ]
     },
     "metadata": {},
     "output_type": "display_data"
    },
    {
     "data": {
      "application/vnd.jupyter.widget-view+json": {
       "model_id": "16217272aa834b6e9c79976bae5975da",
       "version_major": 2,
       "version_minor": 0
      },
      "text/plain": [
       "sliding w:   0%|          | 0/71 [00:00<?, ?it/s]"
      ]
     },
     "metadata": {},
     "output_type": "display_data"
    },
    {
     "data": {
      "application/vnd.jupyter.widget-view+json": {
       "model_id": "c047f863b0014f7e97acc0d03810c39e",
       "version_major": 2,
       "version_minor": 0
      },
      "text/plain": [
       "sliding w:   0%|          | 0/71 [00:00<?, ?it/s]"
      ]
     },
     "metadata": {},
     "output_type": "display_data"
    },
    {
     "data": {
      "application/vnd.jupyter.widget-view+json": {
       "model_id": "cee77a856e024f89936490ed78b672a7",
       "version_major": 2,
       "version_minor": 0
      },
      "text/plain": [
       "contains:   0%|          | 0/71 [00:00<?, ?it/s]"
      ]
     },
     "metadata": {},
     "output_type": "display_data"
    },
    {
     "data": {
      "application/vnd.jupyter.widget-view+json": {
       "model_id": "37be7ee073354027bb56e421823300c5",
       "version_major": 2,
       "version_minor": 0
      },
      "text/plain": [
       "  0%|          | 0/102 [00:00<?, ?it/s]"
      ]
     },
     "metadata": {},
     "output_type": "display_data"
    },
    {
     "data": {
      "application/vnd.jupyter.widget-view+json": {
       "model_id": "9f52374027e6461a9f79588ef5b05765",
       "version_major": 2,
       "version_minor": 0
      },
      "text/plain": [
       "symbolize:   0%|          | 0/102 [00:00<?, ?it/s]"
      ]
     },
     "metadata": {},
     "output_type": "display_data"
    },
    {
     "data": {
      "application/vnd.jupyter.widget-view+json": {
       "model_id": "aea35fdd651d4d0496fcc86f4d28b7f4",
       "version_major": 2,
       "version_minor": 0
      },
      "text/plain": [
       "sliding w:   0%|          | 0/71 [00:00<?, ?it/s]"
      ]
     },
     "metadata": {},
     "output_type": "display_data"
    },
    {
     "data": {
      "application/vnd.jupyter.widget-view+json": {
       "model_id": "a688a9fbb15944b6bb65a26ac4edf79b",
       "version_major": 2,
       "version_minor": 0
      },
      "text/plain": [
       "sliding w:   0%|          | 0/71 [00:00<?, ?it/s]"
      ]
     },
     "metadata": {},
     "output_type": "display_data"
    },
    {
     "data": {
      "application/vnd.jupyter.widget-view+json": {
       "model_id": "5ecc7c01160f4e9a991f0a93f1ea1c84",
       "version_major": 2,
       "version_minor": 0
      },
      "text/plain": [
       "sliding w:   0%|          | 0/71 [00:00<?, ?it/s]"
      ]
     },
     "metadata": {},
     "output_type": "display_data"
    },
    {
     "data": {
      "application/vnd.jupyter.widget-view+json": {
       "model_id": "5bf2868470a1421dbb6d192aaad2143c",
       "version_major": 2,
       "version_minor": 0
      },
      "text/plain": [
       "contains:   0%|          | 0/71 [00:00<?, ?it/s]"
      ]
     },
     "metadata": {},
     "output_type": "display_data"
    },
    {
     "data": {
      "application/vnd.jupyter.widget-view+json": {
       "model_id": "bfb2b8cda6ad4fda8ab7ea2f311a94c9",
       "version_major": 2,
       "version_minor": 0
      },
      "text/plain": [
       "  0%|          | 0/102 [00:00<?, ?it/s]"
      ]
     },
     "metadata": {},
     "output_type": "display_data"
    },
    {
     "data": {
      "application/vnd.jupyter.widget-view+json": {
       "model_id": "762e361f83cf4d84a9af92d6df9cdd72",
       "version_major": 2,
       "version_minor": 0
      },
      "text/plain": [
       "symbolize:   0%|          | 0/102 [00:00<?, ?it/s]"
      ]
     },
     "metadata": {},
     "output_type": "display_data"
    },
    {
     "data": {
      "application/vnd.jupyter.widget-view+json": {
       "model_id": "76faeee73c5e497ca7091cadcf8b51db",
       "version_major": 2,
       "version_minor": 0
      },
      "text/plain": [
       "sliding w:   0%|          | 0/71 [00:00<?, ?it/s]"
      ]
     },
     "metadata": {},
     "output_type": "display_data"
    },
    {
     "data": {
      "application/vnd.jupyter.widget-view+json": {
       "model_id": "19f2d19d97444cd3b0f0bd15e2a8364c",
       "version_major": 2,
       "version_minor": 0
      },
      "text/plain": [
       "sliding w:   0%|          | 0/71 [00:00<?, ?it/s]"
      ]
     },
     "metadata": {},
     "output_type": "display_data"
    },
    {
     "data": {
      "application/vnd.jupyter.widget-view+json": {
       "model_id": "7bd9331b26634e619e5ecde8a5dcb0db",
       "version_major": 2,
       "version_minor": 0
      },
      "text/plain": [
       "sliding w:   0%|          | 0/71 [00:00<?, ?it/s]"
      ]
     },
     "metadata": {},
     "output_type": "display_data"
    },
    {
     "data": {
      "application/vnd.jupyter.widget-view+json": {
       "model_id": "bc9d23e462364752b44a63f40d6218f8",
       "version_major": 2,
       "version_minor": 0
      },
      "text/plain": [
       "contains:   0%|          | 0/71 [00:00<?, ?it/s]"
      ]
     },
     "metadata": {},
     "output_type": "display_data"
    },
    {
     "data": {
      "application/vnd.jupyter.widget-view+json": {
       "model_id": "f63555f3945c43b3881c7039587ce868",
       "version_major": 2,
       "version_minor": 0
      },
      "text/plain": [
       "  0%|          | 0/102 [00:00<?, ?it/s]"
      ]
     },
     "metadata": {},
     "output_type": "display_data"
    },
    {
     "data": {
      "application/vnd.jupyter.widget-view+json": {
       "model_id": "e039f635be174e098e93f3398390f7ee",
       "version_major": 2,
       "version_minor": 0
      },
      "text/plain": [
       "symbolize:   0%|          | 0/102 [00:00<?, ?it/s]"
      ]
     },
     "metadata": {},
     "output_type": "display_data"
    },
    {
     "data": {
      "application/vnd.jupyter.widget-view+json": {
       "model_id": "04e9317d0d55478ca577ee1079989211",
       "version_major": 2,
       "version_minor": 0
      },
      "text/plain": [
       "sliding w:   0%|          | 0/71 [00:00<?, ?it/s]"
      ]
     },
     "metadata": {},
     "output_type": "display_data"
    },
    {
     "data": {
      "application/vnd.jupyter.widget-view+json": {
       "model_id": "cf66fc29f2c349e69ec14510ad3c4ad1",
       "version_major": 2,
       "version_minor": 0
      },
      "text/plain": [
       "sliding w:   0%|          | 0/71 [00:00<?, ?it/s]"
      ]
     },
     "metadata": {},
     "output_type": "display_data"
    },
    {
     "data": {
      "application/vnd.jupyter.widget-view+json": {
       "model_id": "f6192eef752d401eb7d08e03b1431a07",
       "version_major": 2,
       "version_minor": 0
      },
      "text/plain": [
       "sliding w:   0%|          | 0/71 [00:00<?, ?it/s]"
      ]
     },
     "metadata": {},
     "output_type": "display_data"
    },
    {
     "data": {
      "application/vnd.jupyter.widget-view+json": {
       "model_id": "cf607a3e86944021bbe14bb5aa930b94",
       "version_major": 2,
       "version_minor": 0
      },
      "text/plain": [
       "contains:   0%|          | 0/71 [00:00<?, ?it/s]"
      ]
     },
     "metadata": {},
     "output_type": "display_data"
    },
    {
     "data": {
      "application/vnd.jupyter.widget-view+json": {
       "model_id": "268340e31ed2402c8e73a52e438c6f8d",
       "version_major": 2,
       "version_minor": 0
      },
      "text/plain": [
       "  0%|          | 0/102 [00:00<?, ?it/s]"
      ]
     },
     "metadata": {},
     "output_type": "display_data"
    },
    {
     "data": {
      "application/vnd.jupyter.widget-view+json": {
       "model_id": "5cb6134bcd7e44c1bbe3f656b6eff707",
       "version_major": 2,
       "version_minor": 0
      },
      "text/plain": [
       "symbolize:   0%|          | 0/102 [00:00<?, ?it/s]"
      ]
     },
     "metadata": {},
     "output_type": "display_data"
    },
    {
     "data": {
      "application/vnd.jupyter.widget-view+json": {
       "model_id": "40f7e48860824b1f9be80fe3f509b967",
       "version_major": 2,
       "version_minor": 0
      },
      "text/plain": [
       "sliding w:   0%|          | 0/71 [00:00<?, ?it/s]"
      ]
     },
     "metadata": {},
     "output_type": "display_data"
    },
    {
     "data": {
      "application/vnd.jupyter.widget-view+json": {
       "model_id": "35431f18a0d044b3aa978b89ecff18d6",
       "version_major": 2,
       "version_minor": 0
      },
      "text/plain": [
       "sliding w:   0%|          | 0/71 [00:00<?, ?it/s]"
      ]
     },
     "metadata": {},
     "output_type": "display_data"
    },
    {
     "data": {
      "application/vnd.jupyter.widget-view+json": {
       "model_id": "897dd53a53604ddd91ad5a794991b589",
       "version_major": 2,
       "version_minor": 0
      },
      "text/plain": [
       "sliding w:   0%|          | 0/71 [00:00<?, ?it/s]"
      ]
     },
     "metadata": {},
     "output_type": "display_data"
    },
    {
     "data": {
      "application/vnd.jupyter.widget-view+json": {
       "model_id": "049aafa2f895455aa74c8fa9d8b35223",
       "version_major": 2,
       "version_minor": 0
      },
      "text/plain": [
       "contains:   0%|          | 0/71 [00:00<?, ?it/s]"
      ]
     },
     "metadata": {},
     "output_type": "display_data"
    },
    {
     "data": {
      "application/vnd.jupyter.widget-view+json": {
       "model_id": "9d535e13053e409e9471cc99dc60cf2f",
       "version_major": 2,
       "version_minor": 0
      },
      "text/plain": [
       "  0%|          | 0/102 [00:00<?, ?it/s]"
      ]
     },
     "metadata": {},
     "output_type": "display_data"
    },
    {
     "data": {
      "application/vnd.jupyter.widget-view+json": {
       "model_id": "d32687f6222f4738a1db0321bb3e1db4",
       "version_major": 2,
       "version_minor": 0
      },
      "text/plain": [
       "symbolize:   0%|          | 0/102 [00:00<?, ?it/s]"
      ]
     },
     "metadata": {},
     "output_type": "display_data"
    },
    {
     "data": {
      "application/vnd.jupyter.widget-view+json": {
       "model_id": "e6b549a173e44410a01ad08a22164750",
       "version_major": 2,
       "version_minor": 0
      },
      "text/plain": [
       "sliding w:   0%|          | 0/71 [00:00<?, ?it/s]"
      ]
     },
     "metadata": {},
     "output_type": "display_data"
    },
    {
     "data": {
      "application/vnd.jupyter.widget-view+json": {
       "model_id": "1e1556792e6843e3b749f5a0bf41f62c",
       "version_major": 2,
       "version_minor": 0
      },
      "text/plain": [
       "sliding w:   0%|          | 0/71 [00:00<?, ?it/s]"
      ]
     },
     "metadata": {},
     "output_type": "display_data"
    },
    {
     "data": {
      "application/vnd.jupyter.widget-view+json": {
       "model_id": "e31764aab0d649d5b05c0ac9d9a47a94",
       "version_major": 2,
       "version_minor": 0
      },
      "text/plain": [
       "sliding w:   0%|          | 0/71 [00:00<?, ?it/s]"
      ]
     },
     "metadata": {},
     "output_type": "display_data"
    },
    {
     "data": {
      "application/vnd.jupyter.widget-view+json": {
       "model_id": "49526071bf1543849dcac4a4fb8522f9",
       "version_major": 2,
       "version_minor": 0
      },
      "text/plain": [
       "contains:   0%|          | 0/71 [00:00<?, ?it/s]"
      ]
     },
     "metadata": {},
     "output_type": "display_data"
    },
    {
     "data": {
      "application/vnd.jupyter.widget-view+json": {
       "model_id": "8b490541f8814b4fb1d212dc0dc79965",
       "version_major": 2,
       "version_minor": 0
      },
      "text/plain": [
       "  0%|          | 0/102 [00:00<?, ?it/s]"
      ]
     },
     "metadata": {},
     "output_type": "display_data"
    },
    {
     "data": {
      "application/vnd.jupyter.widget-view+json": {
       "model_id": "f53b95ed9f3f42069819adf3f0bf6db2",
       "version_major": 2,
       "version_minor": 0
      },
      "text/plain": [
       "symbolize:   0%|          | 0/102 [00:00<?, ?it/s]"
      ]
     },
     "metadata": {},
     "output_type": "display_data"
    },
    {
     "data": {
      "application/vnd.jupyter.widget-view+json": {
       "model_id": "f00c932660b347ffadc36e84e82e24c0",
       "version_major": 2,
       "version_minor": 0
      },
      "text/plain": [
       "sliding w:   0%|          | 0/71 [00:00<?, ?it/s]"
      ]
     },
     "metadata": {},
     "output_type": "display_data"
    },
    {
     "data": {
      "application/vnd.jupyter.widget-view+json": {
       "model_id": "d87693ef9e7d4dfcaaf7becdc3cc154f",
       "version_major": 2,
       "version_minor": 0
      },
      "text/plain": [
       "sliding w:   0%|          | 0/71 [00:00<?, ?it/s]"
      ]
     },
     "metadata": {},
     "output_type": "display_data"
    },
    {
     "data": {
      "application/vnd.jupyter.widget-view+json": {
       "model_id": "ffdf3b9fcaee478cbddfb5f9a4788f22",
       "version_major": 2,
       "version_minor": 0
      },
      "text/plain": [
       "sliding w:   0%|          | 0/71 [00:00<?, ?it/s]"
      ]
     },
     "metadata": {},
     "output_type": "display_data"
    },
    {
     "data": {
      "application/vnd.jupyter.widget-view+json": {
       "model_id": "b9d3b04e75d64df787ae6d85b3d8d639",
       "version_major": 2,
       "version_minor": 0
      },
      "text/plain": [
       "contains:   0%|          | 0/71 [00:00<?, ?it/s]"
      ]
     },
     "metadata": {},
     "output_type": "display_data"
    },
    {
     "data": {
      "application/vnd.jupyter.widget-view+json": {
       "model_id": "e188aa954afb4848852137750f11d480",
       "version_major": 2,
       "version_minor": 0
      },
      "text/plain": [
       "  0%|          | 0/102 [00:00<?, ?it/s]"
      ]
     },
     "metadata": {},
     "output_type": "display_data"
    },
    {
     "data": {
      "application/vnd.jupyter.widget-view+json": {
       "model_id": "6444b72b516048babfa99f2a1937e97b",
       "version_major": 2,
       "version_minor": 0
      },
      "text/plain": [
       "symbolize:   0%|          | 0/102 [00:00<?, ?it/s]"
      ]
     },
     "metadata": {},
     "output_type": "display_data"
    },
    {
     "data": {
      "application/vnd.jupyter.widget-view+json": {
       "model_id": "f6461c5b970140beb6b501589d4f12dd",
       "version_major": 2,
       "version_minor": 0
      },
      "text/plain": [
       "sliding w:   0%|          | 0/71 [00:00<?, ?it/s]"
      ]
     },
     "metadata": {},
     "output_type": "display_data"
    },
    {
     "data": {
      "application/vnd.jupyter.widget-view+json": {
       "model_id": "81d87875ce9340419a5b84c799fad846",
       "version_major": 2,
       "version_minor": 0
      },
      "text/plain": [
       "sliding w:   0%|          | 0/71 [00:00<?, ?it/s]"
      ]
     },
     "metadata": {},
     "output_type": "display_data"
    },
    {
     "data": {
      "application/vnd.jupyter.widget-view+json": {
       "model_id": "267c453b07e6421da17f485316dd6013",
       "version_major": 2,
       "version_minor": 0
      },
      "text/plain": [
       "sliding w:   0%|          | 0/71 [00:00<?, ?it/s]"
      ]
     },
     "metadata": {},
     "output_type": "display_data"
    },
    {
     "data": {
      "application/vnd.jupyter.widget-view+json": {
       "model_id": "3e0a5c7b1dc74bb8b49be62c0995118a",
       "version_major": 2,
       "version_minor": 0
      },
      "text/plain": [
       "contains:   0%|          | 0/71 [00:00<?, ?it/s]"
      ]
     },
     "metadata": {},
     "output_type": "display_data"
    },
    {
     "data": {
      "application/vnd.jupyter.widget-view+json": {
       "model_id": "2f99c6e64a9d421e9d75b04ac9d4dcb4",
       "version_major": 2,
       "version_minor": 0
      },
      "text/plain": [
       "  0%|          | 0/102 [00:00<?, ?it/s]"
      ]
     },
     "metadata": {},
     "output_type": "display_data"
    },
    {
     "data": {
      "application/vnd.jupyter.widget-view+json": {
       "model_id": "d30602c0105d404594b309ca0d642fe8",
       "version_major": 2,
       "version_minor": 0
      },
      "text/plain": [
       "symbolize:   0%|          | 0/102 [00:00<?, ?it/s]"
      ]
     },
     "metadata": {},
     "output_type": "display_data"
    },
    {
     "data": {
      "application/vnd.jupyter.widget-view+json": {
       "model_id": "2a78ffeaa21a4760b4712ac244442322",
       "version_major": 2,
       "version_minor": 0
      },
      "text/plain": [
       "sliding w:   0%|          | 0/71 [00:00<?, ?it/s]"
      ]
     },
     "metadata": {},
     "output_type": "display_data"
    },
    {
     "data": {
      "application/vnd.jupyter.widget-view+json": {
       "model_id": "a748f4fc6e6a461282ae3ff55e3f189b",
       "version_major": 2,
       "version_minor": 0
      },
      "text/plain": [
       "sliding w:   0%|          | 0/71 [00:00<?, ?it/s]"
      ]
     },
     "metadata": {},
     "output_type": "display_data"
    },
    {
     "data": {
      "application/vnd.jupyter.widget-view+json": {
       "model_id": "deb81dd831e547f8855a7e585c87221b",
       "version_major": 2,
       "version_minor": 0
      },
      "text/plain": [
       "sliding w:   0%|          | 0/71 [00:00<?, ?it/s]"
      ]
     },
     "metadata": {},
     "output_type": "display_data"
    },
    {
     "data": {
      "application/vnd.jupyter.widget-view+json": {
       "model_id": "0941ab9595d64ef297ee18d7af6f67e6",
       "version_major": 2,
       "version_minor": 0
      },
      "text/plain": [
       "contains:   0%|          | 0/71 [00:00<?, ?it/s]"
      ]
     },
     "metadata": {},
     "output_type": "display_data"
    },
    {
     "data": {
      "application/vnd.jupyter.widget-view+json": {
       "model_id": "ed5e9c6371ba47a383cb5f612266ff81",
       "version_major": 2,
       "version_minor": 0
      },
      "text/plain": [
       "  0%|          | 0/102 [00:00<?, ?it/s]"
      ]
     },
     "metadata": {},
     "output_type": "display_data"
    },
    {
     "data": {
      "application/vnd.jupyter.widget-view+json": {
       "model_id": "ee0e985c20ac45aebcffa6892ca61577",
       "version_major": 2,
       "version_minor": 0
      },
      "text/plain": [
       "symbolize:   0%|          | 0/102 [00:00<?, ?it/s]"
      ]
     },
     "metadata": {},
     "output_type": "display_data"
    },
    {
     "data": {
      "application/vnd.jupyter.widget-view+json": {
       "model_id": "fb2e96f159aa45e381ae153fa1faec72",
       "version_major": 2,
       "version_minor": 0
      },
      "text/plain": [
       "sliding w:   0%|          | 0/71 [00:00<?, ?it/s]"
      ]
     },
     "metadata": {},
     "output_type": "display_data"
    },
    {
     "data": {
      "application/vnd.jupyter.widget-view+json": {
       "model_id": "736a4520b7794b298f01b9b4ba9ce63f",
       "version_major": 2,
       "version_minor": 0
      },
      "text/plain": [
       "sliding w:   0%|          | 0/71 [00:00<?, ?it/s]"
      ]
     },
     "metadata": {},
     "output_type": "display_data"
    },
    {
     "data": {
      "application/vnd.jupyter.widget-view+json": {
       "model_id": "766ee84d63eb4199a75a8e05ff023aa6",
       "version_major": 2,
       "version_minor": 0
      },
      "text/plain": [
       "sliding w:   0%|          | 0/71 [00:00<?, ?it/s]"
      ]
     },
     "metadata": {},
     "output_type": "display_data"
    },
    {
     "data": {
      "application/vnd.jupyter.widget-view+json": {
       "model_id": "5d7c13e912ab4e06875f9df79737e918",
       "version_major": 2,
       "version_minor": 0
      },
      "text/plain": [
       "contains:   0%|          | 0/71 [00:00<?, ?it/s]"
      ]
     },
     "metadata": {},
     "output_type": "display_data"
    },
    {
     "data": {
      "application/vnd.jupyter.widget-view+json": {
       "model_id": "783bdd2f185340b09b78942b8d9d0854",
       "version_major": 2,
       "version_minor": 0
      },
      "text/plain": [
       "  0%|          | 0/102 [00:00<?, ?it/s]"
      ]
     },
     "metadata": {},
     "output_type": "display_data"
    },
    {
     "data": {
      "application/vnd.jupyter.widget-view+json": {
       "model_id": "65969f9e426e4e38872a3a876b6c0c01",
       "version_major": 2,
       "version_minor": 0
      },
      "text/plain": [
       "symbolize:   0%|          | 0/102 [00:00<?, ?it/s]"
      ]
     },
     "metadata": {},
     "output_type": "display_data"
    },
    {
     "data": {
      "application/vnd.jupyter.widget-view+json": {
       "model_id": "cff87f1cdd594a738b633e9751cd760b",
       "version_major": 2,
       "version_minor": 0
      },
      "text/plain": [
       "sliding w:   0%|          | 0/71 [00:00<?, ?it/s]"
      ]
     },
     "metadata": {},
     "output_type": "display_data"
    },
    {
     "data": {
      "application/vnd.jupyter.widget-view+json": {
       "model_id": "6bdff49609c44d638691d806fecfb8e3",
       "version_major": 2,
       "version_minor": 0
      },
      "text/plain": [
       "sliding w:   0%|          | 0/71 [00:00<?, ?it/s]"
      ]
     },
     "metadata": {},
     "output_type": "display_data"
    },
    {
     "data": {
      "application/vnd.jupyter.widget-view+json": {
       "model_id": "ae261cc9213e43349c12ae3e36efdd6e",
       "version_major": 2,
       "version_minor": 0
      },
      "text/plain": [
       "sliding w:   0%|          | 0/71 [00:00<?, ?it/s]"
      ]
     },
     "metadata": {},
     "output_type": "display_data"
    },
    {
     "data": {
      "application/vnd.jupyter.widget-view+json": {
       "model_id": "cd04ff889ba140bfb34e785e24838710",
       "version_major": 2,
       "version_minor": 0
      },
      "text/plain": [
       "contains:   0%|          | 0/71 [00:00<?, ?it/s]"
      ]
     },
     "metadata": {},
     "output_type": "display_data"
    },
    {
     "data": {
      "application/vnd.jupyter.widget-view+json": {
       "model_id": "1d6a4853d77c47ada4a28cadcd5946e0",
       "version_major": 2,
       "version_minor": 0
      },
      "text/plain": [
       "  0%|          | 0/102 [00:00<?, ?it/s]"
      ]
     },
     "metadata": {},
     "output_type": "display_data"
    },
    {
     "data": {
      "application/vnd.jupyter.widget-view+json": {
       "model_id": "ab3730eb7d81456ebc1c6359bc6970f7",
       "version_major": 2,
       "version_minor": 0
      },
      "text/plain": [
       "symbolize:   0%|          | 0/102 [00:00<?, ?it/s]"
      ]
     },
     "metadata": {},
     "output_type": "display_data"
    },
    {
     "data": {
      "application/vnd.jupyter.widget-view+json": {
       "model_id": "8a625d4e7a4f4f2cae8465bcc89eb366",
       "version_major": 2,
       "version_minor": 0
      },
      "text/plain": [
       "sliding w:   0%|          | 0/71 [00:00<?, ?it/s]"
      ]
     },
     "metadata": {},
     "output_type": "display_data"
    },
    {
     "data": {
      "application/vnd.jupyter.widget-view+json": {
       "model_id": "4b94ea00fcb74fda94af8a34d742b612",
       "version_major": 2,
       "version_minor": 0
      },
      "text/plain": [
       "sliding w:   0%|          | 0/71 [00:00<?, ?it/s]"
      ]
     },
     "metadata": {},
     "output_type": "display_data"
    },
    {
     "data": {
      "application/vnd.jupyter.widget-view+json": {
       "model_id": "ca611b846f64403ea8764fb599cc7764",
       "version_major": 2,
       "version_minor": 0
      },
      "text/plain": [
       "sliding w:   0%|          | 0/71 [00:00<?, ?it/s]"
      ]
     },
     "metadata": {},
     "output_type": "display_data"
    },
    {
     "data": {
      "application/vnd.jupyter.widget-view+json": {
       "model_id": "f85cc97fe123446ab6f94d25d54d6f33",
       "version_major": 2,
       "version_minor": 0
      },
      "text/plain": [
       "contains:   0%|          | 0/71 [00:00<?, ?it/s]"
      ]
     },
     "metadata": {},
     "output_type": "display_data"
    },
    {
     "data": {
      "application/vnd.jupyter.widget-view+json": {
       "model_id": "dd621057e58a4f908057b55b51bafa65",
       "version_major": 2,
       "version_minor": 0
      },
      "text/plain": [
       "  0%|          | 0/102 [00:00<?, ?it/s]"
      ]
     },
     "metadata": {},
     "output_type": "display_data"
    },
    {
     "data": {
      "application/vnd.jupyter.widget-view+json": {
       "model_id": "12648739c72b41b3b4c37b181b174e12",
       "version_major": 2,
       "version_minor": 0
      },
      "text/plain": [
       "symbolize:   0%|          | 0/102 [00:00<?, ?it/s]"
      ]
     },
     "metadata": {},
     "output_type": "display_data"
    },
    {
     "data": {
      "application/vnd.jupyter.widget-view+json": {
       "model_id": "879ced808ed84fdfae298e87e7006009",
       "version_major": 2,
       "version_minor": 0
      },
      "text/plain": [
       "sliding w:   0%|          | 0/71 [00:00<?, ?it/s]"
      ]
     },
     "metadata": {},
     "output_type": "display_data"
    },
    {
     "data": {
      "application/vnd.jupyter.widget-view+json": {
       "model_id": "59bc19d9ec6b4b87ba8eceff1ea53028",
       "version_major": 2,
       "version_minor": 0
      },
      "text/plain": [
       "sliding w:   0%|          | 0/71 [00:00<?, ?it/s]"
      ]
     },
     "metadata": {},
     "output_type": "display_data"
    },
    {
     "data": {
      "application/vnd.jupyter.widget-view+json": {
       "model_id": "eecf0f671b1b404ea4fb60049ae6124a",
       "version_major": 2,
       "version_minor": 0
      },
      "text/plain": [
       "sliding w:   0%|          | 0/71 [00:00<?, ?it/s]"
      ]
     },
     "metadata": {},
     "output_type": "display_data"
    },
    {
     "data": {
      "application/vnd.jupyter.widget-view+json": {
       "model_id": "1569c59800eb43e893af36a21e041fc7",
       "version_major": 2,
       "version_minor": 0
      },
      "text/plain": [
       "contains:   0%|          | 0/71 [00:00<?, ?it/s]"
      ]
     },
     "metadata": {},
     "output_type": "display_data"
    },
    {
     "data": {
      "application/vnd.jupyter.widget-view+json": {
       "model_id": "2b16f184602e4242812b04c0e6d29c24",
       "version_major": 2,
       "version_minor": 0
      },
      "text/plain": [
       "  0%|          | 0/102 [00:00<?, ?it/s]"
      ]
     },
     "metadata": {},
     "output_type": "display_data"
    },
    {
     "data": {
      "application/vnd.jupyter.widget-view+json": {
       "model_id": "9375fb68ae0345229491ca1cadc3a622",
       "version_major": 2,
       "version_minor": 0
      },
      "text/plain": [
       "symbolize:   0%|          | 0/102 [00:00<?, ?it/s]"
      ]
     },
     "metadata": {},
     "output_type": "display_data"
    },
    {
     "data": {
      "application/vnd.jupyter.widget-view+json": {
       "model_id": "d2503968646e4efebd9c5542f9383b71",
       "version_major": 2,
       "version_minor": 0
      },
      "text/plain": [
       "sliding w:   0%|          | 0/71 [00:00<?, ?it/s]"
      ]
     },
     "metadata": {},
     "output_type": "display_data"
    },
    {
     "data": {
      "application/vnd.jupyter.widget-view+json": {
       "model_id": "3e718e12a09646d1a5b09f1a4f7dfc90",
       "version_major": 2,
       "version_minor": 0
      },
      "text/plain": [
       "sliding w:   0%|          | 0/71 [00:00<?, ?it/s]"
      ]
     },
     "metadata": {},
     "output_type": "display_data"
    },
    {
     "data": {
      "application/vnd.jupyter.widget-view+json": {
       "model_id": "1118d80266d946b0a6c6bb83212b815b",
       "version_major": 2,
       "version_minor": 0
      },
      "text/plain": [
       "sliding w:   0%|          | 0/71 [00:00<?, ?it/s]"
      ]
     },
     "metadata": {},
     "output_type": "display_data"
    },
    {
     "data": {
      "application/vnd.jupyter.widget-view+json": {
       "model_id": "512686e505ac42ddba141ea99af17d89",
       "version_major": 2,
       "version_minor": 0
      },
      "text/plain": [
       "contains:   0%|          | 0/71 [00:00<?, ?it/s]"
      ]
     },
     "metadata": {},
     "output_type": "display_data"
    },
    {
     "data": {
      "application/vnd.jupyter.widget-view+json": {
       "model_id": "d8d7e508d0814a0ab0c6fee542c875b2",
       "version_major": 2,
       "version_minor": 0
      },
      "text/plain": [
       "  0%|          | 0/102 [00:00<?, ?it/s]"
      ]
     },
     "metadata": {},
     "output_type": "display_data"
    },
    {
     "data": {
      "application/vnd.jupyter.widget-view+json": {
       "model_id": "b64f643c470e435ba7d4f2a164e655b1",
       "version_major": 2,
       "version_minor": 0
      },
      "text/plain": [
       "symbolize:   0%|          | 0/102 [00:00<?, ?it/s]"
      ]
     },
     "metadata": {},
     "output_type": "display_data"
    },
    {
     "data": {
      "application/vnd.jupyter.widget-view+json": {
       "model_id": "5c063716261f4a988c3d57aff8fdf6ac",
       "version_major": 2,
       "version_minor": 0
      },
      "text/plain": [
       "sliding w:   0%|          | 0/71 [00:00<?, ?it/s]"
      ]
     },
     "metadata": {},
     "output_type": "display_data"
    },
    {
     "data": {
      "application/vnd.jupyter.widget-view+json": {
       "model_id": "eb5c2843fb16459ab8597f07bd8def1d",
       "version_major": 2,
       "version_minor": 0
      },
      "text/plain": [
       "sliding w:   0%|          | 0/71 [00:00<?, ?it/s]"
      ]
     },
     "metadata": {},
     "output_type": "display_data"
    },
    {
     "data": {
      "application/vnd.jupyter.widget-view+json": {
       "model_id": "3f9205d424ff48a485fe34ecbf5f7573",
       "version_major": 2,
       "version_minor": 0
      },
      "text/plain": [
       "sliding w:   0%|          | 0/71 [00:00<?, ?it/s]"
      ]
     },
     "metadata": {},
     "output_type": "display_data"
    },
    {
     "data": {
      "application/vnd.jupyter.widget-view+json": {
       "model_id": "2d2d18c6a94546f895c4a2428f3af9b2",
       "version_major": 2,
       "version_minor": 0
      },
      "text/plain": [
       "contains:   0%|          | 0/71 [00:00<?, ?it/s]"
      ]
     },
     "metadata": {},
     "output_type": "display_data"
    },
    {
     "data": {
      "application/vnd.jupyter.widget-view+json": {
       "model_id": "98a02ff02b194e76978f4071c301a105",
       "version_major": 2,
       "version_minor": 0
      },
      "text/plain": [
       "  0%|          | 0/102 [00:00<?, ?it/s]"
      ]
     },
     "metadata": {},
     "output_type": "display_data"
    },
    {
     "data": {
      "application/vnd.jupyter.widget-view+json": {
       "model_id": "83cf5a665ebf4962baa045ab8f4eec64",
       "version_major": 2,
       "version_minor": 0
      },
      "text/plain": [
       "symbolize:   0%|          | 0/102 [00:00<?, ?it/s]"
      ]
     },
     "metadata": {},
     "output_type": "display_data"
    },
    {
     "data": {
      "application/vnd.jupyter.widget-view+json": {
       "model_id": "0f8d111dbde14372a1d60e015e742fd6",
       "version_major": 2,
       "version_minor": 0
      },
      "text/plain": [
       "sliding w:   0%|          | 0/71 [00:00<?, ?it/s]"
      ]
     },
     "metadata": {},
     "output_type": "display_data"
    },
    {
     "data": {
      "application/vnd.jupyter.widget-view+json": {
       "model_id": "5dfa40b87f1a4f9cb0dced060af5ca80",
       "version_major": 2,
       "version_minor": 0
      },
      "text/plain": [
       "sliding w:   0%|          | 0/71 [00:00<?, ?it/s]"
      ]
     },
     "metadata": {},
     "output_type": "display_data"
    },
    {
     "data": {
      "application/vnd.jupyter.widget-view+json": {
       "model_id": "10af8e71582346cda982a9a26cda964b",
       "version_major": 2,
       "version_minor": 0
      },
      "text/plain": [
       "sliding w:   0%|          | 0/71 [00:00<?, ?it/s]"
      ]
     },
     "metadata": {},
     "output_type": "display_data"
    },
    {
     "data": {
      "application/vnd.jupyter.widget-view+json": {
       "model_id": "3e2bfedcdfc04d02ab2a9b94b1968e34",
       "version_major": 2,
       "version_minor": 0
      },
      "text/plain": [
       "contains:   0%|          | 0/71 [00:00<?, ?it/s]"
      ]
     },
     "metadata": {},
     "output_type": "display_data"
    },
    {
     "data": {
      "application/vnd.jupyter.widget-view+json": {
       "model_id": "95463f971c8e4491b17fd47b7f60c3ec",
       "version_major": 2,
       "version_minor": 0
      },
      "text/plain": [
       "  0%|          | 0/102 [00:00<?, ?it/s]"
      ]
     },
     "metadata": {},
     "output_type": "display_data"
    },
    {
     "data": {
      "application/vnd.jupyter.widget-view+json": {
       "model_id": "daf9bf39a7b34626bb1d451b9d0e7223",
       "version_major": 2,
       "version_minor": 0
      },
      "text/plain": [
       "symbolize:   0%|          | 0/102 [00:00<?, ?it/s]"
      ]
     },
     "metadata": {},
     "output_type": "display_data"
    },
    {
     "data": {
      "application/vnd.jupyter.widget-view+json": {
       "model_id": "c93a163a517f412a97e563d50392ef49",
       "version_major": 2,
       "version_minor": 0
      },
      "text/plain": [
       "sliding w:   0%|          | 0/71 [00:00<?, ?it/s]"
      ]
     },
     "metadata": {},
     "output_type": "display_data"
    },
    {
     "data": {
      "application/vnd.jupyter.widget-view+json": {
       "model_id": "749aa6ebbc9841ccbce9072f6dea75b9",
       "version_major": 2,
       "version_minor": 0
      },
      "text/plain": [
       "sliding w:   0%|          | 0/71 [00:00<?, ?it/s]"
      ]
     },
     "metadata": {},
     "output_type": "display_data"
    },
    {
     "data": {
      "application/vnd.jupyter.widget-view+json": {
       "model_id": "2b54445f19984bbb831b101e975d8306",
       "version_major": 2,
       "version_minor": 0
      },
      "text/plain": [
       "sliding w:   0%|          | 0/71 [00:00<?, ?it/s]"
      ]
     },
     "metadata": {},
     "output_type": "display_data"
    },
    {
     "data": {
      "application/vnd.jupyter.widget-view+json": {
       "model_id": "67e4030bddd0483897b47e2600dc7b03",
       "version_major": 2,
       "version_minor": 0
      },
      "text/plain": [
       "contains:   0%|          | 0/71 [00:00<?, ?it/s]"
      ]
     },
     "metadata": {},
     "output_type": "display_data"
    },
    {
     "data": {
      "application/vnd.jupyter.widget-view+json": {
       "model_id": "220ea093c3fd4264a00efcaaa38888fe",
       "version_major": 2,
       "version_minor": 0
      },
      "text/plain": [
       "  0%|          | 0/102 [00:00<?, ?it/s]"
      ]
     },
     "metadata": {},
     "output_type": "display_data"
    }
   ],
   "source": [
    "from concurrent.futures import ProcessPoolExecutor\n",
    "\n",
    "executor = ProcessPoolExecutor(max_workers=1)\n",
    "\n",
    "n_clusters = [2, 5, 20, 100]\n",
    "sliding_windows = [2, 3, 5]\n",
    "top_k = [1, 2, 10, 50]\n",
    "\n",
    "res_t = []\n",
    "res_X = []\n",
    "\n",
    "conf = []\n",
    "processes = []\n",
    "for n_clust in tqdm(n_clusters, position=0):\n",
    "    for sliding_w in sliding_windows:\n",
    "        for k in top_k:\n",
    "            try:\n",
    "                conf.append((n_clust, sliding_w, k))\n",
    "                #processes.append(executor.submit(foo, 1))\n",
    "                #processes.append(executor.submit(runTest, n_clust, sliding_w, k))\n",
    "                t, x = runTest(n_clust, sliding_w, k)\n",
    "                res_t.append(t)\n",
    "                res_X.append(x)\n",
    "            except:\n",
    "                print(\"FAIL\")\n",
    "                res_t.append(np.NAN)\n",
    "                res_X.append(np.NAN)\n"
   ]
  },
  {
   "cell_type": "code",
   "execution_count": null,
   "metadata": {},
   "outputs": [],
   "source": []
  },
  {
   "cell_type": "code",
   "execution_count": 56,
   "metadata": {},
   "outputs": [
    {
     "data": {
      "text/plain": [
       "[(2, 2, 1),\n",
       " (2, 2, 2),\n",
       " (2, 2, 10),\n",
       " (2, 2, 50),\n",
       " (2, 3, 1),\n",
       " (2, 3, 2),\n",
       " (2, 3, 10),\n",
       " (2, 3, 50),\n",
       " (2, 5, 1),\n",
       " (2, 5, 2),\n",
       " (2, 5, 10),\n",
       " (2, 5, 50),\n",
       " (5, 2, 1),\n",
       " (5, 2, 2),\n",
       " (5, 2, 10),\n",
       " (5, 2, 50),\n",
       " (5, 3, 1),\n",
       " (5, 3, 2),\n",
       " (5, 3, 10),\n",
       " (5, 3, 50),\n",
       " (5, 5, 1),\n",
       " (5, 5, 2),\n",
       " (5, 5, 10),\n",
       " (5, 5, 50),\n",
       " (20, 2, 1),\n",
       " (20, 2, 2),\n",
       " (20, 2, 10),\n",
       " (20, 2, 50),\n",
       " (20, 3, 1),\n",
       " (20, 3, 2),\n",
       " (20, 3, 10),\n",
       " (20, 3, 50),\n",
       " (20, 5, 1),\n",
       " (20, 5, 2),\n",
       " (20, 5, 10),\n",
       " (20, 5, 50),\n",
       " (100, 2, 1),\n",
       " (100, 2, 2),\n",
       " (100, 2, 10),\n",
       " (100, 2, 50),\n",
       " (100, 3, 1),\n",
       " (100, 3, 2),\n",
       " (100, 3, 10),\n",
       " (100, 3, 50),\n",
       " (100, 5, 1),\n",
       " (100, 5, 2),\n",
       " (100, 5, 10),\n",
       " (100, 5, 50)]"
      ]
     },
     "execution_count": 56,
     "metadata": {},
     "output_type": "execute_result"
    }
   ],
   "source": [
    "conf"
   ]
  },
  {
   "cell_type": "code",
   "execution_count": null,
   "metadata": {},
   "outputs": [],
   "source": []
  },
  {
   "cell_type": "code",
   "execution_count": 57,
   "metadata": {},
   "outputs": [
    {
     "data": {
      "application/vnd.jupyter.widget-view+json": {
       "model_id": "91f9213d10334e5590e2d969b74b80d5",
       "version_major": 2,
       "version_minor": 0
      },
      "text/plain": [
       "  0%|          | 0/48 [00:00<?, ?it/s]"
      ]
     },
     "metadata": {},
     "output_type": "display_data"
    },
    {
     "name": "stdout",
     "output_type": "stream",
     "text": [
      "(0.41935483870967744, 0.41935483870967744, 0.41935483870967744, 0.41935483870967744)\n",
      "(0.41935483870967744, 0.41935483870967744, 0.41935483870967744, 0.41935483870967744)\n",
      "(0.3870967741935484, 0.3870967741935484, 0.3870967741935484, 0.3870967741935484)\n",
      "(0.45161290322580644, 0.45161290322580644, 0.45161290322580644, 0.45161290322580644)\n",
      "(0.45161290322580644, 0.45161290322580644, 0.45161290322580644, 0.45161290322580644)\n",
      "(0.45161290322580644, 0.45161290322580644, 0.45161290322580644, 0.45161290322580644)\n",
      "(0.5483870967741935, 0.5483870967741935, 0.5483870967741935, 0.5483870967741935)\n",
      "(0.5483870967741935, 0.5483870967741935, 0.5483870967741935, 0.5483870967741935)\n",
      "(0.3548387096774194, 0.3548387096774194, 0.35483870967741943, 0.3548387096774194)\n",
      "(0.5161290322580645, 0.5161290322580645, 0.5161290322580645, 0.5161290322580645)\n",
      "(0.5483870967741935, 0.5483870967741935, 0.5483870967741935, 0.5483870967741935)\n",
      "(0.5161290322580645, 0.5161290322580645, 0.5161290322580645, 0.5161290322580645)\n",
      "(0.5806451612903226, 0.5806451612903226, 0.5806451612903226, 0.5806451612903226)\n",
      "(0.5806451612903226, 0.5806451612903226, 0.5806451612903226, 0.5806451612903226)\n",
      "(0.5806451612903226, 0.5806451612903226, 0.5806451612903226, 0.5806451612903226)\n",
      "(0.4838709677419355, 0.4838709677419355, 0.4838709677419355, 0.4838709677419355)\n",
      "(0.3870967741935484, 0.3870967741935484, 0.3870967741935484, 0.3870967741935484)\n",
      "(0.7419354838709677, 0.7419354838709677, 0.7419354838709677, 0.7419354838709677)\n",
      "(0.6451612903225806, 0.6451612903225806, 0.6451612903225806, 0.6451612903225806)\n",
      "(0.5483870967741935, 0.5483870967741935, 0.5483870967741935, 0.5483870967741935)\n",
      "(0.5161290322580645, 0.5161290322580645, 0.5161290322580645, 0.5161290322580645)\n",
      "(0.5161290322580645, 0.5161290322580645, 0.5161290322580645, 0.5161290322580645)\n",
      "(0.5161290322580645, 0.5161290322580645, 0.5161290322580645, 0.5161290322580645)\n",
      "(0.4838709677419355, 0.4838709677419355, 0.4838709677419355, 0.4838709677419355)\n",
      "(0.3548387096774194, 0.3548387096774194, 0.35483870967741943, 0.3548387096774194)\n",
      "(0.41935483870967744, 0.41935483870967744, 0.41935483870967744, 0.41935483870967744)\n",
      "(0.41935483870967744, 0.41935483870967744, 0.41935483870967744, 0.41935483870967744)\n",
      "(0.3870967741935484, 0.3870967741935484, 0.3870967741935484, 0.3870967741935484)\n",
      "(0.3870967741935484, 0.3870967741935484, 0.3870967741935484, 0.3870967741935484)\n",
      "(0.41935483870967744, 0.41935483870967744, 0.41935483870967744, 0.41935483870967744)\n",
      "(0.3548387096774194, 0.3548387096774194, 0.35483870967741943, 0.3548387096774194)\n",
      "(0.4838709677419355, 0.4838709677419355, 0.4838709677419355, 0.4838709677419355)\n",
      "(0.3870967741935484, 0.3870967741935484, 0.3870967741935484, 0.3870967741935484)\n",
      "(0.3870967741935484, 0.3870967741935484, 0.3870967741935484, 0.3870967741935484)\n",
      "(0.3870967741935484, 0.3870967741935484, 0.3870967741935484, 0.3870967741935484)\n",
      "(0.3548387096774194, 0.3548387096774194, 0.35483870967741943, 0.3548387096774194)\n",
      "(0.41935483870967744, 0.41935483870967744, 0.41935483870967744, 0.41935483870967744)\n",
      "(0.3225806451612903, 0.3225806451612903, 0.3225806451612903, 0.3225806451612903)\n",
      "(0.25806451612903225, 0.25806451612903225, 0.25806451612903225, 0.25806451612903225)\n",
      "(0.25806451612903225, 0.25806451612903225, 0.25806451612903225, 0.25806451612903225)\n",
      "(0.3870967741935484, 0.3870967741935484, 0.3870967741935484, 0.3870967741935484)\n",
      "(0.3870967741935484, 0.3870967741935484, 0.3870967741935484, 0.3870967741935484)\n",
      "(0.3870967741935484, 0.3870967741935484, 0.3870967741935484, 0.3870967741935484)\n",
      "(0.3870967741935484, 0.3870967741935484, 0.3870967741935484, 0.3870967741935484)\n",
      "(0.3870967741935484, 0.3870967741935484, 0.3870967741935484, 0.3870967741935484)\n",
      "(0.3870967741935484, 0.3870967741935484, 0.3870967741935484, 0.3870967741935484)\n",
      "(0.3870967741935484, 0.3870967741935484, 0.3870967741935484, 0.3870967741935484)\n",
      "(0.3870967741935484, 0.3870967741935484, 0.3870967741935484, 0.3870967741935484)\n"
     ]
    }
   ],
   "source": [
    "from sklearn.metrics import accuracy_score, precision_score, f1_score, recall_score\n",
    "\n",
    "def compute_measures(test, pred):\n",
    "    return (accuracy_score(test, pred), precision_score(test, pred, average=\"micro\"), f1_score(test, pred, average=\"micro\"), recall_score(test, pred, average=\"micro\"))\n",
    "\n",
    "res_val = []\n",
    "\n",
    "for x in tqdm(res_X):\n",
    "    try:\n",
    "\n",
    "        X = x\n",
    "        X_train, X_test, y_train, y_test = train_test_split(X, y, test_size=.3, stratify=y, random_state=3)\n",
    "\n",
    "        tree_para = {'n_estimators':range(100, 1500, 300),\n",
    "                     'max_depth':range(2, 18, 3)}\n",
    "        gs = GridSearchCV(RandomForestClassifier(), tree_para, cv=5, n_jobs=12, verbose=0)\n",
    "        result = gs.fit(X_train, y_train)\n",
    "\n",
    "        y_pred = result.best_estimator_.fit(X_train, y_train).predict(X_test)\n",
    "\n",
    "        res_val.append(compute_measures(y_test, y_pred))\n",
    "\n",
    "        print(compute_measures(y_test, y_pred))\n",
    "    except:\n",
    "        print(\"skip\")\n",
    "        res_val.append((np.NAN, np.NAN, np.NAN, np.NAN))"
   ]
  },
  {
   "cell_type": "code",
   "execution_count": null,
   "metadata": {},
   "outputs": [],
   "source": []
  },
  {
   "cell_type": "code",
   "execution_count": 58,
   "metadata": {},
   "outputs": [
    {
     "data": {
      "text/html": [
       "<div>\n",
       "<style scoped>\n",
       "    .dataframe tbody tr th:only-of-type {\n",
       "        vertical-align: middle;\n",
       "    }\n",
       "\n",
       "    .dataframe tbody tr th {\n",
       "        vertical-align: top;\n",
       "    }\n",
       "\n",
       "    .dataframe thead th {\n",
       "        text-align: right;\n",
       "    }\n",
       "</style>\n",
       "<table border=\"1\" class=\"dataframe\">\n",
       "  <thead>\n",
       "    <tr style=\"text-align: right;\">\n",
       "      <th></th>\n",
       "      <th>acc</th>\n",
       "      <th>precision</th>\n",
       "      <th>f1</th>\n",
       "      <th>recall</th>\n",
       "      <th>nclust</th>\n",
       "      <th>sliding</th>\n",
       "      <th>k</th>\n",
       "      <th>t</th>\n",
       "    </tr>\n",
       "  </thead>\n",
       "  <tbody>\n",
       "    <tr>\n",
       "      <th>0</th>\n",
       "      <td>0.419355</td>\n",
       "      <td>0.419355</td>\n",
       "      <td>0.419355</td>\n",
       "      <td>0.419355</td>\n",
       "      <td>2</td>\n",
       "      <td>2</td>\n",
       "      <td>1</td>\n",
       "      <td>22502.998</td>\n",
       "    </tr>\n",
       "    <tr>\n",
       "      <th>1</th>\n",
       "      <td>0.419355</td>\n",
       "      <td>0.419355</td>\n",
       "      <td>0.419355</td>\n",
       "      <td>0.419355</td>\n",
       "      <td>2</td>\n",
       "      <td>2</td>\n",
       "      <td>2</td>\n",
       "      <td>22123.002</td>\n",
       "    </tr>\n",
       "    <tr>\n",
       "      <th>2</th>\n",
       "      <td>0.387097</td>\n",
       "      <td>0.387097</td>\n",
       "      <td>0.387097</td>\n",
       "      <td>0.387097</td>\n",
       "      <td>2</td>\n",
       "      <td>2</td>\n",
       "      <td>10</td>\n",
       "      <td>22176.000</td>\n",
       "    </tr>\n",
       "    <tr>\n",
       "      <th>3</th>\n",
       "      <td>0.451613</td>\n",
       "      <td>0.451613</td>\n",
       "      <td>0.451613</td>\n",
       "      <td>0.451613</td>\n",
       "      <td>2</td>\n",
       "      <td>2</td>\n",
       "      <td>50</td>\n",
       "      <td>23187.687</td>\n",
       "    </tr>\n",
       "    <tr>\n",
       "      <th>4</th>\n",
       "      <td>0.451613</td>\n",
       "      <td>0.451613</td>\n",
       "      <td>0.451613</td>\n",
       "      <td>0.451613</td>\n",
       "      <td>2</td>\n",
       "      <td>3</td>\n",
       "      <td>1</td>\n",
       "      <td>21093.001</td>\n",
       "    </tr>\n",
       "    <tr>\n",
       "      <th>5</th>\n",
       "      <td>0.451613</td>\n",
       "      <td>0.451613</td>\n",
       "      <td>0.451613</td>\n",
       "      <td>0.451613</td>\n",
       "      <td>2</td>\n",
       "      <td>3</td>\n",
       "      <td>2</td>\n",
       "      <td>19479.998</td>\n",
       "    </tr>\n",
       "    <tr>\n",
       "      <th>6</th>\n",
       "      <td>0.548387</td>\n",
       "      <td>0.548387</td>\n",
       "      <td>0.548387</td>\n",
       "      <td>0.548387</td>\n",
       "      <td>2</td>\n",
       "      <td>3</td>\n",
       "      <td>10</td>\n",
       "      <td>21431.999</td>\n",
       "    </tr>\n",
       "    <tr>\n",
       "      <th>7</th>\n",
       "      <td>0.548387</td>\n",
       "      <td>0.548387</td>\n",
       "      <td>0.548387</td>\n",
       "      <td>0.548387</td>\n",
       "      <td>2</td>\n",
       "      <td>3</td>\n",
       "      <td>50</td>\n",
       "      <td>21620.003</td>\n",
       "    </tr>\n",
       "    <tr>\n",
       "      <th>8</th>\n",
       "      <td>0.354839</td>\n",
       "      <td>0.354839</td>\n",
       "      <td>0.354839</td>\n",
       "      <td>0.354839</td>\n",
       "      <td>2</td>\n",
       "      <td>5</td>\n",
       "      <td>1</td>\n",
       "      <td>20141.997</td>\n",
       "    </tr>\n",
       "    <tr>\n",
       "      <th>9</th>\n",
       "      <td>0.516129</td>\n",
       "      <td>0.516129</td>\n",
       "      <td>0.516129</td>\n",
       "      <td>0.516129</td>\n",
       "      <td>2</td>\n",
       "      <td>5</td>\n",
       "      <td>2</td>\n",
       "      <td>19832.003</td>\n",
       "    </tr>\n",
       "    <tr>\n",
       "      <th>10</th>\n",
       "      <td>0.548387</td>\n",
       "      <td>0.548387</td>\n",
       "      <td>0.548387</td>\n",
       "      <td>0.548387</td>\n",
       "      <td>2</td>\n",
       "      <td>5</td>\n",
       "      <td>10</td>\n",
       "      <td>20016.997</td>\n",
       "    </tr>\n",
       "    <tr>\n",
       "      <th>11</th>\n",
       "      <td>0.516129</td>\n",
       "      <td>0.516129</td>\n",
       "      <td>0.516129</td>\n",
       "      <td>0.516129</td>\n",
       "      <td>2</td>\n",
       "      <td>5</td>\n",
       "      <td>50</td>\n",
       "      <td>19898.002</td>\n",
       "    </tr>\n",
       "    <tr>\n",
       "      <th>12</th>\n",
       "      <td>0.580645</td>\n",
       "      <td>0.580645</td>\n",
       "      <td>0.580645</td>\n",
       "      <td>0.580645</td>\n",
       "      <td>5</td>\n",
       "      <td>2</td>\n",
       "      <td>1</td>\n",
       "      <td>27884.000</td>\n",
       "    </tr>\n",
       "    <tr>\n",
       "      <th>13</th>\n",
       "      <td>0.580645</td>\n",
       "      <td>0.580645</td>\n",
       "      <td>0.580645</td>\n",
       "      <td>0.580645</td>\n",
       "      <td>5</td>\n",
       "      <td>2</td>\n",
       "      <td>2</td>\n",
       "      <td>30604.000</td>\n",
       "    </tr>\n",
       "    <tr>\n",
       "      <th>14</th>\n",
       "      <td>0.580645</td>\n",
       "      <td>0.580645</td>\n",
       "      <td>0.580645</td>\n",
       "      <td>0.580645</td>\n",
       "      <td>5</td>\n",
       "      <td>2</td>\n",
       "      <td>10</td>\n",
       "      <td>27725.999</td>\n",
       "    </tr>\n",
       "    <tr>\n",
       "      <th>15</th>\n",
       "      <td>0.483871</td>\n",
       "      <td>0.483871</td>\n",
       "      <td>0.483871</td>\n",
       "      <td>0.483871</td>\n",
       "      <td>5</td>\n",
       "      <td>2</td>\n",
       "      <td>50</td>\n",
       "      <td>28104.002</td>\n",
       "    </tr>\n",
       "    <tr>\n",
       "      <th>16</th>\n",
       "      <td>0.387097</td>\n",
       "      <td>0.387097</td>\n",
       "      <td>0.387097</td>\n",
       "      <td>0.387097</td>\n",
       "      <td>5</td>\n",
       "      <td>3</td>\n",
       "      <td>1</td>\n",
       "      <td>28762.999</td>\n",
       "    </tr>\n",
       "    <tr>\n",
       "      <th>17</th>\n",
       "      <td>0.741935</td>\n",
       "      <td>0.741935</td>\n",
       "      <td>0.741935</td>\n",
       "      <td>0.741935</td>\n",
       "      <td>5</td>\n",
       "      <td>3</td>\n",
       "      <td>2</td>\n",
       "      <td>25409.998</td>\n",
       "    </tr>\n",
       "    <tr>\n",
       "      <th>18</th>\n",
       "      <td>0.645161</td>\n",
       "      <td>0.645161</td>\n",
       "      <td>0.645161</td>\n",
       "      <td>0.645161</td>\n",
       "      <td>5</td>\n",
       "      <td>3</td>\n",
       "      <td>10</td>\n",
       "      <td>28164.001</td>\n",
       "    </tr>\n",
       "    <tr>\n",
       "      <th>19</th>\n",
       "      <td>0.548387</td>\n",
       "      <td>0.548387</td>\n",
       "      <td>0.548387</td>\n",
       "      <td>0.548387</td>\n",
       "      <td>5</td>\n",
       "      <td>3</td>\n",
       "      <td>50</td>\n",
       "      <td>27793.001</td>\n",
       "    </tr>\n",
       "    <tr>\n",
       "      <th>20</th>\n",
       "      <td>0.516129</td>\n",
       "      <td>0.516129</td>\n",
       "      <td>0.516129</td>\n",
       "      <td>0.516129</td>\n",
       "      <td>5</td>\n",
       "      <td>5</td>\n",
       "      <td>1</td>\n",
       "      <td>24204.000</td>\n",
       "    </tr>\n",
       "    <tr>\n",
       "      <th>21</th>\n",
       "      <td>0.516129</td>\n",
       "      <td>0.516129</td>\n",
       "      <td>0.516129</td>\n",
       "      <td>0.516129</td>\n",
       "      <td>5</td>\n",
       "      <td>5</td>\n",
       "      <td>2</td>\n",
       "      <td>25691.175</td>\n",
       "    </tr>\n",
       "    <tr>\n",
       "      <th>22</th>\n",
       "      <td>0.516129</td>\n",
       "      <td>0.516129</td>\n",
       "      <td>0.516129</td>\n",
       "      <td>0.516129</td>\n",
       "      <td>5</td>\n",
       "      <td>5</td>\n",
       "      <td>10</td>\n",
       "      <td>25905.002</td>\n",
       "    </tr>\n",
       "    <tr>\n",
       "      <th>23</th>\n",
       "      <td>0.483871</td>\n",
       "      <td>0.483871</td>\n",
       "      <td>0.483871</td>\n",
       "      <td>0.483871</td>\n",
       "      <td>5</td>\n",
       "      <td>5</td>\n",
       "      <td>50</td>\n",
       "      <td>22698.999</td>\n",
       "    </tr>\n",
       "    <tr>\n",
       "      <th>24</th>\n",
       "      <td>0.354839</td>\n",
       "      <td>0.354839</td>\n",
       "      <td>0.354839</td>\n",
       "      <td>0.354839</td>\n",
       "      <td>20</td>\n",
       "      <td>2</td>\n",
       "      <td>1</td>\n",
       "      <td>59586.001</td>\n",
       "    </tr>\n",
       "    <tr>\n",
       "      <th>25</th>\n",
       "      <td>0.419355</td>\n",
       "      <td>0.419355</td>\n",
       "      <td>0.419355</td>\n",
       "      <td>0.419355</td>\n",
       "      <td>20</td>\n",
       "      <td>2</td>\n",
       "      <td>2</td>\n",
       "      <td>57781.594</td>\n",
       "    </tr>\n",
       "    <tr>\n",
       "      <th>26</th>\n",
       "      <td>0.419355</td>\n",
       "      <td>0.419355</td>\n",
       "      <td>0.419355</td>\n",
       "      <td>0.419355</td>\n",
       "      <td>20</td>\n",
       "      <td>2</td>\n",
       "      <td>10</td>\n",
       "      <td>59175.505</td>\n",
       "    </tr>\n",
       "    <tr>\n",
       "      <th>27</th>\n",
       "      <td>0.387097</td>\n",
       "      <td>0.387097</td>\n",
       "      <td>0.387097</td>\n",
       "      <td>0.387097</td>\n",
       "      <td>20</td>\n",
       "      <td>2</td>\n",
       "      <td>50</td>\n",
       "      <td>57221.000</td>\n",
       "    </tr>\n",
       "    <tr>\n",
       "      <th>28</th>\n",
       "      <td>0.387097</td>\n",
       "      <td>0.387097</td>\n",
       "      <td>0.387097</td>\n",
       "      <td>0.387097</td>\n",
       "      <td>20</td>\n",
       "      <td>3</td>\n",
       "      <td>1</td>\n",
       "      <td>55872.000</td>\n",
       "    </tr>\n",
       "    <tr>\n",
       "      <th>29</th>\n",
       "      <td>0.419355</td>\n",
       "      <td>0.419355</td>\n",
       "      <td>0.419355</td>\n",
       "      <td>0.419355</td>\n",
       "      <td>20</td>\n",
       "      <td>3</td>\n",
       "      <td>2</td>\n",
       "      <td>58672.455</td>\n",
       "    </tr>\n",
       "    <tr>\n",
       "      <th>30</th>\n",
       "      <td>0.354839</td>\n",
       "      <td>0.354839</td>\n",
       "      <td>0.354839</td>\n",
       "      <td>0.354839</td>\n",
       "      <td>20</td>\n",
       "      <td>3</td>\n",
       "      <td>10</td>\n",
       "      <td>55596.328</td>\n",
       "    </tr>\n",
       "    <tr>\n",
       "      <th>31</th>\n",
       "      <td>0.483871</td>\n",
       "      <td>0.483871</td>\n",
       "      <td>0.483871</td>\n",
       "      <td>0.483871</td>\n",
       "      <td>20</td>\n",
       "      <td>3</td>\n",
       "      <td>50</td>\n",
       "      <td>58147.321</td>\n",
       "    </tr>\n",
       "    <tr>\n",
       "      <th>32</th>\n",
       "      <td>0.387097</td>\n",
       "      <td>0.387097</td>\n",
       "      <td>0.387097</td>\n",
       "      <td>0.387097</td>\n",
       "      <td>20</td>\n",
       "      <td>5</td>\n",
       "      <td>1</td>\n",
       "      <td>48822.692</td>\n",
       "    </tr>\n",
       "    <tr>\n",
       "      <th>33</th>\n",
       "      <td>0.387097</td>\n",
       "      <td>0.387097</td>\n",
       "      <td>0.387097</td>\n",
       "      <td>0.387097</td>\n",
       "      <td>20</td>\n",
       "      <td>5</td>\n",
       "      <td>2</td>\n",
       "      <td>49005.000</td>\n",
       "    </tr>\n",
       "    <tr>\n",
       "      <th>34</th>\n",
       "      <td>0.387097</td>\n",
       "      <td>0.387097</td>\n",
       "      <td>0.387097</td>\n",
       "      <td>0.387097</td>\n",
       "      <td>20</td>\n",
       "      <td>5</td>\n",
       "      <td>10</td>\n",
       "      <td>52102.581</td>\n",
       "    </tr>\n",
       "    <tr>\n",
       "      <th>35</th>\n",
       "      <td>0.354839</td>\n",
       "      <td>0.354839</td>\n",
       "      <td>0.354839</td>\n",
       "      <td>0.354839</td>\n",
       "      <td>20</td>\n",
       "      <td>5</td>\n",
       "      <td>50</td>\n",
       "      <td>57542.524</td>\n",
       "    </tr>\n",
       "    <tr>\n",
       "      <th>36</th>\n",
       "      <td>0.419355</td>\n",
       "      <td>0.419355</td>\n",
       "      <td>0.419355</td>\n",
       "      <td>0.419355</td>\n",
       "      <td>100</td>\n",
       "      <td>2</td>\n",
       "      <td>1</td>\n",
       "      <td>131376.000</td>\n",
       "    </tr>\n",
       "    <tr>\n",
       "      <th>37</th>\n",
       "      <td>0.322581</td>\n",
       "      <td>0.322581</td>\n",
       "      <td>0.322581</td>\n",
       "      <td>0.322581</td>\n",
       "      <td>100</td>\n",
       "      <td>2</td>\n",
       "      <td>2</td>\n",
       "      <td>131444.516</td>\n",
       "    </tr>\n",
       "    <tr>\n",
       "      <th>38</th>\n",
       "      <td>0.258065</td>\n",
       "      <td>0.258065</td>\n",
       "      <td>0.258065</td>\n",
       "      <td>0.258065</td>\n",
       "      <td>100</td>\n",
       "      <td>2</td>\n",
       "      <td>10</td>\n",
       "      <td>111947.002</td>\n",
       "    </tr>\n",
       "    <tr>\n",
       "      <th>39</th>\n",
       "      <td>0.258065</td>\n",
       "      <td>0.258065</td>\n",
       "      <td>0.258065</td>\n",
       "      <td>0.258065</td>\n",
       "      <td>100</td>\n",
       "      <td>2</td>\n",
       "      <td>50</td>\n",
       "      <td>67547.381</td>\n",
       "    </tr>\n",
       "    <tr>\n",
       "      <th>40</th>\n",
       "      <td>0.387097</td>\n",
       "      <td>0.387097</td>\n",
       "      <td>0.387097</td>\n",
       "      <td>0.387097</td>\n",
       "      <td>100</td>\n",
       "      <td>3</td>\n",
       "      <td>1</td>\n",
       "      <td>66336.188</td>\n",
       "    </tr>\n",
       "    <tr>\n",
       "      <th>41</th>\n",
       "      <td>0.387097</td>\n",
       "      <td>0.387097</td>\n",
       "      <td>0.387097</td>\n",
       "      <td>0.387097</td>\n",
       "      <td>100</td>\n",
       "      <td>3</td>\n",
       "      <td>2</td>\n",
       "      <td>65288.085</td>\n",
       "    </tr>\n",
       "    <tr>\n",
       "      <th>42</th>\n",
       "      <td>0.387097</td>\n",
       "      <td>0.387097</td>\n",
       "      <td>0.387097</td>\n",
       "      <td>0.387097</td>\n",
       "      <td>100</td>\n",
       "      <td>3</td>\n",
       "      <td>10</td>\n",
       "      <td>65130.161</td>\n",
       "    </tr>\n",
       "    <tr>\n",
       "      <th>43</th>\n",
       "      <td>0.387097</td>\n",
       "      <td>0.387097</td>\n",
       "      <td>0.387097</td>\n",
       "      <td>0.387097</td>\n",
       "      <td>100</td>\n",
       "      <td>3</td>\n",
       "      <td>50</td>\n",
       "      <td>65511.249</td>\n",
       "    </tr>\n",
       "    <tr>\n",
       "      <th>44</th>\n",
       "      <td>0.387097</td>\n",
       "      <td>0.387097</td>\n",
       "      <td>0.387097</td>\n",
       "      <td>0.387097</td>\n",
       "      <td>100</td>\n",
       "      <td>5</td>\n",
       "      <td>1</td>\n",
       "      <td>63100.003</td>\n",
       "    </tr>\n",
       "    <tr>\n",
       "      <th>45</th>\n",
       "      <td>0.387097</td>\n",
       "      <td>0.387097</td>\n",
       "      <td>0.387097</td>\n",
       "      <td>0.387097</td>\n",
       "      <td>100</td>\n",
       "      <td>5</td>\n",
       "      <td>2</td>\n",
       "      <td>63073.821</td>\n",
       "    </tr>\n",
       "    <tr>\n",
       "      <th>46</th>\n",
       "      <td>0.387097</td>\n",
       "      <td>0.387097</td>\n",
       "      <td>0.387097</td>\n",
       "      <td>0.387097</td>\n",
       "      <td>100</td>\n",
       "      <td>5</td>\n",
       "      <td>10</td>\n",
       "      <td>62944.414</td>\n",
       "    </tr>\n",
       "    <tr>\n",
       "      <th>47</th>\n",
       "      <td>0.387097</td>\n",
       "      <td>0.387097</td>\n",
       "      <td>0.387097</td>\n",
       "      <td>0.387097</td>\n",
       "      <td>100</td>\n",
       "      <td>5</td>\n",
       "      <td>50</td>\n",
       "      <td>63194.506</td>\n",
       "    </tr>\n",
       "  </tbody>\n",
       "</table>\n",
       "</div>"
      ],
      "text/plain": [
       "         acc  precision        f1    recall  nclust  sliding   k           t\n",
       "0   0.419355   0.419355  0.419355  0.419355       2        2   1   22502.998\n",
       "1   0.419355   0.419355  0.419355  0.419355       2        2   2   22123.002\n",
       "2   0.387097   0.387097  0.387097  0.387097       2        2  10   22176.000\n",
       "3   0.451613   0.451613  0.451613  0.451613       2        2  50   23187.687\n",
       "4   0.451613   0.451613  0.451613  0.451613       2        3   1   21093.001\n",
       "5   0.451613   0.451613  0.451613  0.451613       2        3   2   19479.998\n",
       "6   0.548387   0.548387  0.548387  0.548387       2        3  10   21431.999\n",
       "7   0.548387   0.548387  0.548387  0.548387       2        3  50   21620.003\n",
       "8   0.354839   0.354839  0.354839  0.354839       2        5   1   20141.997\n",
       "9   0.516129   0.516129  0.516129  0.516129       2        5   2   19832.003\n",
       "10  0.548387   0.548387  0.548387  0.548387       2        5  10   20016.997\n",
       "11  0.516129   0.516129  0.516129  0.516129       2        5  50   19898.002\n",
       "12  0.580645   0.580645  0.580645  0.580645       5        2   1   27884.000\n",
       "13  0.580645   0.580645  0.580645  0.580645       5        2   2   30604.000\n",
       "14  0.580645   0.580645  0.580645  0.580645       5        2  10   27725.999\n",
       "15  0.483871   0.483871  0.483871  0.483871       5        2  50   28104.002\n",
       "16  0.387097   0.387097  0.387097  0.387097       5        3   1   28762.999\n",
       "17  0.741935   0.741935  0.741935  0.741935       5        3   2   25409.998\n",
       "18  0.645161   0.645161  0.645161  0.645161       5        3  10   28164.001\n",
       "19  0.548387   0.548387  0.548387  0.548387       5        3  50   27793.001\n",
       "20  0.516129   0.516129  0.516129  0.516129       5        5   1   24204.000\n",
       "21  0.516129   0.516129  0.516129  0.516129       5        5   2   25691.175\n",
       "22  0.516129   0.516129  0.516129  0.516129       5        5  10   25905.002\n",
       "23  0.483871   0.483871  0.483871  0.483871       5        5  50   22698.999\n",
       "24  0.354839   0.354839  0.354839  0.354839      20        2   1   59586.001\n",
       "25  0.419355   0.419355  0.419355  0.419355      20        2   2   57781.594\n",
       "26  0.419355   0.419355  0.419355  0.419355      20        2  10   59175.505\n",
       "27  0.387097   0.387097  0.387097  0.387097      20        2  50   57221.000\n",
       "28  0.387097   0.387097  0.387097  0.387097      20        3   1   55872.000\n",
       "29  0.419355   0.419355  0.419355  0.419355      20        3   2   58672.455\n",
       "30  0.354839   0.354839  0.354839  0.354839      20        3  10   55596.328\n",
       "31  0.483871   0.483871  0.483871  0.483871      20        3  50   58147.321\n",
       "32  0.387097   0.387097  0.387097  0.387097      20        5   1   48822.692\n",
       "33  0.387097   0.387097  0.387097  0.387097      20        5   2   49005.000\n",
       "34  0.387097   0.387097  0.387097  0.387097      20        5  10   52102.581\n",
       "35  0.354839   0.354839  0.354839  0.354839      20        5  50   57542.524\n",
       "36  0.419355   0.419355  0.419355  0.419355     100        2   1  131376.000\n",
       "37  0.322581   0.322581  0.322581  0.322581     100        2   2  131444.516\n",
       "38  0.258065   0.258065  0.258065  0.258065     100        2  10  111947.002\n",
       "39  0.258065   0.258065  0.258065  0.258065     100        2  50   67547.381\n",
       "40  0.387097   0.387097  0.387097  0.387097     100        3   1   66336.188\n",
       "41  0.387097   0.387097  0.387097  0.387097     100        3   2   65288.085\n",
       "42  0.387097   0.387097  0.387097  0.387097     100        3  10   65130.161\n",
       "43  0.387097   0.387097  0.387097  0.387097     100        3  50   65511.249\n",
       "44  0.387097   0.387097  0.387097  0.387097     100        5   1   63100.003\n",
       "45  0.387097   0.387097  0.387097  0.387097     100        5   2   63073.821\n",
       "46  0.387097   0.387097  0.387097  0.387097     100        5  10   62944.414\n",
       "47  0.387097   0.387097  0.387097  0.387097     100        5  50   63194.506"
      ]
     },
     "execution_count": 58,
     "metadata": {},
     "output_type": "execute_result"
    }
   ],
   "source": [
    "df_res = pd.DataFrame(res_val, columns=[\"acc\", \"precision\", \"f1\", \"recall\"])\n",
    "\n",
    "df_res[[\"nclust\", \"sliding\", \"k\"]] = conf\n",
    "\n",
    "df_res[\"t\"] = res_t\n",
    "\n",
    "df_res[\"t\"] += 17438\n",
    "\n",
    "df_res.to_csv(\"Animals search multiple rappresentation precision 4.csv\", index=None)\n",
    "\n",
    "df_res"
   ]
  },
  {
   "cell_type": "code",
   "execution_count": 59,
   "metadata": {},
   "outputs": [
    {
     "data": {
      "text/html": [
       "<div>\n",
       "<style scoped>\n",
       "    .dataframe tbody tr th:only-of-type {\n",
       "        vertical-align: middle;\n",
       "    }\n",
       "\n",
       "    .dataframe tbody tr th {\n",
       "        vertical-align: top;\n",
       "    }\n",
       "\n",
       "    .dataframe thead th {\n",
       "        text-align: right;\n",
       "    }\n",
       "</style>\n",
       "<table border=\"1\" class=\"dataframe\">\n",
       "  <thead>\n",
       "    <tr style=\"text-align: right;\">\n",
       "      <th></th>\n",
       "      <th>acc</th>\n",
       "      <th>precision</th>\n",
       "      <th>f1</th>\n",
       "      <th>recall</th>\n",
       "      <th>nclust</th>\n",
       "      <th>sliding</th>\n",
       "      <th>k</th>\n",
       "      <th>t</th>\n",
       "    </tr>\n",
       "  </thead>\n",
       "  <tbody>\n",
       "    <tr>\n",
       "      <th>17</th>\n",
       "      <td>0.741935</td>\n",
       "      <td>0.741935</td>\n",
       "      <td>0.741935</td>\n",
       "      <td>0.741935</td>\n",
       "      <td>5</td>\n",
       "      <td>3</td>\n",
       "      <td>2</td>\n",
       "      <td>25409.998</td>\n",
       "    </tr>\n",
       "    <tr>\n",
       "      <th>18</th>\n",
       "      <td>0.645161</td>\n",
       "      <td>0.645161</td>\n",
       "      <td>0.645161</td>\n",
       "      <td>0.645161</td>\n",
       "      <td>5</td>\n",
       "      <td>3</td>\n",
       "      <td>10</td>\n",
       "      <td>28164.001</td>\n",
       "    </tr>\n",
       "    <tr>\n",
       "      <th>13</th>\n",
       "      <td>0.580645</td>\n",
       "      <td>0.580645</td>\n",
       "      <td>0.580645</td>\n",
       "      <td>0.580645</td>\n",
       "      <td>5</td>\n",
       "      <td>2</td>\n",
       "      <td>2</td>\n",
       "      <td>30604.000</td>\n",
       "    </tr>\n",
       "    <tr>\n",
       "      <th>14</th>\n",
       "      <td>0.580645</td>\n",
       "      <td>0.580645</td>\n",
       "      <td>0.580645</td>\n",
       "      <td>0.580645</td>\n",
       "      <td>5</td>\n",
       "      <td>2</td>\n",
       "      <td>10</td>\n",
       "      <td>27725.999</td>\n",
       "    </tr>\n",
       "    <tr>\n",
       "      <th>12</th>\n",
       "      <td>0.580645</td>\n",
       "      <td>0.580645</td>\n",
       "      <td>0.580645</td>\n",
       "      <td>0.580645</td>\n",
       "      <td>5</td>\n",
       "      <td>2</td>\n",
       "      <td>1</td>\n",
       "      <td>27884.000</td>\n",
       "    </tr>\n",
       "  </tbody>\n",
       "</table>\n",
       "</div>"
      ],
      "text/plain": [
       "         acc  precision        f1    recall  nclust  sliding   k          t\n",
       "17  0.741935   0.741935  0.741935  0.741935       5        3   2  25409.998\n",
       "18  0.645161   0.645161  0.645161  0.645161       5        3  10  28164.001\n",
       "13  0.580645   0.580645  0.580645  0.580645       5        2   2  30604.000\n",
       "14  0.580645   0.580645  0.580645  0.580645       5        2  10  27725.999\n",
       "12  0.580645   0.580645  0.580645  0.580645       5        2   1  27884.000"
      ]
     },
     "execution_count": 59,
     "metadata": {},
     "output_type": "execute_result"
    }
   ],
   "source": [
    "df_res.sort_values(by=\"acc\", ascending=False).head()"
   ]
  },
  {
   "cell_type": "code",
   "execution_count": 27,
   "metadata": {},
   "outputs": [
    {
     "name": "stdout",
     "output_type": "stream",
     "text": [
      "Fitting 10 folds for each of 30 candidates, totalling 300 fits\n",
      "Model with rank: 1\n",
      "Mean validation score: 0.337 (std: 0.065)\n",
      "Parameters: {'max_depth': 5, 'n_estimators': 400}\n",
      "\n",
      "Model with rank: 1\n",
      "Mean validation score: 0.337 (std: 0.065)\n",
      "Parameters: {'max_depth': 5, 'n_estimators': 1000}\n",
      "\n",
      "Model with rank: 1\n",
      "Mean validation score: 0.337 (std: 0.065)\n",
      "Parameters: {'max_depth': 5, 'n_estimators': 1300}\n",
      "\n",
      "Model with rank: 1\n",
      "Mean validation score: 0.337 (std: 0.065)\n",
      "Parameters: {'max_depth': 8, 'n_estimators': 100}\n",
      "\n",
      "Model with rank: 1\n",
      "Mean validation score: 0.337 (std: 0.065)\n",
      "Parameters: {'max_depth': 8, 'n_estimators': 400}\n",
      "\n",
      "Model with rank: 1\n",
      "Mean validation score: 0.337 (std: 0.065)\n",
      "Parameters: {'max_depth': 8, 'n_estimators': 700}\n",
      "\n",
      "Model with rank: 1\n",
      "Mean validation score: 0.337 (std: 0.065)\n",
      "Parameters: {'max_depth': 8, 'n_estimators': 1000}\n",
      "\n",
      "Model with rank: 1\n",
      "Mean validation score: 0.337 (std: 0.065)\n",
      "Parameters: {'max_depth': 8, 'n_estimators': 1300}\n",
      "\n",
      "Model with rank: 1\n",
      "Mean validation score: 0.337 (std: 0.065)\n",
      "Parameters: {'max_depth': 11, 'n_estimators': 100}\n",
      "\n",
      "Model with rank: 1\n",
      "Mean validation score: 0.337 (std: 0.065)\n",
      "Parameters: {'max_depth': 11, 'n_estimators': 400}\n",
      "\n",
      "Model with rank: 1\n",
      "Mean validation score: 0.337 (std: 0.065)\n",
      "Parameters: {'max_depth': 11, 'n_estimators': 700}\n",
      "\n",
      "Model with rank: 1\n",
      "Mean validation score: 0.337 (std: 0.065)\n",
      "Parameters: {'max_depth': 11, 'n_estimators': 1000}\n",
      "\n",
      "Model with rank: 1\n",
      "Mean validation score: 0.337 (std: 0.065)\n",
      "Parameters: {'max_depth': 11, 'n_estimators': 1300}\n",
      "\n",
      "Model with rank: 1\n",
      "Mean validation score: 0.337 (std: 0.065)\n",
      "Parameters: {'max_depth': 14, 'n_estimators': 100}\n",
      "\n",
      "Model with rank: 1\n",
      "Mean validation score: 0.337 (std: 0.065)\n",
      "Parameters: {'max_depth': 14, 'n_estimators': 400}\n",
      "\n",
      "Model with rank: 1\n",
      "Mean validation score: 0.337 (std: 0.065)\n",
      "Parameters: {'max_depth': 14, 'n_estimators': 700}\n",
      "\n",
      "Model with rank: 1\n",
      "Mean validation score: 0.337 (std: 0.065)\n",
      "Parameters: {'max_depth': 14, 'n_estimators': 1000}\n",
      "\n",
      "Model with rank: 1\n",
      "Mean validation score: 0.337 (std: 0.065)\n",
      "Parameters: {'max_depth': 14, 'n_estimators': 1300}\n",
      "\n",
      "Model with rank: 1\n",
      "Mean validation score: 0.337 (std: 0.065)\n",
      "Parameters: {'max_depth': 17, 'n_estimators': 100}\n",
      "\n",
      "Model with rank: 1\n",
      "Mean validation score: 0.337 (std: 0.065)\n",
      "Parameters: {'max_depth': 17, 'n_estimators': 400}\n",
      "\n",
      "Model with rank: 1\n",
      "Mean validation score: 0.337 (std: 0.065)\n",
      "Parameters: {'max_depth': 17, 'n_estimators': 700}\n",
      "\n",
      "Model with rank: 1\n",
      "Mean validation score: 0.337 (std: 0.065)\n",
      "Parameters: {'max_depth': 17, 'n_estimators': 1000}\n",
      "\n",
      "Model with rank: 1\n",
      "Mean validation score: 0.337 (std: 0.065)\n",
      "Parameters: {'max_depth': 17, 'n_estimators': 1300}\n",
      "\n"
     ]
    }
   ],
   "source": [
    "from sklearn.tree import DecisionTreeClassifier\n",
    "from sklearn.ensemble import RandomForestClassifier\n",
    "from sklearn.model_selection import GridSearchCV\n",
    "\n",
    "tree_para = {'n_estimators':range(100, 1500, 300),\n",
    "             'max_depth':range(2, 18, 3)}\n",
    "gs = GridSearchCV(RandomForestClassifier(), tree_para, cv=10, n_jobs=12, verbose=3)\n",
    "result = gs.fit(X_train, y_train)\n",
    "\n",
    "report(gs.cv_results_, n_top=1)"
   ]
  },
  {
   "cell_type": "code",
   "execution_count": 28,
   "metadata": {},
   "outputs": [
    {
     "name": "stdout",
     "output_type": "stream",
     "text": [
      "              precision    recall  f1-score   support\n",
      "\n",
      "           C       0.00      0.00      0.00        10\n",
      "           D       0.00      0.00      0.00         9\n",
      "           E       0.39      1.00      0.56        12\n",
      "\n",
      "    accuracy                           0.39        31\n",
      "   macro avg       0.13      0.33      0.19        31\n",
      "weighted avg       0.15      0.39      0.22        31\n",
      "\n"
     ]
    },
    {
     "name": "stderr",
     "output_type": "stream",
     "text": [
      "c:\\users\\cri98\\appdata\\local\\programs\\python\\python37\\lib\\site-packages\\sklearn\\metrics\\_classification.py:1308: UndefinedMetricWarning:\n",
      "\n",
      "Precision and F-score are ill-defined and being set to 0.0 in labels with no predicted samples. Use `zero_division` parameter to control this behavior.\n",
      "\n",
      "c:\\users\\cri98\\appdata\\local\\programs\\python\\python37\\lib\\site-packages\\sklearn\\metrics\\_classification.py:1308: UndefinedMetricWarning:\n",
      "\n",
      "Precision and F-score are ill-defined and being set to 0.0 in labels with no predicted samples. Use `zero_division` parameter to control this behavior.\n",
      "\n",
      "c:\\users\\cri98\\appdata\\local\\programs\\python\\python37\\lib\\site-packages\\sklearn\\metrics\\_classification.py:1308: UndefinedMetricWarning:\n",
      "\n",
      "Precision and F-score are ill-defined and being set to 0.0 in labels with no predicted samples. Use `zero_division` parameter to control this behavior.\n",
      "\n"
     ]
    }
   ],
   "source": [
    "from sklearn.ensemble import RandomForestClassifier\n",
    "\n",
    "clf = RandomForestClassifier(max_depth=2, random_state=3, n_jobs=-1, n_estimators=400)\n",
    "\n",
    "clf.fit(X_train, y_train)\n",
    "y_pred = clf.predict(X_test)\n",
    "\n",
    "from sklearn.metrics import classification_report\n",
    "\n",
    "print(classification_report(y_test, y_pred))"
   ]
  },
  {
   "cell_type": "code",
   "execution_count": null,
   "metadata": {},
   "outputs": [],
   "source": []
  },
  {
   "cell_type": "code",
   "execution_count": null,
   "metadata": {},
   "outputs": [],
   "source": [
    "print(classification_report(y_test, result.best_estimator_.fit(X_train, y_train).predict(X_test)))"
   ]
  }
 ],
 "metadata": {
  "kernelspec": {
   "display_name": "Python 3 (ipykernel)",
   "language": "python",
   "name": "python3"
  },
  "language_info": {
   "codemirror_mode": {
    "name": "ipython",
    "version": 3
   },
   "file_extension": ".py",
   "mimetype": "text/x-python",
   "name": "python",
   "nbconvert_exporter": "python",
   "pygments_lexer": "ipython3",
   "version": "3.8.13"
  }
 },
 "nbformat": 4,
 "nbformat_minor": 1
}
