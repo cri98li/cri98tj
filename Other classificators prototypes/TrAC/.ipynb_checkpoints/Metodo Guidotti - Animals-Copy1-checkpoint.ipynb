{
 "cells": [
  {
   "cell_type": "markdown",
   "metadata": {
    "collapsed": true,
    "pycharm": {
     "name": "#%% md\n"
    }
   },
   "source": [
    "# Metodo guidotti\n",
    "L'idea è quella di trasformare ogni traiettoria in una sequenza di simboli, estrarre i motif e usarli per classificare"
   ]
  },
  {
   "cell_type": "code",
   "execution_count": 33,
   "metadata": {
    "pycharm": {
     "name": "#%%\n"
    }
   },
   "outputs": [
    {
     "data": {
      "text/html": [
       "<div>\n",
       "<style scoped>\n",
       "    .dataframe tbody tr th:only-of-type {\n",
       "        vertical-align: middle;\n",
       "    }\n",
       "\n",
       "    .dataframe tbody tr th {\n",
       "        vertical-align: top;\n",
       "    }\n",
       "\n",
       "    .dataframe thead th {\n",
       "        text-align: right;\n",
       "    }\n",
       "</style>\n",
       "<table border=\"1\" class=\"dataframe\">\n",
       "  <thead>\n",
       "    <tr style=\"text-align: right;\">\n",
       "      <th></th>\n",
       "      <th>tid</th>\n",
       "      <th>class</th>\n",
       "      <th>t</th>\n",
       "      <th>c1</th>\n",
       "      <th>c2</th>\n",
       "    </tr>\n",
       "  </thead>\n",
       "  <tbody>\n",
       "    <tr>\n",
       "      <th>0</th>\n",
       "      <td>0</td>\n",
       "      <td>D</td>\n",
       "      <td>0</td>\n",
       "      <td>50.1066</td>\n",
       "      <td>3.79665</td>\n",
       "    </tr>\n",
       "    <tr>\n",
       "      <th>1</th>\n",
       "      <td>0</td>\n",
       "      <td>D</td>\n",
       "      <td>4</td>\n",
       "      <td>50.1045</td>\n",
       "      <td>3.79455</td>\n",
       "    </tr>\n",
       "    <tr>\n",
       "      <th>2</th>\n",
       "      <td>0</td>\n",
       "      <td>D</td>\n",
       "      <td>7</td>\n",
       "      <td>50.1111</td>\n",
       "      <td>3.79845</td>\n",
       "    </tr>\n",
       "    <tr>\n",
       "      <th>3</th>\n",
       "      <td>0</td>\n",
       "      <td>D</td>\n",
       "      <td>9</td>\n",
       "      <td>50.1072</td>\n",
       "      <td>3.79845</td>\n",
       "    </tr>\n",
       "    <tr>\n",
       "      <th>4</th>\n",
       "      <td>0</td>\n",
       "      <td>D</td>\n",
       "      <td>15</td>\n",
       "      <td>50.1132</td>\n",
       "      <td>3.79965</td>\n",
       "    </tr>\n",
       "  </tbody>\n",
       "</table>\n",
       "</div>"
      ],
      "text/plain": [
       "   tid class   t       c1       c2\n",
       "0    0     D   0  50.1066  3.79665\n",
       "1    0     D   4  50.1045  3.79455\n",
       "2    0     D   7  50.1111  3.79845\n",
       "3    0     D   9  50.1072  3.79845\n",
       "4    0     D  15  50.1132  3.79965"
      ]
     },
     "execution_count": 33,
     "metadata": {},
     "output_type": "execute_result"
    }
   ],
   "source": [
    "import time\n",
    "from concurrent.futures import ThreadPoolExecutor\n",
    "import matplotlib.pyplot as plt\n",
    "import numpy as np\n",
    "import pandas as pd\n",
    "from tqdm.notebook import tqdm\n",
    "import math\n",
    "from datetime import timedelta, datetime\n",
    "import plotly.express as px\n",
    "from geolib import geohash\n",
    "from sklearn.model_selection import train_test_split\n",
    "from sklearn_extra.cluster import KMedoids\n",
    "\n",
    "\n",
    "executor = ThreadPoolExecutor(max_workers=12)\n",
    "\n",
    "df = pd.read_csv(\"../../examples/Animals Dataset/data/animals_preapred.zip\").sort_values(by=[\"tid\", 't'])\n",
    "\n",
    "df.tid -= df.tid.min()\n",
    "\n",
    "def report(results, n_top=3):\n",
    "    for i in range(1, n_top + 1):\n",
    "        candidates = np.flatnonzero(results['rank_test_score'] == i)\n",
    "        for candidate in candidates:\n",
    "            print(\"Model with rank: {0}\".format(i))\n",
    "            print(\"Mean validation score: {0:.3f} (std: {1:.3f})\".format(\n",
    "                results['mean_test_score'][candidate],\n",
    "                results['std_test_score'][candidate]))\n",
    "            print(\"Parameters: {0}\".format(results['params'][candidate]))\n",
    "            print(\"\")\n",
    "\n",
    "df.head()"
   ]
  },
  {
   "cell_type": "code",
   "execution_count": 34,
   "metadata": {
    "pycharm": {
     "name": "#%%\n"
    }
   },
   "outputs": [],
   "source": [
    "t = 0"
   ]
  },
  {
   "cell_type": "code",
   "execution_count": 35,
   "metadata": {
    "pycharm": {
     "name": "#%%\n"
    }
   },
   "outputs": [
    {
     "data": {
      "application/vnd.jupyter.widget-view+json": {
       "model_id": "643ed375fd5a41fbb3ee4003650676c1",
       "version_major": 2,
       "version_minor": 0
      },
      "text/plain": [
       "  0%|          | 0/14990 [00:00<?, ?it/s]"
      ]
     },
     "metadata": {},
     "output_type": "display_data"
    },
    {
     "name": "stdout",
     "output_type": "stream",
     "text": [
      "Wall time: 1.07 s\n"
     ]
    }
   ],
   "source": [
    "%%time\n",
    "\n",
    "start = datetime.now()\n",
    "\n",
    "precision =  3 #da 1 a 12\n",
    "\n",
    "df[\"geohash\"] = [geohash.encode(x[0], x[1], precision) for x in tqdm(df[[\"c1\", \"c2\"]].values)]\n",
    "\n",
    "t += (datetime.now()-start).total_seconds()*1000"
   ]
  },
  {
   "cell_type": "code",
   "execution_count": 36,
   "metadata": {},
   "outputs": [
    {
     "data": {
      "text/plain": [
       "1072.0"
      ]
     },
     "execution_count": 36,
     "metadata": {},
     "output_type": "execute_result"
    }
   ],
   "source": [
    "t"
   ]
  },
  {
   "cell_type": "code",
   "execution_count": 37,
   "metadata": {
    "pycharm": {
     "name": "#%%\n"
    }
   },
   "outputs": [
    {
     "data": {
      "application/vnd.jupyter.widget-view+json": {
       "model_id": "a49bdfc9f1354584abd0b3a1ea7ec636",
       "version_major": 2,
       "version_minor": 0
      },
      "text/plain": [
       "  0%|          | 0/1 [00:00<?, ?it/s]"
      ]
     },
     "metadata": {},
     "output_type": "display_data"
    },
    {
     "name": "stdout",
     "output_type": "stream",
     "text": [
      "Wall time: 217 ms\n"
     ]
    }
   ],
   "source": [
    "%%time\n",
    "\n",
    "start = datetime.now()\n",
    "\n",
    "decodes = dict()\n",
    "\n",
    "for gh in tqdm(df.geohash.unique()):\n",
    "    decodes[gh] = geohash.bounds(gh)\n",
    "\n",
    "l = []\n",
    "prec = \"!\"\n",
    "c = -1\n",
    "for gh in df.geohash:\n",
    "    if gh != prec:\n",
    "        prec = gh\n",
    "        c += 1\n",
    "    l.append(gh+\"_\"+str(c))\n",
    "\n",
    "df[\"geohash2\"] = l\n",
    "\n",
    "df[\"lat_norm\"] = df.c1 - df.geohash.transform(lambda x: decodes[x].sw.lat)\n",
    "df[\"lon_norm\"] = df.c2 - df.geohash.transform(lambda x: decodes[x].sw.lon)\n",
    "\n",
    "t += (datetime.now()-start).total_seconds()*1000"
   ]
  },
  {
   "cell_type": "code",
   "execution_count": 38,
   "metadata": {
    "pycharm": {
     "name": "#%%\n"
    }
   },
   "outputs": [
    {
     "data": {
      "application/vnd.plotly.v1+json": {
       "config": {
        "plotlyServerURL": "https://plot.ly"
       },
       "data": [
        {
         "hovertemplate": "geohash2=u0f_0<br>t=%{x}<br>c1=%{y}<br>c2=%{z}<extra></extra>",
         "legendgroup": "u0f_0",
         "line": {
          "color": "#636efa",
          "dash": "solid"
         },
         "marker": {
          "symbol": "circle"
         },
         "mode": "lines",
         "name": "u0f_0",
         "scene": "scene",
         "showlegend": true,
         "type": "scatter3d",
         "x": [
          0,
          46,
          48,
          59,
          60,
          71,
          78,
          80,
          82,
          88,
          96,
          97,
          106,
          117,
          118,
          122,
          123,
          125,
          129,
          130,
          134,
          141,
          143,
          145,
          148,
          154,
          161,
          164,
          166,
          175,
          178,
          180,
          185,
          189,
          191,
          192,
          194,
          196,
          201,
          228,
          237,
          240,
          242,
          245,
          247,
          249,
          261,
          263,
          267,
          268,
          274,
          275,
          277,
          284,
          286,
          288,
          290,
          294,
          297,
          300,
          302,
          309,
          311,
          313,
          316,
          318,
          320,
          322,
          323,
          329,
          330,
          334,
          339,
          341,
          341,
          342,
          342,
          343,
          347,
          352,
          354,
          356,
          358,
          359,
          361,
          363,
          364,
          366,
          370,
          371,
          373,
          377,
          379,
          380,
          384,
          386,
          387,
          389,
          391,
          393,
          395,
          396,
          405,
          407,
          410,
          414,
          416,
          418,
          419,
          421,
          430,
          432,
          434,
          435,
          439,
          441,
          443,
          453,
          461,
          465,
          467,
          479,
          483,
          485,
          487,
          489,
          491,
          493,
          494,
          497,
          499,
          501,
          503,
          505,
          506,
          509,
          511,
          513,
          515,
          517,
          519,
          521,
          523,
          525,
          527,
          529,
          531,
          533,
          537,
          538,
          540,
          542,
          544,
          549,
          550,
          558,
          564,
          566,
          568,
          570,
          572,
          574,
          576,
          580,
          582,
          584,
          586,
          592,
          594,
          598,
          600,
          602,
          604,
          606,
          609,
          611,
          614,
          617,
          623,
          627,
          629,
          635,
          637,
          639,
          643,
          645,
          647,
          649,
          651,
          653,
          655,
          659,
          661,
          665,
          669,
          671,
          673,
          677,
          681,
          692,
          694,
          696,
          697,
          699,
          708,
          710,
          712
         ],
         "y": [
          50.145,
          50.1267,
          50.1243,
          50.1234,
          50.1222,
          50.13,
          50.1456,
          50.1408,
          50.1366,
          50.1342,
          50.1333,
          50.1321,
          50.1327,
          50.1318,
          50.1312,
          50.1303,
          50.1327,
          50.1336,
          50.1312,
          50.127,
          50.1306,
          50.1294,
          50.1267,
          50.1444,
          50.1456,
          50.1426,
          50.1483,
          50.1312,
          50.1351,
          50.121,
          50.1207,
          50.1216,
          50.157,
          50.1561,
          50.1456,
          50.1462,
          50.1408,
          50.1417,
          50.1405,
          50.1303,
          50.1285,
          50.1267,
          50.127,
          50.1267,
          50.1267,
          50.1264,
          50.1306,
          50.1324,
          50.1294,
          50.1285,
          50.1285,
          50.1288,
          50.1285,
          50.1282,
          50.1291,
          50.1282,
          50.1282,
          50.1285,
          50.1279,
          50.1273,
          50.1264,
          50.1255,
          50.1252,
          50.1255,
          50.124,
          50.124,
          50.1252,
          50.1246,
          50.1258,
          50.1249,
          50.1255,
          50.1258,
          50.124,
          50.1237,
          50.124,
          50.1243,
          50.1246,
          50.1255,
          50.1258,
          50.1258,
          50.1255,
          50.1258,
          50.1258,
          50.1255,
          50.1291,
          50.1267,
          50.1297,
          50.1291,
          50.1291,
          50.1297,
          50.1249,
          50.1288,
          50.1297,
          50.1276,
          50.1264,
          50.1225,
          50.1222,
          50.1222,
          50.1231,
          50.1237,
          50.1228,
          50.1237,
          50.124,
          50.1237,
          50.1252,
          50.1222,
          50.1213,
          50.1258,
          50.1255,
          50.1318,
          50.133,
          50.1324,
          50.1327,
          50.1324,
          50.1348,
          50.1321,
          50.1324,
          50.1336,
          50.1345,
          50.1342,
          50.1348,
          50.1351,
          50.1351,
          50.1369,
          50.1363,
          50.136,
          50.1351,
          50.1345,
          50.1345,
          50.1354,
          50.1348,
          50.1354,
          50.1357,
          50.136,
          50.1354,
          50.1366,
          50.1372,
          50.1366,
          50.1357,
          50.1348,
          50.1351,
          50.1348,
          50.1357,
          50.1354,
          50.1348,
          50.1345,
          50.1348,
          50.1351,
          50.1345,
          50.1348,
          50.1345,
          50.1345,
          50.1348,
          50.1357,
          50.1315,
          50.1309,
          50.1318,
          50.1297,
          50.1294,
          50.1303,
          50.1303,
          50.1297,
          50.1306,
          50.1297,
          50.13,
          50.1306,
          50.1306,
          50.1321,
          50.1315,
          50.1324,
          50.1324,
          50.1336,
          50.1333,
          50.1333,
          50.1333,
          50.1339,
          50.1324,
          50.1318,
          50.1297,
          50.13,
          50.1291,
          50.1297,
          50.1291,
          50.1285,
          50.1294,
          50.1291,
          50.1327,
          50.133,
          50.133,
          50.133,
          50.1318,
          50.1318,
          50.1333,
          50.1333,
          50.1333,
          50.1309,
          50.1309,
          50.1306,
          50.1297,
          50.1309,
          50.1294,
          50.1303,
          50.1267,
          50.1297,
          50.1303,
          50.1309,
          50.13
         ],
         "z": [
          3.77175,
          3.77475,
          3.77595,
          3.77505,
          3.77295,
          3.78345,
          3.77385,
          3.77055,
          3.76845,
          3.76245,
          3.76095,
          3.76035,
          3.76185,
          3.75915,
          3.75945,
          3.76185,
          3.75945,
          3.76215,
          3.76365,
          3.76335,
          3.76905,
          3.76695,
          3.76395,
          3.76875,
          3.76935,
          3.76575,
          3.76725,
          3.76335,
          3.76275,
          3.76815,
          3.76575,
          3.76785,
          3.77655,
          3.77745,
          3.77145,
          3.77595,
          3.77175,
          3.77235,
          3.77145,
          3.76935,
          3.76605,
          3.76665,
          3.76665,
          3.76365,
          3.76605,
          3.76545,
          3.76335,
          3.75825,
          3.75405,
          3.75435,
          3.75405,
          3.75285,
          3.75315,
          3.75375,
          3.75285,
          3.75225,
          3.75165,
          3.75195,
          3.75225,
          3.75435,
          3.75135,
          3.75225,
          3.75195,
          3.75195,
          3.74985,
          3.75255,
          3.75225,
          3.75135,
          3.75165,
          3.75015,
          3.75135,
          3.75225,
          3.75105,
          3.75165,
          3.75135,
          3.75255,
          3.75255,
          3.75255,
          3.75315,
          3.75285,
          3.75165,
          3.75135,
          3.75165,
          3.75375,
          3.75315,
          3.75165,
          3.75435,
          3.75345,
          3.75255,
          3.75255,
          3.75255,
          3.75285,
          3.75165,
          3.75765,
          3.75255,
          3.75555,
          3.75465,
          3.75495,
          3.75495,
          3.75495,
          3.75405,
          3.75315,
          3.75465,
          3.75405,
          3.75495,
          3.75345,
          3.75255,
          3.75225,
          3.75195,
          3.75405,
          3.75435,
          3.75345,
          3.75405,
          3.75435,
          3.75435,
          3.75825,
          3.75945,
          3.76125,
          3.76365,
          3.76365,
          3.76275,
          3.76335,
          3.76305,
          3.76725,
          3.76755,
          3.76695,
          3.76635,
          3.76695,
          3.76755,
          3.76785,
          3.76725,
          3.76635,
          3.76995,
          3.76845,
          3.76665,
          3.76785,
          3.76905,
          3.76575,
          3.76875,
          3.76935,
          3.76875,
          3.76845,
          3.76905,
          3.76875,
          3.76935,
          3.77025,
          3.77055,
          3.77055,
          3.77025,
          3.76965,
          3.76995,
          3.76965,
          3.76875,
          3.77175,
          3.76905,
          3.77175,
          3.77175,
          3.76755,
          3.76725,
          3.76665,
          3.76635,
          3.76605,
          3.76425,
          3.76305,
          3.76395,
          3.76425,
          3.76365,
          3.76245,
          3.76125,
          3.76335,
          3.76065,
          3.76245,
          3.76185,
          3.76125,
          3.76005,
          3.76275,
          3.76305,
          3.76275,
          3.76635,
          3.76605,
          3.76305,
          3.76815,
          3.76695,
          3.76605,
          3.76665,
          3.76725,
          3.76065,
          3.76035,
          3.76035,
          3.76065,
          3.76005,
          3.76095,
          3.76035,
          3.76095,
          3.76185,
          3.76845,
          3.76785,
          3.76935,
          3.76845,
          3.76875,
          3.76875,
          3.76305,
          3.76905,
          3.76755,
          3.76845,
          3.76635,
          3.76695
         ]
        }
       ],
       "layout": {
        "legend": {
         "title": {
          "text": "geohash2"
         },
         "tracegroupgap": 0
        },
        "margin": {
         "t": 60
        },
        "scene": {
         "domain": {
          "x": [
           0,
           1
          ],
          "y": [
           0,
           1
          ]
         },
         "xaxis": {
          "title": {
           "text": "t"
          }
         },
         "yaxis": {
          "title": {
           "text": "c1"
          }
         },
         "zaxis": {
          "title": {
           "text": "c2"
          }
         }
        },
        "template": {
         "data": {
          "bar": [
           {
            "error_x": {
             "color": "#2a3f5f"
            },
            "error_y": {
             "color": "#2a3f5f"
            },
            "marker": {
             "line": {
              "color": "#E5ECF6",
              "width": 0.5
             },
             "pattern": {
              "fillmode": "overlay",
              "size": 10,
              "solidity": 0.2
             }
            },
            "type": "bar"
           }
          ],
          "barpolar": [
           {
            "marker": {
             "line": {
              "color": "#E5ECF6",
              "width": 0.5
             },
             "pattern": {
              "fillmode": "overlay",
              "size": 10,
              "solidity": 0.2
             }
            },
            "type": "barpolar"
           }
          ],
          "carpet": [
           {
            "aaxis": {
             "endlinecolor": "#2a3f5f",
             "gridcolor": "white",
             "linecolor": "white",
             "minorgridcolor": "white",
             "startlinecolor": "#2a3f5f"
            },
            "baxis": {
             "endlinecolor": "#2a3f5f",
             "gridcolor": "white",
             "linecolor": "white",
             "minorgridcolor": "white",
             "startlinecolor": "#2a3f5f"
            },
            "type": "carpet"
           }
          ],
          "choropleth": [
           {
            "colorbar": {
             "outlinewidth": 0,
             "ticks": ""
            },
            "type": "choropleth"
           }
          ],
          "contour": [
           {
            "colorbar": {
             "outlinewidth": 0,
             "ticks": ""
            },
            "colorscale": [
             [
              0,
              "#0d0887"
             ],
             [
              0.1111111111111111,
              "#46039f"
             ],
             [
              0.2222222222222222,
              "#7201a8"
             ],
             [
              0.3333333333333333,
              "#9c179e"
             ],
             [
              0.4444444444444444,
              "#bd3786"
             ],
             [
              0.5555555555555556,
              "#d8576b"
             ],
             [
              0.6666666666666666,
              "#ed7953"
             ],
             [
              0.7777777777777778,
              "#fb9f3a"
             ],
             [
              0.8888888888888888,
              "#fdca26"
             ],
             [
              1,
              "#f0f921"
             ]
            ],
            "type": "contour"
           }
          ],
          "contourcarpet": [
           {
            "colorbar": {
             "outlinewidth": 0,
             "ticks": ""
            },
            "type": "contourcarpet"
           }
          ],
          "heatmap": [
           {
            "colorbar": {
             "outlinewidth": 0,
             "ticks": ""
            },
            "colorscale": [
             [
              0,
              "#0d0887"
             ],
             [
              0.1111111111111111,
              "#46039f"
             ],
             [
              0.2222222222222222,
              "#7201a8"
             ],
             [
              0.3333333333333333,
              "#9c179e"
             ],
             [
              0.4444444444444444,
              "#bd3786"
             ],
             [
              0.5555555555555556,
              "#d8576b"
             ],
             [
              0.6666666666666666,
              "#ed7953"
             ],
             [
              0.7777777777777778,
              "#fb9f3a"
             ],
             [
              0.8888888888888888,
              "#fdca26"
             ],
             [
              1,
              "#f0f921"
             ]
            ],
            "type": "heatmap"
           }
          ],
          "heatmapgl": [
           {
            "colorbar": {
             "outlinewidth": 0,
             "ticks": ""
            },
            "colorscale": [
             [
              0,
              "#0d0887"
             ],
             [
              0.1111111111111111,
              "#46039f"
             ],
             [
              0.2222222222222222,
              "#7201a8"
             ],
             [
              0.3333333333333333,
              "#9c179e"
             ],
             [
              0.4444444444444444,
              "#bd3786"
             ],
             [
              0.5555555555555556,
              "#d8576b"
             ],
             [
              0.6666666666666666,
              "#ed7953"
             ],
             [
              0.7777777777777778,
              "#fb9f3a"
             ],
             [
              0.8888888888888888,
              "#fdca26"
             ],
             [
              1,
              "#f0f921"
             ]
            ],
            "type": "heatmapgl"
           }
          ],
          "histogram": [
           {
            "marker": {
             "pattern": {
              "fillmode": "overlay",
              "size": 10,
              "solidity": 0.2
             }
            },
            "type": "histogram"
           }
          ],
          "histogram2d": [
           {
            "colorbar": {
             "outlinewidth": 0,
             "ticks": ""
            },
            "colorscale": [
             [
              0,
              "#0d0887"
             ],
             [
              0.1111111111111111,
              "#46039f"
             ],
             [
              0.2222222222222222,
              "#7201a8"
             ],
             [
              0.3333333333333333,
              "#9c179e"
             ],
             [
              0.4444444444444444,
              "#bd3786"
             ],
             [
              0.5555555555555556,
              "#d8576b"
             ],
             [
              0.6666666666666666,
              "#ed7953"
             ],
             [
              0.7777777777777778,
              "#fb9f3a"
             ],
             [
              0.8888888888888888,
              "#fdca26"
             ],
             [
              1,
              "#f0f921"
             ]
            ],
            "type": "histogram2d"
           }
          ],
          "histogram2dcontour": [
           {
            "colorbar": {
             "outlinewidth": 0,
             "ticks": ""
            },
            "colorscale": [
             [
              0,
              "#0d0887"
             ],
             [
              0.1111111111111111,
              "#46039f"
             ],
             [
              0.2222222222222222,
              "#7201a8"
             ],
             [
              0.3333333333333333,
              "#9c179e"
             ],
             [
              0.4444444444444444,
              "#bd3786"
             ],
             [
              0.5555555555555556,
              "#d8576b"
             ],
             [
              0.6666666666666666,
              "#ed7953"
             ],
             [
              0.7777777777777778,
              "#fb9f3a"
             ],
             [
              0.8888888888888888,
              "#fdca26"
             ],
             [
              1,
              "#f0f921"
             ]
            ],
            "type": "histogram2dcontour"
           }
          ],
          "mesh3d": [
           {
            "colorbar": {
             "outlinewidth": 0,
             "ticks": ""
            },
            "type": "mesh3d"
           }
          ],
          "parcoords": [
           {
            "line": {
             "colorbar": {
              "outlinewidth": 0,
              "ticks": ""
             }
            },
            "type": "parcoords"
           }
          ],
          "pie": [
           {
            "automargin": true,
            "type": "pie"
           }
          ],
          "scatter": [
           {
            "fillpattern": {
             "fillmode": "overlay",
             "size": 10,
             "solidity": 0.2
            },
            "type": "scatter"
           }
          ],
          "scatter3d": [
           {
            "line": {
             "colorbar": {
              "outlinewidth": 0,
              "ticks": ""
             }
            },
            "marker": {
             "colorbar": {
              "outlinewidth": 0,
              "ticks": ""
             }
            },
            "type": "scatter3d"
           }
          ],
          "scattercarpet": [
           {
            "marker": {
             "colorbar": {
              "outlinewidth": 0,
              "ticks": ""
             }
            },
            "type": "scattercarpet"
           }
          ],
          "scattergeo": [
           {
            "marker": {
             "colorbar": {
              "outlinewidth": 0,
              "ticks": ""
             }
            },
            "type": "scattergeo"
           }
          ],
          "scattergl": [
           {
            "marker": {
             "colorbar": {
              "outlinewidth": 0,
              "ticks": ""
             }
            },
            "type": "scattergl"
           }
          ],
          "scattermapbox": [
           {
            "marker": {
             "colorbar": {
              "outlinewidth": 0,
              "ticks": ""
             }
            },
            "type": "scattermapbox"
           }
          ],
          "scatterpolar": [
           {
            "marker": {
             "colorbar": {
              "outlinewidth": 0,
              "ticks": ""
             }
            },
            "type": "scatterpolar"
           }
          ],
          "scatterpolargl": [
           {
            "marker": {
             "colorbar": {
              "outlinewidth": 0,
              "ticks": ""
             }
            },
            "type": "scatterpolargl"
           }
          ],
          "scatterternary": [
           {
            "marker": {
             "colorbar": {
              "outlinewidth": 0,
              "ticks": ""
             }
            },
            "type": "scatterternary"
           }
          ],
          "surface": [
           {
            "colorbar": {
             "outlinewidth": 0,
             "ticks": ""
            },
            "colorscale": [
             [
              0,
              "#0d0887"
             ],
             [
              0.1111111111111111,
              "#46039f"
             ],
             [
              0.2222222222222222,
              "#7201a8"
             ],
             [
              0.3333333333333333,
              "#9c179e"
             ],
             [
              0.4444444444444444,
              "#bd3786"
             ],
             [
              0.5555555555555556,
              "#d8576b"
             ],
             [
              0.6666666666666666,
              "#ed7953"
             ],
             [
              0.7777777777777778,
              "#fb9f3a"
             ],
             [
              0.8888888888888888,
              "#fdca26"
             ],
             [
              1,
              "#f0f921"
             ]
            ],
            "type": "surface"
           }
          ],
          "table": [
           {
            "cells": {
             "fill": {
              "color": "#EBF0F8"
             },
             "line": {
              "color": "white"
             }
            },
            "header": {
             "fill": {
              "color": "#C8D4E3"
             },
             "line": {
              "color": "white"
             }
            },
            "type": "table"
           }
          ]
         },
         "layout": {
          "annotationdefaults": {
           "arrowcolor": "#2a3f5f",
           "arrowhead": 0,
           "arrowwidth": 1
          },
          "autotypenumbers": "strict",
          "coloraxis": {
           "colorbar": {
            "outlinewidth": 0,
            "ticks": ""
           }
          },
          "colorscale": {
           "diverging": [
            [
             0,
             "#8e0152"
            ],
            [
             0.1,
             "#c51b7d"
            ],
            [
             0.2,
             "#de77ae"
            ],
            [
             0.3,
             "#f1b6da"
            ],
            [
             0.4,
             "#fde0ef"
            ],
            [
             0.5,
             "#f7f7f7"
            ],
            [
             0.6,
             "#e6f5d0"
            ],
            [
             0.7,
             "#b8e186"
            ],
            [
             0.8,
             "#7fbc41"
            ],
            [
             0.9,
             "#4d9221"
            ],
            [
             1,
             "#276419"
            ]
           ],
           "sequential": [
            [
             0,
             "#0d0887"
            ],
            [
             0.1111111111111111,
             "#46039f"
            ],
            [
             0.2222222222222222,
             "#7201a8"
            ],
            [
             0.3333333333333333,
             "#9c179e"
            ],
            [
             0.4444444444444444,
             "#bd3786"
            ],
            [
             0.5555555555555556,
             "#d8576b"
            ],
            [
             0.6666666666666666,
             "#ed7953"
            ],
            [
             0.7777777777777778,
             "#fb9f3a"
            ],
            [
             0.8888888888888888,
             "#fdca26"
            ],
            [
             1,
             "#f0f921"
            ]
           ],
           "sequentialminus": [
            [
             0,
             "#0d0887"
            ],
            [
             0.1111111111111111,
             "#46039f"
            ],
            [
             0.2222222222222222,
             "#7201a8"
            ],
            [
             0.3333333333333333,
             "#9c179e"
            ],
            [
             0.4444444444444444,
             "#bd3786"
            ],
            [
             0.5555555555555556,
             "#d8576b"
            ],
            [
             0.6666666666666666,
             "#ed7953"
            ],
            [
             0.7777777777777778,
             "#fb9f3a"
            ],
            [
             0.8888888888888888,
             "#fdca26"
            ],
            [
             1,
             "#f0f921"
            ]
           ]
          },
          "colorway": [
           "#636efa",
           "#EF553B",
           "#00cc96",
           "#ab63fa",
           "#FFA15A",
           "#19d3f3",
           "#FF6692",
           "#B6E880",
           "#FF97FF",
           "#FECB52"
          ],
          "font": {
           "color": "#2a3f5f"
          },
          "geo": {
           "bgcolor": "white",
           "lakecolor": "white",
           "landcolor": "#E5ECF6",
           "showlakes": true,
           "showland": true,
           "subunitcolor": "white"
          },
          "hoverlabel": {
           "align": "left"
          },
          "hovermode": "closest",
          "mapbox": {
           "style": "light"
          },
          "paper_bgcolor": "white",
          "plot_bgcolor": "#E5ECF6",
          "polar": {
           "angularaxis": {
            "gridcolor": "white",
            "linecolor": "white",
            "ticks": ""
           },
           "bgcolor": "#E5ECF6",
           "radialaxis": {
            "gridcolor": "white",
            "linecolor": "white",
            "ticks": ""
           }
          },
          "scene": {
           "xaxis": {
            "backgroundcolor": "#E5ECF6",
            "gridcolor": "white",
            "gridwidth": 2,
            "linecolor": "white",
            "showbackground": true,
            "ticks": "",
            "zerolinecolor": "white"
           },
           "yaxis": {
            "backgroundcolor": "#E5ECF6",
            "gridcolor": "white",
            "gridwidth": 2,
            "linecolor": "white",
            "showbackground": true,
            "ticks": "",
            "zerolinecolor": "white"
           },
           "zaxis": {
            "backgroundcolor": "#E5ECF6",
            "gridcolor": "white",
            "gridwidth": 2,
            "linecolor": "white",
            "showbackground": true,
            "ticks": "",
            "zerolinecolor": "white"
           }
          },
          "shapedefaults": {
           "line": {
            "color": "#2a3f5f"
           }
          },
          "ternary": {
           "aaxis": {
            "gridcolor": "white",
            "linecolor": "white",
            "ticks": ""
           },
           "baxis": {
            "gridcolor": "white",
            "linecolor": "white",
            "ticks": ""
           },
           "bgcolor": "#E5ECF6",
           "caxis": {
            "gridcolor": "white",
            "linecolor": "white",
            "ticks": ""
           }
          },
          "title": {
           "x": 0.05
          },
          "xaxis": {
           "automargin": true,
           "gridcolor": "white",
           "linecolor": "white",
           "ticks": "",
           "title": {
            "standoff": 15
           },
           "zerolinecolor": "white",
           "zerolinewidth": 2
          },
          "yaxis": {
           "automargin": true,
           "gridcolor": "white",
           "linecolor": "white",
           "ticks": "",
           "title": {
            "standoff": 15
           },
           "zerolinecolor": "white",
           "zerolinewidth": 2
          }
         }
        }
       }
      },
      "text/html": [
       "<div>                            <div id=\"e9093f8e-6c36-4949-9581-ac2bfcef6158\" class=\"plotly-graph-div\" style=\"height:525px; width:100%;\"></div>            <script type=\"text/javascript\">                require([\"plotly\"], function(Plotly) {                    window.PLOTLYENV=window.PLOTLYENV || {};                                    if (document.getElementById(\"e9093f8e-6c36-4949-9581-ac2bfcef6158\")) {                    Plotly.newPlot(                        \"e9093f8e-6c36-4949-9581-ac2bfcef6158\",                        [{\"hovertemplate\":\"geohash2=u0f_0<br>t=%{x}<br>c1=%{y}<br>c2=%{z}<extra></extra>\",\"legendgroup\":\"u0f_0\",\"line\":{\"color\":\"#636efa\",\"dash\":\"solid\"},\"marker\":{\"symbol\":\"circle\"},\"mode\":\"lines\",\"name\":\"u0f_0\",\"scene\":\"scene\",\"showlegend\":true,\"x\":[0,46,48,59,60,71,78,80,82,88,96,97,106,117,118,122,123,125,129,130,134,141,143,145,148,154,161,164,166,175,178,180,185,189,191,192,194,196,201,228,237,240,242,245,247,249,261,263,267,268,274,275,277,284,286,288,290,294,297,300,302,309,311,313,316,318,320,322,323,329,330,334,339,341,341,342,342,343,347,352,354,356,358,359,361,363,364,366,370,371,373,377,379,380,384,386,387,389,391,393,395,396,405,407,410,414,416,418,419,421,430,432,434,435,439,441,443,453,461,465,467,479,483,485,487,489,491,493,494,497,499,501,503,505,506,509,511,513,515,517,519,521,523,525,527,529,531,533,537,538,540,542,544,549,550,558,564,566,568,570,572,574,576,580,582,584,586,592,594,598,600,602,604,606,609,611,614,617,623,627,629,635,637,639,643,645,647,649,651,653,655,659,661,665,669,671,673,677,681,692,694,696,697,699,708,710,712],\"y\":[50.145,50.1267,50.1243,50.1234,50.1222,50.13,50.1456,50.1408,50.1366,50.1342,50.1333,50.1321,50.1327,50.1318,50.1312,50.1303,50.1327,50.1336,50.1312,50.127,50.1306,50.1294,50.1267,50.1444,50.1456,50.1426,50.1483,50.1312,50.1351,50.121,50.1207,50.1216,50.157,50.1561,50.1456,50.1462,50.1408,50.1417,50.1405,50.1303,50.1285,50.1267,50.127,50.1267,50.1267,50.1264,50.1306,50.1324,50.1294,50.1285,50.1285,50.1288,50.1285,50.1282,50.1291,50.1282,50.1282,50.1285,50.1279,50.1273,50.1264,50.1255,50.1252,50.1255,50.124,50.124,50.1252,50.1246,50.1258,50.1249,50.1255,50.1258,50.124,50.1237,50.124,50.1243,50.1246,50.1255,50.1258,50.1258,50.1255,50.1258,50.1258,50.1255,50.1291,50.1267,50.1297,50.1291,50.1291,50.1297,50.1249,50.1288,50.1297,50.1276,50.1264,50.1225,50.1222,50.1222,50.1231,50.1237,50.1228,50.1237,50.124,50.1237,50.1252,50.1222,50.1213,50.1258,50.1255,50.1318,50.133,50.1324,50.1327,50.1324,50.1348,50.1321,50.1324,50.1336,50.1345,50.1342,50.1348,50.1351,50.1351,50.1369,50.1363,50.136,50.1351,50.1345,50.1345,50.1354,50.1348,50.1354,50.1357,50.136,50.1354,50.1366,50.1372,50.1366,50.1357,50.1348,50.1351,50.1348,50.1357,50.1354,50.1348,50.1345,50.1348,50.1351,50.1345,50.1348,50.1345,50.1345,50.1348,50.1357,50.1315,50.1309,50.1318,50.1297,50.1294,50.1303,50.1303,50.1297,50.1306,50.1297,50.13,50.1306,50.1306,50.1321,50.1315,50.1324,50.1324,50.1336,50.1333,50.1333,50.1333,50.1339,50.1324,50.1318,50.1297,50.13,50.1291,50.1297,50.1291,50.1285,50.1294,50.1291,50.1327,50.133,50.133,50.133,50.1318,50.1318,50.1333,50.1333,50.1333,50.1309,50.1309,50.1306,50.1297,50.1309,50.1294,50.1303,50.1267,50.1297,50.1303,50.1309,50.13],\"z\":[3.77175,3.77475,3.77595,3.77505,3.77295,3.78345,3.77385,3.77055,3.76845,3.76245,3.76095,3.76035,3.76185,3.75915,3.75945,3.76185,3.75945,3.76215,3.76365,3.76335,3.76905,3.76695,3.76395,3.76875,3.76935,3.76575,3.76725,3.76335,3.76275,3.76815,3.76575,3.76785,3.77655,3.77745,3.77145,3.77595,3.77175,3.77235,3.77145,3.76935,3.76605,3.76665,3.76665,3.76365,3.76605,3.76545,3.76335,3.75825,3.75405,3.75435,3.75405,3.75285,3.75315,3.75375,3.75285,3.75225,3.75165,3.75195,3.75225,3.75435,3.75135,3.75225,3.75195,3.75195,3.74985,3.75255,3.75225,3.75135,3.75165,3.75015,3.75135,3.75225,3.75105,3.75165,3.75135,3.75255,3.75255,3.75255,3.75315,3.75285,3.75165,3.75135,3.75165,3.75375,3.75315,3.75165,3.75435,3.75345,3.75255,3.75255,3.75255,3.75285,3.75165,3.75765,3.75255,3.75555,3.75465,3.75495,3.75495,3.75495,3.75405,3.75315,3.75465,3.75405,3.75495,3.75345,3.75255,3.75225,3.75195,3.75405,3.75435,3.75345,3.75405,3.75435,3.75435,3.75825,3.75945,3.76125,3.76365,3.76365,3.76275,3.76335,3.76305,3.76725,3.76755,3.76695,3.76635,3.76695,3.76755,3.76785,3.76725,3.76635,3.76995,3.76845,3.76665,3.76785,3.76905,3.76575,3.76875,3.76935,3.76875,3.76845,3.76905,3.76875,3.76935,3.77025,3.77055,3.77055,3.77025,3.76965,3.76995,3.76965,3.76875,3.77175,3.76905,3.77175,3.77175,3.76755,3.76725,3.76665,3.76635,3.76605,3.76425,3.76305,3.76395,3.76425,3.76365,3.76245,3.76125,3.76335,3.76065,3.76245,3.76185,3.76125,3.76005,3.76275,3.76305,3.76275,3.76635,3.76605,3.76305,3.76815,3.76695,3.76605,3.76665,3.76725,3.76065,3.76035,3.76035,3.76065,3.76005,3.76095,3.76035,3.76095,3.76185,3.76845,3.76785,3.76935,3.76845,3.76875,3.76875,3.76305,3.76905,3.76755,3.76845,3.76635,3.76695],\"type\":\"scatter3d\"}],                        {\"template\":{\"data\":{\"histogram2dcontour\":[{\"type\":\"histogram2dcontour\",\"colorbar\":{\"outlinewidth\":0,\"ticks\":\"\"},\"colorscale\":[[0.0,\"#0d0887\"],[0.1111111111111111,\"#46039f\"],[0.2222222222222222,\"#7201a8\"],[0.3333333333333333,\"#9c179e\"],[0.4444444444444444,\"#bd3786\"],[0.5555555555555556,\"#d8576b\"],[0.6666666666666666,\"#ed7953\"],[0.7777777777777778,\"#fb9f3a\"],[0.8888888888888888,\"#fdca26\"],[1.0,\"#f0f921\"]]}],\"choropleth\":[{\"type\":\"choropleth\",\"colorbar\":{\"outlinewidth\":0,\"ticks\":\"\"}}],\"histogram2d\":[{\"type\":\"histogram2d\",\"colorbar\":{\"outlinewidth\":0,\"ticks\":\"\"},\"colorscale\":[[0.0,\"#0d0887\"],[0.1111111111111111,\"#46039f\"],[0.2222222222222222,\"#7201a8\"],[0.3333333333333333,\"#9c179e\"],[0.4444444444444444,\"#bd3786\"],[0.5555555555555556,\"#d8576b\"],[0.6666666666666666,\"#ed7953\"],[0.7777777777777778,\"#fb9f3a\"],[0.8888888888888888,\"#fdca26\"],[1.0,\"#f0f921\"]]}],\"heatmap\":[{\"type\":\"heatmap\",\"colorbar\":{\"outlinewidth\":0,\"ticks\":\"\"},\"colorscale\":[[0.0,\"#0d0887\"],[0.1111111111111111,\"#46039f\"],[0.2222222222222222,\"#7201a8\"],[0.3333333333333333,\"#9c179e\"],[0.4444444444444444,\"#bd3786\"],[0.5555555555555556,\"#d8576b\"],[0.6666666666666666,\"#ed7953\"],[0.7777777777777778,\"#fb9f3a\"],[0.8888888888888888,\"#fdca26\"],[1.0,\"#f0f921\"]]}],\"heatmapgl\":[{\"type\":\"heatmapgl\",\"colorbar\":{\"outlinewidth\":0,\"ticks\":\"\"},\"colorscale\":[[0.0,\"#0d0887\"],[0.1111111111111111,\"#46039f\"],[0.2222222222222222,\"#7201a8\"],[0.3333333333333333,\"#9c179e\"],[0.4444444444444444,\"#bd3786\"],[0.5555555555555556,\"#d8576b\"],[0.6666666666666666,\"#ed7953\"],[0.7777777777777778,\"#fb9f3a\"],[0.8888888888888888,\"#fdca26\"],[1.0,\"#f0f921\"]]}],\"contourcarpet\":[{\"type\":\"contourcarpet\",\"colorbar\":{\"outlinewidth\":0,\"ticks\":\"\"}}],\"contour\":[{\"type\":\"contour\",\"colorbar\":{\"outlinewidth\":0,\"ticks\":\"\"},\"colorscale\":[[0.0,\"#0d0887\"],[0.1111111111111111,\"#46039f\"],[0.2222222222222222,\"#7201a8\"],[0.3333333333333333,\"#9c179e\"],[0.4444444444444444,\"#bd3786\"],[0.5555555555555556,\"#d8576b\"],[0.6666666666666666,\"#ed7953\"],[0.7777777777777778,\"#fb9f3a\"],[0.8888888888888888,\"#fdca26\"],[1.0,\"#f0f921\"]]}],\"surface\":[{\"type\":\"surface\",\"colorbar\":{\"outlinewidth\":0,\"ticks\":\"\"},\"colorscale\":[[0.0,\"#0d0887\"],[0.1111111111111111,\"#46039f\"],[0.2222222222222222,\"#7201a8\"],[0.3333333333333333,\"#9c179e\"],[0.4444444444444444,\"#bd3786\"],[0.5555555555555556,\"#d8576b\"],[0.6666666666666666,\"#ed7953\"],[0.7777777777777778,\"#fb9f3a\"],[0.8888888888888888,\"#fdca26\"],[1.0,\"#f0f921\"]]}],\"mesh3d\":[{\"type\":\"mesh3d\",\"colorbar\":{\"outlinewidth\":0,\"ticks\":\"\"}}],\"scatter\":[{\"fillpattern\":{\"fillmode\":\"overlay\",\"size\":10,\"solidity\":0.2},\"type\":\"scatter\"}],\"parcoords\":[{\"type\":\"parcoords\",\"line\":{\"colorbar\":{\"outlinewidth\":0,\"ticks\":\"\"}}}],\"scatterpolargl\":[{\"type\":\"scatterpolargl\",\"marker\":{\"colorbar\":{\"outlinewidth\":0,\"ticks\":\"\"}}}],\"bar\":[{\"error_x\":{\"color\":\"#2a3f5f\"},\"error_y\":{\"color\":\"#2a3f5f\"},\"marker\":{\"line\":{\"color\":\"#E5ECF6\",\"width\":0.5},\"pattern\":{\"fillmode\":\"overlay\",\"size\":10,\"solidity\":0.2}},\"type\":\"bar\"}],\"scattergeo\":[{\"type\":\"scattergeo\",\"marker\":{\"colorbar\":{\"outlinewidth\":0,\"ticks\":\"\"}}}],\"scatterpolar\":[{\"type\":\"scatterpolar\",\"marker\":{\"colorbar\":{\"outlinewidth\":0,\"ticks\":\"\"}}}],\"histogram\":[{\"marker\":{\"pattern\":{\"fillmode\":\"overlay\",\"size\":10,\"solidity\":0.2}},\"type\":\"histogram\"}],\"scattergl\":[{\"type\":\"scattergl\",\"marker\":{\"colorbar\":{\"outlinewidth\":0,\"ticks\":\"\"}}}],\"scatter3d\":[{\"type\":\"scatter3d\",\"line\":{\"colorbar\":{\"outlinewidth\":0,\"ticks\":\"\"}},\"marker\":{\"colorbar\":{\"outlinewidth\":0,\"ticks\":\"\"}}}],\"scattermapbox\":[{\"type\":\"scattermapbox\",\"marker\":{\"colorbar\":{\"outlinewidth\":0,\"ticks\":\"\"}}}],\"scatterternary\":[{\"type\":\"scatterternary\",\"marker\":{\"colorbar\":{\"outlinewidth\":0,\"ticks\":\"\"}}}],\"scattercarpet\":[{\"type\":\"scattercarpet\",\"marker\":{\"colorbar\":{\"outlinewidth\":0,\"ticks\":\"\"}}}],\"carpet\":[{\"aaxis\":{\"endlinecolor\":\"#2a3f5f\",\"gridcolor\":\"white\",\"linecolor\":\"white\",\"minorgridcolor\":\"white\",\"startlinecolor\":\"#2a3f5f\"},\"baxis\":{\"endlinecolor\":\"#2a3f5f\",\"gridcolor\":\"white\",\"linecolor\":\"white\",\"minorgridcolor\":\"white\",\"startlinecolor\":\"#2a3f5f\"},\"type\":\"carpet\"}],\"table\":[{\"cells\":{\"fill\":{\"color\":\"#EBF0F8\"},\"line\":{\"color\":\"white\"}},\"header\":{\"fill\":{\"color\":\"#C8D4E3\"},\"line\":{\"color\":\"white\"}},\"type\":\"table\"}],\"barpolar\":[{\"marker\":{\"line\":{\"color\":\"#E5ECF6\",\"width\":0.5},\"pattern\":{\"fillmode\":\"overlay\",\"size\":10,\"solidity\":0.2}},\"type\":\"barpolar\"}],\"pie\":[{\"automargin\":true,\"type\":\"pie\"}]},\"layout\":{\"autotypenumbers\":\"strict\",\"colorway\":[\"#636efa\",\"#EF553B\",\"#00cc96\",\"#ab63fa\",\"#FFA15A\",\"#19d3f3\",\"#FF6692\",\"#B6E880\",\"#FF97FF\",\"#FECB52\"],\"font\":{\"color\":\"#2a3f5f\"},\"hovermode\":\"closest\",\"hoverlabel\":{\"align\":\"left\"},\"paper_bgcolor\":\"white\",\"plot_bgcolor\":\"#E5ECF6\",\"polar\":{\"bgcolor\":\"#E5ECF6\",\"angularaxis\":{\"gridcolor\":\"white\",\"linecolor\":\"white\",\"ticks\":\"\"},\"radialaxis\":{\"gridcolor\":\"white\",\"linecolor\":\"white\",\"ticks\":\"\"}},\"ternary\":{\"bgcolor\":\"#E5ECF6\",\"aaxis\":{\"gridcolor\":\"white\",\"linecolor\":\"white\",\"ticks\":\"\"},\"baxis\":{\"gridcolor\":\"white\",\"linecolor\":\"white\",\"ticks\":\"\"},\"caxis\":{\"gridcolor\":\"white\",\"linecolor\":\"white\",\"ticks\":\"\"}},\"coloraxis\":{\"colorbar\":{\"outlinewidth\":0,\"ticks\":\"\"}},\"colorscale\":{\"sequential\":[[0.0,\"#0d0887\"],[0.1111111111111111,\"#46039f\"],[0.2222222222222222,\"#7201a8\"],[0.3333333333333333,\"#9c179e\"],[0.4444444444444444,\"#bd3786\"],[0.5555555555555556,\"#d8576b\"],[0.6666666666666666,\"#ed7953\"],[0.7777777777777778,\"#fb9f3a\"],[0.8888888888888888,\"#fdca26\"],[1.0,\"#f0f921\"]],\"sequentialminus\":[[0.0,\"#0d0887\"],[0.1111111111111111,\"#46039f\"],[0.2222222222222222,\"#7201a8\"],[0.3333333333333333,\"#9c179e\"],[0.4444444444444444,\"#bd3786\"],[0.5555555555555556,\"#d8576b\"],[0.6666666666666666,\"#ed7953\"],[0.7777777777777778,\"#fb9f3a\"],[0.8888888888888888,\"#fdca26\"],[1.0,\"#f0f921\"]],\"diverging\":[[0,\"#8e0152\"],[0.1,\"#c51b7d\"],[0.2,\"#de77ae\"],[0.3,\"#f1b6da\"],[0.4,\"#fde0ef\"],[0.5,\"#f7f7f7\"],[0.6,\"#e6f5d0\"],[0.7,\"#b8e186\"],[0.8,\"#7fbc41\"],[0.9,\"#4d9221\"],[1,\"#276419\"]]},\"xaxis\":{\"gridcolor\":\"white\",\"linecolor\":\"white\",\"ticks\":\"\",\"title\":{\"standoff\":15},\"zerolinecolor\":\"white\",\"automargin\":true,\"zerolinewidth\":2},\"yaxis\":{\"gridcolor\":\"white\",\"linecolor\":\"white\",\"ticks\":\"\",\"title\":{\"standoff\":15},\"zerolinecolor\":\"white\",\"automargin\":true,\"zerolinewidth\":2},\"scene\":{\"xaxis\":{\"backgroundcolor\":\"#E5ECF6\",\"gridcolor\":\"white\",\"linecolor\":\"white\",\"showbackground\":true,\"ticks\":\"\",\"zerolinecolor\":\"white\",\"gridwidth\":2},\"yaxis\":{\"backgroundcolor\":\"#E5ECF6\",\"gridcolor\":\"white\",\"linecolor\":\"white\",\"showbackground\":true,\"ticks\":\"\",\"zerolinecolor\":\"white\",\"gridwidth\":2},\"zaxis\":{\"backgroundcolor\":\"#E5ECF6\",\"gridcolor\":\"white\",\"linecolor\":\"white\",\"showbackground\":true,\"ticks\":\"\",\"zerolinecolor\":\"white\",\"gridwidth\":2}},\"shapedefaults\":{\"line\":{\"color\":\"#2a3f5f\"}},\"annotationdefaults\":{\"arrowcolor\":\"#2a3f5f\",\"arrowhead\":0,\"arrowwidth\":1},\"geo\":{\"bgcolor\":\"white\",\"landcolor\":\"#E5ECF6\",\"subunitcolor\":\"white\",\"showland\":true,\"showlakes\":true,\"lakecolor\":\"white\"},\"title\":{\"x\":0.05},\"mapbox\":{\"style\":\"light\"}}},\"scene\":{\"domain\":{\"x\":[0.0,1.0],\"y\":[0.0,1.0]},\"xaxis\":{\"title\":{\"text\":\"t\"}},\"yaxis\":{\"title\":{\"text\":\"c1\"}},\"zaxis\":{\"title\":{\"text\":\"c2\"}}},\"legend\":{\"title\":{\"text\":\"geohash2\"},\"tracegroupgap\":0},\"margin\":{\"t\":60}},                        {\"responsive\": true}                    ).then(function(){\n",
       "                            \n",
       "var gd = document.getElementById('e9093f8e-6c36-4949-9581-ac2bfcef6158');\n",
       "var x = new MutationObserver(function (mutations, observer) {{\n",
       "        var display = window.getComputedStyle(gd).display;\n",
       "        if (!display || display === 'none') {{\n",
       "            console.log([gd, 'removed!']);\n",
       "            Plotly.purge(gd);\n",
       "            observer.disconnect();\n",
       "        }}\n",
       "}});\n",
       "\n",
       "// Listen for the removal of the full notebook cells\n",
       "var notebookContainer = gd.closest('#notebook-container');\n",
       "if (notebookContainer) {{\n",
       "    x.observe(notebookContainer, {childList: true});\n",
       "}}\n",
       "\n",
       "// Listen for the clearing of the current output cell\n",
       "var outputEl = gd.closest('.output');\n",
       "if (outputEl) {{\n",
       "    x.observe(outputEl, {childList: true});\n",
       "}}\n",
       "\n",
       "                        })                };                });            </script>        </div>"
      ]
     },
     "metadata": {},
     "output_type": "display_data"
    }
   ],
   "source": [
    "px.line_3d(df[df.tid == 1], x=\"t\", y=\"c1\", z=\"c2\", color=\"geohash2\")"
   ]
  },
  {
   "cell_type": "code",
   "execution_count": 39,
   "metadata": {
    "pycharm": {
     "name": "#%%\n"
    }
   },
   "outputs": [
    {
     "data": {
      "application/vnd.plotly.v1+json": {
       "config": {
        "plotlyServerURL": "https://plot.ly"
       },
       "data": [
        {
         "hovertemplate": "geohash2=u0f_0<br>t=%{x}<br>lat_norm=%{y}<br>lon_norm=%{z}<extra></extra>",
         "legendgroup": "u0f_0",
         "line": {
          "color": "#636efa",
          "dash": "solid"
         },
         "marker": {
          "symbol": "circle"
         },
         "mode": "lines",
         "name": "u0f_0",
         "scene": "scene",
         "showlegend": true,
         "type": "scatter3d",
         "x": [
          0,
          46,
          48,
          59,
          60,
          71,
          78,
          80,
          82,
          88,
          96,
          97,
          106,
          117,
          118,
          122,
          123,
          125,
          129,
          130,
          134,
          141,
          143,
          145,
          148,
          154,
          161,
          164,
          166,
          175,
          178,
          180,
          185,
          189,
          191,
          192,
          194,
          196,
          201,
          228,
          237,
          240,
          242,
          245,
          247,
          249,
          261,
          263,
          267,
          268,
          274,
          275,
          277,
          284,
          286,
          288,
          290,
          294,
          297,
          300,
          302,
          309,
          311,
          313,
          316,
          318,
          320,
          322,
          323,
          329,
          330,
          334,
          339,
          341,
          341,
          342,
          342,
          343,
          347,
          352,
          354,
          356,
          358,
          359,
          361,
          363,
          364,
          366,
          370,
          371,
          373,
          377,
          379,
          380,
          384,
          386,
          387,
          389,
          391,
          393,
          395,
          396,
          405,
          407,
          410,
          414,
          416,
          418,
          419,
          421,
          430,
          432,
          434,
          435,
          439,
          441,
          443,
          453,
          461,
          465,
          467,
          479,
          483,
          485,
          487,
          489,
          491,
          493,
          494,
          497,
          499,
          501,
          503,
          505,
          506,
          509,
          511,
          513,
          515,
          517,
          519,
          521,
          523,
          525,
          527,
          529,
          531,
          533,
          537,
          538,
          540,
          542,
          544,
          549,
          550,
          558,
          564,
          566,
          568,
          570,
          572,
          574,
          576,
          580,
          582,
          584,
          586,
          592,
          594,
          598,
          600,
          602,
          604,
          606,
          609,
          611,
          614,
          617,
          623,
          627,
          629,
          635,
          637,
          639,
          643,
          645,
          647,
          649,
          651,
          653,
          655,
          659,
          661,
          665,
          669,
          671,
          673,
          677,
          681,
          692,
          694,
          696,
          697,
          699,
          708,
          710,
          712
         ],
         "y": [
          0.9262500000000031,
          0.9079499999999996,
          0.9055499999999981,
          0.9046499999999966,
          0.9034499999999994,
          0.9112500000000026,
          0.9268500000000017,
          0.9220499999999987,
          0.9178500000000014,
          0.9154499999999999,
          0.9145499999999984,
          0.9133500000000012,
          0.9139499999999998,
          0.9130499999999984,
          0.9124499999999998,
          0.9115499999999983,
          0.9139499999999998,
          0.9148500000000013,
          0.9124499999999998,
          0.9082500000000024,
          0.9118500000000012,
          0.9106499999999969,
          0.9079499999999996,
          0.9256499999999974,
          0.9268500000000017,
          0.9238500000000016,
          0.929549999999999,
          0.9124499999999998,
          0.9163500000000013,
          0.9022500000000022,
          0.9019499999999994,
          0.9028500000000008,
          0.9382499999999965,
          0.9373500000000021,
          0.9268500000000017,
          0.9274500000000003,
          0.9220499999999987,
          0.9229500000000002,
          0.921750000000003,
          0.9115499999999983,
          0.9097500000000025,
          0.9079499999999996,
          0.9082500000000024,
          0.9079499999999996,
          0.9079499999999996,
          0.9076499999999967,
          0.9118500000000012,
          0.913649999999997,
          0.9106499999999969,
          0.9097500000000025,
          0.9097500000000025,
          0.9100499999999982,
          0.9097500000000025,
          0.9094499999999996,
          0.9103500000000011,
          0.9094499999999996,
          0.9094499999999996,
          0.9097500000000025,
          0.9091499999999968,
          0.9085499999999982,
          0.9076499999999967,
          0.9067500000000024,
          0.9064499999999995,
          0.9067500000000024,
          0.9052500000000023,
          0.9052500000000023,
          0.9064499999999995,
          0.9058500000000009,
          0.9070499999999981,
          0.9061499999999967,
          0.9067500000000024,
          0.9070499999999981,
          0.9052500000000023,
          0.9049499999999995,
          0.9052500000000023,
          0.9055499999999981,
          0.9058500000000009,
          0.9067500000000024,
          0.9070499999999981,
          0.9070499999999981,
          0.9067500000000024,
          0.9070499999999981,
          0.9070499999999981,
          0.9067500000000024,
          0.9103500000000011,
          0.9079499999999996,
          0.9109499999999997,
          0.9103500000000011,
          0.9103500000000011,
          0.9109499999999997,
          0.9061499999999967,
          0.9100499999999982,
          0.9109499999999997,
          0.908850000000001,
          0.9076499999999967,
          0.9037500000000023,
          0.9034499999999994,
          0.9034499999999994,
          0.9043500000000009,
          0.9049499999999995,
          0.904049999999998,
          0.9049499999999995,
          0.9052500000000023,
          0.9049499999999995,
          0.9064499999999995,
          0.9034499999999994,
          0.902549999999998,
          0.9070499999999981,
          0.9067500000000024,
          0.9130499999999984,
          0.9142500000000027,
          0.913649999999997,
          0.9139499999999998,
          0.913649999999997,
          0.9160499999999985,
          0.9133500000000012,
          0.913649999999997,
          0.9148500000000013,
          0.9157500000000027,
          0.9154499999999999,
          0.9160499999999985,
          0.9163500000000013,
          0.9163500000000013,
          0.9181499999999971,
          0.9175499999999985,
          0.9172500000000028,
          0.9163500000000013,
          0.9157500000000027,
          0.9157500000000027,
          0.9166499999999971,
          0.9160499999999985,
          0.9166499999999971,
          0.9169499999999999,
          0.9172500000000028,
          0.9166499999999971,
          0.9178500000000014,
          0.91845,
          0.9178500000000014,
          0.9169499999999999,
          0.9160499999999985,
          0.9163500000000013,
          0.9160499999999985,
          0.9169499999999999,
          0.9166499999999971,
          0.9160499999999985,
          0.9157500000000027,
          0.9160499999999985,
          0.9163500000000013,
          0.9157500000000027,
          0.9160499999999985,
          0.9157500000000027,
          0.9157500000000027,
          0.9160499999999985,
          0.9169499999999999,
          0.9127500000000026,
          0.9121499999999969,
          0.9130499999999984,
          0.9109499999999997,
          0.9106499999999969,
          0.9115499999999983,
          0.9115499999999983,
          0.9109499999999997,
          0.9118500000000012,
          0.9109499999999997,
          0.9112500000000026,
          0.9118500000000012,
          0.9118500000000012,
          0.9133500000000012,
          0.9127500000000026,
          0.913649999999997,
          0.913649999999997,
          0.9148500000000013,
          0.9145499999999984,
          0.9145499999999984,
          0.9145499999999984,
          0.915149999999997,
          0.913649999999997,
          0.9130499999999984,
          0.9109499999999997,
          0.9112500000000026,
          0.9103500000000011,
          0.9109499999999997,
          0.9103500000000011,
          0.9097500000000025,
          0.9106499999999969,
          0.9103500000000011,
          0.9139499999999998,
          0.9142500000000027,
          0.9142500000000027,
          0.9142500000000027,
          0.9130499999999984,
          0.9130499999999984,
          0.9145499999999984,
          0.9145499999999984,
          0.9145499999999984,
          0.9121499999999969,
          0.9121499999999969,
          0.9118500000000012,
          0.9109499999999997,
          0.9121499999999969,
          0.9106499999999969,
          0.9115499999999983,
          0.9079499999999996,
          0.9109499999999997,
          0.9115499999999983,
          0.9121499999999969,
          0.9112500000000026
         ],
         "z": [
          0.9592499999999999,
          0.96225,
          0.9634499999999999,
          0.9625499999999998,
          0.9604499999999998,
          0.9709500000000002,
          0.9613499999999999,
          0.9580500000000001,
          0.9559500000000001,
          0.9499499999999999,
          0.9484499999999998,
          0.9478499999999999,
          0.9493499999999999,
          0.94665,
          0.9469500000000002,
          0.9493499999999999,
          0.9469500000000002,
          0.9496500000000001,
          0.9511500000000002,
          0.95085,
          0.95655,
          0.95445,
          0.9514499999999999,
          0.9562499999999998,
          0.9568500000000002,
          0.9532500000000002,
          0.9547500000000002,
          0.95085,
          0.95025,
          0.9556499999999999,
          0.9532500000000002,
          0.9553500000000001,
          0.9640499999999999,
          0.96495,
          0.9589500000000002,
          0.9634499999999999,
          0.9592499999999999,
          0.9598499999999999,
          0.9589500000000002,
          0.9568500000000002,
          0.9535499999999999,
          0.9541499999999998,
          0.9541499999999998,
          0.9511500000000002,
          0.9535499999999999,
          0.95295,
          0.95085,
          0.9457499999999999,
          0.9415499999999999,
          0.9418500000000001,
          0.9415499999999999,
          0.94035,
          0.9406500000000002,
          0.9412500000000001,
          0.94035,
          0.9397500000000001,
          0.9391500000000002,
          0.9394499999999999,
          0.9397500000000001,
          0.9418500000000001,
          0.93885,
          0.9397500000000001,
          0.9394499999999999,
          0.9394499999999999,
          0.9373499999999999,
          0.9400499999999998,
          0.9397500000000001,
          0.93885,
          0.9391500000000002,
          0.9376500000000001,
          0.93885,
          0.9397500000000001,
          0.9385500000000002,
          0.9391500000000002,
          0.93885,
          0.9400499999999998,
          0.9400499999999998,
          0.9400499999999998,
          0.9406500000000002,
          0.94035,
          0.9391500000000002,
          0.93885,
          0.9391500000000002,
          0.9412500000000001,
          0.9406500000000002,
          0.9391500000000002,
          0.9418500000000001,
          0.94095,
          0.9400499999999998,
          0.9400499999999998,
          0.9400499999999998,
          0.94035,
          0.9391500000000002,
          0.9451499999999999,
          0.9400499999999998,
          0.9430499999999999,
          0.9421499999999998,
          0.94245,
          0.94245,
          0.94245,
          0.9415499999999999,
          0.9406500000000002,
          0.9421499999999998,
          0.9415499999999999,
          0.94245,
          0.94095,
          0.9400499999999998,
          0.9397500000000001,
          0.9394499999999999,
          0.9415499999999999,
          0.9418500000000001,
          0.94095,
          0.9415499999999999,
          0.9418500000000001,
          0.9418500000000001,
          0.9457499999999999,
          0.9469500000000002,
          0.94875,
          0.9511500000000002,
          0.9511500000000002,
          0.95025,
          0.95085,
          0.9505499999999998,
          0.9547500000000002,
          0.95505,
          0.95445,
          0.9538500000000001,
          0.95445,
          0.95505,
          0.9553500000000001,
          0.9547500000000002,
          0.9538500000000001,
          0.9574500000000001,
          0.9559500000000001,
          0.9541499999999998,
          0.9553500000000001,
          0.95655,
          0.9532500000000002,
          0.9562499999999998,
          0.9568500000000002,
          0.9562499999999998,
          0.9559500000000001,
          0.95655,
          0.9562499999999998,
          0.9568500000000002,
          0.9577499999999999,
          0.9580500000000001,
          0.9580500000000001,
          0.9577499999999999,
          0.95715,
          0.9574500000000001,
          0.95715,
          0.9562499999999998,
          0.9592499999999999,
          0.95655,
          0.9592499999999999,
          0.9592499999999999,
          0.95505,
          0.9547500000000002,
          0.9541499999999998,
          0.9538500000000001,
          0.9535499999999999,
          0.9517500000000001,
          0.9505499999999998,
          0.9514499999999999,
          0.9517500000000001,
          0.9511500000000002,
          0.9499499999999999,
          0.94875,
          0.95085,
          0.94815,
          0.9499499999999999,
          0.9493499999999999,
          0.94875,
          0.9475500000000001,
          0.95025,
          0.9505499999999998,
          0.95025,
          0.9538500000000001,
          0.9535499999999999,
          0.9505499999999998,
          0.9556499999999999,
          0.95445,
          0.9535499999999999,
          0.9541499999999998,
          0.9547500000000002,
          0.94815,
          0.9478499999999999,
          0.9478499999999999,
          0.94815,
          0.9475500000000001,
          0.9484499999999998,
          0.9478499999999999,
          0.9484499999999998,
          0.9493499999999999,
          0.9559500000000001,
          0.9553500000000001,
          0.9568500000000002,
          0.9559500000000001,
          0.9562499999999998,
          0.9562499999999998,
          0.9505499999999998,
          0.95655,
          0.95505,
          0.9559500000000001,
          0.9538500000000001,
          0.95445
         ]
        }
       ],
       "layout": {
        "legend": {
         "title": {
          "text": "geohash2"
         },
         "tracegroupgap": 0
        },
        "margin": {
         "t": 60
        },
        "scene": {
         "domain": {
          "x": [
           0,
           1
          ],
          "y": [
           0,
           1
          ]
         },
         "xaxis": {
          "title": {
           "text": "t"
          }
         },
         "yaxis": {
          "title": {
           "text": "lat_norm"
          }
         },
         "zaxis": {
          "title": {
           "text": "lon_norm"
          }
         }
        },
        "template": {
         "data": {
          "bar": [
           {
            "error_x": {
             "color": "#2a3f5f"
            },
            "error_y": {
             "color": "#2a3f5f"
            },
            "marker": {
             "line": {
              "color": "#E5ECF6",
              "width": 0.5
             },
             "pattern": {
              "fillmode": "overlay",
              "size": 10,
              "solidity": 0.2
             }
            },
            "type": "bar"
           }
          ],
          "barpolar": [
           {
            "marker": {
             "line": {
              "color": "#E5ECF6",
              "width": 0.5
             },
             "pattern": {
              "fillmode": "overlay",
              "size": 10,
              "solidity": 0.2
             }
            },
            "type": "barpolar"
           }
          ],
          "carpet": [
           {
            "aaxis": {
             "endlinecolor": "#2a3f5f",
             "gridcolor": "white",
             "linecolor": "white",
             "minorgridcolor": "white",
             "startlinecolor": "#2a3f5f"
            },
            "baxis": {
             "endlinecolor": "#2a3f5f",
             "gridcolor": "white",
             "linecolor": "white",
             "minorgridcolor": "white",
             "startlinecolor": "#2a3f5f"
            },
            "type": "carpet"
           }
          ],
          "choropleth": [
           {
            "colorbar": {
             "outlinewidth": 0,
             "ticks": ""
            },
            "type": "choropleth"
           }
          ],
          "contour": [
           {
            "colorbar": {
             "outlinewidth": 0,
             "ticks": ""
            },
            "colorscale": [
             [
              0,
              "#0d0887"
             ],
             [
              0.1111111111111111,
              "#46039f"
             ],
             [
              0.2222222222222222,
              "#7201a8"
             ],
             [
              0.3333333333333333,
              "#9c179e"
             ],
             [
              0.4444444444444444,
              "#bd3786"
             ],
             [
              0.5555555555555556,
              "#d8576b"
             ],
             [
              0.6666666666666666,
              "#ed7953"
             ],
             [
              0.7777777777777778,
              "#fb9f3a"
             ],
             [
              0.8888888888888888,
              "#fdca26"
             ],
             [
              1,
              "#f0f921"
             ]
            ],
            "type": "contour"
           }
          ],
          "contourcarpet": [
           {
            "colorbar": {
             "outlinewidth": 0,
             "ticks": ""
            },
            "type": "contourcarpet"
           }
          ],
          "heatmap": [
           {
            "colorbar": {
             "outlinewidth": 0,
             "ticks": ""
            },
            "colorscale": [
             [
              0,
              "#0d0887"
             ],
             [
              0.1111111111111111,
              "#46039f"
             ],
             [
              0.2222222222222222,
              "#7201a8"
             ],
             [
              0.3333333333333333,
              "#9c179e"
             ],
             [
              0.4444444444444444,
              "#bd3786"
             ],
             [
              0.5555555555555556,
              "#d8576b"
             ],
             [
              0.6666666666666666,
              "#ed7953"
             ],
             [
              0.7777777777777778,
              "#fb9f3a"
             ],
             [
              0.8888888888888888,
              "#fdca26"
             ],
             [
              1,
              "#f0f921"
             ]
            ],
            "type": "heatmap"
           }
          ],
          "heatmapgl": [
           {
            "colorbar": {
             "outlinewidth": 0,
             "ticks": ""
            },
            "colorscale": [
             [
              0,
              "#0d0887"
             ],
             [
              0.1111111111111111,
              "#46039f"
             ],
             [
              0.2222222222222222,
              "#7201a8"
             ],
             [
              0.3333333333333333,
              "#9c179e"
             ],
             [
              0.4444444444444444,
              "#bd3786"
             ],
             [
              0.5555555555555556,
              "#d8576b"
             ],
             [
              0.6666666666666666,
              "#ed7953"
             ],
             [
              0.7777777777777778,
              "#fb9f3a"
             ],
             [
              0.8888888888888888,
              "#fdca26"
             ],
             [
              1,
              "#f0f921"
             ]
            ],
            "type": "heatmapgl"
           }
          ],
          "histogram": [
           {
            "marker": {
             "pattern": {
              "fillmode": "overlay",
              "size": 10,
              "solidity": 0.2
             }
            },
            "type": "histogram"
           }
          ],
          "histogram2d": [
           {
            "colorbar": {
             "outlinewidth": 0,
             "ticks": ""
            },
            "colorscale": [
             [
              0,
              "#0d0887"
             ],
             [
              0.1111111111111111,
              "#46039f"
             ],
             [
              0.2222222222222222,
              "#7201a8"
             ],
             [
              0.3333333333333333,
              "#9c179e"
             ],
             [
              0.4444444444444444,
              "#bd3786"
             ],
             [
              0.5555555555555556,
              "#d8576b"
             ],
             [
              0.6666666666666666,
              "#ed7953"
             ],
             [
              0.7777777777777778,
              "#fb9f3a"
             ],
             [
              0.8888888888888888,
              "#fdca26"
             ],
             [
              1,
              "#f0f921"
             ]
            ],
            "type": "histogram2d"
           }
          ],
          "histogram2dcontour": [
           {
            "colorbar": {
             "outlinewidth": 0,
             "ticks": ""
            },
            "colorscale": [
             [
              0,
              "#0d0887"
             ],
             [
              0.1111111111111111,
              "#46039f"
             ],
             [
              0.2222222222222222,
              "#7201a8"
             ],
             [
              0.3333333333333333,
              "#9c179e"
             ],
             [
              0.4444444444444444,
              "#bd3786"
             ],
             [
              0.5555555555555556,
              "#d8576b"
             ],
             [
              0.6666666666666666,
              "#ed7953"
             ],
             [
              0.7777777777777778,
              "#fb9f3a"
             ],
             [
              0.8888888888888888,
              "#fdca26"
             ],
             [
              1,
              "#f0f921"
             ]
            ],
            "type": "histogram2dcontour"
           }
          ],
          "mesh3d": [
           {
            "colorbar": {
             "outlinewidth": 0,
             "ticks": ""
            },
            "type": "mesh3d"
           }
          ],
          "parcoords": [
           {
            "line": {
             "colorbar": {
              "outlinewidth": 0,
              "ticks": ""
             }
            },
            "type": "parcoords"
           }
          ],
          "pie": [
           {
            "automargin": true,
            "type": "pie"
           }
          ],
          "scatter": [
           {
            "fillpattern": {
             "fillmode": "overlay",
             "size": 10,
             "solidity": 0.2
            },
            "type": "scatter"
           }
          ],
          "scatter3d": [
           {
            "line": {
             "colorbar": {
              "outlinewidth": 0,
              "ticks": ""
             }
            },
            "marker": {
             "colorbar": {
              "outlinewidth": 0,
              "ticks": ""
             }
            },
            "type": "scatter3d"
           }
          ],
          "scattercarpet": [
           {
            "marker": {
             "colorbar": {
              "outlinewidth": 0,
              "ticks": ""
             }
            },
            "type": "scattercarpet"
           }
          ],
          "scattergeo": [
           {
            "marker": {
             "colorbar": {
              "outlinewidth": 0,
              "ticks": ""
             }
            },
            "type": "scattergeo"
           }
          ],
          "scattergl": [
           {
            "marker": {
             "colorbar": {
              "outlinewidth": 0,
              "ticks": ""
             }
            },
            "type": "scattergl"
           }
          ],
          "scattermapbox": [
           {
            "marker": {
             "colorbar": {
              "outlinewidth": 0,
              "ticks": ""
             }
            },
            "type": "scattermapbox"
           }
          ],
          "scatterpolar": [
           {
            "marker": {
             "colorbar": {
              "outlinewidth": 0,
              "ticks": ""
             }
            },
            "type": "scatterpolar"
           }
          ],
          "scatterpolargl": [
           {
            "marker": {
             "colorbar": {
              "outlinewidth": 0,
              "ticks": ""
             }
            },
            "type": "scatterpolargl"
           }
          ],
          "scatterternary": [
           {
            "marker": {
             "colorbar": {
              "outlinewidth": 0,
              "ticks": ""
             }
            },
            "type": "scatterternary"
           }
          ],
          "surface": [
           {
            "colorbar": {
             "outlinewidth": 0,
             "ticks": ""
            },
            "colorscale": [
             [
              0,
              "#0d0887"
             ],
             [
              0.1111111111111111,
              "#46039f"
             ],
             [
              0.2222222222222222,
              "#7201a8"
             ],
             [
              0.3333333333333333,
              "#9c179e"
             ],
             [
              0.4444444444444444,
              "#bd3786"
             ],
             [
              0.5555555555555556,
              "#d8576b"
             ],
             [
              0.6666666666666666,
              "#ed7953"
             ],
             [
              0.7777777777777778,
              "#fb9f3a"
             ],
             [
              0.8888888888888888,
              "#fdca26"
             ],
             [
              1,
              "#f0f921"
             ]
            ],
            "type": "surface"
           }
          ],
          "table": [
           {
            "cells": {
             "fill": {
              "color": "#EBF0F8"
             },
             "line": {
              "color": "white"
             }
            },
            "header": {
             "fill": {
              "color": "#C8D4E3"
             },
             "line": {
              "color": "white"
             }
            },
            "type": "table"
           }
          ]
         },
         "layout": {
          "annotationdefaults": {
           "arrowcolor": "#2a3f5f",
           "arrowhead": 0,
           "arrowwidth": 1
          },
          "autotypenumbers": "strict",
          "coloraxis": {
           "colorbar": {
            "outlinewidth": 0,
            "ticks": ""
           }
          },
          "colorscale": {
           "diverging": [
            [
             0,
             "#8e0152"
            ],
            [
             0.1,
             "#c51b7d"
            ],
            [
             0.2,
             "#de77ae"
            ],
            [
             0.3,
             "#f1b6da"
            ],
            [
             0.4,
             "#fde0ef"
            ],
            [
             0.5,
             "#f7f7f7"
            ],
            [
             0.6,
             "#e6f5d0"
            ],
            [
             0.7,
             "#b8e186"
            ],
            [
             0.8,
             "#7fbc41"
            ],
            [
             0.9,
             "#4d9221"
            ],
            [
             1,
             "#276419"
            ]
           ],
           "sequential": [
            [
             0,
             "#0d0887"
            ],
            [
             0.1111111111111111,
             "#46039f"
            ],
            [
             0.2222222222222222,
             "#7201a8"
            ],
            [
             0.3333333333333333,
             "#9c179e"
            ],
            [
             0.4444444444444444,
             "#bd3786"
            ],
            [
             0.5555555555555556,
             "#d8576b"
            ],
            [
             0.6666666666666666,
             "#ed7953"
            ],
            [
             0.7777777777777778,
             "#fb9f3a"
            ],
            [
             0.8888888888888888,
             "#fdca26"
            ],
            [
             1,
             "#f0f921"
            ]
           ],
           "sequentialminus": [
            [
             0,
             "#0d0887"
            ],
            [
             0.1111111111111111,
             "#46039f"
            ],
            [
             0.2222222222222222,
             "#7201a8"
            ],
            [
             0.3333333333333333,
             "#9c179e"
            ],
            [
             0.4444444444444444,
             "#bd3786"
            ],
            [
             0.5555555555555556,
             "#d8576b"
            ],
            [
             0.6666666666666666,
             "#ed7953"
            ],
            [
             0.7777777777777778,
             "#fb9f3a"
            ],
            [
             0.8888888888888888,
             "#fdca26"
            ],
            [
             1,
             "#f0f921"
            ]
           ]
          },
          "colorway": [
           "#636efa",
           "#EF553B",
           "#00cc96",
           "#ab63fa",
           "#FFA15A",
           "#19d3f3",
           "#FF6692",
           "#B6E880",
           "#FF97FF",
           "#FECB52"
          ],
          "font": {
           "color": "#2a3f5f"
          },
          "geo": {
           "bgcolor": "white",
           "lakecolor": "white",
           "landcolor": "#E5ECF6",
           "showlakes": true,
           "showland": true,
           "subunitcolor": "white"
          },
          "hoverlabel": {
           "align": "left"
          },
          "hovermode": "closest",
          "mapbox": {
           "style": "light"
          },
          "paper_bgcolor": "white",
          "plot_bgcolor": "#E5ECF6",
          "polar": {
           "angularaxis": {
            "gridcolor": "white",
            "linecolor": "white",
            "ticks": ""
           },
           "bgcolor": "#E5ECF6",
           "radialaxis": {
            "gridcolor": "white",
            "linecolor": "white",
            "ticks": ""
           }
          },
          "scene": {
           "xaxis": {
            "backgroundcolor": "#E5ECF6",
            "gridcolor": "white",
            "gridwidth": 2,
            "linecolor": "white",
            "showbackground": true,
            "ticks": "",
            "zerolinecolor": "white"
           },
           "yaxis": {
            "backgroundcolor": "#E5ECF6",
            "gridcolor": "white",
            "gridwidth": 2,
            "linecolor": "white",
            "showbackground": true,
            "ticks": "",
            "zerolinecolor": "white"
           },
           "zaxis": {
            "backgroundcolor": "#E5ECF6",
            "gridcolor": "white",
            "gridwidth": 2,
            "linecolor": "white",
            "showbackground": true,
            "ticks": "",
            "zerolinecolor": "white"
           }
          },
          "shapedefaults": {
           "line": {
            "color": "#2a3f5f"
           }
          },
          "ternary": {
           "aaxis": {
            "gridcolor": "white",
            "linecolor": "white",
            "ticks": ""
           },
           "baxis": {
            "gridcolor": "white",
            "linecolor": "white",
            "ticks": ""
           },
           "bgcolor": "#E5ECF6",
           "caxis": {
            "gridcolor": "white",
            "linecolor": "white",
            "ticks": ""
           }
          },
          "title": {
           "x": 0.05
          },
          "xaxis": {
           "automargin": true,
           "gridcolor": "white",
           "linecolor": "white",
           "ticks": "",
           "title": {
            "standoff": 15
           },
           "zerolinecolor": "white",
           "zerolinewidth": 2
          },
          "yaxis": {
           "automargin": true,
           "gridcolor": "white",
           "linecolor": "white",
           "ticks": "",
           "title": {
            "standoff": 15
           },
           "zerolinecolor": "white",
           "zerolinewidth": 2
          }
         }
        }
       }
      },
      "text/html": [
       "<div>                            <div id=\"1d9a523e-28a9-452d-ac75-03fd4312869e\" class=\"plotly-graph-div\" style=\"height:525px; width:100%;\"></div>            <script type=\"text/javascript\">                require([\"plotly\"], function(Plotly) {                    window.PLOTLYENV=window.PLOTLYENV || {};                                    if (document.getElementById(\"1d9a523e-28a9-452d-ac75-03fd4312869e\")) {                    Plotly.newPlot(                        \"1d9a523e-28a9-452d-ac75-03fd4312869e\",                        [{\"hovertemplate\":\"geohash2=u0f_0<br>t=%{x}<br>lat_norm=%{y}<br>lon_norm=%{z}<extra></extra>\",\"legendgroup\":\"u0f_0\",\"line\":{\"color\":\"#636efa\",\"dash\":\"solid\"},\"marker\":{\"symbol\":\"circle\"},\"mode\":\"lines\",\"name\":\"u0f_0\",\"scene\":\"scene\",\"showlegend\":true,\"x\":[0,46,48,59,60,71,78,80,82,88,96,97,106,117,118,122,123,125,129,130,134,141,143,145,148,154,161,164,166,175,178,180,185,189,191,192,194,196,201,228,237,240,242,245,247,249,261,263,267,268,274,275,277,284,286,288,290,294,297,300,302,309,311,313,316,318,320,322,323,329,330,334,339,341,341,342,342,343,347,352,354,356,358,359,361,363,364,366,370,371,373,377,379,380,384,386,387,389,391,393,395,396,405,407,410,414,416,418,419,421,430,432,434,435,439,441,443,453,461,465,467,479,483,485,487,489,491,493,494,497,499,501,503,505,506,509,511,513,515,517,519,521,523,525,527,529,531,533,537,538,540,542,544,549,550,558,564,566,568,570,572,574,576,580,582,584,586,592,594,598,600,602,604,606,609,611,614,617,623,627,629,635,637,639,643,645,647,649,651,653,655,659,661,665,669,671,673,677,681,692,694,696,697,699,708,710,712],\"y\":[0.9262500000000031,0.9079499999999996,0.9055499999999981,0.9046499999999966,0.9034499999999994,0.9112500000000026,0.9268500000000017,0.9220499999999987,0.9178500000000014,0.9154499999999999,0.9145499999999984,0.9133500000000012,0.9139499999999998,0.9130499999999984,0.9124499999999998,0.9115499999999983,0.9139499999999998,0.9148500000000013,0.9124499999999998,0.9082500000000024,0.9118500000000012,0.9106499999999969,0.9079499999999996,0.9256499999999974,0.9268500000000017,0.9238500000000016,0.929549999999999,0.9124499999999998,0.9163500000000013,0.9022500000000022,0.9019499999999994,0.9028500000000008,0.9382499999999965,0.9373500000000021,0.9268500000000017,0.9274500000000003,0.9220499999999987,0.9229500000000002,0.921750000000003,0.9115499999999983,0.9097500000000025,0.9079499999999996,0.9082500000000024,0.9079499999999996,0.9079499999999996,0.9076499999999967,0.9118500000000012,0.913649999999997,0.9106499999999969,0.9097500000000025,0.9097500000000025,0.9100499999999982,0.9097500000000025,0.9094499999999996,0.9103500000000011,0.9094499999999996,0.9094499999999996,0.9097500000000025,0.9091499999999968,0.9085499999999982,0.9076499999999967,0.9067500000000024,0.9064499999999995,0.9067500000000024,0.9052500000000023,0.9052500000000023,0.9064499999999995,0.9058500000000009,0.9070499999999981,0.9061499999999967,0.9067500000000024,0.9070499999999981,0.9052500000000023,0.9049499999999995,0.9052500000000023,0.9055499999999981,0.9058500000000009,0.9067500000000024,0.9070499999999981,0.9070499999999981,0.9067500000000024,0.9070499999999981,0.9070499999999981,0.9067500000000024,0.9103500000000011,0.9079499999999996,0.9109499999999997,0.9103500000000011,0.9103500000000011,0.9109499999999997,0.9061499999999967,0.9100499999999982,0.9109499999999997,0.908850000000001,0.9076499999999967,0.9037500000000023,0.9034499999999994,0.9034499999999994,0.9043500000000009,0.9049499999999995,0.904049999999998,0.9049499999999995,0.9052500000000023,0.9049499999999995,0.9064499999999995,0.9034499999999994,0.902549999999998,0.9070499999999981,0.9067500000000024,0.9130499999999984,0.9142500000000027,0.913649999999997,0.9139499999999998,0.913649999999997,0.9160499999999985,0.9133500000000012,0.913649999999997,0.9148500000000013,0.9157500000000027,0.9154499999999999,0.9160499999999985,0.9163500000000013,0.9163500000000013,0.9181499999999971,0.9175499999999985,0.9172500000000028,0.9163500000000013,0.9157500000000027,0.9157500000000027,0.9166499999999971,0.9160499999999985,0.9166499999999971,0.9169499999999999,0.9172500000000028,0.9166499999999971,0.9178500000000014,0.91845,0.9178500000000014,0.9169499999999999,0.9160499999999985,0.9163500000000013,0.9160499999999985,0.9169499999999999,0.9166499999999971,0.9160499999999985,0.9157500000000027,0.9160499999999985,0.9163500000000013,0.9157500000000027,0.9160499999999985,0.9157500000000027,0.9157500000000027,0.9160499999999985,0.9169499999999999,0.9127500000000026,0.9121499999999969,0.9130499999999984,0.9109499999999997,0.9106499999999969,0.9115499999999983,0.9115499999999983,0.9109499999999997,0.9118500000000012,0.9109499999999997,0.9112500000000026,0.9118500000000012,0.9118500000000012,0.9133500000000012,0.9127500000000026,0.913649999999997,0.913649999999997,0.9148500000000013,0.9145499999999984,0.9145499999999984,0.9145499999999984,0.915149999999997,0.913649999999997,0.9130499999999984,0.9109499999999997,0.9112500000000026,0.9103500000000011,0.9109499999999997,0.9103500000000011,0.9097500000000025,0.9106499999999969,0.9103500000000011,0.9139499999999998,0.9142500000000027,0.9142500000000027,0.9142500000000027,0.9130499999999984,0.9130499999999984,0.9145499999999984,0.9145499999999984,0.9145499999999984,0.9121499999999969,0.9121499999999969,0.9118500000000012,0.9109499999999997,0.9121499999999969,0.9106499999999969,0.9115499999999983,0.9079499999999996,0.9109499999999997,0.9115499999999983,0.9121499999999969,0.9112500000000026],\"z\":[0.9592499999999999,0.96225,0.9634499999999999,0.9625499999999998,0.9604499999999998,0.9709500000000002,0.9613499999999999,0.9580500000000001,0.9559500000000001,0.9499499999999999,0.9484499999999998,0.9478499999999999,0.9493499999999999,0.94665,0.9469500000000002,0.9493499999999999,0.9469500000000002,0.9496500000000001,0.9511500000000002,0.95085,0.95655,0.95445,0.9514499999999999,0.9562499999999998,0.9568500000000002,0.9532500000000002,0.9547500000000002,0.95085,0.95025,0.9556499999999999,0.9532500000000002,0.9553500000000001,0.9640499999999999,0.96495,0.9589500000000002,0.9634499999999999,0.9592499999999999,0.9598499999999999,0.9589500000000002,0.9568500000000002,0.9535499999999999,0.9541499999999998,0.9541499999999998,0.9511500000000002,0.9535499999999999,0.95295,0.95085,0.9457499999999999,0.9415499999999999,0.9418500000000001,0.9415499999999999,0.94035,0.9406500000000002,0.9412500000000001,0.94035,0.9397500000000001,0.9391500000000002,0.9394499999999999,0.9397500000000001,0.9418500000000001,0.93885,0.9397500000000001,0.9394499999999999,0.9394499999999999,0.9373499999999999,0.9400499999999998,0.9397500000000001,0.93885,0.9391500000000002,0.9376500000000001,0.93885,0.9397500000000001,0.9385500000000002,0.9391500000000002,0.93885,0.9400499999999998,0.9400499999999998,0.9400499999999998,0.9406500000000002,0.94035,0.9391500000000002,0.93885,0.9391500000000002,0.9412500000000001,0.9406500000000002,0.9391500000000002,0.9418500000000001,0.94095,0.9400499999999998,0.9400499999999998,0.9400499999999998,0.94035,0.9391500000000002,0.9451499999999999,0.9400499999999998,0.9430499999999999,0.9421499999999998,0.94245,0.94245,0.94245,0.9415499999999999,0.9406500000000002,0.9421499999999998,0.9415499999999999,0.94245,0.94095,0.9400499999999998,0.9397500000000001,0.9394499999999999,0.9415499999999999,0.9418500000000001,0.94095,0.9415499999999999,0.9418500000000001,0.9418500000000001,0.9457499999999999,0.9469500000000002,0.94875,0.9511500000000002,0.9511500000000002,0.95025,0.95085,0.9505499999999998,0.9547500000000002,0.95505,0.95445,0.9538500000000001,0.95445,0.95505,0.9553500000000001,0.9547500000000002,0.9538500000000001,0.9574500000000001,0.9559500000000001,0.9541499999999998,0.9553500000000001,0.95655,0.9532500000000002,0.9562499999999998,0.9568500000000002,0.9562499999999998,0.9559500000000001,0.95655,0.9562499999999998,0.9568500000000002,0.9577499999999999,0.9580500000000001,0.9580500000000001,0.9577499999999999,0.95715,0.9574500000000001,0.95715,0.9562499999999998,0.9592499999999999,0.95655,0.9592499999999999,0.9592499999999999,0.95505,0.9547500000000002,0.9541499999999998,0.9538500000000001,0.9535499999999999,0.9517500000000001,0.9505499999999998,0.9514499999999999,0.9517500000000001,0.9511500000000002,0.9499499999999999,0.94875,0.95085,0.94815,0.9499499999999999,0.9493499999999999,0.94875,0.9475500000000001,0.95025,0.9505499999999998,0.95025,0.9538500000000001,0.9535499999999999,0.9505499999999998,0.9556499999999999,0.95445,0.9535499999999999,0.9541499999999998,0.9547500000000002,0.94815,0.9478499999999999,0.9478499999999999,0.94815,0.9475500000000001,0.9484499999999998,0.9478499999999999,0.9484499999999998,0.9493499999999999,0.9559500000000001,0.9553500000000001,0.9568500000000002,0.9559500000000001,0.9562499999999998,0.9562499999999998,0.9505499999999998,0.95655,0.95505,0.9559500000000001,0.9538500000000001,0.95445],\"type\":\"scatter3d\"}],                        {\"template\":{\"data\":{\"histogram2dcontour\":[{\"type\":\"histogram2dcontour\",\"colorbar\":{\"outlinewidth\":0,\"ticks\":\"\"},\"colorscale\":[[0.0,\"#0d0887\"],[0.1111111111111111,\"#46039f\"],[0.2222222222222222,\"#7201a8\"],[0.3333333333333333,\"#9c179e\"],[0.4444444444444444,\"#bd3786\"],[0.5555555555555556,\"#d8576b\"],[0.6666666666666666,\"#ed7953\"],[0.7777777777777778,\"#fb9f3a\"],[0.8888888888888888,\"#fdca26\"],[1.0,\"#f0f921\"]]}],\"choropleth\":[{\"type\":\"choropleth\",\"colorbar\":{\"outlinewidth\":0,\"ticks\":\"\"}}],\"histogram2d\":[{\"type\":\"histogram2d\",\"colorbar\":{\"outlinewidth\":0,\"ticks\":\"\"},\"colorscale\":[[0.0,\"#0d0887\"],[0.1111111111111111,\"#46039f\"],[0.2222222222222222,\"#7201a8\"],[0.3333333333333333,\"#9c179e\"],[0.4444444444444444,\"#bd3786\"],[0.5555555555555556,\"#d8576b\"],[0.6666666666666666,\"#ed7953\"],[0.7777777777777778,\"#fb9f3a\"],[0.8888888888888888,\"#fdca26\"],[1.0,\"#f0f921\"]]}],\"heatmap\":[{\"type\":\"heatmap\",\"colorbar\":{\"outlinewidth\":0,\"ticks\":\"\"},\"colorscale\":[[0.0,\"#0d0887\"],[0.1111111111111111,\"#46039f\"],[0.2222222222222222,\"#7201a8\"],[0.3333333333333333,\"#9c179e\"],[0.4444444444444444,\"#bd3786\"],[0.5555555555555556,\"#d8576b\"],[0.6666666666666666,\"#ed7953\"],[0.7777777777777778,\"#fb9f3a\"],[0.8888888888888888,\"#fdca26\"],[1.0,\"#f0f921\"]]}],\"heatmapgl\":[{\"type\":\"heatmapgl\",\"colorbar\":{\"outlinewidth\":0,\"ticks\":\"\"},\"colorscale\":[[0.0,\"#0d0887\"],[0.1111111111111111,\"#46039f\"],[0.2222222222222222,\"#7201a8\"],[0.3333333333333333,\"#9c179e\"],[0.4444444444444444,\"#bd3786\"],[0.5555555555555556,\"#d8576b\"],[0.6666666666666666,\"#ed7953\"],[0.7777777777777778,\"#fb9f3a\"],[0.8888888888888888,\"#fdca26\"],[1.0,\"#f0f921\"]]}],\"contourcarpet\":[{\"type\":\"contourcarpet\",\"colorbar\":{\"outlinewidth\":0,\"ticks\":\"\"}}],\"contour\":[{\"type\":\"contour\",\"colorbar\":{\"outlinewidth\":0,\"ticks\":\"\"},\"colorscale\":[[0.0,\"#0d0887\"],[0.1111111111111111,\"#46039f\"],[0.2222222222222222,\"#7201a8\"],[0.3333333333333333,\"#9c179e\"],[0.4444444444444444,\"#bd3786\"],[0.5555555555555556,\"#d8576b\"],[0.6666666666666666,\"#ed7953\"],[0.7777777777777778,\"#fb9f3a\"],[0.8888888888888888,\"#fdca26\"],[1.0,\"#f0f921\"]]}],\"surface\":[{\"type\":\"surface\",\"colorbar\":{\"outlinewidth\":0,\"ticks\":\"\"},\"colorscale\":[[0.0,\"#0d0887\"],[0.1111111111111111,\"#46039f\"],[0.2222222222222222,\"#7201a8\"],[0.3333333333333333,\"#9c179e\"],[0.4444444444444444,\"#bd3786\"],[0.5555555555555556,\"#d8576b\"],[0.6666666666666666,\"#ed7953\"],[0.7777777777777778,\"#fb9f3a\"],[0.8888888888888888,\"#fdca26\"],[1.0,\"#f0f921\"]]}],\"mesh3d\":[{\"type\":\"mesh3d\",\"colorbar\":{\"outlinewidth\":0,\"ticks\":\"\"}}],\"scatter\":[{\"fillpattern\":{\"fillmode\":\"overlay\",\"size\":10,\"solidity\":0.2},\"type\":\"scatter\"}],\"parcoords\":[{\"type\":\"parcoords\",\"line\":{\"colorbar\":{\"outlinewidth\":0,\"ticks\":\"\"}}}],\"scatterpolargl\":[{\"type\":\"scatterpolargl\",\"marker\":{\"colorbar\":{\"outlinewidth\":0,\"ticks\":\"\"}}}],\"bar\":[{\"error_x\":{\"color\":\"#2a3f5f\"},\"error_y\":{\"color\":\"#2a3f5f\"},\"marker\":{\"line\":{\"color\":\"#E5ECF6\",\"width\":0.5},\"pattern\":{\"fillmode\":\"overlay\",\"size\":10,\"solidity\":0.2}},\"type\":\"bar\"}],\"scattergeo\":[{\"type\":\"scattergeo\",\"marker\":{\"colorbar\":{\"outlinewidth\":0,\"ticks\":\"\"}}}],\"scatterpolar\":[{\"type\":\"scatterpolar\",\"marker\":{\"colorbar\":{\"outlinewidth\":0,\"ticks\":\"\"}}}],\"histogram\":[{\"marker\":{\"pattern\":{\"fillmode\":\"overlay\",\"size\":10,\"solidity\":0.2}},\"type\":\"histogram\"}],\"scattergl\":[{\"type\":\"scattergl\",\"marker\":{\"colorbar\":{\"outlinewidth\":0,\"ticks\":\"\"}}}],\"scatter3d\":[{\"type\":\"scatter3d\",\"line\":{\"colorbar\":{\"outlinewidth\":0,\"ticks\":\"\"}},\"marker\":{\"colorbar\":{\"outlinewidth\":0,\"ticks\":\"\"}}}],\"scattermapbox\":[{\"type\":\"scattermapbox\",\"marker\":{\"colorbar\":{\"outlinewidth\":0,\"ticks\":\"\"}}}],\"scatterternary\":[{\"type\":\"scatterternary\",\"marker\":{\"colorbar\":{\"outlinewidth\":0,\"ticks\":\"\"}}}],\"scattercarpet\":[{\"type\":\"scattercarpet\",\"marker\":{\"colorbar\":{\"outlinewidth\":0,\"ticks\":\"\"}}}],\"carpet\":[{\"aaxis\":{\"endlinecolor\":\"#2a3f5f\",\"gridcolor\":\"white\",\"linecolor\":\"white\",\"minorgridcolor\":\"white\",\"startlinecolor\":\"#2a3f5f\"},\"baxis\":{\"endlinecolor\":\"#2a3f5f\",\"gridcolor\":\"white\",\"linecolor\":\"white\",\"minorgridcolor\":\"white\",\"startlinecolor\":\"#2a3f5f\"},\"type\":\"carpet\"}],\"table\":[{\"cells\":{\"fill\":{\"color\":\"#EBF0F8\"},\"line\":{\"color\":\"white\"}},\"header\":{\"fill\":{\"color\":\"#C8D4E3\"},\"line\":{\"color\":\"white\"}},\"type\":\"table\"}],\"barpolar\":[{\"marker\":{\"line\":{\"color\":\"#E5ECF6\",\"width\":0.5},\"pattern\":{\"fillmode\":\"overlay\",\"size\":10,\"solidity\":0.2}},\"type\":\"barpolar\"}],\"pie\":[{\"automargin\":true,\"type\":\"pie\"}]},\"layout\":{\"autotypenumbers\":\"strict\",\"colorway\":[\"#636efa\",\"#EF553B\",\"#00cc96\",\"#ab63fa\",\"#FFA15A\",\"#19d3f3\",\"#FF6692\",\"#B6E880\",\"#FF97FF\",\"#FECB52\"],\"font\":{\"color\":\"#2a3f5f\"},\"hovermode\":\"closest\",\"hoverlabel\":{\"align\":\"left\"},\"paper_bgcolor\":\"white\",\"plot_bgcolor\":\"#E5ECF6\",\"polar\":{\"bgcolor\":\"#E5ECF6\",\"angularaxis\":{\"gridcolor\":\"white\",\"linecolor\":\"white\",\"ticks\":\"\"},\"radialaxis\":{\"gridcolor\":\"white\",\"linecolor\":\"white\",\"ticks\":\"\"}},\"ternary\":{\"bgcolor\":\"#E5ECF6\",\"aaxis\":{\"gridcolor\":\"white\",\"linecolor\":\"white\",\"ticks\":\"\"},\"baxis\":{\"gridcolor\":\"white\",\"linecolor\":\"white\",\"ticks\":\"\"},\"caxis\":{\"gridcolor\":\"white\",\"linecolor\":\"white\",\"ticks\":\"\"}},\"coloraxis\":{\"colorbar\":{\"outlinewidth\":0,\"ticks\":\"\"}},\"colorscale\":{\"sequential\":[[0.0,\"#0d0887\"],[0.1111111111111111,\"#46039f\"],[0.2222222222222222,\"#7201a8\"],[0.3333333333333333,\"#9c179e\"],[0.4444444444444444,\"#bd3786\"],[0.5555555555555556,\"#d8576b\"],[0.6666666666666666,\"#ed7953\"],[0.7777777777777778,\"#fb9f3a\"],[0.8888888888888888,\"#fdca26\"],[1.0,\"#f0f921\"]],\"sequentialminus\":[[0.0,\"#0d0887\"],[0.1111111111111111,\"#46039f\"],[0.2222222222222222,\"#7201a8\"],[0.3333333333333333,\"#9c179e\"],[0.4444444444444444,\"#bd3786\"],[0.5555555555555556,\"#d8576b\"],[0.6666666666666666,\"#ed7953\"],[0.7777777777777778,\"#fb9f3a\"],[0.8888888888888888,\"#fdca26\"],[1.0,\"#f0f921\"]],\"diverging\":[[0,\"#8e0152\"],[0.1,\"#c51b7d\"],[0.2,\"#de77ae\"],[0.3,\"#f1b6da\"],[0.4,\"#fde0ef\"],[0.5,\"#f7f7f7\"],[0.6,\"#e6f5d0\"],[0.7,\"#b8e186\"],[0.8,\"#7fbc41\"],[0.9,\"#4d9221\"],[1,\"#276419\"]]},\"xaxis\":{\"gridcolor\":\"white\",\"linecolor\":\"white\",\"ticks\":\"\",\"title\":{\"standoff\":15},\"zerolinecolor\":\"white\",\"automargin\":true,\"zerolinewidth\":2},\"yaxis\":{\"gridcolor\":\"white\",\"linecolor\":\"white\",\"ticks\":\"\",\"title\":{\"standoff\":15},\"zerolinecolor\":\"white\",\"automargin\":true,\"zerolinewidth\":2},\"scene\":{\"xaxis\":{\"backgroundcolor\":\"#E5ECF6\",\"gridcolor\":\"white\",\"linecolor\":\"white\",\"showbackground\":true,\"ticks\":\"\",\"zerolinecolor\":\"white\",\"gridwidth\":2},\"yaxis\":{\"backgroundcolor\":\"#E5ECF6\",\"gridcolor\":\"white\",\"linecolor\":\"white\",\"showbackground\":true,\"ticks\":\"\",\"zerolinecolor\":\"white\",\"gridwidth\":2},\"zaxis\":{\"backgroundcolor\":\"#E5ECF6\",\"gridcolor\":\"white\",\"linecolor\":\"white\",\"showbackground\":true,\"ticks\":\"\",\"zerolinecolor\":\"white\",\"gridwidth\":2}},\"shapedefaults\":{\"line\":{\"color\":\"#2a3f5f\"}},\"annotationdefaults\":{\"arrowcolor\":\"#2a3f5f\",\"arrowhead\":0,\"arrowwidth\":1},\"geo\":{\"bgcolor\":\"white\",\"landcolor\":\"#E5ECF6\",\"subunitcolor\":\"white\",\"showland\":true,\"showlakes\":true,\"lakecolor\":\"white\"},\"title\":{\"x\":0.05},\"mapbox\":{\"style\":\"light\"}}},\"scene\":{\"domain\":{\"x\":[0.0,1.0],\"y\":[0.0,1.0]},\"xaxis\":{\"title\":{\"text\":\"t\"}},\"yaxis\":{\"title\":{\"text\":\"lat_norm\"}},\"zaxis\":{\"title\":{\"text\":\"lon_norm\"}}},\"legend\":{\"title\":{\"text\":\"geohash2\"},\"tracegroupgap\":0},\"margin\":{\"t\":60}},                        {\"responsive\": true}                    ).then(function(){\n",
       "                            \n",
       "var gd = document.getElementById('1d9a523e-28a9-452d-ac75-03fd4312869e');\n",
       "var x = new MutationObserver(function (mutations, observer) {{\n",
       "        var display = window.getComputedStyle(gd).display;\n",
       "        if (!display || display === 'none') {{\n",
       "            console.log([gd, 'removed!']);\n",
       "            Plotly.purge(gd);\n",
       "            observer.disconnect();\n",
       "        }}\n",
       "}});\n",
       "\n",
       "// Listen for the removal of the full notebook cells\n",
       "var notebookContainer = gd.closest('#notebook-container');\n",
       "if (notebookContainer) {{\n",
       "    x.observe(notebookContainer, {childList: true});\n",
       "}}\n",
       "\n",
       "// Listen for the clearing of the current output cell\n",
       "var outputEl = gd.closest('.output');\n",
       "if (outputEl) {{\n",
       "    x.observe(outputEl, {childList: true});\n",
       "}}\n",
       "\n",
       "                        })                };                });            </script>        </div>"
      ]
     },
     "metadata": {},
     "output_type": "display_data"
    }
   ],
   "source": [
    "px.line_3d(df[df.tid == 1], x=\"t\", y=\"lat_norm\", z=\"lon_norm\", color=\"geohash2\")"
   ]
  },
  {
   "cell_type": "code",
   "execution_count": 40,
   "metadata": {
    "pycharm": {
     "name": "#%%\n"
    }
   },
   "outputs": [
    {
     "data": {
      "application/vnd.plotly.v1+json": {
       "config": {
        "plotlyServerURL": "https://plot.ly"
       },
       "data": [
        {
         "hovertemplate": "geohash2=u0f_0<br>lat_norm=%{x}<br>lon_norm=%{y}<extra></extra>",
         "legendgroup": "u0f_0",
         "line": {
          "color": "#636efa",
          "dash": "solid"
         },
         "marker": {
          "symbol": "circle"
         },
         "mode": "lines",
         "name": "u0f_0",
         "orientation": "v",
         "showlegend": true,
         "type": "scatter",
         "x": [
          0.9262500000000031,
          0.9079499999999996,
          0.9055499999999981,
          0.9046499999999966,
          0.9034499999999994,
          0.9112500000000026,
          0.9268500000000017,
          0.9220499999999987,
          0.9178500000000014,
          0.9154499999999999,
          0.9145499999999984,
          0.9133500000000012,
          0.9139499999999998,
          0.9130499999999984,
          0.9124499999999998,
          0.9115499999999983,
          0.9139499999999998,
          0.9148500000000013,
          0.9124499999999998,
          0.9082500000000024,
          0.9118500000000012,
          0.9106499999999969,
          0.9079499999999996,
          0.9256499999999974,
          0.9268500000000017,
          0.9238500000000016,
          0.929549999999999,
          0.9124499999999998,
          0.9163500000000013,
          0.9022500000000022,
          0.9019499999999994,
          0.9028500000000008,
          0.9382499999999965,
          0.9373500000000021,
          0.9268500000000017,
          0.9274500000000003,
          0.9220499999999987,
          0.9229500000000002,
          0.921750000000003,
          0.9115499999999983,
          0.9097500000000025,
          0.9079499999999996,
          0.9082500000000024,
          0.9079499999999996,
          0.9079499999999996,
          0.9076499999999967,
          0.9118500000000012,
          0.913649999999997,
          0.9106499999999969,
          0.9097500000000025,
          0.9097500000000025,
          0.9100499999999982,
          0.9097500000000025,
          0.9094499999999996,
          0.9103500000000011,
          0.9094499999999996,
          0.9094499999999996,
          0.9097500000000025,
          0.9091499999999968,
          0.9085499999999982,
          0.9076499999999967,
          0.9067500000000024,
          0.9064499999999995,
          0.9067500000000024,
          0.9052500000000023,
          0.9052500000000023,
          0.9064499999999995,
          0.9058500000000009,
          0.9070499999999981,
          0.9061499999999967,
          0.9067500000000024,
          0.9070499999999981,
          0.9052500000000023,
          0.9049499999999995,
          0.9052500000000023,
          0.9055499999999981,
          0.9058500000000009,
          0.9067500000000024,
          0.9070499999999981,
          0.9070499999999981,
          0.9067500000000024,
          0.9070499999999981,
          0.9070499999999981,
          0.9067500000000024,
          0.9103500000000011,
          0.9079499999999996,
          0.9109499999999997,
          0.9103500000000011,
          0.9103500000000011,
          0.9109499999999997,
          0.9061499999999967,
          0.9100499999999982,
          0.9109499999999997,
          0.908850000000001,
          0.9076499999999967,
          0.9037500000000023,
          0.9034499999999994,
          0.9034499999999994,
          0.9043500000000009,
          0.9049499999999995,
          0.904049999999998,
          0.9049499999999995,
          0.9052500000000023,
          0.9049499999999995,
          0.9064499999999995,
          0.9034499999999994,
          0.902549999999998,
          0.9070499999999981,
          0.9067500000000024,
          0.9130499999999984,
          0.9142500000000027,
          0.913649999999997,
          0.9139499999999998,
          0.913649999999997,
          0.9160499999999985,
          0.9133500000000012,
          0.913649999999997,
          0.9148500000000013,
          0.9157500000000027,
          0.9154499999999999,
          0.9160499999999985,
          0.9163500000000013,
          0.9163500000000013,
          0.9181499999999971,
          0.9175499999999985,
          0.9172500000000028,
          0.9163500000000013,
          0.9157500000000027,
          0.9157500000000027,
          0.9166499999999971,
          0.9160499999999985,
          0.9166499999999971,
          0.9169499999999999,
          0.9172500000000028,
          0.9166499999999971,
          0.9178500000000014,
          0.91845,
          0.9178500000000014,
          0.9169499999999999,
          0.9160499999999985,
          0.9163500000000013,
          0.9160499999999985,
          0.9169499999999999,
          0.9166499999999971,
          0.9160499999999985,
          0.9157500000000027,
          0.9160499999999985,
          0.9163500000000013,
          0.9157500000000027,
          0.9160499999999985,
          0.9157500000000027,
          0.9157500000000027,
          0.9160499999999985,
          0.9169499999999999,
          0.9127500000000026,
          0.9121499999999969,
          0.9130499999999984,
          0.9109499999999997,
          0.9106499999999969,
          0.9115499999999983,
          0.9115499999999983,
          0.9109499999999997,
          0.9118500000000012,
          0.9109499999999997,
          0.9112500000000026,
          0.9118500000000012,
          0.9118500000000012,
          0.9133500000000012,
          0.9127500000000026,
          0.913649999999997,
          0.913649999999997,
          0.9148500000000013,
          0.9145499999999984,
          0.9145499999999984,
          0.9145499999999984,
          0.915149999999997,
          0.913649999999997,
          0.9130499999999984,
          0.9109499999999997,
          0.9112500000000026,
          0.9103500000000011,
          0.9109499999999997,
          0.9103500000000011,
          0.9097500000000025,
          0.9106499999999969,
          0.9103500000000011,
          0.9139499999999998,
          0.9142500000000027,
          0.9142500000000027,
          0.9142500000000027,
          0.9130499999999984,
          0.9130499999999984,
          0.9145499999999984,
          0.9145499999999984,
          0.9145499999999984,
          0.9121499999999969,
          0.9121499999999969,
          0.9118500000000012,
          0.9109499999999997,
          0.9121499999999969,
          0.9106499999999969,
          0.9115499999999983,
          0.9079499999999996,
          0.9109499999999997,
          0.9115499999999983,
          0.9121499999999969,
          0.9112500000000026
         ],
         "xaxis": "x",
         "y": [
          0.9592499999999999,
          0.96225,
          0.9634499999999999,
          0.9625499999999998,
          0.9604499999999998,
          0.9709500000000002,
          0.9613499999999999,
          0.9580500000000001,
          0.9559500000000001,
          0.9499499999999999,
          0.9484499999999998,
          0.9478499999999999,
          0.9493499999999999,
          0.94665,
          0.9469500000000002,
          0.9493499999999999,
          0.9469500000000002,
          0.9496500000000001,
          0.9511500000000002,
          0.95085,
          0.95655,
          0.95445,
          0.9514499999999999,
          0.9562499999999998,
          0.9568500000000002,
          0.9532500000000002,
          0.9547500000000002,
          0.95085,
          0.95025,
          0.9556499999999999,
          0.9532500000000002,
          0.9553500000000001,
          0.9640499999999999,
          0.96495,
          0.9589500000000002,
          0.9634499999999999,
          0.9592499999999999,
          0.9598499999999999,
          0.9589500000000002,
          0.9568500000000002,
          0.9535499999999999,
          0.9541499999999998,
          0.9541499999999998,
          0.9511500000000002,
          0.9535499999999999,
          0.95295,
          0.95085,
          0.9457499999999999,
          0.9415499999999999,
          0.9418500000000001,
          0.9415499999999999,
          0.94035,
          0.9406500000000002,
          0.9412500000000001,
          0.94035,
          0.9397500000000001,
          0.9391500000000002,
          0.9394499999999999,
          0.9397500000000001,
          0.9418500000000001,
          0.93885,
          0.9397500000000001,
          0.9394499999999999,
          0.9394499999999999,
          0.9373499999999999,
          0.9400499999999998,
          0.9397500000000001,
          0.93885,
          0.9391500000000002,
          0.9376500000000001,
          0.93885,
          0.9397500000000001,
          0.9385500000000002,
          0.9391500000000002,
          0.93885,
          0.9400499999999998,
          0.9400499999999998,
          0.9400499999999998,
          0.9406500000000002,
          0.94035,
          0.9391500000000002,
          0.93885,
          0.9391500000000002,
          0.9412500000000001,
          0.9406500000000002,
          0.9391500000000002,
          0.9418500000000001,
          0.94095,
          0.9400499999999998,
          0.9400499999999998,
          0.9400499999999998,
          0.94035,
          0.9391500000000002,
          0.9451499999999999,
          0.9400499999999998,
          0.9430499999999999,
          0.9421499999999998,
          0.94245,
          0.94245,
          0.94245,
          0.9415499999999999,
          0.9406500000000002,
          0.9421499999999998,
          0.9415499999999999,
          0.94245,
          0.94095,
          0.9400499999999998,
          0.9397500000000001,
          0.9394499999999999,
          0.9415499999999999,
          0.9418500000000001,
          0.94095,
          0.9415499999999999,
          0.9418500000000001,
          0.9418500000000001,
          0.9457499999999999,
          0.9469500000000002,
          0.94875,
          0.9511500000000002,
          0.9511500000000002,
          0.95025,
          0.95085,
          0.9505499999999998,
          0.9547500000000002,
          0.95505,
          0.95445,
          0.9538500000000001,
          0.95445,
          0.95505,
          0.9553500000000001,
          0.9547500000000002,
          0.9538500000000001,
          0.9574500000000001,
          0.9559500000000001,
          0.9541499999999998,
          0.9553500000000001,
          0.95655,
          0.9532500000000002,
          0.9562499999999998,
          0.9568500000000002,
          0.9562499999999998,
          0.9559500000000001,
          0.95655,
          0.9562499999999998,
          0.9568500000000002,
          0.9577499999999999,
          0.9580500000000001,
          0.9580500000000001,
          0.9577499999999999,
          0.95715,
          0.9574500000000001,
          0.95715,
          0.9562499999999998,
          0.9592499999999999,
          0.95655,
          0.9592499999999999,
          0.9592499999999999,
          0.95505,
          0.9547500000000002,
          0.9541499999999998,
          0.9538500000000001,
          0.9535499999999999,
          0.9517500000000001,
          0.9505499999999998,
          0.9514499999999999,
          0.9517500000000001,
          0.9511500000000002,
          0.9499499999999999,
          0.94875,
          0.95085,
          0.94815,
          0.9499499999999999,
          0.9493499999999999,
          0.94875,
          0.9475500000000001,
          0.95025,
          0.9505499999999998,
          0.95025,
          0.9538500000000001,
          0.9535499999999999,
          0.9505499999999998,
          0.9556499999999999,
          0.95445,
          0.9535499999999999,
          0.9541499999999998,
          0.9547500000000002,
          0.94815,
          0.9478499999999999,
          0.9478499999999999,
          0.94815,
          0.9475500000000001,
          0.9484499999999998,
          0.9478499999999999,
          0.9484499999999998,
          0.9493499999999999,
          0.9559500000000001,
          0.9553500000000001,
          0.9568500000000002,
          0.9559500000000001,
          0.9562499999999998,
          0.9562499999999998,
          0.9505499999999998,
          0.95655,
          0.95505,
          0.9559500000000001,
          0.9538500000000001,
          0.95445
         ],
         "yaxis": "y"
        }
       ],
       "layout": {
        "legend": {
         "title": {
          "text": "geohash2"
         },
         "tracegroupgap": 0
        },
        "margin": {
         "t": 60
        },
        "template": {
         "data": {
          "bar": [
           {
            "error_x": {
             "color": "#2a3f5f"
            },
            "error_y": {
             "color": "#2a3f5f"
            },
            "marker": {
             "line": {
              "color": "#E5ECF6",
              "width": 0.5
             },
             "pattern": {
              "fillmode": "overlay",
              "size": 10,
              "solidity": 0.2
             }
            },
            "type": "bar"
           }
          ],
          "barpolar": [
           {
            "marker": {
             "line": {
              "color": "#E5ECF6",
              "width": 0.5
             },
             "pattern": {
              "fillmode": "overlay",
              "size": 10,
              "solidity": 0.2
             }
            },
            "type": "barpolar"
           }
          ],
          "carpet": [
           {
            "aaxis": {
             "endlinecolor": "#2a3f5f",
             "gridcolor": "white",
             "linecolor": "white",
             "minorgridcolor": "white",
             "startlinecolor": "#2a3f5f"
            },
            "baxis": {
             "endlinecolor": "#2a3f5f",
             "gridcolor": "white",
             "linecolor": "white",
             "minorgridcolor": "white",
             "startlinecolor": "#2a3f5f"
            },
            "type": "carpet"
           }
          ],
          "choropleth": [
           {
            "colorbar": {
             "outlinewidth": 0,
             "ticks": ""
            },
            "type": "choropleth"
           }
          ],
          "contour": [
           {
            "colorbar": {
             "outlinewidth": 0,
             "ticks": ""
            },
            "colorscale": [
             [
              0,
              "#0d0887"
             ],
             [
              0.1111111111111111,
              "#46039f"
             ],
             [
              0.2222222222222222,
              "#7201a8"
             ],
             [
              0.3333333333333333,
              "#9c179e"
             ],
             [
              0.4444444444444444,
              "#bd3786"
             ],
             [
              0.5555555555555556,
              "#d8576b"
             ],
             [
              0.6666666666666666,
              "#ed7953"
             ],
             [
              0.7777777777777778,
              "#fb9f3a"
             ],
             [
              0.8888888888888888,
              "#fdca26"
             ],
             [
              1,
              "#f0f921"
             ]
            ],
            "type": "contour"
           }
          ],
          "contourcarpet": [
           {
            "colorbar": {
             "outlinewidth": 0,
             "ticks": ""
            },
            "type": "contourcarpet"
           }
          ],
          "heatmap": [
           {
            "colorbar": {
             "outlinewidth": 0,
             "ticks": ""
            },
            "colorscale": [
             [
              0,
              "#0d0887"
             ],
             [
              0.1111111111111111,
              "#46039f"
             ],
             [
              0.2222222222222222,
              "#7201a8"
             ],
             [
              0.3333333333333333,
              "#9c179e"
             ],
             [
              0.4444444444444444,
              "#bd3786"
             ],
             [
              0.5555555555555556,
              "#d8576b"
             ],
             [
              0.6666666666666666,
              "#ed7953"
             ],
             [
              0.7777777777777778,
              "#fb9f3a"
             ],
             [
              0.8888888888888888,
              "#fdca26"
             ],
             [
              1,
              "#f0f921"
             ]
            ],
            "type": "heatmap"
           }
          ],
          "heatmapgl": [
           {
            "colorbar": {
             "outlinewidth": 0,
             "ticks": ""
            },
            "colorscale": [
             [
              0,
              "#0d0887"
             ],
             [
              0.1111111111111111,
              "#46039f"
             ],
             [
              0.2222222222222222,
              "#7201a8"
             ],
             [
              0.3333333333333333,
              "#9c179e"
             ],
             [
              0.4444444444444444,
              "#bd3786"
             ],
             [
              0.5555555555555556,
              "#d8576b"
             ],
             [
              0.6666666666666666,
              "#ed7953"
             ],
             [
              0.7777777777777778,
              "#fb9f3a"
             ],
             [
              0.8888888888888888,
              "#fdca26"
             ],
             [
              1,
              "#f0f921"
             ]
            ],
            "type": "heatmapgl"
           }
          ],
          "histogram": [
           {
            "marker": {
             "pattern": {
              "fillmode": "overlay",
              "size": 10,
              "solidity": 0.2
             }
            },
            "type": "histogram"
           }
          ],
          "histogram2d": [
           {
            "colorbar": {
             "outlinewidth": 0,
             "ticks": ""
            },
            "colorscale": [
             [
              0,
              "#0d0887"
             ],
             [
              0.1111111111111111,
              "#46039f"
             ],
             [
              0.2222222222222222,
              "#7201a8"
             ],
             [
              0.3333333333333333,
              "#9c179e"
             ],
             [
              0.4444444444444444,
              "#bd3786"
             ],
             [
              0.5555555555555556,
              "#d8576b"
             ],
             [
              0.6666666666666666,
              "#ed7953"
             ],
             [
              0.7777777777777778,
              "#fb9f3a"
             ],
             [
              0.8888888888888888,
              "#fdca26"
             ],
             [
              1,
              "#f0f921"
             ]
            ],
            "type": "histogram2d"
           }
          ],
          "histogram2dcontour": [
           {
            "colorbar": {
             "outlinewidth": 0,
             "ticks": ""
            },
            "colorscale": [
             [
              0,
              "#0d0887"
             ],
             [
              0.1111111111111111,
              "#46039f"
             ],
             [
              0.2222222222222222,
              "#7201a8"
             ],
             [
              0.3333333333333333,
              "#9c179e"
             ],
             [
              0.4444444444444444,
              "#bd3786"
             ],
             [
              0.5555555555555556,
              "#d8576b"
             ],
             [
              0.6666666666666666,
              "#ed7953"
             ],
             [
              0.7777777777777778,
              "#fb9f3a"
             ],
             [
              0.8888888888888888,
              "#fdca26"
             ],
             [
              1,
              "#f0f921"
             ]
            ],
            "type": "histogram2dcontour"
           }
          ],
          "mesh3d": [
           {
            "colorbar": {
             "outlinewidth": 0,
             "ticks": ""
            },
            "type": "mesh3d"
           }
          ],
          "parcoords": [
           {
            "line": {
             "colorbar": {
              "outlinewidth": 0,
              "ticks": ""
             }
            },
            "type": "parcoords"
           }
          ],
          "pie": [
           {
            "automargin": true,
            "type": "pie"
           }
          ],
          "scatter": [
           {
            "fillpattern": {
             "fillmode": "overlay",
             "size": 10,
             "solidity": 0.2
            },
            "type": "scatter"
           }
          ],
          "scatter3d": [
           {
            "line": {
             "colorbar": {
              "outlinewidth": 0,
              "ticks": ""
             }
            },
            "marker": {
             "colorbar": {
              "outlinewidth": 0,
              "ticks": ""
             }
            },
            "type": "scatter3d"
           }
          ],
          "scattercarpet": [
           {
            "marker": {
             "colorbar": {
              "outlinewidth": 0,
              "ticks": ""
             }
            },
            "type": "scattercarpet"
           }
          ],
          "scattergeo": [
           {
            "marker": {
             "colorbar": {
              "outlinewidth": 0,
              "ticks": ""
             }
            },
            "type": "scattergeo"
           }
          ],
          "scattergl": [
           {
            "marker": {
             "colorbar": {
              "outlinewidth": 0,
              "ticks": ""
             }
            },
            "type": "scattergl"
           }
          ],
          "scattermapbox": [
           {
            "marker": {
             "colorbar": {
              "outlinewidth": 0,
              "ticks": ""
             }
            },
            "type": "scattermapbox"
           }
          ],
          "scatterpolar": [
           {
            "marker": {
             "colorbar": {
              "outlinewidth": 0,
              "ticks": ""
             }
            },
            "type": "scatterpolar"
           }
          ],
          "scatterpolargl": [
           {
            "marker": {
             "colorbar": {
              "outlinewidth": 0,
              "ticks": ""
             }
            },
            "type": "scatterpolargl"
           }
          ],
          "scatterternary": [
           {
            "marker": {
             "colorbar": {
              "outlinewidth": 0,
              "ticks": ""
             }
            },
            "type": "scatterternary"
           }
          ],
          "surface": [
           {
            "colorbar": {
             "outlinewidth": 0,
             "ticks": ""
            },
            "colorscale": [
             [
              0,
              "#0d0887"
             ],
             [
              0.1111111111111111,
              "#46039f"
             ],
             [
              0.2222222222222222,
              "#7201a8"
             ],
             [
              0.3333333333333333,
              "#9c179e"
             ],
             [
              0.4444444444444444,
              "#bd3786"
             ],
             [
              0.5555555555555556,
              "#d8576b"
             ],
             [
              0.6666666666666666,
              "#ed7953"
             ],
             [
              0.7777777777777778,
              "#fb9f3a"
             ],
             [
              0.8888888888888888,
              "#fdca26"
             ],
             [
              1,
              "#f0f921"
             ]
            ],
            "type": "surface"
           }
          ],
          "table": [
           {
            "cells": {
             "fill": {
              "color": "#EBF0F8"
             },
             "line": {
              "color": "white"
             }
            },
            "header": {
             "fill": {
              "color": "#C8D4E3"
             },
             "line": {
              "color": "white"
             }
            },
            "type": "table"
           }
          ]
         },
         "layout": {
          "annotationdefaults": {
           "arrowcolor": "#2a3f5f",
           "arrowhead": 0,
           "arrowwidth": 1
          },
          "autotypenumbers": "strict",
          "coloraxis": {
           "colorbar": {
            "outlinewidth": 0,
            "ticks": ""
           }
          },
          "colorscale": {
           "diverging": [
            [
             0,
             "#8e0152"
            ],
            [
             0.1,
             "#c51b7d"
            ],
            [
             0.2,
             "#de77ae"
            ],
            [
             0.3,
             "#f1b6da"
            ],
            [
             0.4,
             "#fde0ef"
            ],
            [
             0.5,
             "#f7f7f7"
            ],
            [
             0.6,
             "#e6f5d0"
            ],
            [
             0.7,
             "#b8e186"
            ],
            [
             0.8,
             "#7fbc41"
            ],
            [
             0.9,
             "#4d9221"
            ],
            [
             1,
             "#276419"
            ]
           ],
           "sequential": [
            [
             0,
             "#0d0887"
            ],
            [
             0.1111111111111111,
             "#46039f"
            ],
            [
             0.2222222222222222,
             "#7201a8"
            ],
            [
             0.3333333333333333,
             "#9c179e"
            ],
            [
             0.4444444444444444,
             "#bd3786"
            ],
            [
             0.5555555555555556,
             "#d8576b"
            ],
            [
             0.6666666666666666,
             "#ed7953"
            ],
            [
             0.7777777777777778,
             "#fb9f3a"
            ],
            [
             0.8888888888888888,
             "#fdca26"
            ],
            [
             1,
             "#f0f921"
            ]
           ],
           "sequentialminus": [
            [
             0,
             "#0d0887"
            ],
            [
             0.1111111111111111,
             "#46039f"
            ],
            [
             0.2222222222222222,
             "#7201a8"
            ],
            [
             0.3333333333333333,
             "#9c179e"
            ],
            [
             0.4444444444444444,
             "#bd3786"
            ],
            [
             0.5555555555555556,
             "#d8576b"
            ],
            [
             0.6666666666666666,
             "#ed7953"
            ],
            [
             0.7777777777777778,
             "#fb9f3a"
            ],
            [
             0.8888888888888888,
             "#fdca26"
            ],
            [
             1,
             "#f0f921"
            ]
           ]
          },
          "colorway": [
           "#636efa",
           "#EF553B",
           "#00cc96",
           "#ab63fa",
           "#FFA15A",
           "#19d3f3",
           "#FF6692",
           "#B6E880",
           "#FF97FF",
           "#FECB52"
          ],
          "font": {
           "color": "#2a3f5f"
          },
          "geo": {
           "bgcolor": "white",
           "lakecolor": "white",
           "landcolor": "#E5ECF6",
           "showlakes": true,
           "showland": true,
           "subunitcolor": "white"
          },
          "hoverlabel": {
           "align": "left"
          },
          "hovermode": "closest",
          "mapbox": {
           "style": "light"
          },
          "paper_bgcolor": "white",
          "plot_bgcolor": "#E5ECF6",
          "polar": {
           "angularaxis": {
            "gridcolor": "white",
            "linecolor": "white",
            "ticks": ""
           },
           "bgcolor": "#E5ECF6",
           "radialaxis": {
            "gridcolor": "white",
            "linecolor": "white",
            "ticks": ""
           }
          },
          "scene": {
           "xaxis": {
            "backgroundcolor": "#E5ECF6",
            "gridcolor": "white",
            "gridwidth": 2,
            "linecolor": "white",
            "showbackground": true,
            "ticks": "",
            "zerolinecolor": "white"
           },
           "yaxis": {
            "backgroundcolor": "#E5ECF6",
            "gridcolor": "white",
            "gridwidth": 2,
            "linecolor": "white",
            "showbackground": true,
            "ticks": "",
            "zerolinecolor": "white"
           },
           "zaxis": {
            "backgroundcolor": "#E5ECF6",
            "gridcolor": "white",
            "gridwidth": 2,
            "linecolor": "white",
            "showbackground": true,
            "ticks": "",
            "zerolinecolor": "white"
           }
          },
          "shapedefaults": {
           "line": {
            "color": "#2a3f5f"
           }
          },
          "ternary": {
           "aaxis": {
            "gridcolor": "white",
            "linecolor": "white",
            "ticks": ""
           },
           "baxis": {
            "gridcolor": "white",
            "linecolor": "white",
            "ticks": ""
           },
           "bgcolor": "#E5ECF6",
           "caxis": {
            "gridcolor": "white",
            "linecolor": "white",
            "ticks": ""
           }
          },
          "title": {
           "x": 0.05
          },
          "xaxis": {
           "automargin": true,
           "gridcolor": "white",
           "linecolor": "white",
           "ticks": "",
           "title": {
            "standoff": 15
           },
           "zerolinecolor": "white",
           "zerolinewidth": 2
          },
          "yaxis": {
           "automargin": true,
           "gridcolor": "white",
           "linecolor": "white",
           "ticks": "",
           "title": {
            "standoff": 15
           },
           "zerolinecolor": "white",
           "zerolinewidth": 2
          }
         }
        },
        "xaxis": {
         "anchor": "y",
         "domain": [
          0,
          1
         ],
         "title": {
          "text": "lat_norm"
         }
        },
        "yaxis": {
         "anchor": "x",
         "domain": [
          0,
          1
         ],
         "title": {
          "text": "lon_norm"
         }
        }
       }
      },
      "text/html": [
       "<div>                            <div id=\"e04997a6-041d-48a3-ae90-d53826c554bb\" class=\"plotly-graph-div\" style=\"height:525px; width:100%;\"></div>            <script type=\"text/javascript\">                require([\"plotly\"], function(Plotly) {                    window.PLOTLYENV=window.PLOTLYENV || {};                                    if (document.getElementById(\"e04997a6-041d-48a3-ae90-d53826c554bb\")) {                    Plotly.newPlot(                        \"e04997a6-041d-48a3-ae90-d53826c554bb\",                        [{\"hovertemplate\":\"geohash2=u0f_0<br>lat_norm=%{x}<br>lon_norm=%{y}<extra></extra>\",\"legendgroup\":\"u0f_0\",\"line\":{\"color\":\"#636efa\",\"dash\":\"solid\"},\"marker\":{\"symbol\":\"circle\"},\"mode\":\"lines\",\"name\":\"u0f_0\",\"orientation\":\"v\",\"showlegend\":true,\"x\":[0.9262500000000031,0.9079499999999996,0.9055499999999981,0.9046499999999966,0.9034499999999994,0.9112500000000026,0.9268500000000017,0.9220499999999987,0.9178500000000014,0.9154499999999999,0.9145499999999984,0.9133500000000012,0.9139499999999998,0.9130499999999984,0.9124499999999998,0.9115499999999983,0.9139499999999998,0.9148500000000013,0.9124499999999998,0.9082500000000024,0.9118500000000012,0.9106499999999969,0.9079499999999996,0.9256499999999974,0.9268500000000017,0.9238500000000016,0.929549999999999,0.9124499999999998,0.9163500000000013,0.9022500000000022,0.9019499999999994,0.9028500000000008,0.9382499999999965,0.9373500000000021,0.9268500000000017,0.9274500000000003,0.9220499999999987,0.9229500000000002,0.921750000000003,0.9115499999999983,0.9097500000000025,0.9079499999999996,0.9082500000000024,0.9079499999999996,0.9079499999999996,0.9076499999999967,0.9118500000000012,0.913649999999997,0.9106499999999969,0.9097500000000025,0.9097500000000025,0.9100499999999982,0.9097500000000025,0.9094499999999996,0.9103500000000011,0.9094499999999996,0.9094499999999996,0.9097500000000025,0.9091499999999968,0.9085499999999982,0.9076499999999967,0.9067500000000024,0.9064499999999995,0.9067500000000024,0.9052500000000023,0.9052500000000023,0.9064499999999995,0.9058500000000009,0.9070499999999981,0.9061499999999967,0.9067500000000024,0.9070499999999981,0.9052500000000023,0.9049499999999995,0.9052500000000023,0.9055499999999981,0.9058500000000009,0.9067500000000024,0.9070499999999981,0.9070499999999981,0.9067500000000024,0.9070499999999981,0.9070499999999981,0.9067500000000024,0.9103500000000011,0.9079499999999996,0.9109499999999997,0.9103500000000011,0.9103500000000011,0.9109499999999997,0.9061499999999967,0.9100499999999982,0.9109499999999997,0.908850000000001,0.9076499999999967,0.9037500000000023,0.9034499999999994,0.9034499999999994,0.9043500000000009,0.9049499999999995,0.904049999999998,0.9049499999999995,0.9052500000000023,0.9049499999999995,0.9064499999999995,0.9034499999999994,0.902549999999998,0.9070499999999981,0.9067500000000024,0.9130499999999984,0.9142500000000027,0.913649999999997,0.9139499999999998,0.913649999999997,0.9160499999999985,0.9133500000000012,0.913649999999997,0.9148500000000013,0.9157500000000027,0.9154499999999999,0.9160499999999985,0.9163500000000013,0.9163500000000013,0.9181499999999971,0.9175499999999985,0.9172500000000028,0.9163500000000013,0.9157500000000027,0.9157500000000027,0.9166499999999971,0.9160499999999985,0.9166499999999971,0.9169499999999999,0.9172500000000028,0.9166499999999971,0.9178500000000014,0.91845,0.9178500000000014,0.9169499999999999,0.9160499999999985,0.9163500000000013,0.9160499999999985,0.9169499999999999,0.9166499999999971,0.9160499999999985,0.9157500000000027,0.9160499999999985,0.9163500000000013,0.9157500000000027,0.9160499999999985,0.9157500000000027,0.9157500000000027,0.9160499999999985,0.9169499999999999,0.9127500000000026,0.9121499999999969,0.9130499999999984,0.9109499999999997,0.9106499999999969,0.9115499999999983,0.9115499999999983,0.9109499999999997,0.9118500000000012,0.9109499999999997,0.9112500000000026,0.9118500000000012,0.9118500000000012,0.9133500000000012,0.9127500000000026,0.913649999999997,0.913649999999997,0.9148500000000013,0.9145499999999984,0.9145499999999984,0.9145499999999984,0.915149999999997,0.913649999999997,0.9130499999999984,0.9109499999999997,0.9112500000000026,0.9103500000000011,0.9109499999999997,0.9103500000000011,0.9097500000000025,0.9106499999999969,0.9103500000000011,0.9139499999999998,0.9142500000000027,0.9142500000000027,0.9142500000000027,0.9130499999999984,0.9130499999999984,0.9145499999999984,0.9145499999999984,0.9145499999999984,0.9121499999999969,0.9121499999999969,0.9118500000000012,0.9109499999999997,0.9121499999999969,0.9106499999999969,0.9115499999999983,0.9079499999999996,0.9109499999999997,0.9115499999999983,0.9121499999999969,0.9112500000000026],\"xaxis\":\"x\",\"y\":[0.9592499999999999,0.96225,0.9634499999999999,0.9625499999999998,0.9604499999999998,0.9709500000000002,0.9613499999999999,0.9580500000000001,0.9559500000000001,0.9499499999999999,0.9484499999999998,0.9478499999999999,0.9493499999999999,0.94665,0.9469500000000002,0.9493499999999999,0.9469500000000002,0.9496500000000001,0.9511500000000002,0.95085,0.95655,0.95445,0.9514499999999999,0.9562499999999998,0.9568500000000002,0.9532500000000002,0.9547500000000002,0.95085,0.95025,0.9556499999999999,0.9532500000000002,0.9553500000000001,0.9640499999999999,0.96495,0.9589500000000002,0.9634499999999999,0.9592499999999999,0.9598499999999999,0.9589500000000002,0.9568500000000002,0.9535499999999999,0.9541499999999998,0.9541499999999998,0.9511500000000002,0.9535499999999999,0.95295,0.95085,0.9457499999999999,0.9415499999999999,0.9418500000000001,0.9415499999999999,0.94035,0.9406500000000002,0.9412500000000001,0.94035,0.9397500000000001,0.9391500000000002,0.9394499999999999,0.9397500000000001,0.9418500000000001,0.93885,0.9397500000000001,0.9394499999999999,0.9394499999999999,0.9373499999999999,0.9400499999999998,0.9397500000000001,0.93885,0.9391500000000002,0.9376500000000001,0.93885,0.9397500000000001,0.9385500000000002,0.9391500000000002,0.93885,0.9400499999999998,0.9400499999999998,0.9400499999999998,0.9406500000000002,0.94035,0.9391500000000002,0.93885,0.9391500000000002,0.9412500000000001,0.9406500000000002,0.9391500000000002,0.9418500000000001,0.94095,0.9400499999999998,0.9400499999999998,0.9400499999999998,0.94035,0.9391500000000002,0.9451499999999999,0.9400499999999998,0.9430499999999999,0.9421499999999998,0.94245,0.94245,0.94245,0.9415499999999999,0.9406500000000002,0.9421499999999998,0.9415499999999999,0.94245,0.94095,0.9400499999999998,0.9397500000000001,0.9394499999999999,0.9415499999999999,0.9418500000000001,0.94095,0.9415499999999999,0.9418500000000001,0.9418500000000001,0.9457499999999999,0.9469500000000002,0.94875,0.9511500000000002,0.9511500000000002,0.95025,0.95085,0.9505499999999998,0.9547500000000002,0.95505,0.95445,0.9538500000000001,0.95445,0.95505,0.9553500000000001,0.9547500000000002,0.9538500000000001,0.9574500000000001,0.9559500000000001,0.9541499999999998,0.9553500000000001,0.95655,0.9532500000000002,0.9562499999999998,0.9568500000000002,0.9562499999999998,0.9559500000000001,0.95655,0.9562499999999998,0.9568500000000002,0.9577499999999999,0.9580500000000001,0.9580500000000001,0.9577499999999999,0.95715,0.9574500000000001,0.95715,0.9562499999999998,0.9592499999999999,0.95655,0.9592499999999999,0.9592499999999999,0.95505,0.9547500000000002,0.9541499999999998,0.9538500000000001,0.9535499999999999,0.9517500000000001,0.9505499999999998,0.9514499999999999,0.9517500000000001,0.9511500000000002,0.9499499999999999,0.94875,0.95085,0.94815,0.9499499999999999,0.9493499999999999,0.94875,0.9475500000000001,0.95025,0.9505499999999998,0.95025,0.9538500000000001,0.9535499999999999,0.9505499999999998,0.9556499999999999,0.95445,0.9535499999999999,0.9541499999999998,0.9547500000000002,0.94815,0.9478499999999999,0.9478499999999999,0.94815,0.9475500000000001,0.9484499999999998,0.9478499999999999,0.9484499999999998,0.9493499999999999,0.9559500000000001,0.9553500000000001,0.9568500000000002,0.9559500000000001,0.9562499999999998,0.9562499999999998,0.9505499999999998,0.95655,0.95505,0.9559500000000001,0.9538500000000001,0.95445],\"yaxis\":\"y\",\"type\":\"scatter\"}],                        {\"template\":{\"data\":{\"histogram2dcontour\":[{\"type\":\"histogram2dcontour\",\"colorbar\":{\"outlinewidth\":0,\"ticks\":\"\"},\"colorscale\":[[0.0,\"#0d0887\"],[0.1111111111111111,\"#46039f\"],[0.2222222222222222,\"#7201a8\"],[0.3333333333333333,\"#9c179e\"],[0.4444444444444444,\"#bd3786\"],[0.5555555555555556,\"#d8576b\"],[0.6666666666666666,\"#ed7953\"],[0.7777777777777778,\"#fb9f3a\"],[0.8888888888888888,\"#fdca26\"],[1.0,\"#f0f921\"]]}],\"choropleth\":[{\"type\":\"choropleth\",\"colorbar\":{\"outlinewidth\":0,\"ticks\":\"\"}}],\"histogram2d\":[{\"type\":\"histogram2d\",\"colorbar\":{\"outlinewidth\":0,\"ticks\":\"\"},\"colorscale\":[[0.0,\"#0d0887\"],[0.1111111111111111,\"#46039f\"],[0.2222222222222222,\"#7201a8\"],[0.3333333333333333,\"#9c179e\"],[0.4444444444444444,\"#bd3786\"],[0.5555555555555556,\"#d8576b\"],[0.6666666666666666,\"#ed7953\"],[0.7777777777777778,\"#fb9f3a\"],[0.8888888888888888,\"#fdca26\"],[1.0,\"#f0f921\"]]}],\"heatmap\":[{\"type\":\"heatmap\",\"colorbar\":{\"outlinewidth\":0,\"ticks\":\"\"},\"colorscale\":[[0.0,\"#0d0887\"],[0.1111111111111111,\"#46039f\"],[0.2222222222222222,\"#7201a8\"],[0.3333333333333333,\"#9c179e\"],[0.4444444444444444,\"#bd3786\"],[0.5555555555555556,\"#d8576b\"],[0.6666666666666666,\"#ed7953\"],[0.7777777777777778,\"#fb9f3a\"],[0.8888888888888888,\"#fdca26\"],[1.0,\"#f0f921\"]]}],\"heatmapgl\":[{\"type\":\"heatmapgl\",\"colorbar\":{\"outlinewidth\":0,\"ticks\":\"\"},\"colorscale\":[[0.0,\"#0d0887\"],[0.1111111111111111,\"#46039f\"],[0.2222222222222222,\"#7201a8\"],[0.3333333333333333,\"#9c179e\"],[0.4444444444444444,\"#bd3786\"],[0.5555555555555556,\"#d8576b\"],[0.6666666666666666,\"#ed7953\"],[0.7777777777777778,\"#fb9f3a\"],[0.8888888888888888,\"#fdca26\"],[1.0,\"#f0f921\"]]}],\"contourcarpet\":[{\"type\":\"contourcarpet\",\"colorbar\":{\"outlinewidth\":0,\"ticks\":\"\"}}],\"contour\":[{\"type\":\"contour\",\"colorbar\":{\"outlinewidth\":0,\"ticks\":\"\"},\"colorscale\":[[0.0,\"#0d0887\"],[0.1111111111111111,\"#46039f\"],[0.2222222222222222,\"#7201a8\"],[0.3333333333333333,\"#9c179e\"],[0.4444444444444444,\"#bd3786\"],[0.5555555555555556,\"#d8576b\"],[0.6666666666666666,\"#ed7953\"],[0.7777777777777778,\"#fb9f3a\"],[0.8888888888888888,\"#fdca26\"],[1.0,\"#f0f921\"]]}],\"surface\":[{\"type\":\"surface\",\"colorbar\":{\"outlinewidth\":0,\"ticks\":\"\"},\"colorscale\":[[0.0,\"#0d0887\"],[0.1111111111111111,\"#46039f\"],[0.2222222222222222,\"#7201a8\"],[0.3333333333333333,\"#9c179e\"],[0.4444444444444444,\"#bd3786\"],[0.5555555555555556,\"#d8576b\"],[0.6666666666666666,\"#ed7953\"],[0.7777777777777778,\"#fb9f3a\"],[0.8888888888888888,\"#fdca26\"],[1.0,\"#f0f921\"]]}],\"mesh3d\":[{\"type\":\"mesh3d\",\"colorbar\":{\"outlinewidth\":0,\"ticks\":\"\"}}],\"scatter\":[{\"fillpattern\":{\"fillmode\":\"overlay\",\"size\":10,\"solidity\":0.2},\"type\":\"scatter\"}],\"parcoords\":[{\"type\":\"parcoords\",\"line\":{\"colorbar\":{\"outlinewidth\":0,\"ticks\":\"\"}}}],\"scatterpolargl\":[{\"type\":\"scatterpolargl\",\"marker\":{\"colorbar\":{\"outlinewidth\":0,\"ticks\":\"\"}}}],\"bar\":[{\"error_x\":{\"color\":\"#2a3f5f\"},\"error_y\":{\"color\":\"#2a3f5f\"},\"marker\":{\"line\":{\"color\":\"#E5ECF6\",\"width\":0.5},\"pattern\":{\"fillmode\":\"overlay\",\"size\":10,\"solidity\":0.2}},\"type\":\"bar\"}],\"scattergeo\":[{\"type\":\"scattergeo\",\"marker\":{\"colorbar\":{\"outlinewidth\":0,\"ticks\":\"\"}}}],\"scatterpolar\":[{\"type\":\"scatterpolar\",\"marker\":{\"colorbar\":{\"outlinewidth\":0,\"ticks\":\"\"}}}],\"histogram\":[{\"marker\":{\"pattern\":{\"fillmode\":\"overlay\",\"size\":10,\"solidity\":0.2}},\"type\":\"histogram\"}],\"scattergl\":[{\"type\":\"scattergl\",\"marker\":{\"colorbar\":{\"outlinewidth\":0,\"ticks\":\"\"}}}],\"scatter3d\":[{\"type\":\"scatter3d\",\"line\":{\"colorbar\":{\"outlinewidth\":0,\"ticks\":\"\"}},\"marker\":{\"colorbar\":{\"outlinewidth\":0,\"ticks\":\"\"}}}],\"scattermapbox\":[{\"type\":\"scattermapbox\",\"marker\":{\"colorbar\":{\"outlinewidth\":0,\"ticks\":\"\"}}}],\"scatterternary\":[{\"type\":\"scatterternary\",\"marker\":{\"colorbar\":{\"outlinewidth\":0,\"ticks\":\"\"}}}],\"scattercarpet\":[{\"type\":\"scattercarpet\",\"marker\":{\"colorbar\":{\"outlinewidth\":0,\"ticks\":\"\"}}}],\"carpet\":[{\"aaxis\":{\"endlinecolor\":\"#2a3f5f\",\"gridcolor\":\"white\",\"linecolor\":\"white\",\"minorgridcolor\":\"white\",\"startlinecolor\":\"#2a3f5f\"},\"baxis\":{\"endlinecolor\":\"#2a3f5f\",\"gridcolor\":\"white\",\"linecolor\":\"white\",\"minorgridcolor\":\"white\",\"startlinecolor\":\"#2a3f5f\"},\"type\":\"carpet\"}],\"table\":[{\"cells\":{\"fill\":{\"color\":\"#EBF0F8\"},\"line\":{\"color\":\"white\"}},\"header\":{\"fill\":{\"color\":\"#C8D4E3\"},\"line\":{\"color\":\"white\"}},\"type\":\"table\"}],\"barpolar\":[{\"marker\":{\"line\":{\"color\":\"#E5ECF6\",\"width\":0.5},\"pattern\":{\"fillmode\":\"overlay\",\"size\":10,\"solidity\":0.2}},\"type\":\"barpolar\"}],\"pie\":[{\"automargin\":true,\"type\":\"pie\"}]},\"layout\":{\"autotypenumbers\":\"strict\",\"colorway\":[\"#636efa\",\"#EF553B\",\"#00cc96\",\"#ab63fa\",\"#FFA15A\",\"#19d3f3\",\"#FF6692\",\"#B6E880\",\"#FF97FF\",\"#FECB52\"],\"font\":{\"color\":\"#2a3f5f\"},\"hovermode\":\"closest\",\"hoverlabel\":{\"align\":\"left\"},\"paper_bgcolor\":\"white\",\"plot_bgcolor\":\"#E5ECF6\",\"polar\":{\"bgcolor\":\"#E5ECF6\",\"angularaxis\":{\"gridcolor\":\"white\",\"linecolor\":\"white\",\"ticks\":\"\"},\"radialaxis\":{\"gridcolor\":\"white\",\"linecolor\":\"white\",\"ticks\":\"\"}},\"ternary\":{\"bgcolor\":\"#E5ECF6\",\"aaxis\":{\"gridcolor\":\"white\",\"linecolor\":\"white\",\"ticks\":\"\"},\"baxis\":{\"gridcolor\":\"white\",\"linecolor\":\"white\",\"ticks\":\"\"},\"caxis\":{\"gridcolor\":\"white\",\"linecolor\":\"white\",\"ticks\":\"\"}},\"coloraxis\":{\"colorbar\":{\"outlinewidth\":0,\"ticks\":\"\"}},\"colorscale\":{\"sequential\":[[0.0,\"#0d0887\"],[0.1111111111111111,\"#46039f\"],[0.2222222222222222,\"#7201a8\"],[0.3333333333333333,\"#9c179e\"],[0.4444444444444444,\"#bd3786\"],[0.5555555555555556,\"#d8576b\"],[0.6666666666666666,\"#ed7953\"],[0.7777777777777778,\"#fb9f3a\"],[0.8888888888888888,\"#fdca26\"],[1.0,\"#f0f921\"]],\"sequentialminus\":[[0.0,\"#0d0887\"],[0.1111111111111111,\"#46039f\"],[0.2222222222222222,\"#7201a8\"],[0.3333333333333333,\"#9c179e\"],[0.4444444444444444,\"#bd3786\"],[0.5555555555555556,\"#d8576b\"],[0.6666666666666666,\"#ed7953\"],[0.7777777777777778,\"#fb9f3a\"],[0.8888888888888888,\"#fdca26\"],[1.0,\"#f0f921\"]],\"diverging\":[[0,\"#8e0152\"],[0.1,\"#c51b7d\"],[0.2,\"#de77ae\"],[0.3,\"#f1b6da\"],[0.4,\"#fde0ef\"],[0.5,\"#f7f7f7\"],[0.6,\"#e6f5d0\"],[0.7,\"#b8e186\"],[0.8,\"#7fbc41\"],[0.9,\"#4d9221\"],[1,\"#276419\"]]},\"xaxis\":{\"gridcolor\":\"white\",\"linecolor\":\"white\",\"ticks\":\"\",\"title\":{\"standoff\":15},\"zerolinecolor\":\"white\",\"automargin\":true,\"zerolinewidth\":2},\"yaxis\":{\"gridcolor\":\"white\",\"linecolor\":\"white\",\"ticks\":\"\",\"title\":{\"standoff\":15},\"zerolinecolor\":\"white\",\"automargin\":true,\"zerolinewidth\":2},\"scene\":{\"xaxis\":{\"backgroundcolor\":\"#E5ECF6\",\"gridcolor\":\"white\",\"linecolor\":\"white\",\"showbackground\":true,\"ticks\":\"\",\"zerolinecolor\":\"white\",\"gridwidth\":2},\"yaxis\":{\"backgroundcolor\":\"#E5ECF6\",\"gridcolor\":\"white\",\"linecolor\":\"white\",\"showbackground\":true,\"ticks\":\"\",\"zerolinecolor\":\"white\",\"gridwidth\":2},\"zaxis\":{\"backgroundcolor\":\"#E5ECF6\",\"gridcolor\":\"white\",\"linecolor\":\"white\",\"showbackground\":true,\"ticks\":\"\",\"zerolinecolor\":\"white\",\"gridwidth\":2}},\"shapedefaults\":{\"line\":{\"color\":\"#2a3f5f\"}},\"annotationdefaults\":{\"arrowcolor\":\"#2a3f5f\",\"arrowhead\":0,\"arrowwidth\":1},\"geo\":{\"bgcolor\":\"white\",\"landcolor\":\"#E5ECF6\",\"subunitcolor\":\"white\",\"showland\":true,\"showlakes\":true,\"lakecolor\":\"white\"},\"title\":{\"x\":0.05},\"mapbox\":{\"style\":\"light\"}}},\"xaxis\":{\"anchor\":\"y\",\"domain\":[0.0,1.0],\"title\":{\"text\":\"lat_norm\"}},\"yaxis\":{\"anchor\":\"x\",\"domain\":[0.0,1.0],\"title\":{\"text\":\"lon_norm\"}},\"legend\":{\"title\":{\"text\":\"geohash2\"},\"tracegroupgap\":0},\"margin\":{\"t\":60}},                        {\"responsive\": true}                    ).then(function(){\n",
       "                            \n",
       "var gd = document.getElementById('e04997a6-041d-48a3-ae90-d53826c554bb');\n",
       "var x = new MutationObserver(function (mutations, observer) {{\n",
       "        var display = window.getComputedStyle(gd).display;\n",
       "        if (!display || display === 'none') {{\n",
       "            console.log([gd, 'removed!']);\n",
       "            Plotly.purge(gd);\n",
       "            observer.disconnect();\n",
       "        }}\n",
       "}});\n",
       "\n",
       "// Listen for the removal of the full notebook cells\n",
       "var notebookContainer = gd.closest('#notebook-container');\n",
       "if (notebookContainer) {{\n",
       "    x.observe(notebookContainer, {childList: true});\n",
       "}}\n",
       "\n",
       "// Listen for the clearing of the current output cell\n",
       "var outputEl = gd.closest('.output');\n",
       "if (outputEl) {{\n",
       "    x.observe(outputEl, {childList: true});\n",
       "}}\n",
       "\n",
       "                        })                };                });            </script>        </div>"
      ]
     },
     "metadata": {},
     "output_type": "display_data"
    }
   ],
   "source": [
    "px.line(df[df.tid==1], x=\"lat_norm\", y=\"lon_norm\", color=\"geohash2\")"
   ]
  },
  {
   "cell_type": "code",
   "execution_count": 41,
   "metadata": {
    "pycharm": {
     "name": "#%%\n"
    }
   },
   "outputs": [
    {
     "data": {
      "application/vnd.plotly.v1+json": {
       "config": {
        "plotlyServerURL": "https://plot.ly"
       },
       "data": [
        {
         "hovertemplate": "t=%{x}<br>c1=%{y}<br>c2=%{z}<extra></extra>",
         "legendgroup": "",
         "line": {
          "color": "#636efa",
          "dash": "solid"
         },
         "marker": {
          "symbol": "circle"
         },
         "mode": "lines",
         "name": "",
         "scene": "scene",
         "showlegend": false,
         "type": "scatter3d",
         "x": [
          0,
          46,
          48,
          59,
          60,
          71,
          78,
          80,
          82,
          88,
          96,
          97,
          106,
          117,
          118,
          122,
          123,
          125,
          129,
          130,
          134,
          141,
          143,
          145,
          148,
          154,
          161,
          164,
          166,
          175,
          178,
          180,
          185,
          189,
          191,
          192,
          194,
          196,
          201,
          228,
          237,
          240,
          242,
          245,
          247,
          249,
          261,
          263,
          267,
          268,
          274,
          275,
          277,
          284,
          286,
          288,
          290,
          294,
          297,
          300,
          302,
          309,
          311,
          313,
          316,
          318,
          320,
          322,
          323,
          329,
          330,
          334,
          339,
          341,
          341,
          342,
          342,
          343,
          347,
          352,
          354,
          356,
          358,
          359,
          361,
          363,
          364,
          366,
          370,
          371,
          373,
          377,
          379,
          380,
          384,
          386,
          387,
          389,
          391,
          393,
          395,
          396,
          405,
          407,
          410,
          414,
          416,
          418,
          419,
          421,
          430,
          432,
          434,
          435,
          439,
          441,
          443,
          453,
          461,
          465,
          467,
          479,
          483,
          485,
          487,
          489,
          491,
          493,
          494,
          497,
          499,
          501,
          503,
          505,
          506,
          509,
          511,
          513,
          515,
          517,
          519,
          521,
          523,
          525,
          527,
          529,
          531,
          533,
          537,
          538,
          540,
          542,
          544,
          549,
          550,
          558,
          564,
          566,
          568,
          570,
          572,
          574,
          576,
          580,
          582,
          584,
          586,
          592,
          594,
          598,
          600,
          602,
          604,
          606,
          609,
          611,
          614,
          617,
          623,
          627,
          629,
          635,
          637,
          639,
          643,
          645,
          647,
          649,
          651,
          653,
          655,
          659,
          661,
          665,
          669,
          671,
          673,
          677,
          681,
          692,
          694,
          696,
          697,
          699,
          708,
          710,
          712
         ],
         "y": [
          50.145,
          50.1267,
          50.1243,
          50.1234,
          50.1222,
          50.13,
          50.1456,
          50.1408,
          50.1366,
          50.1342,
          50.1333,
          50.1321,
          50.1327,
          50.1318,
          50.1312,
          50.1303,
          50.1327,
          50.1336,
          50.1312,
          50.127,
          50.1306,
          50.1294,
          50.1267,
          50.1444,
          50.1456,
          50.1426,
          50.1483,
          50.1312,
          50.1351,
          50.121,
          50.1207,
          50.1216,
          50.157,
          50.1561,
          50.1456,
          50.1462,
          50.1408,
          50.1417,
          50.1405,
          50.1303,
          50.1285,
          50.1267,
          50.127,
          50.1267,
          50.1267,
          50.1264,
          50.1306,
          50.1324,
          50.1294,
          50.1285,
          50.1285,
          50.1288,
          50.1285,
          50.1282,
          50.1291,
          50.1282,
          50.1282,
          50.1285,
          50.1279,
          50.1273,
          50.1264,
          50.1255,
          50.1252,
          50.1255,
          50.124,
          50.124,
          50.1252,
          50.1246,
          50.1258,
          50.1249,
          50.1255,
          50.1258,
          50.124,
          50.1237,
          50.124,
          50.1243,
          50.1246,
          50.1255,
          50.1258,
          50.1258,
          50.1255,
          50.1258,
          50.1258,
          50.1255,
          50.1291,
          50.1267,
          50.1297,
          50.1291,
          50.1291,
          50.1297,
          50.1249,
          50.1288,
          50.1297,
          50.1276,
          50.1264,
          50.1225,
          50.1222,
          50.1222,
          50.1231,
          50.1237,
          50.1228,
          50.1237,
          50.124,
          50.1237,
          50.1252,
          50.1222,
          50.1213,
          50.1258,
          50.1255,
          50.1318,
          50.133,
          50.1324,
          50.1327,
          50.1324,
          50.1348,
          50.1321,
          50.1324,
          50.1336,
          50.1345,
          50.1342,
          50.1348,
          50.1351,
          50.1351,
          50.1369,
          50.1363,
          50.136,
          50.1351,
          50.1345,
          50.1345,
          50.1354,
          50.1348,
          50.1354,
          50.1357,
          50.136,
          50.1354,
          50.1366,
          50.1372,
          50.1366,
          50.1357,
          50.1348,
          50.1351,
          50.1348,
          50.1357,
          50.1354,
          50.1348,
          50.1345,
          50.1348,
          50.1351,
          50.1345,
          50.1348,
          50.1345,
          50.1345,
          50.1348,
          50.1357,
          50.1315,
          50.1309,
          50.1318,
          50.1297,
          50.1294,
          50.1303,
          50.1303,
          50.1297,
          50.1306,
          50.1297,
          50.13,
          50.1306,
          50.1306,
          50.1321,
          50.1315,
          50.1324,
          50.1324,
          50.1336,
          50.1333,
          50.1333,
          50.1333,
          50.1339,
          50.1324,
          50.1318,
          50.1297,
          50.13,
          50.1291,
          50.1297,
          50.1291,
          50.1285,
          50.1294,
          50.1291,
          50.1327,
          50.133,
          50.133,
          50.133,
          50.1318,
          50.1318,
          50.1333,
          50.1333,
          50.1333,
          50.1309,
          50.1309,
          50.1306,
          50.1297,
          50.1309,
          50.1294,
          50.1303,
          50.1267,
          50.1297,
          50.1303,
          50.1309,
          50.13
         ],
         "z": [
          3.77175,
          3.77475,
          3.77595,
          3.77505,
          3.77295,
          3.78345,
          3.77385,
          3.77055,
          3.76845,
          3.76245,
          3.76095,
          3.76035,
          3.76185,
          3.75915,
          3.75945,
          3.76185,
          3.75945,
          3.76215,
          3.76365,
          3.76335,
          3.76905,
          3.76695,
          3.76395,
          3.76875,
          3.76935,
          3.76575,
          3.76725,
          3.76335,
          3.76275,
          3.76815,
          3.76575,
          3.76785,
          3.77655,
          3.77745,
          3.77145,
          3.77595,
          3.77175,
          3.77235,
          3.77145,
          3.76935,
          3.76605,
          3.76665,
          3.76665,
          3.76365,
          3.76605,
          3.76545,
          3.76335,
          3.75825,
          3.75405,
          3.75435,
          3.75405,
          3.75285,
          3.75315,
          3.75375,
          3.75285,
          3.75225,
          3.75165,
          3.75195,
          3.75225,
          3.75435,
          3.75135,
          3.75225,
          3.75195,
          3.75195,
          3.74985,
          3.75255,
          3.75225,
          3.75135,
          3.75165,
          3.75015,
          3.75135,
          3.75225,
          3.75105,
          3.75165,
          3.75135,
          3.75255,
          3.75255,
          3.75255,
          3.75315,
          3.75285,
          3.75165,
          3.75135,
          3.75165,
          3.75375,
          3.75315,
          3.75165,
          3.75435,
          3.75345,
          3.75255,
          3.75255,
          3.75255,
          3.75285,
          3.75165,
          3.75765,
          3.75255,
          3.75555,
          3.75465,
          3.75495,
          3.75495,
          3.75495,
          3.75405,
          3.75315,
          3.75465,
          3.75405,
          3.75495,
          3.75345,
          3.75255,
          3.75225,
          3.75195,
          3.75405,
          3.75435,
          3.75345,
          3.75405,
          3.75435,
          3.75435,
          3.75825,
          3.75945,
          3.76125,
          3.76365,
          3.76365,
          3.76275,
          3.76335,
          3.76305,
          3.76725,
          3.76755,
          3.76695,
          3.76635,
          3.76695,
          3.76755,
          3.76785,
          3.76725,
          3.76635,
          3.76995,
          3.76845,
          3.76665,
          3.76785,
          3.76905,
          3.76575,
          3.76875,
          3.76935,
          3.76875,
          3.76845,
          3.76905,
          3.76875,
          3.76935,
          3.77025,
          3.77055,
          3.77055,
          3.77025,
          3.76965,
          3.76995,
          3.76965,
          3.76875,
          3.77175,
          3.76905,
          3.77175,
          3.77175,
          3.76755,
          3.76725,
          3.76665,
          3.76635,
          3.76605,
          3.76425,
          3.76305,
          3.76395,
          3.76425,
          3.76365,
          3.76245,
          3.76125,
          3.76335,
          3.76065,
          3.76245,
          3.76185,
          3.76125,
          3.76005,
          3.76275,
          3.76305,
          3.76275,
          3.76635,
          3.76605,
          3.76305,
          3.76815,
          3.76695,
          3.76605,
          3.76665,
          3.76725,
          3.76065,
          3.76035,
          3.76035,
          3.76065,
          3.76005,
          3.76095,
          3.76035,
          3.76095,
          3.76185,
          3.76845,
          3.76785,
          3.76935,
          3.76845,
          3.76875,
          3.76875,
          3.76305,
          3.76905,
          3.76755,
          3.76845,
          3.76635,
          3.76695
         ]
        }
       ],
       "layout": {
        "legend": {
         "tracegroupgap": 0
        },
        "margin": {
         "t": 60
        },
        "scene": {
         "domain": {
          "x": [
           0,
           1
          ],
          "y": [
           0,
           1
          ]
         },
         "xaxis": {
          "title": {
           "text": "t"
          }
         },
         "yaxis": {
          "title": {
           "text": "c1"
          }
         },
         "zaxis": {
          "title": {
           "text": "c2"
          }
         }
        },
        "template": {
         "data": {
          "bar": [
           {
            "error_x": {
             "color": "#2a3f5f"
            },
            "error_y": {
             "color": "#2a3f5f"
            },
            "marker": {
             "line": {
              "color": "#E5ECF6",
              "width": 0.5
             },
             "pattern": {
              "fillmode": "overlay",
              "size": 10,
              "solidity": 0.2
             }
            },
            "type": "bar"
           }
          ],
          "barpolar": [
           {
            "marker": {
             "line": {
              "color": "#E5ECF6",
              "width": 0.5
             },
             "pattern": {
              "fillmode": "overlay",
              "size": 10,
              "solidity": 0.2
             }
            },
            "type": "barpolar"
           }
          ],
          "carpet": [
           {
            "aaxis": {
             "endlinecolor": "#2a3f5f",
             "gridcolor": "white",
             "linecolor": "white",
             "minorgridcolor": "white",
             "startlinecolor": "#2a3f5f"
            },
            "baxis": {
             "endlinecolor": "#2a3f5f",
             "gridcolor": "white",
             "linecolor": "white",
             "minorgridcolor": "white",
             "startlinecolor": "#2a3f5f"
            },
            "type": "carpet"
           }
          ],
          "choropleth": [
           {
            "colorbar": {
             "outlinewidth": 0,
             "ticks": ""
            },
            "type": "choropleth"
           }
          ],
          "contour": [
           {
            "colorbar": {
             "outlinewidth": 0,
             "ticks": ""
            },
            "colorscale": [
             [
              0,
              "#0d0887"
             ],
             [
              0.1111111111111111,
              "#46039f"
             ],
             [
              0.2222222222222222,
              "#7201a8"
             ],
             [
              0.3333333333333333,
              "#9c179e"
             ],
             [
              0.4444444444444444,
              "#bd3786"
             ],
             [
              0.5555555555555556,
              "#d8576b"
             ],
             [
              0.6666666666666666,
              "#ed7953"
             ],
             [
              0.7777777777777778,
              "#fb9f3a"
             ],
             [
              0.8888888888888888,
              "#fdca26"
             ],
             [
              1,
              "#f0f921"
             ]
            ],
            "type": "contour"
           }
          ],
          "contourcarpet": [
           {
            "colorbar": {
             "outlinewidth": 0,
             "ticks": ""
            },
            "type": "contourcarpet"
           }
          ],
          "heatmap": [
           {
            "colorbar": {
             "outlinewidth": 0,
             "ticks": ""
            },
            "colorscale": [
             [
              0,
              "#0d0887"
             ],
             [
              0.1111111111111111,
              "#46039f"
             ],
             [
              0.2222222222222222,
              "#7201a8"
             ],
             [
              0.3333333333333333,
              "#9c179e"
             ],
             [
              0.4444444444444444,
              "#bd3786"
             ],
             [
              0.5555555555555556,
              "#d8576b"
             ],
             [
              0.6666666666666666,
              "#ed7953"
             ],
             [
              0.7777777777777778,
              "#fb9f3a"
             ],
             [
              0.8888888888888888,
              "#fdca26"
             ],
             [
              1,
              "#f0f921"
             ]
            ],
            "type": "heatmap"
           }
          ],
          "heatmapgl": [
           {
            "colorbar": {
             "outlinewidth": 0,
             "ticks": ""
            },
            "colorscale": [
             [
              0,
              "#0d0887"
             ],
             [
              0.1111111111111111,
              "#46039f"
             ],
             [
              0.2222222222222222,
              "#7201a8"
             ],
             [
              0.3333333333333333,
              "#9c179e"
             ],
             [
              0.4444444444444444,
              "#bd3786"
             ],
             [
              0.5555555555555556,
              "#d8576b"
             ],
             [
              0.6666666666666666,
              "#ed7953"
             ],
             [
              0.7777777777777778,
              "#fb9f3a"
             ],
             [
              0.8888888888888888,
              "#fdca26"
             ],
             [
              1,
              "#f0f921"
             ]
            ],
            "type": "heatmapgl"
           }
          ],
          "histogram": [
           {
            "marker": {
             "pattern": {
              "fillmode": "overlay",
              "size": 10,
              "solidity": 0.2
             }
            },
            "type": "histogram"
           }
          ],
          "histogram2d": [
           {
            "colorbar": {
             "outlinewidth": 0,
             "ticks": ""
            },
            "colorscale": [
             [
              0,
              "#0d0887"
             ],
             [
              0.1111111111111111,
              "#46039f"
             ],
             [
              0.2222222222222222,
              "#7201a8"
             ],
             [
              0.3333333333333333,
              "#9c179e"
             ],
             [
              0.4444444444444444,
              "#bd3786"
             ],
             [
              0.5555555555555556,
              "#d8576b"
             ],
             [
              0.6666666666666666,
              "#ed7953"
             ],
             [
              0.7777777777777778,
              "#fb9f3a"
             ],
             [
              0.8888888888888888,
              "#fdca26"
             ],
             [
              1,
              "#f0f921"
             ]
            ],
            "type": "histogram2d"
           }
          ],
          "histogram2dcontour": [
           {
            "colorbar": {
             "outlinewidth": 0,
             "ticks": ""
            },
            "colorscale": [
             [
              0,
              "#0d0887"
             ],
             [
              0.1111111111111111,
              "#46039f"
             ],
             [
              0.2222222222222222,
              "#7201a8"
             ],
             [
              0.3333333333333333,
              "#9c179e"
             ],
             [
              0.4444444444444444,
              "#bd3786"
             ],
             [
              0.5555555555555556,
              "#d8576b"
             ],
             [
              0.6666666666666666,
              "#ed7953"
             ],
             [
              0.7777777777777778,
              "#fb9f3a"
             ],
             [
              0.8888888888888888,
              "#fdca26"
             ],
             [
              1,
              "#f0f921"
             ]
            ],
            "type": "histogram2dcontour"
           }
          ],
          "mesh3d": [
           {
            "colorbar": {
             "outlinewidth": 0,
             "ticks": ""
            },
            "type": "mesh3d"
           }
          ],
          "parcoords": [
           {
            "line": {
             "colorbar": {
              "outlinewidth": 0,
              "ticks": ""
             }
            },
            "type": "parcoords"
           }
          ],
          "pie": [
           {
            "automargin": true,
            "type": "pie"
           }
          ],
          "scatter": [
           {
            "fillpattern": {
             "fillmode": "overlay",
             "size": 10,
             "solidity": 0.2
            },
            "type": "scatter"
           }
          ],
          "scatter3d": [
           {
            "line": {
             "colorbar": {
              "outlinewidth": 0,
              "ticks": ""
             }
            },
            "marker": {
             "colorbar": {
              "outlinewidth": 0,
              "ticks": ""
             }
            },
            "type": "scatter3d"
           }
          ],
          "scattercarpet": [
           {
            "marker": {
             "colorbar": {
              "outlinewidth": 0,
              "ticks": ""
             }
            },
            "type": "scattercarpet"
           }
          ],
          "scattergeo": [
           {
            "marker": {
             "colorbar": {
              "outlinewidth": 0,
              "ticks": ""
             }
            },
            "type": "scattergeo"
           }
          ],
          "scattergl": [
           {
            "marker": {
             "colorbar": {
              "outlinewidth": 0,
              "ticks": ""
             }
            },
            "type": "scattergl"
           }
          ],
          "scattermapbox": [
           {
            "marker": {
             "colorbar": {
              "outlinewidth": 0,
              "ticks": ""
             }
            },
            "type": "scattermapbox"
           }
          ],
          "scatterpolar": [
           {
            "marker": {
             "colorbar": {
              "outlinewidth": 0,
              "ticks": ""
             }
            },
            "type": "scatterpolar"
           }
          ],
          "scatterpolargl": [
           {
            "marker": {
             "colorbar": {
              "outlinewidth": 0,
              "ticks": ""
             }
            },
            "type": "scatterpolargl"
           }
          ],
          "scatterternary": [
           {
            "marker": {
             "colorbar": {
              "outlinewidth": 0,
              "ticks": ""
             }
            },
            "type": "scatterternary"
           }
          ],
          "surface": [
           {
            "colorbar": {
             "outlinewidth": 0,
             "ticks": ""
            },
            "colorscale": [
             [
              0,
              "#0d0887"
             ],
             [
              0.1111111111111111,
              "#46039f"
             ],
             [
              0.2222222222222222,
              "#7201a8"
             ],
             [
              0.3333333333333333,
              "#9c179e"
             ],
             [
              0.4444444444444444,
              "#bd3786"
             ],
             [
              0.5555555555555556,
              "#d8576b"
             ],
             [
              0.6666666666666666,
              "#ed7953"
             ],
             [
              0.7777777777777778,
              "#fb9f3a"
             ],
             [
              0.8888888888888888,
              "#fdca26"
             ],
             [
              1,
              "#f0f921"
             ]
            ],
            "type": "surface"
           }
          ],
          "table": [
           {
            "cells": {
             "fill": {
              "color": "#EBF0F8"
             },
             "line": {
              "color": "white"
             }
            },
            "header": {
             "fill": {
              "color": "#C8D4E3"
             },
             "line": {
              "color": "white"
             }
            },
            "type": "table"
           }
          ]
         },
         "layout": {
          "annotationdefaults": {
           "arrowcolor": "#2a3f5f",
           "arrowhead": 0,
           "arrowwidth": 1
          },
          "autotypenumbers": "strict",
          "coloraxis": {
           "colorbar": {
            "outlinewidth": 0,
            "ticks": ""
           }
          },
          "colorscale": {
           "diverging": [
            [
             0,
             "#8e0152"
            ],
            [
             0.1,
             "#c51b7d"
            ],
            [
             0.2,
             "#de77ae"
            ],
            [
             0.3,
             "#f1b6da"
            ],
            [
             0.4,
             "#fde0ef"
            ],
            [
             0.5,
             "#f7f7f7"
            ],
            [
             0.6,
             "#e6f5d0"
            ],
            [
             0.7,
             "#b8e186"
            ],
            [
             0.8,
             "#7fbc41"
            ],
            [
             0.9,
             "#4d9221"
            ],
            [
             1,
             "#276419"
            ]
           ],
           "sequential": [
            [
             0,
             "#0d0887"
            ],
            [
             0.1111111111111111,
             "#46039f"
            ],
            [
             0.2222222222222222,
             "#7201a8"
            ],
            [
             0.3333333333333333,
             "#9c179e"
            ],
            [
             0.4444444444444444,
             "#bd3786"
            ],
            [
             0.5555555555555556,
             "#d8576b"
            ],
            [
             0.6666666666666666,
             "#ed7953"
            ],
            [
             0.7777777777777778,
             "#fb9f3a"
            ],
            [
             0.8888888888888888,
             "#fdca26"
            ],
            [
             1,
             "#f0f921"
            ]
           ],
           "sequentialminus": [
            [
             0,
             "#0d0887"
            ],
            [
             0.1111111111111111,
             "#46039f"
            ],
            [
             0.2222222222222222,
             "#7201a8"
            ],
            [
             0.3333333333333333,
             "#9c179e"
            ],
            [
             0.4444444444444444,
             "#bd3786"
            ],
            [
             0.5555555555555556,
             "#d8576b"
            ],
            [
             0.6666666666666666,
             "#ed7953"
            ],
            [
             0.7777777777777778,
             "#fb9f3a"
            ],
            [
             0.8888888888888888,
             "#fdca26"
            ],
            [
             1,
             "#f0f921"
            ]
           ]
          },
          "colorway": [
           "#636efa",
           "#EF553B",
           "#00cc96",
           "#ab63fa",
           "#FFA15A",
           "#19d3f3",
           "#FF6692",
           "#B6E880",
           "#FF97FF",
           "#FECB52"
          ],
          "font": {
           "color": "#2a3f5f"
          },
          "geo": {
           "bgcolor": "white",
           "lakecolor": "white",
           "landcolor": "#E5ECF6",
           "showlakes": true,
           "showland": true,
           "subunitcolor": "white"
          },
          "hoverlabel": {
           "align": "left"
          },
          "hovermode": "closest",
          "mapbox": {
           "style": "light"
          },
          "paper_bgcolor": "white",
          "plot_bgcolor": "#E5ECF6",
          "polar": {
           "angularaxis": {
            "gridcolor": "white",
            "linecolor": "white",
            "ticks": ""
           },
           "bgcolor": "#E5ECF6",
           "radialaxis": {
            "gridcolor": "white",
            "linecolor": "white",
            "ticks": ""
           }
          },
          "scene": {
           "xaxis": {
            "backgroundcolor": "#E5ECF6",
            "gridcolor": "white",
            "gridwidth": 2,
            "linecolor": "white",
            "showbackground": true,
            "ticks": "",
            "zerolinecolor": "white"
           },
           "yaxis": {
            "backgroundcolor": "#E5ECF6",
            "gridcolor": "white",
            "gridwidth": 2,
            "linecolor": "white",
            "showbackground": true,
            "ticks": "",
            "zerolinecolor": "white"
           },
           "zaxis": {
            "backgroundcolor": "#E5ECF6",
            "gridcolor": "white",
            "gridwidth": 2,
            "linecolor": "white",
            "showbackground": true,
            "ticks": "",
            "zerolinecolor": "white"
           }
          },
          "shapedefaults": {
           "line": {
            "color": "#2a3f5f"
           }
          },
          "ternary": {
           "aaxis": {
            "gridcolor": "white",
            "linecolor": "white",
            "ticks": ""
           },
           "baxis": {
            "gridcolor": "white",
            "linecolor": "white",
            "ticks": ""
           },
           "bgcolor": "#E5ECF6",
           "caxis": {
            "gridcolor": "white",
            "linecolor": "white",
            "ticks": ""
           }
          },
          "title": {
           "x": 0.05
          },
          "xaxis": {
           "automargin": true,
           "gridcolor": "white",
           "linecolor": "white",
           "ticks": "",
           "title": {
            "standoff": 15
           },
           "zerolinecolor": "white",
           "zerolinewidth": 2
          },
          "yaxis": {
           "automargin": true,
           "gridcolor": "white",
           "linecolor": "white",
           "ticks": "",
           "title": {
            "standoff": 15
           },
           "zerolinecolor": "white",
           "zerolinewidth": 2
          }
         }
        }
       }
      },
      "text/html": [
       "<div>                            <div id=\"523b85bf-1279-4ba7-bf9d-76958196af1d\" class=\"plotly-graph-div\" style=\"height:525px; width:100%;\"></div>            <script type=\"text/javascript\">                require([\"plotly\"], function(Plotly) {                    window.PLOTLYENV=window.PLOTLYENV || {};                                    if (document.getElementById(\"523b85bf-1279-4ba7-bf9d-76958196af1d\")) {                    Plotly.newPlot(                        \"523b85bf-1279-4ba7-bf9d-76958196af1d\",                        [{\"hovertemplate\":\"t=%{x}<br>c1=%{y}<br>c2=%{z}<extra></extra>\",\"legendgroup\":\"\",\"line\":{\"color\":\"#636efa\",\"dash\":\"solid\"},\"marker\":{\"symbol\":\"circle\"},\"mode\":\"lines\",\"name\":\"\",\"scene\":\"scene\",\"showlegend\":false,\"x\":[0,46,48,59,60,71,78,80,82,88,96,97,106,117,118,122,123,125,129,130,134,141,143,145,148,154,161,164,166,175,178,180,185,189,191,192,194,196,201,228,237,240,242,245,247,249,261,263,267,268,274,275,277,284,286,288,290,294,297,300,302,309,311,313,316,318,320,322,323,329,330,334,339,341,341,342,342,343,347,352,354,356,358,359,361,363,364,366,370,371,373,377,379,380,384,386,387,389,391,393,395,396,405,407,410,414,416,418,419,421,430,432,434,435,439,441,443,453,461,465,467,479,483,485,487,489,491,493,494,497,499,501,503,505,506,509,511,513,515,517,519,521,523,525,527,529,531,533,537,538,540,542,544,549,550,558,564,566,568,570,572,574,576,580,582,584,586,592,594,598,600,602,604,606,609,611,614,617,623,627,629,635,637,639,643,645,647,649,651,653,655,659,661,665,669,671,673,677,681,692,694,696,697,699,708,710,712],\"y\":[50.145,50.1267,50.1243,50.1234,50.1222,50.13,50.1456,50.1408,50.1366,50.1342,50.1333,50.1321,50.1327,50.1318,50.1312,50.1303,50.1327,50.1336,50.1312,50.127,50.1306,50.1294,50.1267,50.1444,50.1456,50.1426,50.1483,50.1312,50.1351,50.121,50.1207,50.1216,50.157,50.1561,50.1456,50.1462,50.1408,50.1417,50.1405,50.1303,50.1285,50.1267,50.127,50.1267,50.1267,50.1264,50.1306,50.1324,50.1294,50.1285,50.1285,50.1288,50.1285,50.1282,50.1291,50.1282,50.1282,50.1285,50.1279,50.1273,50.1264,50.1255,50.1252,50.1255,50.124,50.124,50.1252,50.1246,50.1258,50.1249,50.1255,50.1258,50.124,50.1237,50.124,50.1243,50.1246,50.1255,50.1258,50.1258,50.1255,50.1258,50.1258,50.1255,50.1291,50.1267,50.1297,50.1291,50.1291,50.1297,50.1249,50.1288,50.1297,50.1276,50.1264,50.1225,50.1222,50.1222,50.1231,50.1237,50.1228,50.1237,50.124,50.1237,50.1252,50.1222,50.1213,50.1258,50.1255,50.1318,50.133,50.1324,50.1327,50.1324,50.1348,50.1321,50.1324,50.1336,50.1345,50.1342,50.1348,50.1351,50.1351,50.1369,50.1363,50.136,50.1351,50.1345,50.1345,50.1354,50.1348,50.1354,50.1357,50.136,50.1354,50.1366,50.1372,50.1366,50.1357,50.1348,50.1351,50.1348,50.1357,50.1354,50.1348,50.1345,50.1348,50.1351,50.1345,50.1348,50.1345,50.1345,50.1348,50.1357,50.1315,50.1309,50.1318,50.1297,50.1294,50.1303,50.1303,50.1297,50.1306,50.1297,50.13,50.1306,50.1306,50.1321,50.1315,50.1324,50.1324,50.1336,50.1333,50.1333,50.1333,50.1339,50.1324,50.1318,50.1297,50.13,50.1291,50.1297,50.1291,50.1285,50.1294,50.1291,50.1327,50.133,50.133,50.133,50.1318,50.1318,50.1333,50.1333,50.1333,50.1309,50.1309,50.1306,50.1297,50.1309,50.1294,50.1303,50.1267,50.1297,50.1303,50.1309,50.13],\"z\":[3.77175,3.77475,3.77595,3.77505,3.77295,3.78345,3.77385,3.77055,3.76845,3.76245,3.76095,3.76035,3.76185,3.75915,3.75945,3.76185,3.75945,3.76215,3.76365,3.76335,3.76905,3.76695,3.76395,3.76875,3.76935,3.76575,3.76725,3.76335,3.76275,3.76815,3.76575,3.76785,3.77655,3.77745,3.77145,3.77595,3.77175,3.77235,3.77145,3.76935,3.76605,3.76665,3.76665,3.76365,3.76605,3.76545,3.76335,3.75825,3.75405,3.75435,3.75405,3.75285,3.75315,3.75375,3.75285,3.75225,3.75165,3.75195,3.75225,3.75435,3.75135,3.75225,3.75195,3.75195,3.74985,3.75255,3.75225,3.75135,3.75165,3.75015,3.75135,3.75225,3.75105,3.75165,3.75135,3.75255,3.75255,3.75255,3.75315,3.75285,3.75165,3.75135,3.75165,3.75375,3.75315,3.75165,3.75435,3.75345,3.75255,3.75255,3.75255,3.75285,3.75165,3.75765,3.75255,3.75555,3.75465,3.75495,3.75495,3.75495,3.75405,3.75315,3.75465,3.75405,3.75495,3.75345,3.75255,3.75225,3.75195,3.75405,3.75435,3.75345,3.75405,3.75435,3.75435,3.75825,3.75945,3.76125,3.76365,3.76365,3.76275,3.76335,3.76305,3.76725,3.76755,3.76695,3.76635,3.76695,3.76755,3.76785,3.76725,3.76635,3.76995,3.76845,3.76665,3.76785,3.76905,3.76575,3.76875,3.76935,3.76875,3.76845,3.76905,3.76875,3.76935,3.77025,3.77055,3.77055,3.77025,3.76965,3.76995,3.76965,3.76875,3.77175,3.76905,3.77175,3.77175,3.76755,3.76725,3.76665,3.76635,3.76605,3.76425,3.76305,3.76395,3.76425,3.76365,3.76245,3.76125,3.76335,3.76065,3.76245,3.76185,3.76125,3.76005,3.76275,3.76305,3.76275,3.76635,3.76605,3.76305,3.76815,3.76695,3.76605,3.76665,3.76725,3.76065,3.76035,3.76035,3.76065,3.76005,3.76095,3.76035,3.76095,3.76185,3.76845,3.76785,3.76935,3.76845,3.76875,3.76875,3.76305,3.76905,3.76755,3.76845,3.76635,3.76695],\"type\":\"scatter3d\"}],                        {\"template\":{\"data\":{\"histogram2dcontour\":[{\"type\":\"histogram2dcontour\",\"colorbar\":{\"outlinewidth\":0,\"ticks\":\"\"},\"colorscale\":[[0.0,\"#0d0887\"],[0.1111111111111111,\"#46039f\"],[0.2222222222222222,\"#7201a8\"],[0.3333333333333333,\"#9c179e\"],[0.4444444444444444,\"#bd3786\"],[0.5555555555555556,\"#d8576b\"],[0.6666666666666666,\"#ed7953\"],[0.7777777777777778,\"#fb9f3a\"],[0.8888888888888888,\"#fdca26\"],[1.0,\"#f0f921\"]]}],\"choropleth\":[{\"type\":\"choropleth\",\"colorbar\":{\"outlinewidth\":0,\"ticks\":\"\"}}],\"histogram2d\":[{\"type\":\"histogram2d\",\"colorbar\":{\"outlinewidth\":0,\"ticks\":\"\"},\"colorscale\":[[0.0,\"#0d0887\"],[0.1111111111111111,\"#46039f\"],[0.2222222222222222,\"#7201a8\"],[0.3333333333333333,\"#9c179e\"],[0.4444444444444444,\"#bd3786\"],[0.5555555555555556,\"#d8576b\"],[0.6666666666666666,\"#ed7953\"],[0.7777777777777778,\"#fb9f3a\"],[0.8888888888888888,\"#fdca26\"],[1.0,\"#f0f921\"]]}],\"heatmap\":[{\"type\":\"heatmap\",\"colorbar\":{\"outlinewidth\":0,\"ticks\":\"\"},\"colorscale\":[[0.0,\"#0d0887\"],[0.1111111111111111,\"#46039f\"],[0.2222222222222222,\"#7201a8\"],[0.3333333333333333,\"#9c179e\"],[0.4444444444444444,\"#bd3786\"],[0.5555555555555556,\"#d8576b\"],[0.6666666666666666,\"#ed7953\"],[0.7777777777777778,\"#fb9f3a\"],[0.8888888888888888,\"#fdca26\"],[1.0,\"#f0f921\"]]}],\"heatmapgl\":[{\"type\":\"heatmapgl\",\"colorbar\":{\"outlinewidth\":0,\"ticks\":\"\"},\"colorscale\":[[0.0,\"#0d0887\"],[0.1111111111111111,\"#46039f\"],[0.2222222222222222,\"#7201a8\"],[0.3333333333333333,\"#9c179e\"],[0.4444444444444444,\"#bd3786\"],[0.5555555555555556,\"#d8576b\"],[0.6666666666666666,\"#ed7953\"],[0.7777777777777778,\"#fb9f3a\"],[0.8888888888888888,\"#fdca26\"],[1.0,\"#f0f921\"]]}],\"contourcarpet\":[{\"type\":\"contourcarpet\",\"colorbar\":{\"outlinewidth\":0,\"ticks\":\"\"}}],\"contour\":[{\"type\":\"contour\",\"colorbar\":{\"outlinewidth\":0,\"ticks\":\"\"},\"colorscale\":[[0.0,\"#0d0887\"],[0.1111111111111111,\"#46039f\"],[0.2222222222222222,\"#7201a8\"],[0.3333333333333333,\"#9c179e\"],[0.4444444444444444,\"#bd3786\"],[0.5555555555555556,\"#d8576b\"],[0.6666666666666666,\"#ed7953\"],[0.7777777777777778,\"#fb9f3a\"],[0.8888888888888888,\"#fdca26\"],[1.0,\"#f0f921\"]]}],\"surface\":[{\"type\":\"surface\",\"colorbar\":{\"outlinewidth\":0,\"ticks\":\"\"},\"colorscale\":[[0.0,\"#0d0887\"],[0.1111111111111111,\"#46039f\"],[0.2222222222222222,\"#7201a8\"],[0.3333333333333333,\"#9c179e\"],[0.4444444444444444,\"#bd3786\"],[0.5555555555555556,\"#d8576b\"],[0.6666666666666666,\"#ed7953\"],[0.7777777777777778,\"#fb9f3a\"],[0.8888888888888888,\"#fdca26\"],[1.0,\"#f0f921\"]]}],\"mesh3d\":[{\"type\":\"mesh3d\",\"colorbar\":{\"outlinewidth\":0,\"ticks\":\"\"}}],\"scatter\":[{\"fillpattern\":{\"fillmode\":\"overlay\",\"size\":10,\"solidity\":0.2},\"type\":\"scatter\"}],\"parcoords\":[{\"type\":\"parcoords\",\"line\":{\"colorbar\":{\"outlinewidth\":0,\"ticks\":\"\"}}}],\"scatterpolargl\":[{\"type\":\"scatterpolargl\",\"marker\":{\"colorbar\":{\"outlinewidth\":0,\"ticks\":\"\"}}}],\"bar\":[{\"error_x\":{\"color\":\"#2a3f5f\"},\"error_y\":{\"color\":\"#2a3f5f\"},\"marker\":{\"line\":{\"color\":\"#E5ECF6\",\"width\":0.5},\"pattern\":{\"fillmode\":\"overlay\",\"size\":10,\"solidity\":0.2}},\"type\":\"bar\"}],\"scattergeo\":[{\"type\":\"scattergeo\",\"marker\":{\"colorbar\":{\"outlinewidth\":0,\"ticks\":\"\"}}}],\"scatterpolar\":[{\"type\":\"scatterpolar\",\"marker\":{\"colorbar\":{\"outlinewidth\":0,\"ticks\":\"\"}}}],\"histogram\":[{\"marker\":{\"pattern\":{\"fillmode\":\"overlay\",\"size\":10,\"solidity\":0.2}},\"type\":\"histogram\"}],\"scattergl\":[{\"type\":\"scattergl\",\"marker\":{\"colorbar\":{\"outlinewidth\":0,\"ticks\":\"\"}}}],\"scatter3d\":[{\"type\":\"scatter3d\",\"line\":{\"colorbar\":{\"outlinewidth\":0,\"ticks\":\"\"}},\"marker\":{\"colorbar\":{\"outlinewidth\":0,\"ticks\":\"\"}}}],\"scattermapbox\":[{\"type\":\"scattermapbox\",\"marker\":{\"colorbar\":{\"outlinewidth\":0,\"ticks\":\"\"}}}],\"scatterternary\":[{\"type\":\"scatterternary\",\"marker\":{\"colorbar\":{\"outlinewidth\":0,\"ticks\":\"\"}}}],\"scattercarpet\":[{\"type\":\"scattercarpet\",\"marker\":{\"colorbar\":{\"outlinewidth\":0,\"ticks\":\"\"}}}],\"carpet\":[{\"aaxis\":{\"endlinecolor\":\"#2a3f5f\",\"gridcolor\":\"white\",\"linecolor\":\"white\",\"minorgridcolor\":\"white\",\"startlinecolor\":\"#2a3f5f\"},\"baxis\":{\"endlinecolor\":\"#2a3f5f\",\"gridcolor\":\"white\",\"linecolor\":\"white\",\"minorgridcolor\":\"white\",\"startlinecolor\":\"#2a3f5f\"},\"type\":\"carpet\"}],\"table\":[{\"cells\":{\"fill\":{\"color\":\"#EBF0F8\"},\"line\":{\"color\":\"white\"}},\"header\":{\"fill\":{\"color\":\"#C8D4E3\"},\"line\":{\"color\":\"white\"}},\"type\":\"table\"}],\"barpolar\":[{\"marker\":{\"line\":{\"color\":\"#E5ECF6\",\"width\":0.5},\"pattern\":{\"fillmode\":\"overlay\",\"size\":10,\"solidity\":0.2}},\"type\":\"barpolar\"}],\"pie\":[{\"automargin\":true,\"type\":\"pie\"}]},\"layout\":{\"autotypenumbers\":\"strict\",\"colorway\":[\"#636efa\",\"#EF553B\",\"#00cc96\",\"#ab63fa\",\"#FFA15A\",\"#19d3f3\",\"#FF6692\",\"#B6E880\",\"#FF97FF\",\"#FECB52\"],\"font\":{\"color\":\"#2a3f5f\"},\"hovermode\":\"closest\",\"hoverlabel\":{\"align\":\"left\"},\"paper_bgcolor\":\"white\",\"plot_bgcolor\":\"#E5ECF6\",\"polar\":{\"bgcolor\":\"#E5ECF6\",\"angularaxis\":{\"gridcolor\":\"white\",\"linecolor\":\"white\",\"ticks\":\"\"},\"radialaxis\":{\"gridcolor\":\"white\",\"linecolor\":\"white\",\"ticks\":\"\"}},\"ternary\":{\"bgcolor\":\"#E5ECF6\",\"aaxis\":{\"gridcolor\":\"white\",\"linecolor\":\"white\",\"ticks\":\"\"},\"baxis\":{\"gridcolor\":\"white\",\"linecolor\":\"white\",\"ticks\":\"\"},\"caxis\":{\"gridcolor\":\"white\",\"linecolor\":\"white\",\"ticks\":\"\"}},\"coloraxis\":{\"colorbar\":{\"outlinewidth\":0,\"ticks\":\"\"}},\"colorscale\":{\"sequential\":[[0.0,\"#0d0887\"],[0.1111111111111111,\"#46039f\"],[0.2222222222222222,\"#7201a8\"],[0.3333333333333333,\"#9c179e\"],[0.4444444444444444,\"#bd3786\"],[0.5555555555555556,\"#d8576b\"],[0.6666666666666666,\"#ed7953\"],[0.7777777777777778,\"#fb9f3a\"],[0.8888888888888888,\"#fdca26\"],[1.0,\"#f0f921\"]],\"sequentialminus\":[[0.0,\"#0d0887\"],[0.1111111111111111,\"#46039f\"],[0.2222222222222222,\"#7201a8\"],[0.3333333333333333,\"#9c179e\"],[0.4444444444444444,\"#bd3786\"],[0.5555555555555556,\"#d8576b\"],[0.6666666666666666,\"#ed7953\"],[0.7777777777777778,\"#fb9f3a\"],[0.8888888888888888,\"#fdca26\"],[1.0,\"#f0f921\"]],\"diverging\":[[0,\"#8e0152\"],[0.1,\"#c51b7d\"],[0.2,\"#de77ae\"],[0.3,\"#f1b6da\"],[0.4,\"#fde0ef\"],[0.5,\"#f7f7f7\"],[0.6,\"#e6f5d0\"],[0.7,\"#b8e186\"],[0.8,\"#7fbc41\"],[0.9,\"#4d9221\"],[1,\"#276419\"]]},\"xaxis\":{\"gridcolor\":\"white\",\"linecolor\":\"white\",\"ticks\":\"\",\"title\":{\"standoff\":15},\"zerolinecolor\":\"white\",\"automargin\":true,\"zerolinewidth\":2},\"yaxis\":{\"gridcolor\":\"white\",\"linecolor\":\"white\",\"ticks\":\"\",\"title\":{\"standoff\":15},\"zerolinecolor\":\"white\",\"automargin\":true,\"zerolinewidth\":2},\"scene\":{\"xaxis\":{\"backgroundcolor\":\"#E5ECF6\",\"gridcolor\":\"white\",\"linecolor\":\"white\",\"showbackground\":true,\"ticks\":\"\",\"zerolinecolor\":\"white\",\"gridwidth\":2},\"yaxis\":{\"backgroundcolor\":\"#E5ECF6\",\"gridcolor\":\"white\",\"linecolor\":\"white\",\"showbackground\":true,\"ticks\":\"\",\"zerolinecolor\":\"white\",\"gridwidth\":2},\"zaxis\":{\"backgroundcolor\":\"#E5ECF6\",\"gridcolor\":\"white\",\"linecolor\":\"white\",\"showbackground\":true,\"ticks\":\"\",\"zerolinecolor\":\"white\",\"gridwidth\":2}},\"shapedefaults\":{\"line\":{\"color\":\"#2a3f5f\"}},\"annotationdefaults\":{\"arrowcolor\":\"#2a3f5f\",\"arrowhead\":0,\"arrowwidth\":1},\"geo\":{\"bgcolor\":\"white\",\"landcolor\":\"#E5ECF6\",\"subunitcolor\":\"white\",\"showland\":true,\"showlakes\":true,\"lakecolor\":\"white\"},\"title\":{\"x\":0.05},\"mapbox\":{\"style\":\"light\"}}},\"scene\":{\"domain\":{\"x\":[0.0,1.0],\"y\":[0.0,1.0]},\"xaxis\":{\"title\":{\"text\":\"t\"}},\"yaxis\":{\"title\":{\"text\":\"c1\"}},\"zaxis\":{\"title\":{\"text\":\"c2\"}}},\"legend\":{\"tracegroupgap\":0},\"margin\":{\"t\":60}},                        {\"responsive\": true}                    ).then(function(){\n",
       "                            \n",
       "var gd = document.getElementById('523b85bf-1279-4ba7-bf9d-76958196af1d');\n",
       "var x = new MutationObserver(function (mutations, observer) {{\n",
       "        var display = window.getComputedStyle(gd).display;\n",
       "        if (!display || display === 'none') {{\n",
       "            console.log([gd, 'removed!']);\n",
       "            Plotly.purge(gd);\n",
       "            observer.disconnect();\n",
       "        }}\n",
       "}});\n",
       "\n",
       "// Listen for the removal of the full notebook cells\n",
       "var notebookContainer = gd.closest('#notebook-container');\n",
       "if (notebookContainer) {{\n",
       "    x.observe(notebookContainer, {childList: true});\n",
       "}}\n",
       "\n",
       "// Listen for the clearing of the current output cell\n",
       "var outputEl = gd.closest('.output');\n",
       "if (outputEl) {{\n",
       "    x.observe(outputEl, {childList: true});\n",
       "}}\n",
       "\n",
       "                        })                };                });            </script>        </div>"
      ]
     },
     "metadata": {},
     "output_type": "display_data"
    }
   ],
   "source": [
    "px.line_3d(df[df.tid == 1], x=\"t\", y=\"c1\", z=\"c2\")"
   ]
  },
  {
   "cell_type": "code",
   "execution_count": 42,
   "metadata": {
    "pycharm": {
     "name": "#%%\n"
    }
   },
   "outputs": [
    {
     "name": "stdout",
     "output_type": "stream",
     "text": [
      "Wall time: 329 ms\n"
     ]
    },
    {
     "data": {
      "text/html": [
       "<div>\n",
       "<style scoped>\n",
       "    .dataframe tbody tr th:only-of-type {\n",
       "        vertical-align: middle;\n",
       "    }\n",
       "\n",
       "    .dataframe tbody tr th {\n",
       "        vertical-align: top;\n",
       "    }\n",
       "\n",
       "    .dataframe thead th {\n",
       "        text-align: right;\n",
       "    }\n",
       "</style>\n",
       "<table border=\"1\" class=\"dataframe\">\n",
       "  <thead>\n",
       "    <tr style=\"text-align: right;\">\n",
       "      <th></th>\n",
       "      <th>tid</th>\n",
       "      <th>class</th>\n",
       "      <th>t</th>\n",
       "      <th>c1</th>\n",
       "      <th>c2</th>\n",
       "      <th>geohash</th>\n",
       "      <th>geohash2</th>\n",
       "      <th>lat_norm</th>\n",
       "      <th>lon_norm</th>\n",
       "    </tr>\n",
       "  </thead>\n",
       "  <tbody>\n",
       "    <tr>\n",
       "      <th>0</th>\n",
       "      <td>0</td>\n",
       "      <td>D</td>\n",
       "      <td>0</td>\n",
       "      <td>50.1066</td>\n",
       "      <td>3.79665</td>\n",
       "      <td>u0f</td>\n",
       "      <td>u0f_0</td>\n",
       "      <td>0.88785</td>\n",
       "      <td>0.98415</td>\n",
       "    </tr>\n",
       "    <tr>\n",
       "      <th>1</th>\n",
       "      <td>0</td>\n",
       "      <td>D</td>\n",
       "      <td>4</td>\n",
       "      <td>50.1045</td>\n",
       "      <td>3.79455</td>\n",
       "      <td>u0f</td>\n",
       "      <td>u0f_0</td>\n",
       "      <td>0.88575</td>\n",
       "      <td>0.98205</td>\n",
       "    </tr>\n",
       "    <tr>\n",
       "      <th>2</th>\n",
       "      <td>0</td>\n",
       "      <td>D</td>\n",
       "      <td>7</td>\n",
       "      <td>50.1111</td>\n",
       "      <td>3.79845</td>\n",
       "      <td>u0f</td>\n",
       "      <td>u0f_0</td>\n",
       "      <td>0.89235</td>\n",
       "      <td>0.98595</td>\n",
       "    </tr>\n",
       "    <tr>\n",
       "      <th>3</th>\n",
       "      <td>0</td>\n",
       "      <td>D</td>\n",
       "      <td>9</td>\n",
       "      <td>50.1072</td>\n",
       "      <td>3.79845</td>\n",
       "      <td>u0f</td>\n",
       "      <td>u0f_0</td>\n",
       "      <td>0.88845</td>\n",
       "      <td>0.98595</td>\n",
       "    </tr>\n",
       "    <tr>\n",
       "      <th>4</th>\n",
       "      <td>0</td>\n",
       "      <td>D</td>\n",
       "      <td>15</td>\n",
       "      <td>50.1132</td>\n",
       "      <td>3.79965</td>\n",
       "      <td>u0f</td>\n",
       "      <td>u0f_0</td>\n",
       "      <td>0.89445</td>\n",
       "      <td>0.98715</td>\n",
       "    </tr>\n",
       "    <tr>\n",
       "      <th>...</th>\n",
       "      <td>...</td>\n",
       "      <td>...</td>\n",
       "      <td>...</td>\n",
       "      <td>...</td>\n",
       "      <td>...</td>\n",
       "      <td>...</td>\n",
       "      <td>...</td>\n",
       "      <td>...</td>\n",
       "      <td>...</td>\n",
       "    </tr>\n",
       "    <tr>\n",
       "      <th>14863</th>\n",
       "      <td>100</td>\n",
       "      <td>C</td>\n",
       "      <td>260</td>\n",
       "      <td>50.1768</td>\n",
       "      <td>3.76185</td>\n",
       "      <td>u0f</td>\n",
       "      <td>u0f_0</td>\n",
       "      <td>0.95805</td>\n",
       "      <td>0.94935</td>\n",
       "    </tr>\n",
       "    <tr>\n",
       "      <th>14864</th>\n",
       "      <td>100</td>\n",
       "      <td>C</td>\n",
       "      <td>262</td>\n",
       "      <td>50.1765</td>\n",
       "      <td>3.76095</td>\n",
       "      <td>u0f</td>\n",
       "      <td>u0f_0</td>\n",
       "      <td>0.95775</td>\n",
       "      <td>0.94845</td>\n",
       "    </tr>\n",
       "    <tr>\n",
       "      <th>14865</th>\n",
       "      <td>100</td>\n",
       "      <td>C</td>\n",
       "      <td>264</td>\n",
       "      <td>50.1753</td>\n",
       "      <td>3.76005</td>\n",
       "      <td>u0f</td>\n",
       "      <td>u0f_0</td>\n",
       "      <td>0.95655</td>\n",
       "      <td>0.94755</td>\n",
       "    </tr>\n",
       "    <tr>\n",
       "      <th>14866</th>\n",
       "      <td>100</td>\n",
       "      <td>C</td>\n",
       "      <td>266</td>\n",
       "      <td>50.1717</td>\n",
       "      <td>3.76545</td>\n",
       "      <td>u0f</td>\n",
       "      <td>u0f_0</td>\n",
       "      <td>0.95295</td>\n",
       "      <td>0.95295</td>\n",
       "    </tr>\n",
       "    <tr>\n",
       "      <th>14867</th>\n",
       "      <td>100</td>\n",
       "      <td>C</td>\n",
       "      <td>268</td>\n",
       "      <td>50.1717</td>\n",
       "      <td>3.76575</td>\n",
       "      <td>u0f</td>\n",
       "      <td>u0f_0</td>\n",
       "      <td>0.95295</td>\n",
       "      <td>0.95325</td>\n",
       "    </tr>\n",
       "  </tbody>\n",
       "</table>\n",
       "<p>10600 rows × 9 columns</p>\n",
       "</div>"
      ],
      "text/plain": [
       "       tid class    t       c1       c2 geohash geohash2  lat_norm  lon_norm\n",
       "0        0     D    0  50.1066  3.79665     u0f    u0f_0   0.88785   0.98415\n",
       "1        0     D    4  50.1045  3.79455     u0f    u0f_0   0.88575   0.98205\n",
       "2        0     D    7  50.1111  3.79845     u0f    u0f_0   0.89235   0.98595\n",
       "3        0     D    9  50.1072  3.79845     u0f    u0f_0   0.88845   0.98595\n",
       "4        0     D   15  50.1132  3.79965     u0f    u0f_0   0.89445   0.98715\n",
       "...    ...   ...  ...      ...      ...     ...      ...       ...       ...\n",
       "14863  100     C  260  50.1768  3.76185     u0f    u0f_0   0.95805   0.94935\n",
       "14864  100     C  262  50.1765  3.76095     u0f    u0f_0   0.95775   0.94845\n",
       "14865  100     C  264  50.1753  3.76005     u0f    u0f_0   0.95655   0.94755\n",
       "14866  100     C  266  50.1717  3.76545     u0f    u0f_0   0.95295   0.95295\n",
       "14867  100     C  268  50.1717  3.76575     u0f    u0f_0   0.95295   0.95325\n",
       "\n",
       "[10600 rows x 9 columns]"
      ]
     },
     "execution_count": 42,
     "metadata": {},
     "output_type": "execute_result"
    }
   ],
   "source": [
    "%%time\n",
    "\n",
    "start = datetime.now()\n",
    "\n",
    "tid_train, tid_test, _, _ = train_test_split(df.groupby(by=[\"tid\"]).max().reset_index()[\"tid\"],\n",
    "                                                        df.groupby(by=[\"tid\"]).max().reset_index()[\"class\"],\n",
    "                                                        test_size=.3,\n",
    "                                                        stratify=df.groupby(by=[\"tid\"]).max().reset_index()[\"class\"],\n",
    "                                                        random_state=3)\n",
    "\n",
    "df_train = df[df.tid.isin(tid_train)]\n",
    "df_test = df[~df.tid.isin(tid_train)]\n",
    "\n",
    "t+= (datetime.now()-start).total_seconds()*1000\n",
    "df_train"
   ]
  },
  {
   "cell_type": "code",
   "execution_count": null,
   "metadata": {
    "pycharm": {
     "name": "#%%\n"
    }
   },
   "outputs": [],
   "source": []
  },
  {
   "cell_type": "code",
   "execution_count": 43,
   "metadata": {
    "pycharm": {
     "name": "#%%\n"
    }
   },
   "outputs": [
    {
     "data": {
      "application/vnd.jupyter.widget-view+json": {
       "model_id": "308be56013ad419cb03873c4427dcb8b",
       "version_major": 2,
       "version_minor": 0
      },
      "text/plain": [
       "  0%|          | 0/10600 [00:00<?, ?it/s]"
      ]
     },
     "metadata": {},
     "output_type": "display_data"
    },
    {
     "name": "stdout",
     "output_type": "stream",
     "text": [
      "Wall time: 123 ms\n"
     ]
    }
   ],
   "source": [
    "%%time\n",
    "\n",
    "start = datetime.now()\n",
    "\n",
    "movelets = []\n",
    "\n",
    "movelet = []\n",
    "movelets.append(movelet)\n",
    "prec_gh2 = df_train.values[0, 6]\n",
    "first_row = df_train.values[0]\n",
    "for row in tqdm(df_train.values):\n",
    "    if row[6] != prec_gh2:\n",
    "        prec_gh2 = row[6]\n",
    "        first_row = row\n",
    "        movelet = []\n",
    "        movelets.append(movelet)\n",
    "\n",
    "    movelet.append((row[-2]-first_row[-2], row[-1]-first_row[-1], row[2]-first_row[2]))\n",
    "\n",
    "t+= (datetime.now()-start).total_seconds()*1000"
   ]
  },
  {
   "cell_type": "raw",
   "metadata": {
    "pycharm": {
     "name": "#%%\n"
    }
   },
   "source": [
    "import csv\n",
    "\n",
    "with open(\"movelet animals guidotti 5.csv\", \"w\") as f:\n",
    "    wr = csv.writer(f)\n",
    "    wr.writerows(movelets)"
   ]
  },
  {
   "cell_type": "raw",
   "metadata": {},
   "source": [
    "import csv\n",
    "\n",
    "movelets = []\n",
    "\n",
    "with open(\"movelet veicoli guidotti 5.csv\", \"r\") as f:\n",
    "    re = csv.reader(f)\n",
    "    for row in re:\n",
    "        movelet = []\n",
    "        for val in row:\n",
    "            val_splitted = val[1:-1].split(\",\")\n",
    "            movelet.append((float(val_splitted[0]), float(val_splitted[1]), float(val_splitted[2])))\n",
    "        movelets.append(movelet)"
   ]
  },
  {
   "cell_type": "code",
   "execution_count": 44,
   "metadata": {
    "pycharm": {
     "name": "#%%\n"
    }
   },
   "outputs": [],
   "source": [
    "#From here credits to Riccardo Guidotti\n",
    "\n",
    "def spherical_distance(a, b):\n",
    "    lat1 = a[1]\n",
    "    lon1 = a[0]\n",
    "    lat2 = b[1]\n",
    "    lon2 = b[0]\n",
    "    R = 6371000\n",
    "    rlon1 = lon1 * math.pi / 180.0\n",
    "    rlon2 = lon2 * math.pi / 180.0\n",
    "    rlat1 = lat1 * math.pi / 180.0\n",
    "    rlat2 = lat2 * math.pi / 180.0\n",
    "    dlon = (rlon1 - rlon2) / 2.0\n",
    "    dlat = (rlat1 - rlat2) / 2.0\n",
    "    lat12 = (rlat1 + rlat2) / 2.0\n",
    "    sindlat = math.sin(dlat)\n",
    "    sindlon = math.sin(dlon)\n",
    "    cosdlon = math.cos(dlon)\n",
    "    coslat12 = math.cos(lat12)\n",
    "    f = sindlat * sindlat * cosdlon * cosdlon + sindlon * sindlon * coslat12 * coslat12\n",
    "    f = math.sqrt(f)\n",
    "    f = math.asin(f) * 2.0 # the angle between the points\n",
    "    f *= R\n",
    "    return f\n",
    "\n",
    "def trajectory_distance(tr1, tr2):\n",
    "    if len(tr1) == 1 and len(tr2) == 1:\n",
    "        return .0\n",
    "\n",
    "    i1 = 0\n",
    "    i2 = 0\n",
    "    np = 0\n",
    "\n",
    "    last_tr1 = tr1[i1]\n",
    "    last_tr2 = tr2[i2]\n",
    "\n",
    "    dist = spherical_distance(last_tr1, last_tr2)\n",
    "    np += 1\n",
    "\n",
    "    while True:\n",
    "        if i1 >= (len(tr1)-1) or i2 >= (len(tr2)-1):\n",
    "            break\n",
    "\n",
    "        step_tr1 = spherical_distance(last_tr1, tr1[i1 + 1])\n",
    "        step_tr2 = spherical_distance(last_tr2, tr2[i2 + 1])\n",
    "\n",
    "        if step_tr1 < step_tr2:\n",
    "            i1 += 1\n",
    "            last_tr1 = tr1[i1]\n",
    "            last_tr2 = closest_point_on_segment(last_tr2, tr2[i2+1], last_tr1)\n",
    "        elif step_tr1 > step_tr2:\n",
    "            i2 += 1\n",
    "            last_tr2 = tr2[i2]\n",
    "            last_tr1 = closest_point_on_segment(last_tr1, tr1[i1+1], last_tr2)\n",
    "        else:\n",
    "            i1 += 1\n",
    "            i2 += 1\n",
    "            last_tr1 = tr1[i1]\n",
    "            last_tr2 = tr2[i2]\n",
    "\n",
    "        d = spherical_distance(last_tr1, last_tr2)\n",
    "\n",
    "        dist += d\n",
    "        np += 1\n",
    "\n",
    "    for i in range(i1, len(tr1)):\n",
    "        d = spherical_distance(tr2[-1], tr1[i])\n",
    "        dist += d\n",
    "        np += 1\n",
    "\n",
    "    for i in range(i2, len(tr2)):\n",
    "        d = spherical_distance(tr1[-1], tr2[i])\n",
    "        dist += d\n",
    "        np += 1\n",
    "\n",
    "    dist = 1.0 * dist / np\n",
    "\n",
    "    return dist\n",
    "\n",
    "def closest_point_on_segment(a, b, p):\n",
    "    sx1 = a[0]\n",
    "    sx2 = b[0]\n",
    "    sy1 = a[1]\n",
    "    sy2 = b[1]\n",
    "    sz1 = a[2]\n",
    "    sz2 = b[2]\n",
    "    px = p[0]\n",
    "    py = p[1]\n",
    "\n",
    "    x_delta = sx2 - sx1\n",
    "    y_delta = sy2 - sy1\n",
    "    z_delta = sz2 - sz1\n",
    "\n",
    "    if x_delta == 0 and y_delta == 0:\n",
    "        return p\n",
    "\n",
    "    u = ((px - sx1) * x_delta + (py - sy1) * y_delta) / (x_delta * x_delta + y_delta * y_delta)\n",
    "    if u < 0:\n",
    "        closest_point = a\n",
    "    elif u > 1:\n",
    "        closest_point = b\n",
    "    else:\n",
    "        cp_x = sx1 + u * x_delta\n",
    "        cp_y = sy1 + u * y_delta\n",
    "        dist_a_cp = spherical_distance(a, [cp_x, cp_y, 0])\n",
    "        if dist_a_cp != 0:\n",
    "            cp_z = sz1 + z_delta / (spherical_distance(a, b) / spherical_distance(a, [cp_x, cp_y, 0]))\n",
    "        else:\n",
    "            cp_z = a[2]\n",
    "        closest_point = [cp_x, cp_y, cp_z]\n",
    "\n",
    "    return closest_point"
   ]
  },
  {
   "cell_type": "code",
   "execution_count": null,
   "metadata": {},
   "outputs": [],
   "source": []
  },
  {
   "cell_type": "code",
   "execution_count": 45,
   "metadata": {},
   "outputs": [
    {
     "name": "stdout",
     "output_type": "stream",
     "text": [
      "Wall time: 999 µs\n"
     ]
    }
   ],
   "source": [
    "%%time\n",
    "\n",
    "start = datetime.now()\n",
    "\n",
    "colToDelete = 0\n",
    "\n",
    "new_movelets = []\n",
    "\n",
    "for i in range(len(movelets)):\n",
    "    if(len(movelets[i]) < 5):\n",
    "        colToDelete += 1\n",
    "        continue\n",
    "\n",
    "    new_movelets.append(movelets[i])\n",
    "\n",
    "t+= (datetime.now()-start).total_seconds()*1000"
   ]
  },
  {
   "cell_type": "code",
   "execution_count": 53,
   "metadata": {},
   "outputs": [
    {
     "data": {
      "text/plain": [
       "1"
      ]
     },
     "execution_count": 53,
     "metadata": {},
     "output_type": "execute_result"
    }
   ],
   "source": [
    "len(movelets)"
   ]
  },
  {
   "cell_type": "code",
   "execution_count": null,
   "metadata": {},
   "outputs": [],
   "source": []
  },
  {
   "cell_type": "code",
   "execution_count": 51,
   "metadata": {
    "pycharm": {
     "name": "#%%\n"
    }
   },
   "outputs": [
    {
     "data": {
      "application/vnd.jupyter.widget-view+json": {
       "model_id": "fed11530fe9e4960be8da899339fdc0a",
       "version_major": 2,
       "version_minor": 0
      },
      "text/plain": [
       "  0%|          | 0/1 [00:00<?, ?it/s]"
      ]
     },
     "metadata": {},
     "output_type": "display_data"
    },
    {
     "name": "stdout",
     "output_type": "stream",
     "text": [
      "Wall time: 256 ms\n"
     ]
    }
   ],
   "source": [
    "%%time\n",
    "\n",
    "start = datetime.now()\n",
    "\n",
    "dim = len(new_movelets)\n",
    "\n",
    "dist_matrix = np.zeros((dim, dim))\n",
    "\n",
    "for i, tr1 in enumerate(tqdm(new_movelets)):\n",
    "    for j, tr2 in enumerate(new_movelets[:i+1]):\n",
    "        dist = trajectory_distance(tr1, tr2)\n",
    "        dist_matrix[i, j] = dist\n",
    "        dist_matrix[j, i] = dist\n",
    "        \n",
    "t+= (datetime.now()-start).total_seconds()*1000"
   ]
  },
  {
   "cell_type": "raw",
   "metadata": {
    "pycharm": {
     "name": "#%%\n"
    }
   },
   "source": [
    "np.save(\"dist_matrix_6.npy\", dist_matrix)"
   ]
  },
  {
   "cell_type": "raw",
   "metadata": {
    "pycharm": {
     "name": "#%%\n"
    }
   },
   "source": [
    "dist_matrix = np.load(\"dist_matrix_6.npy\")"
   ]
  },
  {
   "cell_type": "code",
   "execution_count": 47,
   "metadata": {
    "pycharm": {
     "name": "#%%\n"
    }
   },
   "outputs": [
    {
     "data": {
      "text/plain": [
       "10600"
      ]
     },
     "execution_count": 47,
     "metadata": {},
     "output_type": "execute_result"
    }
   ],
   "source": [
    "len(movelets[0])"
   ]
  },
  {
   "cell_type": "code",
   "execution_count": 48,
   "metadata": {
    "pycharm": {
     "name": "#%%\n"
    }
   },
   "outputs": [
    {
     "data": {
      "text/plain": [
       "1978.999"
      ]
     },
     "execution_count": 48,
     "metadata": {},
     "output_type": "execute_result"
    }
   ],
   "source": [
    "t"
   ]
  },
  {
   "cell_type": "code",
   "execution_count": null,
   "metadata": {},
   "outputs": [],
   "source": []
  },
  {
   "cell_type": "markdown",
   "metadata": {},
   "source": [
    "# QUI"
   ]
  },
  {
   "cell_type": "code",
   "execution_count": null,
   "metadata": {},
   "outputs": [],
   "source": []
  },
  {
   "cell_type": "code",
   "execution_count": 17,
   "metadata": {},
   "outputs": [],
   "source": [
    "t = 0\n",
    "\n",
    "def symbolize(medoids, tr):\n",
    "    i = 0\n",
    "    sym = []\n",
    "    while i < len(tr):\n",
    "        best_medoid_id = np.inf\n",
    "        best_medoid_score = np.inf\n",
    "        for j, medoid in enumerate(medoids):\n",
    "            score = trajectory_distance(medoid, list(map(lambda x: (x[0]-tr[i][0], x[1]-tr[i][1], x[2]-tr[i][2]), tr[i:i+len(medoid)])))\n",
    "            if best_medoid_score > score:\n",
    "                best_medoid_id = j\n",
    "                best_medoid_score = score\n",
    "        sym.append(best_medoid_id)\n",
    "        i += len(medoids[best_medoid_id])\n",
    "\n",
    "    return sym\n",
    "\n",
    "def myContains(big, small):\n",
    "    count = 0\n",
    "    for i in range(len(big)):\n",
    "        if big[i] == small[count]:\n",
    "            count +=1\n",
    "        else:\n",
    "            count = 0\n",
    "        if count == len(small):\n",
    "            return True\n",
    "\n",
    "    return False"
   ]
  },
  {
   "cell_type": "code",
   "execution_count": 18,
   "metadata": {},
   "outputs": [],
   "source": [
    "from sklearn.feature_selection import mutual_info_classif\n",
    "\n",
    "y=df.groupby(by=\"tid\").max()[\"class\"]"
   ]
  },
  {
   "cell_type": "code",
   "execution_count": 19,
   "metadata": {},
   "outputs": [],
   "source": [
    "def guidotti(n_clust=20, sliding_w=3, top_k=200):\n",
    "    kmedoids = KMedoids(n_clusters=n_clust, random_state=0, metric=\"precomputed\").fit(dist_matrix)    \n",
    "    medoids = [new_movelets[x] for x in kmedoids.medoid_indices_]\n",
    "    trajectories = [[(x[3], x[4], x[2]) for x in df[df.tid == tid].values] for tid in df.tid.unique()]\n",
    "    \n",
    "    trajectories_sym=[]\n",
    "    for trajectory in tqdm(trajectories, desc=\"symbolize\"):\n",
    "        trajectories_sym.append(symbolize(medoids, trajectory))\n",
    "            \n",
    "    trajectories_sym_train, _, y_sym_tr, _ = train_test_split(trajectories_sym,\n",
    "                                                        y,\n",
    "                                                        test_size=.3,\n",
    "                                                        stratify=y,\n",
    "                                                        random_state=3)\n",
    "    \n",
    "    subtrajectories_sym=[]\n",
    "    for i, tr in enumerate(tqdm(trajectories_sym_train, desc=\"sliding w\")):\n",
    "        for j in range(0, len(tr)-sliding_w):\n",
    "            subtrajectories_sym.append(tr[j:j+sliding_w])\n",
    "    \n",
    "    sliding_w *= 2\n",
    "    for i, tr in enumerate(tqdm(trajectories_sym_train, desc=\"sliding w\")):\n",
    "        for j in range(0, len(tr)-sliding_w):\n",
    "            subtrajectories_sym.append(tr[j:j+sliding_w])\n",
    "    \n",
    "    sliding_w *= 2\n",
    "    for i, tr in enumerate(tqdm(trajectories_sym_train, desc=\"sliding w\")):\n",
    "        for j in range(0, len(tr)-sliding_w):\n",
    "            subtrajectories_sym.append(tr[j:j+sliding_w])\n",
    "    \n",
    "    matr_sub = np.ones((len(trajectories_sym_train), len(subtrajectories_sym)))*np.NAN\n",
    "    for i, traiettoria in enumerate(tqdm(trajectories_sym_train, desc=\"contains\")):\n",
    "        for j, pattern in enumerate(subtrajectories_sym):\n",
    "            matr_sub[i][j] = 1 if myContains(traiettoria, pattern) else 0\n",
    "    \n",
    "    mi = mutual_info_classif(matr_sub, y_sym_tr)\n",
    "    d = {i: x for i, x in enumerate(mi)}\n",
    "    d = {k: v for k, v in sorted(d.items(), key=lambda item: -item[1])}\n",
    "    \n",
    "    res = []\n",
    "    for key in list(d.keys())[:top_k]:\n",
    "        res.append(subtrajectories_sym[key])\n",
    "        \n",
    "    matr = np.ones((len(trajectories_sym), len(res)))*np.NAN\n",
    "    for i, traiettoria in enumerate(tqdm(trajectories_sym)):\n",
    "        for j, pattern in enumerate(res):\n",
    "            matr[i][j] = 1 if myContains(traiettoria, pattern) else 0\n",
    "    \n",
    "    return matr"
   ]
  },
  {
   "cell_type": "code",
   "execution_count": null,
   "metadata": {},
   "outputs": [],
   "source": []
  },
  {
   "cell_type": "code",
   "execution_count": null,
   "metadata": {},
   "outputs": [],
   "source": []
  },
  {
   "cell_type": "code",
   "execution_count": null,
   "metadata": {},
   "outputs": [],
   "source": []
  },
  {
   "cell_type": "code",
   "execution_count": 20,
   "metadata": {},
   "outputs": [],
   "source": [
    "def runTest(n_clust, sliding_w, top_k):\n",
    "    start = datetime.now()\n",
    "    \n",
    "    X = guidotti(n_clust=n_clust, sliding_w=sliding_w, top_k=top_k)\n",
    "    \n",
    "    return (datetime.now()-start).total_seconds()*1000, X"
   ]
  },
  {
   "cell_type": "code",
   "execution_count": 21,
   "metadata": {},
   "outputs": [],
   "source": [
    "def foo(x):\n",
    "    return (x, x*x)"
   ]
  },
  {
   "cell_type": "code",
   "execution_count": 22,
   "metadata": {
    "scrolled": true
   },
   "outputs": [
    {
     "data": {
      "application/vnd.jupyter.widget-view+json": {
       "model_id": "81a8926434434bd38b8befbc9ce796ec",
       "version_major": 2,
       "version_minor": 0
      },
      "text/plain": [
       "  0%|          | 0/4 [00:00<?, ?it/s]"
      ]
     },
     "metadata": {},
     "output_type": "display_data"
    },
    {
     "data": {
      "application/vnd.jupyter.widget-view+json": {
       "model_id": "66f3e8ae4f114ade8283349074253b41",
       "version_major": 2,
       "version_minor": 0
      },
      "text/plain": [
       "symbolize:   0%|          | 0/102 [00:00<?, ?it/s]"
      ]
     },
     "metadata": {},
     "output_type": "display_data"
    },
    {
     "data": {
      "application/vnd.jupyter.widget-view+json": {
       "model_id": "b53cb4c0ebef4cc2aff03f92206381a9",
       "version_major": 2,
       "version_minor": 0
      },
      "text/plain": [
       "sliding w:   0%|          | 0/71 [00:00<?, ?it/s]"
      ]
     },
     "metadata": {},
     "output_type": "display_data"
    },
    {
     "data": {
      "application/vnd.jupyter.widget-view+json": {
       "model_id": "f718b2fe4d3349e89ce496c2b01abdfe",
       "version_major": 2,
       "version_minor": 0
      },
      "text/plain": [
       "sliding w:   0%|          | 0/71 [00:00<?, ?it/s]"
      ]
     },
     "metadata": {},
     "output_type": "display_data"
    },
    {
     "data": {
      "application/vnd.jupyter.widget-view+json": {
       "model_id": "459189b1a2ac445dafc396841f97c547",
       "version_major": 2,
       "version_minor": 0
      },
      "text/plain": [
       "sliding w:   0%|          | 0/71 [00:00<?, ?it/s]"
      ]
     },
     "metadata": {},
     "output_type": "display_data"
    },
    {
     "data": {
      "application/vnd.jupyter.widget-view+json": {
       "model_id": "6756c8521825455a843adfe4ccbad103",
       "version_major": 2,
       "version_minor": 0
      },
      "text/plain": [
       "contains:   0%|          | 0/71 [00:00<?, ?it/s]"
      ]
     },
     "metadata": {},
     "output_type": "display_data"
    },
    {
     "data": {
      "application/vnd.jupyter.widget-view+json": {
       "model_id": "9c4bfcb3050e46a78b730f645c7f0550",
       "version_major": 2,
       "version_minor": 0
      },
      "text/plain": [
       "  0%|          | 0/102 [00:00<?, ?it/s]"
      ]
     },
     "metadata": {},
     "output_type": "display_data"
    },
    {
     "data": {
      "application/vnd.jupyter.widget-view+json": {
       "model_id": "8f48bbc235aa4c4ab0a0d68f3090b7f1",
       "version_major": 2,
       "version_minor": 0
      },
      "text/plain": [
       "symbolize:   0%|          | 0/102 [00:00<?, ?it/s]"
      ]
     },
     "metadata": {},
     "output_type": "display_data"
    },
    {
     "data": {
      "application/vnd.jupyter.widget-view+json": {
       "model_id": "219e3fd50b084731b4bb7592a4e98c82",
       "version_major": 2,
       "version_minor": 0
      },
      "text/plain": [
       "sliding w:   0%|          | 0/71 [00:00<?, ?it/s]"
      ]
     },
     "metadata": {},
     "output_type": "display_data"
    },
    {
     "data": {
      "application/vnd.jupyter.widget-view+json": {
       "model_id": "0921999443454a13821c2afce486a396",
       "version_major": 2,
       "version_minor": 0
      },
      "text/plain": [
       "sliding w:   0%|          | 0/71 [00:00<?, ?it/s]"
      ]
     },
     "metadata": {},
     "output_type": "display_data"
    },
    {
     "data": {
      "application/vnd.jupyter.widget-view+json": {
       "model_id": "bacf6c2db7a14a648b301e6933894575",
       "version_major": 2,
       "version_minor": 0
      },
      "text/plain": [
       "sliding w:   0%|          | 0/71 [00:00<?, ?it/s]"
      ]
     },
     "metadata": {},
     "output_type": "display_data"
    },
    {
     "data": {
      "application/vnd.jupyter.widget-view+json": {
       "model_id": "2ada1f9e5acf4cfb8f1af1eee5baf29c",
       "version_major": 2,
       "version_minor": 0
      },
      "text/plain": [
       "contains:   0%|          | 0/71 [00:00<?, ?it/s]"
      ]
     },
     "metadata": {},
     "output_type": "display_data"
    },
    {
     "data": {
      "application/vnd.jupyter.widget-view+json": {
       "model_id": "f3cbc5e26d4c4b50bce7ba62cc0b49d1",
       "version_major": 2,
       "version_minor": 0
      },
      "text/plain": [
       "  0%|          | 0/102 [00:00<?, ?it/s]"
      ]
     },
     "metadata": {},
     "output_type": "display_data"
    },
    {
     "data": {
      "application/vnd.jupyter.widget-view+json": {
       "model_id": "60f5c6c7f47c41568ffcc995d30ba877",
       "version_major": 2,
       "version_minor": 0
      },
      "text/plain": [
       "symbolize:   0%|          | 0/102 [00:00<?, ?it/s]"
      ]
     },
     "metadata": {},
     "output_type": "display_data"
    },
    {
     "data": {
      "application/vnd.jupyter.widget-view+json": {
       "model_id": "be0a9183b5d54a3d84d054b137f0aaa7",
       "version_major": 2,
       "version_minor": 0
      },
      "text/plain": [
       "sliding w:   0%|          | 0/71 [00:00<?, ?it/s]"
      ]
     },
     "metadata": {},
     "output_type": "display_data"
    },
    {
     "data": {
      "application/vnd.jupyter.widget-view+json": {
       "model_id": "373e8cdfd2fe4f9981de428071463610",
       "version_major": 2,
       "version_minor": 0
      },
      "text/plain": [
       "sliding w:   0%|          | 0/71 [00:00<?, ?it/s]"
      ]
     },
     "metadata": {},
     "output_type": "display_data"
    },
    {
     "data": {
      "application/vnd.jupyter.widget-view+json": {
       "model_id": "13508b136c3d4f40b36aab569497e740",
       "version_major": 2,
       "version_minor": 0
      },
      "text/plain": [
       "sliding w:   0%|          | 0/71 [00:00<?, ?it/s]"
      ]
     },
     "metadata": {},
     "output_type": "display_data"
    },
    {
     "data": {
      "application/vnd.jupyter.widget-view+json": {
       "model_id": "3bbf3c2e8836491a9f1d091cf82e3bf9",
       "version_major": 2,
       "version_minor": 0
      },
      "text/plain": [
       "contains:   0%|          | 0/71 [00:00<?, ?it/s]"
      ]
     },
     "metadata": {},
     "output_type": "display_data"
    },
    {
     "data": {
      "application/vnd.jupyter.widget-view+json": {
       "model_id": "24efb330ebe548f193b4bf06c71b99a9",
       "version_major": 2,
       "version_minor": 0
      },
      "text/plain": [
       "  0%|          | 0/102 [00:00<?, ?it/s]"
      ]
     },
     "metadata": {},
     "output_type": "display_data"
    },
    {
     "data": {
      "application/vnd.jupyter.widget-view+json": {
       "model_id": "137bc36f1d9e4ca9b3fc9762776120d4",
       "version_major": 2,
       "version_minor": 0
      },
      "text/plain": [
       "symbolize:   0%|          | 0/102 [00:00<?, ?it/s]"
      ]
     },
     "metadata": {},
     "output_type": "display_data"
    },
    {
     "data": {
      "application/vnd.jupyter.widget-view+json": {
       "model_id": "f44e12da4037451c981da9364dad6965",
       "version_major": 2,
       "version_minor": 0
      },
      "text/plain": [
       "sliding w:   0%|          | 0/71 [00:00<?, ?it/s]"
      ]
     },
     "metadata": {},
     "output_type": "display_data"
    },
    {
     "data": {
      "application/vnd.jupyter.widget-view+json": {
       "model_id": "234bacf8f65248a982f8816b40104fab",
       "version_major": 2,
       "version_minor": 0
      },
      "text/plain": [
       "sliding w:   0%|          | 0/71 [00:00<?, ?it/s]"
      ]
     },
     "metadata": {},
     "output_type": "display_data"
    },
    {
     "data": {
      "application/vnd.jupyter.widget-view+json": {
       "model_id": "4447ff6194b543f19d8170ffec1ecd20",
       "version_major": 2,
       "version_minor": 0
      },
      "text/plain": [
       "sliding w:   0%|          | 0/71 [00:00<?, ?it/s]"
      ]
     },
     "metadata": {},
     "output_type": "display_data"
    },
    {
     "data": {
      "application/vnd.jupyter.widget-view+json": {
       "model_id": "ca8efb5fc5714be19b77a3037a6d504e",
       "version_major": 2,
       "version_minor": 0
      },
      "text/plain": [
       "contains:   0%|          | 0/71 [00:00<?, ?it/s]"
      ]
     },
     "metadata": {},
     "output_type": "display_data"
    },
    {
     "data": {
      "application/vnd.jupyter.widget-view+json": {
       "model_id": "e21978f949294595b3d57c7923714db0",
       "version_major": 2,
       "version_minor": 0
      },
      "text/plain": [
       "  0%|          | 0/102 [00:00<?, ?it/s]"
      ]
     },
     "metadata": {},
     "output_type": "display_data"
    },
    {
     "data": {
      "application/vnd.jupyter.widget-view+json": {
       "model_id": "84c3c50cc048499e854a1e12367ec413",
       "version_major": 2,
       "version_minor": 0
      },
      "text/plain": [
       "symbolize:   0%|          | 0/102 [00:00<?, ?it/s]"
      ]
     },
     "metadata": {},
     "output_type": "display_data"
    },
    {
     "data": {
      "application/vnd.jupyter.widget-view+json": {
       "model_id": "851af40f43d84a11a6249b6fd4f333a8",
       "version_major": 2,
       "version_minor": 0
      },
      "text/plain": [
       "sliding w:   0%|          | 0/71 [00:00<?, ?it/s]"
      ]
     },
     "metadata": {},
     "output_type": "display_data"
    },
    {
     "data": {
      "application/vnd.jupyter.widget-view+json": {
       "model_id": "a4c21dd8a5074f8ba578a68b3e6c1e57",
       "version_major": 2,
       "version_minor": 0
      },
      "text/plain": [
       "sliding w:   0%|          | 0/71 [00:00<?, ?it/s]"
      ]
     },
     "metadata": {},
     "output_type": "display_data"
    },
    {
     "data": {
      "application/vnd.jupyter.widget-view+json": {
       "model_id": "b07c9a0ebe3d4f2da1184b74e9a3d8df",
       "version_major": 2,
       "version_minor": 0
      },
      "text/plain": [
       "sliding w:   0%|          | 0/71 [00:00<?, ?it/s]"
      ]
     },
     "metadata": {},
     "output_type": "display_data"
    },
    {
     "data": {
      "application/vnd.jupyter.widget-view+json": {
       "model_id": "c41aa4a9d544482d827ceba55b6475f4",
       "version_major": 2,
       "version_minor": 0
      },
      "text/plain": [
       "contains:   0%|          | 0/71 [00:00<?, ?it/s]"
      ]
     },
     "metadata": {},
     "output_type": "display_data"
    },
    {
     "data": {
      "application/vnd.jupyter.widget-view+json": {
       "model_id": "b62e5aba5e714fccb874658fee294b0e",
       "version_major": 2,
       "version_minor": 0
      },
      "text/plain": [
       "  0%|          | 0/102 [00:00<?, ?it/s]"
      ]
     },
     "metadata": {},
     "output_type": "display_data"
    },
    {
     "data": {
      "application/vnd.jupyter.widget-view+json": {
       "model_id": "2085dfe2e11246cd9d12641aa5c7832d",
       "version_major": 2,
       "version_minor": 0
      },
      "text/plain": [
       "symbolize:   0%|          | 0/102 [00:00<?, ?it/s]"
      ]
     },
     "metadata": {},
     "output_type": "display_data"
    },
    {
     "data": {
      "application/vnd.jupyter.widget-view+json": {
       "model_id": "6ee3ba139648468f88253f23eb5f7981",
       "version_major": 2,
       "version_minor": 0
      },
      "text/plain": [
       "sliding w:   0%|          | 0/71 [00:00<?, ?it/s]"
      ]
     },
     "metadata": {},
     "output_type": "display_data"
    },
    {
     "data": {
      "application/vnd.jupyter.widget-view+json": {
       "model_id": "e840c8b33b964b7184ad37984119d6a4",
       "version_major": 2,
       "version_minor": 0
      },
      "text/plain": [
       "sliding w:   0%|          | 0/71 [00:00<?, ?it/s]"
      ]
     },
     "metadata": {},
     "output_type": "display_data"
    },
    {
     "data": {
      "application/vnd.jupyter.widget-view+json": {
       "model_id": "f40dfe22c52a44fe990b2f14712f0302",
       "version_major": 2,
       "version_minor": 0
      },
      "text/plain": [
       "sliding w:   0%|          | 0/71 [00:00<?, ?it/s]"
      ]
     },
     "metadata": {},
     "output_type": "display_data"
    },
    {
     "data": {
      "application/vnd.jupyter.widget-view+json": {
       "model_id": "80df12bf1e2a46e5b9d5af5e5bf521ba",
       "version_major": 2,
       "version_minor": 0
      },
      "text/plain": [
       "contains:   0%|          | 0/71 [00:00<?, ?it/s]"
      ]
     },
     "metadata": {},
     "output_type": "display_data"
    },
    {
     "data": {
      "application/vnd.jupyter.widget-view+json": {
       "model_id": "9d276bc9731245f3ac2fe1a06abe7521",
       "version_major": 2,
       "version_minor": 0
      },
      "text/plain": [
       "  0%|          | 0/102 [00:00<?, ?it/s]"
      ]
     },
     "metadata": {},
     "output_type": "display_data"
    },
    {
     "data": {
      "application/vnd.jupyter.widget-view+json": {
       "model_id": "50f43a2992c04e67a30e985fac6244da",
       "version_major": 2,
       "version_minor": 0
      },
      "text/plain": [
       "symbolize:   0%|          | 0/102 [00:00<?, ?it/s]"
      ]
     },
     "metadata": {},
     "output_type": "display_data"
    },
    {
     "data": {
      "application/vnd.jupyter.widget-view+json": {
       "model_id": "0e0fafdf118d42969877a9f000521204",
       "version_major": 2,
       "version_minor": 0
      },
      "text/plain": [
       "sliding w:   0%|          | 0/71 [00:00<?, ?it/s]"
      ]
     },
     "metadata": {},
     "output_type": "display_data"
    },
    {
     "data": {
      "application/vnd.jupyter.widget-view+json": {
       "model_id": "35ffa9a65000495eb2fe8e591ccb0fc2",
       "version_major": 2,
       "version_minor": 0
      },
      "text/plain": [
       "sliding w:   0%|          | 0/71 [00:00<?, ?it/s]"
      ]
     },
     "metadata": {},
     "output_type": "display_data"
    },
    {
     "data": {
      "application/vnd.jupyter.widget-view+json": {
       "model_id": "fd3bfa8c01dc4b62ae6306942f91ee94",
       "version_major": 2,
       "version_minor": 0
      },
      "text/plain": [
       "sliding w:   0%|          | 0/71 [00:00<?, ?it/s]"
      ]
     },
     "metadata": {},
     "output_type": "display_data"
    },
    {
     "data": {
      "application/vnd.jupyter.widget-view+json": {
       "model_id": "0bca284460e5443f88995123baba24ea",
       "version_major": 2,
       "version_minor": 0
      },
      "text/plain": [
       "contains:   0%|          | 0/71 [00:00<?, ?it/s]"
      ]
     },
     "metadata": {},
     "output_type": "display_data"
    },
    {
     "data": {
      "application/vnd.jupyter.widget-view+json": {
       "model_id": "684f1ccacbbe4cd2aa149e5035b26592",
       "version_major": 2,
       "version_minor": 0
      },
      "text/plain": [
       "  0%|          | 0/102 [00:00<?, ?it/s]"
      ]
     },
     "metadata": {},
     "output_type": "display_data"
    },
    {
     "data": {
      "application/vnd.jupyter.widget-view+json": {
       "model_id": "19e85496ce594539919ad6e628165983",
       "version_major": 2,
       "version_minor": 0
      },
      "text/plain": [
       "symbolize:   0%|          | 0/102 [00:00<?, ?it/s]"
      ]
     },
     "metadata": {},
     "output_type": "display_data"
    },
    {
     "data": {
      "application/vnd.jupyter.widget-view+json": {
       "model_id": "8a7ebfc0796f435a94132eabbf4b5c21",
       "version_major": 2,
       "version_minor": 0
      },
      "text/plain": [
       "sliding w:   0%|          | 0/71 [00:00<?, ?it/s]"
      ]
     },
     "metadata": {},
     "output_type": "display_data"
    },
    {
     "data": {
      "application/vnd.jupyter.widget-view+json": {
       "model_id": "03f767e88d4343a3b148bb45c7f1a422",
       "version_major": 2,
       "version_minor": 0
      },
      "text/plain": [
       "sliding w:   0%|          | 0/71 [00:00<?, ?it/s]"
      ]
     },
     "metadata": {},
     "output_type": "display_data"
    },
    {
     "data": {
      "application/vnd.jupyter.widget-view+json": {
       "model_id": "fd025350d43544518f633f777af781cb",
       "version_major": 2,
       "version_minor": 0
      },
      "text/plain": [
       "sliding w:   0%|          | 0/71 [00:00<?, ?it/s]"
      ]
     },
     "metadata": {},
     "output_type": "display_data"
    },
    {
     "data": {
      "application/vnd.jupyter.widget-view+json": {
       "model_id": "fe4f5ac1ca1342debffb8766c9df21b9",
       "version_major": 2,
       "version_minor": 0
      },
      "text/plain": [
       "contains:   0%|          | 0/71 [00:00<?, ?it/s]"
      ]
     },
     "metadata": {},
     "output_type": "display_data"
    },
    {
     "data": {
      "application/vnd.jupyter.widget-view+json": {
       "model_id": "db01c093ab9942f3bf18af83f47871f5",
       "version_major": 2,
       "version_minor": 0
      },
      "text/plain": [
       "  0%|          | 0/102 [00:00<?, ?it/s]"
      ]
     },
     "metadata": {},
     "output_type": "display_data"
    },
    {
     "data": {
      "application/vnd.jupyter.widget-view+json": {
       "model_id": "a83db7ce87504a73b3d2a9e461aa642a",
       "version_major": 2,
       "version_minor": 0
      },
      "text/plain": [
       "symbolize:   0%|          | 0/102 [00:00<?, ?it/s]"
      ]
     },
     "metadata": {},
     "output_type": "display_data"
    },
    {
     "data": {
      "application/vnd.jupyter.widget-view+json": {
       "model_id": "83abf572932442549ae8b4338555e4c5",
       "version_major": 2,
       "version_minor": 0
      },
      "text/plain": [
       "sliding w:   0%|          | 0/71 [00:00<?, ?it/s]"
      ]
     },
     "metadata": {},
     "output_type": "display_data"
    },
    {
     "data": {
      "application/vnd.jupyter.widget-view+json": {
       "model_id": "34c6a93780bb475fafcb95f3cd0c5255",
       "version_major": 2,
       "version_minor": 0
      },
      "text/plain": [
       "sliding w:   0%|          | 0/71 [00:00<?, ?it/s]"
      ]
     },
     "metadata": {},
     "output_type": "display_data"
    },
    {
     "data": {
      "application/vnd.jupyter.widget-view+json": {
       "model_id": "47cb494e8e694c88865391ce79182520",
       "version_major": 2,
       "version_minor": 0
      },
      "text/plain": [
       "sliding w:   0%|          | 0/71 [00:00<?, ?it/s]"
      ]
     },
     "metadata": {},
     "output_type": "display_data"
    },
    {
     "data": {
      "application/vnd.jupyter.widget-view+json": {
       "model_id": "97221256efaf4fa490f0ee51575112a0",
       "version_major": 2,
       "version_minor": 0
      },
      "text/plain": [
       "contains:   0%|          | 0/71 [00:00<?, ?it/s]"
      ]
     },
     "metadata": {},
     "output_type": "display_data"
    },
    {
     "data": {
      "application/vnd.jupyter.widget-view+json": {
       "model_id": "7ff464f93c884aa196b355ff7b6db4b3",
       "version_major": 2,
       "version_minor": 0
      },
      "text/plain": [
       "  0%|          | 0/102 [00:00<?, ?it/s]"
      ]
     },
     "metadata": {},
     "output_type": "display_data"
    },
    {
     "data": {
      "application/vnd.jupyter.widget-view+json": {
       "model_id": "c4e92a793348439284e8fa900d8ecd99",
       "version_major": 2,
       "version_minor": 0
      },
      "text/plain": [
       "symbolize:   0%|          | 0/102 [00:00<?, ?it/s]"
      ]
     },
     "metadata": {},
     "output_type": "display_data"
    },
    {
     "data": {
      "application/vnd.jupyter.widget-view+json": {
       "model_id": "08a581d7f06b4fff9cc01a842cc66545",
       "version_major": 2,
       "version_minor": 0
      },
      "text/plain": [
       "sliding w:   0%|          | 0/71 [00:00<?, ?it/s]"
      ]
     },
     "metadata": {},
     "output_type": "display_data"
    },
    {
     "data": {
      "application/vnd.jupyter.widget-view+json": {
       "model_id": "8c99a3a047834b1780c132d1c6ae5073",
       "version_major": 2,
       "version_minor": 0
      },
      "text/plain": [
       "sliding w:   0%|          | 0/71 [00:00<?, ?it/s]"
      ]
     },
     "metadata": {},
     "output_type": "display_data"
    },
    {
     "data": {
      "application/vnd.jupyter.widget-view+json": {
       "model_id": "4a883f88dad94d1fbd5312531a1969ee",
       "version_major": 2,
       "version_minor": 0
      },
      "text/plain": [
       "sliding w:   0%|          | 0/71 [00:00<?, ?it/s]"
      ]
     },
     "metadata": {},
     "output_type": "display_data"
    },
    {
     "data": {
      "application/vnd.jupyter.widget-view+json": {
       "model_id": "d5f1338159114a8a887a4386dda85d3c",
       "version_major": 2,
       "version_minor": 0
      },
      "text/plain": [
       "contains:   0%|          | 0/71 [00:00<?, ?it/s]"
      ]
     },
     "metadata": {},
     "output_type": "display_data"
    },
    {
     "data": {
      "application/vnd.jupyter.widget-view+json": {
       "model_id": "5ae42e66b7b847458b3dc3ddcc2d1c23",
       "version_major": 2,
       "version_minor": 0
      },
      "text/plain": [
       "  0%|          | 0/102 [00:00<?, ?it/s]"
      ]
     },
     "metadata": {},
     "output_type": "display_data"
    },
    {
     "data": {
      "application/vnd.jupyter.widget-view+json": {
       "model_id": "ff456af302984cedbe1fd72407cdbbcb",
       "version_major": 2,
       "version_minor": 0
      },
      "text/plain": [
       "symbolize:   0%|          | 0/102 [00:00<?, ?it/s]"
      ]
     },
     "metadata": {},
     "output_type": "display_data"
    },
    {
     "data": {
      "application/vnd.jupyter.widget-view+json": {
       "model_id": "0b181c0177d948afa814f1d7a7c74f1f",
       "version_major": 2,
       "version_minor": 0
      },
      "text/plain": [
       "sliding w:   0%|          | 0/71 [00:00<?, ?it/s]"
      ]
     },
     "metadata": {},
     "output_type": "display_data"
    },
    {
     "data": {
      "application/vnd.jupyter.widget-view+json": {
       "model_id": "5cda7d894ac54439abf31bbb22356b5f",
       "version_major": 2,
       "version_minor": 0
      },
      "text/plain": [
       "sliding w:   0%|          | 0/71 [00:00<?, ?it/s]"
      ]
     },
     "metadata": {},
     "output_type": "display_data"
    },
    {
     "data": {
      "application/vnd.jupyter.widget-view+json": {
       "model_id": "d5dc8d7c9aa5461eac30e90a526a25a2",
       "version_major": 2,
       "version_minor": 0
      },
      "text/plain": [
       "sliding w:   0%|          | 0/71 [00:00<?, ?it/s]"
      ]
     },
     "metadata": {},
     "output_type": "display_data"
    },
    {
     "data": {
      "application/vnd.jupyter.widget-view+json": {
       "model_id": "1a5f3565e99e4cf38bece8bb75310b51",
       "version_major": 2,
       "version_minor": 0
      },
      "text/plain": [
       "contains:   0%|          | 0/71 [00:00<?, ?it/s]"
      ]
     },
     "metadata": {},
     "output_type": "display_data"
    },
    {
     "data": {
      "application/vnd.jupyter.widget-view+json": {
       "model_id": "55725bcbbcaa4819bd7a9d9dcf36b6f7",
       "version_major": 2,
       "version_minor": 0
      },
      "text/plain": [
       "  0%|          | 0/102 [00:00<?, ?it/s]"
      ]
     },
     "metadata": {},
     "output_type": "display_data"
    },
    {
     "data": {
      "application/vnd.jupyter.widget-view+json": {
       "model_id": "30d27f2e4cf241ad9f1c107eaa82725a",
       "version_major": 2,
       "version_minor": 0
      },
      "text/plain": [
       "symbolize:   0%|          | 0/102 [00:00<?, ?it/s]"
      ]
     },
     "metadata": {},
     "output_type": "display_data"
    },
    {
     "data": {
      "application/vnd.jupyter.widget-view+json": {
       "model_id": "61e7a42848bb4f3188c22c8c53c14da3",
       "version_major": 2,
       "version_minor": 0
      },
      "text/plain": [
       "sliding w:   0%|          | 0/71 [00:00<?, ?it/s]"
      ]
     },
     "metadata": {},
     "output_type": "display_data"
    },
    {
     "data": {
      "application/vnd.jupyter.widget-view+json": {
       "model_id": "167e3aa3417e4f118e309e7c162e6929",
       "version_major": 2,
       "version_minor": 0
      },
      "text/plain": [
       "sliding w:   0%|          | 0/71 [00:00<?, ?it/s]"
      ]
     },
     "metadata": {},
     "output_type": "display_data"
    },
    {
     "data": {
      "application/vnd.jupyter.widget-view+json": {
       "model_id": "874a2aea13bc4550a93ce1305f544c86",
       "version_major": 2,
       "version_minor": 0
      },
      "text/plain": [
       "sliding w:   0%|          | 0/71 [00:00<?, ?it/s]"
      ]
     },
     "metadata": {},
     "output_type": "display_data"
    },
    {
     "data": {
      "application/vnd.jupyter.widget-view+json": {
       "model_id": "f033848e8cf94edcadb2911774080370",
       "version_major": 2,
       "version_minor": 0
      },
      "text/plain": [
       "contains:   0%|          | 0/71 [00:00<?, ?it/s]"
      ]
     },
     "metadata": {},
     "output_type": "display_data"
    },
    {
     "data": {
      "application/vnd.jupyter.widget-view+json": {
       "model_id": "79220c28e8f8413f964466ab871b41a8",
       "version_major": 2,
       "version_minor": 0
      },
      "text/plain": [
       "  0%|          | 0/102 [00:00<?, ?it/s]"
      ]
     },
     "metadata": {},
     "output_type": "display_data"
    },
    {
     "data": {
      "application/vnd.jupyter.widget-view+json": {
       "model_id": "a808d7de40714d1ebd6c6a17e9f3fcc2",
       "version_major": 2,
       "version_minor": 0
      },
      "text/plain": [
       "symbolize:   0%|          | 0/102 [00:00<?, ?it/s]"
      ]
     },
     "metadata": {},
     "output_type": "display_data"
    },
    {
     "data": {
      "application/vnd.jupyter.widget-view+json": {
       "model_id": "76a3b235e43341b7a5df080105d018a3",
       "version_major": 2,
       "version_minor": 0
      },
      "text/plain": [
       "sliding w:   0%|          | 0/71 [00:00<?, ?it/s]"
      ]
     },
     "metadata": {},
     "output_type": "display_data"
    },
    {
     "data": {
      "application/vnd.jupyter.widget-view+json": {
       "model_id": "3907bb5c884c499cb1887fc1d8e47403",
       "version_major": 2,
       "version_minor": 0
      },
      "text/plain": [
       "sliding w:   0%|          | 0/71 [00:00<?, ?it/s]"
      ]
     },
     "metadata": {},
     "output_type": "display_data"
    },
    {
     "data": {
      "application/vnd.jupyter.widget-view+json": {
       "model_id": "11a421eb28ea4bdbb177bf86e6629cde",
       "version_major": 2,
       "version_minor": 0
      },
      "text/plain": [
       "sliding w:   0%|          | 0/71 [00:00<?, ?it/s]"
      ]
     },
     "metadata": {},
     "output_type": "display_data"
    },
    {
     "data": {
      "application/vnd.jupyter.widget-view+json": {
       "model_id": "32a7e8026fc74cfea924c2573a473103",
       "version_major": 2,
       "version_minor": 0
      },
      "text/plain": [
       "contains:   0%|          | 0/71 [00:00<?, ?it/s]"
      ]
     },
     "metadata": {},
     "output_type": "display_data"
    },
    {
     "data": {
      "application/vnd.jupyter.widget-view+json": {
       "model_id": "a2bbe674a11841d9a874aa87698ac142",
       "version_major": 2,
       "version_minor": 0
      },
      "text/plain": [
       "  0%|          | 0/102 [00:00<?, ?it/s]"
      ]
     },
     "metadata": {},
     "output_type": "display_data"
    },
    {
     "data": {
      "application/vnd.jupyter.widget-view+json": {
       "model_id": "034aaa61c87c4db692345bf47c2178fc",
       "version_major": 2,
       "version_minor": 0
      },
      "text/plain": [
       "symbolize:   0%|          | 0/102 [00:00<?, ?it/s]"
      ]
     },
     "metadata": {},
     "output_type": "display_data"
    },
    {
     "data": {
      "application/vnd.jupyter.widget-view+json": {
       "model_id": "6b49e51524ba4e05827379cea614341f",
       "version_major": 2,
       "version_minor": 0
      },
      "text/plain": [
       "sliding w:   0%|          | 0/71 [00:00<?, ?it/s]"
      ]
     },
     "metadata": {},
     "output_type": "display_data"
    },
    {
     "data": {
      "application/vnd.jupyter.widget-view+json": {
       "model_id": "e9909b2861734339b9c939fc4d6a9fb1",
       "version_major": 2,
       "version_minor": 0
      },
      "text/plain": [
       "sliding w:   0%|          | 0/71 [00:00<?, ?it/s]"
      ]
     },
     "metadata": {},
     "output_type": "display_data"
    },
    {
     "data": {
      "application/vnd.jupyter.widget-view+json": {
       "model_id": "51d1898b6a714c2699715663ab819fbe",
       "version_major": 2,
       "version_minor": 0
      },
      "text/plain": [
       "sliding w:   0%|          | 0/71 [00:00<?, ?it/s]"
      ]
     },
     "metadata": {},
     "output_type": "display_data"
    },
    {
     "data": {
      "application/vnd.jupyter.widget-view+json": {
       "model_id": "12501baa834d44cbb9d903f0ecee6baa",
       "version_major": 2,
       "version_minor": 0
      },
      "text/plain": [
       "contains:   0%|          | 0/71 [00:00<?, ?it/s]"
      ]
     },
     "metadata": {},
     "output_type": "display_data"
    },
    {
     "data": {
      "application/vnd.jupyter.widget-view+json": {
       "model_id": "d11cbb4bf1224073b8e730592aed9bb5",
       "version_major": 2,
       "version_minor": 0
      },
      "text/plain": [
       "  0%|          | 0/102 [00:00<?, ?it/s]"
      ]
     },
     "metadata": {},
     "output_type": "display_data"
    },
    {
     "data": {
      "application/vnd.jupyter.widget-view+json": {
       "model_id": "4da16cab66ea42b5a5408558ad05ad94",
       "version_major": 2,
       "version_minor": 0
      },
      "text/plain": [
       "symbolize:   0%|          | 0/102 [00:00<?, ?it/s]"
      ]
     },
     "metadata": {},
     "output_type": "display_data"
    },
    {
     "data": {
      "application/vnd.jupyter.widget-view+json": {
       "model_id": "ffa51035843e4e3cbdef755876070a5a",
       "version_major": 2,
       "version_minor": 0
      },
      "text/plain": [
       "sliding w:   0%|          | 0/71 [00:00<?, ?it/s]"
      ]
     },
     "metadata": {},
     "output_type": "display_data"
    },
    {
     "data": {
      "application/vnd.jupyter.widget-view+json": {
       "model_id": "6e10f32056a243e4938bdab626d3309b",
       "version_major": 2,
       "version_minor": 0
      },
      "text/plain": [
       "sliding w:   0%|          | 0/71 [00:00<?, ?it/s]"
      ]
     },
     "metadata": {},
     "output_type": "display_data"
    },
    {
     "data": {
      "application/vnd.jupyter.widget-view+json": {
       "model_id": "8b81f9c7f41743ed85d00f8bf6f977ea",
       "version_major": 2,
       "version_minor": 0
      },
      "text/plain": [
       "sliding w:   0%|          | 0/71 [00:00<?, ?it/s]"
      ]
     },
     "metadata": {},
     "output_type": "display_data"
    },
    {
     "data": {
      "application/vnd.jupyter.widget-view+json": {
       "model_id": "a789f30fc3c341ecab3d1b6d87b0df90",
       "version_major": 2,
       "version_minor": 0
      },
      "text/plain": [
       "contains:   0%|          | 0/71 [00:00<?, ?it/s]"
      ]
     },
     "metadata": {},
     "output_type": "display_data"
    },
    {
     "data": {
      "application/vnd.jupyter.widget-view+json": {
       "model_id": "2906664c74ff427e9d556fd344511420",
       "version_major": 2,
       "version_minor": 0
      },
      "text/plain": [
       "  0%|          | 0/102 [00:00<?, ?it/s]"
      ]
     },
     "metadata": {},
     "output_type": "display_data"
    },
    {
     "data": {
      "application/vnd.jupyter.widget-view+json": {
       "model_id": "f9afcfa807f447528b121925af1ac5b3",
       "version_major": 2,
       "version_minor": 0
      },
      "text/plain": [
       "symbolize:   0%|          | 0/102 [00:00<?, ?it/s]"
      ]
     },
     "metadata": {},
     "output_type": "display_data"
    },
    {
     "data": {
      "application/vnd.jupyter.widget-view+json": {
       "model_id": "5c4aefb4910944cf9453f877650d0bc7",
       "version_major": 2,
       "version_minor": 0
      },
      "text/plain": [
       "sliding w:   0%|          | 0/71 [00:00<?, ?it/s]"
      ]
     },
     "metadata": {},
     "output_type": "display_data"
    },
    {
     "data": {
      "application/vnd.jupyter.widget-view+json": {
       "model_id": "65a0b7237ead492dad409805bba9f537",
       "version_major": 2,
       "version_minor": 0
      },
      "text/plain": [
       "sliding w:   0%|          | 0/71 [00:00<?, ?it/s]"
      ]
     },
     "metadata": {},
     "output_type": "display_data"
    },
    {
     "data": {
      "application/vnd.jupyter.widget-view+json": {
       "model_id": "363cd90affde437bbba5d80059a7d9db",
       "version_major": 2,
       "version_minor": 0
      },
      "text/plain": [
       "sliding w:   0%|          | 0/71 [00:00<?, ?it/s]"
      ]
     },
     "metadata": {},
     "output_type": "display_data"
    },
    {
     "data": {
      "application/vnd.jupyter.widget-view+json": {
       "model_id": "b35afba8f943405d88171bdc16bb4d6b",
       "version_major": 2,
       "version_minor": 0
      },
      "text/plain": [
       "contains:   0%|          | 0/71 [00:00<?, ?it/s]"
      ]
     },
     "metadata": {},
     "output_type": "display_data"
    },
    {
     "data": {
      "application/vnd.jupyter.widget-view+json": {
       "model_id": "907bfaaf38224cf982ee127cb8d2994a",
       "version_major": 2,
       "version_minor": 0
      },
      "text/plain": [
       "  0%|          | 0/102 [00:00<?, ?it/s]"
      ]
     },
     "metadata": {},
     "output_type": "display_data"
    },
    {
     "data": {
      "application/vnd.jupyter.widget-view+json": {
       "model_id": "defc3d2670264daeb0abd271aef624bf",
       "version_major": 2,
       "version_minor": 0
      },
      "text/plain": [
       "symbolize:   0%|          | 0/102 [00:00<?, ?it/s]"
      ]
     },
     "metadata": {},
     "output_type": "display_data"
    },
    {
     "data": {
      "application/vnd.jupyter.widget-view+json": {
       "model_id": "04a29ad8f24641f295a704d133e6ec45",
       "version_major": 2,
       "version_minor": 0
      },
      "text/plain": [
       "sliding w:   0%|          | 0/71 [00:00<?, ?it/s]"
      ]
     },
     "metadata": {},
     "output_type": "display_data"
    },
    {
     "data": {
      "application/vnd.jupyter.widget-view+json": {
       "model_id": "6c3bbfb09ebd45c7b3f339f668e5d0f0",
       "version_major": 2,
       "version_minor": 0
      },
      "text/plain": [
       "sliding w:   0%|          | 0/71 [00:00<?, ?it/s]"
      ]
     },
     "metadata": {},
     "output_type": "display_data"
    },
    {
     "data": {
      "application/vnd.jupyter.widget-view+json": {
       "model_id": "60e5f139560c42a3a720434e4507e3ce",
       "version_major": 2,
       "version_minor": 0
      },
      "text/plain": [
       "sliding w:   0%|          | 0/71 [00:00<?, ?it/s]"
      ]
     },
     "metadata": {},
     "output_type": "display_data"
    },
    {
     "data": {
      "application/vnd.jupyter.widget-view+json": {
       "model_id": "789a8aa866f244ef94fa5c501fc8a4d0",
       "version_major": 2,
       "version_minor": 0
      },
      "text/plain": [
       "contains:   0%|          | 0/71 [00:00<?, ?it/s]"
      ]
     },
     "metadata": {},
     "output_type": "display_data"
    },
    {
     "data": {
      "application/vnd.jupyter.widget-view+json": {
       "model_id": "a611aeccba3a4feb8842377cd8c94cef",
       "version_major": 2,
       "version_minor": 0
      },
      "text/plain": [
       "  0%|          | 0/102 [00:00<?, ?it/s]"
      ]
     },
     "metadata": {},
     "output_type": "display_data"
    },
    {
     "data": {
      "application/vnd.jupyter.widget-view+json": {
       "model_id": "af748b7fb82842c782899941a59293b9",
       "version_major": 2,
       "version_minor": 0
      },
      "text/plain": [
       "symbolize:   0%|          | 0/102 [00:00<?, ?it/s]"
      ]
     },
     "metadata": {},
     "output_type": "display_data"
    },
    {
     "data": {
      "application/vnd.jupyter.widget-view+json": {
       "model_id": "5193775127724ac4ba15ac12a19645cc",
       "version_major": 2,
       "version_minor": 0
      },
      "text/plain": [
       "sliding w:   0%|          | 0/71 [00:00<?, ?it/s]"
      ]
     },
     "metadata": {},
     "output_type": "display_data"
    },
    {
     "data": {
      "application/vnd.jupyter.widget-view+json": {
       "model_id": "81261457521c4f72a596836dccde7950",
       "version_major": 2,
       "version_minor": 0
      },
      "text/plain": [
       "sliding w:   0%|          | 0/71 [00:00<?, ?it/s]"
      ]
     },
     "metadata": {},
     "output_type": "display_data"
    },
    {
     "data": {
      "application/vnd.jupyter.widget-view+json": {
       "model_id": "9f4932a1b4854751895ccf9723423bfd",
       "version_major": 2,
       "version_minor": 0
      },
      "text/plain": [
       "sliding w:   0%|          | 0/71 [00:00<?, ?it/s]"
      ]
     },
     "metadata": {},
     "output_type": "display_data"
    },
    {
     "data": {
      "application/vnd.jupyter.widget-view+json": {
       "model_id": "45e41f9384fc484baa2c91af5c530022",
       "version_major": 2,
       "version_minor": 0
      },
      "text/plain": [
       "contains:   0%|          | 0/71 [00:00<?, ?it/s]"
      ]
     },
     "metadata": {},
     "output_type": "display_data"
    },
    {
     "data": {
      "application/vnd.jupyter.widget-view+json": {
       "model_id": "771aaf6f331d492aa1a65dcf8a39bf69",
       "version_major": 2,
       "version_minor": 0
      },
      "text/plain": [
       "  0%|          | 0/102 [00:00<?, ?it/s]"
      ]
     },
     "metadata": {},
     "output_type": "display_data"
    },
    {
     "data": {
      "application/vnd.jupyter.widget-view+json": {
       "model_id": "5b021d7f1c4b45988e8f33be2ef0fe5a",
       "version_major": 2,
       "version_minor": 0
      },
      "text/plain": [
       "symbolize:   0%|          | 0/102 [00:00<?, ?it/s]"
      ]
     },
     "metadata": {},
     "output_type": "display_data"
    },
    {
     "data": {
      "application/vnd.jupyter.widget-view+json": {
       "model_id": "c8cf552aea854221a6c2c16e20d1cb37",
       "version_major": 2,
       "version_minor": 0
      },
      "text/plain": [
       "sliding w:   0%|          | 0/71 [00:00<?, ?it/s]"
      ]
     },
     "metadata": {},
     "output_type": "display_data"
    },
    {
     "data": {
      "application/vnd.jupyter.widget-view+json": {
       "model_id": "550c0358e3214a96b9e380c1a8cf939c",
       "version_major": 2,
       "version_minor": 0
      },
      "text/plain": [
       "sliding w:   0%|          | 0/71 [00:00<?, ?it/s]"
      ]
     },
     "metadata": {},
     "output_type": "display_data"
    },
    {
     "data": {
      "application/vnd.jupyter.widget-view+json": {
       "model_id": "3f9e6fa55b25407bb27b1c0cf0a5f04e",
       "version_major": 2,
       "version_minor": 0
      },
      "text/plain": [
       "sliding w:   0%|          | 0/71 [00:00<?, ?it/s]"
      ]
     },
     "metadata": {},
     "output_type": "display_data"
    },
    {
     "data": {
      "application/vnd.jupyter.widget-view+json": {
       "model_id": "191db277a2ea4cde851c62fed97ca86d",
       "version_major": 2,
       "version_minor": 0
      },
      "text/plain": [
       "contains:   0%|          | 0/71 [00:00<?, ?it/s]"
      ]
     },
     "metadata": {},
     "output_type": "display_data"
    },
    {
     "data": {
      "application/vnd.jupyter.widget-view+json": {
       "model_id": "e3322bf46051404f947a8a4862e9572c",
       "version_major": 2,
       "version_minor": 0
      },
      "text/plain": [
       "  0%|          | 0/102 [00:00<?, ?it/s]"
      ]
     },
     "metadata": {},
     "output_type": "display_data"
    },
    {
     "data": {
      "application/vnd.jupyter.widget-view+json": {
       "model_id": "44ff66227c1c4c958c92b271e36278df",
       "version_major": 2,
       "version_minor": 0
      },
      "text/plain": [
       "symbolize:   0%|          | 0/102 [00:00<?, ?it/s]"
      ]
     },
     "metadata": {},
     "output_type": "display_data"
    },
    {
     "data": {
      "application/vnd.jupyter.widget-view+json": {
       "model_id": "1f5c1355740b4cc2bc804ad7b559661c",
       "version_major": 2,
       "version_minor": 0
      },
      "text/plain": [
       "sliding w:   0%|          | 0/71 [00:00<?, ?it/s]"
      ]
     },
     "metadata": {},
     "output_type": "display_data"
    },
    {
     "data": {
      "application/vnd.jupyter.widget-view+json": {
       "model_id": "d531f6ae0bd34546a685cbcc8792e20c",
       "version_major": 2,
       "version_minor": 0
      },
      "text/plain": [
       "sliding w:   0%|          | 0/71 [00:00<?, ?it/s]"
      ]
     },
     "metadata": {},
     "output_type": "display_data"
    },
    {
     "data": {
      "application/vnd.jupyter.widget-view+json": {
       "model_id": "524bf5475bb24e3c9e47ca1afdeb9b94",
       "version_major": 2,
       "version_minor": 0
      },
      "text/plain": [
       "sliding w:   0%|          | 0/71 [00:00<?, ?it/s]"
      ]
     },
     "metadata": {},
     "output_type": "display_data"
    },
    {
     "data": {
      "application/vnd.jupyter.widget-view+json": {
       "model_id": "ecfdd4795c104fa6b86e65d4d8ad174e",
       "version_major": 2,
       "version_minor": 0
      },
      "text/plain": [
       "contains:   0%|          | 0/71 [00:00<?, ?it/s]"
      ]
     },
     "metadata": {},
     "output_type": "display_data"
    },
    {
     "data": {
      "application/vnd.jupyter.widget-view+json": {
       "model_id": "367ef386f0894800ac8843365db0b003",
       "version_major": 2,
       "version_minor": 0
      },
      "text/plain": [
       "  0%|          | 0/102 [00:00<?, ?it/s]"
      ]
     },
     "metadata": {},
     "output_type": "display_data"
    },
    {
     "data": {
      "application/vnd.jupyter.widget-view+json": {
       "model_id": "a68bb53e29a9449381da20690c95604d",
       "version_major": 2,
       "version_minor": 0
      },
      "text/plain": [
       "symbolize:   0%|          | 0/102 [00:00<?, ?it/s]"
      ]
     },
     "metadata": {},
     "output_type": "display_data"
    },
    {
     "data": {
      "application/vnd.jupyter.widget-view+json": {
       "model_id": "26770b545ba84366904a29cb1a78a823",
       "version_major": 2,
       "version_minor": 0
      },
      "text/plain": [
       "sliding w:   0%|          | 0/71 [00:00<?, ?it/s]"
      ]
     },
     "metadata": {},
     "output_type": "display_data"
    },
    {
     "data": {
      "application/vnd.jupyter.widget-view+json": {
       "model_id": "164b6d9d911b4ee3bc977ffa2d0d4235",
       "version_major": 2,
       "version_minor": 0
      },
      "text/plain": [
       "sliding w:   0%|          | 0/71 [00:00<?, ?it/s]"
      ]
     },
     "metadata": {},
     "output_type": "display_data"
    },
    {
     "data": {
      "application/vnd.jupyter.widget-view+json": {
       "model_id": "a54ceb520b4048ea8a908cd77f2a52e8",
       "version_major": 2,
       "version_minor": 0
      },
      "text/plain": [
       "sliding w:   0%|          | 0/71 [00:00<?, ?it/s]"
      ]
     },
     "metadata": {},
     "output_type": "display_data"
    },
    {
     "data": {
      "application/vnd.jupyter.widget-view+json": {
       "model_id": "bc08cbefeae14ecb8b50cf80d5b595af",
       "version_major": 2,
       "version_minor": 0
      },
      "text/plain": [
       "contains:   0%|          | 0/71 [00:00<?, ?it/s]"
      ]
     },
     "metadata": {},
     "output_type": "display_data"
    },
    {
     "data": {
      "application/vnd.jupyter.widget-view+json": {
       "model_id": "6816afdeb6fd49f599444f3cd1376be0",
       "version_major": 2,
       "version_minor": 0
      },
      "text/plain": [
       "  0%|          | 0/102 [00:00<?, ?it/s]"
      ]
     },
     "metadata": {},
     "output_type": "display_data"
    },
    {
     "data": {
      "application/vnd.jupyter.widget-view+json": {
       "model_id": "fb567cd32ff545c4a67d77a8739f2aff",
       "version_major": 2,
       "version_minor": 0
      },
      "text/plain": [
       "symbolize:   0%|          | 0/102 [00:00<?, ?it/s]"
      ]
     },
     "metadata": {},
     "output_type": "display_data"
    },
    {
     "data": {
      "application/vnd.jupyter.widget-view+json": {
       "model_id": "eec1893c5e144096a9a90ccbe6f1c988",
       "version_major": 2,
       "version_minor": 0
      },
      "text/plain": [
       "sliding w:   0%|          | 0/71 [00:00<?, ?it/s]"
      ]
     },
     "metadata": {},
     "output_type": "display_data"
    },
    {
     "data": {
      "application/vnd.jupyter.widget-view+json": {
       "model_id": "60973927cd884ded90ac72d9c84675d4",
       "version_major": 2,
       "version_minor": 0
      },
      "text/plain": [
       "sliding w:   0%|          | 0/71 [00:00<?, ?it/s]"
      ]
     },
     "metadata": {},
     "output_type": "display_data"
    },
    {
     "data": {
      "application/vnd.jupyter.widget-view+json": {
       "model_id": "f1d5f07d29484570933145f191db2779",
       "version_major": 2,
       "version_minor": 0
      },
      "text/plain": [
       "sliding w:   0%|          | 0/71 [00:00<?, ?it/s]"
      ]
     },
     "metadata": {},
     "output_type": "display_data"
    },
    {
     "data": {
      "application/vnd.jupyter.widget-view+json": {
       "model_id": "295f3c8ef0d143f7a38b2897130b707f",
       "version_major": 2,
       "version_minor": 0
      },
      "text/plain": [
       "contains:   0%|          | 0/71 [00:00<?, ?it/s]"
      ]
     },
     "metadata": {},
     "output_type": "display_data"
    },
    {
     "data": {
      "application/vnd.jupyter.widget-view+json": {
       "model_id": "7fa99d4fb1fe44ddb931534bb59ee276",
       "version_major": 2,
       "version_minor": 0
      },
      "text/plain": [
       "  0%|          | 0/102 [00:00<?, ?it/s]"
      ]
     },
     "metadata": {},
     "output_type": "display_data"
    },
    {
     "data": {
      "application/vnd.jupyter.widget-view+json": {
       "model_id": "483b472f530340fb935a2f64e181f53b",
       "version_major": 2,
       "version_minor": 0
      },
      "text/plain": [
       "symbolize:   0%|          | 0/102 [00:00<?, ?it/s]"
      ]
     },
     "metadata": {},
     "output_type": "display_data"
    },
    {
     "data": {
      "application/vnd.jupyter.widget-view+json": {
       "model_id": "c3231a52cc0f4a7cbb131bc316fe0159",
       "version_major": 2,
       "version_minor": 0
      },
      "text/plain": [
       "sliding w:   0%|          | 0/71 [00:00<?, ?it/s]"
      ]
     },
     "metadata": {},
     "output_type": "display_data"
    },
    {
     "data": {
      "application/vnd.jupyter.widget-view+json": {
       "model_id": "37e4396d364545caa103144a356da4e9",
       "version_major": 2,
       "version_minor": 0
      },
      "text/plain": [
       "sliding w:   0%|          | 0/71 [00:00<?, ?it/s]"
      ]
     },
     "metadata": {},
     "output_type": "display_data"
    },
    {
     "data": {
      "application/vnd.jupyter.widget-view+json": {
       "model_id": "03e2e2934c5a4741af2c116118fdf94d",
       "version_major": 2,
       "version_minor": 0
      },
      "text/plain": [
       "sliding w:   0%|          | 0/71 [00:00<?, ?it/s]"
      ]
     },
     "metadata": {},
     "output_type": "display_data"
    },
    {
     "data": {
      "application/vnd.jupyter.widget-view+json": {
       "model_id": "7f48ff1152874ecea2b62203b0e9be6a",
       "version_major": 2,
       "version_minor": 0
      },
      "text/plain": [
       "contains:   0%|          | 0/71 [00:00<?, ?it/s]"
      ]
     },
     "metadata": {},
     "output_type": "display_data"
    },
    {
     "data": {
      "application/vnd.jupyter.widget-view+json": {
       "model_id": "87f43d239b4345c181864587277328c3",
       "version_major": 2,
       "version_minor": 0
      },
      "text/plain": [
       "  0%|          | 0/102 [00:00<?, ?it/s]"
      ]
     },
     "metadata": {},
     "output_type": "display_data"
    },
    {
     "data": {
      "application/vnd.jupyter.widget-view+json": {
       "model_id": "7e6091d53be4400b9f4fb43efde94f03",
       "version_major": 2,
       "version_minor": 0
      },
      "text/plain": [
       "symbolize:   0%|          | 0/102 [00:00<?, ?it/s]"
      ]
     },
     "metadata": {},
     "output_type": "display_data"
    },
    {
     "data": {
      "application/vnd.jupyter.widget-view+json": {
       "model_id": "2c2374e11a834d73bf65994fe4c62572",
       "version_major": 2,
       "version_minor": 0
      },
      "text/plain": [
       "sliding w:   0%|          | 0/71 [00:00<?, ?it/s]"
      ]
     },
     "metadata": {},
     "output_type": "display_data"
    },
    {
     "data": {
      "application/vnd.jupyter.widget-view+json": {
       "model_id": "2b6ec3895929412da4785916167ea4ce",
       "version_major": 2,
       "version_minor": 0
      },
      "text/plain": [
       "sliding w:   0%|          | 0/71 [00:00<?, ?it/s]"
      ]
     },
     "metadata": {},
     "output_type": "display_data"
    },
    {
     "data": {
      "application/vnd.jupyter.widget-view+json": {
       "model_id": "1bdd0b6b4c3a4fc6b9f7ce3cd0ef07ad",
       "version_major": 2,
       "version_minor": 0
      },
      "text/plain": [
       "sliding w:   0%|          | 0/71 [00:00<?, ?it/s]"
      ]
     },
     "metadata": {},
     "output_type": "display_data"
    },
    {
     "data": {
      "application/vnd.jupyter.widget-view+json": {
       "model_id": "3080ba37ca0940b5b4e35c90982b8d36",
       "version_major": 2,
       "version_minor": 0
      },
      "text/plain": [
       "contains:   0%|          | 0/71 [00:00<?, ?it/s]"
      ]
     },
     "metadata": {},
     "output_type": "display_data"
    },
    {
     "data": {
      "application/vnd.jupyter.widget-view+json": {
       "model_id": "b19ffe0f9ba04374836094cd0f791324",
       "version_major": 2,
       "version_minor": 0
      },
      "text/plain": [
       "  0%|          | 0/102 [00:00<?, ?it/s]"
      ]
     },
     "metadata": {},
     "output_type": "display_data"
    },
    {
     "data": {
      "application/vnd.jupyter.widget-view+json": {
       "model_id": "4fd49bdd98ad4e66a24671abaa6329b2",
       "version_major": 2,
       "version_minor": 0
      },
      "text/plain": [
       "symbolize:   0%|          | 0/102 [00:00<?, ?it/s]"
      ]
     },
     "metadata": {},
     "output_type": "display_data"
    },
    {
     "data": {
      "application/vnd.jupyter.widget-view+json": {
       "model_id": "15b5f52df9aa45d1bb428bd7413e0a2e",
       "version_major": 2,
       "version_minor": 0
      },
      "text/plain": [
       "sliding w:   0%|          | 0/71 [00:00<?, ?it/s]"
      ]
     },
     "metadata": {},
     "output_type": "display_data"
    },
    {
     "data": {
      "application/vnd.jupyter.widget-view+json": {
       "model_id": "6f91f4196e6948e6a0f4009768ad608d",
       "version_major": 2,
       "version_minor": 0
      },
      "text/plain": [
       "sliding w:   0%|          | 0/71 [00:00<?, ?it/s]"
      ]
     },
     "metadata": {},
     "output_type": "display_data"
    },
    {
     "data": {
      "application/vnd.jupyter.widget-view+json": {
       "model_id": "adcf32cf68774392b415aee8bf5a89d2",
       "version_major": 2,
       "version_minor": 0
      },
      "text/plain": [
       "sliding w:   0%|          | 0/71 [00:00<?, ?it/s]"
      ]
     },
     "metadata": {},
     "output_type": "display_data"
    },
    {
     "data": {
      "application/vnd.jupyter.widget-view+json": {
       "model_id": "d8a96d40013542f397e42fc04ce68789",
       "version_major": 2,
       "version_minor": 0
      },
      "text/plain": [
       "contains:   0%|          | 0/71 [00:00<?, ?it/s]"
      ]
     },
     "metadata": {},
     "output_type": "display_data"
    },
    {
     "data": {
      "application/vnd.jupyter.widget-view+json": {
       "model_id": "e791d06cc8d14a188c1b84d339f09c37",
       "version_major": 2,
       "version_minor": 0
      },
      "text/plain": [
       "  0%|          | 0/102 [00:00<?, ?it/s]"
      ]
     },
     "metadata": {},
     "output_type": "display_data"
    },
    {
     "data": {
      "application/vnd.jupyter.widget-view+json": {
       "model_id": "38855fc1098f461e863f289ffa9d3e27",
       "version_major": 2,
       "version_minor": 0
      },
      "text/plain": [
       "symbolize:   0%|          | 0/102 [00:00<?, ?it/s]"
      ]
     },
     "metadata": {},
     "output_type": "display_data"
    },
    {
     "data": {
      "application/vnd.jupyter.widget-view+json": {
       "model_id": "ac67cc97c52e43ffba513a33364cb64f",
       "version_major": 2,
       "version_minor": 0
      },
      "text/plain": [
       "sliding w:   0%|          | 0/71 [00:00<?, ?it/s]"
      ]
     },
     "metadata": {},
     "output_type": "display_data"
    },
    {
     "data": {
      "application/vnd.jupyter.widget-view+json": {
       "model_id": "ba80e535e50844a4af1a3a9d0469e881",
       "version_major": 2,
       "version_minor": 0
      },
      "text/plain": [
       "sliding w:   0%|          | 0/71 [00:00<?, ?it/s]"
      ]
     },
     "metadata": {},
     "output_type": "display_data"
    },
    {
     "data": {
      "application/vnd.jupyter.widget-view+json": {
       "model_id": "5b7c0776fd8f4a0aa2f43c5459906bd9",
       "version_major": 2,
       "version_minor": 0
      },
      "text/plain": [
       "sliding w:   0%|          | 0/71 [00:00<?, ?it/s]"
      ]
     },
     "metadata": {},
     "output_type": "display_data"
    },
    {
     "data": {
      "application/vnd.jupyter.widget-view+json": {
       "model_id": "7e3e38863ac9464fb3aa6a7fb52d8202",
       "version_major": 2,
       "version_minor": 0
      },
      "text/plain": [
       "contains:   0%|          | 0/71 [00:00<?, ?it/s]"
      ]
     },
     "metadata": {},
     "output_type": "display_data"
    },
    {
     "data": {
      "application/vnd.jupyter.widget-view+json": {
       "model_id": "5973c726303c47d5a49f37014a8bcf0c",
       "version_major": 2,
       "version_minor": 0
      },
      "text/plain": [
       "  0%|          | 0/102 [00:00<?, ?it/s]"
      ]
     },
     "metadata": {},
     "output_type": "display_data"
    },
    {
     "data": {
      "application/vnd.jupyter.widget-view+json": {
       "model_id": "5c503153832142339ee42c4a5fd964aa",
       "version_major": 2,
       "version_minor": 0
      },
      "text/plain": [
       "symbolize:   0%|          | 0/102 [00:00<?, ?it/s]"
      ]
     },
     "metadata": {},
     "output_type": "display_data"
    },
    {
     "data": {
      "application/vnd.jupyter.widget-view+json": {
       "model_id": "d775b02497d04c918f283a7dd7f0b16b",
       "version_major": 2,
       "version_minor": 0
      },
      "text/plain": [
       "sliding w:   0%|          | 0/71 [00:00<?, ?it/s]"
      ]
     },
     "metadata": {},
     "output_type": "display_data"
    },
    {
     "data": {
      "application/vnd.jupyter.widget-view+json": {
       "model_id": "d4b40cc5a4af41eca34a3114b8a89ea7",
       "version_major": 2,
       "version_minor": 0
      },
      "text/plain": [
       "sliding w:   0%|          | 0/71 [00:00<?, ?it/s]"
      ]
     },
     "metadata": {},
     "output_type": "display_data"
    },
    {
     "data": {
      "application/vnd.jupyter.widget-view+json": {
       "model_id": "ad936e4ba4ea4501bc2d73bdfec98707",
       "version_major": 2,
       "version_minor": 0
      },
      "text/plain": [
       "sliding w:   0%|          | 0/71 [00:00<?, ?it/s]"
      ]
     },
     "metadata": {},
     "output_type": "display_data"
    },
    {
     "data": {
      "application/vnd.jupyter.widget-view+json": {
       "model_id": "e8085870f43942e5b487ef0416874254",
       "version_major": 2,
       "version_minor": 0
      },
      "text/plain": [
       "contains:   0%|          | 0/71 [00:00<?, ?it/s]"
      ]
     },
     "metadata": {},
     "output_type": "display_data"
    },
    {
     "data": {
      "application/vnd.jupyter.widget-view+json": {
       "model_id": "c2da9eeef68448eab69336bb587ba277",
       "version_major": 2,
       "version_minor": 0
      },
      "text/plain": [
       "  0%|          | 0/102 [00:00<?, ?it/s]"
      ]
     },
     "metadata": {},
     "output_type": "display_data"
    },
    {
     "data": {
      "application/vnd.jupyter.widget-view+json": {
       "model_id": "26940d03171f4544b94b0e55e0ed091a",
       "version_major": 2,
       "version_minor": 0
      },
      "text/plain": [
       "symbolize:   0%|          | 0/102 [00:00<?, ?it/s]"
      ]
     },
     "metadata": {},
     "output_type": "display_data"
    },
    {
     "data": {
      "application/vnd.jupyter.widget-view+json": {
       "model_id": "1e8362ca428e4bb59d4f99b53f9d638c",
       "version_major": 2,
       "version_minor": 0
      },
      "text/plain": [
       "sliding w:   0%|          | 0/71 [00:00<?, ?it/s]"
      ]
     },
     "metadata": {},
     "output_type": "display_data"
    },
    {
     "data": {
      "application/vnd.jupyter.widget-view+json": {
       "model_id": "29044b1d2ad04d23a4a6daec430eb372",
       "version_major": 2,
       "version_minor": 0
      },
      "text/plain": [
       "sliding w:   0%|          | 0/71 [00:00<?, ?it/s]"
      ]
     },
     "metadata": {},
     "output_type": "display_data"
    },
    {
     "data": {
      "application/vnd.jupyter.widget-view+json": {
       "model_id": "742ee4979df64c43843647ffe4d5717f",
       "version_major": 2,
       "version_minor": 0
      },
      "text/plain": [
       "sliding w:   0%|          | 0/71 [00:00<?, ?it/s]"
      ]
     },
     "metadata": {},
     "output_type": "display_data"
    },
    {
     "data": {
      "application/vnd.jupyter.widget-view+json": {
       "model_id": "bfcdb262ee1f4f67a51f543105af05d1",
       "version_major": 2,
       "version_minor": 0
      },
      "text/plain": [
       "contains:   0%|          | 0/71 [00:00<?, ?it/s]"
      ]
     },
     "metadata": {},
     "output_type": "display_data"
    },
    {
     "data": {
      "application/vnd.jupyter.widget-view+json": {
       "model_id": "954e5ba7077548aebf665737a8fbc608",
       "version_major": 2,
       "version_minor": 0
      },
      "text/plain": [
       "  0%|          | 0/102 [00:00<?, ?it/s]"
      ]
     },
     "metadata": {},
     "output_type": "display_data"
    },
    {
     "data": {
      "application/vnd.jupyter.widget-view+json": {
       "model_id": "6a5fb3fba7ef4ef8a4b2210542592ab6",
       "version_major": 2,
       "version_minor": 0
      },
      "text/plain": [
       "symbolize:   0%|          | 0/102 [00:00<?, ?it/s]"
      ]
     },
     "metadata": {},
     "output_type": "display_data"
    },
    {
     "data": {
      "application/vnd.jupyter.widget-view+json": {
       "model_id": "195ea3425d414c2d8c56b21de54b5ab3",
       "version_major": 2,
       "version_minor": 0
      },
      "text/plain": [
       "sliding w:   0%|          | 0/71 [00:00<?, ?it/s]"
      ]
     },
     "metadata": {},
     "output_type": "display_data"
    },
    {
     "data": {
      "application/vnd.jupyter.widget-view+json": {
       "model_id": "48c493289e0f45aaa4a5c61d16630154",
       "version_major": 2,
       "version_minor": 0
      },
      "text/plain": [
       "sliding w:   0%|          | 0/71 [00:00<?, ?it/s]"
      ]
     },
     "metadata": {},
     "output_type": "display_data"
    },
    {
     "data": {
      "application/vnd.jupyter.widget-view+json": {
       "model_id": "88cafe777ca74727b5794b0a08b90593",
       "version_major": 2,
       "version_minor": 0
      },
      "text/plain": [
       "sliding w:   0%|          | 0/71 [00:00<?, ?it/s]"
      ]
     },
     "metadata": {},
     "output_type": "display_data"
    },
    {
     "data": {
      "application/vnd.jupyter.widget-view+json": {
       "model_id": "7f410390ab284ded9adff716138a7739",
       "version_major": 2,
       "version_minor": 0
      },
      "text/plain": [
       "contains:   0%|          | 0/71 [00:00<?, ?it/s]"
      ]
     },
     "metadata": {},
     "output_type": "display_data"
    },
    {
     "data": {
      "application/vnd.jupyter.widget-view+json": {
       "model_id": "5c209d0f7e554f0195867a8c42314b10",
       "version_major": 2,
       "version_minor": 0
      },
      "text/plain": [
       "  0%|          | 0/102 [00:00<?, ?it/s]"
      ]
     },
     "metadata": {},
     "output_type": "display_data"
    },
    {
     "data": {
      "application/vnd.jupyter.widget-view+json": {
       "model_id": "48cbe807b05142b18698986cc443cbb8",
       "version_major": 2,
       "version_minor": 0
      },
      "text/plain": [
       "symbolize:   0%|          | 0/102 [00:00<?, ?it/s]"
      ]
     },
     "metadata": {},
     "output_type": "display_data"
    },
    {
     "data": {
      "application/vnd.jupyter.widget-view+json": {
       "model_id": "127bf7188a5b44028e30dce26cf81d60",
       "version_major": 2,
       "version_minor": 0
      },
      "text/plain": [
       "sliding w:   0%|          | 0/71 [00:00<?, ?it/s]"
      ]
     },
     "metadata": {},
     "output_type": "display_data"
    },
    {
     "data": {
      "application/vnd.jupyter.widget-view+json": {
       "model_id": "4bc864b982fa4ee5bc5889fe354f5f38",
       "version_major": 2,
       "version_minor": 0
      },
      "text/plain": [
       "sliding w:   0%|          | 0/71 [00:00<?, ?it/s]"
      ]
     },
     "metadata": {},
     "output_type": "display_data"
    },
    {
     "data": {
      "application/vnd.jupyter.widget-view+json": {
       "model_id": "a74bc575406e4863bc189b5201ea362e",
       "version_major": 2,
       "version_minor": 0
      },
      "text/plain": [
       "sliding w:   0%|          | 0/71 [00:00<?, ?it/s]"
      ]
     },
     "metadata": {},
     "output_type": "display_data"
    },
    {
     "data": {
      "application/vnd.jupyter.widget-view+json": {
       "model_id": "42aae48cf7c0466d84c6d388200fd79e",
       "version_major": 2,
       "version_minor": 0
      },
      "text/plain": [
       "contains:   0%|          | 0/71 [00:00<?, ?it/s]"
      ]
     },
     "metadata": {},
     "output_type": "display_data"
    },
    {
     "data": {
      "application/vnd.jupyter.widget-view+json": {
       "model_id": "43ff16a4927a4d5a8a063d63edc8c086",
       "version_major": 2,
       "version_minor": 0
      },
      "text/plain": [
       "  0%|          | 0/102 [00:00<?, ?it/s]"
      ]
     },
     "metadata": {},
     "output_type": "display_data"
    },
    {
     "data": {
      "application/vnd.jupyter.widget-view+json": {
       "model_id": "7128653e02da4604980cf8ea8bfac718",
       "version_major": 2,
       "version_minor": 0
      },
      "text/plain": [
       "symbolize:   0%|          | 0/102 [00:00<?, ?it/s]"
      ]
     },
     "metadata": {},
     "output_type": "display_data"
    },
    {
     "data": {
      "application/vnd.jupyter.widget-view+json": {
       "model_id": "acfd214c98ee4196abd6fae178826296",
       "version_major": 2,
       "version_minor": 0
      },
      "text/plain": [
       "sliding w:   0%|          | 0/71 [00:00<?, ?it/s]"
      ]
     },
     "metadata": {},
     "output_type": "display_data"
    },
    {
     "data": {
      "application/vnd.jupyter.widget-view+json": {
       "model_id": "60961ecd1e114a05a2dad54b94cc3b58",
       "version_major": 2,
       "version_minor": 0
      },
      "text/plain": [
       "sliding w:   0%|          | 0/71 [00:00<?, ?it/s]"
      ]
     },
     "metadata": {},
     "output_type": "display_data"
    },
    {
     "data": {
      "application/vnd.jupyter.widget-view+json": {
       "model_id": "71d7b87b065e47288196983c59040671",
       "version_major": 2,
       "version_minor": 0
      },
      "text/plain": [
       "sliding w:   0%|          | 0/71 [00:00<?, ?it/s]"
      ]
     },
     "metadata": {},
     "output_type": "display_data"
    },
    {
     "data": {
      "application/vnd.jupyter.widget-view+json": {
       "model_id": "14fd74f3eec44e6e81b8fa462998fa51",
       "version_major": 2,
       "version_minor": 0
      },
      "text/plain": [
       "contains:   0%|          | 0/71 [00:00<?, ?it/s]"
      ]
     },
     "metadata": {},
     "output_type": "display_data"
    },
    {
     "data": {
      "application/vnd.jupyter.widget-view+json": {
       "model_id": "3d8908fda69d4e8e824c4e26bd4de9e5",
       "version_major": 2,
       "version_minor": 0
      },
      "text/plain": [
       "  0%|          | 0/102 [00:00<?, ?it/s]"
      ]
     },
     "metadata": {},
     "output_type": "display_data"
    },
    {
     "data": {
      "application/vnd.jupyter.widget-view+json": {
       "model_id": "82e0455f0a9a482cbf31624f557091b5",
       "version_major": 2,
       "version_minor": 0
      },
      "text/plain": [
       "symbolize:   0%|          | 0/102 [00:00<?, ?it/s]"
      ]
     },
     "metadata": {},
     "output_type": "display_data"
    },
    {
     "data": {
      "application/vnd.jupyter.widget-view+json": {
       "model_id": "5a2aa254426d4ed686c20c7dde453e0a",
       "version_major": 2,
       "version_minor": 0
      },
      "text/plain": [
       "sliding w:   0%|          | 0/71 [00:00<?, ?it/s]"
      ]
     },
     "metadata": {},
     "output_type": "display_data"
    },
    {
     "data": {
      "application/vnd.jupyter.widget-view+json": {
       "model_id": "f07b20d15d7948ffb25dc01b11dfc551",
       "version_major": 2,
       "version_minor": 0
      },
      "text/plain": [
       "sliding w:   0%|          | 0/71 [00:00<?, ?it/s]"
      ]
     },
     "metadata": {},
     "output_type": "display_data"
    },
    {
     "data": {
      "application/vnd.jupyter.widget-view+json": {
       "model_id": "99d09a5e5df3404a8690318b407e0a9a",
       "version_major": 2,
       "version_minor": 0
      },
      "text/plain": [
       "sliding w:   0%|          | 0/71 [00:00<?, ?it/s]"
      ]
     },
     "metadata": {},
     "output_type": "display_data"
    },
    {
     "data": {
      "application/vnd.jupyter.widget-view+json": {
       "model_id": "f914b60ff86d4de7ab4ee0128dde3c5f",
       "version_major": 2,
       "version_minor": 0
      },
      "text/plain": [
       "contains:   0%|          | 0/71 [00:00<?, ?it/s]"
      ]
     },
     "metadata": {},
     "output_type": "display_data"
    },
    {
     "data": {
      "application/vnd.jupyter.widget-view+json": {
       "model_id": "8f68eda9cd3c492cb96e725c0009b0ea",
       "version_major": 2,
       "version_minor": 0
      },
      "text/plain": [
       "  0%|          | 0/102 [00:00<?, ?it/s]"
      ]
     },
     "metadata": {},
     "output_type": "display_data"
    },
    {
     "data": {
      "application/vnd.jupyter.widget-view+json": {
       "model_id": "eeb5fb04cf5c4efc974969347c816d6a",
       "version_major": 2,
       "version_minor": 0
      },
      "text/plain": [
       "symbolize:   0%|          | 0/102 [00:00<?, ?it/s]"
      ]
     },
     "metadata": {},
     "output_type": "display_data"
    },
    {
     "data": {
      "application/vnd.jupyter.widget-view+json": {
       "model_id": "6962760f9db34981b4959de589d6c5c7",
       "version_major": 2,
       "version_minor": 0
      },
      "text/plain": [
       "sliding w:   0%|          | 0/71 [00:00<?, ?it/s]"
      ]
     },
     "metadata": {},
     "output_type": "display_data"
    },
    {
     "data": {
      "application/vnd.jupyter.widget-view+json": {
       "model_id": "e5157e4c2bc64d2492445c805e5725e4",
       "version_major": 2,
       "version_minor": 0
      },
      "text/plain": [
       "sliding w:   0%|          | 0/71 [00:00<?, ?it/s]"
      ]
     },
     "metadata": {},
     "output_type": "display_data"
    },
    {
     "data": {
      "application/vnd.jupyter.widget-view+json": {
       "model_id": "6fef5f3c56904bbabc9d070753b93d14",
       "version_major": 2,
       "version_minor": 0
      },
      "text/plain": [
       "sliding w:   0%|          | 0/71 [00:00<?, ?it/s]"
      ]
     },
     "metadata": {},
     "output_type": "display_data"
    },
    {
     "data": {
      "application/vnd.jupyter.widget-view+json": {
       "model_id": "053db6cb178e4dc9b72d2410e088735b",
       "version_major": 2,
       "version_minor": 0
      },
      "text/plain": [
       "contains:   0%|          | 0/71 [00:00<?, ?it/s]"
      ]
     },
     "metadata": {},
     "output_type": "display_data"
    },
    {
     "data": {
      "application/vnd.jupyter.widget-view+json": {
       "model_id": "8f423c3db61b41e0a63db8d6d5deea44",
       "version_major": 2,
       "version_minor": 0
      },
      "text/plain": [
       "  0%|          | 0/102 [00:00<?, ?it/s]"
      ]
     },
     "metadata": {},
     "output_type": "display_data"
    },
    {
     "data": {
      "application/vnd.jupyter.widget-view+json": {
       "model_id": "4a1bfc9515464aab840a193a21b08824",
       "version_major": 2,
       "version_minor": 0
      },
      "text/plain": [
       "symbolize:   0%|          | 0/102 [00:00<?, ?it/s]"
      ]
     },
     "metadata": {},
     "output_type": "display_data"
    },
    {
     "data": {
      "application/vnd.jupyter.widget-view+json": {
       "model_id": "874e4c6c02c44664afd660c8299da546",
       "version_major": 2,
       "version_minor": 0
      },
      "text/plain": [
       "sliding w:   0%|          | 0/71 [00:00<?, ?it/s]"
      ]
     },
     "metadata": {},
     "output_type": "display_data"
    },
    {
     "data": {
      "application/vnd.jupyter.widget-view+json": {
       "model_id": "9638810dcb79452f89479e29f6683c31",
       "version_major": 2,
       "version_minor": 0
      },
      "text/plain": [
       "sliding w:   0%|          | 0/71 [00:00<?, ?it/s]"
      ]
     },
     "metadata": {},
     "output_type": "display_data"
    },
    {
     "data": {
      "application/vnd.jupyter.widget-view+json": {
       "model_id": "26758df27fa34c78bd8f39d57654b1e9",
       "version_major": 2,
       "version_minor": 0
      },
      "text/plain": [
       "sliding w:   0%|          | 0/71 [00:00<?, ?it/s]"
      ]
     },
     "metadata": {},
     "output_type": "display_data"
    },
    {
     "data": {
      "application/vnd.jupyter.widget-view+json": {
       "model_id": "6e5631ae69e041c793c550e4925b3290",
       "version_major": 2,
       "version_minor": 0
      },
      "text/plain": [
       "contains:   0%|          | 0/71 [00:00<?, ?it/s]"
      ]
     },
     "metadata": {},
     "output_type": "display_data"
    },
    {
     "data": {
      "application/vnd.jupyter.widget-view+json": {
       "model_id": "364ea088d5d3488ab19881652d65a9ab",
       "version_major": 2,
       "version_minor": 0
      },
      "text/plain": [
       "  0%|          | 0/102 [00:00<?, ?it/s]"
      ]
     },
     "metadata": {},
     "output_type": "display_data"
    },
    {
     "data": {
      "application/vnd.jupyter.widget-view+json": {
       "model_id": "19f625e3b22b43e38728632a7dcdac81",
       "version_major": 2,
       "version_minor": 0
      },
      "text/plain": [
       "symbolize:   0%|          | 0/102 [00:00<?, ?it/s]"
      ]
     },
     "metadata": {},
     "output_type": "display_data"
    },
    {
     "data": {
      "application/vnd.jupyter.widget-view+json": {
       "model_id": "938b72fbbef74b6c90e658fb677be95b",
       "version_major": 2,
       "version_minor": 0
      },
      "text/plain": [
       "sliding w:   0%|          | 0/71 [00:00<?, ?it/s]"
      ]
     },
     "metadata": {},
     "output_type": "display_data"
    },
    {
     "data": {
      "application/vnd.jupyter.widget-view+json": {
       "model_id": "4a64e350d3b14757af9952144c4972c5",
       "version_major": 2,
       "version_minor": 0
      },
      "text/plain": [
       "sliding w:   0%|          | 0/71 [00:00<?, ?it/s]"
      ]
     },
     "metadata": {},
     "output_type": "display_data"
    },
    {
     "data": {
      "application/vnd.jupyter.widget-view+json": {
       "model_id": "6f1f68d777a748c5bcfd0c938783d207",
       "version_major": 2,
       "version_minor": 0
      },
      "text/plain": [
       "sliding w:   0%|          | 0/71 [00:00<?, ?it/s]"
      ]
     },
     "metadata": {},
     "output_type": "display_data"
    },
    {
     "data": {
      "application/vnd.jupyter.widget-view+json": {
       "model_id": "8d7b653ca96f4af5ae98e0c73fe62751",
       "version_major": 2,
       "version_minor": 0
      },
      "text/plain": [
       "contains:   0%|          | 0/71 [00:00<?, ?it/s]"
      ]
     },
     "metadata": {},
     "output_type": "display_data"
    },
    {
     "data": {
      "application/vnd.jupyter.widget-view+json": {
       "model_id": "2d17c464dc204a3f87870766a9f34578",
       "version_major": 2,
       "version_minor": 0
      },
      "text/plain": [
       "  0%|          | 0/102 [00:00<?, ?it/s]"
      ]
     },
     "metadata": {},
     "output_type": "display_data"
    },
    {
     "data": {
      "application/vnd.jupyter.widget-view+json": {
       "model_id": "32d7e5f1d36a4c2c8505a78075a5f801",
       "version_major": 2,
       "version_minor": 0
      },
      "text/plain": [
       "symbolize:   0%|          | 0/102 [00:00<?, ?it/s]"
      ]
     },
     "metadata": {},
     "output_type": "display_data"
    },
    {
     "data": {
      "application/vnd.jupyter.widget-view+json": {
       "model_id": "f5ea169f61784c5dad1fa1f6feb956d4",
       "version_major": 2,
       "version_minor": 0
      },
      "text/plain": [
       "sliding w:   0%|          | 0/71 [00:00<?, ?it/s]"
      ]
     },
     "metadata": {},
     "output_type": "display_data"
    },
    {
     "data": {
      "application/vnd.jupyter.widget-view+json": {
       "model_id": "c1d333dcaa42456c92ff91a2075dd404",
       "version_major": 2,
       "version_minor": 0
      },
      "text/plain": [
       "sliding w:   0%|          | 0/71 [00:00<?, ?it/s]"
      ]
     },
     "metadata": {},
     "output_type": "display_data"
    },
    {
     "data": {
      "application/vnd.jupyter.widget-view+json": {
       "model_id": "d929969e5d944fa69af7c3cad3bcfab9",
       "version_major": 2,
       "version_minor": 0
      },
      "text/plain": [
       "sliding w:   0%|          | 0/71 [00:00<?, ?it/s]"
      ]
     },
     "metadata": {},
     "output_type": "display_data"
    },
    {
     "data": {
      "application/vnd.jupyter.widget-view+json": {
       "model_id": "b8e950e4b7e942018209735947b336c3",
       "version_major": 2,
       "version_minor": 0
      },
      "text/plain": [
       "contains:   0%|          | 0/71 [00:00<?, ?it/s]"
      ]
     },
     "metadata": {},
     "output_type": "display_data"
    },
    {
     "data": {
      "application/vnd.jupyter.widget-view+json": {
       "model_id": "df7eb2a12148440fa72d9e672983c396",
       "version_major": 2,
       "version_minor": 0
      },
      "text/plain": [
       "  0%|          | 0/102 [00:00<?, ?it/s]"
      ]
     },
     "metadata": {},
     "output_type": "display_data"
    },
    {
     "data": {
      "application/vnd.jupyter.widget-view+json": {
       "model_id": "f2bd61c726ac45799372a46defc2169c",
       "version_major": 2,
       "version_minor": 0
      },
      "text/plain": [
       "symbolize:   0%|          | 0/102 [00:00<?, ?it/s]"
      ]
     },
     "metadata": {},
     "output_type": "display_data"
    },
    {
     "data": {
      "application/vnd.jupyter.widget-view+json": {
       "model_id": "9a50b6534be84f728d925a42568ce4f5",
       "version_major": 2,
       "version_minor": 0
      },
      "text/plain": [
       "sliding w:   0%|          | 0/71 [00:00<?, ?it/s]"
      ]
     },
     "metadata": {},
     "output_type": "display_data"
    },
    {
     "data": {
      "application/vnd.jupyter.widget-view+json": {
       "model_id": "19b3954633704084b8781faf511e4fac",
       "version_major": 2,
       "version_minor": 0
      },
      "text/plain": [
       "sliding w:   0%|          | 0/71 [00:00<?, ?it/s]"
      ]
     },
     "metadata": {},
     "output_type": "display_data"
    },
    {
     "data": {
      "application/vnd.jupyter.widget-view+json": {
       "model_id": "845e36c821454e3aa4c72098acc72c20",
       "version_major": 2,
       "version_minor": 0
      },
      "text/plain": [
       "sliding w:   0%|          | 0/71 [00:00<?, ?it/s]"
      ]
     },
     "metadata": {},
     "output_type": "display_data"
    },
    {
     "data": {
      "application/vnd.jupyter.widget-view+json": {
       "model_id": "16679f8b76304d9e85b38d18bdc04f25",
       "version_major": 2,
       "version_minor": 0
      },
      "text/plain": [
       "contains:   0%|          | 0/71 [00:00<?, ?it/s]"
      ]
     },
     "metadata": {},
     "output_type": "display_data"
    },
    {
     "data": {
      "application/vnd.jupyter.widget-view+json": {
       "model_id": "09de5d0870e743a29e086b4fa3d09f0d",
       "version_major": 2,
       "version_minor": 0
      },
      "text/plain": [
       "  0%|          | 0/102 [00:00<?, ?it/s]"
      ]
     },
     "metadata": {},
     "output_type": "display_data"
    },
    {
     "data": {
      "application/vnd.jupyter.widget-view+json": {
       "model_id": "bfa5d2c5a0134e2bb1cba3a7afa269f1",
       "version_major": 2,
       "version_minor": 0
      },
      "text/plain": [
       "symbolize:   0%|          | 0/102 [00:00<?, ?it/s]"
      ]
     },
     "metadata": {},
     "output_type": "display_data"
    },
    {
     "data": {
      "application/vnd.jupyter.widget-view+json": {
       "model_id": "3134ac426c7e4b8eb28ab068771ced6c",
       "version_major": 2,
       "version_minor": 0
      },
      "text/plain": [
       "sliding w:   0%|          | 0/71 [00:00<?, ?it/s]"
      ]
     },
     "metadata": {},
     "output_type": "display_data"
    },
    {
     "data": {
      "application/vnd.jupyter.widget-view+json": {
       "model_id": "065c432f1aad49d782599d4fe9dfa0d8",
       "version_major": 2,
       "version_minor": 0
      },
      "text/plain": [
       "sliding w:   0%|          | 0/71 [00:00<?, ?it/s]"
      ]
     },
     "metadata": {},
     "output_type": "display_data"
    },
    {
     "data": {
      "application/vnd.jupyter.widget-view+json": {
       "model_id": "e2e9da3b26f949aa80d07b16b3059610",
       "version_major": 2,
       "version_minor": 0
      },
      "text/plain": [
       "sliding w:   0%|          | 0/71 [00:00<?, ?it/s]"
      ]
     },
     "metadata": {},
     "output_type": "display_data"
    },
    {
     "data": {
      "application/vnd.jupyter.widget-view+json": {
       "model_id": "101c932466a1494d913c1b83d14139af",
       "version_major": 2,
       "version_minor": 0
      },
      "text/plain": [
       "contains:   0%|          | 0/71 [00:00<?, ?it/s]"
      ]
     },
     "metadata": {},
     "output_type": "display_data"
    },
    {
     "data": {
      "application/vnd.jupyter.widget-view+json": {
       "model_id": "33ac8124f7b043d49abcaef679f10495",
       "version_major": 2,
       "version_minor": 0
      },
      "text/plain": [
       "  0%|          | 0/102 [00:00<?, ?it/s]"
      ]
     },
     "metadata": {},
     "output_type": "display_data"
    },
    {
     "data": {
      "application/vnd.jupyter.widget-view+json": {
       "model_id": "162a8a6dbffb4aeca2ddfb1dda91614c",
       "version_major": 2,
       "version_minor": 0
      },
      "text/plain": [
       "symbolize:   0%|          | 0/102 [00:00<?, ?it/s]"
      ]
     },
     "metadata": {},
     "output_type": "display_data"
    },
    {
     "data": {
      "application/vnd.jupyter.widget-view+json": {
       "model_id": "efa29ce1005f430cb80660d50a487dbe",
       "version_major": 2,
       "version_minor": 0
      },
      "text/plain": [
       "sliding w:   0%|          | 0/71 [00:00<?, ?it/s]"
      ]
     },
     "metadata": {},
     "output_type": "display_data"
    },
    {
     "data": {
      "application/vnd.jupyter.widget-view+json": {
       "model_id": "c73501ffa62247d8a8b49406a9b0ffa9",
       "version_major": 2,
       "version_minor": 0
      },
      "text/plain": [
       "sliding w:   0%|          | 0/71 [00:00<?, ?it/s]"
      ]
     },
     "metadata": {},
     "output_type": "display_data"
    },
    {
     "data": {
      "application/vnd.jupyter.widget-view+json": {
       "model_id": "89e43803471948bca122d9fec06b16e1",
       "version_major": 2,
       "version_minor": 0
      },
      "text/plain": [
       "sliding w:   0%|          | 0/71 [00:00<?, ?it/s]"
      ]
     },
     "metadata": {},
     "output_type": "display_data"
    },
    {
     "data": {
      "application/vnd.jupyter.widget-view+json": {
       "model_id": "7eedff8c1b99464dbfca928483c1c7c9",
       "version_major": 2,
       "version_minor": 0
      },
      "text/plain": [
       "contains:   0%|          | 0/71 [00:00<?, ?it/s]"
      ]
     },
     "metadata": {},
     "output_type": "display_data"
    },
    {
     "data": {
      "application/vnd.jupyter.widget-view+json": {
       "model_id": "458072cbccc74ed68712f27faf5188f8",
       "version_major": 2,
       "version_minor": 0
      },
      "text/plain": [
       "  0%|          | 0/102 [00:00<?, ?it/s]"
      ]
     },
     "metadata": {},
     "output_type": "display_data"
    },
    {
     "data": {
      "application/vnd.jupyter.widget-view+json": {
       "model_id": "9a22fc14780348eeaf3df314aa045d24",
       "version_major": 2,
       "version_minor": 0
      },
      "text/plain": [
       "symbolize:   0%|          | 0/102 [00:00<?, ?it/s]"
      ]
     },
     "metadata": {},
     "output_type": "display_data"
    },
    {
     "data": {
      "application/vnd.jupyter.widget-view+json": {
       "model_id": "f2747f21788e45e689835a6c34e370c8",
       "version_major": 2,
       "version_minor": 0
      },
      "text/plain": [
       "sliding w:   0%|          | 0/71 [00:00<?, ?it/s]"
      ]
     },
     "metadata": {},
     "output_type": "display_data"
    },
    {
     "data": {
      "application/vnd.jupyter.widget-view+json": {
       "model_id": "2540b71c88e94a1eb546c42c03c57927",
       "version_major": 2,
       "version_minor": 0
      },
      "text/plain": [
       "sliding w:   0%|          | 0/71 [00:00<?, ?it/s]"
      ]
     },
     "metadata": {},
     "output_type": "display_data"
    },
    {
     "data": {
      "application/vnd.jupyter.widget-view+json": {
       "model_id": "59371b179ca14bcaaa54224d6050a6d6",
       "version_major": 2,
       "version_minor": 0
      },
      "text/plain": [
       "sliding w:   0%|          | 0/71 [00:00<?, ?it/s]"
      ]
     },
     "metadata": {},
     "output_type": "display_data"
    },
    {
     "data": {
      "application/vnd.jupyter.widget-view+json": {
       "model_id": "fdcdbab15b424d44a145ec31be06b790",
       "version_major": 2,
       "version_minor": 0
      },
      "text/plain": [
       "contains:   0%|          | 0/71 [00:00<?, ?it/s]"
      ]
     },
     "metadata": {},
     "output_type": "display_data"
    },
    {
     "data": {
      "application/vnd.jupyter.widget-view+json": {
       "model_id": "8a37795dcd8f4e95930d1b73d71cef14",
       "version_major": 2,
       "version_minor": 0
      },
      "text/plain": [
       "  0%|          | 0/102 [00:00<?, ?it/s]"
      ]
     },
     "metadata": {},
     "output_type": "display_data"
    },
    {
     "data": {
      "application/vnd.jupyter.widget-view+json": {
       "model_id": "ba01ff83ed1e439ca5466d3d9b63c3c0",
       "version_major": 2,
       "version_minor": 0
      },
      "text/plain": [
       "symbolize:   0%|          | 0/102 [00:00<?, ?it/s]"
      ]
     },
     "metadata": {},
     "output_type": "display_data"
    },
    {
     "data": {
      "application/vnd.jupyter.widget-view+json": {
       "model_id": "f4da9bd6fcbd48d0b232d8e9fcf1af1c",
       "version_major": 2,
       "version_minor": 0
      },
      "text/plain": [
       "sliding w:   0%|          | 0/71 [00:00<?, ?it/s]"
      ]
     },
     "metadata": {},
     "output_type": "display_data"
    },
    {
     "data": {
      "application/vnd.jupyter.widget-view+json": {
       "model_id": "7a8e2179e61b462ba8772d2d933d7d98",
       "version_major": 2,
       "version_minor": 0
      },
      "text/plain": [
       "sliding w:   0%|          | 0/71 [00:00<?, ?it/s]"
      ]
     },
     "metadata": {},
     "output_type": "display_data"
    },
    {
     "data": {
      "application/vnd.jupyter.widget-view+json": {
       "model_id": "3918a950865b49f7af1a04532a7bc97d",
       "version_major": 2,
       "version_minor": 0
      },
      "text/plain": [
       "sliding w:   0%|          | 0/71 [00:00<?, ?it/s]"
      ]
     },
     "metadata": {},
     "output_type": "display_data"
    },
    {
     "data": {
      "application/vnd.jupyter.widget-view+json": {
       "model_id": "75970a8423854f00bd82946a2920d5dc",
       "version_major": 2,
       "version_minor": 0
      },
      "text/plain": [
       "contains:   0%|          | 0/71 [00:00<?, ?it/s]"
      ]
     },
     "metadata": {},
     "output_type": "display_data"
    },
    {
     "data": {
      "application/vnd.jupyter.widget-view+json": {
       "model_id": "8e6e90adfd54460e8f87b3a56db0d3c8",
       "version_major": 2,
       "version_minor": 0
      },
      "text/plain": [
       "  0%|          | 0/102 [00:00<?, ?it/s]"
      ]
     },
     "metadata": {},
     "output_type": "display_data"
    },
    {
     "data": {
      "application/vnd.jupyter.widget-view+json": {
       "model_id": "93be47921f134271bbc82d578f6a50a0",
       "version_major": 2,
       "version_minor": 0
      },
      "text/plain": [
       "symbolize:   0%|          | 0/102 [00:00<?, ?it/s]"
      ]
     },
     "metadata": {},
     "output_type": "display_data"
    },
    {
     "data": {
      "application/vnd.jupyter.widget-view+json": {
       "model_id": "ca9ecc2b375d4bbaa8849c4e7a6f95f2",
       "version_major": 2,
       "version_minor": 0
      },
      "text/plain": [
       "sliding w:   0%|          | 0/71 [00:00<?, ?it/s]"
      ]
     },
     "metadata": {},
     "output_type": "display_data"
    },
    {
     "data": {
      "application/vnd.jupyter.widget-view+json": {
       "model_id": "f19fbed88a7f45df959694139147fcc9",
       "version_major": 2,
       "version_minor": 0
      },
      "text/plain": [
       "sliding w:   0%|          | 0/71 [00:00<?, ?it/s]"
      ]
     },
     "metadata": {},
     "output_type": "display_data"
    },
    {
     "data": {
      "application/vnd.jupyter.widget-view+json": {
       "model_id": "4fa4561a62f44a6ba0e70f5661bbae55",
       "version_major": 2,
       "version_minor": 0
      },
      "text/plain": [
       "sliding w:   0%|          | 0/71 [00:00<?, ?it/s]"
      ]
     },
     "metadata": {},
     "output_type": "display_data"
    },
    {
     "data": {
      "application/vnd.jupyter.widget-view+json": {
       "model_id": "7b16bd73109a437aacfdf1bfdbf75f4c",
       "version_major": 2,
       "version_minor": 0
      },
      "text/plain": [
       "contains:   0%|          | 0/71 [00:00<?, ?it/s]"
      ]
     },
     "metadata": {},
     "output_type": "display_data"
    },
    {
     "data": {
      "application/vnd.jupyter.widget-view+json": {
       "model_id": "53f768ecd0e94ac8ac998cbeffefce2d",
       "version_major": 2,
       "version_minor": 0
      },
      "text/plain": [
       "  0%|          | 0/102 [00:00<?, ?it/s]"
      ]
     },
     "metadata": {},
     "output_type": "display_data"
    },
    {
     "data": {
      "application/vnd.jupyter.widget-view+json": {
       "model_id": "e4aa7f84ef704ef2a9055fb19154788b",
       "version_major": 2,
       "version_minor": 0
      },
      "text/plain": [
       "symbolize:   0%|          | 0/102 [00:00<?, ?it/s]"
      ]
     },
     "metadata": {},
     "output_type": "display_data"
    },
    {
     "data": {
      "application/vnd.jupyter.widget-view+json": {
       "model_id": "9e8e853f29a04c32aee871c1bd90c240",
       "version_major": 2,
       "version_minor": 0
      },
      "text/plain": [
       "sliding w:   0%|          | 0/71 [00:00<?, ?it/s]"
      ]
     },
     "metadata": {},
     "output_type": "display_data"
    },
    {
     "data": {
      "application/vnd.jupyter.widget-view+json": {
       "model_id": "13bf638acba24550aa135853d4b02923",
       "version_major": 2,
       "version_minor": 0
      },
      "text/plain": [
       "sliding w:   0%|          | 0/71 [00:00<?, ?it/s]"
      ]
     },
     "metadata": {},
     "output_type": "display_data"
    },
    {
     "data": {
      "application/vnd.jupyter.widget-view+json": {
       "model_id": "df486e3a99ac4dddb3d83640d251601e",
       "version_major": 2,
       "version_minor": 0
      },
      "text/plain": [
       "sliding w:   0%|          | 0/71 [00:00<?, ?it/s]"
      ]
     },
     "metadata": {},
     "output_type": "display_data"
    },
    {
     "data": {
      "application/vnd.jupyter.widget-view+json": {
       "model_id": "05787aff41f141bcbe0813246a1fc4bb",
       "version_major": 2,
       "version_minor": 0
      },
      "text/plain": [
       "contains:   0%|          | 0/71 [00:00<?, ?it/s]"
      ]
     },
     "metadata": {},
     "output_type": "display_data"
    },
    {
     "data": {
      "application/vnd.jupyter.widget-view+json": {
       "model_id": "09bd475891f447b7b251a49d8d21f888",
       "version_major": 2,
       "version_minor": 0
      },
      "text/plain": [
       "  0%|          | 0/102 [00:00<?, ?it/s]"
      ]
     },
     "metadata": {},
     "output_type": "display_data"
    },
    {
     "data": {
      "application/vnd.jupyter.widget-view+json": {
       "model_id": "6c59553c1f56497b8326c3e06aa3e0b2",
       "version_major": 2,
       "version_minor": 0
      },
      "text/plain": [
       "symbolize:   0%|          | 0/102 [00:00<?, ?it/s]"
      ]
     },
     "metadata": {},
     "output_type": "display_data"
    },
    {
     "data": {
      "application/vnd.jupyter.widget-view+json": {
       "model_id": "6109739698f24478b7c5e7894ffc57f9",
       "version_major": 2,
       "version_minor": 0
      },
      "text/plain": [
       "sliding w:   0%|          | 0/71 [00:00<?, ?it/s]"
      ]
     },
     "metadata": {},
     "output_type": "display_data"
    },
    {
     "data": {
      "application/vnd.jupyter.widget-view+json": {
       "model_id": "08ca9c0983da4b47b26fcec881ad634c",
       "version_major": 2,
       "version_minor": 0
      },
      "text/plain": [
       "sliding w:   0%|          | 0/71 [00:00<?, ?it/s]"
      ]
     },
     "metadata": {},
     "output_type": "display_data"
    },
    {
     "data": {
      "application/vnd.jupyter.widget-view+json": {
       "model_id": "47fe1b754ce94886961deac212482bcd",
       "version_major": 2,
       "version_minor": 0
      },
      "text/plain": [
       "sliding w:   0%|          | 0/71 [00:00<?, ?it/s]"
      ]
     },
     "metadata": {},
     "output_type": "display_data"
    },
    {
     "data": {
      "application/vnd.jupyter.widget-view+json": {
       "model_id": "a0fe3e0a4acc422f87484b19b04b2b99",
       "version_major": 2,
       "version_minor": 0
      },
      "text/plain": [
       "contains:   0%|          | 0/71 [00:00<?, ?it/s]"
      ]
     },
     "metadata": {},
     "output_type": "display_data"
    },
    {
     "data": {
      "application/vnd.jupyter.widget-view+json": {
       "model_id": "122f60a368044d5abf07413cb7722eb0",
       "version_major": 2,
       "version_minor": 0
      },
      "text/plain": [
       "  0%|          | 0/102 [00:00<?, ?it/s]"
      ]
     },
     "metadata": {},
     "output_type": "display_data"
    },
    {
     "data": {
      "application/vnd.jupyter.widget-view+json": {
       "model_id": "d175ecdf50284125a8fb3fb629b3803e",
       "version_major": 2,
       "version_minor": 0
      },
      "text/plain": [
       "symbolize:   0%|          | 0/102 [00:00<?, ?it/s]"
      ]
     },
     "metadata": {},
     "output_type": "display_data"
    },
    {
     "data": {
      "application/vnd.jupyter.widget-view+json": {
       "model_id": "579e5b48ab664129b2f0de345e27b63c",
       "version_major": 2,
       "version_minor": 0
      },
      "text/plain": [
       "sliding w:   0%|          | 0/71 [00:00<?, ?it/s]"
      ]
     },
     "metadata": {},
     "output_type": "display_data"
    },
    {
     "data": {
      "application/vnd.jupyter.widget-view+json": {
       "model_id": "cb638d75be364179aedf512d88f90d34",
       "version_major": 2,
       "version_minor": 0
      },
      "text/plain": [
       "sliding w:   0%|          | 0/71 [00:00<?, ?it/s]"
      ]
     },
     "metadata": {},
     "output_type": "display_data"
    },
    {
     "data": {
      "application/vnd.jupyter.widget-view+json": {
       "model_id": "ecdd1bccdded4e5c951ac20756ae4482",
       "version_major": 2,
       "version_minor": 0
      },
      "text/plain": [
       "sliding w:   0%|          | 0/71 [00:00<?, ?it/s]"
      ]
     },
     "metadata": {},
     "output_type": "display_data"
    },
    {
     "data": {
      "application/vnd.jupyter.widget-view+json": {
       "model_id": "c7fdfd130b31495f83c6ef95560ba01d",
       "version_major": 2,
       "version_minor": 0
      },
      "text/plain": [
       "contains:   0%|          | 0/71 [00:00<?, ?it/s]"
      ]
     },
     "metadata": {},
     "output_type": "display_data"
    },
    {
     "data": {
      "application/vnd.jupyter.widget-view+json": {
       "model_id": "a0cae164efcf4f79a691c0427aae2008",
       "version_major": 2,
       "version_minor": 0
      },
      "text/plain": [
       "  0%|          | 0/102 [00:00<?, ?it/s]"
      ]
     },
     "metadata": {},
     "output_type": "display_data"
    },
    {
     "data": {
      "application/vnd.jupyter.widget-view+json": {
       "model_id": "41d9f6f5a1aa410dad318471661c74f1",
       "version_major": 2,
       "version_minor": 0
      },
      "text/plain": [
       "symbolize:   0%|          | 0/102 [00:00<?, ?it/s]"
      ]
     },
     "metadata": {},
     "output_type": "display_data"
    },
    {
     "data": {
      "application/vnd.jupyter.widget-view+json": {
       "model_id": "d4129ffac49b4fc493bbe5f70f2c98dc",
       "version_major": 2,
       "version_minor": 0
      },
      "text/plain": [
       "sliding w:   0%|          | 0/71 [00:00<?, ?it/s]"
      ]
     },
     "metadata": {},
     "output_type": "display_data"
    },
    {
     "data": {
      "application/vnd.jupyter.widget-view+json": {
       "model_id": "05197caa0d06404db91feafeace3b9eb",
       "version_major": 2,
       "version_minor": 0
      },
      "text/plain": [
       "sliding w:   0%|          | 0/71 [00:00<?, ?it/s]"
      ]
     },
     "metadata": {},
     "output_type": "display_data"
    },
    {
     "data": {
      "application/vnd.jupyter.widget-view+json": {
       "model_id": "9738029e05be4f1d8aec87006566811f",
       "version_major": 2,
       "version_minor": 0
      },
      "text/plain": [
       "sliding w:   0%|          | 0/71 [00:00<?, ?it/s]"
      ]
     },
     "metadata": {},
     "output_type": "display_data"
    },
    {
     "data": {
      "application/vnd.jupyter.widget-view+json": {
       "model_id": "1bbd87132c414702b5cf3a6c5f5fe692",
       "version_major": 2,
       "version_minor": 0
      },
      "text/plain": [
       "contains:   0%|          | 0/71 [00:00<?, ?it/s]"
      ]
     },
     "metadata": {},
     "output_type": "display_data"
    },
    {
     "data": {
      "application/vnd.jupyter.widget-view+json": {
       "model_id": "16ffc644798f4638bda9f2c85103c571",
       "version_major": 2,
       "version_minor": 0
      },
      "text/plain": [
       "  0%|          | 0/102 [00:00<?, ?it/s]"
      ]
     },
     "metadata": {},
     "output_type": "display_data"
    },
    {
     "data": {
      "application/vnd.jupyter.widget-view+json": {
       "model_id": "7bb50f3df6604c8595624a10105a1b2b",
       "version_major": 2,
       "version_minor": 0
      },
      "text/plain": [
       "symbolize:   0%|          | 0/102 [00:00<?, ?it/s]"
      ]
     },
     "metadata": {},
     "output_type": "display_data"
    },
    {
     "data": {
      "application/vnd.jupyter.widget-view+json": {
       "model_id": "05b17564a0f64546a6e40fde61597332",
       "version_major": 2,
       "version_minor": 0
      },
      "text/plain": [
       "sliding w:   0%|          | 0/71 [00:00<?, ?it/s]"
      ]
     },
     "metadata": {},
     "output_type": "display_data"
    },
    {
     "data": {
      "application/vnd.jupyter.widget-view+json": {
       "model_id": "5b64f2bd765d4817a0a61a8076abfb17",
       "version_major": 2,
       "version_minor": 0
      },
      "text/plain": [
       "sliding w:   0%|          | 0/71 [00:00<?, ?it/s]"
      ]
     },
     "metadata": {},
     "output_type": "display_data"
    },
    {
     "data": {
      "application/vnd.jupyter.widget-view+json": {
       "model_id": "0f03b3c0e26c4c1899276cf3c07ec566",
       "version_major": 2,
       "version_minor": 0
      },
      "text/plain": [
       "sliding w:   0%|          | 0/71 [00:00<?, ?it/s]"
      ]
     },
     "metadata": {},
     "output_type": "display_data"
    },
    {
     "data": {
      "application/vnd.jupyter.widget-view+json": {
       "model_id": "daa1f80ce42544afbdd8a223439b3f36",
       "version_major": 2,
       "version_minor": 0
      },
      "text/plain": [
       "contains:   0%|          | 0/71 [00:00<?, ?it/s]"
      ]
     },
     "metadata": {},
     "output_type": "display_data"
    },
    {
     "data": {
      "application/vnd.jupyter.widget-view+json": {
       "model_id": "f86f3cbc38644fe79697e5f8b4660207",
       "version_major": 2,
       "version_minor": 0
      },
      "text/plain": [
       "  0%|          | 0/102 [00:00<?, ?it/s]"
      ]
     },
     "metadata": {},
     "output_type": "display_data"
    },
    {
     "data": {
      "application/vnd.jupyter.widget-view+json": {
       "model_id": "1b44f65b7c294fc1897128787f254a7b",
       "version_major": 2,
       "version_minor": 0
      },
      "text/plain": [
       "symbolize:   0%|          | 0/102 [00:00<?, ?it/s]"
      ]
     },
     "metadata": {},
     "output_type": "display_data"
    },
    {
     "data": {
      "application/vnd.jupyter.widget-view+json": {
       "model_id": "6c35066037a54ec284a4f63cbbd4ef4d",
       "version_major": 2,
       "version_minor": 0
      },
      "text/plain": [
       "sliding w:   0%|          | 0/71 [00:00<?, ?it/s]"
      ]
     },
     "metadata": {},
     "output_type": "display_data"
    },
    {
     "data": {
      "application/vnd.jupyter.widget-view+json": {
       "model_id": "bb2431a89905465fabc4f943c6f8f43c",
       "version_major": 2,
       "version_minor": 0
      },
      "text/plain": [
       "sliding w:   0%|          | 0/71 [00:00<?, ?it/s]"
      ]
     },
     "metadata": {},
     "output_type": "display_data"
    },
    {
     "data": {
      "application/vnd.jupyter.widget-view+json": {
       "model_id": "d4464cbe1e684381b968f2d188c9bf4c",
       "version_major": 2,
       "version_minor": 0
      },
      "text/plain": [
       "sliding w:   0%|          | 0/71 [00:00<?, ?it/s]"
      ]
     },
     "metadata": {},
     "output_type": "display_data"
    },
    {
     "data": {
      "application/vnd.jupyter.widget-view+json": {
       "model_id": "1a0abd0b6f1d47bdb89bb067ed456129",
       "version_major": 2,
       "version_minor": 0
      },
      "text/plain": [
       "contains:   0%|          | 0/71 [00:00<?, ?it/s]"
      ]
     },
     "metadata": {},
     "output_type": "display_data"
    },
    {
     "data": {
      "application/vnd.jupyter.widget-view+json": {
       "model_id": "2f1aa0bab6294038832b0eb8e5b4aebd",
       "version_major": 2,
       "version_minor": 0
      },
      "text/plain": [
       "  0%|          | 0/102 [00:00<?, ?it/s]"
      ]
     },
     "metadata": {},
     "output_type": "display_data"
    }
   ],
   "source": [
    "from concurrent.futures import ProcessPoolExecutor\n",
    "\n",
    "executor = ProcessPoolExecutor(max_workers=1)\n",
    "\n",
    "n_clusters = [2, 5, 20, 100]\n",
    "sliding_windows = [2, 3, 5]\n",
    "top_k = [1, 2, 10, 50]\n",
    "\n",
    "res_t = []\n",
    "res_X = []\n",
    "\n",
    "conf = []\n",
    "processes = []\n",
    "for n_clust in tqdm(n_clusters, position=0):\n",
    "    for sliding_w in sliding_windows:\n",
    "        for k in top_k:\n",
    "            try:\n",
    "                conf.append((n_clust, sliding_w, k))\n",
    "                #processes.append(executor.submit(foo, 1))\n",
    "                #processes.append(executor.submit(runTest, n_clust, sliding_w, k))\n",
    "                t, x = runTest(n_clust, sliding_w, k)\n",
    "                res_t.append(t)\n",
    "                res_X.append(x)\n",
    "            except:\n",
    "                print(\"FAIL\")\n",
    "                res_t.append(np.NAN)\n",
    "                res_X.append(np.NAN)\n"
   ]
  },
  {
   "cell_type": "code",
   "execution_count": null,
   "metadata": {},
   "outputs": [],
   "source": []
  },
  {
   "cell_type": "code",
   "execution_count": 23,
   "metadata": {},
   "outputs": [
    {
     "data": {
      "text/plain": [
       "[(2, 2, 1),\n",
       " (2, 2, 2),\n",
       " (2, 2, 10),\n",
       " (2, 2, 50),\n",
       " (2, 3, 1),\n",
       " (2, 3, 2),\n",
       " (2, 3, 10),\n",
       " (2, 3, 50),\n",
       " (2, 5, 1),\n",
       " (2, 5, 2),\n",
       " (2, 5, 10),\n",
       " (2, 5, 50),\n",
       " (5, 2, 1),\n",
       " (5, 2, 2),\n",
       " (5, 2, 10),\n",
       " (5, 2, 50),\n",
       " (5, 3, 1),\n",
       " (5, 3, 2),\n",
       " (5, 3, 10),\n",
       " (5, 3, 50),\n",
       " (5, 5, 1),\n",
       " (5, 5, 2),\n",
       " (5, 5, 10),\n",
       " (5, 5, 50),\n",
       " (20, 2, 1),\n",
       " (20, 2, 2),\n",
       " (20, 2, 10),\n",
       " (20, 2, 50),\n",
       " (20, 3, 1),\n",
       " (20, 3, 2),\n",
       " (20, 3, 10),\n",
       " (20, 3, 50),\n",
       " (20, 5, 1),\n",
       " (20, 5, 2),\n",
       " (20, 5, 10),\n",
       " (20, 5, 50),\n",
       " (100, 2, 1),\n",
       " (100, 2, 2),\n",
       " (100, 2, 10),\n",
       " (100, 2, 50),\n",
       " (100, 3, 1),\n",
       " (100, 3, 2),\n",
       " (100, 3, 10),\n",
       " (100, 3, 50),\n",
       " (100, 5, 1),\n",
       " (100, 5, 2),\n",
       " (100, 5, 10),\n",
       " (100, 5, 50)]"
      ]
     },
     "execution_count": 23,
     "metadata": {},
     "output_type": "execute_result"
    }
   ],
   "source": [
    "conf"
   ]
  },
  {
   "cell_type": "code",
   "execution_count": null,
   "metadata": {},
   "outputs": [],
   "source": []
  },
  {
   "cell_type": "code",
   "execution_count": 30,
   "metadata": {},
   "outputs": [
    {
     "data": {
      "application/vnd.jupyter.widget-view+json": {
       "model_id": "3c6ac498638b434c9c576bd9f785af12",
       "version_major": 2,
       "version_minor": 0
      },
      "text/plain": [
       "  0%|          | 0/48 [00:00<?, ?it/s]"
      ]
     },
     "metadata": {},
     "output_type": "display_data"
    },
    {
     "name": "stdout",
     "output_type": "stream",
     "text": [
      "(0.3548387096774194, 0.3548387096774194, 0.35483870967741943, 0.3548387096774194)\n",
      "(0.41935483870967744, 0.41935483870967744, 0.41935483870967744, 0.41935483870967744)\n",
      "(0.5483870967741935, 0.5483870967741935, 0.5483870967741935, 0.5483870967741935)\n",
      "(0.5161290322580645, 0.5161290322580645, 0.5161290322580645, 0.5161290322580645)\n",
      "(0.45161290322580644, 0.45161290322580644, 0.45161290322580644, 0.45161290322580644)\n",
      "(0.45161290322580644, 0.45161290322580644, 0.45161290322580644, 0.45161290322580644)\n",
      "(0.5483870967741935, 0.5483870967741935, 0.5483870967741935, 0.5483870967741935)\n",
      "(0.6774193548387096, 0.6774193548387096, 0.6774193548387096, 0.6774193548387096)\n",
      "(0.3225806451612903, 0.3225806451612903, 0.3225806451612903, 0.3225806451612903)\n",
      "(0.3870967741935484, 0.3870967741935484, 0.3870967741935484, 0.3870967741935484)\n",
      "(0.5161290322580645, 0.5161290322580645, 0.5161290322580645, 0.5161290322580645)\n",
      "(0.5161290322580645, 0.5161290322580645, 0.5161290322580645, 0.5161290322580645)\n",
      "(0.2903225806451613, 0.2903225806451613, 0.2903225806451613, 0.2903225806451613)\n",
      "(0.3225806451612903, 0.3225806451612903, 0.3225806451612903, 0.3225806451612903)\n",
      "(0.3225806451612903, 0.3225806451612903, 0.3225806451612903, 0.3225806451612903)\n",
      "(0.3548387096774194, 0.3548387096774194, 0.35483870967741943, 0.3548387096774194)\n",
      "(0.45161290322580644, 0.45161290322580644, 0.45161290322580644, 0.45161290322580644)\n",
      "(0.3870967741935484, 0.3870967741935484, 0.3870967741935484, 0.3870967741935484)\n",
      "(0.45161290322580644, 0.45161290322580644, 0.45161290322580644, 0.45161290322580644)\n",
      "(0.3548387096774194, 0.3548387096774194, 0.35483870967741943, 0.3548387096774194)\n",
      "(0.45161290322580644, 0.45161290322580644, 0.45161290322580644, 0.45161290322580644)\n",
      "(0.3870967741935484, 0.3870967741935484, 0.3870967741935484, 0.3870967741935484)\n",
      "(0.41935483870967744, 0.41935483870967744, 0.41935483870967744, 0.41935483870967744)\n",
      "(0.45161290322580644, 0.45161290322580644, 0.45161290322580644, 0.45161290322580644)\n",
      "(0.45161290322580644, 0.45161290322580644, 0.45161290322580644, 0.45161290322580644)\n",
      "(0.45161290322580644, 0.45161290322580644, 0.45161290322580644, 0.45161290322580644)\n",
      "(0.3870967741935484, 0.3870967741935484, 0.3870967741935484, 0.3870967741935484)\n",
      "(0.45161290322580644, 0.45161290322580644, 0.45161290322580644, 0.45161290322580644)\n",
      "(0.45161290322580644, 0.45161290322580644, 0.45161290322580644, 0.45161290322580644)\n",
      "(0.45161290322580644, 0.45161290322580644, 0.45161290322580644, 0.45161290322580644)\n",
      "(0.45161290322580644, 0.45161290322580644, 0.45161290322580644, 0.45161290322580644)\n",
      "(0.41935483870967744, 0.41935483870967744, 0.41935483870967744, 0.41935483870967744)\n",
      "(0.3870967741935484, 0.3870967741935484, 0.3870967741935484, 0.3870967741935484)\n",
      "(0.3870967741935484, 0.3870967741935484, 0.3870967741935484, 0.3870967741935484)\n",
      "(0.4838709677419355, 0.4838709677419355, 0.4838709677419355, 0.4838709677419355)\n",
      "(0.4838709677419355, 0.4838709677419355, 0.4838709677419355, 0.4838709677419355)\n",
      "(0.3870967741935484, 0.3870967741935484, 0.3870967741935484, 0.3870967741935484)\n",
      "(0.3225806451612903, 0.3225806451612903, 0.3225806451612903, 0.3225806451612903)\n",
      "(0.2903225806451613, 0.2903225806451613, 0.2903225806451613, 0.2903225806451613)\n",
      "(0.41935483870967744, 0.41935483870967744, 0.41935483870967744, 0.41935483870967744)\n",
      "(0.3870967741935484, 0.3870967741935484, 0.3870967741935484, 0.3870967741935484)\n",
      "(0.3870967741935484, 0.3870967741935484, 0.3870967741935484, 0.3870967741935484)\n",
      "(0.41935483870967744, 0.41935483870967744, 0.41935483870967744, 0.41935483870967744)\n",
      "(0.41935483870967744, 0.41935483870967744, 0.41935483870967744, 0.41935483870967744)\n",
      "(0.3870967741935484, 0.3870967741935484, 0.3870967741935484, 0.3870967741935484)\n",
      "(0.3225806451612903, 0.3225806451612903, 0.3225806451612903, 0.3225806451612903)\n",
      "(0.3225806451612903, 0.3225806451612903, 0.3225806451612903, 0.3225806451612903)\n",
      "(0.3225806451612903, 0.3225806451612903, 0.3225806451612903, 0.3225806451612903)\n"
     ]
    }
   ],
   "source": [
    "from sklearn.metrics import accuracy_score, precision_score, f1_score, recall_score\n",
    "from sklearn.ensemble import RandomForestClassifier\n",
    "from sklearn.model_selection import GridSearchCV\n",
    "\n",
    "def compute_measures(test, pred):\n",
    "    return (accuracy_score(test, pred), precision_score(test, pred, average=\"micro\"), f1_score(test, pred, average=\"micro\"), recall_score(test, pred, average=\"micro\"))\n",
    "\n",
    "res_val = []\n",
    "\n",
    "for x in tqdm(res_X):\n",
    "    try:\n",
    "\n",
    "        X = x\n",
    "        X_train, X_test, y_train, y_test = train_test_split(X, y, test_size=.3, stratify=y, random_state=3)\n",
    "\n",
    "        tree_para = {'n_estimators':range(100, 1500, 300),\n",
    "                     'max_depth':range(2, 18, 3)}\n",
    "        gs = GridSearchCV(RandomForestClassifier(), tree_para, cv=5, n_jobs=12, verbose=0)\n",
    "        result = gs.fit(X_train, y_train)\n",
    "\n",
    "        y_pred = result.best_estimator_.fit(X_train, y_train).predict(X_test)\n",
    "\n",
    "        res_val.append(compute_measures(y_test, y_pred))\n",
    "\n",
    "        print(compute_measures(y_test, y_pred))\n",
    "    except:\n",
    "        print(\"skip\")\n",
    "        res_val.append((np.NAN, np.NAN, np.NAN, np.NAN))"
   ]
  },
  {
   "cell_type": "code",
   "execution_count": null,
   "metadata": {},
   "outputs": [],
   "source": []
  },
  {
   "cell_type": "code",
   "execution_count": 31,
   "metadata": {},
   "outputs": [
    {
     "data": {
      "text/html": [
       "<div>\n",
       "<style scoped>\n",
       "    .dataframe tbody tr th:only-of-type {\n",
       "        vertical-align: middle;\n",
       "    }\n",
       "\n",
       "    .dataframe tbody tr th {\n",
       "        vertical-align: top;\n",
       "    }\n",
       "\n",
       "    .dataframe thead th {\n",
       "        text-align: right;\n",
       "    }\n",
       "</style>\n",
       "<table border=\"1\" class=\"dataframe\">\n",
       "  <thead>\n",
       "    <tr style=\"text-align: right;\">\n",
       "      <th></th>\n",
       "      <th>acc</th>\n",
       "      <th>precision</th>\n",
       "      <th>f1</th>\n",
       "      <th>recall</th>\n",
       "      <th>nclust</th>\n",
       "      <th>sliding</th>\n",
       "      <th>k</th>\n",
       "      <th>t</th>\n",
       "    </tr>\n",
       "  </thead>\n",
       "  <tbody>\n",
       "    <tr>\n",
       "      <th>0</th>\n",
       "      <td>0.354839</td>\n",
       "      <td>0.354839</td>\n",
       "      <td>0.354839</td>\n",
       "      <td>0.354839</td>\n",
       "      <td>2</td>\n",
       "      <td>2</td>\n",
       "      <td>1</td>\n",
       "      <td>17602.995</td>\n",
       "    </tr>\n",
       "    <tr>\n",
       "      <th>1</th>\n",
       "      <td>0.419355</td>\n",
       "      <td>0.419355</td>\n",
       "      <td>0.419355</td>\n",
       "      <td>0.419355</td>\n",
       "      <td>2</td>\n",
       "      <td>2</td>\n",
       "      <td>2</td>\n",
       "      <td>17729.004</td>\n",
       "    </tr>\n",
       "    <tr>\n",
       "      <th>2</th>\n",
       "      <td>0.548387</td>\n",
       "      <td>0.548387</td>\n",
       "      <td>0.548387</td>\n",
       "      <td>0.548387</td>\n",
       "      <td>2</td>\n",
       "      <td>2</td>\n",
       "      <td>10</td>\n",
       "      <td>17673.994</td>\n",
       "    </tr>\n",
       "    <tr>\n",
       "      <th>3</th>\n",
       "      <td>0.516129</td>\n",
       "      <td>0.516129</td>\n",
       "      <td>0.516129</td>\n",
       "      <td>0.516129</td>\n",
       "      <td>2</td>\n",
       "      <td>2</td>\n",
       "      <td>50</td>\n",
       "      <td>17558.998</td>\n",
       "    </tr>\n",
       "    <tr>\n",
       "      <th>4</th>\n",
       "      <td>0.451613</td>\n",
       "      <td>0.451613</td>\n",
       "      <td>0.451613</td>\n",
       "      <td>0.451613</td>\n",
       "      <td>2</td>\n",
       "      <td>3</td>\n",
       "      <td>1</td>\n",
       "      <td>17068.999</td>\n",
       "    </tr>\n",
       "    <tr>\n",
       "      <th>5</th>\n",
       "      <td>0.451613</td>\n",
       "      <td>0.451613</td>\n",
       "      <td>0.451613</td>\n",
       "      <td>0.451613</td>\n",
       "      <td>2</td>\n",
       "      <td>3</td>\n",
       "      <td>2</td>\n",
       "      <td>17184.999</td>\n",
       "    </tr>\n",
       "    <tr>\n",
       "      <th>6</th>\n",
       "      <td>0.548387</td>\n",
       "      <td>0.548387</td>\n",
       "      <td>0.548387</td>\n",
       "      <td>0.548387</td>\n",
       "      <td>2</td>\n",
       "      <td>3</td>\n",
       "      <td>10</td>\n",
       "      <td>17156.005</td>\n",
       "    </tr>\n",
       "    <tr>\n",
       "      <th>7</th>\n",
       "      <td>0.677419</td>\n",
       "      <td>0.677419</td>\n",
       "      <td>0.677419</td>\n",
       "      <td>0.677419</td>\n",
       "      <td>2</td>\n",
       "      <td>3</td>\n",
       "      <td>50</td>\n",
       "      <td>17109.991</td>\n",
       "    </tr>\n",
       "    <tr>\n",
       "      <th>8</th>\n",
       "      <td>0.322581</td>\n",
       "      <td>0.322581</td>\n",
       "      <td>0.322581</td>\n",
       "      <td>0.322581</td>\n",
       "      <td>2</td>\n",
       "      <td>5</td>\n",
       "      <td>1</td>\n",
       "      <td>16548.004</td>\n",
       "    </tr>\n",
       "    <tr>\n",
       "      <th>9</th>\n",
       "      <td>0.387097</td>\n",
       "      <td>0.387097</td>\n",
       "      <td>0.387097</td>\n",
       "      <td>0.387097</td>\n",
       "      <td>2</td>\n",
       "      <td>5</td>\n",
       "      <td>2</td>\n",
       "      <td>16554.996</td>\n",
       "    </tr>\n",
       "    <tr>\n",
       "      <th>10</th>\n",
       "      <td>0.516129</td>\n",
       "      <td>0.516129</td>\n",
       "      <td>0.516129</td>\n",
       "      <td>0.516129</td>\n",
       "      <td>2</td>\n",
       "      <td>5</td>\n",
       "      <td>10</td>\n",
       "      <td>16536.001</td>\n",
       "    </tr>\n",
       "    <tr>\n",
       "      <th>11</th>\n",
       "      <td>0.516129</td>\n",
       "      <td>0.516129</td>\n",
       "      <td>0.516129</td>\n",
       "      <td>0.516129</td>\n",
       "      <td>2</td>\n",
       "      <td>5</td>\n",
       "      <td>50</td>\n",
       "      <td>16618.770</td>\n",
       "    </tr>\n",
       "    <tr>\n",
       "      <th>12</th>\n",
       "      <td>0.290323</td>\n",
       "      <td>0.290323</td>\n",
       "      <td>0.290323</td>\n",
       "      <td>0.290323</td>\n",
       "      <td>5</td>\n",
       "      <td>2</td>\n",
       "      <td>1</td>\n",
       "      <td>28146.046</td>\n",
       "    </tr>\n",
       "    <tr>\n",
       "      <th>13</th>\n",
       "      <td>0.322581</td>\n",
       "      <td>0.322581</td>\n",
       "      <td>0.322581</td>\n",
       "      <td>0.322581</td>\n",
       "      <td>5</td>\n",
       "      <td>2</td>\n",
       "      <td>2</td>\n",
       "      <td>29431.277</td>\n",
       "    </tr>\n",
       "    <tr>\n",
       "      <th>14</th>\n",
       "      <td>0.322581</td>\n",
       "      <td>0.322581</td>\n",
       "      <td>0.322581</td>\n",
       "      <td>0.322581</td>\n",
       "      <td>5</td>\n",
       "      <td>2</td>\n",
       "      <td>10</td>\n",
       "      <td>29325.154</td>\n",
       "    </tr>\n",
       "    <tr>\n",
       "      <th>15</th>\n",
       "      <td>0.354839</td>\n",
       "      <td>0.354839</td>\n",
       "      <td>0.354839</td>\n",
       "      <td>0.354839</td>\n",
       "      <td>5</td>\n",
       "      <td>2</td>\n",
       "      <td>50</td>\n",
       "      <td>28178.000</td>\n",
       "    </tr>\n",
       "    <tr>\n",
       "      <th>16</th>\n",
       "      <td>0.451613</td>\n",
       "      <td>0.451613</td>\n",
       "      <td>0.451613</td>\n",
       "      <td>0.451613</td>\n",
       "      <td>5</td>\n",
       "      <td>3</td>\n",
       "      <td>1</td>\n",
       "      <td>26660.992</td>\n",
       "    </tr>\n",
       "    <tr>\n",
       "      <th>17</th>\n",
       "      <td>0.387097</td>\n",
       "      <td>0.387097</td>\n",
       "      <td>0.387097</td>\n",
       "      <td>0.387097</td>\n",
       "      <td>5</td>\n",
       "      <td>3</td>\n",
       "      <td>2</td>\n",
       "      <td>27261.987</td>\n",
       "    </tr>\n",
       "    <tr>\n",
       "      <th>18</th>\n",
       "      <td>0.451613</td>\n",
       "      <td>0.451613</td>\n",
       "      <td>0.451613</td>\n",
       "      <td>0.451613</td>\n",
       "      <td>5</td>\n",
       "      <td>3</td>\n",
       "      <td>10</td>\n",
       "      <td>26940.993</td>\n",
       "    </tr>\n",
       "    <tr>\n",
       "      <th>19</th>\n",
       "      <td>0.354839</td>\n",
       "      <td>0.354839</td>\n",
       "      <td>0.354839</td>\n",
       "      <td>0.354839</td>\n",
       "      <td>5</td>\n",
       "      <td>3</td>\n",
       "      <td>50</td>\n",
       "      <td>26905.992</td>\n",
       "    </tr>\n",
       "    <tr>\n",
       "      <th>20</th>\n",
       "      <td>0.451613</td>\n",
       "      <td>0.451613</td>\n",
       "      <td>0.451613</td>\n",
       "      <td>0.451613</td>\n",
       "      <td>5</td>\n",
       "      <td>5</td>\n",
       "      <td>1</td>\n",
       "      <td>24815.994</td>\n",
       "    </tr>\n",
       "    <tr>\n",
       "      <th>21</th>\n",
       "      <td>0.387097</td>\n",
       "      <td>0.387097</td>\n",
       "      <td>0.387097</td>\n",
       "      <td>0.387097</td>\n",
       "      <td>5</td>\n",
       "      <td>5</td>\n",
       "      <td>2</td>\n",
       "      <td>25515.991</td>\n",
       "    </tr>\n",
       "    <tr>\n",
       "      <th>22</th>\n",
       "      <td>0.419355</td>\n",
       "      <td>0.419355</td>\n",
       "      <td>0.419355</td>\n",
       "      <td>0.419355</td>\n",
       "      <td>5</td>\n",
       "      <td>5</td>\n",
       "      <td>10</td>\n",
       "      <td>25041.992</td>\n",
       "    </tr>\n",
       "    <tr>\n",
       "      <th>23</th>\n",
       "      <td>0.451613</td>\n",
       "      <td>0.451613</td>\n",
       "      <td>0.451613</td>\n",
       "      <td>0.451613</td>\n",
       "      <td>5</td>\n",
       "      <td>5</td>\n",
       "      <td>50</td>\n",
       "      <td>24804.995</td>\n",
       "    </tr>\n",
       "    <tr>\n",
       "      <th>24</th>\n",
       "      <td>0.451613</td>\n",
       "      <td>0.451613</td>\n",
       "      <td>0.451613</td>\n",
       "      <td>0.451613</td>\n",
       "      <td>20</td>\n",
       "      <td>2</td>\n",
       "      <td>1</td>\n",
       "      <td>34167.985</td>\n",
       "    </tr>\n",
       "    <tr>\n",
       "      <th>25</th>\n",
       "      <td>0.451613</td>\n",
       "      <td>0.451613</td>\n",
       "      <td>0.451613</td>\n",
       "      <td>0.451613</td>\n",
       "      <td>20</td>\n",
       "      <td>2</td>\n",
       "      <td>2</td>\n",
       "      <td>34236.989</td>\n",
       "    </tr>\n",
       "    <tr>\n",
       "      <th>26</th>\n",
       "      <td>0.387097</td>\n",
       "      <td>0.387097</td>\n",
       "      <td>0.387097</td>\n",
       "      <td>0.387097</td>\n",
       "      <td>20</td>\n",
       "      <td>2</td>\n",
       "      <td>10</td>\n",
       "      <td>34212.985</td>\n",
       "    </tr>\n",
       "    <tr>\n",
       "      <th>27</th>\n",
       "      <td>0.451613</td>\n",
       "      <td>0.451613</td>\n",
       "      <td>0.451613</td>\n",
       "      <td>0.451613</td>\n",
       "      <td>20</td>\n",
       "      <td>2</td>\n",
       "      <td>50</td>\n",
       "      <td>33928.989</td>\n",
       "    </tr>\n",
       "    <tr>\n",
       "      <th>28</th>\n",
       "      <td>0.451613</td>\n",
       "      <td>0.451613</td>\n",
       "      <td>0.451613</td>\n",
       "      <td>0.451613</td>\n",
       "      <td>20</td>\n",
       "      <td>3</td>\n",
       "      <td>1</td>\n",
       "      <td>32621.989</td>\n",
       "    </tr>\n",
       "    <tr>\n",
       "      <th>29</th>\n",
       "      <td>0.451613</td>\n",
       "      <td>0.451613</td>\n",
       "      <td>0.451613</td>\n",
       "      <td>0.451613</td>\n",
       "      <td>20</td>\n",
       "      <td>3</td>\n",
       "      <td>2</td>\n",
       "      <td>32610.989</td>\n",
       "    </tr>\n",
       "    <tr>\n",
       "      <th>30</th>\n",
       "      <td>0.451613</td>\n",
       "      <td>0.451613</td>\n",
       "      <td>0.451613</td>\n",
       "      <td>0.451613</td>\n",
       "      <td>20</td>\n",
       "      <td>3</td>\n",
       "      <td>10</td>\n",
       "      <td>32647.985</td>\n",
       "    </tr>\n",
       "    <tr>\n",
       "      <th>31</th>\n",
       "      <td>0.419355</td>\n",
       "      <td>0.419355</td>\n",
       "      <td>0.419355</td>\n",
       "      <td>0.419355</td>\n",
       "      <td>20</td>\n",
       "      <td>3</td>\n",
       "      <td>50</td>\n",
       "      <td>32673.991</td>\n",
       "    </tr>\n",
       "    <tr>\n",
       "      <th>32</th>\n",
       "      <td>0.387097</td>\n",
       "      <td>0.387097</td>\n",
       "      <td>0.387097</td>\n",
       "      <td>0.387097</td>\n",
       "      <td>20</td>\n",
       "      <td>5</td>\n",
       "      <td>1</td>\n",
       "      <td>30411.988</td>\n",
       "    </tr>\n",
       "    <tr>\n",
       "      <th>33</th>\n",
       "      <td>0.387097</td>\n",
       "      <td>0.387097</td>\n",
       "      <td>0.387097</td>\n",
       "      <td>0.387097</td>\n",
       "      <td>20</td>\n",
       "      <td>5</td>\n",
       "      <td>2</td>\n",
       "      <td>30356.990</td>\n",
       "    </tr>\n",
       "    <tr>\n",
       "      <th>34</th>\n",
       "      <td>0.483871</td>\n",
       "      <td>0.483871</td>\n",
       "      <td>0.483871</td>\n",
       "      <td>0.483871</td>\n",
       "      <td>20</td>\n",
       "      <td>5</td>\n",
       "      <td>10</td>\n",
       "      <td>30400.989</td>\n",
       "    </tr>\n",
       "    <tr>\n",
       "      <th>35</th>\n",
       "      <td>0.483871</td>\n",
       "      <td>0.483871</td>\n",
       "      <td>0.483871</td>\n",
       "      <td>0.483871</td>\n",
       "      <td>20</td>\n",
       "      <td>5</td>\n",
       "      <td>50</td>\n",
       "      <td>30640.994</td>\n",
       "    </tr>\n",
       "    <tr>\n",
       "      <th>36</th>\n",
       "      <td>0.387097</td>\n",
       "      <td>0.387097</td>\n",
       "      <td>0.387097</td>\n",
       "      <td>0.387097</td>\n",
       "      <td>100</td>\n",
       "      <td>2</td>\n",
       "      <td>1</td>\n",
       "      <td>61473.603</td>\n",
       "    </tr>\n",
       "    <tr>\n",
       "      <th>37</th>\n",
       "      <td>0.322581</td>\n",
       "      <td>0.322581</td>\n",
       "      <td>0.322581</td>\n",
       "      <td>0.322581</td>\n",
       "      <td>100</td>\n",
       "      <td>2</td>\n",
       "      <td>2</td>\n",
       "      <td>64542.468</td>\n",
       "    </tr>\n",
       "    <tr>\n",
       "      <th>38</th>\n",
       "      <td>0.290323</td>\n",
       "      <td>0.290323</td>\n",
       "      <td>0.290323</td>\n",
       "      <td>0.290323</td>\n",
       "      <td>100</td>\n",
       "      <td>2</td>\n",
       "      <td>10</td>\n",
       "      <td>61654.838</td>\n",
       "    </tr>\n",
       "    <tr>\n",
       "      <th>39</th>\n",
       "      <td>0.419355</td>\n",
       "      <td>0.419355</td>\n",
       "      <td>0.419355</td>\n",
       "      <td>0.419355</td>\n",
       "      <td>100</td>\n",
       "      <td>2</td>\n",
       "      <td>50</td>\n",
       "      <td>61357.697</td>\n",
       "    </tr>\n",
       "    <tr>\n",
       "      <th>40</th>\n",
       "      <td>0.387097</td>\n",
       "      <td>0.387097</td>\n",
       "      <td>0.387097</td>\n",
       "      <td>0.387097</td>\n",
       "      <td>100</td>\n",
       "      <td>3</td>\n",
       "      <td>1</td>\n",
       "      <td>59763.584</td>\n",
       "    </tr>\n",
       "    <tr>\n",
       "      <th>41</th>\n",
       "      <td>0.387097</td>\n",
       "      <td>0.387097</td>\n",
       "      <td>0.387097</td>\n",
       "      <td>0.387097</td>\n",
       "      <td>100</td>\n",
       "      <td>3</td>\n",
       "      <td>2</td>\n",
       "      <td>59669.064</td>\n",
       "    </tr>\n",
       "    <tr>\n",
       "      <th>42</th>\n",
       "      <td>0.419355</td>\n",
       "      <td>0.419355</td>\n",
       "      <td>0.419355</td>\n",
       "      <td>0.419355</td>\n",
       "      <td>100</td>\n",
       "      <td>3</td>\n",
       "      <td>10</td>\n",
       "      <td>60138.295</td>\n",
       "    </tr>\n",
       "    <tr>\n",
       "      <th>43</th>\n",
       "      <td>0.419355</td>\n",
       "      <td>0.419355</td>\n",
       "      <td>0.419355</td>\n",
       "      <td>0.419355</td>\n",
       "      <td>100</td>\n",
       "      <td>3</td>\n",
       "      <td>50</td>\n",
       "      <td>59851.547</td>\n",
       "    </tr>\n",
       "    <tr>\n",
       "      <th>44</th>\n",
       "      <td>0.387097</td>\n",
       "      <td>0.387097</td>\n",
       "      <td>0.387097</td>\n",
       "      <td>0.387097</td>\n",
       "      <td>100</td>\n",
       "      <td>5</td>\n",
       "      <td>1</td>\n",
       "      <td>57263.961</td>\n",
       "    </tr>\n",
       "    <tr>\n",
       "      <th>45</th>\n",
       "      <td>0.322581</td>\n",
       "      <td>0.322581</td>\n",
       "      <td>0.322581</td>\n",
       "      <td>0.322581</td>\n",
       "      <td>100</td>\n",
       "      <td>5</td>\n",
       "      <td>2</td>\n",
       "      <td>57751.166</td>\n",
       "    </tr>\n",
       "    <tr>\n",
       "      <th>46</th>\n",
       "      <td>0.322581</td>\n",
       "      <td>0.322581</td>\n",
       "      <td>0.322581</td>\n",
       "      <td>0.322581</td>\n",
       "      <td>100</td>\n",
       "      <td>5</td>\n",
       "      <td>10</td>\n",
       "      <td>71454.167</td>\n",
       "    </tr>\n",
       "    <tr>\n",
       "      <th>47</th>\n",
       "      <td>0.322581</td>\n",
       "      <td>0.322581</td>\n",
       "      <td>0.322581</td>\n",
       "      <td>0.322581</td>\n",
       "      <td>100</td>\n",
       "      <td>5</td>\n",
       "      <td>50</td>\n",
       "      <td>74391.739</td>\n",
       "    </tr>\n",
       "  </tbody>\n",
       "</table>\n",
       "</div>"
      ],
      "text/plain": [
       "         acc  precision        f1    recall  nclust  sliding   k          t\n",
       "0   0.354839   0.354839  0.354839  0.354839       2        2   1  17602.995\n",
       "1   0.419355   0.419355  0.419355  0.419355       2        2   2  17729.004\n",
       "2   0.548387   0.548387  0.548387  0.548387       2        2  10  17673.994\n",
       "3   0.516129   0.516129  0.516129  0.516129       2        2  50  17558.998\n",
       "4   0.451613   0.451613  0.451613  0.451613       2        3   1  17068.999\n",
       "5   0.451613   0.451613  0.451613  0.451613       2        3   2  17184.999\n",
       "6   0.548387   0.548387  0.548387  0.548387       2        3  10  17156.005\n",
       "7   0.677419   0.677419  0.677419  0.677419       2        3  50  17109.991\n",
       "8   0.322581   0.322581  0.322581  0.322581       2        5   1  16548.004\n",
       "9   0.387097   0.387097  0.387097  0.387097       2        5   2  16554.996\n",
       "10  0.516129   0.516129  0.516129  0.516129       2        5  10  16536.001\n",
       "11  0.516129   0.516129  0.516129  0.516129       2        5  50  16618.770\n",
       "12  0.290323   0.290323  0.290323  0.290323       5        2   1  28146.046\n",
       "13  0.322581   0.322581  0.322581  0.322581       5        2   2  29431.277\n",
       "14  0.322581   0.322581  0.322581  0.322581       5        2  10  29325.154\n",
       "15  0.354839   0.354839  0.354839  0.354839       5        2  50  28178.000\n",
       "16  0.451613   0.451613  0.451613  0.451613       5        3   1  26660.992\n",
       "17  0.387097   0.387097  0.387097  0.387097       5        3   2  27261.987\n",
       "18  0.451613   0.451613  0.451613  0.451613       5        3  10  26940.993\n",
       "19  0.354839   0.354839  0.354839  0.354839       5        3  50  26905.992\n",
       "20  0.451613   0.451613  0.451613  0.451613       5        5   1  24815.994\n",
       "21  0.387097   0.387097  0.387097  0.387097       5        5   2  25515.991\n",
       "22  0.419355   0.419355  0.419355  0.419355       5        5  10  25041.992\n",
       "23  0.451613   0.451613  0.451613  0.451613       5        5  50  24804.995\n",
       "24  0.451613   0.451613  0.451613  0.451613      20        2   1  34167.985\n",
       "25  0.451613   0.451613  0.451613  0.451613      20        2   2  34236.989\n",
       "26  0.387097   0.387097  0.387097  0.387097      20        2  10  34212.985\n",
       "27  0.451613   0.451613  0.451613  0.451613      20        2  50  33928.989\n",
       "28  0.451613   0.451613  0.451613  0.451613      20        3   1  32621.989\n",
       "29  0.451613   0.451613  0.451613  0.451613      20        3   2  32610.989\n",
       "30  0.451613   0.451613  0.451613  0.451613      20        3  10  32647.985\n",
       "31  0.419355   0.419355  0.419355  0.419355      20        3  50  32673.991\n",
       "32  0.387097   0.387097  0.387097  0.387097      20        5   1  30411.988\n",
       "33  0.387097   0.387097  0.387097  0.387097      20        5   2  30356.990\n",
       "34  0.483871   0.483871  0.483871  0.483871      20        5  10  30400.989\n",
       "35  0.483871   0.483871  0.483871  0.483871      20        5  50  30640.994\n",
       "36  0.387097   0.387097  0.387097  0.387097     100        2   1  61473.603\n",
       "37  0.322581   0.322581  0.322581  0.322581     100        2   2  64542.468\n",
       "38  0.290323   0.290323  0.290323  0.290323     100        2  10  61654.838\n",
       "39  0.419355   0.419355  0.419355  0.419355     100        2  50  61357.697\n",
       "40  0.387097   0.387097  0.387097  0.387097     100        3   1  59763.584\n",
       "41  0.387097   0.387097  0.387097  0.387097     100        3   2  59669.064\n",
       "42  0.419355   0.419355  0.419355  0.419355     100        3  10  60138.295\n",
       "43  0.419355   0.419355  0.419355  0.419355     100        3  50  59851.547\n",
       "44  0.387097   0.387097  0.387097  0.387097     100        5   1  57263.961\n",
       "45  0.322581   0.322581  0.322581  0.322581     100        5   2  57751.166\n",
       "46  0.322581   0.322581  0.322581  0.322581     100        5  10  71454.167\n",
       "47  0.322581   0.322581  0.322581  0.322581     100        5  50  74391.739"
      ]
     },
     "execution_count": 31,
     "metadata": {},
     "output_type": "execute_result"
    }
   ],
   "source": [
    "df_res = pd.DataFrame(res_val, columns=[\"acc\", \"precision\", \"f1\", \"recall\"])\n",
    "\n",
    "df_res[[\"nclust\", \"sliding\", \"k\"]] = conf\n",
    "\n",
    "df_res[\"t\"] = res_t\n",
    "\n",
    "df_res[\"t\"] += 15605\n",
    "\n",
    "df_res.to_csv(\"Animals search multiple rappresentation precision 5.csv\", index=None)\n",
    "\n",
    "df_res"
   ]
  },
  {
   "cell_type": "code",
   "execution_count": 32,
   "metadata": {},
   "outputs": [
    {
     "data": {
      "text/html": [
       "<div>\n",
       "<style scoped>\n",
       "    .dataframe tbody tr th:only-of-type {\n",
       "        vertical-align: middle;\n",
       "    }\n",
       "\n",
       "    .dataframe tbody tr th {\n",
       "        vertical-align: top;\n",
       "    }\n",
       "\n",
       "    .dataframe thead th {\n",
       "        text-align: right;\n",
       "    }\n",
       "</style>\n",
       "<table border=\"1\" class=\"dataframe\">\n",
       "  <thead>\n",
       "    <tr style=\"text-align: right;\">\n",
       "      <th></th>\n",
       "      <th>acc</th>\n",
       "      <th>precision</th>\n",
       "      <th>f1</th>\n",
       "      <th>recall</th>\n",
       "      <th>nclust</th>\n",
       "      <th>sliding</th>\n",
       "      <th>k</th>\n",
       "      <th>t</th>\n",
       "    </tr>\n",
       "  </thead>\n",
       "  <tbody>\n",
       "    <tr>\n",
       "      <th>7</th>\n",
       "      <td>0.677419</td>\n",
       "      <td>0.677419</td>\n",
       "      <td>0.677419</td>\n",
       "      <td>0.677419</td>\n",
       "      <td>2</td>\n",
       "      <td>3</td>\n",
       "      <td>50</td>\n",
       "      <td>17109.991</td>\n",
       "    </tr>\n",
       "    <tr>\n",
       "      <th>2</th>\n",
       "      <td>0.548387</td>\n",
       "      <td>0.548387</td>\n",
       "      <td>0.548387</td>\n",
       "      <td>0.548387</td>\n",
       "      <td>2</td>\n",
       "      <td>2</td>\n",
       "      <td>10</td>\n",
       "      <td>17673.994</td>\n",
       "    </tr>\n",
       "    <tr>\n",
       "      <th>6</th>\n",
       "      <td>0.548387</td>\n",
       "      <td>0.548387</td>\n",
       "      <td>0.548387</td>\n",
       "      <td>0.548387</td>\n",
       "      <td>2</td>\n",
       "      <td>3</td>\n",
       "      <td>10</td>\n",
       "      <td>17156.005</td>\n",
       "    </tr>\n",
       "    <tr>\n",
       "      <th>3</th>\n",
       "      <td>0.516129</td>\n",
       "      <td>0.516129</td>\n",
       "      <td>0.516129</td>\n",
       "      <td>0.516129</td>\n",
       "      <td>2</td>\n",
       "      <td>2</td>\n",
       "      <td>50</td>\n",
       "      <td>17558.998</td>\n",
       "    </tr>\n",
       "    <tr>\n",
       "      <th>10</th>\n",
       "      <td>0.516129</td>\n",
       "      <td>0.516129</td>\n",
       "      <td>0.516129</td>\n",
       "      <td>0.516129</td>\n",
       "      <td>2</td>\n",
       "      <td>5</td>\n",
       "      <td>10</td>\n",
       "      <td>16536.001</td>\n",
       "    </tr>\n",
       "  </tbody>\n",
       "</table>\n",
       "</div>"
      ],
      "text/plain": [
       "         acc  precision        f1    recall  nclust  sliding   k          t\n",
       "7   0.677419   0.677419  0.677419  0.677419       2        3  50  17109.991\n",
       "2   0.548387   0.548387  0.548387  0.548387       2        2  10  17673.994\n",
       "6   0.548387   0.548387  0.548387  0.548387       2        3  10  17156.005\n",
       "3   0.516129   0.516129  0.516129  0.516129       2        2  50  17558.998\n",
       "10  0.516129   0.516129  0.516129  0.516129       2        5  10  16536.001"
      ]
     },
     "execution_count": 32,
     "metadata": {},
     "output_type": "execute_result"
    }
   ],
   "source": [
    "df_res.sort_values(by=\"acc\", ascending=False).head()"
   ]
  },
  {
   "cell_type": "code",
   "execution_count": null,
   "metadata": {},
   "outputs": [],
   "source": [
    "from sklearn.tree import DecisionTreeClassifier\n",
    "from sklearn.ensemble import RandomForestClassifier\n",
    "from sklearn.model_selection import GridSearchCV\n",
    "\n",
    "tree_para = {'n_estimators':range(100, 1500, 300),\n",
    "             'max_depth':range(2, 18, 3)}\n",
    "gs = GridSearchCV(RandomForestClassifier(), tree_para, cv=10, n_jobs=12, verbose=3)\n",
    "result = gs.fit(X_train, y_train)\n",
    "\n",
    "report(gs.cv_results_, n_top=1)"
   ]
  },
  {
   "cell_type": "code",
   "execution_count": null,
   "metadata": {},
   "outputs": [],
   "source": [
    "from sklearn.ensemble import RandomForestClassifier\n",
    "\n",
    "clf = RandomForestClassifier(max_depth=2, random_state=3, n_jobs=-1, n_estimators=400)\n",
    "\n",
    "clf.fit(X_train, y_train)\n",
    "y_pred = clf.predict(X_test)\n",
    "\n",
    "from sklearn.metrics import classification_report\n",
    "\n",
    "print(classification_report(y_test, y_pred))"
   ]
  },
  {
   "cell_type": "code",
   "execution_count": null,
   "metadata": {},
   "outputs": [],
   "source": []
  },
  {
   "cell_type": "code",
   "execution_count": null,
   "metadata": {},
   "outputs": [],
   "source": [
    "print(classification_report(y_test, result.best_estimator_.fit(X_train, y_train).predict(X_test)))"
   ]
  }
 ],
 "metadata": {
  "kernelspec": {
   "display_name": "Python 3 (ipykernel)",
   "language": "python",
   "name": "python3"
  },
  "language_info": {
   "codemirror_mode": {
    "name": "ipython",
    "version": 3
   },
   "file_extension": ".py",
   "mimetype": "text/x-python",
   "name": "python",
   "nbconvert_exporter": "python",
   "pygments_lexer": "ipython3",
   "version": "3.7.6"
  }
 },
 "nbformat": 4,
 "nbformat_minor": 1
}
