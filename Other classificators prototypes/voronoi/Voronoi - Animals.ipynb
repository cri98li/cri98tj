{
 "cells": [
  {
   "cell_type": "code",
   "execution_count": null,
   "metadata": {
    "collapsed": true,
    "pycharm": {
     "name": "#%%\n"
    }
   },
   "outputs": [],
   "source": []
  },
  {
   "cell_type": "code",
   "execution_count": null,
   "outputs": [],
   "source": [
    "import geolib.geohash\n",
    "import numpy as np\n",
    "from sklearn.ensemble import RandomForestClassifier\n",
    "from sklearn.metrics import classification_report\n",
    "import pandas as pd\n",
    "from tqdm.auto import tqdm\n",
    "from cri98tj.partitioners.Geohash_partitioner import Geohash_partitioner\n",
    "from cri98tj.normalizers.FirstPoint_normalizer import FirstPoint_normalizer\n",
    "from cri98tj.selectors.RandomInformationGain_selector import RandomInformationGain_selector\n",
    "from cri98tj.distancers.Euclidean_distancer import Euclidean_distancer\n",
    "from sklearn.model_selection import train_test_split\n",
    "from cri98tj.distancers.Euclidean_distancer import euclideanBestFitting"
   ],
   "metadata": {
    "collapsed": false,
    "pycharm": {
     "name": "#%%\n",
     "is_executing": true
    }
   }
  },
  {
   "cell_type": "code",
   "execution_count": 3,
   "outputs": [
    {
     "data": {
      "text/plain": "   tid class       c1       c2   t\n0    1     D  50.1066  3.79665   0\n1    1     D  50.1045  3.79455   4\n2    1     D  50.1111  3.79845   7\n3    1     D  50.1072  3.79845   9\n4    1     D  50.1132  3.79965  15",
      "text/html": "<div>\n<style scoped>\n    .dataframe tbody tr th:only-of-type {\n        vertical-align: middle;\n    }\n\n    .dataframe tbody tr th {\n        vertical-align: top;\n    }\n\n    .dataframe thead th {\n        text-align: right;\n    }\n</style>\n<table border=\"1\" class=\"dataframe\">\n  <thead>\n    <tr style=\"text-align: right;\">\n      <th></th>\n      <th>tid</th>\n      <th>class</th>\n      <th>c1</th>\n      <th>c2</th>\n      <th>t</th>\n    </tr>\n  </thead>\n  <tbody>\n    <tr>\n      <th>0</th>\n      <td>1</td>\n      <td>D</td>\n      <td>50.1066</td>\n      <td>3.79665</td>\n      <td>0</td>\n    </tr>\n    <tr>\n      <th>1</th>\n      <td>1</td>\n      <td>D</td>\n      <td>50.1045</td>\n      <td>3.79455</td>\n      <td>4</td>\n    </tr>\n    <tr>\n      <th>2</th>\n      <td>1</td>\n      <td>D</td>\n      <td>50.1111</td>\n      <td>3.79845</td>\n      <td>7</td>\n    </tr>\n    <tr>\n      <th>3</th>\n      <td>1</td>\n      <td>D</td>\n      <td>50.1072</td>\n      <td>3.79845</td>\n      <td>9</td>\n    </tr>\n    <tr>\n      <th>4</th>\n      <td>1</td>\n      <td>D</td>\n      <td>50.1132</td>\n      <td>3.79965</td>\n      <td>15</td>\n    </tr>\n  </tbody>\n</table>\n</div>"
     },
     "execution_count": 3,
     "metadata": {},
     "output_type": "execute_result"
    }
   ],
   "source": [
    "df_original = pd.read_csv('../../examples/Animals Dataset/data/animals_preapred.zip').sort_values(by=[\"tid\", \"t\"])[[\"tid\", \"class\", \"c1\", \"c2\", \"t\"]]\n",
    "\n",
    "df_original.head()"
   ],
   "metadata": {
    "collapsed": false,
    "pycharm": {
     "name": "#%%\n"
    }
   }
  },
  {
   "cell_type": "code",
   "execution_count": 4,
   "outputs": [],
   "source": [
    "tid_train, tid_test, _, _ = train_test_split(df_original.groupby(by=[\"tid\"]).max().reset_index()[\"tid\"],\n",
    "                                                        df_original.groupby(by=[\"tid\"]).max().reset_index()[\"class\"],\n",
    "                                                        test_size=.3,\n",
    "                                                        stratify=df_original.groupby(by=[\"tid\"]).max().reset_index()[\"class\"],\n",
    "                                                        random_state=3)\n",
    "\n",
    "df = df_original.copy()"
   ],
   "metadata": {
    "collapsed": false,
    "pycharm": {
     "name": "#%%\n"
    }
   }
  },
  {
   "cell_type": "code",
   "execution_count": 11,
   "outputs": [
    {
     "data": {
      "text/plain": "       tid        date         t          c1         c2  signal  heading  \\\n0        1  1970-01-01  01:00:00  50106600.0  3796650.0       0        0   \n1        1  1970-01-01  01:00:04  50104500.0  3794550.0       0        0   \n2        1  1970-01-01  01:00:07  50111100.0  3798450.0       0        0   \n3        1  1970-01-01  01:00:09  50107200.0  3798450.0       0        0   \n4        1  1970-01-01  01:00:15  50113200.0  3799650.0       0        0   \n...    ...         ...       ...         ...        ...     ...      ...   \n14863  101  1970-01-01  01:04:20  50176800.0  3761850.0       0        0   \n14864  101  1970-01-01  01:04:22  50176500.0  3760950.0       0        0   \n14865  101  1970-01-01  01:04:24  50175300.0  3760050.0       0        0   \n14866  101  1970-01-01  01:04:26  50171700.0  3765450.0       0        0   \n14867  101  1970-01-01  01:04:28  50171700.0  3765750.0       0        0   \n\n       quality  status  delta  \n0            3       2      0  \n1            3       2      0  \n2            3       2      0  \n3            3       2      0  \n4            3       2      0  \n...        ...     ...    ...  \n14863        3       2      0  \n14864        3       2      0  \n14865        3       2      0  \n14866        3       2      0  \n14867        3       2      0  \n\n[10600 rows x 10 columns]",
      "text/html": "<div>\n<style scoped>\n    .dataframe tbody tr th:only-of-type {\n        vertical-align: middle;\n    }\n\n    .dataframe tbody tr th {\n        vertical-align: top;\n    }\n\n    .dataframe thead th {\n        text-align: right;\n    }\n</style>\n<table border=\"1\" class=\"dataframe\">\n  <thead>\n    <tr style=\"text-align: right;\">\n      <th></th>\n      <th>tid</th>\n      <th>date</th>\n      <th>t</th>\n      <th>c1</th>\n      <th>c2</th>\n      <th>signal</th>\n      <th>heading</th>\n      <th>quality</th>\n      <th>status</th>\n      <th>delta</th>\n    </tr>\n  </thead>\n  <tbody>\n    <tr>\n      <th>0</th>\n      <td>1</td>\n      <td>1970-01-01</td>\n      <td>01:00:00</td>\n      <td>50106600.0</td>\n      <td>3796650.0</td>\n      <td>0</td>\n      <td>0</td>\n      <td>3</td>\n      <td>2</td>\n      <td>0</td>\n    </tr>\n    <tr>\n      <th>1</th>\n      <td>1</td>\n      <td>1970-01-01</td>\n      <td>01:00:04</td>\n      <td>50104500.0</td>\n      <td>3794550.0</td>\n      <td>0</td>\n      <td>0</td>\n      <td>3</td>\n      <td>2</td>\n      <td>0</td>\n    </tr>\n    <tr>\n      <th>2</th>\n      <td>1</td>\n      <td>1970-01-01</td>\n      <td>01:00:07</td>\n      <td>50111100.0</td>\n      <td>3798450.0</td>\n      <td>0</td>\n      <td>0</td>\n      <td>3</td>\n      <td>2</td>\n      <td>0</td>\n    </tr>\n    <tr>\n      <th>3</th>\n      <td>1</td>\n      <td>1970-01-01</td>\n      <td>01:00:09</td>\n      <td>50107200.0</td>\n      <td>3798450.0</td>\n      <td>0</td>\n      <td>0</td>\n      <td>3</td>\n      <td>2</td>\n      <td>0</td>\n    </tr>\n    <tr>\n      <th>4</th>\n      <td>1</td>\n      <td>1970-01-01</td>\n      <td>01:00:15</td>\n      <td>50113200.0</td>\n      <td>3799650.0</td>\n      <td>0</td>\n      <td>0</td>\n      <td>3</td>\n      <td>2</td>\n      <td>0</td>\n    </tr>\n    <tr>\n      <th>...</th>\n      <td>...</td>\n      <td>...</td>\n      <td>...</td>\n      <td>...</td>\n      <td>...</td>\n      <td>...</td>\n      <td>...</td>\n      <td>...</td>\n      <td>...</td>\n      <td>...</td>\n    </tr>\n    <tr>\n      <th>14863</th>\n      <td>101</td>\n      <td>1970-01-01</td>\n      <td>01:04:20</td>\n      <td>50176800.0</td>\n      <td>3761850.0</td>\n      <td>0</td>\n      <td>0</td>\n      <td>3</td>\n      <td>2</td>\n      <td>0</td>\n    </tr>\n    <tr>\n      <th>14864</th>\n      <td>101</td>\n      <td>1970-01-01</td>\n      <td>01:04:22</td>\n      <td>50176500.0</td>\n      <td>3760950.0</td>\n      <td>0</td>\n      <td>0</td>\n      <td>3</td>\n      <td>2</td>\n      <td>0</td>\n    </tr>\n    <tr>\n      <th>14865</th>\n      <td>101</td>\n      <td>1970-01-01</td>\n      <td>01:04:24</td>\n      <td>50175300.0</td>\n      <td>3760050.0</td>\n      <td>0</td>\n      <td>0</td>\n      <td>3</td>\n      <td>2</td>\n      <td>0</td>\n    </tr>\n    <tr>\n      <th>14866</th>\n      <td>101</td>\n      <td>1970-01-01</td>\n      <td>01:04:26</td>\n      <td>50171700.0</td>\n      <td>3765450.0</td>\n      <td>0</td>\n      <td>0</td>\n      <td>3</td>\n      <td>2</td>\n      <td>0</td>\n    </tr>\n    <tr>\n      <th>14867</th>\n      <td>101</td>\n      <td>1970-01-01</td>\n      <td>01:04:28</td>\n      <td>50171700.0</td>\n      <td>3765750.0</td>\n      <td>0</td>\n      <td>0</td>\n      <td>3</td>\n      <td>2</td>\n      <td>0</td>\n    </tr>\n  </tbody>\n</table>\n<p>10600 rows × 10 columns</p>\n</div>"
     },
     "execution_count": 11,
     "metadata": {},
     "output_type": "execute_result"
    }
   ],
   "source": [
    "from datetime import datetime\n",
    "\n",
    "df_train = df_original[df_original.tid.isin(tid_train)].copy()\n",
    "\n",
    "df_train[\"date\"] = df_train.t.apply(lambda x: datetime.fromtimestamp(x).strftime(\"%Y-%m-%d\"))\n",
    "df_train.t = df_train.t.apply(lambda x: datetime.fromtimestamp(x).strftime(\"%H:%M:%S\"))\n",
    "df_train.c1 = df_train.c1.apply(lambda x: x*(10**6))\n",
    "df_train.c2 = df_train.c2.apply(lambda x: x*(10**6))\n",
    "\n",
    "#campi fittizzi\n",
    "df_train[\"signal\"] = 0\n",
    "df_train[\"heading\"] = 0\n",
    "df_train[\"quality\"] = 3\n",
    "df_train[\"status\"] = 2\n",
    "df_train[\"delta\"] = 0\n",
    "\n",
    "\n",
    "df_train = df_train[[\"tid\", \"date\", \"t\", \"c1\", \"c2\", \"signal\", \"heading\", \"quality\", \"status\", \"delta\"]]\n",
    "\n",
    "df_train"
   ],
   "metadata": {
    "collapsed": false,
    "pycharm": {
     "name": "#%%\n"
    }
   }
  },
  {
   "cell_type": "code",
   "execution_count": 12,
   "outputs": [],
   "source": [
    "df_train.to_csv(\"gps_.csv\", index=None, header=None)"
   ],
   "metadata": {
    "collapsed": false,
    "pycharm": {
     "name": "#%%\n"
    }
   }
  },
  {
   "cell_type": "code",
   "execution_count": 13,
   "outputs": [
    {
     "name": "stderr",
     "output_type": "stream",
     "text": [
      "\"cat\" non Š riconosciuto come comando interno o esterno,\n",
      " un programma eseguibile o un file batch.\n"
     ]
    }
   ],
   "source": [
    "!cat gps_.csv | sort -t',' -k1 -k2 -k3 -k9 -m | gzip -c > gps_sorted.csv.gz"
   ],
   "metadata": {
    "collapsed": false,
    "pycharm": {
     "name": "#%%\n"
    }
   }
  },
  {
   "cell_type": "code",
   "execution_count": null,
   "outputs": [],
   "source": [],
   "metadata": {
    "collapsed": false,
    "pycharm": {
     "name": "#%%\n"
    }
   }
  },
  {
   "cell_type": "code",
   "execution_count": null,
   "outputs": [],
   "source": [],
   "metadata": {
    "collapsed": false,
    "pycharm": {
     "name": "#%%\n"
    }
   }
  },
  {
   "cell_type": "code",
   "execution_count": 9,
   "outputs": [
    {
     "data": {
      "text/plain": "   tid class       c1       c2   t\n0    1     D  50.1066  3.79665   0\n1    1     D  50.1045  3.79455   4\n2    1     D  50.1111  3.79845   7\n3    1     D  50.1072  3.79845   9\n4    1     D  50.1132  3.79965  15",
      "text/html": "<div>\n<style scoped>\n    .dataframe tbody tr th:only-of-type {\n        vertical-align: middle;\n    }\n\n    .dataframe tbody tr th {\n        vertical-align: top;\n    }\n\n    .dataframe thead th {\n        text-align: right;\n    }\n</style>\n<table border=\"1\" class=\"dataframe\">\n  <thead>\n    <tr style=\"text-align: right;\">\n      <th></th>\n      <th>tid</th>\n      <th>class</th>\n      <th>c1</th>\n      <th>c2</th>\n      <th>t</th>\n    </tr>\n  </thead>\n  <tbody>\n    <tr>\n      <th>0</th>\n      <td>1</td>\n      <td>D</td>\n      <td>50.1066</td>\n      <td>3.79665</td>\n      <td>0</td>\n    </tr>\n    <tr>\n      <th>1</th>\n      <td>1</td>\n      <td>D</td>\n      <td>50.1045</td>\n      <td>3.79455</td>\n      <td>4</td>\n    </tr>\n    <tr>\n      <th>2</th>\n      <td>1</td>\n      <td>D</td>\n      <td>50.1111</td>\n      <td>3.79845</td>\n      <td>7</td>\n    </tr>\n    <tr>\n      <th>3</th>\n      <td>1</td>\n      <td>D</td>\n      <td>50.1072</td>\n      <td>3.79845</td>\n      <td>9</td>\n    </tr>\n    <tr>\n      <th>4</th>\n      <td>1</td>\n      <td>D</td>\n      <td>50.1132</td>\n      <td>3.79965</td>\n      <td>15</td>\n    </tr>\n  </tbody>\n</table>\n</div>"
     },
     "execution_count": 9,
     "metadata": {},
     "output_type": "execute_result"
    }
   ],
   "source": [
    "\n",
    "df_train.head()"
   ],
   "metadata": {
    "collapsed": false,
    "pycharm": {
     "name": "#%%\n"
    }
   }
  }
 ],
 "metadata": {
  "kernelspec": {
   "display_name": "Python 3",
   "language": "python",
   "name": "python3"
  },
  "language_info": {
   "codemirror_mode": {
    "name": "ipython",
    "version": 2
   },
   "file_extension": ".py",
   "mimetype": "text/x-python",
   "name": "python",
   "nbconvert_exporter": "python",
   "pygments_lexer": "ipython2",
   "version": "2.7.6"
  }
 },
 "nbformat": 4,
 "nbformat_minor": 0
}