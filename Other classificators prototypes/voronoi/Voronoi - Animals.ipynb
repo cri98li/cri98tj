{
 "cells": [
  {
   "cell_type": "code",
   "execution_count": null,
   "metadata": {
    "collapsed": true,
    "pycharm": {
     "name": "#%%\n"
    }
   },
   "outputs": [],
   "source": []
  },
  {
   "cell_type": "code",
   "execution_count": 1,
   "outputs": [],
   "source": [
    "import geolib.geohash\n",
    "import numpy as np\n",
    "from sklearn.ensemble import RandomForestClassifier\n",
    "from sklearn.metrics import classification_report\n",
    "import pandas as pd\n",
    "from tqdm.auto import tqdm\n",
    "from cri98tj.partitioners.Geohash_partitioner import Geohash_partitioner\n",
    "from cri98tj.normalizers.FirstPoint_normalizer import FirstPoint_normalizer\n",
    "from cri98tj.selectors.RandomInformationGain_selector import RandomInformationGain_selector\n",
    "from cri98tj.distancers.Euclidean_distancer import Euclidean_distancer\n",
    "from sklearn.model_selection import train_test_split\n",
    "from cri98tj.distancers.Euclidean_distancer import euclideanBestFitting"
   ],
   "metadata": {
    "collapsed": false,
    "pycharm": {
     "name": "#%%\n"
    }
   }
  },
  {
   "cell_type": "code",
   "execution_count": 3,
   "outputs": [
    {
     "data": {
      "text/plain": "   tid class       c1       c2   t\n0    1     D  50.1066  3.79665   0\n1    1     D  50.1045  3.79455   4\n2    1     D  50.1111  3.79845   7\n3    1     D  50.1072  3.79845   9\n4    1     D  50.1132  3.79965  15",
      "text/html": "<div>\n<style scoped>\n    .dataframe tbody tr th:only-of-type {\n        vertical-align: middle;\n    }\n\n    .dataframe tbody tr th {\n        vertical-align: top;\n    }\n\n    .dataframe thead th {\n        text-align: right;\n    }\n</style>\n<table border=\"1\" class=\"dataframe\">\n  <thead>\n    <tr style=\"text-align: right;\">\n      <th></th>\n      <th>tid</th>\n      <th>class</th>\n      <th>c1</th>\n      <th>c2</th>\n      <th>t</th>\n    </tr>\n  </thead>\n  <tbody>\n    <tr>\n      <th>0</th>\n      <td>1</td>\n      <td>D</td>\n      <td>50.1066</td>\n      <td>3.79665</td>\n      <td>0</td>\n    </tr>\n    <tr>\n      <th>1</th>\n      <td>1</td>\n      <td>D</td>\n      <td>50.1045</td>\n      <td>3.79455</td>\n      <td>4</td>\n    </tr>\n    <tr>\n      <th>2</th>\n      <td>1</td>\n      <td>D</td>\n      <td>50.1111</td>\n      <td>3.79845</td>\n      <td>7</td>\n    </tr>\n    <tr>\n      <th>3</th>\n      <td>1</td>\n      <td>D</td>\n      <td>50.1072</td>\n      <td>3.79845</td>\n      <td>9</td>\n    </tr>\n    <tr>\n      <th>4</th>\n      <td>1</td>\n      <td>D</td>\n      <td>50.1132</td>\n      <td>3.79965</td>\n      <td>15</td>\n    </tr>\n  </tbody>\n</table>\n</div>"
     },
     "execution_count": 3,
     "metadata": {},
     "output_type": "execute_result"
    }
   ],
   "source": [
    "df_original = pd.read_csv('../../examples/Animals Dataset/data/animals_preapred.zip').sort_values(by=[\"tid\", \"t\"])[[\"tid\", \"class\", \"c1\", \"c2\", \"t\"]]\n",
    "\n",
    "df_original.head()"
   ],
   "metadata": {
    "collapsed": false,
    "pycharm": {
     "name": "#%%\n"
    }
   }
  },
  {
   "cell_type": "code",
   "execution_count": 4,
   "outputs": [],
   "source": [
    "tid_train, tid_test, _, _ = train_test_split(df_original.groupby(by=[\"tid\"]).max().reset_index()[\"tid\"],\n",
    "                                                        df_original.groupby(by=[\"tid\"]).max().reset_index()[\"class\"],\n",
    "                                                        test_size=.3,\n",
    "                                                        stratify=df_original.groupby(by=[\"tid\"]).max().reset_index()[\"class\"],\n",
    "                                                        random_state=3)\n",
    "\n",
    "df = df_original.copy()"
   ],
   "metadata": {
    "collapsed": false,
    "pycharm": {
     "name": "#%%\n"
    }
   }
  },
  {
   "cell_type": "code",
   "execution_count": 5,
   "outputs": [
    {
     "data": {
      "text/plain": "       tid        date         t          c1         c2  signal  heading  \\\n0        1  1970-01-01  01:00:00  50106600.0  3796650.0       0        0   \n1        1  1970-01-01  01:00:04  50104500.0  3794550.0       0        0   \n2        1  1970-01-01  01:00:07  50111100.0  3798450.0       0        0   \n3        1  1970-01-01  01:00:09  50107200.0  3798450.0       0        0   \n4        1  1970-01-01  01:00:15  50113200.0  3799650.0       0        0   \n...    ...         ...       ...         ...        ...     ...      ...   \n14863  101  1970-01-01  01:04:20  50176800.0  3761850.0       0        0   \n14864  101  1970-01-01  01:04:22  50176500.0  3760950.0       0        0   \n14865  101  1970-01-01  01:04:24  50175300.0  3760050.0       0        0   \n14866  101  1970-01-01  01:04:26  50171700.0  3765450.0       0        0   \n14867  101  1970-01-01  01:04:28  50171700.0  3765750.0       0        0   \n\n       quality  status  delta  \n0            3       2      0  \n1            3       2      0  \n2            3       2      0  \n3            3       2      0  \n4            3       2      0  \n...        ...     ...    ...  \n14863        3       2      0  \n14864        3       2      0  \n14865        3       2      0  \n14866        3       2      0  \n14867        3       2      0  \n\n[10600 rows x 10 columns]",
      "text/html": "<div>\n<style scoped>\n    .dataframe tbody tr th:only-of-type {\n        vertical-align: middle;\n    }\n\n    .dataframe tbody tr th {\n        vertical-align: top;\n    }\n\n    .dataframe thead th {\n        text-align: right;\n    }\n</style>\n<table border=\"1\" class=\"dataframe\">\n  <thead>\n    <tr style=\"text-align: right;\">\n      <th></th>\n      <th>tid</th>\n      <th>date</th>\n      <th>t</th>\n      <th>c1</th>\n      <th>c2</th>\n      <th>signal</th>\n      <th>heading</th>\n      <th>quality</th>\n      <th>status</th>\n      <th>delta</th>\n    </tr>\n  </thead>\n  <tbody>\n    <tr>\n      <th>0</th>\n      <td>1</td>\n      <td>1970-01-01</td>\n      <td>01:00:00</td>\n      <td>50106600.0</td>\n      <td>3796650.0</td>\n      <td>0</td>\n      <td>0</td>\n      <td>3</td>\n      <td>2</td>\n      <td>0</td>\n    </tr>\n    <tr>\n      <th>1</th>\n      <td>1</td>\n      <td>1970-01-01</td>\n      <td>01:00:04</td>\n      <td>50104500.0</td>\n      <td>3794550.0</td>\n      <td>0</td>\n      <td>0</td>\n      <td>3</td>\n      <td>2</td>\n      <td>0</td>\n    </tr>\n    <tr>\n      <th>2</th>\n      <td>1</td>\n      <td>1970-01-01</td>\n      <td>01:00:07</td>\n      <td>50111100.0</td>\n      <td>3798450.0</td>\n      <td>0</td>\n      <td>0</td>\n      <td>3</td>\n      <td>2</td>\n      <td>0</td>\n    </tr>\n    <tr>\n      <th>3</th>\n      <td>1</td>\n      <td>1970-01-01</td>\n      <td>01:00:09</td>\n      <td>50107200.0</td>\n      <td>3798450.0</td>\n      <td>0</td>\n      <td>0</td>\n      <td>3</td>\n      <td>2</td>\n      <td>0</td>\n    </tr>\n    <tr>\n      <th>4</th>\n      <td>1</td>\n      <td>1970-01-01</td>\n      <td>01:00:15</td>\n      <td>50113200.0</td>\n      <td>3799650.0</td>\n      <td>0</td>\n      <td>0</td>\n      <td>3</td>\n      <td>2</td>\n      <td>0</td>\n    </tr>\n    <tr>\n      <th>...</th>\n      <td>...</td>\n      <td>...</td>\n      <td>...</td>\n      <td>...</td>\n      <td>...</td>\n      <td>...</td>\n      <td>...</td>\n      <td>...</td>\n      <td>...</td>\n      <td>...</td>\n    </tr>\n    <tr>\n      <th>14863</th>\n      <td>101</td>\n      <td>1970-01-01</td>\n      <td>01:04:20</td>\n      <td>50176800.0</td>\n      <td>3761850.0</td>\n      <td>0</td>\n      <td>0</td>\n      <td>3</td>\n      <td>2</td>\n      <td>0</td>\n    </tr>\n    <tr>\n      <th>14864</th>\n      <td>101</td>\n      <td>1970-01-01</td>\n      <td>01:04:22</td>\n      <td>50176500.0</td>\n      <td>3760950.0</td>\n      <td>0</td>\n      <td>0</td>\n      <td>3</td>\n      <td>2</td>\n      <td>0</td>\n    </tr>\n    <tr>\n      <th>14865</th>\n      <td>101</td>\n      <td>1970-01-01</td>\n      <td>01:04:24</td>\n      <td>50175300.0</td>\n      <td>3760050.0</td>\n      <td>0</td>\n      <td>0</td>\n      <td>3</td>\n      <td>2</td>\n      <td>0</td>\n    </tr>\n    <tr>\n      <th>14866</th>\n      <td>101</td>\n      <td>1970-01-01</td>\n      <td>01:04:26</td>\n      <td>50171700.0</td>\n      <td>3765450.0</td>\n      <td>0</td>\n      <td>0</td>\n      <td>3</td>\n      <td>2</td>\n      <td>0</td>\n    </tr>\n    <tr>\n      <th>14867</th>\n      <td>101</td>\n      <td>1970-01-01</td>\n      <td>01:04:28</td>\n      <td>50171700.0</td>\n      <td>3765750.0</td>\n      <td>0</td>\n      <td>0</td>\n      <td>3</td>\n      <td>2</td>\n      <td>0</td>\n    </tr>\n  </tbody>\n</table>\n<p>10600 rows × 10 columns</p>\n</div>"
     },
     "execution_count": 5,
     "metadata": {},
     "output_type": "execute_result"
    }
   ],
   "source": [
    "from datetime import datetime\n",
    "\n",
    "df_train = df_original[df_original.tid.isin(tid_train)].copy()\n",
    "\n",
    "df_train[\"date\"] = df_train.t.apply(lambda x: datetime.fromtimestamp(x).strftime(\"%Y-%m-%d\"))\n",
    "df_train.t = df_train.t.apply(lambda x: datetime.fromtimestamp(x).strftime(\"%H:%M:%S\"))\n",
    "df_train.c1 = df_train.c1.apply(lambda x: x*(10**6))\n",
    "df_train.c2 = df_train.c2.apply(lambda x: x*(10**6))\n",
    "\n",
    "#campi fittizzi\n",
    "df_train[\"signal\"] = 0\n",
    "df_train[\"heading\"] = 0\n",
    "df_train[\"quality\"] = 3\n",
    "df_train[\"status\"] = 2\n",
    "df_train[\"delta\"] = 0\n",
    "\n",
    "\n",
    "df_train = df_train[[\"tid\", \"date\", \"t\", \"c1\", \"c2\", \"signal\", \"heading\", \"quality\", \"status\", \"delta\"]]\n",
    "\n",
    "df_train"
   ],
   "metadata": {
    "collapsed": false,
    "pycharm": {
     "name": "#%%\n"
    }
   }
  },
  {
   "cell_type": "code",
   "execution_count": 6,
   "outputs": [],
   "source": [
    "df_train.to_csv(\"gps_.csv\", index=None, header=None)"
   ],
   "metadata": {
    "collapsed": false,
    "pycharm": {
     "name": "#%%\n"
    }
   }
  },
  {
   "cell_type": "code",
   "execution_count": 7,
   "outputs": [],
   "source": [
    "!cat gps_.csv | sort -t',' -k1 -k2 -k3 -k9 -m | gzip -c > gps_sorted.csv.gz"
   ],
   "metadata": {
    "collapsed": false,
    "pycharm": {
     "name": "#%%\n"
    }
   }
  },
  {
   "cell_type": "code",
   "execution_count": 7,
   "outputs": [],
   "source": [],
   "metadata": {
    "collapsed": false,
    "pycharm": {
     "name": "#%%\n"
    }
   }
  },
  {
   "cell_type": "code",
   "execution_count": 7,
   "outputs": [],
   "source": [],
   "metadata": {
    "collapsed": false,
    "pycharm": {
     "name": "#%%\n"
    }
   }
  },
  {
   "cell_type": "code",
   "execution_count": 7,
   "outputs": [],
   "source": [],
   "metadata": {
    "collapsed": false,
    "pycharm": {
     "name": "#%%\n"
    }
   }
  },
  {
   "cell_type": "code",
   "execution_count": 7,
   "outputs": [],
   "source": [],
   "metadata": {
    "collapsed": false,
    "pycharm": {
     "name": "#%%\n"
    }
   }
  },
  {
   "cell_type": "code",
   "execution_count": 7,
   "outputs": [],
   "source": [],
   "metadata": {
    "collapsed": false,
    "pycharm": {
     "name": "#%%\n"
    }
   }
  },
  {
   "cell_type": "code",
   "execution_count": 12,
   "outputs": [
    {
     "data": {
      "text/plain": "       tid class       c1       c2    t\n0        1     D  50.1066  3.79665    0\n1        1     D  50.1045  3.79455    4\n2        1     D  50.1111  3.79845    7\n3        1     D  50.1072  3.79845    9\n4        1     D  50.1132  3.79965   15\n...    ...   ...      ...      ...  ...\n14985  102     C  50.1546  3.76005  243\n14986  102     C  50.1540  3.75975  245\n14987  102     C  50.1546  3.76065  247\n14988  102     C  50.1573  3.75855  249\n14989  102     C  50.1579  3.76065  251\n\n[14990 rows x 5 columns]",
      "text/html": "<div>\n<style scoped>\n    .dataframe tbody tr th:only-of-type {\n        vertical-align: middle;\n    }\n\n    .dataframe tbody tr th {\n        vertical-align: top;\n    }\n\n    .dataframe thead th {\n        text-align: right;\n    }\n</style>\n<table border=\"1\" class=\"dataframe\">\n  <thead>\n    <tr style=\"text-align: right;\">\n      <th></th>\n      <th>tid</th>\n      <th>class</th>\n      <th>c1</th>\n      <th>c2</th>\n      <th>t</th>\n    </tr>\n  </thead>\n  <tbody>\n    <tr>\n      <th>0</th>\n      <td>1</td>\n      <td>D</td>\n      <td>50.1066</td>\n      <td>3.79665</td>\n      <td>0</td>\n    </tr>\n    <tr>\n      <th>1</th>\n      <td>1</td>\n      <td>D</td>\n      <td>50.1045</td>\n      <td>3.79455</td>\n      <td>4</td>\n    </tr>\n    <tr>\n      <th>2</th>\n      <td>1</td>\n      <td>D</td>\n      <td>50.1111</td>\n      <td>3.79845</td>\n      <td>7</td>\n    </tr>\n    <tr>\n      <th>3</th>\n      <td>1</td>\n      <td>D</td>\n      <td>50.1072</td>\n      <td>3.79845</td>\n      <td>9</td>\n    </tr>\n    <tr>\n      <th>4</th>\n      <td>1</td>\n      <td>D</td>\n      <td>50.1132</td>\n      <td>3.79965</td>\n      <td>15</td>\n    </tr>\n    <tr>\n      <th>...</th>\n      <td>...</td>\n      <td>...</td>\n      <td>...</td>\n      <td>...</td>\n      <td>...</td>\n    </tr>\n    <tr>\n      <th>14985</th>\n      <td>102</td>\n      <td>C</td>\n      <td>50.1546</td>\n      <td>3.76005</td>\n      <td>243</td>\n    </tr>\n    <tr>\n      <th>14986</th>\n      <td>102</td>\n      <td>C</td>\n      <td>50.1540</td>\n      <td>3.75975</td>\n      <td>245</td>\n    </tr>\n    <tr>\n      <th>14987</th>\n      <td>102</td>\n      <td>C</td>\n      <td>50.1546</td>\n      <td>3.76065</td>\n      <td>247</td>\n    </tr>\n    <tr>\n      <th>14988</th>\n      <td>102</td>\n      <td>C</td>\n      <td>50.1573</td>\n      <td>3.75855</td>\n      <td>249</td>\n    </tr>\n    <tr>\n      <th>14989</th>\n      <td>102</td>\n      <td>C</td>\n      <td>50.1579</td>\n      <td>3.76065</td>\n      <td>251</td>\n    </tr>\n  </tbody>\n</table>\n<p>14990 rows × 5 columns</p>\n</div>"
     },
     "execution_count": 12,
     "metadata": {},
     "output_type": "execute_result"
    }
   ],
   "source": [
    "df"
   ],
   "metadata": {
    "collapsed": false,
    "pycharm": {
     "name": "#%%\n"
    }
   }
  },
  {
   "cell_type": "code",
   "execution_count": 8,
   "outputs": [],
   "source": [
    "import skmob\n",
    "from skmob.preprocessing import filtering, compression\n",
    "import geopandas as gpd"
   ],
   "metadata": {
    "collapsed": false,
    "pycharm": {
     "name": "#%%\n"
    }
   }
  },
  {
   "cell_type": "code",
   "execution_count": 23,
   "outputs": [],
   "source": [
    "tdf = skmob.TrajDataFrame(df.rename(columns={\"c1\": \"lat\", \"c2\": \"lng\"}))\n",
    "tessellation = gpd.read_file(\"voronoi.shp\").reset_index().rename(columns={\"index\": \"tile_ID\"})"
   ],
   "metadata": {
    "collapsed": false,
    "pycharm": {
     "name": "#%%\n"
    }
   }
  },
  {
   "cell_type": "code",
   "execution_count": 24,
   "outputs": [
    {
     "name": "stderr",
     "output_type": "stream",
     "text": [
      "/home/cri98li/Documenti/GitHub/cri98tj/venv/lib/python3.8/site-packages/geopandas/array.py:275: ShapelyDeprecationWarning: The array interface is deprecated and will no longer work in Shapely 2.0. Convert the '.coords' to a numpy array instead.\n",
      "  return GeometryArray(vectorized.points_from_xy(x, y, z), crs=crs)\n",
      "/home/cri98li/Documenti/GitHub/cri98tj/venv/lib/python3.8/site-packages/pyproj/crs/crs.py:130: FutureWarning: '+init=<authority>:<code>' syntax is deprecated. '<authority>:<code>' is the preferred initialization method. When making the change, be mindful of axis order changes: https://pyproj4.github.io/pyproj/stable/gotchas.html#axis-order-changes-in-proj-6\n",
      "  in_crs_string = _prepare_from_proj_string(in_crs_string)\n",
      "/home/cri98li/Documenti/GitHub/cri98tj/venv/lib/python3.8/site-packages/skmob/core/trajectorydataframe.py:322: UserWarning: CRS mismatch between the CRS of left geometries and the CRS of right geometries.\n",
      "Use `to_crs()` to reproject one of the input geometries to match the CRS of the other.\n",
      "\n",
      "Left CRS: +init=epsg:4326 +type=crs\n",
      "Right CRS: None\n",
      "\n",
      "  tile_ids = gpd.sjoin(gdf, tessellation, how=how, op='within')[[constants.TILE_ID]]\n"
     ]
    }
   ],
   "source": [
    "map_tdf = tdf.mapping(tessellation, remove_na=True)"
   ],
   "metadata": {
    "collapsed": false,
    "pycharm": {
     "name": "#%%\n"
    }
   }
  },
  {
   "cell_type": "code",
   "execution_count": 25,
   "outputs": [
    {
     "data": {
      "text/plain": "       tid class      lat      lng    t  tile_ID\n0        1     D  50.1066  3.79665    0      132\n1        1     D  50.1045  3.79455    4      132\n2        1     D  50.1111  3.79845    7      143\n3        1     D  50.1072  3.79845    9      132\n4        1     D  50.1132  3.79965   15      143\n...    ...   ...      ...      ...  ...      ...\n14985  102     C  50.1546  3.76005  243       51\n14986  102     C  50.1540  3.75975  245       51\n14987  102     C  50.1546  3.76065  247       51\n14988  102     C  50.1573  3.75855  249       47\n14989  102     C  50.1579  3.76065  251       47\n\n[14990 rows x 6 columns]",
      "text/html": "<div>\n<style scoped>\n    .dataframe tbody tr th:only-of-type {\n        vertical-align: middle;\n    }\n\n    .dataframe tbody tr th {\n        vertical-align: top;\n    }\n\n    .dataframe thead th {\n        text-align: right;\n    }\n</style>\n<table border=\"1\" class=\"dataframe\">\n  <thead>\n    <tr style=\"text-align: right;\">\n      <th></th>\n      <th>tid</th>\n      <th>class</th>\n      <th>lat</th>\n      <th>lng</th>\n      <th>t</th>\n      <th>tile_ID</th>\n    </tr>\n  </thead>\n  <tbody>\n    <tr>\n      <th>0</th>\n      <td>1</td>\n      <td>D</td>\n      <td>50.1066</td>\n      <td>3.79665</td>\n      <td>0</td>\n      <td>132</td>\n    </tr>\n    <tr>\n      <th>1</th>\n      <td>1</td>\n      <td>D</td>\n      <td>50.1045</td>\n      <td>3.79455</td>\n      <td>4</td>\n      <td>132</td>\n    </tr>\n    <tr>\n      <th>2</th>\n      <td>1</td>\n      <td>D</td>\n      <td>50.1111</td>\n      <td>3.79845</td>\n      <td>7</td>\n      <td>143</td>\n    </tr>\n    <tr>\n      <th>3</th>\n      <td>1</td>\n      <td>D</td>\n      <td>50.1072</td>\n      <td>3.79845</td>\n      <td>9</td>\n      <td>132</td>\n    </tr>\n    <tr>\n      <th>4</th>\n      <td>1</td>\n      <td>D</td>\n      <td>50.1132</td>\n      <td>3.79965</td>\n      <td>15</td>\n      <td>143</td>\n    </tr>\n    <tr>\n      <th>...</th>\n      <td>...</td>\n      <td>...</td>\n      <td>...</td>\n      <td>...</td>\n      <td>...</td>\n      <td>...</td>\n    </tr>\n    <tr>\n      <th>14985</th>\n      <td>102</td>\n      <td>C</td>\n      <td>50.1546</td>\n      <td>3.76005</td>\n      <td>243</td>\n      <td>51</td>\n    </tr>\n    <tr>\n      <th>14986</th>\n      <td>102</td>\n      <td>C</td>\n      <td>50.1540</td>\n      <td>3.75975</td>\n      <td>245</td>\n      <td>51</td>\n    </tr>\n    <tr>\n      <th>14987</th>\n      <td>102</td>\n      <td>C</td>\n      <td>50.1546</td>\n      <td>3.76065</td>\n      <td>247</td>\n      <td>51</td>\n    </tr>\n    <tr>\n      <th>14988</th>\n      <td>102</td>\n      <td>C</td>\n      <td>50.1573</td>\n      <td>3.75855</td>\n      <td>249</td>\n      <td>47</td>\n    </tr>\n    <tr>\n      <th>14989</th>\n      <td>102</td>\n      <td>C</td>\n      <td>50.1579</td>\n      <td>3.76065</td>\n      <td>251</td>\n      <td>47</td>\n    </tr>\n  </tbody>\n</table>\n<p>14990 rows × 6 columns</p>\n</div>"
     },
     "execution_count": 25,
     "metadata": {},
     "output_type": "execute_result"
    }
   ],
   "source": [
    "map_tdf"
   ],
   "metadata": {
    "collapsed": false,
    "pycharm": {
     "name": "#%%\n"
    }
   }
  },
  {
   "cell_type": "code",
   "execution_count": null,
   "outputs": [],
   "source": [],
   "metadata": {
    "collapsed": false,
    "pycharm": {
     "name": "#%%\n"
    }
   }
  }
 ],
 "metadata": {
  "kernelspec": {
   "display_name": "Python 3",
   "language": "python",
   "name": "python3"
  },
  "language_info": {
   "codemirror_mode": {
    "name": "ipython",
    "version": 2
   },
   "file_extension": ".py",
   "mimetype": "text/x-python",
   "name": "python",
   "nbconvert_exporter": "python",
   "pygments_lexer": "ipython2",
   "version": "2.7.6"
  }
 },
 "nbformat": 4,
 "nbformat_minor": 0
}