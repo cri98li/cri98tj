{
 "cells": [
  {
   "cell_type": "code",
   "execution_count": 1,
   "id": "auburn-vienna",
   "metadata": {
    "pycharm": {
     "name": "#%%\n"
    }
   },
   "outputs": [
    {
     "ename": "ModuleNotFoundError",
     "evalue": "No module named 'mrsqm'",
     "output_type": "error",
     "traceback": [
      "\u001b[1;31m---------------------------------------------------------------------------\u001b[0m",
      "\u001b[1;31mModuleNotFoundError\u001b[0m                       Traceback (most recent call last)",
      "Input \u001b[1;32mIn [1]\u001b[0m, in \u001b[0;36m<cell line: 1>\u001b[1;34m()\u001b[0m\n\u001b[1;32m----> 1\u001b[0m \u001b[38;5;28;01mimport\u001b[39;00m \u001b[38;5;21;01mmrsqm\u001b[39;00m\n\u001b[0;32m      2\u001b[0m \u001b[38;5;28;01mimport\u001b[39;00m \u001b[38;5;21;01mnumpy\u001b[39;00m \u001b[38;5;28;01mas\u001b[39;00m \u001b[38;5;21;01mnp\u001b[39;00m\n\u001b[0;32m      3\u001b[0m \u001b[38;5;28;01mimport\u001b[39;00m \u001b[38;5;21;01mpandas\u001b[39;00m \u001b[38;5;28;01mas\u001b[39;00m \u001b[38;5;21;01mpd\u001b[39;00m\n",
      "\u001b[1;31mModuleNotFoundError\u001b[0m: No module named 'mrsqm'"
     ]
    }
   ],
   "source": [
    "import mrsqm\n",
    "import numpy as np\n",
    "import pandas as pd\n",
    "from sklearn import metrics\n",
    "from scipy.interpolate import interp1d\n",
    "import matplotlib.pyplot as plt\n",
    "import timeit"
   ]
  },
  {
   "cell_type": "code",
   "execution_count": 2,
   "id": "3729bcf2",
   "metadata": {},
   "outputs": [
    {
     "name": "stdout",
     "output_type": "stream",
     "text": [
      "Defaulting to user installation because normal site-packages is not writeable\n",
      "Obtaining file:///C:/Users/cri98/Documents/cri98tj/Other%20classificators%20prototypes/mrsqm/mrsqm\n",
      "Installing collected packages: mrsqm\n"
     ]
    },
    {
     "name": "stderr",
     "output_type": "stream",
     "text": [
      "    ERROR: Command errored out with exit status 1:\n",
      "     command: 'C:\\ProgramData\\Anaconda3\\python.exe' -c 'import io, os, sys, setuptools, tokenize; sys.argv[0] = '\"'\"'C:\\\\Users\\\\cri98\\\\Documents\\\\cri98tj\\\\Other classificators prototypes\\\\mrsqm\\\\mrsqm\\\\setup.py'\"'\"'; __file__='\"'\"'C:\\\\Users\\\\cri98\\\\Documents\\\\cri98tj\\\\Other classificators prototypes\\\\mrsqm\\\\mrsqm\\\\setup.py'\"'\"';f = getattr(tokenize, '\"'\"'open'\"'\"', open)(__file__) if os.path.exists(__file__) else io.StringIO('\"'\"'from setuptools import setup; setup()'\"'\"');code = f.read().replace('\"'\"'\\r\\n'\"'\"', '\"'\"'\\n'\"'\"');f.close();exec(compile(code, __file__, '\"'\"'exec'\"'\"'))' develop --no-deps --user --prefix=\n"
     ]
    },
    {
     "name": "stdout",
     "output_type": "stream",
     "text": [
      "  Running setup.py develop for mrsqm\n"
     ]
    },
    {
     "name": "stderr",
     "output_type": "stream",
     "text": [
      "         cwd: C:\\Users\\cri98\\Documents\\cri98tj\\Other classificators prototypes\\mrsqm\\mrsqm\\\n",
      "    Complete output (123 lines):\n",
      "    running develop\n",
      "    C:\\ProgramData\\Anaconda3\\lib\\site-packages\\setuptools\\command\\easy_install.py:144: EasyInstallDeprecationWarning: easy_install command is deprecated. Use build and pip and other standards-based tools.\n",
      "      warnings.warn(\n",
      "    C:\\ProgramData\\Anaconda3\\lib\\site-packages\\setuptools\\command\\install.py:34: SetuptoolsDeprecationWarning: setup.py install is deprecated. Use build and pip and other standards-based tools.\n",
      "      warnings.warn(\n",
      "    running egg_info\n",
      "    creating mrsqm.egg-info\n",
      "    writing mrsqm.egg-info\\PKG-INFO\n",
      "    writing dependency_links to mrsqm.egg-info\\dependency_links.txt\n",
      "    writing top-level names to mrsqm.egg-info\\top_level.txt\n",
      "    writing manifest file 'mrsqm.egg-info\\SOURCES.txt'\n",
      "    reading manifest file 'mrsqm.egg-info\\SOURCES.txt'\n",
      "    writing manifest file 'mrsqm.egg-info\\SOURCES.txt'\n",
      "    running build_ext\n",
      "    building 'mrsqm' extension\n",
      "    creating build\n",
      "    creating build\\temp.win-amd64-3.9\n",
      "    creating build\\temp.win-amd64-3.9\\Release\n",
      "    creating build\\temp.win-amd64-3.9\\Release\\sfa\n",
      "    \"C:\\Program Files (x86)\\Microsoft Visual Studio\\2019\\Community\\VC\\Tools\\MSVC\\14.29.30133\\bin\\HostX86\\x64\\cl.exe\" /c /nologo /O2 /W3 /GL /DNDEBUG /MD -IC:\\ProgramData\\Anaconda3\\include -IC:\\ProgramData\\Anaconda3\\Include \"-IC:\\Program Files (x86)\\Microsoft Visual Studio\\2019\\Community\\VC\\Tools\\MSVC\\14.29.30133\\ATLMFC\\include\" \"-IC:\\Program Files (x86)\\Microsoft Visual Studio\\2019\\Community\\VC\\Tools\\MSVC\\14.29.30133\\include\" \"-IC:\\Program Files (x86)\\Windows Kits\\NETFXSDK\\4.8\\include\\um\" \"-IC:\\Program Files (x86)\\Windows Kits\\10\\include\\10.0.19041.0\\ucrt\" \"-IC:\\Program Files (x86)\\Windows Kits\\10\\include\\10.0.19041.0\\shared\" \"-IC:\\Program Files (x86)\\Windows Kits\\10\\include\\10.0.19041.0\\um\" \"-IC:\\Program Files (x86)\\Windows Kits\\10\\include\\10.0.19041.0\\winrt\" \"-IC:\\Program Files (x86)\\Windows Kits\\10\\include\\10.0.19041.0\\cppwinrt\" /EHsc /Tpmrsqm_wrapper.cpp /Fobuild\\temp.win-amd64-3.9\\Release\\mrsqm_wrapper.obj -Wall -Ofast -g -std=c++11 -mfpmath=both -ffast-math\n",
      "    cl : warning della riga di comando D9025 : override di '/Os' con '/Ot'\n",
      "    cl : warning della riga di comando D9002 : l'opzione sconosciuta '-Of' verr… ignorata\n",
      "    cl : warning della riga di comando D9002 : l'opzione sconosciuta '-Oa' verr… ignorata\n",
      "    cl : warning della riga di comando D9002 : l'opzione sconosciuta '-g' verr… ignorata\n",
      "    cl : warning della riga di comando D9002 : l'opzione sconosciuta '-std=c++11' verr… ignorata\n",
      "    cl : warning della riga di comando D9002 : l'opzione sconosciuta '-mfpmath=both' verr… ignorata\n",
      "    cl : warning della riga di comando D9002 : l'opzione sconosciuta '-ffast-math' verr… ignorata\n",
      "    mrsqm_wrapper.cpp\n",
      "    C:\\ProgramData\\Anaconda3\\include\\object.h(198): warning C4820: '<unnamed-tag>': '4' byte di spaziatura interna aggiunti dopo membro dati '<unnamed-tag>::slot'\n",
      "    C:\\ProgramData\\Anaconda3\\include\\object.h(206): warning C4820: '<unnamed-tag>': '4' byte di spaziatura interna aggiunti dopo membro dati '<unnamed-tag>::flags'\n",
      "    C:\\ProgramData\\Anaconda3\\include\\cpython/object.h(228): warning C4820: '_typeobject': '4' byte di spaziatura interna aggiunti dopo membro dati '_typeobject::tp_flags'\n",
      "    C:\\ProgramData\\Anaconda3\\include\\cpython/object.h(272): warning C4820: '_typeobject': '4' byte di spaziatura interna aggiunti dopo membro dati '_typeobject::tp_version_tag'\n",
      "    C:\\ProgramData\\Anaconda3\\include\\cpython/bytesobject.h(15): warning C4820: '<unnamed-tag>': '7' byte di spaziatura interna aggiunti dopo membro dati '<unnamed-tag>::ob_sval'\n",
      "    C:\\ProgramData\\Anaconda3\\include\\cpython/bytesobject.h(65): warning C4820: '<unnamed-tag>': '4' byte di spaziatura interna aggiunti dopo membro dati '<unnamed-tag>::small_buffer'\n",
      "    C:\\ProgramData\\Anaconda3\\include\\cpython/unicodeobject.h(218): warning C4820: '<unnamed-tag>': '4' byte di spaziatura interna aggiunti dopo membro dati '<unnamed-tag>::state'\n",
      "    C:\\ProgramData\\Anaconda3\\include\\cpython/unicodeobject.h(626): warning C4820: '<unnamed-tag>': '2' byte di spaziatura interna aggiunti dopo membro dati '<unnamed-tag>::readonly'\n",
      "    C:\\ProgramData\\Anaconda3\\include\\longintrepr.h(88): warning C4820: '_longobject': '4' byte di spaziatura interna aggiunti dopo membro dati '_longobject::ob_digit'\n",
      "    C:\\ProgramData\\Anaconda3\\include\\memoryobject.h(45): warning C4820: '<unnamed-tag>': '4' byte di spaziatura interna aggiunti dopo membro dati '<unnamed-tag>::flags'\n",
      "    C:\\ProgramData\\Anaconda3\\include\\memoryobject.h(62): warning C4820: '<unnamed-tag>': '4' byte di spaziatura interna aggiunti dopo membro dati '<unnamed-tag>::flags'\n",
      "    C:\\ProgramData\\Anaconda3\\include\\methodobject.h(40): warning C4820: 'PyMethodDef': '4' byte di spaziatura interna aggiunti dopo membro dati 'PyMethodDef::ml_flags'\n",
      "    C:\\ProgramData\\Anaconda3\\include\\moduleobject.h(63): warning C4820: 'PyModuleDef_Slot': '4' byte di spaziatura interna aggiunti dopo membro dati 'PyModuleDef_Slot::slot'\n",
      "    C:\\ProgramData\\Anaconda3\\include\\cpython/code.h(27): warning C4820: 'PyCodeObject': '4' byte di spaziatura interna aggiunti dopo membro dati 'PyCodeObject::co_firstlineno'\n",
      "    C:\\ProgramData\\Anaconda3\\include\\cpython/code.h(64): warning C4820: 'PyCodeObject': '3' byte di spaziatura interna aggiunti dopo membro dati 'PyCodeObject::co_opcache_size'\n",
      "    C:\\ProgramData\\Anaconda3\\include\\cpython/initconfig.h(16): warning C4820: '<unnamed-tag>': '4' byte di spaziatura interna aggiunti dopo membro dati '<unnamed-tag>::_type'\n",
      "    C:\\ProgramData\\Anaconda3\\include\\cpython/initconfig.h(19): warning C4820: '<unnamed-tag>': '4' byte di spaziatura interna aggiunti dopo membro dati '<unnamed-tag>::exitcode'\n",
      "    C:\\ProgramData\\Anaconda3\\include\\cpython/initconfig.h(209): warning C4820: '<unnamed-tag>': '4' byte di spaziatura interna aggiunti dopo membro dati '<unnamed-tag>::parse_argv'\n",
      "    C:\\ProgramData\\Anaconda3\\include\\cpython/initconfig.h(364): warning C4820: '<unnamed-tag>': '4' byte di spaziatura interna aggiunti dopo membro dati '<unnamed-tag>::legacy_windows_stdio'\n",
      "    C:\\ProgramData\\Anaconda3\\include\\cpython/initconfig.h(374): warning C4820: '<unnamed-tag>': '4' byte di spaziatura interna aggiunti dopo membro dati '<unnamed-tag>::pathconfig_warnings'\n",
      "    C:\\ProgramData\\Anaconda3\\include\\cpython/initconfig.h(381): warning C4820: '<unnamed-tag>': '4' byte di spaziatura interna aggiunti dopo membro dati '<unnamed-tag>::module_search_paths_set'\n",
      "    C:\\ProgramData\\Anaconda3\\include\\cpython/initconfig.h(401): warning C4820: '<unnamed-tag>': '4' byte di spaziatura interna aggiunti dopo membro dati '<unnamed-tag>::skip_source_first_line'\n",
      "    C:\\ProgramData\\Anaconda3\\include\\cpython/initconfig.h(424): warning C4820: '<unnamed-tag>': '4' byte di spaziatura interna aggiunti dopo membro dati '<unnamed-tag>::_isolated_interpreter'\n",
      "    C:\\ProgramData\\Anaconda3\\include\\cpython/pystate.h(63): warning C4820: '_ts': '2' byte di spaziatura interna aggiunti dopo membro dati '_ts::recursion_critical'\n",
      "    C:\\ProgramData\\Anaconda3\\include\\cpython/pystate.h(71): warning C4820: '_ts': '4' byte di spaziatura interna aggiunti dopo membro dati '_ts::use_tracing'\n",
      "    C:\\ProgramData\\Anaconda3\\include\\cpython/pystate.h(94): warning C4820: '_ts': '4' byte di spaziatura interna aggiunti dopo membro dati '_ts::gilstate_counter'\n",
      "    C:\\ProgramData\\Anaconda3\\include\\cpython/pystate.h(128): warning C4820: '_ts': '4' byte di spaziatura interna aggiunti dopo membro dati '_ts::coroutine_origin_tracking_depth'\n",
      "    C:\\ProgramData\\Anaconda3\\include\\genobject.h(33): warning C4820: '<unnamed-tag>': '7' byte di spaziatura interna aggiunti dopo membro dati '<unnamed-tag>::gi_running'\n",
      "    C:\\ProgramData\\Anaconda3\\include\\genobject.h(52): warning C4820: '<unnamed-tag>': '7' byte di spaziatura interna aggiunti dopo membro dati '<unnamed-tag>::cr_running'\n",
      "    C:\\ProgramData\\Anaconda3\\include\\genobject.h(67): warning C4820: '<unnamed-tag>': '7' byte di spaziatura interna aggiunti dopo membro dati '<unnamed-tag>::ag_running'\n",
      "    C:\\ProgramData\\Anaconda3\\include\\genobject.h(80): warning C4820: '<unnamed-tag>': '4' byte di spaziatura interna aggiunti dopo membro dati '<unnamed-tag>::ag_running_async'\n",
      "    C:\\ProgramData\\Anaconda3\\include\\descrobject.h(29): warning C4820: 'wrapperbase': '4' byte di spaziatura interna aggiunti dopo membro dati 'wrapperbase::offset'\n",
      "    C:\\ProgramData\\Anaconda3\\include\\descrobject.h(33): warning C4820: 'wrapperbase': '4' byte di spaziatura interna aggiunti dopo membro dati 'wrapperbase::flags'\n",
      "    C:\\ProgramData\\Anaconda3\\include\\structseq.h(20): warning C4820: 'PyStructSequence_Desc': '4' byte di spaziatura interna aggiunti dopo membro dati 'PyStructSequence_Desc::n_in_sequence'\n",
      "    C:\\ProgramData\\Anaconda3\\include\\cpython/pyerrors.h(19): warning C4820: '<unnamed-tag>': '7' byte di spaziatura interna aggiunti dopo membro dati '<unnamed-tag>::suppress_context'\n",
      "    C:\\ProgramData\\Anaconda3\\include\\cpython/pyerrors.h(23): warning C4820: '<unnamed-tag>': '7' byte di spaziatura interna aggiunti dopo membro dati '<unnamed-tag>::suppress_context'\n",
      "    C:\\ProgramData\\Anaconda3\\include\\cpython/pyerrors.h(33): warning C4820: '<unnamed-tag>': '7' byte di spaziatura interna aggiunti dopo membro dati '<unnamed-tag>::suppress_context'\n",
      "    C:\\ProgramData\\Anaconda3\\include\\cpython/pyerrors.h(40): warning C4820: '<unnamed-tag>': '7' byte di spaziatura interna aggiunti dopo membro dati '<unnamed-tag>::suppress_context'\n",
      "    C:\\ProgramData\\Anaconda3\\include\\cpython/pyerrors.h(49): warning C4820: '<unnamed-tag>': '7' byte di spaziatura interna aggiunti dopo membro dati '<unnamed-tag>::suppress_context'\n",
      "    C:\\ProgramData\\Anaconda3\\include\\cpython/pyerrors.h(54): warning C4820: '<unnamed-tag>': '7' byte di spaziatura interna aggiunti dopo membro dati '<unnamed-tag>::suppress_context'\n",
      "    C:\\ProgramData\\Anaconda3\\include\\cpython/pyerrors.h(66): warning C4820: '<unnamed-tag>': '7' byte di spaziatura interna aggiunti dopo membro dati '<unnamed-tag>::suppress_context'\n",
      "    C:\\ProgramData\\Anaconda3\\include\\modsupport.h(100): warning C4820: '_PyArg_Parser': '4' byte di spaziatura interna aggiunti dopo membro dati '_PyArg_Parser::max'\n",
      "    C:\\ProgramData\\Anaconda3\\include\\cpython/import.h(41): warning C4820: '_frozen': '4' byte di spaziatura interna aggiunti dopo membro dati '_frozen::size'\n",
      "    C:\\ProgramData\\Anaconda3\\include\\cpython/abstract.h(62): warning C4365: 'return': conversione da 'size_t' a 'Py_ssize_t'. Errore di corrispondenza tra signed e unsigned.\n",
      "    C:\\ProgramData\\Anaconda3\\include\\cpython/fileutils.h(54): warning C4820: '_Py_stat_struct': '4' byte di spaziatura interna aggiunti dopo membro dati '_Py_stat_struct::st_dev'\n",
      "    C:\\ProgramData\\Anaconda3\\include\\cpython/fileutils.h(56): warning C4820: '_Py_stat_struct': '2' byte di spaziatura interna aggiunti dopo membro dati '_Py_stat_struct::st_mode'\n",
      "    C:\\ProgramData\\Anaconda3\\include\\cpython/fileutils.h(60): warning C4820: '_Py_stat_struct': '4' byte di spaziatura interna aggiunti dopo membro dati '_Py_stat_struct::st_rdev'\n",
      "    C:\\ProgramData\\Anaconda3\\include\\cpython/fileutils.h(63): warning C4820: '_Py_stat_struct': '4' byte di spaziatura interna aggiunti dopo membro dati '_Py_stat_struct::st_atime_nsec'\n",
      "    C:\\ProgramData\\Anaconda3\\include\\cpython/fileutils.h(65): warning C4820: '_Py_stat_struct': '4' byte di spaziatura interna aggiunti dopo membro dati '_Py_stat_struct::st_mtime_nsec'\n",
      "    C:\\ProgramData\\Anaconda3\\include\\cpython/fileutils.h(69): warning C4820: '_Py_stat_struct': '4' byte di spaziatura interna aggiunti dopo membro dati '_Py_stat_struct::st_reparse_tag'\n",
      "    C:\\Users\\cri98\\Documents\\cri98tj\\Other classificators prototypes\\mrsqm\\mrsqm\\sax_converter.h(369): warning C4820: 'SAX': '4' byte di spaziatura interna aggiunti dopo membro dati 'SAX::dilation'\n",
      "    C:\\Users\\cri98\\Documents\\cri98tj\\Other classificators prototypes\\mrsqm\\mrsqm\\sax_converter.h(176): warning C4365: 'argomento': conversione da 'int' a 'const unsigned __int64'. Errore di corrispondenza tra signed e unsigned.\n",
      "    C:\\Users\\cri98\\Documents\\cri98tj\\Other classificators prototypes\\mrsqm\\mrsqm\\sax_converter.h(177): warning C4365: 'argomento': conversione da 'int' a 'const unsigned __int64'. Errore di corrispondenza tra signed e unsigned.\n"
     ]
    },
    {
     "name": "stderr",
     "output_type": "stream",
     "text": [
      "    C:\\Users\\cri98\\Documents\\cri98tj\\Other classificators prototypes\\mrsqm\\mrsqm\\sax_converter.h(187): warning C4365: 'argomento': conversione da 'int' a 'const unsigned __int64'. Errore di corrispondenza tra signed e unsigned.\n",
      "    C:\\Users\\cri98\\Documents\\cri98tj\\Other classificators prototypes\\mrsqm\\mrsqm\\sax_converter.h(191): warning C4365: 'argomento': conversione da 'int' a 'const unsigned __int64'. Errore di corrispondenza tra signed e unsigned.\n",
      "    C:\\Users\\cri98\\Documents\\cri98tj\\Other classificators prototypes\\mrsqm\\mrsqm\\sax_converter.h(196): warning C4365: 'argomento': conversione da 'int' a 'const unsigned __int64'. Errore di corrispondenza tra signed e unsigned.\n",
      "    C:\\Users\\cri98\\Documents\\cri98tj\\Other classificators prototypes\\mrsqm\\mrsqm\\sax_converter.h(200): warning C4365: 'argomento': conversione da 'int' a 'const unsigned __int64'. Errore di corrispondenza tra signed e unsigned.\n",
      "    C:\\Users\\cri98\\Documents\\cri98tj\\Other classificators prototypes\\mrsqm\\mrsqm\\sax_converter.h(211): warning C4244: '=': conversione da 'double' a 'int'. Possibile perdita di dati.\n",
      "    C:\\Users\\cri98\\Documents\\cri98tj\\Other classificators prototypes\\mrsqm\\mrsqm\\sax_converter.h(212): warning C4244: '=': conversione da 'double' a 'int'. Possibile perdita di dati.\n",
      "    C:\\Users\\cri98\\Documents\\cri98tj\\Other classificators prototypes\\mrsqm\\mrsqm\\sax_converter.h(217): warning C4365: 'argomento': conversione da 'int' a 'const unsigned __int64'. Errore di corrispondenza tra signed e unsigned.\n",
      "    C:\\Users\\cri98\\Documents\\cri98tj\\Other classificators prototypes\\mrsqm\\mrsqm\\sax_converter.h(222): warning C4365: 'argomento': conversione da 'int' a 'const unsigned __int64'. Errore di corrispondenza tra signed e unsigned.\n",
      "    C:\\Users\\cri98\\Documents\\cri98tj\\Other classificators prototypes\\mrsqm\\mrsqm\\sax_converter.h(225): warning C4365: 'argomento': conversione da 'int' a 'const unsigned __int64'. Errore di corrispondenza tra signed e unsigned.\n",
      "    C:\\Users\\cri98\\Documents\\cri98tj\\Other classificators prototypes\\mrsqm\\mrsqm\\sax_converter.h(234): warning C4244: 'argomento': conversione da 'int' a '_Elem'. Possibile perdita di dati.\n",
      "            with\n",
      "            [\n",
      "                _Elem=char\n",
      "            ]\n",
      "    C:\\Users\\cri98\\Documents\\cri98tj\\Other classificators prototypes\\mrsqm\\mrsqm\\sax_converter.h(245): warning C4267: 'inizializzazione': conversione da 'size_t' a 'int'. Possibile perdita di dati.\n",
      "    C:\\Users\\cri98\\Documents\\cri98tj\\Other classificators prototypes\\mrsqm\\mrsqm\\sax_converter.h(245): warning C4365: 'inizializzazione': conversione da 'unsigned __int64' a 'int'. Errore di corrispondenza tra signed e unsigned.\n",
      "    C:\\Users\\cri98\\Documents\\cri98tj\\Other classificators prototypes\\mrsqm\\mrsqm\\sax_converter.h(264): warning C4388: '<': errata corrispondenza tra signed e unsigned\n",
      "    C:\\Users\\cri98\\Documents\\cri98tj\\Other classificators prototypes\\mrsqm\\mrsqm\\sax_converter.h(265): warning C4365: 'argomento': conversione da 'int' a 'const unsigned __int64'. Errore di corrispondenza tra signed e unsigned.\n",
      "    C:\\Users\\cri98\\Documents\\cri98tj\\Other classificators prototypes\\mrsqm\\mrsqm\\sax_converter.h(297): warning C4267: 'inizializzazione': conversione da 'size_t' a 'int'. Possibile perdita di dati.\n",
      "    C:\\Users\\cri98\\Documents\\cri98tj\\Other classificators prototypes\\mrsqm\\mrsqm\\sax_converter.h(297): warning C4365: 'inizializzazione': conversione da 'unsigned __int64' a 'int'. Errore di corrispondenza tra signed e unsigned.\n",
      "    C:\\Users\\cri98\\Documents\\cri98tj\\Other classificators prototypes\\mrsqm\\mrsqm\\sax_converter.h(302): warning C4388: '<': errata corrispondenza tra signed e unsigned\n",
      "    C:\\Users\\cri98\\Documents\\cri98tj\\Other classificators prototypes\\mrsqm\\mrsqm\\sax_converter.h(312): warning C4388: '<': errata corrispondenza tra signed e unsigned\n",
      "    C:\\Users\\cri98\\Documents\\cri98tj\\Other classificators prototypes\\mrsqm\\mrsqm\\sax_converter.h(314): warning C4365: 'argomento': conversione da 'int' a 'const unsigned __int64'. Errore di corrispondenza tra signed e unsigned.\n",
      "    C:\\Users\\cri98\\Documents\\cri98tj\\Other classificators prototypes\\mrsqm\\mrsqm\\sax_converter.h(318): warning C4388: '<': errata corrispondenza tra signed e unsigned\n",
      "    C:\\Users\\cri98\\Documents\\cri98tj\\Other classificators prototypes\\mrsqm\\mrsqm\\sax_converter.h(325): warning C5219: conversione implicita da 'size_t' a 'double'. Possibile perdita di dati\n",
      "    C:\\Users\\cri98\\Documents\\cri98tj\\Other classificators prototypes\\mrsqm\\mrsqm\\sax_converter.h(326): warning C5219: conversione implicita da 'unsigned __int64' a 'double'. Possibile perdita di dati\n",
      "    C:\\Users\\cri98\\Documents\\cri98tj\\Other classificators prototypes\\mrsqm\\mrsqm\\sax_converter.h(327): warning C4244: 'inizializzazione': conversione da 'double' a 'int'. Possibile perdita di dati.\n",
      "    C:\\Users\\cri98\\Documents\\cri98tj\\Other classificators prototypes\\mrsqm\\mrsqm\\sax_converter.h(328): warning C4244: 'inizializzazione': conversione da 'double' a 'int'. Possibile perdita di dati.\n",
      "    C:\\Users\\cri98\\Documents\\cri98tj\\Other classificators prototypes\\mrsqm\\mrsqm\\sax_converter.h(331): warning C4365: 'argomento': conversione da 'int' a 'const unsigned __int64'. Errore di corrispondenza tra signed e unsigned.\n",
      "    C:\\Users\\cri98\\Documents\\cri98tj\\Other classificators prototypes\\mrsqm\\mrsqm\\sax_converter.h(337): warning C4365: 'argomento': conversione da 'int' a 'const unsigned __int64'. Errore di corrispondenza tra signed e unsigned.\n",
      "    C:\\Users\\cri98\\Documents\\cri98tj\\Other classificators prototypes\\mrsqm\\mrsqm\\sax_converter.h(340): warning C4388: '<': errata corrispondenza tra signed e unsigned\n",
      "    C:\\Users\\cri98\\Documents\\cri98tj\\Other classificators prototypes\\mrsqm\\mrsqm\\sax_converter.h(341): warning C4365: 'argomento': conversione da 'int' a 'const unsigned __int64'. Errore di corrispondenza tra signed e unsigned.\n",
      "    C:\\Users\\cri98\\Documents\\cri98tj\\Other classificators prototypes\\mrsqm\\mrsqm\\sax_converter.h(361): warning C4388: '<': errata corrispondenza tra signed e unsigned\n",
      "    C:\\Users\\cri98\\Documents\\cri98tj\\Other classificators prototypes\\mrsqm\\mrsqm\\sax_converter.h(362): warning C4365: 'argomento': conversione da 'int' a 'const unsigned __int64'. Errore di corrispondenza tra signed e unsigned.\n",
      "    C:\\Users\\cri98\\Documents\\cri98tj\\Other classificators prototypes\\mrsqm\\mrsqm\\sax_converter.h(363): warning C4365: 'argomento': conversione da 'int' a 'const unsigned __int64'. Errore di corrispondenza tra signed e unsigned.\n",
      "    C:\\Users\\cri98\\Documents\\cri98tj\\Other classificators prototypes\\mrsqm\\mrsqm\\sax_converter.h(363): warning C5219: conversione implicita da 'unsigned __int64' a '_Ty'. Possibile perdita di dati\n",
      "            with\n",
      "            [\n",
      "                _Ty=double\n",
      "            ]\n",
      "    C:\\Users\\cri98\\Documents\\cri98tj\\Other classificators prototypes\\mrsqm\\mrsqm\\sfa\\DFT.h(4): fatal error C1083: Non Š possibile aprire il file inclusione: 'fftw3.h': No such file or directory\n",
      "    error: command 'C:\\\\Program Files (x86)\\\\Microsoft Visual Studio\\\\2019\\\\Community\\\\VC\\\\Tools\\\\MSVC\\\\14.29.30133\\\\bin\\\\HostX86\\\\x64\\\\cl.exe' failed with exit code 2\n",
      "    ----------------------------------------\n",
      "ERROR: Command errored out with exit status 1: 'C:\\ProgramData\\Anaconda3\\python.exe' -c 'import io, os, sys, setuptools, tokenize; sys.argv[0] = '\"'\"'C:\\\\Users\\\\cri98\\\\Documents\\\\cri98tj\\\\Other classificators prototypes\\\\mrsqm\\\\mrsqm\\\\setup.py'\"'\"'; __file__='\"'\"'C:\\\\Users\\\\cri98\\\\Documents\\\\cri98tj\\\\Other classificators prototypes\\\\mrsqm\\\\mrsqm\\\\setup.py'\"'\"';f = getattr(tokenize, '\"'\"'open'\"'\"', open)(__file__) if os.path.exists(__file__) else io.StringIO('\"'\"'from setuptools import setup; setup()'\"'\"');code = f.read().replace('\"'\"'\\r\\n'\"'\"', '\"'\"'\\n'\"'\"');f.close();exec(compile(code, __file__, '\"'\"'exec'\"'\"'))' develop --no-deps --user --prefix= Check the logs for full command output.\n"
     ]
    }
   ],
   "source": [
    "!pip install -e ../mrsqm/"
   ]
  },
  {
   "cell_type": "code",
   "execution_count": null,
   "id": "9ef81926",
   "metadata": {
    "pycharm": {
     "name": "#%%\n"
    }
   },
   "outputs": [
    {
     "ename": "",
     "evalue": "",
     "output_type": "error",
     "traceback": [
      "\u001b[1;31mL'esecuzione di celle con 'Python 3.7.8 64-bit' richiede il pacchetto ipykernel.\n",
      "\u001b[1;31mEseguire il comando seguente per installare 'ipykernel' nell'ambiente Python. \n",
      "\u001b[1;31mComando: '\"c:/Program Files (x86)/Microsoft Visual Studio/Shared/Python37_64/python.exe\" -m pip install ipykernel -U --user --force-reinstall'"
     ]
    }
   ],
   "source": [
    "# code to read arff data\n",
    "# Source: https://github.com/alan-turing-institute/sktime/blob/main/sktime/utils/data_io.py\n",
    "\n",
    "def load_from_arff_to_dataframe(\n",
    "\n",
    "    full_file_path_and_name,\n",
    "    has_class_labels=True,\n",
    "    return_separate_X_and_y=True,\n",
    "    replace_missing_vals_with=\"NaN\",\n",
    "):\n",
    "    \"\"\"Load data from a .ts file into a Pandas DataFrame.\n",
    "    Parameters\n",
    "    ----------\n",
    "    full_file_path_and_name: str\n",
    "        The full pathname of the .ts file to read.\n",
    "    has_class_labels: bool\n",
    "        true then line contains separated strings and class value contains\n",
    "        list of separated strings, check for 'return_separate_X_and_y'\n",
    "        false otherwise.\n",
    "    return_separate_X_and_y: bool\n",
    "        true then X and Y values should be returned as separate Data Frames (\n",
    "        X) and a numpy array (y), false otherwise.\n",
    "        This is only relevant for data.\n",
    "    replace_missing_vals_with: str\n",
    "       The value that missing values in the text file should be replaced\n",
    "       with prior to parsing.\n",
    "    Returns\n",
    "    -------\n",
    "    DataFrame, ndarray\n",
    "        If return_separate_X_and_y then a tuple containing a DataFrame and a\n",
    "        numpy array containing the relevant time-series and corresponding\n",
    "        class values.\n",
    "    DataFrame\n",
    "        If not return_separate_X_and_y then a single DataFrame containing\n",
    "        all time-series and (if relevant) a column \"class_vals\" the\n",
    "        associated class values.\n",
    "    \"\"\"\n",
    "    \n",
    "    instance_list = []\n",
    "    class_val_list = []\n",
    "\n",
    "    data_started = False\n",
    "    is_multi_variate = False\n",
    "    is_first_case = True\n",
    "\n",
    "    # Parse the file\n",
    "    # print(full_file_path_and_name)\n",
    "    with open(full_file_path_and_name, \"r\", encoding=\"utf-8\") as f:\n",
    "        for line in f:\n",
    "\n",
    "            if line.strip():\n",
    "                if (\n",
    "                    is_multi_variate is False\n",
    "                    and \"@attribute\" in line.lower()\n",
    "                    and \"relational\" in line.lower()\n",
    "                ):\n",
    "                    is_multi_variate = True\n",
    "\n",
    "                if \"@data\" in line.lower():\n",
    "                    data_started = True\n",
    "                    continue\n",
    "\n",
    "                # if the 'data tag has been found, the header information\n",
    "                # has been cleared and now data can be loaded\n",
    "                if data_started:\n",
    "                    line = line.replace(\"?\", replace_missing_vals_with)\n",
    "\n",
    "                    if is_multi_variate:\n",
    "                        if has_class_labels:\n",
    "                            line, class_val = line.split(\"',\")\n",
    "                            class_val_list.append(class_val.strip())\n",
    "                        dimensions = line.split(\"\\\\n\")\n",
    "                        dimensions[0] = dimensions[0].replace(\"'\", \"\")\n",
    "\n",
    "                        if is_first_case:\n",
    "                            for _d in range(len(dimensions)):\n",
    "                                instance_list.append([])\n",
    "                            is_first_case = False\n",
    "\n",
    "                        for dim in range(len(dimensions)):\n",
    "                            instance_list[dim].append(\n",
    "                                pd.Series(\n",
    "                                    [float(i) for i in dimensions[dim].split(\",\")]\n",
    "                                )\n",
    "                            )\n",
    "\n",
    "                    else:\n",
    "                        if is_first_case:\n",
    "                            instance_list.append([])\n",
    "                            is_first_case = False\n",
    "\n",
    "                        line_parts = line.split(\",\")\n",
    "                        if has_class_labels:\n",
    "                            instance_list[0].append(\n",
    "                                pd.Series(\n",
    "                                    [\n",
    "                                        float(i)\n",
    "                                        for i in line_parts[: len(line_parts) - 1]\n",
    "                                    ]\n",
    "                                )\n",
    "                            )\n",
    "                            class_val_list.append(line_parts[-1].strip())\n",
    "                        else:\n",
    "                            instance_list[0].append(\n",
    "                                pd.Series(\n",
    "                                    [float(i) for i in line_parts[: len(line_parts)]]\n",
    "                                )\n",
    "                            )\n",
    "\n",
    "    x_data = pd.DataFrame(dtype=np.float32)\n",
    "    for dim in range(len(instance_list)):\n",
    "        x_data[\"dim_\" + str(dim)] = instance_list[dim]\n",
    "\n",
    "    if has_class_labels:\n",
    "        if return_separate_X_and_y:\n",
    "            return x_data, np.asarray(class_val_list)\n",
    "        else:\n",
    "            x_data[\"class_vals\"] = pd.Series(class_val_list)\n",
    "\n",
    "    return x_data\n",
    "\n",
    "# code to visualize saliency map\n",
    "# Source: https://github.com/mlgig/explanation4tsc/blob/master/3.%20Compare%20Metrics%20and%20Draw%20Figures.ipynb\n",
    "def plot_time_series_with_color(ts, weight, save = False):   \n",
    "    cas = weight\n",
    "    \n",
    "    def transform(X):\n",
    "        ma,mi = np.max(X), np.min(X)\n",
    "        X = (X - mi)/(ma-mi)\n",
    "        return X*100\n",
    "    cas = transform(cas)\n",
    "\n",
    "    max_length1, max_length2 = len(weight),10000 #\n",
    "    x1 = np.linspace(0,max_length1,num = max_length1)\n",
    "    x2 = np.linspace(0,max_length1,num = max_length2)\n",
    "    y1 = ts\n",
    "    f = interp1d(x1, y1)\n",
    "\n",
    "    fcas = interp1d(x1, cas)\n",
    "    cas = fcas(x2)\n",
    "\n",
    "    plt.figure(figsize = (5,3.5))\n",
    "    plt.scatter(x2,f(x2), c = cas, cmap = 'jet', marker='.', s= 1,vmin=0,vmax = 100)    \n",
    "    plt.colorbar()\n",
    "    if save: plt.savefig('imgout/SM_%s_%s_Class%d_idx%d.png' %(dataset, explanation_method, label[i],i))\n"
   ]
  },
  {
   "cell_type": "code",
   "execution_count": null,
   "id": "822e3b0f",
   "metadata": {
    "pycharm": {
     "name": "#%%\n"
    }
   },
   "outputs": [
    {
     "ename": "",
     "evalue": "",
     "output_type": "error",
     "traceback": [
      "\u001b[1;31mL'esecuzione di celle con 'Python 3.7.8 64-bit' richiede il pacchetto ipykernel.\n",
      "\u001b[1;31mEseguire il comando seguente per installare 'ipykernel' nell'ambiente Python. \n",
      "\u001b[1;31mComando: '\"c:/Program Files (x86)/Microsoft Visual Studio/Shared/Python37_64/python.exe\" -m pip install ipykernel -U --user --force-reinstall'"
     ]
    }
   ],
   "source": []
  },
  {
   "cell_type": "code",
   "execution_count": null,
   "id": "e9349506",
   "metadata": {
    "pycharm": {
     "name": "#%%\n"
    }
   },
   "outputs": [
    {
     "ename": "",
     "evalue": "",
     "output_type": "error",
     "traceback": [
      "\u001b[1;31mL'esecuzione di celle con 'Python 3.7.8 64-bit' richiede il pacchetto ipykernel.\n",
      "\u001b[1;31mEseguire il comando seguente per installare 'ipykernel' nell'ambiente Python. \n",
      "\u001b[1;31mComando: '\"c:/Program Files (x86)/Microsoft Visual Studio/Shared/Python37_64/python.exe\" -m pip install ipykernel -U --user --force-reinstall'"
     ]
    }
   ],
   "source": []
  },
  {
   "cell_type": "code",
   "execution_count": null,
   "id": "2458cc3a",
   "metadata": {
    "pycharm": {
     "name": "#%%\n"
    }
   },
   "outputs": [
    {
     "ename": "",
     "evalue": "",
     "output_type": "error",
     "traceback": [
      "\u001b[1;31mL'esecuzione di celle con 'Python 3.7.8 64-bit' richiede il pacchetto ipykernel.\n",
      "\u001b[1;31mEseguire il comando seguente per installare 'ipykernel' nell'ambiente Python. \n",
      "\u001b[1;31mComando: '\"c:/Program Files (x86)/Microsoft Visual Studio/Shared/Python37_64/python.exe\" -m pip install ipykernel -U --user --force-reinstall'"
     ]
    }
   ],
   "source": []
  },
  {
   "cell_type": "code",
   "execution_count": null,
   "id": "d28f608f",
   "metadata": {
    "pycharm": {
     "name": "#%%\n"
    }
   },
   "outputs": [
    {
     "ename": "",
     "evalue": "",
     "output_type": "error",
     "traceback": [
      "\u001b[1;31mL'esecuzione di celle con 'Python 3.7.8 64-bit' richiede il pacchetto ipykernel.\n",
      "\u001b[1;31mEseguire il comando seguente per installare 'ipykernel' nell'ambiente Python. \n",
      "\u001b[1;31mComando: '\"c:/Program Files (x86)/Microsoft Visual Studio/Shared/Python37_64/python.exe\" -m pip install ipykernel -U --user --force-reinstall'"
     ]
    }
   ],
   "source": [
    "dataset=\"Coffee\"\n",
    "X_train,y_train = load_from_arff_to_dataframe(\"data/\" + dataset + \"/\" + dataset + \"_TRAIN.arff\")\n",
    "X_test,y_test = load_from_arff_to_dataframe(\"data/\" + dataset + \"/\" + dataset + \"_TEST.arff\")\n",
    "\n",
    "print(dataset)\n",
    "print(X_train.shape, y_train.shape)\n",
    "print(X_test.shape, y_test.shape)\n",
    "\n",
    "X_train"
   ]
  },
  {
   "cell_type": "code",
   "execution_count": null,
   "id": "167bcaef",
   "metadata": {
    "pycharm": {
     "name": "#%%\n"
    }
   },
   "outputs": [
    {
     "ename": "",
     "evalue": "",
     "output_type": "error",
     "traceback": [
      "\u001b[1;31mL'esecuzione di celle con 'Python 3.7.8 64-bit' richiede il pacchetto ipykernel.\n",
      "\u001b[1;31mEseguire il comando seguente per installare 'ipykernel' nell'ambiente Python. \n",
      "\u001b[1;31mComando: '\"c:/Program Files (x86)/Microsoft Visual Studio/Shared/Python37_64/python.exe\" -m pip install ipykernel -U --user --force-reinstall'"
     ]
    }
   ],
   "source": [
    "!ls ../../../examples/Animals\\ Dataset/data/"
   ]
  },
  {
   "cell_type": "code",
   "execution_count": null,
   "id": "c5da1847",
   "metadata": {
    "pycharm": {
     "name": "#%%\n"
    }
   },
   "outputs": [
    {
     "ename": "",
     "evalue": "",
     "output_type": "error",
     "traceback": [
      "\u001b[1;31mL'esecuzione di celle con 'Python 3.7.8 64-bit' richiede il pacchetto ipykernel.\n",
      "\u001b[1;31mEseguire il comando seguente per installare 'ipykernel' nell'ambiente Python. \n",
      "\u001b[1;31mComando: '\"c:/Program Files (x86)/Microsoft Visual Studio/Shared/Python37_64/python.exe\" -m pip install ipykernel -U --user --force-reinstall'"
     ]
    }
   ],
   "source": [
    "df = pd.read_csv(\"../../../examples/Animals Dataset/data/animals_preapred.zip\")\n",
    "\n",
    "df"
   ]
  },
  {
   "cell_type": "raw",
   "id": "728bb030",
   "metadata": {
    "pycharm": {
     "name": "#%% raw\n"
    }
   },
   "source": [
    "\n",
    "df_pivot_c1 = pd.DataFrame()\n",
    "df_pivot_c2 = pd.DataFrame()\n",
    "df_pivot_c1 = df_pivot_c1.append([from_2d_array_to_nested(df[df.tid == tid][[\"c1\"]].T) for tid in df.tid.unique()])\n",
    "df_pivot_c2 = df_pivot_c2.append([from_2d_array_to_nested(df[df.tid == tid][[\"c2\"]].T) for tid in df.tid.unique()])\n",
    "\n",
    "\n",
    "df_pivot = pd.DataFrame()\n",
    "df_pivot[\"dim_0\"] = df_pivot_c1[0]\n",
    "df_pivot[\"dim_1\"] = df_pivot_c2[0]\n",
    "\n",
    "df_pivot"
   ]
  },
  {
   "cell_type": "code",
   "execution_count": null,
   "id": "8271b6dc",
   "metadata": {
    "pycharm": {
     "name": "#%%\n"
    }
   },
   "outputs": [
    {
     "ename": "",
     "evalue": "",
     "output_type": "error",
     "traceback": [
      "\u001b[1;31mL'esecuzione di celle con 'Python 3.7.8 64-bit' richiede il pacchetto ipykernel.\n",
      "\u001b[1;31mEseguire il comando seguente per installare 'ipykernel' nell'ambiente Python. \n",
      "\u001b[1;31mComando: '\"c:/Program Files (x86)/Microsoft Visual Studio/Shared/Python37_64/python.exe\" -m pip install ipykernel -U --user --force-reinstall'"
     ]
    }
   ],
   "source": [
    "\"\"\"df.c1 = 1\n",
    "df.c2 = 2\n",
    "df[\"class\"] = 'B'\"\"\""
   ]
  },
  {
   "cell_type": "code",
   "execution_count": null,
   "id": "d56950a0",
   "metadata": {
    "pycharm": {
     "name": "#%%\n"
    }
   },
   "outputs": [
    {
     "ename": "",
     "evalue": "",
     "output_type": "error",
     "traceback": [
      "\u001b[1;31mL'esecuzione di celle con 'Python 3.7.8 64-bit' richiede il pacchetto ipykernel.\n",
      "\u001b[1;31mEseguire il comando seguente per installare 'ipykernel' nell'ambiente Python. \n",
      "\u001b[1;31mComando: '\"c:/Program Files (x86)/Microsoft Visual Studio/Shared/Python37_64/python.exe\" -m pip install ipykernel -U --user --force-reinstall'"
     ]
    }
   ],
   "source": [
    "def from_2d_array_to_nested(\n",
    "    X, index=None, columns=None, time_index=None, cells_as_numpy=False\n",
    "):\n",
    "    \"\"\"Convert tabular pandas DataFrame with only primitives in cells into\n",
    "    nested pandas DataFrame with a single column.\n",
    "    Parameters\n",
    "    ----------\n",
    "    X : pd.DataFrame\n",
    "    cells_as_numpy : bool, default = False\n",
    "        If True, then nested cells contain NumPy array\n",
    "        If False, then nested cells contain pandas Series\n",
    "    index : array-like, shape=[n_samples], optional (default = None)\n",
    "        Sample (row) index of transformed DataFrame\n",
    "    time_index : array-like, shape=[n_obs], optional (default = None)\n",
    "        Time series index of transformed DataFrame\n",
    "    Returns\n",
    "    -------\n",
    "    Xt : pd.DataFrame\n",
    "        Transformed DataFrame in nested format\n",
    "    \"\"\"\n",
    "\n",
    "    if (time_index is not None) and cells_as_numpy:\n",
    "        raise ValueError(\n",
    "            \"`Time_index` cannot be specified when `return_arrays` is True, \"\n",
    "            \"time index can only be set to \"\n",
    "            \"pandas Series\"\n",
    "        )\n",
    "    if isinstance(X, pd.DataFrame):\n",
    "        X = X.to_numpy()\n",
    "\n",
    "    container = np.array if cells_as_numpy else pd.Series\n",
    "\n",
    "    # for 2d numpy array, rows represent instances, columns represent time points\n",
    "    n_instances, n_timepoints = X.shape\n",
    "\n",
    "    if time_index is None:\n",
    "        time_index = np.arange(n_timepoints)\n",
    "    kwargs = {\"index\": time_index}\n",
    "\n",
    "    Xt = pd.DataFrame(\n",
    "        pd.Series([container(X[i, :], **kwargs) for i in range(n_instances)])\n",
    "    )\n",
    "    if index is not None:\n",
    "        Xt.index = index\n",
    "    if columns is not None:\n",
    "        Xt.columns = columns\n",
    "    return Xt"
   ]
  },
  {
   "cell_type": "code",
   "execution_count": null,
   "id": "15238008",
   "metadata": {
    "pycharm": {
     "name": "#%%\n"
    }
   },
   "outputs": [
    {
     "ename": "",
     "evalue": "",
     "output_type": "error",
     "traceback": [
      "\u001b[1;31mL'esecuzione di celle con 'Python 3.7.8 64-bit' richiede il pacchetto ipykernel.\n",
      "\u001b[1;31mEseguire il comando seguente per installare 'ipykernel' nell'ambiente Python. \n",
      "\u001b[1;31mComando: '\"c:/Program Files (x86)/Microsoft Visual Studio/Shared/Python37_64/python.exe\" -m pip install ipykernel -U --user --force-reinstall'"
     ]
    }
   ],
   "source": [
    "df[\"pos\"] = df.groupby(by=[\"tid\"]).cumcount()\n",
    "\n",
    "df_pivot_c1 = df.pivot(index=['tid'], columns=\"pos\", values='c1')#.fillna(0)\n",
    "df_pivot_c2 = df.pivot(index=['tid'], columns=\"pos\", values='c2')#.fillna(0)\n",
    "\n",
    "df_pivot_c1 = from_2d_array_to_nested(df_pivot_c1)\n",
    "df_pivot_c2 = from_2d_array_to_nested(df_pivot_c2)\n",
    "\n",
    "#df_pivot_c1 = df_pivot_c1.fillna(0.0).astype('float64')\n",
    "#df_pivot_c2 = df_pivot_c2.fillna(0.0).astype('float64')"
   ]
  },
  {
   "cell_type": "code",
   "execution_count": null,
   "id": "a0c8b753",
   "metadata": {
    "pycharm": {
     "name": "#%%\n"
    }
   },
   "outputs": [
    {
     "ename": "",
     "evalue": "",
     "output_type": "error",
     "traceback": [
      "\u001b[1;31mL'esecuzione di celle con 'Python 3.7.8 64-bit' richiede il pacchetto ipykernel.\n",
      "\u001b[1;31mEseguire il comando seguente per installare 'ipykernel' nell'ambiente Python. \n",
      "\u001b[1;31mComando: '\"c:/Program Files (x86)/Microsoft Visual Studio/Shared/Python37_64/python.exe\" -m pip install ipykernel -U --user --force-reinstall'"
     ]
    }
   ],
   "source": [
    "df_pivot = pd.DataFrame()\n",
    "df_pivot[\"dim_0\"] = df_pivot_c1[0]\n",
    "df_pivot[\"dim_1\"] = df_pivot_c2[0]\n",
    "\n",
    "df_pivot"
   ]
  },
  {
   "cell_type": "code",
   "execution_count": null,
   "id": "b340e307",
   "metadata": {
    "pycharm": {
     "name": "#%%\n"
    }
   },
   "outputs": [
    {
     "ename": "",
     "evalue": "",
     "output_type": "error",
     "traceback": [
      "\u001b[1;31mL'esecuzione di celle con 'Python 3.7.8 64-bit' richiede il pacchetto ipykernel.\n",
      "\u001b[1;31mEseguire il comando seguente per installare 'ipykernel' nell'ambiente Python. \n",
      "\u001b[1;31mComando: '\"c:/Program Files (x86)/Microsoft Visual Studio/Shared/Python37_64/python.exe\" -m pip install ipykernel -U --user --force-reinstall'"
     ]
    }
   ],
   "source": [
    "y = df.groupby(by=[\"tid\"]).max()[\"class\"]"
   ]
  },
  {
   "cell_type": "code",
   "execution_count": null,
   "id": "1e2266bd",
   "metadata": {
    "pycharm": {
     "name": "#%%\n"
    }
   },
   "outputs": [
    {
     "ename": "",
     "evalue": "",
     "output_type": "error",
     "traceback": [
      "\u001b[1;31mL'esecuzione di celle con 'Python 3.7.8 64-bit' richiede il pacchetto ipykernel.\n",
      "\u001b[1;31mEseguire il comando seguente per installare 'ipykernel' nell'ambiente Python. \n",
      "\u001b[1;31mComando: '\"c:/Program Files (x86)/Microsoft Visual Studio/Shared/Python37_64/python.exe\" -m pip install ipykernel -U --user --force-reinstall'"
     ]
    }
   ],
   "source": [
    "df_pivot.to_pickle(\"df_pivot\")\n",
    "y.to_pickle(\"y\")"
   ]
  },
  {
   "cell_type": "code",
   "execution_count": null,
   "id": "3e1c27ef",
   "metadata": {
    "pycharm": {
     "name": "#%%\n"
    }
   },
   "outputs": [
    {
     "ename": "",
     "evalue": "",
     "output_type": "error",
     "traceback": [
      "\u001b[1;31mL'esecuzione di celle con 'Python 3.7.8 64-bit' richiede il pacchetto ipykernel.\n",
      "\u001b[1;31mEseguire il comando seguente per installare 'ipykernel' nell'ambiente Python. \n",
      "\u001b[1;31mComando: '\"c:/Program Files (x86)/Microsoft Visual Studio/Shared/Python37_64/python.exe\" -m pip install ipykernel -U --user --force-reinstall'"
     ]
    }
   ],
   "source": []
  },
  {
   "cell_type": "code",
   "execution_count": null,
   "id": "93dad54a",
   "metadata": {
    "pycharm": {
     "name": "#%%\n"
    }
   },
   "outputs": [
    {
     "ename": "",
     "evalue": "",
     "output_type": "error",
     "traceback": [
      "\u001b[1;31mL'esecuzione di celle con 'Python 3.7.8 64-bit' richiede il pacchetto ipykernel.\n",
      "\u001b[1;31mEseguire il comando seguente per installare 'ipykernel' nell'ambiente Python. \n",
      "\u001b[1;31mComando: '\"c:/Program Files (x86)/Microsoft Visual Studio/Shared/Python37_64/python.exe\" -m pip install ipykernel -U --user --force-reinstall'"
     ]
    }
   ],
   "source": [
    "from sklearn.model_selection import train_test_split\n",
    "\n",
    "X_train, X_test, y_train, y_test = train_test_split(df_pivot, y, test_size=0.3)"
   ]
  },
  {
   "cell_type": "code",
   "execution_count": null,
   "id": "c9bec814",
   "metadata": {
    "pycharm": {
     "name": "#%%\n"
    }
   },
   "outputs": [
    {
     "ename": "",
     "evalue": "",
     "output_type": "error",
     "traceback": [
      "\u001b[1;31mL'esecuzione di celle con 'Python 3.7.8 64-bit' richiede il pacchetto ipykernel.\n",
      "\u001b[1;31mEseguire il comando seguente per installare 'ipykernel' nell'ambiente Python. \n",
      "\u001b[1;31mComando: '\"c:/Program Files (x86)/Microsoft Visual Studio/Shared/Python37_64/python.exe\" -m pip install ipykernel -U --user --force-reinstall'"
     ]
    }
   ],
   "source": [
    "print(len(X_train) )\n",
    "len(y_train)"
   ]
  },
  {
   "cell_type": "markdown",
   "id": "ab056cb9",
   "metadata": {
    "pycharm": {
     "name": "#%% md\n"
    }
   },
   "source": [
    "## Train with MrSQMClassifier"
   ]
  },
  {
   "cell_type": "code",
   "execution_count": null,
   "id": "b8ef3d4d",
   "metadata": {
    "pycharm": {
     "name": "#%%\n"
    }
   },
   "outputs": [
    {
     "ename": "",
     "evalue": "",
     "output_type": "error",
     "traceback": [
      "\u001b[1;31mL'esecuzione di celle con 'Python 3.7.8 64-bit' richiede il pacchetto ipykernel.\n",
      "\u001b[1;31mEseguire il comando seguente per installare 'ipykernel' nell'ambiente Python. \n",
      "\u001b[1;31mComando: '\"c:/Program Files (x86)/Microsoft Visual Studio/Shared/Python37_64/python.exe\" -m pip install ipykernel -U --user --force-reinstall'"
     ]
    }
   ],
   "source": [
    "def from_nested_to_2d_array(X, return_numpy=False):\n",
    "    \"\"\"Convert nested Panel to 2D numpy Panel.\n",
    "\n",
    "    Convert nested pandas DataFrame or Series with NumPy arrays or\n",
    "    pandas Series in cells into tabular\n",
    "    pandas DataFrame with primitives in cells, i.e. a data frame with the\n",
    "    same number of rows as the input data and\n",
    "    as many columns as there are observations in the nested series. Requires\n",
    "    series to be have the same index.\n",
    "\n",
    "    Parameters\n",
    "    ----------\n",
    "    X : nested pd.DataFrame or nested pd.Series\n",
    "    return_numpy : bool, default = False\n",
    "        - If True, returns a NumPy array of the tabular data.\n",
    "        - If False, returns a pandas DataFrame with row and column names.\n",
    "\n",
    "    Returns\n",
    "    -------\n",
    "     Xt : pandas DataFrame\n",
    "        Transformed DataFrame in tabular format\n",
    "    \"\"\"\n",
    "    # TODO does not handle dataframes with nested series columns *and*\n",
    "    #  standard columns containing only primitives\n",
    "\n",
    "    # convert nested data into tabular data\n",
    "    if isinstance(X, pd.Series):\n",
    "        Xt = np.array(X.tolist())\n",
    "\n",
    "    elif isinstance(X, pd.DataFrame):\n",
    "        try:\n",
    "            Xt = np.hstack([X.iloc[:, i].tolist() for i in range(X.shape[1])])\n",
    "\n",
    "        # except strange key error for specific case\n",
    "        except KeyError:\n",
    "            if (X.shape == (1, 1)) and (X.iloc[0, 0].shape == (1,)):\n",
    "                # in fact only breaks when an additional condition is met,\n",
    "                # namely that the index of the time series of a single value\n",
    "                # does not start with 0, e.g. pd.RangeIndex(9, 10) as is the\n",
    "                # case in forecasting\n",
    "                Xt = X.iloc[0, 0].values\n",
    "            else:\n",
    "                raise\n",
    "\n",
    "        if Xt.ndim != 2:\n",
    "            raise ValueError(\n",
    "                \"Tabularization failed, it's possible that not \"\n",
    "                \"all series were of equal length\"\n",
    "            )\n",
    "\n",
    "    else:\n",
    "        raise ValueError(\n",
    "            f\"Expected input is pandas Series or pandas DataFrame, \"\n",
    "            f\"but found: {type(X)}\"\n",
    "        )\n",
    "\n",
    "    if return_numpy:\n",
    "        return Xt\n",
    "\n",
    "    Xt = pd.DataFrame(Xt)\n",
    "\n",
    "    # create column names from time index\n",
    "    if X.ndim == 1:\n",
    "        time_index = (\n",
    "            X.iloc[0].index\n",
    "            if hasattr(X.iloc[0], \"index\")\n",
    "            else np.arange(X.iloc[0].shape[0])\n",
    "        )\n",
    "        columns = [f\"{X.name}__{i}\" for i in time_index]\n",
    "\n",
    "    else:\n",
    "        columns = []\n",
    "        for colname, col in X.items():\n",
    "            time_index = (\n",
    "                col.iloc[0].index\n",
    "                if hasattr(col.iloc[0], \"index\")\n",
    "                else np.arange(col.iloc[0].shape[0])\n",
    "            )\n",
    "            columns.extend([f\"{colname}__{i}\" for i in time_index])\n",
    "\n",
    "    Xt.index = X.index\n",
    "    Xt.columns = columns\n",
    "    return Xt\n",
    "\n"
   ]
  },
  {
   "cell_type": "code",
   "execution_count": null,
   "id": "a68db6b6",
   "metadata": {
    "pycharm": {
     "name": "#%%\n"
    }
   },
   "outputs": [
    {
     "ename": "",
     "evalue": "",
     "output_type": "error",
     "traceback": [
      "\u001b[1;31mL'esecuzione di celle con 'Python 3.7.8 64-bit' richiede il pacchetto ipykernel.\n",
      "\u001b[1;31mEseguire il comando seguente per installare 'ipykernel' nell'ambiente Python. \n",
      "\u001b[1;31mComando: '\"c:/Program Files (x86)/Microsoft Visual Studio/Shared/Python37_64/python.exe\" -m pip install ipykernel -U --user --force-reinstall'"
     ]
    }
   ],
   "source": [
    "import warnings\n",
    "from tqdm.auto import tqdm\n",
    "\n",
    "from tslearn.piecewise import SymbolicAggregateApproximation\n",
    "\n",
    "def generateAlphabet(dim):\n",
    "    return [(97+i).to_bytes(1, byteorder='big')for i in range(dim)] #97 --> 'a'\n",
    "\n",
    "def test(conf, ts_series):\n",
    "    ts_series = ts_series.dropna()\n",
    "    #esempio conf: {'method': 'sax', 'window': 64, 'word': 16, 'alphabet': 3, 'dilation': 1}\n",
    "    #print(conf, flush=True)\n",
    "\n",
    "    sax = SymbolicAggregateApproximation(n_segments=conf[\"word\"], alphabet_size_avg=conf[\"alphabet\"], scale=True)\n",
    "    alphabet = generateAlphabet(conf[\"alphabet\"])\n",
    "    result = b''\n",
    "    for i in [0]+list(range(1, len(ts_series)-conf[\"window\"])):\n",
    "        if i != 0:\n",
    "            result += b' '\n",
    "        with warnings.catch_warnings():\n",
    "            warnings.simplefilter('ignore')\n",
    "            X_sax = sax.fit_transform([ts_series.values[i:i+conf[\"window\"]]])\n",
    "        for char in X_sax[0]:\n",
    "            result += alphabet[char[0]]\n",
    "\n",
    "    return result\n",
    "\n",
    "def MY_transform_time_series(self, ts_x):\n",
    "\n",
    "        multi_tssr = []\n",
    "\n",
    "        #ts_x_array = from_nested_to_2d_array(ts_x).values\n",
    "\n",
    "        if not self.config:\n",
    "            self.config = []\n",
    "\n",
    "            min_ws = 16\n",
    "            min_len = max_len = len(ts_x.iloc[0, 0])\n",
    "            for a in ts_x.iloc[:, 0]:\n",
    "                min_len = min(min_len, len(a))\n",
    "                max_len = max(max_len, len(a))\n",
    "            max_ws = (min_len + max_len) // 2\n",
    "\n",
    "            pars = self.create_pars(min_ws, max_ws, self.nsax, random_sampling=True, is_sfa=False)\n",
    "            for p in pars:\n",
    "                self.config.append(\n",
    "                    {'method': 'sax', 'window': p[0], 'word': p[1], 'alphabet': p[2],\n",
    "                     # 'dilation': np.int32(2 ** np.random.uniform(0, np.log2((min_len - 1) / (p[0] - 1))))})\n",
    "                     'dilation': 1})\n",
    "\n",
    "            pars = self.create_pars(min_ws, max_ws, self.nsfa, random_sampling=True, is_sfa=True)\n",
    "            for p in pars:\n",
    "                self.config.append(\n",
    "                    {'method': 'sfa', 'window': p[0], 'word': p[1], 'alphabet': p[2], 'normSFA': False,\n",
    "                     'normTS': self.sfa_norm\n",
    "                     })\n",
    "\n",
    "        for cfg in tqdm(self.config, desc=\"converting to sax\"):\n",
    "            for i in range(ts_x.shape[1]):\n",
    "                tssr = []\n",
    "\n",
    "                if cfg['method'] == 'sax':  # convert time series to SAX\n",
    "                    #ps = PySAX(cfg['window'], cfg['word'], cfg['alphabet'], cfg['dilation'])\n",
    "                    for ts in ts_x.iloc[:, i]:\n",
    "                        sr = test(cfg, ts)#ps.timeseries2SAXseq(ts)\n",
    "                        if sr == b'': continue\n",
    "                        tssr.append(sr)\n",
    "                elif cfg['method'] == 'sfa':\n",
    "                    pass\n",
    "                multi_tssr.append(tssr)\n",
    "\n",
    "        new_multi_tssr = []\n",
    "\n",
    "        i = 0\n",
    "        for conf_lat, conf_lon in tqdm(zip(multi_tssr[0::2], multi_tssr[1::2]), desc=\"converting to trajectory-sax\",\n",
    "                                       total=len(multi_tssr[::2])):\n",
    "            i += 1\n",
    "            new_tssr = []\n",
    "            j = 0\n",
    "\n",
    "            \n",
    "            for k in range(len(conf_lat)):  #scorro le varie serie temporali\n",
    "                #print(f\"{i}-{k}, len={len(conf_lat)} {len(conf_lon)}  len_k={len(conf_lat[k])} {len(conf_lon[k])}\")\n",
    "                seq = b''\n",
    "                c = b'a'\n",
    "                dizionario = {}\n",
    "                \n",
    "                #test con riordinamento\n",
    "                s_lat_list = conf_lat[k]\n",
    "                s_lon_list = conf_lon[k]\n",
    "\n",
    "                s_lat_list.sort()\n",
    "                s_lon_list.sort()\n",
    "\n",
    "                for sym1, sym2 in zip(s_lat_list, s_lat_list):\n",
    "                    if key not in dizionario:\n",
    "                        c = (int.from_bytes(c, byteorder='big') + 1).to_bytes(1, byteorder='big')\n",
    "                        dizionario[key] = c\n",
    "\n",
    "\n",
    "                for sym1, sym2 in zip(conf_lat[k], conf_lon[k]):\n",
    "                    j += 1\n",
    "\n",
    "                    if sym1 == 32:\n",
    "                        seq += b' '\n",
    "                        continue\n",
    "\n",
    "                    key = (sym1, sym2)\n",
    "                    if key not in dizionario:\n",
    "                        print(\"ERRORE\")\n",
    "                    seq += dizionario[key]\n",
    "                new_tssr.append(seq)\n",
    "            new_multi_tssr.append(new_tssr)\n",
    "\n",
    "        return multi_tssr, new_multi_tssr\n",
    "\n"
   ]
  },
  {
   "cell_type": "code",
   "execution_count": null,
   "id": "536ca70d",
   "metadata": {
    "pycharm": {
     "name": "#%%\n"
    },
    "scrolled": true
   },
   "outputs": [
    {
     "ename": "",
     "evalue": "",
     "output_type": "error",
     "traceback": [
      "\u001b[1;31mL'esecuzione di celle con 'Python 3.7.8 64-bit' richiede il pacchetto ipykernel.\n",
      "\u001b[1;31mEseguire il comando seguente per installare 'ipykernel' nell'ambiente Python. \n",
      "\u001b[1;31mComando: '\"c:/Program Files (x86)/Microsoft Visual Studio/Shared/Python37_64/python.exe\" -m pip install ipykernel -U --user --force-reinstall'"
     ]
    }
   ],
   "source": [
    "from datetime import datetime\n",
    "\n",
    "from sklearn.metrics import accuracy_score, precision_score, f1_score, recall_score\n",
    "\n",
    "def compute_measures(test, pred):\n",
    "    return (accuracy_score(test, pred), precision_score(test, pred, average=\"micro\"), f1_score(test, pred, average=\"micro\"), recall_score(test, pred, average=\"micro\"))\n",
    "\n",
    "res = []\n",
    "time = []\n",
    "\n",
    "for i in tqdm(range(1, 15)):\n",
    "    clf = mrsqm.MrSQMClassifier(MY_transform_time_series, nsax=int(1.5**i), nsfa=0, random_state=42)\n",
    "    start = datetime.now()\n",
    "    clf.fit(X_train,y_train)\n",
    "    stop = start - datetime.now()\n",
    "    y_pred = clf.predict(X_test)\n",
    "    print(metrics.accuracy_score(y_test, y_pred))\n",
    "    \n",
    "    res.append(compute_measures(y_test, y_pred))\n",
    "    \n",
    "    time.append(stop.total_seconds()*1000)\n",
    "    \n",
    "\n",
    "#try:\n",
    "#    clf.fit(X_train,y_train)\n",
    "#except Exception as e: #raise Exception(X, mr_seqs, self.sequences)\n",
    "#    X = e.args[0]\n",
    "#    mr_seqs_old = e.args[1]\n",
    "#    mr_seqs = e.args[2]\n",
    "#    sequences = e.args[3]\n",
    "#    print(\"TUTTO OK\")"
   ]
  },
  {
   "cell_type": "code",
   "execution_count": null,
   "id": "02e5ef0c",
   "metadata": {
    "pycharm": {
     "name": "#%%\n"
    }
   },
   "outputs": [
    {
     "ename": "",
     "evalue": "",
     "output_type": "error",
     "traceback": [
      "\u001b[1;31mL'esecuzione di celle con 'Python 3.7.8 64-bit' richiede il pacchetto ipykernel.\n",
      "\u001b[1;31mEseguire il comando seguente per installare 'ipykernel' nell'ambiente Python. \n",
      "\u001b[1;31mComando: '\"c:/Program Files (x86)/Microsoft Visual Studio/Shared/Python37_64/python.exe\" -m pip install ipykernel -U --user --force-reinstall'"
     ]
    }
   ],
   "source": [
    "df_res_rig = pd.DataFrame(res, columns=[\"acc\", \"prec\", \"f1\", \"recall\"])\n",
    "\n",
    "df_res_rig[\"t\"] = time\n",
    "\n",
    "df_res_rig.t *= -1\n",
    "\n",
    "df_res_rig[\"n\"] = [int(1.5**x) for x in range(1, 13)]\n",
    "\n",
    "df_res_rig.to_csv(\"Test MrSQM Animals.csv\", index=None)"
   ]
  },
  {
   "cell_type": "code",
   "execution_count": null,
   "id": "1c41bb3c",
   "metadata": {
    "pycharm": {
     "name": "#%%\n"
    }
   },
   "outputs": [
    {
     "ename": "",
     "evalue": "",
     "output_type": "error",
     "traceback": [
      "\u001b[1;31mL'esecuzione di celle con 'Python 3.7.8 64-bit' richiede il pacchetto ipykernel.\n",
      "\u001b[1;31mEseguire il comando seguente per installare 'ipykernel' nell'ambiente Python. \n",
      "\u001b[1;31mComando: '\"c:/Program Files (x86)/Microsoft Visual Studio/Shared/Python37_64/python.exe\" -m pip install ipykernel -U --user --force-reinstall'"
     ]
    }
   ],
   "source": [
    "df_res_rig"
   ]
  },
  {
   "cell_type": "code",
   "execution_count": null,
   "id": "58eec5d8",
   "metadata": {
    "pycharm": {
     "name": "#%%\n"
    }
   },
   "outputs": [
    {
     "ename": "",
     "evalue": "",
     "output_type": "error",
     "traceback": [
      "\u001b[1;31mL'esecuzione di celle con 'Python 3.7.8 64-bit' richiede il pacchetto ipykernel.\n",
      "\u001b[1;31mEseguire il comando seguente per installare 'ipykernel' nell'ambiente Python. \n",
      "\u001b[1;31mComando: '\"c:/Program Files (x86)/Microsoft Visual Studio/Shared/Python37_64/python.exe\" -m pip install ipykernel -U --user --force-reinstall'"
     ]
    }
   ],
   "source": []
  },
  {
   "cell_type": "code",
   "execution_count": null,
   "id": "46c94f5d",
   "metadata": {
    "pycharm": {
     "name": "#%%\n"
    }
   },
   "outputs": [
    {
     "ename": "",
     "evalue": "",
     "output_type": "error",
     "traceback": [
      "\u001b[1;31mL'esecuzione di celle con 'Python 3.7.8 64-bit' richiede il pacchetto ipykernel.\n",
      "\u001b[1;31mEseguire il comando seguente per installare 'ipykernel' nell'ambiente Python. \n",
      "\u001b[1;31mComando: '\"c:/Program Files (x86)/Microsoft Visual Studio/Shared/Python37_64/python.exe\" -m pip install ipykernel -U --user --force-reinstall'"
     ]
    }
   ],
   "source": [
    "matrix = np.zeros(())"
   ]
  },
  {
   "cell_type": "code",
   "execution_count": null,
   "id": "192a1276",
   "metadata": {
    "pycharm": {
     "name": "#%%\n"
    }
   },
   "outputs": [
    {
     "ename": "",
     "evalue": "",
     "output_type": "error",
     "traceback": [
      "\u001b[1;31mL'esecuzione di celle con 'Python 3.7.8 64-bit' richiede il pacchetto ipykernel.\n",
      "\u001b[1;31mEseguire il comando seguente per installare 'ipykernel' nell'ambiente Python. \n",
      "\u001b[1;31mComando: '\"c:/Program Files (x86)/Microsoft Visual Studio/Shared/Python37_64/python.exe\" -m pip install ipykernel -U --user --force-reinstall'"
     ]
    }
   ],
   "source": []
  },
  {
   "cell_type": "code",
   "execution_count": null,
   "id": "e3f5fc27",
   "metadata": {
    "pycharm": {
     "name": "#%%\n"
    }
   },
   "outputs": [
    {
     "ename": "",
     "evalue": "",
     "output_type": "error",
     "traceback": [
      "\u001b[1;31mL'esecuzione di celle con 'Python 3.7.8 64-bit' richiede il pacchetto ipykernel.\n",
      "\u001b[1;31mEseguire il comando seguente per installare 'ipykernel' nell'ambiente Python. \n",
      "\u001b[1;31mComando: '\"c:/Program Files (x86)/Microsoft Visual Studio/Shared/Python37_64/python.exe\" -m pip install ipykernel -U --user --force-reinstall'"
     ]
    }
   ],
   "source": []
  },
  {
   "cell_type": "code",
   "execution_count": null,
   "id": "085a70f2",
   "metadata": {
    "pycharm": {
     "name": "#%%\n"
    }
   },
   "outputs": [
    {
     "ename": "",
     "evalue": "",
     "output_type": "error",
     "traceback": [
      "\u001b[1;31mL'esecuzione di celle con 'Python 3.7.8 64-bit' richiede il pacchetto ipykernel.\n",
      "\u001b[1;31mEseguire il comando seguente per installare 'ipykernel' nell'ambiente Python. \n",
      "\u001b[1;31mComando: '\"c:/Program Files (x86)/Microsoft Visual Studio/Shared/Python37_64/python.exe\" -m pip install ipykernel -U --user --force-reinstall'"
     ]
    }
   ],
   "source": []
  },
  {
   "cell_type": "code",
   "execution_count": null,
   "id": "867532d8",
   "metadata": {
    "pycharm": {
     "name": "#%%\n"
    }
   },
   "outputs": [
    {
     "ename": "",
     "evalue": "",
     "output_type": "error",
     "traceback": [
      "\u001b[1;31mL'esecuzione di celle con 'Python 3.7.8 64-bit' richiede il pacchetto ipykernel.\n",
      "\u001b[1;31mEseguire il comando seguente per installare 'ipykernel' nell'ambiente Python. \n",
      "\u001b[1;31mComando: '\"c:/Program Files (x86)/Microsoft Visual Studio/Shared/Python37_64/python.exe\" -m pip install ipykernel -U --user --force-reinstall'"
     ]
    }
   ],
   "source": []
  },
  {
   "cell_type": "code",
   "execution_count": null,
   "id": "6ba8d308",
   "metadata": {
    "pycharm": {
     "name": "#%%\n"
    }
   },
   "outputs": [
    {
     "ename": "",
     "evalue": "",
     "output_type": "error",
     "traceback": [
      "\u001b[1;31mL'esecuzione di celle con 'Python 3.7.8 64-bit' richiede il pacchetto ipykernel.\n",
      "\u001b[1;31mEseguire il comando seguente per installare 'ipykernel' nell'ambiente Python. \n",
      "\u001b[1;31mComando: '\"c:/Program Files (x86)/Microsoft Visual Studio/Shared/Python37_64/python.exe\" -m pip install ipykernel -U --user --force-reinstall'"
     ]
    }
   ],
   "source": [
    "len(X)"
   ]
  },
  {
   "cell_type": "code",
   "execution_count": null,
   "id": "d64672ff",
   "metadata": {
    "pycharm": {
     "name": "#%%\n"
    }
   },
   "outputs": [
    {
     "ename": "",
     "evalue": "",
     "output_type": "error",
     "traceback": [
      "\u001b[1;31mL'esecuzione di celle con 'Python 3.7.8 64-bit' richiede il pacchetto ipykernel.\n",
      "\u001b[1;31mEseguire il comando seguente per installare 'ipykernel' nell'ambiente Python. \n",
      "\u001b[1;31mComando: '\"c:/Program Files (x86)/Microsoft Visual Studio/Shared/Python37_64/python.exe\" -m pip install ipykernel -U --user --force-reinstall'"
     ]
    }
   ],
   "source": [
    "len(y)"
   ]
  },
  {
   "cell_type": "code",
   "execution_count": null,
   "id": "a6feb37d",
   "metadata": {
    "pycharm": {
     "name": "#%%\n"
    }
   },
   "outputs": [
    {
     "ename": "",
     "evalue": "",
     "output_type": "error",
     "traceback": [
      "\u001b[1;31mL'esecuzione di celle con 'Python 3.7.8 64-bit' richiede il pacchetto ipykernel.\n",
      "\u001b[1;31mEseguire il comando seguente per installare 'ipykernel' nell'ambiente Python. \n",
      "\u001b[1;31mComando: '\"c:/Program Files (x86)/Microsoft Visual Studio/Shared/Python37_64/python.exe\" -m pip install ipykernel -U --user --force-reinstall'"
     ]
    }
   ],
   "source": [
    "mr_seqs"
   ]
  },
  {
   "cell_type": "code",
   "execution_count": null,
   "id": "9431d507",
   "metadata": {
    "pycharm": {
     "name": "#%%\n"
    }
   },
   "outputs": [
    {
     "ename": "",
     "evalue": "",
     "output_type": "error",
     "traceback": [
      "\u001b[1;31mL'esecuzione di celle con 'Python 3.7.8 64-bit' richiede il pacchetto ipykernel.\n",
      "\u001b[1;31mEseguire il comando seguente per installare 'ipykernel' nell'ambiente Python. \n",
      "\u001b[1;31mComando: '\"c:/Program Files (x86)/Microsoft Visual Studio/Shared/Python37_64/python.exe\" -m pip install ipykernel -U --user --force-reinstall'"
     ]
    }
   ],
   "source": [
    "mr_seqs_old"
   ]
  },
  {
   "cell_type": "code",
   "execution_count": null,
   "id": "39c4694e",
   "metadata": {
    "pycharm": {
     "name": "#%%\n"
    }
   },
   "outputs": [
    {
     "ename": "",
     "evalue": "",
     "output_type": "error",
     "traceback": [
      "\u001b[1;31mL'esecuzione di celle con 'Python 3.7.8 64-bit' richiede il pacchetto ipykernel.\n",
      "\u001b[1;31mEseguire il comando seguente per installare 'ipykernel' nell'ambiente Python. \n",
      "\u001b[1;31mComando: '\"c:/Program Files (x86)/Microsoft Visual Studio/Shared/Python37_64/python.exe\" -m pip install ipykernel -U --user --force-reinstall'"
     ]
    }
   ],
   "source": [
    "mr_seqs[2]"
   ]
  },
  {
   "cell_type": "code",
   "execution_count": null,
   "id": "3be3f218",
   "metadata": {
    "pycharm": {
     "name": "#%%\n"
    }
   },
   "outputs": [
    {
     "ename": "",
     "evalue": "",
     "output_type": "error",
     "traceback": [
      "\u001b[1;31mL'esecuzione di celle con 'Python 3.7.8 64-bit' richiede il pacchetto ipykernel.\n",
      "\u001b[1;31mEseguire il comando seguente per installare 'ipykernel' nell'ambiente Python. \n",
      "\u001b[1;31mComando: '\"c:/Program Files (x86)/Microsoft Visual Studio/Shared/Python37_64/python.exe\" -m pip install ipykernel -U --user --force-reinstall'"
     ]
    }
   ],
   "source": [
    "mr_seqs_old[0][0]"
   ]
  },
  {
   "cell_type": "code",
   "execution_count": null,
   "id": "1d84a74e",
   "metadata": {
    "pycharm": {
     "name": "#%%\n"
    }
   },
   "outputs": [
    {
     "ename": "",
     "evalue": "",
     "output_type": "error",
     "traceback": [
      "\u001b[1;31mL'esecuzione di celle con 'Python 3.7.8 64-bit' richiede il pacchetto ipykernel.\n",
      "\u001b[1;31mEseguire il comando seguente per installare 'ipykernel' nell'ambiente Python. \n",
      "\u001b[1;31mComando: '\"c:/Program Files (x86)/Microsoft Visual Studio/Shared/Python37_64/python.exe\" -m pip install ipykernel -U --user --force-reinstall'"
     ]
    }
   ],
   "source": [
    "clf.config"
   ]
  },
  {
   "cell_type": "markdown",
   "id": "e8c379ef",
   "metadata": {
    "pycharm": {
     "name": "#%% md\n"
    }
   },
   "source": [
    "__mr\\_seql__: lista di liste\n",
    "\n",
    "Ogni lista rappresenta una configurazione (tot: 8*num_dim liste).\n",
    "\n",
    "Ogni lista di \"primo livello\" è composta da altre 28 liste (= al numero di istanze)\n",
    "\n",
    "Queste liste di \"secondo livello\" contengono un array di byte di lunghezza variabile.\n",
    "- la lunghezza di questo array dipende dalla TS? (sono tutte lunghe 286 valori)"
   ]
  },
  {
   "cell_type": "markdown",
   "id": "16bedced",
   "metadata": {
    "pycharm": {
     "name": "#%% md\n"
    }
   },
   "source": [
    "## Test the model"
   ]
  },
  {
   "cell_type": "code",
   "execution_count": null,
   "id": "0362bb91",
   "metadata": {
    "pycharm": {
     "name": "#%%\n"
    }
   },
   "outputs": [
    {
     "ename": "",
     "evalue": "",
     "output_type": "error",
     "traceback": [
      "\u001b[1;31mL'esecuzione di celle con 'Python 3.7.8 64-bit' richiede il pacchetto ipykernel.\n",
      "\u001b[1;31mEseguire il comando seguente per installare 'ipykernel' nell'ambiente Python. \n",
      "\u001b[1;31mComando: '\"c:/Program Files (x86)/Microsoft Visual Studio/Shared/Python37_64/python.exe\" -m pip install ipykernel -U --user --force-reinstall'"
     ]
    }
   ],
   "source": [
    "clf.filters"
   ]
  },
  {
   "cell_type": "code",
   "execution_count": null,
   "id": "085cfedb",
   "metadata": {
    "pycharm": {
     "name": "#%%\n"
    }
   },
   "outputs": [
    {
     "ename": "",
     "evalue": "",
     "output_type": "error",
     "traceback": [
      "\u001b[1;31mL'esecuzione di celle con 'Python 3.7.8 64-bit' richiede il pacchetto ipykernel.\n",
      "\u001b[1;31mEseguire il comando seguente per installare 'ipykernel' nell'ambiente Python. \n",
      "\u001b[1;31mComando: '\"c:/Program Files (x86)/Microsoft Visual Studio/Shared/Python37_64/python.exe\" -m pip install ipykernel -U --user --force-reinstall'"
     ]
    }
   ],
   "source": [
    "y_pred = clf.predict(X_test)\n",
    "print(metrics.accuracy_score(y_test, y_pred))"
   ]
  },
  {
   "cell_type": "code",
   "execution_count": null,
   "id": "18385850",
   "metadata": {
    "pycharm": {
     "name": "#%%\n"
    }
   },
   "outputs": [
    {
     "ename": "",
     "evalue": "",
     "output_type": "error",
     "traceback": [
      "\u001b[1;31mL'esecuzione di celle con 'Python 3.7.8 64-bit' richiede il pacchetto ipykernel.\n",
      "\u001b[1;31mEseguire il comando seguente per installare 'ipykernel' nell'ambiente Python. \n",
      "\u001b[1;31mComando: '\"c:/Program Files (x86)/Microsoft Visual Studio/Shared/Python37_64/python.exe\" -m pip install ipykernel -U --user --force-reinstall'"
     ]
    }
   ],
   "source": []
  },
  {
   "cell_type": "code",
   "execution_count": null,
   "id": "0098f790",
   "metadata": {
    "pycharm": {
     "name": "#%%\n"
    }
   },
   "outputs": [
    {
     "ename": "",
     "evalue": "",
     "output_type": "error",
     "traceback": [
      "\u001b[1;31mL'esecuzione di celle con 'Python 3.7.8 64-bit' richiede il pacchetto ipykernel.\n",
      "\u001b[1;31mEseguire il comando seguente per installare 'ipykernel' nell'ambiente Python. \n",
      "\u001b[1;31mComando: '\"c:/Program Files (x86)/Microsoft Visual Studio/Shared/Python37_64/python.exe\" -m pip install ipykernel -U --user --force-reinstall'"
     ]
    }
   ],
   "source": [
    "clf.train_x"
   ]
  },
  {
   "cell_type": "code",
   "execution_count": null,
   "id": "c01bb530",
   "metadata": {
    "pycharm": {
     "name": "#%%\n"
    }
   },
   "outputs": [
    {
     "ename": "",
     "evalue": "",
     "output_type": "error",
     "traceback": [
      "\u001b[1;31mL'esecuzione di celle con 'Python 3.7.8 64-bit' richiede il pacchetto ipykernel.\n",
      "\u001b[1;31mEseguire il comando seguente per installare 'ipykernel' nell'ambiente Python. \n",
      "\u001b[1;31mComando: '\"c:/Program Files (x86)/Microsoft Visual Studio/Shared/Python37_64/python.exe\" -m pip install ipykernel -U --user --force-reinstall'"
     ]
    }
   ],
   "source": []
  },
  {
   "cell_type": "code",
   "execution_count": null,
   "id": "0e698bab",
   "metadata": {
    "pycharm": {
     "name": "#%%\n"
    }
   },
   "outputs": [
    {
     "ename": "",
     "evalue": "",
     "output_type": "error",
     "traceback": [
      "\u001b[1;31mL'esecuzione di celle con 'Python 3.7.8 64-bit' richiede il pacchetto ipykernel.\n",
      "\u001b[1;31mEseguire il comando seguente per installare 'ipykernel' nell'ambiente Python. \n",
      "\u001b[1;31mComando: '\"c:/Program Files (x86)/Microsoft Visual Studio/Shared/Python37_64/python.exe\" -m pip install ipykernel -U --user --force-reinstall'"
     ]
    }
   ],
   "source": []
  },
  {
   "cell_type": "code",
   "execution_count": null,
   "id": "4c347181",
   "metadata": {
    "pycharm": {
     "name": "#%%\n"
    }
   },
   "outputs": [
    {
     "ename": "",
     "evalue": "",
     "output_type": "error",
     "traceback": [
      "\u001b[1;31mL'esecuzione di celle con 'Python 3.7.8 64-bit' richiede il pacchetto ipykernel.\n",
      "\u001b[1;31mEseguire il comando seguente per installare 'ipykernel' nell'ambiente Python. \n",
      "\u001b[1;31mComando: '\"c:/Program Files (x86)/Microsoft Visual Studio/Shared/Python37_64/python.exe\" -m pip install ipykernel -U --user --force-reinstall'"
     ]
    }
   ],
   "source": []
  },
  {
   "cell_type": "code",
   "execution_count": null,
   "id": "38c7b6e7",
   "metadata": {
    "pycharm": {
     "name": "#%%\n"
    }
   },
   "outputs": [
    {
     "ename": "",
     "evalue": "",
     "output_type": "error",
     "traceback": [
      "\u001b[1;31mL'esecuzione di celle con 'Python 3.7.8 64-bit' richiede il pacchetto ipykernel.\n",
      "\u001b[1;31mEseguire il comando seguente per installare 'ipykernel' nell'ambiente Python. \n",
      "\u001b[1;31mComando: '\"c:/Program Files (x86)/Microsoft Visual Studio/Shared/Python37_64/python.exe\" -m pip install ipykernel -U --user --force-reinstall'"
     ]
    }
   ],
   "source": []
  },
  {
   "cell_type": "code",
   "execution_count": null,
   "id": "fad0a55d",
   "metadata": {
    "pycharm": {
     "name": "#%%\n"
    }
   },
   "outputs": [
    {
     "ename": "",
     "evalue": "",
     "output_type": "error",
     "traceback": [
      "\u001b[1;31mL'esecuzione di celle con 'Python 3.7.8 64-bit' richiede il pacchetto ipykernel.\n",
      "\u001b[1;31mEseguire il comando seguente per installare 'ipykernel' nell'ambiente Python. \n",
      "\u001b[1;31mComando: '\"c:/Program Files (x86)/Microsoft Visual Studio/Shared/Python37_64/python.exe\" -m pip install ipykernel -U --user --force-reinstall'"
     ]
    }
   ],
   "source": []
  },
  {
   "cell_type": "code",
   "execution_count": null,
   "id": "62027dfa",
   "metadata": {
    "pycharm": {
     "name": "#%%\n"
    }
   },
   "outputs": [
    {
     "ename": "",
     "evalue": "",
     "output_type": "error",
     "traceback": [
      "\u001b[1;31mL'esecuzione di celle con 'Python 3.7.8 64-bit' richiede il pacchetto ipykernel.\n",
      "\u001b[1;31mEseguire il comando seguente per installare 'ipykernel' nell'ambiente Python. \n",
      "\u001b[1;31mComando: '\"c:/Program Files (x86)/Microsoft Visual Studio/Shared/Python37_64/python.exe\" -m pip install ipykernel -U --user --force-reinstall'"
     ]
    }
   ],
   "source": []
  }
 ],
 "metadata": {
  "kernelspec": {
   "display_name": "Python 3 (ipykernel)",
   "language": "python",
   "name": "python3"
  },
  "language_info": {
   "codemirror_mode": {
    "name": "ipython",
    "version": 3
   },
   "file_extension": ".py",
   "mimetype": "text/x-python",
   "name": "python",
   "nbconvert_exporter": "python",
   "pygments_lexer": "ipython3",
   "version": "3.9.12"
  },
  "vscode": {
   "interpreter": {
    "hash": "0a54084e6b208ee8d1ce3989ffc20924477a5f55f5a43e22e699a6741623861e"
   }
  }
 },
 "nbformat": 4,
 "nbformat_minor": 5
}
