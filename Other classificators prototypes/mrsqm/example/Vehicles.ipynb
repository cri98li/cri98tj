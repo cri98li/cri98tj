{
 "cells": [
  {
   "cell_type": "code",
   "execution_count": 1,
   "id": "auburn-vienna",
   "metadata": {
    "pycharm": {
     "name": "#%%\n"
    }
   },
   "outputs": [],
   "source": [
    "import mrsqm\n",
    "import numpy as np\n",
    "import pandas as pd\n",
    "from sklearn import metrics\n",
    "from scipy.interpolate import interp1d\n",
    "import matplotlib.pyplot as plt\n",
    "import timeit"
   ]
  },
  {
   "cell_type": "code",
   "execution_count": 2,
   "id": "9ef81926",
   "metadata": {
    "pycharm": {
     "name": "#%%\n"
    }
   },
   "outputs": [],
   "source": [
    "# code to read arff data\n",
    "# Source: https://github.com/alan-turing-institute/sktime/blob/main/sktime/utils/data_io.py\n",
    "\n",
    "def load_from_arff_to_dataframe(\n",
    "\n",
    "    full_file_path_and_name,\n",
    "    has_class_labels=True,\n",
    "    return_separate_X_and_y=True,\n",
    "    replace_missing_vals_with=\"NaN\",\n",
    "):\n",
    "    \"\"\"Load data from a .ts file into a Pandas DataFrame.\n",
    "    Parameters\n",
    "    ----------\n",
    "    full_file_path_and_name: str\n",
    "        The full pathname of the .ts file to read.\n",
    "    has_class_labels: bool\n",
    "        true then line contains separated strings and class value contains\n",
    "        list of separated strings, check for 'return_separate_X_and_y'\n",
    "        false otherwise.\n",
    "    return_separate_X_and_y: bool\n",
    "        true then X and Y values should be returned as separate Data Frames (\n",
    "        X) and a numpy array (y), false otherwise.\n",
    "        This is only relevant for data.\n",
    "    replace_missing_vals_with: str\n",
    "       The value that missing values in the text file should be replaced\n",
    "       with prior to parsing.\n",
    "    Returns\n",
    "    -------\n",
    "    DataFrame, ndarray\n",
    "        If return_separate_X_and_y then a tuple containing a DataFrame and a\n",
    "        numpy array containing the relevant time-series and corresponding\n",
    "        class values.\n",
    "    DataFrame\n",
    "        If not return_separate_X_and_y then a single DataFrame containing\n",
    "        all time-series and (if relevant) a column \"class_vals\" the\n",
    "        associated class values.\n",
    "    \"\"\"\n",
    "    \n",
    "    instance_list = []\n",
    "    class_val_list = []\n",
    "\n",
    "    data_started = False\n",
    "    is_multi_variate = False\n",
    "    is_first_case = True\n",
    "\n",
    "    # Parse the file\n",
    "    # print(full_file_path_and_name)\n",
    "    with open(full_file_path_and_name, \"r\", encoding=\"utf-8\") as f:\n",
    "        for line in f:\n",
    "\n",
    "            if line.strip():\n",
    "                if (\n",
    "                    is_multi_variate is False\n",
    "                    and \"@attribute\" in line.lower()\n",
    "                    and \"relational\" in line.lower()\n",
    "                ):\n",
    "                    is_multi_variate = True\n",
    "\n",
    "                if \"@data\" in line.lower():\n",
    "                    data_started = True\n",
    "                    continue\n",
    "\n",
    "                # if the 'data tag has been found, the header information\n",
    "                # has been cleared and now data can be loaded\n",
    "                if data_started:\n",
    "                    line = line.replace(\"?\", replace_missing_vals_with)\n",
    "\n",
    "                    if is_multi_variate:\n",
    "                        if has_class_labels:\n",
    "                            line, class_val = line.split(\"',\")\n",
    "                            class_val_list.append(class_val.strip())\n",
    "                        dimensions = line.split(\"\\\\n\")\n",
    "                        dimensions[0] = dimensions[0].replace(\"'\", \"\")\n",
    "\n",
    "                        if is_first_case:\n",
    "                            for _d in range(len(dimensions)):\n",
    "                                instance_list.append([])\n",
    "                            is_first_case = False\n",
    "\n",
    "                        for dim in range(len(dimensions)):\n",
    "                            instance_list[dim].append(\n",
    "                                pd.Series(\n",
    "                                    [float(i) for i in dimensions[dim].split(\",\")]\n",
    "                                )\n",
    "                            )\n",
    "\n",
    "                    else:\n",
    "                        if is_first_case:\n",
    "                            instance_list.append([])\n",
    "                            is_first_case = False\n",
    "\n",
    "                        line_parts = line.split(\",\")\n",
    "                        if has_class_labels:\n",
    "                            instance_list[0].append(\n",
    "                                pd.Series(\n",
    "                                    [\n",
    "                                        float(i)\n",
    "                                        for i in line_parts[: len(line_parts) - 1]\n",
    "                                    ]\n",
    "                                )\n",
    "                            )\n",
    "                            class_val_list.append(line_parts[-1].strip())\n",
    "                        else:\n",
    "                            instance_list[0].append(\n",
    "                                pd.Series(\n",
    "                                    [float(i) for i in line_parts[: len(line_parts)]]\n",
    "                                )\n",
    "                            )\n",
    "\n",
    "    x_data = pd.DataFrame(dtype=np.float32)\n",
    "    for dim in range(len(instance_list)):\n",
    "        x_data[\"dim_\" + str(dim)] = instance_list[dim]\n",
    "\n",
    "    if has_class_labels:\n",
    "        if return_separate_X_and_y:\n",
    "            return x_data, np.asarray(class_val_list)\n",
    "        else:\n",
    "            x_data[\"class_vals\"] = pd.Series(class_val_list)\n",
    "\n",
    "    return x_data\n",
    "\n",
    "# code to visualize saliency map\n",
    "# Source: https://github.com/mlgig/explanation4tsc/blob/master/3.%20Compare%20Metrics%20and%20Draw%20Figures.ipynb\n",
    "def plot_time_series_with_color(ts, weight, save = False):   \n",
    "    cas = weight\n",
    "    \n",
    "    def transform(X):\n",
    "        ma,mi = np.max(X), np.min(X)\n",
    "        X = (X - mi)/(ma-mi)\n",
    "        return X*100\n",
    "    cas = transform(cas)\n",
    "\n",
    "    max_length1, max_length2 = len(weight),10000 #\n",
    "    x1 = np.linspace(0,max_length1,num = max_length1)\n",
    "    x2 = np.linspace(0,max_length1,num = max_length2)\n",
    "    y1 = ts\n",
    "    f = interp1d(x1, y1)\n",
    "\n",
    "    fcas = interp1d(x1, cas)\n",
    "    cas = fcas(x2)\n",
    "\n",
    "    plt.figure(figsize = (5,3.5))\n",
    "    plt.scatter(x2,f(x2), c = cas, cmap = 'jet', marker='.', s= 1,vmin=0,vmax = 100)    \n",
    "    plt.colorbar()\n",
    "    if save: plt.savefig('imgout/SM_%s_%s_Class%d_idx%d.png' %(dataset, explanation_method, label[i],i))\n"
   ]
  },
  {
   "cell_type": "code",
   "execution_count": 2,
   "id": "822e3b0f",
   "metadata": {
    "pycharm": {
     "name": "#%%\n"
    }
   },
   "outputs": [],
   "source": []
  },
  {
   "cell_type": "code",
   "execution_count": 2,
   "id": "e9349506",
   "metadata": {
    "pycharm": {
     "name": "#%%\n"
    }
   },
   "outputs": [],
   "source": []
  },
  {
   "cell_type": "code",
   "execution_count": 2,
   "id": "2458cc3a",
   "metadata": {
    "pycharm": {
     "name": "#%%\n"
    }
   },
   "outputs": [],
   "source": []
  },
  {
   "cell_type": "code",
   "execution_count": 3,
   "id": "d28f608f",
   "metadata": {
    "pycharm": {
     "name": "#%%\n"
    }
   },
   "outputs": [
    {
     "name": "stdout",
     "output_type": "stream",
     "text": [
      "Coffee\n",
      "(28, 1) (28,)\n",
      "(28, 1) (28,)\n"
     ]
    },
    {
     "data": {
      "text/html": [
       "<div>\n",
       "<style scoped>\n",
       "    .dataframe tbody tr th:only-of-type {\n",
       "        vertical-align: middle;\n",
       "    }\n",
       "\n",
       "    .dataframe tbody tr th {\n",
       "        vertical-align: top;\n",
       "    }\n",
       "\n",
       "    .dataframe thead th {\n",
       "        text-align: right;\n",
       "    }\n",
       "</style>\n",
       "<table border=\"1\" class=\"dataframe\">\n",
       "  <thead>\n",
       "    <tr style=\"text-align: right;\">\n",
       "      <th></th>\n",
       "      <th>dim_0</th>\n",
       "    </tr>\n",
       "  </thead>\n",
       "  <tbody>\n",
       "    <tr>\n",
       "      <th>0</th>\n",
       "      <td>0     -0.518419\n",
       "1     -0.485884\n",
       "2     -0.50500...</td>\n",
       "    </tr>\n",
       "    <tr>\n",
       "      <th>1</th>\n",
       "      <td>0     -0.548462\n",
       "1     -0.533681\n",
       "2     -0.51472...</td>\n",
       "    </tr>\n",
       "    <tr>\n",
       "      <th>2</th>\n",
       "      <td>0     -0.472634\n",
       "1     -0.415546\n",
       "2     -0.35992...</td>\n",
       "    </tr>\n",
       "    <tr>\n",
       "      <th>3</th>\n",
       "      <td>0     -0.509521\n",
       "1     -0.484218\n",
       "2     -0.47795...</td>\n",
       "    </tr>\n",
       "    <tr>\n",
       "      <th>4</th>\n",
       "      <td>0     -0.563427\n",
       "1     -0.533896\n",
       "2     -0.54382...</td>\n",
       "    </tr>\n",
       "    <tr>\n",
       "      <th>5</th>\n",
       "      <td>0     -0.441485\n",
       "1     -0.449366\n",
       "2     -0.44454...</td>\n",
       "    </tr>\n",
       "    <tr>\n",
       "      <th>6</th>\n",
       "      <td>0     -0.496438\n",
       "1     -0.465677\n",
       "2     -0.41583...</td>\n",
       "    </tr>\n",
       "    <tr>\n",
       "      <th>7</th>\n",
       "      <td>0     -0.460578\n",
       "1     -0.369229\n",
       "2     -0.35411...</td>\n",
       "    </tr>\n",
       "    <tr>\n",
       "      <th>8</th>\n",
       "      <td>0     -0.598464\n",
       "1     -0.559980\n",
       "2     -0.56824...</td>\n",
       "    </tr>\n",
       "    <tr>\n",
       "      <th>9</th>\n",
       "      <td>0     -0.645319\n",
       "1     -0.584381\n",
       "2     -0.59375...</td>\n",
       "    </tr>\n",
       "    <tr>\n",
       "      <th>10</th>\n",
       "      <td>0     -0.672989\n",
       "1     -0.652671\n",
       "2     -0.64481...</td>\n",
       "    </tr>\n",
       "    <tr>\n",
       "      <th>11</th>\n",
       "      <td>0     -0.618481\n",
       "1     -0.585245\n",
       "2     -0.63195...</td>\n",
       "    </tr>\n",
       "    <tr>\n",
       "      <th>12</th>\n",
       "      <td>0     -0.614277\n",
       "1     -0.593555\n",
       "2     -0.59201...</td>\n",
       "    </tr>\n",
       "    <tr>\n",
       "      <th>13</th>\n",
       "      <td>0     -0.584327\n",
       "1     -0.560878\n",
       "2     -0.58063...</td>\n",
       "    </tr>\n",
       "    <tr>\n",
       "      <th>14</th>\n",
       "      <td>0     -0.519739\n",
       "1     -0.477883\n",
       "2     -0.49268...</td>\n",
       "    </tr>\n",
       "    <tr>\n",
       "      <th>15</th>\n",
       "      <td>0     -0.407274\n",
       "1     -0.382630\n",
       "2     -0.44092...</td>\n",
       "    </tr>\n",
       "    <tr>\n",
       "      <th>16</th>\n",
       "      <td>0     -0.543276\n",
       "1     -0.505460\n",
       "2     -0.50130...</td>\n",
       "    </tr>\n",
       "    <tr>\n",
       "      <th>17</th>\n",
       "      <td>0     -0.559772\n",
       "1     -0.515156\n",
       "2     -0.50487...</td>\n",
       "    </tr>\n",
       "    <tr>\n",
       "      <th>18</th>\n",
       "      <td>0     -0.576433\n",
       "1     -0.532988\n",
       "2     -0.50687...</td>\n",
       "    </tr>\n",
       "    <tr>\n",
       "      <th>19</th>\n",
       "      <td>0     -0.418068\n",
       "1     -0.353713\n",
       "2     -0.36231...</td>\n",
       "    </tr>\n",
       "    <tr>\n",
       "      <th>20</th>\n",
       "      <td>0     -0.514630\n",
       "1     -0.489270\n",
       "2     -0.43838...</td>\n",
       "    </tr>\n",
       "    <tr>\n",
       "      <th>21</th>\n",
       "      <td>0     -0.629094\n",
       "1     -0.603952\n",
       "2     -0.63946...</td>\n",
       "    </tr>\n",
       "    <tr>\n",
       "      <th>22</th>\n",
       "      <td>0     -0.626172\n",
       "1     -0.556868\n",
       "2     -0.54579...</td>\n",
       "    </tr>\n",
       "    <tr>\n",
       "      <th>23</th>\n",
       "      <td>0     -0.654035\n",
       "1     -0.634715\n",
       "2     -0.62591...</td>\n",
       "    </tr>\n",
       "    <tr>\n",
       "      <th>24</th>\n",
       "      <td>0     -0.675463\n",
       "1     -0.617801\n",
       "2     -0.61906...</td>\n",
       "    </tr>\n",
       "    <tr>\n",
       "      <th>25</th>\n",
       "      <td>0     -0.538742\n",
       "1     -0.475116\n",
       "2     -0.48579...</td>\n",
       "    </tr>\n",
       "    <tr>\n",
       "      <th>26</th>\n",
       "      <td>0     -0.591827\n",
       "1     -0.570980\n",
       "2     -0.59002...</td>\n",
       "    </tr>\n",
       "    <tr>\n",
       "      <th>27</th>\n",
       "      <td>0     -0.696376\n",
       "1     -0.643827\n",
       "2     -0.65514...</td>\n",
       "    </tr>\n",
       "  </tbody>\n",
       "</table>\n",
       "</div>"
      ],
      "text/plain": [
       "                                                dim_0\n",
       "0   0     -0.518419\n",
       "1     -0.485884\n",
       "2     -0.50500...\n",
       "1   0     -0.548462\n",
       "1     -0.533681\n",
       "2     -0.51472...\n",
       "2   0     -0.472634\n",
       "1     -0.415546\n",
       "2     -0.35992...\n",
       "3   0     -0.509521\n",
       "1     -0.484218\n",
       "2     -0.47795...\n",
       "4   0     -0.563427\n",
       "1     -0.533896\n",
       "2     -0.54382...\n",
       "5   0     -0.441485\n",
       "1     -0.449366\n",
       "2     -0.44454...\n",
       "6   0     -0.496438\n",
       "1     -0.465677\n",
       "2     -0.41583...\n",
       "7   0     -0.460578\n",
       "1     -0.369229\n",
       "2     -0.35411...\n",
       "8   0     -0.598464\n",
       "1     -0.559980\n",
       "2     -0.56824...\n",
       "9   0     -0.645319\n",
       "1     -0.584381\n",
       "2     -0.59375...\n",
       "10  0     -0.672989\n",
       "1     -0.652671\n",
       "2     -0.64481...\n",
       "11  0     -0.618481\n",
       "1     -0.585245\n",
       "2     -0.63195...\n",
       "12  0     -0.614277\n",
       "1     -0.593555\n",
       "2     -0.59201...\n",
       "13  0     -0.584327\n",
       "1     -0.560878\n",
       "2     -0.58063...\n",
       "14  0     -0.519739\n",
       "1     -0.477883\n",
       "2     -0.49268...\n",
       "15  0     -0.407274\n",
       "1     -0.382630\n",
       "2     -0.44092...\n",
       "16  0     -0.543276\n",
       "1     -0.505460\n",
       "2     -0.50130...\n",
       "17  0     -0.559772\n",
       "1     -0.515156\n",
       "2     -0.50487...\n",
       "18  0     -0.576433\n",
       "1     -0.532988\n",
       "2     -0.50687...\n",
       "19  0     -0.418068\n",
       "1     -0.353713\n",
       "2     -0.36231...\n",
       "20  0     -0.514630\n",
       "1     -0.489270\n",
       "2     -0.43838...\n",
       "21  0     -0.629094\n",
       "1     -0.603952\n",
       "2     -0.63946...\n",
       "22  0     -0.626172\n",
       "1     -0.556868\n",
       "2     -0.54579...\n",
       "23  0     -0.654035\n",
       "1     -0.634715\n",
       "2     -0.62591...\n",
       "24  0     -0.675463\n",
       "1     -0.617801\n",
       "2     -0.61906...\n",
       "25  0     -0.538742\n",
       "1     -0.475116\n",
       "2     -0.48579...\n",
       "26  0     -0.591827\n",
       "1     -0.570980\n",
       "2     -0.59002...\n",
       "27  0     -0.696376\n",
       "1     -0.643827\n",
       "2     -0.65514..."
      ]
     },
     "execution_count": 3,
     "metadata": {},
     "output_type": "execute_result"
    }
   ],
   "source": [
    "dataset=\"Coffee\"\n",
    "X_train,y_train = load_from_arff_to_dataframe(\"data/\" + dataset + \"/\" + dataset + \"_TRAIN.arff\")\n",
    "X_test,y_test = load_from_arff_to_dataframe(\"data/\" + dataset + \"/\" + dataset + \"_TEST.arff\")\n",
    "\n",
    "print(dataset)\n",
    "print(X_train.shape, y_train.shape)\n",
    "print(X_test.shape, y_test.shape)\n",
    "\n",
    "X_train"
   ]
  },
  {
   "cell_type": "code",
   "execution_count": 4,
   "id": "167bcaef",
   "metadata": {
    "pycharm": {
     "name": "#%%\n"
    }
   },
   "outputs": [
    {
     "name": "stdout",
     "output_type": "stream",
     "text": [
      "'Animals Dataset'\t   'Gowalla Dataset'  'Vehicles Dataset'\r\n",
      "'Datasets overview.ipynb'   README.txt\r\n",
      "'Go!Track Dataset'\t   'Taxi Dataset'\r\n"
     ]
    }
   ],
   "source": [
    "!ls ../../../examples/"
   ]
  },
  {
   "cell_type": "code",
   "execution_count": 5,
   "id": "c5da1847",
   "metadata": {
    "pycharm": {
     "name": "#%%\n"
    }
   },
   "outputs": [
    {
     "data": {
      "text/html": [
       "<div>\n",
       "<style scoped>\n",
       "    .dataframe tbody tr th:only-of-type {\n",
       "        vertical-align: middle;\n",
       "    }\n",
       "\n",
       "    .dataframe tbody tr th {\n",
       "        vertical-align: top;\n",
       "    }\n",
       "\n",
       "    .dataframe thead th {\n",
       "        text-align: right;\n",
       "    }\n",
       "</style>\n",
       "<table border=\"1\" class=\"dataframe\">\n",
       "  <thead>\n",
       "    <tr style=\"text-align: right;\">\n",
       "      <th></th>\n",
       "      <th>tid</th>\n",
       "      <th>class</th>\n",
       "      <th>t</th>\n",
       "      <th>c1</th>\n",
       "      <th>c2</th>\n",
       "    </tr>\n",
       "  </thead>\n",
       "  <tbody>\n",
       "    <tr>\n",
       "      <th>0</th>\n",
       "      <td>30901</td>\n",
       "      <td>B</td>\n",
       "      <td>0</td>\n",
       "      <td>4207716.0</td>\n",
       "      <td>473841.1</td>\n",
       "    </tr>\n",
       "    <tr>\n",
       "      <th>1</th>\n",
       "      <td>30901</td>\n",
       "      <td>B</td>\n",
       "      <td>30</td>\n",
       "      <td>4207724.6</td>\n",
       "      <td>473908.8</td>\n",
       "    </tr>\n",
       "    <tr>\n",
       "      <th>2</th>\n",
       "      <td>30901</td>\n",
       "      <td>B</td>\n",
       "      <td>60</td>\n",
       "      <td>4207725.9</td>\n",
       "      <td>473909.6</td>\n",
       "    </tr>\n",
       "    <tr>\n",
       "      <th>3</th>\n",
       "      <td>30901</td>\n",
       "      <td>B</td>\n",
       "      <td>90</td>\n",
       "      <td>4207736.9</td>\n",
       "      <td>473915.8</td>\n",
       "    </tr>\n",
       "    <tr>\n",
       "      <th>4</th>\n",
       "      <td>30901</td>\n",
       "      <td>B</td>\n",
       "      <td>120</td>\n",
       "      <td>4207763.5</td>\n",
       "      <td>473934.3</td>\n",
       "    </tr>\n",
       "    <tr>\n",
       "      <th>...</th>\n",
       "      <td>...</td>\n",
       "      <td>...</td>\n",
       "      <td>...</td>\n",
       "      <td>...</td>\n",
       "      <td>...</td>\n",
       "    </tr>\n",
       "    <tr>\n",
       "      <th>178294</th>\n",
       "      <td>420106</td>\n",
       "      <td>B</td>\n",
       "      <td>20700</td>\n",
       "      <td>4205465.6</td>\n",
       "      <td>490337.3</td>\n",
       "    </tr>\n",
       "    <tr>\n",
       "      <th>178295</th>\n",
       "      <td>420106</td>\n",
       "      <td>B</td>\n",
       "      <td>20730</td>\n",
       "      <td>4205341.1</td>\n",
       "      <td>490407.3</td>\n",
       "    </tr>\n",
       "    <tr>\n",
       "      <th>178296</th>\n",
       "      <td>420106</td>\n",
       "      <td>B</td>\n",
       "      <td>20760</td>\n",
       "      <td>4205316.6</td>\n",
       "      <td>490378.3</td>\n",
       "    </tr>\n",
       "    <tr>\n",
       "      <th>178297</th>\n",
       "      <td>420106</td>\n",
       "      <td>B</td>\n",
       "      <td>20790</td>\n",
       "      <td>4205316.6</td>\n",
       "      <td>490378.3</td>\n",
       "    </tr>\n",
       "    <tr>\n",
       "      <th>178298</th>\n",
       "      <td>420106</td>\n",
       "      <td>B</td>\n",
       "      <td>24480</td>\n",
       "      <td>4205326.8</td>\n",
       "      <td>490379.2</td>\n",
       "    </tr>\n",
       "  </tbody>\n",
       "</table>\n",
       "<p>178299 rows × 5 columns</p>\n",
       "</div>"
      ],
      "text/plain": [
       "           tid class      t         c1        c2\n",
       "0        30901     B      0  4207716.0  473841.1\n",
       "1        30901     B     30  4207724.6  473908.8\n",
       "2        30901     B     60  4207725.9  473909.6\n",
       "3        30901     B     90  4207736.9  473915.8\n",
       "4        30901     B    120  4207763.5  473934.3\n",
       "...        ...   ...    ...        ...       ...\n",
       "178294  420106     B  20700  4205465.6  490337.3\n",
       "178295  420106     B  20730  4205341.1  490407.3\n",
       "178296  420106     B  20760  4205316.6  490378.3\n",
       "178297  420106     B  20790  4205316.6  490378.3\n",
       "178298  420106     B  24480  4205326.8  490379.2\n",
       "\n",
       "[178299 rows x 5 columns]"
      ]
     },
     "execution_count": 5,
     "metadata": {},
     "output_type": "execute_result"
    }
   ],
   "source": [
    "df = pd.read_csv(\"../../../examples/Vehicles Dataset/data/vehicles_preapred.zip\")\n",
    "\n",
    "df"
   ]
  },
  {
   "cell_type": "raw",
   "id": "728bb030",
   "metadata": {
    "pycharm": {
     "name": "#%% raw\n"
    }
   },
   "source": [
    "\n",
    "df_pivot_c1 = pd.DataFrame()\n",
    "df_pivot_c2 = pd.DataFrame()\n",
    "df_pivot_c1 = df_pivot_c1.append([from_2d_array_to_nested(df[df.tid == tid][[\"c1\"]].T) for tid in df.tid.unique()])\n",
    "df_pivot_c2 = df_pivot_c2.append([from_2d_array_to_nested(df[df.tid == tid][[\"c2\"]].T) for tid in df.tid.unique()])\n",
    "\n",
    "\n",
    "df_pivot = pd.DataFrame()\n",
    "df_pivot[\"dim_0\"] = df_pivot_c1[0]\n",
    "df_pivot[\"dim_1\"] = df_pivot_c2[0]\n",
    "\n",
    "df_pivot"
   ]
  },
  {
   "cell_type": "code",
   "execution_count": 6,
   "id": "8271b6dc",
   "metadata": {
    "pycharm": {
     "name": "#%%\n"
    }
   },
   "outputs": [
    {
     "data": {
      "text/plain": [
       "'df.c1 = 1\\ndf.c2 = 2\\ndf[\"class\"] = \\'B\\''"
      ]
     },
     "execution_count": 6,
     "metadata": {},
     "output_type": "execute_result"
    }
   ],
   "source": [
    "\"\"\"df.c1 = 1\n",
    "df.c2 = 2\n",
    "df[\"class\"] = 'B'\"\"\""
   ]
  },
  {
   "cell_type": "code",
   "execution_count": 7,
   "id": "d56950a0",
   "metadata": {
    "pycharm": {
     "name": "#%%\n"
    }
   },
   "outputs": [],
   "source": [
    "def from_2d_array_to_nested(\n",
    "    X, index=None, columns=None, time_index=None, cells_as_numpy=False\n",
    "):\n",
    "    \"\"\"Convert tabular pandas DataFrame with only primitives in cells into\n",
    "    nested pandas DataFrame with a single column.\n",
    "    Parameters\n",
    "    ----------\n",
    "    X : pd.DataFrame\n",
    "    cells_as_numpy : bool, default = False\n",
    "        If True, then nested cells contain NumPy array\n",
    "        If False, then nested cells contain pandas Series\n",
    "    index : array-like, shape=[n_samples], optional (default = None)\n",
    "        Sample (row) index of transformed DataFrame\n",
    "    time_index : array-like, shape=[n_obs], optional (default = None)\n",
    "        Time series index of transformed DataFrame\n",
    "    Returns\n",
    "    -------\n",
    "    Xt : pd.DataFrame\n",
    "        Transformed DataFrame in nested format\n",
    "    \"\"\"\n",
    "\n",
    "    if (time_index is not None) and cells_as_numpy:\n",
    "        raise ValueError(\n",
    "            \"`Time_index` cannot be specified when `return_arrays` is True, \"\n",
    "            \"time index can only be set to \"\n",
    "            \"pandas Series\"\n",
    "        )\n",
    "    if isinstance(X, pd.DataFrame):\n",
    "        X = X.to_numpy()\n",
    "\n",
    "    container = np.array if cells_as_numpy else pd.Series\n",
    "\n",
    "    # for 2d numpy array, rows represent instances, columns represent time points\n",
    "    n_instances, n_timepoints = X.shape\n",
    "\n",
    "    if time_index is None:\n",
    "        time_index = np.arange(n_timepoints)\n",
    "    kwargs = {\"index\": time_index}\n",
    "\n",
    "    Xt = pd.DataFrame(\n",
    "        pd.Series([container(X[i, :], **kwargs) for i in range(n_instances)])\n",
    "    )\n",
    "    if index is not None:\n",
    "        Xt.index = index\n",
    "    if columns is not None:\n",
    "        Xt.columns = columns\n",
    "    return Xt"
   ]
  },
  {
   "cell_type": "code",
   "execution_count": 8,
   "id": "15238008",
   "metadata": {
    "pycharm": {
     "name": "#%%\n"
    }
   },
   "outputs": [],
   "source": [
    "df[\"pos\"] = df.groupby(by=[\"tid\"]).cumcount()\n",
    "\n",
    "df_pivot_c1 = df.pivot(index=['tid'], columns=\"pos\", values='c1')#.fillna(0)\n",
    "df_pivot_c2 = df.pivot(index=['tid'], columns=\"pos\", values='c2')#.fillna(0)\n",
    "\n",
    "df_pivot_c1 = from_2d_array_to_nested(df_pivot_c1)\n",
    "df_pivot_c2 = from_2d_array_to_nested(df_pivot_c2)\n",
    "\n",
    "#df_pivot_c1 = df_pivot_c1.fillna(0.0).astype('float64')\n",
    "#df_pivot_c2 = df_pivot_c2.fillna(0.0).astype('float64')"
   ]
  },
  {
   "cell_type": "code",
   "execution_count": 9,
   "id": "a0c8b753",
   "metadata": {
    "pycharm": {
     "name": "#%%\n"
    }
   },
   "outputs": [
    {
     "data": {
      "text/html": [
       "<div>\n",
       "<style scoped>\n",
       "    .dataframe tbody tr th:only-of-type {\n",
       "        vertical-align: middle;\n",
       "    }\n",
       "\n",
       "    .dataframe tbody tr th {\n",
       "        vertical-align: top;\n",
       "    }\n",
       "\n",
       "    .dataframe thead th {\n",
       "        text-align: right;\n",
       "    }\n",
       "</style>\n",
       "<table border=\"1\" class=\"dataframe\">\n",
       "  <thead>\n",
       "    <tr style=\"text-align: right;\">\n",
       "      <th></th>\n",
       "      <th>dim_0</th>\n",
       "      <th>dim_1</th>\n",
       "    </tr>\n",
       "  </thead>\n",
       "  <tbody>\n",
       "    <tr>\n",
       "      <th>0</th>\n",
       "      <td>0       4207716.0\n",
       "1       4207724.6\n",
       "2       42...</td>\n",
       "      <td>0       473841.1\n",
       "1       473908.8\n",
       "2       4739...</td>\n",
       "    </tr>\n",
       "    <tr>\n",
       "      <th>1</th>\n",
       "      <td>0       4220330.6\n",
       "1       4220334.0\n",
       "2       42...</td>\n",
       "      <td>0       486050.8\n",
       "1       486033.3\n",
       "2       4860...</td>\n",
       "    </tr>\n",
       "    <tr>\n",
       "      <th>2</th>\n",
       "      <td>0       4207981.5\n",
       "1       4207987.2\n",
       "2       42...</td>\n",
       "      <td>0       483404.2\n",
       "1       483284.0\n",
       "2       4831...</td>\n",
       "    </tr>\n",
       "    <tr>\n",
       "      <th>3</th>\n",
       "      <td>0       4207972.5\n",
       "1       4208076.3\n",
       "2       42...</td>\n",
       "      <td>0       483463.8\n",
       "1       483603.6\n",
       "2       4837...</td>\n",
       "    </tr>\n",
       "    <tr>\n",
       "      <th>4</th>\n",
       "      <td>0       4207868.7\n",
       "1       4207708.4\n",
       "2       42...</td>\n",
       "      <td>0       478207.5\n",
       "1       478161.7\n",
       "2       4780...</td>\n",
       "    </tr>\n",
       "    <tr>\n",
       "      <th>...</th>\n",
       "      <td>...</td>\n",
       "      <td>...</td>\n",
       "    </tr>\n",
       "    <tr>\n",
       "      <th>376</th>\n",
       "      <td>0       4209018.0\n",
       "1       4209017.6\n",
       "2       42...</td>\n",
       "      <td>0       478306.1\n",
       "1       478460.6\n",
       "2       4787...</td>\n",
       "    </tr>\n",
       "    <tr>\n",
       "      <th>377</th>\n",
       "      <td>0       4209007.4\n",
       "1       4208991.5\n",
       "2       42...</td>\n",
       "      <td>0       478322.6\n",
       "1       478401.6\n",
       "2       4786...</td>\n",
       "    </tr>\n",
       "    <tr>\n",
       "      <th>378</th>\n",
       "      <td>0       4207800.4\n",
       "1       4207758.1\n",
       "2       42...</td>\n",
       "      <td>0       483366.9\n",
       "1       483334.3\n",
       "2       4831...</td>\n",
       "    </tr>\n",
       "    <tr>\n",
       "      <th>379</th>\n",
       "      <td>0       4207814.8\n",
       "1       4207738.4\n",
       "2       42...</td>\n",
       "      <td>0       483367.1\n",
       "1       483241.3\n",
       "2       4829...</td>\n",
       "    </tr>\n",
       "    <tr>\n",
       "      <th>380</th>\n",
       "      <td>0       4207875.2\n",
       "1       4207847.1\n",
       "2       42...</td>\n",
       "      <td>0       483405.5\n",
       "1       483485.3\n",
       "2       4834...</td>\n",
       "    </tr>\n",
       "  </tbody>\n",
       "</table>\n",
       "<p>381 rows × 2 columns</p>\n",
       "</div>"
      ],
      "text/plain": [
       "                                                 dim_0  \\\n",
       "0    0       4207716.0\n",
       "1       4207724.6\n",
       "2       42...   \n",
       "1    0       4220330.6\n",
       "1       4220334.0\n",
       "2       42...   \n",
       "2    0       4207981.5\n",
       "1       4207987.2\n",
       "2       42...   \n",
       "3    0       4207972.5\n",
       "1       4208076.3\n",
       "2       42...   \n",
       "4    0       4207868.7\n",
       "1       4207708.4\n",
       "2       42...   \n",
       "..                                                 ...   \n",
       "376  0       4209018.0\n",
       "1       4209017.6\n",
       "2       42...   \n",
       "377  0       4209007.4\n",
       "1       4208991.5\n",
       "2       42...   \n",
       "378  0       4207800.4\n",
       "1       4207758.1\n",
       "2       42...   \n",
       "379  0       4207814.8\n",
       "1       4207738.4\n",
       "2       42...   \n",
       "380  0       4207875.2\n",
       "1       4207847.1\n",
       "2       42...   \n",
       "\n",
       "                                                 dim_1  \n",
       "0    0       473841.1\n",
       "1       473908.8\n",
       "2       4739...  \n",
       "1    0       486050.8\n",
       "1       486033.3\n",
       "2       4860...  \n",
       "2    0       483404.2\n",
       "1       483284.0\n",
       "2       4831...  \n",
       "3    0       483463.8\n",
       "1       483603.6\n",
       "2       4837...  \n",
       "4    0       478207.5\n",
       "1       478161.7\n",
       "2       4780...  \n",
       "..                                                 ...  \n",
       "376  0       478306.1\n",
       "1       478460.6\n",
       "2       4787...  \n",
       "377  0       478322.6\n",
       "1       478401.6\n",
       "2       4786...  \n",
       "378  0       483366.9\n",
       "1       483334.3\n",
       "2       4831...  \n",
       "379  0       483367.1\n",
       "1       483241.3\n",
       "2       4829...  \n",
       "380  0       483405.5\n",
       "1       483485.3\n",
       "2       4834...  \n",
       "\n",
       "[381 rows x 2 columns]"
      ]
     },
     "execution_count": 9,
     "metadata": {},
     "output_type": "execute_result"
    }
   ],
   "source": [
    "df_pivot = pd.DataFrame()\n",
    "df_pivot[\"dim_0\"] = df_pivot_c1[0]\n",
    "df_pivot[\"dim_1\"] = df_pivot_c2[0]\n",
    "\n",
    "df_pivot"
   ]
  },
  {
   "cell_type": "code",
   "execution_count": 10,
   "id": "b340e307",
   "metadata": {
    "pycharm": {
     "name": "#%%\n"
    }
   },
   "outputs": [],
   "source": [
    "y = df.groupby(by=[\"tid\"]).max()[\"class\"]"
   ]
  },
  {
   "cell_type": "code",
   "execution_count": 11,
   "id": "1e2266bd",
   "metadata": {
    "pycharm": {
     "name": "#%%\n"
    }
   },
   "outputs": [],
   "source": [
    "df_pivot.to_pickle(\"df_pivot\")\n",
    "y.to_pickle(\"y\")"
   ]
  },
  {
   "cell_type": "code",
   "execution_count": 11,
   "id": "3e1c27ef",
   "metadata": {
    "pycharm": {
     "name": "#%%\n"
    }
   },
   "outputs": [],
   "source": []
  },
  {
   "cell_type": "code",
   "execution_count": 12,
   "id": "93dad54a",
   "metadata": {
    "pycharm": {
     "name": "#%%\n"
    }
   },
   "outputs": [],
   "source": [
    "from sklearn.model_selection import train_test_split\n",
    "\n",
    "X_train, X_test, y_train, y_test = train_test_split(df_pivot, y, test_size=0.3)"
   ]
  },
  {
   "cell_type": "code",
   "execution_count": 13,
   "id": "f50b3706",
   "metadata": {
    "pycharm": {
     "name": "#%%\n"
    }
   },
   "outputs": [
    {
     "name": "stdout",
     "output_type": "stream",
     "text": [
      "266\n"
     ]
    },
    {
     "data": {
      "text/plain": [
       "266"
      ]
     },
     "execution_count": 13,
     "metadata": {},
     "output_type": "execute_result"
    }
   ],
   "source": [
    "print(len(X_train) )\n",
    "len(y_train)"
   ]
  },
  {
   "cell_type": "markdown",
   "id": "ab056cb9",
   "metadata": {
    "pycharm": {
     "name": "#%% md\n"
    }
   },
   "source": [
    "## Train with MrSQMClassifier"
   ]
  },
  {
   "cell_type": "code",
   "execution_count": 14,
   "id": "d48d8c6e",
   "metadata": {
    "pycharm": {
     "name": "#%%\n"
    }
   },
   "outputs": [],
   "source": [
    "def from_nested_to_2d_array(X, return_numpy=False):\n",
    "    \"\"\"Convert nested Panel to 2D numpy Panel.\n",
    "\n",
    "    Convert nested pandas DataFrame or Series with NumPy arrays or\n",
    "    pandas Series in cells into tabular\n",
    "    pandas DataFrame with primitives in cells, i.e. a data frame with the\n",
    "    same number of rows as the input data and\n",
    "    as many columns as there are observations in the nested series. Requires\n",
    "    series to be have the same index.\n",
    "\n",
    "    Parameters\n",
    "    ----------\n",
    "    X : nested pd.DataFrame or nested pd.Series\n",
    "    return_numpy : bool, default = False\n",
    "        - If True, returns a NumPy array of the tabular data.\n",
    "        - If False, returns a pandas DataFrame with row and column names.\n",
    "\n",
    "    Returns\n",
    "    -------\n",
    "     Xt : pandas DataFrame\n",
    "        Transformed DataFrame in tabular format\n",
    "    \"\"\"\n",
    "    # TODO does not handle dataframes with nested series columns *and*\n",
    "    #  standard columns containing only primitives\n",
    "\n",
    "    # convert nested data into tabular data\n",
    "    if isinstance(X, pd.Series):\n",
    "        Xt = np.array(X.tolist())\n",
    "\n",
    "    elif isinstance(X, pd.DataFrame):\n",
    "        try:\n",
    "            Xt = np.hstack([X.iloc[:, i].tolist() for i in range(X.shape[1])])\n",
    "\n",
    "        # except strange key error for specific case\n",
    "        except KeyError:\n",
    "            if (X.shape == (1, 1)) and (X.iloc[0, 0].shape == (1,)):\n",
    "                # in fact only breaks when an additional condition is met,\n",
    "                # namely that the index of the time series of a single value\n",
    "                # does not start with 0, e.g. pd.RangeIndex(9, 10) as is the\n",
    "                # case in forecasting\n",
    "                Xt = X.iloc[0, 0].values\n",
    "            else:\n",
    "                raise\n",
    "\n",
    "        if Xt.ndim != 2:\n",
    "            raise ValueError(\n",
    "                \"Tabularization failed, it's possible that not \"\n",
    "                \"all series were of equal length\"\n",
    "            )\n",
    "\n",
    "    else:\n",
    "        raise ValueError(\n",
    "            f\"Expected input is pandas Series or pandas DataFrame, \"\n",
    "            f\"but found: {type(X)}\"\n",
    "        )\n",
    "\n",
    "    if return_numpy:\n",
    "        return Xt\n",
    "\n",
    "    Xt = pd.DataFrame(Xt)\n",
    "\n",
    "    # create column names from time index\n",
    "    if X.ndim == 1:\n",
    "        time_index = (\n",
    "            X.iloc[0].index\n",
    "            if hasattr(X.iloc[0], \"index\")\n",
    "            else np.arange(X.iloc[0].shape[0])\n",
    "        )\n",
    "        columns = [f\"{X.name}__{i}\" for i in time_index]\n",
    "\n",
    "    else:\n",
    "        columns = []\n",
    "        for colname, col in X.items():\n",
    "            time_index = (\n",
    "                col.iloc[0].index\n",
    "                if hasattr(col.iloc[0], \"index\")\n",
    "                else np.arange(col.iloc[0].shape[0])\n",
    "            )\n",
    "            columns.extend([f\"{colname}__{i}\" for i in time_index])\n",
    "\n",
    "    Xt.index = X.index\n",
    "    Xt.columns = columns\n",
    "    return Xt\n",
    "\n"
   ]
  },
  {
   "cell_type": "code",
   "execution_count": 17,
   "id": "a68db6b6",
   "metadata": {
    "pycharm": {
     "name": "#%%\n"
    }
   },
   "outputs": [
    {
     "data": {
      "application/vnd.jupyter.widget-view+json": {
       "model_id": "69b931ece486456cab194980ab9bafcc",
       "version_major": 2,
       "version_minor": 0
      },
      "text/plain": [
       "converting to sax:   0%|          | 0/20 [00:00<?, ?it/s]"
      ]
     },
     "metadata": {},
     "output_type": "display_data"
    },
    {
     "data": {
      "application/vnd.jupyter.widget-view+json": {
       "model_id": "2cfd1c72a4334571982303d618e10cc0",
       "version_major": 2,
       "version_minor": 0
      },
      "text/plain": [
       "converting to trajectory-sax:   0%|          | 0/20 [00:00<?, ?it/s]"
      ]
     },
     "metadata": {},
     "output_type": "display_data"
    },
    {
     "data": {
      "application/vnd.jupyter.widget-view+json": {
       "model_id": "21ea2b4e353449d3b8e8bd97bf99c433",
       "version_major": 2,
       "version_minor": 0
      },
      "text/plain": [
       "mining sequences:   0%|          | 0/20 [00:00<?, ?it/s]"
      ]
     },
     "metadata": {},
     "output_type": "display_data"
    }
   ],
   "source": [
    "import warnings\n",
    "from tqdm.auto import tqdm\n",
    "\n",
    "from tslearn.piecewise import SymbolicAggregateApproximation\n",
    "\n",
    "def generateAlphabet(dim):\n",
    "    return [(97+i).to_bytes(1, byteorder='big')for i in range(dim)] #97 --> 'a'\n",
    "\n",
    "def test(conf, ts_series):\n",
    "    ts_series = ts_series.dropna()\n",
    "    #esempio conf: {'method': 'sax', 'window': 64, 'word': 16, 'alphabet': 3, 'dilation': 1}\n",
    "    #print(conf, flush=True)\n",
    "\n",
    "    sax = SymbolicAggregateApproximation(n_segments=conf[\"word\"], alphabet_size_avg=conf[\"alphabet\"], scale=True)\n",
    "    alphabet = generateAlphabet(conf[\"alphabet\"])\n",
    "    result = b''\n",
    "    for i in [0]+list(range(1, len(ts_series)-conf[\"window\"])):\n",
    "        if i != 0:\n",
    "            result += b' '\n",
    "        with warnings.catch_warnings():\n",
    "            warnings.simplefilter('ignore')\n",
    "            X_sax = sax.fit_transform([ts_series.values[i:i+conf[\"window\"]]])\n",
    "        for char in X_sax[0]:\n",
    "            result += alphabet[char[0]]\n",
    "\n",
    "    return result\n",
    "\n",
    "def MY_transform_time_series(self, ts_x):\n",
    "\n",
    "        multi_tssr = []\n",
    "\n",
    "        #ts_x_array = from_nested_to_2d_array(ts_x).values\n",
    "\n",
    "        if not self.config:\n",
    "            self.config = []\n",
    "\n",
    "            min_ws = 16\n",
    "            min_len = max_len = len(ts_x.iloc[0, 0])\n",
    "            for a in ts_x.iloc[:, 0]:\n",
    "                min_len = min(min_len, len(a))\n",
    "                max_len = max(max_len, len(a))\n",
    "            max_ws = (min_len + max_len) // 2\n",
    "\n",
    "            pars = self.create_pars(min_ws, max_ws, self.nsax, random_sampling=True, is_sfa=False)\n",
    "            for p in pars:\n",
    "                self.config.append(\n",
    "                    {'method': 'sax', 'window': p[0], 'word': p[1], 'alphabet': p[2],\n",
    "                     # 'dilation': np.int32(2 ** np.random.uniform(0, np.log2((min_len - 1) / (p[0] - 1))))})\n",
    "                     'dilation': 1})\n",
    "\n",
    "            pars = self.create_pars(min_ws, max_ws, self.nsfa, random_sampling=True, is_sfa=True)\n",
    "            for p in pars:\n",
    "                self.config.append(\n",
    "                    {'method': 'sfa', 'window': p[0], 'word': p[1], 'alphabet': p[2], 'normSFA': False,\n",
    "                     'normTS': self.sfa_norm\n",
    "                     })\n",
    "\n",
    "        for cfg in tqdm(self.config, desc=\"converting to sax\"):\n",
    "            for i in range(ts_x.shape[1]):\n",
    "                tssr = []\n",
    "\n",
    "                if cfg['method'] == 'sax':  # convert time series to SAX\n",
    "                    #ps = PySAX(cfg['window'], cfg['word'], cfg['alphabet'], cfg['dilation'])\n",
    "                    for ts in ts_x.iloc[:, i]:\n",
    "                        sr = test(cfg, ts)#ps.timeseries2SAXseq(ts)\n",
    "                        if sr == b'': continue\n",
    "                        tssr.append(sr)\n",
    "                elif cfg['method'] == 'sfa':\n",
    "                    pass\n",
    "                multi_tssr.append(tssr)\n",
    "\n",
    "        new_multi_tssr = []\n",
    "\n",
    "        i = 0\n",
    "        for conf_lat, conf_lon in tqdm(zip(multi_tssr[0::2], multi_tssr[1::2]), desc=\"converting to trajectory-sax\",\n",
    "                                       total=len(multi_tssr[::2])):\n",
    "            i += 1\n",
    "            new_tssr = []\n",
    "            j = 0\n",
    "\n",
    "            c = b'a'\n",
    "            dizionario = {}\n",
    "            for k in range(len(conf_lat)):  #scorro le varie serie temporali\n",
    "                #print(f\"{i}-{k}, len={len(conf_lat)} {len(conf_lon)}  len_k={len(conf_lat[k])} {len(conf_lon[k])}\")\n",
    "                seq = b''\n",
    "\n",
    "                for sym1, sym2 in zip(conf_lat[k], conf_lon[k]):\n",
    "                    j += 1\n",
    "\n",
    "                    if sym1 == 32:\n",
    "                        seq += b' '\n",
    "                        continue\n",
    "\n",
    "                    key = (sym1, sym2)\n",
    "                    if key not in dizionario:\n",
    "                        #print(f\"{i}-{k}) {key} not in dict, generating new symbol {str(c)}->{int.from_bytes(c, byteorder='big')+1}\")\n",
    "                        c = (int.from_bytes(c, byteorder='big') + 1).to_bytes(1, byteorder='big')\n",
    "                        dizionario[key] = c\n",
    "                    seq += dizionario[key]\n",
    "                new_tssr.append(seq)\n",
    "            new_multi_tssr.append(new_tssr)\n",
    "\n",
    "        return multi_tssr, new_multi_tssr\n",
    "\n",
    "clf = mrsqm.MrSQMClassifier(MY_transform_time_series, nsax=2, nsfa=0, random_state=42)\n",
    "\n",
    "try:\n",
    "    clf.fit(X_train,y_train)\n",
    "except Exception as e: #raise Exception(X, mr_seqs, self.sequences)\n",
    "    X = e.args[0]\n",
    "    mr_seqs_old = e.args[1]\n",
    "    mr_seqs = e.args[2]\n",
    "    sequences = e.args[3]\n",
    "    print(\"TUTTO OK\")"
   ]
  },
  {
   "cell_type": "code",
   "execution_count": null,
   "id": "a111b9a6",
   "metadata": {
    "pycharm": {
     "name": "#%%\n"
    }
   },
   "outputs": [],
   "source": [
    "mr_seqs[6]"
   ]
  },
  {
   "cell_type": "code",
   "execution_count": null,
   "id": "91b5fa60",
   "metadata": {
    "pycharm": {
     "name": "#%%\n"
    }
   },
   "outputs": [],
   "source": [
    "len(mr_seqs[2])"
   ]
  },
  {
   "cell_type": "code",
   "execution_count": null,
   "id": "196bc956",
   "metadata": {
    "pycharm": {
     "name": "#%%\n"
    }
   },
   "outputs": [],
   "source": []
  },
  {
   "cell_type": "code",
   "execution_count": null,
   "id": "cacb4808",
   "metadata": {
    "pycharm": {
     "name": "#%%\n"
    }
   },
   "outputs": [],
   "source": [
    "matrix = np.zeros(())"
   ]
  },
  {
   "cell_type": "code",
   "execution_count": null,
   "id": "0bd255b2",
   "metadata": {
    "pycharm": {
     "name": "#%%\n"
    }
   },
   "outputs": [],
   "source": []
  },
  {
   "cell_type": "code",
   "execution_count": null,
   "id": "0e05404a",
   "metadata": {
    "pycharm": {
     "name": "#%%\n"
    }
   },
   "outputs": [],
   "source": []
  },
  {
   "cell_type": "code",
   "execution_count": null,
   "id": "b77b08e2",
   "metadata": {
    "pycharm": {
     "name": "#%%\n"
    }
   },
   "outputs": [],
   "source": []
  },
  {
   "cell_type": "code",
   "execution_count": null,
   "id": "06c41ff3",
   "metadata": {
    "pycharm": {
     "name": "#%%\n"
    }
   },
   "outputs": [],
   "source": []
  },
  {
   "cell_type": "code",
   "execution_count": null,
   "id": "211e45e6",
   "metadata": {
    "pycharm": {
     "name": "#%%\n"
    }
   },
   "outputs": [],
   "source": [
    "len(X)"
   ]
  },
  {
   "cell_type": "code",
   "execution_count": null,
   "id": "f274f23c",
   "metadata": {
    "pycharm": {
     "name": "#%%\n"
    }
   },
   "outputs": [],
   "source": [
    "len(y)"
   ]
  },
  {
   "cell_type": "code",
   "execution_count": null,
   "id": "a6feb37d",
   "metadata": {
    "pycharm": {
     "name": "#%%\n"
    }
   },
   "outputs": [],
   "source": [
    "mr_seqs"
   ]
  },
  {
   "cell_type": "code",
   "execution_count": null,
   "id": "9431d507",
   "metadata": {
    "pycharm": {
     "name": "#%%\n"
    }
   },
   "outputs": [],
   "source": [
    "mr_seqs_old"
   ]
  },
  {
   "cell_type": "code",
   "execution_count": null,
   "id": "39c4694e",
   "metadata": {
    "pycharm": {
     "name": "#%%\n"
    }
   },
   "outputs": [],
   "source": [
    "mr_seqs[2]"
   ]
  },
  {
   "cell_type": "code",
   "execution_count": null,
   "id": "3be3f218",
   "metadata": {
    "pycharm": {
     "name": "#%%\n"
    }
   },
   "outputs": [],
   "source": [
    "mr_seqs_old[0][0]"
   ]
  },
  {
   "cell_type": "code",
   "execution_count": null,
   "id": "1d84a74e",
   "metadata": {
    "pycharm": {
     "name": "#%%\n"
    }
   },
   "outputs": [],
   "source": [
    "clf.config"
   ]
  },
  {
   "cell_type": "markdown",
   "id": "e8c379ef",
   "metadata": {
    "pycharm": {
     "name": "#%% md\n"
    }
   },
   "source": [
    "__mr\\_seql__: lista di liste\n",
    "\n",
    "Ogni lista rappresenta una configurazione (tot: 8*num_dim liste).\n",
    "\n",
    "Ogni lista di \"primo livello\" è composta da altre 28 liste (= al numero di istanze)\n",
    "\n",
    "Queste liste di \"secondo livello\" contengono un array di byte di lunghezza variabile.\n",
    "- la lunghezza di questo array dipende dalla TS? (sono tutte lunghe 286 valori)"
   ]
  },
  {
   "cell_type": "markdown",
   "id": "16bedced",
   "metadata": {
    "pycharm": {
     "name": "#%% md\n"
    }
   },
   "source": [
    "## Test the model"
   ]
  },
  {
   "cell_type": "code",
   "execution_count": 18,
   "id": "b8d9a7aa",
   "metadata": {
    "pycharm": {
     "name": "#%%\n"
    }
   },
   "outputs": [
    {
     "data": {
      "text/plain": [
       "[SelectKBest(k=500, score_func=<function chi2 at 0x7f25c9cb2e60>),\n",
       " SelectKBest(k=500, score_func=<function chi2 at 0x7f25c9cb2e60>),\n",
       " SelectKBest(k=500, score_func=<function chi2 at 0x7f25c9cb2e60>),\n",
       " SelectKBest(k=500, score_func=<function chi2 at 0x7f25c9cb2e60>),\n",
       " SelectKBest(k=500, score_func=<function chi2 at 0x7f25c9cb2e60>),\n",
       " SelectKBest(k=500, score_func=<function chi2 at 0x7f25c9cb2e60>),\n",
       " SelectKBest(k=500, score_func=<function chi2 at 0x7f25c9cb2e60>),\n",
       " SelectKBest(k=500, score_func=<function chi2 at 0x7f25c9cb2e60>),\n",
       " SelectKBest(k=500, score_func=<function chi2 at 0x7f25c9cb2e60>),\n",
       " SelectKBest(score_func=<function chi2 at 0x7f25c9cb2e60>),\n",
       " SelectKBest(score_func=<function chi2 at 0x7f25c9cb2e60>),\n",
       " SelectKBest(k=500, score_func=<function chi2 at 0x7f25c9cb2e60>),\n",
       " SelectKBest(k=500, score_func=<function chi2 at 0x7f25c9cb2e60>),\n",
       " SelectKBest(k=500, score_func=<function chi2 at 0x7f25c9cb2e60>),\n",
       " SelectKBest(k=500, score_func=<function chi2 at 0x7f25c9cb2e60>),\n",
       " SelectKBest(k=500, score_func=<function chi2 at 0x7f25c9cb2e60>),\n",
       " SelectKBest(k=500, score_func=<function chi2 at 0x7f25c9cb2e60>),\n",
       " SelectKBest(k=500, score_func=<function chi2 at 0x7f25c9cb2e60>),\n",
       " SelectKBest(k=500, score_func=<function chi2 at 0x7f25c9cb2e60>),\n",
       " SelectKBest(k=500, score_func=<function chi2 at 0x7f25c9cb2e60>)]"
      ]
     },
     "execution_count": 18,
     "metadata": {},
     "output_type": "execute_result"
    }
   ],
   "source": [
    "clf.filters"
   ]
  },
  {
   "cell_type": "code",
   "execution_count": 19,
   "id": "53c4868d",
   "metadata": {
    "pycharm": {
     "name": "#%%\n"
    }
   },
   "outputs": [
    {
     "data": {
      "application/vnd.jupyter.widget-view+json": {
       "model_id": "80f48e448bea4682b97e8140929279b2",
       "version_major": 2,
       "version_minor": 0
      },
      "text/plain": [
       "converting to sax:   0%|          | 0/20 [00:00<?, ?it/s]"
      ]
     },
     "metadata": {},
     "output_type": "display_data"
    },
    {
     "data": {
      "application/vnd.jupyter.widget-view+json": {
       "model_id": "ea259899eb5b435093e43286ddbe6fd4",
       "version_major": 2,
       "version_minor": 0
      },
      "text/plain": [
       "converting to trajectory-sax:   0%|          | 0/20 [00:00<?, ?it/s]"
      ]
     },
     "metadata": {},
     "output_type": "display_data"
    },
    {
     "name": "stdout",
     "output_type": "stream",
     "text": [
      "0.8\n"
     ]
    }
   ],
   "source": [
    "y_pred = clf.predict(X_test)\n",
    "print(metrics.accuracy_score(y_test, y_pred))"
   ]
  },
  {
   "cell_type": "code",
   "execution_count": 20,
   "id": "18385850",
   "metadata": {
    "pycharm": {
     "name": "#%%\n"
    }
   },
   "outputs": [
    {
     "name": "stdout",
     "output_type": "stream",
     "text": [
      "0.8\n"
     ]
    }
   ],
   "source": [
    "print(metrics.accuracy_score(y_test, y_pred))"
   ]
  },
  {
   "cell_type": "code",
   "execution_count": 19,
   "id": "0ebdc6ca",
   "metadata": {
    "pycharm": {
     "name": "#%%\n"
    }
   },
   "outputs": [
    {
     "data": {
      "text/plain": [
       "array([[False, False, False, ..., False, False,  True],\n",
       "       [False, False, False, ..., False, False, False],\n",
       "       [False, False, False, ..., False, False, False],\n",
       "       ...,\n",
       "       [False, False,  True, ..., False, False, False],\n",
       "       [False, False,  True, ..., False, False, False],\n",
       "       [False, False, False, ..., False, False, False]])"
      ]
     },
     "execution_count": 19,
     "metadata": {},
     "output_type": "execute_result"
    }
   ],
   "source": [
    "clf.train_x"
   ]
  },
  {
   "cell_type": "code",
   "execution_count": null,
   "id": "1d99dcc0",
   "metadata": {
    "pycharm": {
     "name": "#%%\n"
    }
   },
   "outputs": [],
   "source": []
  },
  {
   "cell_type": "code",
   "execution_count": null,
   "id": "5fff24ce",
   "metadata": {
    "pycharm": {
     "name": "#%%\n"
    }
   },
   "outputs": [],
   "source": []
  },
  {
   "cell_type": "code",
   "execution_count": null,
   "id": "4d0b3e96",
   "metadata": {
    "pycharm": {
     "name": "#%%\n"
    }
   },
   "outputs": [],
   "source": []
  },
  {
   "cell_type": "code",
   "execution_count": null,
   "id": "18519d1a",
   "metadata": {
    "pycharm": {
     "name": "#%%\n"
    }
   },
   "outputs": [],
   "source": []
  },
  {
   "cell_type": "code",
   "execution_count": null,
   "id": "74a2407d",
   "metadata": {
    "pycharm": {
     "name": "#%%\n"
    }
   },
   "outputs": [],
   "source": []
  },
  {
   "cell_type": "code",
   "execution_count": null,
   "id": "62027dfa",
   "metadata": {
    "pycharm": {
     "name": "#%%\n"
    }
   },
   "outputs": [],
   "source": []
  }
 ],
 "metadata": {
  "kernelspec": {
   "display_name": "Python 3 (ipykernel)",
   "language": "python",
   "name": "python3"
  },
  "language_info": {
   "codemirror_mode": {
    "name": "ipython",
    "version": 3
   },
   "file_extension": ".py",
   "mimetype": "text/x-python",
   "name": "python",
   "nbconvert_exporter": "python",
   "pygments_lexer": "ipython3",
   "version": "3.8.13"
  }
 },
 "nbformat": 4,
 "nbformat_minor": 5
}
