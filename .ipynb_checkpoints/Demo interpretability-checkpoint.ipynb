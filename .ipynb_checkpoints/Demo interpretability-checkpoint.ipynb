{
 "cells": [
  {
   "cell_type": "code",
   "execution_count": 50,
   "id": "8430d4bd",
   "metadata": {},
   "outputs": [
    {
     "name": "stdout",
     "output_type": "stream",
     "text": [
      "Obtaining file:///C:/Users/cri98/Documents/GitHub/cri98tj\n",
      "Requirement already satisfied: numpy in c:\\users\\cri98\\anaconda3\\lib\\site-packages (from cri98tj==0.0.1) (1.20.1)\n",
      "Requirement already satisfied: scipy in c:\\users\\cri98\\anaconda3\\lib\\site-packages (from cri98tj==0.0.1) (1.6.2)\n",
      "Requirement already satisfied: scikit-learn in c:\\users\\cri98\\anaconda3\\lib\\site-packages (from cri98tj==0.0.1) (0.24.1)\n",
      "Requirement already satisfied: pandas in c:\\users\\cri98\\anaconda3\\lib\\site-packages (from cri98tj==0.0.1) (1.2.4)\n",
      "Requirement already satisfied: geolib in c:\\users\\cri98\\anaconda3\\lib\\site-packages (from cri98tj==0.0.1) (1.0.7)\n",
      "Requirement already satisfied: future in c:\\users\\cri98\\anaconda3\\lib\\site-packages (from geolib->cri98tj==0.0.1) (0.18.2)\n",
      "Requirement already satisfied: pytz>=2017.3 in c:\\users\\cri98\\anaconda3\\lib\\site-packages (from pandas->cri98tj==0.0.1) (2021.1)\n",
      "Requirement already satisfied: python-dateutil>=2.7.3 in c:\\users\\cri98\\anaconda3\\lib\\site-packages (from pandas->cri98tj==0.0.1) (2.8.1)\n",
      "Requirement already satisfied: six>=1.5 in c:\\users\\cri98\\anaconda3\\lib\\site-packages (from python-dateutil>=2.7.3->pandas->cri98tj==0.0.1) (1.15.0)\n",
      "Requirement already satisfied: threadpoolctl>=2.0.0 in c:\\users\\cri98\\anaconda3\\lib\\site-packages (from scikit-learn->cri98tj==0.0.1) (2.1.0)\n",
      "Requirement already satisfied: joblib>=0.11 in c:\\users\\cri98\\anaconda3\\lib\\site-packages (from scikit-learn->cri98tj==0.0.1) (1.0.1)\n",
      "Installing collected packages: cri98tj\n",
      "  Attempting uninstall: cri98tj\n",
      "    Found existing installation: cri98tj 0.0.1\n",
      "    Uninstalling cri98tj-0.0.1:\n",
      "      Successfully uninstalled cri98tj-0.0.1\n",
      "  Running setup.py develop for cri98tj\n",
      "Successfully installed cri98tj\n"
     ]
    }
   ],
   "source": [
    "!pip install -e ."
   ]
  },
  {
   "cell_type": "code",
   "execution_count": 51,
   "id": "c4e5c5c0",
   "metadata": {},
   "outputs": [],
   "source": [
    "import pandas as pd\n",
    "import numpy as np\n",
    "from sklearn.metrics import accuracy_score\n",
    "from sklearn.model_selection import train_test_split\n",
    "\n",
    "from cri98tj.partitioners.Geohash_partitioner import Geohash_partitioner\n",
    "from cri98tj.normalizers.FirstPoint_normalizer import FirstPoint_normalizer\n",
    "from cri98tj.distancers.Euclidean_distancer import Euclidean_distancer, euclideanBestFitting\n",
    "from cri98tj.selectors.RandomInformationGain_selector import RandomInformationGain_selector"
   ]
  },
  {
   "cell_type": "code",
   "execution_count": 52,
   "id": "acb9d8e3",
   "metadata": {},
   "outputs": [],
   "source": [
    "import plotly.express as px\n",
    "\n",
    "def print_movelets(movelets, spatioTemporalColumns):\n",
    "    list_df = []\n",
    "\n",
    "    for n_mov, movelet in enumerate(movelets):\n",
    "        if len(movelet) % len(spatioTemporalColumns) != 0:\n",
    "            raise Exception(f\"la lunghezza della traiettoria deve essere divisivile per {len(spatioTemporalColumns)}\")\n",
    "\n",
    "        offset_movelet = int(len(movelet) / len(spatioTemporalColumns))\n",
    "\n",
    "\n",
    "        len_mov = 0\n",
    "        for el in movelet:\n",
    "            if np.isnan(el) or len_mov >= offset_movelet:\n",
    "                break\n",
    "            len_mov += 1\n",
    "\n",
    "        movelet_dict = [None for x in spatioTemporalColumns]\n",
    "\n",
    "        for i, col in enumerate(spatioTemporalColumns):\n",
    "            movelet_dict[i] = movelet[i * offset_movelet:(i * offset_movelet) + len_mov]\n",
    "\n",
    "        df_tmp = pd.DataFrame(movelet_dict).T.rename(columns={0: \"c1\", 1:\"c2\", 2:\"time\"})\n",
    "        df_tmp[\"id\"] = n_mov\n",
    "\n",
    "        list_df.append(df_tmp)\n",
    "\n",
    "    fig = px.line_3d(pd.concat(list_df), x=\"c1\", y=\"c2\", z=\"time\", color=\"id\")\n",
    "    fig.show()\n",
    "\n",
    "def print_movelets_in_traj(trajectory, best_i, movelets_, spatioTemporalColumns):\n",
    "    list_df = []\n",
    "    movelets =copy.deepcopy(movelets_)\n",
    "\n",
    "    if len(trajectory) % len(spatioTemporalColumns) != 0:\n",
    "        raise Exception(f\"la lunghezza della traiettoria deve essere divisivile per {len(spatioTemporalColumns)}\")\n",
    "\n",
    "    offset_trajectory = int(len(trajectory) / len(spatioTemporalColumns))\n",
    "\n",
    "    len_t = 0\n",
    "    for el in trajectory:\n",
    "        if np.isnan(el) or len_t >= offset_trajectory:\n",
    "            break\n",
    "        len_t += 1\n",
    "\n",
    "    trajectory_dict = [None for x in spatioTemporalColumns]\n",
    "\n",
    "    for i, col in enumerate(spatioTemporalColumns):\n",
    "        trajectory_dict[i] = trajectory[i * offset_trajectory:(i * offset_trajectory) + len_t]\n",
    "\n",
    "    df_tmp = pd.DataFrame(trajectory_dict).T.rename(columns={0: \"c1\", 1: \"c2\", 2: \"time\"})\n",
    "    df_tmp[\"id\"] = \"traj\"\n",
    "    list_df.append(df_tmp)\n",
    "\n",
    "    for mov_n, movelet in enumerate(movelets):\n",
    "        if len(movelet) % len(spatioTemporalColumns) != 0:\n",
    "            raise Exception(f\"la lunghezza della traiettoria deve essere divisivile per {len(spatioTemporalColumns)}\")\n",
    "\n",
    "        offset_movelet = int(len(movelet) / len(spatioTemporalColumns))\n",
    "\n",
    "        len_mov = 0\n",
    "        for el in movelet:\n",
    "            if np.isnan(el) or len_mov >= offset_movelet:\n",
    "                break\n",
    "            len_mov += 1\n",
    "\n",
    "        #if len_mov > len_t:\n",
    "        #    raise Warning(\"Inverse-plot\")\n",
    "\n",
    "        movelet_dict = [0 for x in spatioTemporalColumns]\n",
    "\n",
    "        for i, col in enumerate(spatioTemporalColumns):\n",
    "            movelet_dict[i] = movelet[i * offset_movelet:(i * offset_movelet) + len_mov]\n",
    "            for j in range(len_mov):\n",
    "                movelet_dict[i][j] += trajectory_dict[i][int(best_i[mov_n])]\n",
    "        df_tmp = pd.DataFrame(movelet_dict).T.rename(columns={0: \"c1\", 1: \"c2\", 2: \"time\"})\n",
    "        df_tmp[\"id\"] = mov_n\n",
    "\n",
    "        list_df.append(df_tmp)\n",
    "\n",
    "    fig = px.line_3d(pd.concat(list_df), x=\"c1\", y=\"c2\", z=\"time\", color=\"id\")\n",
    "    fig.show()"
   ]
  },
  {
   "cell_type": "code",
   "execution_count": 53,
   "id": "9b77fbe2",
   "metadata": {},
   "outputs": [
    {
     "data": {
      "text/html": [
       "<div>\n",
       "<style scoped>\n",
       "    .dataframe tbody tr th:only-of-type {\n",
       "        vertical-align: middle;\n",
       "    }\n",
       "\n",
       "    .dataframe tbody tr th {\n",
       "        vertical-align: top;\n",
       "    }\n",
       "\n",
       "    .dataframe thead th {\n",
       "        text-align: right;\n",
       "    }\n",
       "</style>\n",
       "<table border=\"1\" class=\"dataframe\">\n",
       "  <thead>\n",
       "    <tr style=\"text-align: right;\">\n",
       "      <th></th>\n",
       "      <th>tid</th>\n",
       "      <th>class</th>\n",
       "      <th>c1</th>\n",
       "      <th>c2</th>\n",
       "      <th>t</th>\n",
       "    </tr>\n",
       "  </thead>\n",
       "  <tbody>\n",
       "    <tr>\n",
       "      <th>0</th>\n",
       "      <td>30901</td>\n",
       "      <td>B</td>\n",
       "      <td>42.077160</td>\n",
       "      <td>4.738411</td>\n",
       "      <td>0</td>\n",
       "    </tr>\n",
       "    <tr>\n",
       "      <th>1</th>\n",
       "      <td>30901</td>\n",
       "      <td>B</td>\n",
       "      <td>42.077246</td>\n",
       "      <td>4.739088</td>\n",
       "      <td>30</td>\n",
       "    </tr>\n",
       "    <tr>\n",
       "      <th>2</th>\n",
       "      <td>30901</td>\n",
       "      <td>B</td>\n",
       "      <td>42.077259</td>\n",
       "      <td>4.739096</td>\n",
       "      <td>60</td>\n",
       "    </tr>\n",
       "    <tr>\n",
       "      <th>3</th>\n",
       "      <td>30901</td>\n",
       "      <td>B</td>\n",
       "      <td>42.077369</td>\n",
       "      <td>4.739158</td>\n",
       "      <td>90</td>\n",
       "    </tr>\n",
       "    <tr>\n",
       "      <th>4</th>\n",
       "      <td>30901</td>\n",
       "      <td>B</td>\n",
       "      <td>42.077635</td>\n",
       "      <td>4.739343</td>\n",
       "      <td>120</td>\n",
       "    </tr>\n",
       "  </tbody>\n",
       "</table>\n",
       "</div>"
      ],
      "text/plain": [
       "     tid class         c1        c2    t\n",
       "0  30901     B  42.077160  4.738411    0\n",
       "1  30901     B  42.077246  4.739088   30\n",
       "2  30901     B  42.077259  4.739096   60\n",
       "3  30901     B  42.077369  4.739158   90\n",
       "4  30901     B  42.077635  4.739343  120"
      ]
     },
     "execution_count": 53,
     "metadata": {},
     "output_type": "execute_result"
    }
   ],
   "source": [
    "df = pd.read_csv(\"./examples/Vehicles Dataset/data/vehicles_preapred.zip\").sort_values(by=[\"tid\", \"t\"])\n",
    "\n",
    "df[\"c1\"] = df.c1 / 100000\n",
    "df[\"c2\"] = df.c2 / 100000\n",
    "df = df[[\"tid\", \"class\", \"c1\", \"c2\", \"t\"]]\n",
    "\n",
    "\n",
    "df.head()"
   ]
  },
  {
   "cell_type": "code",
   "execution_count": 54,
   "id": "76c968de",
   "metadata": {},
   "outputs": [],
   "source": [
    "spatioTemporalCols = [\"c1\", \"c2\", \"t\"]\n",
    "\n",
    "tid_train, tid_test, _, _ = train_test_split(df.groupby(by=[\"tid\"]).max().reset_index()[\"tid\"],\n",
    "                                                    df.groupby(by=[\"tid\"]).max().reset_index()[\"class\"],\n",
    "                                                    test_size=.3,\n",
    "                                                    stratify=df.groupby(by=[\"tid\"]).max().reset_index()[\"class\"],\n",
    "                                                    random_state=3)"
   ]
  },
  {
   "cell_type": "code",
   "execution_count": 55,
   "id": "71a071a5",
   "metadata": {},
   "outputs": [],
   "source": [
    "partitioner = Geohash_partitioner(precision=6, spatioTemporalColumns=spatioTemporalCols)\n",
    "\n",
    "normalizer = FirstPoint_normalizer(spatioTemporalColumns=spatioTemporalCols, fillna=None)\n",
    "\n",
    "selector = RandomInformationGain_selector(top_k=10, bestFittingMeasure=euclideanBestFitting,\n",
    "                                          movelets_per_class=100, trajectories_for_orderline=100, n_jobs=5,\n",
    "                                          spatioTemporalColumns=spatioTemporalCols, normalizer=normalizer)\n",
    "\n",
    "distancer = Euclidean_distancer(normalizer=normalizer, spatioTemporalColumns=spatioTemporalCols, n_jobs=6)"
   ]
  },
  {
   "cell_type": "code",
   "execution_count": 56,
   "id": "3d86b08a",
   "metadata": {},
   "outputs": [
    {
     "name": "stdout",
     "output_type": "stream",
     "text": [
      "Encoding 125348 points with precision 6\n"
     ]
    },
    {
     "data": {
      "application/vnd.jupyter.widget-view+json": {
       "model_id": "fade9319ca274675b6c5209c15f42c46",
       "version_major": 2,
       "version_minor": 0
      },
      "text/plain": [
       "  0%|          | 0/125348 [00:00<?, ?it/s]"
      ]
     },
     "metadata": {},
     "output_type": "display_data"
    },
    {
     "data": {
      "text/plain": [
       "array([[42003, 'B', 42.078687, 4.782075, 0, 'sp7rku_0'],\n",
       "       [42003, 'B', 42.077084000000006, 4.781617, 34, 'sp7rkg_1'],\n",
       "       [42003, 'B', 42.077367, 4.780520999999999, 64, 'sp7rkg_1'],\n",
       "       [42003, 'B', 42.077895, 4.779303, 94, 'sp7rku_2'],\n",
       "       [42003, 'B', 42.078540999999994, 4.778304, 124, 'sp7rks_3']],\n",
       "      dtype=object)"
      ]
     },
     "execution_count": 56,
     "metadata": {},
     "output_type": "execute_result"
    }
   ],
   "source": [
    "partitions = partitioner.fit_transform(df[df.tid.isin(tid_train)].values)\n",
    "\n",
    "partitions[:5]"
   ]
  },
  {
   "cell_type": "code",
   "execution_count": 57,
   "id": "d5163e3c",
   "metadata": {},
   "outputs": [
    {
     "data": {
      "text/plain": [
       "24716"
      ]
     },
     "execution_count": 57,
     "metadata": {},
     "output_type": "execute_result"
    }
   ],
   "source": [
    "d = dict()\n",
    "\n",
    "for row in partitions:\n",
    "    if row[-1] not in d:\n",
    "        d[row[-1]] = 0\n",
    "    d[row[-1]] += 1\n",
    "    \n",
    "to_keep = set([k for (k,v) in d.items() if v > 1])\n",
    "\n",
    "len(to_keep)"
   ]
  },
  {
   "cell_type": "code",
   "execution_count": 58,
   "id": "6f127849",
   "metadata": {},
   "outputs": [
    {
     "data": {
      "text/plain": [
       "114933"
      ]
     },
     "execution_count": 58,
     "metadata": {},
     "output_type": "execute_result"
    }
   ],
   "source": [
    "partitions = np.array([row for row in partitions if row[-1] in to_keep])\n",
    "\n",
    "len(partitions)"
   ]
  },
  {
   "cell_type": "code",
   "execution_count": 59,
   "id": "f95d359e",
   "metadata": {},
   "outputs": [
    {
     "name": "stdout",
     "output_type": "stream",
     "text": [
      "Cutting sub-trajectories length at 14.0 over 31\n",
      "Pivoting tables\n"
     ]
    },
    {
     "data": {
      "application/vnd.jupyter.widget-view+json": {
       "model_id": "c36c7aa0c3484258a01a7f9b0b63a921",
       "version_major": 2,
       "version_minor": 0
      },
      "text/plain": [
       "  0%|          | 0/467 [00:00<?, ?it/s]"
      ]
     },
     "metadata": {},
     "output_type": "display_data"
    },
    {
     "name": "stdout",
     "output_type": "stream",
     "text": [
      "Cutting sub-trajectories length at 689.0 over 954\n",
      "Pivoting tables\n"
     ]
    },
    {
     "data": {
      "application/vnd.jupyter.widget-view+json": {
       "model_id": "0332c097e90745eeada77a166632a59a",
       "version_major": 2,
       "version_minor": 0
      },
      "text/plain": [
       "  0%|          | 0/47015 [00:00<?, ?it/s]"
      ]
     },
     "metadata": {},
     "output_type": "display_data"
    },
    {
     "name": "stdout",
     "output_type": "stream",
     "text": [
      "Computing scores\n"
     ]
    },
    {
     "data": {
      "application/vnd.jupyter.widget-view+json": {
       "model_id": "9df8670f401b4e53ba8021fd678328ca",
       "version_major": 2,
       "version_minor": 0
      },
      "text/plain": [
       "  0%|          | 0/100 [00:00<?, ?it/s]"
      ]
     },
     "metadata": {},
     "output_type": "display_data"
    },
    {
     "data": {
      "application/vnd.jupyter.widget-view+json": {
       "model_id": "ae038e764c654487ad5bf5bcf8212f95",
       "version_major": 2,
       "version_minor": 0
      },
      "text/plain": [
       "  0%|          | 0/100 [00:00<?, ?it/s]"
      ]
     },
     "metadata": {},
     "output_type": "display_data"
    },
    {
     "name": "stdout",
     "output_type": "stream",
     "text": [
      "0.\t score=0.23736146224947774\n",
      "1.\t score=0.22399226406719897\n",
      "2.\t score=0.2206245744651767\n",
      "3.\t score=0.218950666676615\n",
      "4.\t score=0.19598772487574023\n",
      "5.\t score=0.18814288093299636\n",
      "6.\t score=0.1836989025869178\n",
      "7.\t score=0.17255959398082021\n",
      "8.\t score=0.16950245212251458\n",
      "9.\t score=0.13797207184112437\n"
     ]
    },
    {
     "name": "stderr",
     "output_type": "stream",
     "text": [
      "C:\\Users\\cri98\\anaconda3\\lib\\site-packages\\sklearn\\utils\\validation.py:63: DataConversionWarning:\n",
      "\n",
      "A column-vector y was passed when a 1d array was expected. Please change the shape of y to (n_samples, ), for example using ravel().\n",
      "\n"
     ]
    },
    {
     "data": {
      "text/plain": [
       "[array([0.0, -0.003789999999995075, nan, nan, nan, nan, nan, nan, nan, nan,\n",
       "        nan, nan, nan, nan, 0.0, 0.0026239999999999597, nan, nan, nan, nan,\n",
       "        nan, nan, nan, nan, nan, nan, nan, nan, 0.0, 45.0, nan, nan, nan,\n",
       "        nan, nan, nan, nan, nan, nan, nan, nan, nan], dtype=object),\n",
       " array([0.0, 0.0017470000000017194, 0.002879999999997551,\n",
       "        0.0031000000000034333, 0.0031210000000001514,\n",
       "        0.0029239999999930433, 0.0024750000000040018,\n",
       "        0.0021679999999975053, 0.001685000000001935, nan, nan, nan, nan,\n",
       "        nan, 0.0, -0.0016290000000003246, -0.0029780000000005913,\n",
       "        -0.0030210000000003845, -0.0032840000000007308,\n",
       "        -0.004285000000000316, -0.006235000000000213,\n",
       "        -0.0075510000000003075, -0.009571000000001106, nan, nan, nan, nan,\n",
       "        nan, 0.0, 30.0, 60.0, 90.0, 120.0, 150.0, 180.0, 210.0, 240.0, nan,\n",
       "        nan, nan, nan, nan], dtype=object),\n",
       " array([0.0, 0.0005020000000044433, 0.0006929999999982783,\n",
       "        0.0006929999999982783, 0.0009829999999979577, 0.001518999999994719,\n",
       "        0.0024970000000053005, 0.004383999999994614, nan, nan, nan, nan,\n",
       "        nan, nan, 0.0, -0.0012990000000003832, -0.002159000000000688,\n",
       "        -0.002159000000000688, -0.003422999999999732,\n",
       "        -0.005257000000000289, -0.0051680000000002835,\n",
       "        -0.004691000000000223, nan, nan, nan, nan, nan, nan, 0.0, 30.0,\n",
       "        60.0, 90.0, 120.0, 150.0, 180.0, 210.0, nan, nan, nan, nan, nan,\n",
       "        nan], dtype=object),\n",
       " array([0.0, 0.000529999999997699, -4.399999999549209e-05, nan, nan, nan,\n",
       "        nan, nan, nan, nan, nan, nan, nan, nan, 0.0, 0.0012739999999995533,\n",
       "        0.0036519999999988784, nan, nan, nan, nan, nan, nan, nan, nan, nan,\n",
       "        nan, nan, 0.0, 30.0, 60.0, nan, nan, nan, nan, nan, nan, nan, nan,\n",
       "        nan, nan, nan], dtype=object),\n",
       " array([0.0, 0.0009889999999899146, 0.0020949999999970714,\n",
       "        0.0021500000000003183, 0.0021839999999926363, 0.002218999999989535,\n",
       "        0.002218999999989535, 0.00223199999999224, 0.002246999999989896,\n",
       "        0.0022819999999939, 0.0022949999999966053, 0.0022959999999940806,\n",
       "        0.0015989999999916904, -0.0002510000000057744, 0.0,\n",
       "        -0.0010940000000001504, -0.003287000000000262,\n",
       "        -0.003427000000000291, -0.0035330000000000084,\n",
       "        -0.0039009999999999323, -0.00401499999999988,\n",
       "        -0.004120000000000346, -0.005015999999999465,\n",
       "        -0.005779999999999674, -0.005842000000000347,\n",
       "        -0.006334000000000728, -0.0068630000000000635,\n",
       "        -0.008245000000000502, 0.0, 30.0, 60.0, 90.0, 120.0, 150.0, 180.0,\n",
       "        270.0, 300.0, 330.0, 360.0, 480.0, 510.0, 540.0], dtype=object),\n",
       " array([0.0, 0.0009770000000060008, 0.001314000000007809,\n",
       "        0.0013480000000001269, nan, nan, nan, nan, nan, nan, nan, nan, nan,\n",
       "        nan, 0.0, -6.899999999987472e-05, -0.0017439999999995237,\n",
       "        -0.0017610000000001236, nan, nan, nan, nan, nan, nan, nan, nan,\n",
       "        nan, nan, 0.0, 30.0, 60.0, 90.0, nan, nan, nan, nan, nan, nan, nan,\n",
       "        nan, nan, nan], dtype=object),\n",
       " array([0.0, 0.00012299999999498823, 0.00035399999999441434,\n",
       "        0.0005669999999895481, 0.0018089999999943984, nan, nan, nan, nan,\n",
       "        nan, nan, nan, nan, nan, 0.0, 0.0, 0.0008339999999993353,\n",
       "        0.0034409999999995833, 0.004426999999999737, nan, nan, nan, nan,\n",
       "        nan, nan, nan, nan, nan, 0.0, 30.0, 60.0, 90.0, 120.0, nan, nan,\n",
       "        nan, nan, nan, nan, nan, nan, nan], dtype=object),\n",
       " array([0.0, -0.0015900000000002024, -0.0020870000000030586,\n",
       "        -0.0023739999999961015, -0.0024289999999993483,\n",
       "        -0.002450000000003172, -0.002838999999994485,\n",
       "        -0.0037839999999960128, -0.004115999999996234,\n",
       "        -0.004280000000001394, nan, nan, nan, nan, 0.0,\n",
       "        -0.0027160000000003848, -0.0037080000000004887,\n",
       "        -0.004271000000000136, -0.004368000000000372,\n",
       "        -0.004369000000000511, -0.0044919999999999405,\n",
       "        -0.004204000000000541, -0.005003000000000313,\n",
       "        -0.005513000000000545, nan, nan, nan, nan, 0.0, 30.0, 60.0, 90.0,\n",
       "        120.0, 150.0, 210.0, 240.0, 270.0, 300.0, nan, nan, nan, nan],\n",
       "       dtype=object),\n",
       " array([0.0, 0.0016290000000083182, 0.0022570000000001755,\n",
       "        0.002974000000008914, 0.0033970000000067557, nan, nan, nan, nan,\n",
       "        nan, nan, nan, nan, nan, 0.0, 0.00023999999999979593,\n",
       "        0.0028490000000003235, 0.005485000000000184, 0.00601299999999938,\n",
       "        nan, nan, nan, nan, nan, nan, nan, nan, nan, 0.0, 30.0, 60.0, 90.0,\n",
       "        120.0, nan, nan, nan, nan, nan, nan, nan, nan, nan], dtype=object),\n",
       " array([0.0, -0.0003969999999924312, -0.0008959999999973434,\n",
       "        -0.0009509999999934848, -0.0023259999999964975,\n",
       "        -0.0017689999999959127, -0.003157999999999106,\n",
       "        -0.004136999999992952, nan, nan, nan, nan, nan, nan, 0.0,\n",
       "        -0.0002200000000005531, -0.0005189999999997141,\n",
       "        -0.0005270000000008324, -0.0009410000000000807,\n",
       "        -0.002407000000000714, -0.0020490000000004116,\n",
       "        -0.0014880000000001559, nan, nan, nan, nan, nan, nan, 0.0, 30.0,\n",
       "        60.0, 90.0, 150.0, 180.0, 210.0, 240.0, nan, nan, nan, nan, nan,\n",
       "        nan], dtype=object)]"
      ]
     },
     "execution_count": 59,
     "metadata": {},
     "output_type": "execute_result"
    }
   ],
   "source": [
    "shapelets = selector.fit_transform(partitions)\n",
    "\n",
    "shapelets"
   ]
  },
  {
   "cell_type": "code",
   "execution_count": 60,
   "id": "611b3643",
   "metadata": {},
   "outputs": [
    {
     "data": {
      "application/vnd.plotly.v1+json": {
       "config": {
        "plotlyServerURL": "https://plot.ly"
       },
       "data": [
        {
         "hovertemplate": "id=0<br>c1=%{x}<br>c2=%{y}<br>time=%{z}<extra></extra>",
         "legendgroup": "0",
         "line": {
          "color": "#636efa",
          "dash": "solid"
         },
         "marker": {
          "symbol": "circle"
         },
         "mode": "lines",
         "name": "0",
         "scene": "scene",
         "showlegend": true,
         "type": "scatter3d",
         "x": [
          0,
          -0.003789999999995075
         ],
         "y": [
          0,
          0.0026239999999999597
         ],
         "z": [
          0,
          45
         ]
        },
        {
         "hovertemplate": "id=1<br>c1=%{x}<br>c2=%{y}<br>time=%{z}<extra></extra>",
         "legendgroup": "1",
         "line": {
          "color": "#EF553B",
          "dash": "solid"
         },
         "marker": {
          "symbol": "circle"
         },
         "mode": "lines",
         "name": "1",
         "scene": "scene",
         "showlegend": true,
         "type": "scatter3d",
         "x": [
          0,
          0.0017470000000017194,
          0.002879999999997551,
          0.0031000000000034333,
          0.0031210000000001514,
          0.0029239999999930433,
          0.0024750000000040018,
          0.0021679999999975053,
          0.001685000000001935
         ],
         "y": [
          0,
          -0.0016290000000003246,
          -0.0029780000000005913,
          -0.0030210000000003845,
          -0.0032840000000007308,
          -0.004285000000000316,
          -0.006235000000000213,
          -0.0075510000000003075,
          -0.009571000000001106
         ],
         "z": [
          0,
          30,
          60,
          90,
          120,
          150,
          180,
          210,
          240
         ]
        },
        {
         "hovertemplate": "id=2<br>c1=%{x}<br>c2=%{y}<br>time=%{z}<extra></extra>",
         "legendgroup": "2",
         "line": {
          "color": "#00cc96",
          "dash": "solid"
         },
         "marker": {
          "symbol": "circle"
         },
         "mode": "lines",
         "name": "2",
         "scene": "scene",
         "showlegend": true,
         "type": "scatter3d",
         "x": [
          0,
          0.0005020000000044433,
          0.0006929999999982783,
          0.0006929999999982783,
          0.0009829999999979577,
          0.001518999999994719,
          0.0024970000000053005,
          0.004383999999994614
         ],
         "y": [
          0,
          -0.0012990000000003832,
          -0.002159000000000688,
          -0.002159000000000688,
          -0.003422999999999732,
          -0.005257000000000289,
          -0.0051680000000002835,
          -0.004691000000000223
         ],
         "z": [
          0,
          30,
          60,
          90,
          120,
          150,
          180,
          210
         ]
        },
        {
         "hovertemplate": "id=3<br>c1=%{x}<br>c2=%{y}<br>time=%{z}<extra></extra>",
         "legendgroup": "3",
         "line": {
          "color": "#ab63fa",
          "dash": "solid"
         },
         "marker": {
          "symbol": "circle"
         },
         "mode": "lines",
         "name": "3",
         "scene": "scene",
         "showlegend": true,
         "type": "scatter3d",
         "x": [
          0,
          0.000529999999997699,
          -4.399999999549209e-05
         ],
         "y": [
          0,
          0.0012739999999995533,
          0.0036519999999988784
         ],
         "z": [
          0,
          30,
          60
         ]
        },
        {
         "hovertemplate": "id=4<br>c1=%{x}<br>c2=%{y}<br>time=%{z}<extra></extra>",
         "legendgroup": "4",
         "line": {
          "color": "#FFA15A",
          "dash": "solid"
         },
         "marker": {
          "symbol": "circle"
         },
         "mode": "lines",
         "name": "4",
         "scene": "scene",
         "showlegend": true,
         "type": "scatter3d",
         "x": [
          0,
          0.0009889999999899146,
          0.0020949999999970714,
          0.0021500000000003183,
          0.0021839999999926363,
          0.002218999999989535,
          0.002218999999989535,
          0.00223199999999224,
          0.002246999999989896,
          0.0022819999999939,
          0.0022949999999966053,
          0.0022959999999940806,
          0.0015989999999916904,
          -0.0002510000000057744
         ],
         "y": [
          0,
          -0.0010940000000001504,
          -0.003287000000000262,
          -0.003427000000000291,
          -0.0035330000000000084,
          -0.0039009999999999323,
          -0.00401499999999988,
          -0.004120000000000346,
          -0.005015999999999465,
          -0.005779999999999674,
          -0.005842000000000347,
          -0.006334000000000728,
          -0.0068630000000000635,
          -0.008245000000000502
         ],
         "z": [
          0,
          30,
          60,
          90,
          120,
          150,
          180,
          270,
          300,
          330,
          360,
          480,
          510,
          540
         ]
        },
        {
         "hovertemplate": "id=5<br>c1=%{x}<br>c2=%{y}<br>time=%{z}<extra></extra>",
         "legendgroup": "5",
         "line": {
          "color": "#19d3f3",
          "dash": "solid"
         },
         "marker": {
          "symbol": "circle"
         },
         "mode": "lines",
         "name": "5",
         "scene": "scene",
         "showlegend": true,
         "type": "scatter3d",
         "x": [
          0,
          0.0009770000000060008,
          0.001314000000007809,
          0.0013480000000001269
         ],
         "y": [
          0,
          -6.899999999987472e-05,
          -0.0017439999999995237,
          -0.0017610000000001236
         ],
         "z": [
          0,
          30,
          60,
          90
         ]
        },
        {
         "hovertemplate": "id=6<br>c1=%{x}<br>c2=%{y}<br>time=%{z}<extra></extra>",
         "legendgroup": "6",
         "line": {
          "color": "#FF6692",
          "dash": "solid"
         },
         "marker": {
          "symbol": "circle"
         },
         "mode": "lines",
         "name": "6",
         "scene": "scene",
         "showlegend": true,
         "type": "scatter3d",
         "x": [
          0,
          0.00012299999999498823,
          0.00035399999999441434,
          0.0005669999999895481,
          0.0018089999999943984
         ],
         "y": [
          0,
          0,
          0.0008339999999993353,
          0.0034409999999995833,
          0.004426999999999737
         ],
         "z": [
          0,
          30,
          60,
          90,
          120
         ]
        },
        {
         "hovertemplate": "id=7<br>c1=%{x}<br>c2=%{y}<br>time=%{z}<extra></extra>",
         "legendgroup": "7",
         "line": {
          "color": "#B6E880",
          "dash": "solid"
         },
         "marker": {
          "symbol": "circle"
         },
         "mode": "lines",
         "name": "7",
         "scene": "scene",
         "showlegend": true,
         "type": "scatter3d",
         "x": [
          0,
          -0.0015900000000002024,
          -0.0020870000000030586,
          -0.0023739999999961015,
          -0.0024289999999993483,
          -0.002450000000003172,
          -0.002838999999994485,
          -0.0037839999999960128,
          -0.004115999999996234,
          -0.004280000000001394
         ],
         "y": [
          0,
          -0.0027160000000003848,
          -0.0037080000000004887,
          -0.004271000000000136,
          -0.004368000000000372,
          -0.004369000000000511,
          -0.0044919999999999405,
          -0.004204000000000541,
          -0.005003000000000313,
          -0.005513000000000545
         ],
         "z": [
          0,
          30,
          60,
          90,
          120,
          150,
          210,
          240,
          270,
          300
         ]
        },
        {
         "hovertemplate": "id=8<br>c1=%{x}<br>c2=%{y}<br>time=%{z}<extra></extra>",
         "legendgroup": "8",
         "line": {
          "color": "#FF97FF",
          "dash": "solid"
         },
         "marker": {
          "symbol": "circle"
         },
         "mode": "lines",
         "name": "8",
         "scene": "scene",
         "showlegend": true,
         "type": "scatter3d",
         "x": [
          0,
          0.0016290000000083182,
          0.0022570000000001755,
          0.002974000000008914,
          0.0033970000000067557
         ],
         "y": [
          0,
          0.00023999999999979593,
          0.0028490000000003235,
          0.005485000000000184,
          0.00601299999999938
         ],
         "z": [
          0,
          30,
          60,
          90,
          120
         ]
        },
        {
         "hovertemplate": "id=9<br>c1=%{x}<br>c2=%{y}<br>time=%{z}<extra></extra>",
         "legendgroup": "9",
         "line": {
          "color": "#FECB52",
          "dash": "solid"
         },
         "marker": {
          "symbol": "circle"
         },
         "mode": "lines",
         "name": "9",
         "scene": "scene",
         "showlegend": true,
         "type": "scatter3d",
         "x": [
          0,
          -0.0003969999999924312,
          -0.0008959999999973434,
          -0.0009509999999934848,
          -0.0023259999999964975,
          -0.0017689999999959127,
          -0.003157999999999106,
          -0.004136999999992952
         ],
         "y": [
          0,
          -0.0002200000000005531,
          -0.0005189999999997141,
          -0.0005270000000008324,
          -0.0009410000000000807,
          -0.002407000000000714,
          -0.0020490000000004116,
          -0.0014880000000001559
         ],
         "z": [
          0,
          30,
          60,
          90,
          150,
          180,
          210,
          240
         ]
        }
       ],
       "layout": {
        "legend": {
         "title": {
          "text": "id"
         },
         "tracegroupgap": 0
        },
        "margin": {
         "t": 60
        },
        "scene": {
         "domain": {
          "x": [
           0,
           1
          ],
          "y": [
           0,
           1
          ]
         },
         "xaxis": {
          "title": {
           "text": "c1"
          }
         },
         "yaxis": {
          "title": {
           "text": "c2"
          }
         },
         "zaxis": {
          "title": {
           "text": "time"
          }
         }
        },
        "template": {
         "data": {
          "bar": [
           {
            "error_x": {
             "color": "#2a3f5f"
            },
            "error_y": {
             "color": "#2a3f5f"
            },
            "marker": {
             "line": {
              "color": "#E5ECF6",
              "width": 0.5
             },
             "pattern": {
              "fillmode": "overlay",
              "size": 10,
              "solidity": 0.2
             }
            },
            "type": "bar"
           }
          ],
          "barpolar": [
           {
            "marker": {
             "line": {
              "color": "#E5ECF6",
              "width": 0.5
             },
             "pattern": {
              "fillmode": "overlay",
              "size": 10,
              "solidity": 0.2
             }
            },
            "type": "barpolar"
           }
          ],
          "carpet": [
           {
            "aaxis": {
             "endlinecolor": "#2a3f5f",
             "gridcolor": "white",
             "linecolor": "white",
             "minorgridcolor": "white",
             "startlinecolor": "#2a3f5f"
            },
            "baxis": {
             "endlinecolor": "#2a3f5f",
             "gridcolor": "white",
             "linecolor": "white",
             "minorgridcolor": "white",
             "startlinecolor": "#2a3f5f"
            },
            "type": "carpet"
           }
          ],
          "choropleth": [
           {
            "colorbar": {
             "outlinewidth": 0,
             "ticks": ""
            },
            "type": "choropleth"
           }
          ],
          "contour": [
           {
            "colorbar": {
             "outlinewidth": 0,
             "ticks": ""
            },
            "colorscale": [
             [
              0,
              "#0d0887"
             ],
             [
              0.1111111111111111,
              "#46039f"
             ],
             [
              0.2222222222222222,
              "#7201a8"
             ],
             [
              0.3333333333333333,
              "#9c179e"
             ],
             [
              0.4444444444444444,
              "#bd3786"
             ],
             [
              0.5555555555555556,
              "#d8576b"
             ],
             [
              0.6666666666666666,
              "#ed7953"
             ],
             [
              0.7777777777777778,
              "#fb9f3a"
             ],
             [
              0.8888888888888888,
              "#fdca26"
             ],
             [
              1,
              "#f0f921"
             ]
            ],
            "type": "contour"
           }
          ],
          "contourcarpet": [
           {
            "colorbar": {
             "outlinewidth": 0,
             "ticks": ""
            },
            "type": "contourcarpet"
           }
          ],
          "heatmap": [
           {
            "colorbar": {
             "outlinewidth": 0,
             "ticks": ""
            },
            "colorscale": [
             [
              0,
              "#0d0887"
             ],
             [
              0.1111111111111111,
              "#46039f"
             ],
             [
              0.2222222222222222,
              "#7201a8"
             ],
             [
              0.3333333333333333,
              "#9c179e"
             ],
             [
              0.4444444444444444,
              "#bd3786"
             ],
             [
              0.5555555555555556,
              "#d8576b"
             ],
             [
              0.6666666666666666,
              "#ed7953"
             ],
             [
              0.7777777777777778,
              "#fb9f3a"
             ],
             [
              0.8888888888888888,
              "#fdca26"
             ],
             [
              1,
              "#f0f921"
             ]
            ],
            "type": "heatmap"
           }
          ],
          "heatmapgl": [
           {
            "colorbar": {
             "outlinewidth": 0,
             "ticks": ""
            },
            "colorscale": [
             [
              0,
              "#0d0887"
             ],
             [
              0.1111111111111111,
              "#46039f"
             ],
             [
              0.2222222222222222,
              "#7201a8"
             ],
             [
              0.3333333333333333,
              "#9c179e"
             ],
             [
              0.4444444444444444,
              "#bd3786"
             ],
             [
              0.5555555555555556,
              "#d8576b"
             ],
             [
              0.6666666666666666,
              "#ed7953"
             ],
             [
              0.7777777777777778,
              "#fb9f3a"
             ],
             [
              0.8888888888888888,
              "#fdca26"
             ],
             [
              1,
              "#f0f921"
             ]
            ],
            "type": "heatmapgl"
           }
          ],
          "histogram": [
           {
            "marker": {
             "pattern": {
              "fillmode": "overlay",
              "size": 10,
              "solidity": 0.2
             }
            },
            "type": "histogram"
           }
          ],
          "histogram2d": [
           {
            "colorbar": {
             "outlinewidth": 0,
             "ticks": ""
            },
            "colorscale": [
             [
              0,
              "#0d0887"
             ],
             [
              0.1111111111111111,
              "#46039f"
             ],
             [
              0.2222222222222222,
              "#7201a8"
             ],
             [
              0.3333333333333333,
              "#9c179e"
             ],
             [
              0.4444444444444444,
              "#bd3786"
             ],
             [
              0.5555555555555556,
              "#d8576b"
             ],
             [
              0.6666666666666666,
              "#ed7953"
             ],
             [
              0.7777777777777778,
              "#fb9f3a"
             ],
             [
              0.8888888888888888,
              "#fdca26"
             ],
             [
              1,
              "#f0f921"
             ]
            ],
            "type": "histogram2d"
           }
          ],
          "histogram2dcontour": [
           {
            "colorbar": {
             "outlinewidth": 0,
             "ticks": ""
            },
            "colorscale": [
             [
              0,
              "#0d0887"
             ],
             [
              0.1111111111111111,
              "#46039f"
             ],
             [
              0.2222222222222222,
              "#7201a8"
             ],
             [
              0.3333333333333333,
              "#9c179e"
             ],
             [
              0.4444444444444444,
              "#bd3786"
             ],
             [
              0.5555555555555556,
              "#d8576b"
             ],
             [
              0.6666666666666666,
              "#ed7953"
             ],
             [
              0.7777777777777778,
              "#fb9f3a"
             ],
             [
              0.8888888888888888,
              "#fdca26"
             ],
             [
              1,
              "#f0f921"
             ]
            ],
            "type": "histogram2dcontour"
           }
          ],
          "mesh3d": [
           {
            "colorbar": {
             "outlinewidth": 0,
             "ticks": ""
            },
            "type": "mesh3d"
           }
          ],
          "parcoords": [
           {
            "line": {
             "colorbar": {
              "outlinewidth": 0,
              "ticks": ""
             }
            },
            "type": "parcoords"
           }
          ],
          "pie": [
           {
            "automargin": true,
            "type": "pie"
           }
          ],
          "scatter": [
           {
            "marker": {
             "colorbar": {
              "outlinewidth": 0,
              "ticks": ""
             }
            },
            "type": "scatter"
           }
          ],
          "scatter3d": [
           {
            "line": {
             "colorbar": {
              "outlinewidth": 0,
              "ticks": ""
             }
            },
            "marker": {
             "colorbar": {
              "outlinewidth": 0,
              "ticks": ""
             }
            },
            "type": "scatter3d"
           }
          ],
          "scattercarpet": [
           {
            "marker": {
             "colorbar": {
              "outlinewidth": 0,
              "ticks": ""
             }
            },
            "type": "scattercarpet"
           }
          ],
          "scattergeo": [
           {
            "marker": {
             "colorbar": {
              "outlinewidth": 0,
              "ticks": ""
             }
            },
            "type": "scattergeo"
           }
          ],
          "scattergl": [
           {
            "marker": {
             "colorbar": {
              "outlinewidth": 0,
              "ticks": ""
             }
            },
            "type": "scattergl"
           }
          ],
          "scattermapbox": [
           {
            "marker": {
             "colorbar": {
              "outlinewidth": 0,
              "ticks": ""
             }
            },
            "type": "scattermapbox"
           }
          ],
          "scatterpolar": [
           {
            "marker": {
             "colorbar": {
              "outlinewidth": 0,
              "ticks": ""
             }
            },
            "type": "scatterpolar"
           }
          ],
          "scatterpolargl": [
           {
            "marker": {
             "colorbar": {
              "outlinewidth": 0,
              "ticks": ""
             }
            },
            "type": "scatterpolargl"
           }
          ],
          "scatterternary": [
           {
            "marker": {
             "colorbar": {
              "outlinewidth": 0,
              "ticks": ""
             }
            },
            "type": "scatterternary"
           }
          ],
          "surface": [
           {
            "colorbar": {
             "outlinewidth": 0,
             "ticks": ""
            },
            "colorscale": [
             [
              0,
              "#0d0887"
             ],
             [
              0.1111111111111111,
              "#46039f"
             ],
             [
              0.2222222222222222,
              "#7201a8"
             ],
             [
              0.3333333333333333,
              "#9c179e"
             ],
             [
              0.4444444444444444,
              "#bd3786"
             ],
             [
              0.5555555555555556,
              "#d8576b"
             ],
             [
              0.6666666666666666,
              "#ed7953"
             ],
             [
              0.7777777777777778,
              "#fb9f3a"
             ],
             [
              0.8888888888888888,
              "#fdca26"
             ],
             [
              1,
              "#f0f921"
             ]
            ],
            "type": "surface"
           }
          ],
          "table": [
           {
            "cells": {
             "fill": {
              "color": "#EBF0F8"
             },
             "line": {
              "color": "white"
             }
            },
            "header": {
             "fill": {
              "color": "#C8D4E3"
             },
             "line": {
              "color": "white"
             }
            },
            "type": "table"
           }
          ]
         },
         "layout": {
          "annotationdefaults": {
           "arrowcolor": "#2a3f5f",
           "arrowhead": 0,
           "arrowwidth": 1
          },
          "autotypenumbers": "strict",
          "coloraxis": {
           "colorbar": {
            "outlinewidth": 0,
            "ticks": ""
           }
          },
          "colorscale": {
           "diverging": [
            [
             0,
             "#8e0152"
            ],
            [
             0.1,
             "#c51b7d"
            ],
            [
             0.2,
             "#de77ae"
            ],
            [
             0.3,
             "#f1b6da"
            ],
            [
             0.4,
             "#fde0ef"
            ],
            [
             0.5,
             "#f7f7f7"
            ],
            [
             0.6,
             "#e6f5d0"
            ],
            [
             0.7,
             "#b8e186"
            ],
            [
             0.8,
             "#7fbc41"
            ],
            [
             0.9,
             "#4d9221"
            ],
            [
             1,
             "#276419"
            ]
           ],
           "sequential": [
            [
             0,
             "#0d0887"
            ],
            [
             0.1111111111111111,
             "#46039f"
            ],
            [
             0.2222222222222222,
             "#7201a8"
            ],
            [
             0.3333333333333333,
             "#9c179e"
            ],
            [
             0.4444444444444444,
             "#bd3786"
            ],
            [
             0.5555555555555556,
             "#d8576b"
            ],
            [
             0.6666666666666666,
             "#ed7953"
            ],
            [
             0.7777777777777778,
             "#fb9f3a"
            ],
            [
             0.8888888888888888,
             "#fdca26"
            ],
            [
             1,
             "#f0f921"
            ]
           ],
           "sequentialminus": [
            [
             0,
             "#0d0887"
            ],
            [
             0.1111111111111111,
             "#46039f"
            ],
            [
             0.2222222222222222,
             "#7201a8"
            ],
            [
             0.3333333333333333,
             "#9c179e"
            ],
            [
             0.4444444444444444,
             "#bd3786"
            ],
            [
             0.5555555555555556,
             "#d8576b"
            ],
            [
             0.6666666666666666,
             "#ed7953"
            ],
            [
             0.7777777777777778,
             "#fb9f3a"
            ],
            [
             0.8888888888888888,
             "#fdca26"
            ],
            [
             1,
             "#f0f921"
            ]
           ]
          },
          "colorway": [
           "#636efa",
           "#EF553B",
           "#00cc96",
           "#ab63fa",
           "#FFA15A",
           "#19d3f3",
           "#FF6692",
           "#B6E880",
           "#FF97FF",
           "#FECB52"
          ],
          "font": {
           "color": "#2a3f5f"
          },
          "geo": {
           "bgcolor": "white",
           "lakecolor": "white",
           "landcolor": "#E5ECF6",
           "showlakes": true,
           "showland": true,
           "subunitcolor": "white"
          },
          "hoverlabel": {
           "align": "left"
          },
          "hovermode": "closest",
          "mapbox": {
           "style": "light"
          },
          "paper_bgcolor": "white",
          "plot_bgcolor": "#E5ECF6",
          "polar": {
           "angularaxis": {
            "gridcolor": "white",
            "linecolor": "white",
            "ticks": ""
           },
           "bgcolor": "#E5ECF6",
           "radialaxis": {
            "gridcolor": "white",
            "linecolor": "white",
            "ticks": ""
           }
          },
          "scene": {
           "xaxis": {
            "backgroundcolor": "#E5ECF6",
            "gridcolor": "white",
            "gridwidth": 2,
            "linecolor": "white",
            "showbackground": true,
            "ticks": "",
            "zerolinecolor": "white"
           },
           "yaxis": {
            "backgroundcolor": "#E5ECF6",
            "gridcolor": "white",
            "gridwidth": 2,
            "linecolor": "white",
            "showbackground": true,
            "ticks": "",
            "zerolinecolor": "white"
           },
           "zaxis": {
            "backgroundcolor": "#E5ECF6",
            "gridcolor": "white",
            "gridwidth": 2,
            "linecolor": "white",
            "showbackground": true,
            "ticks": "",
            "zerolinecolor": "white"
           }
          },
          "shapedefaults": {
           "line": {
            "color": "#2a3f5f"
           }
          },
          "ternary": {
           "aaxis": {
            "gridcolor": "white",
            "linecolor": "white",
            "ticks": ""
           },
           "baxis": {
            "gridcolor": "white",
            "linecolor": "white",
            "ticks": ""
           },
           "bgcolor": "#E5ECF6",
           "caxis": {
            "gridcolor": "white",
            "linecolor": "white",
            "ticks": ""
           }
          },
          "title": {
           "x": 0.05
          },
          "xaxis": {
           "automargin": true,
           "gridcolor": "white",
           "linecolor": "white",
           "ticks": "",
           "title": {
            "standoff": 15
           },
           "zerolinecolor": "white",
           "zerolinewidth": 2
          },
          "yaxis": {
           "automargin": true,
           "gridcolor": "white",
           "linecolor": "white",
           "ticks": "",
           "title": {
            "standoff": 15
           },
           "zerolinecolor": "white",
           "zerolinewidth": 2
          }
         }
        }
       }
      },
      "text/html": [
       "<div>                            <div id=\"ce6a94a8-40a4-4dea-8a94-e58c94226c04\" class=\"plotly-graph-div\" style=\"height:525px; width:100%;\"></div>            <script type=\"text/javascript\">                require([\"plotly\"], function(Plotly) {                    window.PLOTLYENV=window.PLOTLYENV || {};                                    if (document.getElementById(\"ce6a94a8-40a4-4dea-8a94-e58c94226c04\")) {                    Plotly.newPlot(                        \"ce6a94a8-40a4-4dea-8a94-e58c94226c04\",                        [{\"hovertemplate\":\"id=0<br>c1=%{x}<br>c2=%{y}<br>time=%{z}<extra></extra>\",\"legendgroup\":\"0\",\"line\":{\"color\":\"#636efa\",\"dash\":\"solid\"},\"marker\":{\"symbol\":\"circle\"},\"mode\":\"lines\",\"name\":\"0\",\"scene\":\"scene\",\"showlegend\":true,\"x\":[0.0,-0.003789999999995075],\"y\":[0.0,0.0026239999999999597],\"z\":[0.0,45.0],\"type\":\"scatter3d\"},{\"hovertemplate\":\"id=1<br>c1=%{x}<br>c2=%{y}<br>time=%{z}<extra></extra>\",\"legendgroup\":\"1\",\"line\":{\"color\":\"#EF553B\",\"dash\":\"solid\"},\"marker\":{\"symbol\":\"circle\"},\"mode\":\"lines\",\"name\":\"1\",\"scene\":\"scene\",\"showlegend\":true,\"x\":[0.0,0.0017470000000017194,0.002879999999997551,0.0031000000000034333,0.0031210000000001514,0.0029239999999930433,0.0024750000000040018,0.0021679999999975053,0.001685000000001935],\"y\":[0.0,-0.0016290000000003246,-0.0029780000000005913,-0.0030210000000003845,-0.0032840000000007308,-0.004285000000000316,-0.006235000000000213,-0.0075510000000003075,-0.009571000000001106],\"z\":[0.0,30.0,60.0,90.0,120.0,150.0,180.0,210.0,240.0],\"type\":\"scatter3d\"},{\"hovertemplate\":\"id=2<br>c1=%{x}<br>c2=%{y}<br>time=%{z}<extra></extra>\",\"legendgroup\":\"2\",\"line\":{\"color\":\"#00cc96\",\"dash\":\"solid\"},\"marker\":{\"symbol\":\"circle\"},\"mode\":\"lines\",\"name\":\"2\",\"scene\":\"scene\",\"showlegend\":true,\"x\":[0.0,0.0005020000000044433,0.0006929999999982783,0.0006929999999982783,0.0009829999999979577,0.001518999999994719,0.0024970000000053005,0.004383999999994614],\"y\":[0.0,-0.0012990000000003832,-0.002159000000000688,-0.002159000000000688,-0.003422999999999732,-0.005257000000000289,-0.0051680000000002835,-0.004691000000000223],\"z\":[0.0,30.0,60.0,90.0,120.0,150.0,180.0,210.0],\"type\":\"scatter3d\"},{\"hovertemplate\":\"id=3<br>c1=%{x}<br>c2=%{y}<br>time=%{z}<extra></extra>\",\"legendgroup\":\"3\",\"line\":{\"color\":\"#ab63fa\",\"dash\":\"solid\"},\"marker\":{\"symbol\":\"circle\"},\"mode\":\"lines\",\"name\":\"3\",\"scene\":\"scene\",\"showlegend\":true,\"x\":[0.0,0.000529999999997699,-4.399999999549209e-05],\"y\":[0.0,0.0012739999999995533,0.0036519999999988784],\"z\":[0.0,30.0,60.0],\"type\":\"scatter3d\"},{\"hovertemplate\":\"id=4<br>c1=%{x}<br>c2=%{y}<br>time=%{z}<extra></extra>\",\"legendgroup\":\"4\",\"line\":{\"color\":\"#FFA15A\",\"dash\":\"solid\"},\"marker\":{\"symbol\":\"circle\"},\"mode\":\"lines\",\"name\":\"4\",\"scene\":\"scene\",\"showlegend\":true,\"x\":[0.0,0.0009889999999899146,0.0020949999999970714,0.0021500000000003183,0.0021839999999926363,0.002218999999989535,0.002218999999989535,0.00223199999999224,0.002246999999989896,0.0022819999999939,0.0022949999999966053,0.0022959999999940806,0.0015989999999916904,-0.0002510000000057744],\"y\":[0.0,-0.0010940000000001504,-0.003287000000000262,-0.003427000000000291,-0.0035330000000000084,-0.0039009999999999323,-0.00401499999999988,-0.004120000000000346,-0.005015999999999465,-0.005779999999999674,-0.005842000000000347,-0.006334000000000728,-0.0068630000000000635,-0.008245000000000502],\"z\":[0.0,30.0,60.0,90.0,120.0,150.0,180.0,270.0,300.0,330.0,360.0,480.0,510.0,540.0],\"type\":\"scatter3d\"},{\"hovertemplate\":\"id=5<br>c1=%{x}<br>c2=%{y}<br>time=%{z}<extra></extra>\",\"legendgroup\":\"5\",\"line\":{\"color\":\"#19d3f3\",\"dash\":\"solid\"},\"marker\":{\"symbol\":\"circle\"},\"mode\":\"lines\",\"name\":\"5\",\"scene\":\"scene\",\"showlegend\":true,\"x\":[0.0,0.0009770000000060008,0.001314000000007809,0.0013480000000001269],\"y\":[0.0,-6.899999999987472e-05,-0.0017439999999995237,-0.0017610000000001236],\"z\":[0.0,30.0,60.0,90.0],\"type\":\"scatter3d\"},{\"hovertemplate\":\"id=6<br>c1=%{x}<br>c2=%{y}<br>time=%{z}<extra></extra>\",\"legendgroup\":\"6\",\"line\":{\"color\":\"#FF6692\",\"dash\":\"solid\"},\"marker\":{\"symbol\":\"circle\"},\"mode\":\"lines\",\"name\":\"6\",\"scene\":\"scene\",\"showlegend\":true,\"x\":[0.0,0.00012299999999498823,0.00035399999999441434,0.0005669999999895481,0.0018089999999943984],\"y\":[0.0,0.0,0.0008339999999993353,0.0034409999999995833,0.004426999999999737],\"z\":[0.0,30.0,60.0,90.0,120.0],\"type\":\"scatter3d\"},{\"hovertemplate\":\"id=7<br>c1=%{x}<br>c2=%{y}<br>time=%{z}<extra></extra>\",\"legendgroup\":\"7\",\"line\":{\"color\":\"#B6E880\",\"dash\":\"solid\"},\"marker\":{\"symbol\":\"circle\"},\"mode\":\"lines\",\"name\":\"7\",\"scene\":\"scene\",\"showlegend\":true,\"x\":[0.0,-0.0015900000000002024,-0.0020870000000030586,-0.0023739999999961015,-0.0024289999999993483,-0.002450000000003172,-0.002838999999994485,-0.0037839999999960128,-0.004115999999996234,-0.004280000000001394],\"y\":[0.0,-0.0027160000000003848,-0.0037080000000004887,-0.004271000000000136,-0.004368000000000372,-0.004369000000000511,-0.0044919999999999405,-0.004204000000000541,-0.005003000000000313,-0.005513000000000545],\"z\":[0.0,30.0,60.0,90.0,120.0,150.0,210.0,240.0,270.0,300.0],\"type\":\"scatter3d\"},{\"hovertemplate\":\"id=8<br>c1=%{x}<br>c2=%{y}<br>time=%{z}<extra></extra>\",\"legendgroup\":\"8\",\"line\":{\"color\":\"#FF97FF\",\"dash\":\"solid\"},\"marker\":{\"symbol\":\"circle\"},\"mode\":\"lines\",\"name\":\"8\",\"scene\":\"scene\",\"showlegend\":true,\"x\":[0.0,0.0016290000000083182,0.0022570000000001755,0.002974000000008914,0.0033970000000067557],\"y\":[0.0,0.00023999999999979593,0.0028490000000003235,0.005485000000000184,0.00601299999999938],\"z\":[0.0,30.0,60.0,90.0,120.0],\"type\":\"scatter3d\"},{\"hovertemplate\":\"id=9<br>c1=%{x}<br>c2=%{y}<br>time=%{z}<extra></extra>\",\"legendgroup\":\"9\",\"line\":{\"color\":\"#FECB52\",\"dash\":\"solid\"},\"marker\":{\"symbol\":\"circle\"},\"mode\":\"lines\",\"name\":\"9\",\"scene\":\"scene\",\"showlegend\":true,\"x\":[0.0,-0.0003969999999924312,-0.0008959999999973434,-0.0009509999999934848,-0.0023259999999964975,-0.0017689999999959127,-0.003157999999999106,-0.004136999999992952],\"y\":[0.0,-0.0002200000000005531,-0.0005189999999997141,-0.0005270000000008324,-0.0009410000000000807,-0.002407000000000714,-0.0020490000000004116,-0.0014880000000001559],\"z\":[0.0,30.0,60.0,90.0,150.0,180.0,210.0,240.0],\"type\":\"scatter3d\"}],                        {\"template\":{\"data\":{\"bar\":[{\"error_x\":{\"color\":\"#2a3f5f\"},\"error_y\":{\"color\":\"#2a3f5f\"},\"marker\":{\"line\":{\"color\":\"#E5ECF6\",\"width\":0.5},\"pattern\":{\"fillmode\":\"overlay\",\"size\":10,\"solidity\":0.2}},\"type\":\"bar\"}],\"barpolar\":[{\"marker\":{\"line\":{\"color\":\"#E5ECF6\",\"width\":0.5},\"pattern\":{\"fillmode\":\"overlay\",\"size\":10,\"solidity\":0.2}},\"type\":\"barpolar\"}],\"carpet\":[{\"aaxis\":{\"endlinecolor\":\"#2a3f5f\",\"gridcolor\":\"white\",\"linecolor\":\"white\",\"minorgridcolor\":\"white\",\"startlinecolor\":\"#2a3f5f\"},\"baxis\":{\"endlinecolor\":\"#2a3f5f\",\"gridcolor\":\"white\",\"linecolor\":\"white\",\"minorgridcolor\":\"white\",\"startlinecolor\":\"#2a3f5f\"},\"type\":\"carpet\"}],\"choropleth\":[{\"colorbar\":{\"outlinewidth\":0,\"ticks\":\"\"},\"type\":\"choropleth\"}],\"contour\":[{\"colorbar\":{\"outlinewidth\":0,\"ticks\":\"\"},\"colorscale\":[[0.0,\"#0d0887\"],[0.1111111111111111,\"#46039f\"],[0.2222222222222222,\"#7201a8\"],[0.3333333333333333,\"#9c179e\"],[0.4444444444444444,\"#bd3786\"],[0.5555555555555556,\"#d8576b\"],[0.6666666666666666,\"#ed7953\"],[0.7777777777777778,\"#fb9f3a\"],[0.8888888888888888,\"#fdca26\"],[1.0,\"#f0f921\"]],\"type\":\"contour\"}],\"contourcarpet\":[{\"colorbar\":{\"outlinewidth\":0,\"ticks\":\"\"},\"type\":\"contourcarpet\"}],\"heatmap\":[{\"colorbar\":{\"outlinewidth\":0,\"ticks\":\"\"},\"colorscale\":[[0.0,\"#0d0887\"],[0.1111111111111111,\"#46039f\"],[0.2222222222222222,\"#7201a8\"],[0.3333333333333333,\"#9c179e\"],[0.4444444444444444,\"#bd3786\"],[0.5555555555555556,\"#d8576b\"],[0.6666666666666666,\"#ed7953\"],[0.7777777777777778,\"#fb9f3a\"],[0.8888888888888888,\"#fdca26\"],[1.0,\"#f0f921\"]],\"type\":\"heatmap\"}],\"heatmapgl\":[{\"colorbar\":{\"outlinewidth\":0,\"ticks\":\"\"},\"colorscale\":[[0.0,\"#0d0887\"],[0.1111111111111111,\"#46039f\"],[0.2222222222222222,\"#7201a8\"],[0.3333333333333333,\"#9c179e\"],[0.4444444444444444,\"#bd3786\"],[0.5555555555555556,\"#d8576b\"],[0.6666666666666666,\"#ed7953\"],[0.7777777777777778,\"#fb9f3a\"],[0.8888888888888888,\"#fdca26\"],[1.0,\"#f0f921\"]],\"type\":\"heatmapgl\"}],\"histogram\":[{\"marker\":{\"pattern\":{\"fillmode\":\"overlay\",\"size\":10,\"solidity\":0.2}},\"type\":\"histogram\"}],\"histogram2d\":[{\"colorbar\":{\"outlinewidth\":0,\"ticks\":\"\"},\"colorscale\":[[0.0,\"#0d0887\"],[0.1111111111111111,\"#46039f\"],[0.2222222222222222,\"#7201a8\"],[0.3333333333333333,\"#9c179e\"],[0.4444444444444444,\"#bd3786\"],[0.5555555555555556,\"#d8576b\"],[0.6666666666666666,\"#ed7953\"],[0.7777777777777778,\"#fb9f3a\"],[0.8888888888888888,\"#fdca26\"],[1.0,\"#f0f921\"]],\"type\":\"histogram2d\"}],\"histogram2dcontour\":[{\"colorbar\":{\"outlinewidth\":0,\"ticks\":\"\"},\"colorscale\":[[0.0,\"#0d0887\"],[0.1111111111111111,\"#46039f\"],[0.2222222222222222,\"#7201a8\"],[0.3333333333333333,\"#9c179e\"],[0.4444444444444444,\"#bd3786\"],[0.5555555555555556,\"#d8576b\"],[0.6666666666666666,\"#ed7953\"],[0.7777777777777778,\"#fb9f3a\"],[0.8888888888888888,\"#fdca26\"],[1.0,\"#f0f921\"]],\"type\":\"histogram2dcontour\"}],\"mesh3d\":[{\"colorbar\":{\"outlinewidth\":0,\"ticks\":\"\"},\"type\":\"mesh3d\"}],\"parcoords\":[{\"line\":{\"colorbar\":{\"outlinewidth\":0,\"ticks\":\"\"}},\"type\":\"parcoords\"}],\"pie\":[{\"automargin\":true,\"type\":\"pie\"}],\"scatter\":[{\"marker\":{\"colorbar\":{\"outlinewidth\":0,\"ticks\":\"\"}},\"type\":\"scatter\"}],\"scatter3d\":[{\"line\":{\"colorbar\":{\"outlinewidth\":0,\"ticks\":\"\"}},\"marker\":{\"colorbar\":{\"outlinewidth\":0,\"ticks\":\"\"}},\"type\":\"scatter3d\"}],\"scattercarpet\":[{\"marker\":{\"colorbar\":{\"outlinewidth\":0,\"ticks\":\"\"}},\"type\":\"scattercarpet\"}],\"scattergeo\":[{\"marker\":{\"colorbar\":{\"outlinewidth\":0,\"ticks\":\"\"}},\"type\":\"scattergeo\"}],\"scattergl\":[{\"marker\":{\"colorbar\":{\"outlinewidth\":0,\"ticks\":\"\"}},\"type\":\"scattergl\"}],\"scattermapbox\":[{\"marker\":{\"colorbar\":{\"outlinewidth\":0,\"ticks\":\"\"}},\"type\":\"scattermapbox\"}],\"scatterpolar\":[{\"marker\":{\"colorbar\":{\"outlinewidth\":0,\"ticks\":\"\"}},\"type\":\"scatterpolar\"}],\"scatterpolargl\":[{\"marker\":{\"colorbar\":{\"outlinewidth\":0,\"ticks\":\"\"}},\"type\":\"scatterpolargl\"}],\"scatterternary\":[{\"marker\":{\"colorbar\":{\"outlinewidth\":0,\"ticks\":\"\"}},\"type\":\"scatterternary\"}],\"surface\":[{\"colorbar\":{\"outlinewidth\":0,\"ticks\":\"\"},\"colorscale\":[[0.0,\"#0d0887\"],[0.1111111111111111,\"#46039f\"],[0.2222222222222222,\"#7201a8\"],[0.3333333333333333,\"#9c179e\"],[0.4444444444444444,\"#bd3786\"],[0.5555555555555556,\"#d8576b\"],[0.6666666666666666,\"#ed7953\"],[0.7777777777777778,\"#fb9f3a\"],[0.8888888888888888,\"#fdca26\"],[1.0,\"#f0f921\"]],\"type\":\"surface\"}],\"table\":[{\"cells\":{\"fill\":{\"color\":\"#EBF0F8\"},\"line\":{\"color\":\"white\"}},\"header\":{\"fill\":{\"color\":\"#C8D4E3\"},\"line\":{\"color\":\"white\"}},\"type\":\"table\"}]},\"layout\":{\"annotationdefaults\":{\"arrowcolor\":\"#2a3f5f\",\"arrowhead\":0,\"arrowwidth\":1},\"autotypenumbers\":\"strict\",\"coloraxis\":{\"colorbar\":{\"outlinewidth\":0,\"ticks\":\"\"}},\"colorscale\":{\"diverging\":[[0,\"#8e0152\"],[0.1,\"#c51b7d\"],[0.2,\"#de77ae\"],[0.3,\"#f1b6da\"],[0.4,\"#fde0ef\"],[0.5,\"#f7f7f7\"],[0.6,\"#e6f5d0\"],[0.7,\"#b8e186\"],[0.8,\"#7fbc41\"],[0.9,\"#4d9221\"],[1,\"#276419\"]],\"sequential\":[[0.0,\"#0d0887\"],[0.1111111111111111,\"#46039f\"],[0.2222222222222222,\"#7201a8\"],[0.3333333333333333,\"#9c179e\"],[0.4444444444444444,\"#bd3786\"],[0.5555555555555556,\"#d8576b\"],[0.6666666666666666,\"#ed7953\"],[0.7777777777777778,\"#fb9f3a\"],[0.8888888888888888,\"#fdca26\"],[1.0,\"#f0f921\"]],\"sequentialminus\":[[0.0,\"#0d0887\"],[0.1111111111111111,\"#46039f\"],[0.2222222222222222,\"#7201a8\"],[0.3333333333333333,\"#9c179e\"],[0.4444444444444444,\"#bd3786\"],[0.5555555555555556,\"#d8576b\"],[0.6666666666666666,\"#ed7953\"],[0.7777777777777778,\"#fb9f3a\"],[0.8888888888888888,\"#fdca26\"],[1.0,\"#f0f921\"]]},\"colorway\":[\"#636efa\",\"#EF553B\",\"#00cc96\",\"#ab63fa\",\"#FFA15A\",\"#19d3f3\",\"#FF6692\",\"#B6E880\",\"#FF97FF\",\"#FECB52\"],\"font\":{\"color\":\"#2a3f5f\"},\"geo\":{\"bgcolor\":\"white\",\"lakecolor\":\"white\",\"landcolor\":\"#E5ECF6\",\"showlakes\":true,\"showland\":true,\"subunitcolor\":\"white\"},\"hoverlabel\":{\"align\":\"left\"},\"hovermode\":\"closest\",\"mapbox\":{\"style\":\"light\"},\"paper_bgcolor\":\"white\",\"plot_bgcolor\":\"#E5ECF6\",\"polar\":{\"angularaxis\":{\"gridcolor\":\"white\",\"linecolor\":\"white\",\"ticks\":\"\"},\"bgcolor\":\"#E5ECF6\",\"radialaxis\":{\"gridcolor\":\"white\",\"linecolor\":\"white\",\"ticks\":\"\"}},\"scene\":{\"xaxis\":{\"backgroundcolor\":\"#E5ECF6\",\"gridcolor\":\"white\",\"gridwidth\":2,\"linecolor\":\"white\",\"showbackground\":true,\"ticks\":\"\",\"zerolinecolor\":\"white\"},\"yaxis\":{\"backgroundcolor\":\"#E5ECF6\",\"gridcolor\":\"white\",\"gridwidth\":2,\"linecolor\":\"white\",\"showbackground\":true,\"ticks\":\"\",\"zerolinecolor\":\"white\"},\"zaxis\":{\"backgroundcolor\":\"#E5ECF6\",\"gridcolor\":\"white\",\"gridwidth\":2,\"linecolor\":\"white\",\"showbackground\":true,\"ticks\":\"\",\"zerolinecolor\":\"white\"}},\"shapedefaults\":{\"line\":{\"color\":\"#2a3f5f\"}},\"ternary\":{\"aaxis\":{\"gridcolor\":\"white\",\"linecolor\":\"white\",\"ticks\":\"\"},\"baxis\":{\"gridcolor\":\"white\",\"linecolor\":\"white\",\"ticks\":\"\"},\"bgcolor\":\"#E5ECF6\",\"caxis\":{\"gridcolor\":\"white\",\"linecolor\":\"white\",\"ticks\":\"\"}},\"title\":{\"x\":0.05},\"xaxis\":{\"automargin\":true,\"gridcolor\":\"white\",\"linecolor\":\"white\",\"ticks\":\"\",\"title\":{\"standoff\":15},\"zerolinecolor\":\"white\",\"zerolinewidth\":2},\"yaxis\":{\"automargin\":true,\"gridcolor\":\"white\",\"linecolor\":\"white\",\"ticks\":\"\",\"title\":{\"standoff\":15},\"zerolinecolor\":\"white\",\"zerolinewidth\":2}}},\"scene\":{\"domain\":{\"x\":[0.0,1.0],\"y\":[0.0,1.0]},\"xaxis\":{\"title\":{\"text\":\"c1\"}},\"yaxis\":{\"title\":{\"text\":\"c2\"}},\"zaxis\":{\"title\":{\"text\":\"time\"}}},\"legend\":{\"title\":{\"text\":\"id\"},\"tracegroupgap\":0},\"margin\":{\"t\":60}},                        {\"responsive\": true}                    ).then(function(){\n",
       "                            \n",
       "var gd = document.getElementById('ce6a94a8-40a4-4dea-8a94-e58c94226c04');\n",
       "var x = new MutationObserver(function (mutations, observer) {{\n",
       "        var display = window.getComputedStyle(gd).display;\n",
       "        if (!display || display === 'none') {{\n",
       "            console.log([gd, 'removed!']);\n",
       "            Plotly.purge(gd);\n",
       "            observer.disconnect();\n",
       "        }}\n",
       "}});\n",
       "\n",
       "// Listen for the removal of the full notebook cells\n",
       "var notebookContainer = gd.closest('#notebook-container');\n",
       "if (notebookContainer) {{\n",
       "    x.observe(notebookContainer, {childList: true});\n",
       "}}\n",
       "\n",
       "// Listen for the clearing of the current output cell\n",
       "var outputEl = gd.closest('.output');\n",
       "if (outputEl) {{\n",
       "    x.observe(outputEl, {childList: true});\n",
       "}}\n",
       "\n",
       "                        })                };                });            </script>        </div>"
      ]
     },
     "metadata": {},
     "output_type": "display_data"
    }
   ],
   "source": [
    "print_movelets(shapelets, spatioTemporalCols)"
   ]
  },
  {
   "cell_type": "code",
   "execution_count": 61,
   "id": "30cc6f2c",
   "metadata": {},
   "outputs": [
    {
     "name": "stdout",
     "output_type": "stream",
     "text": [
      "Pivoting tables\n"
     ]
    },
    {
     "data": {
      "application/vnd.jupyter.widget-view+json": {
       "model_id": "3a13e5d615fb42968e6688b0de97ca59",
       "version_major": 2,
       "version_minor": 0
      },
      "text/plain": [
       "  0%|          | 0/178299 [00:00<?, ?it/s]"
      ]
     },
     "metadata": {},
     "output_type": "display_data"
    },
    {
     "data": {
      "application/vnd.jupyter.widget-view+json": {
       "model_id": "062d3a06226b450d988980bb83fa3917",
       "version_major": 2,
       "version_minor": 0
      },
      "text/plain": [
       "  0%|          | 0/10 [00:00<?, ?it/s]"
      ]
     },
     "metadata": {},
     "output_type": "display_data"
    },
    {
     "name": "stdout",
     "output_type": "stream",
     "text": [
      "Collecting distances from 10\n"
     ]
    },
    {
     "data": {
      "application/vnd.jupyter.widget-view+json": {
       "model_id": "4683fea7272e4fceb387c6aeaad9d888",
       "version_major": 2,
       "version_minor": 0
      },
      "text/plain": [
       "  0%|          | 0/10 [00:00<?, ?it/s]"
      ]
     },
     "metadata": {},
     "output_type": "display_data"
    },
    {
     "data": {
      "text/plain": [
       "(array([[ 33.,  13.,  14., ...,  16.,  64.,  18.],\n",
       "        [222.,  88.,  89., ..., 299., 244., 301.],\n",
       "        [ 33.,   9.,  18., ...,   0.,  46.,  14.],\n",
       "        ...,\n",
       "        [491., 549., 373., ..., 502., 445., 615.],\n",
       "        [256., 206., 269., ..., 118.,  43., 120.],\n",
       "        [ 74., 262., 281., ..., 189., 142., 226.]]),\n",
       " array([['B', 7.500000146520166, 0.0032815482626818515, ...,\n",
       "         0.0029431156218866386, 0.0013460517677357918,\n",
       "         0.0017109635625178793],\n",
       "        ['B', 7.5000000309198, 0.001315176192370055, ...,\n",
       "         0.0020699038860132355, 0.0008951607596499663,\n",
       "         0.0014308740842469544],\n",
       "        ['B', 7.500000008382467, 0.0029683178900941085, ...,\n",
       "         12.000693202351817, 0.0007893960857331391, 15.000329339958315],\n",
       "        ...,\n",
       "        ['B', 7.500000001675867, 0.001225313370749128, ...,\n",
       "         0.0035974783901580086, 0.0008404855523653175,\n",
       "         0.0015272237507384092],\n",
       "        ['B', 7.500000016309083, 0.0010769187202331932, ...,\n",
       "         0.005023090684246527, 0.0011337182363265028,\n",
       "         0.0021263955375265156],\n",
       "        ['B', 7.500000018926033, 0.0015047055862178137, ...,\n",
       "         0.004368738224927421, 0.0006938477817365438, 0.00183810089659992]],\n",
       "       dtype=object))"
      ]
     },
     "execution_count": 61,
     "metadata": {},
     "output_type": "execute_result"
    }
   ],
   "source": [
    "dist_np = distancer.fit_transform((df.values, shapelets))\n",
    "\n",
    "dist_np"
   ]
  },
  {
   "cell_type": "code",
   "execution_count": 74,
   "id": "8869f142",
   "metadata": {},
   "outputs": [
    {
     "name": "stdout",
     "output_type": "stream",
     "text": [
      "              precision    recall  f1-score   support\n",
      "\n",
      "           B       0.64      0.42      0.51        33\n",
      "           T       0.80      0.90      0.85        82\n",
      "\n",
      "    accuracy                           0.77       115\n",
      "   macro avg       0.72      0.66      0.68       115\n",
      "weighted avg       0.75      0.77      0.75       115\n",
      "\n"
     ]
    }
   ],
   "source": [
    "from sklearn import tree\n",
    "\n",
    "clf = tree.DecisionTreeClassifier(random_state=0, max_depth=3)\n",
    "\n",
    "dist_np_df = pd.DataFrame(dist_np[1])\n",
    "X = dist_np_df.drop(columns=[0]).values\n",
    "y = dist_np_df[0].values\n",
    "\n",
    "X_train, X_test, y_train, y_test = train_test_split(X, y, test_size=.3, stratify=y, random_state=3)\n",
    "\n",
    "clf.fit(X_train, y_train)\n",
    "\n",
    "from sklearn.metrics import classification_report\n",
    "\n",
    "y_pred = clf.predict(X_test)\n",
    "\n",
    "print(classification_report(y_test, y_pred))"
   ]
  },
  {
   "cell_type": "code",
   "execution_count": 75,
   "id": "8c984124",
   "metadata": {},
   "outputs": [
    {
     "data": {
      "text/plain": [
       "[Text(167.4, 190.26, 'X[2] <= 0.001\\ngini = 0.405\\nsamples = 266\\nvalue = [75, 191]'),\n",
       " Text(83.7, 135.9, 'X[3] <= 0.0\\ngini = 0.375\\nsamples = 52\\nvalue = [39, 13]'),\n",
       " Text(41.85, 81.53999999999999, 'X[9] <= 0.001\\ngini = 0.188\\nsamples = 38\\nvalue = [34, 4]'),\n",
       " Text(20.925, 27.180000000000007, 'gini = 0.375\\nsamples = 4\\nvalue = [1, 3]'),\n",
       " Text(62.775000000000006, 27.180000000000007, 'gini = 0.057\\nsamples = 34\\nvalue = [33, 1]'),\n",
       " Text(125.55000000000001, 81.53999999999999, 'X[0] <= 6.5\\ngini = 0.459\\nsamples = 14\\nvalue = [5, 9]'),\n",
       " Text(104.625, 27.180000000000007, 'gini = 0.0\\nsamples = 3\\nvalue = [3, 0]'),\n",
       " Text(146.475, 27.180000000000007, 'gini = 0.298\\nsamples = 11\\nvalue = [2, 9]'),\n",
       " Text(251.10000000000002, 135.9, 'X[7] <= 0.002\\ngini = 0.28\\nsamples = 214\\nvalue = [36, 178]'),\n",
       " Text(209.25, 81.53999999999999, 'X[3] <= 0.0\\ngini = 0.434\\nsamples = 22\\nvalue = [15, 7]'),\n",
       " Text(188.32500000000002, 27.180000000000007, 'gini = 0.0\\nsamples = 9\\nvalue = [9, 0]'),\n",
       " Text(230.175, 27.180000000000007, 'gini = 0.497\\nsamples = 13\\nvalue = [6, 7]'),\n",
       " Text(292.95, 81.53999999999999, 'X[0] <= 5.25\\ngini = 0.195\\nsamples = 192\\nvalue = [21, 171]'),\n",
       " Text(272.02500000000003, 27.180000000000007, 'gini = 0.346\\nsamples = 9\\nvalue = [7, 2]'),\n",
       " Text(313.875, 27.180000000000007, 'gini = 0.141\\nsamples = 183\\nvalue = [14, 169]')]"
      ]
     },
     "execution_count": 75,
     "metadata": {},
     "output_type": "execute_result"
    },
    {
     "data": {
      "image/png": "[encoded data removed]",
      "text/plain": [
       "<Figure size 432x288 with 1 Axes>"
      ]
     },
     "metadata": {
      "needs_background": "light"
     },
     "output_type": "display_data"
    }
   ],
   "source": [
    "tree.plot_tree(clf, )"
   ]
  },
  {
   "cell_type": "code",
   "execution_count": 65,
   "id": "ca356aad",
   "metadata": {},
   "outputs": [
    {
     "data": {
      "text/html": [
       "<div>\n",
       "<style scoped>\n",
       "    .dataframe tbody tr th:only-of-type {\n",
       "        vertical-align: middle;\n",
       "    }\n",
       "\n",
       "    .dataframe tbody tr th {\n",
       "        vertical-align: top;\n",
       "    }\n",
       "\n",
       "    .dataframe thead th {\n",
       "        text-align: right;\n",
       "    }\n",
       "</style>\n",
       "<table border=\"1\" class=\"dataframe\">\n",
       "  <thead>\n",
       "    <tr style=\"text-align: right;\">\n",
       "      <th></th>\n",
       "      <th>0</th>\n",
       "      <th>1</th>\n",
       "      <th>2</th>\n",
       "      <th>3</th>\n",
       "      <th>4</th>\n",
       "      <th>5</th>\n",
       "      <th>6</th>\n",
       "      <th>7</th>\n",
       "      <th>8</th>\n",
       "      <th>9</th>\n",
       "      <th>10</th>\n",
       "    </tr>\n",
       "  </thead>\n",
       "  <tbody>\n",
       "    <tr>\n",
       "      <th>0</th>\n",
       "      <td>B</td>\n",
       "      <td>7.5</td>\n",
       "      <td>0.003282</td>\n",
       "      <td>0.002338</td>\n",
       "      <td>0.000285</td>\n",
       "      <td>15.000924</td>\n",
       "      <td>0.00045</td>\n",
       "      <td>0.00062</td>\n",
       "      <td>0.002943</td>\n",
       "      <td>0.001346</td>\n",
       "      <td>0.001711</td>\n",
       "    </tr>\n",
       "    <tr>\n",
       "      <th>1</th>\n",
       "      <td>B</td>\n",
       "      <td>7.5</td>\n",
       "      <td>0.001315</td>\n",
       "      <td>0.001628</td>\n",
       "      <td>0.00023</td>\n",
       "      <td>15.002418</td>\n",
       "      <td>0.000412</td>\n",
       "      <td>0.000782</td>\n",
       "      <td>0.00207</td>\n",
       "      <td>0.000895</td>\n",
       "      <td>0.001431</td>\n",
       "    </tr>\n",
       "    <tr>\n",
       "      <th>2</th>\n",
       "      <td>B</td>\n",
       "      <td>7.5</td>\n",
       "      <td>0.002968</td>\n",
       "      <td>0.001512</td>\n",
       "      <td>0.000573</td>\n",
       "      <td>40.715219</td>\n",
       "      <td>0.000464</td>\n",
       "      <td>0.001261</td>\n",
       "      <td>12.000693</td>\n",
       "      <td>0.000789</td>\n",
       "      <td>15.000329</td>\n",
       "    </tr>\n",
       "    <tr>\n",
       "      <th>3</th>\n",
       "      <td>B</td>\n",
       "      <td>7.5</td>\n",
       "      <td>0.00493</td>\n",
       "      <td>0.003389</td>\n",
       "      <td>0.000584</td>\n",
       "      <td>23.573644</td>\n",
       "      <td>0.001077</td>\n",
       "      <td>0.000931</td>\n",
       "      <td>12.000609</td>\n",
       "      <td>0.001081</td>\n",
       "      <td>15.000344</td>\n",
       "    </tr>\n",
       "    <tr>\n",
       "      <th>4</th>\n",
       "      <td>B</td>\n",
       "      <td>5.5</td>\n",
       "      <td>0.000857</td>\n",
       "      <td>0.000783</td>\n",
       "      <td>0.0004</td>\n",
       "      <td>17.147585</td>\n",
       "      <td>0.000331</td>\n",
       "      <td>0.000564</td>\n",
       "      <td>0.001746</td>\n",
       "      <td>0.001254</td>\n",
       "      <td>0.001571</td>\n",
       "    </tr>\n",
       "    <tr>\n",
       "      <th>...</th>\n",
       "      <td>...</td>\n",
       "      <td>...</td>\n",
       "      <td>...</td>\n",
       "      <td>...</td>\n",
       "      <td>...</td>\n",
       "      <td>...</td>\n",
       "      <td>...</td>\n",
       "      <td>...</td>\n",
       "      <td>...</td>\n",
       "      <td>...</td>\n",
       "      <td>...</td>\n",
       "    </tr>\n",
       "    <tr>\n",
       "      <th>376</th>\n",
       "      <td>B</td>\n",
       "      <td>4.5</td>\n",
       "      <td>0.001569</td>\n",
       "      <td>0.000896</td>\n",
       "      <td>0.000529</td>\n",
       "      <td>15.00315</td>\n",
       "      <td>0.000381</td>\n",
       "      <td>0.000596</td>\n",
       "      <td>0.001708</td>\n",
       "      <td>0.000853</td>\n",
       "      <td>0.001524</td>\n",
       "    </tr>\n",
       "    <tr>\n",
       "      <th>377</th>\n",
       "      <td>B</td>\n",
       "      <td>7.5</td>\n",
       "      <td>0.001132</td>\n",
       "      <td>0.000754</td>\n",
       "      <td>0.000338</td>\n",
       "      <td>8.573969</td>\n",
       "      <td>0.000454</td>\n",
       "      <td>0.000689</td>\n",
       "      <td>0.00354</td>\n",
       "      <td>0.00053</td>\n",
       "      <td>0.001292</td>\n",
       "    </tr>\n",
       "    <tr>\n",
       "      <th>378</th>\n",
       "      <td>B</td>\n",
       "      <td>7.5</td>\n",
       "      <td>0.001225</td>\n",
       "      <td>0.000616</td>\n",
       "      <td>0.000259</td>\n",
       "      <td>8.576702</td>\n",
       "      <td>0.000405</td>\n",
       "      <td>0.000482</td>\n",
       "      <td>0.003597</td>\n",
       "      <td>0.00084</td>\n",
       "      <td>0.001527</td>\n",
       "    </tr>\n",
       "    <tr>\n",
       "      <th>379</th>\n",
       "      <td>B</td>\n",
       "      <td>7.5</td>\n",
       "      <td>0.001077</td>\n",
       "      <td>0.001048</td>\n",
       "      <td>0.000288</td>\n",
       "      <td>23.575294</td>\n",
       "      <td>0.000269</td>\n",
       "      <td>0.000862</td>\n",
       "      <td>0.005023</td>\n",
       "      <td>0.001134</td>\n",
       "      <td>0.002126</td>\n",
       "    </tr>\n",
       "    <tr>\n",
       "      <th>380</th>\n",
       "      <td>B</td>\n",
       "      <td>7.5</td>\n",
       "      <td>0.001505</td>\n",
       "      <td>0.000813</td>\n",
       "      <td>0.000378</td>\n",
       "      <td>8.575352</td>\n",
       "      <td>0.000393</td>\n",
       "      <td>0.000646</td>\n",
       "      <td>0.004369</td>\n",
       "      <td>0.000694</td>\n",
       "      <td>0.001838</td>\n",
       "    </tr>\n",
       "  </tbody>\n",
       "</table>\n",
       "<p>381 rows × 11 columns</p>\n",
       "</div>"
      ],
      "text/plain": [
       "    0    1         2         3         4          5         6         7   \\\n",
       "0    B  7.5  0.003282  0.002338  0.000285  15.000924   0.00045   0.00062   \n",
       "1    B  7.5  0.001315  0.001628   0.00023  15.002418  0.000412  0.000782   \n",
       "2    B  7.5  0.002968  0.001512  0.000573  40.715219  0.000464  0.001261   \n",
       "3    B  7.5   0.00493  0.003389  0.000584  23.573644  0.001077  0.000931   \n",
       "4    B  5.5  0.000857  0.000783    0.0004  17.147585  0.000331  0.000564   \n",
       "..  ..  ...       ...       ...       ...        ...       ...       ...   \n",
       "376  B  4.5  0.001569  0.000896  0.000529   15.00315  0.000381  0.000596   \n",
       "377  B  7.5  0.001132  0.000754  0.000338   8.573969  0.000454  0.000689   \n",
       "378  B  7.5  0.001225  0.000616  0.000259   8.576702  0.000405  0.000482   \n",
       "379  B  7.5  0.001077  0.001048  0.000288  23.575294  0.000269  0.000862   \n",
       "380  B  7.5  0.001505  0.000813  0.000378   8.575352  0.000393  0.000646   \n",
       "\n",
       "            8         9          10  \n",
       "0     0.002943  0.001346   0.001711  \n",
       "1      0.00207  0.000895   0.001431  \n",
       "2    12.000693  0.000789  15.000329  \n",
       "3    12.000609  0.001081  15.000344  \n",
       "4     0.001746  0.001254   0.001571  \n",
       "..         ...       ...        ...  \n",
       "376   0.001708  0.000853   0.001524  \n",
       "377    0.00354   0.00053   0.001292  \n",
       "378   0.003597   0.00084   0.001527  \n",
       "379   0.005023  0.001134   0.002126  \n",
       "380   0.004369  0.000694   0.001838  \n",
       "\n",
       "[381 rows x 11 columns]"
      ]
     },
     "execution_count": 65,
     "metadata": {},
     "output_type": "execute_result"
    }
   ],
   "source": [
    "pd.DataFrame(dist_np[1])"
   ]
  },
  {
   "cell_type": "code",
   "execution_count": 64,
   "id": "7fa3cb9e",
   "metadata": {},
   "outputs": [
    {
     "data": {
      "text/plain": [
       "(array([[ 33.,  13.,  14., ...,  16.,  64.,  18.],\n",
       "        [222.,  88.,  89., ..., 299., 244., 301.],\n",
       "        [ 33.,   9.,  18., ...,   0.,  46.,  14.],\n",
       "        ...,\n",
       "        [491., 549., 373., ..., 502., 445., 615.],\n",
       "        [256., 206., 269., ..., 118.,  43., 120.],\n",
       "        [ 74., 262., 281., ..., 189., 142., 226.]]),\n",
       " array([['B', 7.500000146520166, 0.0032815482626818515, ...,\n",
       "         0.0029431156218866386, 0.0013460517677357918,\n",
       "         0.0017109635625178793],\n",
       "        ['B', 7.5000000309198, 0.001315176192370055, ...,\n",
       "         0.0020699038860132355, 0.0008951607596499663,\n",
       "         0.0014308740842469544],\n",
       "        ['B', 7.500000008382467, 0.0029683178900941085, ...,\n",
       "         12.000693202351817, 0.0007893960857331391, 15.000329339958315],\n",
       "        ...,\n",
       "        ['B', 7.500000001675867, 0.001225313370749128, ...,\n",
       "         0.0035974783901580086, 0.0008404855523653175,\n",
       "         0.0015272237507384092],\n",
       "        ['B', 7.500000016309083, 0.0010769187202331932, ...,\n",
       "         0.005023090684246527, 0.0011337182363265028,\n",
       "         0.0021263955375265156],\n",
       "        ['B', 7.500000018926033, 0.0015047055862178137, ...,\n",
       "         0.004368738224927421, 0.0006938477817365438, 0.00183810089659992]],\n",
       "       dtype=object))"
      ]
     },
     "execution_count": 64,
     "metadata": {},
     "output_type": "execute_result"
    }
   ],
   "source": [
    "dist_np"
   ]
  },
  {
   "cell_type": "code",
   "execution_count": null,
   "id": "e8547e5f",
   "metadata": {},
   "outputs": [],
   "source": []
  },
  {
   "cell_type": "code",
   "execution_count": null,
   "id": "022d0b84",
   "metadata": {},
   "outputs": [],
   "source": []
  },
  {
   "cell_type": "code",
   "execution_count": null,
   "id": "dbed39f4",
   "metadata": {},
   "outputs": [],
   "source": []
  },
  {
   "cell_type": "code",
   "execution_count": null,
   "id": "a25bb4f2",
   "metadata": {},
   "outputs": [],
   "source": []
  }
 ],
 "metadata": {
  "kernelspec": {
   "display_name": "Python 3",
   "language": "python",
   "name": "python3"
  },
  "language_info": {
   "codemirror_mode": {
    "name": "ipython",
    "version": 3
   },
   "file_extension": ".py",
   "mimetype": "text/x-python",
   "name": "python",
   "nbconvert_exporter": "python",
   "pygments_lexer": "ipython3",
   "version": "3.8.8"
  }
 },
 "nbformat": 4,
 "nbformat_minor": 5
}
