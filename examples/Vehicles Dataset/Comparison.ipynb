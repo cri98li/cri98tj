{
 "cells": [
  {
   "cell_type": "markdown",
   "id": "271fa193",
   "metadata": {},
   "source": [
    "# Vehicles"
   ]
  },
  {
   "cell_type": "code",
   "execution_count": 1,
   "id": "00b575f0",
   "metadata": {},
   "outputs": [],
   "source": [
    "import matplotlib.pyplot as plt\n",
    "import pandas as pd\n",
    "import numpy as np\n",
    "from tqdm.notebook import tqdm\n",
    "import math\n",
    "import glob\n",
    "from datetime import datetime"
   ]
  },
  {
   "cell_type": "code",
   "execution_count": 2,
   "id": "fc181a72",
   "metadata": {},
   "outputs": [
    {
     "data": {
      "text/html": [
       "<div>\n",
       "<style scoped>\n",
       "    .dataframe tbody tr th:only-of-type {\n",
       "        vertical-align: middle;\n",
       "    }\n",
       "\n",
       "    .dataframe tbody tr th {\n",
       "        vertical-align: top;\n",
       "    }\n",
       "\n",
       "    .dataframe thead th {\n",
       "        text-align: right;\n",
       "    }\n",
       "</style>\n",
       "<table border=\"1\" class=\"dataframe\">\n",
       "  <thead>\n",
       "    <tr style=\"text-align: right;\">\n",
       "      <th></th>\n",
       "      <th>tid</th>\n",
       "      <th>class</th>\n",
       "      <th>c1</th>\n",
       "      <th>c2</th>\n",
       "      <th>t</th>\n",
       "    </tr>\n",
       "  </thead>\n",
       "  <tbody>\n",
       "    <tr>\n",
       "      <th>0</th>\n",
       "      <td>30901</td>\n",
       "      <td>B</td>\n",
       "      <td>42.077160</td>\n",
       "      <td>4.738411</td>\n",
       "      <td>0</td>\n",
       "    </tr>\n",
       "    <tr>\n",
       "      <th>1</th>\n",
       "      <td>30901</td>\n",
       "      <td>B</td>\n",
       "      <td>42.077246</td>\n",
       "      <td>4.739088</td>\n",
       "      <td>30</td>\n",
       "    </tr>\n",
       "    <tr>\n",
       "      <th>2</th>\n",
       "      <td>30901</td>\n",
       "      <td>B</td>\n",
       "      <td>42.077259</td>\n",
       "      <td>4.739096</td>\n",
       "      <td>60</td>\n",
       "    </tr>\n",
       "    <tr>\n",
       "      <th>3</th>\n",
       "      <td>30901</td>\n",
       "      <td>B</td>\n",
       "      <td>42.077369</td>\n",
       "      <td>4.739158</td>\n",
       "      <td>90</td>\n",
       "    </tr>\n",
       "    <tr>\n",
       "      <th>4</th>\n",
       "      <td>30901</td>\n",
       "      <td>B</td>\n",
       "      <td>42.077635</td>\n",
       "      <td>4.739343</td>\n",
       "      <td>120</td>\n",
       "    </tr>\n",
       "  </tbody>\n",
       "</table>\n",
       "</div>"
      ],
      "text/plain": [
       "     tid class         c1        c2    t\n",
       "0  30901     B  42.077160  4.738411    0\n",
       "1  30901     B  42.077246  4.739088   30\n",
       "2  30901     B  42.077259  4.739096   60\n",
       "3  30901     B  42.077369  4.739158   90\n",
       "4  30901     B  42.077635  4.739343  120"
      ]
     },
     "execution_count": 2,
     "metadata": {},
     "output_type": "execute_result"
    }
   ],
   "source": [
    "df_original = pd.read_csv('data/vehicles_preapred.zip').sort_values(by=[\"tid\", \"t\"])\n",
    "df_original[\"c1\"] = df_original.c1/100000\n",
    "df_original[\"c2\"] = df_original.c2/100000\n",
    "\n",
    "df = df_original[[\"tid\", \"class\", \"c1\", \"c2\", \"t\"]].copy()\n",
    "\n",
    "df.head()\n",
    "\n",
    "df0 = df[[\"tid\", \"class\", \"c1\", \"c2\", \"t\"]]\n",
    "\n",
    "df.head()"
   ]
  },
  {
   "cell_type": "markdown",
   "id": "94458c1a",
   "metadata": {},
   "source": [
    "## Rocket"
   ]
  },
  {
   "cell_type": "code",
   "execution_count": 6,
   "id": "b854a025",
   "metadata": {},
   "outputs": [],
   "source": [
    "t_rocket = 0\n",
    "\n",
    "start = datetime.now()\n",
    "\n",
    "df0[\"pos\"] = df0.groupby(['tid']).cumcount()\n",
    "\n",
    "t_rocket = (datetime.now() - start).total_seconds() * 1000 #ms"
   ]
  },
  {
   "cell_type": "code",
   "execution_count": 7,
   "id": "c3d46b1a",
   "metadata": {},
   "outputs": [
    {
     "name": "stdout",
     "output_type": "stream",
     "text": [
      "LAT\n"
     ]
    },
    {
     "data": {
      "application/vnd.jupyter.widget-view+json": {
       "model_id": "fef25cf99e694953843f47a5a1dcde65",
       "version_major": 2,
       "version_minor": 0
      },
      "text/plain": [
       "  0%|          | 0/381 [00:00<?, ?it/s]"
      ]
     },
     "metadata": {},
     "output_type": "display_data"
    },
    {
     "name": "stdout",
     "output_type": "stream",
     "text": [
      "LON\n"
     ]
    },
    {
     "data": {
      "application/vnd.jupyter.widget-view+json": {
       "model_id": "8f47ee9b511d43d4897ef5af31a33dc8",
       "version_major": 2,
       "version_minor": 0
      },
      "text/plain": [
       "  0%|          | 0/381 [00:00<?, ?it/s]"
      ]
     },
     "metadata": {},
     "output_type": "display_data"
    },
    {
     "name": "stdout",
     "output_type": "stream",
     "text": [
      "TIME\n"
     ]
    },
    {
     "data": {
      "application/vnd.jupyter.widget-view+json": {
       "model_id": "233df77c8d344dc192924faf99e72b06",
       "version_major": 2,
       "version_minor": 0
      },
      "text/plain": [
       "  0%|          | 0/381 [00:00<?, ?it/s]"
      ]
     },
     "metadata": {},
     "output_type": "display_data"
    }
   ],
   "source": [
    "start = datetime.now()\n",
    "\n",
    "\n",
    "def padLastValue(df):\n",
    "    array = df.values\n",
    "    for i in tqdm(range(len(array))):\n",
    "        for j in range(len(array[i])):\n",
    "            if math.isnan(array[i][j]):\n",
    "                array[i][j] =array[i][j-1]\n",
    "    return pd.DataFrame(array)\n",
    "\n",
    "percentile=.9\n",
    "\n",
    "print(\"LAT\")\n",
    "df_lat = pd.DataFrame()\n",
    "df_lat = df0.groupby(['tid','pos'])['c1'].max().unstack()\n",
    "df_lat = padLastValue(df_lat)\n",
    "\n",
    "print(\"LON\")\n",
    "df_lon = pd.DataFrame()\n",
    "df_lon = df0.groupby(['tid','pos'])['c2'].max().unstack()\n",
    "df_lon = padLastValue(df_lon)\n",
    "\n",
    "print(\"TIME\")\n",
    "df_time = pd.DataFrame()\n",
    "df_time = df0.groupby(['tid','pos'])['t'].max().unstack()\n",
    "df_time = padLastValue(df_time)\n",
    "\n",
    "t_rocket = (datetime.now() - start).total_seconds() * 1000 #ms"
   ]
  },
  {
   "cell_type": "code",
   "execution_count": 8,
   "id": "2eac51fe",
   "metadata": {},
   "outputs": [],
   "source": [
    "start = datetime.now()\n",
    "\n",
    "from sktime.transformations.panel.rocket import Rocket\n",
    "from sktime.datatypes._panel._convert import from_2d_array_to_nested\n",
    "\n",
    "nested_lat = from_2d_array_to_nested(df_lat).rename(columns={0: \"dim_0\"})\n",
    "nested_lon = from_2d_array_to_nested(df_lon).rename(columns={0: \"dim_0\"})\n",
    "nested_time = from_2d_array_to_nested(df_time).rename(columns={0: \"dim_0\"})\n",
    "\n",
    "\n",
    "nested = nested_lat\n",
    "#nested = nested_UTMGridNorth\n",
    "\n",
    "nested[\"dim_1\"] = nested_lon[\"dim_0\"]\n",
    "nested[\"dim_2\"] = nested_time[\"dim_0\"]\n",
    "\n",
    "nested.head()\n",
    "\n",
    "y = df0.groupby(['tid'])['class'].max()\n",
    "\n",
    "t_rocket = (datetime.now() - start).total_seconds() * 1000 #ms"
   ]
  },
  {
   "cell_type": "code",
   "execution_count": null,
   "id": "0475a925",
   "metadata": {},
   "outputs": [],
   "source": []
  },
  {
   "cell_type": "code",
   "execution_count": null,
   "id": "cb45db90",
   "metadata": {},
   "outputs": [],
   "source": []
  },
  {
   "cell_type": "code",
   "execution_count": 9,
   "id": "d86eb1f4",
   "metadata": {},
   "outputs": [],
   "source": [
    "start = datetime.now()\n",
    "\n",
    "from sklearn.model_selection import train_test_split\n",
    "X_train, X_test, y_train, y_test = train_test_split(nested, y, test_size=.3, stratify=y)\n",
    "\n",
    "rocket = Rocket(n_jobs=-1, num_kernels=10000)  # by default, ROCKET uses 10,000 kernels\n",
    "rocket.fit(X_train)\n",
    "X_train_transform = rocket.transform(X_train)\n",
    "X_test_transform = rocket.transform(X_test)\n",
    "\n",
    "t_rocket = (datetime.now() - start).total_seconds() * 1000 #ms"
   ]
  },
  {
   "cell_type": "code",
   "execution_count": 10,
   "id": "1979b654",
   "metadata": {},
   "outputs": [
    {
     "name": "stdout",
     "output_type": "stream",
     "text": [
      "Fitting 10 folds for each of 32 candidates, totalling 320 fits\n",
      "Model with rank: 1\n",
      "Mean validation score: 0.881 (std: 0.088)\n",
      "Parameters: {'criterion': 'gini', 'max_depth': 12, 'n_estimators': 300}\n",
      "\n",
      "Model with rank: 2\n",
      "Mean validation score: 0.872 (std: 0.087)\n",
      "Parameters: {'criterion': 'gini', 'max_depth': 12, 'n_estimators': 600}\n",
      "\n",
      "Model with rank: 3\n",
      "Mean validation score: 0.869 (std: 0.070)\n",
      "Parameters: {'criterion': 'entropy', 'max_depth': 12, 'n_estimators': 600}\n",
      "\n",
      "Model with rank: 3\n",
      "Mean validation score: 0.869 (std: 0.080)\n",
      "Parameters: {'criterion': 'gini', 'max_depth': 7, 'n_estimators': 600}\n",
      "\n",
      "Model with rank: 3\n",
      "Mean validation score: 0.869 (std: 0.088)\n",
      "Parameters: {'criterion': 'gini', 'max_depth': 17, 'n_estimators': 300}\n",
      "\n",
      "Model with rank: 3\n",
      "Mean validation score: 0.869 (std: 0.088)\n",
      "Parameters: {'criterion': 'gini', 'max_depth': 17, 'n_estimators': 1200}\n",
      "\n"
     ]
    }
   ],
   "source": [
    "from sklearn.ensemble import RandomForestClassifier\n",
    "from sklearn import tree\n",
    "\n",
    "def report(results, n_top=3):\n",
    "    for i in range(1, n_top + 1):\n",
    "        candidates = np.flatnonzero(results['rank_test_score'] == i)\n",
    "        for candidate in candidates:\n",
    "            print(\"Model with rank: {0}\".format(i))\n",
    "            print(\"Mean validation score: {0:.3f} (std: {1:.3f})\".format(\n",
    "                results['mean_test_score'][candidate],\n",
    "                results['std_test_score'][candidate]))\n",
    "            print(\"Parameters: {0}\".format(results['params'][candidate]))\n",
    "            print(\"\")\n",
    "\n",
    "from sklearn.model_selection import GridSearchCV\n",
    "parameters = {'n_estimators': range(300, 1500, 300),\n",
    "              'criterion':[\"entropy\", \"gini\"],\n",
    "              'max_depth': range(2, 20, 5)}\n",
    "\n",
    "clf = GridSearchCV(RandomForestClassifier(n_jobs=1), parameters, cv=10, n_jobs=24, verbose=3, scoring=\"balanced_accuracy\")\n",
    "\n",
    "clf.fit(X_train_transform, y_train)\n",
    "\n",
    "report(clf.cv_results_, n_top=3)"
   ]
  },
  {
   "cell_type": "code",
   "execution_count": 11,
   "id": "c886a1df",
   "metadata": {},
   "outputs": [
    {
     "name": "stdout",
     "output_type": "stream",
     "text": [
      "              precision    recall  f1-score   support\n",
      "\n",
      "           B       0.97      0.88      0.92        33\n",
      "           T       0.95      0.99      0.97        82\n",
      "\n",
      "    accuracy                           0.96       115\n",
      "   macro avg       0.96      0.93      0.95       115\n",
      "weighted avg       0.96      0.96      0.96       115\n",
      "\n"
     ]
    }
   ],
   "source": [
    "clf = RandomForestClassifier(max_depth=12, criterion='gini', random_state=5, n_jobs=-1, n_estimators=300)\n",
    "#clf = tree.DecisionTreeClassifier(max_depth=2)\n",
    "\n",
    "clf.fit(X_train_transform, y_train)\n",
    "\n",
    "from sklearn import metrics\n",
    "y_pred=clf.predict(X_test_transform)\n",
    "\n",
    "\n",
    "from sklearn.metrics import classification_report\n",
    "\n",
    "print(classification_report(y_test, y_pred))"
   ]
  },
  {
   "cell_type": "code",
   "execution_count": null,
   "id": "3f149ebe",
   "metadata": {},
   "outputs": [],
   "source": []
  },
  {
   "cell_type": "code",
   "execution_count": 12,
   "id": "edb36d41",
   "metadata": {},
   "outputs": [
    {
     "data": {
      "text/plain": [
       "31445.109"
      ]
     },
     "execution_count": 12,
     "metadata": {},
     "output_type": "execute_result"
    }
   ],
   "source": [
    "t_rocket"
   ]
  },
  {
   "cell_type": "markdown",
   "id": "7f1476d8",
   "metadata": {},
   "source": [
    "## Movelets"
   ]
  },
  {
   "cell_type": "code",
   "execution_count": 13,
   "id": "676d4805",
   "metadata": {},
   "outputs": [
    {
     "data": {
      "application/vnd.jupyter.widget-view+json": {
       "model_id": "0dfb6a99f7d14dd094cfb96d818a871f",
       "version_major": 2,
       "version_minor": 0
      },
      "text/plain": [
       "  0%|          | 0/267 [00:00<?, ?it/s]"
      ]
     },
     "metadata": {},
     "output_type": "display_data"
    },
    {
     "data": {
      "application/vnd.jupyter.widget-view+json": {
       "model_id": "5ad0de0438284e75b15696c6dbd5ddc8",
       "version_major": 2,
       "version_minor": 0
      },
      "text/plain": [
       "  0%|          | 0/114 [00:00<?, ?it/s]"
      ]
     },
     "metadata": {},
     "output_type": "display_data"
    },
    {
     "name": "stdout",
     "output_type": "stream",
     "text": [
      "[CV 8/10] END criterion=entropy, max_depth=2, n_estimators=300;, score=0.857 total time=   2.2s\n",
      "[CV 9/10] END criterion=entropy, max_depth=2, n_estimators=900;, score=0.714 total time=   5.9s\n",
      "[CV 7/10] END criterion=entropy, max_depth=7, n_estimators=600;, score=0.831 total time=   6.6s\n",
      "[CV 10/10] END criterion=entropy, max_depth=7, n_estimators=1200;, score=0.929 total time=  12.7s\n",
      "[CV 8/10] END criterion=entropy, max_depth=12, n_estimators=1200;, score=0.929 total time=  12.7s\n",
      "[CV 2/10] END criterion=entropy, max_depth=17, n_estimators=1200;, score=0.875 total time=  12.7s\n",
      "[CV 7/10] END criterion=gini, max_depth=2, n_estimators=1200;, score=0.786 total time=   5.5s\n",
      "[CV 9/10] END criterion=gini, max_depth=7, n_estimators=900;, score=0.786 total time=   8.5s\n",
      "[CV 8/10] END criterion=gini, max_depth=12, n_estimators=600;, score=1.000 total time=   6.1s\n",
      "[CV 1/10] END criterion=gini, max_depth=17, n_estimators=300;, score=0.689 total time=   3.2s\n",
      "[CV 5/10] END criterion=gini, max_depth=17, n_estimators=300;, score=0.875 total time=   3.3s\n",
      "[CV 7/10] END criterion=gini, max_depth=17, n_estimators=600;, score=0.831 total time=   6.3s\n",
      "[CV 9/10] END criterion=entropy, max_depth=2, n_estimators=600;, score=0.714 total time=   4.0s\n",
      "[CV 8/10] END criterion=entropy, max_depth=2, n_estimators=1200;, score=0.857 total time=   7.6s\n",
      "[CV 10/10] END criterion=entropy, max_depth=7, n_estimators=900;, score=0.929 total time=   9.6s\n",
      "[CV 8/10] END criterion=entropy, max_depth=12, n_estimators=600;, score=0.929 total time=   6.6s\n",
      "[CV 2/10] END criterion=entropy, max_depth=17, n_estimators=300;, score=0.875 total time=   3.4s\n",
      "[CV 5/10] END criterion=entropy, max_depth=17, n_estimators=300;, score=0.875 total time=   3.3s\n",
      "[CV 7/10] END criterion=entropy, max_depth=17, n_estimators=600;, score=0.831 total time=   6.5s\n",
      "[CV 10/10] END criterion=entropy, max_depth=17, n_estimators=1200;, score=0.929 total time=  12.7s\n",
      "[CV 4/10] END criterion=gini, max_depth=7, n_estimators=600;, score=0.812 total time=   5.7s\n",
      "[CV 5/10] END criterion=gini, max_depth=7, n_estimators=1200;, score=0.849 total time=  11.2s\n",
      "[CV 9/10] END criterion=gini, max_depth=12, n_estimators=900;, score=0.786 total time=   9.1s\n",
      "[CV 8/10] END criterion=gini, max_depth=17, n_estimators=600;, score=1.000 total time=   6.2s\n",
      "[CV 2/10] END criterion=entropy, max_depth=2, n_estimators=300;, score=0.849 total time=   2.2s\n",
      "[CV 6/10] END criterion=entropy, max_depth=2, n_estimators=900;, score=0.688 total time=   6.0s\n",
      "[CV 8/10] END criterion=entropy, max_depth=7, n_estimators=600;, score=0.929 total time=   7.1s\n",
      "[CV 2/10] END criterion=entropy, max_depth=12, n_estimators=300;, score=0.849 total time=   3.6s\n",
      "[CV 6/10] END criterion=entropy, max_depth=12, n_estimators=300;, score=0.938 total time=   3.7s\n",
      "[CV 10/10] END criterion=entropy, max_depth=12, n_estimators=600;, score=0.929 total time=   6.8s\n",
      "[CV 4/10] END criterion=entropy, max_depth=17, n_estimators=300;, score=0.812 total time=   3.5s\n",
      "[CV 1/10] END criterion=entropy, max_depth=17, n_estimators=600;, score=0.689 total time=   6.9s\n",
      "[CV 8/10] END criterion=entropy, max_depth=17, n_estimators=900;, score=0.929 total time=  10.1s\n",
      "[CV 2/10] END criterion=gini, max_depth=2, n_estimators=1200;, score=0.875 total time=   5.6s\n",
      "[CV 6/10] END criterion=gini, max_depth=7, n_estimators=600;, score=1.000 total time=   6.1s\n",
      "[CV 10/10] END criterion=gini, max_depth=7, n_estimators=1200;, score=0.929 total time=  11.6s\n",
      "[CV 2/10] END criterion=gini, max_depth=17, n_estimators=300;, score=0.822 total time=   3.4s\n",
      "[CV 6/10] END criterion=gini, max_depth=17, n_estimators=300;, score=1.000 total time=   3.4s\n",
      "[CV 9/10] END criterion=gini, max_depth=17, n_estimators=600;, score=0.786 total time=   6.2s\n",
      "[CV 1/10] END criterion=entropy, max_depth=2, n_estimators=600;, score=0.618 total time=   4.1s\n",
      "[CV 9/10] END criterion=entropy, max_depth=2, n_estimators=1200;, score=0.714 total time=   7.6s\n",
      "[CV 3/10] END criterion=entropy, max_depth=7, n_estimators=1200;, score=0.849 total time=  12.9s\n",
      "[CV 7/10] END criterion=entropy, max_depth=12, n_estimators=900;, score=0.831 total time=   9.6s\n",
      "[CV 4/10] END criterion=entropy, max_depth=17, n_estimators=600;, score=0.812 total time=   6.4s\n",
      "[CV 7/10] END criterion=entropy, max_depth=17, n_estimators=1200;, score=0.831 total time=  13.1s\n",
      "[CV 2/10] END criterion=gini, max_depth=7, n_estimators=600;, score=0.822 total time=   6.0s\n",
      "[CV 8/10] END criterion=gini, max_depth=7, n_estimators=1200;, score=1.000 total time=  11.4s\n",
      "[CV 10/10] END criterion=gini, max_depth=12, n_estimators=900;, score=0.929 total time=   9.0s\n",
      "[CV 10/10] END criterion=gini, max_depth=17, n_estimators=600;, score=0.929 total time=   6.1s\n",
      "[CV 2/10] END criterion=entropy, max_depth=2, n_estimators=900;, score=0.849 total time=   5.8s\n",
      "[CV 5/10] END criterion=entropy, max_depth=7, n_estimators=300;, score=0.875 total time=   3.4s\n",
      "[CV 9/10] END criterion=entropy, max_depth=7, n_estimators=600;, score=0.857 total time=   6.6s\n",
      "[CV 3/10] END criterion=entropy, max_depth=12, n_estimators=300;, score=0.875 total time=   3.5s\n",
      "[CV 8/10] END criterion=entropy, max_depth=12, n_estimators=300;, score=1.000 total time=   3.6s\n",
      "[CV 3/10] END criterion=entropy, max_depth=12, n_estimators=900;, score=0.849 total time=  10.0s\n",
      "[CV 2/10] END criterion=entropy, max_depth=17, n_estimators=600;, score=0.849 total time=   6.5s\n",
      "[CV 6/10] END criterion=entropy, max_depth=17, n_estimators=900;, score=1.000 total time=   9.7s\n",
      "[CV 8/10] END criterion=gini, max_depth=2, n_estimators=900;, score=0.857 total time=   4.3s\n",
      "[CV 8/10] END criterion=gini, max_depth=7, n_estimators=300;, score=1.000 total time=   3.0s\n",
      "[CV 3/10] END criterion=gini, max_depth=7, n_estimators=900;, score=0.875 total time=   8.7s\n",
      "[CV 8/10] END criterion=gini, max_depth=12, n_estimators=300;, score=1.000 total time=   3.2s\n",
      "[CV 2/10] END criterion=gini, max_depth=12, n_estimators=900;, score=0.849 total time=   9.1s\n",
      "[CV 7/10] END criterion=gini, max_depth=17, n_estimators=300;, score=0.831 total time=   3.3s\n",
      "[CV 1/10] END criterion=gini, max_depth=17, n_estimators=900;, score=0.689 total time=   8.7s\n",
      "[CV 2/10] END criterion=entropy, max_depth=2, n_estimators=600;, score=0.875 total time=   4.1s\n",
      "[CV 5/10] END criterion=entropy, max_depth=2, n_estimators=1200;, score=0.688 total time=   7.5s\n",
      "[CV 9/10] END criterion=entropy, max_depth=7, n_estimators=900;, score=0.786 total time=   9.6s\n",
      "[CV 7/10] END criterion=entropy, max_depth=12, n_estimators=600;, score=0.902 total time=   6.6s\n",
      "[CV 1/10] END criterion=entropy, max_depth=17, n_estimators=300;, score=0.689 total time=   3.5s\n",
      "[CV 6/10] END criterion=entropy, max_depth=17, n_estimators=300;, score=1.000 total time=   3.5s\n",
      "[CV 8/10] END criterion=entropy, max_depth=17, n_estimators=600;, score=0.929 total time=   6.5s\n",
      "[CV 2/10] END criterion=gini, max_depth=2, n_estimators=300;, score=0.849 total time=   1.6s\n",
      "[CV 6/10] END criterion=gini, max_depth=2, n_estimators=300;, score=0.625 total time=   1.6s\n",
      "[CV 10/10] END criterion=gini, max_depth=2, n_estimators=300;, score=0.857 total time=   1.6s\n",
      "[CV 8/10] END criterion=gini, max_depth=2, n_estimators=600;, score=0.857 total time=   2.9s\n",
      "[CV 7/10] END criterion=gini, max_depth=2, n_estimators=900;, score=0.786 total time=   4.3s\n",
      "[CV 7/10] END criterion=gini, max_depth=7, n_estimators=300;, score=0.857 total time=   3.1s\n",
      "[CV 4/10] END criterion=gini, max_depth=7, n_estimators=900;, score=0.812 total time=   8.3s\n",
      "[CV 5/10] END criterion=gini, max_depth=12, n_estimators=300;, score=0.875 total time=   3.2s\n",
      "[CV 9/10] END criterion=gini, max_depth=12, n_estimators=600;, score=0.857 total time=   6.2s\n",
      "[CV 3/10] END criterion=gini, max_depth=17, n_estimators=300;, score=0.875 total time=   3.3s\n",
      "[CV 10/10] END criterion=gini, max_depth=17, n_estimators=300;, score=0.929 total time=   3.3s\n",
      "[CV 3/10] END criterion=gini, max_depth=17, n_estimators=900;, score=0.849 total time=   8.7s\n",
      "[CV 10/10] END criterion=entropy, max_depth=2, n_estimators=600;, score=0.857 total time=   4.0s\n",
      "[CV 10/10] END criterion=entropy, max_depth=2, n_estimators=1200;, score=0.857 total time=   7.6s\n",
      "[CV 4/10] END criterion=entropy, max_depth=7, n_estimators=1200;, score=0.812 total time=  12.7s\n",
      "[CV 6/10] END criterion=entropy, max_depth=12, n_estimators=900;, score=1.000 total time=   9.9s\n",
      "[CV 5/10] END criterion=entropy, max_depth=17, n_estimators=600;, score=0.875 total time=   6.5s\n",
      "[CV 9/10] END criterion=entropy, max_depth=17, n_estimators=1200;, score=0.786 total time=  12.8s\n",
      "[CV 10/10] END criterion=gini, max_depth=7, n_estimators=300;, score=0.929 total time=   3.0s\n",
      "[CV 6/10] END criterion=gini, max_depth=7, n_estimators=900;, score=0.938 total time=   8.6s\n",
      "[CV 9/10] END criterion=gini, max_depth=12, n_estimators=300;, score=0.929 total time=   3.4s\n",
      "[CV 4/10] END criterion=gini, max_depth=12, n_estimators=900;, score=0.812 total time=   8.8s\n",
      "[CV 9/10] END criterion=gini, max_depth=17, n_estimators=300;, score=0.857 total time=   3.3s\n",
      "[CV 4/10] END criterion=gini, max_depth=17, n_estimators=900;, score=0.812 total time=   8.9s\n",
      "[CV 7/10] END criterion=entropy, max_depth=2, n_estimators=600;, score=0.786 total time=   4.1s\n",
      "[CV 1/10] END criterion=entropy, max_depth=7, n_estimators=300;, score=0.689 total time=   3.4s\n",
      "[CV 9/10] END criterion=entropy, max_depth=7, n_estimators=300;, score=0.786 total time=   3.5s\n",
      "[CV 7/10] END criterion=entropy, max_depth=7, n_estimators=900;, score=0.831 total time=   9.6s\n",
      "[CV 5/10] END criterion=entropy, max_depth=12, n_estimators=600;, score=0.875 total time=   6.5s\n",
      "[CV 6/10] END criterion=entropy, max_depth=12, n_estimators=1200;, score=1.000 total time=  13.0s\n",
      "[CV 6/10] END criterion=entropy, max_depth=17, n_estimators=1200;, score=1.000 total time=  12.9s\n",
      "[CV 6/10] END criterion=gini, max_depth=7, n_estimators=300;, score=1.000 total time=   3.2s\n",
      "[CV 2/10] END criterion=gini, max_depth=7, n_estimators=900;, score=0.822 total time=   8.6s\n",
      "[CV 6/10] END criterion=gini, max_depth=12, n_estimators=300;, score=1.000 total time=   3.2s\n",
      "[CV 10/10] END criterion=gini, max_depth=12, n_estimators=600;, score=0.929 total time=   6.1s\n",
      "[CV 4/10] END criterion=gini, max_depth=17, n_estimators=300;, score=0.812 total time=   3.2s\n",
      "[CV 8/10] END criterion=gini, max_depth=17, n_estimators=300;, score=1.000 total time=   3.3s\n",
      "[CV 2/10] END criterion=gini, max_depth=17, n_estimators=900;, score=0.875 total time=   9.0s\n"
     ]
    },
    {
     "name": "stdout",
     "output_type": "stream",
     "text": [
      "[CV 10/10] END criterion=entropy, max_depth=2, n_estimators=300;, score=0.857 total time=   2.2s\n",
      "[CV 2/10] END criterion=entropy, max_depth=2, n_estimators=1200;, score=0.849 total time=   7.7s\n",
      "[CV 5/10] END criterion=entropy, max_depth=7, n_estimators=900;, score=0.875 total time=   9.4s\n",
      "[CV 9/10] END criterion=entropy, max_depth=12, n_estimators=300;, score=0.786 total time=   3.5s\n",
      "[CV 2/10] END criterion=entropy, max_depth=12, n_estimators=900;, score=0.875 total time=   9.6s\n",
      "[CV 9/10] END criterion=entropy, max_depth=17, n_estimators=300;, score=0.786 total time=   3.4s\n",
      "[CV 3/10] END criterion=entropy, max_depth=17, n_estimators=900;, score=0.849 total time=   9.7s\n",
      "[CV 3/10] END criterion=gini, max_depth=2, n_estimators=600;, score=0.750 total time=   3.0s\n",
      "[CV 2/10] END criterion=gini, max_depth=2, n_estimators=900;, score=0.849 total time=   4.3s\n",
      "[CV 1/10] END criterion=gini, max_depth=7, n_estimators=300;, score=0.761 total time=   3.1s\n",
      "[CV 8/10] END criterion=gini, max_depth=7, n_estimators=600;, score=1.000 total time=   5.9s\n",
      "[CV 2/10] END criterion=gini, max_depth=12, n_estimators=300;, score=0.875 total time=   3.3s\n",
      "[CV 2/10] END criterion=gini, max_depth=12, n_estimators=600;, score=0.849 total time=   6.3s\n",
      "[CV 5/10] END criterion=gini, max_depth=12, n_estimators=1200;, score=0.875 total time=  12.1s\n",
      "[CV 10/10] END criterion=gini, max_depth=17, n_estimators=900;, score=0.929 total time=   7.8s\n",
      "[CV 6/10] END criterion=entropy, max_depth=2, n_estimators=600;, score=0.688 total time=   4.0s\n",
      "[CV 6/10] END criterion=entropy, max_depth=2, n_estimators=1200;, score=0.688 total time=   7.6s\n",
      "[CV 2/10] END criterion=entropy, max_depth=7, n_estimators=1200;, score=0.849 total time=  12.7s\n",
      "[CV 5/10] END criterion=entropy, max_depth=12, n_estimators=900;, score=0.875 total time=   9.6s\n",
      "[CV 3/10] END criterion=entropy, max_depth=17, n_estimators=600;, score=0.849 total time=   6.7s\n",
      "[CV 8/10] END criterion=entropy, max_depth=17, n_estimators=1200;, score=0.929 total time=  13.0s\n",
      "[CV 1/10] END criterion=gini, max_depth=7, n_estimators=600;, score=0.761 total time=   6.0s\n",
      "[CV 7/10] END criterion=gini, max_depth=7, n_estimators=1200;, score=0.831 total time=  11.5s\n",
      "[CV 2/10] END criterion=gini, max_depth=12, n_estimators=1200;, score=0.849 total time=  12.4s\n",
      "[CV 7/10] END criterion=gini, max_depth=17, n_estimators=900;, score=0.831 total time=   8.2s\n",
      "[CV 3/10] END criterion=entropy, max_depth=2, n_estimators=600;, score=0.750 total time=   4.1s\n",
      "[CV 7/10] END criterion=entropy, max_depth=2, n_estimators=1200;, score=0.786 total time=   7.6s\n",
      "[CV 1/10] END criterion=entropy, max_depth=7, n_estimators=1200;, score=0.689 total time=  13.1s\n",
      "[CV 8/10] END criterion=entropy, max_depth=12, n_estimators=900;, score=0.929 total time=   9.7s\n",
      "[CV 6/10] END criterion=entropy, max_depth=17, n_estimators=600;, score=1.000 total time=   6.6s\n",
      "[CV 1/10] END criterion=gini, max_depth=2, n_estimators=300;, score=0.618 total time=   1.6s\n",
      "[CV 5/10] END criterion=gini, max_depth=2, n_estimators=300;, score=0.688 total time=   1.6s\n",
      "[CV 9/10] END criterion=gini, max_depth=2, n_estimators=300;, score=0.714 total time=   1.6s\n",
      "[CV 7/10] END criterion=gini, max_depth=2, n_estimators=600;, score=0.786 total time=   2.9s\n",
      "[CV 6/10] END criterion=gini, max_depth=2, n_estimators=900;, score=0.688 total time=   4.2s\n",
      "[CV 5/10] END criterion=gini, max_depth=7, n_estimators=300;, score=0.849 total time=   3.1s\n",
      "[CV 9/10] END criterion=gini, max_depth=7, n_estimators=600;, score=0.786 total time=   5.8s\n",
      "[CV 3/10] END criterion=gini, max_depth=12, n_estimators=300;, score=0.875 total time=   3.3s\n",
      "[CV 3/10] END criterion=gini, max_depth=12, n_estimators=600;, score=0.875 total time=   6.3s\n",
      "[CV 4/10] END criterion=gini, max_depth=12, n_estimators=1200;, score=0.812 total time=  11.7s\n",
      "[CV 5/10] END criterion=gini, max_depth=17, n_estimators=900;, score=0.875 total time=   8.8s\n",
      "[CV 9/10] END criterion=entropy, max_depth=2, n_estimators=300;, score=0.714 total time=   2.3s\n",
      "[CV 4/10] END criterion=entropy, max_depth=2, n_estimators=1200;, score=0.812 total time=   7.9s\n",
      "[CV 6/10] END criterion=entropy, max_depth=7, n_estimators=900;, score=1.000 total time=  10.0s\n",
      "[CV 4/10] END criterion=entropy, max_depth=12, n_estimators=600;, score=0.812 total time=   6.6s\n",
      "[CV 2/10] END criterion=entropy, max_depth=12, n_estimators=1200;, score=0.849 total time=  12.9s\n",
      "[CV 7/10] END criterion=entropy, max_depth=17, n_estimators=900;, score=0.831 total time=   9.8s\n",
      "[CV 10/10] END criterion=gini, max_depth=2, n_estimators=900;, score=0.857 total time=   4.3s\n",
      "[CV 3/10] END criterion=gini, max_depth=7, n_estimators=600;, score=0.875 total time=   5.9s\n",
      "[CV 6/10] END criterion=gini, max_depth=7, n_estimators=1200;, score=0.938 total time=  11.5s\n",
      "[CV 1/10] END criterion=gini, max_depth=12, n_estimators=1200;, score=0.761 total time=  12.4s\n",
      "[CV 6/10] END criterion=gini, max_depth=17, n_estimators=900;, score=0.938 total time=   8.7s\n",
      "[CV 1/10] END criterion=entropy, max_depth=2, n_estimators=300;, score=0.618 total time=   2.4s\n",
      "[CV 3/10] END criterion=entropy, max_depth=2, n_estimators=1200;, score=0.750 total time=   7.6s\n",
      "[CV 4/10] END criterion=entropy, max_depth=7, n_estimators=900;, score=0.812 total time=   9.4s\n",
      "[CV 7/10] END criterion=entropy, max_depth=12, n_estimators=300;, score=0.831 total time=   3.4s\n",
      "[CV 1/10] END criterion=entropy, max_depth=12, n_estimators=900;, score=0.761 total time=   9.8s\n",
      "[CV 8/10] END criterion=entropy, max_depth=17, n_estimators=300;, score=0.929 total time=   3.5s\n",
      "[CV 10/10] END criterion=entropy, max_depth=17, n_estimators=600;, score=0.929 total time=   6.5s\n",
      "[CV 4/10] END criterion=gini, max_depth=2, n_estimators=300;, score=0.812 total time=   1.6s\n",
      "[CV 8/10] END criterion=gini, max_depth=2, n_estimators=300;, score=0.857 total time=   1.7s\n",
      "[CV 4/10] END criterion=gini, max_depth=2, n_estimators=600;, score=0.812 total time=   3.0s\n",
      "[CV 4/10] END criterion=gini, max_depth=2, n_estimators=900;, score=0.812 total time=   4.3s\n",
      "[CV 2/10] END criterion=gini, max_depth=7, n_estimators=300;, score=0.822 total time=   3.1s\n",
      "[CV 7/10] END criterion=gini, max_depth=7, n_estimators=600;, score=0.831 total time=   5.9s\n",
      "[CV 1/10] END criterion=gini, max_depth=12, n_estimators=300;, score=0.689 total time=   3.3s\n",
      "[CV 1/10] END criterion=gini, max_depth=12, n_estimators=600;, score=0.689 total time=   6.1s\n",
      "[CV 3/10] END criterion=gini, max_depth=12, n_estimators=1200;, score=0.875 total time=  12.3s\n",
      "[CV 8/10] END criterion=gini, max_depth=17, n_estimators=900;, score=0.929 total time=   8.9s\n",
      "[CV 3/10] END criterion=entropy, max_depth=2, n_estimators=900;, score=0.750 total time=   5.9s\n",
      "[CV 7/10] END criterion=entropy, max_depth=7, n_estimators=300;, score=0.831 total time=   3.5s\n",
      "[CV 1/10] END criterion=entropy, max_depth=7, n_estimators=900;, score=0.689 total time=   9.9s\n",
      "[CV 1/10] END criterion=entropy, max_depth=12, n_estimators=600;, score=0.761 total time=   6.8s\n",
      "[CV 10/10] END criterion=entropy, max_depth=12, n_estimators=900;, score=0.929 total time=   9.8s\n",
      "[CV 2/10] END criterion=entropy, max_depth=17, n_estimators=900;, score=0.875 total time=   9.9s\n",
      "[CV 5/10] END criterion=gini, max_depth=2, n_estimators=600;, score=0.688 total time=   3.0s\n",
      "[CV 3/10] END criterion=gini, max_depth=2, n_estimators=900;, score=0.750 total time=   4.3s\n",
      "[CV 3/10] END criterion=gini, max_depth=7, n_estimators=300;, score=0.875 total time=   3.2s\n",
      "[CV 1/10] END criterion=gini, max_depth=7, n_estimators=900;, score=0.689 total time=   8.7s\n",
      "[CV 7/10] END criterion=gini, max_depth=12, n_estimators=300;, score=0.831 total time=   3.3s\n",
      "[CV 1/10] END criterion=gini, max_depth=12, n_estimators=900;, score=0.618 total time=   9.2s\n",
      "[CV 1/10] END criterion=gini, max_depth=17, n_estimators=600;, score=0.689 total time=   6.3s\n",
      "[CV 9/10] END criterion=gini, max_depth=17, n_estimators=900;, score=0.857 total time=   9.0s\n",
      "[CV 1/10] END criterion=entropy, max_depth=2, n_estimators=900;, score=0.618 total time=   5.9s\n",
      "[CV 6/10] END criterion=entropy, max_depth=7, n_estimators=300;, score=0.938 total time=   3.5s\n",
      "[CV 10/10] END criterion=entropy, max_depth=7, n_estimators=600;, score=0.929 total time=   6.6s\n",
      "[CV 4/10] END criterion=entropy, max_depth=12, n_estimators=300;, score=0.812 total time=   3.4s\n",
      "[CV 2/10] END criterion=entropy, max_depth=12, n_estimators=600;, score=0.822 total time=   6.6s\n",
      "[CV 9/10] END criterion=entropy, max_depth=12, n_estimators=900;, score=0.786 total time=   9.8s\n",
      "[CV 9/10] END criterion=entropy, max_depth=17, n_estimators=600;, score=0.786 total time=   6.6s\n",
      "[CV 3/10] END criterion=gini, max_depth=2, n_estimators=300;, score=0.750 total time=   1.6s\n",
      "[CV 7/10] END criterion=gini, max_depth=2, n_estimators=300;, score=0.786 total time=   1.6s\n",
      "[CV 2/10] END criterion=gini, max_depth=2, n_estimators=600;, score=0.875 total time=   2.9s\n",
      "[CV 9/10] END criterion=gini, max_depth=2, n_estimators=600;, score=0.714 total time=   2.9s\n",
      "[CV 3/10] END criterion=gini, max_depth=2, n_estimators=1200;, score=0.750 total time=   5.6s\n",
      "[CV 7/10] END criterion=gini, max_depth=7, n_estimators=900;, score=0.831 total time=   8.6s\n",
      "[CV 5/10] END criterion=gini, max_depth=12, n_estimators=600;, score=0.875 total time=   6.1s\n",
      "[CV 6/10] END criterion=gini, max_depth=12, n_estimators=1200;, score=0.938 total time=  12.3s\n",
      "[CV 2/10] END criterion=gini, max_depth=17, n_estimators=1200;, score=0.849 total time=  10.7s\n"
     ]
    },
    {
     "name": "stdout",
     "output_type": "stream",
     "text": [
      "[CV 7/10] END criterion=entropy, max_depth=2, n_estimators=300;, score=0.786 total time=   2.3s\n",
      "[CV 1/10] END criterion=entropy, max_depth=2, n_estimators=1200;, score=0.618 total time=   7.6s\n",
      "[CV 2/10] END criterion=entropy, max_depth=7, n_estimators=900;, score=0.875 total time=   9.6s\n",
      "[CV 10/10] END criterion=entropy, max_depth=12, n_estimators=300;, score=0.929 total time=   3.6s\n",
      "[CV 4/10] END criterion=entropy, max_depth=12, n_estimators=900;, score=0.812 total time=   9.6s\n",
      "[CV 10/10] END criterion=entropy, max_depth=17, n_estimators=300;, score=0.929 total time=   3.5s\n",
      "[CV 4/10] END criterion=entropy, max_depth=17, n_estimators=900;, score=0.812 total time=   9.5s\n",
      "[CV 1/10] END criterion=gini, max_depth=2, n_estimators=600;, score=0.618 total time=   3.0s\n",
      "[CV 10/10] END criterion=gini, max_depth=2, n_estimators=600;, score=0.857 total time=   3.0s\n",
      "[CV 4/10] END criterion=gini, max_depth=2, n_estimators=1200;, score=0.812 total time=   5.5s\n",
      "[CV 8/10] END criterion=gini, max_depth=7, n_estimators=900;, score=0.929 total time=   8.6s\n",
      "[CV 6/10] END criterion=gini, max_depth=12, n_estimators=600;, score=1.000 total time=   6.3s\n",
      "[CV 8/10] END criterion=gini, max_depth=12, n_estimators=1200;, score=1.000 total time=  12.1s\n",
      "[CV 4/10] END criterion=gini, max_depth=17, n_estimators=1200;, score=0.812 total time=  10.8s\n",
      "[CV 4/10] END criterion=entropy, max_depth=2, n_estimators=300;, score=0.812 total time=   2.3s\n",
      "[CV 10/10] END criterion=entropy, max_depth=2, n_estimators=900;, score=0.857 total time=   5.9s\n",
      "[CV 6/10] END criterion=entropy, max_depth=7, n_estimators=600;, score=1.000 total time=   6.6s\n",
      "[CV 9/10] END criterion=entropy, max_depth=7, n_estimators=1200;, score=0.786 total time=  12.8s\n",
      "[CV 9/10] END criterion=entropy, max_depth=12, n_estimators=1200;, score=0.786 total time=  12.8s\n",
      "[CV 5/10] END criterion=entropy, max_depth=17, n_estimators=1200;, score=0.875 total time=  12.7s\n",
      "[CV 10/10] END criterion=gini, max_depth=2, n_estimators=1200;, score=0.857 total time=   5.7s\n",
      "[CV 4/10] END criterion=gini, max_depth=7, n_estimators=1200;, score=0.812 total time=  11.1s\n",
      "[CV 7/10] END criterion=gini, max_depth=12, n_estimators=900;, score=0.831 total time=   9.1s\n",
      "[CV 4/10] END criterion=gini, max_depth=17, n_estimators=600;, score=0.812 total time=   6.0s\n",
      "[CV 7/10] END criterion=gini, max_depth=17, n_estimators=1200;, score=0.831 total time=  10.1s\n",
      "[CV 3/10] END criterion=entropy, max_depth=2, n_estimators=300;, score=0.750 total time=   2.2s\n",
      "[CV 5/10] END criterion=entropy, max_depth=2, n_estimators=900;, score=0.688 total time=   5.9s\n",
      "[CV 5/10] END criterion=entropy, max_depth=7, n_estimators=600;, score=0.875 total time=   6.5s\n",
      "[CV 8/10] END criterion=entropy, max_depth=7, n_estimators=1200;, score=0.929 total time=  12.7s\n",
      "[CV 5/10] END criterion=entropy, max_depth=12, n_estimators=1200;, score=0.875 total time=  12.6s\n",
      "[CV 10/10] END criterion=entropy, max_depth=17, n_estimators=900;, score=0.929 total time=   9.5s\n",
      "[CV 9/10] END criterion=gini, max_depth=2, n_estimators=900;, score=0.714 total time=   4.2s\n",
      "[CV 9/10] END criterion=gini, max_depth=7, n_estimators=300;, score=0.688 total time=   3.1s\n",
      "[CV 5/10] END criterion=gini, max_depth=7, n_estimators=900;, score=0.875 total time=   8.6s\n",
      "[CV 10/10] END criterion=gini, max_depth=12, n_estimators=300;, score=0.929 total time=   3.3s\n",
      "[CV 3/10] END criterion=gini, max_depth=12, n_estimators=900;, score=0.875 total time=   9.3s\n",
      "[CV 2/10] END criterion=gini, max_depth=17, n_estimators=600;, score=0.849 total time=   6.1s\n",
      "[CV 1/10] END criterion=gini, max_depth=17, n_estimators=1200;, score=0.689 total time=  11.2s\n",
      "[CV 5/10] END criterion=entropy, max_depth=2, n_estimators=300;, score=0.688 total time=   2.2s\n",
      "[CV 7/10] END criterion=entropy, max_depth=2, n_estimators=900;, score=0.786 total time=   5.8s\n",
      "[CV 2/10] END criterion=entropy, max_depth=7, n_estimators=600;, score=0.822 total time=   6.5s\n",
      "[CV 7/10] END criterion=entropy, max_depth=7, n_estimators=1200;, score=0.831 total time=  12.7s\n",
      "[CV 4/10] END criterion=entropy, max_depth=12, n_estimators=1200;, score=0.812 total time=  12.5s\n",
      "[CV 9/10] END criterion=entropy, max_depth=17, n_estimators=900;, score=0.786 total time=   9.8s\n",
      "[CV 1/10] END criterion=gini, max_depth=2, n_estimators=1200;, score=0.618 total time=   5.6s\n",
      "[CV 5/10] END criterion=gini, max_depth=7, n_estimators=600;, score=0.875 total time=   5.8s\n",
      "[CV 9/10] END criterion=gini, max_depth=7, n_estimators=1200;, score=0.786 total time=  11.3s\n",
      "[CV 9/10] END criterion=gini, max_depth=12, n_estimators=1200;, score=0.759 total time=  12.1s\n",
      "[CV 3/10] END criterion=gini, max_depth=17, n_estimators=1200;, score=0.875 total time=  11.1s\n",
      "[CV 8/10] END criterion=entropy, max_depth=2, n_estimators=600;, score=0.857 total time=   4.3s\n",
      "[CV 4/10] END criterion=entropy, max_depth=7, n_estimators=300;, score=0.812 total time=   3.6s\n",
      "[CV 3/10] END criterion=entropy, max_depth=7, n_estimators=600;, score=0.849 total time=   6.8s\n",
      "[CV 1/10] END criterion=entropy, max_depth=12, n_estimators=300;, score=0.761 total time=   3.6s\n",
      "[CV 5/10] END criterion=entropy, max_depth=12, n_estimators=300;, score=0.875 total time=   3.6s\n",
      "[CV 9/10] END criterion=entropy, max_depth=12, n_estimators=600;, score=0.786 total time=   6.8s\n",
      "[CV 3/10] END criterion=entropy, max_depth=17, n_estimators=300;, score=0.875 total time=   3.5s\n",
      "[CV 7/10] END criterion=entropy, max_depth=17, n_estimators=300;, score=0.831 total time=   3.6s\n",
      "[CV 1/10] END criterion=entropy, max_depth=17, n_estimators=900;, score=0.689 total time=   9.9s\n",
      "[CV 6/10] END criterion=gini, max_depth=2, n_estimators=600;, score=0.688 total time=   3.0s\n",
      "[CV 5/10] END criterion=gini, max_depth=2, n_estimators=900;, score=0.688 total time=   4.4s\n",
      "[CV 4/10] END criterion=gini, max_depth=7, n_estimators=300;, score=0.812 total time=   3.1s\n",
      "[CV 10/10] END criterion=gini, max_depth=7, n_estimators=600;, score=0.929 total time=   6.0s\n",
      "[CV 4/10] END criterion=gini, max_depth=12, n_estimators=300;, score=0.812 total time=   3.3s\n",
      "[CV 4/10] END criterion=gini, max_depth=12, n_estimators=600;, score=0.812 total time=   6.3s\n",
      "[CV 7/10] END criterion=gini, max_depth=12, n_estimators=1200;, score=0.831 total time=  12.6s\n",
      "[CV 5/10] END criterion=gini, max_depth=17, n_estimators=1200;, score=0.875 total time=  10.9s\n",
      "[CV 4/10] END criterion=entropy, max_depth=2, n_estimators=900;, score=0.812 total time=   6.0s\n",
      "[CV 8/10] END criterion=entropy, max_depth=7, n_estimators=300;, score=0.929 total time=   3.6s\n",
      "[CV 3/10] END criterion=entropy, max_depth=7, n_estimators=900;, score=0.849 total time=  10.0s\n",
      "[CV 3/10] END criterion=entropy, max_depth=12, n_estimators=600;, score=0.875 total time=   6.7s\n",
      "[CV 1/10] END criterion=entropy, max_depth=12, n_estimators=1200;, score=0.761 total time=  12.7s\n",
      "[CV 5/10] END criterion=entropy, max_depth=17, n_estimators=900;, score=0.875 total time=   9.5s\n",
      "[CV 1/10] END criterion=gini, max_depth=2, n_estimators=900;, score=0.618 total time=   4.2s\n",
      "[CV 8/10] END criterion=gini, max_depth=2, n_estimators=1200;, score=0.929 total time=   5.6s\n",
      "[CV 3/10] END criterion=gini, max_depth=7, n_estimators=1200;, score=0.812 total time=  11.4s\n",
      "[CV 8/10] END criterion=gini, max_depth=12, n_estimators=900;, score=1.000 total time=   9.0s\n",
      "[CV 5/10] END criterion=gini, max_depth=17, n_estimators=600;, score=0.849 total time=   6.2s\n",
      "[CV 8/10] END criterion=gini, max_depth=17, n_estimators=1200;, score=1.000 total time=  10.5s\n",
      "[CV 6/10] END criterion=entropy, max_depth=2, n_estimators=300;, score=0.688 total time=   2.2s\n",
      "[CV 8/10] END criterion=entropy, max_depth=2, n_estimators=900;, score=0.857 total time=   5.9s\n",
      "[CV 4/10] END criterion=entropy, max_depth=7, n_estimators=600;, score=0.812 total time=   6.4s\n",
      "[CV 5/10] END criterion=entropy, max_depth=7, n_estimators=1200;, score=0.875 total time=  12.6s\n",
      "[CV 3/10] END criterion=entropy, max_depth=12, n_estimators=1200;, score=0.875 total time=  12.9s\n",
      "[CV 1/10] END criterion=entropy, max_depth=17, n_estimators=1200;, score=0.761 total time=  12.8s\n",
      "[CV 6/10] END criterion=gini, max_depth=2, n_estimators=1200;, score=0.688 total time=   5.6s\n",
      "[CV 1/10] END criterion=gini, max_depth=7, n_estimators=1200;, score=0.761 total time=  11.4s\n",
      "[CV 6/10] END criterion=gini, max_depth=12, n_estimators=900;, score=1.000 total time=   9.2s\n",
      "[CV 6/10] END criterion=gini, max_depth=17, n_estimators=600;, score=1.000 total time=   6.3s\n",
      "[CV 10/10] END criterion=gini, max_depth=17, n_estimators=1200;, score=0.929 total time=  10.4s\n"
     ]
    },
    {
     "name": "stdout",
     "output_type": "stream",
     "text": [
      "[CV 4/10] END criterion=entropy, max_depth=2, n_estimators=600;, score=0.812 total time=   4.2s\n",
      "[CV 2/10] END criterion=entropy, max_depth=7, n_estimators=300;, score=0.875 total time=   3.4s\n",
      "[CV 10/10] END criterion=entropy, max_depth=7, n_estimators=300;, score=0.929 total time=   3.4s\n",
      "[CV 8/10] END criterion=entropy, max_depth=7, n_estimators=900;, score=0.929 total time=   9.7s\n",
      "[CV 6/10] END criterion=entropy, max_depth=12, n_estimators=600;, score=1.000 total time=   6.7s\n",
      "[CV 10/10] END criterion=entropy, max_depth=12, n_estimators=1200;, score=0.929 total time=  12.7s\n",
      "[CV 4/10] END criterion=entropy, max_depth=17, n_estimators=1200;, score=0.812 total time=  12.5s\n",
      "[CV 5/10] END criterion=gini, max_depth=2, n_estimators=1200;, score=0.688 total time=   5.6s\n",
      "[CV 10/10] END criterion=gini, max_depth=7, n_estimators=900;, score=0.929 total time=   8.4s\n",
      "[CV 7/10] END criterion=gini, max_depth=12, n_estimators=600;, score=0.831 total time=   6.1s\n",
      "[CV 10/10] END criterion=gini, max_depth=12, n_estimators=1200;, score=0.929 total time=  11.8s\n",
      "[CV 6/10] END criterion=gini, max_depth=17, n_estimators=1200;, score=1.000 total time=  11.0s\n",
      "[CV 5/10] END criterion=entropy, max_depth=2, n_estimators=600;, score=0.688 total time=   4.3s\n",
      "[CV 3/10] END criterion=entropy, max_depth=7, n_estimators=300;, score=0.875 total time=   3.6s\n",
      "[CV 1/10] END criterion=entropy, max_depth=7, n_estimators=600;, score=0.761 total time=   6.6s\n",
      "[CV 6/10] END criterion=entropy, max_depth=7, n_estimators=1200;, score=1.000 total time=  12.9s\n",
      "[CV 7/10] END criterion=entropy, max_depth=12, n_estimators=1200;, score=0.831 total time=  12.8s\n",
      "[CV 3/10] END criterion=entropy, max_depth=17, n_estimators=1200;, score=0.875 total time=  12.8s\n",
      "[CV 9/10] END criterion=gini, max_depth=2, n_estimators=1200;, score=0.714 total time=   5.5s\n",
      "[CV 2/10] END criterion=gini, max_depth=7, n_estimators=1200;, score=0.849 total time=  11.2s\n",
      "[CV 5/10] END criterion=gini, max_depth=12, n_estimators=900;, score=0.849 total time=   9.1s\n",
      "[CV 3/10] END criterion=gini, max_depth=17, n_estimators=600;, score=0.786 total time=   6.4s\n",
      "[CV 9/10] END criterion=gini, max_depth=17, n_estimators=1200;, score=0.831 total time=  11.0s\n"
     ]
    }
   ],
   "source": [
    "import random\n",
    "import os\n",
    "\n",
    "\n",
    "def prepareForShapelet(df=pd.DataFrame, trajectoryIDAttribute= None, targetAttribute=None,\n",
    "                       timestampAttribute=None, latAttr=None, lonAttr=None, trainPerc=.80, trajPerc=1.0, maxPoints=None):\n",
    "    attributes = [timestampAttribute, \"latLon\"]+ [x for x in list(df.columns) if x not in [trajectoryIDAttribute, targetAttribute, timestampAttribute, latAttr, lonAttr]] #mi assicuro di avere il timestam come primo elemento\n",
    "    if(os.path.exists(\"train\") | os.path.exists(\"test\")):\n",
    "        print(\"Le cartelle train e test esistono già!\")\n",
    "        return\n",
    "\n",
    "    df[\"latLon\"] = df[latAttr].astype(str) + \" \" + df[lonAttr].astype(str)\n",
    "\n",
    "    ids = list(df[trajectoryIDAttribute].unique())\n",
    "    #ids = random.sample(ids, round(len(ids)*trajPerc))\n",
    "    ids = ids[:round(len(ids)*trajPerc)]\n",
    "    ids_train = random.sample(ids, round(trainPerc*len(ids)))\n",
    "    ids_test = [x for x in ids if x not in ids_train]\n",
    "\n",
    "    os.makedirs(\"train\")\n",
    "    os.makedirs(\"test\")\n",
    "\n",
    "    for id in tqdm(ids_train):\n",
    "        df_id = df[df[trajectoryIDAttribute] == id]\n",
    "        classe = df_id[targetAttribute].iloc[0]\n",
    "        if maxPoints is not None:\n",
    "            df[df[trajectoryIDAttribute] == id][attributes].head(maxPoints).to_csv(F\"train/{id} s{id} c{classe}.r2\", index=False, header=False)\n",
    "        else:\n",
    "            df[df[trajectoryIDAttribute] == id][attributes].to_csv(F\"train/{id} s{id} c{classe}.r2\", index=False, header=False)\n",
    "\n",
    "    for id in tqdm(ids_test):\n",
    "        df_id = df[df[trajectoryIDAttribute] == id]\n",
    "        if maxPoints is not None:\n",
    "            df_id = df_id.head(maxPoints)\n",
    "        classe = df_id[targetAttribute].iloc[0]\n",
    "        if maxPoints is not None:\n",
    "            df[df[trajectoryIDAttribute] == id][attributes].head(maxPoints).to_csv(F\"test/{id} s{id} c{classe}.r2\", index=False, header=False)\n",
    "        else:\n",
    "            df[df[trajectoryIDAttribute] == id][attributes].to_csv(F\"test/{id} s{id} c{classe}.r2\", index=False, header=False)\n",
    "\n",
    "prepareForShapelet(df0, \"tid\", \"class\", \"t\", \"c1\", \"c2\", trainPerc=.7, trajPerc=1)"
   ]
  },
  {
   "cell_type": "code",
   "execution_count": null,
   "id": "ed3363df",
   "metadata": {},
   "outputs": [],
   "source": [
    "# 8514242 ms"
   ]
  },
  {
   "cell_type": "code",
   "execution_count": 15,
   "id": "0220d450",
   "metadata": {},
   "outputs": [
    {
     "data": {
      "text/html": [
       "<div>\n",
       "<style scoped>\n",
       "    .dataframe tbody tr th:only-of-type {\n",
       "        vertical-align: middle;\n",
       "    }\n",
       "\n",
       "    .dataframe tbody tr th {\n",
       "        vertical-align: top;\n",
       "    }\n",
       "\n",
       "    .dataframe thead th {\n",
       "        text-align: right;\n",
       "    }\n",
       "</style>\n",
       "<table border=\"1\" class=\"dataframe\">\n",
       "  <thead>\n",
       "    <tr style=\"text-align: right;\">\n",
       "      <th></th>\n",
       "      <th>sh_TID42018_START0_SIZE412_CLASSB</th>\n",
       "      <th>sh_TID90604_START152_SIZE9_CLASST</th>\n",
       "      <th>sh_TID86203_START40_SIZE72_CLASST</th>\n",
       "      <th>sh_TID92006_START422_SIZE1_CLASST</th>\n",
       "      <th>sh_TID42094_START863_SIZE6_CLASSB</th>\n",
       "      <th>sh_TID42095_START47_SIZE1_CLASSB</th>\n",
       "      <th>sh_TID86704_START501_SIZE72_CLASST</th>\n",
       "      <th>sh_TID42080_START345_SIZE3_CLASSB</th>\n",
       "      <th>sh_TID42005_START60_SIZE3_CLASSB</th>\n",
       "      <th>class</th>\n",
       "    </tr>\n",
       "  </thead>\n",
       "  <tbody>\n",
       "    <tr>\n",
       "      <th>0</th>\n",
       "      <td>2.000000</td>\n",
       "      <td>1.153911</td>\n",
       "      <td>1.132315</td>\n",
       "      <td>1.189271</td>\n",
       "      <td>0.586965</td>\n",
       "      <td>0.273311</td>\n",
       "      <td>1.101939</td>\n",
       "      <td>0.239223</td>\n",
       "      <td>0.267243</td>\n",
       "      <td>B</td>\n",
       "    </tr>\n",
       "    <tr>\n",
       "      <th>1</th>\n",
       "      <td>2.000000</td>\n",
       "      <td>0.973091</td>\n",
       "      <td>1.126933</td>\n",
       "      <td>0.688177</td>\n",
       "      <td>1.165543</td>\n",
       "      <td>1.151932</td>\n",
       "      <td>1.103792</td>\n",
       "      <td>1.144756</td>\n",
       "      <td>1.148418</td>\n",
       "      <td>B</td>\n",
       "    </tr>\n",
       "    <tr>\n",
       "      <th>2</th>\n",
       "      <td>2.000000</td>\n",
       "      <td>1.100519</td>\n",
       "      <td>1.098091</td>\n",
       "      <td>1.137493</td>\n",
       "      <td>0.891989</td>\n",
       "      <td>0.880479</td>\n",
       "      <td>1.061744</td>\n",
       "      <td>0.839402</td>\n",
       "      <td>0.868396</td>\n",
       "      <td>B</td>\n",
       "    </tr>\n",
       "    <tr>\n",
       "      <th>3</th>\n",
       "      <td>0.968084</td>\n",
       "      <td>1.130059</td>\n",
       "      <td>1.118578</td>\n",
       "      <td>1.164891</td>\n",
       "      <td>0.668426</td>\n",
       "      <td>0.544227</td>\n",
       "      <td>1.085558</td>\n",
       "      <td>0.485539</td>\n",
       "      <td>0.518222</td>\n",
       "      <td>B</td>\n",
       "    </tr>\n",
       "    <tr>\n",
       "      <th>4</th>\n",
       "      <td>0.974760</td>\n",
       "      <td>1.221041</td>\n",
       "      <td>1.168284</td>\n",
       "      <td>1.247253</td>\n",
       "      <td>1.125599</td>\n",
       "      <td>0.798980</td>\n",
       "      <td>1.147143</td>\n",
       "      <td>0.973117</td>\n",
       "      <td>0.940765</td>\n",
       "      <td>B</td>\n",
       "    </tr>\n",
       "  </tbody>\n",
       "</table>\n",
       "</div>"
      ],
      "text/plain": [
       "   sh_TID42018_START0_SIZE412_CLASSB  sh_TID90604_START152_SIZE9_CLASST  \\\n",
       "0                           2.000000                           1.153911   \n",
       "1                           2.000000                           0.973091   \n",
       "2                           2.000000                           1.100519   \n",
       "3                           0.968084                           1.130059   \n",
       "4                           0.974760                           1.221041   \n",
       "\n",
       "   sh_TID86203_START40_SIZE72_CLASST  sh_TID92006_START422_SIZE1_CLASST  \\\n",
       "0                           1.132315                           1.189271   \n",
       "1                           1.126933                           0.688177   \n",
       "2                           1.098091                           1.137493   \n",
       "3                           1.118578                           1.164891   \n",
       "4                           1.168284                           1.247253   \n",
       "\n",
       "   sh_TID42094_START863_SIZE6_CLASSB  sh_TID42095_START47_SIZE1_CLASSB  \\\n",
       "0                           0.586965                          0.273311   \n",
       "1                           1.165543                          1.151932   \n",
       "2                           0.891989                          0.880479   \n",
       "3                           0.668426                          0.544227   \n",
       "4                           1.125599                          0.798980   \n",
       "\n",
       "   sh_TID86704_START501_SIZE72_CLASST  sh_TID42080_START345_SIZE3_CLASSB  \\\n",
       "0                            1.101939                           0.239223   \n",
       "1                            1.103792                           1.144756   \n",
       "2                            1.061744                           0.839402   \n",
       "3                            1.085558                           0.485539   \n",
       "4                            1.147143                           0.973117   \n",
       "\n",
       "   sh_TID42005_START60_SIZE3_CLASSB class  \n",
       "0                          0.267243     B  \n",
       "1                          1.148418     B  \n",
       "2                          0.868396     B  \n",
       "3                          0.518222     B  \n",
       "4                          0.940765     B  "
      ]
     },
     "execution_count": 15,
     "metadata": {},
     "output_type": "execute_result"
    }
   ],
   "source": [
    "movelet_train_df = pd.read_csv(\"data/Movelet_output/train.csv\")\n",
    "movelet_test_df = pd.read_csv(\"data/Movelet_output/test.csv\")\n",
    "\n",
    "movelet_train_df.head()"
   ]
  },
  {
   "cell_type": "code",
   "execution_count": 16,
   "id": "4ced63cf",
   "metadata": {},
   "outputs": [
    {
     "data": {
      "text/html": [
       "<div>\n",
       "<style scoped>\n",
       "    .dataframe tbody tr th:only-of-type {\n",
       "        vertical-align: middle;\n",
       "    }\n",
       "\n",
       "    .dataframe tbody tr th {\n",
       "        vertical-align: top;\n",
       "    }\n",
       "\n",
       "    .dataframe thead th {\n",
       "        text-align: right;\n",
       "    }\n",
       "</style>\n",
       "<table border=\"1\" class=\"dataframe\">\n",
       "  <thead>\n",
       "    <tr style=\"text-align: right;\">\n",
       "      <th></th>\n",
       "      <th>sh_TID42018_START0_SIZE412_CLASSB</th>\n",
       "      <th>sh_TID90604_START152_SIZE9_CLASST</th>\n",
       "      <th>sh_TID86203_START40_SIZE72_CLASST</th>\n",
       "      <th>sh_TID92006_START422_SIZE1_CLASST</th>\n",
       "      <th>sh_TID42094_START863_SIZE6_CLASSB</th>\n",
       "      <th>sh_TID42095_START47_SIZE1_CLASSB</th>\n",
       "      <th>sh_TID86704_START501_SIZE72_CLASST</th>\n",
       "      <th>sh_TID42080_START345_SIZE3_CLASSB</th>\n",
       "      <th>sh_TID42005_START60_SIZE3_CLASSB</th>\n",
       "      <th>class</th>\n",
       "    </tr>\n",
       "  </thead>\n",
       "  <tbody>\n",
       "    <tr>\n",
       "      <th>0</th>\n",
       "      <td>2.000000</td>\n",
       "      <td>1.093716</td>\n",
       "      <td>1.094384</td>\n",
       "      <td>1.137229</td>\n",
       "      <td>0.941270</td>\n",
       "      <td>0.884245</td>\n",
       "      <td>1.063279</td>\n",
       "      <td>0.863177</td>\n",
       "      <td>0.892008</td>\n",
       "      <td>B</td>\n",
       "    </tr>\n",
       "    <tr>\n",
       "      <th>1</th>\n",
       "      <td>0.973840</td>\n",
       "      <td>1.221526</td>\n",
       "      <td>1.167599</td>\n",
       "      <td>1.247132</td>\n",
       "      <td>1.126041</td>\n",
       "      <td>0.801725</td>\n",
       "      <td>1.145457</td>\n",
       "      <td>0.976549</td>\n",
       "      <td>0.944174</td>\n",
       "      <td>B</td>\n",
       "    </tr>\n",
       "    <tr>\n",
       "      <th>2</th>\n",
       "      <td>0.977193</td>\n",
       "      <td>1.152266</td>\n",
       "      <td>1.092259</td>\n",
       "      <td>1.202596</td>\n",
       "      <td>0.382538</td>\n",
       "      <td>0.772183</td>\n",
       "      <td>1.063461</td>\n",
       "      <td>0.720976</td>\n",
       "      <td>0.730579</td>\n",
       "      <td>B</td>\n",
       "    </tr>\n",
       "    <tr>\n",
       "      <th>3</th>\n",
       "      <td>0.973676</td>\n",
       "      <td>1.159018</td>\n",
       "      <td>1.101053</td>\n",
       "      <td>1.203392</td>\n",
       "      <td>0.256079</td>\n",
       "      <td>0.334016</td>\n",
       "      <td>1.073879</td>\n",
       "      <td>0.242644</td>\n",
       "      <td>0.260859</td>\n",
       "      <td>B</td>\n",
       "    </tr>\n",
       "    <tr>\n",
       "      <th>4</th>\n",
       "      <td>2.000000</td>\n",
       "      <td>1.098748</td>\n",
       "      <td>1.128672</td>\n",
       "      <td>1.137881</td>\n",
       "      <td>0.905996</td>\n",
       "      <td>0.879337</td>\n",
       "      <td>1.089535</td>\n",
       "      <td>0.849313</td>\n",
       "      <td>0.878094</td>\n",
       "      <td>B</td>\n",
       "    </tr>\n",
       "  </tbody>\n",
       "</table>\n",
       "</div>"
      ],
      "text/plain": [
       "   sh_TID42018_START0_SIZE412_CLASSB  sh_TID90604_START152_SIZE9_CLASST  \\\n",
       "0                           2.000000                           1.093716   \n",
       "1                           0.973840                           1.221526   \n",
       "2                           0.977193                           1.152266   \n",
       "3                           0.973676                           1.159018   \n",
       "4                           2.000000                           1.098748   \n",
       "\n",
       "   sh_TID86203_START40_SIZE72_CLASST  sh_TID92006_START422_SIZE1_CLASST  \\\n",
       "0                           1.094384                           1.137229   \n",
       "1                           1.167599                           1.247132   \n",
       "2                           1.092259                           1.202596   \n",
       "3                           1.101053                           1.203392   \n",
       "4                           1.128672                           1.137881   \n",
       "\n",
       "   sh_TID42094_START863_SIZE6_CLASSB  sh_TID42095_START47_SIZE1_CLASSB  \\\n",
       "0                           0.941270                          0.884245   \n",
       "1                           1.126041                          0.801725   \n",
       "2                           0.382538                          0.772183   \n",
       "3                           0.256079                          0.334016   \n",
       "4                           0.905996                          0.879337   \n",
       "\n",
       "   sh_TID86704_START501_SIZE72_CLASST  sh_TID42080_START345_SIZE3_CLASSB  \\\n",
       "0                            1.063279                           0.863177   \n",
       "1                            1.145457                           0.976549   \n",
       "2                            1.063461                           0.720976   \n",
       "3                            1.073879                           0.242644   \n",
       "4                            1.089535                           0.849313   \n",
       "\n",
       "   sh_TID42005_START60_SIZE3_CLASSB class  \n",
       "0                          0.892008     B  \n",
       "1                          0.944174     B  \n",
       "2                          0.730579     B  \n",
       "3                          0.260859     B  \n",
       "4                          0.878094     B  "
      ]
     },
     "execution_count": 16,
     "metadata": {},
     "output_type": "execute_result"
    }
   ],
   "source": [
    "movelet_test_df.head()"
   ]
  },
  {
   "cell_type": "code",
   "execution_count": null,
   "id": "10bc9b0d",
   "metadata": {},
   "outputs": [],
   "source": []
  },
  {
   "cell_type": "code",
   "execution_count": 17,
   "id": "f8dec302",
   "metadata": {},
   "outputs": [],
   "source": [
    "X_train = movelet_train_df.values[:, :-1]\n",
    "y_train = movelet_train_df.values[:, -1]\n",
    "\n",
    "X_test = movelet_test_df.values[:, :-1]\n",
    "y_test = movelet_test_df.values[:, -1]"
   ]
  },
  {
   "cell_type": "code",
   "execution_count": 18,
   "id": "f6a04b04",
   "metadata": {},
   "outputs": [
    {
     "name": "stdout",
     "output_type": "stream",
     "text": [
      "Fitting 3 folds for each of 32 candidates, totalling 96 fits\n",
      "Model with rank: 1\n",
      "Mean validation score: 0.891 (std: 0.011)\n",
      "Parameters: {'criterion': 'entropy', 'max_depth': 2, 'n_estimators': 600}\n",
      "\n",
      "Model with rank: 1\n",
      "Mean validation score: 0.891 (std: 0.011)\n",
      "Parameters: {'criterion': 'entropy', 'max_depth': 2, 'n_estimators': 900}\n",
      "\n",
      "Model with rank: 1\n",
      "Mean validation score: 0.891 (std: 0.011)\n",
      "Parameters: {'criterion': 'entropy', 'max_depth': 2, 'n_estimators': 1200}\n",
      "\n",
      "Model with rank: 1\n",
      "Mean validation score: 0.891 (std: 0.011)\n",
      "Parameters: {'criterion': 'gini', 'max_depth': 2, 'n_estimators': 600}\n",
      "\n",
      "Model with rank: 1\n",
      "Mean validation score: 0.891 (std: 0.011)\n",
      "Parameters: {'criterion': 'gini', 'max_depth': 2, 'n_estimators': 1200}\n",
      "\n"
     ]
    }
   ],
   "source": [
    "from sklearn.ensemble import RandomForestClassifier\n",
    "from sklearn import tree\n",
    "\n",
    "def report(results, n_top=3):\n",
    "    for i in range(1, n_top + 1):\n",
    "        candidates = np.flatnonzero(results['rank_test_score'] == i)\n",
    "        for candidate in candidates:\n",
    "            print(\"Model with rank: {0}\".format(i))\n",
    "            print(\"Mean validation score: {0:.3f} (std: {1:.3f})\".format(\n",
    "                results['mean_test_score'][candidate],\n",
    "                results['std_test_score'][candidate]))\n",
    "            print(\"Parameters: {0}\".format(results['params'][candidate]))\n",
    "            print(\"\")\n",
    "\n",
    "from sklearn.model_selection import GridSearchCV\n",
    "parameters = {'n_estimators': range(300, 1500, 300),\n",
    "              'criterion':[\"entropy\", \"gini\"],\n",
    "              'max_depth': range(2, 20, 5)}\n",
    "\n",
    "clf = GridSearchCV(RandomForestClassifier(n_jobs=1), parameters, cv=3, n_jobs=24, verbose=0, scoring=\"accuracy\")\n",
    "\n",
    "clf.fit(X_train, y_train)\n",
    "\n",
    "report(clf.cv_results_, n_top=3)"
   ]
  },
  {
   "cell_type": "code",
   "execution_count": 19,
   "id": "ce809cd3",
   "metadata": {},
   "outputs": [
    {
     "name": "stdout",
     "output_type": "stream",
     "text": [
      "              precision    recall  f1-score   support\n",
      "\n",
      "           B       0.83      0.86      0.85        29\n",
      "           T       0.95      0.94      0.95        85\n",
      "\n",
      "    accuracy                           0.92       114\n",
      "   macro avg       0.89      0.90      0.90       114\n",
      "weighted avg       0.92      0.92      0.92       114\n",
      "\n"
     ]
    }
   ],
   "source": [
    "#rf = RandomForestClassifier(max_depth=7, random_state=3, n_jobs=-1, n_estimators=300, criterion=\"entropy\")\n",
    "rf = clf.best_estimator_\n",
    "\n",
    "rf.fit(X_train, y_train)\n",
    "\n",
    "from sklearn import metrics\n",
    "y_pred=rf.predict(X_test)\n",
    "\n",
    "\n",
    "from sklearn.metrics import classification_report\n",
    "\n",
    "print(classification_report(y_test, y_pred))"
   ]
  },
  {
   "cell_type": "code",
   "execution_count": 20,
   "id": "151493d7",
   "metadata": {},
   "outputs": [
    {
     "data": {
      "text/html": [
       "<style>#sk-container-id-1 {color: black;background-color: white;}#sk-container-id-1 pre{padding: 0;}#sk-container-id-1 div.sk-toggleable {background-color: white;}#sk-container-id-1 label.sk-toggleable__label {cursor: pointer;display: block;width: 100%;margin-bottom: 0;padding: 0.3em;box-sizing: border-box;text-align: center;}#sk-container-id-1 label.sk-toggleable__label-arrow:before {content: \"▸\";float: left;margin-right: 0.25em;color: #696969;}#sk-container-id-1 label.sk-toggleable__label-arrow:hover:before {color: black;}#sk-container-id-1 div.sk-estimator:hover label.sk-toggleable__label-arrow:before {color: black;}#sk-container-id-1 div.sk-toggleable__content {max-height: 0;max-width: 0;overflow: hidden;text-align: left;background-color: #f0f8ff;}#sk-container-id-1 div.sk-toggleable__content pre {margin: 0.2em;color: black;border-radius: 0.25em;background-color: #f0f8ff;}#sk-container-id-1 input.sk-toggleable__control:checked~div.sk-toggleable__content {max-height: 200px;max-width: 100%;overflow: auto;}#sk-container-id-1 input.sk-toggleable__control:checked~label.sk-toggleable__label-arrow:before {content: \"▾\";}#sk-container-id-1 div.sk-estimator input.sk-toggleable__control:checked~label.sk-toggleable__label {background-color: #d4ebff;}#sk-container-id-1 div.sk-label input.sk-toggleable__control:checked~label.sk-toggleable__label {background-color: #d4ebff;}#sk-container-id-1 input.sk-hidden--visually {border: 0;clip: rect(1px 1px 1px 1px);clip: rect(1px, 1px, 1px, 1px);height: 1px;margin: -1px;overflow: hidden;padding: 0;position: absolute;width: 1px;}#sk-container-id-1 div.sk-estimator {font-family: monospace;background-color: #f0f8ff;border: 1px dotted black;border-radius: 0.25em;box-sizing: border-box;margin-bottom: 0.5em;}#sk-container-id-1 div.sk-estimator:hover {background-color: #d4ebff;}#sk-container-id-1 div.sk-parallel-item::after {content: \"\";width: 100%;border-bottom: 1px solid gray;flex-grow: 1;}#sk-container-id-1 div.sk-label:hover label.sk-toggleable__label {background-color: #d4ebff;}#sk-container-id-1 div.sk-serial::before {content: \"\";position: absolute;border-left: 1px solid gray;box-sizing: border-box;top: 0;bottom: 0;left: 50%;z-index: 0;}#sk-container-id-1 div.sk-serial {display: flex;flex-direction: column;align-items: center;background-color: white;padding-right: 0.2em;padding-left: 0.2em;position: relative;}#sk-container-id-1 div.sk-item {position: relative;z-index: 1;}#sk-container-id-1 div.sk-parallel {display: flex;align-items: stretch;justify-content: center;background-color: white;position: relative;}#sk-container-id-1 div.sk-item::before, #sk-container-id-1 div.sk-parallel-item::before {content: \"\";position: absolute;border-left: 1px solid gray;box-sizing: border-box;top: 0;bottom: 0;left: 50%;z-index: -1;}#sk-container-id-1 div.sk-parallel-item {display: flex;flex-direction: column;z-index: 1;position: relative;background-color: white;}#sk-container-id-1 div.sk-parallel-item:first-child::after {align-self: flex-end;width: 50%;}#sk-container-id-1 div.sk-parallel-item:last-child::after {align-self: flex-start;width: 50%;}#sk-container-id-1 div.sk-parallel-item:only-child::after {width: 0;}#sk-container-id-1 div.sk-dashed-wrapped {border: 1px dashed gray;margin: 0 0.4em 0.5em 0.4em;box-sizing: border-box;padding-bottom: 0.4em;background-color: white;}#sk-container-id-1 div.sk-label label {font-family: monospace;font-weight: bold;display: inline-block;line-height: 1.2em;}#sk-container-id-1 div.sk-label-container {text-align: center;}#sk-container-id-1 div.sk-container {/* jupyter's `normalize.less` sets `[hidden] { display: none; }` but bootstrap.min.css set `[hidden] { display: none !important; }` so we also need the `!important` here to be able to override the default hidden behavior on the sphinx rendered scikit-learn.org. See: https://github.com/scikit-learn/scikit-learn/issues/21755 */display: inline-block !important;position: relative;}#sk-container-id-1 div.sk-text-repr-fallback {display: none;}</style><div id=\"sk-container-id-1\" class=\"sk-top-container\"><div class=\"sk-text-repr-fallback\"><pre>RandomForestClassifier(criterion=&#x27;entropy&#x27;, max_depth=2, n_estimators=600,\n",
       "                       n_jobs=1)</pre><b>In a Jupyter environment, please rerun this cell to show the HTML representation or trust the notebook. <br />On GitHub, the HTML representation is unable to render, please try loading this page with nbviewer.org.</b></div><div class=\"sk-container\" hidden><div class=\"sk-item\"><div class=\"sk-estimator sk-toggleable\"><input class=\"sk-toggleable__control sk-hidden--visually\" id=\"sk-estimator-id-1\" type=\"checkbox\" checked><label for=\"sk-estimator-id-1\" class=\"sk-toggleable__label sk-toggleable__label-arrow\">RandomForestClassifier</label><div class=\"sk-toggleable__content\"><pre>RandomForestClassifier(criterion=&#x27;entropy&#x27;, max_depth=2, n_estimators=600,\n",
       "                       n_jobs=1)</pre></div></div></div></div></div>"
      ],
      "text/plain": [
       "RandomForestClassifier(criterion='entropy', max_depth=2, n_estimators=600,\n",
       "                       n_jobs=1)"
      ]
     },
     "execution_count": 20,
     "metadata": {},
     "output_type": "execute_result"
    }
   ],
   "source": [
    "clf.best_estimator_"
   ]
  },
  {
   "cell_type": "code",
   "execution_count": null,
   "id": "99062a04",
   "metadata": {},
   "outputs": [],
   "source": []
  },
  {
   "cell_type": "markdown",
   "id": "f6365b48",
   "metadata": {},
   "source": [
    "## Geolet"
   ]
  },
  {
   "cell_type": "code",
   "execution_count": 3,
   "id": "c2299d92",
   "metadata": {},
   "outputs": [
    {
     "data": {
      "text/html": [
       "<div>\n",
       "<style scoped>\n",
       "    .dataframe tbody tr th:only-of-type {\n",
       "        vertical-align: middle;\n",
       "    }\n",
       "\n",
       "    .dataframe tbody tr th {\n",
       "        vertical-align: top;\n",
       "    }\n",
       "\n",
       "    .dataframe thead th {\n",
       "        text-align: right;\n",
       "    }\n",
       "</style>\n",
       "<table border=\"1\" class=\"dataframe\">\n",
       "  <thead>\n",
       "    <tr style=\"text-align: right;\">\n",
       "      <th></th>\n",
       "      <th>tid</th>\n",
       "      <th>class</th>\n",
       "      <th>c1</th>\n",
       "      <th>c2</th>\n",
       "      <th>t</th>\n",
       "    </tr>\n",
       "  </thead>\n",
       "  <tbody>\n",
       "    <tr>\n",
       "      <th>0</th>\n",
       "      <td>30901</td>\n",
       "      <td>B</td>\n",
       "      <td>42.077160</td>\n",
       "      <td>4.738411</td>\n",
       "      <td>0</td>\n",
       "    </tr>\n",
       "    <tr>\n",
       "      <th>1</th>\n",
       "      <td>30901</td>\n",
       "      <td>B</td>\n",
       "      <td>42.077246</td>\n",
       "      <td>4.739088</td>\n",
       "      <td>30</td>\n",
       "    </tr>\n",
       "    <tr>\n",
       "      <th>2</th>\n",
       "      <td>30901</td>\n",
       "      <td>B</td>\n",
       "      <td>42.077259</td>\n",
       "      <td>4.739096</td>\n",
       "      <td>60</td>\n",
       "    </tr>\n",
       "    <tr>\n",
       "      <th>3</th>\n",
       "      <td>30901</td>\n",
       "      <td>B</td>\n",
       "      <td>42.077369</td>\n",
       "      <td>4.739158</td>\n",
       "      <td>90</td>\n",
       "    </tr>\n",
       "    <tr>\n",
       "      <th>4</th>\n",
       "      <td>30901</td>\n",
       "      <td>B</td>\n",
       "      <td>42.077635</td>\n",
       "      <td>4.739343</td>\n",
       "      <td>120</td>\n",
       "    </tr>\n",
       "    <tr>\n",
       "      <th>...</th>\n",
       "      <td>...</td>\n",
       "      <td>...</td>\n",
       "      <td>...</td>\n",
       "      <td>...</td>\n",
       "      <td>...</td>\n",
       "    </tr>\n",
       "    <tr>\n",
       "      <th>178294</th>\n",
       "      <td>420106</td>\n",
       "      <td>B</td>\n",
       "      <td>42.054656</td>\n",
       "      <td>4.903373</td>\n",
       "      <td>20700</td>\n",
       "    </tr>\n",
       "    <tr>\n",
       "      <th>178295</th>\n",
       "      <td>420106</td>\n",
       "      <td>B</td>\n",
       "      <td>42.053411</td>\n",
       "      <td>4.904073</td>\n",
       "      <td>20730</td>\n",
       "    </tr>\n",
       "    <tr>\n",
       "      <th>178296</th>\n",
       "      <td>420106</td>\n",
       "      <td>B</td>\n",
       "      <td>42.053166</td>\n",
       "      <td>4.903783</td>\n",
       "      <td>20760</td>\n",
       "    </tr>\n",
       "    <tr>\n",
       "      <th>178297</th>\n",
       "      <td>420106</td>\n",
       "      <td>B</td>\n",
       "      <td>42.053166</td>\n",
       "      <td>4.903783</td>\n",
       "      <td>20790</td>\n",
       "    </tr>\n",
       "    <tr>\n",
       "      <th>178298</th>\n",
       "      <td>420106</td>\n",
       "      <td>B</td>\n",
       "      <td>42.053268</td>\n",
       "      <td>4.903792</td>\n",
       "      <td>24480</td>\n",
       "    </tr>\n",
       "  </tbody>\n",
       "</table>\n",
       "<p>178299 rows × 5 columns</p>\n",
       "</div>"
      ],
      "text/plain": [
       "           tid class         c1        c2      t\n",
       "0        30901     B  42.077160  4.738411      0\n",
       "1        30901     B  42.077246  4.739088     30\n",
       "2        30901     B  42.077259  4.739096     60\n",
       "3        30901     B  42.077369  4.739158     90\n",
       "4        30901     B  42.077635  4.739343    120\n",
       "...        ...   ...        ...       ...    ...\n",
       "178294  420106     B  42.054656  4.903373  20700\n",
       "178295  420106     B  42.053411  4.904073  20730\n",
       "178296  420106     B  42.053166  4.903783  20760\n",
       "178297  420106     B  42.053166  4.903783  20790\n",
       "178298  420106     B  42.053268  4.903792  24480\n",
       "\n",
       "[178299 rows x 5 columns]"
      ]
     },
     "execution_count": 3,
     "metadata": {},
     "output_type": "execute_result"
    }
   ],
   "source": [
    "df0"
   ]
  },
  {
   "cell_type": "code",
   "execution_count": 4,
   "id": "98480ca9",
   "metadata": {},
   "outputs": [
    {
     "name": "stderr",
     "output_type": "stream",
     "text": [
      "/home/cri98li/Documenti/GitHub/cri98tj/cri98tj/distancers/Euclidean_distancer.py:6: TqdmExperimentalWarning: Using `tqdm.autonotebook.tqdm` in notebook mode. Use `tqdm.tqdm` instead to force console mode (e.g. in jupyter console)\n",
      "  from tqdm.autonotebook import tqdm\n"
     ]
    }
   ],
   "source": [
    "from cri98tj.distancers.Euclidean_distancer import Euclidean_distancer\n",
    "from cri98tj.distancers.DTW_distancer import DTW_distancer\n",
    "from cri98tj.distancers.InterpolatedRootDistance_distancer import InterpolatedRootDistance_distancer, \\\n",
    "    InterpolatedRootDistanceBestFitting\n",
    "from cri98tj.normalizers.FirstPoint_normalizer import FirstPoint_normalizer\n",
    "from cri98tj.normalizers.normalizer_utils import dataframe_pivot\n",
    "from cri98tj.partitioners.Geohash_partitioner import Geohash_partitioner\n",
    "from cri98tj.partitioners.Voronoi_partitioner import Voronoi_partitioner\n",
    "from cri98tj.selectors.RandomInformationGain_selector import RandomInformationGain_selector\n",
    "from cri98tj.selectors.Random_selector import Random_selector\n",
    "from cri98tj.selectors.RandomOrderline_selector import RandomOrderline_selector\n",
    "from cri98tj.TrajectoryTransformer import TrajectoryTransformer\n",
    "from sklearn.ensemble import RandomForestClassifier"
   ]
  },
  {
   "cell_type": "code",
   "execution_count": 25,
   "id": "0e109cda",
   "metadata": {},
   "outputs": [
    {
     "data": {
      "text/html": [
       "<div>\n",
       "<style scoped>\n",
       "    .dataframe tbody tr th:only-of-type {\n",
       "        vertical-align: middle;\n",
       "    }\n",
       "\n",
       "    .dataframe tbody tr th {\n",
       "        vertical-align: top;\n",
       "    }\n",
       "\n",
       "    .dataframe thead th {\n",
       "        text-align: right;\n",
       "    }\n",
       "</style>\n",
       "<table border=\"1\" class=\"dataframe\">\n",
       "  <thead>\n",
       "    <tr style=\"text-align: right;\">\n",
       "      <th></th>\n",
       "      <th>tid</th>\n",
       "      <th>class</th>\n",
       "      <th>c1</th>\n",
       "      <th>c2</th>\n",
       "      <th>t</th>\n",
       "    </tr>\n",
       "  </thead>\n",
       "  <tbody>\n",
       "    <tr>\n",
       "      <th>0</th>\n",
       "      <td>30901</td>\n",
       "      <td>B</td>\n",
       "      <td>42.077160</td>\n",
       "      <td>4.738411</td>\n",
       "      <td>0</td>\n",
       "    </tr>\n",
       "    <tr>\n",
       "      <th>1</th>\n",
       "      <td>30901</td>\n",
       "      <td>B</td>\n",
       "      <td>42.077246</td>\n",
       "      <td>4.739088</td>\n",
       "      <td>30</td>\n",
       "    </tr>\n",
       "    <tr>\n",
       "      <th>2</th>\n",
       "      <td>30901</td>\n",
       "      <td>B</td>\n",
       "      <td>42.077259</td>\n",
       "      <td>4.739096</td>\n",
       "      <td>60</td>\n",
       "    </tr>\n",
       "    <tr>\n",
       "      <th>3</th>\n",
       "      <td>30901</td>\n",
       "      <td>B</td>\n",
       "      <td>42.077369</td>\n",
       "      <td>4.739158</td>\n",
       "      <td>90</td>\n",
       "    </tr>\n",
       "    <tr>\n",
       "      <th>4</th>\n",
       "      <td>30901</td>\n",
       "      <td>B</td>\n",
       "      <td>42.077635</td>\n",
       "      <td>4.739343</td>\n",
       "      <td>120</td>\n",
       "    </tr>\n",
       "  </tbody>\n",
       "</table>\n",
       "</div>"
      ],
      "text/plain": [
       "     tid class         c1        c2    t\n",
       "0  30901     B  42.077160  4.738411    0\n",
       "1  30901     B  42.077246  4.739088   30\n",
       "2  30901     B  42.077259  4.739096   60\n",
       "3  30901     B  42.077369  4.739158   90\n",
       "4  30901     B  42.077635  4.739343  120"
      ]
     },
     "execution_count": 25,
     "metadata": {},
     "output_type": "execute_result"
    }
   ],
   "source": [
    "df_geo = df0[[\"tid\", \"class\", \"c1\", \"c2\", \"t\"]].copy()\n",
    "\n",
    "df_geo.head()"
   ]
  },
  {
   "cell_type": "code",
   "execution_count": null,
   "id": "1151139c",
   "metadata": {},
   "outputs": [],
   "source": []
  },
  {
   "cell_type": "code",
   "execution_count": 35,
   "id": "d50a5c27",
   "metadata": {},
   "outputs": [
    {
     "name": "stdout",
     "output_type": "stream",
     "text": [
      "Encoding 125348 points with precision 6\n"
     ]
    },
    {
     "data": {
      "application/vnd.jupyter.widget-view+json": {
       "model_id": "f2b1373b8d3e4653b9471e3743b5f823",
       "version_major": 2,
       "version_minor": 0
      },
      "text/plain": [
       "  0%|          | 0/125348 [00:00<?, ?it/s]"
      ]
     },
     "metadata": {},
     "output_type": "display_data"
    },
    {
     "name": "stdout",
     "output_type": "stream",
     "text": [
      "Cutting sub-trajectories length at 9.0 over 18\n",
      "Pivoting tables\n"
     ]
    },
    {
     "data": {
      "application/vnd.jupyter.widget-view+json": {
       "model_id": "1c8dc42666744c64baaed422f69a9cd5",
       "version_major": 2,
       "version_minor": 0
      },
      "text/plain": [
       "  0%|          | 0/883 [00:00<?, ?it/s]"
      ]
     },
     "metadata": {},
     "output_type": "display_data"
    },
    {
     "name": "stdout",
     "output_type": "stream",
     "text": [
      "Cutting sub-trajectories length at 736.0 over 1001\n",
      "Pivoting tables\n"
     ]
    },
    {
     "data": {
      "application/vnd.jupyter.widget-view+json": {
       "model_id": "b1801d03b1294efd90dd2c42948d9e11",
       "version_major": 2,
       "version_minor": 0
      },
      "text/plain": [
       "  0%|          | 0/24425 [00:00<?, ?it/s]"
      ]
     },
     "metadata": {},
     "output_type": "display_data"
    },
    {
     "name": "stdout",
     "output_type": "stream",
     "text": [
      "Computing scores\n"
     ]
    },
    {
     "data": {
      "application/vnd.jupyter.widget-view+json": {
       "model_id": "19f73a76e81746cc8af8af92cf13e082",
       "version_major": 2,
       "version_minor": 0
      },
      "text/plain": [
       "  0%|          | 0/300 [00:00<?, ?it/s]"
      ]
     },
     "metadata": {},
     "output_type": "display_data"
    },
    {
     "data": {
      "application/vnd.jupyter.widget-view+json": {
       "model_id": "33b67b6ce81d4fccbb7b81aa376b7811",
       "version_major": 2,
       "version_minor": 0
      },
      "text/plain": [
       "  0%|          | 0/300 [00:00<?, ?it/s]"
      ]
     },
     "metadata": {},
     "output_type": "display_data"
    },
    {
     "name": "stderr",
     "output_type": "stream",
     "text": [
      "/home/cri98li/Documenti/GitHub/cri98tj/venv/lib/python3.8/site-packages/sklearn/utils/validation.py:1111: DataConversionWarning: A column-vector y was passed when a 1d array was expected. Please change the shape of y to (n_samples, ), for example using ravel().\n",
      "  y = column_or_1d(y, warn=True)\n"
     ]
    },
    {
     "name": "stdout",
     "output_type": "stream",
     "text": [
      "0.\t score=0.47337294096579274\n",
      "1.\t score=0.4037380071906047\n",
      "2.\t score=0.3208375167281947\n",
      "3.\t score=0.31077890660766494\n",
      "4.\t score=0.2829206897471266\n",
      "5.\t score=0.2824099720506501\n",
      "6.\t score=0.2503027161314746\n",
      "7.\t score=0.24304159249419022\n",
      "8.\t score=0.23487991670867547\n",
      "9.\t score=0.2320115865524195\n",
      "10.\t score=0.21004170143237966\n",
      "11.\t score=0.20338135971011817\n",
      "12.\t score=0.20128612161488024\n",
      "13.\t score=0.19745400928276768\n",
      "14.\t score=0.19050906533782386\n",
      "15.\t score=0.18967636209335592\n",
      "16.\t score=0.18230105112980954\n",
      "17.\t score=0.18150112882988712\n",
      "18.\t score=0.1785408113695699\n",
      "19.\t score=0.17476542421802188\n",
      "Pivoting tables\n"
     ]
    },
    {
     "data": {
      "application/vnd.jupyter.widget-view+json": {
       "model_id": "dee349bd4c2448b18e92c8f34cfc3511",
       "version_major": 2,
       "version_minor": 0
      },
      "text/plain": [
       "  0%|          | 0/178299 [00:00<?, ?it/s]"
      ]
     },
     "metadata": {},
     "output_type": "display_data"
    },
    {
     "data": {
      "application/vnd.jupyter.widget-view+json": {
       "model_id": "00a17c2501fd40e6962e025f41d24b30",
       "version_major": 2,
       "version_minor": 0
      },
      "text/plain": [
       "  0%|          | 0/20 [00:00<?, ?it/s]"
      ]
     },
     "metadata": {},
     "output_type": "display_data"
    },
    {
     "name": "stdout",
     "output_type": "stream",
     "text": [
      "Collecting distances from 20\n"
     ]
    },
    {
     "data": {
      "application/vnd.jupyter.widget-view+json": {
       "model_id": "9c2131ca1da445d58e8e8dfb86d9ec65",
       "version_major": 2,
       "version_minor": 0
      },
      "text/plain": [
       "  0%|          | 0/20 [00:00<?, ?it/s]"
      ]
     },
     "metadata": {},
     "output_type": "display_data"
    },
    {
     "name": "stdout",
     "output_type": "stream",
     "text": [
      "CPU times: user 7.03 s, sys: 645 ms, total: 7.68 s\n",
      "Wall time: 50.1 s\n"
     ]
    }
   ],
   "source": [
    "%%time\n",
    "\n",
    "from sklearn.model_selection import train_test_split\n",
    "\n",
    "spatioTemporalCols = [\"c1\", \"c2\", \"t\"]\n",
    "tid_train, tid_test, _, _ = train_test_split(df_geo.groupby(by=[\"tid\"]).max().reset_index()[\"tid\"],\n",
    "                                                            df_geo.groupby(by=[\"tid\"]).max().reset_index()[\"class\"],\n",
    "                                                            test_size=.3,\n",
    "                                                            stratify=df_geo.groupby(by=[\"tid\"]).max().reset_index()[\"class\"],\n",
    "                                                            random_state=3)\n",
    "\n",
    "partitioner = Geohash_partitioner(precision=6, spatioTemporalColumns=spatioTemporalCols)\n",
    "\n",
    "\n",
    "normalizer = FirstPoint_normalizer(spatioTemporalColumns=spatioTemporalCols, fillna=None)\n",
    "#selector = Random_selector(movelets_per_class=20, normalizer=normalizer,\n",
    "#                                   spatioTemporalColumns=spatioTemporalCols)\n",
    "selector = RandomInformationGain_selector(top_k=20, bestFittingMeasure=InterpolatedRootDistanceBestFitting,\n",
    "                                                  movelets_per_class=300, trajectories_for_orderline=50, n_jobs=24,\n",
    "                                                  spatioTemporalColumns=spatioTemporalCols, normalizer=normalizer)\n",
    "distancer = InterpolatedRootDistance_distancer(normalizer=normalizer, spatioTemporalColumns=spatioTemporalCols, n_jobs=24)\n",
    "\n",
    "part = partitioner.fit_transform(df_geo[df_geo.tid.isin(tid_train)].values)\n",
    "shapelets = selector.fit_transform(part)\n",
    "best_is, dist_np = distancer.fit_transform((df_geo.values, shapelets))"
   ]
  },
  {
   "cell_type": "code",
   "execution_count": 36,
   "id": "3a7b3cf2",
   "metadata": {},
   "outputs": [
    {
     "name": "stdout",
     "output_type": "stream",
     "text": [
      "Model with rank: 1\n",
      "Mean validation score: 0.963 (std: 0.023)\n",
      "Parameters: {'criterion': 'entropy', 'max_depth': 12, 'n_estimators': 600}\n",
      "\n",
      "Model with rank: 1\n",
      "Mean validation score: 0.963 (std: 0.023)\n",
      "Parameters: {'criterion': 'gini', 'max_depth': 12, 'n_estimators': 300}\n",
      "\n",
      "Model with rank: 3\n",
      "Mean validation score: 0.963 (std: 0.023)\n",
      "Parameters: {'criterion': 'entropy', 'max_depth': 7, 'n_estimators': 300}\n",
      "\n",
      "Model with rank: 3\n",
      "Mean validation score: 0.963 (std: 0.023)\n",
      "Parameters: {'criterion': 'entropy', 'max_depth': 7, 'n_estimators': 1200}\n",
      "\n",
      "Model with rank: 3\n",
      "Mean validation score: 0.963 (std: 0.023)\n",
      "Parameters: {'criterion': 'entropy', 'max_depth': 12, 'n_estimators': 1200}\n",
      "\n",
      "Model with rank: 3\n",
      "Mean validation score: 0.963 (std: 0.023)\n",
      "Parameters: {'criterion': 'entropy', 'max_depth': 17, 'n_estimators': 300}\n",
      "\n",
      "Model with rank: 3\n",
      "Mean validation score: 0.963 (std: 0.023)\n",
      "Parameters: {'criterion': 'entropy', 'max_depth': 17, 'n_estimators': 1200}\n",
      "\n"
     ]
    }
   ],
   "source": [
    "from sklearn.ensemble import RandomForestClassifier\n",
    "from sklearn import tree\n",
    "\n",
    "dist_np_df = pd.DataFrame(dist_np)\n",
    "X = dist_np_df.drop(columns=[0]).values\n",
    "y = dist_np_df[0].values\n",
    "\n",
    "X_train, X_test, y_train, y_test = train_test_split(X, y, test_size=.3, stratify=y, random_state=3)\n",
    "\n",
    "\n",
    "def report(results, n_top=3):\n",
    "    for i in range(1, n_top + 1):\n",
    "        candidates = np.flatnonzero(results['rank_test_score'] == i)\n",
    "        for candidate in candidates:\n",
    "            print(\"Model with rank: {0}\".format(i))\n",
    "            print(\"Mean validation score: {0:.3f} (std: {1:.3f})\".format(\n",
    "                results['mean_test_score'][candidate],\n",
    "                results['std_test_score'][candidate]))\n",
    "            print(\"Parameters: {0}\".format(results['params'][candidate]))\n",
    "            print(\"\")\n",
    "\n",
    "from sklearn.model_selection import GridSearchCV\n",
    "parameters = {'n_estimators': range(300, 1500, 300),\n",
    "              'criterion':[\"entropy\", \"gini\"],\n",
    "              'max_depth': range(2, 20, 5)}\n",
    "\n",
    "clf = GridSearchCV(RandomForestClassifier(n_jobs=1), parameters, cv=10, n_jobs=24, verbose=0, scoring=\"accuracy\")\n",
    "\n",
    "clf.fit(X_train, y_train)\n",
    "\n",
    "report(clf.cv_results_, n_top=3)"
   ]
  },
  {
   "cell_type": "code",
   "execution_count": 37,
   "id": "42bc8f1e",
   "metadata": {},
   "outputs": [
    {
     "name": "stdout",
     "output_type": "stream",
     "text": [
      "              precision    recall  f1-score   support\n",
      "\n",
      "           B       1.00      0.85      0.92        33\n",
      "           T       0.94      1.00      0.97        82\n",
      "\n",
      "    accuracy                           0.96       115\n",
      "   macro avg       0.97      0.92      0.94       115\n",
      "weighted avg       0.96      0.96      0.96       115\n",
      "\n"
     ]
    }
   ],
   "source": [
    "rf = clf.best_estimator_\n",
    "\n",
    "rf.fit(X_train, y_train)\n",
    "\n",
    "from sklearn.metrics import classification_report\n",
    "\n",
    "y_pred = rf.predict(X_test)\n",
    "\n",
    "print(classification_report(y_test, y_pred))"
   ]
  },
  {
   "cell_type": "code",
   "execution_count": null,
   "id": "14591559",
   "metadata": {},
   "outputs": [],
   "source": []
  },
  {
   "cell_type": "code",
   "execution_count": null,
   "id": "1297284d",
   "metadata": {},
   "outputs": [],
   "source": []
  },
  {
   "cell_type": "code",
   "execution_count": null,
   "id": "e3457a4c",
   "metadata": {},
   "outputs": [],
   "source": []
  },
  {
   "cell_type": "code",
   "execution_count": null,
   "id": "1c805b12",
   "metadata": {},
   "outputs": [],
   "source": []
  }
 ],
 "metadata": {
  "kernelspec": {
   "display_name": "Python 3 (ipykernel)",
   "language": "python",
   "name": "python3"
  },
  "language_info": {
   "codemirror_mode": {
    "name": "ipython",
    "version": 3
   },
   "file_extension": ".py",
   "mimetype": "text/x-python",
   "name": "python",
   "nbconvert_exporter": "python",
   "pygments_lexer": "ipython3",
   "version": "3.8.13"
  }
 },
 "nbformat": 4,
 "nbformat_minor": 5
}
