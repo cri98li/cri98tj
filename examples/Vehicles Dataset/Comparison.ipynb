{
 "cells": [
  {
   "cell_type": "markdown",
   "id": "271fa193",
   "metadata": {},
   "source": [
    "# Vehicles"
   ]
  },
  {
   "cell_type": "code",
   "execution_count": 1,
   "id": "00b575f0",
   "metadata": {},
   "outputs": [],
   "source": [
    "import matplotlib.pyplot as plt\n",
    "import pandas as pd\n",
    "import numpy as np\n",
    "from tqdm.notebook import tqdm\n",
    "import math\n",
    "import glob\n",
    "from datetime import datetime"
   ]
  },
  {
   "cell_type": "code",
   "execution_count": 2,
   "id": "fc181a72",
   "metadata": {},
   "outputs": [
    {
     "data": {
      "text/html": [
       "<div>\n",
       "<style scoped>\n",
       "    .dataframe tbody tr th:only-of-type {\n",
       "        vertical-align: middle;\n",
       "    }\n",
       "\n",
       "    .dataframe tbody tr th {\n",
       "        vertical-align: top;\n",
       "    }\n",
       "\n",
       "    .dataframe thead th {\n",
       "        text-align: right;\n",
       "    }\n",
       "</style>\n",
       "<table border=\"1\" class=\"dataframe\">\n",
       "  <thead>\n",
       "    <tr style=\"text-align: right;\">\n",
       "      <th></th>\n",
       "      <th>tid</th>\n",
       "      <th>class</th>\n",
       "      <th>c1</th>\n",
       "      <th>c2</th>\n",
       "      <th>t</th>\n",
       "    </tr>\n",
       "  </thead>\n",
       "  <tbody>\n",
       "    <tr>\n",
       "      <th>0</th>\n",
       "      <td>30901</td>\n",
       "      <td>B</td>\n",
       "      <td>42.077160</td>\n",
       "      <td>4.738411</td>\n",
       "      <td>0</td>\n",
       "    </tr>\n",
       "    <tr>\n",
       "      <th>1</th>\n",
       "      <td>30901</td>\n",
       "      <td>B</td>\n",
       "      <td>42.077246</td>\n",
       "      <td>4.739088</td>\n",
       "      <td>30</td>\n",
       "    </tr>\n",
       "    <tr>\n",
       "      <th>2</th>\n",
       "      <td>30901</td>\n",
       "      <td>B</td>\n",
       "      <td>42.077259</td>\n",
       "      <td>4.739096</td>\n",
       "      <td>60</td>\n",
       "    </tr>\n",
       "    <tr>\n",
       "      <th>3</th>\n",
       "      <td>30901</td>\n",
       "      <td>B</td>\n",
       "      <td>42.077369</td>\n",
       "      <td>4.739158</td>\n",
       "      <td>90</td>\n",
       "    </tr>\n",
       "    <tr>\n",
       "      <th>4</th>\n",
       "      <td>30901</td>\n",
       "      <td>B</td>\n",
       "      <td>42.077635</td>\n",
       "      <td>4.739343</td>\n",
       "      <td>120</td>\n",
       "    </tr>\n",
       "  </tbody>\n",
       "</table>\n",
       "</div>"
      ],
      "text/plain": [
       "     tid class         c1        c2    t\n",
       "0  30901     B  42.077160  4.738411    0\n",
       "1  30901     B  42.077246  4.739088   30\n",
       "2  30901     B  42.077259  4.739096   60\n",
       "3  30901     B  42.077369  4.739158   90\n",
       "4  30901     B  42.077635  4.739343  120"
      ]
     },
     "execution_count": 2,
     "metadata": {},
     "output_type": "execute_result"
    }
   ],
   "source": [
    "df_original = pd.read_csv('data/vehicles_preapred.zip').sort_values(by=[\"tid\", \"t\"])\n",
    "df_original[\"c1\"] = df_original.c1/100000\n",
    "df_original[\"c2\"] = df_original.c2/100000\n",
    "\n",
    "df = df_original[[\"tid\", \"class\", \"c1\", \"c2\", \"t\"]].copy()\n",
    "\n",
    "df.head()\n",
    "\n",
    "df0 = df[[\"tid\", \"class\", \"c1\", \"c2\", \"t\"]]\n",
    "\n",
    "df.head()"
   ]
  },
  {
   "cell_type": "markdown",
   "id": "94458c1a",
   "metadata": {},
   "source": [
    "## Rocket"
   ]
  },
  {
   "cell_type": "code",
   "execution_count": 3,
   "id": "b854a025",
   "metadata": {},
   "outputs": [],
   "source": [
    "t_rocket = 0\n",
    "\n",
    "start = datetime.now()\n",
    "\n",
    "df0[\"pos\"] = df0.groupby(['tid']).cumcount()\n",
    "\n",
    "t_rocket = (datetime.now() - start).total_seconds() * 1000 #ms"
   ]
  },
  {
   "cell_type": "code",
   "execution_count": 4,
   "id": "c3d46b1a",
   "metadata": {},
   "outputs": [
    {
     "name": "stdout",
     "output_type": "stream",
     "text": [
      "LAT\n"
     ]
    },
    {
     "data": {
      "application/vnd.jupyter.widget-view+json": {
       "model_id": "927fb3dc1d4e4dcba6a946b40e86e816",
       "version_major": 2,
       "version_minor": 0
      },
      "text/plain": [
       "  0%|          | 0/381 [00:00<?, ?it/s]"
      ]
     },
     "metadata": {},
     "output_type": "display_data"
    },
    {
     "name": "stdout",
     "output_type": "stream",
     "text": [
      "LON\n"
     ]
    },
    {
     "data": {
      "application/vnd.jupyter.widget-view+json": {
       "model_id": "1f51fa59fa514575936f1d1e3abae53d",
       "version_major": 2,
       "version_minor": 0
      },
      "text/plain": [
       "  0%|          | 0/381 [00:00<?, ?it/s]"
      ]
     },
     "metadata": {},
     "output_type": "display_data"
    },
    {
     "name": "stdout",
     "output_type": "stream",
     "text": [
      "TIME\n"
     ]
    },
    {
     "data": {
      "application/vnd.jupyter.widget-view+json": {
       "model_id": "fcd8b98395124de5a0b2ce73df355487",
       "version_major": 2,
       "version_minor": 0
      },
      "text/plain": [
       "  0%|          | 0/381 [00:00<?, ?it/s]"
      ]
     },
     "metadata": {},
     "output_type": "display_data"
    }
   ],
   "source": [
    "start = datetime.now()\n",
    "\n",
    "\n",
    "def padLastValue(df):\n",
    "    array = df.values\n",
    "    for i in tqdm(range(len(array))):\n",
    "        for j in range(len(array[i])):\n",
    "            if math.isnan(array[i][j]):\n",
    "                array[i][j] =array[i][j-1]\n",
    "    return pd.DataFrame(array)\n",
    "\n",
    "percentile=.9\n",
    "\n",
    "print(\"LAT\")\n",
    "df_lat = pd.DataFrame()\n",
    "df_lat = df0.groupby(['tid','pos'])['c1'].max().unstack()\n",
    "df_lat = padLastValue(df_lat)\n",
    "\n",
    "print(\"LON\")\n",
    "df_lon = pd.DataFrame()\n",
    "df_lon = df0.groupby(['tid','pos'])['c2'].max().unstack()\n",
    "df_lon = padLastValue(df_lon)\n",
    "\n",
    "print(\"TIME\")\n",
    "df_time = pd.DataFrame()\n",
    "df_time = df0.groupby(['tid','pos'])['t'].max().unstack()\n",
    "df_time = padLastValue(df_time)\n",
    "\n",
    "t_rocket = (datetime.now() - start).total_seconds() * 1000 #ms"
   ]
  },
  {
   "cell_type": "code",
   "execution_count": 5,
   "id": "2eac51fe",
   "metadata": {},
   "outputs": [
    {
     "name": "stderr",
     "output_type": "stream",
     "text": [
      "C:\\Users\\cri98\\anaconda3\\lib\\site-packages\\sktime\\datatypes\\_series\\_check.py:43: FutureWarning: pandas.Int64Index is deprecated and will be removed from pandas in a future version. Use pandas.Index with the appropriate dtype instead.\n",
      "  VALID_INDEX_TYPES = (pd.Int64Index, pd.RangeIndex, pd.PeriodIndex, pd.DatetimeIndex)\n",
      "C:\\Users\\cri98\\anaconda3\\lib\\site-packages\\sktime\\datatypes\\_hierarchical\\_check.py:50: FutureWarning: pandas.Int64Index is deprecated and will be removed from pandas in a future version. Use pandas.Index with the appropriate dtype instead.\n",
      "  VALID_INDEX_TYPES = (pd.Int64Index, pd.RangeIndex, pd.PeriodIndex, pd.DatetimeIndex)\n",
      "C:\\Users\\cri98\\anaconda3\\lib\\site-packages\\sktime\\datatypes\\_hierarchical\\_check.py:51: FutureWarning: pandas.Int64Index is deprecated and will be removed from pandas in a future version. Use pandas.Index with the appropriate dtype instead.\n",
      "  VALID_MULTIINDEX_TYPES = (pd.Int64Index, pd.RangeIndex)\n",
      "C:\\Users\\cri98\\anaconda3\\lib\\site-packages\\sktime\\datatypes\\_panel\\_check.py:48: FutureWarning: pandas.Int64Index is deprecated and will be removed from pandas in a future version. Use pandas.Index with the appropriate dtype instead.\n",
      "  VALID_INDEX_TYPES = (pd.Int64Index, pd.RangeIndex, pd.PeriodIndex, pd.DatetimeIndex)\n",
      "C:\\Users\\cri98\\anaconda3\\lib\\site-packages\\sktime\\datatypes\\_panel\\_check.py:49: FutureWarning: pandas.Int64Index is deprecated and will be removed from pandas in a future version. Use pandas.Index with the appropriate dtype instead.\n",
      "  VALID_MULTIINDEX_TYPES = (pd.Int64Index, pd.RangeIndex)\n",
      "C:\\Users\\cri98\\anaconda3\\lib\\site-packages\\sktime\\datatypes\\_proba\\_check.py:43: FutureWarning: pandas.Int64Index is deprecated and will be removed from pandas in a future version. Use pandas.Index with the appropriate dtype instead.\n",
      "  VALID_INDEX_TYPES = (pd.Int64Index, pd.RangeIndex, pd.PeriodIndex, pd.DatetimeIndex)\n"
     ]
    }
   ],
   "source": [
    "start = datetime.now()\n",
    "\n",
    "from sktime.transformations.panel.rocket import Rocket\n",
    "from sktime.datatypes._panel._convert import from_2d_array_to_nested\n",
    "\n",
    "nested_lat = from_2d_array_to_nested(df_lat).rename(columns={0: \"dim_0\"})\n",
    "nested_lon = from_2d_array_to_nested(df_lon).rename(columns={0: \"dim_0\"})\n",
    "nested_time = from_2d_array_to_nested(df_time).rename(columns={0: \"dim_0\"})\n",
    "\n",
    "\n",
    "nested = nested_lat\n",
    "#nested = nested_UTMGridNorth\n",
    "\n",
    "nested[\"dim_1\"] = nested_lon[\"dim_0\"]\n",
    "nested[\"dim_2\"] = nested_time[\"dim_0\"]\n",
    "\n",
    "nested.head()\n",
    "\n",
    "y = df0.groupby(['tid'])['class'].max()\n",
    "\n",
    "t_rocket = (datetime.now() - start).total_seconds() * 1000 #ms"
   ]
  },
  {
   "cell_type": "code",
   "execution_count": null,
   "id": "0475a925",
   "metadata": {},
   "outputs": [],
   "source": []
  },
  {
   "cell_type": "code",
   "execution_count": null,
   "id": "cb45db90",
   "metadata": {},
   "outputs": [],
   "source": []
  },
  {
   "cell_type": "code",
   "execution_count": 6,
   "id": "d86eb1f4",
   "metadata": {},
   "outputs": [],
   "source": [
    "start = datetime.now()\n",
    "\n",
    "from sklearn.model_selection import train_test_split\n",
    "X_train, X_test, y_train, y_test = train_test_split(nested, y, test_size=.3, stratify=y)\n",
    "\n",
    "rocket = Rocket(n_jobs=-1, num_kernels=10000)  # by default, ROCKET uses 10,000 kernels\n",
    "rocket.fit(X_train)\n",
    "X_train_transform = rocket.transform(X_train)\n",
    "X_test_transform = rocket.transform(X_test)\n",
    "\n",
    "t_rocket = (datetime.now() - start).total_seconds() * 1000 #ms"
   ]
  },
  {
   "cell_type": "code",
   "execution_count": 7,
   "id": "1979b654",
   "metadata": {
    "scrolled": true
   },
   "outputs": [
    {
     "name": "stdout",
     "output_type": "stream",
     "text": [
      "Fitting 10 folds for each of 32 candidates, totalling 320 fits\n",
      "Model with rank: 1\n",
      "Mean validation score: 0.903 (std: 0.062)\n",
      "Parameters: {'criterion': 'gini', 'max_depth': 12, 'n_estimators': 300}\n",
      "\n",
      "Model with rank: 2\n",
      "Mean validation score: 0.900 (std: 0.065)\n",
      "Parameters: {'criterion': 'gini', 'max_depth': 12, 'n_estimators': 1200}\n",
      "\n",
      "Model with rank: 2\n",
      "Mean validation score: 0.900 (std: 0.065)\n",
      "Parameters: {'criterion': 'gini', 'max_depth': 17, 'n_estimators': 600}\n",
      "\n"
     ]
    }
   ],
   "source": [
    "from sklearn.ensemble import RandomForestClassifier\n",
    "from sklearn import tree\n",
    "\n",
    "def report(results, n_top=3):\n",
    "    for i in range(1, n_top + 1):\n",
    "        candidates = np.flatnonzero(results['rank_test_score'] == i)\n",
    "        for candidate in candidates:\n",
    "            print(\"Model with rank: {0}\".format(i))\n",
    "            print(\"Mean validation score: {0:.3f} (std: {1:.3f})\".format(\n",
    "                results['mean_test_score'][candidate],\n",
    "                results['std_test_score'][candidate]))\n",
    "            print(\"Parameters: {0}\".format(results['params'][candidate]))\n",
    "            print(\"\")\n",
    "\n",
    "from sklearn.model_selection import GridSearchCV\n",
    "parameters = {'n_estimators': range(300, 1500, 300),\n",
    "              'criterion':[\"entropy\", \"gini\"],\n",
    "              'max_depth': range(2, 20, 5)}\n",
    "\n",
    "clf = GridSearchCV(RandomForestClassifier(n_jobs=1), parameters, cv=10, n_jobs=24, verbose=3, scoring=\"balanced_accuracy\")\n",
    "\n",
    "clf.fit(X_train_transform, y_train)\n",
    "\n",
    "report(clf.cv_results_, n_top=3)"
   ]
  },
  {
   "cell_type": "code",
   "execution_count": 8,
   "id": "c886a1df",
   "metadata": {},
   "outputs": [
    {
     "name": "stdout",
     "output_type": "stream",
     "text": [
      "              precision    recall  f1-score   support\n",
      "\n",
      "           B       0.96      0.79      0.87        33\n",
      "           T       0.92      0.99      0.95        82\n",
      "\n",
      "    accuracy                           0.93       115\n",
      "   macro avg       0.94      0.89      0.91       115\n",
      "weighted avg       0.93      0.93      0.93       115\n",
      "\n"
     ]
    }
   ],
   "source": [
    "clf = RandomForestClassifier(max_depth=12, criterion='gini', random_state=5, n_jobs=-1, n_estimators=300)\n",
    "#clf = tree.DecisionTreeClassifier(max_depth=2)\n",
    "\n",
    "clf.fit(X_train_transform, y_train)\n",
    "\n",
    "from sklearn import metrics\n",
    "y_pred=clf.predict(X_test_transform)\n",
    "\n",
    "\n",
    "from sklearn.metrics import classification_report\n",
    "\n",
    "print(classification_report(y_test, y_pred))"
   ]
  },
  {
   "cell_type": "code",
   "execution_count": 9,
   "id": "3f149ebe",
   "metadata": {},
   "outputs": [
    {
     "name": "stdout",
     "output_type": "stream",
     "text": [
      "0.9304347826086956\n",
      "0.9281841432225063\n"
     ]
    }
   ],
   "source": [
    "from sklearn.metrics import accuracy_score, f1_score\n",
    "\n",
    "print(accuracy_score(y_test, y_pred))\n",
    "print(f1_score(y_test, y_pred, average=\"weighted\"))"
   ]
  },
  {
   "cell_type": "code",
   "execution_count": 10,
   "id": "edb36d41",
   "metadata": {},
   "outputs": [
    {
     "data": {
      "text/plain": [
       "9041.043"
      ]
     },
     "execution_count": 10,
     "metadata": {},
     "output_type": "execute_result"
    }
   ],
   "source": [
    "t_rocket"
   ]
  },
  {
   "cell_type": "markdown",
   "id": "7f1476d8",
   "metadata": {},
   "source": [
    "## Movelets"
   ]
  },
  {
   "cell_type": "code",
   "execution_count": 13,
   "id": "676d4805",
   "metadata": {},
   "outputs": [
    {
     "data": {
      "application/vnd.jupyter.widget-view+json": {
       "model_id": "0dfb6a99f7d14dd094cfb96d818a871f",
       "version_major": 2,
       "version_minor": 0
      },
      "text/plain": [
       "  0%|          | 0/267 [00:00<?, ?it/s]"
      ]
     },
     "metadata": {},
     "output_type": "display_data"
    },
    {
     "data": {
      "application/vnd.jupyter.widget-view+json": {
       "model_id": "5ad0de0438284e75b15696c6dbd5ddc8",
       "version_major": 2,
       "version_minor": 0
      },
      "text/plain": [
       "  0%|          | 0/114 [00:00<?, ?it/s]"
      ]
     },
     "metadata": {},
     "output_type": "display_data"
    },
    {
     "name": "stdout",
     "output_type": "stream",
     "text": [
      "[CV 8/10] END criterion=entropy, max_depth=2, n_estimators=300;, score=0.857 total time=   2.2s\n",
      "[CV 9/10] END criterion=entropy, max_depth=2, n_estimators=900;, score=0.714 total time=   5.9s\n",
      "[CV 7/10] END criterion=entropy, max_depth=7, n_estimators=600;, score=0.831 total time=   6.6s\n",
      "[CV 10/10] END criterion=entropy, max_depth=7, n_estimators=1200;, score=0.929 total time=  12.7s\n",
      "[CV 8/10] END criterion=entropy, max_depth=12, n_estimators=1200;, score=0.929 total time=  12.7s\n",
      "[CV 2/10] END criterion=entropy, max_depth=17, n_estimators=1200;, score=0.875 total time=  12.7s\n",
      "[CV 7/10] END criterion=gini, max_depth=2, n_estimators=1200;, score=0.786 total time=   5.5s\n",
      "[CV 9/10] END criterion=gini, max_depth=7, n_estimators=900;, score=0.786 total time=   8.5s\n",
      "[CV 8/10] END criterion=gini, max_depth=12, n_estimators=600;, score=1.000 total time=   6.1s\n",
      "[CV 1/10] END criterion=gini, max_depth=17, n_estimators=300;, score=0.689 total time=   3.2s\n",
      "[CV 5/10] END criterion=gini, max_depth=17, n_estimators=300;, score=0.875 total time=   3.3s\n",
      "[CV 7/10] END criterion=gini, max_depth=17, n_estimators=600;, score=0.831 total time=   6.3s\n",
      "[CV 9/10] END criterion=entropy, max_depth=2, n_estimators=600;, score=0.714 total time=   4.0s\n",
      "[CV 8/10] END criterion=entropy, max_depth=2, n_estimators=1200;, score=0.857 total time=   7.6s\n",
      "[CV 10/10] END criterion=entropy, max_depth=7, n_estimators=900;, score=0.929 total time=   9.6s\n",
      "[CV 8/10] END criterion=entropy, max_depth=12, n_estimators=600;, score=0.929 total time=   6.6s\n",
      "[CV 2/10] END criterion=entropy, max_depth=17, n_estimators=300;, score=0.875 total time=   3.4s\n",
      "[CV 5/10] END criterion=entropy, max_depth=17, n_estimators=300;, score=0.875 total time=   3.3s\n",
      "[CV 7/10] END criterion=entropy, max_depth=17, n_estimators=600;, score=0.831 total time=   6.5s\n",
      "[CV 10/10] END criterion=entropy, max_depth=17, n_estimators=1200;, score=0.929 total time=  12.7s\n",
      "[CV 4/10] END criterion=gini, max_depth=7, n_estimators=600;, score=0.812 total time=   5.7s\n",
      "[CV 5/10] END criterion=gini, max_depth=7, n_estimators=1200;, score=0.849 total time=  11.2s\n",
      "[CV 9/10] END criterion=gini, max_depth=12, n_estimators=900;, score=0.786 total time=   9.1s\n",
      "[CV 8/10] END criterion=gini, max_depth=17, n_estimators=600;, score=1.000 total time=   6.2s\n",
      "[CV 2/10] END criterion=entropy, max_depth=2, n_estimators=300;, score=0.849 total time=   2.2s\n",
      "[CV 6/10] END criterion=entropy, max_depth=2, n_estimators=900;, score=0.688 total time=   6.0s\n",
      "[CV 8/10] END criterion=entropy, max_depth=7, n_estimators=600;, score=0.929 total time=   7.1s\n",
      "[CV 2/10] END criterion=entropy, max_depth=12, n_estimators=300;, score=0.849 total time=   3.6s\n",
      "[CV 6/10] END criterion=entropy, max_depth=12, n_estimators=300;, score=0.938 total time=   3.7s\n",
      "[CV 10/10] END criterion=entropy, max_depth=12, n_estimators=600;, score=0.929 total time=   6.8s\n",
      "[CV 4/10] END criterion=entropy, max_depth=17, n_estimators=300;, score=0.812 total time=   3.5s\n",
      "[CV 1/10] END criterion=entropy, max_depth=17, n_estimators=600;, score=0.689 total time=   6.9s\n",
      "[CV 8/10] END criterion=entropy, max_depth=17, n_estimators=900;, score=0.929 total time=  10.1s\n",
      "[CV 2/10] END criterion=gini, max_depth=2, n_estimators=1200;, score=0.875 total time=   5.6s\n",
      "[CV 6/10] END criterion=gini, max_depth=7, n_estimators=600;, score=1.000 total time=   6.1s\n",
      "[CV 10/10] END criterion=gini, max_depth=7, n_estimators=1200;, score=0.929 total time=  11.6s\n",
      "[CV 2/10] END criterion=gini, max_depth=17, n_estimators=300;, score=0.822 total time=   3.4s\n",
      "[CV 6/10] END criterion=gini, max_depth=17, n_estimators=300;, score=1.000 total time=   3.4s\n",
      "[CV 9/10] END criterion=gini, max_depth=17, n_estimators=600;, score=0.786 total time=   6.2s\n",
      "[CV 1/10] END criterion=entropy, max_depth=2, n_estimators=600;, score=0.618 total time=   4.1s\n",
      "[CV 9/10] END criterion=entropy, max_depth=2, n_estimators=1200;, score=0.714 total time=   7.6s\n",
      "[CV 3/10] END criterion=entropy, max_depth=7, n_estimators=1200;, score=0.849 total time=  12.9s\n",
      "[CV 7/10] END criterion=entropy, max_depth=12, n_estimators=900;, score=0.831 total time=   9.6s\n",
      "[CV 4/10] END criterion=entropy, max_depth=17, n_estimators=600;, score=0.812 total time=   6.4s\n",
      "[CV 7/10] END criterion=entropy, max_depth=17, n_estimators=1200;, score=0.831 total time=  13.1s\n",
      "[CV 2/10] END criterion=gini, max_depth=7, n_estimators=600;, score=0.822 total time=   6.0s\n",
      "[CV 8/10] END criterion=gini, max_depth=7, n_estimators=1200;, score=1.000 total time=  11.4s\n",
      "[CV 10/10] END criterion=gini, max_depth=12, n_estimators=900;, score=0.929 total time=   9.0s\n",
      "[CV 10/10] END criterion=gini, max_depth=17, n_estimators=600;, score=0.929 total time=   6.1s\n",
      "[CV 2/10] END criterion=entropy, max_depth=2, n_estimators=900;, score=0.849 total time=   5.8s\n",
      "[CV 5/10] END criterion=entropy, max_depth=7, n_estimators=300;, score=0.875 total time=   3.4s\n",
      "[CV 9/10] END criterion=entropy, max_depth=7, n_estimators=600;, score=0.857 total time=   6.6s\n",
      "[CV 3/10] END criterion=entropy, max_depth=12, n_estimators=300;, score=0.875 total time=   3.5s\n",
      "[CV 8/10] END criterion=entropy, max_depth=12, n_estimators=300;, score=1.000 total time=   3.6s\n",
      "[CV 3/10] END criterion=entropy, max_depth=12, n_estimators=900;, score=0.849 total time=  10.0s\n",
      "[CV 2/10] END criterion=entropy, max_depth=17, n_estimators=600;, score=0.849 total time=   6.5s\n",
      "[CV 6/10] END criterion=entropy, max_depth=17, n_estimators=900;, score=1.000 total time=   9.7s\n",
      "[CV 8/10] END criterion=gini, max_depth=2, n_estimators=900;, score=0.857 total time=   4.3s\n",
      "[CV 8/10] END criterion=gini, max_depth=7, n_estimators=300;, score=1.000 total time=   3.0s\n",
      "[CV 3/10] END criterion=gini, max_depth=7, n_estimators=900;, score=0.875 total time=   8.7s\n",
      "[CV 8/10] END criterion=gini, max_depth=12, n_estimators=300;, score=1.000 total time=   3.2s\n",
      "[CV 2/10] END criterion=gini, max_depth=12, n_estimators=900;, score=0.849 total time=   9.1s\n",
      "[CV 7/10] END criterion=gini, max_depth=17, n_estimators=300;, score=0.831 total time=   3.3s\n",
      "[CV 1/10] END criterion=gini, max_depth=17, n_estimators=900;, score=0.689 total time=   8.7s\n",
      "[CV 2/10] END criterion=entropy, max_depth=2, n_estimators=600;, score=0.875 total time=   4.1s\n",
      "[CV 5/10] END criterion=entropy, max_depth=2, n_estimators=1200;, score=0.688 total time=   7.5s\n",
      "[CV 9/10] END criterion=entropy, max_depth=7, n_estimators=900;, score=0.786 total time=   9.6s\n",
      "[CV 7/10] END criterion=entropy, max_depth=12, n_estimators=600;, score=0.902 total time=   6.6s\n",
      "[CV 1/10] END criterion=entropy, max_depth=17, n_estimators=300;, score=0.689 total time=   3.5s\n",
      "[CV 6/10] END criterion=entropy, max_depth=17, n_estimators=300;, score=1.000 total time=   3.5s\n",
      "[CV 8/10] END criterion=entropy, max_depth=17, n_estimators=600;, score=0.929 total time=   6.5s\n",
      "[CV 2/10] END criterion=gini, max_depth=2, n_estimators=300;, score=0.849 total time=   1.6s\n",
      "[CV 6/10] END criterion=gini, max_depth=2, n_estimators=300;, score=0.625 total time=   1.6s\n",
      "[CV 10/10] END criterion=gini, max_depth=2, n_estimators=300;, score=0.857 total time=   1.6s\n",
      "[CV 8/10] END criterion=gini, max_depth=2, n_estimators=600;, score=0.857 total time=   2.9s\n",
      "[CV 7/10] END criterion=gini, max_depth=2, n_estimators=900;, score=0.786 total time=   4.3s\n",
      "[CV 7/10] END criterion=gini, max_depth=7, n_estimators=300;, score=0.857 total time=   3.1s\n",
      "[CV 4/10] END criterion=gini, max_depth=7, n_estimators=900;, score=0.812 total time=   8.3s\n",
      "[CV 5/10] END criterion=gini, max_depth=12, n_estimators=300;, score=0.875 total time=   3.2s\n",
      "[CV 9/10] END criterion=gini, max_depth=12, n_estimators=600;, score=0.857 total time=   6.2s\n",
      "[CV 3/10] END criterion=gini, max_depth=17, n_estimators=300;, score=0.875 total time=   3.3s\n",
      "[CV 10/10] END criterion=gini, max_depth=17, n_estimators=300;, score=0.929 total time=   3.3s\n",
      "[CV 3/10] END criterion=gini, max_depth=17, n_estimators=900;, score=0.849 total time=   8.7s\n",
      "[CV 10/10] END criterion=entropy, max_depth=2, n_estimators=600;, score=0.857 total time=   4.0s\n",
      "[CV 10/10] END criterion=entropy, max_depth=2, n_estimators=1200;, score=0.857 total time=   7.6s\n",
      "[CV 4/10] END criterion=entropy, max_depth=7, n_estimators=1200;, score=0.812 total time=  12.7s\n",
      "[CV 6/10] END criterion=entropy, max_depth=12, n_estimators=900;, score=1.000 total time=   9.9s\n",
      "[CV 5/10] END criterion=entropy, max_depth=17, n_estimators=600;, score=0.875 total time=   6.5s\n",
      "[CV 9/10] END criterion=entropy, max_depth=17, n_estimators=1200;, score=0.786 total time=  12.8s\n",
      "[CV 10/10] END criterion=gini, max_depth=7, n_estimators=300;, score=0.929 total time=   3.0s\n",
      "[CV 6/10] END criterion=gini, max_depth=7, n_estimators=900;, score=0.938 total time=   8.6s\n",
      "[CV 9/10] END criterion=gini, max_depth=12, n_estimators=300;, score=0.929 total time=   3.4s\n",
      "[CV 4/10] END criterion=gini, max_depth=12, n_estimators=900;, score=0.812 total time=   8.8s\n",
      "[CV 9/10] END criterion=gini, max_depth=17, n_estimators=300;, score=0.857 total time=   3.3s\n",
      "[CV 4/10] END criterion=gini, max_depth=17, n_estimators=900;, score=0.812 total time=   8.9s\n",
      "[CV 7/10] END criterion=entropy, max_depth=2, n_estimators=600;, score=0.786 total time=   4.1s\n",
      "[CV 1/10] END criterion=entropy, max_depth=7, n_estimators=300;, score=0.689 total time=   3.4s\n",
      "[CV 9/10] END criterion=entropy, max_depth=7, n_estimators=300;, score=0.786 total time=   3.5s\n",
      "[CV 7/10] END criterion=entropy, max_depth=7, n_estimators=900;, score=0.831 total time=   9.6s\n",
      "[CV 5/10] END criterion=entropy, max_depth=12, n_estimators=600;, score=0.875 total time=   6.5s\n",
      "[CV 6/10] END criterion=entropy, max_depth=12, n_estimators=1200;, score=1.000 total time=  13.0s\n",
      "[CV 6/10] END criterion=entropy, max_depth=17, n_estimators=1200;, score=1.000 total time=  12.9s\n",
      "[CV 6/10] END criterion=gini, max_depth=7, n_estimators=300;, score=1.000 total time=   3.2s\n",
      "[CV 2/10] END criterion=gini, max_depth=7, n_estimators=900;, score=0.822 total time=   8.6s\n",
      "[CV 6/10] END criterion=gini, max_depth=12, n_estimators=300;, score=1.000 total time=   3.2s\n",
      "[CV 10/10] END criterion=gini, max_depth=12, n_estimators=600;, score=0.929 total time=   6.1s\n",
      "[CV 4/10] END criterion=gini, max_depth=17, n_estimators=300;, score=0.812 total time=   3.2s\n",
      "[CV 8/10] END criterion=gini, max_depth=17, n_estimators=300;, score=1.000 total time=   3.3s\n",
      "[CV 2/10] END criterion=gini, max_depth=17, n_estimators=900;, score=0.875 total time=   9.0s\n"
     ]
    },
    {
     "name": "stdout",
     "output_type": "stream",
     "text": [
      "[CV 10/10] END criterion=entropy, max_depth=2, n_estimators=300;, score=0.857 total time=   2.2s\n",
      "[CV 2/10] END criterion=entropy, max_depth=2, n_estimators=1200;, score=0.849 total time=   7.7s\n",
      "[CV 5/10] END criterion=entropy, max_depth=7, n_estimators=900;, score=0.875 total time=   9.4s\n",
      "[CV 9/10] END criterion=entropy, max_depth=12, n_estimators=300;, score=0.786 total time=   3.5s\n",
      "[CV 2/10] END criterion=entropy, max_depth=12, n_estimators=900;, score=0.875 total time=   9.6s\n",
      "[CV 9/10] END criterion=entropy, max_depth=17, n_estimators=300;, score=0.786 total time=   3.4s\n",
      "[CV 3/10] END criterion=entropy, max_depth=17, n_estimators=900;, score=0.849 total time=   9.7s\n",
      "[CV 3/10] END criterion=gini, max_depth=2, n_estimators=600;, score=0.750 total time=   3.0s\n",
      "[CV 2/10] END criterion=gini, max_depth=2, n_estimators=900;, score=0.849 total time=   4.3s\n",
      "[CV 1/10] END criterion=gini, max_depth=7, n_estimators=300;, score=0.761 total time=   3.1s\n",
      "[CV 8/10] END criterion=gini, max_depth=7, n_estimators=600;, score=1.000 total time=   5.9s\n",
      "[CV 2/10] END criterion=gini, max_depth=12, n_estimators=300;, score=0.875 total time=   3.3s\n",
      "[CV 2/10] END criterion=gini, max_depth=12, n_estimators=600;, score=0.849 total time=   6.3s\n",
      "[CV 5/10] END criterion=gini, max_depth=12, n_estimators=1200;, score=0.875 total time=  12.1s\n",
      "[CV 10/10] END criterion=gini, max_depth=17, n_estimators=900;, score=0.929 total time=   7.8s\n",
      "[CV 6/10] END criterion=entropy, max_depth=2, n_estimators=600;, score=0.688 total time=   4.0s\n",
      "[CV 6/10] END criterion=entropy, max_depth=2, n_estimators=1200;, score=0.688 total time=   7.6s\n",
      "[CV 2/10] END criterion=entropy, max_depth=7, n_estimators=1200;, score=0.849 total time=  12.7s\n",
      "[CV 5/10] END criterion=entropy, max_depth=12, n_estimators=900;, score=0.875 total time=   9.6s\n",
      "[CV 3/10] END criterion=entropy, max_depth=17, n_estimators=600;, score=0.849 total time=   6.7s\n",
      "[CV 8/10] END criterion=entropy, max_depth=17, n_estimators=1200;, score=0.929 total time=  13.0s\n",
      "[CV 1/10] END criterion=gini, max_depth=7, n_estimators=600;, score=0.761 total time=   6.0s\n",
      "[CV 7/10] END criterion=gini, max_depth=7, n_estimators=1200;, score=0.831 total time=  11.5s\n",
      "[CV 2/10] END criterion=gini, max_depth=12, n_estimators=1200;, score=0.849 total time=  12.4s\n",
      "[CV 7/10] END criterion=gini, max_depth=17, n_estimators=900;, score=0.831 total time=   8.2s\n",
      "[CV 3/10] END criterion=entropy, max_depth=2, n_estimators=600;, score=0.750 total time=   4.1s\n",
      "[CV 7/10] END criterion=entropy, max_depth=2, n_estimators=1200;, score=0.786 total time=   7.6s\n",
      "[CV 1/10] END criterion=entropy, max_depth=7, n_estimators=1200;, score=0.689 total time=  13.1s\n",
      "[CV 8/10] END criterion=entropy, max_depth=12, n_estimators=900;, score=0.929 total time=   9.7s\n",
      "[CV 6/10] END criterion=entropy, max_depth=17, n_estimators=600;, score=1.000 total time=   6.6s\n",
      "[CV 1/10] END criterion=gini, max_depth=2, n_estimators=300;, score=0.618 total time=   1.6s\n",
      "[CV 5/10] END criterion=gini, max_depth=2, n_estimators=300;, score=0.688 total time=   1.6s\n",
      "[CV 9/10] END criterion=gini, max_depth=2, n_estimators=300;, score=0.714 total time=   1.6s\n",
      "[CV 7/10] END criterion=gini, max_depth=2, n_estimators=600;, score=0.786 total time=   2.9s\n",
      "[CV 6/10] END criterion=gini, max_depth=2, n_estimators=900;, score=0.688 total time=   4.2s\n",
      "[CV 5/10] END criterion=gini, max_depth=7, n_estimators=300;, score=0.849 total time=   3.1s\n",
      "[CV 9/10] END criterion=gini, max_depth=7, n_estimators=600;, score=0.786 total time=   5.8s\n",
      "[CV 3/10] END criterion=gini, max_depth=12, n_estimators=300;, score=0.875 total time=   3.3s\n",
      "[CV 3/10] END criterion=gini, max_depth=12, n_estimators=600;, score=0.875 total time=   6.3s\n",
      "[CV 4/10] END criterion=gini, max_depth=12, n_estimators=1200;, score=0.812 total time=  11.7s\n",
      "[CV 5/10] END criterion=gini, max_depth=17, n_estimators=900;, score=0.875 total time=   8.8s\n",
      "[CV 9/10] END criterion=entropy, max_depth=2, n_estimators=300;, score=0.714 total time=   2.3s\n",
      "[CV 4/10] END criterion=entropy, max_depth=2, n_estimators=1200;, score=0.812 total time=   7.9s\n",
      "[CV 6/10] END criterion=entropy, max_depth=7, n_estimators=900;, score=1.000 total time=  10.0s\n",
      "[CV 4/10] END criterion=entropy, max_depth=12, n_estimators=600;, score=0.812 total time=   6.6s\n",
      "[CV 2/10] END criterion=entropy, max_depth=12, n_estimators=1200;, score=0.849 total time=  12.9s\n",
      "[CV 7/10] END criterion=entropy, max_depth=17, n_estimators=900;, score=0.831 total time=   9.8s\n",
      "[CV 10/10] END criterion=gini, max_depth=2, n_estimators=900;, score=0.857 total time=   4.3s\n",
      "[CV 3/10] END criterion=gini, max_depth=7, n_estimators=600;, score=0.875 total time=   5.9s\n",
      "[CV 6/10] END criterion=gini, max_depth=7, n_estimators=1200;, score=0.938 total time=  11.5s\n",
      "[CV 1/10] END criterion=gini, max_depth=12, n_estimators=1200;, score=0.761 total time=  12.4s\n",
      "[CV 6/10] END criterion=gini, max_depth=17, n_estimators=900;, score=0.938 total time=   8.7s\n",
      "[CV 1/10] END criterion=entropy, max_depth=2, n_estimators=300;, score=0.618 total time=   2.4s\n",
      "[CV 3/10] END criterion=entropy, max_depth=2, n_estimators=1200;, score=0.750 total time=   7.6s\n",
      "[CV 4/10] END criterion=entropy, max_depth=7, n_estimators=900;, score=0.812 total time=   9.4s\n",
      "[CV 7/10] END criterion=entropy, max_depth=12, n_estimators=300;, score=0.831 total time=   3.4s\n",
      "[CV 1/10] END criterion=entropy, max_depth=12, n_estimators=900;, score=0.761 total time=   9.8s\n",
      "[CV 8/10] END criterion=entropy, max_depth=17, n_estimators=300;, score=0.929 total time=   3.5s\n",
      "[CV 10/10] END criterion=entropy, max_depth=17, n_estimators=600;, score=0.929 total time=   6.5s\n",
      "[CV 4/10] END criterion=gini, max_depth=2, n_estimators=300;, score=0.812 total time=   1.6s\n",
      "[CV 8/10] END criterion=gini, max_depth=2, n_estimators=300;, score=0.857 total time=   1.7s\n",
      "[CV 4/10] END criterion=gini, max_depth=2, n_estimators=600;, score=0.812 total time=   3.0s\n",
      "[CV 4/10] END criterion=gini, max_depth=2, n_estimators=900;, score=0.812 total time=   4.3s\n",
      "[CV 2/10] END criterion=gini, max_depth=7, n_estimators=300;, score=0.822 total time=   3.1s\n",
      "[CV 7/10] END criterion=gini, max_depth=7, n_estimators=600;, score=0.831 total time=   5.9s\n",
      "[CV 1/10] END criterion=gini, max_depth=12, n_estimators=300;, score=0.689 total time=   3.3s\n",
      "[CV 1/10] END criterion=gini, max_depth=12, n_estimators=600;, score=0.689 total time=   6.1s\n",
      "[CV 3/10] END criterion=gini, max_depth=12, n_estimators=1200;, score=0.875 total time=  12.3s\n",
      "[CV 8/10] END criterion=gini, max_depth=17, n_estimators=900;, score=0.929 total time=   8.9s\n",
      "[CV 3/10] END criterion=entropy, max_depth=2, n_estimators=900;, score=0.750 total time=   5.9s\n",
      "[CV 7/10] END criterion=entropy, max_depth=7, n_estimators=300;, score=0.831 total time=   3.5s\n",
      "[CV 1/10] END criterion=entropy, max_depth=7, n_estimators=900;, score=0.689 total time=   9.9s\n",
      "[CV 1/10] END criterion=entropy, max_depth=12, n_estimators=600;, score=0.761 total time=   6.8s\n",
      "[CV 10/10] END criterion=entropy, max_depth=12, n_estimators=900;, score=0.929 total time=   9.8s\n",
      "[CV 2/10] END criterion=entropy, max_depth=17, n_estimators=900;, score=0.875 total time=   9.9s\n",
      "[CV 5/10] END criterion=gini, max_depth=2, n_estimators=600;, score=0.688 total time=   3.0s\n",
      "[CV 3/10] END criterion=gini, max_depth=2, n_estimators=900;, score=0.750 total time=   4.3s\n",
      "[CV 3/10] END criterion=gini, max_depth=7, n_estimators=300;, score=0.875 total time=   3.2s\n",
      "[CV 1/10] END criterion=gini, max_depth=7, n_estimators=900;, score=0.689 total time=   8.7s\n",
      "[CV 7/10] END criterion=gini, max_depth=12, n_estimators=300;, score=0.831 total time=   3.3s\n",
      "[CV 1/10] END criterion=gini, max_depth=12, n_estimators=900;, score=0.618 total time=   9.2s\n",
      "[CV 1/10] END criterion=gini, max_depth=17, n_estimators=600;, score=0.689 total time=   6.3s\n",
      "[CV 9/10] END criterion=gini, max_depth=17, n_estimators=900;, score=0.857 total time=   9.0s\n",
      "[CV 1/10] END criterion=entropy, max_depth=2, n_estimators=900;, score=0.618 total time=   5.9s\n",
      "[CV 6/10] END criterion=entropy, max_depth=7, n_estimators=300;, score=0.938 total time=   3.5s\n",
      "[CV 10/10] END criterion=entropy, max_depth=7, n_estimators=600;, score=0.929 total time=   6.6s\n",
      "[CV 4/10] END criterion=entropy, max_depth=12, n_estimators=300;, score=0.812 total time=   3.4s\n",
      "[CV 2/10] END criterion=entropy, max_depth=12, n_estimators=600;, score=0.822 total time=   6.6s\n",
      "[CV 9/10] END criterion=entropy, max_depth=12, n_estimators=900;, score=0.786 total time=   9.8s\n",
      "[CV 9/10] END criterion=entropy, max_depth=17, n_estimators=600;, score=0.786 total time=   6.6s\n",
      "[CV 3/10] END criterion=gini, max_depth=2, n_estimators=300;, score=0.750 total time=   1.6s\n",
      "[CV 7/10] END criterion=gini, max_depth=2, n_estimators=300;, score=0.786 total time=   1.6s\n",
      "[CV 2/10] END criterion=gini, max_depth=2, n_estimators=600;, score=0.875 total time=   2.9s\n",
      "[CV 9/10] END criterion=gini, max_depth=2, n_estimators=600;, score=0.714 total time=   2.9s\n",
      "[CV 3/10] END criterion=gini, max_depth=2, n_estimators=1200;, score=0.750 total time=   5.6s\n",
      "[CV 7/10] END criterion=gini, max_depth=7, n_estimators=900;, score=0.831 total time=   8.6s\n",
      "[CV 5/10] END criterion=gini, max_depth=12, n_estimators=600;, score=0.875 total time=   6.1s\n",
      "[CV 6/10] END criterion=gini, max_depth=12, n_estimators=1200;, score=0.938 total time=  12.3s\n",
      "[CV 2/10] END criterion=gini, max_depth=17, n_estimators=1200;, score=0.849 total time=  10.7s\n"
     ]
    },
    {
     "name": "stdout",
     "output_type": "stream",
     "text": [
      "[CV 7/10] END criterion=entropy, max_depth=2, n_estimators=300;, score=0.786 total time=   2.3s\n",
      "[CV 1/10] END criterion=entropy, max_depth=2, n_estimators=1200;, score=0.618 total time=   7.6s\n",
      "[CV 2/10] END criterion=entropy, max_depth=7, n_estimators=900;, score=0.875 total time=   9.6s\n",
      "[CV 10/10] END criterion=entropy, max_depth=12, n_estimators=300;, score=0.929 total time=   3.6s\n",
      "[CV 4/10] END criterion=entropy, max_depth=12, n_estimators=900;, score=0.812 total time=   9.6s\n",
      "[CV 10/10] END criterion=entropy, max_depth=17, n_estimators=300;, score=0.929 total time=   3.5s\n",
      "[CV 4/10] END criterion=entropy, max_depth=17, n_estimators=900;, score=0.812 total time=   9.5s\n",
      "[CV 1/10] END criterion=gini, max_depth=2, n_estimators=600;, score=0.618 total time=   3.0s\n",
      "[CV 10/10] END criterion=gini, max_depth=2, n_estimators=600;, score=0.857 total time=   3.0s\n",
      "[CV 4/10] END criterion=gini, max_depth=2, n_estimators=1200;, score=0.812 total time=   5.5s\n",
      "[CV 8/10] END criterion=gini, max_depth=7, n_estimators=900;, score=0.929 total time=   8.6s\n",
      "[CV 6/10] END criterion=gini, max_depth=12, n_estimators=600;, score=1.000 total time=   6.3s\n",
      "[CV 8/10] END criterion=gini, max_depth=12, n_estimators=1200;, score=1.000 total time=  12.1s\n",
      "[CV 4/10] END criterion=gini, max_depth=17, n_estimators=1200;, score=0.812 total time=  10.8s\n",
      "[CV 4/10] END criterion=entropy, max_depth=2, n_estimators=300;, score=0.812 total time=   2.3s\n",
      "[CV 10/10] END criterion=entropy, max_depth=2, n_estimators=900;, score=0.857 total time=   5.9s\n",
      "[CV 6/10] END criterion=entropy, max_depth=7, n_estimators=600;, score=1.000 total time=   6.6s\n",
      "[CV 9/10] END criterion=entropy, max_depth=7, n_estimators=1200;, score=0.786 total time=  12.8s\n",
      "[CV 9/10] END criterion=entropy, max_depth=12, n_estimators=1200;, score=0.786 total time=  12.8s\n",
      "[CV 5/10] END criterion=entropy, max_depth=17, n_estimators=1200;, score=0.875 total time=  12.7s\n",
      "[CV 10/10] END criterion=gini, max_depth=2, n_estimators=1200;, score=0.857 total time=   5.7s\n",
      "[CV 4/10] END criterion=gini, max_depth=7, n_estimators=1200;, score=0.812 total time=  11.1s\n",
      "[CV 7/10] END criterion=gini, max_depth=12, n_estimators=900;, score=0.831 total time=   9.1s\n",
      "[CV 4/10] END criterion=gini, max_depth=17, n_estimators=600;, score=0.812 total time=   6.0s\n",
      "[CV 7/10] END criterion=gini, max_depth=17, n_estimators=1200;, score=0.831 total time=  10.1s\n",
      "[CV 3/10] END criterion=entropy, max_depth=2, n_estimators=300;, score=0.750 total time=   2.2s\n",
      "[CV 5/10] END criterion=entropy, max_depth=2, n_estimators=900;, score=0.688 total time=   5.9s\n",
      "[CV 5/10] END criterion=entropy, max_depth=7, n_estimators=600;, score=0.875 total time=   6.5s\n",
      "[CV 8/10] END criterion=entropy, max_depth=7, n_estimators=1200;, score=0.929 total time=  12.7s\n",
      "[CV 5/10] END criterion=entropy, max_depth=12, n_estimators=1200;, score=0.875 total time=  12.6s\n",
      "[CV 10/10] END criterion=entropy, max_depth=17, n_estimators=900;, score=0.929 total time=   9.5s\n",
      "[CV 9/10] END criterion=gini, max_depth=2, n_estimators=900;, score=0.714 total time=   4.2s\n",
      "[CV 9/10] END criterion=gini, max_depth=7, n_estimators=300;, score=0.688 total time=   3.1s\n",
      "[CV 5/10] END criterion=gini, max_depth=7, n_estimators=900;, score=0.875 total time=   8.6s\n",
      "[CV 10/10] END criterion=gini, max_depth=12, n_estimators=300;, score=0.929 total time=   3.3s\n",
      "[CV 3/10] END criterion=gini, max_depth=12, n_estimators=900;, score=0.875 total time=   9.3s\n",
      "[CV 2/10] END criterion=gini, max_depth=17, n_estimators=600;, score=0.849 total time=   6.1s\n",
      "[CV 1/10] END criterion=gini, max_depth=17, n_estimators=1200;, score=0.689 total time=  11.2s\n",
      "[CV 5/10] END criterion=entropy, max_depth=2, n_estimators=300;, score=0.688 total time=   2.2s\n",
      "[CV 7/10] END criterion=entropy, max_depth=2, n_estimators=900;, score=0.786 total time=   5.8s\n",
      "[CV 2/10] END criterion=entropy, max_depth=7, n_estimators=600;, score=0.822 total time=   6.5s\n",
      "[CV 7/10] END criterion=entropy, max_depth=7, n_estimators=1200;, score=0.831 total time=  12.7s\n",
      "[CV 4/10] END criterion=entropy, max_depth=12, n_estimators=1200;, score=0.812 total time=  12.5s\n",
      "[CV 9/10] END criterion=entropy, max_depth=17, n_estimators=900;, score=0.786 total time=   9.8s\n",
      "[CV 1/10] END criterion=gini, max_depth=2, n_estimators=1200;, score=0.618 total time=   5.6s\n",
      "[CV 5/10] END criterion=gini, max_depth=7, n_estimators=600;, score=0.875 total time=   5.8s\n",
      "[CV 9/10] END criterion=gini, max_depth=7, n_estimators=1200;, score=0.786 total time=  11.3s\n",
      "[CV 9/10] END criterion=gini, max_depth=12, n_estimators=1200;, score=0.759 total time=  12.1s\n",
      "[CV 3/10] END criterion=gini, max_depth=17, n_estimators=1200;, score=0.875 total time=  11.1s\n",
      "[CV 8/10] END criterion=entropy, max_depth=2, n_estimators=600;, score=0.857 total time=   4.3s\n",
      "[CV 4/10] END criterion=entropy, max_depth=7, n_estimators=300;, score=0.812 total time=   3.6s\n",
      "[CV 3/10] END criterion=entropy, max_depth=7, n_estimators=600;, score=0.849 total time=   6.8s\n",
      "[CV 1/10] END criterion=entropy, max_depth=12, n_estimators=300;, score=0.761 total time=   3.6s\n",
      "[CV 5/10] END criterion=entropy, max_depth=12, n_estimators=300;, score=0.875 total time=   3.6s\n",
      "[CV 9/10] END criterion=entropy, max_depth=12, n_estimators=600;, score=0.786 total time=   6.8s\n",
      "[CV 3/10] END criterion=entropy, max_depth=17, n_estimators=300;, score=0.875 total time=   3.5s\n",
      "[CV 7/10] END criterion=entropy, max_depth=17, n_estimators=300;, score=0.831 total time=   3.6s\n",
      "[CV 1/10] END criterion=entropy, max_depth=17, n_estimators=900;, score=0.689 total time=   9.9s\n",
      "[CV 6/10] END criterion=gini, max_depth=2, n_estimators=600;, score=0.688 total time=   3.0s\n",
      "[CV 5/10] END criterion=gini, max_depth=2, n_estimators=900;, score=0.688 total time=   4.4s\n",
      "[CV 4/10] END criterion=gini, max_depth=7, n_estimators=300;, score=0.812 total time=   3.1s\n",
      "[CV 10/10] END criterion=gini, max_depth=7, n_estimators=600;, score=0.929 total time=   6.0s\n",
      "[CV 4/10] END criterion=gini, max_depth=12, n_estimators=300;, score=0.812 total time=   3.3s\n",
      "[CV 4/10] END criterion=gini, max_depth=12, n_estimators=600;, score=0.812 total time=   6.3s\n",
      "[CV 7/10] END criterion=gini, max_depth=12, n_estimators=1200;, score=0.831 total time=  12.6s\n",
      "[CV 5/10] END criterion=gini, max_depth=17, n_estimators=1200;, score=0.875 total time=  10.9s\n",
      "[CV 4/10] END criterion=entropy, max_depth=2, n_estimators=900;, score=0.812 total time=   6.0s\n",
      "[CV 8/10] END criterion=entropy, max_depth=7, n_estimators=300;, score=0.929 total time=   3.6s\n",
      "[CV 3/10] END criterion=entropy, max_depth=7, n_estimators=900;, score=0.849 total time=  10.0s\n",
      "[CV 3/10] END criterion=entropy, max_depth=12, n_estimators=600;, score=0.875 total time=   6.7s\n",
      "[CV 1/10] END criterion=entropy, max_depth=12, n_estimators=1200;, score=0.761 total time=  12.7s\n",
      "[CV 5/10] END criterion=entropy, max_depth=17, n_estimators=900;, score=0.875 total time=   9.5s\n",
      "[CV 1/10] END criterion=gini, max_depth=2, n_estimators=900;, score=0.618 total time=   4.2s\n",
      "[CV 8/10] END criterion=gini, max_depth=2, n_estimators=1200;, score=0.929 total time=   5.6s\n",
      "[CV 3/10] END criterion=gini, max_depth=7, n_estimators=1200;, score=0.812 total time=  11.4s\n",
      "[CV 8/10] END criterion=gini, max_depth=12, n_estimators=900;, score=1.000 total time=   9.0s\n",
      "[CV 5/10] END criterion=gini, max_depth=17, n_estimators=600;, score=0.849 total time=   6.2s\n",
      "[CV 8/10] END criterion=gini, max_depth=17, n_estimators=1200;, score=1.000 total time=  10.5s\n",
      "[CV 6/10] END criterion=entropy, max_depth=2, n_estimators=300;, score=0.688 total time=   2.2s\n",
      "[CV 8/10] END criterion=entropy, max_depth=2, n_estimators=900;, score=0.857 total time=   5.9s\n",
      "[CV 4/10] END criterion=entropy, max_depth=7, n_estimators=600;, score=0.812 total time=   6.4s\n",
      "[CV 5/10] END criterion=entropy, max_depth=7, n_estimators=1200;, score=0.875 total time=  12.6s\n",
      "[CV 3/10] END criterion=entropy, max_depth=12, n_estimators=1200;, score=0.875 total time=  12.9s\n",
      "[CV 1/10] END criterion=entropy, max_depth=17, n_estimators=1200;, score=0.761 total time=  12.8s\n",
      "[CV 6/10] END criterion=gini, max_depth=2, n_estimators=1200;, score=0.688 total time=   5.6s\n",
      "[CV 1/10] END criterion=gini, max_depth=7, n_estimators=1200;, score=0.761 total time=  11.4s\n",
      "[CV 6/10] END criterion=gini, max_depth=12, n_estimators=900;, score=1.000 total time=   9.2s\n",
      "[CV 6/10] END criterion=gini, max_depth=17, n_estimators=600;, score=1.000 total time=   6.3s\n",
      "[CV 10/10] END criterion=gini, max_depth=17, n_estimators=1200;, score=0.929 total time=  10.4s\n"
     ]
    },
    {
     "name": "stdout",
     "output_type": "stream",
     "text": [
      "[CV 4/10] END criterion=entropy, max_depth=2, n_estimators=600;, score=0.812 total time=   4.2s\n",
      "[CV 2/10] END criterion=entropy, max_depth=7, n_estimators=300;, score=0.875 total time=   3.4s\n",
      "[CV 10/10] END criterion=entropy, max_depth=7, n_estimators=300;, score=0.929 total time=   3.4s\n",
      "[CV 8/10] END criterion=entropy, max_depth=7, n_estimators=900;, score=0.929 total time=   9.7s\n",
      "[CV 6/10] END criterion=entropy, max_depth=12, n_estimators=600;, score=1.000 total time=   6.7s\n",
      "[CV 10/10] END criterion=entropy, max_depth=12, n_estimators=1200;, score=0.929 total time=  12.7s\n",
      "[CV 4/10] END criterion=entropy, max_depth=17, n_estimators=1200;, score=0.812 total time=  12.5s\n",
      "[CV 5/10] END criterion=gini, max_depth=2, n_estimators=1200;, score=0.688 total time=   5.6s\n",
      "[CV 10/10] END criterion=gini, max_depth=7, n_estimators=900;, score=0.929 total time=   8.4s\n",
      "[CV 7/10] END criterion=gini, max_depth=12, n_estimators=600;, score=0.831 total time=   6.1s\n",
      "[CV 10/10] END criterion=gini, max_depth=12, n_estimators=1200;, score=0.929 total time=  11.8s\n",
      "[CV 6/10] END criterion=gini, max_depth=17, n_estimators=1200;, score=1.000 total time=  11.0s\n",
      "[CV 5/10] END criterion=entropy, max_depth=2, n_estimators=600;, score=0.688 total time=   4.3s\n",
      "[CV 3/10] END criterion=entropy, max_depth=7, n_estimators=300;, score=0.875 total time=   3.6s\n",
      "[CV 1/10] END criterion=entropy, max_depth=7, n_estimators=600;, score=0.761 total time=   6.6s\n",
      "[CV 6/10] END criterion=entropy, max_depth=7, n_estimators=1200;, score=1.000 total time=  12.9s\n",
      "[CV 7/10] END criterion=entropy, max_depth=12, n_estimators=1200;, score=0.831 total time=  12.8s\n",
      "[CV 3/10] END criterion=entropy, max_depth=17, n_estimators=1200;, score=0.875 total time=  12.8s\n",
      "[CV 9/10] END criterion=gini, max_depth=2, n_estimators=1200;, score=0.714 total time=   5.5s\n",
      "[CV 2/10] END criterion=gini, max_depth=7, n_estimators=1200;, score=0.849 total time=  11.2s\n",
      "[CV 5/10] END criterion=gini, max_depth=12, n_estimators=900;, score=0.849 total time=   9.1s\n",
      "[CV 3/10] END criterion=gini, max_depth=17, n_estimators=600;, score=0.786 total time=   6.4s\n",
      "[CV 9/10] END criterion=gini, max_depth=17, n_estimators=1200;, score=0.831 total time=  11.0s\n"
     ]
    }
   ],
   "source": [
    "import random\n",
    "import os\n",
    "\n",
    "\n",
    "def prepareForShapelet(df=pd.DataFrame, trajectoryIDAttribute= None, targetAttribute=None,\n",
    "                       timestampAttribute=None, latAttr=None, lonAttr=None, trainPerc=.80, trajPerc=1.0, maxPoints=None):\n",
    "    attributes = [timestampAttribute, \"latLon\"]+ [x for x in list(df.columns) if x not in [trajectoryIDAttribute, targetAttribute, timestampAttribute, latAttr, lonAttr]] #mi assicuro di avere il timestam come primo elemento\n",
    "    if(os.path.exists(\"train\") | os.path.exists(\"test\")):\n",
    "        print(\"Le cartelle train e test esistono già!\")\n",
    "        return\n",
    "\n",
    "    df[\"latLon\"] = df[latAttr].astype(str) + \" \" + df[lonAttr].astype(str)\n",
    "\n",
    "    ids = list(df[trajectoryIDAttribute].unique())\n",
    "    #ids = random.sample(ids, round(len(ids)*trajPerc))\n",
    "    ids = ids[:round(len(ids)*trajPerc)]\n",
    "    ids_train = random.sample(ids, round(trainPerc*len(ids)))\n",
    "    ids_test = [x for x in ids if x not in ids_train]\n",
    "\n",
    "    os.makedirs(\"train\")\n",
    "    os.makedirs(\"test\")\n",
    "\n",
    "    for id in tqdm(ids_train):\n",
    "        df_id = df[df[trajectoryIDAttribute] == id]\n",
    "        classe = df_id[targetAttribute].iloc[0]\n",
    "        if maxPoints is not None:\n",
    "            df[df[trajectoryIDAttribute] == id][attributes].head(maxPoints).to_csv(F\"train/{id} s{id} c{classe}.r2\", index=False, header=False)\n",
    "        else:\n",
    "            df[df[trajectoryIDAttribute] == id][attributes].to_csv(F\"train/{id} s{id} c{classe}.r2\", index=False, header=False)\n",
    "\n",
    "    for id in tqdm(ids_test):\n",
    "        df_id = df[df[trajectoryIDAttribute] == id]\n",
    "        if maxPoints is not None:\n",
    "            df_id = df_id.head(maxPoints)\n",
    "        classe = df_id[targetAttribute].iloc[0]\n",
    "        if maxPoints is not None:\n",
    "            df[df[trajectoryIDAttribute] == id][attributes].head(maxPoints).to_csv(F\"test/{id} s{id} c{classe}.r2\", index=False, header=False)\n",
    "        else:\n",
    "            df[df[trajectoryIDAttribute] == id][attributes].to_csv(F\"test/{id} s{id} c{classe}.r2\", index=False, header=False)\n",
    "\n",
    "prepareForShapelet(df0, \"tid\", \"class\", \"t\", \"c1\", \"c2\", trainPerc=.7, trajPerc=1)"
   ]
  },
  {
   "cell_type": "code",
   "execution_count": null,
   "id": "ed3363df",
   "metadata": {},
   "outputs": [],
   "source": [
    "# 8514242 ms"
   ]
  },
  {
   "cell_type": "code",
   "execution_count": 11,
   "id": "0220d450",
   "metadata": {},
   "outputs": [
    {
     "data": {
      "text/html": [
       "<div>\n",
       "<style scoped>\n",
       "    .dataframe tbody tr th:only-of-type {\n",
       "        vertical-align: middle;\n",
       "    }\n",
       "\n",
       "    .dataframe tbody tr th {\n",
       "        vertical-align: top;\n",
       "    }\n",
       "\n",
       "    .dataframe thead th {\n",
       "        text-align: right;\n",
       "    }\n",
       "</style>\n",
       "<table border=\"1\" class=\"dataframe\">\n",
       "  <thead>\n",
       "    <tr style=\"text-align: right;\">\n",
       "      <th></th>\n",
       "      <th>sh_TID42018_START0_SIZE412_CLASSB</th>\n",
       "      <th>sh_TID90604_START152_SIZE9_CLASST</th>\n",
       "      <th>sh_TID86203_START40_SIZE72_CLASST</th>\n",
       "      <th>sh_TID92006_START422_SIZE1_CLASST</th>\n",
       "      <th>sh_TID42094_START863_SIZE6_CLASSB</th>\n",
       "      <th>sh_TID42095_START47_SIZE1_CLASSB</th>\n",
       "      <th>sh_TID86704_START501_SIZE72_CLASST</th>\n",
       "      <th>sh_TID42080_START345_SIZE3_CLASSB</th>\n",
       "      <th>sh_TID42005_START60_SIZE3_CLASSB</th>\n",
       "      <th>class</th>\n",
       "    </tr>\n",
       "  </thead>\n",
       "  <tbody>\n",
       "    <tr>\n",
       "      <th>0</th>\n",
       "      <td>2.000000</td>\n",
       "      <td>1.153911</td>\n",
       "      <td>1.132315</td>\n",
       "      <td>1.189271</td>\n",
       "      <td>0.586965</td>\n",
       "      <td>0.273311</td>\n",
       "      <td>1.101939</td>\n",
       "      <td>0.239223</td>\n",
       "      <td>0.267243</td>\n",
       "      <td>B</td>\n",
       "    </tr>\n",
       "    <tr>\n",
       "      <th>1</th>\n",
       "      <td>2.000000</td>\n",
       "      <td>0.973091</td>\n",
       "      <td>1.126933</td>\n",
       "      <td>0.688177</td>\n",
       "      <td>1.165543</td>\n",
       "      <td>1.151932</td>\n",
       "      <td>1.103792</td>\n",
       "      <td>1.144756</td>\n",
       "      <td>1.148418</td>\n",
       "      <td>B</td>\n",
       "    </tr>\n",
       "    <tr>\n",
       "      <th>2</th>\n",
       "      <td>2.000000</td>\n",
       "      <td>1.100519</td>\n",
       "      <td>1.098091</td>\n",
       "      <td>1.137493</td>\n",
       "      <td>0.891989</td>\n",
       "      <td>0.880479</td>\n",
       "      <td>1.061744</td>\n",
       "      <td>0.839402</td>\n",
       "      <td>0.868396</td>\n",
       "      <td>B</td>\n",
       "    </tr>\n",
       "    <tr>\n",
       "      <th>3</th>\n",
       "      <td>0.968084</td>\n",
       "      <td>1.130059</td>\n",
       "      <td>1.118578</td>\n",
       "      <td>1.164891</td>\n",
       "      <td>0.668426</td>\n",
       "      <td>0.544227</td>\n",
       "      <td>1.085558</td>\n",
       "      <td>0.485539</td>\n",
       "      <td>0.518222</td>\n",
       "      <td>B</td>\n",
       "    </tr>\n",
       "    <tr>\n",
       "      <th>4</th>\n",
       "      <td>0.974760</td>\n",
       "      <td>1.221041</td>\n",
       "      <td>1.168284</td>\n",
       "      <td>1.247253</td>\n",
       "      <td>1.125599</td>\n",
       "      <td>0.798980</td>\n",
       "      <td>1.147143</td>\n",
       "      <td>0.973117</td>\n",
       "      <td>0.940765</td>\n",
       "      <td>B</td>\n",
       "    </tr>\n",
       "  </tbody>\n",
       "</table>\n",
       "</div>"
      ],
      "text/plain": [
       "   sh_TID42018_START0_SIZE412_CLASSB  sh_TID90604_START152_SIZE9_CLASST  \\\n",
       "0                           2.000000                           1.153911   \n",
       "1                           2.000000                           0.973091   \n",
       "2                           2.000000                           1.100519   \n",
       "3                           0.968084                           1.130059   \n",
       "4                           0.974760                           1.221041   \n",
       "\n",
       "   sh_TID86203_START40_SIZE72_CLASST  sh_TID92006_START422_SIZE1_CLASST  \\\n",
       "0                           1.132315                           1.189271   \n",
       "1                           1.126933                           0.688177   \n",
       "2                           1.098091                           1.137493   \n",
       "3                           1.118578                           1.164891   \n",
       "4                           1.168284                           1.247253   \n",
       "\n",
       "   sh_TID42094_START863_SIZE6_CLASSB  sh_TID42095_START47_SIZE1_CLASSB  \\\n",
       "0                           0.586965                          0.273311   \n",
       "1                           1.165543                          1.151932   \n",
       "2                           0.891989                          0.880479   \n",
       "3                           0.668426                          0.544227   \n",
       "4                           1.125599                          0.798980   \n",
       "\n",
       "   sh_TID86704_START501_SIZE72_CLASST  sh_TID42080_START345_SIZE3_CLASSB  \\\n",
       "0                            1.101939                           0.239223   \n",
       "1                            1.103792                           1.144756   \n",
       "2                            1.061744                           0.839402   \n",
       "3                            1.085558                           0.485539   \n",
       "4                            1.147143                           0.973117   \n",
       "\n",
       "   sh_TID42005_START60_SIZE3_CLASSB class  \n",
       "0                          0.267243     B  \n",
       "1                          1.148418     B  \n",
       "2                          0.868396     B  \n",
       "3                          0.518222     B  \n",
       "4                          0.940765     B  "
      ]
     },
     "execution_count": 11,
     "metadata": {},
     "output_type": "execute_result"
    }
   ],
   "source": [
    "movelet_train_df = pd.read_csv(\"data/Movelet_output/train.csv\")\n",
    "movelet_test_df = pd.read_csv(\"data/Movelet_output/test.csv\")\n",
    "\n",
    "movelet_train_df.head()"
   ]
  },
  {
   "cell_type": "code",
   "execution_count": 12,
   "id": "4ced63cf",
   "metadata": {},
   "outputs": [
    {
     "data": {
      "text/html": [
       "<div>\n",
       "<style scoped>\n",
       "    .dataframe tbody tr th:only-of-type {\n",
       "        vertical-align: middle;\n",
       "    }\n",
       "\n",
       "    .dataframe tbody tr th {\n",
       "        vertical-align: top;\n",
       "    }\n",
       "\n",
       "    .dataframe thead th {\n",
       "        text-align: right;\n",
       "    }\n",
       "</style>\n",
       "<table border=\"1\" class=\"dataframe\">\n",
       "  <thead>\n",
       "    <tr style=\"text-align: right;\">\n",
       "      <th></th>\n",
       "      <th>sh_TID42018_START0_SIZE412_CLASSB</th>\n",
       "      <th>sh_TID90604_START152_SIZE9_CLASST</th>\n",
       "      <th>sh_TID86203_START40_SIZE72_CLASST</th>\n",
       "      <th>sh_TID92006_START422_SIZE1_CLASST</th>\n",
       "      <th>sh_TID42094_START863_SIZE6_CLASSB</th>\n",
       "      <th>sh_TID42095_START47_SIZE1_CLASSB</th>\n",
       "      <th>sh_TID86704_START501_SIZE72_CLASST</th>\n",
       "      <th>sh_TID42080_START345_SIZE3_CLASSB</th>\n",
       "      <th>sh_TID42005_START60_SIZE3_CLASSB</th>\n",
       "      <th>class</th>\n",
       "    </tr>\n",
       "  </thead>\n",
       "  <tbody>\n",
       "    <tr>\n",
       "      <th>0</th>\n",
       "      <td>2.000000</td>\n",
       "      <td>1.093716</td>\n",
       "      <td>1.094384</td>\n",
       "      <td>1.137229</td>\n",
       "      <td>0.941270</td>\n",
       "      <td>0.884245</td>\n",
       "      <td>1.063279</td>\n",
       "      <td>0.863177</td>\n",
       "      <td>0.892008</td>\n",
       "      <td>B</td>\n",
       "    </tr>\n",
       "    <tr>\n",
       "      <th>1</th>\n",
       "      <td>0.973840</td>\n",
       "      <td>1.221526</td>\n",
       "      <td>1.167599</td>\n",
       "      <td>1.247132</td>\n",
       "      <td>1.126041</td>\n",
       "      <td>0.801725</td>\n",
       "      <td>1.145457</td>\n",
       "      <td>0.976549</td>\n",
       "      <td>0.944174</td>\n",
       "      <td>B</td>\n",
       "    </tr>\n",
       "    <tr>\n",
       "      <th>2</th>\n",
       "      <td>0.977193</td>\n",
       "      <td>1.152266</td>\n",
       "      <td>1.092259</td>\n",
       "      <td>1.202596</td>\n",
       "      <td>0.382538</td>\n",
       "      <td>0.772183</td>\n",
       "      <td>1.063461</td>\n",
       "      <td>0.720976</td>\n",
       "      <td>0.730579</td>\n",
       "      <td>B</td>\n",
       "    </tr>\n",
       "    <tr>\n",
       "      <th>3</th>\n",
       "      <td>0.973676</td>\n",
       "      <td>1.159018</td>\n",
       "      <td>1.101053</td>\n",
       "      <td>1.203392</td>\n",
       "      <td>0.256079</td>\n",
       "      <td>0.334016</td>\n",
       "      <td>1.073879</td>\n",
       "      <td>0.242644</td>\n",
       "      <td>0.260859</td>\n",
       "      <td>B</td>\n",
       "    </tr>\n",
       "    <tr>\n",
       "      <th>4</th>\n",
       "      <td>2.000000</td>\n",
       "      <td>1.098748</td>\n",
       "      <td>1.128672</td>\n",
       "      <td>1.137881</td>\n",
       "      <td>0.905996</td>\n",
       "      <td>0.879337</td>\n",
       "      <td>1.089535</td>\n",
       "      <td>0.849313</td>\n",
       "      <td>0.878094</td>\n",
       "      <td>B</td>\n",
       "    </tr>\n",
       "  </tbody>\n",
       "</table>\n",
       "</div>"
      ],
      "text/plain": [
       "   sh_TID42018_START0_SIZE412_CLASSB  sh_TID90604_START152_SIZE9_CLASST  \\\n",
       "0                           2.000000                           1.093716   \n",
       "1                           0.973840                           1.221526   \n",
       "2                           0.977193                           1.152266   \n",
       "3                           0.973676                           1.159018   \n",
       "4                           2.000000                           1.098748   \n",
       "\n",
       "   sh_TID86203_START40_SIZE72_CLASST  sh_TID92006_START422_SIZE1_CLASST  \\\n",
       "0                           1.094384                           1.137229   \n",
       "1                           1.167599                           1.247132   \n",
       "2                           1.092259                           1.202596   \n",
       "3                           1.101053                           1.203392   \n",
       "4                           1.128672                           1.137881   \n",
       "\n",
       "   sh_TID42094_START863_SIZE6_CLASSB  sh_TID42095_START47_SIZE1_CLASSB  \\\n",
       "0                           0.941270                          0.884245   \n",
       "1                           1.126041                          0.801725   \n",
       "2                           0.382538                          0.772183   \n",
       "3                           0.256079                          0.334016   \n",
       "4                           0.905996                          0.879337   \n",
       "\n",
       "   sh_TID86704_START501_SIZE72_CLASST  sh_TID42080_START345_SIZE3_CLASSB  \\\n",
       "0                            1.063279                           0.863177   \n",
       "1                            1.145457                           0.976549   \n",
       "2                            1.063461                           0.720976   \n",
       "3                            1.073879                           0.242644   \n",
       "4                            1.089535                           0.849313   \n",
       "\n",
       "   sh_TID42005_START60_SIZE3_CLASSB class  \n",
       "0                          0.892008     B  \n",
       "1                          0.944174     B  \n",
       "2                          0.730579     B  \n",
       "3                          0.260859     B  \n",
       "4                          0.878094     B  "
      ]
     },
     "execution_count": 12,
     "metadata": {},
     "output_type": "execute_result"
    }
   ],
   "source": [
    "movelet_test_df.head()"
   ]
  },
  {
   "cell_type": "code",
   "execution_count": null,
   "id": "10bc9b0d",
   "metadata": {},
   "outputs": [],
   "source": []
  },
  {
   "cell_type": "code",
   "execution_count": 13,
   "id": "f8dec302",
   "metadata": {},
   "outputs": [],
   "source": [
    "X_train = movelet_train_df.values[:, :-1]\n",
    "y_train = movelet_train_df.values[:, -1]\n",
    "\n",
    "X_test = movelet_test_df.values[:, :-1]\n",
    "y_test = movelet_test_df.values[:, -1]"
   ]
  },
  {
   "cell_type": "code",
   "execution_count": 14,
   "id": "f6a04b04",
   "metadata": {},
   "outputs": [
    {
     "name": "stdout",
     "output_type": "stream",
     "text": [
      "Model with rank: 1\n",
      "Mean validation score: 0.891 (std: 0.011)\n",
      "Parameters: {'criterion': 'entropy', 'max_depth': 2, 'n_estimators': 300}\n",
      "\n",
      "Model with rank: 1\n",
      "Mean validation score: 0.891 (std: 0.011)\n",
      "Parameters: {'criterion': 'entropy', 'max_depth': 2, 'n_estimators': 600}\n",
      "\n",
      "Model with rank: 1\n",
      "Mean validation score: 0.891 (std: 0.011)\n",
      "Parameters: {'criterion': 'entropy', 'max_depth': 2, 'n_estimators': 900}\n",
      "\n",
      "Model with rank: 1\n",
      "Mean validation score: 0.891 (std: 0.011)\n",
      "Parameters: {'criterion': 'entropy', 'max_depth': 2, 'n_estimators': 1200}\n",
      "\n",
      "Model with rank: 1\n",
      "Mean validation score: 0.891 (std: 0.011)\n",
      "Parameters: {'criterion': 'gini', 'max_depth': 2, 'n_estimators': 300}\n",
      "\n",
      "Model with rank: 1\n",
      "Mean validation score: 0.891 (std: 0.011)\n",
      "Parameters: {'criterion': 'gini', 'max_depth': 2, 'n_estimators': 600}\n",
      "\n",
      "Model with rank: 1\n",
      "Mean validation score: 0.891 (std: 0.011)\n",
      "Parameters: {'criterion': 'gini', 'max_depth': 2, 'n_estimators': 1200}\n",
      "\n"
     ]
    }
   ],
   "source": [
    "from sklearn.ensemble import RandomForestClassifier\n",
    "from sklearn import tree\n",
    "\n",
    "def report(results, n_top=3):\n",
    "    for i in range(1, n_top + 1):\n",
    "        candidates = np.flatnonzero(results['rank_test_score'] == i)\n",
    "        for candidate in candidates:\n",
    "            print(\"Model with rank: {0}\".format(i))\n",
    "            print(\"Mean validation score: {0:.3f} (std: {1:.3f})\".format(\n",
    "                results['mean_test_score'][candidate],\n",
    "                results['std_test_score'][candidate]))\n",
    "            print(\"Parameters: {0}\".format(results['params'][candidate]))\n",
    "            print(\"\")\n",
    "\n",
    "from sklearn.model_selection import GridSearchCV\n",
    "parameters = {'n_estimators': range(300, 1500, 300),\n",
    "              'criterion':[\"entropy\", \"gini\"],\n",
    "              'max_depth': range(2, 20, 5)}\n",
    "\n",
    "clf = GridSearchCV(RandomForestClassifier(n_jobs=1), parameters, cv=3, n_jobs=24, verbose=0, scoring=\"accuracy\")\n",
    "\n",
    "clf.fit(X_train, y_train)\n",
    "\n",
    "report(clf.cv_results_, n_top=3)"
   ]
  },
  {
   "cell_type": "code",
   "execution_count": 15,
   "id": "ce809cd3",
   "metadata": {},
   "outputs": [
    {
     "name": "stdout",
     "output_type": "stream",
     "text": [
      "              precision    recall  f1-score   support\n",
      "\n",
      "           B       0.83      0.86      0.85        29\n",
      "           T       0.95      0.94      0.95        85\n",
      "\n",
      "    accuracy                           0.92       114\n",
      "   macro avg       0.89      0.90      0.90       114\n",
      "weighted avg       0.92      0.92      0.92       114\n",
      "\n"
     ]
    }
   ],
   "source": [
    "#rf = RandomForestClassifier(max_depth=7, random_state=3, n_jobs=-1, n_estimators=300, criterion=\"entropy\")\n",
    "rf = clf.best_estimator_\n",
    "\n",
    "rf.fit(X_train, y_train)\n",
    "\n",
    "from sklearn import metrics\n",
    "y_pred=rf.predict(X_test)\n",
    "\n",
    "\n",
    "from sklearn.metrics import classification_report\n",
    "\n",
    "print(classification_report(y_test, y_pred))"
   ]
  },
  {
   "cell_type": "code",
   "execution_count": 16,
   "id": "151493d7",
   "metadata": {},
   "outputs": [
    {
     "name": "stdout",
     "output_type": "stream",
     "text": [
      "0.9210526315789473\n",
      "0.9214881049781207\n"
     ]
    }
   ],
   "source": [
    "from sklearn.metrics import accuracy_score, f1_score\n",
    "\n",
    "print(accuracy_score(y_test, y_pred))\n",
    "print(f1_score(y_test, y_pred, average=\"weighted\"))"
   ]
  },
  {
   "cell_type": "code",
   "execution_count": null,
   "id": "99062a04",
   "metadata": {},
   "outputs": [],
   "source": []
  },
  {
   "cell_type": "markdown",
   "id": "f6365b48",
   "metadata": {},
   "source": [
    "## Geolet"
   ]
  },
  {
   "cell_type": "code",
   "execution_count": 17,
   "id": "c2299d92",
   "metadata": {},
   "outputs": [
    {
     "data": {
      "text/html": [
       "<div>\n",
       "<style scoped>\n",
       "    .dataframe tbody tr th:only-of-type {\n",
       "        vertical-align: middle;\n",
       "    }\n",
       "\n",
       "    .dataframe tbody tr th {\n",
       "        vertical-align: top;\n",
       "    }\n",
       "\n",
       "    .dataframe thead th {\n",
       "        text-align: right;\n",
       "    }\n",
       "</style>\n",
       "<table border=\"1\" class=\"dataframe\">\n",
       "  <thead>\n",
       "    <tr style=\"text-align: right;\">\n",
       "      <th></th>\n",
       "      <th>tid</th>\n",
       "      <th>class</th>\n",
       "      <th>c1</th>\n",
       "      <th>c2</th>\n",
       "      <th>t</th>\n",
       "      <th>pos</th>\n",
       "    </tr>\n",
       "  </thead>\n",
       "  <tbody>\n",
       "    <tr>\n",
       "      <th>0</th>\n",
       "      <td>30901</td>\n",
       "      <td>B</td>\n",
       "      <td>42.077160</td>\n",
       "      <td>4.738411</td>\n",
       "      <td>0</td>\n",
       "      <td>0</td>\n",
       "    </tr>\n",
       "    <tr>\n",
       "      <th>1</th>\n",
       "      <td>30901</td>\n",
       "      <td>B</td>\n",
       "      <td>42.077246</td>\n",
       "      <td>4.739088</td>\n",
       "      <td>30</td>\n",
       "      <td>1</td>\n",
       "    </tr>\n",
       "    <tr>\n",
       "      <th>2</th>\n",
       "      <td>30901</td>\n",
       "      <td>B</td>\n",
       "      <td>42.077259</td>\n",
       "      <td>4.739096</td>\n",
       "      <td>60</td>\n",
       "      <td>2</td>\n",
       "    </tr>\n",
       "    <tr>\n",
       "      <th>3</th>\n",
       "      <td>30901</td>\n",
       "      <td>B</td>\n",
       "      <td>42.077369</td>\n",
       "      <td>4.739158</td>\n",
       "      <td>90</td>\n",
       "      <td>3</td>\n",
       "    </tr>\n",
       "    <tr>\n",
       "      <th>4</th>\n",
       "      <td>30901</td>\n",
       "      <td>B</td>\n",
       "      <td>42.077635</td>\n",
       "      <td>4.739343</td>\n",
       "      <td>120</td>\n",
       "      <td>4</td>\n",
       "    </tr>\n",
       "    <tr>\n",
       "      <th>...</th>\n",
       "      <td>...</td>\n",
       "      <td>...</td>\n",
       "      <td>...</td>\n",
       "      <td>...</td>\n",
       "      <td>...</td>\n",
       "      <td>...</td>\n",
       "    </tr>\n",
       "    <tr>\n",
       "      <th>178294</th>\n",
       "      <td>420106</td>\n",
       "      <td>B</td>\n",
       "      <td>42.054656</td>\n",
       "      <td>4.903373</td>\n",
       "      <td>20700</td>\n",
       "      <td>371</td>\n",
       "    </tr>\n",
       "    <tr>\n",
       "      <th>178295</th>\n",
       "      <td>420106</td>\n",
       "      <td>B</td>\n",
       "      <td>42.053411</td>\n",
       "      <td>4.904073</td>\n",
       "      <td>20730</td>\n",
       "      <td>372</td>\n",
       "    </tr>\n",
       "    <tr>\n",
       "      <th>178296</th>\n",
       "      <td>420106</td>\n",
       "      <td>B</td>\n",
       "      <td>42.053166</td>\n",
       "      <td>4.903783</td>\n",
       "      <td>20760</td>\n",
       "      <td>373</td>\n",
       "    </tr>\n",
       "    <tr>\n",
       "      <th>178297</th>\n",
       "      <td>420106</td>\n",
       "      <td>B</td>\n",
       "      <td>42.053166</td>\n",
       "      <td>4.903783</td>\n",
       "      <td>20790</td>\n",
       "      <td>374</td>\n",
       "    </tr>\n",
       "    <tr>\n",
       "      <th>178298</th>\n",
       "      <td>420106</td>\n",
       "      <td>B</td>\n",
       "      <td>42.053268</td>\n",
       "      <td>4.903792</td>\n",
       "      <td>24480</td>\n",
       "      <td>375</td>\n",
       "    </tr>\n",
       "  </tbody>\n",
       "</table>\n",
       "<p>178299 rows × 6 columns</p>\n",
       "</div>"
      ],
      "text/plain": [
       "           tid class         c1        c2      t  pos\n",
       "0        30901     B  42.077160  4.738411      0    0\n",
       "1        30901     B  42.077246  4.739088     30    1\n",
       "2        30901     B  42.077259  4.739096     60    2\n",
       "3        30901     B  42.077369  4.739158     90    3\n",
       "4        30901     B  42.077635  4.739343    120    4\n",
       "...        ...   ...        ...       ...    ...  ...\n",
       "178294  420106     B  42.054656  4.903373  20700  371\n",
       "178295  420106     B  42.053411  4.904073  20730  372\n",
       "178296  420106     B  42.053166  4.903783  20760  373\n",
       "178297  420106     B  42.053166  4.903783  20790  374\n",
       "178298  420106     B  42.053268  4.903792  24480  375\n",
       "\n",
       "[178299 rows x 6 columns]"
      ]
     },
     "execution_count": 17,
     "metadata": {},
     "output_type": "execute_result"
    }
   ],
   "source": [
    "df0"
   ]
  },
  {
   "cell_type": "code",
   "execution_count": 18,
   "id": "98480ca9",
   "metadata": {},
   "outputs": [
    {
     "name": "stderr",
     "output_type": "stream",
     "text": [
      "c:\\users\\cri98\\documents\\github\\cri98tj\\cri98tj\\distancers\\Euclidean_distancer.py:6: TqdmExperimentalWarning: Using `tqdm.autonotebook.tqdm` in notebook mode. Use `tqdm.tqdm` instead to force console mode (e.g. in jupyter console)\n",
      "  from tqdm.autonotebook import tqdm\n"
     ]
    }
   ],
   "source": [
    "from cri98tj.distancers.Euclidean_distancer import Euclidean_distancer\n",
    "from cri98tj.distancers.DTW_distancer import DTW_distancer\n",
    "from cri98tj.distancers.InterpolatedRootDistance_distancer import InterpolatedRootDistance_distancer, \\\n",
    "    InterpolatedRootDistanceBestFitting\n",
    "from cri98tj.normalizers.FirstPoint_normalizer import FirstPoint_normalizer\n",
    "from cri98tj.normalizers.normalizer_utils import dataframe_pivot\n",
    "from cri98tj.partitioners.Geohash_partitioner import Geohash_partitioner\n",
    "from cri98tj.partitioners.Voronoi_partitioner import Voronoi_partitioner\n",
    "from cri98tj.selectors.RandomInformationGain_selector import RandomInformationGain_selector\n",
    "from cri98tj.selectors.Random_selector import Random_selector\n",
    "from cri98tj.selectors.RandomOrderline_selector import RandomOrderline_selector\n",
    "from cri98tj.TrajectoryTransformer import TrajectoryTransformer\n",
    "from sklearn.ensemble import RandomForestClassifier"
   ]
  },
  {
   "cell_type": "code",
   "execution_count": 19,
   "id": "0e109cda",
   "metadata": {},
   "outputs": [
    {
     "data": {
      "text/html": [
       "<div>\n",
       "<style scoped>\n",
       "    .dataframe tbody tr th:only-of-type {\n",
       "        vertical-align: middle;\n",
       "    }\n",
       "\n",
       "    .dataframe tbody tr th {\n",
       "        vertical-align: top;\n",
       "    }\n",
       "\n",
       "    .dataframe thead th {\n",
       "        text-align: right;\n",
       "    }\n",
       "</style>\n",
       "<table border=\"1\" class=\"dataframe\">\n",
       "  <thead>\n",
       "    <tr style=\"text-align: right;\">\n",
       "      <th></th>\n",
       "      <th>tid</th>\n",
       "      <th>class</th>\n",
       "      <th>c1</th>\n",
       "      <th>c2</th>\n",
       "      <th>t</th>\n",
       "    </tr>\n",
       "  </thead>\n",
       "  <tbody>\n",
       "    <tr>\n",
       "      <th>0</th>\n",
       "      <td>30901</td>\n",
       "      <td>B</td>\n",
       "      <td>42.077160</td>\n",
       "      <td>4.738411</td>\n",
       "      <td>0</td>\n",
       "    </tr>\n",
       "    <tr>\n",
       "      <th>1</th>\n",
       "      <td>30901</td>\n",
       "      <td>B</td>\n",
       "      <td>42.077246</td>\n",
       "      <td>4.739088</td>\n",
       "      <td>30</td>\n",
       "    </tr>\n",
       "    <tr>\n",
       "      <th>2</th>\n",
       "      <td>30901</td>\n",
       "      <td>B</td>\n",
       "      <td>42.077259</td>\n",
       "      <td>4.739096</td>\n",
       "      <td>60</td>\n",
       "    </tr>\n",
       "    <tr>\n",
       "      <th>3</th>\n",
       "      <td>30901</td>\n",
       "      <td>B</td>\n",
       "      <td>42.077369</td>\n",
       "      <td>4.739158</td>\n",
       "      <td>90</td>\n",
       "    </tr>\n",
       "    <tr>\n",
       "      <th>4</th>\n",
       "      <td>30901</td>\n",
       "      <td>B</td>\n",
       "      <td>42.077635</td>\n",
       "      <td>4.739343</td>\n",
       "      <td>120</td>\n",
       "    </tr>\n",
       "  </tbody>\n",
       "</table>\n",
       "</div>"
      ],
      "text/plain": [
       "     tid class         c1        c2    t\n",
       "0  30901     B  42.077160  4.738411    0\n",
       "1  30901     B  42.077246  4.739088   30\n",
       "2  30901     B  42.077259  4.739096   60\n",
       "3  30901     B  42.077369  4.739158   90\n",
       "4  30901     B  42.077635  4.739343  120"
      ]
     },
     "execution_count": 19,
     "metadata": {},
     "output_type": "execute_result"
    }
   ],
   "source": [
    "df_geo = df0[[\"tid\", \"class\", \"c1\", \"c2\", \"t\"]].copy()\n",
    "\n",
    "df_geo.head()"
   ]
  },
  {
   "cell_type": "code",
   "execution_count": null,
   "id": "1151139c",
   "metadata": {},
   "outputs": [],
   "source": []
  },
  {
   "cell_type": "code",
   "execution_count": 20,
   "id": "d50a5c27",
   "metadata": {},
   "outputs": [
    {
     "name": "stdout",
     "output_type": "stream",
     "text": [
      "Encoding 125348 points with precision 6\n"
     ]
    },
    {
     "data": {
      "application/vnd.jupyter.widget-view+json": {
       "model_id": "0a049fc1b8b1480e85711a7d684ba851",
       "version_major": 2,
       "version_minor": 0
      },
      "text/plain": [
       "  0%|          | 0/125348 [00:00<?, ?it/s]"
      ]
     },
     "metadata": {},
     "output_type": "display_data"
    },
    {
     "name": "stdout",
     "output_type": "stream",
     "text": [
      "Cutting sub-trajectories length at 10.0 over 18\n",
      "Pivoting tables\n"
     ]
    },
    {
     "data": {
      "application/vnd.jupyter.widget-view+json": {
       "model_id": "dd3baa67d1644ee7b8129588c881d169",
       "version_major": 2,
       "version_minor": 0
      },
      "text/plain": [
       "  0%|          | 0/972 [00:00<?, ?it/s]"
      ]
     },
     "metadata": {},
     "output_type": "display_data"
    },
    {
     "name": "stdout",
     "output_type": "stream",
     "text": [
      "Cutting sub-trajectories length at 716.0 over 1011\n",
      "Pivoting tables\n"
     ]
    },
    {
     "data": {
      "application/vnd.jupyter.widget-view+json": {
       "model_id": "c2cb7eb5a81c42c48b24f076b6dda47f",
       "version_major": 2,
       "version_minor": 0
      },
      "text/plain": [
       "  0%|          | 0/23999 [00:00<?, ?it/s]"
      ]
     },
     "metadata": {},
     "output_type": "display_data"
    },
    {
     "name": "stdout",
     "output_type": "stream",
     "text": [
      "Computing scores\n"
     ]
    },
    {
     "data": {
      "application/vnd.jupyter.widget-view+json": {
       "model_id": "1abbee854a68474588c4452a60d6ddb6",
       "version_major": 2,
       "version_minor": 0
      },
      "text/plain": [
       "  0%|          | 0/300 [00:00<?, ?it/s]"
      ]
     },
     "metadata": {},
     "output_type": "display_data"
    },
    {
     "data": {
      "application/vnd.jupyter.widget-view+json": {
       "model_id": "7b4fdcb5da2b495682c40e0d5b2b356c",
       "version_major": 2,
       "version_minor": 0
      },
      "text/plain": [
       "  0%|          | 0/300 [00:00<?, ?it/s]"
      ]
     },
     "metadata": {},
     "output_type": "display_data"
    },
    {
     "name": "stderr",
     "output_type": "stream",
     "text": [
      "C:\\Users\\cri98\\anaconda3\\lib\\site-packages\\sklearn\\utils\\validation.py:993: DataConversionWarning: A column-vector y was passed when a 1d array was expected. Please change the shape of y to (n_samples, ), for example using ravel().\n",
      "  y = column_or_1d(y, warn=True)\n"
     ]
    },
    {
     "name": "stdout",
     "output_type": "stream",
     "text": [
      "0.\t score=0.5843942159870679\n",
      "1.\t score=0.5769732038779753\n",
      "2.\t score=0.5658814879743399\n",
      "3.\t score=0.5275614872021652\n",
      "4.\t score=0.505261120901799\n",
      "5.\t score=0.3951544775451554\n",
      "6.\t score=0.3866085491873077\n",
      "7.\t score=0.364261590590349\n",
      "8.\t score=0.28745470921922633\n",
      "9.\t score=0.28390055456754837\n",
      "10.\t score=0.28064498497374335\n",
      "11.\t score=0.27286598619474445\n",
      "12.\t score=0.2723514925184862\n",
      "13.\t score=0.2689056687344271\n",
      "14.\t score=0.2639516227803811\n",
      "15.\t score=0.2624843123130709\n",
      "16.\t score=0.2547514177566468\n",
      "17.\t score=0.24979346721046092\n",
      "18.\t score=0.2412312875600462\n",
      "19.\t score=0.23792947825823707\n",
      "Pivoting tables\n"
     ]
    },
    {
     "data": {
      "application/vnd.jupyter.widget-view+json": {
       "model_id": "332740d427e84630b252f7b5323755a8",
       "version_major": 2,
       "version_minor": 0
      },
      "text/plain": [
       "  0%|          | 0/178299 [00:00<?, ?it/s]"
      ]
     },
     "metadata": {},
     "output_type": "display_data"
    },
    {
     "data": {
      "application/vnd.jupyter.widget-view+json": {
       "model_id": "f8a815360187475db477586e8c7893f6",
       "version_major": 2,
       "version_minor": 0
      },
      "text/plain": [
       "  0%|          | 0/20 [00:00<?, ?it/s]"
      ]
     },
     "metadata": {},
     "output_type": "display_data"
    },
    {
     "name": "stdout",
     "output_type": "stream",
     "text": [
      "Collecting distances from 20\n"
     ]
    },
    {
     "data": {
      "application/vnd.jupyter.widget-view+json": {
       "model_id": "49184a4499074c0cb04472cab35f7320",
       "version_major": 2,
       "version_minor": 0
      },
      "text/plain": [
       "  0%|          | 0/20 [00:00<?, ?it/s]"
      ]
     },
     "metadata": {},
     "output_type": "display_data"
    },
    {
     "name": "stdout",
     "output_type": "stream",
     "text": [
      "Wall time: 1min 6s\n"
     ]
    }
   ],
   "source": [
    "%%time\n",
    "\n",
    "from sklearn.model_selection import train_test_split\n",
    "\n",
    "spatioTemporalCols = [\"c1\", \"c2\", \"t\"]\n",
    "tid_train, tid_test, _, _ = train_test_split(df_geo.groupby(by=[\"tid\"]).max().reset_index()[\"tid\"],\n",
    "                                                            df_geo.groupby(by=[\"tid\"]).max().reset_index()[\"class\"],\n",
    "                                                            test_size=.3,\n",
    "                                                            stratify=df_geo.groupby(by=[\"tid\"]).max().reset_index()[\"class\"],\n",
    "                                                            random_state=3)\n",
    "\n",
    "partitioner = Geohash_partitioner(precision=6, spatioTemporalColumns=spatioTemporalCols)\n",
    "\n",
    "\n",
    "normalizer = FirstPoint_normalizer(spatioTemporalColumns=spatioTemporalCols, fillna=None)\n",
    "#selector = Random_selector(movelets_per_class=20, normalizer=normalizer,\n",
    "#                                   spatioTemporalColumns=spatioTemporalCols)\n",
    "selector = RandomInformationGain_selector(top_k=20, bestFittingMeasure=InterpolatedRootDistanceBestFitting,\n",
    "                                                  movelets_per_class=300, trajectories_for_orderline=50, n_jobs=24,\n",
    "                                                  spatioTemporalColumns=spatioTemporalCols, normalizer=normalizer)\n",
    "distancer = InterpolatedRootDistance_distancer(normalizer=normalizer, spatioTemporalColumns=spatioTemporalCols, n_jobs=24)\n",
    "\n",
    "part = partitioner.fit_transform(df_geo[df_geo.tid.isin(tid_train)].values)\n",
    "shapelets = selector.fit_transform(part)\n",
    "best_is, dist_np = distancer.fit_transform((df_geo.values, shapelets))"
   ]
  },
  {
   "cell_type": "code",
   "execution_count": 21,
   "id": "3a7b3cf2",
   "metadata": {},
   "outputs": [
    {
     "name": "stdout",
     "output_type": "stream",
     "text": [
      "Model with rank: 1\n",
      "Mean validation score: 0.970 (std: 0.036)\n",
      "Parameters: {'criterion': 'entropy', 'max_depth': 2, 'n_estimators': 300}\n",
      "\n",
      "Model with rank: 1\n",
      "Mean validation score: 0.970 (std: 0.036)\n",
      "Parameters: {'criterion': 'entropy', 'max_depth': 2, 'n_estimators': 600}\n",
      "\n",
      "Model with rank: 1\n",
      "Mean validation score: 0.970 (std: 0.036)\n",
      "Parameters: {'criterion': 'entropy', 'max_depth': 2, 'n_estimators': 900}\n",
      "\n",
      "Model with rank: 1\n",
      "Mean validation score: 0.970 (std: 0.036)\n",
      "Parameters: {'criterion': 'entropy', 'max_depth': 2, 'n_estimators': 1200}\n",
      "\n",
      "Model with rank: 1\n",
      "Mean validation score: 0.970 (std: 0.036)\n",
      "Parameters: {'criterion': 'entropy', 'max_depth': 7, 'n_estimators': 1200}\n",
      "\n",
      "Model with rank: 1\n",
      "Mean validation score: 0.970 (std: 0.036)\n",
      "Parameters: {'criterion': 'entropy', 'max_depth': 12, 'n_estimators': 600}\n",
      "\n",
      "Model with rank: 1\n",
      "Mean validation score: 0.970 (std: 0.036)\n",
      "Parameters: {'criterion': 'entropy', 'max_depth': 12, 'n_estimators': 1200}\n",
      "\n",
      "Model with rank: 1\n",
      "Mean validation score: 0.970 (std: 0.036)\n",
      "Parameters: {'criterion': 'entropy', 'max_depth': 17, 'n_estimators': 300}\n",
      "\n",
      "Model with rank: 1\n",
      "Mean validation score: 0.970 (std: 0.036)\n",
      "Parameters: {'criterion': 'entropy', 'max_depth': 17, 'n_estimators': 900}\n",
      "\n",
      "Model with rank: 1\n",
      "Mean validation score: 0.970 (std: 0.036)\n",
      "Parameters: {'criterion': 'entropy', 'max_depth': 17, 'n_estimators': 1200}\n",
      "\n",
      "Model with rank: 1\n",
      "Mean validation score: 0.970 (std: 0.036)\n",
      "Parameters: {'criterion': 'gini', 'max_depth': 2, 'n_estimators': 600}\n",
      "\n",
      "Model with rank: 1\n",
      "Mean validation score: 0.970 (std: 0.036)\n",
      "Parameters: {'criterion': 'gini', 'max_depth': 2, 'n_estimators': 900}\n",
      "\n",
      "Model with rank: 1\n",
      "Mean validation score: 0.970 (std: 0.036)\n",
      "Parameters: {'criterion': 'gini', 'max_depth': 2, 'n_estimators': 1200}\n",
      "\n",
      "Model with rank: 1\n",
      "Mean validation score: 0.970 (std: 0.036)\n",
      "Parameters: {'criterion': 'gini', 'max_depth': 7, 'n_estimators': 900}\n",
      "\n",
      "Model with rank: 1\n",
      "Mean validation score: 0.970 (std: 0.036)\n",
      "Parameters: {'criterion': 'gini', 'max_depth': 12, 'n_estimators': 900}\n",
      "\n"
     ]
    }
   ],
   "source": [
    "from sklearn.ensemble import RandomForestClassifier\n",
    "from sklearn import tree\n",
    "\n",
    "dist_np_df = pd.DataFrame(dist_np)\n",
    "X = dist_np_df.drop(columns=[0]).values\n",
    "y = dist_np_df[0].values\n",
    "\n",
    "X_train, X_test, y_train, y_test = train_test_split(X, y, test_size=.3, stratify=y, random_state=3)\n",
    "\n",
    "\n",
    "def report(results, n_top=3):\n",
    "    for i in range(1, n_top + 1):\n",
    "        candidates = np.flatnonzero(results['rank_test_score'] == i)\n",
    "        for candidate in candidates:\n",
    "            print(\"Model with rank: {0}\".format(i))\n",
    "            print(\"Mean validation score: {0:.3f} (std: {1:.3f})\".format(\n",
    "                results['mean_test_score'][candidate],\n",
    "                results['std_test_score'][candidate]))\n",
    "            print(\"Parameters: {0}\".format(results['params'][candidate]))\n",
    "            print(\"\")\n",
    "\n",
    "from sklearn.model_selection import GridSearchCV\n",
    "parameters = {'n_estimators': range(300, 1500, 300),\n",
    "              'criterion':[\"entropy\", \"gini\"],\n",
    "              'max_depth': range(2, 20, 5)}\n",
    "\n",
    "clf = GridSearchCV(RandomForestClassifier(n_jobs=1), parameters, cv=10, n_jobs=24, verbose=0, scoring=\"accuracy\")\n",
    "\n",
    "clf.fit(X_train, y_train)\n",
    "\n",
    "report(clf.cv_results_, n_top=3)"
   ]
  },
  {
   "cell_type": "code",
   "execution_count": 22,
   "id": "42bc8f1e",
   "metadata": {},
   "outputs": [
    {
     "name": "stdout",
     "output_type": "stream",
     "text": [
      "              precision    recall  f1-score   support\n",
      "\n",
      "           B       1.00      0.88      0.94        33\n",
      "           T       0.95      1.00      0.98        82\n",
      "\n",
      "    accuracy                           0.97       115\n",
      "   macro avg       0.98      0.94      0.96       115\n",
      "weighted avg       0.97      0.97      0.96       115\n",
      "\n"
     ]
    }
   ],
   "source": [
    "rf = clf.best_estimator_\n",
    "\n",
    "rf.fit(X_train, y_train)\n",
    "\n",
    "from sklearn.metrics import classification_report\n",
    "\n",
    "y_pred = rf.predict(X_test)\n",
    "\n",
    "print(classification_report(y_test, y_pred))"
   ]
  },
  {
   "cell_type": "code",
   "execution_count": 23,
   "id": "14591559",
   "metadata": {},
   "outputs": [
    {
     "name": "stdout",
     "output_type": "stream",
     "text": [
      "0.9652173913043478\n",
      "0.9645094503439524\n"
     ]
    }
   ],
   "source": [
    "from sklearn.metrics import accuracy_score, f1_score\n",
    "\n",
    "print(accuracy_score(y_test, y_pred))\n",
    "print(f1_score(y_test, y_pred, average=\"weighted\"))"
   ]
  },
  {
   "cell_type": "code",
   "execution_count": null,
   "id": "1297284d",
   "metadata": {},
   "outputs": [],
   "source": []
  },
  {
   "cell_type": "code",
   "execution_count": null,
   "id": "e3457a4c",
   "metadata": {},
   "outputs": [],
   "source": []
  },
  {
   "cell_type": "code",
   "execution_count": null,
   "id": "1c805b12",
   "metadata": {},
   "outputs": [],
   "source": []
  }
 ],
 "metadata": {
  "kernelspec": {
   "display_name": "Python 3 (ipykernel)",
   "language": "python",
   "name": "python3"
  },
  "language_info": {
   "codemirror_mode": {
    "name": "ipython",
    "version": 3
   },
   "file_extension": ".py",
   "mimetype": "text/x-python",
   "name": "python",
   "nbconvert_exporter": "python",
   "pygments_lexer": "ipython3",
   "version": "3.9.7"
  }
 },
 "nbformat": 4,
 "nbformat_minor": 5
}
