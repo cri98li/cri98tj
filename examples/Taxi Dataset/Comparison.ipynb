{
 "cells": [
  {
   "cell_type": "code",
   "execution_count": 2,
   "id": "7f3528e2",
   "metadata": {},
   "outputs": [],
   "source": [
    "import matplotlib.pyplot as plt\n",
    "import pandas as pd\n",
    "import numpy as np\n",
    "from tqdm.notebook import tqdm\n",
    "import math\n",
    "import glob\n",
    "from datetime import datetime"
   ]
  },
  {
   "cell_type": "code",
   "execution_count": 3,
   "id": "4070498e",
   "metadata": {},
   "outputs": [
    {
     "data": {
      "text/html": [
       "<div>\n",
       "<style scoped>\n",
       "    .dataframe tbody tr th:only-of-type {\n",
       "        vertical-align: middle;\n",
       "    }\n",
       "\n",
       "    .dataframe tbody tr th {\n",
       "        vertical-align: top;\n",
       "    }\n",
       "\n",
       "    .dataframe thead th {\n",
       "        text-align: right;\n",
       "    }\n",
       "</style>\n",
       "<table border=\"1\" class=\"dataframe\">\n",
       "  <thead>\n",
       "    <tr style=\"text-align: right;\">\n",
       "      <th></th>\n",
       "      <th>CALL_TYPE</th>\n",
       "      <th>TAXI_ID</th>\n",
       "      <th>TIMESTAMP</th>\n",
       "      <th>tid</th>\n",
       "      <th>day_of_week</th>\n",
       "      <th>POLYLINE_LEN</th>\n",
       "      <th>lat</th>\n",
       "      <th>lon</th>\n",
       "    </tr>\n",
       "  </thead>\n",
       "  <tbody>\n",
       "    <tr>\n",
       "      <th>0</th>\n",
       "      <td>C</td>\n",
       "      <td>20000380</td>\n",
       "      <td>1372636853</td>\n",
       "      <td>1372636853620000380</td>\n",
       "      <td>weekday</td>\n",
       "      <td>25</td>\n",
       "      <td>-8.610291</td>\n",
       "      <td>41.140746</td>\n",
       "    </tr>\n",
       "    <tr>\n",
       "      <th>1</th>\n",
       "      <td>C</td>\n",
       "      <td>20000380</td>\n",
       "      <td>1372636868</td>\n",
       "      <td>1372636853620000380</td>\n",
       "      <td>weekday</td>\n",
       "      <td>25</td>\n",
       "      <td>-8.610300</td>\n",
       "      <td>41.140755</td>\n",
       "    </tr>\n",
       "    <tr>\n",
       "      <th>2</th>\n",
       "      <td>C</td>\n",
       "      <td>20000380</td>\n",
       "      <td>1372636883</td>\n",
       "      <td>1372636853620000380</td>\n",
       "      <td>weekday</td>\n",
       "      <td>25</td>\n",
       "      <td>-8.610309</td>\n",
       "      <td>41.140890</td>\n",
       "    </tr>\n",
       "    <tr>\n",
       "      <th>3</th>\n",
       "      <td>C</td>\n",
       "      <td>20000380</td>\n",
       "      <td>1372636898</td>\n",
       "      <td>1372636853620000380</td>\n",
       "      <td>weekday</td>\n",
       "      <td>25</td>\n",
       "      <td>-8.613657</td>\n",
       "      <td>41.141358</td>\n",
       "    </tr>\n",
       "    <tr>\n",
       "      <th>4</th>\n",
       "      <td>C</td>\n",
       "      <td>20000380</td>\n",
       "      <td>1372636913</td>\n",
       "      <td>1372636853620000380</td>\n",
       "      <td>weekday</td>\n",
       "      <td>25</td>\n",
       "      <td>-8.614602</td>\n",
       "      <td>41.141484</td>\n",
       "    </tr>\n",
       "  </tbody>\n",
       "</table>\n",
       "</div>"
      ],
      "text/plain": [
       "  CALL_TYPE   TAXI_ID   TIMESTAMP                  tid day_of_week  \\\n",
       "0         C  20000380  1372636853  1372636853620000380     weekday   \n",
       "1         C  20000380  1372636868  1372636853620000380     weekday   \n",
       "2         C  20000380  1372636883  1372636853620000380     weekday   \n",
       "3         C  20000380  1372636898  1372636853620000380     weekday   \n",
       "4         C  20000380  1372636913  1372636853620000380     weekday   \n",
       "\n",
       "   POLYLINE_LEN       lat        lon  \n",
       "0            25 -8.610291  41.140746  \n",
       "1            25 -8.610300  41.140755  \n",
       "2            25 -8.610309  41.140890  \n",
       "3            25 -8.613657  41.141358  \n",
       "4            25 -8.614602  41.141484  "
      ]
     },
     "execution_count": 3,
     "metadata": {},
     "output_type": "execute_result"
    }
   ],
   "source": [
    "df = pd.read_csv(\"data/train_denorm_1M.zip\")\n",
    "df.head()"
   ]
  },
  {
   "cell_type": "code",
   "execution_count": 4,
   "id": "daecbad3",
   "metadata": {},
   "outputs": [
    {
     "data": {
      "text/plain": [
       "121312"
      ]
     },
     "execution_count": 4,
     "metadata": {},
     "output_type": "execute_result"
    }
   ],
   "source": [
    "len(df.tid.unique())"
   ]
  },
  {
   "cell_type": "code",
   "execution_count": 5,
   "id": "7347266e",
   "metadata": {},
   "outputs": [
    {
     "data": {
      "application/vnd.jupyter.widget-view+json": {
       "model_id": "673ba38f33f541729f34e3547f0b6f13",
       "version_major": 2,
       "version_minor": 0
      },
      "text/plain": [
       "  0%|          | 0/5672929 [00:00<?, ?it/s]"
      ]
     },
     "metadata": {},
     "output_type": "display_data"
    },
    {
     "data": {
      "text/html": [
       "<div>\n",
       "<style scoped>\n",
       "    .dataframe tbody tr th:only-of-type {\n",
       "        vertical-align: middle;\n",
       "    }\n",
       "\n",
       "    .dataframe tbody tr th {\n",
       "        vertical-align: top;\n",
       "    }\n",
       "\n",
       "    .dataframe thead th {\n",
       "        text-align: right;\n",
       "    }\n",
       "</style>\n",
       "<table border=\"1\" class=\"dataframe\">\n",
       "  <thead>\n",
       "    <tr style=\"text-align: right;\">\n",
       "      <th></th>\n",
       "      <th>CALL_TYPE</th>\n",
       "      <th>TAXI_ID</th>\n",
       "      <th>TIMESTAMP</th>\n",
       "      <th>tid</th>\n",
       "      <th>day_of_week</th>\n",
       "      <th>POLYLINE_LEN</th>\n",
       "      <th>lat</th>\n",
       "      <th>lon</th>\n",
       "    </tr>\n",
       "  </thead>\n",
       "  <tbody>\n",
       "    <tr>\n",
       "      <th>0</th>\n",
       "      <td>C</td>\n",
       "      <td>20000380</td>\n",
       "      <td>1372636853</td>\n",
       "      <td>0</td>\n",
       "      <td>weekday</td>\n",
       "      <td>25</td>\n",
       "      <td>-8.610291</td>\n",
       "      <td>41.140746</td>\n",
       "    </tr>\n",
       "    <tr>\n",
       "      <th>1</th>\n",
       "      <td>C</td>\n",
       "      <td>20000380</td>\n",
       "      <td>1372636868</td>\n",
       "      <td>0</td>\n",
       "      <td>weekday</td>\n",
       "      <td>25</td>\n",
       "      <td>-8.610300</td>\n",
       "      <td>41.140755</td>\n",
       "    </tr>\n",
       "    <tr>\n",
       "      <th>2</th>\n",
       "      <td>C</td>\n",
       "      <td>20000380</td>\n",
       "      <td>1372636883</td>\n",
       "      <td>0</td>\n",
       "      <td>weekday</td>\n",
       "      <td>25</td>\n",
       "      <td>-8.610309</td>\n",
       "      <td>41.140890</td>\n",
       "    </tr>\n",
       "    <tr>\n",
       "      <th>3</th>\n",
       "      <td>C</td>\n",
       "      <td>20000380</td>\n",
       "      <td>1372636898</td>\n",
       "      <td>0</td>\n",
       "      <td>weekday</td>\n",
       "      <td>25</td>\n",
       "      <td>-8.613657</td>\n",
       "      <td>41.141358</td>\n",
       "    </tr>\n",
       "    <tr>\n",
       "      <th>4</th>\n",
       "      <td>C</td>\n",
       "      <td>20000380</td>\n",
       "      <td>1372636913</td>\n",
       "      <td>0</td>\n",
       "      <td>weekday</td>\n",
       "      <td>25</td>\n",
       "      <td>-8.614602</td>\n",
       "      <td>41.141484</td>\n",
       "    </tr>\n",
       "  </tbody>\n",
       "</table>\n",
       "</div>"
      ],
      "text/plain": [
       "  CALL_TYPE   TAXI_ID   TIMESTAMP  tid day_of_week  POLYLINE_LEN       lat  \\\n",
       "0         C  20000380  1372636853    0     weekday            25 -8.610291   \n",
       "1         C  20000380  1372636868    0     weekday            25 -8.610300   \n",
       "2         C  20000380  1372636883    0     weekday            25 -8.610309   \n",
       "3         C  20000380  1372636898    0     weekday            25 -8.613657   \n",
       "4         C  20000380  1372636913    0     weekday            25 -8.614602   \n",
       "\n",
       "         lon  \n",
       "0  41.140746  \n",
       "1  41.140755  \n",
       "2  41.140890  \n",
       "3  41.141358  \n",
       "4  41.141484  "
      ]
     },
     "execution_count": 5,
     "metadata": {},
     "output_type": "execute_result"
    }
   ],
   "source": [
    "#cambio i taxi id perchè il numero è troppo grande per l'implementazione java di Movelets\n",
    "\n",
    "c = -1\n",
    "new_tids = []\n",
    "\n",
    "prec = -1\n",
    "\n",
    "for row in tqdm(df.values):\n",
    "    if row[3] != prec:\n",
    "        prec = row[3]\n",
    "        c +=1\n",
    "    \n",
    "    new_tids.append(c)\n",
    "    #c+=1\n",
    "\n",
    "\n",
    "df.tid = new_tids\n",
    "\n",
    "df.head()"
   ]
  },
  {
   "cell_type": "code",
   "execution_count": 6,
   "id": "b2aaee05",
   "metadata": {},
   "outputs": [
    {
     "data": {
      "text/plain": [
       "121312"
      ]
     },
     "execution_count": 6,
     "metadata": {},
     "output_type": "execute_result"
    }
   ],
   "source": [
    "len(df.tid.unique())"
   ]
  },
  {
   "cell_type": "code",
   "execution_count": 7,
   "id": "f7d933b8",
   "metadata": {},
   "outputs": [
    {
     "data": {
      "text/plain": [
       "5672929"
      ]
     },
     "execution_count": 7,
     "metadata": {},
     "output_type": "execute_result"
    }
   ],
   "source": [
    "len(df)"
   ]
  },
  {
   "cell_type": "code",
   "execution_count": 8,
   "id": "47f8051e",
   "metadata": {},
   "outputs": [],
   "source": [
    " df = df[df.tid < df.tid.max()*.7]"
   ]
  },
  {
   "cell_type": "code",
   "execution_count": 9,
   "id": "e50c1707",
   "metadata": {},
   "outputs": [
    {
     "data": {
      "text/plain": [
       "3989765"
      ]
     },
     "execution_count": 9,
     "metadata": {},
     "output_type": "execute_result"
    }
   ],
   "source": [
    "len(df)"
   ]
  },
  {
   "cell_type": "code",
   "execution_count": null,
   "id": "4c7f1cd4",
   "metadata": {},
   "outputs": [],
   "source": []
  },
  {
   "cell_type": "code",
   "execution_count": null,
   "id": "e1030ca9",
   "metadata": {},
   "outputs": [],
   "source": []
  },
  {
   "cell_type": "code",
   "execution_count": 10,
   "id": "f02b55ff",
   "metadata": {},
   "outputs": [
    {
     "data": {
      "text/html": [
       "<div>\n",
       "<style scoped>\n",
       "    .dataframe tbody tr th:only-of-type {\n",
       "        vertical-align: middle;\n",
       "    }\n",
       "\n",
       "    .dataframe tbody tr th {\n",
       "        vertical-align: top;\n",
       "    }\n",
       "\n",
       "    .dataframe thead th {\n",
       "        text-align: right;\n",
       "    }\n",
       "</style>\n",
       "<table border=\"1\" class=\"dataframe\">\n",
       "  <thead>\n",
       "    <tr style=\"text-align: right;\">\n",
       "      <th></th>\n",
       "      <th>tid</th>\n",
       "      <th>class</th>\n",
       "      <th>c1</th>\n",
       "      <th>c2</th>\n",
       "      <th>t</th>\n",
       "    </tr>\n",
       "  </thead>\n",
       "  <tbody>\n",
       "    <tr>\n",
       "      <th>0</th>\n",
       "      <td>0</td>\n",
       "      <td>C</td>\n",
       "      <td>-8.610291</td>\n",
       "      <td>41.140746</td>\n",
       "      <td>1372636853</td>\n",
       "    </tr>\n",
       "    <tr>\n",
       "      <th>1</th>\n",
       "      <td>0</td>\n",
       "      <td>C</td>\n",
       "      <td>-8.610300</td>\n",
       "      <td>41.140755</td>\n",
       "      <td>1372636868</td>\n",
       "    </tr>\n",
       "    <tr>\n",
       "      <th>2</th>\n",
       "      <td>0</td>\n",
       "      <td>C</td>\n",
       "      <td>-8.610309</td>\n",
       "      <td>41.140890</td>\n",
       "      <td>1372636883</td>\n",
       "    </tr>\n",
       "    <tr>\n",
       "      <th>3</th>\n",
       "      <td>0</td>\n",
       "      <td>C</td>\n",
       "      <td>-8.613657</td>\n",
       "      <td>41.141358</td>\n",
       "      <td>1372636898</td>\n",
       "    </tr>\n",
       "    <tr>\n",
       "      <th>4</th>\n",
       "      <td>0</td>\n",
       "      <td>C</td>\n",
       "      <td>-8.614602</td>\n",
       "      <td>41.141484</td>\n",
       "      <td>1372636913</td>\n",
       "    </tr>\n",
       "  </tbody>\n",
       "</table>\n",
       "</div>"
      ],
      "text/plain": [
       "   tid class        c1         c2           t\n",
       "0    0     C -8.610291  41.140746  1372636853\n",
       "1    0     C -8.610300  41.140755  1372636868\n",
       "2    0     C -8.610309  41.140890  1372636883\n",
       "3    0     C -8.613657  41.141358  1372636898\n",
       "4    0     C -8.614602  41.141484  1372636913"
      ]
     },
     "execution_count": 10,
     "metadata": {},
     "output_type": "execute_result"
    }
   ],
   "source": [
    "df0 = df[[\"tid\", \"CALL_TYPE\", \"lat\", \"lon\", \"TIMESTAMP\"]]\\\n",
    "        .rename(columns={\"lat\": \"c1\", \"lon\": \"c2\", \"TIMESTAMP\": \"t\", \"CALL_TYPE\": \"class\"})\n",
    "\n",
    "df0.head()"
   ]
  },
  {
   "cell_type": "code",
   "execution_count": 19,
   "id": "6eb95823",
   "metadata": {},
   "outputs": [],
   "source": [
    "t_rocket = 0\n",
    "\n",
    "start = datetime.now()\n",
    "\n",
    "df0[\"pos\"] = df0.groupby(['tid']).cumcount()\n",
    "\n",
    "t_rocket = (datetime.now() - start).total_seconds() * 1000 #ms"
   ]
  },
  {
   "cell_type": "code",
   "execution_count": 20,
   "id": "5e61ccaf",
   "metadata": {},
   "outputs": [
    {
     "name": "stdout",
     "output_type": "stream",
     "text": [
      "LAT\n"
     ]
    },
    {
     "data": {
      "application/vnd.jupyter.widget-view+json": {
       "model_id": "6cc22d4e68194e0e8bfabc20eb7f503d",
       "version_major": 2,
       "version_minor": 0
      },
      "text/plain": [
       "  0%|          | 0/84918 [00:00<?, ?it/s]"
      ]
     },
     "metadata": {},
     "output_type": "display_data"
    },
    {
     "name": "stdout",
     "output_type": "stream",
     "text": [
      "LON\n"
     ]
    },
    {
     "data": {
      "application/vnd.jupyter.widget-view+json": {
       "model_id": "a16ec37c75314df29635b412d4ec758b",
       "version_major": 2,
       "version_minor": 0
      },
      "text/plain": [
       "  0%|          | 0/84918 [00:00<?, ?it/s]"
      ]
     },
     "metadata": {},
     "output_type": "display_data"
    },
    {
     "name": "stdout",
     "output_type": "stream",
     "text": [
      "TIME\n"
     ]
    },
    {
     "data": {
      "application/vnd.jupyter.widget-view+json": {
       "model_id": "3407eec51be14c0fbcfdaa0fa280d3ed",
       "version_major": 2,
       "version_minor": 0
      },
      "text/plain": [
       "  0%|          | 0/84918 [00:00<?, ?it/s]"
      ]
     },
     "metadata": {},
     "output_type": "display_data"
    }
   ],
   "source": [
    "start = datetime.now()\n",
    "\n",
    "def padLastValue(df):\n",
    "    array = df.values\n",
    "    for i in tqdm(range(len(array))):\n",
    "        for j in range(len(array[i])):\n",
    "            if math.isnan(array[i][j]):\n",
    "                array[i][j] =array[i][j-1]\n",
    "    return pd.DataFrame(array)\n",
    "\n",
    "percentile=1\n",
    "\n",
    "print(\"LAT\")\n",
    "df_lat = pd.DataFrame()\n",
    "df_lat = df0.groupby(['tid','pos'])['c1'].max().unstack()\n",
    "df_lat = padLastValue(df_lat)\n",
    "\n",
    "print(\"LON\")\n",
    "df_lon = pd.DataFrame()\n",
    "df_lon = df0.groupby(['tid','pos'])['c2'].max().unstack()\n",
    "df_lon = padLastValue(df_lon)\n",
    "\n",
    "print(\"TIME\")\n",
    "df_time = pd.DataFrame()\n",
    "df_time = df0.groupby(['tid','pos'])['t'].max().unstack()\n",
    "df_time = padLastValue(df_time)\n",
    "\n",
    "y = df0.groupby(['tid'])['class'].max()\n",
    "\n",
    "\n",
    "\n",
    "from sktime.transformations.panel.rocket import Rocket\n",
    "from sktime.datatypes._panel._convert import from_2d_array_to_nested\n",
    "\n",
    "nested_lat = from_2d_array_to_nested(df_lat).rename(columns={0: \"dim_0\"})\n",
    "nested_lon = from_2d_array_to_nested(df_lon).rename(columns={0: \"dim_0\"})\n",
    "nested_time = from_2d_array_to_nested(df_time).rename(columns={0: \"dim_0\"})\n",
    "\n",
    "nested = nested_lat\n",
    "#nested = nested_UTMGridNorth\n",
    "\n",
    "nested[\"dim_1\"] = nested_lon[\"dim_0\"]\n",
    "nested[\"dim_2\"] = nested_time[\"dim_0\"]\n",
    "\n",
    "\n",
    "\n",
    "t_rocket = (datetime.now() - start).total_seconds() * 1000 #ms"
   ]
  },
  {
   "cell_type": "code",
   "execution_count": 21,
   "id": "f221604e",
   "metadata": {},
   "outputs": [
    {
     "data": {
      "text/html": [
       "<div>\n",
       "<style scoped>\n",
       "    .dataframe tbody tr th:only-of-type {\n",
       "        vertical-align: middle;\n",
       "    }\n",
       "\n",
       "    .dataframe tbody tr th {\n",
       "        vertical-align: top;\n",
       "    }\n",
       "\n",
       "    .dataframe thead th {\n",
       "        text-align: right;\n",
       "    }\n",
       "</style>\n",
       "<table border=\"1\" class=\"dataframe\">\n",
       "  <thead>\n",
       "    <tr style=\"text-align: right;\">\n",
       "      <th></th>\n",
       "      <th>tid</th>\n",
       "      <th>class</th>\n",
       "      <th>c1</th>\n",
       "      <th>c2</th>\n",
       "      <th>t</th>\n",
       "      <th>latLon</th>\n",
       "      <th>pos</th>\n",
       "    </tr>\n",
       "  </thead>\n",
       "  <tbody>\n",
       "    <tr>\n",
       "      <th>0</th>\n",
       "      <td>0</td>\n",
       "      <td>C</td>\n",
       "      <td>-8.610291</td>\n",
       "      <td>41.140746</td>\n",
       "      <td>1372636853</td>\n",
       "      <td>-8.610291 41.140746</td>\n",
       "      <td>0</td>\n",
       "    </tr>\n",
       "    <tr>\n",
       "      <th>1</th>\n",
       "      <td>0</td>\n",
       "      <td>C</td>\n",
       "      <td>-8.610300</td>\n",
       "      <td>41.140755</td>\n",
       "      <td>1372636868</td>\n",
       "      <td>-8.6103 41.140755</td>\n",
       "      <td>1</td>\n",
       "    </tr>\n",
       "    <tr>\n",
       "      <th>2</th>\n",
       "      <td>0</td>\n",
       "      <td>C</td>\n",
       "      <td>-8.610309</td>\n",
       "      <td>41.140890</td>\n",
       "      <td>1372636883</td>\n",
       "      <td>-8.610309 41.14089</td>\n",
       "      <td>2</td>\n",
       "    </tr>\n",
       "    <tr>\n",
       "      <th>3</th>\n",
       "      <td>0</td>\n",
       "      <td>C</td>\n",
       "      <td>-8.613657</td>\n",
       "      <td>41.141358</td>\n",
       "      <td>1372636898</td>\n",
       "      <td>-8.613657 41.141358</td>\n",
       "      <td>3</td>\n",
       "    </tr>\n",
       "    <tr>\n",
       "      <th>4</th>\n",
       "      <td>0</td>\n",
       "      <td>C</td>\n",
       "      <td>-8.614602</td>\n",
       "      <td>41.141484</td>\n",
       "      <td>1372636913</td>\n",
       "      <td>-8.614602 41.141484</td>\n",
       "      <td>4</td>\n",
       "    </tr>\n",
       "  </tbody>\n",
       "</table>\n",
       "</div>"
      ],
      "text/plain": [
       "   tid class        c1         c2           t               latLon  pos\n",
       "0    0     C -8.610291  41.140746  1372636853  -8.610291 41.140746    0\n",
       "1    0     C -8.610300  41.140755  1372636868    -8.6103 41.140755    1\n",
       "2    0     C -8.610309  41.140890  1372636883   -8.610309 41.14089    2\n",
       "3    0     C -8.613657  41.141358  1372636898  -8.613657 41.141358    3\n",
       "4    0     C -8.614602  41.141484  1372636913  -8.614602 41.141484    4"
      ]
     },
     "execution_count": 21,
     "metadata": {},
     "output_type": "execute_result"
    }
   ],
   "source": [
    "df0.head()"
   ]
  },
  {
   "cell_type": "code",
   "execution_count": 22,
   "id": "a6c6c111",
   "metadata": {},
   "outputs": [],
   "source": [
    "start = datetime.now()\n",
    "\n",
    "from sklearn.model_selection import train_test_split\n",
    "X_train, X_test, y_train, y_test = train_test_split(nested, y, test_size=.3, stratify=y)\n",
    "\n",
    "rocket = Rocket(n_jobs=-1, num_kernels=10000)  # by default, ROCKET uses 10,000 kernels\n",
    "rocket.fit(X_train)\n",
    "\n",
    "X_train_transform = rocket.transform(X_train)\n",
    "X_test_transform = rocket.transform(X_test)\n",
    "\n",
    "t_rocket = (datetime.now() - start).total_seconds() * 1000 #ms"
   ]
  },
  {
   "cell_type": "code",
   "execution_count": 23,
   "id": "735e42e8",
   "metadata": {},
   "outputs": [
    {
     "data": {
      "text/plain": [
       "798781.589"
      ]
     },
     "execution_count": 23,
     "metadata": {},
     "output_type": "execute_result"
    }
   ],
   "source": [
    "t_rocket"
   ]
  },
  {
   "cell_type": "code",
   "execution_count": null,
   "id": "417159ec",
   "metadata": {},
   "outputs": [],
   "source": []
  },
  {
   "cell_type": "raw",
   "source": [
    "%%time\n",
    "\n",
    "from sklearn.ensemble import RandomForestClassifier\n",
    "from sklearn import tree\n",
    "\n",
    "def report(results, n_top=3):\n",
    "    for i in range(1, n_top + 1):\n",
    "        candidates = np.flatnonzero(results['rank_test_score'] == i)\n",
    "        for candidate in candidates:\n",
    "            print(\"Model with rank: {0}\".format(i))\n",
    "            print(\"Mean validation score: {0:.3f} (std: {1:.3f})\".format(\n",
    "                results['mean_test_score'][candidate],\n",
    "                results['std_test_score'][candidate]))\n",
    "            print(\"Parameters: {0}\".format(results['params'][candidate]))\n",
    "            print(\"\")\n",
    "\n",
    "from sklearn.model_selection import GridSearchCV\n",
    "parameters = {'n_estimators': range(300, 2000, 400),\n",
    "              'criterion':[\"entropy\", \"gini\"],\n",
    "              'max_depth': range(2, 25, 5)}\n",
    "\n",
    "clf = GridSearchCV(RandomForestClassifier(n_jobs=12), parameters, cv=3, n_jobs=2, verbose=3, scoring=\"accuracy\")\n",
    "\n",
    "clf.fit(X_train_transform, y_train)\n",
    "\n",
    "report(clf.cv_results_, n_top=3)"
   ],
   "metadata": {
    "collapsed": false
   }
  },
  {
   "cell_type": "code",
   "execution_count": 25,
   "id": "dc15d5d9",
   "metadata": {},
   "outputs": [
    {
     "data": {
      "text/plain": [
       "798781.589"
      ]
     },
     "execution_count": 25,
     "metadata": {},
     "output_type": "execute_result"
    }
   ],
   "source": [
    "t_rocket"
   ]
  },
  {
   "cell_type": "code",
   "execution_count": null,
   "id": "7246ba3c",
   "metadata": {},
   "outputs": [],
   "source": []
  },
  {
   "cell_type": "code",
   "execution_count": 26,
   "id": "a45d72ce",
   "metadata": {},
   "outputs": [
    {
     "name": "stdout",
     "output_type": "stream",
     "text": [
      "              precision    recall  f1-score   support\n",
      "\n",
      "           A       0.56      0.19      0.28      5579\n",
      "           B       0.56      0.94      0.70     12969\n",
      "           C       0.63      0.18      0.27      6928\n",
      "\n",
      "    accuracy                           0.57     25476\n",
      "   macro avg       0.58      0.43      0.42     25476\n",
      "weighted avg       0.58      0.57      0.49     25476\n",
      "\n",
      "CPU times: user 2h 55min 35s, sys: 1.06 s, total: 2h 55min 36s\n",
      "Wall time: 14min 43s\n"
     ]
    }
   ],
   "source": [
    "%%time\n",
    "\n",
    "rf = clf.best_estimator_\n",
    "#clf = tree.DecisionTreeClassifier(max_depth=2)\n",
    "\n",
    "rf.fit(X_train_transform, y_train)\n",
    "\n",
    "from sklearn import metrics\n",
    "y_pred=rf.predict(X_test_transform)\n",
    "\n",
    "\n",
    "from sklearn.metrics import classification_report\n",
    "\n",
    "print(classification_report(y_test, y_pred))"
   ]
  },
  {
   "cell_type": "code",
   "execution_count": null,
   "id": "459c189f",
   "metadata": {},
   "outputs": [],
   "source": []
  },
  {
   "cell_type": "code",
   "execution_count": 27,
   "id": "1e5d0a3c",
   "metadata": {},
   "outputs": [],
   "source": [
    "## Movelets"
   ]
  },
  {
   "cell_type": "code",
   "execution_count": 28,
   "id": "6de5183d",
   "metadata": {},
   "outputs": [
    {
     "name": "stdout",
     "output_type": "stream",
     "text": [
      "Le cartelle train e test esistono già!\n"
     ]
    }
   ],
   "source": [
    "import random\n",
    "import os\n",
    "\n",
    "\n",
    "def prepareForShapelet(df=pd.DataFrame, trajectoryIDAttribute= None, targetAttribute=None,\n",
    "                       timestampAttribute=None, latAttr=None, lonAttr=None, trainPerc=.80, trajPerc=1.0, maxPoints=None):\n",
    "    attributes = [timestampAttribute, \"latLon\"]+ [x for x in list(df.columns) if x not in [trajectoryIDAttribute, targetAttribute, timestampAttribute, latAttr, lonAttr]] #mi assicuro di avere il timestam come primo elemento\n",
    "    if(os.path.exists(\"train\") | os.path.exists(\"test\")):\n",
    "        print(\"Le cartelle train e test esistono già!\")\n",
    "        return\n",
    "\n",
    "    df[\"latLon\"] = df[latAttr].astype(str) + \" \" + df[lonAttr].astype(str)\n",
    "\n",
    "    ids = list(df[trajectoryIDAttribute].unique())\n",
    "    #ids = random.sample(ids, round(len(ids)*trajPerc))\n",
    "    ids = ids[:round(len(ids)*trajPerc)]\n",
    "    ids_train = random.sample(ids, round(trainPerc*len(ids)))\n",
    "    ids_test = [x for x in ids if x not in ids_train]\n",
    "\n",
    "    os.makedirs(\"train\")\n",
    "    os.makedirs(\"test\")\n",
    "\n",
    "    for id in tqdm(ids_train):\n",
    "        df_id = df[df[trajectoryIDAttribute] == id]\n",
    "        classe = df_id[targetAttribute].iloc[0]\n",
    "        if maxPoints is not None:\n",
    "            df[df[trajectoryIDAttribute] == id][attributes].head(maxPoints).to_csv(F\"train/{id} s{id} c{classe}.r2\", index=False, header=False)\n",
    "        else:\n",
    "            df[df[trajectoryIDAttribute] == id][attributes].to_csv(F\"train/{id} s{id} c{classe}.r2\", index=False, header=False)\n",
    "\n",
    "    for id in tqdm(ids_test):\n",
    "        df_id = df[df[trajectoryIDAttribute] == id]\n",
    "        if maxPoints is not None:\n",
    "            df_id = df_id.head(maxPoints)\n",
    "        classe = df_id[targetAttribute].iloc[0]\n",
    "        if maxPoints is not None:\n",
    "            df[df[trajectoryIDAttribute] == id][attributes].head(maxPoints).to_csv(F\"test/{id} s{id} c{classe}.r2\", index=False, header=False)\n",
    "        else:\n",
    "            df[df[trajectoryIDAttribute] == id][attributes].to_csv(F\"test/{id} s{id} c{classe}.r2\", index=False, header=False)\n",
    "\n",
    "prepareForShapelet(df0, \"tid\", \"class\", \"t\", \"c1\", \"c2\", trainPerc=.7, trajPerc=1)"
   ]
  },
  {
   "cell_type": "code",
   "execution_count": 12,
   "id": "8c5b1bd8",
   "metadata": {},
   "outputs": [],
   "source": [
    "#heap space"
   ]
  },
  {
   "cell_type": "code",
   "execution_count": null,
   "id": "94e62601",
   "metadata": {},
   "outputs": [],
   "source": []
  },
  {
   "cell_type": "code",
   "execution_count": 11,
   "id": "7e8e4225",
   "metadata": {},
   "outputs": [],
   "source": [
    "## Geolet"
   ]
  },
  {
   "cell_type": "code",
   "execution_count": 12,
   "id": "e82f885c",
   "metadata": {},
   "outputs": [],
   "source": [
    "import geolib.geohash\n",
    "from sklearn.ensemble import RandomForestClassifier\n",
    "from sklearn.metrics import classification_report\n",
    "import pandas as pd\n",
    "from tqdm.auto import tqdm\n",
    "from cri98tj.partitioners.Geohash_partitioner import Geohash_partitioner\n",
    "from cri98tj.normalizers.FirstPoint_normalizer import FirstPoint_normalizer\n",
    "from cri98tj.selectors.RandomInformationGain_selector import RandomInformationGain_selector\n",
    "from cri98tj.distancers.Euclidean_distancer import Euclidean_distancer\n",
    "from sklearn.model_selection import train_test_split\n",
    "from cri98tj.distancers.Euclidean_distancer import euclideanBestFitting\n",
    "\n",
    "spatioTemporalCols = [\"c1\", \"c2\", \"t\"]\n",
    "\n",
    "tid_train, tid_test, _, _ = train_test_split(df0.groupby(by=[\"tid\"]).max().reset_index()[\"tid\"],\n",
    "                                                        df0.groupby(by=[\"tid\"]).max().reset_index()[\"class\"],\n",
    "                                                        test_size=.3,\n",
    "                                                        stratify=df0.groupby(by=[\"tid\"]).max().reset_index()[\"class\"],\n",
    "                                                        random_state=3)"
   ]
  },
  {
   "cell_type": "code",
   "execution_count": null,
   "id": "a0074bb9",
   "metadata": {},
   "outputs": [],
   "source": []
  },
  {
   "cell_type": "code",
   "execution_count": null,
   "id": "c75e9e12",
   "metadata": {},
   "outputs": [],
   "source": []
  },
  {
   "cell_type": "code",
   "execution_count": null,
   "id": "d37ea84b",
   "metadata": {},
   "outputs": [],
   "source": []
  },
  {
   "cell_type": "code",
   "execution_count": 19,
   "id": "dc6c4b57",
   "metadata": {},
   "outputs": [
    {
     "name": "stdout",
     "output_type": "stream",
     "text": [
      "Encoding 2793946 points with precision 5\n"
     ]
    },
    {
     "data": {
      "application/vnd.jupyter.widget-view+json": {
       "model_id": "d898045e555443449abf93a7abcc4fb8",
       "version_major": 2,
       "version_minor": 0
      },
      "text/plain": [
       "  0%|          | 0/2793946 [00:00<?, ?it/s]"
      ]
     },
     "metadata": {},
     "output_type": "display_data"
    },
    {
     "name": "stdout",
     "output_type": "stream",
     "text": [
      "Cutting sub-trajectories length at 42.0 over 115\n",
      "Pivoting tables\n"
     ]
    },
    {
     "data": {
      "application/vnd.jupyter.widget-view+json": {
       "model_id": "590b416c37bc4e4dbd163896b5661bde",
       "version_major": 2,
       "version_minor": 0
      },
      "text/plain": [
       "  0%|          | 0/53608 [00:00<?, ?it/s]"
      ]
     },
     "metadata": {},
     "output_type": "display_data"
    },
    {
     "name": "stdout",
     "output_type": "stream",
     "text": [
      "Cutting sub-trajectories length at 70.0 over 118\n",
      "Pivoting tables\n"
     ]
    },
    {
     "data": {
      "application/vnd.jupyter.widget-view+json": {
       "model_id": "98b28e479ace40149cc97d433fe38092",
       "version_major": 2,
       "version_minor": 0
      },
      "text/plain": [
       "  0%|          | 0/23061 [00:00<?, ?it/s]"
      ]
     },
     "metadata": {},
     "output_type": "display_data"
    },
    {
     "name": "stdout",
     "output_type": "stream",
     "text": [
      "Computing scores\n"
     ]
    },
    {
     "data": {
      "application/vnd.jupyter.widget-view+json": {
       "model_id": "84a27780478b4c76ae13e4524d76d394",
       "version_major": 2,
       "version_minor": 0
      },
      "text/plain": [
       "  0%|          | 0/3000 [00:00<?, ?it/s]"
      ]
     },
     "metadata": {},
     "output_type": "display_data"
    },
    {
     "data": {
      "application/vnd.jupyter.widget-view+json": {
       "model_id": "84078f78262146c18024837ba7f52f20",
       "version_major": 2,
       "version_minor": 0
      },
      "text/plain": [
       "  0%|          | 0/3000 [00:00<?, ?it/s]"
      ]
     },
     "metadata": {},
     "output_type": "display_data"
    },
    {
     "name": "stderr",
     "output_type": "stream",
     "text": [
      "/home/cri98li/Documenti/GitHub/cri98tj/venv/lib/python3.8/site-packages/sklearn/utils/validation.py:1111: DataConversionWarning: A column-vector y was passed when a 1d array was expected. Please change the shape of y to (n_samples, ), for example using ravel().\n",
      "  y = column_or_1d(y, warn=True)\n"
     ]
    },
    {
     "name": "stdout",
     "output_type": "stream",
     "text": [
      "0.\t score=0.09495440516786613\n",
      "1.\t score=0.09353453482209306\n",
      "2.\t score=0.09283467381287758\n",
      "3.\t score=0.09201182673771235\n",
      "4.\t score=0.09133926527022496\n",
      "5.\t score=0.0902442019900711\n",
      "6.\t score=0.08984293469130233\n",
      "7.\t score=0.08908368503559894\n",
      "8.\t score=0.08756923476878398\n",
      "9.\t score=0.08716060297992256\n",
      "10.\t score=0.0868032026200658\n",
      "11.\t score=0.08582418604675013\n",
      "12.\t score=0.08410600024727022\n",
      "13.\t score=0.0840100499706602\n",
      "14.\t score=0.0828501060882707\n",
      "15.\t score=0.08224043016241622\n",
      "16.\t score=0.08166264245434762\n",
      "17.\t score=0.0798849790058318\n",
      "18.\t score=0.07894100239603152\n",
      "19.\t score=0.07865518071900901\n",
      "20.\t score=0.07865302009522313\n",
      "21.\t score=0.07855709287464396\n",
      "22.\t score=0.07827336395940065\n",
      "23.\t score=0.07809621572745651\n",
      "24.\t score=0.07782222459094479\n",
      "25.\t score=0.07739861402802029\n",
      "26.\t score=0.0769897391755312\n",
      "27.\t score=0.07693705375398041\n",
      "28.\t score=0.07674933582584753\n",
      "29.\t score=0.07672691771433127\n",
      "30.\t score=0.07525206742904533\n",
      "31.\t score=0.07520908200268339\n",
      "32.\t score=0.07453779011563055\n",
      "33.\t score=0.07396141866388262\n",
      "34.\t score=0.07295680822013995\n",
      "35.\t score=0.0729123759975896\n",
      "36.\t score=0.07262994309752835\n",
      "37.\t score=0.07211987872903936\n",
      "38.\t score=0.07165866537173704\n",
      "39.\t score=0.07131174212418623\n",
      "40.\t score=0.07061534999918595\n",
      "41.\t score=0.0704071560781685\n",
      "42.\t score=0.07033659217612609\n",
      "43.\t score=0.06975892682171647\n",
      "44.\t score=0.06963855998020607\n",
      "45.\t score=0.06949076570278101\n",
      "46.\t score=0.06906693972381373\n",
      "47.\t score=0.06883327526163674\n",
      "48.\t score=0.06854532967887961\n",
      "49.\t score=0.06797352693438663\n",
      "Pivoting tables\n"
     ]
    },
    {
     "data": {
      "application/vnd.jupyter.widget-view+json": {
       "model_id": "99f83492b34f4e0695db77760c3e98ec",
       "version_major": 2,
       "version_minor": 0
      },
      "text/plain": [
       "  0%|          | 0/3989765 [00:00<?, ?it/s]"
      ]
     },
     "metadata": {},
     "output_type": "display_data"
    },
    {
     "data": {
      "application/vnd.jupyter.widget-view+json": {
       "model_id": "dafa2aa9ac634ad79af3682e91b9e36d",
       "version_major": 2,
       "version_minor": 0
      },
      "text/plain": [
       "  0%|          | 0/50 [00:00<?, ?it/s]"
      ]
     },
     "metadata": {},
     "output_type": "display_data"
    },
    {
     "name": "stdout",
     "output_type": "stream",
     "text": [
      "Collecting distances from 50\n"
     ]
    },
    {
     "data": {
      "application/vnd.jupyter.widget-view+json": {
       "model_id": "925a02fce4b5402db01c71bb14bce41a",
       "version_major": 2,
       "version_minor": 0
      },
      "text/plain": [
       "  0%|          | 0/50 [00:00<?, ?it/s]"
      ]
     },
     "metadata": {},
     "output_type": "display_data"
    },
    {
     "name": "stdout",
     "output_type": "stream",
     "text": [
      "CPU times: user 2min 6s, sys: 10.7 s, total: 2min 16s\n",
      "Wall time: 44min 27s\n"
     ]
    }
   ],
   "source": [
    "%%time\n",
    "\n",
    "from datetime import datetime\n",
    "from sklearn.metrics import accuracy_score, precision_score, f1_score, recall_score\n",
    "from cri98tj.distancers.InterpolatedRootDistance_distancer import InterpolatedRootDistance_distancer, \\\n",
    "    InterpolatedRootDistanceBestFitting\n",
    "\n",
    "precision = 5\n",
    "n_jobs = 24\n",
    "verbose = True\n",
    "\n",
    "\n",
    "\n",
    "df1 = df0[[\"tid\", \"class\", \"c1\", \"c2\", \"t\"]].copy()\n",
    "\n",
    "normalizer = FirstPoint_normalizer(spatioTemporalColumns=spatioTemporalCols, fillna=None, verbose=verbose)\n",
    "distancer = InterpolatedRootDistance_distancer(normalizer=normalizer, spatioTemporalColumns=spatioTemporalCols, n_jobs=n_jobs, verbose=verbose)\n",
    "partitioner = Geohash_partitioner(precision=precision, spatioTemporalColumns=spatioTemporalCols, verbose=verbose)\n",
    "\n",
    "start = datetime.now()\n",
    "part = partitioner.fit_transform(df1[df1.tid.isin(tid_train)].values)\n",
    "selector = RandomInformationGain_selector(top_k=50, bestFittingMeasure=InterpolatedRootDistanceBestFitting, \n",
    "                                          movelets_per_class=3000, trajectories_for_orderline=500, \n",
    "                                          n_jobs=n_jobs, spatioTemporalColumns=spatioTemporalCols, \n",
    "                                          normalizer=normalizer, verbose=verbose)\n",
    "shapelets = selector.fit_transform(part)\n",
    "_, dist_np = distancer.fit_transform((df1.values, shapelets))"
   ]
  },
  {
   "cell_type": "code",
   "execution_count": 21,
   "id": "04206184",
   "metadata": {},
   "outputs": [],
   "source": [
    "dist_np_df = pd.DataFrame(dist_np)\n",
    "X = dist_np_df.drop(columns=[0]).values\n",
    "y = dist_np_df[0].values\n",
    "\n",
    "X_train, X_test, y_train, y_test = train_test_split(X, y, test_size=.3, stratify=y, random_state=3)"
   ]
  },
  {
   "cell_type": "code",
   "execution_count": 22,
   "id": "75c282ff",
   "metadata": {},
   "outputs": [
    {
     "name": "stdout",
     "output_type": "stream",
     "text": [
      "              precision    recall  f1-score   support\n",
      "\n",
      "           A       0.58      0.15      0.24      5579\n",
      "           B       0.56      0.94      0.70     12969\n",
      "           C       0.60      0.21      0.31      6928\n",
      "\n",
      "    accuracy                           0.57     25476\n",
      "   macro avg       0.58      0.43      0.42     25476\n",
      "weighted avg       0.58      0.57      0.50     25476\n",
      "\n"
     ]
    }
   ],
   "source": [
    "rf = RandomForestClassifier(criterion='entropy', max_depth=22, n_estimators=1500, n_jobs=-1)#clf.best_estimator_\n",
    "\n",
    "\n",
    "rf.fit(X_train, y_train)\n",
    "\n",
    "from sklearn.metrics import classification_report\n",
    "\n",
    "y_pred = rf.predict(X_test)\n",
    "\n",
    "print(classification_report(y_test, y_pred))"
   ]
  },
  {
   "cell_type": "code",
   "execution_count": null,
   "id": "f1a40b6e",
   "metadata": {},
   "outputs": [],
   "source": []
  }
 ],
 "metadata": {
  "kernelspec": {
   "display_name": "Python 3",
   "language": "python",
   "name": "python3"
  },
  "language_info": {
   "codemirror_mode": {
    "name": "ipython",
    "version": 3
   },
   "file_extension": ".py",
   "mimetype": "text/x-python",
   "name": "python",
   "nbconvert_exporter": "python",
   "pygments_lexer": "ipython3",
   "version": "3.8.8"
  }
 },
 "nbformat": 4,
 "nbformat_minor": 5
}
