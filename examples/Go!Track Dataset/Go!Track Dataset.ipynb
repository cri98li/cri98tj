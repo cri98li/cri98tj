{
 "cells": [
  {
   "cell_type": "code",
   "execution_count": 77,
   "outputs": [],
   "source": [
    "import pandas as pd\n",
    "from cri98tj.distancers.Euclidean_distancer import Euclidean_distancer\n",
    "from cri98tj.partitioners.Geohash_partitioner import Geohash_partitioner\n",
    "from cri98tj.selectors.OPTICS_selector import OPTICS_selector\n",
    "from cri98tj.selectors.RandomInformationGain_selector import RandomInformationGain_selector\n",
    "from cri98tj.selectors.Random_selector import Random_selector\n",
    "from cri98tj.selectors.RandomOrderline_selector import RandomOrderline_selector\n",
    "from cri98tj.prebuilded_transformers.GeohashXmensEuclideian_prebuild import gxe_prebuild\n",
    "from cri98tj.TrajectoryTransformer import TrajectoryTransformer\n",
    "from sklearn.model_selection import train_test_split\n",
    "from sklearn.metrics import classification_report"
   ],
   "metadata": {
    "collapsed": false,
    "pycharm": {
     "name": "#%%\n"
    }
   }
  },
  {
   "cell_type": "code",
   "execution_count": 38,
   "outputs": [
    {
     "data": {
      "text/plain": "       track_id  car_or_bus                 time   latitude  longitude\n0             1           1  2014-09-13 07:24:32 -10.939341 -37.062742\n1             1           1  2014-09-13 07:24:37 -10.939341 -37.062742\n2             1           1  2014-09-13 07:24:42 -10.939324 -37.062765\n3             1           1  2014-09-13 07:24:47 -10.939211 -37.062843\n4             1           1  2014-09-13 07:24:53 -10.938939 -37.062879\n...         ...         ...                  ...        ...        ...\n18102     38092           2  2016-01-19 13:01:01 -10.923722 -37.106579\n18103     38092           2  2016-01-19 13:01:12 -10.923704 -37.106693\n18104     38092           2  2016-01-19 13:01:24 -10.923715 -37.106688\n18105     38092           2  2016-01-19 13:01:36 -10.923715 -37.106688\n18106     38092           2  2016-01-19 13:01:47 -10.923716 -37.106688\n\n[18107 rows x 5 columns]",
      "text/html": "<div>\n<style scoped>\n    .dataframe tbody tr th:only-of-type {\n        vertical-align: middle;\n    }\n\n    .dataframe tbody tr th {\n        vertical-align: top;\n    }\n\n    .dataframe thead th {\n        text-align: right;\n    }\n</style>\n<table border=\"1\" class=\"dataframe\">\n  <thead>\n    <tr style=\"text-align: right;\">\n      <th></th>\n      <th>track_id</th>\n      <th>car_or_bus</th>\n      <th>time</th>\n      <th>latitude</th>\n      <th>longitude</th>\n    </tr>\n  </thead>\n  <tbody>\n    <tr>\n      <th>0</th>\n      <td>1</td>\n      <td>1</td>\n      <td>2014-09-13 07:24:32</td>\n      <td>-10.939341</td>\n      <td>-37.062742</td>\n    </tr>\n    <tr>\n      <th>1</th>\n      <td>1</td>\n      <td>1</td>\n      <td>2014-09-13 07:24:37</td>\n      <td>-10.939341</td>\n      <td>-37.062742</td>\n    </tr>\n    <tr>\n      <th>2</th>\n      <td>1</td>\n      <td>1</td>\n      <td>2014-09-13 07:24:42</td>\n      <td>-10.939324</td>\n      <td>-37.062765</td>\n    </tr>\n    <tr>\n      <th>3</th>\n      <td>1</td>\n      <td>1</td>\n      <td>2014-09-13 07:24:47</td>\n      <td>-10.939211</td>\n      <td>-37.062843</td>\n    </tr>\n    <tr>\n      <th>4</th>\n      <td>1</td>\n      <td>1</td>\n      <td>2014-09-13 07:24:53</td>\n      <td>-10.938939</td>\n      <td>-37.062879</td>\n    </tr>\n    <tr>\n      <th>...</th>\n      <td>...</td>\n      <td>...</td>\n      <td>...</td>\n      <td>...</td>\n      <td>...</td>\n    </tr>\n    <tr>\n      <th>18102</th>\n      <td>38092</td>\n      <td>2</td>\n      <td>2016-01-19 13:01:01</td>\n      <td>-10.923722</td>\n      <td>-37.106579</td>\n    </tr>\n    <tr>\n      <th>18103</th>\n      <td>38092</td>\n      <td>2</td>\n      <td>2016-01-19 13:01:12</td>\n      <td>-10.923704</td>\n      <td>-37.106693</td>\n    </tr>\n    <tr>\n      <th>18104</th>\n      <td>38092</td>\n      <td>2</td>\n      <td>2016-01-19 13:01:24</td>\n      <td>-10.923715</td>\n      <td>-37.106688</td>\n    </tr>\n    <tr>\n      <th>18105</th>\n      <td>38092</td>\n      <td>2</td>\n      <td>2016-01-19 13:01:36</td>\n      <td>-10.923715</td>\n      <td>-37.106688</td>\n    </tr>\n    <tr>\n      <th>18106</th>\n      <td>38092</td>\n      <td>2</td>\n      <td>2016-01-19 13:01:47</td>\n      <td>-10.923716</td>\n      <td>-37.106688</td>\n    </tr>\n  </tbody>\n</table>\n<p>18107 rows × 5 columns</p>\n</div>"
     },
     "execution_count": 38,
     "metadata": {},
     "output_type": "execute_result"
    }
   ],
   "source": [
    "df = pd.read_csv(\"data/prepared_carORbus.zip\")\n",
    "\n",
    "df"
   ],
   "metadata": {
    "collapsed": false,
    "pycharm": {
     "name": "#%%\n"
    }
   }
  },
  {
   "cell_type": "code",
   "execution_count": 108,
   "outputs": [
    {
     "ename": "TypeError",
     "evalue": "strptime() argument 1 must be str, not float",
     "output_type": "error",
     "traceback": [
      "\u001B[1;31m---------------------------------------------------------------------------\u001B[0m",
      "\u001B[1;31mTypeError\u001B[0m                                 Traceback (most recent call last)",
      "\u001B[1;32m~\\AppData\\Local\\Temp/ipykernel_47376/482385347.py\u001B[0m in \u001B[0;36m<module>\u001B[1;34m\u001B[0m\n\u001B[0;32m      1\u001B[0m \u001B[1;32mfrom\u001B[0m \u001B[0mdatetime\u001B[0m \u001B[1;32mimport\u001B[0m \u001B[0mdatetime\u001B[0m\u001B[1;33m\u001B[0m\u001B[1;33m\u001B[0m\u001B[0m\n\u001B[0;32m      2\u001B[0m \u001B[1;33m\u001B[0m\u001B[0m\n\u001B[1;32m----> 3\u001B[1;33m \u001B[0mdf\u001B[0m\u001B[1;33m.\u001B[0m\u001B[0mtime\u001B[0m \u001B[1;33m=\u001B[0m \u001B[0mdf\u001B[0m\u001B[1;33m.\u001B[0m\u001B[0mtime\u001B[0m\u001B[1;33m.\u001B[0m\u001B[0mapply\u001B[0m\u001B[1;33m(\u001B[0m\u001B[1;32mlambda\u001B[0m \u001B[0mx\u001B[0m\u001B[1;33m:\u001B[0m \u001B[0mdatetime\u001B[0m\u001B[1;33m.\u001B[0m\u001B[0mstrptime\u001B[0m\u001B[1;33m(\u001B[0m\u001B[0mx\u001B[0m\u001B[1;33m,\u001B[0m \u001B[1;34m\"%Y-%m-%d %H:%M:%S\"\u001B[0m\u001B[1;33m)\u001B[0m\u001B[1;33m.\u001B[0m\u001B[0mtimestamp\u001B[0m\u001B[1;33m(\u001B[0m\u001B[1;33m)\u001B[0m\u001B[1;33m)\u001B[0m\u001B[1;33m\u001B[0m\u001B[1;33m\u001B[0m\u001B[0m\n\u001B[0m\u001B[0;32m      4\u001B[0m \u001B[1;33m\u001B[0m\u001B[0m\n\u001B[0;32m      5\u001B[0m \u001B[0mdf\u001B[0m\u001B[1;33m\u001B[0m\u001B[1;33m\u001B[0m\u001B[0m\n",
      "\u001B[1;32m~\\anaconda3\\lib\\site-packages\\pandas\\core\\series.py\u001B[0m in \u001B[0;36mapply\u001B[1;34m(self, func, convert_dtype, args, **kwargs)\u001B[0m\n\u001B[0;32m   4431\u001B[0m         \u001B[0mdtype\u001B[0m\u001B[1;33m:\u001B[0m \u001B[0mfloat64\u001B[0m\u001B[1;33m\u001B[0m\u001B[1;33m\u001B[0m\u001B[0m\n\u001B[0;32m   4432\u001B[0m         \"\"\"\n\u001B[1;32m-> 4433\u001B[1;33m         \u001B[1;32mreturn\u001B[0m \u001B[0mSeriesApply\u001B[0m\u001B[1;33m(\u001B[0m\u001B[0mself\u001B[0m\u001B[1;33m,\u001B[0m \u001B[0mfunc\u001B[0m\u001B[1;33m,\u001B[0m \u001B[0mconvert_dtype\u001B[0m\u001B[1;33m,\u001B[0m \u001B[0margs\u001B[0m\u001B[1;33m,\u001B[0m \u001B[0mkwargs\u001B[0m\u001B[1;33m)\u001B[0m\u001B[1;33m.\u001B[0m\u001B[0mapply\u001B[0m\u001B[1;33m(\u001B[0m\u001B[1;33m)\u001B[0m\u001B[1;33m\u001B[0m\u001B[1;33m\u001B[0m\u001B[0m\n\u001B[0m\u001B[0;32m   4434\u001B[0m \u001B[1;33m\u001B[0m\u001B[0m\n\u001B[0;32m   4435\u001B[0m     def _reduce(\n",
      "\u001B[1;32m~\\anaconda3\\lib\\site-packages\\pandas\\core\\apply.py\u001B[0m in \u001B[0;36mapply\u001B[1;34m(self)\u001B[0m\n\u001B[0;32m   1080\u001B[0m             \u001B[1;32mreturn\u001B[0m \u001B[0mself\u001B[0m\u001B[1;33m.\u001B[0m\u001B[0mapply_str\u001B[0m\u001B[1;33m(\u001B[0m\u001B[1;33m)\u001B[0m\u001B[1;33m\u001B[0m\u001B[1;33m\u001B[0m\u001B[0m\n\u001B[0;32m   1081\u001B[0m \u001B[1;33m\u001B[0m\u001B[0m\n\u001B[1;32m-> 1082\u001B[1;33m         \u001B[1;32mreturn\u001B[0m \u001B[0mself\u001B[0m\u001B[1;33m.\u001B[0m\u001B[0mapply_standard\u001B[0m\u001B[1;33m(\u001B[0m\u001B[1;33m)\u001B[0m\u001B[1;33m\u001B[0m\u001B[1;33m\u001B[0m\u001B[0m\n\u001B[0m\u001B[0;32m   1083\u001B[0m \u001B[1;33m\u001B[0m\u001B[0m\n\u001B[0;32m   1084\u001B[0m     \u001B[1;32mdef\u001B[0m \u001B[0magg\u001B[0m\u001B[1;33m(\u001B[0m\u001B[0mself\u001B[0m\u001B[1;33m)\u001B[0m\u001B[1;33m:\u001B[0m\u001B[1;33m\u001B[0m\u001B[1;33m\u001B[0m\u001B[0m\n",
      "\u001B[1;32m~\\anaconda3\\lib\\site-packages\\pandas\\core\\apply.py\u001B[0m in \u001B[0;36mapply_standard\u001B[1;34m(self)\u001B[0m\n\u001B[0;32m   1135\u001B[0m                 \u001B[1;31m# List[Union[Callable[..., Any], str]]]]]\"; expected\u001B[0m\u001B[1;33m\u001B[0m\u001B[1;33m\u001B[0m\u001B[0m\n\u001B[0;32m   1136\u001B[0m                 \u001B[1;31m# \"Callable[[Any], Any]\"\u001B[0m\u001B[1;33m\u001B[0m\u001B[1;33m\u001B[0m\u001B[0m\n\u001B[1;32m-> 1137\u001B[1;33m                 mapped = lib.map_infer(\n\u001B[0m\u001B[0;32m   1138\u001B[0m                     \u001B[0mvalues\u001B[0m\u001B[1;33m,\u001B[0m\u001B[1;33m\u001B[0m\u001B[1;33m\u001B[0m\u001B[0m\n\u001B[0;32m   1139\u001B[0m                     \u001B[0mf\u001B[0m\u001B[1;33m,\u001B[0m  \u001B[1;31m# type: ignore[arg-type]\u001B[0m\u001B[1;33m\u001B[0m\u001B[1;33m\u001B[0m\u001B[0m\n",
      "\u001B[1;32m~\\anaconda3\\lib\\site-packages\\pandas\\_libs\\lib.pyx\u001B[0m in \u001B[0;36mpandas._libs.lib.map_infer\u001B[1;34m()\u001B[0m\n",
      "\u001B[1;32m~\\AppData\\Local\\Temp/ipykernel_47376/482385347.py\u001B[0m in \u001B[0;36m<lambda>\u001B[1;34m(x)\u001B[0m\n\u001B[0;32m      1\u001B[0m \u001B[1;32mfrom\u001B[0m \u001B[0mdatetime\u001B[0m \u001B[1;32mimport\u001B[0m \u001B[0mdatetime\u001B[0m\u001B[1;33m\u001B[0m\u001B[1;33m\u001B[0m\u001B[0m\n\u001B[0;32m      2\u001B[0m \u001B[1;33m\u001B[0m\u001B[0m\n\u001B[1;32m----> 3\u001B[1;33m \u001B[0mdf\u001B[0m\u001B[1;33m.\u001B[0m\u001B[0mtime\u001B[0m \u001B[1;33m=\u001B[0m \u001B[0mdf\u001B[0m\u001B[1;33m.\u001B[0m\u001B[0mtime\u001B[0m\u001B[1;33m.\u001B[0m\u001B[0mapply\u001B[0m\u001B[1;33m(\u001B[0m\u001B[1;32mlambda\u001B[0m \u001B[0mx\u001B[0m\u001B[1;33m:\u001B[0m \u001B[0mdatetime\u001B[0m\u001B[1;33m.\u001B[0m\u001B[0mstrptime\u001B[0m\u001B[1;33m(\u001B[0m\u001B[0mx\u001B[0m\u001B[1;33m,\u001B[0m \u001B[1;34m\"%Y-%m-%d %H:%M:%S\"\u001B[0m\u001B[1;33m)\u001B[0m\u001B[1;33m.\u001B[0m\u001B[0mtimestamp\u001B[0m\u001B[1;33m(\u001B[0m\u001B[1;33m)\u001B[0m\u001B[1;33m)\u001B[0m\u001B[1;33m\u001B[0m\u001B[1;33m\u001B[0m\u001B[0m\n\u001B[0m\u001B[0;32m      4\u001B[0m \u001B[1;33m\u001B[0m\u001B[0m\n\u001B[0;32m      5\u001B[0m \u001B[0mdf\u001B[0m\u001B[1;33m\u001B[0m\u001B[1;33m\u001B[0m\u001B[0m\n",
      "\u001B[1;31mTypeError\u001B[0m: strptime() argument 1 must be str, not float"
     ]
    }
   ],
   "source": [
    "from datetime import datetime\n",
    "\n",
    "df.time = df.time.apply(lambda x: datetime.strptime(x, \"%Y-%m-%d %H:%M:%S\").timestamp())\n",
    "\n",
    "df"
   ],
   "metadata": {
    "collapsed": false,
    "pycharm": {
     "name": "#%%\n"
    }
   }
  },
  {
   "cell_type": "code",
   "execution_count": 108,
   "outputs": [],
   "source": [],
   "metadata": {
    "collapsed": false,
    "pycharm": {
     "name": "#%%\n"
    }
   }
  },
  {
   "cell_type": "code",
   "execution_count": 119,
   "outputs": [
    {
     "name": "stdout",
     "output_type": "stream",
     "text": [
      "              precision    recall  f1-score   support\n",
      "\n",
      "           1       0.82      0.96      0.88      4204\n",
      "           2       0.65      0.28      0.39      1229\n",
      "\n",
      "    accuracy                           0.80      5433\n",
      "   macro avg       0.74      0.62      0.64      5433\n",
      "weighted avg       0.78      0.80      0.77      5433\n",
      "\n"
     ]
    }
   ],
   "source": [
    "from sklearn import tree\n",
    "\n",
    "X_train, X_test, y_train, y_test = train_test_split(df[[\"latitude\", \"longitude\", \"time\"]].values, df[\"car_or_bus\"].values, test_size=.3, stratify=df[\"car_or_bus\"].values, random_state=3)\n",
    "\n",
    "clf =  tree.DecisionTreeClassifier(max_depth=1)\n",
    "\n",
    "clf.fit(X_train, y_train)\n",
    "\n",
    "y_pred = clf.predict(X_test)\n",
    "print(classification_report(y_test, y_pred))"
   ],
   "metadata": {
    "collapsed": false,
    "pycharm": {
     "name": "#%%\n"
    }
   }
  },
  {
   "cell_type": "code",
   "execution_count": 120,
   "outputs": [
    {
     "data": {
      "text/plain": "[Text(0.5, 0.75, 'longitude <= -37.087\\ngini = 0.35\\nsamples = 12674\\nvalue = [9807, 2867]'),\n Text(0.25, 0.25, 'gini = 0.442\\nsamples = 1285\\nvalue = [424, 861]'),\n Text(0.75, 0.25, 'gini = 0.29\\nsamples = 11389\\nvalue = [9383, 2006]')]"
     },
     "execution_count": 120,
     "metadata": {},
     "output_type": "execute_result"
    },
    {
     "data": {
      "text/plain": "<Figure size 432x288 with 1 Axes>",
      "image/png": "[encoded data removed]"
     },
     "metadata": {
      "needs_background": "light"
     },
     "output_type": "display_data"
    }
   ],
   "source": [
    "tree.plot_tree(clf, feature_names=[\"latitude\", \"longitude\"])"
   ],
   "metadata": {
    "collapsed": false,
    "pycharm": {
     "name": "#%%\n"
    }
   }
  },
  {
   "cell_type": "code",
   "execution_count": 120,
   "outputs": [],
   "source": [],
   "metadata": {
    "collapsed": false,
    "pycharm": {
     "name": "#%%\n"
    }
   }
  },
  {
   "cell_type": "code",
   "execution_count": 129,
   "outputs": [
    {
     "name": "stdout",
     "output_type": "stream",
     "text": [
      "              precision    recall  f1-score   support\n",
      "\n",
      "           1       0.93      0.98      0.96      4204\n",
      "           2       0.92      0.76      0.84      1229\n",
      "\n",
      "    accuracy                           0.93      5433\n",
      "   macro avg       0.93      0.87      0.90      5433\n",
      "weighted avg       0.93      0.93      0.93      5433\n",
      "\n"
     ]
    }
   ],
   "source": [
    "clf =  tree.DecisionTreeClassifier(max_depth=6)\n",
    "clf.fit(X_train, y_train)\n",
    "\n",
    "y_pred = clf.predict(X_test)\n",
    "print(classification_report(y_test, y_pred))"
   ],
   "metadata": {
    "collapsed": false,
    "pycharm": {
     "name": "#%%\n"
    }
   }
  },
  {
   "cell_type": "code",
   "execution_count": 130,
   "outputs": [
    {
     "data": {
      "text/plain": "[Text(0.39680232558139533, 0.9285714285714286, 'longitude <= -37.087\\ngini = 0.35\\nsamples = 12674\\nvalue = [9807, 2867]'),\n Text(0.12790697674418605, 0.7857142857142857, 'latitude <= -10.931\\ngini = 0.442\\nsamples = 1285\\nvalue = [424, 861]'),\n Text(0.06976744186046512, 0.6428571428571429, 'time <= 1418773248.0\\ngini = 0.008\\nsamples = 243\\nvalue = [242, 1]'),\n Text(0.046511627906976744, 0.5, 'longitude <= -37.323\\ngini = 0.444\\nsamples = 3\\nvalue = [2, 1]'),\n Text(0.023255813953488372, 0.35714285714285715, 'gini = 0.0\\nsamples = 1\\nvalue = [0, 1]'),\n Text(0.06976744186046512, 0.35714285714285715, 'gini = 0.0\\nsamples = 2\\nvalue = [2, 0]'),\n Text(0.09302325581395349, 0.5, 'gini = 0.0\\nsamples = 240\\nvalue = [240, 0]'),\n Text(0.18604651162790697, 0.6428571428571429, 'time <= 1431673728.0\\ngini = 0.288\\nsamples = 1042\\nvalue = [182, 860]'),\n Text(0.13953488372093023, 0.5, 'latitude <= -10.91\\ngini = 0.039\\nsamples = 746\\nvalue = [15, 731]'),\n Text(0.11627906976744186, 0.35714285714285715, 'latitude <= -10.914\\ngini = 0.016\\nsamples = 737\\nvalue = [6, 731]'),\n Text(0.06976744186046512, 0.21428571428571427, 'latitude <= -10.917\\ngini = 0.008\\nsamples = 710\\nvalue = [3, 707]'),\n Text(0.046511627906976744, 0.07142857142857142, 'gini = 0.0\\nsamples = 627\\nvalue = [0, 627]'),\n Text(0.09302325581395349, 0.07142857142857142, 'gini = 0.07\\nsamples = 83\\nvalue = [3, 80]'),\n Text(0.16279069767441862, 0.21428571428571427, 'time <= 1417643648.0\\ngini = 0.198\\nsamples = 27\\nvalue = [3, 24]'),\n Text(0.13953488372093023, 0.07142857142857142, 'gini = 0.5\\nsamples = 6\\nvalue = [3, 3]'),\n Text(0.18604651162790697, 0.07142857142857142, 'gini = 0.0\\nsamples = 21\\nvalue = [0, 21]'),\n Text(0.16279069767441862, 0.35714285714285715, 'gini = 0.0\\nsamples = 9\\nvalue = [9, 0]'),\n Text(0.23255813953488372, 0.5, 'time <= 1432005440.0\\ngini = 0.492\\nsamples = 296\\nvalue = [167, 129]'),\n Text(0.20930232558139536, 0.35714285714285715, 'gini = 0.0\\nsamples = 48\\nvalue = [48, 0]'),\n Text(0.2558139534883721, 0.35714285714285715, 'time <= 1433086720.0\\ngini = 0.499\\nsamples = 248\\nvalue = [119, 129]'),\n Text(0.23255813953488372, 0.21428571428571427, 'gini = 0.0\\nsamples = 74\\nvalue = [0, 74]'),\n Text(0.27906976744186046, 0.21428571428571427, 'time <= 1434241472.0\\ngini = 0.432\\nsamples = 174\\nvalue = [119, 55]'),\n Text(0.2558139534883721, 0.07142857142857142, 'gini = 0.287\\nsamples = 144\\nvalue = [119, 25]'),\n Text(0.3023255813953488, 0.07142857142857142, 'gini = 0.0\\nsamples = 30\\nvalue = [0, 30]'),\n Text(0.6656976744186046, 0.7857142857142857, 'time <= 1430089024.0\\ngini = 0.29\\nsamples = 11389\\nvalue = [9383, 2006]'),\n Text(0.48255813953488375, 0.6428571428571429, 'time <= 1413408832.0\\ngini = 0.17\\nsamples = 7384\\nvalue = [6693, 691]'),\n Text(0.4186046511627907, 0.5, 'time <= 1413064128.0\\ngini = 0.477\\nsamples = 731\\nvalue = [444, 287]'),\n Text(0.3953488372093023, 0.35714285714285715, 'time <= 1412417472.0\\ngini = 0.43\\nsamples = 646\\nvalue = [444, 202]'),\n Text(0.37209302325581395, 0.21428571428571427, 'latitude <= -10.929\\ngini = 0.498\\nsamples = 433\\nvalue = [231, 202]'),\n Text(0.3488372093023256, 0.07142857142857142, 'gini = 0.0\\nsamples = 150\\nvalue = [150, 0]'),\n Text(0.3953488372093023, 0.07142857142857142, 'gini = 0.409\\nsamples = 283\\nvalue = [81, 202]'),\n Text(0.4186046511627907, 0.21428571428571427, 'gini = 0.0\\nsamples = 213\\nvalue = [213, 0]'),\n Text(0.4418604651162791, 0.35714285714285715, 'gini = 0.0\\nsamples = 85\\nvalue = [0, 85]'),\n Text(0.5465116279069767, 0.5, 'latitude <= -10.987\\ngini = 0.114\\nsamples = 6653\\nvalue = [6249, 404]'),\n Text(0.4883720930232558, 0.35714285714285715, 'longitude <= -37.061\\ngini = 0.441\\nsamples = 76\\nvalue = [25, 51]'),\n Text(0.46511627906976744, 0.21428571428571427, 'gini = 0.0\\nsamples = 25\\nvalue = [25, 0]'),\n Text(0.5116279069767442, 0.21428571428571427, 'gini = 0.0\\nsamples = 51\\nvalue = [0, 51]'),\n Text(0.6046511627906976, 0.35714285714285715, 'longitude <= -37.073\\ngini = 0.102\\nsamples = 6577\\nvalue = [6224, 353]'),\n Text(0.5581395348837209, 0.21428571428571427, 'time <= 1414023744.0\\ngini = 0.267\\nsamples = 1057\\nvalue = [889, 168]'),\n Text(0.5348837209302325, 0.07142857142857142, 'gini = 0.0\\nsamples = 73\\nvalue = [0, 73]'),\n Text(0.5813953488372093, 0.07142857142857142, 'gini = 0.174\\nsamples = 984\\nvalue = [889, 95]'),\n Text(0.6511627906976745, 0.21428571428571427, 'time <= 1423627840.0\\ngini = 0.065\\nsamples = 5520\\nvalue = [5335, 185]'),\n Text(0.627906976744186, 0.07142857142857142, 'gini = 0.101\\nsamples = 3194\\nvalue = [3024, 170]'),\n Text(0.6744186046511628, 0.07142857142857142, 'gini = 0.013\\nsamples = 2326\\nvalue = [2311, 15]'),\n Text(0.8488372093023255, 0.6428571428571429, 'time <= 1431678144.0\\ngini = 0.441\\nsamples = 4005\\nvalue = [2690, 1315]'),\n Text(0.8255813953488372, 0.5, 'gini = 0.0\\nsamples = 439\\nvalue = [0, 439]'),\n Text(0.872093023255814, 0.5, 'longitude <= -37.048\\ngini = 0.371\\nsamples = 3566\\nvalue = [2690, 876]'),\n Text(0.7906976744186046, 0.35714285714285715, 'latitude <= -10.92\\ngini = 0.296\\nsamples = 3129\\nvalue = [2564, 565]'),\n Text(0.7441860465116279, 0.21428571428571427, 'time <= 1432891136.0\\ngini = 0.109\\nsamples = 2062\\nvalue = [1943, 119]'),\n Text(0.7209302325581395, 0.07142857142857142, 'gini = 0.349\\nsamples = 492\\nvalue = [381, 111]'),\n Text(0.7674418604651163, 0.07142857142857142, 'gini = 0.01\\nsamples = 1570\\nvalue = [1562, 8]'),\n Text(0.8372093023255814, 0.21428571428571427, 'latitude <= -10.918\\ngini = 0.487\\nsamples = 1067\\nvalue = [621, 446]'),\n Text(0.813953488372093, 0.07142857142857142, 'gini = 0.305\\nsamples = 304\\nvalue = [57, 247]'),\n Text(0.8604651162790697, 0.07142857142857142, 'gini = 0.386\\nsamples = 763\\nvalue = [564, 199]'),\n Text(0.9534883720930233, 0.35714285714285715, 'time <= 1433143040.0\\ngini = 0.41\\nsamples = 437\\nvalue = [126, 311]'),\n Text(0.9302325581395349, 0.21428571428571427, 'time <= 1432889472.0\\ngini = 0.497\\nsamples = 234\\nvalue = [126, 108]'),\n Text(0.9069767441860465, 0.07142857142857142, 'gini = 0.264\\nsamples = 128\\nvalue = [20, 108]'),\n Text(0.9534883720930233, 0.07142857142857142, 'gini = 0.0\\nsamples = 106\\nvalue = [106, 0]'),\n Text(0.9767441860465116, 0.21428571428571427, 'gini = 0.0\\nsamples = 203\\nvalue = [0, 203]')]"
     },
     "execution_count": 130,
     "metadata": {},
     "output_type": "execute_result"
    },
    {
     "data": {
      "text/plain": "<Figure size 432x288 with 1 Axes>",
      "image/png": "[encoded data removed]"
     },
     "metadata": {
      "needs_background": "light"
     },
     "output_type": "display_data"
    }
   ],
   "source": [
    "tree.plot_tree(clf, feature_names=[\"latitude\", \"longitude\", \"time\"])"
   ],
   "metadata": {
    "collapsed": false,
    "pycharm": {
     "name": "#%%\n"
    }
   }
  },
  {
   "cell_type": "code",
   "execution_count": null,
   "outputs": [],
   "source": [],
   "metadata": {
    "collapsed": false,
    "pycharm": {
     "name": "#%%\n"
    }
   }
  },
  {
   "cell_type": "code",
   "execution_count": null,
   "outputs": [],
   "source": [],
   "metadata": {
    "collapsed": false,
    "pycharm": {
     "name": "#%%\n"
    }
   }
  },
  {
   "cell_type": "code",
   "execution_count": null,
   "outputs": [],
   "source": [],
   "metadata": {
    "collapsed": false,
    "pycharm": {
     "name": "#%%\n"
    }
   }
  },
  {
   "cell_type": "code",
   "execution_count": null,
   "outputs": [],
   "source": [],
   "metadata": {
    "collapsed": false,
    "pycharm": {
     "name": "#%%\n"
    }
   }
  },
  {
   "cell_type": "code",
   "execution_count": null,
   "outputs": [],
   "source": [],
   "metadata": {
    "collapsed": false,
    "pycharm": {
     "name": "#%%\n"
    }
   }
  },
  {
   "cell_type": "code",
   "execution_count": 80,
   "outputs": [],
   "source": [
    "tid_train, tid_test, _, _ = train_test_split(df.groupby(by=[\"track_id\"]).max().reset_index()[\"track_id\"], df.groupby(by=[\"track_id\"]).max().reset_index()[\"car_or_bus\"], test_size=.3,\n",
    "                                             stratify=df.groupby(by=[\"track_id\"]).max().reset_index()[\"car_or_bus\"],\n",
    "                                             random_state=3)"
   ],
   "metadata": {
    "collapsed": false,
    "pycharm": {
     "name": "#%%\n"
    }
   }
  },
  {
   "cell_type": "code",
   "execution_count": 100,
   "outputs": [
    {
     "name": "stdout",
     "output_type": "stream",
     "text": [
      "Encoding 11913 points with precision 8\n"
     ]
    },
    {
     "data": {
      "text/plain": "  0%|          | 0/11913 [00:00<?, ?it/s]",
      "application/vnd.jupyter.widget-view+json": {
       "version_major": 2,
       "version_minor": 0,
       "model_id": "48d3cb35e46b46e3af95d34336dc1a28"
      }
     },
     "metadata": {},
     "output_type": "display_data"
    },
    {
     "name": "stdout",
     "output_type": "stream",
     "text": [
      "Retrieving partition boundaries\n"
     ]
    },
    {
     "data": {
      "text/plain": "  0%|          | 0/11913 [00:00<?, ?it/s]",
      "application/vnd.jupyter.widget-view+json": {
       "version_major": 2,
       "version_minor": 0,
       "model_id": "0848d84f48d04c9b80c546b58b1c28eb"
      }
     },
     "metadata": {},
     "output_type": "display_data"
    },
    {
     "name": "stdout",
     "output_type": "stream",
     "text": [
      "Normalizing the sub-trajectories\n",
      "Cutting sub-trajectories length at 65.39999999999964\n",
      "Pivoting tables\n",
      "Cutting sub-trajectories length at 368.0\n",
      "Pivoting tables\n"
     ]
    },
    {
     "name": "stderr",
     "output_type": "stream",
     "text": [
      "C:\\Users\\cri98\\Documents\\GitHub\\cri98tj\\cri98tj\\selectors\\selector_utils.py:21: FutureWarning: merging between different levels is deprecated and will be removed in a future version. (2 levels on the left, 1 on the right)\n",
      "  df_pivot = df_pivot.merge(df.groupby(['tid'])['class'].max().reset_index(), on=[\"tid\"])\n"
     ]
    },
    {
     "name": "stdout",
     "output_type": "stream",
     "text": [
      "Computing scores\n"
     ]
    },
    {
     "name": "stderr",
     "output_type": "stream",
     "text": [
      "C:\\Users\\cri98\\Documents\\GitHub\\cri98tj\\cri98tj\\selectors\\selector_utils.py:21: FutureWarning: merging between different levels is deprecated and will be removed in a future version. (2 levels on the left, 1 on the right)\n",
      "  df_pivot = df_pivot.merge(df.groupby(['tid'])['class'].max().reset_index(), on=[\"tid\"])\n"
     ]
    },
    {
     "data": {
      "text/plain": "  0%|          | 0/114 [00:00<?, ?it/s]",
      "application/vnd.jupyter.widget-view+json": {
       "version_major": 2,
       "version_minor": 0,
       "model_id": "3b9ef4d6449b4dec9a6e59eda5f29440"
      }
     },
     "metadata": {},
     "output_type": "display_data"
    },
    {
     "data": {
      "text/plain": "  0%|          | 0/114 [00:00<?, ?it/s]",
      "application/vnd.jupyter.widget-view+json": {
       "version_major": 2,
       "version_minor": 0,
       "model_id": "383bac45401047aa805599e052eeb7b8"
      }
     },
     "metadata": {},
     "output_type": "display_data"
    },
    {
     "name": "stdout",
     "output_type": "stream",
     "text": [
      "0.\t score=0.0\n",
      "1.\t score=0.0\n",
      "2.\t score=0.0\n",
      "3.\t score=0.0\n",
      "4.\t score=0.0\n",
      "5.\t score=0.0\n",
      "6.\t score=0.0\n",
      "7.\t score=0.0\n",
      "8.\t score=0.0\n",
      "9.\t score=0.0\n",
      "Pivoting tables\n"
     ]
    },
    {
     "name": "stderr",
     "output_type": "stream",
     "text": [
      "C:\\Users\\cri98\\Documents\\GitHub\\cri98tj\\cri98tj\\selectors\\selector_utils.py:21: FutureWarning: merging between different levels is deprecated and will be removed in a future version. (2 levels on the left, 1 on the right)\n",
      "  df_pivot = df_pivot.merge(df.groupby(['tid'])['class'].max().reset_index(), on=[\"tid\"])\n"
     ]
    },
    {
     "data": {
      "text/plain": "  0%|          | 0/10 [00:00<?, ?it/s]",
      "application/vnd.jupyter.widget-view+json": {
       "version_major": 2,
       "version_minor": 0,
       "model_id": "fab3040716e144bfa49b2671e86ef6df"
      }
     },
     "metadata": {},
     "output_type": "display_data"
    },
    {
     "name": "stdout",
     "output_type": "stream",
     "text": [
      "Collecting distances from 10\n"
     ]
    },
    {
     "data": {
      "text/plain": "  0%|          | 0/10 [00:00<?, ?it/s]",
      "application/vnd.jupyter.widget-view+json": {
       "version_major": 2,
       "version_minor": 0,
       "model_id": "2d1e956a32824b2d87c4b32522ad8326"
      }
     },
     "metadata": {},
     "output_type": "display_data"
    }
   ],
   "source": [
    "partitioner = Geohash_partitioner(precision=8)\n",
    "\n",
    "part = partitioner.fit_transform(df[df.track_id.isin(tid_train)].values)\n",
    "\n",
    "#selector = OPTICS_selector(n_jobs=20, fillna_value=0.0)\n",
    "#selector = Random_selector(movelets_per_class=8)\n",
    "#selector = XMeans_selector(kmax=20, fillna_value=0.0)\n",
    "selector = RandomOrderline_selector(top_k=10, movelets_per_class=None, trajectories_for_orderline=None, n_jobs=20)\n",
    "#selector = RandomInformationGain_selector(top_k=100, movelets_per_class=None, trajectories_for_orderline=None, n_jobs=20)\n",
    "\n",
    "shapelets = selector.fit_transform(part)\n",
    "\n",
    "distancer = Euclidean_distancer(n_jobs=20)\n",
    "\n",
    "df_distances = pd.DataFrame(distancer.fit_transform( (df.values, shapelets) ))"
   ],
   "metadata": {
    "collapsed": false,
    "pycharm": {
     "name": "#%%\n"
    }
   }
  },
  {
   "cell_type": "code",
   "execution_count": 101,
   "outputs": [
    {
     "data": {
      "text/plain": "RandomForestClassifier(n_jobs=-1, random_state=0)"
     },
     "execution_count": 101,
     "metadata": {},
     "output_type": "execute_result"
    }
   ],
   "source": [
    "from sklearn.ensemble import RandomForestClassifier\n",
    "\n",
    "clf = RandomForestClassifier(max_depth=None, random_state=0, n_jobs=-1)\n",
    "\n",
    "dist_np_df = pd.DataFrame(df_distances.values)\n",
    "X = dist_np_df.drop(columns=[0]).values\n",
    "y = dist_np_df[0].values\n",
    "\n",
    "X_train, X_test, y_train, y_test = train_test_split(X, y, test_size=.3, stratify=y, random_state=3)\n",
    "\n",
    "clf.fit(X_train, y_train)"
   ],
   "metadata": {
    "collapsed": false,
    "pycharm": {
     "name": "#%%\n"
    }
   }
  },
  {
   "cell_type": "code",
   "execution_count": 102,
   "outputs": [
    {
     "name": "stdout",
     "output_type": "stream",
     "text": [
      "              precision    recall  f1-score   support\n",
      "\n",
      "         1.0       0.69      0.85      0.76        26\n",
      "         2.0       0.76      0.57      0.65        23\n",
      "\n",
      "    accuracy                           0.71        49\n",
      "   macro avg       0.73      0.71      0.70        49\n",
      "weighted avg       0.72      0.71      0.71        49\n",
      "\n"
     ]
    }
   ],
   "source": [
    "y_pred = clf.predict(X_test)\n",
    "print(classification_report(y_test, y_pred))"
   ],
   "metadata": {
    "collapsed": false,
    "pycharm": {
     "name": "#%%\n"
    }
   }
  },
  {
   "cell_type": "code",
   "execution_count": 102,
   "outputs": [],
   "source": [],
   "metadata": {
    "collapsed": false,
    "pycharm": {
     "name": "#%%\n"
    }
   }
  },
  {
   "cell_type": "code",
   "execution_count": null,
   "outputs": [],
   "source": [],
   "metadata": {
    "collapsed": false,
    "pycharm": {
     "name": "#%%\n"
    }
   }
  },
  {
   "cell_type": "markdown",
   "source": [
    "### Code used to prepare the dataset"
   ],
   "metadata": {
    "collapsed": false,
    "pycharm": {
     "name": "#%% md\n"
    }
   }
  },
  {
   "cell_type": "code",
   "execution_count": 20,
   "outputs": [],
   "source": [
    "trackspoints_df = pd.read_csv(\"data/go_track_trackspoints.csv\")\n",
    "tracks_df = pd.read_csv(\"data/go_track_tracks.csv\").drop(columns=[\"time\"])"
   ],
   "metadata": {
    "collapsed": false,
    "pycharm": {
     "name": "#%%\n"
    }
   }
  },
  {
   "cell_type": "code",
   "execution_count": 21,
   "outputs": [
    {
     "data": {
      "text/plain": "   id  id_android      speed  distance  rating  rating_bus  rating_weather  \\\n0   1           0  19.210586     2.652       3           0               0   \n1   2           0  30.848229     5.290       3           0               0   \n2   3           1  13.560101     0.918       3           0               0   \n3   4           1  19.766679     7.700       3           0               0   \n4   8           0  25.807401     3.995       2           0               0   \n\n   car_or_bus linha  \n0           1   NaN  \n1           1   NaN  \n2           2   NaN  \n3           2   NaN  \n4           1   NaN  ",
      "text/html": "<div>\n<style scoped>\n    .dataframe tbody tr th:only-of-type {\n        vertical-align: middle;\n    }\n\n    .dataframe tbody tr th {\n        vertical-align: top;\n    }\n\n    .dataframe thead th {\n        text-align: right;\n    }\n</style>\n<table border=\"1\" class=\"dataframe\">\n  <thead>\n    <tr style=\"text-align: right;\">\n      <th></th>\n      <th>id</th>\n      <th>id_android</th>\n      <th>speed</th>\n      <th>distance</th>\n      <th>rating</th>\n      <th>rating_bus</th>\n      <th>rating_weather</th>\n      <th>car_or_bus</th>\n      <th>linha</th>\n    </tr>\n  </thead>\n  <tbody>\n    <tr>\n      <th>0</th>\n      <td>1</td>\n      <td>0</td>\n      <td>19.210586</td>\n      <td>2.652</td>\n      <td>3</td>\n      <td>0</td>\n      <td>0</td>\n      <td>1</td>\n      <td>NaN</td>\n    </tr>\n    <tr>\n      <th>1</th>\n      <td>2</td>\n      <td>0</td>\n      <td>30.848229</td>\n      <td>5.290</td>\n      <td>3</td>\n      <td>0</td>\n      <td>0</td>\n      <td>1</td>\n      <td>NaN</td>\n    </tr>\n    <tr>\n      <th>2</th>\n      <td>3</td>\n      <td>1</td>\n      <td>13.560101</td>\n      <td>0.918</td>\n      <td>3</td>\n      <td>0</td>\n      <td>0</td>\n      <td>2</td>\n      <td>NaN</td>\n    </tr>\n    <tr>\n      <th>3</th>\n      <td>4</td>\n      <td>1</td>\n      <td>19.766679</td>\n      <td>7.700</td>\n      <td>3</td>\n      <td>0</td>\n      <td>0</td>\n      <td>2</td>\n      <td>NaN</td>\n    </tr>\n    <tr>\n      <th>4</th>\n      <td>8</td>\n      <td>0</td>\n      <td>25.807401</td>\n      <td>3.995</td>\n      <td>2</td>\n      <td>0</td>\n      <td>0</td>\n      <td>1</td>\n      <td>NaN</td>\n    </tr>\n  </tbody>\n</table>\n</div>"
     },
     "execution_count": 21,
     "metadata": {},
     "output_type": "execute_result"
    }
   ],
   "source": [
    "tracks_df.head()"
   ],
   "metadata": {
    "collapsed": false,
    "pycharm": {
     "name": "#%%\n"
    }
   }
  },
  {
   "cell_type": "code",
   "execution_count": 26,
   "outputs": [
    {
     "data": {
      "text/plain": "          id   latitude  longitude  track_id                 time\n0          1 -10.939341 -37.062742         1  2014-09-13 07:24:32\n1          2 -10.939341 -37.062742         1  2014-09-13 07:24:37\n2          3 -10.939324 -37.062765         1  2014-09-13 07:24:42\n3          4 -10.939211 -37.062843         1  2014-09-13 07:24:47\n4          5 -10.938939 -37.062879         1  2014-09-13 07:24:53\n...      ...        ...        ...       ...                  ...\n18102  19565 -10.923722 -37.106579     38092  2016-01-19 13:01:01\n18103  19566 -10.923704 -37.106693     38092  2016-01-19 13:01:12\n18104  19567 -10.923715 -37.106688     38092  2016-01-19 13:01:24\n18105  19568 -10.923715 -37.106688     38092  2016-01-19 13:01:36\n18106  19569 -10.923716 -37.106688     38092  2016-01-19 13:01:47\n\n[18107 rows x 5 columns]",
      "text/html": "<div>\n<style scoped>\n    .dataframe tbody tr th:only-of-type {\n        vertical-align: middle;\n    }\n\n    .dataframe tbody tr th {\n        vertical-align: top;\n    }\n\n    .dataframe thead th {\n        text-align: right;\n    }\n</style>\n<table border=\"1\" class=\"dataframe\">\n  <thead>\n    <tr style=\"text-align: right;\">\n      <th></th>\n      <th>id</th>\n      <th>latitude</th>\n      <th>longitude</th>\n      <th>track_id</th>\n      <th>time</th>\n    </tr>\n  </thead>\n  <tbody>\n    <tr>\n      <th>0</th>\n      <td>1</td>\n      <td>-10.939341</td>\n      <td>-37.062742</td>\n      <td>1</td>\n      <td>2014-09-13 07:24:32</td>\n    </tr>\n    <tr>\n      <th>1</th>\n      <td>2</td>\n      <td>-10.939341</td>\n      <td>-37.062742</td>\n      <td>1</td>\n      <td>2014-09-13 07:24:37</td>\n    </tr>\n    <tr>\n      <th>2</th>\n      <td>3</td>\n      <td>-10.939324</td>\n      <td>-37.062765</td>\n      <td>1</td>\n      <td>2014-09-13 07:24:42</td>\n    </tr>\n    <tr>\n      <th>3</th>\n      <td>4</td>\n      <td>-10.939211</td>\n      <td>-37.062843</td>\n      <td>1</td>\n      <td>2014-09-13 07:24:47</td>\n    </tr>\n    <tr>\n      <th>4</th>\n      <td>5</td>\n      <td>-10.938939</td>\n      <td>-37.062879</td>\n      <td>1</td>\n      <td>2014-09-13 07:24:53</td>\n    </tr>\n    <tr>\n      <th>...</th>\n      <td>...</td>\n      <td>...</td>\n      <td>...</td>\n      <td>...</td>\n      <td>...</td>\n    </tr>\n    <tr>\n      <th>18102</th>\n      <td>19565</td>\n      <td>-10.923722</td>\n      <td>-37.106579</td>\n      <td>38092</td>\n      <td>2016-01-19 13:01:01</td>\n    </tr>\n    <tr>\n      <th>18103</th>\n      <td>19566</td>\n      <td>-10.923704</td>\n      <td>-37.106693</td>\n      <td>38092</td>\n      <td>2016-01-19 13:01:12</td>\n    </tr>\n    <tr>\n      <th>18104</th>\n      <td>19567</td>\n      <td>-10.923715</td>\n      <td>-37.106688</td>\n      <td>38092</td>\n      <td>2016-01-19 13:01:24</td>\n    </tr>\n    <tr>\n      <th>18105</th>\n      <td>19568</td>\n      <td>-10.923715</td>\n      <td>-37.106688</td>\n      <td>38092</td>\n      <td>2016-01-19 13:01:36</td>\n    </tr>\n    <tr>\n      <th>18106</th>\n      <td>19569</td>\n      <td>-10.923716</td>\n      <td>-37.106688</td>\n      <td>38092</td>\n      <td>2016-01-19 13:01:47</td>\n    </tr>\n  </tbody>\n</table>\n<p>18107 rows × 5 columns</p>\n</div>"
     },
     "execution_count": 26,
     "metadata": {},
     "output_type": "execute_result"
    }
   ],
   "source": [
    "trackspoints_df"
   ],
   "metadata": {
    "collapsed": false,
    "pycharm": {
     "name": "#%%\n"
    }
   }
  },
  {
   "cell_type": "code",
   "execution_count": 32,
   "outputs": [
    {
     "data": {
      "text/plain": "        id_x  id_android      speed  distance  rating  rating_bus  \\\n0          1           0  19.210586     2.652       3           0   \n1          1           0  19.210586     2.652       3           0   \n2          1           0  19.210586     2.652       3           0   \n3          1           0  19.210586     2.652       3           0   \n4          1           0  19.210586     2.652       3           0   \n...      ...         ...        ...       ...     ...         ...   \n18102  38092          27   1.372998     0.023       3           1   \n18103  38092          27   1.372998     0.023       3           1   \n18104  38092          27   1.372998     0.023       3           1   \n18105  38092          27   1.372998     0.023       3           1   \n18106  38092          27   1.372998     0.023       3           1   \n\n       rating_weather  car_or_bus                     linha   id_y   latitude  \\\n0                   0           1                       NaN      1 -10.939341   \n1                   0           1                       NaN      2 -10.939341   \n2                   0           1                       NaN      3 -10.939324   \n3                   0           1                       NaN      4 -10.939211   \n4                   0           1                       NaN      5 -10.938939   \n...               ...         ...                       ...    ...        ...   \n18102               2           2  060 - PADRE PEDRO CAMPUS  19565 -10.923722   \n18103               2           2  060 - PADRE PEDRO CAMPUS  19566 -10.923704   \n18104               2           2  060 - PADRE PEDRO CAMPUS  19567 -10.923715   \n18105               2           2  060 - PADRE PEDRO CAMPUS  19568 -10.923715   \n18106               2           2  060 - PADRE PEDRO CAMPUS  19569 -10.923716   \n\n       longitude  track_id                 time  \n0     -37.062742         1  2014-09-13 07:24:32  \n1     -37.062742         1  2014-09-13 07:24:37  \n2     -37.062765         1  2014-09-13 07:24:42  \n3     -37.062843         1  2014-09-13 07:24:47  \n4     -37.062879         1  2014-09-13 07:24:53  \n...          ...       ...                  ...  \n18102 -37.106579     38092  2016-01-19 13:01:01  \n18103 -37.106693     38092  2016-01-19 13:01:12  \n18104 -37.106688     38092  2016-01-19 13:01:24  \n18105 -37.106688     38092  2016-01-19 13:01:36  \n18106 -37.106688     38092  2016-01-19 13:01:47  \n\n[18107 rows x 14 columns]",
      "text/html": "<div>\n<style scoped>\n    .dataframe tbody tr th:only-of-type {\n        vertical-align: middle;\n    }\n\n    .dataframe tbody tr th {\n        vertical-align: top;\n    }\n\n    .dataframe thead th {\n        text-align: right;\n    }\n</style>\n<table border=\"1\" class=\"dataframe\">\n  <thead>\n    <tr style=\"text-align: right;\">\n      <th></th>\n      <th>id_x</th>\n      <th>id_android</th>\n      <th>speed</th>\n      <th>distance</th>\n      <th>rating</th>\n      <th>rating_bus</th>\n      <th>rating_weather</th>\n      <th>car_or_bus</th>\n      <th>linha</th>\n      <th>id_y</th>\n      <th>latitude</th>\n      <th>longitude</th>\n      <th>track_id</th>\n      <th>time</th>\n    </tr>\n  </thead>\n  <tbody>\n    <tr>\n      <th>0</th>\n      <td>1</td>\n      <td>0</td>\n      <td>19.210586</td>\n      <td>2.652</td>\n      <td>3</td>\n      <td>0</td>\n      <td>0</td>\n      <td>1</td>\n      <td>NaN</td>\n      <td>1</td>\n      <td>-10.939341</td>\n      <td>-37.062742</td>\n      <td>1</td>\n      <td>2014-09-13 07:24:32</td>\n    </tr>\n    <tr>\n      <th>1</th>\n      <td>1</td>\n      <td>0</td>\n      <td>19.210586</td>\n      <td>2.652</td>\n      <td>3</td>\n      <td>0</td>\n      <td>0</td>\n      <td>1</td>\n      <td>NaN</td>\n      <td>2</td>\n      <td>-10.939341</td>\n      <td>-37.062742</td>\n      <td>1</td>\n      <td>2014-09-13 07:24:37</td>\n    </tr>\n    <tr>\n      <th>2</th>\n      <td>1</td>\n      <td>0</td>\n      <td>19.210586</td>\n      <td>2.652</td>\n      <td>3</td>\n      <td>0</td>\n      <td>0</td>\n      <td>1</td>\n      <td>NaN</td>\n      <td>3</td>\n      <td>-10.939324</td>\n      <td>-37.062765</td>\n      <td>1</td>\n      <td>2014-09-13 07:24:42</td>\n    </tr>\n    <tr>\n      <th>3</th>\n      <td>1</td>\n      <td>0</td>\n      <td>19.210586</td>\n      <td>2.652</td>\n      <td>3</td>\n      <td>0</td>\n      <td>0</td>\n      <td>1</td>\n      <td>NaN</td>\n      <td>4</td>\n      <td>-10.939211</td>\n      <td>-37.062843</td>\n      <td>1</td>\n      <td>2014-09-13 07:24:47</td>\n    </tr>\n    <tr>\n      <th>4</th>\n      <td>1</td>\n      <td>0</td>\n      <td>19.210586</td>\n      <td>2.652</td>\n      <td>3</td>\n      <td>0</td>\n      <td>0</td>\n      <td>1</td>\n      <td>NaN</td>\n      <td>5</td>\n      <td>-10.938939</td>\n      <td>-37.062879</td>\n      <td>1</td>\n      <td>2014-09-13 07:24:53</td>\n    </tr>\n    <tr>\n      <th>...</th>\n      <td>...</td>\n      <td>...</td>\n      <td>...</td>\n      <td>...</td>\n      <td>...</td>\n      <td>...</td>\n      <td>...</td>\n      <td>...</td>\n      <td>...</td>\n      <td>...</td>\n      <td>...</td>\n      <td>...</td>\n      <td>...</td>\n      <td>...</td>\n    </tr>\n    <tr>\n      <th>18102</th>\n      <td>38092</td>\n      <td>27</td>\n      <td>1.372998</td>\n      <td>0.023</td>\n      <td>3</td>\n      <td>1</td>\n      <td>2</td>\n      <td>2</td>\n      <td>060 - PADRE PEDRO CAMPUS</td>\n      <td>19565</td>\n      <td>-10.923722</td>\n      <td>-37.106579</td>\n      <td>38092</td>\n      <td>2016-01-19 13:01:01</td>\n    </tr>\n    <tr>\n      <th>18103</th>\n      <td>38092</td>\n      <td>27</td>\n      <td>1.372998</td>\n      <td>0.023</td>\n      <td>3</td>\n      <td>1</td>\n      <td>2</td>\n      <td>2</td>\n      <td>060 - PADRE PEDRO CAMPUS</td>\n      <td>19566</td>\n      <td>-10.923704</td>\n      <td>-37.106693</td>\n      <td>38092</td>\n      <td>2016-01-19 13:01:12</td>\n    </tr>\n    <tr>\n      <th>18104</th>\n      <td>38092</td>\n      <td>27</td>\n      <td>1.372998</td>\n      <td>0.023</td>\n      <td>3</td>\n      <td>1</td>\n      <td>2</td>\n      <td>2</td>\n      <td>060 - PADRE PEDRO CAMPUS</td>\n      <td>19567</td>\n      <td>-10.923715</td>\n      <td>-37.106688</td>\n      <td>38092</td>\n      <td>2016-01-19 13:01:24</td>\n    </tr>\n    <tr>\n      <th>18105</th>\n      <td>38092</td>\n      <td>27</td>\n      <td>1.372998</td>\n      <td>0.023</td>\n      <td>3</td>\n      <td>1</td>\n      <td>2</td>\n      <td>2</td>\n      <td>060 - PADRE PEDRO CAMPUS</td>\n      <td>19568</td>\n      <td>-10.923715</td>\n      <td>-37.106688</td>\n      <td>38092</td>\n      <td>2016-01-19 13:01:36</td>\n    </tr>\n    <tr>\n      <th>18106</th>\n      <td>38092</td>\n      <td>27</td>\n      <td>1.372998</td>\n      <td>0.023</td>\n      <td>3</td>\n      <td>1</td>\n      <td>2</td>\n      <td>2</td>\n      <td>060 - PADRE PEDRO CAMPUS</td>\n      <td>19569</td>\n      <td>-10.923716</td>\n      <td>-37.106688</td>\n      <td>38092</td>\n      <td>2016-01-19 13:01:47</td>\n    </tr>\n  </tbody>\n</table>\n<p>18107 rows × 14 columns</p>\n</div>"
     },
     "execution_count": 32,
     "metadata": {},
     "output_type": "execute_result"
    }
   ],
   "source": [
    "df = tracks_df.merge(trackspoints_df, left_on=[\"id\"], right_on=[\"track_id\"])\n",
    "\n",
    "df"
   ],
   "metadata": {
    "collapsed": false,
    "pycharm": {
     "name": "#%%\n"
    }
   }
  },
  {
   "cell_type": "code",
   "execution_count": 33,
   "outputs": [],
   "source": [
    "#tid, class, time, c1, c2\n",
    "\n",
    "df_for_classification = df[[\"track_id\", \"car_or_bus\", \"time\", \"latitude\", \"longitude\"]]"
   ],
   "metadata": {
    "collapsed": false,
    "pycharm": {
     "name": "#%%\n"
    }
   }
  },
  {
   "cell_type": "code",
   "execution_count": 34,
   "outputs": [],
   "source": [
    "df_for_classification.to_csv(\"data/prepared_carORbus.zip\", index = None)"
   ],
   "metadata": {
    "collapsed": false,
    "pycharm": {
     "name": "#%%\n"
    }
   }
  },
  {
   "cell_type": "code",
   "execution_count": null,
   "outputs": [],
   "source": [],
   "metadata": {
    "collapsed": false,
    "pycharm": {
     "name": "#%%\n"
    }
   }
  },
  {
   "cell_type": "code",
   "execution_count": null,
   "outputs": [],
   "source": [],
   "metadata": {
    "collapsed": false,
    "pycharm": {
     "name": "#%%\n"
    }
   }
  }
 ],
 "metadata": {
  "kernelspec": {
   "display_name": "Python 3",
   "language": "python",
   "name": "python3"
  },
  "language_info": {
   "codemirror_mode": {
    "name": "ipython",
    "version": 2
   },
   "file_extension": ".py",
   "mimetype": "text/x-python",
   "name": "python",
   "nbconvert_exporter": "python",
   "pygments_lexer": "ipython2",
   "version": "2.7.6"
  }
 },
 "nbformat": 4,
 "nbformat_minor": 0
}