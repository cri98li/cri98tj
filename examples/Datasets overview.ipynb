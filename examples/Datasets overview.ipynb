{
 "cells": [
  {
   "cell_type": "markdown",
   "metadata": {
    "collapsed": true,
    "pycharm": {
     "name": "#%% md\n"
    }
   },
   "source": [
    "# Overview datasets\n"
   ]
  },
  {
   "cell_type": "code",
   "execution_count": 2,
   "outputs": [],
   "source": [
    "import pandas as pd\n",
    "import numpy as np\n",
    "import matplotlib as plt\n",
    "import tqdm.auto as tqdm"
   ],
   "metadata": {
    "collapsed": false,
    "pycharm": {
     "name": "#%%\n"
    }
   }
  },
  {
   "cell_type": "markdown",
   "source": [
    "## Animals Dataset"
   ],
   "metadata": {
    "collapsed": false,
    "pycharm": {
     "name": "#%% md\n"
    }
   }
  },
  {
   "cell_type": "code",
   "execution_count": 73,
   "outputs": [
    {
     "data": {
      "text/plain": "   tid class   t       c1       c2\n0    1     D   0  50.1066  3.79665\n1    1     D   4  50.1045  3.79455\n2    1     D   7  50.1111  3.79845\n3    1     D   9  50.1072  3.79845\n4    1     D  15  50.1132  3.79965",
      "text/html": "<div>\n<style scoped>\n    .dataframe tbody tr th:only-of-type {\n        vertical-align: middle;\n    }\n\n    .dataframe tbody tr th {\n        vertical-align: top;\n    }\n\n    .dataframe thead th {\n        text-align: right;\n    }\n</style>\n<table border=\"1\" class=\"dataframe\">\n  <thead>\n    <tr style=\"text-align: right;\">\n      <th></th>\n      <th>tid</th>\n      <th>class</th>\n      <th>t</th>\n      <th>c1</th>\n      <th>c2</th>\n    </tr>\n  </thead>\n  <tbody>\n    <tr>\n      <th>0</th>\n      <td>1</td>\n      <td>D</td>\n      <td>0</td>\n      <td>50.1066</td>\n      <td>3.79665</td>\n    </tr>\n    <tr>\n      <th>1</th>\n      <td>1</td>\n      <td>D</td>\n      <td>4</td>\n      <td>50.1045</td>\n      <td>3.79455</td>\n    </tr>\n    <tr>\n      <th>2</th>\n      <td>1</td>\n      <td>D</td>\n      <td>7</td>\n      <td>50.1111</td>\n      <td>3.79845</td>\n    </tr>\n    <tr>\n      <th>3</th>\n      <td>1</td>\n      <td>D</td>\n      <td>9</td>\n      <td>50.1072</td>\n      <td>3.79845</td>\n    </tr>\n    <tr>\n      <th>4</th>\n      <td>1</td>\n      <td>D</td>\n      <td>15</td>\n      <td>50.1132</td>\n      <td>3.79965</td>\n    </tr>\n  </tbody>\n</table>\n</div>"
     },
     "execution_count": 73,
     "metadata": {},
     "output_type": "execute_result"
    }
   ],
   "source": [
    "df = pd.read_csv(\"Animals Dataset/data/animals_preapred.zip\")\n",
    "\n",
    "df.head()"
   ],
   "metadata": {
    "collapsed": false,
    "pycharm": {
     "name": "#%%\n"
    }
   }
  },
  {
   "cell_type": "code",
   "execution_count": 74,
   "outputs": [
    {
     "name": "stderr",
     "output_type": "stream",
     "text": [
      "<ipython-input-74-d6a7ff786720>:1: FutureWarning: Indexing with multiple keys (implicitly converted to a tuple of keys) will be deprecated, use a list instead.\n",
      "  df[[\"delta_t\", \"delta c1\", \"delta c2\"]] = df.groupby(by=\"tid\")[\"t\", \"c1\", \"c2\"].diff()\n"
     ]
    },
    {
     "data": {
      "text/plain": "   tid class   t       c1       c2  delta_t  delta c1  delta c2  trajectoryLen\n0    1     D   0  50.1066  3.79665      NaN       NaN       NaN            159\n1    1     D   4  50.1045  3.79455      4.0   -0.0021   -0.0021            159\n2    1     D   7  50.1111  3.79845      3.0    0.0066    0.0039            159\n3    1     D   9  50.1072  3.79845      2.0   -0.0039    0.0000            159\n4    1     D  15  50.1132  3.79965      6.0    0.0060    0.0012            159",
      "text/html": "<div>\n<style scoped>\n    .dataframe tbody tr th:only-of-type {\n        vertical-align: middle;\n    }\n\n    .dataframe tbody tr th {\n        vertical-align: top;\n    }\n\n    .dataframe thead th {\n        text-align: right;\n    }\n</style>\n<table border=\"1\" class=\"dataframe\">\n  <thead>\n    <tr style=\"text-align: right;\">\n      <th></th>\n      <th>tid</th>\n      <th>class</th>\n      <th>t</th>\n      <th>c1</th>\n      <th>c2</th>\n      <th>delta_t</th>\n      <th>delta c1</th>\n      <th>delta c2</th>\n      <th>trajectoryLen</th>\n    </tr>\n  </thead>\n  <tbody>\n    <tr>\n      <th>0</th>\n      <td>1</td>\n      <td>D</td>\n      <td>0</td>\n      <td>50.1066</td>\n      <td>3.79665</td>\n      <td>NaN</td>\n      <td>NaN</td>\n      <td>NaN</td>\n      <td>159</td>\n    </tr>\n    <tr>\n      <th>1</th>\n      <td>1</td>\n      <td>D</td>\n      <td>4</td>\n      <td>50.1045</td>\n      <td>3.79455</td>\n      <td>4.0</td>\n      <td>-0.0021</td>\n      <td>-0.0021</td>\n      <td>159</td>\n    </tr>\n    <tr>\n      <th>2</th>\n      <td>1</td>\n      <td>D</td>\n      <td>7</td>\n      <td>50.1111</td>\n      <td>3.79845</td>\n      <td>3.0</td>\n      <td>0.0066</td>\n      <td>0.0039</td>\n      <td>159</td>\n    </tr>\n    <tr>\n      <th>3</th>\n      <td>1</td>\n      <td>D</td>\n      <td>9</td>\n      <td>50.1072</td>\n      <td>3.79845</td>\n      <td>2.0</td>\n      <td>-0.0039</td>\n      <td>0.0000</td>\n      <td>159</td>\n    </tr>\n    <tr>\n      <th>4</th>\n      <td>1</td>\n      <td>D</td>\n      <td>15</td>\n      <td>50.1132</td>\n      <td>3.79965</td>\n      <td>6.0</td>\n      <td>0.0060</td>\n      <td>0.0012</td>\n      <td>159</td>\n    </tr>\n  </tbody>\n</table>\n</div>"
     },
     "execution_count": 74,
     "metadata": {},
     "output_type": "execute_result"
    }
   ],
   "source": [
    "df[[\"delta_t\", \"delta c1\", \"delta c2\"]] = df.groupby(by=\"tid\")[\"t\", \"c1\", \"c2\"].diff()\n",
    "df = df.merge(df.groupby(by=\"tid\").size().rename(\"trajectoryLen\").reset_index(), on=\"tid\")\n",
    "\n",
    "df.head()"
   ],
   "metadata": {
    "collapsed": false,
    "pycharm": {
     "name": "#%%\n"
    }
   }
  },
  {
   "cell_type": "code",
   "execution_count": 75,
   "outputs": [
    {
     "data": {
      "text/plain": "                tid             t            c1            c2       delta_t  \\\ncount  14990.000000  14990.000000  14990.000000  14990.000000  14888.000000   \nmean      47.319480    330.046831     50.125104      3.772156      3.748119   \nstd       27.877163    213.205480      0.033747      0.018422      6.235011   \nmin        1.000000      0.000000     50.052000      3.738450      0.000000   \n25%       25.000000    141.000000     50.095200      3.758550      2.000000   \n50%       47.000000    293.000000     50.126400      3.767850      2.000000   \n75%       68.000000    526.750000     50.155500      3.786450      4.000000   \nmax      102.000000    719.000000     50.190000      3.818250    258.000000   \n\n           delta c1      delta c2  trajectoryLen  \ncount  14888.000000  14888.000000   14990.000000  \nmean      -0.000010     -0.000015     173.288993  \nstd        0.004216      0.003511      56.250128  \nmin       -0.042600     -0.034800       2.000000  \n25%       -0.000900     -0.001200     123.000000  \n50%        0.000000      0.000000     179.000000  \n75%        0.000900      0.001200     220.000000  \nmax        0.042300      0.039900     291.000000  ",
      "text/html": "<div>\n<style scoped>\n    .dataframe tbody tr th:only-of-type {\n        vertical-align: middle;\n    }\n\n    .dataframe tbody tr th {\n        vertical-align: top;\n    }\n\n    .dataframe thead th {\n        text-align: right;\n    }\n</style>\n<table border=\"1\" class=\"dataframe\">\n  <thead>\n    <tr style=\"text-align: right;\">\n      <th></th>\n      <th>tid</th>\n      <th>t</th>\n      <th>c1</th>\n      <th>c2</th>\n      <th>delta_t</th>\n      <th>delta c1</th>\n      <th>delta c2</th>\n      <th>trajectoryLen</th>\n    </tr>\n  </thead>\n  <tbody>\n    <tr>\n      <th>count</th>\n      <td>14990.000000</td>\n      <td>14990.000000</td>\n      <td>14990.000000</td>\n      <td>14990.000000</td>\n      <td>14888.000000</td>\n      <td>14888.000000</td>\n      <td>14888.000000</td>\n      <td>14990.000000</td>\n    </tr>\n    <tr>\n      <th>mean</th>\n      <td>47.319480</td>\n      <td>330.046831</td>\n      <td>50.125104</td>\n      <td>3.772156</td>\n      <td>3.748119</td>\n      <td>-0.000010</td>\n      <td>-0.000015</td>\n      <td>173.288993</td>\n    </tr>\n    <tr>\n      <th>std</th>\n      <td>27.877163</td>\n      <td>213.205480</td>\n      <td>0.033747</td>\n      <td>0.018422</td>\n      <td>6.235011</td>\n      <td>0.004216</td>\n      <td>0.003511</td>\n      <td>56.250128</td>\n    </tr>\n    <tr>\n      <th>min</th>\n      <td>1.000000</td>\n      <td>0.000000</td>\n      <td>50.052000</td>\n      <td>3.738450</td>\n      <td>0.000000</td>\n      <td>-0.042600</td>\n      <td>-0.034800</td>\n      <td>2.000000</td>\n    </tr>\n    <tr>\n      <th>25%</th>\n      <td>25.000000</td>\n      <td>141.000000</td>\n      <td>50.095200</td>\n      <td>3.758550</td>\n      <td>2.000000</td>\n      <td>-0.000900</td>\n      <td>-0.001200</td>\n      <td>123.000000</td>\n    </tr>\n    <tr>\n      <th>50%</th>\n      <td>47.000000</td>\n      <td>293.000000</td>\n      <td>50.126400</td>\n      <td>3.767850</td>\n      <td>2.000000</td>\n      <td>0.000000</td>\n      <td>0.000000</td>\n      <td>179.000000</td>\n    </tr>\n    <tr>\n      <th>75%</th>\n      <td>68.000000</td>\n      <td>526.750000</td>\n      <td>50.155500</td>\n      <td>3.786450</td>\n      <td>4.000000</td>\n      <td>0.000900</td>\n      <td>0.001200</td>\n      <td>220.000000</td>\n    </tr>\n    <tr>\n      <th>max</th>\n      <td>102.000000</td>\n      <td>719.000000</td>\n      <td>50.190000</td>\n      <td>3.818250</td>\n      <td>258.000000</td>\n      <td>0.042300</td>\n      <td>0.039900</td>\n      <td>291.000000</td>\n    </tr>\n  </tbody>\n</table>\n</div>"
     },
     "execution_count": 75,
     "metadata": {},
     "output_type": "execute_result"
    }
   ],
   "source": [
    "df.describe()"
   ],
   "metadata": {
    "collapsed": false,
    "pycharm": {
     "name": "#%%\n"
    }
   }
  },
  {
   "cell_type": "code",
   "execution_count": 76,
   "outputs": [
    {
     "name": "stdout",
     "output_type": "stream",
     "text": [
      "Number of trajectories: 102\n",
      "Number of target classes: 3\n"
     ]
    }
   ],
   "source": [
    "print(F\"Number of trajectories: {len(df.tid.unique())}\")\n",
    "print(F\"Number of target classes: {len(df['class'].unique())}\")"
   ],
   "metadata": {
    "collapsed": false,
    "pycharm": {
     "name": "#%%\n"
    }
   }
  },
  {
   "cell_type": "code",
   "execution_count": 76,
   "outputs": [],
   "source": [],
   "metadata": {
    "collapsed": false,
    "pycharm": {
     "name": "#%%\n"
    }
   }
  },
  {
   "cell_type": "markdown",
   "source": [
    "## Go!Track Dataset"
   ],
   "metadata": {
    "collapsed": false,
    "pycharm": {
     "name": "#%% md\n"
    }
   }
  },
  {
   "cell_type": "code",
   "execution_count": 77,
   "outputs": [
    {
     "data": {
      "text/plain": "   track_id  car_or_bus        time   latitude  longitude\n0         1           1  1410593072 -10.939341 -37.062742\n1         1           1  1410593077 -10.939341 -37.062742\n2         1           1  1410593082 -10.939324 -37.062765\n3         1           1  1410593087 -10.939211 -37.062843\n4         1           1  1410593093 -10.938939 -37.062879",
      "text/html": "<div>\n<style scoped>\n    .dataframe tbody tr th:only-of-type {\n        vertical-align: middle;\n    }\n\n    .dataframe tbody tr th {\n        vertical-align: top;\n    }\n\n    .dataframe thead th {\n        text-align: right;\n    }\n</style>\n<table border=\"1\" class=\"dataframe\">\n  <thead>\n    <tr style=\"text-align: right;\">\n      <th></th>\n      <th>track_id</th>\n      <th>car_or_bus</th>\n      <th>time</th>\n      <th>latitude</th>\n      <th>longitude</th>\n    </tr>\n  </thead>\n  <tbody>\n    <tr>\n      <th>0</th>\n      <td>1</td>\n      <td>1</td>\n      <td>1410593072</td>\n      <td>-10.939341</td>\n      <td>-37.062742</td>\n    </tr>\n    <tr>\n      <th>1</th>\n      <td>1</td>\n      <td>1</td>\n      <td>1410593077</td>\n      <td>-10.939341</td>\n      <td>-37.062742</td>\n    </tr>\n    <tr>\n      <th>2</th>\n      <td>1</td>\n      <td>1</td>\n      <td>1410593082</td>\n      <td>-10.939324</td>\n      <td>-37.062765</td>\n    </tr>\n    <tr>\n      <th>3</th>\n      <td>1</td>\n      <td>1</td>\n      <td>1410593087</td>\n      <td>-10.939211</td>\n      <td>-37.062843</td>\n    </tr>\n    <tr>\n      <th>4</th>\n      <td>1</td>\n      <td>1</td>\n      <td>1410593093</td>\n      <td>-10.938939</td>\n      <td>-37.062879</td>\n    </tr>\n  </tbody>\n</table>\n</div>"
     },
     "execution_count": 77,
     "metadata": {},
     "output_type": "execute_result"
    }
   ],
   "source": [
    "from datetime import datetime\n",
    "dateparse = lambda x: datetime.strptime(x, '%Y-%m-%d %H:%M:%S')\n",
    "df = pd.read_csv(\"Go!Track Dataset/data/prepared_carORbus.zip\", parse_dates=['time'], date_parser=dateparse)\n",
    "\n",
    "df.time = df.time.apply(lambda x: int(x.timestamp()))\n",
    "\n",
    "df.head()"
   ],
   "metadata": {
    "collapsed": false,
    "pycharm": {
     "name": "#%%\n"
    }
   }
  },
  {
   "cell_type": "code",
   "execution_count": 78,
   "outputs": [
    {
     "name": "stderr",
     "output_type": "stream",
     "text": [
      "<ipython-input-78-32afe9199c1e>:1: FutureWarning: Indexing with multiple keys (implicitly converted to a tuple of keys) will be deprecated, use a list instead.\n",
      "  df[[\"delta_t\", \"delta c1\", \"delta c2\"]] = df.groupby(by=\"track_id\")[\"time\", \"latitude\", \"longitude\"].diff()\n"
     ]
    },
    {
     "data": {
      "text/plain": "   track_id  car_or_bus        time   latitude  longitude  delta_t  \\\n0         1           1  1410593072 -10.939341 -37.062742      NaN   \n1         1           1  1410593077 -10.939341 -37.062742      5.0   \n2         1           1  1410593082 -10.939324 -37.062765      5.0   \n3         1           1  1410593087 -10.939211 -37.062843      5.0   \n4         1           1  1410593093 -10.938939 -37.062879      6.0   \n\n       delta c1      delta c2  trajectoryLen  \n0           NaN           NaN             90  \n1  4.740031e-11 -3.869616e-11             90  \n2  1.743790e-05 -2.240394e-05             90  \n3  1.133862e-04 -7.853182e-05             90  \n4  2.715827e-04 -3.555287e-05             90  ",
      "text/html": "<div>\n<style scoped>\n    .dataframe tbody tr th:only-of-type {\n        vertical-align: middle;\n    }\n\n    .dataframe tbody tr th {\n        vertical-align: top;\n    }\n\n    .dataframe thead th {\n        text-align: right;\n    }\n</style>\n<table border=\"1\" class=\"dataframe\">\n  <thead>\n    <tr style=\"text-align: right;\">\n      <th></th>\n      <th>track_id</th>\n      <th>car_or_bus</th>\n      <th>time</th>\n      <th>latitude</th>\n      <th>longitude</th>\n      <th>delta_t</th>\n      <th>delta c1</th>\n      <th>delta c2</th>\n      <th>trajectoryLen</th>\n    </tr>\n  </thead>\n  <tbody>\n    <tr>\n      <th>0</th>\n      <td>1</td>\n      <td>1</td>\n      <td>1410593072</td>\n      <td>-10.939341</td>\n      <td>-37.062742</td>\n      <td>NaN</td>\n      <td>NaN</td>\n      <td>NaN</td>\n      <td>90</td>\n    </tr>\n    <tr>\n      <th>1</th>\n      <td>1</td>\n      <td>1</td>\n      <td>1410593077</td>\n      <td>-10.939341</td>\n      <td>-37.062742</td>\n      <td>5.0</td>\n      <td>4.740031e-11</td>\n      <td>-3.869616e-11</td>\n      <td>90</td>\n    </tr>\n    <tr>\n      <th>2</th>\n      <td>1</td>\n      <td>1</td>\n      <td>1410593082</td>\n      <td>-10.939324</td>\n      <td>-37.062765</td>\n      <td>5.0</td>\n      <td>1.743790e-05</td>\n      <td>-2.240394e-05</td>\n      <td>90</td>\n    </tr>\n    <tr>\n      <th>3</th>\n      <td>1</td>\n      <td>1</td>\n      <td>1410593087</td>\n      <td>-10.939211</td>\n      <td>-37.062843</td>\n      <td>5.0</td>\n      <td>1.133862e-04</td>\n      <td>-7.853182e-05</td>\n      <td>90</td>\n    </tr>\n    <tr>\n      <th>4</th>\n      <td>1</td>\n      <td>1</td>\n      <td>1410593093</td>\n      <td>-10.938939</td>\n      <td>-37.062879</td>\n      <td>6.0</td>\n      <td>2.715827e-04</td>\n      <td>-3.555287e-05</td>\n      <td>90</td>\n    </tr>\n  </tbody>\n</table>\n</div>"
     },
     "execution_count": 78,
     "metadata": {},
     "output_type": "execute_result"
    }
   ],
   "source": [
    "df[[\"delta_t\", \"delta c1\", \"delta c2\"]] = df.groupby(by=\"track_id\")[\"time\", \"latitude\", \"longitude\"].diff()\n",
    "df = df.merge(df.groupby(by=\"track_id\").size().rename(\"trajectoryLen\").reset_index(), on=\"track_id\")\n",
    "\n",
    "df.head()"
   ],
   "metadata": {
    "collapsed": false,
    "pycharm": {
     "name": "#%%\n"
    }
   }
  },
  {
   "cell_type": "code",
   "execution_count": 79,
   "outputs": [
    {
     "data": {
      "text/plain": "           track_id    car_or_bus          time      latitude     longitude  \\\ncount  18107.000000  18107.000000  1.810700e+04  18107.000000  18107.000000   \nmean   13296.340697      1.226211  1.424722e+09    -10.998744    -37.111923   \nstd    18040.767448      0.418389  9.629376e+06      1.329848      0.938015   \nmin        1.000000      1.000000  1.410593e+09    -27.603175    -48.632918   \n25%       33.000000      1.000000  1.416304e+09    -10.944041    -37.073069   \n50%      136.000000      1.000000  1.424332e+09    -10.922000    -37.057784   \n75%    37992.000000      1.000000  1.432479e+09    -10.904268    -37.050190   \nmax    38092.000000      2.000000  1.453209e+09    -10.292845    -36.493357   \n\n            delta_t      delta c1      delta c2  trajectoryLen  \ncount  17944.000000  17944.000000  1.794400e+04   18107.000000  \nmean       8.364189     -0.000021 -7.911159e-05     240.656155  \nstd       21.393257      0.001061  6.869689e-04     156.837604  \nmin        0.000000     -0.070945 -1.950500e-02       1.000000  \n25%        5.000000     -0.000119 -1.616667e-04     122.000000  \n50%        6.000000      0.000000 -1.900000e-07     189.000000  \n75%       10.000000      0.000073  2.899000e-05     316.000000  \nmax     1368.000000      0.047944  3.516167e-02     646.000000  ",
      "text/html": "<div>\n<style scoped>\n    .dataframe tbody tr th:only-of-type {\n        vertical-align: middle;\n    }\n\n    .dataframe tbody tr th {\n        vertical-align: top;\n    }\n\n    .dataframe thead th {\n        text-align: right;\n    }\n</style>\n<table border=\"1\" class=\"dataframe\">\n  <thead>\n    <tr style=\"text-align: right;\">\n      <th></th>\n      <th>track_id</th>\n      <th>car_or_bus</th>\n      <th>time</th>\n      <th>latitude</th>\n      <th>longitude</th>\n      <th>delta_t</th>\n      <th>delta c1</th>\n      <th>delta c2</th>\n      <th>trajectoryLen</th>\n    </tr>\n  </thead>\n  <tbody>\n    <tr>\n      <th>count</th>\n      <td>18107.000000</td>\n      <td>18107.000000</td>\n      <td>1.810700e+04</td>\n      <td>18107.000000</td>\n      <td>18107.000000</td>\n      <td>17944.000000</td>\n      <td>17944.000000</td>\n      <td>1.794400e+04</td>\n      <td>18107.000000</td>\n    </tr>\n    <tr>\n      <th>mean</th>\n      <td>13296.340697</td>\n      <td>1.226211</td>\n      <td>1.424722e+09</td>\n      <td>-10.998744</td>\n      <td>-37.111923</td>\n      <td>8.364189</td>\n      <td>-0.000021</td>\n      <td>-7.911159e-05</td>\n      <td>240.656155</td>\n    </tr>\n    <tr>\n      <th>std</th>\n      <td>18040.767448</td>\n      <td>0.418389</td>\n      <td>9.629376e+06</td>\n      <td>1.329848</td>\n      <td>0.938015</td>\n      <td>21.393257</td>\n      <td>0.001061</td>\n      <td>6.869689e-04</td>\n      <td>156.837604</td>\n    </tr>\n    <tr>\n      <th>min</th>\n      <td>1.000000</td>\n      <td>1.000000</td>\n      <td>1.410593e+09</td>\n      <td>-27.603175</td>\n      <td>-48.632918</td>\n      <td>0.000000</td>\n      <td>-0.070945</td>\n      <td>-1.950500e-02</td>\n      <td>1.000000</td>\n    </tr>\n    <tr>\n      <th>25%</th>\n      <td>33.000000</td>\n      <td>1.000000</td>\n      <td>1.416304e+09</td>\n      <td>-10.944041</td>\n      <td>-37.073069</td>\n      <td>5.000000</td>\n      <td>-0.000119</td>\n      <td>-1.616667e-04</td>\n      <td>122.000000</td>\n    </tr>\n    <tr>\n      <th>50%</th>\n      <td>136.000000</td>\n      <td>1.000000</td>\n      <td>1.424332e+09</td>\n      <td>-10.922000</td>\n      <td>-37.057784</td>\n      <td>6.000000</td>\n      <td>0.000000</td>\n      <td>-1.900000e-07</td>\n      <td>189.000000</td>\n    </tr>\n    <tr>\n      <th>75%</th>\n      <td>37992.000000</td>\n      <td>1.000000</td>\n      <td>1.432479e+09</td>\n      <td>-10.904268</td>\n      <td>-37.050190</td>\n      <td>10.000000</td>\n      <td>0.000073</td>\n      <td>2.899000e-05</td>\n      <td>316.000000</td>\n    </tr>\n    <tr>\n      <th>max</th>\n      <td>38092.000000</td>\n      <td>2.000000</td>\n      <td>1.453209e+09</td>\n      <td>-10.292845</td>\n      <td>-36.493357</td>\n      <td>1368.000000</td>\n      <td>0.047944</td>\n      <td>3.516167e-02</td>\n      <td>646.000000</td>\n    </tr>\n  </tbody>\n</table>\n</div>"
     },
     "execution_count": 79,
     "metadata": {},
     "output_type": "execute_result"
    }
   ],
   "source": [
    "df.describe()"
   ],
   "metadata": {
    "collapsed": false,
    "pycharm": {
     "name": "#%%\n"
    }
   }
  },
  {
   "cell_type": "code",
   "execution_count": 80,
   "outputs": [
    {
     "name": "stdout",
     "output_type": "stream",
     "text": [
      "Number of trajectories: 163\n",
      "Number of target classes: 2\n"
     ]
    }
   ],
   "source": [
    "print(F\"Number of trajectories: {len(df.track_id.unique())}\")\n",
    "print(F\"Number of target classes: {len(df.car_or_bus.unique())}\")"
   ],
   "metadata": {
    "collapsed": false,
    "pycharm": {
     "name": "#%%\n"
    }
   }
  },
  {
   "cell_type": "markdown",
   "source": [
    "## Gowalla Dataset"
   ],
   "metadata": {
    "collapsed": false,
    "pycharm": {
     "name": "#%% md\n"
    }
   }
  },
  {
   "cell_type": "code",
   "execution_count": 81,
   "outputs": [
    {
     "data": {
      "text/plain": "    tid  label       day  hour        lat        lon  id\n0  3078    143  Saturday     1  30.294886 -97.871811   0\n1  3078    143  Saturday    17  30.238056 -97.797353   0\n2  3078    143  Saturday    18  30.247754 -97.750704   0\n3  3078    143  Saturday    19  30.247358 -97.750758   0\n4  3078    143  Saturday    19  30.247353 -97.750179   0",
      "text/html": "<div>\n<style scoped>\n    .dataframe tbody tr th:only-of-type {\n        vertical-align: middle;\n    }\n\n    .dataframe tbody tr th {\n        vertical-align: top;\n    }\n\n    .dataframe thead th {\n        text-align: right;\n    }\n</style>\n<table border=\"1\" class=\"dataframe\">\n  <thead>\n    <tr style=\"text-align: right;\">\n      <th></th>\n      <th>tid</th>\n      <th>label</th>\n      <th>day</th>\n      <th>hour</th>\n      <th>lat</th>\n      <th>lon</th>\n      <th>id</th>\n    </tr>\n  </thead>\n  <tbody>\n    <tr>\n      <th>0</th>\n      <td>3078</td>\n      <td>143</td>\n      <td>Saturday</td>\n      <td>1</td>\n      <td>30.294886</td>\n      <td>-97.871811</td>\n      <td>0</td>\n    </tr>\n    <tr>\n      <th>1</th>\n      <td>3078</td>\n      <td>143</td>\n      <td>Saturday</td>\n      <td>17</td>\n      <td>30.238056</td>\n      <td>-97.797353</td>\n      <td>0</td>\n    </tr>\n    <tr>\n      <th>2</th>\n      <td>3078</td>\n      <td>143</td>\n      <td>Saturday</td>\n      <td>18</td>\n      <td>30.247754</td>\n      <td>-97.750704</td>\n      <td>0</td>\n    </tr>\n    <tr>\n      <th>3</th>\n      <td>3078</td>\n      <td>143</td>\n      <td>Saturday</td>\n      <td>19</td>\n      <td>30.247358</td>\n      <td>-97.750758</td>\n      <td>0</td>\n    </tr>\n    <tr>\n      <th>4</th>\n      <td>3078</td>\n      <td>143</td>\n      <td>Saturday</td>\n      <td>19</td>\n      <td>30.247353</td>\n      <td>-97.750179</td>\n      <td>0</td>\n    </tr>\n  </tbody>\n</table>\n</div>"
     },
     "execution_count": 81,
     "metadata": {},
     "output_type": "execute_result"
    }
   ],
   "source": [
    "from datetime import datetime\n",
    "df = pd.read_csv(\"Gowalla Dataset/data/prepared_user_id.zip\")\n",
    "\n",
    "df.head()"
   ],
   "metadata": {
    "collapsed": false,
    "pycharm": {
     "name": "#%%\n"
    }
   }
  },
  {
   "cell_type": "code",
   "execution_count": 82,
   "outputs": [
    {
     "name": "stderr",
     "output_type": "stream",
     "text": [
      "<ipython-input-82-a826a3d24967>:1: FutureWarning: Indexing with multiple keys (implicitly converted to a tuple of keys) will be deprecated, use a list instead.\n",
      "  df[[\"delta_t\", \"delta c1\", \"delta c2\"]] = df.groupby(by=\"tid\")[\"hour\", \"lat\", \"lon\"].diff()\n"
     ]
    },
    {
     "data": {
      "text/plain": "    tid  label       day  hour        lat        lon  id  delta_t  delta c1  \\\n0  3078    143  Saturday     1  30.294886 -97.871811   0      NaN       NaN   \n1  3078    143  Saturday    17  30.238056 -97.797353   0     16.0 -0.056829   \n2  3078    143  Saturday    18  30.247754 -97.750704   0      1.0  0.009697   \n3  3078    143  Saturday    19  30.247358 -97.750758   0      1.0 -0.000396   \n4  3078    143  Saturday    19  30.247353 -97.750179   0      0.0 -0.000005   \n\n   delta c2  trajectoryLen  \n0       NaN             19  \n1  0.074458             19  \n2  0.046649             19  \n3 -0.000054             19  \n4  0.000579             19  ",
      "text/html": "<div>\n<style scoped>\n    .dataframe tbody tr th:only-of-type {\n        vertical-align: middle;\n    }\n\n    .dataframe tbody tr th {\n        vertical-align: top;\n    }\n\n    .dataframe thead th {\n        text-align: right;\n    }\n</style>\n<table border=\"1\" class=\"dataframe\">\n  <thead>\n    <tr style=\"text-align: right;\">\n      <th></th>\n      <th>tid</th>\n      <th>label</th>\n      <th>day</th>\n      <th>hour</th>\n      <th>lat</th>\n      <th>lon</th>\n      <th>id</th>\n      <th>delta_t</th>\n      <th>delta c1</th>\n      <th>delta c2</th>\n      <th>trajectoryLen</th>\n    </tr>\n  </thead>\n  <tbody>\n    <tr>\n      <th>0</th>\n      <td>3078</td>\n      <td>143</td>\n      <td>Saturday</td>\n      <td>1</td>\n      <td>30.294886</td>\n      <td>-97.871811</td>\n      <td>0</td>\n      <td>NaN</td>\n      <td>NaN</td>\n      <td>NaN</td>\n      <td>19</td>\n    </tr>\n    <tr>\n      <th>1</th>\n      <td>3078</td>\n      <td>143</td>\n      <td>Saturday</td>\n      <td>17</td>\n      <td>30.238056</td>\n      <td>-97.797353</td>\n      <td>0</td>\n      <td>16.0</td>\n      <td>-0.056829</td>\n      <td>0.074458</td>\n      <td>19</td>\n    </tr>\n    <tr>\n      <th>2</th>\n      <td>3078</td>\n      <td>143</td>\n      <td>Saturday</td>\n      <td>18</td>\n      <td>30.247754</td>\n      <td>-97.750704</td>\n      <td>0</td>\n      <td>1.0</td>\n      <td>0.009697</td>\n      <td>0.046649</td>\n      <td>19</td>\n    </tr>\n    <tr>\n      <th>3</th>\n      <td>3078</td>\n      <td>143</td>\n      <td>Saturday</td>\n      <td>19</td>\n      <td>30.247358</td>\n      <td>-97.750758</td>\n      <td>0</td>\n      <td>1.0</td>\n      <td>-0.000396</td>\n      <td>-0.000054</td>\n      <td>19</td>\n    </tr>\n    <tr>\n      <th>4</th>\n      <td>3078</td>\n      <td>143</td>\n      <td>Saturday</td>\n      <td>19</td>\n      <td>30.247353</td>\n      <td>-97.750179</td>\n      <td>0</td>\n      <td>0.0</td>\n      <td>-0.000005</td>\n      <td>0.000579</td>\n      <td>19</td>\n    </tr>\n  </tbody>\n</table>\n</div>"
     },
     "execution_count": 82,
     "metadata": {},
     "output_type": "execute_result"
    }
   ],
   "source": [
    "df[[\"delta_t\", \"delta c1\", \"delta c2\"]] = df.groupby(by=\"tid\")[\"hour\", \"lat\", \"lon\"].diff()\n",
    "df = df.merge(df.groupby(by=\"tid\").size().rename(\"trajectoryLen\").reset_index(), on=\"tid\")\n",
    "\n",
    "df.head()"
   ],
   "metadata": {
    "collapsed": false,
    "pycharm": {
     "name": "#%%\n"
    }
   }
  },
  {
   "cell_type": "code",
   "execution_count": 83,
   "outputs": [
    {
     "data": {
      "text/plain": "                 tid          label          hour           lat           lon  \\\ncount   64568.000000   64568.000000  64568.000000  64568.000000  64568.000000   \nmean   198288.789942   25716.124427     13.183605     40.355647    -66.181495   \nstd    232490.903775   39246.014942      7.133935     10.416563     58.357560   \nmin      3071.000000     143.000000      0.000000    -22.957799   -158.061561   \n25%     46442.000000    3129.000000      7.000000     32.810659    -98.490844   \n50%     88998.000000    5734.000000     15.000000     37.776381    -87.909305   \n75%    208632.000000   19807.000000     19.000000     47.622805      3.523913   \nmax    840039.000000  142661.000000     23.000000     67.856377    139.773055   \n\n                 id       delta_t      delta c1      delta c2  trajectoryLen  \ncount  64568.000000  61154.000000  61154.000000  61154.000000   64568.000000  \nmean      66.048507      0.444092     -0.001419     -0.010407      22.379848  \nstd       40.269804      8.360327      1.033937      3.462755       9.430711  \nmin        0.000000    -23.000000    -78.655038   -243.703522      10.000000  \n25%       33.000000      0.000000     -0.009063     -0.012423      15.000000  \n50%       63.000000      1.000000      0.000000      0.000000      20.000000  \n75%      100.000000      4.000000      0.008915      0.012280      28.000000  \nmax      140.000000     23.000000     71.816976    114.663309      50.000000  ",
      "text/html": "<div>\n<style scoped>\n    .dataframe tbody tr th:only-of-type {\n        vertical-align: middle;\n    }\n\n    .dataframe tbody tr th {\n        vertical-align: top;\n    }\n\n    .dataframe thead th {\n        text-align: right;\n    }\n</style>\n<table border=\"1\" class=\"dataframe\">\n  <thead>\n    <tr style=\"text-align: right;\">\n      <th></th>\n      <th>tid</th>\n      <th>label</th>\n      <th>hour</th>\n      <th>lat</th>\n      <th>lon</th>\n      <th>id</th>\n      <th>delta_t</th>\n      <th>delta c1</th>\n      <th>delta c2</th>\n      <th>trajectoryLen</th>\n    </tr>\n  </thead>\n  <tbody>\n    <tr>\n      <th>count</th>\n      <td>64568.000000</td>\n      <td>64568.000000</td>\n      <td>64568.000000</td>\n      <td>64568.000000</td>\n      <td>64568.000000</td>\n      <td>64568.000000</td>\n      <td>61154.000000</td>\n      <td>61154.000000</td>\n      <td>61154.000000</td>\n      <td>64568.000000</td>\n    </tr>\n    <tr>\n      <th>mean</th>\n      <td>198288.789942</td>\n      <td>25716.124427</td>\n      <td>13.183605</td>\n      <td>40.355647</td>\n      <td>-66.181495</td>\n      <td>66.048507</td>\n      <td>0.444092</td>\n      <td>-0.001419</td>\n      <td>-0.010407</td>\n      <td>22.379848</td>\n    </tr>\n    <tr>\n      <th>std</th>\n      <td>232490.903775</td>\n      <td>39246.014942</td>\n      <td>7.133935</td>\n      <td>10.416563</td>\n      <td>58.357560</td>\n      <td>40.269804</td>\n      <td>8.360327</td>\n      <td>1.033937</td>\n      <td>3.462755</td>\n      <td>9.430711</td>\n    </tr>\n    <tr>\n      <th>min</th>\n      <td>3071.000000</td>\n      <td>143.000000</td>\n      <td>0.000000</td>\n      <td>-22.957799</td>\n      <td>-158.061561</td>\n      <td>0.000000</td>\n      <td>-23.000000</td>\n      <td>-78.655038</td>\n      <td>-243.703522</td>\n      <td>10.000000</td>\n    </tr>\n    <tr>\n      <th>25%</th>\n      <td>46442.000000</td>\n      <td>3129.000000</td>\n      <td>7.000000</td>\n      <td>32.810659</td>\n      <td>-98.490844</td>\n      <td>33.000000</td>\n      <td>0.000000</td>\n      <td>-0.009063</td>\n      <td>-0.012423</td>\n      <td>15.000000</td>\n    </tr>\n    <tr>\n      <th>50%</th>\n      <td>88998.000000</td>\n      <td>5734.000000</td>\n      <td>15.000000</td>\n      <td>37.776381</td>\n      <td>-87.909305</td>\n      <td>63.000000</td>\n      <td>1.000000</td>\n      <td>0.000000</td>\n      <td>0.000000</td>\n      <td>20.000000</td>\n    </tr>\n    <tr>\n      <th>75%</th>\n      <td>208632.000000</td>\n      <td>19807.000000</td>\n      <td>19.000000</td>\n      <td>47.622805</td>\n      <td>3.523913</td>\n      <td>100.000000</td>\n      <td>4.000000</td>\n      <td>0.008915</td>\n      <td>0.012280</td>\n      <td>28.000000</td>\n    </tr>\n    <tr>\n      <th>max</th>\n      <td>840039.000000</td>\n      <td>142661.000000</td>\n      <td>23.000000</td>\n      <td>67.856377</td>\n      <td>139.773055</td>\n      <td>140.000000</td>\n      <td>23.000000</td>\n      <td>71.816976</td>\n      <td>114.663309</td>\n      <td>50.000000</td>\n    </tr>\n  </tbody>\n</table>\n</div>"
     },
     "execution_count": 83,
     "metadata": {},
     "output_type": "execute_result"
    }
   ],
   "source": [
    "df.describe()"
   ],
   "metadata": {
    "collapsed": false,
    "pycharm": {
     "name": "#%%\n"
    }
   }
  },
  {
   "cell_type": "code",
   "execution_count": 84,
   "outputs": [
    {
     "name": "stdout",
     "output_type": "stream",
     "text": [
      "Number of trajectories: 3414\n",
      "Number of target classes: 141\n"
     ]
    }
   ],
   "source": [
    "print(F\"Number of trajectories: {len(df.tid.unique())}\")\n",
    "print(F\"Number of target classes: {len(df.id.unique())}\")"
   ],
   "metadata": {
    "collapsed": false,
    "pycharm": {
     "name": "#%%\n"
    }
   }
  },
  {
   "cell_type": "markdown",
   "source": [
    "## Taxi Dataset"
   ],
   "metadata": {
    "collapsed": false,
    "pycharm": {
     "name": "#%% md\n"
    }
   }
  },
  {
   "cell_type": "code",
   "execution_count": 86,
   "outputs": [
    {
     "data": {
      "text/plain": "    TIMESTAMP                  tid  day_of_week  POLYLINE_LEN       lat  \\\n0  1372636853  1372636853620000380            0            25 -8.610291   \n1  1372636868  1372636853620000380            0            25 -8.610300   \n2  1372636883  1372636853620000380            0            25 -8.610309   \n3  1372636898  1372636853620000380            0            25 -8.613657   \n4  1372636913  1372636853620000380            0            25 -8.614602   \n\n         lon  \n0  41.140746  \n1  41.140755  \n2  41.140890  \n3  41.141358  \n4  41.141484  ",
      "text/html": "<div>\n<style scoped>\n    .dataframe tbody tr th:only-of-type {\n        vertical-align: middle;\n    }\n\n    .dataframe tbody tr th {\n        vertical-align: top;\n    }\n\n    .dataframe thead th {\n        text-align: right;\n    }\n</style>\n<table border=\"1\" class=\"dataframe\">\n  <thead>\n    <tr style=\"text-align: right;\">\n      <th></th>\n      <th>TIMESTAMP</th>\n      <th>tid</th>\n      <th>day_of_week</th>\n      <th>POLYLINE_LEN</th>\n      <th>lat</th>\n      <th>lon</th>\n    </tr>\n  </thead>\n  <tbody>\n    <tr>\n      <th>0</th>\n      <td>1372636853</td>\n      <td>1372636853620000380</td>\n      <td>0</td>\n      <td>25</td>\n      <td>-8.610291</td>\n      <td>41.140746</td>\n    </tr>\n    <tr>\n      <th>1</th>\n      <td>1372636868</td>\n      <td>1372636853620000380</td>\n      <td>0</td>\n      <td>25</td>\n      <td>-8.610300</td>\n      <td>41.140755</td>\n    </tr>\n    <tr>\n      <th>2</th>\n      <td>1372636883</td>\n      <td>1372636853620000380</td>\n      <td>0</td>\n      <td>25</td>\n      <td>-8.610309</td>\n      <td>41.140890</td>\n    </tr>\n    <tr>\n      <th>3</th>\n      <td>1372636898</td>\n      <td>1372636853620000380</td>\n      <td>0</td>\n      <td>25</td>\n      <td>-8.613657</td>\n      <td>41.141358</td>\n    </tr>\n    <tr>\n      <th>4</th>\n      <td>1372636913</td>\n      <td>1372636853620000380</td>\n      <td>0</td>\n      <td>25</td>\n      <td>-8.614602</td>\n      <td>41.141484</td>\n    </tr>\n  </tbody>\n</table>\n</div>"
     },
     "execution_count": 86,
     "metadata": {},
     "output_type": "execute_result"
    }
   ],
   "source": [
    "from datetime import datetime\n",
    "df = pd.read_csv(\"Taxi Dataset/data/train_denorm_1mese.zip\")\n",
    "\n",
    "df.head()"
   ],
   "metadata": {
    "collapsed": false,
    "pycharm": {
     "name": "#%%\n"
    }
   }
  },
  {
   "cell_type": "code",
   "execution_count": 88,
   "outputs": [
    {
     "name": "stderr",
     "output_type": "stream",
     "text": [
      "<ipython-input-88-45771bd855e4>:1: FutureWarning: Indexing with multiple keys (implicitly converted to a tuple of keys) will be deprecated, use a list instead.\n",
      "  df[[\"delta_t\", \"delta c1\", \"delta c2\"]] = df.groupby(by=\"tid\")[\"TIMESTAMP\", \"lat\", \"lon\"].diff()\n"
     ]
    },
    {
     "data": {
      "text/plain": "    TIMESTAMP                  tid  day_of_week  POLYLINE_LEN       lat  \\\n0  1372636853  1372636853620000380            0            25 -8.610291   \n1  1372636868  1372636853620000380            0            25 -8.610300   \n2  1372636883  1372636853620000380            0            25 -8.610309   \n3  1372636898  1372636853620000380            0            25 -8.613657   \n4  1372636913  1372636853620000380            0            25 -8.614602   \n\n         lon  delta_t  delta c1  delta c2  trajectoryLen  \n0  41.140746      NaN       NaN       NaN             25  \n1  41.140755     15.0 -0.000009  0.000009             25  \n2  41.140890     15.0 -0.000009  0.000135             25  \n3  41.141358     15.0 -0.003348  0.000468             25  \n4  41.141484     15.0 -0.000945  0.000126             25  ",
      "text/html": "<div>\n<style scoped>\n    .dataframe tbody tr th:only-of-type {\n        vertical-align: middle;\n    }\n\n    .dataframe tbody tr th {\n        vertical-align: top;\n    }\n\n    .dataframe thead th {\n        text-align: right;\n    }\n</style>\n<table border=\"1\" class=\"dataframe\">\n  <thead>\n    <tr style=\"text-align: right;\">\n      <th></th>\n      <th>TIMESTAMP</th>\n      <th>tid</th>\n      <th>day_of_week</th>\n      <th>POLYLINE_LEN</th>\n      <th>lat</th>\n      <th>lon</th>\n      <th>delta_t</th>\n      <th>delta c1</th>\n      <th>delta c2</th>\n      <th>trajectoryLen</th>\n    </tr>\n  </thead>\n  <tbody>\n    <tr>\n      <th>0</th>\n      <td>1372636853</td>\n      <td>1372636853620000380</td>\n      <td>0</td>\n      <td>25</td>\n      <td>-8.610291</td>\n      <td>41.140746</td>\n      <td>NaN</td>\n      <td>NaN</td>\n      <td>NaN</td>\n      <td>25</td>\n    </tr>\n    <tr>\n      <th>1</th>\n      <td>1372636868</td>\n      <td>1372636853620000380</td>\n      <td>0</td>\n      <td>25</td>\n      <td>-8.610300</td>\n      <td>41.140755</td>\n      <td>15.0</td>\n      <td>-0.000009</td>\n      <td>0.000009</td>\n      <td>25</td>\n    </tr>\n    <tr>\n      <th>2</th>\n      <td>1372636883</td>\n      <td>1372636853620000380</td>\n      <td>0</td>\n      <td>25</td>\n      <td>-8.610309</td>\n      <td>41.140890</td>\n      <td>15.0</td>\n      <td>-0.000009</td>\n      <td>0.000135</td>\n      <td>25</td>\n    </tr>\n    <tr>\n      <th>3</th>\n      <td>1372636898</td>\n      <td>1372636853620000380</td>\n      <td>0</td>\n      <td>25</td>\n      <td>-8.613657</td>\n      <td>41.141358</td>\n      <td>15.0</td>\n      <td>-0.003348</td>\n      <td>0.000468</td>\n      <td>25</td>\n    </tr>\n    <tr>\n      <th>4</th>\n      <td>1372636913</td>\n      <td>1372636853620000380</td>\n      <td>0</td>\n      <td>25</td>\n      <td>-8.614602</td>\n      <td>41.141484</td>\n      <td>15.0</td>\n      <td>-0.000945</td>\n      <td>0.000126</td>\n      <td>25</td>\n    </tr>\n  </tbody>\n</table>\n</div>"
     },
     "execution_count": 88,
     "metadata": {},
     "output_type": "execute_result"
    }
   ],
   "source": [
    "df[[\"delta_t\", \"delta c1\", \"delta c2\"]] = df.groupby(by=\"tid\")[\"TIMESTAMP\", \"lat\", \"lon\"].diff()\n",
    "df = df.merge(df.groupby(by=\"tid\").size().rename(\"trajectoryLen\").reset_index(), on=\"tid\")\n",
    "\n",
    "df.head()"
   ],
   "metadata": {
    "collapsed": false,
    "pycharm": {
     "name": "#%%\n"
    }
   }
  },
  {
   "cell_type": "code",
   "execution_count": 93,
   "outputs": [
    {
     "data": {
      "text/plain": "               TIMESTAMP                         tid     day_of_week  \\\ncount     5673479.000000              5673479.000000  5673479.000000   \nmean   1373899656.098196  1373899249390380800.000000        2.848645   \nstd        744404.478603      744408140620860.625000        1.980949   \nmin    1372636853.000000  1372636853620000256.000000        0.000000   \n25%    1373260111.000000  1373259645620000256.000000        1.000000   \n50%    1373893376.000000  1373892955620000512.000000        3.000000   \n75%    1374543495.000000  1374543166620000768.000000        5.000000   \nmax    1375229901.000000  1375228852620000256.000000        6.000000   \n\n         POLYLINE_LEN             lat             lon         delta_t  \\\ncount  5673479.000000  5673479.000000  5673479.000000  5552167.000000   \nmean        55.310392       -8.619568       41.160036       15.000000   \nstd         22.489093        0.029390        0.022783        0.000000   \nmin         20.000000      -12.154527       38.776473       15.000000   \n25%         38.000000       -8.636679       41.148090       15.000000   \n50%         51.000000       -8.615196       41.156370       15.000000   \n75%         69.000000       -8.603946       41.167386       15.000000   \nmax        119.000000       -6.963039       45.657225       15.000000   \n\n             delta c1        delta c2   trajectoryLen  \ncount  5552167.000000  5552167.000000  5673479.000000  \nmean        -0.000086        0.000131       55.310392  \nstd          0.002859        0.002598       22.489093  \nmin         -0.464058       -4.471290       20.000000  \n25%         -0.000594       -0.000261       38.000000  \n50%          0.000000        0.000009       51.000000  \n75%          0.000495        0.000459       69.000000  \nmax          3.574980        2.215305      119.000000  ",
      "text/html": "<div>\n<style scoped>\n    .dataframe tbody tr th:only-of-type {\n        vertical-align: middle;\n    }\n\n    .dataframe tbody tr th {\n        vertical-align: top;\n    }\n\n    .dataframe thead th {\n        text-align: right;\n    }\n</style>\n<table border=\"1\" class=\"dataframe\">\n  <thead>\n    <tr style=\"text-align: right;\">\n      <th></th>\n      <th>TIMESTAMP</th>\n      <th>tid</th>\n      <th>day_of_week</th>\n      <th>POLYLINE_LEN</th>\n      <th>lat</th>\n      <th>lon</th>\n      <th>delta_t</th>\n      <th>delta c1</th>\n      <th>delta c2</th>\n      <th>trajectoryLen</th>\n    </tr>\n  </thead>\n  <tbody>\n    <tr>\n      <th>count</th>\n      <td>5673479.000000</td>\n      <td>5673479.000000</td>\n      <td>5673479.000000</td>\n      <td>5673479.000000</td>\n      <td>5673479.000000</td>\n      <td>5673479.000000</td>\n      <td>5552167.000000</td>\n      <td>5552167.000000</td>\n      <td>5552167.000000</td>\n      <td>5673479.000000</td>\n    </tr>\n    <tr>\n      <th>mean</th>\n      <td>1373899656.098196</td>\n      <td>1373899249390380800.000000</td>\n      <td>2.848645</td>\n      <td>55.310392</td>\n      <td>-8.619568</td>\n      <td>41.160036</td>\n      <td>15.000000</td>\n      <td>-0.000086</td>\n      <td>0.000131</td>\n      <td>55.310392</td>\n    </tr>\n    <tr>\n      <th>std</th>\n      <td>744404.478603</td>\n      <td>744408140620860.625000</td>\n      <td>1.980949</td>\n      <td>22.489093</td>\n      <td>0.029390</td>\n      <td>0.022783</td>\n      <td>0.000000</td>\n      <td>0.002859</td>\n      <td>0.002598</td>\n      <td>22.489093</td>\n    </tr>\n    <tr>\n      <th>min</th>\n      <td>1372636853.000000</td>\n      <td>1372636853620000256.000000</td>\n      <td>0.000000</td>\n      <td>20.000000</td>\n      <td>-12.154527</td>\n      <td>38.776473</td>\n      <td>15.000000</td>\n      <td>-0.464058</td>\n      <td>-4.471290</td>\n      <td>20.000000</td>\n    </tr>\n    <tr>\n      <th>25%</th>\n      <td>1373260111.000000</td>\n      <td>1373259645620000256.000000</td>\n      <td>1.000000</td>\n      <td>38.000000</td>\n      <td>-8.636679</td>\n      <td>41.148090</td>\n      <td>15.000000</td>\n      <td>-0.000594</td>\n      <td>-0.000261</td>\n      <td>38.000000</td>\n    </tr>\n    <tr>\n      <th>50%</th>\n      <td>1373893376.000000</td>\n      <td>1373892955620000512.000000</td>\n      <td>3.000000</td>\n      <td>51.000000</td>\n      <td>-8.615196</td>\n      <td>41.156370</td>\n      <td>15.000000</td>\n      <td>0.000000</td>\n      <td>0.000009</td>\n      <td>51.000000</td>\n    </tr>\n    <tr>\n      <th>75%</th>\n      <td>1374543495.000000</td>\n      <td>1374543166620000768.000000</td>\n      <td>5.000000</td>\n      <td>69.000000</td>\n      <td>-8.603946</td>\n      <td>41.167386</td>\n      <td>15.000000</td>\n      <td>0.000495</td>\n      <td>0.000459</td>\n      <td>69.000000</td>\n    </tr>\n    <tr>\n      <th>max</th>\n      <td>1375229901.000000</td>\n      <td>1375228852620000256.000000</td>\n      <td>6.000000</td>\n      <td>119.000000</td>\n      <td>-6.963039</td>\n      <td>45.657225</td>\n      <td>15.000000</td>\n      <td>3.574980</td>\n      <td>2.215305</td>\n      <td>119.000000</td>\n    </tr>\n  </tbody>\n</table>\n</div>"
     },
     "execution_count": 93,
     "metadata": {},
     "output_type": "execute_result"
    }
   ],
   "source": [
    "df.describe().apply(lambda s: s.apply('{0:.6f}'.format))"
   ],
   "metadata": {
    "collapsed": false,
    "pycharm": {
     "name": "#%%\n"
    }
   }
  },
  {
   "cell_type": "code",
   "execution_count": 91,
   "outputs": [
    {
     "name": "stdout",
     "output_type": "stream",
     "text": [
      "Number of trajectories: 121312\n",
      "Number of target classes: 7\n"
     ]
    }
   ],
   "source": [
    "print(F\"Number of trajectories: {len(df.tid.unique())}\")\n",
    "print(F\"Number of target classes: {len(df.day_of_week.unique())}\")"
   ],
   "metadata": {
    "collapsed": false,
    "pycharm": {
     "name": "#%%\n"
    }
   }
  },
  {
   "cell_type": "markdown",
   "source": [
    "## Vehicles Dataset"
   ],
   "metadata": {
    "collapsed": false,
    "pycharm": {
     "name": "#%% md\n"
    }
   }
  },
  {
   "cell_type": "code",
   "execution_count": 94,
   "outputs": [
    {
     "data": {
      "text/plain": "     tid class    t         c1        c2\n0  30901     B    0  4207716.0  473841.1\n1  30901     B   30  4207724.6  473908.8\n2  30901     B   60  4207725.9  473909.6\n3  30901     B   90  4207736.9  473915.8\n4  30901     B  120  4207763.5  473934.3",
      "text/html": "<div>\n<style scoped>\n    .dataframe tbody tr th:only-of-type {\n        vertical-align: middle;\n    }\n\n    .dataframe tbody tr th {\n        vertical-align: top;\n    }\n\n    .dataframe thead th {\n        text-align: right;\n    }\n</style>\n<table border=\"1\" class=\"dataframe\">\n  <thead>\n    <tr style=\"text-align: right;\">\n      <th></th>\n      <th>tid</th>\n      <th>class</th>\n      <th>t</th>\n      <th>c1</th>\n      <th>c2</th>\n    </tr>\n  </thead>\n  <tbody>\n    <tr>\n      <th>0</th>\n      <td>30901</td>\n      <td>B</td>\n      <td>0</td>\n      <td>4207716.0</td>\n      <td>473841.1</td>\n    </tr>\n    <tr>\n      <th>1</th>\n      <td>30901</td>\n      <td>B</td>\n      <td>30</td>\n      <td>4207724.6</td>\n      <td>473908.8</td>\n    </tr>\n    <tr>\n      <th>2</th>\n      <td>30901</td>\n      <td>B</td>\n      <td>60</td>\n      <td>4207725.9</td>\n      <td>473909.6</td>\n    </tr>\n    <tr>\n      <th>3</th>\n      <td>30901</td>\n      <td>B</td>\n      <td>90</td>\n      <td>4207736.9</td>\n      <td>473915.8</td>\n    </tr>\n    <tr>\n      <th>4</th>\n      <td>30901</td>\n      <td>B</td>\n      <td>120</td>\n      <td>4207763.5</td>\n      <td>473934.3</td>\n    </tr>\n  </tbody>\n</table>\n</div>"
     },
     "execution_count": 94,
     "metadata": {},
     "output_type": "execute_result"
    }
   ],
   "source": [
    "from datetime import datetime\n",
    "df = pd.read_csv(\"Vehicles Dataset/data/vehicles_preapred.zip\")\n",
    "\n",
    "df.head()"
   ],
   "metadata": {
    "collapsed": false,
    "pycharm": {
     "name": "#%%\n"
    }
   }
  },
  {
   "cell_type": "code",
   "execution_count": 95,
   "outputs": [
    {
     "name": "stderr",
     "output_type": "stream",
     "text": [
      "<ipython-input-95-d6a7ff786720>:1: FutureWarning: Indexing with multiple keys (implicitly converted to a tuple of keys) will be deprecated, use a list instead.\n",
      "  df[[\"delta_t\", \"delta c1\", \"delta c2\"]] = df.groupby(by=\"tid\")[\"t\", \"c1\", \"c2\"].diff()\n"
     ]
    },
    {
     "data": {
      "text/plain": "     tid class    t         c1        c2  delta_t  delta c1  delta c2  \\\n0  30901     B    0  4207716.0  473841.1      NaN       NaN       NaN   \n1  30901     B   30  4207724.6  473908.8     30.0       8.6      67.7   \n2  30901     B   60  4207725.9  473909.6     30.0       1.3       0.8   \n3  30901     B   90  4207736.9  473915.8     30.0      11.0       6.2   \n4  30901     B  120  4207763.5  473934.3     30.0      26.6      18.5   \n\n   trajectoryLen  \n0            109  \n1            109  \n2            109  \n3            109  \n4            109  ",
      "text/html": "<div>\n<style scoped>\n    .dataframe tbody tr th:only-of-type {\n        vertical-align: middle;\n    }\n\n    .dataframe tbody tr th {\n        vertical-align: top;\n    }\n\n    .dataframe thead th {\n        text-align: right;\n    }\n</style>\n<table border=\"1\" class=\"dataframe\">\n  <thead>\n    <tr style=\"text-align: right;\">\n      <th></th>\n      <th>tid</th>\n      <th>class</th>\n      <th>t</th>\n      <th>c1</th>\n      <th>c2</th>\n      <th>delta_t</th>\n      <th>delta c1</th>\n      <th>delta c2</th>\n      <th>trajectoryLen</th>\n    </tr>\n  </thead>\n  <tbody>\n    <tr>\n      <th>0</th>\n      <td>30901</td>\n      <td>B</td>\n      <td>0</td>\n      <td>4207716.0</td>\n      <td>473841.1</td>\n      <td>NaN</td>\n      <td>NaN</td>\n      <td>NaN</td>\n      <td>109</td>\n    </tr>\n    <tr>\n      <th>1</th>\n      <td>30901</td>\n      <td>B</td>\n      <td>30</td>\n      <td>4207724.6</td>\n      <td>473908.8</td>\n      <td>30.0</td>\n      <td>8.6</td>\n      <td>67.7</td>\n      <td>109</td>\n    </tr>\n    <tr>\n      <th>2</th>\n      <td>30901</td>\n      <td>B</td>\n      <td>60</td>\n      <td>4207725.9</td>\n      <td>473909.6</td>\n      <td>30.0</td>\n      <td>1.3</td>\n      <td>0.8</td>\n      <td>109</td>\n    </tr>\n    <tr>\n      <th>3</th>\n      <td>30901</td>\n      <td>B</td>\n      <td>90</td>\n      <td>4207736.9</td>\n      <td>473915.8</td>\n      <td>30.0</td>\n      <td>11.0</td>\n      <td>6.2</td>\n      <td>109</td>\n    </tr>\n    <tr>\n      <th>4</th>\n      <td>30901</td>\n      <td>B</td>\n      <td>120</td>\n      <td>4207763.5</td>\n      <td>473934.3</td>\n      <td>30.0</td>\n      <td>26.6</td>\n      <td>18.5</td>\n      <td>109</td>\n    </tr>\n  </tbody>\n</table>\n</div>"
     },
     "execution_count": 95,
     "metadata": {},
     "output_type": "execute_result"
    }
   ],
   "source": [
    "df[[\"delta_t\", \"delta c1\", \"delta c2\"]] = df.groupby(by=\"tid\")[\"t\", \"c1\", \"c2\"].diff()\n",
    "df = df.merge(df.groupby(by=\"tid\").size().rename(\"trajectoryLen\").reset_index(), on=\"tid\")\n",
    "\n",
    "df.head()"
   ],
   "metadata": {
    "collapsed": false,
    "pycharm": {
     "name": "#%%\n"
    }
   }
  },
  {
   "cell_type": "code",
   "execution_count": 96,
   "outputs": [
    {
     "data": {
      "text/plain": "                 tid              t              c1             c2  \\\ncount  178299.000000  178299.000000   178299.000000  178299.000000   \nmean    80614.672993   21277.629549  4208684.725489  484529.160976   \nstd     57379.966651   14559.742797     7443.292109    7944.880110   \nmin     30901.000000       0.000000  4184490.500000  354975.600000   \n25%     42073.000000    7890.000000  4205395.100000  481322.600000   \n50%     87604.000000   20762.000000  4207465.900000  485293.800000   \n75%     90010.000000   32730.000000  4211428.250000  488203.700000   \nmax    420106.000000   76590.000000  4289049.000000  501635.000000   \n\n             delta_t       delta c1       delta c2  trajectoryLen  \ncount  177918.000000  177918.000000  177918.000000  178299.000000  \nmean       83.187328      -0.904288      -0.089495     601.740644  \nstd       596.972270     179.021821     184.120518     229.802839  \nmin        30.000000   -9665.300000  -15421.800000      29.000000  \n25%        30.000000     -71.200000     -77.400000     432.000000  \n50%        30.000000       0.000000      -0.600000     640.000000  \n75%        30.000000      73.600000      74.700000     763.000000  \nmax     53857.000000    5851.500000    7100.600000    1095.000000  ",
      "text/html": "<div>\n<style scoped>\n    .dataframe tbody tr th:only-of-type {\n        vertical-align: middle;\n    }\n\n    .dataframe tbody tr th {\n        vertical-align: top;\n    }\n\n    .dataframe thead th {\n        text-align: right;\n    }\n</style>\n<table border=\"1\" class=\"dataframe\">\n  <thead>\n    <tr style=\"text-align: right;\">\n      <th></th>\n      <th>tid</th>\n      <th>t</th>\n      <th>c1</th>\n      <th>c2</th>\n      <th>delta_t</th>\n      <th>delta c1</th>\n      <th>delta c2</th>\n      <th>trajectoryLen</th>\n    </tr>\n  </thead>\n  <tbody>\n    <tr>\n      <th>count</th>\n      <td>178299.000000</td>\n      <td>178299.000000</td>\n      <td>178299.000000</td>\n      <td>178299.000000</td>\n      <td>177918.000000</td>\n      <td>177918.000000</td>\n      <td>177918.000000</td>\n      <td>178299.000000</td>\n    </tr>\n    <tr>\n      <th>mean</th>\n      <td>80614.672993</td>\n      <td>21277.629549</td>\n      <td>4208684.725489</td>\n      <td>484529.160976</td>\n      <td>83.187328</td>\n      <td>-0.904288</td>\n      <td>-0.089495</td>\n      <td>601.740644</td>\n    </tr>\n    <tr>\n      <th>std</th>\n      <td>57379.966651</td>\n      <td>14559.742797</td>\n      <td>7443.292109</td>\n      <td>7944.880110</td>\n      <td>596.972270</td>\n      <td>179.021821</td>\n      <td>184.120518</td>\n      <td>229.802839</td>\n    </tr>\n    <tr>\n      <th>min</th>\n      <td>30901.000000</td>\n      <td>0.000000</td>\n      <td>4184490.500000</td>\n      <td>354975.600000</td>\n      <td>30.000000</td>\n      <td>-9665.300000</td>\n      <td>-15421.800000</td>\n      <td>29.000000</td>\n    </tr>\n    <tr>\n      <th>25%</th>\n      <td>42073.000000</td>\n      <td>7890.000000</td>\n      <td>4205395.100000</td>\n      <td>481322.600000</td>\n      <td>30.000000</td>\n      <td>-71.200000</td>\n      <td>-77.400000</td>\n      <td>432.000000</td>\n    </tr>\n    <tr>\n      <th>50%</th>\n      <td>87604.000000</td>\n      <td>20762.000000</td>\n      <td>4207465.900000</td>\n      <td>485293.800000</td>\n      <td>30.000000</td>\n      <td>0.000000</td>\n      <td>-0.600000</td>\n      <td>640.000000</td>\n    </tr>\n    <tr>\n      <th>75%</th>\n      <td>90010.000000</td>\n      <td>32730.000000</td>\n      <td>4211428.250000</td>\n      <td>488203.700000</td>\n      <td>30.000000</td>\n      <td>73.600000</td>\n      <td>74.700000</td>\n      <td>763.000000</td>\n    </tr>\n    <tr>\n      <th>max</th>\n      <td>420106.000000</td>\n      <td>76590.000000</td>\n      <td>4289049.000000</td>\n      <td>501635.000000</td>\n      <td>53857.000000</td>\n      <td>5851.500000</td>\n      <td>7100.600000</td>\n      <td>1095.000000</td>\n    </tr>\n  </tbody>\n</table>\n</div>"
     },
     "execution_count": 96,
     "metadata": {},
     "output_type": "execute_result"
    }
   ],
   "source": [
    "df.describe().apply(lambda s: s.apply('{0:.6f}'.format))"
   ],
   "metadata": {
    "collapsed": false,
    "pycharm": {
     "name": "#%%\n"
    }
   }
  },
  {
   "cell_type": "code",
   "execution_count": 100,
   "outputs": [
    {
     "name": "stdout",
     "output_type": "stream",
     "text": [
      "Number of trajectories: 381\n",
      "Number of target classes: 2\n"
     ]
    }
   ],
   "source": [
    "print(F\"Number of trajectories: {len(df.tid.unique())}\")\n",
    "print(F\"Number of target classes: {len(df['class'].unique())}\")"
   ],
   "metadata": {
    "collapsed": false,
    "pycharm": {
     "name": "#%%\n"
    }
   }
  },
  {
   "cell_type": "code",
   "execution_count": null,
   "outputs": [],
   "source": [],
   "metadata": {
    "collapsed": false,
    "pycharm": {
     "name": "#%%\n"
    }
   }
  },
  {
   "cell_type": "code",
   "execution_count": 101,
   "outputs": [],
   "source": [],
   "metadata": {
    "collapsed": false,
    "pycharm": {
     "name": "#%%\n"
    }
   }
  },
  {
   "cell_type": "markdown",
   "source": [
    "|                            |      Animals      |      Go!Track     |     Gowalla    |  Taxi (1 mese)  |       Vehicles      |\n",
    "|:--------------------------:|:-----------------:|:-----------------:|:--------------:|:---------------:|:-------------------:|\n",
    "| Number of Trajectories     | 102               | 163               | 3141           | 121312          | 381                 |\n",
    "| Avg trajectory len (std)   | 173 (56)          | 241 (157)         | 22 (9)         | 55 (22)         | 601 (230)           |\n",
    "| traj len 0-25-50-75-100%   | 2-123-179-220-291 | 1-122-189-316-646 | 10-15-20-28-50 | 20-38-51-69-119 | 29-432-640-763-1095 |\n",
    "| target class               | animal (3)        | car_or_bus (2)    | user_id (141)  | day_of_week (7) | vehicle (2)         |\n",
    "| avg time delta (std)       | 3.75 (6.24)       | 8 (21)            |                | 15 (0)          | 83 (596)            |\n",
    "| time delta 0-25-50-75-100% | 0-2-2-4-258       | 0-5-6-10-1368     |                | 15-15-15-15-15  | 30-30-30-30-53857   |\n",
    "| avg lat (std)              | 50.1251 (.0338)   |                   |                |                 |                     |\n",
    "| avg lon (std)              | 3.7722 (.0184)    |                   |                |                 |                     |"
   ],
   "metadata": {
    "collapsed": false,
    "pycharm": {
     "name": "#%% md\n"
    }
   }
  },
  {
   "cell_type": "markdown",
   "source": [],
   "metadata": {
    "collapsed": false,
    "pycharm": {
     "name": "#%% md\n"
    }
   }
  }
 ],
 "metadata": {
  "kernelspec": {
   "display_name": "Python 3",
   "language": "python",
   "name": "python3"
  },
  "language_info": {
   "codemirror_mode": {
    "name": "ipython",
    "version": 2
   },
   "file_extension": ".py",
   "mimetype": "text/x-python",
   "name": "python",
   "nbconvert_exporter": "python",
   "pygments_lexer": "ipython2",
   "version": "2.7.6"
  }
 },
 "nbformat": 4,
 "nbformat_minor": 0
}