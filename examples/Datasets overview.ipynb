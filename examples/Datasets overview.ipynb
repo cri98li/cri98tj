{
 "cells": [
  {
   "cell_type": "markdown",
   "metadata": {
    "collapsed": true,
    "pycharm": {
     "name": "#%% md\n"
    }
   },
   "source": [
    "# Overview datasets\n"
   ]
  },
  {
   "cell_type": "code",
   "execution_count": 1,
   "metadata": {
    "pycharm": {
     "name": "#%%\n"
    }
   },
   "outputs": [],
   "source": [
    "import pandas as pd\n",
    "import numpy as np\n",
    "import matplotlib.pyplot as plt\n",
    "import tqdm.auto as tqdm"
   ]
  },
  {
   "cell_type": "markdown",
   "metadata": {
    "pycharm": {
     "name": "#%% md\n"
    }
   },
   "source": [
    "## Animals Dataset"
   ]
  },
  {
   "cell_type": "code",
   "execution_count": 73,
   "metadata": {
    "pycharm": {
     "name": "#%%\n"
    }
   },
   "outputs": [
    {
     "data": {
      "text/html": [
       "<div>\n",
       "<style scoped>\n",
       "    .dataframe tbody tr th:only-of-type {\n",
       "        vertical-align: middle;\n",
       "    }\n",
       "\n",
       "    .dataframe tbody tr th {\n",
       "        vertical-align: top;\n",
       "    }\n",
       "\n",
       "    .dataframe thead th {\n",
       "        text-align: right;\n",
       "    }\n",
       "</style>\n",
       "<table border=\"1\" class=\"dataframe\">\n",
       "  <thead>\n",
       "    <tr style=\"text-align: right;\">\n",
       "      <th></th>\n",
       "      <th>tid</th>\n",
       "      <th>class</th>\n",
       "      <th>t</th>\n",
       "      <th>c1</th>\n",
       "      <th>c2</th>\n",
       "    </tr>\n",
       "  </thead>\n",
       "  <tbody>\n",
       "    <tr>\n",
       "      <th>0</th>\n",
       "      <td>1</td>\n",
       "      <td>D</td>\n",
       "      <td>0</td>\n",
       "      <td>50.1066</td>\n",
       "      <td>3.79665</td>\n",
       "    </tr>\n",
       "    <tr>\n",
       "      <th>1</th>\n",
       "      <td>1</td>\n",
       "      <td>D</td>\n",
       "      <td>4</td>\n",
       "      <td>50.1045</td>\n",
       "      <td>3.79455</td>\n",
       "    </tr>\n",
       "    <tr>\n",
       "      <th>2</th>\n",
       "      <td>1</td>\n",
       "      <td>D</td>\n",
       "      <td>7</td>\n",
       "      <td>50.1111</td>\n",
       "      <td>3.79845</td>\n",
       "    </tr>\n",
       "    <tr>\n",
       "      <th>3</th>\n",
       "      <td>1</td>\n",
       "      <td>D</td>\n",
       "      <td>9</td>\n",
       "      <td>50.1072</td>\n",
       "      <td>3.79845</td>\n",
       "    </tr>\n",
       "    <tr>\n",
       "      <th>4</th>\n",
       "      <td>1</td>\n",
       "      <td>D</td>\n",
       "      <td>15</td>\n",
       "      <td>50.1132</td>\n",
       "      <td>3.79965</td>\n",
       "    </tr>\n",
       "  </tbody>\n",
       "</table>\n",
       "</div>"
      ],
      "text/plain": [
       "   tid class   t       c1       c2\n",
       "0    1     D   0  50.1066  3.79665\n",
       "1    1     D   4  50.1045  3.79455\n",
       "2    1     D   7  50.1111  3.79845\n",
       "3    1     D   9  50.1072  3.79845\n",
       "4    1     D  15  50.1132  3.79965"
      ]
     },
     "execution_count": 73,
     "metadata": {},
     "output_type": "execute_result"
    }
   ],
   "source": [
    "df = pd.read_csv(\"Animals Dataset/data/animals_preapred.zip\")\n",
    "\n",
    "df.head()"
   ]
  },
  {
   "cell_type": "code",
   "execution_count": 74,
   "metadata": {
    "pycharm": {
     "name": "#%%\n"
    }
   },
   "outputs": [
    {
     "name": "stderr",
     "output_type": "stream",
     "text": [
      "<ipython-input-74-d6a7ff786720>:1: FutureWarning: Indexing with multiple keys (implicitly converted to a tuple of keys) will be deprecated, use a list instead.\n",
      "  df[[\"delta_t\", \"delta c1\", \"delta c2\"]] = df.groupby(by=\"tid\")[\"t\", \"c1\", \"c2\"].diff()\n"
     ]
    },
    {
     "data": {
      "text/html": [
       "<div>\n",
       "<style scoped>\n",
       "    .dataframe tbody tr th:only-of-type {\n",
       "        vertical-align: middle;\n",
       "    }\n",
       "\n",
       "    .dataframe tbody tr th {\n",
       "        vertical-align: top;\n",
       "    }\n",
       "\n",
       "    .dataframe thead th {\n",
       "        text-align: right;\n",
       "    }\n",
       "</style>\n",
       "<table border=\"1\" class=\"dataframe\">\n",
       "  <thead>\n",
       "    <tr style=\"text-align: right;\">\n",
       "      <th></th>\n",
       "      <th>tid</th>\n",
       "      <th>class</th>\n",
       "      <th>t</th>\n",
       "      <th>c1</th>\n",
       "      <th>c2</th>\n",
       "      <th>delta_t</th>\n",
       "      <th>delta c1</th>\n",
       "      <th>delta c2</th>\n",
       "      <th>trajectoryLen</th>\n",
       "    </tr>\n",
       "  </thead>\n",
       "  <tbody>\n",
       "    <tr>\n",
       "      <th>0</th>\n",
       "      <td>1</td>\n",
       "      <td>D</td>\n",
       "      <td>0</td>\n",
       "      <td>50.1066</td>\n",
       "      <td>3.79665</td>\n",
       "      <td>NaN</td>\n",
       "      <td>NaN</td>\n",
       "      <td>NaN</td>\n",
       "      <td>159</td>\n",
       "    </tr>\n",
       "    <tr>\n",
       "      <th>1</th>\n",
       "      <td>1</td>\n",
       "      <td>D</td>\n",
       "      <td>4</td>\n",
       "      <td>50.1045</td>\n",
       "      <td>3.79455</td>\n",
       "      <td>4.0</td>\n",
       "      <td>-0.0021</td>\n",
       "      <td>-0.0021</td>\n",
       "      <td>159</td>\n",
       "    </tr>\n",
       "    <tr>\n",
       "      <th>2</th>\n",
       "      <td>1</td>\n",
       "      <td>D</td>\n",
       "      <td>7</td>\n",
       "      <td>50.1111</td>\n",
       "      <td>3.79845</td>\n",
       "      <td>3.0</td>\n",
       "      <td>0.0066</td>\n",
       "      <td>0.0039</td>\n",
       "      <td>159</td>\n",
       "    </tr>\n",
       "    <tr>\n",
       "      <th>3</th>\n",
       "      <td>1</td>\n",
       "      <td>D</td>\n",
       "      <td>9</td>\n",
       "      <td>50.1072</td>\n",
       "      <td>3.79845</td>\n",
       "      <td>2.0</td>\n",
       "      <td>-0.0039</td>\n",
       "      <td>0.0000</td>\n",
       "      <td>159</td>\n",
       "    </tr>\n",
       "    <tr>\n",
       "      <th>4</th>\n",
       "      <td>1</td>\n",
       "      <td>D</td>\n",
       "      <td>15</td>\n",
       "      <td>50.1132</td>\n",
       "      <td>3.79965</td>\n",
       "      <td>6.0</td>\n",
       "      <td>0.0060</td>\n",
       "      <td>0.0012</td>\n",
       "      <td>159</td>\n",
       "    </tr>\n",
       "  </tbody>\n",
       "</table>\n",
       "</div>"
      ],
      "text/plain": [
       "   tid class   t       c1       c2  delta_t  delta c1  delta c2  trajectoryLen\n",
       "0    1     D   0  50.1066  3.79665      NaN       NaN       NaN            159\n",
       "1    1     D   4  50.1045  3.79455      4.0   -0.0021   -0.0021            159\n",
       "2    1     D   7  50.1111  3.79845      3.0    0.0066    0.0039            159\n",
       "3    1     D   9  50.1072  3.79845      2.0   -0.0039    0.0000            159\n",
       "4    1     D  15  50.1132  3.79965      6.0    0.0060    0.0012            159"
      ]
     },
     "execution_count": 74,
     "metadata": {},
     "output_type": "execute_result"
    }
   ],
   "source": [
    "df[[\"delta_t\", \"delta c1\", \"delta c2\"]] = df.groupby(by=\"tid\")[\"t\", \"c1\", \"c2\"].diff()\n",
    "df = df.merge(df.groupby(by=\"tid\").size().rename(\"trajectoryLen\").reset_index(), on=\"tid\")\n",
    "\n",
    "df.head()"
   ]
  },
  {
   "cell_type": "code",
   "execution_count": 75,
   "metadata": {
    "pycharm": {
     "name": "#%%\n"
    }
   },
   "outputs": [
    {
     "data": {
      "text/html": [
       "<div>\n",
       "<style scoped>\n",
       "    .dataframe tbody tr th:only-of-type {\n",
       "        vertical-align: middle;\n",
       "    }\n",
       "\n",
       "    .dataframe tbody tr th {\n",
       "        vertical-align: top;\n",
       "    }\n",
       "\n",
       "    .dataframe thead th {\n",
       "        text-align: right;\n",
       "    }\n",
       "</style>\n",
       "<table border=\"1\" class=\"dataframe\">\n",
       "  <thead>\n",
       "    <tr style=\"text-align: right;\">\n",
       "      <th></th>\n",
       "      <th>tid</th>\n",
       "      <th>t</th>\n",
       "      <th>c1</th>\n",
       "      <th>c2</th>\n",
       "      <th>delta_t</th>\n",
       "      <th>delta c1</th>\n",
       "      <th>delta c2</th>\n",
       "      <th>trajectoryLen</th>\n",
       "    </tr>\n",
       "  </thead>\n",
       "  <tbody>\n",
       "    <tr>\n",
       "      <th>count</th>\n",
       "      <td>14990.000000</td>\n",
       "      <td>14990.000000</td>\n",
       "      <td>14990.000000</td>\n",
       "      <td>14990.000000</td>\n",
       "      <td>14888.000000</td>\n",
       "      <td>14888.000000</td>\n",
       "      <td>14888.000000</td>\n",
       "      <td>14990.000000</td>\n",
       "    </tr>\n",
       "    <tr>\n",
       "      <th>mean</th>\n",
       "      <td>47.319480</td>\n",
       "      <td>330.046831</td>\n",
       "      <td>50.125104</td>\n",
       "      <td>3.772156</td>\n",
       "      <td>3.748119</td>\n",
       "      <td>-0.000010</td>\n",
       "      <td>-0.000015</td>\n",
       "      <td>173.288993</td>\n",
       "    </tr>\n",
       "    <tr>\n",
       "      <th>std</th>\n",
       "      <td>27.877163</td>\n",
       "      <td>213.205480</td>\n",
       "      <td>0.033747</td>\n",
       "      <td>0.018422</td>\n",
       "      <td>6.235011</td>\n",
       "      <td>0.004216</td>\n",
       "      <td>0.003511</td>\n",
       "      <td>56.250128</td>\n",
       "    </tr>\n",
       "    <tr>\n",
       "      <th>min</th>\n",
       "      <td>1.000000</td>\n",
       "      <td>0.000000</td>\n",
       "      <td>50.052000</td>\n",
       "      <td>3.738450</td>\n",
       "      <td>0.000000</td>\n",
       "      <td>-0.042600</td>\n",
       "      <td>-0.034800</td>\n",
       "      <td>2.000000</td>\n",
       "    </tr>\n",
       "    <tr>\n",
       "      <th>25%</th>\n",
       "      <td>25.000000</td>\n",
       "      <td>141.000000</td>\n",
       "      <td>50.095200</td>\n",
       "      <td>3.758550</td>\n",
       "      <td>2.000000</td>\n",
       "      <td>-0.000900</td>\n",
       "      <td>-0.001200</td>\n",
       "      <td>123.000000</td>\n",
       "    </tr>\n",
       "    <tr>\n",
       "      <th>50%</th>\n",
       "      <td>47.000000</td>\n",
       "      <td>293.000000</td>\n",
       "      <td>50.126400</td>\n",
       "      <td>3.767850</td>\n",
       "      <td>2.000000</td>\n",
       "      <td>0.000000</td>\n",
       "      <td>0.000000</td>\n",
       "      <td>179.000000</td>\n",
       "    </tr>\n",
       "    <tr>\n",
       "      <th>75%</th>\n",
       "      <td>68.000000</td>\n",
       "      <td>526.750000</td>\n",
       "      <td>50.155500</td>\n",
       "      <td>3.786450</td>\n",
       "      <td>4.000000</td>\n",
       "      <td>0.000900</td>\n",
       "      <td>0.001200</td>\n",
       "      <td>220.000000</td>\n",
       "    </tr>\n",
       "    <tr>\n",
       "      <th>max</th>\n",
       "      <td>102.000000</td>\n",
       "      <td>719.000000</td>\n",
       "      <td>50.190000</td>\n",
       "      <td>3.818250</td>\n",
       "      <td>258.000000</td>\n",
       "      <td>0.042300</td>\n",
       "      <td>0.039900</td>\n",
       "      <td>291.000000</td>\n",
       "    </tr>\n",
       "  </tbody>\n",
       "</table>\n",
       "</div>"
      ],
      "text/plain": [
       "                tid             t            c1            c2       delta_t  \\\n",
       "count  14990.000000  14990.000000  14990.000000  14990.000000  14888.000000   \n",
       "mean      47.319480    330.046831     50.125104      3.772156      3.748119   \n",
       "std       27.877163    213.205480      0.033747      0.018422      6.235011   \n",
       "min        1.000000      0.000000     50.052000      3.738450      0.000000   \n",
       "25%       25.000000    141.000000     50.095200      3.758550      2.000000   \n",
       "50%       47.000000    293.000000     50.126400      3.767850      2.000000   \n",
       "75%       68.000000    526.750000     50.155500      3.786450      4.000000   \n",
       "max      102.000000    719.000000     50.190000      3.818250    258.000000   \n",
       "\n",
       "           delta c1      delta c2  trajectoryLen  \n",
       "count  14888.000000  14888.000000   14990.000000  \n",
       "mean      -0.000010     -0.000015     173.288993  \n",
       "std        0.004216      0.003511      56.250128  \n",
       "min       -0.042600     -0.034800       2.000000  \n",
       "25%       -0.000900     -0.001200     123.000000  \n",
       "50%        0.000000      0.000000     179.000000  \n",
       "75%        0.000900      0.001200     220.000000  \n",
       "max        0.042300      0.039900     291.000000  "
      ]
     },
     "execution_count": 75,
     "metadata": {},
     "output_type": "execute_result"
    }
   ],
   "source": [
    "df.describe()"
   ]
  },
  {
   "cell_type": "code",
   "execution_count": 76,
   "metadata": {
    "pycharm": {
     "name": "#%%\n"
    }
   },
   "outputs": [
    {
     "name": "stdout",
     "output_type": "stream",
     "text": [
      "Number of trajectories: 102\n",
      "Number of target classes: 3\n"
     ]
    }
   ],
   "source": [
    "print(F\"Number of trajectories: {len(df.tid.unique())}\")\n",
    "print(F\"Number of target classes: {len(df['class'].unique())}\")"
   ]
  },
  {
   "cell_type": "code",
   "execution_count": 76,
   "metadata": {
    "pycharm": {
     "name": "#%%\n"
    }
   },
   "outputs": [],
   "source": []
  },
  {
   "cell_type": "markdown",
   "metadata": {
    "pycharm": {
     "name": "#%% md\n"
    }
   },
   "source": [
    "## Go!Track Dataset"
   ]
  },
  {
   "cell_type": "code",
   "execution_count": 77,
   "metadata": {
    "pycharm": {
     "name": "#%%\n"
    }
   },
   "outputs": [
    {
     "data": {
      "text/html": [
       "<div>\n",
       "<style scoped>\n",
       "    .dataframe tbody tr th:only-of-type {\n",
       "        vertical-align: middle;\n",
       "    }\n",
       "\n",
       "    .dataframe tbody tr th {\n",
       "        vertical-align: top;\n",
       "    }\n",
       "\n",
       "    .dataframe thead th {\n",
       "        text-align: right;\n",
       "    }\n",
       "</style>\n",
       "<table border=\"1\" class=\"dataframe\">\n",
       "  <thead>\n",
       "    <tr style=\"text-align: right;\">\n",
       "      <th></th>\n",
       "      <th>track_id</th>\n",
       "      <th>car_or_bus</th>\n",
       "      <th>time</th>\n",
       "      <th>latitude</th>\n",
       "      <th>longitude</th>\n",
       "    </tr>\n",
       "  </thead>\n",
       "  <tbody>\n",
       "    <tr>\n",
       "      <th>0</th>\n",
       "      <td>1</td>\n",
       "      <td>1</td>\n",
       "      <td>1410593072</td>\n",
       "      <td>-10.939341</td>\n",
       "      <td>-37.062742</td>\n",
       "    </tr>\n",
       "    <tr>\n",
       "      <th>1</th>\n",
       "      <td>1</td>\n",
       "      <td>1</td>\n",
       "      <td>1410593077</td>\n",
       "      <td>-10.939341</td>\n",
       "      <td>-37.062742</td>\n",
       "    </tr>\n",
       "    <tr>\n",
       "      <th>2</th>\n",
       "      <td>1</td>\n",
       "      <td>1</td>\n",
       "      <td>1410593082</td>\n",
       "      <td>-10.939324</td>\n",
       "      <td>-37.062765</td>\n",
       "    </tr>\n",
       "    <tr>\n",
       "      <th>3</th>\n",
       "      <td>1</td>\n",
       "      <td>1</td>\n",
       "      <td>1410593087</td>\n",
       "      <td>-10.939211</td>\n",
       "      <td>-37.062843</td>\n",
       "    </tr>\n",
       "    <tr>\n",
       "      <th>4</th>\n",
       "      <td>1</td>\n",
       "      <td>1</td>\n",
       "      <td>1410593093</td>\n",
       "      <td>-10.938939</td>\n",
       "      <td>-37.062879</td>\n",
       "    </tr>\n",
       "  </tbody>\n",
       "</table>\n",
       "</div>"
      ],
      "text/plain": [
       "   track_id  car_or_bus        time   latitude  longitude\n",
       "0         1           1  1410593072 -10.939341 -37.062742\n",
       "1         1           1  1410593077 -10.939341 -37.062742\n",
       "2         1           1  1410593082 -10.939324 -37.062765\n",
       "3         1           1  1410593087 -10.939211 -37.062843\n",
       "4         1           1  1410593093 -10.938939 -37.062879"
      ]
     },
     "execution_count": 77,
     "metadata": {},
     "output_type": "execute_result"
    }
   ],
   "source": [
    "from datetime import datetime\n",
    "dateparse = lambda x: datetime.strptime(x, '%Y-%m-%d %H:%M:%S')\n",
    "df = pd.read_csv(\"Go!Track Dataset/data/prepared_carORbus.zip\", parse_dates=['time'], date_parser=dateparse)\n",
    "\n",
    "df.time = df.time.apply(lambda x: int(x.timestamp()))\n",
    "\n",
    "df.head()"
   ]
  },
  {
   "cell_type": "code",
   "execution_count": 78,
   "metadata": {
    "pycharm": {
     "name": "#%%\n"
    }
   },
   "outputs": [
    {
     "name": "stderr",
     "output_type": "stream",
     "text": [
      "<ipython-input-78-32afe9199c1e>:1: FutureWarning: Indexing with multiple keys (implicitly converted to a tuple of keys) will be deprecated, use a list instead.\n",
      "  df[[\"delta_t\", \"delta c1\", \"delta c2\"]] = df.groupby(by=\"track_id\")[\"time\", \"latitude\", \"longitude\"].diff()\n"
     ]
    },
    {
     "data": {
      "text/html": [
       "<div>\n",
       "<style scoped>\n",
       "    .dataframe tbody tr th:only-of-type {\n",
       "        vertical-align: middle;\n",
       "    }\n",
       "\n",
       "    .dataframe tbody tr th {\n",
       "        vertical-align: top;\n",
       "    }\n",
       "\n",
       "    .dataframe thead th {\n",
       "        text-align: right;\n",
       "    }\n",
       "</style>\n",
       "<table border=\"1\" class=\"dataframe\">\n",
       "  <thead>\n",
       "    <tr style=\"text-align: right;\">\n",
       "      <th></th>\n",
       "      <th>track_id</th>\n",
       "      <th>car_or_bus</th>\n",
       "      <th>time</th>\n",
       "      <th>latitude</th>\n",
       "      <th>longitude</th>\n",
       "      <th>delta_t</th>\n",
       "      <th>delta c1</th>\n",
       "      <th>delta c2</th>\n",
       "      <th>trajectoryLen</th>\n",
       "    </tr>\n",
       "  </thead>\n",
       "  <tbody>\n",
       "    <tr>\n",
       "      <th>0</th>\n",
       "      <td>1</td>\n",
       "      <td>1</td>\n",
       "      <td>1410593072</td>\n",
       "      <td>-10.939341</td>\n",
       "      <td>-37.062742</td>\n",
       "      <td>NaN</td>\n",
       "      <td>NaN</td>\n",
       "      <td>NaN</td>\n",
       "      <td>90</td>\n",
       "    </tr>\n",
       "    <tr>\n",
       "      <th>1</th>\n",
       "      <td>1</td>\n",
       "      <td>1</td>\n",
       "      <td>1410593077</td>\n",
       "      <td>-10.939341</td>\n",
       "      <td>-37.062742</td>\n",
       "      <td>5.0</td>\n",
       "      <td>4.740031e-11</td>\n",
       "      <td>-3.869616e-11</td>\n",
       "      <td>90</td>\n",
       "    </tr>\n",
       "    <tr>\n",
       "      <th>2</th>\n",
       "      <td>1</td>\n",
       "      <td>1</td>\n",
       "      <td>1410593082</td>\n",
       "      <td>-10.939324</td>\n",
       "      <td>-37.062765</td>\n",
       "      <td>5.0</td>\n",
       "      <td>1.743790e-05</td>\n",
       "      <td>-2.240394e-05</td>\n",
       "      <td>90</td>\n",
       "    </tr>\n",
       "    <tr>\n",
       "      <th>3</th>\n",
       "      <td>1</td>\n",
       "      <td>1</td>\n",
       "      <td>1410593087</td>\n",
       "      <td>-10.939211</td>\n",
       "      <td>-37.062843</td>\n",
       "      <td>5.0</td>\n",
       "      <td>1.133862e-04</td>\n",
       "      <td>-7.853182e-05</td>\n",
       "      <td>90</td>\n",
       "    </tr>\n",
       "    <tr>\n",
       "      <th>4</th>\n",
       "      <td>1</td>\n",
       "      <td>1</td>\n",
       "      <td>1410593093</td>\n",
       "      <td>-10.938939</td>\n",
       "      <td>-37.062879</td>\n",
       "      <td>6.0</td>\n",
       "      <td>2.715827e-04</td>\n",
       "      <td>-3.555287e-05</td>\n",
       "      <td>90</td>\n",
       "    </tr>\n",
       "  </tbody>\n",
       "</table>\n",
       "</div>"
      ],
      "text/plain": [
       "   track_id  car_or_bus        time   latitude  longitude  delta_t  \\\n",
       "0         1           1  1410593072 -10.939341 -37.062742      NaN   \n",
       "1         1           1  1410593077 -10.939341 -37.062742      5.0   \n",
       "2         1           1  1410593082 -10.939324 -37.062765      5.0   \n",
       "3         1           1  1410593087 -10.939211 -37.062843      5.0   \n",
       "4         1           1  1410593093 -10.938939 -37.062879      6.0   \n",
       "\n",
       "       delta c1      delta c2  trajectoryLen  \n",
       "0           NaN           NaN             90  \n",
       "1  4.740031e-11 -3.869616e-11             90  \n",
       "2  1.743790e-05 -2.240394e-05             90  \n",
       "3  1.133862e-04 -7.853182e-05             90  \n",
       "4  2.715827e-04 -3.555287e-05             90  "
      ]
     },
     "execution_count": 78,
     "metadata": {},
     "output_type": "execute_result"
    }
   ],
   "source": [
    "df[[\"delta_t\", \"delta c1\", \"delta c2\"]] = df.groupby(by=\"track_id\")[\"time\", \"latitude\", \"longitude\"].diff()\n",
    "df = df.merge(df.groupby(by=\"track_id\").size().rename(\"trajectoryLen\").reset_index(), on=\"track_id\")\n",
    "\n",
    "df.head()"
   ]
  },
  {
   "cell_type": "code",
   "execution_count": 79,
   "metadata": {
    "pycharm": {
     "name": "#%%\n"
    }
   },
   "outputs": [
    {
     "data": {
      "text/html": [
       "<div>\n",
       "<style scoped>\n",
       "    .dataframe tbody tr th:only-of-type {\n",
       "        vertical-align: middle;\n",
       "    }\n",
       "\n",
       "    .dataframe tbody tr th {\n",
       "        vertical-align: top;\n",
       "    }\n",
       "\n",
       "    .dataframe thead th {\n",
       "        text-align: right;\n",
       "    }\n",
       "</style>\n",
       "<table border=\"1\" class=\"dataframe\">\n",
       "  <thead>\n",
       "    <tr style=\"text-align: right;\">\n",
       "      <th></th>\n",
       "      <th>track_id</th>\n",
       "      <th>car_or_bus</th>\n",
       "      <th>time</th>\n",
       "      <th>latitude</th>\n",
       "      <th>longitude</th>\n",
       "      <th>delta_t</th>\n",
       "      <th>delta c1</th>\n",
       "      <th>delta c2</th>\n",
       "      <th>trajectoryLen</th>\n",
       "    </tr>\n",
       "  </thead>\n",
       "  <tbody>\n",
       "    <tr>\n",
       "      <th>count</th>\n",
       "      <td>18107.000000</td>\n",
       "      <td>18107.000000</td>\n",
       "      <td>1.810700e+04</td>\n",
       "      <td>18107.000000</td>\n",
       "      <td>18107.000000</td>\n",
       "      <td>17944.000000</td>\n",
       "      <td>17944.000000</td>\n",
       "      <td>1.794400e+04</td>\n",
       "      <td>18107.000000</td>\n",
       "    </tr>\n",
       "    <tr>\n",
       "      <th>mean</th>\n",
       "      <td>13296.340697</td>\n",
       "      <td>1.226211</td>\n",
       "      <td>1.424722e+09</td>\n",
       "      <td>-10.998744</td>\n",
       "      <td>-37.111923</td>\n",
       "      <td>8.364189</td>\n",
       "      <td>-0.000021</td>\n",
       "      <td>-7.911159e-05</td>\n",
       "      <td>240.656155</td>\n",
       "    </tr>\n",
       "    <tr>\n",
       "      <th>std</th>\n",
       "      <td>18040.767448</td>\n",
       "      <td>0.418389</td>\n",
       "      <td>9.629376e+06</td>\n",
       "      <td>1.329848</td>\n",
       "      <td>0.938015</td>\n",
       "      <td>21.393257</td>\n",
       "      <td>0.001061</td>\n",
       "      <td>6.869689e-04</td>\n",
       "      <td>156.837604</td>\n",
       "    </tr>\n",
       "    <tr>\n",
       "      <th>min</th>\n",
       "      <td>1.000000</td>\n",
       "      <td>1.000000</td>\n",
       "      <td>1.410593e+09</td>\n",
       "      <td>-27.603175</td>\n",
       "      <td>-48.632918</td>\n",
       "      <td>0.000000</td>\n",
       "      <td>-0.070945</td>\n",
       "      <td>-1.950500e-02</td>\n",
       "      <td>1.000000</td>\n",
       "    </tr>\n",
       "    <tr>\n",
       "      <th>25%</th>\n",
       "      <td>33.000000</td>\n",
       "      <td>1.000000</td>\n",
       "      <td>1.416304e+09</td>\n",
       "      <td>-10.944041</td>\n",
       "      <td>-37.073069</td>\n",
       "      <td>5.000000</td>\n",
       "      <td>-0.000119</td>\n",
       "      <td>-1.616667e-04</td>\n",
       "      <td>122.000000</td>\n",
       "    </tr>\n",
       "    <tr>\n",
       "      <th>50%</th>\n",
       "      <td>136.000000</td>\n",
       "      <td>1.000000</td>\n",
       "      <td>1.424332e+09</td>\n",
       "      <td>-10.922000</td>\n",
       "      <td>-37.057784</td>\n",
       "      <td>6.000000</td>\n",
       "      <td>0.000000</td>\n",
       "      <td>-1.900000e-07</td>\n",
       "      <td>189.000000</td>\n",
       "    </tr>\n",
       "    <tr>\n",
       "      <th>75%</th>\n",
       "      <td>37992.000000</td>\n",
       "      <td>1.000000</td>\n",
       "      <td>1.432479e+09</td>\n",
       "      <td>-10.904268</td>\n",
       "      <td>-37.050190</td>\n",
       "      <td>10.000000</td>\n",
       "      <td>0.000073</td>\n",
       "      <td>2.899000e-05</td>\n",
       "      <td>316.000000</td>\n",
       "    </tr>\n",
       "    <tr>\n",
       "      <th>max</th>\n",
       "      <td>38092.000000</td>\n",
       "      <td>2.000000</td>\n",
       "      <td>1.453209e+09</td>\n",
       "      <td>-10.292845</td>\n",
       "      <td>-36.493357</td>\n",
       "      <td>1368.000000</td>\n",
       "      <td>0.047944</td>\n",
       "      <td>3.516167e-02</td>\n",
       "      <td>646.000000</td>\n",
       "    </tr>\n",
       "  </tbody>\n",
       "</table>\n",
       "</div>"
      ],
      "text/plain": [
       "           track_id    car_or_bus          time      latitude     longitude  \\\n",
       "count  18107.000000  18107.000000  1.810700e+04  18107.000000  18107.000000   \n",
       "mean   13296.340697      1.226211  1.424722e+09    -10.998744    -37.111923   \n",
       "std    18040.767448      0.418389  9.629376e+06      1.329848      0.938015   \n",
       "min        1.000000      1.000000  1.410593e+09    -27.603175    -48.632918   \n",
       "25%       33.000000      1.000000  1.416304e+09    -10.944041    -37.073069   \n",
       "50%      136.000000      1.000000  1.424332e+09    -10.922000    -37.057784   \n",
       "75%    37992.000000      1.000000  1.432479e+09    -10.904268    -37.050190   \n",
       "max    38092.000000      2.000000  1.453209e+09    -10.292845    -36.493357   \n",
       "\n",
       "            delta_t      delta c1      delta c2  trajectoryLen  \n",
       "count  17944.000000  17944.000000  1.794400e+04   18107.000000  \n",
       "mean       8.364189     -0.000021 -7.911159e-05     240.656155  \n",
       "std       21.393257      0.001061  6.869689e-04     156.837604  \n",
       "min        0.000000     -0.070945 -1.950500e-02       1.000000  \n",
       "25%        5.000000     -0.000119 -1.616667e-04     122.000000  \n",
       "50%        6.000000      0.000000 -1.900000e-07     189.000000  \n",
       "75%       10.000000      0.000073  2.899000e-05     316.000000  \n",
       "max     1368.000000      0.047944  3.516167e-02     646.000000  "
      ]
     },
     "execution_count": 79,
     "metadata": {},
     "output_type": "execute_result"
    }
   ],
   "source": [
    "df.describe()"
   ]
  },
  {
   "cell_type": "code",
   "execution_count": 80,
   "metadata": {
    "pycharm": {
     "name": "#%%\n"
    }
   },
   "outputs": [
    {
     "name": "stdout",
     "output_type": "stream",
     "text": [
      "Number of trajectories: 163\n",
      "Number of target classes: 2\n"
     ]
    }
   ],
   "source": [
    "print(F\"Number of trajectories: {len(df.track_id.unique())}\")\n",
    "print(F\"Number of target classes: {len(df.car_or_bus.unique())}\")"
   ]
  },
  {
   "cell_type": "markdown",
   "metadata": {
    "pycharm": {
     "name": "#%% md\n"
    }
   },
   "source": [
    "## Gowalla Dataset"
   ]
  },
  {
   "cell_type": "code",
   "execution_count": 81,
   "metadata": {
    "pycharm": {
     "name": "#%%\n"
    }
   },
   "outputs": [
    {
     "data": {
      "text/html": [
       "<div>\n",
       "<style scoped>\n",
       "    .dataframe tbody tr th:only-of-type {\n",
       "        vertical-align: middle;\n",
       "    }\n",
       "\n",
       "    .dataframe tbody tr th {\n",
       "        vertical-align: top;\n",
       "    }\n",
       "\n",
       "    .dataframe thead th {\n",
       "        text-align: right;\n",
       "    }\n",
       "</style>\n",
       "<table border=\"1\" class=\"dataframe\">\n",
       "  <thead>\n",
       "    <tr style=\"text-align: right;\">\n",
       "      <th></th>\n",
       "      <th>tid</th>\n",
       "      <th>label</th>\n",
       "      <th>day</th>\n",
       "      <th>hour</th>\n",
       "      <th>lat</th>\n",
       "      <th>lon</th>\n",
       "      <th>id</th>\n",
       "    </tr>\n",
       "  </thead>\n",
       "  <tbody>\n",
       "    <tr>\n",
       "      <th>0</th>\n",
       "      <td>3078</td>\n",
       "      <td>143</td>\n",
       "      <td>Saturday</td>\n",
       "      <td>1</td>\n",
       "      <td>30.294886</td>\n",
       "      <td>-97.871811</td>\n",
       "      <td>0</td>\n",
       "    </tr>\n",
       "    <tr>\n",
       "      <th>1</th>\n",
       "      <td>3078</td>\n",
       "      <td>143</td>\n",
       "      <td>Saturday</td>\n",
       "      <td>17</td>\n",
       "      <td>30.238056</td>\n",
       "      <td>-97.797353</td>\n",
       "      <td>0</td>\n",
       "    </tr>\n",
       "    <tr>\n",
       "      <th>2</th>\n",
       "      <td>3078</td>\n",
       "      <td>143</td>\n",
       "      <td>Saturday</td>\n",
       "      <td>18</td>\n",
       "      <td>30.247754</td>\n",
       "      <td>-97.750704</td>\n",
       "      <td>0</td>\n",
       "    </tr>\n",
       "    <tr>\n",
       "      <th>3</th>\n",
       "      <td>3078</td>\n",
       "      <td>143</td>\n",
       "      <td>Saturday</td>\n",
       "      <td>19</td>\n",
       "      <td>30.247358</td>\n",
       "      <td>-97.750758</td>\n",
       "      <td>0</td>\n",
       "    </tr>\n",
       "    <tr>\n",
       "      <th>4</th>\n",
       "      <td>3078</td>\n",
       "      <td>143</td>\n",
       "      <td>Saturday</td>\n",
       "      <td>19</td>\n",
       "      <td>30.247353</td>\n",
       "      <td>-97.750179</td>\n",
       "      <td>0</td>\n",
       "    </tr>\n",
       "  </tbody>\n",
       "</table>\n",
       "</div>"
      ],
      "text/plain": [
       "    tid  label       day  hour        lat        lon  id\n",
       "0  3078    143  Saturday     1  30.294886 -97.871811   0\n",
       "1  3078    143  Saturday    17  30.238056 -97.797353   0\n",
       "2  3078    143  Saturday    18  30.247754 -97.750704   0\n",
       "3  3078    143  Saturday    19  30.247358 -97.750758   0\n",
       "4  3078    143  Saturday    19  30.247353 -97.750179   0"
      ]
     },
     "execution_count": 81,
     "metadata": {},
     "output_type": "execute_result"
    }
   ],
   "source": [
    "from datetime import datetime\n",
    "df = pd.read_csv(\"Gowalla Dataset/data/prepared_user_id.zip\")\n",
    "\n",
    "df.head()"
   ]
  },
  {
   "cell_type": "code",
   "execution_count": 82,
   "metadata": {
    "pycharm": {
     "name": "#%%\n"
    }
   },
   "outputs": [
    {
     "name": "stderr",
     "output_type": "stream",
     "text": [
      "<ipython-input-82-a826a3d24967>:1: FutureWarning: Indexing with multiple keys (implicitly converted to a tuple of keys) will be deprecated, use a list instead.\n",
      "  df[[\"delta_t\", \"delta c1\", \"delta c2\"]] = df.groupby(by=\"tid\")[\"hour\", \"lat\", \"lon\"].diff()\n"
     ]
    },
    {
     "data": {
      "text/html": [
       "<div>\n",
       "<style scoped>\n",
       "    .dataframe tbody tr th:only-of-type {\n",
       "        vertical-align: middle;\n",
       "    }\n",
       "\n",
       "    .dataframe tbody tr th {\n",
       "        vertical-align: top;\n",
       "    }\n",
       "\n",
       "    .dataframe thead th {\n",
       "        text-align: right;\n",
       "    }\n",
       "</style>\n",
       "<table border=\"1\" class=\"dataframe\">\n",
       "  <thead>\n",
       "    <tr style=\"text-align: right;\">\n",
       "      <th></th>\n",
       "      <th>tid</th>\n",
       "      <th>label</th>\n",
       "      <th>day</th>\n",
       "      <th>hour</th>\n",
       "      <th>lat</th>\n",
       "      <th>lon</th>\n",
       "      <th>id</th>\n",
       "      <th>delta_t</th>\n",
       "      <th>delta c1</th>\n",
       "      <th>delta c2</th>\n",
       "      <th>trajectoryLen</th>\n",
       "    </tr>\n",
       "  </thead>\n",
       "  <tbody>\n",
       "    <tr>\n",
       "      <th>0</th>\n",
       "      <td>3078</td>\n",
       "      <td>143</td>\n",
       "      <td>Saturday</td>\n",
       "      <td>1</td>\n",
       "      <td>30.294886</td>\n",
       "      <td>-97.871811</td>\n",
       "      <td>0</td>\n",
       "      <td>NaN</td>\n",
       "      <td>NaN</td>\n",
       "      <td>NaN</td>\n",
       "      <td>19</td>\n",
       "    </tr>\n",
       "    <tr>\n",
       "      <th>1</th>\n",
       "      <td>3078</td>\n",
       "      <td>143</td>\n",
       "      <td>Saturday</td>\n",
       "      <td>17</td>\n",
       "      <td>30.238056</td>\n",
       "      <td>-97.797353</td>\n",
       "      <td>0</td>\n",
       "      <td>16.0</td>\n",
       "      <td>-0.056829</td>\n",
       "      <td>0.074458</td>\n",
       "      <td>19</td>\n",
       "    </tr>\n",
       "    <tr>\n",
       "      <th>2</th>\n",
       "      <td>3078</td>\n",
       "      <td>143</td>\n",
       "      <td>Saturday</td>\n",
       "      <td>18</td>\n",
       "      <td>30.247754</td>\n",
       "      <td>-97.750704</td>\n",
       "      <td>0</td>\n",
       "      <td>1.0</td>\n",
       "      <td>0.009697</td>\n",
       "      <td>0.046649</td>\n",
       "      <td>19</td>\n",
       "    </tr>\n",
       "    <tr>\n",
       "      <th>3</th>\n",
       "      <td>3078</td>\n",
       "      <td>143</td>\n",
       "      <td>Saturday</td>\n",
       "      <td>19</td>\n",
       "      <td>30.247358</td>\n",
       "      <td>-97.750758</td>\n",
       "      <td>0</td>\n",
       "      <td>1.0</td>\n",
       "      <td>-0.000396</td>\n",
       "      <td>-0.000054</td>\n",
       "      <td>19</td>\n",
       "    </tr>\n",
       "    <tr>\n",
       "      <th>4</th>\n",
       "      <td>3078</td>\n",
       "      <td>143</td>\n",
       "      <td>Saturday</td>\n",
       "      <td>19</td>\n",
       "      <td>30.247353</td>\n",
       "      <td>-97.750179</td>\n",
       "      <td>0</td>\n",
       "      <td>0.0</td>\n",
       "      <td>-0.000005</td>\n",
       "      <td>0.000579</td>\n",
       "      <td>19</td>\n",
       "    </tr>\n",
       "  </tbody>\n",
       "</table>\n",
       "</div>"
      ],
      "text/plain": [
       "    tid  label       day  hour        lat        lon  id  delta_t  delta c1  \\\n",
       "0  3078    143  Saturday     1  30.294886 -97.871811   0      NaN       NaN   \n",
       "1  3078    143  Saturday    17  30.238056 -97.797353   0     16.0 -0.056829   \n",
       "2  3078    143  Saturday    18  30.247754 -97.750704   0      1.0  0.009697   \n",
       "3  3078    143  Saturday    19  30.247358 -97.750758   0      1.0 -0.000396   \n",
       "4  3078    143  Saturday    19  30.247353 -97.750179   0      0.0 -0.000005   \n",
       "\n",
       "   delta c2  trajectoryLen  \n",
       "0       NaN             19  \n",
       "1  0.074458             19  \n",
       "2  0.046649             19  \n",
       "3 -0.000054             19  \n",
       "4  0.000579             19  "
      ]
     },
     "execution_count": 82,
     "metadata": {},
     "output_type": "execute_result"
    }
   ],
   "source": [
    "df[[\"delta_t\", \"delta c1\", \"delta c2\"]] = df.groupby(by=\"tid\")[\"hour\", \"lat\", \"lon\"].diff()\n",
    "df = df.merge(df.groupby(by=\"tid\").size().rename(\"trajectoryLen\").reset_index(), on=\"tid\")\n",
    "\n",
    "df.head()"
   ]
  },
  {
   "cell_type": "code",
   "execution_count": 83,
   "metadata": {
    "pycharm": {
     "name": "#%%\n"
    }
   },
   "outputs": [
    {
     "data": {
      "text/html": [
       "<div>\n",
       "<style scoped>\n",
       "    .dataframe tbody tr th:only-of-type {\n",
       "        vertical-align: middle;\n",
       "    }\n",
       "\n",
       "    .dataframe tbody tr th {\n",
       "        vertical-align: top;\n",
       "    }\n",
       "\n",
       "    .dataframe thead th {\n",
       "        text-align: right;\n",
       "    }\n",
       "</style>\n",
       "<table border=\"1\" class=\"dataframe\">\n",
       "  <thead>\n",
       "    <tr style=\"text-align: right;\">\n",
       "      <th></th>\n",
       "      <th>tid</th>\n",
       "      <th>label</th>\n",
       "      <th>hour</th>\n",
       "      <th>lat</th>\n",
       "      <th>lon</th>\n",
       "      <th>id</th>\n",
       "      <th>delta_t</th>\n",
       "      <th>delta c1</th>\n",
       "      <th>delta c2</th>\n",
       "      <th>trajectoryLen</th>\n",
       "    </tr>\n",
       "  </thead>\n",
       "  <tbody>\n",
       "    <tr>\n",
       "      <th>count</th>\n",
       "      <td>64568.000000</td>\n",
       "      <td>64568.000000</td>\n",
       "      <td>64568.000000</td>\n",
       "      <td>64568.000000</td>\n",
       "      <td>64568.000000</td>\n",
       "      <td>64568.000000</td>\n",
       "      <td>61154.000000</td>\n",
       "      <td>61154.000000</td>\n",
       "      <td>61154.000000</td>\n",
       "      <td>64568.000000</td>\n",
       "    </tr>\n",
       "    <tr>\n",
       "      <th>mean</th>\n",
       "      <td>198288.789942</td>\n",
       "      <td>25716.124427</td>\n",
       "      <td>13.183605</td>\n",
       "      <td>40.355647</td>\n",
       "      <td>-66.181495</td>\n",
       "      <td>66.048507</td>\n",
       "      <td>0.444092</td>\n",
       "      <td>-0.001419</td>\n",
       "      <td>-0.010407</td>\n",
       "      <td>22.379848</td>\n",
       "    </tr>\n",
       "    <tr>\n",
       "      <th>std</th>\n",
       "      <td>232490.903775</td>\n",
       "      <td>39246.014942</td>\n",
       "      <td>7.133935</td>\n",
       "      <td>10.416563</td>\n",
       "      <td>58.357560</td>\n",
       "      <td>40.269804</td>\n",
       "      <td>8.360327</td>\n",
       "      <td>1.033937</td>\n",
       "      <td>3.462755</td>\n",
       "      <td>9.430711</td>\n",
       "    </tr>\n",
       "    <tr>\n",
       "      <th>min</th>\n",
       "      <td>3071.000000</td>\n",
       "      <td>143.000000</td>\n",
       "      <td>0.000000</td>\n",
       "      <td>-22.957799</td>\n",
       "      <td>-158.061561</td>\n",
       "      <td>0.000000</td>\n",
       "      <td>-23.000000</td>\n",
       "      <td>-78.655038</td>\n",
       "      <td>-243.703522</td>\n",
       "      <td>10.000000</td>\n",
       "    </tr>\n",
       "    <tr>\n",
       "      <th>25%</th>\n",
       "      <td>46442.000000</td>\n",
       "      <td>3129.000000</td>\n",
       "      <td>7.000000</td>\n",
       "      <td>32.810659</td>\n",
       "      <td>-98.490844</td>\n",
       "      <td>33.000000</td>\n",
       "      <td>0.000000</td>\n",
       "      <td>-0.009063</td>\n",
       "      <td>-0.012423</td>\n",
       "      <td>15.000000</td>\n",
       "    </tr>\n",
       "    <tr>\n",
       "      <th>50%</th>\n",
       "      <td>88998.000000</td>\n",
       "      <td>5734.000000</td>\n",
       "      <td>15.000000</td>\n",
       "      <td>37.776381</td>\n",
       "      <td>-87.909305</td>\n",
       "      <td>63.000000</td>\n",
       "      <td>1.000000</td>\n",
       "      <td>0.000000</td>\n",
       "      <td>0.000000</td>\n",
       "      <td>20.000000</td>\n",
       "    </tr>\n",
       "    <tr>\n",
       "      <th>75%</th>\n",
       "      <td>208632.000000</td>\n",
       "      <td>19807.000000</td>\n",
       "      <td>19.000000</td>\n",
       "      <td>47.622805</td>\n",
       "      <td>3.523913</td>\n",
       "      <td>100.000000</td>\n",
       "      <td>4.000000</td>\n",
       "      <td>0.008915</td>\n",
       "      <td>0.012280</td>\n",
       "      <td>28.000000</td>\n",
       "    </tr>\n",
       "    <tr>\n",
       "      <th>max</th>\n",
       "      <td>840039.000000</td>\n",
       "      <td>142661.000000</td>\n",
       "      <td>23.000000</td>\n",
       "      <td>67.856377</td>\n",
       "      <td>139.773055</td>\n",
       "      <td>140.000000</td>\n",
       "      <td>23.000000</td>\n",
       "      <td>71.816976</td>\n",
       "      <td>114.663309</td>\n",
       "      <td>50.000000</td>\n",
       "    </tr>\n",
       "  </tbody>\n",
       "</table>\n",
       "</div>"
      ],
      "text/plain": [
       "                 tid          label          hour           lat           lon  \\\n",
       "count   64568.000000   64568.000000  64568.000000  64568.000000  64568.000000   \n",
       "mean   198288.789942   25716.124427     13.183605     40.355647    -66.181495   \n",
       "std    232490.903775   39246.014942      7.133935     10.416563     58.357560   \n",
       "min      3071.000000     143.000000      0.000000    -22.957799   -158.061561   \n",
       "25%     46442.000000    3129.000000      7.000000     32.810659    -98.490844   \n",
       "50%     88998.000000    5734.000000     15.000000     37.776381    -87.909305   \n",
       "75%    208632.000000   19807.000000     19.000000     47.622805      3.523913   \n",
       "max    840039.000000  142661.000000     23.000000     67.856377    139.773055   \n",
       "\n",
       "                 id       delta_t      delta c1      delta c2  trajectoryLen  \n",
       "count  64568.000000  61154.000000  61154.000000  61154.000000   64568.000000  \n",
       "mean      66.048507      0.444092     -0.001419     -0.010407      22.379848  \n",
       "std       40.269804      8.360327      1.033937      3.462755       9.430711  \n",
       "min        0.000000    -23.000000    -78.655038   -243.703522      10.000000  \n",
       "25%       33.000000      0.000000     -0.009063     -0.012423      15.000000  \n",
       "50%       63.000000      1.000000      0.000000      0.000000      20.000000  \n",
       "75%      100.000000      4.000000      0.008915      0.012280      28.000000  \n",
       "max      140.000000     23.000000     71.816976    114.663309      50.000000  "
      ]
     },
     "execution_count": 83,
     "metadata": {},
     "output_type": "execute_result"
    }
   ],
   "source": [
    "df.describe()"
   ]
  },
  {
   "cell_type": "code",
   "execution_count": 84,
   "metadata": {
    "pycharm": {
     "name": "#%%\n"
    }
   },
   "outputs": [
    {
     "name": "stdout",
     "output_type": "stream",
     "text": [
      "Number of trajectories: 3414\n",
      "Number of target classes: 141\n"
     ]
    }
   ],
   "source": [
    "print(F\"Number of trajectories: {len(df.tid.unique())}\")\n",
    "print(F\"Number of target classes: {len(df.id.unique())}\")"
   ]
  },
  {
   "cell_type": "markdown",
   "metadata": {
    "pycharm": {
     "name": "#%% md\n"
    }
   },
   "source": [
    "## Taxi Dataset"
   ]
  },
  {
   "cell_type": "code",
   "execution_count": 86,
   "metadata": {
    "pycharm": {
     "name": "#%%\n"
    }
   },
   "outputs": [
    {
     "data": {
      "text/html": [
       "<div>\n",
       "<style scoped>\n",
       "    .dataframe tbody tr th:only-of-type {\n",
       "        vertical-align: middle;\n",
       "    }\n",
       "\n",
       "    .dataframe tbody tr th {\n",
       "        vertical-align: top;\n",
       "    }\n",
       "\n",
       "    .dataframe thead th {\n",
       "        text-align: right;\n",
       "    }\n",
       "</style>\n",
       "<table border=\"1\" class=\"dataframe\">\n",
       "  <thead>\n",
       "    <tr style=\"text-align: right;\">\n",
       "      <th></th>\n",
       "      <th>TIMESTAMP</th>\n",
       "      <th>tid</th>\n",
       "      <th>day_of_week</th>\n",
       "      <th>POLYLINE_LEN</th>\n",
       "      <th>lat</th>\n",
       "      <th>lon</th>\n",
       "    </tr>\n",
       "  </thead>\n",
       "  <tbody>\n",
       "    <tr>\n",
       "      <th>0</th>\n",
       "      <td>1372636853</td>\n",
       "      <td>1372636853620000380</td>\n",
       "      <td>0</td>\n",
       "      <td>25</td>\n",
       "      <td>-8.610291</td>\n",
       "      <td>41.140746</td>\n",
       "    </tr>\n",
       "    <tr>\n",
       "      <th>1</th>\n",
       "      <td>1372636868</td>\n",
       "      <td>1372636853620000380</td>\n",
       "      <td>0</td>\n",
       "      <td>25</td>\n",
       "      <td>-8.610300</td>\n",
       "      <td>41.140755</td>\n",
       "    </tr>\n",
       "    <tr>\n",
       "      <th>2</th>\n",
       "      <td>1372636883</td>\n",
       "      <td>1372636853620000380</td>\n",
       "      <td>0</td>\n",
       "      <td>25</td>\n",
       "      <td>-8.610309</td>\n",
       "      <td>41.140890</td>\n",
       "    </tr>\n",
       "    <tr>\n",
       "      <th>3</th>\n",
       "      <td>1372636898</td>\n",
       "      <td>1372636853620000380</td>\n",
       "      <td>0</td>\n",
       "      <td>25</td>\n",
       "      <td>-8.613657</td>\n",
       "      <td>41.141358</td>\n",
       "    </tr>\n",
       "    <tr>\n",
       "      <th>4</th>\n",
       "      <td>1372636913</td>\n",
       "      <td>1372636853620000380</td>\n",
       "      <td>0</td>\n",
       "      <td>25</td>\n",
       "      <td>-8.614602</td>\n",
       "      <td>41.141484</td>\n",
       "    </tr>\n",
       "  </tbody>\n",
       "</table>\n",
       "</div>"
      ],
      "text/plain": [
       "    TIMESTAMP                  tid  day_of_week  POLYLINE_LEN       lat  \\\n",
       "0  1372636853  1372636853620000380            0            25 -8.610291   \n",
       "1  1372636868  1372636853620000380            0            25 -8.610300   \n",
       "2  1372636883  1372636853620000380            0            25 -8.610309   \n",
       "3  1372636898  1372636853620000380            0            25 -8.613657   \n",
       "4  1372636913  1372636853620000380            0            25 -8.614602   \n",
       "\n",
       "         lon  \n",
       "0  41.140746  \n",
       "1  41.140755  \n",
       "2  41.140890  \n",
       "3  41.141358  \n",
       "4  41.141484  "
      ]
     },
     "execution_count": 86,
     "metadata": {},
     "output_type": "execute_result"
    }
   ],
   "source": [
    "from datetime import datetime\n",
    "df = pd.read_csv(\"Taxi Dataset/data/train_denorm_1mese.zip\")\n",
    "\n",
    "df.head()"
   ]
  },
  {
   "cell_type": "code",
   "execution_count": 88,
   "metadata": {
    "pycharm": {
     "name": "#%%\n"
    }
   },
   "outputs": [
    {
     "name": "stderr",
     "output_type": "stream",
     "text": [
      "<ipython-input-88-45771bd855e4>:1: FutureWarning: Indexing with multiple keys (implicitly converted to a tuple of keys) will be deprecated, use a list instead.\n",
      "  df[[\"delta_t\", \"delta c1\", \"delta c2\"]] = df.groupby(by=\"tid\")[\"TIMESTAMP\", \"lat\", \"lon\"].diff()\n"
     ]
    },
    {
     "data": {
      "text/html": [
       "<div>\n",
       "<style scoped>\n",
       "    .dataframe tbody tr th:only-of-type {\n",
       "        vertical-align: middle;\n",
       "    }\n",
       "\n",
       "    .dataframe tbody tr th {\n",
       "        vertical-align: top;\n",
       "    }\n",
       "\n",
       "    .dataframe thead th {\n",
       "        text-align: right;\n",
       "    }\n",
       "</style>\n",
       "<table border=\"1\" class=\"dataframe\">\n",
       "  <thead>\n",
       "    <tr style=\"text-align: right;\">\n",
       "      <th></th>\n",
       "      <th>TIMESTAMP</th>\n",
       "      <th>tid</th>\n",
       "      <th>day_of_week</th>\n",
       "      <th>POLYLINE_LEN</th>\n",
       "      <th>lat</th>\n",
       "      <th>lon</th>\n",
       "      <th>delta_t</th>\n",
       "      <th>delta c1</th>\n",
       "      <th>delta c2</th>\n",
       "      <th>trajectoryLen</th>\n",
       "    </tr>\n",
       "  </thead>\n",
       "  <tbody>\n",
       "    <tr>\n",
       "      <th>0</th>\n",
       "      <td>1372636853</td>\n",
       "      <td>1372636853620000380</td>\n",
       "      <td>0</td>\n",
       "      <td>25</td>\n",
       "      <td>-8.610291</td>\n",
       "      <td>41.140746</td>\n",
       "      <td>NaN</td>\n",
       "      <td>NaN</td>\n",
       "      <td>NaN</td>\n",
       "      <td>25</td>\n",
       "    </tr>\n",
       "    <tr>\n",
       "      <th>1</th>\n",
       "      <td>1372636868</td>\n",
       "      <td>1372636853620000380</td>\n",
       "      <td>0</td>\n",
       "      <td>25</td>\n",
       "      <td>-8.610300</td>\n",
       "      <td>41.140755</td>\n",
       "      <td>15.0</td>\n",
       "      <td>-0.000009</td>\n",
       "      <td>0.000009</td>\n",
       "      <td>25</td>\n",
       "    </tr>\n",
       "    <tr>\n",
       "      <th>2</th>\n",
       "      <td>1372636883</td>\n",
       "      <td>1372636853620000380</td>\n",
       "      <td>0</td>\n",
       "      <td>25</td>\n",
       "      <td>-8.610309</td>\n",
       "      <td>41.140890</td>\n",
       "      <td>15.0</td>\n",
       "      <td>-0.000009</td>\n",
       "      <td>0.000135</td>\n",
       "      <td>25</td>\n",
       "    </tr>\n",
       "    <tr>\n",
       "      <th>3</th>\n",
       "      <td>1372636898</td>\n",
       "      <td>1372636853620000380</td>\n",
       "      <td>0</td>\n",
       "      <td>25</td>\n",
       "      <td>-8.613657</td>\n",
       "      <td>41.141358</td>\n",
       "      <td>15.0</td>\n",
       "      <td>-0.003348</td>\n",
       "      <td>0.000468</td>\n",
       "      <td>25</td>\n",
       "    </tr>\n",
       "    <tr>\n",
       "      <th>4</th>\n",
       "      <td>1372636913</td>\n",
       "      <td>1372636853620000380</td>\n",
       "      <td>0</td>\n",
       "      <td>25</td>\n",
       "      <td>-8.614602</td>\n",
       "      <td>41.141484</td>\n",
       "      <td>15.0</td>\n",
       "      <td>-0.000945</td>\n",
       "      <td>0.000126</td>\n",
       "      <td>25</td>\n",
       "    </tr>\n",
       "  </tbody>\n",
       "</table>\n",
       "</div>"
      ],
      "text/plain": [
       "    TIMESTAMP                  tid  day_of_week  POLYLINE_LEN       lat  \\\n",
       "0  1372636853  1372636853620000380            0            25 -8.610291   \n",
       "1  1372636868  1372636853620000380            0            25 -8.610300   \n",
       "2  1372636883  1372636853620000380            0            25 -8.610309   \n",
       "3  1372636898  1372636853620000380            0            25 -8.613657   \n",
       "4  1372636913  1372636853620000380            0            25 -8.614602   \n",
       "\n",
       "         lon  delta_t  delta c1  delta c2  trajectoryLen  \n",
       "0  41.140746      NaN       NaN       NaN             25  \n",
       "1  41.140755     15.0 -0.000009  0.000009             25  \n",
       "2  41.140890     15.0 -0.000009  0.000135             25  \n",
       "3  41.141358     15.0 -0.003348  0.000468             25  \n",
       "4  41.141484     15.0 -0.000945  0.000126             25  "
      ]
     },
     "execution_count": 88,
     "metadata": {},
     "output_type": "execute_result"
    }
   ],
   "source": [
    "df[[\"delta_t\", \"delta c1\", \"delta c2\"]] = df.groupby(by=\"tid\")[\"TIMESTAMP\", \"lat\", \"lon\"].diff()\n",
    "df = df.merge(df.groupby(by=\"tid\").size().rename(\"trajectoryLen\").reset_index(), on=\"tid\")\n",
    "\n",
    "df.head()"
   ]
  },
  {
   "cell_type": "code",
   "execution_count": 93,
   "metadata": {
    "pycharm": {
     "name": "#%%\n"
    }
   },
   "outputs": [
    {
     "data": {
      "text/html": [
       "<div>\n",
       "<style scoped>\n",
       "    .dataframe tbody tr th:only-of-type {\n",
       "        vertical-align: middle;\n",
       "    }\n",
       "\n",
       "    .dataframe tbody tr th {\n",
       "        vertical-align: top;\n",
       "    }\n",
       "\n",
       "    .dataframe thead th {\n",
       "        text-align: right;\n",
       "    }\n",
       "</style>\n",
       "<table border=\"1\" class=\"dataframe\">\n",
       "  <thead>\n",
       "    <tr style=\"text-align: right;\">\n",
       "      <th></th>\n",
       "      <th>TIMESTAMP</th>\n",
       "      <th>tid</th>\n",
       "      <th>day_of_week</th>\n",
       "      <th>POLYLINE_LEN</th>\n",
       "      <th>lat</th>\n",
       "      <th>lon</th>\n",
       "      <th>delta_t</th>\n",
       "      <th>delta c1</th>\n",
       "      <th>delta c2</th>\n",
       "      <th>trajectoryLen</th>\n",
       "    </tr>\n",
       "  </thead>\n",
       "  <tbody>\n",
       "    <tr>\n",
       "      <th>count</th>\n",
       "      <td>5673479.000000</td>\n",
       "      <td>5673479.000000</td>\n",
       "      <td>5673479.000000</td>\n",
       "      <td>5673479.000000</td>\n",
       "      <td>5673479.000000</td>\n",
       "      <td>5673479.000000</td>\n",
       "      <td>5552167.000000</td>\n",
       "      <td>5552167.000000</td>\n",
       "      <td>5552167.000000</td>\n",
       "      <td>5673479.000000</td>\n",
       "    </tr>\n",
       "    <tr>\n",
       "      <th>mean</th>\n",
       "      <td>1373899656.098196</td>\n",
       "      <td>1373899249390380800.000000</td>\n",
       "      <td>2.848645</td>\n",
       "      <td>55.310392</td>\n",
       "      <td>-8.619568</td>\n",
       "      <td>41.160036</td>\n",
       "      <td>15.000000</td>\n",
       "      <td>-0.000086</td>\n",
       "      <td>0.000131</td>\n",
       "      <td>55.310392</td>\n",
       "    </tr>\n",
       "    <tr>\n",
       "      <th>std</th>\n",
       "      <td>744404.478603</td>\n",
       "      <td>744408140620860.625000</td>\n",
       "      <td>1.980949</td>\n",
       "      <td>22.489093</td>\n",
       "      <td>0.029390</td>\n",
       "      <td>0.022783</td>\n",
       "      <td>0.000000</td>\n",
       "      <td>0.002859</td>\n",
       "      <td>0.002598</td>\n",
       "      <td>22.489093</td>\n",
       "    </tr>\n",
       "    <tr>\n",
       "      <th>min</th>\n",
       "      <td>1372636853.000000</td>\n",
       "      <td>1372636853620000256.000000</td>\n",
       "      <td>0.000000</td>\n",
       "      <td>20.000000</td>\n",
       "      <td>-12.154527</td>\n",
       "      <td>38.776473</td>\n",
       "      <td>15.000000</td>\n",
       "      <td>-0.464058</td>\n",
       "      <td>-4.471290</td>\n",
       "      <td>20.000000</td>\n",
       "    </tr>\n",
       "    <tr>\n",
       "      <th>25%</th>\n",
       "      <td>1373260111.000000</td>\n",
       "      <td>1373259645620000256.000000</td>\n",
       "      <td>1.000000</td>\n",
       "      <td>38.000000</td>\n",
       "      <td>-8.636679</td>\n",
       "      <td>41.148090</td>\n",
       "      <td>15.000000</td>\n",
       "      <td>-0.000594</td>\n",
       "      <td>-0.000261</td>\n",
       "      <td>38.000000</td>\n",
       "    </tr>\n",
       "    <tr>\n",
       "      <th>50%</th>\n",
       "      <td>1373893376.000000</td>\n",
       "      <td>1373892955620000512.000000</td>\n",
       "      <td>3.000000</td>\n",
       "      <td>51.000000</td>\n",
       "      <td>-8.615196</td>\n",
       "      <td>41.156370</td>\n",
       "      <td>15.000000</td>\n",
       "      <td>0.000000</td>\n",
       "      <td>0.000009</td>\n",
       "      <td>51.000000</td>\n",
       "    </tr>\n",
       "    <tr>\n",
       "      <th>75%</th>\n",
       "      <td>1374543495.000000</td>\n",
       "      <td>1374543166620000768.000000</td>\n",
       "      <td>5.000000</td>\n",
       "      <td>69.000000</td>\n",
       "      <td>-8.603946</td>\n",
       "      <td>41.167386</td>\n",
       "      <td>15.000000</td>\n",
       "      <td>0.000495</td>\n",
       "      <td>0.000459</td>\n",
       "      <td>69.000000</td>\n",
       "    </tr>\n",
       "    <tr>\n",
       "      <th>max</th>\n",
       "      <td>1375229901.000000</td>\n",
       "      <td>1375228852620000256.000000</td>\n",
       "      <td>6.000000</td>\n",
       "      <td>119.000000</td>\n",
       "      <td>-6.963039</td>\n",
       "      <td>45.657225</td>\n",
       "      <td>15.000000</td>\n",
       "      <td>3.574980</td>\n",
       "      <td>2.215305</td>\n",
       "      <td>119.000000</td>\n",
       "    </tr>\n",
       "  </tbody>\n",
       "</table>\n",
       "</div>"
      ],
      "text/plain": [
       "               TIMESTAMP                         tid     day_of_week  \\\n",
       "count     5673479.000000              5673479.000000  5673479.000000   \n",
       "mean   1373899656.098196  1373899249390380800.000000        2.848645   \n",
       "std        744404.478603      744408140620860.625000        1.980949   \n",
       "min    1372636853.000000  1372636853620000256.000000        0.000000   \n",
       "25%    1373260111.000000  1373259645620000256.000000        1.000000   \n",
       "50%    1373893376.000000  1373892955620000512.000000        3.000000   \n",
       "75%    1374543495.000000  1374543166620000768.000000        5.000000   \n",
       "max    1375229901.000000  1375228852620000256.000000        6.000000   \n",
       "\n",
       "         POLYLINE_LEN             lat             lon         delta_t  \\\n",
       "count  5673479.000000  5673479.000000  5673479.000000  5552167.000000   \n",
       "mean        55.310392       -8.619568       41.160036       15.000000   \n",
       "std         22.489093        0.029390        0.022783        0.000000   \n",
       "min         20.000000      -12.154527       38.776473       15.000000   \n",
       "25%         38.000000       -8.636679       41.148090       15.000000   \n",
       "50%         51.000000       -8.615196       41.156370       15.000000   \n",
       "75%         69.000000       -8.603946       41.167386       15.000000   \n",
       "max        119.000000       -6.963039       45.657225       15.000000   \n",
       "\n",
       "             delta c1        delta c2   trajectoryLen  \n",
       "count  5552167.000000  5552167.000000  5673479.000000  \n",
       "mean        -0.000086        0.000131       55.310392  \n",
       "std          0.002859        0.002598       22.489093  \n",
       "min         -0.464058       -4.471290       20.000000  \n",
       "25%         -0.000594       -0.000261       38.000000  \n",
       "50%          0.000000        0.000009       51.000000  \n",
       "75%          0.000495        0.000459       69.000000  \n",
       "max          3.574980        2.215305      119.000000  "
      ]
     },
     "execution_count": 93,
     "metadata": {},
     "output_type": "execute_result"
    }
   ],
   "source": [
    "df.describe().apply(lambda s: s.apply('{0:.6f}'.format))"
   ]
  },
  {
   "cell_type": "code",
   "execution_count": 91,
   "metadata": {
    "pycharm": {
     "name": "#%%\n"
    }
   },
   "outputs": [
    {
     "name": "stdout",
     "output_type": "stream",
     "text": [
      "Number of trajectories: 121312\n",
      "Number of target classes: 7\n"
     ]
    }
   ],
   "source": [
    "print(F\"Number of trajectories: {len(df.tid.unique())}\")\n",
    "print(F\"Number of target classes: {len(df.day_of_week.unique())}\")"
   ]
  },
  {
   "cell_type": "markdown",
   "metadata": {
    "pycharm": {
     "name": "#%% md\n"
    }
   },
   "source": [
    "## Vehicles Dataset"
   ]
  },
  {
   "cell_type": "code",
   "execution_count": 2,
   "metadata": {
    "pycharm": {
     "name": "#%%\n"
    }
   },
   "outputs": [
    {
     "data": {
      "text/html": [
       "<div>\n",
       "<style scoped>\n",
       "    .dataframe tbody tr th:only-of-type {\n",
       "        vertical-align: middle;\n",
       "    }\n",
       "\n",
       "    .dataframe tbody tr th {\n",
       "        vertical-align: top;\n",
       "    }\n",
       "\n",
       "    .dataframe thead th {\n",
       "        text-align: right;\n",
       "    }\n",
       "</style>\n",
       "<table border=\"1\" class=\"dataframe\">\n",
       "  <thead>\n",
       "    <tr style=\"text-align: right;\">\n",
       "      <th></th>\n",
       "      <th>tid</th>\n",
       "      <th>class</th>\n",
       "      <th>t</th>\n",
       "      <th>c1</th>\n",
       "      <th>c2</th>\n",
       "    </tr>\n",
       "  </thead>\n",
       "  <tbody>\n",
       "    <tr>\n",
       "      <th>0</th>\n",
       "      <td>30901</td>\n",
       "      <td>B</td>\n",
       "      <td>0</td>\n",
       "      <td>4207716.0</td>\n",
       "      <td>473841.1</td>\n",
       "    </tr>\n",
       "    <tr>\n",
       "      <th>1</th>\n",
       "      <td>30901</td>\n",
       "      <td>B</td>\n",
       "      <td>30</td>\n",
       "      <td>4207724.6</td>\n",
       "      <td>473908.8</td>\n",
       "    </tr>\n",
       "    <tr>\n",
       "      <th>2</th>\n",
       "      <td>30901</td>\n",
       "      <td>B</td>\n",
       "      <td>60</td>\n",
       "      <td>4207725.9</td>\n",
       "      <td>473909.6</td>\n",
       "    </tr>\n",
       "    <tr>\n",
       "      <th>3</th>\n",
       "      <td>30901</td>\n",
       "      <td>B</td>\n",
       "      <td>90</td>\n",
       "      <td>4207736.9</td>\n",
       "      <td>473915.8</td>\n",
       "    </tr>\n",
       "    <tr>\n",
       "      <th>4</th>\n",
       "      <td>30901</td>\n",
       "      <td>B</td>\n",
       "      <td>120</td>\n",
       "      <td>4207763.5</td>\n",
       "      <td>473934.3</td>\n",
       "    </tr>\n",
       "  </tbody>\n",
       "</table>\n",
       "</div>"
      ],
      "text/plain": [
       "     tid class    t         c1        c2\n",
       "0  30901     B    0  4207716.0  473841.1\n",
       "1  30901     B   30  4207724.6  473908.8\n",
       "2  30901     B   60  4207725.9  473909.6\n",
       "3  30901     B   90  4207736.9  473915.8\n",
       "4  30901     B  120  4207763.5  473934.3"
      ]
     },
     "execution_count": 2,
     "metadata": {},
     "output_type": "execute_result"
    }
   ],
   "source": [
    "from datetime import datetime\n",
    "df = pd.read_csv(\"Vehicles Dataset/data/vehicles_preapred.zip\")\n",
    "\n",
    "df.head()"
   ]
  },
  {
   "cell_type": "code",
   "execution_count": 3,
   "metadata": {
    "pycharm": {
     "name": "#%%\n"
    }
   },
   "outputs": [
    {
     "name": "stderr",
     "output_type": "stream",
     "text": [
      "/tmp/ipykernel_527499/2906816770.py:1: FutureWarning: Indexing with multiple keys (implicitly converted to a tuple of keys) will be deprecated, use a list instead.\n",
      "  df[[\"delta_t\", \"delta c1\", \"delta c2\"]] = df.groupby(by=\"tid\")[\"t\", \"c1\", \"c2\"].diff()\n"
     ]
    },
    {
     "data": {
      "text/html": [
       "<div>\n",
       "<style scoped>\n",
       "    .dataframe tbody tr th:only-of-type {\n",
       "        vertical-align: middle;\n",
       "    }\n",
       "\n",
       "    .dataframe tbody tr th {\n",
       "        vertical-align: top;\n",
       "    }\n",
       "\n",
       "    .dataframe thead th {\n",
       "        text-align: right;\n",
       "    }\n",
       "</style>\n",
       "<table border=\"1\" class=\"dataframe\">\n",
       "  <thead>\n",
       "    <tr style=\"text-align: right;\">\n",
       "      <th></th>\n",
       "      <th>tid</th>\n",
       "      <th>class</th>\n",
       "      <th>t</th>\n",
       "      <th>c1</th>\n",
       "      <th>c2</th>\n",
       "      <th>delta_t</th>\n",
       "      <th>delta c1</th>\n",
       "      <th>delta c2</th>\n",
       "      <th>trajectoryLen</th>\n",
       "    </tr>\n",
       "  </thead>\n",
       "  <tbody>\n",
       "    <tr>\n",
       "      <th>0</th>\n",
       "      <td>30901</td>\n",
       "      <td>B</td>\n",
       "      <td>0</td>\n",
       "      <td>4207716.0</td>\n",
       "      <td>473841.1</td>\n",
       "      <td>NaN</td>\n",
       "      <td>NaN</td>\n",
       "      <td>NaN</td>\n",
       "      <td>109</td>\n",
       "    </tr>\n",
       "    <tr>\n",
       "      <th>1</th>\n",
       "      <td>30901</td>\n",
       "      <td>B</td>\n",
       "      <td>30</td>\n",
       "      <td>4207724.6</td>\n",
       "      <td>473908.8</td>\n",
       "      <td>30.0</td>\n",
       "      <td>8.6</td>\n",
       "      <td>67.7</td>\n",
       "      <td>109</td>\n",
       "    </tr>\n",
       "    <tr>\n",
       "      <th>2</th>\n",
       "      <td>30901</td>\n",
       "      <td>B</td>\n",
       "      <td>60</td>\n",
       "      <td>4207725.9</td>\n",
       "      <td>473909.6</td>\n",
       "      <td>30.0</td>\n",
       "      <td>1.3</td>\n",
       "      <td>0.8</td>\n",
       "      <td>109</td>\n",
       "    </tr>\n",
       "    <tr>\n",
       "      <th>3</th>\n",
       "      <td>30901</td>\n",
       "      <td>B</td>\n",
       "      <td>90</td>\n",
       "      <td>4207736.9</td>\n",
       "      <td>473915.8</td>\n",
       "      <td>30.0</td>\n",
       "      <td>11.0</td>\n",
       "      <td>6.2</td>\n",
       "      <td>109</td>\n",
       "    </tr>\n",
       "    <tr>\n",
       "      <th>4</th>\n",
       "      <td>30901</td>\n",
       "      <td>B</td>\n",
       "      <td>120</td>\n",
       "      <td>4207763.5</td>\n",
       "      <td>473934.3</td>\n",
       "      <td>30.0</td>\n",
       "      <td>26.6</td>\n",
       "      <td>18.5</td>\n",
       "      <td>109</td>\n",
       "    </tr>\n",
       "  </tbody>\n",
       "</table>\n",
       "</div>"
      ],
      "text/plain": [
       "     tid class    t         c1        c2  delta_t  delta c1  delta c2  \\\n",
       "0  30901     B    0  4207716.0  473841.1      NaN       NaN       NaN   \n",
       "1  30901     B   30  4207724.6  473908.8     30.0       8.6      67.7   \n",
       "2  30901     B   60  4207725.9  473909.6     30.0       1.3       0.8   \n",
       "3  30901     B   90  4207736.9  473915.8     30.0      11.0       6.2   \n",
       "4  30901     B  120  4207763.5  473934.3     30.0      26.6      18.5   \n",
       "\n",
       "   trajectoryLen  \n",
       "0            109  \n",
       "1            109  \n",
       "2            109  \n",
       "3            109  \n",
       "4            109  "
      ]
     },
     "execution_count": 3,
     "metadata": {},
     "output_type": "execute_result"
    }
   ],
   "source": [
    "df[[\"delta_t\", \"delta c1\", \"delta c2\"]] = df.groupby(by=\"tid\")[\"t\", \"c1\", \"c2\"].diff()\n",
    "df = df.merge(df.groupby(by=\"tid\").size().rename(\"trajectoryLen\").reset_index(), on=\"tid\")\n",
    "\n",
    "df.head()"
   ]
  },
  {
   "cell_type": "code",
   "execution_count": 10,
   "metadata": {
    "pycharm": {
     "name": "#%%\n"
    }
   },
   "outputs": [
    {
     "data": {
      "text/html": [
       "<div>\n",
       "<style scoped>\n",
       "    .dataframe tbody tr th:only-of-type {\n",
       "        vertical-align: middle;\n",
       "    }\n",
       "\n",
       "    .dataframe tbody tr th {\n",
       "        vertical-align: top;\n",
       "    }\n",
       "\n",
       "    .dataframe thead th {\n",
       "        text-align: right;\n",
       "    }\n",
       "</style>\n",
       "<table border=\"1\" class=\"dataframe\">\n",
       "  <thead>\n",
       "    <tr style=\"text-align: right;\">\n",
       "      <th></th>\n",
       "      <th>tid</th>\n",
       "      <th>t</th>\n",
       "      <th>c1</th>\n",
       "      <th>c2</th>\n",
       "      <th>delta_t</th>\n",
       "      <th>delta c1</th>\n",
       "      <th>delta c2</th>\n",
       "      <th>trajectoryLen</th>\n",
       "    </tr>\n",
       "  </thead>\n",
       "  <tbody>\n",
       "    <tr>\n",
       "      <th>count</th>\n",
       "      <td>177918.000000</td>\n",
       "      <td>177918.000000</td>\n",
       "      <td>177918.000000</td>\n",
       "      <td>177918.000000</td>\n",
       "      <td>177918.000000</td>\n",
       "      <td>177918.000000</td>\n",
       "      <td>177918.000000</td>\n",
       "      <td>177918.000000</td>\n",
       "    </tr>\n",
       "    <tr>\n",
       "      <th>mean</th>\n",
       "      <td>80610.106409</td>\n",
       "      <td>21323.194230</td>\n",
       "      <td>4208680.743446</td>\n",
       "      <td>484530.498174</td>\n",
       "      <td>83.187328</td>\n",
       "      <td>-0.904288</td>\n",
       "      <td>-0.089495</td>\n",
       "      <td>602.027091</td>\n",
       "    </tr>\n",
       "    <tr>\n",
       "      <th>std</th>\n",
       "      <td>57393.407662</td>\n",
       "      <td>14541.955768</td>\n",
       "      <td>7440.185284</td>\n",
       "      <td>7942.991159</td>\n",
       "      <td>596.972270</td>\n",
       "      <td>179.021821</td>\n",
       "      <td>184.120518</td>\n",
       "      <td>229.673645</td>\n",
       "    </tr>\n",
       "    <tr>\n",
       "      <th>min</th>\n",
       "      <td>30901.000000</td>\n",
       "      <td>30.000000</td>\n",
       "      <td>4184490.500000</td>\n",
       "      <td>354975.600000</td>\n",
       "      <td>30.000000</td>\n",
       "      <td>-9665.300000</td>\n",
       "      <td>-15421.800000</td>\n",
       "      <td>29.000000</td>\n",
       "    </tr>\n",
       "    <tr>\n",
       "      <th>25%</th>\n",
       "      <td>42073.000000</td>\n",
       "      <td>7950.000000</td>\n",
       "      <td>4205396.100000</td>\n",
       "      <td>481323.275000</td>\n",
       "      <td>30.000000</td>\n",
       "      <td>-71.200000</td>\n",
       "      <td>-77.400000</td>\n",
       "      <td>432.000000</td>\n",
       "    </tr>\n",
       "    <tr>\n",
       "      <th>50%</th>\n",
       "      <td>87604.000000</td>\n",
       "      <td>20822.000000</td>\n",
       "      <td>4207463.800000</td>\n",
       "      <td>485289.500000</td>\n",
       "      <td>30.000000</td>\n",
       "      <td>0.000000</td>\n",
       "      <td>-0.600000</td>\n",
       "      <td>640.000000</td>\n",
       "    </tr>\n",
       "    <tr>\n",
       "      <th>75%</th>\n",
       "      <td>90010.000000</td>\n",
       "      <td>32760.000000</td>\n",
       "      <td>4211422.050000</td>\n",
       "      <td>488205.075000</td>\n",
       "      <td>30.000000</td>\n",
       "      <td>73.600000</td>\n",
       "      <td>74.700000</td>\n",
       "      <td>763.000000</td>\n",
       "    </tr>\n",
       "    <tr>\n",
       "      <th>max</th>\n",
       "      <td>420106.000000</td>\n",
       "      <td>76590.000000</td>\n",
       "      <td>4289049.000000</td>\n",
       "      <td>501635.000000</td>\n",
       "      <td>53857.000000</td>\n",
       "      <td>5851.500000</td>\n",
       "      <td>7100.600000</td>\n",
       "      <td>1095.000000</td>\n",
       "    </tr>\n",
       "  </tbody>\n",
       "</table>\n",
       "</div>"
      ],
      "text/plain": [
       "                 tid              t              c1             c2  \\\n",
       "count  177918.000000  177918.000000   177918.000000  177918.000000   \n",
       "mean    80610.106409   21323.194230  4208680.743446  484530.498174   \n",
       "std     57393.407662   14541.955768     7440.185284    7942.991159   \n",
       "min     30901.000000      30.000000  4184490.500000  354975.600000   \n",
       "25%     42073.000000    7950.000000  4205396.100000  481323.275000   \n",
       "50%     87604.000000   20822.000000  4207463.800000  485289.500000   \n",
       "75%     90010.000000   32760.000000  4211422.050000  488205.075000   \n",
       "max    420106.000000   76590.000000  4289049.000000  501635.000000   \n",
       "\n",
       "             delta_t       delta c1       delta c2  trajectoryLen  \n",
       "count  177918.000000  177918.000000  177918.000000  177918.000000  \n",
       "mean       83.187328      -0.904288      -0.089495     602.027091  \n",
       "std       596.972270     179.021821     184.120518     229.673645  \n",
       "min        30.000000   -9665.300000  -15421.800000      29.000000  \n",
       "25%        30.000000     -71.200000     -77.400000     432.000000  \n",
       "50%        30.000000       0.000000      -0.600000     640.000000  \n",
       "75%        30.000000      73.600000      74.700000     763.000000  \n",
       "max     53857.000000    5851.500000    7100.600000    1095.000000  "
      ]
     },
     "execution_count": 10,
     "metadata": {},
     "output_type": "execute_result"
    }
   ],
   "source": [
    "df[df.delta_t < 100000].describe().apply(lambda s: s.apply('{0:.6f}'.format))"
   ]
  },
  {
   "cell_type": "code",
   "execution_count": 100,
   "metadata": {
    "pycharm": {
     "name": "#%%\n"
    }
   },
   "outputs": [
    {
     "name": "stdout",
     "output_type": "stream",
     "text": [
      "Number of trajectories: 381\n",
      "Number of target classes: 2\n"
     ]
    }
   ],
   "source": [
    "print(F\"Number of trajectories: {len(df.tid.unique())}\")\n",
    "print(F\"Number of target classes: {len(df['class'].unique())}\")"
   ]
  },
  {
   "cell_type": "code",
   "execution_count": 11,
   "metadata": {
    "pycharm": {
     "name": "#%%\n"
    }
   },
   "outputs": [
    {
     "data": {
      "text/plain": [
       "6960"
      ]
     },
     "execution_count": 11,
     "metadata": {},
     "output_type": "execute_result"
    }
   ],
   "source": [
    "177918-170958"
   ]
  },
  {
   "cell_type": "code",
   "execution_count": 101,
   "metadata": {
    "pycharm": {
     "name": "#%%\n"
    }
   },
   "outputs": [],
   "source": []
  },
  {
   "cell_type": "markdown",
   "metadata": {
    "pycharm": {
     "name": "#%% md\n"
    }
   },
   "source": [
    "|                            |      Animals      |      Go!Track     |     Gowalla    |  Taxi (1 mese)  |       Vehicles      |\n",
    "|:--------------------------:|:-----------------:|:-----------------:|:--------------:|:---------------:|:-------------------:|\n",
    "| Number of Trajectories     | 102               | 163               | 3141           | 121312          | 381                 |\n",
    "| Avg trajectory len (std)   | 173 (56)          | 241 (157)         | 22 (9)         | 55 (22)         | 601 (230)           |\n",
    "| traj len 0-25-50-75-100%   | 2-123-179-220-291 | 1-122-189-316-646 | 10-15-20-28-50 | 20-38-51-69-119 | 29-432-640-763-1095 |\n",
    "| target class               | animal (3)        | car_or_bus (2)    | user_id (141)  | day_of_week (7) | vehicle (2)         |\n",
    "| avg time delta (std)       | 3.75 (6.24)       | 8 (21)            |                | 15 (0)          | 83 (596)            |\n",
    "| time delta 0-25-50-75-100% | 0-2-2-4-258       | 0-5-6-10-1368     |                | 15-15-15-15-15  | 30-30-30-30-53857   |\n",
    "| avg lat (std)              | 50.1251 (.0338)   |                   |                |                 |                     |\n",
    "| avg lon (std)              | 3.7722 (.0184)    |                   |                |                 |                     |"
   ]
  },
  {
   "cell_type": "code",
   "execution_count": null,
   "metadata": {
    "pycharm": {
     "name": "#%%\n"
    }
   },
   "outputs": [],
   "source": []
  },
  {
   "cell_type": "markdown",
   "metadata": {
    "pycharm": {
     "name": "#%% md\n"
    }
   },
   "source": [
    "## Seabirds Dataset"
   ]
  },
  {
   "cell_type": "code",
   "execution_count": 17,
   "metadata": {
    "pycharm": {
     "name": "#%%\n"
    }
   },
   "outputs": [
    {
     "data": {
      "text/html": [
       "<div>\n",
       "<style scoped>\n",
       "    .dataframe tbody tr th:only-of-type {\n",
       "        vertical-align: middle;\n",
       "    }\n",
       "\n",
       "    .dataframe tbody tr th {\n",
       "        vertical-align: top;\n",
       "    }\n",
       "\n",
       "    .dataframe thead th {\n",
       "        text-align: right;\n",
       "    }\n",
       "</style>\n",
       "<table border=\"1\" class=\"dataframe\">\n",
       "  <thead>\n",
       "    <tr style=\"text-align: right;\">\n",
       "      <th></th>\n",
       "      <th>c1</th>\n",
       "      <th>c2</th>\n",
       "      <th>t</th>\n",
       "      <th>class</th>\n",
       "      <th>tid</th>\n",
       "    </tr>\n",
       "  </thead>\n",
       "  <tbody>\n",
       "    <tr>\n",
       "      <th>0</th>\n",
       "      <td>56.095451</td>\n",
       "      <td>-6.233089</td>\n",
       "      <td>1.340624e+09</td>\n",
       "      <td>tCOGU</td>\n",
       "      <td>1</td>\n",
       "    </tr>\n",
       "    <tr>\n",
       "      <th>1</th>\n",
       "      <td>56.095408</td>\n",
       "      <td>-6.233520</td>\n",
       "      <td>1.340624e+09</td>\n",
       "      <td>tCOGU</td>\n",
       "      <td>1</td>\n",
       "    </tr>\n",
       "    <tr>\n",
       "      <th>2</th>\n",
       "      <td>56.095437</td>\n",
       "      <td>-6.234275</td>\n",
       "      <td>1.340624e+09</td>\n",
       "      <td>tCOGU</td>\n",
       "      <td>1</td>\n",
       "    </tr>\n",
       "    <tr>\n",
       "      <th>3</th>\n",
       "      <td>56.095635</td>\n",
       "      <td>-6.234815</td>\n",
       "      <td>1.340625e+09</td>\n",
       "      <td>tCOGU</td>\n",
       "      <td>1</td>\n",
       "    </tr>\n",
       "    <tr>\n",
       "      <th>4</th>\n",
       "      <td>56.095821</td>\n",
       "      <td>-6.235293</td>\n",
       "      <td>1.340625e+09</td>\n",
       "      <td>tCOGU</td>\n",
       "      <td>1</td>\n",
       "    </tr>\n",
       "  </tbody>\n",
       "</table>\n",
       "</div>"
      ],
      "text/plain": [
       "          c1        c2             t  class  tid\n",
       "0  56.095451 -6.233089  1.340624e+09  tCOGU    1\n",
       "1  56.095408 -6.233520  1.340624e+09  tCOGU    1\n",
       "2  56.095437 -6.234275  1.340624e+09  tCOGU    1\n",
       "3  56.095635 -6.234815  1.340625e+09  tCOGU    1\n",
       "4  56.095821 -6.235293  1.340625e+09  tCOGU    1"
      ]
     },
     "execution_count": 17,
     "metadata": {},
     "output_type": "execute_result"
    }
   ],
   "source": [
    "from datetime import datetime\n",
    "\n",
    "df = pd.read_csv(\"Seabird Dataset/data/seabird_prepared.csv\").drop(columns=\"tid\")\\\n",
    "    .rename(columns={\"lat\": \"c1\", \"lon\": \"c2\", \"date_time\": \"t\", \"species\": \"class\", \n",
    "                     \"bird\": \"tid\"})[[\"c1\", \"c2\", \"t\", \"class\", \"tid\"]]\n",
    "\n",
    "df.t = df.t.apply(lambda x: datetime.strptime(x, '%Y-%m-%d %H:%M:%S').timestamp())\n",
    "\n",
    "df.head()"
   ]
  },
  {
   "cell_type": "code",
   "execution_count": 18,
   "metadata": {
    "pycharm": {
     "name": "#%%\n"
    }
   },
   "outputs": [
    {
     "name": "stderr",
     "output_type": "stream",
     "text": [
      "/tmp/ipykernel_508769/2906816770.py:1: FutureWarning: Indexing with multiple keys (implicitly converted to a tuple of keys) will be deprecated, use a list instead.\n",
      "  df[[\"delta_t\", \"delta c1\", \"delta c2\"]] = df.groupby(by=\"tid\")[\"t\", \"c1\", \"c2\"].diff()\n"
     ]
    },
    {
     "data": {
      "text/html": [
       "<div>\n",
       "<style scoped>\n",
       "    .dataframe tbody tr th:only-of-type {\n",
       "        vertical-align: middle;\n",
       "    }\n",
       "\n",
       "    .dataframe tbody tr th {\n",
       "        vertical-align: top;\n",
       "    }\n",
       "\n",
       "    .dataframe thead th {\n",
       "        text-align: right;\n",
       "    }\n",
       "</style>\n",
       "<table border=\"1\" class=\"dataframe\">\n",
       "  <thead>\n",
       "    <tr style=\"text-align: right;\">\n",
       "      <th></th>\n",
       "      <th>c1</th>\n",
       "      <th>c2</th>\n",
       "      <th>t</th>\n",
       "      <th>class</th>\n",
       "      <th>tid</th>\n",
       "      <th>delta_t</th>\n",
       "      <th>delta c1</th>\n",
       "      <th>delta c2</th>\n",
       "      <th>trajectoryLen</th>\n",
       "    </tr>\n",
       "  </thead>\n",
       "  <tbody>\n",
       "    <tr>\n",
       "      <th>0</th>\n",
       "      <td>56.095451</td>\n",
       "      <td>-6.233089</td>\n",
       "      <td>1.340624e+09</td>\n",
       "      <td>tCOGU</td>\n",
       "      <td>1</td>\n",
       "      <td>NaN</td>\n",
       "      <td>NaN</td>\n",
       "      <td>NaN</td>\n",
       "      <td>2867</td>\n",
       "    </tr>\n",
       "    <tr>\n",
       "      <th>1</th>\n",
       "      <td>56.095408</td>\n",
       "      <td>-6.233520</td>\n",
       "      <td>1.340624e+09</td>\n",
       "      <td>tCOGU</td>\n",
       "      <td>1</td>\n",
       "      <td>100.0</td>\n",
       "      <td>-0.000043</td>\n",
       "      <td>-0.000431</td>\n",
       "      <td>2867</td>\n",
       "    </tr>\n",
       "    <tr>\n",
       "      <th>2</th>\n",
       "      <td>56.095437</td>\n",
       "      <td>-6.234275</td>\n",
       "      <td>1.340624e+09</td>\n",
       "      <td>tCOGU</td>\n",
       "      <td>1</td>\n",
       "      <td>100.0</td>\n",
       "      <td>0.000029</td>\n",
       "      <td>-0.000755</td>\n",
       "      <td>2867</td>\n",
       "    </tr>\n",
       "    <tr>\n",
       "      <th>3</th>\n",
       "      <td>56.095635</td>\n",
       "      <td>-6.234815</td>\n",
       "      <td>1.340625e+09</td>\n",
       "      <td>tCOGU</td>\n",
       "      <td>1</td>\n",
       "      <td>100.0</td>\n",
       "      <td>0.000198</td>\n",
       "      <td>-0.000541</td>\n",
       "      <td>2867</td>\n",
       "    </tr>\n",
       "    <tr>\n",
       "      <th>4</th>\n",
       "      <td>56.095821</td>\n",
       "      <td>-6.235293</td>\n",
       "      <td>1.340625e+09</td>\n",
       "      <td>tCOGU</td>\n",
       "      <td>1</td>\n",
       "      <td>100.0</td>\n",
       "      <td>0.000186</td>\n",
       "      <td>-0.000477</td>\n",
       "      <td>2867</td>\n",
       "    </tr>\n",
       "  </tbody>\n",
       "</table>\n",
       "</div>"
      ],
      "text/plain": [
       "          c1        c2             t  class  tid  delta_t  delta c1  delta c2  \\\n",
       "0  56.095451 -6.233089  1.340624e+09  tCOGU    1      NaN       NaN       NaN   \n",
       "1  56.095408 -6.233520  1.340624e+09  tCOGU    1    100.0 -0.000043 -0.000431   \n",
       "2  56.095437 -6.234275  1.340624e+09  tCOGU    1    100.0  0.000029 -0.000755   \n",
       "3  56.095635 -6.234815  1.340625e+09  tCOGU    1    100.0  0.000198 -0.000541   \n",
       "4  56.095821 -6.235293  1.340625e+09  tCOGU    1    100.0  0.000186 -0.000477   \n",
       "\n",
       "   trajectoryLen  \n",
       "0           2867  \n",
       "1           2867  \n",
       "2           2867  \n",
       "3           2867  \n",
       "4           2867  "
      ]
     },
     "execution_count": 18,
     "metadata": {},
     "output_type": "execute_result"
    }
   ],
   "source": [
    "df[[\"delta_t\", \"delta c1\", \"delta c2\"]] = df.groupby(by=\"tid\")[\"t\", \"c1\", \"c2\"].diff()\n",
    "df = df.merge(df.groupby(by=\"tid\").size().rename(\"trajectoryLen\").reset_index(), on=\"tid\")\n",
    "\n",
    "df.head()"
   ]
  },
  {
   "cell_type": "code",
   "execution_count": 19,
   "metadata": {
    "pycharm": {
     "name": "#%%\n"
    }
   },
   "outputs": [
    {
     "data": {
      "text/html": [
       "<div>\n",
       "<style scoped>\n",
       "    .dataframe tbody tr th:only-of-type {\n",
       "        vertical-align: middle;\n",
       "    }\n",
       "\n",
       "    .dataframe tbody tr th {\n",
       "        vertical-align: top;\n",
       "    }\n",
       "\n",
       "    .dataframe thead th {\n",
       "        text-align: right;\n",
       "    }\n",
       "</style>\n",
       "<table border=\"1\" class=\"dataframe\">\n",
       "  <thead>\n",
       "    <tr style=\"text-align: right;\">\n",
       "      <th></th>\n",
       "      <th>c1</th>\n",
       "      <th>c2</th>\n",
       "      <th>t</th>\n",
       "      <th>tid</th>\n",
       "      <th>delta_t</th>\n",
       "      <th>delta c1</th>\n",
       "      <th>delta c2</th>\n",
       "      <th>trajectoryLen</th>\n",
       "    </tr>\n",
       "  </thead>\n",
       "  <tbody>\n",
       "    <tr>\n",
       "      <th>count</th>\n",
       "      <td>263718.000000</td>\n",
       "      <td>263718.000000</td>\n",
       "      <td>2.637180e+05</td>\n",
       "      <td>263718.000000</td>\n",
       "      <td>263610.0</td>\n",
       "      <td>263610.000000</td>\n",
       "      <td>2.636100e+05</td>\n",
       "      <td>263718.000000</td>\n",
       "    </tr>\n",
       "    <tr>\n",
       "      <th>mean</th>\n",
       "      <td>56.580051</td>\n",
       "      <td>-4.234669</td>\n",
       "      <td>1.359401e+09</td>\n",
       "      <td>53.508103</td>\n",
       "      <td>100.0</td>\n",
       "      <td>-0.000010</td>\n",
       "      <td>-2.286590e-09</td>\n",
       "      <td>2903.743150</td>\n",
       "    </tr>\n",
       "    <tr>\n",
       "      <th>std</th>\n",
       "      <td>2.476717</td>\n",
       "      <td>1.854708</td>\n",
       "      <td>2.821933e+07</td>\n",
       "      <td>32.627900</td>\n",
       "      <td>0.0</td>\n",
       "      <td>0.006171</td>\n",
       "      <td>1.174558e-02</td>\n",
       "      <td>1162.637172</td>\n",
       "    </tr>\n",
       "    <tr>\n",
       "      <th>min</th>\n",
       "      <td>51.468828</td>\n",
       "      <td>-6.749091</td>\n",
       "      <td>1.306922e+09</td>\n",
       "      <td>1.000000</td>\n",
       "      <td>100.0</td>\n",
       "      <td>-0.379898</td>\n",
       "      <td>-4.399828e-01</td>\n",
       "      <td>506.000000</td>\n",
       "    </tr>\n",
       "    <tr>\n",
       "      <th>25%</th>\n",
       "      <td>56.088568</td>\n",
       "      <td>-6.230647</td>\n",
       "      <td>1.339007e+09</td>\n",
       "      <td>25.000000</td>\n",
       "      <td>100.0</td>\n",
       "      <td>-0.000097</td>\n",
       "      <td>-1.698570e-04</td>\n",
       "      <td>1887.000000</td>\n",
       "    </tr>\n",
       "    <tr>\n",
       "      <th>50%</th>\n",
       "      <td>56.255339</td>\n",
       "      <td>-5.301294</td>\n",
       "      <td>1.368725e+09</td>\n",
       "      <td>49.000000</td>\n",
       "      <td>100.0</td>\n",
       "      <td>0.000000</td>\n",
       "      <td>0.000000e+00</td>\n",
       "      <td>2841.000000</td>\n",
       "    </tr>\n",
       "    <tr>\n",
       "      <th>75%</th>\n",
       "      <td>58.691067</td>\n",
       "      <td>-2.664804</td>\n",
       "      <td>1.372848e+09</td>\n",
       "      <td>83.000000</td>\n",
       "      <td>100.0</td>\n",
       "      <td>0.000085</td>\n",
       "      <td>1.488479e-04</td>\n",
       "      <td>3529.000000</td>\n",
       "    </tr>\n",
       "    <tr>\n",
       "      <th>max</th>\n",
       "      <td>59.824936</td>\n",
       "      <td>-1.042002</td>\n",
       "      <td>1.404833e+09</td>\n",
       "      <td>108.000000</td>\n",
       "      <td>100.0</td>\n",
       "      <td>0.400462</td>\n",
       "      <td>4.638556e-01</td>\n",
       "      <td>6048.000000</td>\n",
       "    </tr>\n",
       "  </tbody>\n",
       "</table>\n",
       "</div>"
      ],
      "text/plain": [
       "                  c1             c2             t            tid   delta_t  \\\n",
       "count  263718.000000  263718.000000  2.637180e+05  263718.000000  263610.0   \n",
       "mean       56.580051      -4.234669  1.359401e+09      53.508103     100.0   \n",
       "std         2.476717       1.854708  2.821933e+07      32.627900       0.0   \n",
       "min        51.468828      -6.749091  1.306922e+09       1.000000     100.0   \n",
       "25%        56.088568      -6.230647  1.339007e+09      25.000000     100.0   \n",
       "50%        56.255339      -5.301294  1.368725e+09      49.000000     100.0   \n",
       "75%        58.691067      -2.664804  1.372848e+09      83.000000     100.0   \n",
       "max        59.824936      -1.042002  1.404833e+09     108.000000     100.0   \n",
       "\n",
       "            delta c1      delta c2  trajectoryLen  \n",
       "count  263610.000000  2.636100e+05  263718.000000  \n",
       "mean       -0.000010 -2.286590e-09    2903.743150  \n",
       "std         0.006171  1.174558e-02    1162.637172  \n",
       "min        -0.379898 -4.399828e-01     506.000000  \n",
       "25%        -0.000097 -1.698570e-04    1887.000000  \n",
       "50%         0.000000  0.000000e+00    2841.000000  \n",
       "75%         0.000085  1.488479e-04    3529.000000  \n",
       "max         0.400462  4.638556e-01    6048.000000  "
      ]
     },
     "execution_count": 19,
     "metadata": {},
     "output_type": "execute_result"
    }
   ],
   "source": [
    "df.describe()"
   ]
  },
  {
   "cell_type": "code",
   "execution_count": 20,
   "metadata": {
    "pycharm": {
     "name": "#%%\n"
    }
   },
   "outputs": [
    {
     "name": "stdout",
     "output_type": "stream",
     "text": [
      "Number of trajectories: 108\n",
      "Number of target classes: 3\n"
     ]
    }
   ],
   "source": [
    "print(F\"Number of trajectories: {len(df.tid.unique())}\")\n",
    "print(F\"Number of target classes: {len(df['class'].unique())}\")"
   ]
  },
  {
   "cell_type": "code",
   "execution_count": null,
   "metadata": {
    "pycharm": {
     "name": "#%%\n"
    }
   },
   "outputs": [],
   "source": []
  },
  {
   "cell_type": "code",
   "execution_count": null,
   "metadata": {
    "pycharm": {
     "name": "#%%\n"
    }
   },
   "outputs": [],
   "source": []
  },
  {
   "cell_type": "code",
   "execution_count": null,
   "metadata": {
    "pycharm": {
     "name": "#%%\n"
    }
   },
   "outputs": [],
   "source": []
  },
  {
   "cell_type": "markdown",
   "metadata": {
    "pycharm": {
     "name": "#%% md\n"
    }
   },
   "source": [
    "## GeoLife Dataset"
   ]
  },
  {
   "cell_type": "code",
   "execution_count": 2,
   "metadata": {
    "pycharm": {
     "name": "#%%\n"
    }
   },
   "outputs": [
    {
     "data": {
      "text/html": [
       "<div>\n",
       "<style scoped>\n",
       "    .dataframe tbody tr th:only-of-type {\n",
       "        vertical-align: middle;\n",
       "    }\n",
       "\n",
       "    .dataframe tbody tr th {\n",
       "        vertical-align: top;\n",
       "    }\n",
       "\n",
       "    .dataframe thead th {\n",
       "        text-align: right;\n",
       "    }\n",
       "</style>\n",
       "<table border=\"1\" class=\"dataframe\">\n",
       "  <thead>\n",
       "    <tr style=\"text-align: right;\">\n",
       "      <th></th>\n",
       "      <th>time</th>\n",
       "      <th>lat</th>\n",
       "      <th>lon</th>\n",
       "      <th>label</th>\n",
       "      <th>user</th>\n",
       "      <th>tid</th>\n",
       "    </tr>\n",
       "  </thead>\n",
       "  <tbody>\n",
       "    <tr>\n",
       "      <th>0</th>\n",
       "      <td>1.206716e+09</td>\n",
       "      <td>39.894178</td>\n",
       "      <td>116.318200</td>\n",
       "      <td>train</td>\n",
       "      <td>10</td>\n",
       "      <td>0</td>\n",
       "    </tr>\n",
       "    <tr>\n",
       "      <th>1</th>\n",
       "      <td>1.206716e+09</td>\n",
       "      <td>39.894505</td>\n",
       "      <td>116.321132</td>\n",
       "      <td>train</td>\n",
       "      <td>10</td>\n",
       "      <td>0</td>\n",
       "    </tr>\n",
       "    <tr>\n",
       "      <th>2</th>\n",
       "      <td>1.206716e+09</td>\n",
       "      <td>39.894953</td>\n",
       "      <td>116.326452</td>\n",
       "      <td>train</td>\n",
       "      <td>10</td>\n",
       "      <td>0</td>\n",
       "    </tr>\n",
       "    <tr>\n",
       "      <th>3</th>\n",
       "      <td>1.206716e+09</td>\n",
       "      <td>39.894600</td>\n",
       "      <td>116.332542</td>\n",
       "      <td>train</td>\n",
       "      <td>10</td>\n",
       "      <td>0</td>\n",
       "    </tr>\n",
       "    <tr>\n",
       "      <th>4</th>\n",
       "      <td>1.206716e+09</td>\n",
       "      <td>39.889622</td>\n",
       "      <td>116.337040</td>\n",
       "      <td>train</td>\n",
       "      <td>10</td>\n",
       "      <td>0</td>\n",
       "    </tr>\n",
       "  </tbody>\n",
       "</table>\n",
       "</div>"
      ],
      "text/plain": [
       "           time        lat         lon  label  user  tid\n",
       "0  1.206716e+09  39.894178  116.318200  train    10    0\n",
       "1  1.206716e+09  39.894505  116.321132  train    10    0\n",
       "2  1.206716e+09  39.894953  116.326452  train    10    0\n",
       "3  1.206716e+09  39.894600  116.332542  train    10    0\n",
       "4  1.206716e+09  39.889622  116.337040  train    10    0"
      ]
     },
     "execution_count": 2,
     "metadata": {},
     "output_type": "execute_result"
    }
   ],
   "source": [
    "from datetime import datetime\n",
    "\n",
    "df = pd.read_csv(\"GeoLife Dataset/data/GeoLife_prepared.zip\")\n",
    "\n",
    "df.head()"
   ]
  },
  {
   "cell_type": "code",
   "execution_count": 3,
   "metadata": {
    "pycharm": {
     "name": "#%%\n"
    }
   },
   "outputs": [
    {
     "name": "stderr",
     "output_type": "stream",
     "text": [
      "<ipython-input-3-81607da07224>:1: FutureWarning: Indexing with multiple keys (implicitly converted to a tuple of keys) will be deprecated, use a list instead.\n",
      "  df[[\"delta_t\", \"delta c1\", \"delta c2\"]] = df.groupby(by=\"tid\")[\"time\", \"lat\", \"lon\"].diff()\n"
     ]
    },
    {
     "data": {
      "text/html": [
       "<div>\n",
       "<style scoped>\n",
       "    .dataframe tbody tr th:only-of-type {\n",
       "        vertical-align: middle;\n",
       "    }\n",
       "\n",
       "    .dataframe tbody tr th {\n",
       "        vertical-align: top;\n",
       "    }\n",
       "\n",
       "    .dataframe thead th {\n",
       "        text-align: right;\n",
       "    }\n",
       "</style>\n",
       "<table border=\"1\" class=\"dataframe\">\n",
       "  <thead>\n",
       "    <tr style=\"text-align: right;\">\n",
       "      <th></th>\n",
       "      <th>time</th>\n",
       "      <th>lat</th>\n",
       "      <th>lon</th>\n",
       "      <th>label</th>\n",
       "      <th>user</th>\n",
       "      <th>tid</th>\n",
       "      <th>delta_t</th>\n",
       "      <th>delta c1</th>\n",
       "      <th>delta c2</th>\n",
       "      <th>trajectoryLen</th>\n",
       "    </tr>\n",
       "  </thead>\n",
       "  <tbody>\n",
       "    <tr>\n",
       "      <th>0</th>\n",
       "      <td>1.206716e+09</td>\n",
       "      <td>39.894178</td>\n",
       "      <td>116.318200</td>\n",
       "      <td>train</td>\n",
       "      <td>10</td>\n",
       "      <td>0</td>\n",
       "      <td>NaN</td>\n",
       "      <td>NaN</td>\n",
       "      <td>NaN</td>\n",
       "      <td>2783</td>\n",
       "    </tr>\n",
       "    <tr>\n",
       "      <th>1</th>\n",
       "      <td>1.206716e+09</td>\n",
       "      <td>39.894505</td>\n",
       "      <td>116.321132</td>\n",
       "      <td>train</td>\n",
       "      <td>10</td>\n",
       "      <td>0</td>\n",
       "      <td>34.0</td>\n",
       "      <td>0.000327</td>\n",
       "      <td>0.002932</td>\n",
       "      <td>2783</td>\n",
       "    </tr>\n",
       "    <tr>\n",
       "      <th>2</th>\n",
       "      <td>1.206716e+09</td>\n",
       "      <td>39.894953</td>\n",
       "      <td>116.326452</td>\n",
       "      <td>train</td>\n",
       "      <td>10</td>\n",
       "      <td>0</td>\n",
       "      <td>59.0</td>\n",
       "      <td>0.000448</td>\n",
       "      <td>0.005320</td>\n",
       "      <td>2783</td>\n",
       "    </tr>\n",
       "    <tr>\n",
       "      <th>3</th>\n",
       "      <td>1.206716e+09</td>\n",
       "      <td>39.894600</td>\n",
       "      <td>116.332542</td>\n",
       "      <td>train</td>\n",
       "      <td>10</td>\n",
       "      <td>0</td>\n",
       "      <td>59.0</td>\n",
       "      <td>-0.000353</td>\n",
       "      <td>0.006090</td>\n",
       "      <td>2783</td>\n",
       "    </tr>\n",
       "    <tr>\n",
       "      <th>4</th>\n",
       "      <td>1.206716e+09</td>\n",
       "      <td>39.889622</td>\n",
       "      <td>116.337040</td>\n",
       "      <td>train</td>\n",
       "      <td>10</td>\n",
       "      <td>0</td>\n",
       "      <td>59.0</td>\n",
       "      <td>-0.004978</td>\n",
       "      <td>0.004498</td>\n",
       "      <td>2783</td>\n",
       "    </tr>\n",
       "  </tbody>\n",
       "</table>\n",
       "</div>"
      ],
      "text/plain": [
       "           time        lat         lon  label  user  tid  delta_t  delta c1  \\\n",
       "0  1.206716e+09  39.894178  116.318200  train    10    0      NaN       NaN   \n",
       "1  1.206716e+09  39.894505  116.321132  train    10    0     34.0  0.000327   \n",
       "2  1.206716e+09  39.894953  116.326452  train    10    0     59.0  0.000448   \n",
       "3  1.206716e+09  39.894600  116.332542  train    10    0     59.0 -0.000353   \n",
       "4  1.206716e+09  39.889622  116.337040  train    10    0     59.0 -0.004978   \n",
       "\n",
       "   delta c2  trajectoryLen  \n",
       "0       NaN           2783  \n",
       "1  0.002932           2783  \n",
       "2  0.005320           2783  \n",
       "3  0.006090           2783  \n",
       "4  0.004498           2783  "
      ]
     },
     "execution_count": 3,
     "metadata": {},
     "output_type": "execute_result"
    }
   ],
   "source": [
    "df[[\"delta_t\", \"delta c1\", \"delta c2\"]] = df.groupby(by=\"tid\")[\"time\", \"lat\", \"lon\"].diff()\n",
    "df = df.merge(df.groupby(by=\"tid\").size().rename(\"trajectoryLen\").reset_index(), on=\"tid\")\n",
    "\n",
    "df.head()"
   ]
  },
  {
   "cell_type": "code",
   "execution_count": 4,
   "metadata": {
    "pycharm": {
     "name": "#%%\n"
    }
   },
   "outputs": [
    {
     "data": {
      "text/html": [
       "<div>\n",
       "<style scoped>\n",
       "    .dataframe tbody tr th:only-of-type {\n",
       "        vertical-align: middle;\n",
       "    }\n",
       "\n",
       "    .dataframe tbody tr th {\n",
       "        vertical-align: top;\n",
       "    }\n",
       "\n",
       "    .dataframe thead th {\n",
       "        text-align: right;\n",
       "    }\n",
       "</style>\n",
       "<table border=\"1\" class=\"dataframe\">\n",
       "  <thead>\n",
       "    <tr style=\"text-align: right;\">\n",
       "      <th></th>\n",
       "      <th>time</th>\n",
       "      <th>lat</th>\n",
       "      <th>lon</th>\n",
       "      <th>user</th>\n",
       "      <th>tid</th>\n",
       "      <th>delta_t</th>\n",
       "      <th>delta c1</th>\n",
       "      <th>delta c2</th>\n",
       "      <th>trajectoryLen</th>\n",
       "    </tr>\n",
       "  </thead>\n",
       "  <tbody>\n",
       "    <tr>\n",
       "      <th>count</th>\n",
       "      <td>5319816.00000</td>\n",
       "      <td>5319816.00000</td>\n",
       "      <td>5319816.00000</td>\n",
       "      <td>5319816.00000</td>\n",
       "      <td>5319816.00000</td>\n",
       "      <td>5319816.00000</td>\n",
       "      <td>5319816.00000</td>\n",
       "      <td>5319816.00000</td>\n",
       "      <td>5319816.00000</td>\n",
       "    </tr>\n",
       "    <tr>\n",
       "      <th>mean</th>\n",
       "      <td>1238622849.08487</td>\n",
       "      <td>39.46162</td>\n",
       "      <td>114.47766</td>\n",
       "      <td>94.47856</td>\n",
       "      <td>2485.93404</td>\n",
       "      <td>2.88346</td>\n",
       "      <td>-0.00000</td>\n",
       "      <td>0.00005</td>\n",
       "      <td>8100.58277</td>\n",
       "    </tr>\n",
       "    <tr>\n",
       "      <th>std</th>\n",
       "      <td>35477579.78004</td>\n",
       "      <td>2.39642</td>\n",
       "      <td>15.31914</td>\n",
       "      <td>48.45761</td>\n",
       "      <td>1739.55004</td>\n",
       "      <td>12.30555</td>\n",
       "      <td>0.22074</td>\n",
       "      <td>0.15607</td>\n",
       "      <td>15177.66257</td>\n",
       "    </tr>\n",
       "    <tr>\n",
       "      <th>min</th>\n",
       "      <td>1176373282.00000</td>\n",
       "      <td>18.24990</td>\n",
       "      <td>-179.96959</td>\n",
       "      <td>10.00000</td>\n",
       "      <td>0.00000</td>\n",
       "      <td>0.00000</td>\n",
       "      <td>-359.99978</td>\n",
       "      <td>-0.33607</td>\n",
       "      <td>2.00000</td>\n",
       "    </tr>\n",
       "    <tr>\n",
       "      <th>25%</th>\n",
       "      <td>1216453165.75000</td>\n",
       "      <td>39.92236</td>\n",
       "      <td>116.30957</td>\n",
       "      <td>65.00000</td>\n",
       "      <td>1059.00000</td>\n",
       "      <td>1.00000</td>\n",
       "      <td>-0.00002</td>\n",
       "      <td>-0.00002</td>\n",
       "      <td>936.00000</td>\n",
       "    </tr>\n",
       "    <tr>\n",
       "      <th>50%</th>\n",
       "      <td>1223791646.00000</td>\n",
       "      <td>39.97501</td>\n",
       "      <td>116.33218</td>\n",
       "      <td>85.00000</td>\n",
       "      <td>2066.00000</td>\n",
       "      <td>2.00000</td>\n",
       "      <td>0.00000</td>\n",
       "      <td>0.00000</td>\n",
       "      <td>2356.00000</td>\n",
       "    </tr>\n",
       "    <tr>\n",
       "      <th>75%</th>\n",
       "      <td>1243780889.50000</td>\n",
       "      <td>39.99111</td>\n",
       "      <td>116.41829</td>\n",
       "      <td>128.00000</td>\n",
       "      <td>3938.00000</td>\n",
       "      <td>2.00000</td>\n",
       "      <td>0.00002</td>\n",
       "      <td>0.00002</td>\n",
       "      <td>8149.00000</td>\n",
       "    </tr>\n",
       "    <tr>\n",
       "      <th>max</th>\n",
       "      <td>1325344682.00000</td>\n",
       "      <td>400.16667</td>\n",
       "      <td>179.99694</td>\n",
       "      <td>179.00000</td>\n",
       "      <td>5976.00000</td>\n",
       "      <td>665.00000</td>\n",
       "      <td>360.00023</td>\n",
       "      <td>359.96653</td>\n",
       "      <td>96289.00000</td>\n",
       "    </tr>\n",
       "  </tbody>\n",
       "</table>\n",
       "</div>"
      ],
      "text/plain": [
       "                   time            lat            lon           user  \\\n",
       "count     5319816.00000  5319816.00000  5319816.00000  5319816.00000   \n",
       "mean   1238622849.08487       39.46162      114.47766       94.47856   \n",
       "std      35477579.78004        2.39642       15.31914       48.45761   \n",
       "min    1176373282.00000       18.24990     -179.96959       10.00000   \n",
       "25%    1216453165.75000       39.92236      116.30957       65.00000   \n",
       "50%    1223791646.00000       39.97501      116.33218       85.00000   \n",
       "75%    1243780889.50000       39.99111      116.41829      128.00000   \n",
       "max    1325344682.00000      400.16667      179.99694      179.00000   \n",
       "\n",
       "                 tid        delta_t       delta c1       delta c2  \\\n",
       "count  5319816.00000  5319816.00000  5319816.00000  5319816.00000   \n",
       "mean      2485.93404        2.88346       -0.00000        0.00005   \n",
       "std       1739.55004       12.30555        0.22074        0.15607   \n",
       "min          0.00000        0.00000     -359.99978       -0.33607   \n",
       "25%       1059.00000        1.00000       -0.00002       -0.00002   \n",
       "50%       2066.00000        2.00000        0.00000        0.00000   \n",
       "75%       3938.00000        2.00000        0.00002        0.00002   \n",
       "max       5976.00000      665.00000      360.00023      359.96653   \n",
       "\n",
       "       trajectoryLen  \n",
       "count  5319816.00000  \n",
       "mean      8100.58277  \n",
       "std      15177.66257  \n",
       "min          2.00000  \n",
       "25%        936.00000  \n",
       "50%       2356.00000  \n",
       "75%       8149.00000  \n",
       "max      96289.00000  "
      ]
     },
     "execution_count": 4,
     "metadata": {},
     "output_type": "execute_result"
    }
   ],
   "source": [
    "df[df.delta_t < 666].describe().apply(lambda s: s.apply('{0:.5f}'.format))"
   ]
  },
  {
   "cell_type": "code",
   "execution_count": 5,
   "metadata": {
    "pycharm": {
     "name": "#%%\n"
    }
   },
   "outputs": [
    {
     "name": "stdout",
     "output_type": "stream",
     "text": [
      "Number of trajectories: 5977\n",
      "Number of target classes: 11\n"
     ]
    }
   ],
   "source": [
    "print(F\"Number of trajectories: {len(df.tid.unique())}\")\n",
    "print(F\"Number of target classes: {len(df['label'].unique())}\")"
   ]
  },
  {
   "cell_type": "code",
   "execution_count": 6,
   "metadata": {
    "pycharm": {
     "name": "#%%\n"
    }
   },
   "outputs": [
    {
     "data": {
      "text/plain": [
       "645.0"
      ]
     },
     "execution_count": 6,
     "metadata": {},
     "output_type": "execute_result"
    }
   ],
   "source": [
    "df.delta_t.quantile(.999)"
   ]
  },
  {
   "cell_type": "code",
   "execution_count": 7,
   "metadata": {
    "pycharm": {
     "name": "#%%\n"
    }
   },
   "outputs": [
    {
     "data": {
      "image/png": "[encoded data removed]",
      "text/plain": [
       "<Figure size 1125x825 with 1 Axes>"
      ]
     },
     "metadata": {
      "needs_background": "light"
     },
     "output_type": "display_data"
    }
   ],
   "source": [
    "res = df.groupby(\"label\").tid.nunique().sort_values()\n",
    "\n",
    "plt.gcf().set_size_inches(7.5, 5.5)\n",
    "\n",
    "plt.gcf().set_dpi(150)\n",
    "\n",
    "plt.barh(res.index, res.to_list())\n",
    "\n",
    "\n",
    "plt.xlabel(\"Number of trajectory\", fontsize=18)\n",
    "plt.ylabel(\"Target classes\", fontsize=18)\n",
    "plt.tick_params(axis='both', which='major', labelsize=18)\n",
    "\n",
    "plt.savefig(\"geolife_classes.pdf\", bbox_inches='tight')\n",
    "\n",
    "plt.show()"
   ]
  },
  {
   "cell_type": "code",
   "execution_count": null,
   "metadata": {
    "pycharm": {
     "name": "#%%\n"
    }
   },
   "outputs": [],
   "source": []
  },
  {
   "cell_type": "markdown",
   "metadata": {
    "pycharm": {
     "name": "#%% md\n"
    }
   },
   "source": []
  }
 ],
 "metadata": {
  "kernelspec": {
   "display_name": "Python 3",
   "language": "python",
   "name": "python3"
  },
  "language_info": {
   "codemirror_mode": {
    "name": "ipython",
    "version": 3
   },
   "file_extension": ".py",
   "mimetype": "text/x-python",
   "name": "python",
   "nbconvert_exporter": "python",
   "pygments_lexer": "ipython3",
   "version": "3.8.8"
  }
 },
 "nbformat": 4,
 "nbformat_minor": 1
}
