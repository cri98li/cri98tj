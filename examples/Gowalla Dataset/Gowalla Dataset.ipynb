{
 "cells": [
  {
   "cell_type": "code",
   "execution_count": 2,
   "metadata": {
    "collapsed": true,
    "pycharm": {
     "name": "#%%\n"
    }
   },
   "outputs": [],
   "source": [
    "import pandas as pd"
   ]
  },
  {
   "cell_type": "code",
   "execution_count": 4,
   "outputs": [
    {
     "data": {
      "text/plain": "    tid  label       day  hour        lat        lon  id\n0  3078    143  Saturday     1  30.294886 -97.871811   0\n1  3078    143  Saturday    17  30.238056 -97.797353   0\n2  3078    143  Saturday    18  30.247754 -97.750704   0\n3  3078    143  Saturday    19  30.247358 -97.750758   0\n4  3078    143  Saturday    19  30.247353 -97.750179   0",
      "text/html": "<div>\n<style scoped>\n    .dataframe tbody tr th:only-of-type {\n        vertical-align: middle;\n    }\n\n    .dataframe tbody tr th {\n        vertical-align: top;\n    }\n\n    .dataframe thead th {\n        text-align: right;\n    }\n</style>\n<table border=\"1\" class=\"dataframe\">\n  <thead>\n    <tr style=\"text-align: right;\">\n      <th></th>\n      <th>tid</th>\n      <th>label</th>\n      <th>day</th>\n      <th>hour</th>\n      <th>lat</th>\n      <th>lon</th>\n      <th>id</th>\n    </tr>\n  </thead>\n  <tbody>\n    <tr>\n      <th>0</th>\n      <td>3078</td>\n      <td>143</td>\n      <td>Saturday</td>\n      <td>1</td>\n      <td>30.294886</td>\n      <td>-97.871811</td>\n      <td>0</td>\n    </tr>\n    <tr>\n      <th>1</th>\n      <td>3078</td>\n      <td>143</td>\n      <td>Saturday</td>\n      <td>17</td>\n      <td>30.238056</td>\n      <td>-97.797353</td>\n      <td>0</td>\n    </tr>\n    <tr>\n      <th>2</th>\n      <td>3078</td>\n      <td>143</td>\n      <td>Saturday</td>\n      <td>18</td>\n      <td>30.247754</td>\n      <td>-97.750704</td>\n      <td>0</td>\n    </tr>\n    <tr>\n      <th>3</th>\n      <td>3078</td>\n      <td>143</td>\n      <td>Saturday</td>\n      <td>19</td>\n      <td>30.247358</td>\n      <td>-97.750758</td>\n      <td>0</td>\n    </tr>\n    <tr>\n      <th>4</th>\n      <td>3078</td>\n      <td>143</td>\n      <td>Saturday</td>\n      <td>19</td>\n      <td>30.247353</td>\n      <td>-97.750179</td>\n      <td>0</td>\n    </tr>\n  </tbody>\n</table>\n</div>"
     },
     "execution_count": 4,
     "metadata": {},
     "output_type": "execute_result"
    }
   ],
   "source": [
    "train_df = pd.read_csv(\"data/train.csv\").drop(columns=[\"poi\", \"indexgrid10\", \"indexgrid30\", \"indexgrid50\", \"indexgrid100\", \"indexgrid150\", \"indexgrid_30m\"])\n",
    "test_df = pd.read_csv(\"data/test.csv\").drop(columns=[\"poi\", \"indexgrid10\", \"indexgrid30\", \"indexgrid50\", \"indexgrid100\", \"indexgrid150\", \"indexgrid_30m\"])\n",
    "val_df = pd.read_csv(\"data/val.csv\").drop(columns=[\"poi\", \"indexgrid10\", \"indexgrid30\", \"indexgrid50\", \"indexgrid100\", \"indexgrid150\", \"indexgrid_30m\"])\n",
    "\n",
    "df = train_df.append(test_df.append(val_df))\n",
    "df.head()"
   ],
   "metadata": {
    "collapsed": false,
    "pycharm": {
     "name": "#%%\n"
    }
   }
  },
  {
   "cell_type": "code",
   "execution_count": 5,
   "outputs": [],
   "source": [
    "df.to_csv(\"data/prepared_user_id.zip\", index=None)"
   ],
   "metadata": {
    "collapsed": false,
    "pycharm": {
     "name": "#%%\n"
    }
   }
  },
  {
   "cell_type": "code",
   "execution_count": null,
   "outputs": [],
   "source": [],
   "metadata": {
    "collapsed": false,
    "pycharm": {
     "name": "#%%\n"
    }
   }
  },
  {
   "cell_type": "code",
   "execution_count": null,
   "outputs": [],
   "source": [],
   "metadata": {
    "collapsed": false,
    "pycharm": {
     "name": "#%%\n"
    }
   }
  },
  {
   "cell_type": "code",
   "execution_count": null,
   "outputs": [],
   "source": [],
   "metadata": {
    "collapsed": false,
    "pycharm": {
     "name": "#%%\n"
    }
   }
  },
  {
   "cell_type": "code",
   "execution_count": null,
   "outputs": [],
   "source": [],
   "metadata": {
    "collapsed": false,
    "pycharm": {
     "name": "#%%\n"
    }
   }
  }
 ],
 "metadata": {
  "kernelspec": {
   "display_name": "Python 3",
   "language": "python",
   "name": "python3"
  },
  "language_info": {
   "codemirror_mode": {
    "name": "ipython",
    "version": 2
   },
   "file_extension": ".py",
   "mimetype": "text/x-python",
   "name": "python",
   "nbconvert_exporter": "python",
   "pygments_lexer": "ipython2",
   "version": "2.7.6"
  }
 },
 "nbformat": 4,
 "nbformat_minor": 0
}