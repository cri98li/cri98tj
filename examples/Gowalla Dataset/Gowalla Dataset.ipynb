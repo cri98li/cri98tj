{
 "cells": [
  {
   "cell_type": "code",
   "execution_count": 2,
   "metadata": {
    "collapsed": true
   },
   "outputs": [
    {
     "name": "stderr",
     "output_type": "stream",
     "text": [
      "C:\\Users\\cri98\\Documents\\GitHub\\cri98tj\\cri98tj\\distancers\\Euclidean_distancer.py:7: TqdmExperimentalWarning: Using `tqdm.autonotebook.tqdm` in notebook mode. Use `tqdm.tqdm` instead to force console mode (e.g. in jupyter console)\n",
      "  from tqdm.autonotebook import tqdm\n"
     ]
    }
   ],
   "source": [
    "import pandas as pd\n",
    "from cri98tj.distancers.Euclidean_distancer import Euclidean_distancer\n",
    "from cri98tj.partitioners.Geohash_partitioner import Geohash_partitioner\n",
    "from cri98tj.selectors.OPTICS_selector import OPTICS_selector\n",
    "from cri98tj.selectors.RandomInformationGain_selector import RandomInformationGain_selector\n",
    "from cri98tj.selectors.Random_selector import Random_selector\n",
    "from cri98tj.selectors.RandomOrderline_selector import RandomOrderline_selector\n",
    "from cri98tj.prebuilded_transformers.GeohashXmensEuclideian_prebuild import gxe_prebuild\n",
    "from cri98tj.TrajectoryTransformer import TrajectoryTransformer\n",
    "from sklearn.model_selection import train_test_split\n",
    "from sklearn.metrics import classification_report"
   ]
  },
  {
   "cell_type": "code",
   "execution_count": 5,
   "outputs": [
    {
     "data": {
      "text/plain": "          tid   label       day  hour        lat        lon   id\n0        3078     143  Saturday     1  30.294886 -97.871811    0\n1        3078     143  Saturday    17  30.238056 -97.797353    0\n2        3078     143  Saturday    18  30.247754 -97.750704    0\n3        3078     143  Saturday    19  30.247358 -97.750758    0\n4        3078     143  Saturday    19  30.247353 -97.750179    0\n...       ...     ...       ...   ...        ...        ...  ...\n44112  840032  142661  Thursday     8  53.147304   8.179622  140\n44113  840032  142661  Thursday    15  53.148302   8.182100  140\n44114  840032  142661  Thursday    17  53.143883   8.220903  140\n44115  840032  142661  Thursday    17  53.144183   8.223052  140\n44116  840032  142661  Thursday    17  53.142839   8.219418  140\n\n[44117 rows x 7 columns]",
      "text/html": "<div>\n<style scoped>\n    .dataframe tbody tr th:only-of-type {\n        vertical-align: middle;\n    }\n\n    .dataframe tbody tr th {\n        vertical-align: top;\n    }\n\n    .dataframe thead th {\n        text-align: right;\n    }\n</style>\n<table border=\"1\" class=\"dataframe\">\n  <thead>\n    <tr style=\"text-align: right;\">\n      <th></th>\n      <th>tid</th>\n      <th>label</th>\n      <th>day</th>\n      <th>hour</th>\n      <th>lat</th>\n      <th>lon</th>\n      <th>id</th>\n    </tr>\n  </thead>\n  <tbody>\n    <tr>\n      <th>0</th>\n      <td>3078</td>\n      <td>143</td>\n      <td>Saturday</td>\n      <td>1</td>\n      <td>30.294886</td>\n      <td>-97.871811</td>\n      <td>0</td>\n    </tr>\n    <tr>\n      <th>1</th>\n      <td>3078</td>\n      <td>143</td>\n      <td>Saturday</td>\n      <td>17</td>\n      <td>30.238056</td>\n      <td>-97.797353</td>\n      <td>0</td>\n    </tr>\n    <tr>\n      <th>2</th>\n      <td>3078</td>\n      <td>143</td>\n      <td>Saturday</td>\n      <td>18</td>\n      <td>30.247754</td>\n      <td>-97.750704</td>\n      <td>0</td>\n    </tr>\n    <tr>\n      <th>3</th>\n      <td>3078</td>\n      <td>143</td>\n      <td>Saturday</td>\n      <td>19</td>\n      <td>30.247358</td>\n      <td>-97.750758</td>\n      <td>0</td>\n    </tr>\n    <tr>\n      <th>4</th>\n      <td>3078</td>\n      <td>143</td>\n      <td>Saturday</td>\n      <td>19</td>\n      <td>30.247353</td>\n      <td>-97.750179</td>\n      <td>0</td>\n    </tr>\n    <tr>\n      <th>...</th>\n      <td>...</td>\n      <td>...</td>\n      <td>...</td>\n      <td>...</td>\n      <td>...</td>\n      <td>...</td>\n      <td>...</td>\n    </tr>\n    <tr>\n      <th>44112</th>\n      <td>840032</td>\n      <td>142661</td>\n      <td>Thursday</td>\n      <td>8</td>\n      <td>53.147304</td>\n      <td>8.179622</td>\n      <td>140</td>\n    </tr>\n    <tr>\n      <th>44113</th>\n      <td>840032</td>\n      <td>142661</td>\n      <td>Thursday</td>\n      <td>15</td>\n      <td>53.148302</td>\n      <td>8.182100</td>\n      <td>140</td>\n    </tr>\n    <tr>\n      <th>44114</th>\n      <td>840032</td>\n      <td>142661</td>\n      <td>Thursday</td>\n      <td>17</td>\n      <td>53.143883</td>\n      <td>8.220903</td>\n      <td>140</td>\n    </tr>\n    <tr>\n      <th>44115</th>\n      <td>840032</td>\n      <td>142661</td>\n      <td>Thursday</td>\n      <td>17</td>\n      <td>53.144183</td>\n      <td>8.223052</td>\n      <td>140</td>\n    </tr>\n    <tr>\n      <th>44116</th>\n      <td>840032</td>\n      <td>142661</td>\n      <td>Thursday</td>\n      <td>17</td>\n      <td>53.142839</td>\n      <td>8.219418</td>\n      <td>140</td>\n    </tr>\n  </tbody>\n</table>\n<p>44117 rows × 7 columns</p>\n</div>"
     },
     "execution_count": 5,
     "metadata": {},
     "output_type": "execute_result"
    }
   ],
   "source": [
    "train_df = pd.read_csv(\"data/train.csv\").drop(columns=[\"poi\", \"indexgrid10\", \"indexgrid30\", \"indexgrid50\", \"indexgrid100\", \"indexgrid150\", \"indexgrid_30m\"])\n",
    "\n",
    "train_df"
   ],
   "metadata": {
    "collapsed": false,
    "pycharm": {
     "name": "#%%\n"
    }
   }
  },
  {
   "cell_type": "code",
   "execution_count": null,
   "outputs": [],
   "source": [],
   "metadata": {
    "collapsed": false,
    "pycharm": {
     "name": "#%%\n"
    }
   }
  },
  {
   "cell_type": "code",
   "execution_count": null,
   "outputs": [],
   "source": [],
   "metadata": {
    "collapsed": false,
    "pycharm": {
     "name": "#%%\n"
    }
   }
  },
  {
   "cell_type": "code",
   "execution_count": null,
   "outputs": [],
   "source": [],
   "metadata": {
    "collapsed": false,
    "pycharm": {
     "name": "#%%\n"
    }
   }
  },
  {
   "cell_type": "code",
   "execution_count": null,
   "outputs": [],
   "source": [],
   "metadata": {
    "collapsed": false,
    "pycharm": {
     "name": "#%%\n"
    }
   }
  },
  {
   "cell_type": "code",
   "execution_count": null,
   "outputs": [],
   "source": [],
   "metadata": {
    "collapsed": false,
    "pycharm": {
     "name": "#%%\n"
    }
   }
  }
 ],
 "metadata": {
  "kernelspec": {
   "display_name": "Python 3",
   "language": "python",
   "name": "python3"
  },
  "language_info": {
   "codemirror_mode": {
    "name": "ipython",
    "version": 2
   },
   "file_extension": ".py",
   "mimetype": "text/x-python",
   "name": "python",
   "nbconvert_exporter": "python",
   "pygments_lexer": "ipython2",
   "version": "2.7.6"
  }
 },
 "nbformat": 4,
 "nbformat_minor": 0
}