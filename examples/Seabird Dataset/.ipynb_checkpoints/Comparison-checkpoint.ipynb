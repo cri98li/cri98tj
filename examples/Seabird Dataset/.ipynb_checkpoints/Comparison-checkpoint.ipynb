{
 "cells": [
  {
   "cell_type": "code",
   "execution_count": 1,
   "id": "00b575f0",
   "metadata": {},
   "outputs": [],
   "source": [
    "import matplotlib.pyplot as plt\n",
    "import pandas as pd\n",
    "import numpy as np\n",
    "from tqdm.notebook import tqdm\n",
    "import math\n",
    "import glob\n",
    "from datetime import datetime"
   ]
  },
  {
   "cell_type": "code",
   "execution_count": 2,
   "id": "fc181a72",
   "metadata": {},
   "outputs": [
    {
     "data": {
      "text/html": [
       "<div>\n",
       "<style scoped>\n",
       "    .dataframe tbody tr th:only-of-type {\n",
       "        vertical-align: middle;\n",
       "    }\n",
       "\n",
       "    .dataframe tbody tr th {\n",
       "        vertical-align: top;\n",
       "    }\n",
       "\n",
       "    .dataframe thead th {\n",
       "        text-align: right;\n",
       "    }\n",
       "</style>\n",
       "<table border=\"1\" class=\"dataframe\">\n",
       "  <thead>\n",
       "    <tr style=\"text-align: right;\">\n",
       "      <th></th>\n",
       "      <th>lat</th>\n",
       "      <th>lon</th>\n",
       "      <th>alt</th>\n",
       "      <th>tid</th>\n",
       "      <th>bird</th>\n",
       "      <th>species</th>\n",
       "      <th>year</th>\n",
       "      <th>date_time</th>\n",
       "      <th>max_depth.m</th>\n",
       "      <th>colony2</th>\n",
       "    </tr>\n",
       "  </thead>\n",
       "  <tbody>\n",
       "    <tr>\n",
       "      <th>0</th>\n",
       "      <td>56.095451</td>\n",
       "      <td>-6.233089</td>\n",
       "      <td>-23.059999</td>\n",
       "      <td>1340627854</td>\n",
       "      <td>1</td>\n",
       "      <td>tCOGU</td>\n",
       "      <td>t2012</td>\n",
       "      <td>2012-06-25 13:37:34</td>\n",
       "      <td>-2.172046</td>\n",
       "      <td>1</td>\n",
       "    </tr>\n",
       "    <tr>\n",
       "      <th>1</th>\n",
       "      <td>56.095408</td>\n",
       "      <td>-6.233520</td>\n",
       "      <td>-2.983077</td>\n",
       "      <td>1340627954</td>\n",
       "      <td>1</td>\n",
       "      <td>tCOGU</td>\n",
       "      <td>t2012</td>\n",
       "      <td>2012-06-25 13:39:14</td>\n",
       "      <td>-1.152306</td>\n",
       "      <td>1</td>\n",
       "    </tr>\n",
       "    <tr>\n",
       "      <th>2</th>\n",
       "      <td>56.095437</td>\n",
       "      <td>-6.234275</td>\n",
       "      <td>3.470286</td>\n",
       "      <td>1340628054</td>\n",
       "      <td>1</td>\n",
       "      <td>tCOGU</td>\n",
       "      <td>t2012</td>\n",
       "      <td>2012-06-25 13:40:54</td>\n",
       "      <td>-2.172046</td>\n",
       "      <td>1</td>\n",
       "    </tr>\n",
       "    <tr>\n",
       "      <th>3</th>\n",
       "      <td>56.095635</td>\n",
       "      <td>-6.234815</td>\n",
       "      <td>1.902667</td>\n",
       "      <td>1340628154</td>\n",
       "      <td>1</td>\n",
       "      <td>tCOGU</td>\n",
       "      <td>t2012</td>\n",
       "      <td>2012-06-25 13:42:34</td>\n",
       "      <td>-2.172046</td>\n",
       "      <td>1</td>\n",
       "    </tr>\n",
       "    <tr>\n",
       "      <th>4</th>\n",
       "      <td>56.095821</td>\n",
       "      <td>-6.235293</td>\n",
       "      <td>2.824952</td>\n",
       "      <td>1340628254</td>\n",
       "      <td>1</td>\n",
       "      <td>tCOGU</td>\n",
       "      <td>t2012</td>\n",
       "      <td>2012-06-25 13:44:14</td>\n",
       "      <td>-2.172046</td>\n",
       "      <td>1</td>\n",
       "    </tr>\n",
       "  </tbody>\n",
       "</table>\n",
       "</div>"
      ],
      "text/plain": [
       "         lat       lon        alt         tid  bird species   year  \\\n",
       "0  56.095451 -6.233089 -23.059999  1340627854     1   tCOGU  t2012   \n",
       "1  56.095408 -6.233520  -2.983077  1340627954     1   tCOGU  t2012   \n",
       "2  56.095437 -6.234275   3.470286  1340628054     1   tCOGU  t2012   \n",
       "3  56.095635 -6.234815   1.902667  1340628154     1   tCOGU  t2012   \n",
       "4  56.095821 -6.235293   2.824952  1340628254     1   tCOGU  t2012   \n",
       "\n",
       "             date_time  max_depth.m  colony2  \n",
       "0  2012-06-25 13:37:34    -2.172046        1  \n",
       "1  2012-06-25 13:39:14    -1.152306        1  \n",
       "2  2012-06-25 13:40:54    -2.172046        1  \n",
       "3  2012-06-25 13:42:34    -2.172046        1  \n",
       "4  2012-06-25 13:44:14    -2.172046        1  "
      ]
     },
     "execution_count": 2,
     "metadata": {},
     "output_type": "execute_result"
    }
   ],
   "source": [
    "df = pd.read_csv(\"data/seabird_prepared.csv\")\n",
    "df.head()"
   ]
  },
  {
   "cell_type": "code",
   "execution_count": 3,
   "id": "e428df48",
   "metadata": {},
   "outputs": [
    {
     "data": {
      "text/html": [
       "<div>\n",
       "<style scoped>\n",
       "    .dataframe tbody tr th:only-of-type {\n",
       "        vertical-align: middle;\n",
       "    }\n",
       "\n",
       "    .dataframe tbody tr th {\n",
       "        vertical-align: top;\n",
       "    }\n",
       "\n",
       "    .dataframe thead th {\n",
       "        text-align: right;\n",
       "    }\n",
       "</style>\n",
       "<table border=\"1\" class=\"dataframe\">\n",
       "  <thead>\n",
       "    <tr style=\"text-align: right;\">\n",
       "      <th></th>\n",
       "      <th>lat</th>\n",
       "      <th>lon</th>\n",
       "      <th>alt</th>\n",
       "      <th>tid</th>\n",
       "      <th>bird</th>\n",
       "      <th>species</th>\n",
       "      <th>year</th>\n",
       "      <th>date_time</th>\n",
       "      <th>max_depth.m</th>\n",
       "      <th>colony2</th>\n",
       "    </tr>\n",
       "  </thead>\n",
       "  <tbody>\n",
       "    <tr>\n",
       "      <th>0</th>\n",
       "      <td>56.095451</td>\n",
       "      <td>-6.233089</td>\n",
       "      <td>-23.059999</td>\n",
       "      <td>1340627854</td>\n",
       "      <td>1</td>\n",
       "      <td>tCOGU</td>\n",
       "      <td>t2012</td>\n",
       "      <td>1.340624e+09</td>\n",
       "      <td>-2.172046</td>\n",
       "      <td>1</td>\n",
       "    </tr>\n",
       "    <tr>\n",
       "      <th>1</th>\n",
       "      <td>56.095408</td>\n",
       "      <td>-6.233520</td>\n",
       "      <td>-2.983077</td>\n",
       "      <td>1340627954</td>\n",
       "      <td>1</td>\n",
       "      <td>tCOGU</td>\n",
       "      <td>t2012</td>\n",
       "      <td>1.340624e+09</td>\n",
       "      <td>-1.152306</td>\n",
       "      <td>1</td>\n",
       "    </tr>\n",
       "    <tr>\n",
       "      <th>2</th>\n",
       "      <td>56.095437</td>\n",
       "      <td>-6.234275</td>\n",
       "      <td>3.470286</td>\n",
       "      <td>1340628054</td>\n",
       "      <td>1</td>\n",
       "      <td>tCOGU</td>\n",
       "      <td>t2012</td>\n",
       "      <td>1.340624e+09</td>\n",
       "      <td>-2.172046</td>\n",
       "      <td>1</td>\n",
       "    </tr>\n",
       "    <tr>\n",
       "      <th>3</th>\n",
       "      <td>56.095635</td>\n",
       "      <td>-6.234815</td>\n",
       "      <td>1.902667</td>\n",
       "      <td>1340628154</td>\n",
       "      <td>1</td>\n",
       "      <td>tCOGU</td>\n",
       "      <td>t2012</td>\n",
       "      <td>1.340625e+09</td>\n",
       "      <td>-2.172046</td>\n",
       "      <td>1</td>\n",
       "    </tr>\n",
       "    <tr>\n",
       "      <th>4</th>\n",
       "      <td>56.095821</td>\n",
       "      <td>-6.235293</td>\n",
       "      <td>2.824952</td>\n",
       "      <td>1340628254</td>\n",
       "      <td>1</td>\n",
       "      <td>tCOGU</td>\n",
       "      <td>t2012</td>\n",
       "      <td>1.340625e+09</td>\n",
       "      <td>-2.172046</td>\n",
       "      <td>1</td>\n",
       "    </tr>\n",
       "  </tbody>\n",
       "</table>\n",
       "</div>"
      ],
      "text/plain": [
       "         lat       lon        alt         tid  bird species   year  \\\n",
       "0  56.095451 -6.233089 -23.059999  1340627854     1   tCOGU  t2012   \n",
       "1  56.095408 -6.233520  -2.983077  1340627954     1   tCOGU  t2012   \n",
       "2  56.095437 -6.234275   3.470286  1340628054     1   tCOGU  t2012   \n",
       "3  56.095635 -6.234815   1.902667  1340628154     1   tCOGU  t2012   \n",
       "4  56.095821 -6.235293   2.824952  1340628254     1   tCOGU  t2012   \n",
       "\n",
       "      date_time  max_depth.m  colony2  \n",
       "0  1.340624e+09    -2.172046        1  \n",
       "1  1.340624e+09    -1.152306        1  \n",
       "2  1.340624e+09    -2.172046        1  \n",
       "3  1.340625e+09    -2.172046        1  \n",
       "4  1.340625e+09    -2.172046        1  "
      ]
     },
     "execution_count": 3,
     "metadata": {},
     "output_type": "execute_result"
    }
   ],
   "source": [
    "df.date_time = df.date_time.apply(lambda x: datetime.strptime(x, '%Y-%m-%d %H:%M:%S').timestamp())\n",
    "\n",
    "df.head()"
   ]
  },
  {
   "cell_type": "code",
   "execution_count": 4,
   "id": "0eb9895a",
   "metadata": {},
   "outputs": [
    {
     "data": {
      "text/html": [
       "<div>\n",
       "<style scoped>\n",
       "    .dataframe tbody tr th:only-of-type {\n",
       "        vertical-align: middle;\n",
       "    }\n",
       "\n",
       "    .dataframe tbody tr th {\n",
       "        vertical-align: top;\n",
       "    }\n",
       "\n",
       "    .dataframe thead th {\n",
       "        text-align: right;\n",
       "    }\n",
       "</style>\n",
       "<table border=\"1\" class=\"dataframe\">\n",
       "  <thead>\n",
       "    <tr style=\"text-align: right;\">\n",
       "      <th></th>\n",
       "      <th>tid</th>\n",
       "      <th>class</th>\n",
       "      <th>c1</th>\n",
       "      <th>c2</th>\n",
       "      <th>t</th>\n",
       "    </tr>\n",
       "  </thead>\n",
       "  <tbody>\n",
       "    <tr>\n",
       "      <th>0</th>\n",
       "      <td>1</td>\n",
       "      <td>tCOGU</td>\n",
       "      <td>56.095451</td>\n",
       "      <td>-6.233089</td>\n",
       "      <td>1.340624e+09</td>\n",
       "    </tr>\n",
       "    <tr>\n",
       "      <th>1</th>\n",
       "      <td>1</td>\n",
       "      <td>tCOGU</td>\n",
       "      <td>56.095408</td>\n",
       "      <td>-6.233520</td>\n",
       "      <td>1.340624e+09</td>\n",
       "    </tr>\n",
       "    <tr>\n",
       "      <th>2</th>\n",
       "      <td>1</td>\n",
       "      <td>tCOGU</td>\n",
       "      <td>56.095437</td>\n",
       "      <td>-6.234275</td>\n",
       "      <td>1.340624e+09</td>\n",
       "    </tr>\n",
       "    <tr>\n",
       "      <th>3</th>\n",
       "      <td>1</td>\n",
       "      <td>tCOGU</td>\n",
       "      <td>56.095635</td>\n",
       "      <td>-6.234815</td>\n",
       "      <td>1.340625e+09</td>\n",
       "    </tr>\n",
       "    <tr>\n",
       "      <th>4</th>\n",
       "      <td>1</td>\n",
       "      <td>tCOGU</td>\n",
       "      <td>56.095821</td>\n",
       "      <td>-6.235293</td>\n",
       "      <td>1.340625e+09</td>\n",
       "    </tr>\n",
       "  </tbody>\n",
       "</table>\n",
       "</div>"
      ],
      "text/plain": [
       "   tid  class         c1        c2             t\n",
       "0    1  tCOGU  56.095451 -6.233089  1.340624e+09\n",
       "1    1  tCOGU  56.095408 -6.233520  1.340624e+09\n",
       "2    1  tCOGU  56.095437 -6.234275  1.340624e+09\n",
       "3    1  tCOGU  56.095635 -6.234815  1.340625e+09\n",
       "4    1  tCOGU  56.095821 -6.235293  1.340625e+09"
      ]
     },
     "execution_count": 4,
     "metadata": {},
     "output_type": "execute_result"
    }
   ],
   "source": [
    "df0 = df[[\"bird\", \"species\", \"lat\", \"lon\", \"date_time\"]]\\\n",
    "        .rename(columns={\"lat\": \"c1\", \"lon\": \"c2\", \"date_time\": \"t\", \"species\": \"class\", \"bird\": \"tid\"})\n",
    "\n",
    "df0.head()"
   ]
  },
  {
   "cell_type": "code",
   "execution_count": null,
   "id": "9831160f",
   "metadata": {},
   "outputs": [],
   "source": []
  },
  {
   "cell_type": "markdown",
   "id": "4acd4889",
   "metadata": {},
   "source": [
    "## Rocket"
   ]
  },
  {
   "cell_type": "code",
   "execution_count": 5,
   "id": "b854a025",
   "metadata": {},
   "outputs": [],
   "source": [
    "t_rocket = 0\n",
    "\n",
    "start = datetime.now()\n",
    "\n",
    "df0[\"pos\"] = df0.groupby(['tid']).cumcount()\n",
    "\n",
    "t_rocket = (datetime.now() - start).total_seconds() * 1000 #ms"
   ]
  },
  {
   "cell_type": "code",
   "execution_count": 6,
   "id": "c3d46b1a",
   "metadata": {},
   "outputs": [
    {
     "name": "stdout",
     "output_type": "stream",
     "text": [
      "LAT\n"
     ]
    },
    {
     "data": {
      "application/vnd.jupyter.widget-view+json": {
       "model_id": "77f6f6c43b684314b8ec9eec764103c8",
       "version_major": 2,
       "version_minor": 0
      },
      "text/plain": [
       "  0%|          | 0/108 [00:00<?, ?it/s]"
      ]
     },
     "metadata": {},
     "output_type": "display_data"
    },
    {
     "name": "stdout",
     "output_type": "stream",
     "text": [
      "LON\n"
     ]
    },
    {
     "data": {
      "application/vnd.jupyter.widget-view+json": {
       "model_id": "320d856b7b774138b76cf7dc048a927d",
       "version_major": 2,
       "version_minor": 0
      },
      "text/plain": [
       "  0%|          | 0/108 [00:00<?, ?it/s]"
      ]
     },
     "metadata": {},
     "output_type": "display_data"
    },
    {
     "name": "stdout",
     "output_type": "stream",
     "text": [
      "TIME\n"
     ]
    },
    {
     "data": {
      "application/vnd.jupyter.widget-view+json": {
       "model_id": "bed57742bb614d32852b8a38da9afbed",
       "version_major": 2,
       "version_minor": 0
      },
      "text/plain": [
       "  0%|          | 0/108 [00:00<?, ?it/s]"
      ]
     },
     "metadata": {},
     "output_type": "display_data"
    }
   ],
   "source": [
    "start = datetime.now()\n",
    "\n",
    "\n",
    "def padLastValue(df):\n",
    "    array = df.values\n",
    "    for i in tqdm(range(len(array))):\n",
    "        for j in range(len(array[i])):\n",
    "            if math.isnan(array[i][j]):\n",
    "                array[i][j] =array[i][j-1]\n",
    "    return pd.DataFrame(array)\n",
    "\n",
    "percentile=.9\n",
    "\n",
    "print(\"LAT\")\n",
    "df_lat = pd.DataFrame()\n",
    "df_lat = df0.groupby(['tid','pos'])['c1'].max().unstack()\n",
    "df_lat = padLastValue(df_lat)\n",
    "\n",
    "print(\"LON\")\n",
    "df_lon = pd.DataFrame()\n",
    "df_lon = df0.groupby(['tid','pos'])['c2'].max().unstack()\n",
    "df_lon = padLastValue(df_lon)\n",
    "\n",
    "print(\"TIME\")\n",
    "df_time = pd.DataFrame()\n",
    "df_time = df0.groupby(['tid','pos'])['t'].max().unstack()\n",
    "df_time = padLastValue(df_time)\n",
    "\n",
    "t_rocket = (datetime.now() - start).total_seconds() * 1000 #ms"
   ]
  },
  {
   "cell_type": "code",
   "execution_count": 7,
   "id": "2eac51fe",
   "metadata": {},
   "outputs": [
    {
     "name": "stderr",
     "output_type": "stream",
     "text": [
      "C:\\Users\\cri98\\anaconda3\\lib\\site-packages\\sktime\\datatypes\\_series\\_check.py:43: FutureWarning: pandas.Int64Index is deprecated and will be removed from pandas in a future version. Use pandas.Index with the appropriate dtype instead.\n",
      "  VALID_INDEX_TYPES = (pd.Int64Index, pd.RangeIndex, pd.PeriodIndex, pd.DatetimeIndex)\n",
      "C:\\Users\\cri98\\anaconda3\\lib\\site-packages\\sktime\\datatypes\\_hierarchical\\_check.py:50: FutureWarning: pandas.Int64Index is deprecated and will be removed from pandas in a future version. Use pandas.Index with the appropriate dtype instead.\n",
      "  VALID_INDEX_TYPES = (pd.Int64Index, pd.RangeIndex, pd.PeriodIndex, pd.DatetimeIndex)\n",
      "C:\\Users\\cri98\\anaconda3\\lib\\site-packages\\sktime\\datatypes\\_hierarchical\\_check.py:51: FutureWarning: pandas.Int64Index is deprecated and will be removed from pandas in a future version. Use pandas.Index with the appropriate dtype instead.\n",
      "  VALID_MULTIINDEX_TYPES = (pd.Int64Index, pd.RangeIndex)\n",
      "C:\\Users\\cri98\\anaconda3\\lib\\site-packages\\sktime\\datatypes\\_panel\\_check.py:48: FutureWarning: pandas.Int64Index is deprecated and will be removed from pandas in a future version. Use pandas.Index with the appropriate dtype instead.\n",
      "  VALID_INDEX_TYPES = (pd.Int64Index, pd.RangeIndex, pd.PeriodIndex, pd.DatetimeIndex)\n",
      "C:\\Users\\cri98\\anaconda3\\lib\\site-packages\\sktime\\datatypes\\_panel\\_check.py:49: FutureWarning: pandas.Int64Index is deprecated and will be removed from pandas in a future version. Use pandas.Index with the appropriate dtype instead.\n",
      "  VALID_MULTIINDEX_TYPES = (pd.Int64Index, pd.RangeIndex)\n",
      "C:\\Users\\cri98\\anaconda3\\lib\\site-packages\\sktime\\datatypes\\_proba\\_check.py:43: FutureWarning: pandas.Int64Index is deprecated and will be removed from pandas in a future version. Use pandas.Index with the appropriate dtype instead.\n",
      "  VALID_INDEX_TYPES = (pd.Int64Index, pd.RangeIndex, pd.PeriodIndex, pd.DatetimeIndex)\n"
     ]
    }
   ],
   "source": [
    "start = datetime.now()\n",
    "\n",
    "from sktime.transformations.panel.rocket import Rocket\n",
    "from sktime.datatypes._panel._convert import from_2d_array_to_nested\n",
    "\n",
    "nested_lat = from_2d_array_to_nested(df_lat).rename(columns={0: \"dim_0\"})\n",
    "nested_lon = from_2d_array_to_nested(df_lon).rename(columns={0: \"dim_0\"})\n",
    "nested_time = from_2d_array_to_nested(df_time).rename(columns={0: \"dim_0\"})\n",
    "\n",
    "\n",
    "nested = nested_lat\n",
    "#nested = nested_UTMGridNorth\n",
    "\n",
    "nested[\"dim_1\"] = nested_lon[\"dim_0\"]\n",
    "nested[\"dim_2\"] = nested_time[\"dim_0\"]\n",
    "\n",
    "nested.head()\n",
    "\n",
    "y = df0.groupby(['tid'])['class'].max()\n",
    "\n",
    "t_rocket = (datetime.now() - start).total_seconds() * 1000 #ms"
   ]
  },
  {
   "cell_type": "code",
   "execution_count": null,
   "id": "0475a925",
   "metadata": {},
   "outputs": [],
   "source": []
  },
  {
   "cell_type": "code",
   "execution_count": null,
   "id": "cb45db90",
   "metadata": {},
   "outputs": [],
   "source": []
  },
  {
   "cell_type": "code",
   "execution_count": 10,
   "id": "d86eb1f4",
   "metadata": {},
   "outputs": [],
   "source": [
    "start = datetime.now()\n",
    "\n",
    "from sklearn.model_selection import train_test_split\n",
    "X_train, X_test, y_train, y_test = train_test_split(nested, y, test_size=.3, stratify=y)\n",
    "\n",
    "rocket = Rocket(n_jobs=24, num_kernels=10000)  # by default, ROCKET uses 10,000 kernels\n",
    "rocket.fit(X_train)\n",
    "X_train_transform = rocket.transform(X_train)\n",
    "X_test_transform = rocket.transform(X_test)\n",
    "\n",
    "t_rocket = (datetime.now() - start).total_seconds() * 1000 #ms"
   ]
  },
  {
   "cell_type": "code",
   "execution_count": 11,
   "id": "1979b654",
   "metadata": {},
   "outputs": [
    {
     "name": "stdout",
     "output_type": "stream",
     "text": [
      "Fitting 10 folds for each of 32 candidates, totalling 320 fits\n",
      "Model with rank: 1\n",
      "Mean validation score: 0.592 (std: 0.165)\n",
      "Parameters: {'criterion': 'gini', 'max_depth': 12, 'n_estimators': 300}\n",
      "\n",
      "Model with rank: 2\n",
      "Mean validation score: 0.590 (std: 0.191)\n",
      "Parameters: {'criterion': 'gini', 'max_depth': 17, 'n_estimators': 300}\n",
      "\n",
      "Model with rank: 3\n",
      "Mean validation score: 0.583 (std: 0.141)\n",
      "Parameters: {'criterion': 'gini', 'max_depth': 17, 'n_estimators': 600}\n",
      "\n"
     ]
    }
   ],
   "source": [
    "from sklearn.ensemble import RandomForestClassifier\n",
    "from sklearn import tree\n",
    "\n",
    "def report(results, n_top=3):\n",
    "    for i in range(1, n_top + 1):\n",
    "        candidates = np.flatnonzero(results['rank_test_score'] == i)\n",
    "        for candidate in candidates:\n",
    "            print(\"Model with rank: {0}\".format(i))\n",
    "            print(\"Mean validation score: {0:.3f} (std: {1:.3f})\".format(\n",
    "                results['mean_test_score'][candidate],\n",
    "                results['std_test_score'][candidate]))\n",
    "            print(\"Parameters: {0}\".format(results['params'][candidate]))\n",
    "            print(\"\")\n",
    "\n",
    "from sklearn.model_selection import GridSearchCV\n",
    "parameters = {'n_estimators': range(300, 1500, 300),\n",
    "              'criterion':[\"entropy\", \"gini\"],\n",
    "              'max_depth': range(2, 20, 5)}\n",
    "\n",
    "clf = GridSearchCV(RandomForestClassifier(n_jobs=1), parameters, cv=10, n_jobs=12, verbose=3, scoring=\"balanced_accuracy\")\n",
    "\n",
    "clf.fit(X_train_transform, y_train)\n",
    "\n",
    "report(clf.cv_results_, n_top=3)"
   ]
  },
  {
   "cell_type": "code",
   "execution_count": 12,
   "id": "c886a1df",
   "metadata": {},
   "outputs": [
    {
     "name": "stdout",
     "output_type": "stream",
     "text": [
      "              precision    recall  f1-score   support\n",
      "\n",
      "       tCOGU       0.67      0.44      0.53         9\n",
      "       tEUSH       0.50      0.20      0.29         5\n",
      "       tRAZO       0.68      0.89      0.77        19\n",
      "\n",
      "    accuracy                           0.67        33\n",
      "   macro avg       0.62      0.51      0.53        33\n",
      "weighted avg       0.65      0.67      0.63        33\n",
      "\n"
     ]
    }
   ],
   "source": [
    "rf = clf.best_estimator_\n",
    "\n",
    "rf.fit(X_train_transform, y_train)\n",
    "\n",
    "from sklearn import metrics\n",
    "y_pred=rf.predict(X_test_transform)\n",
    "\n",
    "\n",
    "from sklearn.metrics import classification_report\n",
    "\n",
    "print(classification_report(y_test, y_pred))"
   ]
  },
  {
   "cell_type": "code",
   "execution_count": 16,
   "id": "3f149ebe",
   "metadata": {},
   "outputs": [
    {
     "name": "stdout",
     "output_type": "stream",
     "text": [
      "0.6666666666666666\n",
      "0.6336481700118064\n"
     ]
    }
   ],
   "source": [
    "from sklearn.metrics import accuracy_score, f1_score\n",
    "\n",
    "print(accuracy_score(y_test, y_pred))\n",
    "print(f1_score(y_test, y_pred, average=\"weighted\"))"
   ]
  },
  {
   "cell_type": "code",
   "execution_count": 14,
   "id": "fc96deac",
   "metadata": {},
   "outputs": [
    {
     "data": {
      "text/plain": [
       "15722.838"
      ]
     },
     "execution_count": 14,
     "metadata": {},
     "output_type": "execute_result"
    }
   ],
   "source": [
    "t_rocket"
   ]
  },
  {
   "cell_type": "markdown",
   "id": "ab3b6806",
   "metadata": {},
   "source": [
    "## Movelets"
   ]
  },
  {
   "cell_type": "code",
   "execution_count": null,
   "id": "676d4805",
   "metadata": {},
   "outputs": [],
   "source": [
    "import random\n",
    "import os\n",
    "\n",
    "\n",
    "def prepareForShapelet(df=pd.DataFrame, trajectoryIDAttribute= None, targetAttribute=None,\n",
    "                       timestampAttribute=None, latAttr=None, lonAttr=None, trainPerc=.80, trajPerc=1.0, maxPoints=None):\n",
    "    attributes = [timestampAttribute, \"latLon\"]+ [x for x in list(df.columns) if x not in [trajectoryIDAttribute, targetAttribute, timestampAttribute, latAttr, lonAttr]] #mi assicuro di avere il timestam come primo elemento\n",
    "    if(os.path.exists(\"train\") | os.path.exists(\"test\")):\n",
    "        print(\"Le cartelle train e test esistono già!\")\n",
    "        return\n",
    "\n",
    "    df[\"latLon\"] = df[latAttr].astype(str) + \" \" + df[lonAttr].astype(str)\n",
    "\n",
    "    ids = list(df[trajectoryIDAttribute].unique())\n",
    "    #ids = random.sample(ids, round(len(ids)*trajPerc))\n",
    "    ids = ids[:round(len(ids)*trajPerc)]\n",
    "    ids_train = random.sample(ids, round(trainPerc*len(ids)))\n",
    "    ids_test = [x for x in ids if x not in ids_train]\n",
    "\n",
    "    os.makedirs(\"train\")\n",
    "    os.makedirs(\"test\")\n",
    "\n",
    "    for id in tqdm(ids_train):\n",
    "        df_id = df[df[trajectoryIDAttribute] == id]\n",
    "        classe = df_id[targetAttribute].iloc[0]\n",
    "        if maxPoints is not None:\n",
    "            df[df[trajectoryIDAttribute] == id][attributes].head(maxPoints).to_csv(F\"train/{id} s{id} c{classe}.r2\", index=False, header=False)\n",
    "        else:\n",
    "            df[df[trajectoryIDAttribute] == id][attributes].to_csv(F\"train/{id} s{id} c{classe}.r2\", index=False, header=False)\n",
    "\n",
    "    for id in tqdm(ids_test):\n",
    "        df_id = df[df[trajectoryIDAttribute] == id]\n",
    "        if maxPoints is not None:\n",
    "            df_id = df_id.head(maxPoints)\n",
    "        classe = df_id[targetAttribute].iloc[0]\n",
    "        if maxPoints is not None:\n",
    "            df[df[trajectoryIDAttribute] == id][attributes].head(maxPoints).to_csv(F\"test/{id} s{id} c{classe}.r2\", index=False, header=False)\n",
    "        else:\n",
    "            df[df[trajectoryIDAttribute] == id][attributes].to_csv(F\"test/{id} s{id} c{classe}.r2\", index=False, header=False)\n",
    "\n",
    "prepareForShapelet(df0, \"tid\", \"class\", \"t\", \"c1\", \"c2\", trainPerc=.7, trajPerc=1)"
   ]
  },
  {
   "cell_type": "code",
   "execution_count": null,
   "id": "ed3363df",
   "metadata": {},
   "outputs": [],
   "source": []
  },
  {
   "cell_type": "code",
   "execution_count": 17,
   "id": "0220d450",
   "metadata": {},
   "outputs": [
    {
     "data": {
      "text/html": [
       "<div>\n",
       "<style scoped>\n",
       "    .dataframe tbody tr th:only-of-type {\n",
       "        vertical-align: middle;\n",
       "    }\n",
       "\n",
       "    .dataframe tbody tr th {\n",
       "        vertical-align: top;\n",
       "    }\n",
       "\n",
       "    .dataframe thead th {\n",
       "        text-align: right;\n",
       "    }\n",
       "</style>\n",
       "<table border=\"1\" class=\"dataframe\">\n",
       "  <thead>\n",
       "    <tr style=\"text-align: right;\">\n",
       "      <th></th>\n",
       "      <th>sh_TID37_START1484_SIZE51_CLASStCOGU</th>\n",
       "      <th>sh_TID17_START2799_SIZE18_CLASStCOGU</th>\n",
       "      <th>sh_TID8_START813_SIZE95_CLASStCOGU</th>\n",
       "      <th>sh_TID37_START658_SIZE86_CLASStCOGU</th>\n",
       "      <th>sh_TID1_START2014_SIZE7_CLASStCOGU</th>\n",
       "      <th>sh_TID32_START90_SIZE27_CLASStCOGU</th>\n",
       "      <th>sh_TID84_START987_SIZE2_CLASStRAZO</th>\n",
       "      <th>sh_TID103_START2212_SIZE2_CLASStRAZO</th>\n",
       "      <th>sh_TID81_START223_SIZE39_CLASStRAZO</th>\n",
       "      <th>sh_TID15_START2340_SIZE18_CLASStCOGU</th>\n",
       "      <th>sh_TID23_START1837_SIZE83_CLASStCOGU</th>\n",
       "      <th>sh_TID39_START193_SIZE96_CLASStRAZO</th>\n",
       "      <th>sh_TID17_START435_SIZE18_CLASStCOGU</th>\n",
       "      <th>sh_TID46_START981_SIZE13_CLASStRAZO</th>\n",
       "      <th>sh_TID40_START749_SIZE13_CLASStRAZO</th>\n",
       "      <th>sh_TID9_START1301_SIZE92_CLASStCOGU</th>\n",
       "      <th>sh_TID17_START3076_SIZE19_CLASStCOGU</th>\n",
       "      <th>class</th>\n",
       "    </tr>\n",
       "  </thead>\n",
       "  <tbody>\n",
       "    <tr>\n",
       "      <th>0</th>\n",
       "      <td>1.625842</td>\n",
       "      <td>0.985065</td>\n",
       "      <td>0.987400</td>\n",
       "      <td>1.627654</td>\n",
       "      <td>0.981097</td>\n",
       "      <td>0.906283</td>\n",
       "      <td>1.560816</td>\n",
       "      <td>1.496875</td>\n",
       "      <td>1.570457</td>\n",
       "      <td>0.664531</td>\n",
       "      <td>0.987076</td>\n",
       "      <td>1.612939</td>\n",
       "      <td>0.947763</td>\n",
       "      <td>1.600724</td>\n",
       "      <td>1.603072</td>\n",
       "      <td>0.972232</td>\n",
       "      <td>0.988270</td>\n",
       "      <td>tCOGU</td>\n",
       "    </tr>\n",
       "    <tr>\n",
       "      <th>1</th>\n",
       "      <td>1.625610</td>\n",
       "      <td>1.004802</td>\n",
       "      <td>1.015268</td>\n",
       "      <td>1.627400</td>\n",
       "      <td>1.018796</td>\n",
       "      <td>0.985898</td>\n",
       "      <td>1.560760</td>\n",
       "      <td>1.496705</td>\n",
       "      <td>1.570197</td>\n",
       "      <td>1.001187</td>\n",
       "      <td>1.009078</td>\n",
       "      <td>1.612765</td>\n",
       "      <td>0.922504</td>\n",
       "      <td>1.600480</td>\n",
       "      <td>1.602819</td>\n",
       "      <td>1.009958</td>\n",
       "      <td>1.008859</td>\n",
       "      <td>tEUSH</td>\n",
       "    </tr>\n",
       "    <tr>\n",
       "      <th>2</th>\n",
       "      <td>1.945494</td>\n",
       "      <td>1.776285</td>\n",
       "      <td>1.770864</td>\n",
       "      <td>1.943541</td>\n",
       "      <td>1.790600</td>\n",
       "      <td>1.782295</td>\n",
       "      <td>1.972289</td>\n",
       "      <td>0.075381</td>\n",
       "      <td>1.958965</td>\n",
       "      <td>1.773291</td>\n",
       "      <td>1.772221</td>\n",
       "      <td>1.961741</td>\n",
       "      <td>1.778535</td>\n",
       "      <td>1.971062</td>\n",
       "      <td>1.968936</td>\n",
       "      <td>1.775907</td>\n",
       "      <td>1.778065</td>\n",
       "      <td>tRAZO</td>\n",
       "    </tr>\n",
       "    <tr>\n",
       "      <th>3</th>\n",
       "      <td>1.943944</td>\n",
       "      <td>1.774224</td>\n",
       "      <td>1.768818</td>\n",
       "      <td>1.941982</td>\n",
       "      <td>1.788590</td>\n",
       "      <td>1.780203</td>\n",
       "      <td>1.970683</td>\n",
       "      <td>0.072461</td>\n",
       "      <td>1.957260</td>\n",
       "      <td>1.771228</td>\n",
       "      <td>1.770183</td>\n",
       "      <td>1.960246</td>\n",
       "      <td>1.776458</td>\n",
       "      <td>1.969596</td>\n",
       "      <td>1.967466</td>\n",
       "      <td>1.773868</td>\n",
       "      <td>1.776000</td>\n",
       "      <td>tRAZO</td>\n",
       "    </tr>\n",
       "    <tr>\n",
       "      <th>4</th>\n",
       "      <td>1.946230</td>\n",
       "      <td>1.773533</td>\n",
       "      <td>1.772168</td>\n",
       "      <td>1.945589</td>\n",
       "      <td>1.787647</td>\n",
       "      <td>1.779918</td>\n",
       "      <td>1.970630</td>\n",
       "      <td>0.071628</td>\n",
       "      <td>1.958964</td>\n",
       "      <td>1.770542</td>\n",
       "      <td>1.772909</td>\n",
       "      <td>1.963817</td>\n",
       "      <td>1.775789</td>\n",
       "      <td>1.969943</td>\n",
       "      <td>1.967828</td>\n",
       "      <td>1.777048</td>\n",
       "      <td>1.775346</td>\n",
       "      <td>tRAZO</td>\n",
       "    </tr>\n",
       "  </tbody>\n",
       "</table>\n",
       "</div>"
      ],
      "text/plain": [
       "   sh_TID37_START1484_SIZE51_CLASStCOGU  sh_TID17_START2799_SIZE18_CLASStCOGU  \\\n",
       "0                              1.625842                              0.985065   \n",
       "1                              1.625610                              1.004802   \n",
       "2                              1.945494                              1.776285   \n",
       "3                              1.943944                              1.774224   \n",
       "4                              1.946230                              1.773533   \n",
       "\n",
       "   sh_TID8_START813_SIZE95_CLASStCOGU  sh_TID37_START658_SIZE86_CLASStCOGU  \\\n",
       "0                            0.987400                             1.627654   \n",
       "1                            1.015268                             1.627400   \n",
       "2                            1.770864                             1.943541   \n",
       "3                            1.768818                             1.941982   \n",
       "4                            1.772168                             1.945589   \n",
       "\n",
       "   sh_TID1_START2014_SIZE7_CLASStCOGU  sh_TID32_START90_SIZE27_CLASStCOGU  \\\n",
       "0                            0.981097                            0.906283   \n",
       "1                            1.018796                            0.985898   \n",
       "2                            1.790600                            1.782295   \n",
       "3                            1.788590                            1.780203   \n",
       "4                            1.787647                            1.779918   \n",
       "\n",
       "   sh_TID84_START987_SIZE2_CLASStRAZO  sh_TID103_START2212_SIZE2_CLASStRAZO  \\\n",
       "0                            1.560816                              1.496875   \n",
       "1                            1.560760                              1.496705   \n",
       "2                            1.972289                              0.075381   \n",
       "3                            1.970683                              0.072461   \n",
       "4                            1.970630                              0.071628   \n",
       "\n",
       "   sh_TID81_START223_SIZE39_CLASStRAZO  sh_TID15_START2340_SIZE18_CLASStCOGU  \\\n",
       "0                             1.570457                              0.664531   \n",
       "1                             1.570197                              1.001187   \n",
       "2                             1.958965                              1.773291   \n",
       "3                             1.957260                              1.771228   \n",
       "4                             1.958964                              1.770542   \n",
       "\n",
       "   sh_TID23_START1837_SIZE83_CLASStCOGU  sh_TID39_START193_SIZE96_CLASStRAZO  \\\n",
       "0                              0.987076                             1.612939   \n",
       "1                              1.009078                             1.612765   \n",
       "2                              1.772221                             1.961741   \n",
       "3                              1.770183                             1.960246   \n",
       "4                              1.772909                             1.963817   \n",
       "\n",
       "   sh_TID17_START435_SIZE18_CLASStCOGU  sh_TID46_START981_SIZE13_CLASStRAZO  \\\n",
       "0                             0.947763                             1.600724   \n",
       "1                             0.922504                             1.600480   \n",
       "2                             1.778535                             1.971062   \n",
       "3                             1.776458                             1.969596   \n",
       "4                             1.775789                             1.969943   \n",
       "\n",
       "   sh_TID40_START749_SIZE13_CLASStRAZO  sh_TID9_START1301_SIZE92_CLASStCOGU  \\\n",
       "0                             1.603072                             0.972232   \n",
       "1                             1.602819                             1.009958   \n",
       "2                             1.968936                             1.775907   \n",
       "3                             1.967466                             1.773868   \n",
       "4                             1.967828                             1.777048   \n",
       "\n",
       "   sh_TID17_START3076_SIZE19_CLASStCOGU  class  \n",
       "0                              0.988270  tCOGU  \n",
       "1                              1.008859  tEUSH  \n",
       "2                              1.778065  tRAZO  \n",
       "3                              1.776000  tRAZO  \n",
       "4                              1.775346  tRAZO  "
      ]
     },
     "execution_count": 17,
     "metadata": {},
     "output_type": "execute_result"
    }
   ],
   "source": [
    "movelet_train_df = pd.read_csv(\"data/Movelet_output/train.csv\")\n",
    "movelet_test_df = pd.read_csv(\"data/Movelet_output/test.csv\")\n",
    "\n",
    "movelet_train_df.head()"
   ]
  },
  {
   "cell_type": "code",
   "execution_count": 18,
   "id": "10bc9b0d",
   "metadata": {},
   "outputs": [
    {
     "data": {
      "text/plain": [
       "array(['tCOGU', 'tEUSH', 'tRAZO', 'tRAZO', 'tRAZO', 'tCOGU', 'tCOGU',\n",
       "       'tCOGU', 'tEUSH', 'tRAZO', 'tRAZO', 'tCOGU', 'tCOGU', 'tCOGU',\n",
       "       'tRAZO', 'tRAZO', 'tRAZO', 'tCOGU', 'tCOGU', 'tRAZO', 'tRAZO',\n",
       "       'tRAZO', 'tRAZO', 'tCOGU', 'tRAZO', 'tCOGU', 'tRAZO', 'tRAZO',\n",
       "       'tRAZO', 'tRAZO', 'tRAZO', 'tRAZO', 'tCOGU', 'tCOGU', 'tCOGU',\n",
       "       'tCOGU', 'tCOGU', 'tCOGU', 'tCOGU', 'tEUSH', 'tEUSH', 'tRAZO',\n",
       "       'tEUSH', 'tRAZO', 'tRAZO', 'tRAZO', 'tEUSH', 'tEUSH', 'tRAZO',\n",
       "       'tRAZO', 'tCOGU', 'tCOGU', 'tEUSH', 'tRAZO', 'tEUSH', 'tRAZO',\n",
       "       'tRAZO', 'tCOGU', 'tRAZO', 'tRAZO', 'tRAZO', 'tRAZO', 'tRAZO',\n",
       "       'tRAZO', 'tRAZO', 'tEUSH', 'tRAZO', 'tCOGU', 'tEUSH', 'tRAZO',\n",
       "       'tRAZO', 'tEUSH', 'tRAZO', 'tRAZO', 'tRAZO', 'tRAZO'], dtype=object)"
      ]
     },
     "execution_count": 18,
     "metadata": {},
     "output_type": "execute_result"
    }
   ],
   "source": [
    "movelet_train_df.values[:, -1]"
   ]
  },
  {
   "cell_type": "code",
   "execution_count": 19,
   "id": "f8dec302",
   "metadata": {},
   "outputs": [],
   "source": [
    "X_train = movelet_train_df.values[:, :-1]\n",
    "y_train = movelet_train_df.values[:, -1]\n",
    "\n",
    "X_test = movelet_test_df.values[:, :-1]\n",
    "y_test = movelet_test_df.values[:, -1]"
   ]
  },
  {
   "cell_type": "code",
   "execution_count": 20,
   "id": "f6a04b04",
   "metadata": {},
   "outputs": [
    {
     "name": "stdout",
     "output_type": "stream",
     "text": [
      "Fitting 10 folds for each of 32 candidates, totalling 320 fits\n",
      "Model with rank: 1\n",
      "Mean validation score: 0.777 (std: 0.151)\n",
      "Parameters: {'criterion': 'gini', 'max_depth': 2, 'n_estimators': 300}\n",
      "\n",
      "Model with rank: 2\n",
      "Mean validation score: 0.764 (std: 0.129)\n",
      "Parameters: {'criterion': 'entropy', 'max_depth': 2, 'n_estimators': 300}\n",
      "\n",
      "Model with rank: 3\n",
      "Mean validation score: 0.764 (std: 0.193)\n",
      "Parameters: {'criterion': 'entropy', 'max_depth': 12, 'n_estimators': 300}\n",
      "\n",
      "Model with rank: 3\n",
      "Mean validation score: 0.764 (std: 0.193)\n",
      "Parameters: {'criterion': 'entropy', 'max_depth': 12, 'n_estimators': 900}\n",
      "\n",
      "Model with rank: 3\n",
      "Mean validation score: 0.764 (std: 0.158)\n",
      "Parameters: {'criterion': 'gini', 'max_depth': 2, 'n_estimators': 1200}\n",
      "\n",
      "Model with rank: 3\n",
      "Mean validation score: 0.764 (std: 0.193)\n",
      "Parameters: {'criterion': 'gini', 'max_depth': 7, 'n_estimators': 600}\n",
      "\n",
      "Model with rank: 3\n",
      "Mean validation score: 0.764 (std: 0.193)\n",
      "Parameters: {'criterion': 'gini', 'max_depth': 17, 'n_estimators': 900}\n",
      "\n"
     ]
    }
   ],
   "source": [
    "from sklearn.ensemble import RandomForestClassifier\n",
    "from sklearn import tree\n",
    "\n",
    "def report(results, n_top=3):\n",
    "    for i in range(1, n_top + 1):\n",
    "        candidates = np.flatnonzero(results['rank_test_score'] == i)\n",
    "        for candidate in candidates:\n",
    "            print(\"Model with rank: {0}\".format(i))\n",
    "            print(\"Mean validation score: {0:.3f} (std: {1:.3f})\".format(\n",
    "                results['mean_test_score'][candidate],\n",
    "                results['std_test_score'][candidate]))\n",
    "            print(\"Parameters: {0}\".format(results['params'][candidate]))\n",
    "            print(\"\")\n",
    "\n",
    "from sklearn.model_selection import GridSearchCV\n",
    "parameters = {'n_estimators': range(300, 1500, 300),\n",
    "              'criterion':[\"entropy\", \"gini\"],\n",
    "              'max_depth': range(2, 20, 5)}\n",
    "\n",
    "clf = GridSearchCV(RandomForestClassifier(n_jobs=1), parameters, cv=10, n_jobs=24, verbose=3, scoring=\"accuracy\")\n",
    "\n",
    "clf.fit(X_train, y_train)\n",
    "\n",
    "report(clf.cv_results_, n_top=3)"
   ]
  },
  {
   "cell_type": "code",
   "execution_count": 22,
   "id": "ce809cd3",
   "metadata": {},
   "outputs": [
    {
     "name": "stdout",
     "output_type": "stream",
     "text": [
      "              precision    recall  f1-score   support\n",
      "\n",
      "       tCOGU       0.71      0.56      0.63         9\n",
      "       tEUSH       0.00      0.00      0.00         3\n",
      "       tRAZO       0.72      0.90      0.80        20\n",
      "\n",
      "    accuracy                           0.72        32\n",
      "   macro avg       0.48      0.49      0.48        32\n",
      "weighted avg       0.65      0.72      0.68        32\n",
      "\n"
     ]
    },
    {
     "name": "stderr",
     "output_type": "stream",
     "text": [
      "C:\\Users\\cri98\\anaconda3\\lib\\site-packages\\sklearn\\metrics\\_classification.py:1318: UndefinedMetricWarning: Precision and F-score are ill-defined and being set to 0.0 in labels with no predicted samples. Use `zero_division` parameter to control this behavior.\n",
      "  _warn_prf(average, modifier, msg_start, len(result))\n",
      "C:\\Users\\cri98\\anaconda3\\lib\\site-packages\\sklearn\\metrics\\_classification.py:1318: UndefinedMetricWarning: Precision and F-score are ill-defined and being set to 0.0 in labels with no predicted samples. Use `zero_division` parameter to control this behavior.\n",
      "  _warn_prf(average, modifier, msg_start, len(result))\n",
      "C:\\Users\\cri98\\anaconda3\\lib\\site-packages\\sklearn\\metrics\\_classification.py:1318: UndefinedMetricWarning: Precision and F-score are ill-defined and being set to 0.0 in labels with no predicted samples. Use `zero_division` parameter to control this behavior.\n",
      "  _warn_prf(average, modifier, msg_start, len(result))\n"
     ]
    }
   ],
   "source": [
    "clf = clf.best_estimator_#RandomForestClassifier(max_depth=2, criterion='gini', random_state=5, n_jobs=-1, n_estimators=1200)\n",
    "#clf = tree.DecisionTreeClassifier(max_depth=2)\n",
    "\n",
    "clf.fit(X_train, y_train)\n",
    "\n",
    "from sklearn import metrics\n",
    "y_pred=clf.predict(X_test)\n",
    "\n",
    "\n",
    "from sklearn.metrics import classification_report\n",
    "\n",
    "print(classification_report(y_test, y_pred))"
   ]
  },
  {
   "cell_type": "code",
   "execution_count": 23,
   "id": "9db4ddc3",
   "metadata": {},
   "outputs": [
    {
     "name": "stdout",
     "output_type": "stream",
     "text": [
      "0.71875\n",
      "0.67578125\n"
     ]
    }
   ],
   "source": [
    "from sklearn.metrics import accuracy_score, f1_score\n",
    "\n",
    "print(accuracy_score(y_test, y_pred))\n",
    "print(f1_score(y_test, y_pred, average=\"weighted\"))"
   ]
  },
  {
   "cell_type": "code",
   "execution_count": null,
   "id": "8ef49d5a",
   "metadata": {},
   "outputs": [],
   "source": []
  },
  {
   "cell_type": "markdown",
   "id": "0e183baf",
   "metadata": {},
   "source": [
    "## Geolet"
   ]
  },
  {
   "cell_type": "code",
   "execution_count": 24,
   "id": "98480ca9",
   "metadata": {},
   "outputs": [
    {
     "name": "stderr",
     "output_type": "stream",
     "text": [
      "c:\\users\\cri98\\documents\\github\\cri98tj\\cri98tj\\distancers\\Euclidean_distancer.py:6: TqdmExperimentalWarning: Using `tqdm.autonotebook.tqdm` in notebook mode. Use `tqdm.tqdm` instead to force console mode (e.g. in jupyter console)\n",
      "  from tqdm.autonotebook import tqdm\n"
     ]
    }
   ],
   "source": [
    "from cri98tj.distancers.Euclidean_distancer import Euclidean_distancer\n",
    "from cri98tj.distancers.DTW_distancer import DTW_distancer\n",
    "from cri98tj.distancers.InterpolatedRootDistance_distancer import InterpolatedRootDistance_distancer, \\\n",
    "    InterpolatedRootDistanceBestFitting\n",
    "from cri98tj.normalizers.FirstPoint_normalizer import FirstPoint_normalizer\n",
    "from cri98tj.normalizers.normalizer_utils import dataframe_pivot\n",
    "from cri98tj.partitioners.Geohash_partitioner import Geohash_partitioner\n",
    "from cri98tj.partitioners.Voronoi_partitioner import Voronoi_partitioner\n",
    "from cri98tj.selectors.RandomInformationGain_selector import RandomInformationGain_selector\n",
    "from cri98tj.selectors.Random_selector import Random_selector\n",
    "from cri98tj.selectors.RandomOrderline_selector import RandomOrderline_selector\n",
    "from cri98tj.TrajectoryTransformer import TrajectoryTransformer\n",
    "from sklearn.ensemble import RandomForestClassifier"
   ]
  },
  {
   "cell_type": "code",
   "execution_count": null,
   "id": "0ba853e2",
   "metadata": {},
   "outputs": [],
   "source": []
  },
  {
   "cell_type": "code",
   "execution_count": 25,
   "id": "84312392",
   "metadata": {},
   "outputs": [],
   "source": [
    "df_geo = df0[[\"tid\", \"class\", \"c1\", \"c2\", \"t\"]].copy()"
   ]
  },
  {
   "cell_type": "code",
   "execution_count": 26,
   "id": "ae5bb895",
   "metadata": {},
   "outputs": [
    {
     "name": "stdout",
     "output_type": "stream",
     "text": [
      "Encoding 177660 points with precision 5\n"
     ]
    },
    {
     "data": {
      "application/vnd.jupyter.widget-view+json": {
       "model_id": "d692e88bb4594b8d8578759f853d8b9a",
       "version_major": 2,
       "version_minor": 0
      },
      "text/plain": [
       "  0%|          | 0/177660 [00:00<?, ?it/s]"
      ]
     },
     "metadata": {},
     "output_type": "display_data"
    },
    {
     "name": "stdout",
     "output_type": "stream",
     "text": [
      "Cutting sub-trajectories length at 1789.5499999999993 over 2728\n",
      "Pivoting tables\n"
     ]
    },
    {
     "data": {
      "application/vnd.jupyter.widget-view+json": {
       "model_id": "8aed893cdf4a412abcc099928feef92c",
       "version_major": 2,
       "version_minor": 0
      },
      "text/plain": [
       "  0%|          | 0/27483 [00:00<?, ?it/s]"
      ]
     },
     "metadata": {},
     "output_type": "display_data"
    },
    {
     "name": "stdout",
     "output_type": "stream",
     "text": [
      "Cutting sub-trajectories length at 3219.8499999999913 over 5210\n",
      "Pivoting tables\n"
     ]
    },
    {
     "data": {
      "application/vnd.jupyter.widget-view+json": {
       "model_id": "d82e1fc9090a4dba9dc4ac1c83877fd0",
       "version_major": 2,
       "version_minor": 0
      },
      "text/plain": [
       "  0%|          | 0/90215 [00:00<?, ?it/s]"
      ]
     },
     "metadata": {},
     "output_type": "display_data"
    },
    {
     "name": "stdout",
     "output_type": "stream",
     "text": [
      "Computing scores\n"
     ]
    },
    {
     "data": {
      "application/vnd.jupyter.widget-view+json": {
       "model_id": "93ce005e70254dbbae862ebf91ef168b",
       "version_major": 2,
       "version_minor": 0
      },
      "text/plain": [
       "  0%|          | 0/471 [00:00<?, ?it/s]"
      ]
     },
     "metadata": {},
     "output_type": "display_data"
    },
    {
     "data": {
      "application/vnd.jupyter.widget-view+json": {
       "model_id": "782e8ad8844046239286aa52dbe434ca",
       "version_major": 2,
       "version_minor": 0
      },
      "text/plain": [
       "  0%|          | 0/471 [00:00<?, ?it/s]"
      ]
     },
     "metadata": {},
     "output_type": "display_data"
    },
    {
     "name": "stderr",
     "output_type": "stream",
     "text": [
      "C:\\Users\\cri98\\anaconda3\\lib\\site-packages\\sklearn\\utils\\validation.py:993: DataConversionWarning: A column-vector y was passed when a 1d array was expected. Please change the shape of y to (n_samples, ), for example using ravel().\n",
      "  y = column_or_1d(y, warn=True)\n"
     ]
    },
    {
     "name": "stdout",
     "output_type": "stream",
     "text": [
      "0.\t score=0.49086314230826344\n",
      "1.\t score=0.4393491048064262\n",
      "2.\t score=0.424630700641218\n",
      "3.\t score=0.42428924660411194\n",
      "4.\t score=0.4086057898492266\n",
      "5.\t score=0.4009432804010027\n",
      "6.\t score=0.38088861010664554\n",
      "7.\t score=0.3808396970096042\n",
      "8.\t score=0.3685955776250316\n",
      "9.\t score=0.36835299579004177\n",
      "10.\t score=0.36515978276098293\n",
      "11.\t score=0.3560470853269144\n",
      "12.\t score=0.35546497213975936\n",
      "13.\t score=0.34889416964722586\n",
      "14.\t score=0.3458540308323894\n",
      "15.\t score=0.3406529069416777\n",
      "16.\t score=0.336727138768361\n",
      "17.\t score=0.3346599233811396\n",
      "18.\t score=0.3265265546463736\n",
      "19.\t score=0.3155735168458276\n",
      "20.\t score=0.3136513604023159\n",
      "21.\t score=0.30903140711830535\n",
      "22.\t score=0.3084839821395149\n",
      "23.\t score=0.30802316650012806\n",
      "24.\t score=0.3076195660347336\n",
      "25.\t score=0.3066207889730972\n",
      "26.\t score=0.3013110294308483\n",
      "27.\t score=0.2956764903127842\n",
      "28.\t score=0.295060001247365\n",
      "29.\t score=0.29457449026713434\n",
      "30.\t score=0.2911141278782008\n",
      "31.\t score=0.28739449429242625\n",
      "32.\t score=0.28375985363683065\n",
      "33.\t score=0.28330057012505505\n",
      "34.\t score=0.28261307020646687\n",
      "35.\t score=0.28207595516285355\n",
      "36.\t score=0.28043868304889696\n",
      "37.\t score=0.27783619060163867\n",
      "38.\t score=0.277783168402987\n",
      "39.\t score=0.27153788279845803\n",
      "40.\t score=0.26946225744341\n",
      "41.\t score=0.26918702580751597\n",
      "42.\t score=0.2603760563580175\n",
      "43.\t score=0.26037325768901565\n",
      "44.\t score=0.25963401218519677\n",
      "45.\t score=0.25582261301089426\n",
      "46.\t score=0.254677456841242\n",
      "47.\t score=0.25118823894548625\n",
      "48.\t score=0.25025623266106156\n",
      "49.\t score=0.24855940624855277\n",
      "Pivoting tables\n"
     ]
    },
    {
     "data": {
      "application/vnd.jupyter.widget-view+json": {
       "model_id": "7b0e194c87354f2eaee2e4121d880b3b",
       "version_major": 2,
       "version_minor": 0
      },
      "text/plain": [
       "  0%|          | 0/263718 [00:00<?, ?it/s]"
      ]
     },
     "metadata": {},
     "output_type": "display_data"
    },
    {
     "data": {
      "application/vnd.jupyter.widget-view+json": {
       "model_id": "c68231d5c7c84c42a8f73566777ef810",
       "version_major": 2,
       "version_minor": 0
      },
      "text/plain": [
       "  0%|          | 0/50 [00:00<?, ?it/s]"
      ]
     },
     "metadata": {},
     "output_type": "display_data"
    },
    {
     "name": "stdout",
     "output_type": "stream",
     "text": [
      "Collecting distances from 50\n"
     ]
    },
    {
     "data": {
      "application/vnd.jupyter.widget-view+json": {
       "model_id": "ad555e4cc6ac46e49a40792180e89818",
       "version_major": 2,
       "version_minor": 0
      },
      "text/plain": [
       "  0%|          | 0/50 [00:00<?, ?it/s]"
      ]
     },
     "metadata": {},
     "output_type": "display_data"
    },
    {
     "name": "stdout",
     "output_type": "stream",
     "text": [
      "Wall time: 55min 46s\n"
     ]
    }
   ],
   "source": [
    "%%time\n",
    "\n",
    "from sklearn.model_selection import train_test_split\n",
    "\n",
    "spatioTemporalCols = [\"c1\", \"c2\", \"t\"]\n",
    "tid_train, tid_test, _, _ = train_test_split(df_geo.groupby(by=[\"tid\"]).max().reset_index()[\"tid\"],\n",
    "                                                            df_geo.groupby(by=[\"tid\"]).max().reset_index()[\"class\"],\n",
    "                                                            test_size=.3,\n",
    "                                                            stratify=df_geo.groupby(by=[\"tid\"]).max().reset_index()[\"class\"],\n",
    "                                                            random_state=3)\n",
    "\n",
    "partitioner = Geohash_partitioner(precision=5, spatioTemporalColumns=spatioTemporalCols)\n",
    "\n",
    "\n",
    "normalizer = FirstPoint_normalizer(spatioTemporalColumns=spatioTemporalCols, fillna=None)\n",
    "#selector = Random_selector(movelets_per_class=20, normalizer=normalizer,\n",
    "#                                   spatioTemporalColumns=spatioTemporalCols)\n",
    "selector = RandomInformationGain_selector(top_k=50, bestFittingMeasure=InterpolatedRootDistanceBestFitting,\n",
    "                                                  movelets_per_class=500, trajectories_for_orderline=50, n_jobs=24,\n",
    "                                                  spatioTemporalColumns=spatioTemporalCols, normalizer=normalizer)\n",
    "distancer = InterpolatedRootDistance_distancer(normalizer=normalizer, spatioTemporalColumns=spatioTemporalCols, n_jobs=24)\n",
    "\n",
    "part = partitioner.fit_transform(df_geo[df_geo.tid.isin(tid_train)].values)\n",
    "shapelets = selector.fit_transform(part)\n",
    "best_is, dist_np = distancer.fit_transform((df_geo.values, shapelets))"
   ]
  },
  {
   "cell_type": "code",
   "execution_count": 27,
   "id": "feb15d3e",
   "metadata": {},
   "outputs": [],
   "source": [
    "dist_np_df = pd.DataFrame(dist_np)\n",
    "X = dist_np_df.drop(columns=[0]).values\n",
    "y = dist_np_df[0].values\n",
    "\n",
    "X_train, X_test, y_train, y_test = train_test_split(X, y, test_size=.3, stratify=y, random_state=3)"
   ]
  },
  {
   "cell_type": "code",
   "execution_count": 28,
   "id": "1da94d85",
   "metadata": {},
   "outputs": [
    {
     "name": "stdout",
     "output_type": "stream",
     "text": [
      "Fitting 5 folds for each of 48 candidates, totalling 240 fits\n",
      "Model with rank: 1\n",
      "Mean validation score: 0.720 (std: 0.065)\n",
      "Parameters: {'criterion': 'entropy', 'max_depth': 7, 'n_estimators': 300}\n",
      "\n",
      "Model with rank: 1\n",
      "Mean validation score: 0.720 (std: 0.098)\n",
      "Parameters: {'criterion': 'entropy', 'max_depth': 7, 'n_estimators': 1800}\n",
      "\n",
      "Model with rank: 1\n",
      "Mean validation score: 0.720 (std: 0.098)\n",
      "Parameters: {'criterion': 'entropy', 'max_depth': 12, 'n_estimators': 600}\n",
      "\n",
      "Model with rank: 1\n",
      "Mean validation score: 0.720 (std: 0.065)\n",
      "Parameters: {'criterion': 'entropy', 'max_depth': 12, 'n_estimators': 900}\n",
      "\n",
      "Model with rank: 1\n",
      "Mean validation score: 0.720 (std: 0.098)\n",
      "Parameters: {'criterion': 'entropy', 'max_depth': 17, 'n_estimators': 900}\n",
      "\n",
      "Model with rank: 1\n",
      "Mean validation score: 0.720 (std: 0.098)\n",
      "Parameters: {'criterion': 'entropy', 'max_depth': 17, 'n_estimators': 1200}\n",
      "\n",
      "Model with rank: 1\n",
      "Mean validation score: 0.720 (std: 0.098)\n",
      "Parameters: {'criterion': 'entropy', 'max_depth': 17, 'n_estimators': 1500}\n",
      "\n"
     ]
    }
   ],
   "source": [
    "from sklearn.ensemble import RandomForestClassifier\n",
    "from sklearn import tree\n",
    "\n",
    "def report(results, n_top=3):\n",
    "    for i in range(1, n_top + 1):\n",
    "        candidates = np.flatnonzero(results['rank_test_score'] == i)\n",
    "        for candidate in candidates:\n",
    "            print(\"Model with rank: {0}\".format(i))\n",
    "            print(\"Mean validation score: {0:.3f} (std: {1:.3f})\".format(\n",
    "                results['mean_test_score'][candidate],\n",
    "                results['std_test_score'][candidate]))\n",
    "            print(\"Parameters: {0}\".format(results['params'][candidate]))\n",
    "            print(\"\")\n",
    "\n",
    "from sklearn.model_selection import GridSearchCV\n",
    "parameters = {'n_estimators': range(300, 2000, 300),\n",
    "              'criterion':[\"entropy\", \"gini\"],\n",
    "              'max_depth': range(2, 20, 5)}\n",
    "\n",
    "clf = GridSearchCV(RandomForestClassifier(n_jobs=1), parameters, cv=5, n_jobs=24, verbose=3, scoring=\"accuracy\")\n",
    "\n",
    "clf.fit(X_train, y_train)\n",
    "\n",
    "report(clf.cv_results_, n_top=3)"
   ]
  },
  {
   "cell_type": "code",
   "execution_count": 29,
   "id": "10292f93",
   "metadata": {},
   "outputs": [
    {
     "name": "stdout",
     "output_type": "stream",
     "text": [
      "              precision    recall  f1-score   support\n",
      "\n",
      "       tCOGU       0.60      0.67      0.63         9\n",
      "       tEUSH       0.75      0.60      0.67         5\n",
      "       tRAZO       0.74      0.74      0.74        19\n",
      "\n",
      "    accuracy                           0.70        33\n",
      "   macro avg       0.70      0.67      0.68        33\n",
      "weighted avg       0.70      0.70      0.70        33\n",
      "\n"
     ]
    }
   ],
   "source": [
    "clf = clf.best_estimator_\n",
    "\n",
    "clf.fit(X_train, y_train)\n",
    "\n",
    "from sklearn.metrics import classification_report\n",
    "\n",
    "y_pred = clf.predict(X_test)\n",
    "\n",
    "print(classification_report(y_test, y_pred))"
   ]
  },
  {
   "cell_type": "code",
   "execution_count": 30,
   "id": "d83c51ac",
   "metadata": {},
   "outputs": [
    {
     "name": "stdout",
     "output_type": "stream",
     "text": [
      "0.696969696969697\n",
      "0.6975013290802765\n"
     ]
    }
   ],
   "source": [
    "from sklearn.metrics import accuracy_score, f1_score\n",
    "\n",
    "print(accuracy_score(y_test, y_pred))\n",
    "print(f1_score(y_test, y_pred, average=\"weighted\"))"
   ]
  },
  {
   "cell_type": "code",
   "execution_count": null,
   "id": "86528614",
   "metadata": {},
   "outputs": [],
   "source": []
  }
 ],
 "metadata": {
  "kernelspec": {
   "display_name": "Python 3 (ipykernel)",
   "language": "python",
   "name": "python3"
  },
  "language_info": {
   "codemirror_mode": {
    "name": "ipython",
    "version": 3
   },
   "file_extension": ".py",
   "mimetype": "text/x-python",
   "name": "python",
   "nbconvert_exporter": "python",
   "pygments_lexer": "ipython3",
   "version": "3.9.7"
  }
 },
 "nbformat": 4,
 "nbformat_minor": 5
}
