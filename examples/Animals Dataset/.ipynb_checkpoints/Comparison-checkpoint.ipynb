{
 "cells": [
  {
   "cell_type": "markdown",
   "id": "271fa193",
   "metadata": {},
   "source": [
    "# Animals"
   ]
  },
  {
   "cell_type": "code",
   "execution_count": 1,
   "id": "00b575f0",
   "metadata": {},
   "outputs": [],
   "source": [
    "import matplotlib.pyplot as plt\n",
    "import pandas as pd\n",
    "import numpy as np\n",
    "from tqdm.notebook import tqdm\n",
    "import math\n",
    "import glob\n",
    "from datetime import datetime"
   ]
  },
  {
   "cell_type": "code",
   "execution_count": 2,
   "id": "fc181a72",
   "metadata": {},
   "outputs": [
    {
     "data": {
      "text/html": [
       "<div>\n",
       "<style scoped>\n",
       "    .dataframe tbody tr th:only-of-type {\n",
       "        vertical-align: middle;\n",
       "    }\n",
       "\n",
       "    .dataframe tbody tr th {\n",
       "        vertical-align: top;\n",
       "    }\n",
       "\n",
       "    .dataframe thead th {\n",
       "        text-align: right;\n",
       "    }\n",
       "</style>\n",
       "<table border=\"1\" class=\"dataframe\">\n",
       "  <thead>\n",
       "    <tr style=\"text-align: right;\">\n",
       "      <th></th>\n",
       "      <th>tid</th>\n",
       "      <th>class</th>\n",
       "      <th>t</th>\n",
       "      <th>c1</th>\n",
       "      <th>c2</th>\n",
       "    </tr>\n",
       "  </thead>\n",
       "  <tbody>\n",
       "    <tr>\n",
       "      <th>0</th>\n",
       "      <td>1</td>\n",
       "      <td>D</td>\n",
       "      <td>0</td>\n",
       "      <td>50.1066</td>\n",
       "      <td>3.79665</td>\n",
       "    </tr>\n",
       "    <tr>\n",
       "      <th>1</th>\n",
       "      <td>1</td>\n",
       "      <td>D</td>\n",
       "      <td>4</td>\n",
       "      <td>50.1045</td>\n",
       "      <td>3.79455</td>\n",
       "    </tr>\n",
       "    <tr>\n",
       "      <th>2</th>\n",
       "      <td>1</td>\n",
       "      <td>D</td>\n",
       "      <td>7</td>\n",
       "      <td>50.1111</td>\n",
       "      <td>3.79845</td>\n",
       "    </tr>\n",
       "    <tr>\n",
       "      <th>3</th>\n",
       "      <td>1</td>\n",
       "      <td>D</td>\n",
       "      <td>9</td>\n",
       "      <td>50.1072</td>\n",
       "      <td>3.79845</td>\n",
       "    </tr>\n",
       "    <tr>\n",
       "      <th>4</th>\n",
       "      <td>1</td>\n",
       "      <td>D</td>\n",
       "      <td>15</td>\n",
       "      <td>50.1132</td>\n",
       "      <td>3.79965</td>\n",
       "    </tr>\n",
       "  </tbody>\n",
       "</table>\n",
       "</div>"
      ],
      "text/plain": [
       "   tid class   t       c1       c2\n",
       "0    1     D   0  50.1066  3.79665\n",
       "1    1     D   4  50.1045  3.79455\n",
       "2    1     D   7  50.1111  3.79845\n",
       "3    1     D   9  50.1072  3.79845\n",
       "4    1     D  15  50.1132  3.79965"
      ]
     },
     "execution_count": 2,
     "metadata": {},
     "output_type": "execute_result"
    }
   ],
   "source": [
    "df = pd.read_csv(\"data/animals_preapred.zip\")\n",
    "\n",
    "df0 = df[[\"tid\", \"class\", \"c1\", \"c2\", \"t\"]]\n",
    "\n",
    "df.head()"
   ]
  },
  {
   "cell_type": "markdown",
   "id": "94458c1a",
   "metadata": {},
   "source": [
    "## Rocket"
   ]
  },
  {
   "cell_type": "code",
   "execution_count": 3,
   "id": "b854a025",
   "metadata": {},
   "outputs": [
    {
     "name": "stderr",
     "output_type": "stream",
     "text": [
      "C:\\Users\\cri98\\AppData\\Local\\Temp/ipykernel_41652/3554406048.py:5: SettingWithCopyWarning: \n",
      "A value is trying to be set on a copy of a slice from a DataFrame.\n",
      "Try using .loc[row_indexer,col_indexer] = value instead\n",
      "\n",
      "See the caveats in the documentation: https://pandas.pydata.org/pandas-docs/stable/user_guide/indexing.html#returning-a-view-versus-a-copy\n",
      "  df0[\"pos\"] = df0.groupby(['tid']).cumcount()\n"
     ]
    }
   ],
   "source": [
    "t_rocket = 0\n",
    "\n",
    "start = datetime.now()\n",
    "\n",
    "df0[\"pos\"] = df0.groupby(['tid']).cumcount()\n",
    "\n",
    "t_rocket = (datetime.now() - start).total_seconds() * 1000 #ms"
   ]
  },
  {
   "cell_type": "code",
   "execution_count": 4,
   "id": "c3d46b1a",
   "metadata": {},
   "outputs": [
    {
     "name": "stdout",
     "output_type": "stream",
     "text": [
      "LAT\n"
     ]
    },
    {
     "data": {
      "application/vnd.jupyter.widget-view+json": {
       "model_id": "1aafb6db716c4d8ea26f7d301e7d6f46",
       "version_major": 2,
       "version_minor": 0
      },
      "text/plain": [
       "  0%|          | 0/102 [00:00<?, ?it/s]"
      ]
     },
     "metadata": {},
     "output_type": "display_data"
    },
    {
     "name": "stdout",
     "output_type": "stream",
     "text": [
      "LON\n"
     ]
    },
    {
     "data": {
      "application/vnd.jupyter.widget-view+json": {
       "model_id": "e5f5108270554cb7a7464aeef7c39c3b",
       "version_major": 2,
       "version_minor": 0
      },
      "text/plain": [
       "  0%|          | 0/102 [00:00<?, ?it/s]"
      ]
     },
     "metadata": {},
     "output_type": "display_data"
    },
    {
     "name": "stdout",
     "output_type": "stream",
     "text": [
      "TIME\n"
     ]
    },
    {
     "data": {
      "application/vnd.jupyter.widget-view+json": {
       "model_id": "0629bac47f794bb592ee4644d06013a7",
       "version_major": 2,
       "version_minor": 0
      },
      "text/plain": [
       "  0%|          | 0/102 [00:00<?, ?it/s]"
      ]
     },
     "metadata": {},
     "output_type": "display_data"
    }
   ],
   "source": [
    "start = datetime.now()\n",
    "\n",
    "\n",
    "def padLastValue(df):\n",
    "    array = df.values\n",
    "    for i in tqdm(range(len(array))):\n",
    "        for j in range(len(array[i])):\n",
    "            if math.isnan(array[i][j]):\n",
    "                array[i][j] =array[i][j-1]\n",
    "    return pd.DataFrame(array)\n",
    "\n",
    "percentile=.9\n",
    "\n",
    "print(\"LAT\")\n",
    "df_lat = pd.DataFrame()\n",
    "df_lat = df0.groupby(['tid','pos'])['c1'].max().unstack()\n",
    "df_lat = padLastValue(df_lat)\n",
    "\n",
    "print(\"LON\")\n",
    "df_lon = pd.DataFrame()\n",
    "df_lon = df0.groupby(['tid','pos'])['c2'].max().unstack()\n",
    "df_lon = padLastValue(df_lon)\n",
    "\n",
    "print(\"TIME\")\n",
    "df_time = pd.DataFrame()\n",
    "df_time = df0.groupby(['tid','pos'])['t'].max().unstack()\n",
    "df_time = padLastValue(df_time)\n",
    "\n",
    "t_rocket = (datetime.now() - start).total_seconds() * 1000 #ms"
   ]
  },
  {
   "cell_type": "code",
   "execution_count": 5,
   "id": "2eac51fe",
   "metadata": {},
   "outputs": [
    {
     "name": "stderr",
     "output_type": "stream",
     "text": [
      "C:\\Users\\cri98\\anaconda3\\lib\\site-packages\\sktime\\datatypes\\_series\\_check.py:43: FutureWarning: pandas.Int64Index is deprecated and will be removed from pandas in a future version. Use pandas.Index with the appropriate dtype instead.\n",
      "  VALID_INDEX_TYPES = (pd.Int64Index, pd.RangeIndex, pd.PeriodIndex, pd.DatetimeIndex)\n",
      "C:\\Users\\cri98\\anaconda3\\lib\\site-packages\\sktime\\datatypes\\_hierarchical\\_check.py:50: FutureWarning: pandas.Int64Index is deprecated and will be removed from pandas in a future version. Use pandas.Index with the appropriate dtype instead.\n",
      "  VALID_INDEX_TYPES = (pd.Int64Index, pd.RangeIndex, pd.PeriodIndex, pd.DatetimeIndex)\n",
      "C:\\Users\\cri98\\anaconda3\\lib\\site-packages\\sktime\\datatypes\\_hierarchical\\_check.py:51: FutureWarning: pandas.Int64Index is deprecated and will be removed from pandas in a future version. Use pandas.Index with the appropriate dtype instead.\n",
      "  VALID_MULTIINDEX_TYPES = (pd.Int64Index, pd.RangeIndex)\n",
      "C:\\Users\\cri98\\anaconda3\\lib\\site-packages\\sktime\\datatypes\\_panel\\_check.py:48: FutureWarning: pandas.Int64Index is deprecated and will be removed from pandas in a future version. Use pandas.Index with the appropriate dtype instead.\n",
      "  VALID_INDEX_TYPES = (pd.Int64Index, pd.RangeIndex, pd.PeriodIndex, pd.DatetimeIndex)\n",
      "C:\\Users\\cri98\\anaconda3\\lib\\site-packages\\sktime\\datatypes\\_panel\\_check.py:49: FutureWarning: pandas.Int64Index is deprecated and will be removed from pandas in a future version. Use pandas.Index with the appropriate dtype instead.\n",
      "  VALID_MULTIINDEX_TYPES = (pd.Int64Index, pd.RangeIndex)\n",
      "C:\\Users\\cri98\\anaconda3\\lib\\site-packages\\sktime\\datatypes\\_proba\\_check.py:43: FutureWarning: pandas.Int64Index is deprecated and will be removed from pandas in a future version. Use pandas.Index with the appropriate dtype instead.\n",
      "  VALID_INDEX_TYPES = (pd.Int64Index, pd.RangeIndex, pd.PeriodIndex, pd.DatetimeIndex)\n"
     ]
    }
   ],
   "source": [
    "start = datetime.now()\n",
    "\n",
    "from sktime.transformations.panel.rocket import Rocket\n",
    "from sktime.datatypes._panel._convert import from_2d_array_to_nested\n",
    "\n",
    "nested_lat = from_2d_array_to_nested(df_lat).rename(columns={0: \"dim_0\"})\n",
    "nested_lon = from_2d_array_to_nested(df_lon).rename(columns={0: \"dim_0\"})\n",
    "nested_time = from_2d_array_to_nested(df_time).rename(columns={0: \"dim_0\"})\n",
    "\n",
    "\n",
    "nested = nested_lat\n",
    "#nested = nested_UTMGridNorth\n",
    "\n",
    "nested[\"dim_1\"] = nested_lon[\"dim_0\"]\n",
    "nested[\"dim_2\"] = nested_time[\"dim_0\"]\n",
    "\n",
    "nested.head()\n",
    "\n",
    "y = df0.groupby(['tid'])['class'].max()\n",
    "\n",
    "t_rocket = (datetime.now() - start).total_seconds() * 1000 #ms"
   ]
  },
  {
   "cell_type": "code",
   "execution_count": null,
   "id": "0475a925",
   "metadata": {},
   "outputs": [],
   "source": []
  },
  {
   "cell_type": "code",
   "execution_count": null,
   "id": "cb45db90",
   "metadata": {},
   "outputs": [],
   "source": []
  },
  {
   "cell_type": "code",
   "execution_count": 11,
   "id": "d86eb1f4",
   "metadata": {},
   "outputs": [],
   "source": [
    "start = datetime.now()\n",
    "\n",
    "from sklearn.model_selection import train_test_split\n",
    "X_train, X_test, y_train, y_test = train_test_split(nested, y, test_size=.3, stratify=y)\n",
    "\n",
    "rocket = Rocket(n_jobs=-1, num_kernels=10000)  # by default, ROCKET uses 10,000 kernels\n",
    "rocket.fit(X_train)\n",
    "X_train_transform = rocket.transform(X_train)\n",
    "X_test_transform = rocket.transform(X_test)\n",
    "\n",
    "t_rocket = (datetime.now() - start).total_seconds() * 1000 #ms"
   ]
  },
  {
   "cell_type": "code",
   "execution_count": 7,
   "id": "1979b654",
   "metadata": {},
   "outputs": [
    {
     "name": "stdout",
     "output_type": "stream",
     "text": [
      "Fitting 10 folds for each of 32 candidates, totalling 320 fits\n",
      "Model with rank: 1\n",
      "Mean validation score: 0.811 (std: 0.163)\n",
      "Parameters: {'criterion': 'entropy', 'max_depth': 17, 'n_estimators': 600}\n",
      "\n",
      "Model with rank: 1\n",
      "Mean validation score: 0.811 (std: 0.159)\n",
      "Parameters: {'criterion': 'gini', 'max_depth': 12, 'n_estimators': 300}\n",
      "\n",
      "Model with rank: 1\n",
      "Mean validation score: 0.811 (std: 0.159)\n",
      "Parameters: {'criterion': 'gini', 'max_depth': 12, 'n_estimators': 1200}\n",
      "\n",
      "Model with rank: 1\n",
      "Mean validation score: 0.811 (std: 0.159)\n",
      "Parameters: {'criterion': 'gini', 'max_depth': 17, 'n_estimators': 1200}\n",
      "\n"
     ]
    }
   ],
   "source": [
    "from sklearn.ensemble import RandomForestClassifier\n",
    "from sklearn import tree\n",
    "\n",
    "def report(results, n_top=3):\n",
    "    for i in range(1, n_top + 1):\n",
    "        candidates = np.flatnonzero(results['rank_test_score'] == i)\n",
    "        for candidate in candidates:\n",
    "            print(\"Model with rank: {0}\".format(i))\n",
    "            print(\"Mean validation score: {0:.3f} (std: {1:.3f})\".format(\n",
    "                results['mean_test_score'][candidate],\n",
    "                results['std_test_score'][candidate]))\n",
    "            print(\"Parameters: {0}\".format(results['params'][candidate]))\n",
    "            print(\"\")\n",
    "\n",
    "from sklearn.model_selection import GridSearchCV\n",
    "parameters = {'n_estimators': range(300, 1500, 300),\n",
    "              'criterion':[\"entropy\", \"gini\"],\n",
    "              'max_depth': range(2, 20, 5)}\n",
    "\n",
    "clf = GridSearchCV(RandomForestClassifier(n_jobs=1), parameters, cv=10, n_jobs=24, verbose=3, scoring=\"balanced_accuracy\")\n",
    "\n",
    "clf.fit(X_train_transform, y_train)\n",
    "\n",
    "report(clf.cv_results_, n_top=3)"
   ]
  },
  {
   "cell_type": "code",
   "execution_count": 8,
   "id": "c886a1df",
   "metadata": {},
   "outputs": [
    {
     "name": "stdout",
     "output_type": "stream",
     "text": [
      "              precision    recall  f1-score   support\n",
      "\n",
      "           C       1.00      1.00      1.00        10\n",
      "           D       0.78      0.78      0.78         9\n",
      "           E       0.83      0.83      0.83        12\n",
      "\n",
      "    accuracy                           0.87        31\n",
      "   macro avg       0.87      0.87      0.87        31\n",
      "weighted avg       0.87      0.87      0.87        31\n",
      "\n"
     ]
    }
   ],
   "source": [
    "clf = RandomForestClassifier(max_depth=12, criterion='entropy', random_state=5, n_jobs=-1, n_estimators=900)\n",
    "#clf = tree.DecisionTreeClassifier(max_depth=2)\n",
    "\n",
    "clf.fit(X_train_transform, y_train)\n",
    "\n",
    "from sklearn import metrics\n",
    "y_pred=clf.predict(X_test_transform)\n",
    "\n",
    "\n",
    "from sklearn.metrics import classification_report\n",
    "\n",
    "print(classification_report(y_test, y_pred))"
   ]
  },
  {
   "cell_type": "code",
   "execution_count": 9,
   "id": "3f149ebe",
   "metadata": {},
   "outputs": [
    {
     "name": "stdout",
     "output_type": "stream",
     "text": [
      "0.8709677419354839\n",
      "0.8709677419354839\n"
     ]
    }
   ],
   "source": [
    "from sklearn.metrics import accuracy_score, f1_score\n",
    "\n",
    "print(accuracy_score(y_test, y_pred))\n",
    "print(f1_score(y_test, y_pred, average=\"weighted\"))"
   ]
  },
  {
   "cell_type": "code",
   "execution_count": 12,
   "id": "edb36d41",
   "metadata": {},
   "outputs": [
    {
     "data": {
      "text/plain": [
       "690.504"
      ]
     },
     "execution_count": 12,
     "metadata": {},
     "output_type": "execute_result"
    }
   ],
   "source": [
    "t_rocket"
   ]
  },
  {
   "cell_type": "markdown",
   "id": "7f1476d8",
   "metadata": {},
   "source": [
    "## Movelets"
   ]
  },
  {
   "cell_type": "code",
   "execution_count": 13,
   "id": "676d4805",
   "metadata": {},
   "outputs": [
    {
     "name": "stderr",
     "output_type": "stream",
     "text": [
      "/tmp/ipykernel_40226/1032409378.py:12: SettingWithCopyWarning: \n",
      "A value is trying to be set on a copy of a slice from a DataFrame.\n",
      "Try using .loc[row_indexer,col_indexer] = value instead\n",
      "\n",
      "See the caveats in the documentation: https://pandas.pydata.org/pandas-docs/stable/user_guide/indexing.html#returning-a-view-versus-a-copy\n",
      "  df[\"latLon\"] = df[latAttr].astype(str) + \" \" + df[lonAttr].astype(str)\n"
     ]
    },
    {
     "data": {
      "application/vnd.jupyter.widget-view+json": {
       "model_id": "17627b9e3d604cce8bfee0072c8defea",
       "version_major": 2,
       "version_minor": 0
      },
      "text/plain": [
       "  0%|          | 0/71 [00:00<?, ?it/s]"
      ]
     },
     "metadata": {},
     "output_type": "display_data"
    },
    {
     "data": {
      "application/vnd.jupyter.widget-view+json": {
       "model_id": "72d9e389c79642ebbdd97656d0e4e128",
       "version_major": 2,
       "version_minor": 0
      },
      "text/plain": [
       "  0%|          | 0/31 [00:00<?, ?it/s]"
      ]
     },
     "metadata": {},
     "output_type": "display_data"
    },
    {
     "name": "stdout",
     "output_type": "stream",
     "text": [
      "[CV 8/10] END criterion=entropy, max_depth=2, n_estimators=300;, score=0.833 total time=   1.3s\n",
      "[CV 3/10] END criterion=entropy, max_depth=2, n_estimators=1200;, score=0.500 total time=   3.8s\n",
      "[CV 8/10] END criterion=entropy, max_depth=7, n_estimators=900;, score=0.833 total time=   3.3s\n",
      "[CV 6/10] END criterion=entropy, max_depth=12, n_estimators=600;, score=0.722 total time=   2.3s\n",
      "[CV 10/10] END criterion=entropy, max_depth=12, n_estimators=1200;, score=1.000 total time=   4.3s\n",
      "[CV 8/10] END criterion=entropy, max_depth=17, n_estimators=1200;, score=0.833 total time=   4.2s\n",
      "[CV 3/10] END criterion=gini, max_depth=7, n_estimators=300;, score=0.500 total time=   1.1s\n",
      "[CV 1/10] END criterion=gini, max_depth=7, n_estimators=600;, score=1.000 total time=   1.9s\n",
      "[CV 5/10] END criterion=gini, max_depth=7, n_estimators=1200;, score=0.722 total time=   3.3s\n",
      "[CV 10/10] END criterion=gini, max_depth=12, n_estimators=900;, score=1.000 total time=   2.6s\n",
      "[CV 8/10] END criterion=gini, max_depth=17, n_estimators=600;, score=0.833 total time=   1.8s\n",
      "[CV 9/10] END criterion=entropy, max_depth=2, n_estimators=300;, score=0.833 total time=   1.3s\n",
      "[CV 4/10] END criterion=entropy, max_depth=2, n_estimators=1200;, score=0.889 total time=   3.7s\n",
      "[CV 7/10] END criterion=entropy, max_depth=7, n_estimators=900;, score=0.833 total time=   3.3s\n",
      "[CV 5/10] END criterion=entropy, max_depth=12, n_estimators=600;, score=0.722 total time=   2.3s\n",
      "[CV 9/10] END criterion=entropy, max_depth=12, n_estimators=1200;, score=0.833 total time=   4.2s\n",
      "[CV 6/10] END criterion=entropy, max_depth=17, n_estimators=1200;, score=0.722 total time=   4.1s\n",
      "[CV 10/10] END criterion=gini, max_depth=2, n_estimators=1200;, score=0.889 total time=   3.0s\n",
      "[CV 4/10] END criterion=gini, max_depth=7, n_estimators=1200;, score=0.889 total time=   3.4s\n",
      "[CV 8/10] END criterion=gini, max_depth=12, n_estimators=900;, score=0.667 total time=   2.6s\n",
      "[CV 6/10] END criterion=gini, max_depth=17, n_estimators=600;, score=0.722 total time=   1.9s\n",
      "[CV 4/10] END criterion=entropy, max_depth=2, n_estimators=300;, score=0.889 total time=   1.2s\n",
      "[CV 6/10] END criterion=entropy, max_depth=2, n_estimators=900;, score=0.722 total time=   2.7s\n",
      "[CV 5/10] END criterion=entropy, max_depth=7, n_estimators=600;, score=0.722 total time=   2.2s\n",
      "[CV 10/10] END criterion=entropy, max_depth=7, n_estimators=1200;, score=1.000 total time=   4.0s\n",
      "[CV 2/10] END criterion=entropy, max_depth=12, n_estimators=1200;, score=0.611 total time=   4.0s\n",
      "[CV 7/10] END criterion=entropy, max_depth=17, n_estimators=900;, score=0.833 total time=   3.1s\n",
      "[CV 7/10] END criterion=gini, max_depth=2, n_estimators=600;, score=0.833 total time=   1.7s\n",
      "[CV 8/10] END criterion=gini, max_depth=2, n_estimators=1200;, score=0.667 total time=   2.8s\n",
      "[CV 9/10] END criterion=gini, max_depth=7, n_estimators=900;, score=0.833 total time=   2.5s\n",
      "[CV 7/10] END criterion=gini, max_depth=12, n_estimators=600;, score=0.833 total time=   1.8s\n",
      "[CV 1/10] END criterion=gini, max_depth=17, n_estimators=300;, score=0.889 total time=   1.1s\n",
      "[CV 5/10] END criterion=gini, max_depth=17, n_estimators=300;, score=0.722 total time=   1.1s\n",
      "[CV 9/10] END criterion=gini, max_depth=17, n_estimators=600;, score=0.833 total time=   1.9s\n",
      "[CV 10/10] END criterion=entropy, max_depth=2, n_estimators=600;, score=1.000 total time=   2.0s\n",
      "[CV 9/10] END criterion=entropy, max_depth=2, n_estimators=1200;, score=0.833 total time=   3.5s\n",
      "[CV 3/10] END criterion=entropy, max_depth=7, n_estimators=1200;, score=0.500 total time=   3.9s\n",
      "[CV 5/10] END criterion=entropy, max_depth=12, n_estimators=900;, score=0.722 total time=   3.1s\n",
      "[CV 3/10] END criterion=entropy, max_depth=17, n_estimators=600;, score=0.500 total time=   2.2s\n",
      "[CV 5/10] END criterion=entropy, max_depth=17, n_estimators=1200;, score=0.722 total time=   4.0s\n",
      "[CV 5/10] END criterion=gini, max_depth=2, n_estimators=1200;, score=0.722 total time=   3.0s\n",
      "[CV 10/10] END criterion=gini, max_depth=7, n_estimators=900;, score=1.000 total time=   2.6s\n",
      "[CV 8/10] END criterion=gini, max_depth=12, n_estimators=600;, score=0.667 total time=   1.8s\n",
      "[CV 2/10] END criterion=gini, max_depth=17, n_estimators=300;, score=0.611 total time=   1.0s\n",
      "[CV 6/10] END criterion=gini, max_depth=17, n_estimators=300;, score=0.722 total time=   1.1s\n",
      "[CV 10/10] END criterion=gini, max_depth=17, n_estimators=600;, score=1.000 total time=   1.8s\n",
      "[CV 2/10] END criterion=entropy, max_depth=2, n_estimators=900;, score=0.611 total time=   2.8s\n",
      "[CV 6/10] END criterion=entropy, max_depth=7, n_estimators=300;, score=0.722 total time=   1.3s\n",
      "[CV 10/10] END criterion=entropy, max_depth=7, n_estimators=600;, score=1.000 total time=   2.2s\n",
      "[CV 3/10] END criterion=entropy, max_depth=12, n_estimators=300;, score=0.500 total time=   1.3s\n",
      "[CV 9/10] END criterion=entropy, max_depth=12, n_estimators=300;, score=0.833 total time=   1.3s\n",
      "[CV 3/10] END criterion=entropy, max_depth=12, n_estimators=900;, score=0.667 total time=   3.1s\n",
      "[CV 5/10] END criterion=entropy, max_depth=17, n_estimators=300;, score=0.722 total time=   1.2s\n",
      "[CV 9/10] END criterion=entropy, max_depth=17, n_estimators=600;, score=0.833 total time=   2.2s\n",
      "[CV 3/10] END criterion=gini, max_depth=2, n_estimators=300;, score=0.500 total time=   0.9s\n",
      "[CV 7/10] END criterion=gini, max_depth=2, n_estimators=300;, score=0.833 total time=   1.0s\n",
      "[CV 1/10] END criterion=gini, max_depth=2, n_estimators=900;, score=1.000 total time=   2.3s\n",
      "[CV 5/10] END criterion=gini, max_depth=7, n_estimators=300;, score=0.722 total time=   1.1s\n",
      "[CV 9/10] END criterion=gini, max_depth=7, n_estimators=600;, score=0.833 total time=   1.8s\n",
      "[CV 2/10] END criterion=gini, max_depth=12, n_estimators=300;, score=0.611 total time=   1.0s\n",
      "[CV 8/10] END criterion=gini, max_depth=12, n_estimators=300;, score=0.833 total time=   1.1s\n",
      "[CV 2/10] END criterion=gini, max_depth=12, n_estimators=900;, score=0.611 total time=   2.5s\n",
      "[CV 7/10] END criterion=gini, max_depth=17, n_estimators=300;, score=0.833 total time=   1.1s\n",
      "[CV 1/10] END criterion=gini, max_depth=17, n_estimators=900;, score=1.000 total time=   2.3s\n",
      "[CV 5/10] END criterion=entropy, max_depth=2, n_estimators=300;, score=0.722 total time=   1.2s\n",
      "[CV 9/10] END criterion=entropy, max_depth=2, n_estimators=900;, score=0.833 total time=   2.7s\n",
      "[CV 7/10] END criterion=entropy, max_depth=7, n_estimators=600;, score=0.833 total time=   2.3s\n",
      "[CV 2/10] END criterion=entropy, max_depth=12, n_estimators=300;, score=0.611 total time=   1.3s\n",
      "[CV 8/10] END criterion=entropy, max_depth=12, n_estimators=300;, score=0.833 total time=   1.3s\n",
      "[CV 10/10] END criterion=entropy, max_depth=12, n_estimators=600;, score=1.000 total time=   2.2s\n",
      "[CV 4/10] END criterion=entropy, max_depth=17, n_estimators=300;, score=0.889 total time=   1.3s\n",
      "[CV 2/10] END criterion=entropy, max_depth=17, n_estimators=600;, score=0.611 total time=   2.2s\n",
      "[CV 3/10] END criterion=entropy, max_depth=17, n_estimators=1200;, score=0.667 total time=   4.0s\n",
      "[CV 8/10] END criterion=gini, max_depth=2, n_estimators=900;, score=0.833 total time=   2.4s\n",
      "[CV 8/10] END criterion=gini, max_depth=7, n_estimators=600;, score=0.833 total time=   1.8s\n",
      "[CV 1/10] END criterion=gini, max_depth=12, n_estimators=300;, score=1.000 total time=   1.1s\n",
      "[CV 7/10] END criterion=gini, max_depth=12, n_estimators=300;, score=0.833 total time=   1.1s\n",
      "[CV 1/10] END criterion=gini, max_depth=12, n_estimators=900;, score=1.000 total time=   2.6s\n",
      "[CV 8/10] END criterion=gini, max_depth=17, n_estimators=300;, score=0.667 total time=   1.2s\n",
      "[CV 2/10] END criterion=gini, max_depth=17, n_estimators=900;, score=0.611 total time=   2.2s\n",
      "[CV 7/10] END criterion=entropy, max_depth=2, n_estimators=300;, score=0.833 total time=   1.2s\n",
      "[CV 1/10] END criterion=entropy, max_depth=2, n_estimators=1200;, score=1.000 total time=   3.5s\n",
      "[CV 3/10] END criterion=entropy, max_depth=7, n_estimators=900;, score=0.667 total time=   3.1s\n",
      "[CV 10/10] END criterion=entropy, max_depth=12, n_estimators=300;, score=0.889 total time=   1.3s\n",
      "[CV 4/10] END criterion=entropy, max_depth=12, n_estimators=900;, score=1.000 total time=   3.2s\n",
      "[CV 1/10] END criterion=entropy, max_depth=17, n_estimators=600;, score=1.000 total time=   2.3s\n",
      "[CV 4/10] END criterion=entropy, max_depth=17, n_estimators=1200;, score=0.889 total time=   4.0s\n",
      "[CV 10/10] END criterion=gini, max_depth=2, n_estimators=900;, score=1.000 total time=   2.2s\n",
      "[CV 7/10] END criterion=gini, max_depth=7, n_estimators=600;, score=0.833 total time=   1.9s\n",
      "[CV 3/10] END criterion=gini, max_depth=12, n_estimators=300;, score=0.667 total time=   1.1s\n",
      "[CV 9/10] END criterion=gini, max_depth=12, n_estimators=300;, score=0.833 total time=   1.1s\n",
      "[CV 3/10] END criterion=gini, max_depth=12, n_estimators=900;, score=0.500 total time=   2.5s\n",
      "[CV 9/10] END criterion=gini, max_depth=17, n_estimators=300;, score=0.833 total time=   1.1s\n",
      "[CV 4/10] END criterion=gini, max_depth=17, n_estimators=900;, score=0.889 total time=   2.4s\n",
      "[CV 6/10] END criterion=entropy, max_depth=2, n_estimators=300;, score=0.722 total time=   1.2s\n",
      "[CV 10/10] END criterion=entropy, max_depth=2, n_estimators=900;, score=0.889 total time=   2.7s\n",
      "[CV 8/10] END criterion=entropy, max_depth=7, n_estimators=600;, score=0.667 total time=   2.2s\n",
      "[CV 1/10] END criterion=entropy, max_depth=12, n_estimators=300;, score=1.000 total time=   1.3s\n",
      "[CV 5/10] END criterion=entropy, max_depth=12, n_estimators=300;, score=0.722 total time=   1.4s\n",
      "[CV 1/10] END criterion=entropy, max_depth=12, n_estimators=900;, score=1.000 total time=   3.3s\n",
      "[CV 7/10] END criterion=entropy, max_depth=17, n_estimators=300;, score=0.833 total time=   1.4s\n",
      "[CV 2/10] END criterion=entropy, max_depth=17, n_estimators=900;, score=0.611 total time=   3.2s\n",
      "[CV 10/10] END criterion=gini, max_depth=2, n_estimators=300;, score=1.000 total time=   1.0s\n",
      "[CV 4/10] END criterion=gini, max_depth=2, n_estimators=900;, score=0.889 total time=   2.2s\n",
      "[CV 8/10] END criterion=gini, max_depth=7, n_estimators=300;, score=0.833 total time=   1.1s\n",
      "[CV 2/10] END criterion=gini, max_depth=7, n_estimators=900;, score=0.611 total time=   2.5s\n",
      "[CV 6/10] END criterion=gini, max_depth=12, n_estimators=300;, score=0.722 total time=   1.0s\n",
      "[CV 9/10] END criterion=gini, max_depth=12, n_estimators=600;, score=0.833 total time=   1.8s\n",
      "[CV 3/10] END criterion=gini, max_depth=17, n_estimators=300;, score=0.667 total time=   1.1s\n",
      "[CV 10/10] END criterion=gini, max_depth=17, n_estimators=300;, score=1.000 total time=   1.1s\n",
      "[CV 3/10] END criterion=gini, max_depth=17, n_estimators=900;, score=0.667 total time=   2.5s\n",
      "[CV 3/10] END criterion=entropy, max_depth=2, n_estimators=900;, score=0.500 total time=   2.9s\n",
      "[CV 8/10] END criterion=entropy, max_depth=7, n_estimators=300;, score=0.833 total time=   1.3s\n",
      "[CV 2/10] END criterion=entropy, max_depth=7, n_estimators=900;, score=0.611 total time=   3.1s\n",
      "[CV 7/10] END criterion=entropy, max_depth=12, n_estimators=300;, score=0.833 total time=   1.3s\n",
      "[CV 9/10] END criterion=entropy, max_depth=12, n_estimators=600;, score=0.833 total time=   2.2s\n",
      "[CV 3/10] END criterion=entropy, max_depth=17, n_estimators=300;, score=0.667 total time=   1.3s\n",
      "[CV 10/10] END criterion=entropy, max_depth=17, n_estimators=300;, score=1.000 total time=   1.3s\n",
      "[CV 3/10] END criterion=entropy, max_depth=17, n_estimators=900;, score=0.500 total time=   3.1s\n",
      "[CV 1/10] END criterion=gini, max_depth=2, n_estimators=600;, score=1.000 total time=   1.5s\n",
      "[CV 5/10] END criterion=gini, max_depth=2, n_estimators=900;, score=0.722 total time=   2.3s\n",
      "[CV 3/10] END criterion=gini, max_depth=7, n_estimators=600;, score=0.667 total time=   1.8s\n",
      "[CV 7/10] END criterion=gini, max_depth=7, n_estimators=1200;, score=0.833 total time=   3.3s\n",
      "[CV 3/10] END criterion=gini, max_depth=12, n_estimators=1200;, score=0.500 total time=   3.2s\n",
      "[CV 8/10] END criterion=gini, max_depth=17, n_estimators=900;, score=0.833 total time=   2.2s\n"
     ]
    },
    {
     "name": "stdout",
     "output_type": "stream",
     "text": [
      "[CV 7/10] END criterion=entropy, max_depth=2, n_estimators=600;, score=0.833 total time=   2.1s\n",
      "[CV 3/10] END criterion=entropy, max_depth=7, n_estimators=300;, score=0.667 total time=   1.4s\n",
      "[CV 10/10] END criterion=entropy, max_depth=7, n_estimators=300;, score=1.000 total time=   1.3s\n",
      "[CV 6/10] END criterion=entropy, max_depth=7, n_estimators=900;, score=0.722 total time=   3.1s\n",
      "[CV 4/10] END criterion=entropy, max_depth=12, n_estimators=600;, score=0.889 total time=   2.2s\n",
      "[CV 8/10] END criterion=entropy, max_depth=12, n_estimators=1200;, score=0.667 total time=   4.0s\n",
      "[CV 2/10] END criterion=entropy, max_depth=17, n_estimators=1200;, score=0.611 total time=   4.0s\n",
      "[CV 6/10] END criterion=gini, max_depth=2, n_estimators=900;, score=0.722 total time=   2.3s\n",
      "[CV 4/10] END criterion=gini, max_depth=7, n_estimators=600;, score=0.889 total time=   1.8s\n",
      "[CV 8/10] END criterion=gini, max_depth=7, n_estimators=1200;, score=0.833 total time=   3.2s\n",
      "[CV 1/10] END criterion=gini, max_depth=12, n_estimators=1200;, score=1.000 total time=   3.3s\n",
      "[CV 5/10] END criterion=gini, max_depth=17, n_estimators=900;, score=0.722 total time=   2.4s\n",
      "[CV 5/10] END criterion=entropy, max_depth=2, n_estimators=600;, score=0.722 total time=   2.1s\n",
      "[CV 2/10] END criterion=entropy, max_depth=7, n_estimators=300;, score=0.611 total time=   1.4s\n",
      "[CV 9/10] END criterion=entropy, max_depth=7, n_estimators=300;, score=0.833 total time=   1.3s\n",
      "[CV 5/10] END criterion=entropy, max_depth=7, n_estimators=900;, score=0.722 total time=   3.1s\n",
      "[CV 3/10] END criterion=entropy, max_depth=12, n_estimators=600;, score=0.500 total time=   2.2s\n",
      "[CV 7/10] END criterion=entropy, max_depth=12, n_estimators=1200;, score=0.833 total time=   4.1s\n",
      "[CV 1/10] END criterion=entropy, max_depth=17, n_estimators=1200;, score=1.000 total time=   4.1s\n",
      "[CV 7/10] END criterion=gini, max_depth=2, n_estimators=900;, score=0.833 total time=   2.3s\n",
      "[CV 5/10] END criterion=gini, max_depth=7, n_estimators=600;, score=0.722 total time=   1.8s\n",
      "[CV 9/10] END criterion=gini, max_depth=7, n_estimators=1200;, score=0.833 total time=   3.2s\n",
      "[CV 2/10] END criterion=gini, max_depth=12, n_estimators=1200;, score=0.611 total time=   3.2s\n",
      "[CV 6/10] END criterion=gini, max_depth=17, n_estimators=900;, score=0.722 total time=   2.5s\n",
      "[CV 4/10] END criterion=entropy, max_depth=2, n_estimators=900;, score=0.889 total time=   2.8s\n",
      "[CV 7/10] END criterion=entropy, max_depth=7, n_estimators=300;, score=0.833 total time=   1.3s\n",
      "[CV 1/10] END criterion=entropy, max_depth=7, n_estimators=900;, score=1.000 total time=   3.2s\n",
      "[CV 6/10] END criterion=entropy, max_depth=12, n_estimators=300;, score=0.722 total time=   1.4s\n",
      "[CV 2/10] END criterion=entropy, max_depth=12, n_estimators=900;, score=0.611 total time=   3.2s\n",
      "[CV 6/10] END criterion=entropy, max_depth=17, n_estimators=300;, score=0.722 total time=   1.4s\n",
      "[CV 1/10] END criterion=entropy, max_depth=17, n_estimators=900;, score=1.000 total time=   3.3s\n",
      "[CV 2/10] END criterion=gini, max_depth=2, n_estimators=600;, score=0.611 total time=   1.7s\n",
      "[CV 9/10] END criterion=gini, max_depth=2, n_estimators=900;, score=0.833 total time=   2.2s\n",
      "[CV 6/10] END criterion=gini, max_depth=7, n_estimators=600;, score=0.722 total time=   1.8s\n",
      "[CV 10/10] END criterion=gini, max_depth=7, n_estimators=1200;, score=1.000 total time=   3.3s\n",
      "[CV 6/10] END criterion=gini, max_depth=12, n_estimators=1200;, score=0.722 total time=   3.3s\n",
      "[CV 10/10] END criterion=gini, max_depth=17, n_estimators=900;, score=1.000 total time=   2.3s\n",
      "[CV 9/10] END criterion=entropy, max_depth=2, n_estimators=600;, score=0.833 total time=   2.0s\n",
      "[CV 7/10] END criterion=entropy, max_depth=2, n_estimators=1200;, score=0.833 total time=   3.5s\n",
      "[CV 2/10] END criterion=entropy, max_depth=7, n_estimators=1200;, score=0.611 total time=   4.0s\n",
      "[CV 6/10] END criterion=entropy, max_depth=12, n_estimators=900;, score=0.722 total time=   3.2s\n",
      "[CV 4/10] END criterion=entropy, max_depth=17, n_estimators=600;, score=0.889 total time=   2.2s\n",
      "[CV 7/10] END criterion=entropy, max_depth=17, n_estimators=1200;, score=0.833 total time=   4.2s\n",
      "[CV 1/10] END criterion=gini, max_depth=7, n_estimators=300;, score=1.000 total time=   1.1s\n",
      "[CV 9/10] END criterion=gini, max_depth=7, n_estimators=300;, score=0.833 total time=   1.1s\n",
      "[CV 3/10] END criterion=gini, max_depth=7, n_estimators=900;, score=0.667 total time=   2.6s\n",
      "[CV 1/10] END criterion=gini, max_depth=12, n_estimators=600;, score=1.000 total time=   1.8s\n",
      "[CV 4/10] END criterion=gini, max_depth=12, n_estimators=1200;, score=0.889 total time=   3.2s\n",
      "[CV 9/10] END criterion=gini, max_depth=17, n_estimators=900;, score=0.833 total time=   2.5s\n",
      "[CV 8/10] END criterion=entropy, max_depth=2, n_estimators=600;, score=0.667 total time=   2.0s\n",
      "[CV 8/10] END criterion=entropy, max_depth=2, n_estimators=1200;, score=0.833 total time=   3.5s\n",
      "[CV 1/10] END criterion=entropy, max_depth=7, n_estimators=1200;, score=1.000 total time=   4.1s\n",
      "[CV 7/10] END criterion=entropy, max_depth=12, n_estimators=900;, score=0.833 total time=   3.3s\n",
      "[CV 5/10] END criterion=entropy, max_depth=17, n_estimators=600;, score=0.722 total time=   2.2s\n",
      "[CV 9/10] END criterion=entropy, max_depth=17, n_estimators=1200;, score=0.833 total time=   4.1s\n",
      "[CV 2/10] END criterion=gini, max_depth=7, n_estimators=300;, score=0.611 total time=   1.1s\n",
      "[CV 10/10] END criterion=gini, max_depth=7, n_estimators=300;, score=1.000 total time=   1.1s\n",
      "[CV 4/10] END criterion=gini, max_depth=7, n_estimators=900;, score=0.889 total time=   2.5s\n",
      "[CV 2/10] END criterion=gini, max_depth=12, n_estimators=600;, score=0.611 total time=   1.8s\n",
      "[CV 5/10] END criterion=gini, max_depth=12, n_estimators=1200;, score=0.722 total time=   3.2s\n",
      "[CV 7/10] END criterion=gini, max_depth=17, n_estimators=900;, score=0.833 total time=   2.5s\n",
      "[CV 1/10] END criterion=entropy, max_depth=2, n_estimators=300;, score=1.000 total time=   1.2s\n",
      "[CV 5/10] END criterion=entropy, max_depth=2, n_estimators=900;, score=0.722 total time=   2.7s\n",
      "[CV 3/10] END criterion=entropy, max_depth=7, n_estimators=600;, score=0.667 total time=   2.2s\n",
      "[CV 7/10] END criterion=entropy, max_depth=7, n_estimators=1200;, score=0.833 total time=   4.1s\n",
      "[CV 3/10] END criterion=entropy, max_depth=12, n_estimators=1200;, score=0.500 total time=   4.0s\n",
      "[CV 8/10] END criterion=entropy, max_depth=17, n_estimators=900;, score=0.667 total time=   3.1s\n",
      "[CV 8/10] END criterion=gini, max_depth=2, n_estimators=600;, score=0.667 total time=   1.6s\n",
      "[CV 4/10] END criterion=gini, max_depth=2, n_estimators=1200;, score=0.889 total time=   3.0s\n",
      "[CV 1/10] END criterion=gini, max_depth=7, n_estimators=1200;, score=1.000 total time=   3.2s\n",
      "[CV 5/10] END criterion=gini, max_depth=12, n_estimators=900;, score=0.722 total time=   2.5s\n",
      "[CV 1/10] END criterion=gini, max_depth=17, n_estimators=600;, score=1.000 total time=   1.8s\n",
      "[CV 4/10] END criterion=gini, max_depth=17, n_estimators=1200;, score=0.889 total time=   2.6s\n",
      "[CV 2/10] END criterion=entropy, max_depth=2, n_estimators=600;, score=0.611 total time=   2.1s\n",
      "[CV 1/10] END criterion=entropy, max_depth=7, n_estimators=300;, score=1.000 total time=   1.4s\n",
      "[CV 1/10] END criterion=entropy, max_depth=7, n_estimators=600;, score=1.000 total time=   2.3s\n",
      "[CV 6/10] END criterion=entropy, max_depth=7, n_estimators=1200;, score=0.722 total time=   3.9s\n",
      "[CV 10/10] END criterion=entropy, max_depth=12, n_estimators=900;, score=1.000 total time=   3.2s\n",
      "[CV 7/10] END criterion=entropy, max_depth=17, n_estimators=600;, score=0.833 total time=   2.2s\n",
      "[CV 1/10] END criterion=gini, max_depth=2, n_estimators=300;, score=1.000 total time=   0.9s\n",
      "[CV 5/10] END criterion=gini, max_depth=2, n_estimators=300;, score=0.722 total time=   0.9s\n",
      "[CV 4/10] END criterion=gini, max_depth=2, n_estimators=600;, score=0.889 total time=   1.6s\n",
      "[CV 2/10] END criterion=gini, max_depth=2, n_estimators=1200;, score=0.611 total time=   2.9s\n",
      "[CV 6/10] END criterion=gini, max_depth=7, n_estimators=900;, score=0.722 total time=   2.5s\n",
      "[CV 3/10] END criterion=gini, max_depth=12, n_estimators=600;, score=0.500 total time=   1.8s\n",
      "[CV 7/10] END criterion=gini, max_depth=12, n_estimators=1200;, score=0.833 total time=   3.3s\n",
      "[CV 2/10] END criterion=gini, max_depth=17, n_estimators=1200;, score=0.611 total time=   2.7s\n",
      "[CV 1/10] END criterion=entropy, max_depth=2, n_estimators=900;, score=1.000 total time=   2.8s\n",
      "[CV 5/10] END criterion=entropy, max_depth=7, n_estimators=300;, score=0.722 total time=   1.3s\n",
      "[CV 9/10] END criterion=entropy, max_depth=7, n_estimators=600;, score=0.833 total time=   2.3s\n",
      "[CV 4/10] END criterion=entropy, max_depth=12, n_estimators=300;, score=0.889 total time=   1.3s\n",
      "[CV 1/10] END criterion=entropy, max_depth=12, n_estimators=600;, score=1.000 total time=   2.2s\n",
      "[CV 1/10] END criterion=entropy, max_depth=12, n_estimators=1200;, score=1.000 total time=   4.0s\n",
      "[CV 5/10] END criterion=entropy, max_depth=17, n_estimators=900;, score=0.722 total time=   3.1s\n",
      "[CV 3/10] END criterion=gini, max_depth=2, n_estimators=600;, score=0.667 total time=   1.6s\n",
      "[CV 1/10] END criterion=gini, max_depth=2, n_estimators=1200;, score=1.000 total time=   2.9s\n",
      "[CV 5/10] END criterion=gini, max_depth=7, n_estimators=900;, score=0.722 total time=   2.5s\n",
      "[CV 4/10] END criterion=gini, max_depth=12, n_estimators=600;, score=0.889 total time=   1.8s\n",
      "[CV 8/10] END criterion=gini, max_depth=12, n_estimators=1200;, score=0.833 total time=   3.3s\n",
      "[CV 1/10] END criterion=gini, max_depth=17, n_estimators=1200;, score=1.000 total time=   2.8s\n"
     ]
    },
    {
     "name": "stdout",
     "output_type": "stream",
     "text": [
      "[CV 3/10] END criterion=entropy, max_depth=2, n_estimators=600;, score=0.500 total time=   2.0s\n",
      "[CV 6/10] END criterion=entropy, max_depth=2, n_estimators=1200;, score=0.722 total time=   3.5s\n",
      "[CV 10/10] END criterion=entropy, max_depth=7, n_estimators=900;, score=1.000 total time=   3.1s\n",
      "[CV 8/10] END criterion=entropy, max_depth=12, n_estimators=600;, score=0.667 total time=   2.2s\n",
      "[CV 1/10] END criterion=entropy, max_depth=17, n_estimators=300;, score=1.000 total time=   1.3s\n",
      "[CV 9/10] END criterion=entropy, max_depth=17, n_estimators=300;, score=0.833 total time=   1.3s\n",
      "[CV 4/10] END criterion=entropy, max_depth=17, n_estimators=900;, score=0.889 total time=   3.1s\n",
      "[CV 9/10] END criterion=gini, max_depth=2, n_estimators=300;, score=0.833 total time=   0.9s\n",
      "[CV 3/10] END criterion=gini, max_depth=2, n_estimators=900;, score=0.500 total time=   2.2s\n",
      "[CV 7/10] END criterion=gini, max_depth=7, n_estimators=300;, score=0.833 total time=   1.1s\n",
      "[CV 1/10] END criterion=gini, max_depth=7, n_estimators=900;, score=1.000 total time=   2.5s\n",
      "[CV 5/10] END criterion=gini, max_depth=12, n_estimators=300;, score=0.722 total time=   1.1s\n",
      "[CV 10/10] END criterion=gini, max_depth=12, n_estimators=600;, score=1.000 total time=   1.8s\n",
      "[CV 4/10] END criterion=gini, max_depth=17, n_estimators=300;, score=0.889 total time=   1.1s\n",
      "[CV 2/10] END criterion=gini, max_depth=17, n_estimators=600;, score=0.611 total time=   1.8s\n",
      "[CV 6/10] END criterion=gini, max_depth=17, n_estimators=1200;, score=0.722 total time=   2.7s\n",
      "[CV 3/10] END criterion=entropy, max_depth=2, n_estimators=300;, score=0.500 total time=   1.2s\n",
      "[CV 7/10] END criterion=entropy, max_depth=2, n_estimators=900;, score=0.833 total time=   2.7s\n",
      "[CV 4/10] END criterion=entropy, max_depth=7, n_estimators=600;, score=0.889 total time=   2.2s\n",
      "[CV 8/10] END criterion=entropy, max_depth=7, n_estimators=1200;, score=0.667 total time=   4.1s\n",
      "[CV 5/10] END criterion=entropy, max_depth=12, n_estimators=1200;, score=0.722 total time=   4.0s\n",
      "[CV 6/10] END criterion=entropy, max_depth=17, n_estimators=900;, score=0.722 total time=   3.1s\n",
      "[CV 6/10] END criterion=gini, max_depth=2, n_estimators=600;, score=0.722 total time=   1.7s\n",
      "[CV 7/10] END criterion=gini, max_depth=2, n_estimators=1200;, score=0.833 total time=   2.8s\n",
      "[CV 8/10] END criterion=gini, max_depth=7, n_estimators=900;, score=0.833 total time=   2.5s\n",
      "[CV 6/10] END criterion=gini, max_depth=12, n_estimators=600;, score=0.722 total time=   1.8s\n",
      "[CV 10/10] END criterion=gini, max_depth=12, n_estimators=1200;, score=1.000 total time=   3.2s\n",
      "[CV 3/10] END criterion=gini, max_depth=17, n_estimators=1200;, score=0.667 total time=   2.8s\n",
      "[CV 6/10] END criterion=entropy, max_depth=2, n_estimators=600;, score=0.722 total time=   2.1s\n",
      "[CV 4/10] END criterion=entropy, max_depth=7, n_estimators=300;, score=0.889 total time=   1.4s\n",
      "[CV 2/10] END criterion=entropy, max_depth=7, n_estimators=600;, score=0.611 total time=   2.3s\n",
      "[CV 5/10] END criterion=entropy, max_depth=7, n_estimators=1200;, score=0.722 total time=   4.0s\n",
      "[CV 9/10] END criterion=entropy, max_depth=12, n_estimators=900;, score=0.833 total time=   3.2s\n",
      "[CV 8/10] END criterion=entropy, max_depth=17, n_estimators=600;, score=0.667 total time=   2.2s\n",
      "[CV 2/10] END criterion=gini, max_depth=2, n_estimators=300;, score=0.611 total time=   0.9s\n",
      "[CV 6/10] END criterion=gini, max_depth=2, n_estimators=300;, score=0.722 total time=   0.9s\n",
      "[CV 5/10] END criterion=gini, max_depth=2, n_estimators=600;, score=0.722 total time=   1.6s\n",
      "[CV 3/10] END criterion=gini, max_depth=2, n_estimators=1200;, score=0.500 total time=   2.9s\n",
      "[CV 7/10] END criterion=gini, max_depth=7, n_estimators=900;, score=0.833 total time=   2.6s\n",
      "[CV 5/10] END criterion=gini, max_depth=12, n_estimators=600;, score=0.722 total time=   1.8s\n",
      "[CV 9/10] END criterion=gini, max_depth=12, n_estimators=1200;, score=0.833 total time=   3.3s\n",
      "[CV 5/10] END criterion=gini, max_depth=17, n_estimators=1200;, score=0.722 total time=   2.8s\n",
      "[CV 1/10] END criterion=entropy, max_depth=2, n_estimators=600;, score=1.000 total time=   2.0s\n",
      "[CV 5/10] END criterion=entropy, max_depth=2, n_estimators=1200;, score=0.722 total time=   3.5s\n",
      "[CV 9/10] END criterion=entropy, max_depth=7, n_estimators=900;, score=0.833 total time=   3.1s\n",
      "[CV 7/10] END criterion=entropy, max_depth=12, n_estimators=600;, score=0.833 total time=   2.2s\n",
      "[CV 2/10] END criterion=entropy, max_depth=17, n_estimators=300;, score=0.611 total time=   1.2s\n",
      "[CV 8/10] END criterion=entropy, max_depth=17, n_estimators=300;, score=0.667 total time=   1.3s\n",
      "[CV 10/10] END criterion=entropy, max_depth=17, n_estimators=600;, score=1.000 total time=   2.2s\n",
      "[CV 4/10] END criterion=gini, max_depth=2, n_estimators=300;, score=0.889 total time=   0.9s\n",
      "[CV 8/10] END criterion=gini, max_depth=2, n_estimators=300;, score=0.833 total time=   1.0s\n",
      "[CV 2/10] END criterion=gini, max_depth=2, n_estimators=900;, score=0.611 total time=   2.3s\n",
      "[CV 6/10] END criterion=gini, max_depth=7, n_estimators=300;, score=0.722 total time=   1.1s\n",
      "[CV 10/10] END criterion=gini, max_depth=7, n_estimators=600;, score=1.000 total time=   1.8s\n",
      "[CV 4/10] END criterion=gini, max_depth=12, n_estimators=300;, score=0.889 total time=   1.1s\n",
      "[CV 10/10] END criterion=gini, max_depth=12, n_estimators=300;, score=1.000 total time=   1.1s\n",
      "[CV 4/10] END criterion=gini, max_depth=12, n_estimators=900;, score=0.889 total time=   2.6s\n",
      "[CV 3/10] END criterion=gini, max_depth=17, n_estimators=600;, score=0.500 total time=   1.8s\n",
      "[CV 7/10] END criterion=gini, max_depth=17, n_estimators=1200;, score=0.833 total time=   2.8s\n",
      "[CV 2/10] END criterion=entropy, max_depth=2, n_estimators=300;, score=0.611 total time=   1.2s\n",
      "[CV 8/10] END criterion=entropy, max_depth=2, n_estimators=900;, score=0.833 total time=   2.7s\n",
      "[CV 6/10] END criterion=entropy, max_depth=7, n_estimators=600;, score=0.722 total time=   2.2s\n",
      "[CV 9/10] END criterion=entropy, max_depth=7, n_estimators=1200;, score=0.833 total time=   4.1s\n",
      "[CV 6/10] END criterion=entropy, max_depth=12, n_estimators=1200;, score=0.722 total time=   4.0s\n",
      "[CV 9/10] END criterion=entropy, max_depth=17, n_estimators=900;, score=0.833 total time=   3.1s\n",
      "[CV 9/10] END criterion=gini, max_depth=2, n_estimators=600;, score=0.833 total time=   1.6s\n",
      "[CV 6/10] END criterion=gini, max_depth=2, n_estimators=1200;, score=0.722 total time=   3.0s\n",
      "[CV 2/10] END criterion=gini, max_depth=7, n_estimators=1200;, score=0.611 total time=   3.2s\n",
      "[CV 6/10] END criterion=gini, max_depth=12, n_estimators=900;, score=0.722 total time=   2.5s\n",
      "[CV 4/10] END criterion=gini, max_depth=17, n_estimators=600;, score=0.889 total time=   1.8s\n",
      "[CV 8/10] END criterion=gini, max_depth=17, n_estimators=1200;, score=0.667 total time=   2.8s\n",
      "[CV 10/10] END criterion=entropy, max_depth=2, n_estimators=300;, score=1.000 total time=   1.2s\n",
      "[CV 2/10] END criterion=entropy, max_depth=2, n_estimators=1200;, score=0.611 total time=   3.5s\n",
      "[CV 4/10] END criterion=entropy, max_depth=7, n_estimators=900;, score=0.889 total time=   3.2s\n",
      "[CV 2/10] END criterion=entropy, max_depth=12, n_estimators=600;, score=0.611 total time=   2.2s\n",
      "[CV 4/10] END criterion=entropy, max_depth=12, n_estimators=1200;, score=0.889 total time=   4.1s\n",
      "[CV 10/10] END criterion=entropy, max_depth=17, n_estimators=900;, score=1.000 total time=   3.2s\n",
      "[CV 10/10] END criterion=gini, max_depth=2, n_estimators=600;, score=1.000 total time=   1.6s\n",
      "[CV 9/10] END criterion=gini, max_depth=2, n_estimators=1200;, score=0.833 total time=   3.0s\n",
      "[CV 3/10] END criterion=gini, max_depth=7, n_estimators=1200;, score=0.667 total time=   3.3s\n",
      "[CV 7/10] END criterion=gini, max_depth=12, n_estimators=900;, score=0.833 total time=   2.5s\n",
      "[CV 5/10] END criterion=gini, max_depth=17, n_estimators=600;, score=0.722 total time=   1.8s\n",
      "[CV 9/10] END criterion=gini, max_depth=17, n_estimators=1200;, score=0.833 total time=   2.8s\n",
      "[CV 4/10] END criterion=entropy, max_depth=2, n_estimators=600;, score=0.889 total time=   2.1s\n",
      "[CV 10/10] END criterion=entropy, max_depth=2, n_estimators=1200;, score=1.000 total time=   3.6s\n",
      "[CV 4/10] END criterion=entropy, max_depth=7, n_estimators=1200;, score=0.889 total time=   4.1s\n",
      "[CV 8/10] END criterion=entropy, max_depth=12, n_estimators=900;, score=0.833 total time=   3.2s\n",
      "[CV 6/10] END criterion=entropy, max_depth=17, n_estimators=600;, score=0.722 total time=   2.2s\n",
      "[CV 10/10] END criterion=entropy, max_depth=17, n_estimators=1200;, score=1.000 total time=   4.2s\n",
      "[CV 4/10] END criterion=gini, max_depth=7, n_estimators=300;, score=0.889 total time=   1.1s\n",
      "[CV 2/10] END criterion=gini, max_depth=7, n_estimators=600;, score=0.611 total time=   1.8s\n",
      "[CV 6/10] END criterion=gini, max_depth=7, n_estimators=1200;, score=0.722 total time=   3.2s\n",
      "[CV 9/10] END criterion=gini, max_depth=12, n_estimators=900;, score=0.833 total time=   2.5s\n",
      "[CV 7/10] END criterion=gini, max_depth=17, n_estimators=600;, score=0.833 total time=   1.8s\n",
      "[CV 10/10] END criterion=gini, max_depth=17, n_estimators=1200;, score=1.000 total time=   2.7s\n"
     ]
    }
   ],
   "source": [
    "import random\n",
    "import os\n",
    "\n",
    "\n",
    "def prepareForShapelet(df=pd.DataFrame, trajectoryIDAttribute= None, targetAttribute=None,\n",
    "                       timestampAttribute=None, latAttr=None, lonAttr=None, trainPerc=.80, trajPerc=1.0, maxPoints=None):\n",
    "    attributes = [timestampAttribute, \"latLon\"]+ [x for x in list(df.columns) if x not in [trajectoryIDAttribute, targetAttribute, timestampAttribute, latAttr, lonAttr]] #mi assicuro di avere il timestam come primo elemento\n",
    "    if(os.path.exists(\"train\") | os.path.exists(\"test\")):\n",
    "        print(\"Le cartelle train e test esistono già!\")\n",
    "        return\n",
    "\n",
    "    df[\"latLon\"] = df[latAttr].astype(str) + \" \" + df[lonAttr].astype(str)\n",
    "\n",
    "    ids = list(df[trajectoryIDAttribute].unique())\n",
    "    #ids = random.sample(ids, round(len(ids)*trajPerc))\n",
    "    ids = ids[:round(len(ids)*trajPerc)]\n",
    "    ids_train = random.sample(ids, round(trainPerc*len(ids)))\n",
    "    ids_test = [x for x in ids if x not in ids_train]\n",
    "\n",
    "    os.makedirs(\"train\")\n",
    "    os.makedirs(\"test\")\n",
    "\n",
    "    for id in tqdm(ids_train):\n",
    "        df_id = df[df[trajectoryIDAttribute] == id]\n",
    "        classe = df_id[targetAttribute].iloc[0]\n",
    "        if maxPoints is not None:\n",
    "            df[df[trajectoryIDAttribute] == id][attributes].head(maxPoints).to_csv(F\"train/{id} s{id} c{classe}.r2\", index=False, header=False)\n",
    "        else:\n",
    "            df[df[trajectoryIDAttribute] == id][attributes].to_csv(F\"train/{id} s{id} c{classe}.r2\", index=False, header=False)\n",
    "\n",
    "    for id in tqdm(ids_test):\n",
    "        df_id = df[df[trajectoryIDAttribute] == id]\n",
    "        if maxPoints is not None:\n",
    "            df_id = df_id.head(maxPoints)\n",
    "        classe = df_id[targetAttribute].iloc[0]\n",
    "        if maxPoints is not None:\n",
    "            df[df[trajectoryIDAttribute] == id][attributes].head(maxPoints).to_csv(F\"test/{id} s{id} c{classe}.r2\", index=False, header=False)\n",
    "        else:\n",
    "            df[df[trajectoryIDAttribute] == id][attributes].to_csv(F\"test/{id} s{id} c{classe}.r2\", index=False, header=False)\n",
    "\n",
    "prepareForShapelet(df0, \"tid\", \"class\", \"t\", \"c1\", \"c2\", trainPerc=.7, trajPerc=1)"
   ]
  },
  {
   "cell_type": "code",
   "execution_count": null,
   "id": "ed3363df",
   "metadata": {},
   "outputs": [],
   "source": [
    "# 25733ms"
   ]
  },
  {
   "cell_type": "code",
   "execution_count": 13,
   "id": "0220d450",
   "metadata": {},
   "outputs": [
    {
     "data": {
      "text/html": [
       "<div>\n",
       "<style scoped>\n",
       "    .dataframe tbody tr th:only-of-type {\n",
       "        vertical-align: middle;\n",
       "    }\n",
       "\n",
       "    .dataframe tbody tr th {\n",
       "        vertical-align: top;\n",
       "    }\n",
       "\n",
       "    .dataframe thead th {\n",
       "        text-align: right;\n",
       "    }\n",
       "</style>\n",
       "<table border=\"1\" class=\"dataframe\">\n",
       "  <thead>\n",
       "    <tr style=\"text-align: right;\">\n",
       "      <th></th>\n",
       "      <th>sh_TID69_START24_SIZE2_CLASSC</th>\n",
       "      <th>sh_TID98_START110_SIZE2_CLASSC</th>\n",
       "      <th>sh_TID80_START23_SIZE1_CLASSC</th>\n",
       "      <th>sh_TID75_START90_SIZE2_CLASSC</th>\n",
       "      <th>sh_TID13_START140_SIZE13_CLASSE</th>\n",
       "      <th>sh_TID13_START7_SIZE132_CLASSE</th>\n",
       "      <th>sh_TID98_START118_SIZE2_CLASSC</th>\n",
       "      <th>sh_TID88_START99_SIZE2_CLASSC</th>\n",
       "      <th>class</th>\n",
       "    </tr>\n",
       "  </thead>\n",
       "  <tbody>\n",
       "    <tr>\n",
       "      <th>0</th>\n",
       "      <td>1.588584</td>\n",
       "      <td>1.649389</td>\n",
       "      <td>1.576020</td>\n",
       "      <td>1.611770</td>\n",
       "      <td>0.272882</td>\n",
       "      <td>3.028427e-310</td>\n",
       "      <td>1.588081</td>\n",
       "      <td>1.597207</td>\n",
       "      <td>D</td>\n",
       "    </tr>\n",
       "    <tr>\n",
       "      <th>1</th>\n",
       "      <td>0.969382</td>\n",
       "      <td>0.474057</td>\n",
       "      <td>0.896539</td>\n",
       "      <td>0.629428</td>\n",
       "      <td>1.840714</td>\n",
       "      <td>7.079885e-310</td>\n",
       "      <td>0.994866</td>\n",
       "      <td>0.711483</td>\n",
       "      <td>C</td>\n",
       "    </tr>\n",
       "    <tr>\n",
       "      <th>2</th>\n",
       "      <td>0.775535</td>\n",
       "      <td>0.922867</td>\n",
       "      <td>0.539484</td>\n",
       "      <td>0.853516</td>\n",
       "      <td>1.671193</td>\n",
       "      <td>7.079885e-310</td>\n",
       "      <td>0.777712</td>\n",
       "      <td>0.751979</td>\n",
       "      <td>C</td>\n",
       "    </tr>\n",
       "    <tr>\n",
       "      <th>3</th>\n",
       "      <td>1.244408</td>\n",
       "      <td>1.323665</td>\n",
       "      <td>1.240741</td>\n",
       "      <td>1.283351</td>\n",
       "      <td>0.998760</td>\n",
       "      <td>4.977281e-310</td>\n",
       "      <td>1.249638</td>\n",
       "      <td>1.248647</td>\n",
       "      <td>D</td>\n",
       "    </tr>\n",
       "    <tr>\n",
       "      <th>4</th>\n",
       "      <td>1.610240</td>\n",
       "      <td>1.665120</td>\n",
       "      <td>1.605926</td>\n",
       "      <td>1.629457</td>\n",
       "      <td>0.287881</td>\n",
       "      <td>2.273328e-310</td>\n",
       "      <td>1.609066</td>\n",
       "      <td>1.618398</td>\n",
       "      <td>E</td>\n",
       "    </tr>\n",
       "  </tbody>\n",
       "</table>\n",
       "</div>"
      ],
      "text/plain": [
       "   sh_TID69_START24_SIZE2_CLASSC  sh_TID98_START110_SIZE2_CLASSC  \\\n",
       "0                       1.588584                        1.649389   \n",
       "1                       0.969382                        0.474057   \n",
       "2                       0.775535                        0.922867   \n",
       "3                       1.244408                        1.323665   \n",
       "4                       1.610240                        1.665120   \n",
       "\n",
       "   sh_TID80_START23_SIZE1_CLASSC  sh_TID75_START90_SIZE2_CLASSC  \\\n",
       "0                       1.576020                       1.611770   \n",
       "1                       0.896539                       0.629428   \n",
       "2                       0.539484                       0.853516   \n",
       "3                       1.240741                       1.283351   \n",
       "4                       1.605926                       1.629457   \n",
       "\n",
       "   sh_TID13_START140_SIZE13_CLASSE  sh_TID13_START7_SIZE132_CLASSE  \\\n",
       "0                         0.272882                   3.028427e-310   \n",
       "1                         1.840714                   7.079885e-310   \n",
       "2                         1.671193                   7.079885e-310   \n",
       "3                         0.998760                   4.977281e-310   \n",
       "4                         0.287881                   2.273328e-310   \n",
       "\n",
       "   sh_TID98_START118_SIZE2_CLASSC  sh_TID88_START99_SIZE2_CLASSC class  \n",
       "0                        1.588081                       1.597207     D  \n",
       "1                        0.994866                       0.711483     C  \n",
       "2                        0.777712                       0.751979     C  \n",
       "3                        1.249638                       1.248647     D  \n",
       "4                        1.609066                       1.618398     E  "
      ]
     },
     "execution_count": 13,
     "metadata": {},
     "output_type": "execute_result"
    }
   ],
   "source": [
    "movelet_train_df = pd.read_csv(\"data/Movelet_output/train.csv\")\n",
    "movelet_test_df = pd.read_csv(\"data/Movelet_output/test.csv\")\n",
    "\n",
    "movelet_train_df.head()"
   ]
  },
  {
   "cell_type": "code",
   "execution_count": 14,
   "id": "4ced63cf",
   "metadata": {},
   "outputs": [
    {
     "data": {
      "text/html": [
       "<div>\n",
       "<style scoped>\n",
       "    .dataframe tbody tr th:only-of-type {\n",
       "        vertical-align: middle;\n",
       "    }\n",
       "\n",
       "    .dataframe tbody tr th {\n",
       "        vertical-align: top;\n",
       "    }\n",
       "\n",
       "    .dataframe thead th {\n",
       "        text-align: right;\n",
       "    }\n",
       "</style>\n",
       "<table border=\"1\" class=\"dataframe\">\n",
       "  <thead>\n",
       "    <tr style=\"text-align: right;\">\n",
       "      <th></th>\n",
       "      <th>sh_TID69_START24_SIZE2_CLASSC</th>\n",
       "      <th>sh_TID98_START110_SIZE2_CLASSC</th>\n",
       "      <th>sh_TID80_START23_SIZE1_CLASSC</th>\n",
       "      <th>sh_TID75_START90_SIZE2_CLASSC</th>\n",
       "      <th>sh_TID13_START140_SIZE13_CLASSE</th>\n",
       "      <th>sh_TID13_START7_SIZE132_CLASSE</th>\n",
       "      <th>sh_TID98_START118_SIZE2_CLASSC</th>\n",
       "      <th>sh_TID88_START99_SIZE2_CLASSC</th>\n",
       "      <th>class</th>\n",
       "    </tr>\n",
       "  </thead>\n",
       "  <tbody>\n",
       "    <tr>\n",
       "      <th>0</th>\n",
       "      <td>1.805489</td>\n",
       "      <td>1.836301</td>\n",
       "      <td>1.808063</td>\n",
       "      <td>1.817643</td>\n",
       "      <td>0.323427</td>\n",
       "      <td>4.473884e-310</td>\n",
       "      <td>1.805202</td>\n",
       "      <td>1.809469</td>\n",
       "      <td>E</td>\n",
       "    </tr>\n",
       "    <tr>\n",
       "      <th>1</th>\n",
       "      <td>1.127098</td>\n",
       "      <td>0.269020</td>\n",
       "      <td>1.138115</td>\n",
       "      <td>0.541418</td>\n",
       "      <td>1.845579</td>\n",
       "      <td>7.079885e-310</td>\n",
       "      <td>1.133103</td>\n",
       "      <td>0.753968</td>\n",
       "      <td>C</td>\n",
       "    </tr>\n",
       "    <tr>\n",
       "      <th>2</th>\n",
       "      <td>1.223616</td>\n",
       "      <td>1.304504</td>\n",
       "      <td>1.191131</td>\n",
       "      <td>1.263482</td>\n",
       "      <td>0.993015</td>\n",
       "      <td>5.586640e-310</td>\n",
       "      <td>1.228602</td>\n",
       "      <td>1.226847</td>\n",
       "      <td>D</td>\n",
       "    </tr>\n",
       "    <tr>\n",
       "      <th>3</th>\n",
       "      <td>1.233781</td>\n",
       "      <td>1.305168</td>\n",
       "      <td>1.181491</td>\n",
       "      <td>1.271689</td>\n",
       "      <td>1.660812</td>\n",
       "      <td>7.079885e-310</td>\n",
       "      <td>1.239996</td>\n",
       "      <td>1.234993</td>\n",
       "      <td>D</td>\n",
       "    </tr>\n",
       "    <tr>\n",
       "      <th>4</th>\n",
       "      <td>1.135216</td>\n",
       "      <td>0.981418</td>\n",
       "      <td>0.840591</td>\n",
       "      <td>1.174660</td>\n",
       "      <td>1.756175</td>\n",
       "      <td>7.079885e-310</td>\n",
       "      <td>1.140020</td>\n",
       "      <td>0.989248</td>\n",
       "      <td>D</td>\n",
       "    </tr>\n",
       "  </tbody>\n",
       "</table>\n",
       "</div>"
      ],
      "text/plain": [
       "   sh_TID69_START24_SIZE2_CLASSC  sh_TID98_START110_SIZE2_CLASSC  \\\n",
       "0                       1.805489                        1.836301   \n",
       "1                       1.127098                        0.269020   \n",
       "2                       1.223616                        1.304504   \n",
       "3                       1.233781                        1.305168   \n",
       "4                       1.135216                        0.981418   \n",
       "\n",
       "   sh_TID80_START23_SIZE1_CLASSC  sh_TID75_START90_SIZE2_CLASSC  \\\n",
       "0                       1.808063                       1.817643   \n",
       "1                       1.138115                       0.541418   \n",
       "2                       1.191131                       1.263482   \n",
       "3                       1.181491                       1.271689   \n",
       "4                       0.840591                       1.174660   \n",
       "\n",
       "   sh_TID13_START140_SIZE13_CLASSE  sh_TID13_START7_SIZE132_CLASSE  \\\n",
       "0                         0.323427                   4.473884e-310   \n",
       "1                         1.845579                   7.079885e-310   \n",
       "2                         0.993015                   5.586640e-310   \n",
       "3                         1.660812                   7.079885e-310   \n",
       "4                         1.756175                   7.079885e-310   \n",
       "\n",
       "   sh_TID98_START118_SIZE2_CLASSC  sh_TID88_START99_SIZE2_CLASSC class  \n",
       "0                        1.805202                       1.809469     E  \n",
       "1                        1.133103                       0.753968     C  \n",
       "2                        1.228602                       1.226847     D  \n",
       "3                        1.239996                       1.234993     D  \n",
       "4                        1.140020                       0.989248     D  "
      ]
     },
     "execution_count": 14,
     "metadata": {},
     "output_type": "execute_result"
    }
   ],
   "source": [
    "movelet_test_df.head()"
   ]
  },
  {
   "cell_type": "code",
   "execution_count": null,
   "id": "10bc9b0d",
   "metadata": {},
   "outputs": [],
   "source": []
  },
  {
   "cell_type": "code",
   "execution_count": 15,
   "id": "f8dec302",
   "metadata": {},
   "outputs": [],
   "source": [
    "X_train = movelet_train_df.values[:, :-1]\n",
    "y_train = movelet_train_df.values[:, -1]\n",
    "\n",
    "X_test = movelet_test_df.values[:, :-1]\n",
    "y_test = movelet_test_df.values[:, -1]"
   ]
  },
  {
   "cell_type": "code",
   "execution_count": 19,
   "id": "f6a04b04",
   "metadata": {},
   "outputs": [
    {
     "name": "stdout",
     "output_type": "stream",
     "text": [
      "Fitting 3 folds for each of 32 candidates, totalling 96 fits\n",
      "Model with rank: 1\n",
      "Mean validation score: 0.733 (std: 0.049)\n",
      "Parameters: {'criterion': 'entropy', 'max_depth': 7, 'n_estimators': 600}\n",
      "\n",
      "Model with rank: 1\n",
      "Mean validation score: 0.733 (std: 0.049)\n",
      "Parameters: {'criterion': 'entropy', 'max_depth': 12, 'n_estimators': 1200}\n",
      "\n",
      "Model with rank: 1\n",
      "Mean validation score: 0.733 (std: 0.049)\n",
      "Parameters: {'criterion': 'entropy', 'max_depth': 17, 'n_estimators': 600}\n",
      "\n",
      "Model with rank: 1\n",
      "Mean validation score: 0.733 (std: 0.049)\n",
      "Parameters: {'criterion': 'entropy', 'max_depth': 17, 'n_estimators': 900}\n",
      "\n",
      "Model with rank: 1\n",
      "Mean validation score: 0.733 (std: 0.049)\n",
      "Parameters: {'criterion': 'gini', 'max_depth': 7, 'n_estimators': 1200}\n",
      "\n",
      "Model with rank: 1\n",
      "Mean validation score: 0.733 (std: 0.049)\n",
      "Parameters: {'criterion': 'gini', 'max_depth': 17, 'n_estimators': 600}\n",
      "\n"
     ]
    }
   ],
   "source": [
    "from sklearn.ensemble import RandomForestClassifier\n",
    "from sklearn import tree\n",
    "\n",
    "def report(results, n_top=3):\n",
    "    for i in range(1, n_top + 1):\n",
    "        candidates = np.flatnonzero(results['rank_test_score'] == i)\n",
    "        for candidate in candidates:\n",
    "            print(\"Model with rank: {0}\".format(i))\n",
    "            print(\"Mean validation score: {0:.3f} (std: {1:.3f})\".format(\n",
    "                results['mean_test_score'][candidate],\n",
    "                results['std_test_score'][candidate]))\n",
    "            print(\"Parameters: {0}\".format(results['params'][candidate]))\n",
    "            print(\"\")\n",
    "\n",
    "from sklearn.model_selection import GridSearchCV\n",
    "parameters = {'n_estimators': range(300, 1500, 300),\n",
    "              'criterion':[\"entropy\", \"gini\"],\n",
    "              'max_depth': range(2, 20, 5)}\n",
    "\n",
    "clf = GridSearchCV(RandomForestClassifier(n_jobs=1), parameters, cv=3, n_jobs=24, verbose=3, scoring=\"accuracy\")\n",
    "\n",
    "clf.fit(X_train, y_train)\n",
    "\n",
    "report(clf.cv_results_, n_top=3)"
   ]
  },
  {
   "cell_type": "code",
   "execution_count": 20,
   "id": "ce809cd3",
   "metadata": {},
   "outputs": [
    {
     "name": "stdout",
     "output_type": "stream",
     "text": [
      "              precision    recall  f1-score   support\n",
      "\n",
      "           C       0.73      0.89      0.80         9\n",
      "           D       0.40      0.17      0.24        12\n",
      "           E       0.33      0.50      0.40        10\n",
      "\n",
      "    accuracy                           0.48        31\n",
      "   macro avg       0.49      0.52      0.48        31\n",
      "weighted avg       0.47      0.48      0.45        31\n",
      "\n"
     ]
    }
   ],
   "source": [
    "#rf = RandomForestClassifier(max_depth=7, random_state=3, n_jobs=-1, n_estimators=300, criterion=\"entropy\")\n",
    "rf = clf.best_estimator_\n",
    "\n",
    "rf.fit(X_train, y_train)\n",
    "\n",
    "from sklearn import metrics\n",
    "y_pred=rf.predict(X_test)\n",
    "\n",
    "\n",
    "from sklearn.metrics import classification_report\n",
    "\n",
    "print(classification_report(y_test, y_pred))"
   ]
  },
  {
   "cell_type": "code",
   "execution_count": null,
   "id": "151493d7",
   "metadata": {},
   "outputs": [],
   "source": []
  },
  {
   "cell_type": "code",
   "execution_count": 22,
   "id": "9aaa22b5",
   "metadata": {},
   "outputs": [
    {
     "name": "stdout",
     "output_type": "stream",
     "text": [
      "              precision    recall  f1-score   support\n",
      "\n",
      "           C       0.90      0.72      0.80        25\n",
      "           D       0.35      0.33      0.34        18\n",
      "           E       0.47      0.57      0.52        28\n",
      "\n",
      "    accuracy                           0.56        71\n",
      "   macro avg       0.57      0.54      0.55        71\n",
      "weighted avg       0.59      0.56      0.57        71\n",
      "\n"
     ]
    }
   ],
   "source": [
    "rf = clf.best_estimator_\n",
    "#clf = tree.DecisionTreeClassifier(max_depth=2)\n",
    "\n",
    "rf.fit(X_test, y_test)\n",
    "\n",
    "from sklearn import metrics\n",
    "y_pred=rf.predict(X_train)\n",
    "\n",
    "\n",
    "from sklearn.metrics import classification_report\n",
    "\n",
    "print(classification_report(y_train, y_pred))"
   ]
  },
  {
   "cell_type": "code",
   "execution_count": 25,
   "id": "99062a04",
   "metadata": {},
   "outputs": [
    {
     "name": "stdout",
     "output_type": "stream",
     "text": [
      "0.5633802816901409\n",
      "0.5721555137275265\n"
     ]
    }
   ],
   "source": [
    "from sklearn.metrics import accuracy_score, f1_score\n",
    "\n",
    "print(accuracy_score(y_train, y_pred))\n",
    "print(f1_score(y_train, y_pred, average=\"weighted\"))"
   ]
  },
  {
   "cell_type": "markdown",
   "id": "f6365b48",
   "metadata": {},
   "source": [
    "## Geolet"
   ]
  },
  {
   "cell_type": "code",
   "execution_count": 26,
   "id": "c2299d92",
   "metadata": {},
   "outputs": [
    {
     "data": {
      "text/html": [
       "<div>\n",
       "<style scoped>\n",
       "    .dataframe tbody tr th:only-of-type {\n",
       "        vertical-align: middle;\n",
       "    }\n",
       "\n",
       "    .dataframe tbody tr th {\n",
       "        vertical-align: top;\n",
       "    }\n",
       "\n",
       "    .dataframe thead th {\n",
       "        text-align: right;\n",
       "    }\n",
       "</style>\n",
       "<table border=\"1\" class=\"dataframe\">\n",
       "  <thead>\n",
       "    <tr style=\"text-align: right;\">\n",
       "      <th></th>\n",
       "      <th>tid</th>\n",
       "      <th>class</th>\n",
       "      <th>c1</th>\n",
       "      <th>c2</th>\n",
       "      <th>t</th>\n",
       "      <th>pos</th>\n",
       "    </tr>\n",
       "  </thead>\n",
       "  <tbody>\n",
       "    <tr>\n",
       "      <th>0</th>\n",
       "      <td>1</td>\n",
       "      <td>D</td>\n",
       "      <td>50.1066</td>\n",
       "      <td>3.79665</td>\n",
       "      <td>0</td>\n",
       "      <td>0</td>\n",
       "    </tr>\n",
       "    <tr>\n",
       "      <th>1</th>\n",
       "      <td>1</td>\n",
       "      <td>D</td>\n",
       "      <td>50.1045</td>\n",
       "      <td>3.79455</td>\n",
       "      <td>4</td>\n",
       "      <td>1</td>\n",
       "    </tr>\n",
       "    <tr>\n",
       "      <th>2</th>\n",
       "      <td>1</td>\n",
       "      <td>D</td>\n",
       "      <td>50.1111</td>\n",
       "      <td>3.79845</td>\n",
       "      <td>7</td>\n",
       "      <td>2</td>\n",
       "    </tr>\n",
       "    <tr>\n",
       "      <th>3</th>\n",
       "      <td>1</td>\n",
       "      <td>D</td>\n",
       "      <td>50.1072</td>\n",
       "      <td>3.79845</td>\n",
       "      <td>9</td>\n",
       "      <td>3</td>\n",
       "    </tr>\n",
       "    <tr>\n",
       "      <th>4</th>\n",
       "      <td>1</td>\n",
       "      <td>D</td>\n",
       "      <td>50.1132</td>\n",
       "      <td>3.79965</td>\n",
       "      <td>15</td>\n",
       "      <td>4</td>\n",
       "    </tr>\n",
       "    <tr>\n",
       "      <th>...</th>\n",
       "      <td>...</td>\n",
       "      <td>...</td>\n",
       "      <td>...</td>\n",
       "      <td>...</td>\n",
       "      <td>...</td>\n",
       "      <td>...</td>\n",
       "    </tr>\n",
       "    <tr>\n",
       "      <th>14985</th>\n",
       "      <td>102</td>\n",
       "      <td>C</td>\n",
       "      <td>50.1546</td>\n",
       "      <td>3.76005</td>\n",
       "      <td>243</td>\n",
       "      <td>117</td>\n",
       "    </tr>\n",
       "    <tr>\n",
       "      <th>14986</th>\n",
       "      <td>102</td>\n",
       "      <td>C</td>\n",
       "      <td>50.1540</td>\n",
       "      <td>3.75975</td>\n",
       "      <td>245</td>\n",
       "      <td>118</td>\n",
       "    </tr>\n",
       "    <tr>\n",
       "      <th>14987</th>\n",
       "      <td>102</td>\n",
       "      <td>C</td>\n",
       "      <td>50.1546</td>\n",
       "      <td>3.76065</td>\n",
       "      <td>247</td>\n",
       "      <td>119</td>\n",
       "    </tr>\n",
       "    <tr>\n",
       "      <th>14988</th>\n",
       "      <td>102</td>\n",
       "      <td>C</td>\n",
       "      <td>50.1573</td>\n",
       "      <td>3.75855</td>\n",
       "      <td>249</td>\n",
       "      <td>120</td>\n",
       "    </tr>\n",
       "    <tr>\n",
       "      <th>14989</th>\n",
       "      <td>102</td>\n",
       "      <td>C</td>\n",
       "      <td>50.1579</td>\n",
       "      <td>3.76065</td>\n",
       "      <td>251</td>\n",
       "      <td>121</td>\n",
       "    </tr>\n",
       "  </tbody>\n",
       "</table>\n",
       "<p>14990 rows × 6 columns</p>\n",
       "</div>"
      ],
      "text/plain": [
       "       tid class       c1       c2    t  pos\n",
       "0        1     D  50.1066  3.79665    0    0\n",
       "1        1     D  50.1045  3.79455    4    1\n",
       "2        1     D  50.1111  3.79845    7    2\n",
       "3        1     D  50.1072  3.79845    9    3\n",
       "4        1     D  50.1132  3.79965   15    4\n",
       "...    ...   ...      ...      ...  ...  ...\n",
       "14985  102     C  50.1546  3.76005  243  117\n",
       "14986  102     C  50.1540  3.75975  245  118\n",
       "14987  102     C  50.1546  3.76065  247  119\n",
       "14988  102     C  50.1573  3.75855  249  120\n",
       "14989  102     C  50.1579  3.76065  251  121\n",
       "\n",
       "[14990 rows x 6 columns]"
      ]
     },
     "execution_count": 26,
     "metadata": {},
     "output_type": "execute_result"
    }
   ],
   "source": [
    "df0"
   ]
  },
  {
   "cell_type": "code",
   "execution_count": 27,
   "id": "98480ca9",
   "metadata": {},
   "outputs": [
    {
     "name": "stderr",
     "output_type": "stream",
     "text": [
      "c:\\users\\cri98\\documents\\github\\cri98tj\\cri98tj\\distancers\\Euclidean_distancer.py:6: TqdmExperimentalWarning: Using `tqdm.autonotebook.tqdm` in notebook mode. Use `tqdm.tqdm` instead to force console mode (e.g. in jupyter console)\n",
      "  from tqdm.autonotebook import tqdm\n"
     ]
    }
   ],
   "source": [
    "from cri98tj.distancers.Euclidean_distancer import Euclidean_distancer\n",
    "from cri98tj.distancers.DTW_distancer import DTW_distancer\n",
    "from cri98tj.distancers.InterpolatedRootDistance_distancer import InterpolatedRootDistance_distancer, \\\n",
    "    InterpolatedRootDistanceBestFitting\n",
    "from cri98tj.normalizers.FirstPoint_normalizer import FirstPoint_normalizer\n",
    "from cri98tj.normalizers.normalizer_utils import dataframe_pivot\n",
    "from cri98tj.partitioners.Geohash_partitioner import Geohash_partitioner\n",
    "from cri98tj.partitioners.Voronoi_partitioner import Voronoi_partitioner\n",
    "from cri98tj.selectors.RandomInformationGain_selector import RandomInformationGain_selector\n",
    "from cri98tj.selectors.Random_selector import Random_selector\n",
    "from cri98tj.selectors.RandomOrderline_selector import RandomOrderline_selector\n",
    "from cri98tj.TrajectoryTransformer import TrajectoryTransformer\n",
    "from sklearn.ensemble import RandomForestClassifier"
   ]
  },
  {
   "cell_type": "code",
   "execution_count": 28,
   "id": "0e109cda",
   "metadata": {},
   "outputs": [
    {
     "data": {
      "text/html": [
       "<div>\n",
       "<style scoped>\n",
       "    .dataframe tbody tr th:only-of-type {\n",
       "        vertical-align: middle;\n",
       "    }\n",
       "\n",
       "    .dataframe tbody tr th {\n",
       "        vertical-align: top;\n",
       "    }\n",
       "\n",
       "    .dataframe thead th {\n",
       "        text-align: right;\n",
       "    }\n",
       "</style>\n",
       "<table border=\"1\" class=\"dataframe\">\n",
       "  <thead>\n",
       "    <tr style=\"text-align: right;\">\n",
       "      <th></th>\n",
       "      <th>tid</th>\n",
       "      <th>class</th>\n",
       "      <th>c1</th>\n",
       "      <th>c2</th>\n",
       "      <th>t</th>\n",
       "    </tr>\n",
       "  </thead>\n",
       "  <tbody>\n",
       "    <tr>\n",
       "      <th>0</th>\n",
       "      <td>1</td>\n",
       "      <td>D</td>\n",
       "      <td>50.1066</td>\n",
       "      <td>3.79665</td>\n",
       "      <td>0</td>\n",
       "    </tr>\n",
       "    <tr>\n",
       "      <th>1</th>\n",
       "      <td>1</td>\n",
       "      <td>D</td>\n",
       "      <td>50.1045</td>\n",
       "      <td>3.79455</td>\n",
       "      <td>4</td>\n",
       "    </tr>\n",
       "    <tr>\n",
       "      <th>2</th>\n",
       "      <td>1</td>\n",
       "      <td>D</td>\n",
       "      <td>50.1111</td>\n",
       "      <td>3.79845</td>\n",
       "      <td>7</td>\n",
       "    </tr>\n",
       "    <tr>\n",
       "      <th>3</th>\n",
       "      <td>1</td>\n",
       "      <td>D</td>\n",
       "      <td>50.1072</td>\n",
       "      <td>3.79845</td>\n",
       "      <td>9</td>\n",
       "    </tr>\n",
       "    <tr>\n",
       "      <th>4</th>\n",
       "      <td>1</td>\n",
       "      <td>D</td>\n",
       "      <td>50.1132</td>\n",
       "      <td>3.79965</td>\n",
       "      <td>15</td>\n",
       "    </tr>\n",
       "  </tbody>\n",
       "</table>\n",
       "</div>"
      ],
      "text/plain": [
       "   tid class       c1       c2   t\n",
       "0    1     D  50.1066  3.79665   0\n",
       "1    1     D  50.1045  3.79455   4\n",
       "2    1     D  50.1111  3.79845   7\n",
       "3    1     D  50.1072  3.79845   9\n",
       "4    1     D  50.1132  3.79965  15"
      ]
     },
     "execution_count": 28,
     "metadata": {},
     "output_type": "execute_result"
    }
   ],
   "source": [
    "df_geo = df0[[\"tid\", \"class\", \"c1\", \"c2\", \"t\"]].copy()\n",
    "\n",
    "df_geo.head()"
   ]
  },
  {
   "cell_type": "code",
   "execution_count": null,
   "id": "1151139c",
   "metadata": {},
   "outputs": [],
   "source": []
  },
  {
   "cell_type": "code",
   "execution_count": 29,
   "id": "d50a5c27",
   "metadata": {},
   "outputs": [
    {
     "name": "stdout",
     "output_type": "stream",
     "text": [
      "Encoding 10600 points with precision 3\n"
     ]
    },
    {
     "data": {
      "application/vnd.jupyter.widget-view+json": {
       "model_id": "e0cfff68d76e4df49f94ffac0e073344",
       "version_major": 2,
       "version_minor": 0
      },
      "text/plain": [
       "  0%|          | 0/10600 [00:00<?, ?it/s]"
      ]
     },
     "metadata": {},
     "output_type": "display_data"
    },
    {
     "name": "stdout",
     "output_type": "stream",
     "text": [
      "Cutting sub-trajectories length at 201.0 over 281\n",
      "Pivoting tables\n"
     ]
    },
    {
     "data": {
      "application/vnd.jupyter.widget-view+json": {
       "model_id": "742a416563b645c2b906ffebe291d5da",
       "version_major": 2,
       "version_minor": 0
      },
      "text/plain": [
       "  0%|          | 0/10060 [00:00<?, ?it/s]"
      ]
     },
     "metadata": {},
     "output_type": "display_data"
    },
    {
     "name": "stdout",
     "output_type": "stream",
     "text": [
      "Cutting sub-trajectories length at 205.0 over 281\n",
      "Pivoting tables\n"
     ]
    },
    {
     "data": {
      "application/vnd.jupyter.widget-view+json": {
       "model_id": "78b11cdc53fc48d2b1200e507680885f",
       "version_major": 2,
       "version_minor": 0
      },
      "text/plain": [
       "  0%|          | 0/6763 [00:00<?, ?it/s]"
      ]
     },
     "metadata": {},
     "output_type": "display_data"
    },
    {
     "name": "stdout",
     "output_type": "stream",
     "text": [
      "Computing scores\n"
     ]
    },
    {
     "data": {
      "application/vnd.jupyter.widget-view+json": {
       "model_id": "b0ae5eb1aa104357afa4607836da36ac",
       "version_major": 2,
       "version_minor": 0
      },
      "text/plain": [
       "  0%|          | 0/71 [00:00<?, ?it/s]"
      ]
     },
     "metadata": {},
     "output_type": "display_data"
    },
    {
     "data": {
      "application/vnd.jupyter.widget-view+json": {
       "model_id": "ef2778470cfa46b5ad019530be250aae",
       "version_major": 2,
       "version_minor": 0
      },
      "text/plain": [
       "  0%|          | 0/71 [00:00<?, ?it/s]"
      ]
     },
     "metadata": {},
     "output_type": "display_data"
    },
    {
     "name": "stdout",
     "output_type": "stream",
     "text": [
      "0.\t score=0.3112897592880306\n",
      "1.\t score=0.2901264331540656\n",
      "2.\t score=0.26703685204575445\n",
      "3.\t score=0.2608247214269981\n",
      "4.\t score=0.25596420804435005\n",
      "5.\t score=0.25422170944714795\n",
      "6.\t score=0.2500449051784319\n",
      "7.\t score=0.23946771979716397\n",
      "8.\t score=0.2177511713101048\n",
      "9.\t score=0.21534678571816834\n",
      "10.\t score=0.21241693922954874\n",
      "11.\t score=0.2000279755805947\n",
      "12.\t score=0.18987867229598554\n",
      "13.\t score=0.18071350233488492\n",
      "14.\t score=0.1755228306710379\n",
      "15.\t score=0.16866717788047203\n",
      "16.\t score=0.16048986386966368\n",
      "17.\t score=0.1601958632710503\n",
      "18.\t score=0.15968942067322578\n",
      "19.\t score=0.15871396736870325\n",
      "20.\t score=0.15822334944484906\n",
      "21.\t score=0.15680708703252533\n",
      "22.\t score=0.147947948485887\n",
      "23.\t score=0.14204228652372342\n",
      "24.\t score=0.13749437494456207\n",
      "25.\t score=0.13452490199187261\n",
      "26.\t score=0.12983231503308246\n",
      "27.\t score=0.1276981258004024\n",
      "28.\t score=0.12752147738217134\n",
      "29.\t score=0.12380290988619835\n",
      "30.\t score=0.11518680644165658\n",
      "31.\t score=0.10878017817212204\n",
      "32.\t score=0.1028249462373041\n",
      "33.\t score=0.10219599706684979\n",
      "34.\t score=0.09851286174671725\n",
      "35.\t score=0.0973863911183579\n",
      "36.\t score=0.09633631631359285\n",
      "37.\t score=0.09525693915514677\n",
      "38.\t score=0.09391388127457523\n",
      "39.\t score=0.08716078583630149\n",
      "40.\t score=0.08433676221845077\n",
      "41.\t score=0.08088638249339986\n",
      "42.\t score=0.07505340147659512\n",
      "43.\t score=0.07426688820234384\n",
      "44.\t score=0.07327394714538049\n",
      "45.\t score=0.06059302059787064\n",
      "46.\t score=0.0592596530638454\n",
      "47.\t score=0.056302917770153504\n",
      "48.\t score=0.05359594181949112\n",
      "49.\t score=0.04981948551367421\n",
      "Pivoting tables\n"
     ]
    },
    {
     "name": "stderr",
     "output_type": "stream",
     "text": [
      "C:\\Users\\cri98\\anaconda3\\lib\\site-packages\\sklearn\\utils\\validation.py:993: DataConversionWarning: A column-vector y was passed when a 1d array was expected. Please change the shape of y to (n_samples, ), for example using ravel().\n",
      "  y = column_or_1d(y, warn=True)\n"
     ]
    },
    {
     "data": {
      "application/vnd.jupyter.widget-view+json": {
       "model_id": "c34eeafa19a342baa640bcc7c89b45ad",
       "version_major": 2,
       "version_minor": 0
      },
      "text/plain": [
       "  0%|          | 0/14990 [00:00<?, ?it/s]"
      ]
     },
     "metadata": {},
     "output_type": "display_data"
    },
    {
     "data": {
      "application/vnd.jupyter.widget-view+json": {
       "model_id": "2ad5e19db2164c90a11f8fdb4343a9b4",
       "version_major": 2,
       "version_minor": 0
      },
      "text/plain": [
       "  0%|          | 0/50 [00:00<?, ?it/s]"
      ]
     },
     "metadata": {},
     "output_type": "display_data"
    },
    {
     "name": "stdout",
     "output_type": "stream",
     "text": [
      "Collecting distances from 50\n"
     ]
    },
    {
     "data": {
      "application/vnd.jupyter.widget-view+json": {
       "model_id": "e0c0f5b1f7d044fd804a71c07f774bb9",
       "version_major": 2,
       "version_minor": 0
      },
      "text/plain": [
       "  0%|          | 0/50 [00:00<?, ?it/s]"
      ]
     },
     "metadata": {},
     "output_type": "display_data"
    },
    {
     "name": "stdout",
     "output_type": "stream",
     "text": [
      "Wall time: 40.5 s\n"
     ]
    }
   ],
   "source": [
    "%%time\n",
    "\n",
    "from sklearn.model_selection import train_test_split\n",
    "\n",
    "spatioTemporalCols = [\"c1\", \"c2\", \"t\"]\n",
    "tid_train, tid_test, _, _ = train_test_split(df_geo.groupby(by=[\"tid\"]).max().reset_index()[\"tid\"],\n",
    "                                                            df_geo.groupby(by=[\"tid\"]).max().reset_index()[\"class\"],\n",
    "                                                            test_size=.3,\n",
    "                                                            stratify=df_geo.groupby(by=[\"tid\"]).max().reset_index()[\"class\"],\n",
    "                                                            random_state=3)\n",
    "\n",
    "partitioner = Geohash_partitioner(precision=3, spatioTemporalColumns=spatioTemporalCols)\n",
    "\n",
    "\n",
    "normalizer = FirstPoint_normalizer(spatioTemporalColumns=spatioTemporalCols, fillna=None)\n",
    "#selector = Random_selector(movelets_per_class=20, normalizer=normalizer,\n",
    "#                                   spatioTemporalColumns=spatioTemporalCols)\n",
    "selector = RandomInformationGain_selector(top_k=50, bestFittingMeasure=InterpolatedRootDistanceBestFitting,\n",
    "                                                  movelets_per_class=100, trajectories_for_orderline=50, n_jobs=24,\n",
    "                                                  spatioTemporalColumns=spatioTemporalCols, normalizer=normalizer)\n",
    "distancer = InterpolatedRootDistance_distancer(normalizer=normalizer, spatioTemporalColumns=spatioTemporalCols, n_jobs=24)\n",
    "\n",
    "part = partitioner.fit_transform(df_geo[df_geo.tid.isin(tid_train)].values)\n",
    "shapelets = selector.fit_transform(part)\n",
    "best_is, dist_np = distancer.fit_transform((df_geo.values, shapelets))"
   ]
  },
  {
   "cell_type": "code",
   "execution_count": 30,
   "id": "3a7b3cf2",
   "metadata": {},
   "outputs": [
    {
     "name": "stdout",
     "output_type": "stream",
     "text": [
      "Fitting 10 folds for each of 32 candidates, totalling 320 fits\n",
      "Model with rank: 1\n",
      "Mean validation score: 0.802 (std: 0.146)\n",
      "Parameters: {'criterion': 'entropy', 'max_depth': 7, 'n_estimators': 600}\n",
      "\n",
      "Model with rank: 2\n",
      "Mean validation score: 0.787 (std: 0.147)\n",
      "Parameters: {'criterion': 'entropy', 'max_depth': 7, 'n_estimators': 1200}\n",
      "\n",
      "Model with rank: 2\n",
      "Mean validation score: 0.787 (std: 0.147)\n",
      "Parameters: {'criterion': 'entropy', 'max_depth': 12, 'n_estimators': 300}\n",
      "\n",
      "Model with rank: 2\n",
      "Mean validation score: 0.787 (std: 0.147)\n",
      "Parameters: {'criterion': 'entropy', 'max_depth': 17, 'n_estimators': 300}\n",
      "\n",
      "Model with rank: 2\n",
      "Mean validation score: 0.787 (std: 0.147)\n",
      "Parameters: {'criterion': 'entropy', 'max_depth': 17, 'n_estimators': 600}\n",
      "\n",
      "Model with rank: 2\n",
      "Mean validation score: 0.787 (std: 0.147)\n",
      "Parameters: {'criterion': 'entropy', 'max_depth': 17, 'n_estimators': 1200}\n",
      "\n",
      "Model with rank: 2\n",
      "Mean validation score: 0.787 (std: 0.147)\n",
      "Parameters: {'criterion': 'gini', 'max_depth': 17, 'n_estimators': 300}\n",
      "\n",
      "Model with rank: 2\n",
      "Mean validation score: 0.787 (std: 0.147)\n",
      "Parameters: {'criterion': 'gini', 'max_depth': 17, 'n_estimators': 900}\n",
      "\n"
     ]
    }
   ],
   "source": [
    "from sklearn.ensemble import RandomForestClassifier\n",
    "from sklearn import tree\n",
    "\n",
    "def report(results, n_top=3):\n",
    "    for i in range(1, n_top + 1):\n",
    "        candidates = np.flatnonzero(results['rank_test_score'] == i)\n",
    "        for candidate in candidates:\n",
    "            print(\"Model with rank: {0}\".format(i))\n",
    "            print(\"Mean validation score: {0:.3f} (std: {1:.3f})\".format(\n",
    "                results['mean_test_score'][candidate],\n",
    "                results['std_test_score'][candidate]))\n",
    "            print(\"Parameters: {0}\".format(results['params'][candidate]))\n",
    "            print(\"\")\n",
    "\n",
    "from sklearn.model_selection import GridSearchCV\n",
    "parameters = {'n_estimators': range(300, 1500, 300),\n",
    "              'criterion':[\"entropy\", \"gini\"],\n",
    "              'max_depth': range(2, 20, 5)}\n",
    "\n",
    "clf = GridSearchCV(RandomForestClassifier(n_jobs=1), parameters, cv=10, n_jobs=24, verbose=3, scoring=\"accuracy\")\n",
    "\n",
    "clf.fit(X_train, y_train)\n",
    "\n",
    "report(clf.cv_results_, n_top=3)"
   ]
  },
  {
   "cell_type": "code",
   "execution_count": 31,
   "id": "42bc8f1e",
   "metadata": {},
   "outputs": [
    {
     "name": "stdout",
     "output_type": "stream",
     "text": [
      "              precision    recall  f1-score   support\n",
      "\n",
      "           C       0.91      1.00      0.95        10\n",
      "           D       1.00      0.89      0.94         9\n",
      "           E       0.92      0.92      0.92        12\n",
      "\n",
      "    accuracy                           0.94        31\n",
      "   macro avg       0.94      0.94      0.94        31\n",
      "weighted avg       0.94      0.94      0.94        31\n",
      "\n"
     ]
    }
   ],
   "source": [
    "rf = clf.best_estimator_\n",
    "\n",
    "dist_np_df = pd.DataFrame(dist_np)\n",
    "X = dist_np_df.drop(columns=[0]).values\n",
    "y = dist_np_df[0].values\n",
    "\n",
    "X_train, X_test, y_train, y_test = train_test_split(X, y, test_size=.3, stratify=y, random_state=3)\n",
    "\n",
    "rf.fit(X_train, y_train)\n",
    "\n",
    "from sklearn.metrics import classification_report\n",
    "\n",
    "y_pred = rf.predict(X_test)\n",
    "\n",
    "print(classification_report(y_test, y_pred))"
   ]
  },
  {
   "cell_type": "code",
   "execution_count": 32,
   "id": "14591559",
   "metadata": {},
   "outputs": [
    {
     "name": "stdout",
     "output_type": "stream",
     "text": [
      "0.9354838709677419\n",
      "0.9353031535194724\n"
     ]
    }
   ],
   "source": [
    "from sklearn.metrics import accuracy_score, f1_score\n",
    "\n",
    "print(accuracy_score(y_test, y_pred))\n",
    "print(f1_score(y_test, y_pred, average=\"weighted\"))"
   ]
  },
  {
   "cell_type": "code",
   "execution_count": null,
   "id": "1297284d",
   "metadata": {},
   "outputs": [],
   "source": []
  },
  {
   "cell_type": "code",
   "execution_count": null,
   "id": "e3457a4c",
   "metadata": {},
   "outputs": [],
   "source": []
  },
  {
   "cell_type": "code",
   "execution_count": null,
   "id": "1c805b12",
   "metadata": {},
   "outputs": [],
   "source": []
  }
 ],
 "metadata": {
  "kernelspec": {
   "display_name": "Python 3 (ipykernel)",
   "language": "python",
   "name": "python3"
  },
  "language_info": {
   "codemirror_mode": {
    "name": "ipython",
    "version": 3
   },
   "file_extension": ".py",
   "mimetype": "text/x-python",
   "name": "python",
   "nbconvert_exporter": "python",
   "pygments_lexer": "ipython3",
   "version": "3.9.7"
  }
 },
 "nbformat": 4,
 "nbformat_minor": 5
}
