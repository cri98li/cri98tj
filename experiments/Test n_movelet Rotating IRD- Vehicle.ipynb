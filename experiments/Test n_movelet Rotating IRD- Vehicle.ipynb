{
 "cells": [
  {
   "cell_type": "code",
   "execution_count": null,
   "metadata": {},
   "outputs": [],
   "source": []
  },
  {
   "cell_type": "code",
   "execution_count": 1,
   "metadata": {},
   "outputs": [],
   "source": [
    "import geolib.geohash\n",
    "from sklearn.ensemble import RandomForestClassifier\n",
    "from sklearn.metrics import classification_report\n",
    "import pandas as pd\n",
    "from tqdm.auto import tqdm\n",
    "from cri98tj.partitioners.Geohash_partitioner import Geohash_partitioner\n",
    "from cri98tj.normalizers.FirstPoint_normalizer import FirstPoint_normalizer\n",
    "from cri98tj.selectors.RandomInformationGain_selector import RandomInformationGain_selector\n",
    "from cri98tj.distancers.Euclidean_distancer import Euclidean_distancer\n",
    "from sklearn.model_selection import train_test_split\n",
    "from cri98tj.distancers.Euclidean_distancer import euclideanBestFitting"
   ]
  },
  {
   "cell_type": "code",
   "execution_count": 2,
   "metadata": {},
   "outputs": [
    {
     "data": {
      "text/plain": "     tid class         c1        c2    t\n0  30901     B  42.077160  4.738411    0\n1  30901     B  42.077246  4.739088   30\n2  30901     B  42.077259  4.739096   60\n3  30901     B  42.077369  4.739158   90\n4  30901     B  42.077635  4.739343  120",
      "text/html": "<div>\n<style scoped>\n    .dataframe tbody tr th:only-of-type {\n        vertical-align: middle;\n    }\n\n    .dataframe tbody tr th {\n        vertical-align: top;\n    }\n\n    .dataframe thead th {\n        text-align: right;\n    }\n</style>\n<table border=\"1\" class=\"dataframe\">\n  <thead>\n    <tr style=\"text-align: right;\">\n      <th></th>\n      <th>tid</th>\n      <th>class</th>\n      <th>c1</th>\n      <th>c2</th>\n      <th>t</th>\n    </tr>\n  </thead>\n  <tbody>\n    <tr>\n      <th>0</th>\n      <td>30901</td>\n      <td>B</td>\n      <td>42.077160</td>\n      <td>4.738411</td>\n      <td>0</td>\n    </tr>\n    <tr>\n      <th>1</th>\n      <td>30901</td>\n      <td>B</td>\n      <td>42.077246</td>\n      <td>4.739088</td>\n      <td>30</td>\n    </tr>\n    <tr>\n      <th>2</th>\n      <td>30901</td>\n      <td>B</td>\n      <td>42.077259</td>\n      <td>4.739096</td>\n      <td>60</td>\n    </tr>\n    <tr>\n      <th>3</th>\n      <td>30901</td>\n      <td>B</td>\n      <td>42.077369</td>\n      <td>4.739158</td>\n      <td>90</td>\n    </tr>\n    <tr>\n      <th>4</th>\n      <td>30901</td>\n      <td>B</td>\n      <td>42.077635</td>\n      <td>4.739343</td>\n      <td>120</td>\n    </tr>\n  </tbody>\n</table>\n</div>"
     },
     "execution_count": 2,
     "metadata": {},
     "output_type": "execute_result"
    }
   ],
   "source": [
    "df_original = pd.read_csv('../examples/Vehicles Dataset/data/vehicles_preapred.zip').sort_values(by=[\"tid\", \"t\"])# precision=5, 50 movelet, DTW\n",
    "df_original[\"c1\"] = df_original.c1/100000\n",
    "df_original[\"c2\"] = df_original.c2/100000\n",
    "\n",
    "df = df_original[[\"tid\", \"class\", \"c1\", \"c2\", \"t\"]].copy()\n",
    "\n",
    "df.head()"
   ]
  },
  {
   "cell_type": "code",
   "execution_count": 3,
   "metadata": {},
   "outputs": [],
   "source": [
    "tid_train, tid_test, _, _ = train_test_split(df.groupby(by=[\"tid\"]).max().reset_index()[\"tid\"],\n",
    "                                                        df.groupby(by=[\"tid\"]).max().reset_index()[\"class\"],\n",
    "                                                        test_size=.3,\n",
    "                                                        stratify=df.groupby(by=[\"tid\"]).max().reset_index()[\"class\"],\n",
    "                                                        random_state=3)\n",
    "\n",
    "spatioTemporalCols = [\"c1\", \"c2\", \"t\"]\n",
    "n_jobs = 24\n",
    "verbose = False"
   ]
  },
  {
   "cell_type": "code",
   "execution_count": 4,
   "metadata": {},
   "outputs": [],
   "source": [
    "import warnings\n",
    "warnings.filterwarnings(\"ignore\")\n",
    "\n",
    "from sklearn.metrics import accuracy_score, precision_score, f1_score, recall_score\n",
    "\n",
    "def compute_measures(test, pred):\n",
    "    return (accuracy_score(test, pred), precision_score(test, pred, average=\"micro\"), f1_score(test, pred, average=\"micro\"), recall_score(test, pred, average=\"micro\"))\n"
   ]
  },
  {
   "cell_type": "code",
   "execution_count": 5,
   "metadata": {},
   "outputs": [
    {
     "data": {
      "text/plain": "  0%|          | 0/18 [00:00<?, ?it/s]",
      "application/vnd.jupyter.widget-view+json": {
       "version_major": 2,
       "version_minor": 0,
       "model_id": "c61a970c4008423b94c811ea5ed7f488"
      }
     },
     "metadata": {},
     "output_type": "display_data"
    },
    {
     "name": "stdout",
     "output_type": "stream",
     "text": [
      "Wall time: 18h 48min 28s\n"
     ]
    }
   ],
   "source": [
    "%%time\n",
    "\n",
    "from datetime import datetime\n",
    "from sklearn.metrics import accuracy_score, precision_score, f1_score, recall_score\n",
    "from cri98tj.distancers.RotatingIRD_distancer import RotatingIRD_distancer, \\\n",
    "    rotatingIRDBestFitting\n",
    "\n",
    "precision = 6\n",
    "iter = 1\n",
    "\n",
    "res = []\n",
    "n_mov_rig = []\n",
    "time = []\n",
    "for i in tqdm(range(2, 20)):\n",
    "    df = df_original[[\"tid\", \"class\", \"c1\", \"c2\", \"t\"]].copy()\n",
    "    \n",
    "    res.append((.0, .0, .0, .0, .0))\n",
    "    n_mov_rig.append(0)\n",
    "    time.append(.0)\n",
    "\n",
    "    for _ in range(iter):\n",
    "        normalizer = FirstPoint_normalizer(spatioTemporalColumns=spatioTemporalCols, fillna=None, verbose=verbose)\n",
    "        distancer = RotatingIRD_distancer(normalizer=normalizer, spatioTemporalColumns=spatioTemporalCols, n_jobs=n_jobs, verbose=verbose)\n",
    "        partitioner = Geohash_partitioner(precision=precision, spatioTemporalColumns=spatioTemporalCols, verbose=verbose)\n",
    "\n",
    "        start = datetime.now()\n",
    "        part = partitioner.fit_transform(df[df.tid.isin(tid_train)].values)\n",
    "        selector = RandomInformationGain_selector(top_k=int(1.4**i), bestFittingMeasure=rotatingIRDBestFitting, movelets_per_class=300, trajectories_for_orderline=50, n_jobs=n_jobs, spatioTemporalColumns=spatioTemporalCols, normalizer=normalizer, verbose=verbose)\n",
    "        shapelets = selector.fit_transform(part)\n",
    "        _, dist_np = distancer.fit_transform((df.values, shapelets))\n",
    "        stop = start - datetime.now()\n",
    "\n",
    "        n_mov_rig[i-2] += (dist_np.shape[1])\n",
    "\n",
    "        clf = RandomForestClassifier(max_depth=3, random_state=3, n_jobs=n_jobs, n_estimators=5000)\n",
    "\n",
    "        dist_np_df = pd.DataFrame(dist_np)\n",
    "        X = dist_np_df.drop(columns=[0]).values\n",
    "        y = dist_np_df[0].values\n",
    "\n",
    "        X_train, X_test, y_train, y_test = train_test_split(X, y, test_size=.3, stratify=y, random_state=3)\n",
    "\n",
    "        clf.fit(X_train, y_train)\n",
    "\n",
    "        y_pred = clf.predict(X_test)\n",
    "\n",
    "        res[i-2] = tuple(a+b for a, b in zip(compute_measures(y_test, y_pred), res[i-2]))\n",
    "        time[i-2] += stop.total_seconds()*1000 #millisecondi\n",
    "\n",
    "    res[i-2] = list(map(lambda x: x/iter, res[i-2]))\n",
    "    n_mov_rig[i-2] /= iter\n",
    "    time[i-2] /= iter"
   ]
  },
  {
   "cell_type": "code",
   "execution_count": 6,
   "metadata": {},
   "outputs": [],
   "source": [
    "df_res_rig = pd.DataFrame(res, columns=[\"acc\", \"prec\", \"f1\", \"recall\"])\n",
    "\n",
    "df_res_rig[\"t\"] = time\n",
    "\n",
    "df_res_rig.t *= -1\n",
    "\n",
    "df_res_rig[\"n\"] = n_mov_rig\n",
    "\n",
    "df_res_rig.to_csv(f\"Test n_moveletrotatingIRD vehicle RIG {precision}.csv\", index=None)"
   ]
  },
  {
   "cell_type": "code",
   "execution_count": 7,
   "metadata": {},
   "outputs": [
    {
     "data": {
      "text/plain": "         acc      prec        f1    recall            t      n\n0   0.869565  0.869565  0.869565  0.869565  1494200.777    2.0\n1   0.947826  0.947826  0.947826  0.947826  1485272.732    3.0\n2   0.939130  0.939130  0.939130  0.939130  1465544.703    4.0\n3   0.947826  0.947826  0.947826  0.947826  1477110.132    6.0\n4   0.956522  0.956522  0.956522  0.956522  1500129.045    8.0\n5   0.965217  0.965217  0.965217  0.965217  1639015.527   11.0\n6   0.939130  0.939130  0.939130  0.939130  1907546.150   15.0\n7   0.939130  0.939130  0.939130  0.939130  1968166.384   21.0\n8   0.939130  0.939130  0.939130  0.939130  2156272.345   29.0\n9   0.939130  0.939130  0.939130  0.939130  2486525.501   41.0\n10  0.939130  0.939130  0.939130  0.939130  3157204.330   57.0\n11  0.939130  0.939130  0.939130  0.939130  3602215.135   80.0\n12  0.930435  0.930435  0.930435  0.930435  4543446.713  112.0\n13  0.930435  0.930435  0.930435  0.930435  5805052.486  156.0\n14  0.921739  0.921739  0.921739  0.921739  7120703.313  218.0\n15  0.895652  0.895652  0.895652  0.895652  8576683.981  301.0\n16  0.904348  0.904348  0.904348  0.904348  8584827.949  301.0\n17  0.895652  0.895652  0.895652  0.895652  8633509.497  301.0",
      "text/html": "<div>\n<style scoped>\n    .dataframe tbody tr th:only-of-type {\n        vertical-align: middle;\n    }\n\n    .dataframe tbody tr th {\n        vertical-align: top;\n    }\n\n    .dataframe thead th {\n        text-align: right;\n    }\n</style>\n<table border=\"1\" class=\"dataframe\">\n  <thead>\n    <tr style=\"text-align: right;\">\n      <th></th>\n      <th>acc</th>\n      <th>prec</th>\n      <th>f1</th>\n      <th>recall</th>\n      <th>t</th>\n      <th>n</th>\n    </tr>\n  </thead>\n  <tbody>\n    <tr>\n      <th>0</th>\n      <td>0.869565</td>\n      <td>0.869565</td>\n      <td>0.869565</td>\n      <td>0.869565</td>\n      <td>1494200.777</td>\n      <td>2.0</td>\n    </tr>\n    <tr>\n      <th>1</th>\n      <td>0.947826</td>\n      <td>0.947826</td>\n      <td>0.947826</td>\n      <td>0.947826</td>\n      <td>1485272.732</td>\n      <td>3.0</td>\n    </tr>\n    <tr>\n      <th>2</th>\n      <td>0.939130</td>\n      <td>0.939130</td>\n      <td>0.939130</td>\n      <td>0.939130</td>\n      <td>1465544.703</td>\n      <td>4.0</td>\n    </tr>\n    <tr>\n      <th>3</th>\n      <td>0.947826</td>\n      <td>0.947826</td>\n      <td>0.947826</td>\n      <td>0.947826</td>\n      <td>1477110.132</td>\n      <td>6.0</td>\n    </tr>\n    <tr>\n      <th>4</th>\n      <td>0.956522</td>\n      <td>0.956522</td>\n      <td>0.956522</td>\n      <td>0.956522</td>\n      <td>1500129.045</td>\n      <td>8.0</td>\n    </tr>\n    <tr>\n      <th>5</th>\n      <td>0.965217</td>\n      <td>0.965217</td>\n      <td>0.965217</td>\n      <td>0.965217</td>\n      <td>1639015.527</td>\n      <td>11.0</td>\n    </tr>\n    <tr>\n      <th>6</th>\n      <td>0.939130</td>\n      <td>0.939130</td>\n      <td>0.939130</td>\n      <td>0.939130</td>\n      <td>1907546.150</td>\n      <td>15.0</td>\n    </tr>\n    <tr>\n      <th>7</th>\n      <td>0.939130</td>\n      <td>0.939130</td>\n      <td>0.939130</td>\n      <td>0.939130</td>\n      <td>1968166.384</td>\n      <td>21.0</td>\n    </tr>\n    <tr>\n      <th>8</th>\n      <td>0.939130</td>\n      <td>0.939130</td>\n      <td>0.939130</td>\n      <td>0.939130</td>\n      <td>2156272.345</td>\n      <td>29.0</td>\n    </tr>\n    <tr>\n      <th>9</th>\n      <td>0.939130</td>\n      <td>0.939130</td>\n      <td>0.939130</td>\n      <td>0.939130</td>\n      <td>2486525.501</td>\n      <td>41.0</td>\n    </tr>\n    <tr>\n      <th>10</th>\n      <td>0.939130</td>\n      <td>0.939130</td>\n      <td>0.939130</td>\n      <td>0.939130</td>\n      <td>3157204.330</td>\n      <td>57.0</td>\n    </tr>\n    <tr>\n      <th>11</th>\n      <td>0.939130</td>\n      <td>0.939130</td>\n      <td>0.939130</td>\n      <td>0.939130</td>\n      <td>3602215.135</td>\n      <td>80.0</td>\n    </tr>\n    <tr>\n      <th>12</th>\n      <td>0.930435</td>\n      <td>0.930435</td>\n      <td>0.930435</td>\n      <td>0.930435</td>\n      <td>4543446.713</td>\n      <td>112.0</td>\n    </tr>\n    <tr>\n      <th>13</th>\n      <td>0.930435</td>\n      <td>0.930435</td>\n      <td>0.930435</td>\n      <td>0.930435</td>\n      <td>5805052.486</td>\n      <td>156.0</td>\n    </tr>\n    <tr>\n      <th>14</th>\n      <td>0.921739</td>\n      <td>0.921739</td>\n      <td>0.921739</td>\n      <td>0.921739</td>\n      <td>7120703.313</td>\n      <td>218.0</td>\n    </tr>\n    <tr>\n      <th>15</th>\n      <td>0.895652</td>\n      <td>0.895652</td>\n      <td>0.895652</td>\n      <td>0.895652</td>\n      <td>8576683.981</td>\n      <td>301.0</td>\n    </tr>\n    <tr>\n      <th>16</th>\n      <td>0.904348</td>\n      <td>0.904348</td>\n      <td>0.904348</td>\n      <td>0.904348</td>\n      <td>8584827.949</td>\n      <td>301.0</td>\n    </tr>\n    <tr>\n      <th>17</th>\n      <td>0.895652</td>\n      <td>0.895652</td>\n      <td>0.895652</td>\n      <td>0.895652</td>\n      <td>8633509.497</td>\n      <td>301.0</td>\n    </tr>\n  </tbody>\n</table>\n</div>"
     },
     "execution_count": 7,
     "metadata": {},
     "output_type": "execute_result"
    }
   ],
   "source": [
    "df_res_rig"
   ]
  },
  {
   "cell_type": "code",
   "execution_count": 8,
   "metadata": {},
   "outputs": [
    {
     "data": {
      "text/plain": "         acc      prec        f1    recall            t      n\n0   0.878261  0.878261  0.878261  0.878261   255908.601    2.0\n1   0.982609  0.982609  0.982609  0.982609   257324.497    3.0\n2   0.965217  0.965217  0.965217  0.965217   244293.204    4.0\n3   0.973913  0.973913  0.973913  0.973913   245602.987    6.0\n4   0.982609  0.982609  0.982609  0.982609   247480.286    8.0\n5   0.973913  0.973913  0.973913  0.973913   247325.890   11.0\n6   0.973913  0.973913  0.973913  0.973913   256995.468   15.0\n7   0.965217  0.965217  0.965217  0.965217   271543.886   21.0\n8   0.965217  0.965217  0.965217  0.965217   299776.570   29.0\n9   0.965217  0.965217  0.965217  0.965217   362103.874   41.0\n10  0.956522  0.956522  0.956522  0.956522   425924.921   57.0\n11  0.939130  0.939130  0.939130  0.939130   511431.759   80.0\n12  0.939130  0.939130  0.939130  0.939130   640128.545  112.0\n13  0.930435  0.930435  0.930435  0.930435   832372.456  156.0\n14  0.930435  0.930435  0.930435  0.930435  1077043.009  218.0\n15  0.921739  0.921739  0.921739  0.921739  1434880.556  301.0\n16  0.930435  0.930435  0.930435  0.930435  1429078.046  301.0\n17  0.921739  0.921739  0.921739  0.921739  1413093.134  301.0",
      "text/html": "<div>\n<style scoped>\n    .dataframe tbody tr th:only-of-type {\n        vertical-align: middle;\n    }\n\n    .dataframe tbody tr th {\n        vertical-align: top;\n    }\n\n    .dataframe thead th {\n        text-align: right;\n    }\n</style>\n<table border=\"1\" class=\"dataframe\">\n  <thead>\n    <tr style=\"text-align: right;\">\n      <th></th>\n      <th>acc</th>\n      <th>prec</th>\n      <th>f1</th>\n      <th>recall</th>\n      <th>t</th>\n      <th>n</th>\n    </tr>\n  </thead>\n  <tbody>\n    <tr>\n      <th>0</th>\n      <td>0.878261</td>\n      <td>0.878261</td>\n      <td>0.878261</td>\n      <td>0.878261</td>\n      <td>255908.601</td>\n      <td>2.0</td>\n    </tr>\n    <tr>\n      <th>1</th>\n      <td>0.982609</td>\n      <td>0.982609</td>\n      <td>0.982609</td>\n      <td>0.982609</td>\n      <td>257324.497</td>\n      <td>3.0</td>\n    </tr>\n    <tr>\n      <th>2</th>\n      <td>0.965217</td>\n      <td>0.965217</td>\n      <td>0.965217</td>\n      <td>0.965217</td>\n      <td>244293.204</td>\n      <td>4.0</td>\n    </tr>\n    <tr>\n      <th>3</th>\n      <td>0.973913</td>\n      <td>0.973913</td>\n      <td>0.973913</td>\n      <td>0.973913</td>\n      <td>245602.987</td>\n      <td>6.0</td>\n    </tr>\n    <tr>\n      <th>4</th>\n      <td>0.982609</td>\n      <td>0.982609</td>\n      <td>0.982609</td>\n      <td>0.982609</td>\n      <td>247480.286</td>\n      <td>8.0</td>\n    </tr>\n    <tr>\n      <th>5</th>\n      <td>0.973913</td>\n      <td>0.973913</td>\n      <td>0.973913</td>\n      <td>0.973913</td>\n      <td>247325.890</td>\n      <td>11.0</td>\n    </tr>\n    <tr>\n      <th>6</th>\n      <td>0.973913</td>\n      <td>0.973913</td>\n      <td>0.973913</td>\n      <td>0.973913</td>\n      <td>256995.468</td>\n      <td>15.0</td>\n    </tr>\n    <tr>\n      <th>7</th>\n      <td>0.965217</td>\n      <td>0.965217</td>\n      <td>0.965217</td>\n      <td>0.965217</td>\n      <td>271543.886</td>\n      <td>21.0</td>\n    </tr>\n    <tr>\n      <th>8</th>\n      <td>0.965217</td>\n      <td>0.965217</td>\n      <td>0.965217</td>\n      <td>0.965217</td>\n      <td>299776.570</td>\n      <td>29.0</td>\n    </tr>\n    <tr>\n      <th>9</th>\n      <td>0.965217</td>\n      <td>0.965217</td>\n      <td>0.965217</td>\n      <td>0.965217</td>\n      <td>362103.874</td>\n      <td>41.0</td>\n    </tr>\n    <tr>\n      <th>10</th>\n      <td>0.956522</td>\n      <td>0.956522</td>\n      <td>0.956522</td>\n      <td>0.956522</td>\n      <td>425924.921</td>\n      <td>57.0</td>\n    </tr>\n    <tr>\n      <th>11</th>\n      <td>0.939130</td>\n      <td>0.939130</td>\n      <td>0.939130</td>\n      <td>0.939130</td>\n      <td>511431.759</td>\n      <td>80.0</td>\n    </tr>\n    <tr>\n      <th>12</th>\n      <td>0.939130</td>\n      <td>0.939130</td>\n      <td>0.939130</td>\n      <td>0.939130</td>\n      <td>640128.545</td>\n      <td>112.0</td>\n    </tr>\n    <tr>\n      <th>13</th>\n      <td>0.930435</td>\n      <td>0.930435</td>\n      <td>0.930435</td>\n      <td>0.930435</td>\n      <td>832372.456</td>\n      <td>156.0</td>\n    </tr>\n    <tr>\n      <th>14</th>\n      <td>0.930435</td>\n      <td>0.930435</td>\n      <td>0.930435</td>\n      <td>0.930435</td>\n      <td>1077043.009</td>\n      <td>218.0</td>\n    </tr>\n    <tr>\n      <th>15</th>\n      <td>0.921739</td>\n      <td>0.921739</td>\n      <td>0.921739</td>\n      <td>0.921739</td>\n      <td>1434880.556</td>\n      <td>301.0</td>\n    </tr>\n    <tr>\n      <th>16</th>\n      <td>0.930435</td>\n      <td>0.930435</td>\n      <td>0.930435</td>\n      <td>0.930435</td>\n      <td>1429078.046</td>\n      <td>301.0</td>\n    </tr>\n    <tr>\n      <th>17</th>\n      <td>0.921739</td>\n      <td>0.921739</td>\n      <td>0.921739</td>\n      <td>0.921739</td>\n      <td>1413093.134</td>\n      <td>301.0</td>\n    </tr>\n  </tbody>\n</table>\n</div>"
     },
     "execution_count": 8,
     "metadata": {},
     "output_type": "execute_result"
    }
   ],
   "source": [
    "df_res_rig = pd.read_csv(f\"Test n_movelet vehicle RIG {precision}.csv\")\n",
    "df_res_rig"
   ]
  },
  {
   "cell_type": "code",
   "execution_count": 8,
   "metadata": {},
   "outputs": [],
   "source": []
  },
  {
   "cell_type": "code",
   "execution_count": null,
   "metadata": {
    "pycharm": {
     "is_executing": true
    }
   },
   "outputs": [
    {
     "data": {
      "text/plain": "  0%|          | 0/16 [00:00<?, ?it/s]",
      "application/vnd.jupyter.widget-view+json": {
       "version_major": 2,
       "version_minor": 0,
       "model_id": "53f7ca9f4aeb4e1a81991176c2c06f65"
      }
     },
     "metadata": {},
     "output_type": "display_data"
    }
   ],
   "source": [
    "%%time\n",
    "from cri98tj.selectors.Random_selector import Random_selector\n",
    "from sklearn.metrics import accuracy_score\n",
    "from datetime import datetime\n",
    "\n",
    "res = []\n",
    "n_mov_r = []\n",
    "time = []\n",
    "i=1\n",
    "for n in tqdm(df_res_rig.n.unique()):\n",
    "    df = df_original[[\"tid\", \"class\", \"c1\", \"c2\", \"t\"]].copy()\n",
    "    \n",
    "    res.append((.0, .0, .0, .0, .0))\n",
    "    n_mov_r.append(0)\n",
    "    time.append(.0)\n",
    "    \n",
    "    c = 0\n",
    "    \n",
    "    while c < iter:\n",
    "        try:#for _ in tqdm(range(5)):\n",
    "            normalizer = FirstPoint_normalizer(spatioTemporalColumns=spatioTemporalCols, fillna=None, verbose=verbose)\n",
    "            distancer = RotatingIRD_distancer(normalizer=normalizer, spatioTemporalColumns=spatioTemporalCols, n_jobs=n_jobs, verbose=verbose)\n",
    "            partitioner = Geohash_partitioner(precision=precision, spatioTemporalColumns=spatioTemporalCols, verbose=verbose)\n",
    "\n",
    "            start = datetime.now()\n",
    "            part = partitioner.fit_transform(df[df.tid.isin(tid_train)].values)\n",
    "            selector = Random_selector(movelets_per_class=max(1, n//2), n_jobs=n_jobs, spatioTemporalColumns=spatioTemporalCols, normalizer=normalizer, verbose=verbose)\n",
    "            shapelets = selector.fit_transform(part)\n",
    "\n",
    "            _, dist_np = distancer.fit_transform((df.values, shapelets))\n",
    "            stop = start - datetime.now()\n",
    "\n",
    "            n_mov_r[i-1] += (dist_np.shape[1])\n",
    "\n",
    "            clf = RandomForestClassifier(max_depth=3, random_state=3, n_jobs=n_jobs, n_estimators=5000)\n",
    "\n",
    "            dist_np_df = pd.DataFrame(dist_np)\n",
    "            X = dist_np_df.drop(columns=[0]).values\n",
    "            y = dist_np_df[0].values\n",
    "\n",
    "            X_train, X_test, y_train, y_test = train_test_split(X, y, test_size=.3, stratify=y, random_state=3)\n",
    "\n",
    "            clf.fit(X_train, y_train)\n",
    "\n",
    "            y_pred = clf.predict(X_test)\n",
    "\n",
    "            res[i-1] = tuple(a+b for a, b in zip(compute_measures(y_test, y_pred), res[i-1]))\n",
    "            time[i-1] += stop.total_seconds()*1000 #millisecondi\n",
    "            \n",
    "            c += 1\n",
    "        except:\n",
    "            print(\"failed\")\n",
    "\n",
    "    res[i-1] = list(map(lambda x: x/iter, res[i-1]))\n",
    "    n_mov_r[i-1] /= iter\n",
    "    time[i-1] /= iter\n",
    "    \n",
    "    i +=1"
   ]
  },
  {
   "cell_type": "code",
   "execution_count": null,
   "metadata": {
    "pycharm": {
     "is_executing": true
    }
   },
   "outputs": [],
   "source": [
    "pd.DataFrame(res, columns=[\"acc\", \"prec\", \"f1\", \"recall\"])"
   ]
  },
  {
   "cell_type": "code",
   "execution_count": null,
   "metadata": {
    "pycharm": {
     "is_executing": true
    }
   },
   "outputs": [],
   "source": [
    "df_res_r = pd.DataFrame(res, columns=[\"acc\", \"prec\", \"f1\", \"recall\"])\n",
    "\n",
    "df_res_r[\"t\"] = time\n",
    "\n",
    "df_res_r.t *= -1\n",
    "\n",
    "df_res_r[\"n\"] = n_mov_r\n",
    "\n",
    "df_res_r.to_csv(f\"Test n_movelet n_moveletrotatingIRD vehicle R {precision}.csv\", index=None)"
   ]
  },
  {
   "cell_type": "code",
   "execution_count": null,
   "metadata": {
    "pycharm": {
     "is_executing": true
    }
   },
   "outputs": [],
   "source": [
    "df_res_r = pd.read_csv(f\"Test n_movelet n_moveletrotatingIRD vehicle R {precision}.csv\")"
   ]
  },
  {
   "cell_type": "code",
   "execution_count": 13,
   "metadata": {},
   "outputs": [
    {
     "data": {
      "text/html": [
       "<div>\n",
       "<style scoped>\n",
       "    .dataframe tbody tr th:only-of-type {\n",
       "        vertical-align: middle;\n",
       "    }\n",
       "\n",
       "    .dataframe tbody tr th {\n",
       "        vertical-align: top;\n",
       "    }\n",
       "\n",
       "    .dataframe thead th {\n",
       "        text-align: right;\n",
       "    }\n",
       "</style>\n",
       "<table border=\"1\" class=\"dataframe\">\n",
       "  <thead>\n",
       "    <tr style=\"text-align: right;\">\n",
       "      <th></th>\n",
       "      <th>acc</th>\n",
       "      <th>prec</th>\n",
       "      <th>f1</th>\n",
       "      <th>recall</th>\n",
       "      <th>t</th>\n",
       "      <th>n</th>\n",
       "    </tr>\n",
       "  </thead>\n",
       "  <tbody>\n",
       "    <tr>\n",
       "      <th>0</th>\n",
       "      <td>0.733333</td>\n",
       "      <td>0.733333</td>\n",
       "      <td>0.733333</td>\n",
       "      <td>0.733333</td>\n",
       "      <td>42555.486667</td>\n",
       "      <td>3.0</td>\n",
       "    </tr>\n",
       "    <tr>\n",
       "      <th>1</th>\n",
       "      <td>0.727536</td>\n",
       "      <td>0.727536</td>\n",
       "      <td>0.727536</td>\n",
       "      <td>0.727536</td>\n",
       "      <td>47731.808333</td>\n",
       "      <td>3.0</td>\n",
       "    </tr>\n",
       "    <tr>\n",
       "      <th>2</th>\n",
       "      <td>0.733333</td>\n",
       "      <td>0.733333</td>\n",
       "      <td>0.733333</td>\n",
       "      <td>0.733333</td>\n",
       "      <td>88530.102000</td>\n",
       "      <td>5.0</td>\n",
       "    </tr>\n",
       "    <tr>\n",
       "      <th>3</th>\n",
       "      <td>0.744928</td>\n",
       "      <td>0.744928</td>\n",
       "      <td>0.744928</td>\n",
       "      <td>0.744928</td>\n",
       "      <td>72022.458000</td>\n",
       "      <td>7.0</td>\n",
       "    </tr>\n",
       "    <tr>\n",
       "      <th>4</th>\n",
       "      <td>0.776812</td>\n",
       "      <td>0.776812</td>\n",
       "      <td>0.776812</td>\n",
       "      <td>0.776812</td>\n",
       "      <td>95213.797333</td>\n",
       "      <td>9.0</td>\n",
       "    </tr>\n",
       "    <tr>\n",
       "      <th>5</th>\n",
       "      <td>0.805797</td>\n",
       "      <td>0.805797</td>\n",
       "      <td>0.805797</td>\n",
       "      <td>0.805797</td>\n",
       "      <td>75762.642667</td>\n",
       "      <td>11.0</td>\n",
       "    </tr>\n",
       "    <tr>\n",
       "      <th>6</th>\n",
       "      <td>0.817391</td>\n",
       "      <td>0.817391</td>\n",
       "      <td>0.817391</td>\n",
       "      <td>0.817391</td>\n",
       "      <td>71789.558667</td>\n",
       "      <td>15.0</td>\n",
       "    </tr>\n",
       "    <tr>\n",
       "      <th>7</th>\n",
       "      <td>0.826087</td>\n",
       "      <td>0.826087</td>\n",
       "      <td>0.826087</td>\n",
       "      <td>0.826087</td>\n",
       "      <td>125983.883000</td>\n",
       "      <td>21.0</td>\n",
       "    </tr>\n",
       "    <tr>\n",
       "      <th>8</th>\n",
       "      <td>0.817391</td>\n",
       "      <td>0.817391</td>\n",
       "      <td>0.817391</td>\n",
       "      <td>0.817391</td>\n",
       "      <td>113062.156000</td>\n",
       "      <td>29.0</td>\n",
       "    </tr>\n",
       "    <tr>\n",
       "      <th>9</th>\n",
       "      <td>0.881159</td>\n",
       "      <td>0.881159</td>\n",
       "      <td>0.881159</td>\n",
       "      <td>0.881159</td>\n",
       "      <td>164638.893333</td>\n",
       "      <td>41.0</td>\n",
       "    </tr>\n",
       "    <tr>\n",
       "      <th>10</th>\n",
       "      <td>0.869565</td>\n",
       "      <td>0.869565</td>\n",
       "      <td>0.869565</td>\n",
       "      <td>0.869565</td>\n",
       "      <td>207034.840000</td>\n",
       "      <td>57.0</td>\n",
       "    </tr>\n",
       "    <tr>\n",
       "      <th>11</th>\n",
       "      <td>0.889855</td>\n",
       "      <td>0.889855</td>\n",
       "      <td>0.889855</td>\n",
       "      <td>0.889855</td>\n",
       "      <td>256430.451000</td>\n",
       "      <td>81.0</td>\n",
       "    </tr>\n",
       "    <tr>\n",
       "      <th>12</th>\n",
       "      <td>0.866667</td>\n",
       "      <td>0.866667</td>\n",
       "      <td>0.866667</td>\n",
       "      <td>0.866667</td>\n",
       "      <td>364076.369667</td>\n",
       "      <td>113.0</td>\n",
       "    </tr>\n",
       "    <tr>\n",
       "      <th>13</th>\n",
       "      <td>0.889855</td>\n",
       "      <td>0.889855</td>\n",
       "      <td>0.889855</td>\n",
       "      <td>0.889855</td>\n",
       "      <td>510517.674667</td>\n",
       "      <td>157.0</td>\n",
       "    </tr>\n",
       "    <tr>\n",
       "      <th>14</th>\n",
       "      <td>0.901449</td>\n",
       "      <td>0.901449</td>\n",
       "      <td>0.901449</td>\n",
       "      <td>0.901449</td>\n",
       "      <td>688736.927000</td>\n",
       "      <td>219.0</td>\n",
       "    </tr>\n",
       "    <tr>\n",
       "      <th>15</th>\n",
       "      <td>0.904348</td>\n",
       "      <td>0.904348</td>\n",
       "      <td>0.904348</td>\n",
       "      <td>0.904348</td>\n",
       "      <td>871934.226333</td>\n",
       "      <td>301.0</td>\n",
       "    </tr>\n",
       "  </tbody>\n",
       "</table>\n",
       "</div>"
      ],
      "text/plain": [
       "         acc      prec        f1    recall              t      n\n",
       "0   0.733333  0.733333  0.733333  0.733333   42555.486667    3.0\n",
       "1   0.727536  0.727536  0.727536  0.727536   47731.808333    3.0\n",
       "2   0.733333  0.733333  0.733333  0.733333   88530.102000    5.0\n",
       "3   0.744928  0.744928  0.744928  0.744928   72022.458000    7.0\n",
       "4   0.776812  0.776812  0.776812  0.776812   95213.797333    9.0\n",
       "5   0.805797  0.805797  0.805797  0.805797   75762.642667   11.0\n",
       "6   0.817391  0.817391  0.817391  0.817391   71789.558667   15.0\n",
       "7   0.826087  0.826087  0.826087  0.826087  125983.883000   21.0\n",
       "8   0.817391  0.817391  0.817391  0.817391  113062.156000   29.0\n",
       "9   0.881159  0.881159  0.881159  0.881159  164638.893333   41.0\n",
       "10  0.869565  0.869565  0.869565  0.869565  207034.840000   57.0\n",
       "11  0.889855  0.889855  0.889855  0.889855  256430.451000   81.0\n",
       "12  0.866667  0.866667  0.866667  0.866667  364076.369667  113.0\n",
       "13  0.889855  0.889855  0.889855  0.889855  510517.674667  157.0\n",
       "14  0.901449  0.901449  0.901449  0.901449  688736.927000  219.0\n",
       "15  0.904348  0.904348  0.904348  0.904348  871934.226333  301.0"
      ]
     },
     "execution_count": 13,
     "metadata": {},
     "output_type": "execute_result"
    }
   ],
   "source": [
    "df_res_r"
   ]
  },
  {
   "cell_type": "code",
   "execution_count": null,
   "metadata": {},
   "outputs": [],
   "source": []
  },
  {
   "cell_type": "code",
   "execution_count": null,
   "metadata": {},
   "outputs": [],
   "source": []
  },
  {
   "cell_type": "code",
   "execution_count": null,
   "metadata": {},
   "outputs": [],
   "source": [
    "%%time\n",
    "from cri98tj.selectors.Random_selector import Random_selector\n",
    "from sklearn.metrics import accuracy_score\n",
    "from cri98tj.distancers.InterpolatedRootDistance_distancer import InterpolatedRootDistance_distancer, \\\n",
    "    InterpolatedRootDistanceBestFitting\n",
    "from datetime import datetime\n",
    "from cri98tj.partitioners.Voronoi_partitioner import Voronoi_partitioner\n",
    "\n",
    "res = []\n",
    "n_mov_r = []\n",
    "time = []\n",
    "i=1\n",
    "for n in tqdm(df_res_rig.n.unique()):\n",
    "    df = df_original[[\"tid\", \"class\", \"c1\", \"c2\", \"t\"]].copy()\n",
    "    \n",
    "    res.append((.0, .0, .0, .0, .0))\n",
    "    n_mov_r.append(0)\n",
    "    time.append(.0)\n",
    "    \n",
    "    \n",
    "    for _ in range(3): \n",
    "        normalizer = FirstPoint_normalizer(spatioTemporalColumns=spatioTemporalCols, fillna=None, verbose=verbose)\n",
    "        distancer = InterpolatedRootDistance_distancer(normalizer=normalizer, spatioTemporalColumns=spatioTemporalCols, n_jobs=n_jobs, verbose=verbose)\n",
    "        partitioner = Voronoi_partitioner(spatioTemporalColumns=spatioTemporalCols, radius=600, stop_distance=10, stop_seconds=600)\n",
    "\n",
    "        start = datetime.now()\n",
    "        part = partitioner.fit_transform(df[df.tid.isin(tid_train)].values)\n",
    "        selector = RandomInformationGain_selector(top_k=int(1.4**i), \n",
    "                                                  bestFittingMeasure=InterpolatedRootDistanceBestFitting, \n",
    "                                                  movelets_per_class=300, trajectories_for_orderline=100, \n",
    "                                                  n_jobs=n_jobs, spatioTemporalColumns=spatioTemporalCols, \n",
    "                                                  normalizer=normalizer, verbose=verbose)\n",
    "        shapelets = selector.fit_transform(part)\n",
    "\n",
    "        _, dist_np = distancer.fit_transform((df.values, shapelets))\n",
    "        stop = start - datetime.now()\n",
    "\n",
    "        n_mov_r[i-1] += (dist_np.shape[1])\n",
    "\n",
    "        clf = RandomForestClassifier(max_depth=3, random_state=3, n_jobs=n_jobs, n_estimators=5000)\n",
    "\n",
    "        dist_np_df = pd.DataFrame(dist_np)\n",
    "        X = dist_np_df.drop(columns=[0]).values\n",
    "        y = dist_np_df[0].values\n",
    "\n",
    "        X_train, X_test, y_train, y_test = train_test_split(X, y, test_size=.3, stratify=y, random_state=3)\n",
    "\n",
    "        clf.fit(X_train, y_train)\n",
    "\n",
    "        y_pred = clf.predict(X_test)\n",
    "\n",
    "        res[i-1] = tuple(a+b for a, b in zip(compute_measures(y_test, y_pred), res[i-1]))\n",
    "        time[i-1] += stop.total_seconds()*1000 #millisecondi\n",
    "\n",
    "\n",
    "    res[i-1] = list(map(lambda x: x/3, res[i-1]))\n",
    "    n_mov_r[i-1] /= 3\n",
    "    time[i-1] /= 3\n",
    "    \n",
    "    i +=1"
   ]
  },
  {
   "cell_type": "code",
   "execution_count": null,
   "metadata": {},
   "outputs": [],
   "source": [
    "df_res_rig_v = pd.DataFrame(res, columns=[\"acc\", \"prec\", \"f1\", \"recall\"])\n",
    "\n",
    "df_res_rig_v[\"t\"] = time\n",
    "\n",
    "df_res_rig_v.t *= -1\n",
    "\n",
    "df_res_rig_v[\"n\"] = n_mov_r\n",
    "\n",
    "df_res_rig_v.to_csv(f\"Test n_movelet vehicle RIG voronoi.csv\", index=None)"
   ]
  },
  {
   "cell_type": "code",
   "execution_count": null,
   "metadata": {},
   "outputs": [],
   "source": [
    "df_res_rig_v"
   ]
  },
  {
   "cell_type": "code",
   "execution_count": null,
   "metadata": {},
   "outputs": [],
   "source": []
  },
  {
   "cell_type": "code",
   "execution_count": null,
   "metadata": {},
   "outputs": [],
   "source": []
  },
  {
   "cell_type": "code",
   "execution_count": null,
   "metadata": {},
   "outputs": [],
   "source": []
  },
  {
   "cell_type": "code",
   "execution_count": null,
   "metadata": {},
   "outputs": [],
   "source": []
  },
  {
   "cell_type": "code",
   "execution_count": null,
   "metadata": {},
   "outputs": [],
   "source": []
  }
 ],
 "metadata": {
  "kernelspec": {
   "display_name": "Python 3",
   "language": "python",
   "name": "python3"
  },
  "language_info": {
   "codemirror_mode": {
    "name": "ipython",
    "version": 3
   },
   "file_extension": ".py",
   "mimetype": "text/x-python",
   "name": "python",
   "nbconvert_exporter": "python",
   "pygments_lexer": "ipython3",
   "version": "3.8.8"
  }
 },
 "nbformat": 4,
 "nbformat_minor": 1
}
