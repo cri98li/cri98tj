{
 "cells": [
  {
   "cell_type": "markdown",
   "metadata": {
    "pycharm": {
     "name": "#%% md\n"
    }
   },
   "source": [
    "# Test normalizzazione cella - Veicoli"
   ]
  },
  {
   "cell_type": "code",
   "execution_count": 9,
   "metadata": {
    "pycharm": {
     "name": "#%%\n"
    }
   },
   "outputs": [],
   "source": [
    "import geolib.geohash\n",
    "from sklearn.ensemble import RandomForestClassifier\n",
    "from sklearn.metrics import classification_report\n",
    "import pandas as pd\n",
    "from tqdm.auto import tqdm\n",
    "from cri98tj.partitioners.Geohash_partitioner import Geohash_partitioner\n",
    "from cri98tj.normalizers.FirstPoint_normalizer import FirstPoint_normalizer\n",
    "from cri98tj.selectors.RandomInformationGain_selector import RandomInformationGain_selector\n",
    "from cri98tj.distancers.Euclidean_distancer import Euclidean_distancer\n",
    "from sklearn.model_selection import train_test_split\n",
    "from cri98tj.distancers.Euclidean_distancer import euclideanBestFitting"
   ]
  },
  {
   "cell_type": "code",
   "execution_count": 10,
   "metadata": {
    "pycharm": {
     "name": "#%%\n"
    }
   },
   "outputs": [
    {
     "data": {
      "text/html": [
       "<div>\n",
       "<style scoped>\n",
       "    .dataframe tbody tr th:only-of-type {\n",
       "        vertical-align: middle;\n",
       "    }\n",
       "\n",
       "    .dataframe tbody tr th {\n",
       "        vertical-align: top;\n",
       "    }\n",
       "\n",
       "    .dataframe thead th {\n",
       "        text-align: right;\n",
       "    }\n",
       "</style>\n",
       "<table border=\"1\" class=\"dataframe\">\n",
       "  <thead>\n",
       "    <tr style=\"text-align: right;\">\n",
       "      <th></th>\n",
       "      <th>tid</th>\n",
       "      <th>class</th>\n",
       "      <th>c1</th>\n",
       "      <th>c2</th>\n",
       "      <th>t</th>\n",
       "    </tr>\n",
       "  </thead>\n",
       "  <tbody>\n",
       "    <tr>\n",
       "      <th>0</th>\n",
       "      <td>30901</td>\n",
       "      <td>B</td>\n",
       "      <td>42.077160</td>\n",
       "      <td>4.738411</td>\n",
       "      <td>0</td>\n",
       "    </tr>\n",
       "    <tr>\n",
       "      <th>1</th>\n",
       "      <td>30901</td>\n",
       "      <td>B</td>\n",
       "      <td>42.077246</td>\n",
       "      <td>4.739088</td>\n",
       "      <td>30</td>\n",
       "    </tr>\n",
       "    <tr>\n",
       "      <th>2</th>\n",
       "      <td>30901</td>\n",
       "      <td>B</td>\n",
       "      <td>42.077259</td>\n",
       "      <td>4.739096</td>\n",
       "      <td>60</td>\n",
       "    </tr>\n",
       "    <tr>\n",
       "      <th>3</th>\n",
       "      <td>30901</td>\n",
       "      <td>B</td>\n",
       "      <td>42.077369</td>\n",
       "      <td>4.739158</td>\n",
       "      <td>90</td>\n",
       "    </tr>\n",
       "    <tr>\n",
       "      <th>4</th>\n",
       "      <td>30901</td>\n",
       "      <td>B</td>\n",
       "      <td>42.077635</td>\n",
       "      <td>4.739343</td>\n",
       "      <td>120</td>\n",
       "    </tr>\n",
       "  </tbody>\n",
       "</table>\n",
       "</div>"
      ],
      "text/plain": [
       "     tid class         c1        c2    t\n",
       "0  30901     B  42.077160  4.738411    0\n",
       "1  30901     B  42.077246  4.739088   30\n",
       "2  30901     B  42.077259  4.739096   60\n",
       "3  30901     B  42.077369  4.739158   90\n",
       "4  30901     B  42.077635  4.739343  120"
      ]
     },
     "execution_count": 10,
     "metadata": {},
     "output_type": "execute_result"
    }
   ],
   "source": [
    "df = pd.read_csv('../examples/Vehicles Dataset/data/vehicles_preapred.zip').sort_values(by=[\"tid\", \"t\"])# precision=5, 50 movelet, DTW\n",
    "df = df[[\"tid\", \"class\", \"c1\", \"c2\", \"t\"]]\n",
    "df[\"c1\"] = df.c1/100000\n",
    "df[\"c2\"] = df.c2/100000\n",
    "df.head()"
   ]
  },
  {
   "cell_type": "code",
   "execution_count": 11,
   "metadata": {
    "pycharm": {
     "name": "#%%\n"
    }
   },
   "outputs": [],
   "source": [
    "tid_train, tid_test, _, _ = train_test_split(df.groupby(by=[\"tid\"]).max().reset_index()[\"tid\"],\n",
    "                                                        df.groupby(by=[\"tid\"]).max().reset_index()[\"class\"],\n",
    "                                                        test_size=.3,\n",
    "                                                        stratify=df.groupby(by=[\"tid\"]).max().reset_index()[\"class\"],\n",
    "                                                        random_state=3)\n",
    "\n",
    "spatioTemporalCols = [\"c1\", \"c2\", \"t\"]\n",
    "n_jobs = 24\n",
    "verbose = True\n",
    "precision = 6"
   ]
  },
  {
   "cell_type": "code",
   "execution_count": 12,
   "metadata": {
    "pycharm": {
     "name": "#%%\n"
    }
   },
   "outputs": [],
   "source": [
    "from cri98tj.distancers.InterpolatedRootDistance_distancer import InterpolatedRootDistanceBestFitting\n",
    "\n",
    "normalizer = FirstPoint_normalizer(spatioTemporalColumns=spatioTemporalCols, fillna=None, verbose=verbose)\n",
    "selector = RandomInformationGain_selector(top_k=20, bestFittingMeasure=InterpolatedRootDistanceBestFitting, movelets_per_class=300, trajectories_for_orderline=100, n_jobs=n_jobs, spatioTemporalColumns=spatioTemporalCols, normalizer=normalizer, verbose=verbose)"
   ]
  },
  {
   "cell_type": "code",
   "execution_count": 13,
   "metadata": {
    "pycharm": {
     "name": "#%%\n"
    }
   },
   "outputs": [
    {
     "name": "stdout",
     "output_type": "stream",
     "text": [
      "Encoding 125348 points with precision 6\n"
     ]
    },
    {
     "data": {
      "application/vnd.jupyter.widget-view+json": {
       "model_id": "99252f07436e4577b7ee91ab23554065",
       "version_major": 2,
       "version_minor": 0
      },
      "text/plain": [
       "  0%|          | 0/125348 [00:00<?, ?it/s]"
      ]
     },
     "metadata": {},
     "output_type": "display_data"
    },
    {
     "name": "stdout",
     "output_type": "stream",
     "text": [
      "Cutting sub-trajectories length at 8.0 over 18\n",
      "Pivoting tables\n"
     ]
    },
    {
     "data": {
      "application/vnd.jupyter.widget-view+json": {
       "model_id": "2424e4a8bf464cba8f178ab0d40c0b90",
       "version_major": 2,
       "version_minor": 0
      },
      "text/plain": [
       "  0%|          | 0/648 [00:00<?, ?it/s]"
      ]
     },
     "metadata": {},
     "output_type": "display_data"
    }
   ],
   "source": [
    "import random\n",
    "\n",
    "partitioner = Geohash_partitioner(precision=precision, spatioTemporalColumns=spatioTemporalCols, verbose=verbose)\n",
    "part = partitioner.fit_transform(df[df.tid.isin(tid_train)].values)\n",
    "df_part = pd.DataFrame(part, columns=[\"tid\", \"class\"]+spatioTemporalCols+[\"partId\"])\n",
    "\n",
    "n_per_class = int(100)\n",
    "selected_tid = []\n",
    "for classe in df_part[\"class\"].unique():\n",
    "    df_tmp = df_part[df_part[\"class\"] == classe]\n",
    "    selected_tid += random.sample(df_tmp.partId.unique().tolist(), k=min(len(df_tmp.partId.unique()), n_per_class))\n",
    "\n",
    "df_shape = part[df_part.partId.isin(selected_tid)]\n",
    "\n",
    "shapelets = normalizer.fit_transform(df_shape)"
   ]
  },
  {
   "cell_type": "code",
   "execution_count": 14,
   "metadata": {
    "pycharm": {
     "name": "#%%\n"
    }
   },
   "outputs": [],
   "source": [
    "from geolib import geohash\n",
    "\n",
    "\n",
    "def my_InterpolatedRootDistanceBestFitting(trajectory, movelet, spatioTemporalColumns):  # nan == end\n",
    "    if len(trajectory) % len(spatioTemporalColumns) != 0:\n",
    "        raise Exception(f\"la lunghezza della traiettoria deve essere divisivile per {len(spatioTemporalColumns)}\")\n",
    "    if len(movelet) % len(spatioTemporalColumns) != 0:\n",
    "        raise Exception(f\"la lunghezza della traiettoria deve essere divisivile per {len(spatioTemporalColumns)}\")\n",
    "\n",
    "    offset_trajectory = int(len(trajectory) / len(spatioTemporalColumns))\n",
    "    offset_movelet = int(len(movelet) / len(spatioTemporalColumns))\n",
    "\n",
    "    len_mov = 0\n",
    "    for el in movelet:\n",
    "        if np.isnan(el) or len_mov >= offset_movelet:\n",
    "            break\n",
    "        len_mov += 1\n",
    "\n",
    "    len_t = 0\n",
    "    for el in trajectory:\n",
    "        if np.isnan(el) or len_t >= offset_trajectory:\n",
    "            break\n",
    "        len_t += 1\n",
    "\n",
    "    trajectory_dict = [None for x in spatioTemporalColumns]\n",
    "    movelet_dict = [None for x in spatioTemporalColumns]\n",
    "\n",
    "    for i, col in enumerate(spatioTemporalColumns):\n",
    "        trajectory_dict[i] = trajectory[i * offset_trajectory:(i * offset_trajectory) + len_t]\n",
    "        movelet_dict[i] = movelet[i * offset_movelet:(i * offset_movelet) + len_mov]\n",
    "\n",
    "    bestScore = math.inf\n",
    "    best_i = -1\n",
    "    partitions = geohashPartition(trajectory_dict, precision)\n",
    "\n",
    "    for i in range(len(partitions)): #mi assicuro di fare almeno 1 iterazione\n",
    "        returned = trajectory_distance(partitions[i], movelet_dict)\n",
    "        if returned is not None and returned < bestScore:\n",
    "            bestScore = returned\n",
    "            best_i = i\n",
    "\n",
    "    return best_i, bestScore\n",
    "\n",
    "def geohashPartition(trajectory_dict=[], precision=5):\n",
    "    prec_index = 0\n",
    "    prec_gh = geohash.encode(trajectory_dict[0][0], trajectory_dict[1][0], precision)\n",
    "    prec_sw = geohash.bounds(prec_gh).sw\n",
    "    partizioni = []\n",
    "    for i, (c1, c2, t) in enumerate(zip(trajectory_dict[0], trajectory_dict[1], trajectory_dict[2])):\n",
    "        if geohash.encode(c1, c2, precision) != prec_gh:\n",
    "            dict_tmp = {}\n",
    "            dict_tmp[0] = trajectory_dict[0][prec_index:i] - prec_sw.lat\n",
    "            dict_tmp[1] = trajectory_dict[1][prec_index:i] - prec_sw.lon\n",
    "            dict_tmp[2] = trajectory_dict[2][prec_index:i] - trajectory_dict[2][prec_index]\n",
    "            partizioni.append(dict_tmp)\n",
    "\n",
    "            prec_index = i\n",
    "            prec_gh = geohash.encode(c1, c2, precision)\n",
    "            prec_sw = geohash.bounds(prec_gh).sw\n",
    "    dict_tmp = {}\n",
    "    dict_tmp[0] = trajectory_dict[0][prec_index:]- prec_sw.lat\n",
    "    dict_tmp[1] = trajectory_dict[1][prec_index:]- prec_sw.lon\n",
    "    dict_tmp[2] = trajectory_dict[2][prec_index:]- trajectory_dict[2][prec_index]\n",
    "    partizioni.append(dict_tmp)\n",
    "\n",
    "    return partizioni"
   ]
  },
  {
   "cell_type": "code",
   "execution_count": 15,
   "metadata": {
    "pycharm": {
     "name": "#%%\n"
    }
   },
   "outputs": [
    {
     "name": "stdout",
     "output_type": "stream",
     "text": [
      "Pivoting tables\n"
     ]
    },
    {
     "data": {
      "application/vnd.jupyter.widget-view+json": {
       "model_id": "ec9cbfec6cad44d8b5d2dfd73fa29a7b",
       "version_major": 2,
       "version_minor": 0
      },
      "text/plain": [
       "  0%|          | 0/178299 [00:00<?, ?it/s]"
      ]
     },
     "metadata": {},
     "output_type": "display_data"
    }
   ],
   "source": [
    "from cri98tj.normalizers.normalizer_utils import dataframe_pivot\n",
    "from cri98tj.distancers.InterpolatedRootDistance_distancer import trajectory_distance\n",
    "import math\n",
    "import numpy as np\n",
    "\n",
    "trajectories_df = df.copy()\n",
    "trajectories_df[\"partId\"] = trajectories_df.tid\n",
    "df_pivot = dataframe_pivot(df=trajectories_df, maxLen=None, verbose=verbose, fillna_value=None, columns=spatioTemporalCols)\n",
    "\n",
    "dist_matrix = np.zeros((len(df_pivot), len(shapelets)))\n",
    "\n"
   ]
  },
  {
   "cell_type": "code",
   "execution_count": 16,
   "metadata": {},
   "outputs": [
    {
     "data": {
      "application/vnd.jupyter.widget-view+json": {
       "model_id": "dadaa4eb192d4f9ebf329fea59fee92e",
       "version_major": 2,
       "version_minor": 0
      },
      "text/plain": [
       "  0%|          | 0/381 [00:00<?, ?it/s]"
      ]
     },
     "metadata": {},
     "output_type": "display_data"
    }
   ],
   "source": [
    "for i, traj in enumerate(tqdm(df_pivot.values[:, 1:])):\n",
    "    for j, mov in enumerate(shapelets.values[:, 1:]):\n",
    "        _, dist_matrix[i, j] = my_InterpolatedRootDistanceBestFitting(traj, mov, spatioTemporalCols)"
   ]
  },
  {
   "cell_type": "code",
   "execution_count": null,
   "metadata": {},
   "outputs": [],
   "source": []
  },
  {
   "cell_type": "code",
   "execution_count": 17,
   "metadata": {
    "pycharm": {
     "name": "#%%\n"
    }
   },
   "outputs": [],
   "source": [
    "clf = RandomForestClassifier(max_depth=3, random_state=3, n_jobs=n_jobs, n_estimators=1000)\n",
    "\n",
    "dist_np_df = pd.DataFrame(dist_matrix)"
   ]
  },
  {
   "cell_type": "code",
   "execution_count": 18,
   "metadata": {
    "pycharm": {
     "name": "#%%\n"
    }
   },
   "outputs": [
    {
     "data": {
      "text/plain": [
       "array([[131.65701994, 240.96984519,   0.        , ...,   0.        ,\n",
       "          0.        ,   0.        ],\n",
       "       [ 75.00702483, 113.58897961,   0.        , ...,   0.        ,\n",
       "          0.        ,   0.        ],\n",
       "       [120.31483577, 203.39960502,   0.        , ...,   0.        ,\n",
       "          0.        ,   0.        ],\n",
       "       ...,\n",
       "       [ 61.12943355,  59.03236511,   0.        , ...,   0.        ,\n",
       "          0.        ,   0.        ],\n",
       "       [ 76.92980557,  89.6107694 ,   0.        , ...,   0.        ,\n",
       "          0.        ,   0.        ],\n",
       "       [133.79884235,  61.99288739,   0.        , ...,   0.        ,\n",
       "          0.        ,   0.        ]])"
      ]
     },
     "execution_count": 18,
     "metadata": {},
     "output_type": "execute_result"
    }
   ],
   "source": [
    "dist_matrix"
   ]
  },
  {
   "cell_type": "code",
   "execution_count": 19,
   "metadata": {
    "pycharm": {
     "name": "#%%\n"
    }
   },
   "outputs": [],
   "source": [
    "\n",
    "X = dist_matrix\n",
    "y = df_pivot[\"class\"].values\n",
    "\n",
    "X_train, X_test, y_train, y_test = train_test_split(X, y, test_size=.3, stratify=y, random_state=3)"
   ]
  },
  {
   "cell_type": "code",
   "execution_count": 20,
   "metadata": {
    "pycharm": {
     "name": "#%%\n"
    }
   },
   "outputs": [
    {
     "name": "stdout",
     "output_type": "stream",
     "text": [
      "              precision    recall  f1-score   support\n",
      "\n",
      "           B       0.65      0.45      0.54        33\n",
      "           T       0.80      0.90      0.85        82\n",
      "\n",
      "    accuracy                           0.77       115\n",
      "   macro avg       0.73      0.68      0.69       115\n",
      "weighted avg       0.76      0.77      0.76       115\n",
      "\n"
     ]
    }
   ],
   "source": [
    "clf.fit(X_train, y_train)\n",
    "\n",
    "y_pred = clf.predict(X_test)\n",
    "\n",
    "print(classification_report(y_test, y_pred))"
   ]
  },
  {
   "cell_type": "markdown",
   "metadata": {
    "pycharm": {
     "name": "#%% md\n"
    }
   },
   "source": [
    "Risultati: anche in questo caso, la normalizzazione basata sulla cella sembra essere peggiore di quella basata sul primo punto. (?? vs ??, nonostante siano state usate molte più shapelets)"
   ]
  },
  {
   "cell_type": "code",
   "execution_count": null,
   "metadata": {},
   "outputs": [],
   "source": []
  }
 ],
 "metadata": {
  "kernelspec": {
   "display_name": "Python 3",
   "language": "python",
   "name": "python3"
  },
  "language_info": {
   "codemirror_mode": {
    "name": "ipython",
    "version": 3
   },
   "file_extension": ".py",
   "mimetype": "text/x-python",
   "name": "python",
   "nbconvert_exporter": "python",
   "pygments_lexer": "ipython3",
   "version": "3.8.8"
  }
 },
 "nbformat": 4,
 "nbformat_minor": 1
}
