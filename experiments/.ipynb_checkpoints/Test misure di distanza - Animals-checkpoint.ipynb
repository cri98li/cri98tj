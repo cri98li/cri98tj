{
 "cells": [
  {
   "cell_type": "markdown",
   "metadata": {
    "pycharm": {
     "name": "#%% md\n"
    }
   },
   "source": [
    "# Testing delle misure di distanza al variare della precision"
   ]
  },
  {
   "cell_type": "code",
   "execution_count": 1,
   "metadata": {
    "pycharm": {
     "name": "#%%\n"
    }
   },
   "outputs": [],
   "source": [
    "from sklearn.ensemble import RandomForestClassifier\n",
    "from sklearn.metrics import classification_report\n",
    "import pandas as pd\n",
    "from tqdm.auto import tqdm\n",
    "from datetime import datetime"
   ]
  },
  {
   "cell_type": "code",
   "execution_count": 2,
   "metadata": {
    "pycharm": {
     "name": "#%%\n"
    }
   },
   "outputs": [],
   "source": [
    "from cri98tj.partitioners.Geohash_partitioner import Geohash_partitioner\n",
    "from cri98tj.normalizers.FirstPoint_normalizer import FirstPoint_normalizer\n",
    "from cri98tj.selectors.RandomInformationGain_selector import RandomInformationGain_selector\n",
    "from cri98tj.distancers.Euclidean_distancer import Euclidean_distancer\n",
    "from sklearn.model_selection import train_test_split\n",
    "from cri98tj.selectors.Random_selector import Random_selector"
   ]
  },
  {
   "cell_type": "code",
   "execution_count": 3,
   "metadata": {
    "pycharm": {
     "name": "#%%\n"
    }
   },
   "outputs": [],
   "source": [
    "df0 = pd.read_csv('../examples/Animals Dataset/data/animals_preapred.zip').sort_values(by=[\"tid\", \"t\"])# precision=5, 50 movelet, DTW"
   ]
  },
  {
   "cell_type": "code",
   "execution_count": 4,
   "metadata": {
    "pycharm": {
     "name": "#%%\n"
    }
   },
   "outputs": [
    {
     "data": {
      "text/html": [
       "<div>\n",
       "<style scoped>\n",
       "    .dataframe tbody tr th:only-of-type {\n",
       "        vertical-align: middle;\n",
       "    }\n",
       "\n",
       "    .dataframe tbody tr th {\n",
       "        vertical-align: top;\n",
       "    }\n",
       "\n",
       "    .dataframe thead th {\n",
       "        text-align: right;\n",
       "    }\n",
       "</style>\n",
       "<table border=\"1\" class=\"dataframe\">\n",
       "  <thead>\n",
       "    <tr style=\"text-align: right;\">\n",
       "      <th></th>\n",
       "      <th>tid</th>\n",
       "      <th>class</th>\n",
       "      <th>t</th>\n",
       "      <th>c1</th>\n",
       "      <th>c2</th>\n",
       "    </tr>\n",
       "  </thead>\n",
       "  <tbody>\n",
       "    <tr>\n",
       "      <th>0</th>\n",
       "      <td>1</td>\n",
       "      <td>D</td>\n",
       "      <td>0</td>\n",
       "      <td>50.1066</td>\n",
       "      <td>3.79665</td>\n",
       "    </tr>\n",
       "    <tr>\n",
       "      <th>1</th>\n",
       "      <td>1</td>\n",
       "      <td>D</td>\n",
       "      <td>4</td>\n",
       "      <td>50.1045</td>\n",
       "      <td>3.79455</td>\n",
       "    </tr>\n",
       "    <tr>\n",
       "      <th>2</th>\n",
       "      <td>1</td>\n",
       "      <td>D</td>\n",
       "      <td>7</td>\n",
       "      <td>50.1111</td>\n",
       "      <td>3.79845</td>\n",
       "    </tr>\n",
       "    <tr>\n",
       "      <th>3</th>\n",
       "      <td>1</td>\n",
       "      <td>D</td>\n",
       "      <td>9</td>\n",
       "      <td>50.1072</td>\n",
       "      <td>3.79845</td>\n",
       "    </tr>\n",
       "    <tr>\n",
       "      <th>4</th>\n",
       "      <td>1</td>\n",
       "      <td>D</td>\n",
       "      <td>15</td>\n",
       "      <td>50.1132</td>\n",
       "      <td>3.79965</td>\n",
       "    </tr>\n",
       "  </tbody>\n",
       "</table>\n",
       "</div>"
      ],
      "text/plain": [
       "   tid class   t       c1       c2\n",
       "0    1     D   0  50.1066  3.79665\n",
       "1    1     D   4  50.1045  3.79455\n",
       "2    1     D   7  50.1111  3.79845\n",
       "3    1     D   9  50.1072  3.79845\n",
       "4    1     D  15  50.1132  3.79965"
      ]
     },
     "execution_count": 4,
     "metadata": {},
     "output_type": "execute_result"
    }
   ],
   "source": [
    "df0.head()"
   ]
  },
  {
   "cell_type": "code",
   "execution_count": 5,
   "metadata": {
    "pycharm": {
     "name": "#%%\n"
    }
   },
   "outputs": [],
   "source": [
    "tid_train, tid_test, _, _ = train_test_split(df0.groupby(by=[\"tid\"]).max().reset_index()[\"tid\"],\n",
    "                                                        df0.groupby(by=[\"tid\"]).max().reset_index()[\"class\"],\n",
    "                                                        test_size=.3,\n",
    "                                                        stratify=df0.groupby(by=[\"tid\"]).max().reset_index()[\"class\"],\n",
    "                                                        random_state=3)\n",
    "\n",
    "df = df0[[\"tid\", \"class\", \"c1\", \"c2\", \"t\"]]\n",
    "n_movelets=50\n",
    "n_jobs = 12\n",
    "verbose = False\n",
    "\n",
    "import warnings\n",
    "warnings.filterwarnings(\"ignore\")"
   ]
  },
  {
   "cell_type": "code",
   "execution_count": 6,
   "metadata": {},
   "outputs": [],
   "source": [
    "import warnings\n",
    "warnings.filterwarnings(\"ignore\")\n",
    "\n",
    "from sklearn.metrics import accuracy_score, precision_score, f1_score, recall_score\n",
    "\n",
    "def compute_measures(test, pred):\n",
    "    return (accuracy_score(test, pred), precision_score(test, pred, average=\"micro\"), f1_score(test, pred, average=\"micro\"), recall_score(test, pred, average=\"micro\"))\n"
   ]
  },
  {
   "cell_type": "markdown",
   "metadata": {
    "pycharm": {
     "name": "#%% md\n"
    }
   },
   "source": [
    "## Distanza euclidea, k=range(2,7)"
   ]
  },
  {
   "cell_type": "code",
   "execution_count": 7,
   "metadata": {
    "pycharm": {
     "name": "#%%\n"
    }
   },
   "outputs": [
    {
     "data": {
      "application/vnd.jupyter.widget-view+json": {
       "model_id": "48e40fc4934841069696afef228bf7b3",
       "version_major": 2,
       "version_minor": 0
      },
      "text/plain": [
       "  0%|          | 0/5 [00:00<?, ?it/s]"
      ]
     },
     "metadata": {},
     "output_type": "display_data"
    },
    {
     "data": {
      "application/vnd.jupyter.widget-view+json": {
       "model_id": "0242a293886e4989af1241ab83f52bfa",
       "version_major": 2,
       "version_minor": 0
      },
      "text/plain": [
       "  0%|          | 0/50 [00:00<?, ?it/s]"
      ]
     },
     "metadata": {},
     "output_type": "display_data"
    },
    {
     "name": "stdout",
     "output_type": "stream",
     "text": [
      "(0.8709677419354839, 0.8709677419354839, 0.8709677419354839, 0.8709677419354839)\n"
     ]
    },
    {
     "data": {
      "application/vnd.jupyter.widget-view+json": {
       "model_id": "ab26381c8a164d93b4789e461b09f43b",
       "version_major": 2,
       "version_minor": 0
      },
      "text/plain": [
       "  0%|          | 0/50 [00:00<?, ?it/s]"
      ]
     },
     "metadata": {},
     "output_type": "display_data"
    },
    {
     "name": "stdout",
     "output_type": "stream",
     "text": [
      "(0.8709677419354839, 0.8709677419354839, 0.8709677419354839, 0.8709677419354839)\n"
     ]
    },
    {
     "data": {
      "application/vnd.jupyter.widget-view+json": {
       "model_id": "417de7f40a6e40daa0d73dcdb74e65bd",
       "version_major": 2,
       "version_minor": 0
      },
      "text/plain": [
       "  0%|          | 0/50 [00:00<?, ?it/s]"
      ]
     },
     "metadata": {},
     "output_type": "display_data"
    },
    {
     "name": "stdout",
     "output_type": "stream",
     "text": [
      "(0.8387096774193549, 0.8387096774193549, 0.8387096774193549, 0.8387096774193549)\n"
     ]
    },
    {
     "data": {
      "application/vnd.jupyter.widget-view+json": {
       "model_id": "5c5a7757f8c54d1580531e9e28e9d524",
       "version_major": 2,
       "version_minor": 0
      },
      "text/plain": [
       "  0%|          | 0/50 [00:00<?, ?it/s]"
      ]
     },
     "metadata": {},
     "output_type": "display_data"
    },
    {
     "name": "stdout",
     "output_type": "stream",
     "text": [
      "(0.8709677419354839, 0.8709677419354839, 0.8709677419354839, 0.8709677419354839)\n"
     ]
    },
    {
     "data": {
      "application/vnd.jupyter.widget-view+json": {
       "model_id": "2eb9de86881d40dd8e1f78da184677bd",
       "version_major": 2,
       "version_minor": 0
      },
      "text/plain": [
       "  0%|          | 0/50 [00:00<?, ?it/s]"
      ]
     },
     "metadata": {},
     "output_type": "display_data"
    },
    {
     "name": "stdout",
     "output_type": "stream",
     "text": [
      "(0.8709677419354839, 0.8709677419354839, 0.8709677419354839, 0.8709677419354839)\n"
     ]
    },
    {
     "data": {
      "application/vnd.jupyter.widget-view+json": {
       "model_id": "7d575cfe060d401bbf5eb770f4f29790",
       "version_major": 2,
       "version_minor": 0
      },
      "text/plain": [
       "  0%|          | 0/50 [00:00<?, ?it/s]"
      ]
     },
     "metadata": {},
     "output_type": "display_data"
    },
    {
     "name": "stdout",
     "output_type": "stream",
     "text": [
      "(0.9032258064516129, 0.9032258064516129, 0.9032258064516129, 0.9032258064516129)\n"
     ]
    },
    {
     "data": {
      "application/vnd.jupyter.widget-view+json": {
       "model_id": "320bb85cb8a947078808c405ca37a1dc",
       "version_major": 2,
       "version_minor": 0
      },
      "text/plain": [
       "  0%|          | 0/50 [00:00<?, ?it/s]"
      ]
     },
     "metadata": {},
     "output_type": "display_data"
    },
    {
     "name": "stdout",
     "output_type": "stream",
     "text": [
      "(0.8709677419354839, 0.8709677419354839, 0.8709677419354839, 0.8709677419354839)\n"
     ]
    },
    {
     "data": {
      "application/vnd.jupyter.widget-view+json": {
       "model_id": "3483d3f6131d4b3a9100b955f302a843",
       "version_major": 2,
       "version_minor": 0
      },
      "text/plain": [
       "  0%|          | 0/50 [00:00<?, ?it/s]"
      ]
     },
     "metadata": {},
     "output_type": "display_data"
    },
    {
     "name": "stdout",
     "output_type": "stream",
     "text": [
      "(0.8387096774193549, 0.8387096774193549, 0.8387096774193549, 0.8387096774193549)\n"
     ]
    },
    {
     "data": {
      "application/vnd.jupyter.widget-view+json": {
       "model_id": "4a051e6128284c2e8ceb2443bdb13fe3",
       "version_major": 2,
       "version_minor": 0
      },
      "text/plain": [
       "  0%|          | 0/50 [00:00<?, ?it/s]"
      ]
     },
     "metadata": {},
     "output_type": "display_data"
    },
    {
     "name": "stdout",
     "output_type": "stream",
     "text": [
      "(0.8709677419354839, 0.8709677419354839, 0.8709677419354839, 0.8709677419354839)\n"
     ]
    },
    {
     "data": {
      "application/vnd.jupyter.widget-view+json": {
       "model_id": "df5fbd0065dd4853bcd974fd6fe906b9",
       "version_major": 2,
       "version_minor": 0
      },
      "text/plain": [
       "  0%|          | 0/50 [00:00<?, ?it/s]"
      ]
     },
     "metadata": {},
     "output_type": "display_data"
    },
    {
     "name": "stdout",
     "output_type": "stream",
     "text": [
      "(0.6129032258064516, 0.6129032258064516, 0.6129032258064516, 0.6129032258064516)\n"
     ]
    },
    {
     "data": {
      "application/vnd.jupyter.widget-view+json": {
       "model_id": "0c54ad38fb6f4e49870a8160683b62f1",
       "version_major": 2,
       "version_minor": 0
      },
      "text/plain": [
       "  0%|          | 0/50 [00:00<?, ?it/s]"
      ]
     },
     "metadata": {},
     "output_type": "display_data"
    },
    {
     "name": "stdout",
     "output_type": "stream",
     "text": [
      "(0.7096774193548387, 0.7096774193548387, 0.7096774193548389, 0.7096774193548387)\n"
     ]
    },
    {
     "data": {
      "application/vnd.jupyter.widget-view+json": {
       "model_id": "3575d7a6c156411eb3bffaba7afcbf5b",
       "version_major": 2,
       "version_minor": 0
      },
      "text/plain": [
       "  0%|          | 0/50 [00:00<?, ?it/s]"
      ]
     },
     "metadata": {},
     "output_type": "display_data"
    },
    {
     "name": "stdout",
     "output_type": "stream",
     "text": [
      "(0.5161290322580645, 0.5161290322580645, 0.5161290322580645, 0.5161290322580645)\n"
     ]
    },
    {
     "data": {
      "application/vnd.jupyter.widget-view+json": {
       "model_id": "cf5bb6354448498da4792813ee20b515",
       "version_major": 2,
       "version_minor": 0
      },
      "text/plain": [
       "  0%|          | 0/50 [00:00<?, ?it/s]"
      ]
     },
     "metadata": {},
     "output_type": "display_data"
    },
    {
     "name": "stdout",
     "output_type": "stream",
     "text": [
      "(0.3870967741935484, 0.3870967741935484, 0.3870967741935484, 0.3870967741935484)\n"
     ]
    },
    {
     "data": {
      "application/vnd.jupyter.widget-view+json": {
       "model_id": "6b4c478a7fcf4715aeb0beae17b6517a",
       "version_major": 2,
       "version_minor": 0
      },
      "text/plain": [
       "  0%|          | 0/50 [00:00<?, ?it/s]"
      ]
     },
     "metadata": {},
     "output_type": "display_data"
    },
    {
     "name": "stdout",
     "output_type": "stream",
     "text": [
      "(0.3870967741935484, 0.3870967741935484, 0.3870967741935484, 0.3870967741935484)\n"
     ]
    },
    {
     "data": {
      "application/vnd.jupyter.widget-view+json": {
       "model_id": "1428dafef2724746a8a7f38b31d35130",
       "version_major": 2,
       "version_minor": 0
      },
      "text/plain": [
       "  0%|          | 0/50 [00:00<?, ?it/s]"
      ]
     },
     "metadata": {},
     "output_type": "display_data"
    },
    {
     "name": "stdout",
     "output_type": "stream",
     "text": [
      "(0.3870967741935484, 0.3870967741935484, 0.3870967741935484, 0.3870967741935484)\n"
     ]
    }
   ],
   "source": [
    "from cri98tj.distancers.Euclidean_distancer import euclideanBestFitting\n",
    "\n",
    "spatioTemporalCols = [\"c1\", \"c2\"]\n",
    "\n",
    "normalizer = FirstPoint_normalizer(spatioTemporalColumns=spatioTemporalCols, fillna=None, verbose=verbose)\n",
    "selector = RandomInformationGain_selector(top_k=n_movelets, bestFittingMeasure=euclideanBestFitting, movelets_per_class=None, trajectories_for_orderline=None, n_jobs=n_jobs, spatioTemporalColumns=spatioTemporalCols, normalizer=normalizer, verbose=verbose)\n",
    "distancer = Euclidean_distancer(normalizer=normalizer, spatioTemporalColumns=spatioTemporalCols, n_jobs=n_jobs, verbose=verbose)\n",
    "\n",
    "res = []\n",
    "time = []\n",
    "i=0\n",
    "for precision in tqdm(range(3,8)):    \n",
    "    res.append((.0, .0, .0, .0, .0))\n",
    "    time.append(.0)\n",
    "    \n",
    "    for _ in range(3):\n",
    "        df = df0.copy()[[\"tid\", \"class\", \"c1\", \"c2\"]]\n",
    "        \n",
    "        start = datetime.now()\n",
    "        \n",
    "        partitioner = Geohash_partitioner(precision=precision, spatioTemporalColumns=spatioTemporalCols, verbose=verbose)\n",
    "        part = partitioner.fit_transform(df[df.tid.isin(tid_train)].values)\n",
    "        shapelets = selector.fit_transform(part)\n",
    "        _, dist_np = distancer.fit_transform((df.values, shapelets))\n",
    "        \n",
    "        stop = start - datetime.now()\n",
    "\n",
    "        clf = RandomForestClassifier(max_depth=3, random_state=3, n_jobs=n_jobs, n_estimators=5000)\n",
    "\n",
    "        dist_np_df = pd.DataFrame(dist_np)\n",
    "        X = dist_np_df.drop(columns=[0]).values\n",
    "        y = dist_np_df[0].values\n",
    "\n",
    "        X_train, X_test, y_train, y_test = train_test_split(X, y, test_size=.3, stratify=y, random_state=3)\n",
    "\n",
    "        clf.fit(X_train, y_train)\n",
    "\n",
    "        y_pred = clf.predict(X_test)\n",
    "        \n",
    "        res[i] = tuple(a+b for a, b in zip(compute_measures(y_test, y_pred), res[i]))\n",
    "        time[i] += -stop.total_seconds()*1000 #millisecondi\n",
    "        \n",
    "        print(compute_measures(y_test, y_pred))\n",
    "        \n",
    "    res[i] = list(map(lambda x: x/3, res[i]))\n",
    "    time[i] /= 3\n",
    "    i += 1"
   ]
  },
  {
   "cell_type": "code",
   "execution_count": 8,
   "metadata": {
    "pycharm": {
     "name": "#%%\n"
    }
   },
   "outputs": [
    {
     "name": "stdout",
     "output_type": "stream",
     "text": [
      "3: 0.8602150537634409 in 25.242951333333334s\n",
      "4: 0.8817204301075269 in 18.02610333333333s\n",
      "5: 0.8602150537634409 in 14.060889333333332s\n",
      "6: 0.6129032258064516 in 10.462801333333335s\n",
      "7: 0.3870967741935483 in 9.996637999999999s\n"
     ]
    }
   ],
   "source": [
    "for precisione, t, val in zip(range(3,8), time, res):\n",
    "    print(F\"{precisione}: {val[0]} in {t/1000}s\")"
   ]
  },
  {
   "cell_type": "code",
   "execution_count": 9,
   "metadata": {},
   "outputs": [],
   "source": [
    "df_res_rig = pd.DataFrame(res, columns=[\"acc\", \"prec\", \"f1\", \"recall\"])\n",
    "\n",
    "df_res_rig[\"t\"] = time\n",
    "\n",
    "df_res_rig[\"precision\"] = range(3,8)\n",
    "\n",
    "df_res_rig.to_csv(f\"Test euclidea animals.csv\", index=None)"
   ]
  },
  {
   "cell_type": "markdown",
   "metadata": {
    "pycharm": {
     "name": "#%% md\n"
    }
   },
   "source": [
    "## Distanza Prof"
   ]
  },
  {
   "cell_type": "code",
   "execution_count": 10,
   "metadata": {
    "pycharm": {
     "name": "#%%\n"
    }
   },
   "outputs": [
    {
     "data": {
      "application/vnd.jupyter.widget-view+json": {
       "model_id": "5b36355fcbde417383cd58999a6039fc",
       "version_major": 2,
       "version_minor": 0
      },
      "text/plain": [
       "  0%|          | 0/5 [00:00<?, ?it/s]"
      ]
     },
     "metadata": {},
     "output_type": "display_data"
    },
    {
     "name": "stdout",
     "output_type": "stream",
     "text": [
      "0.9032258064516129\n",
      "0.9354838709677419\n",
      "0.9032258064516129\n",
      "0.8064516129032258\n",
      "0.9032258064516129\n",
      "0.7741935483870968\n",
      "0.8064516129032258\n",
      "0.7741935483870968\n",
      "0.7741935483870968\n",
      "0.5806451612903226\n",
      "0.6451612903225806\n",
      "0.5483870967741935\n",
      "0.3870967741935484\n",
      "0.25806451612903225\n",
      "0.3870967741935484\n"
     ]
    }
   ],
   "source": [
    "from cri98tj.distancers.InterpolatedRootDistance_distancer import InterpolatedRootDistance_distancer, \\\n",
    "    InterpolatedRootDistanceBestFitting\n",
    "spatioTemporalCols = [\"c1\", \"c2\", \"t\"]\n",
    "\n",
    "normalizer = FirstPoint_normalizer(spatioTemporalColumns=spatioTemporalCols, fillna=None, verbose=verbose)\n",
    "selector = RandomInformationGain_selector(top_k=n_movelets, bestFittingMeasure=InterpolatedRootDistanceBestFitting, movelets_per_class=None, trajectories_for_orderline=None, n_jobs=n_jobs, spatioTemporalColumns=spatioTemporalCols, normalizer=normalizer, verbose=verbose)\n",
    "distancer = InterpolatedRootDistance_distancer(normalizer=normalizer, spatioTemporalColumns=spatioTemporalCols, n_jobs=n_jobs, verbose=verbose)\n",
    "\n",
    "res = []\n",
    "time = []\n",
    "i=0\n",
    "for precision in tqdm(range(3,8)):\n",
    "    res.append((.0, .0, .0, .0, .0))\n",
    "    time.append(.0)\n",
    "    \n",
    "    for _ in range(3):\n",
    "        df = df0.copy()[[\"tid\", \"class\", \"c1\", \"c2\", \"t\"]]\n",
    "        start = datetime.now()\n",
    "    \n",
    "        partitioner = Geohash_partitioner(precision=precision, spatioTemporalColumns=spatioTemporalCols, verbose=verbose)\n",
    "        part = partitioner.fit_transform(df[df.tid.isin(tid_train)].values)\n",
    "        shapelets = selector.fit_transform(part)\n",
    "        _, dist_np = distancer.fit_transform((df.values, shapelets))\n",
    "        \n",
    "        stop = start - datetime.now()\n",
    "\n",
    "        clf = RandomForestClassifier(max_depth=3, random_state=3, n_jobs=n_jobs, n_estimators=5000)\n",
    "\n",
    "        dist_np_df = pd.DataFrame(dist_np)\n",
    "        X = dist_np_df.drop(columns=[0]).values\n",
    "        y = dist_np_df[0].values\n",
    "\n",
    "        X_train, X_test, y_train, y_test = train_test_split(X, y, test_size=.3, stratify=y, random_state=3)\n",
    "\n",
    "        clf.fit(X_train, y_train)\n",
    "\n",
    "        y_pred = clf.predict(X_test)\n",
    "        \n",
    "        print(compute_measures(y_test, y_pred)[0])\n",
    "        \n",
    "        res[i] = tuple(a+b for a, b in zip(compute_measures(y_test, y_pred), res[i]))\n",
    "        time[i] += stop.total_seconds()*1000 #millisecondi\n",
    "        \n",
    "    res[i] = list(map(lambda x: x/3, res[i]))\n",
    "    time[i] /= 3\n",
    "    i += 1"
   ]
  },
  {
   "cell_type": "code",
   "execution_count": 11,
   "metadata": {
    "pycharm": {
     "name": "#%%\n"
    }
   },
   "outputs": [
    {
     "name": "stdout",
     "output_type": "stream",
     "text": [
      "3: 0.9139784946236559 in -102.07380033333334s\n",
      "4: 0.8279569892473116 in -87.923401s\n",
      "5: 0.7849462365591396 in -66.85863866666666s\n",
      "6: 0.5913978494623656 in -20.539392333333332s\n",
      "7: 0.3440860215053763 in -11.350185333333332s\n"
     ]
    }
   ],
   "source": [
    "for precisione, t, val in zip(range(3,8), time, res):\n",
    "    print(F\"{precisione}: {val[0]} in {t/1000}s\")"
   ]
  },
  {
   "cell_type": "code",
   "execution_count": 12,
   "metadata": {
    "pycharm": {
     "name": "#%%\n"
    }
   },
   "outputs": [],
   "source": [
    "df_res_rig = pd.DataFrame(res, columns=[\"acc\", \"prec\", \"f1\", \"recall\"])\n",
    "\n",
    "df_res_rig[\"t\"] = time\n",
    "\n",
    "df_res_rig[\"t\"] *= -1\n",
    "\n",
    "df_res_rig[\"precision\"] = range(3,8)\n",
    "\n",
    "df_res_rig.to_csv(f\"Test IRD animals.csv\", index=None)"
   ]
  },
  {
   "cell_type": "code",
   "execution_count": null,
   "metadata": {
    "pycharm": {
     "name": "#%%\n"
    }
   },
   "outputs": [],
   "source": []
  },
  {
   "cell_type": "markdown",
   "metadata": {
    "pycharm": {
     "name": "#%%\n"
    }
   },
   "source": [
    "## DTW"
   ]
  },
  {
   "cell_type": "code",
   "execution_count": 21,
   "metadata": {
    "pycharm": {
     "name": "#%%\n"
    }
   },
   "outputs": [
    {
     "data": {
      "application/vnd.jupyter.widget-view+json": {
       "model_id": "001d3e51dbab4e85a2dadb6dc4e68d10",
       "version_major": 2,
       "version_minor": 0
      },
      "text/plain": [
       "  0%|          | 0/5 [00:00<?, ?it/s]"
      ]
     },
     "metadata": {},
     "output_type": "display_data"
    },
    {
     "data": {
      "application/vnd.jupyter.widget-view+json": {
       "model_id": "b187eea46f5f4ad59a7c961fa96ddefc",
       "version_major": 2,
       "version_minor": 0
      },
      "text/plain": [
       "  0%|          | 0/50 [00:00<?, ?it/s]"
      ]
     },
     "metadata": {},
     "output_type": "display_data"
    },
    {
     "name": "stdout",
     "output_type": "stream",
     "text": [
      "0.2903225806451613\n"
     ]
    },
    {
     "data": {
      "application/vnd.jupyter.widget-view+json": {
       "model_id": "3a25c724e3df45babf883111b6232700",
       "version_major": 2,
       "version_minor": 0
      },
      "text/plain": [
       "  0%|          | 0/50 [00:00<?, ?it/s]"
      ]
     },
     "metadata": {},
     "output_type": "display_data"
    },
    {
     "name": "stdout",
     "output_type": "stream",
     "text": [
      "0.2903225806451613\n"
     ]
    },
    {
     "data": {
      "application/vnd.jupyter.widget-view+json": {
       "model_id": "0eef373e53a945dbb5160c079245aa2e",
       "version_major": 2,
       "version_minor": 0
      },
      "text/plain": [
       "  0%|          | 0/50 [00:00<?, ?it/s]"
      ]
     },
     "metadata": {},
     "output_type": "display_data"
    },
    {
     "name": "stdout",
     "output_type": "stream",
     "text": [
      "0.2903225806451613\n"
     ]
    },
    {
     "data": {
      "application/vnd.jupyter.widget-view+json": {
       "model_id": "5f05544a90f54aec912692dd1a677262",
       "version_major": 2,
       "version_minor": 0
      },
      "text/plain": [
       "  0%|          | 0/50 [00:00<?, ?it/s]"
      ]
     },
     "metadata": {},
     "output_type": "display_data"
    },
    {
     "name": "stdout",
     "output_type": "stream",
     "text": [
      "0.6774193548387096\n"
     ]
    },
    {
     "data": {
      "application/vnd.jupyter.widget-view+json": {
       "model_id": "9bd180a543024272bef648dbfaa18a52",
       "version_major": 2,
       "version_minor": 0
      },
      "text/plain": [
       "  0%|          | 0/50 [00:00<?, ?it/s]"
      ]
     },
     "metadata": {},
     "output_type": "display_data"
    },
    {
     "name": "stdout",
     "output_type": "stream",
     "text": [
      "0.7096774193548387\n"
     ]
    },
    {
     "data": {
      "application/vnd.jupyter.widget-view+json": {
       "model_id": "0a629076e7a34b02af43ceef3cc362ee",
       "version_major": 2,
       "version_minor": 0
      },
      "text/plain": [
       "  0%|          | 0/50 [00:00<?, ?it/s]"
      ]
     },
     "metadata": {},
     "output_type": "display_data"
    },
    {
     "name": "stdout",
     "output_type": "stream",
     "text": [
      "0.7096774193548387\n"
     ]
    },
    {
     "data": {
      "application/vnd.jupyter.widget-view+json": {
       "model_id": "c63d0a99b90441c7b3707bd0b9b88235",
       "version_major": 2,
       "version_minor": 0
      },
      "text/plain": [
       "  0%|          | 0/50 [00:00<?, ?it/s]"
      ]
     },
     "metadata": {},
     "output_type": "display_data"
    },
    {
     "name": "stdout",
     "output_type": "stream",
     "text": [
      "0.8709677419354839\n"
     ]
    },
    {
     "data": {
      "application/vnd.jupyter.widget-view+json": {
       "model_id": "0b5600d6cef34e15a5298af2610ce040",
       "version_major": 2,
       "version_minor": 0
      },
      "text/plain": [
       "  0%|          | 0/50 [00:00<?, ?it/s]"
      ]
     },
     "metadata": {},
     "output_type": "display_data"
    },
    {
     "name": "stdout",
     "output_type": "stream",
     "text": [
      "0.9032258064516129\n"
     ]
    },
    {
     "data": {
      "application/vnd.jupyter.widget-view+json": {
       "model_id": "ecf9e14d849c4e6a8c5e3932bdd21788",
       "version_major": 2,
       "version_minor": 0
      },
      "text/plain": [
       "  0%|          | 0/50 [00:00<?, ?it/s]"
      ]
     },
     "metadata": {},
     "output_type": "display_data"
    },
    {
     "name": "stdout",
     "output_type": "stream",
     "text": [
      "0.8709677419354839\n"
     ]
    },
    {
     "data": {
      "application/vnd.jupyter.widget-view+json": {
       "model_id": "142bf4110109488b980167f285c01122",
       "version_major": 2,
       "version_minor": 0
      },
      "text/plain": [
       "  0%|          | 0/50 [00:00<?, ?it/s]"
      ]
     },
     "metadata": {},
     "output_type": "display_data"
    },
    {
     "name": "stdout",
     "output_type": "stream",
     "text": [
      "0.967741935483871\n"
     ]
    },
    {
     "data": {
      "application/vnd.jupyter.widget-view+json": {
       "model_id": "ae280d773ec4408e926f69554ed920e7",
       "version_major": 2,
       "version_minor": 0
      },
      "text/plain": [
       "  0%|          | 0/50 [00:00<?, ?it/s]"
      ]
     },
     "metadata": {},
     "output_type": "display_data"
    },
    {
     "name": "stdout",
     "output_type": "stream",
     "text": [
      "0.9354838709677419\n"
     ]
    },
    {
     "data": {
      "application/vnd.jupyter.widget-view+json": {
       "model_id": "b1a355b719584b379bef35b3e3eaa587",
       "version_major": 2,
       "version_minor": 0
      },
      "text/plain": [
       "  0%|          | 0/50 [00:00<?, ?it/s]"
      ]
     },
     "metadata": {},
     "output_type": "display_data"
    },
    {
     "name": "stdout",
     "output_type": "stream",
     "text": [
      "0.9354838709677419\n"
     ]
    },
    {
     "data": {
      "application/vnd.jupyter.widget-view+json": {
       "model_id": "1725a7f7d6354123a88fdd3da6ba1b16",
       "version_major": 2,
       "version_minor": 0
      },
      "text/plain": [
       "  0%|          | 0/50 [00:00<?, ?it/s]"
      ]
     },
     "metadata": {},
     "output_type": "display_data"
    },
    {
     "name": "stdout",
     "output_type": "stream",
     "text": [
      "0.9354838709677419\n"
     ]
    },
    {
     "data": {
      "application/vnd.jupyter.widget-view+json": {
       "model_id": "23d3a82641a04a4181a38436b0681e60",
       "version_major": 2,
       "version_minor": 0
      },
      "text/plain": [
       "  0%|          | 0/50 [00:00<?, ?it/s]"
      ]
     },
     "metadata": {},
     "output_type": "display_data"
    },
    {
     "name": "stdout",
     "output_type": "stream",
     "text": [
      "0.9354838709677419\n"
     ]
    },
    {
     "data": {
      "application/vnd.jupyter.widget-view+json": {
       "model_id": "5fea10289da14eb8acd5a544a3453e20",
       "version_major": 2,
       "version_minor": 0
      },
      "text/plain": [
       "  0%|          | 0/50 [00:00<?, ?it/s]"
      ]
     },
     "metadata": {},
     "output_type": "display_data"
    },
    {
     "name": "stdout",
     "output_type": "stream",
     "text": [
      "0.9354838709677419\n"
     ]
    }
   ],
   "source": [
    "from cri98tj.distancers.DTW_distancer import DTW_distancer, DTWBestFitting\n",
    "\n",
    "spatioTemporalCols = [\"c1\", \"c2\"]\n",
    "\n",
    "normalizer = FirstPoint_normalizer(spatioTemporalColumns=spatioTemporalCols, fillna=None, verbose=verbose)\n",
    "selector = RandomInformationGain_selector(top_k=n_movelets, bestFittingMeasure=DTWBestFitting, movelets_per_class=None, trajectories_for_orderline=None, n_jobs=n_jobs, spatioTemporalColumns=spatioTemporalCols, normalizer=normalizer, verbose=verbose)\n",
    "distancer = DTW_distancer(normalizer=normalizer, spatioTemporalColumns=spatioTemporalCols, n_jobs=n_jobs, verbose=verbose)\n",
    "\n",
    "res = []\n",
    "time = []\n",
    "i=0\n",
    "for precision in tqdm(range(7,2,-1)):\n",
    "    res.append((.0, .0, .0, .0, .0))\n",
    "    time.append(.0)\n",
    "    \n",
    "    for _ in range(3):\n",
    "        spatioTemporalCols = [\"c1\", \"c2\"]\n",
    "        df = df0.copy()[[\"tid\", \"class\", \"c1\", \"c2\"]]\n",
    "        start = datetime.now()\n",
    "        \n",
    "        partitioner = Geohash_partitioner(precision=precision, spatioTemporalColumns=spatioTemporalCols, verbose=verbose)\n",
    "        part = partitioner.fit_transform(df[df.tid.isin(tid_train)].values)\n",
    "        shapelets = selector.fit_transform(part)\n",
    "        dist_np = distancer.fit_transform((df.values, shapelets))\n",
    "        \n",
    "        stop = start - datetime.now()\n",
    "\n",
    "        clf = RandomForestClassifier(max_depth=3, random_state=3, n_jobs=n_jobs, n_estimators=5000)\n",
    "\n",
    "        dist_np_df = pd.DataFrame(dist_np)\n",
    "        X = dist_np_df.drop(columns=[0]).values\n",
    "        y = dist_np_df[0].values\n",
    "\n",
    "        X_train, X_test, y_train, y_test = train_test_split(X, y, test_size=.3, stratify=y, random_state=3)\n",
    "\n",
    "        clf.fit(X_train, y_train)\n",
    "\n",
    "        y_pred = clf.predict(X_test)\n",
    "        \n",
    "        print(compute_measures(y_test, y_pred)[0])\n",
    "        \n",
    "        res[i] = tuple(a+b for a, b in zip(compute_measures(y_test, y_pred), res[i]))\n",
    "        time[i] += stop.total_seconds()*1000 #millisecondi\n",
    "        \n",
    "    res[i] = list(map(lambda x: x/3, res[i]))\n",
    "    time[i] /= 3\n",
    "    i += 1"
   ]
  },
  {
   "cell_type": "code",
   "execution_count": 27,
   "metadata": {
    "pycharm": {
     "name": "#%%\n"
    }
   },
   "outputs": [
    {
     "name": "stdout",
     "output_type": "stream",
     "text": [
      "7: 0.2903225806451613 in -320.35854600000005s\n",
      "6: 0.6989247311827956 in -440.5930543333334s\n",
      "5: 0.8817204301075269 in -1914.1983566666668s\n",
      "4: 0.946236559139785 in -2318.1647826666663s\n",
      "3: 0.9354838709677419 in -3038.728571666667s\n"
     ]
    }
   ],
   "source": [
    "for precisione, t, val in zip(range(7,2,-1), time, res):\n",
    "    print(F\"{precisione}: {val[0]} in {t/1000}s\")"
   ]
  },
  {
   "cell_type": "code",
   "execution_count": 26,
   "metadata": {
    "pycharm": {
     "name": "#%%\n"
    }
   },
   "outputs": [],
   "source": [
    "df_res_rig = pd.DataFrame(res, columns=[\"acc\", \"prec\", \"f1\", \"recall\"])\n",
    "\n",
    "df_res_rig[\"t\"] = time\n",
    "\n",
    "df_res_rig[\"t\"] *= -1\n",
    "\n",
    "df_res_rig[\"precision\"] = range(7,2,-1)\n",
    "\n",
    "df_res_rig.to_csv(f\"Test DTW animals.csv\", index=None)"
   ]
  },
  {
   "cell_type": "code",
   "execution_count": null,
   "metadata": {
    "pycharm": {
     "name": "#%%\n"
    }
   },
   "outputs": [],
   "source": []
  },
  {
   "cell_type": "code",
   "execution_count": 23,
   "metadata": {
    "pycharm": {
     "name": "#%%\n"
    }
   },
   "outputs": [
    {
     "data": {
      "text/plain": [
       "[[0.2903225806451613,\n",
       "  0.2903225806451613,\n",
       "  0.2903225806451613,\n",
       "  0.2903225806451613],\n",
       " [0.6989247311827956,\n",
       "  0.6989247311827956,\n",
       "  0.6989247311827959,\n",
       "  0.6989247311827956],\n",
       " [0.8817204301075269,\n",
       "  0.8817204301075269,\n",
       "  0.8817204301075269,\n",
       "  0.8817204301075269],\n",
       " [0.946236559139785, 0.946236559139785, 0.946236559139785, 0.946236559139785],\n",
       " [0.9354838709677419,\n",
       "  0.9354838709677419,\n",
       "  0.9354838709677419,\n",
       "  0.9354838709677419]]"
      ]
     },
     "execution_count": 23,
     "metadata": {},
     "output_type": "execute_result"
    }
   ],
   "source": []
  },
  {
   "cell_type": "code",
   "execution_count": null,
   "metadata": {
    "pycharm": {
     "name": "#%%\n"
    }
   },
   "outputs": [],
   "source": []
  },
  {
   "cell_type": "code",
   "execution_count": null,
   "metadata": {
    "pycharm": {
     "name": "#%%\n"
    }
   },
   "outputs": [],
   "source": []
  }
 ],
 "metadata": {
  "kernelspec": {
   "display_name": "Python 3",
   "language": "python",
   "name": "python3"
  },
  "language_info": {
   "codemirror_mode": {
    "name": "ipython",
    "version": 3
   },
   "file_extension": ".py",
   "mimetype": "text/x-python",
   "name": "python",
   "nbconvert_exporter": "python",
   "pygments_lexer": "ipython3",
   "version": "3.8.8"
  }
 },
 "nbformat": 4,
 "nbformat_minor": 1
}
