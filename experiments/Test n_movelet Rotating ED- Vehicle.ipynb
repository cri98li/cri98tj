{
 "cells": [
  {
   "cell_type": "code",
   "execution_count": null,
   "metadata": {},
   "outputs": [],
   "source": []
  },
  {
   "cell_type": "code",
   "execution_count": 1,
   "metadata": {},
   "outputs": [],
   "source": [
    "import geolib.geohash\n",
    "from sklearn.ensemble import RandomForestClassifier\n",
    "from sklearn.metrics import classification_report\n",
    "import pandas as pd\n",
    "from tqdm.auto import tqdm\n",
    "from cri98tj.partitioners.Geohash_partitioner import Geohash_partitioner\n",
    "from cri98tj.normalizers.FirstPoint_normalizer import FirstPoint_normalizer\n",
    "from cri98tj.selectors.RandomInformationGain_selector import RandomInformationGain_selector\n",
    "from cri98tj.distancers.Euclidean_distancer import Euclidean_distancer\n",
    "from sklearn.model_selection import train_test_split\n",
    "from cri98tj.distancers.Euclidean_distancer import euclideanBestFitting"
   ]
  },
  {
   "cell_type": "code",
   "execution_count": 2,
   "metadata": {},
   "outputs": [
    {
     "data": {
      "text/plain": "     tid class         c1        c2\n0  30901     B  42.077160  4.738411\n1  30901     B  42.077246  4.739088\n2  30901     B  42.077259  4.739096\n3  30901     B  42.077369  4.739158\n4  30901     B  42.077635  4.739343",
      "text/html": "<div>\n<style scoped>\n    .dataframe tbody tr th:only-of-type {\n        vertical-align: middle;\n    }\n\n    .dataframe tbody tr th {\n        vertical-align: top;\n    }\n\n    .dataframe thead th {\n        text-align: right;\n    }\n</style>\n<table border=\"1\" class=\"dataframe\">\n  <thead>\n    <tr style=\"text-align: right;\">\n      <th></th>\n      <th>tid</th>\n      <th>class</th>\n      <th>c1</th>\n      <th>c2</th>\n    </tr>\n  </thead>\n  <tbody>\n    <tr>\n      <th>0</th>\n      <td>30901</td>\n      <td>B</td>\n      <td>42.077160</td>\n      <td>4.738411</td>\n    </tr>\n    <tr>\n      <th>1</th>\n      <td>30901</td>\n      <td>B</td>\n      <td>42.077246</td>\n      <td>4.739088</td>\n    </tr>\n    <tr>\n      <th>2</th>\n      <td>30901</td>\n      <td>B</td>\n      <td>42.077259</td>\n      <td>4.739096</td>\n    </tr>\n    <tr>\n      <th>3</th>\n      <td>30901</td>\n      <td>B</td>\n      <td>42.077369</td>\n      <td>4.739158</td>\n    </tr>\n    <tr>\n      <th>4</th>\n      <td>30901</td>\n      <td>B</td>\n      <td>42.077635</td>\n      <td>4.739343</td>\n    </tr>\n  </tbody>\n</table>\n</div>"
     },
     "execution_count": 2,
     "metadata": {},
     "output_type": "execute_result"
    }
   ],
   "source": [
    "df_original = pd.read_csv('../examples/Vehicles Dataset/data/vehicles_preapred.zip').sort_values(by=[\"tid\", \"t\"])# precision=5, 50 movelet, DTW\n",
    "df_original[\"c1\"] = df_original.c1/100000\n",
    "df_original[\"c2\"] = df_original.c2/100000\n",
    "\n",
    "df = df_original[[\"tid\", \"class\", \"c1\", \"c2\"]].copy()\n",
    "\n",
    "df.head()"
   ]
  },
  {
   "cell_type": "code",
   "execution_count": 3,
   "metadata": {},
   "outputs": [],
   "source": [
    "tid_train, tid_test, _, _ = train_test_split(df.groupby(by=[\"tid\"]).max().reset_index()[\"tid\"],\n",
    "                                                        df.groupby(by=[\"tid\"]).max().reset_index()[\"class\"],\n",
    "                                                        test_size=.3,\n",
    "                                                        stratify=df.groupby(by=[\"tid\"]).max().reset_index()[\"class\"],\n",
    "                                                        random_state=3)\n",
    "\n",
    "spatioTemporalCols = [\"c1\", \"c2\"]\n",
    "n_jobs = 24\n",
    "verbose = False"
   ]
  },
  {
   "cell_type": "code",
   "execution_count": 4,
   "metadata": {},
   "outputs": [],
   "source": [
    "import warnings\n",
    "warnings.filterwarnings(\"ignore\")\n",
    "\n",
    "from sklearn.metrics import accuracy_score, precision_score, f1_score, recall_score\n",
    "\n",
    "def compute_measures(test, pred):\n",
    "    return (accuracy_score(test, pred), precision_score(test, pred, average=\"micro\"), f1_score(test, pred, average=\"micro\"), recall_score(test, pred, average=\"micro\"))\n"
   ]
  },
  {
   "cell_type": "code",
   "execution_count": 6,
   "metadata": {},
   "outputs": [
    {
     "data": {
      "text/plain": "  0%|          | 0/18 [00:00<?, ?it/s]",
      "application/vnd.jupyter.widget-view+json": {
       "version_major": 2,
       "version_minor": 0,
       "model_id": "74eaf90ef0414d11a86d6a5ac1b202b3"
      }
     },
     "metadata": {},
     "output_type": "display_data"
    },
    {
     "data": {
      "text/plain": "  0%|          | 0/1 [00:00<?, ?it/s]",
      "application/vnd.jupyter.widget-view+json": {
       "version_major": 2,
       "version_minor": 0,
       "model_id": "568913e55bf547f496b6cc0bc13d451d"
      }
     },
     "metadata": {},
     "output_type": "display_data"
    },
    {
     "data": {
      "text/plain": "  0%|          | 0/2 [00:00<?, ?it/s]",
      "application/vnd.jupyter.widget-view+json": {
       "version_major": 2,
       "version_minor": 0,
       "model_id": "353901e2ed0e4be09cc2bb456a0192f7"
      }
     },
     "metadata": {},
     "output_type": "display_data"
    },
    {
     "data": {
      "text/plain": "  0%|          | 0/3 [00:00<?, ?it/s]",
      "application/vnd.jupyter.widget-view+json": {
       "version_major": 2,
       "version_minor": 0,
       "model_id": "4e806f41eddb45379514e31153b7a76c"
      }
     },
     "metadata": {},
     "output_type": "display_data"
    },
    {
     "data": {
      "text/plain": "  0%|          | 0/5 [00:00<?, ?it/s]",
      "application/vnd.jupyter.widget-view+json": {
       "version_major": 2,
       "version_minor": 0,
       "model_id": "d437e20d7a194d33b7148b9aa82c33d8"
      }
     },
     "metadata": {},
     "output_type": "display_data"
    },
    {
     "data": {
      "text/plain": "  0%|          | 0/7 [00:00<?, ?it/s]",
      "application/vnd.jupyter.widget-view+json": {
       "version_major": 2,
       "version_minor": 0,
       "model_id": "839a2e4b7be6476fb282d86a6a1640e4"
      }
     },
     "metadata": {},
     "output_type": "display_data"
    },
    {
     "data": {
      "text/plain": "  0%|          | 0/10 [00:00<?, ?it/s]",
      "application/vnd.jupyter.widget-view+json": {
       "version_major": 2,
       "version_minor": 0,
       "model_id": "89972a3354bb413cbd07d9420dc11d15"
      }
     },
     "metadata": {},
     "output_type": "display_data"
    },
    {
     "data": {
      "text/plain": "  0%|          | 0/14 [00:00<?, ?it/s]",
      "application/vnd.jupyter.widget-view+json": {
       "version_major": 2,
       "version_minor": 0,
       "model_id": "76b5229df74d4e57aaecdfda4608d35c"
      }
     },
     "metadata": {},
     "output_type": "display_data"
    },
    {
     "data": {
      "text/plain": "  0%|          | 0/20 [00:00<?, ?it/s]",
      "application/vnd.jupyter.widget-view+json": {
       "version_major": 2,
       "version_minor": 0,
       "model_id": "8b5d32d2e61b48788f07a80737adcc84"
      }
     },
     "metadata": {},
     "output_type": "display_data"
    },
    {
     "data": {
      "text/plain": "  0%|          | 0/28 [00:00<?, ?it/s]",
      "application/vnd.jupyter.widget-view+json": {
       "version_major": 2,
       "version_minor": 0,
       "model_id": "0d3bec38ad30468d8f67248233b4b82c"
      }
     },
     "metadata": {},
     "output_type": "display_data"
    },
    {
     "data": {
      "text/plain": "  0%|          | 0/40 [00:00<?, ?it/s]",
      "application/vnd.jupyter.widget-view+json": {
       "version_major": 2,
       "version_minor": 0,
       "model_id": "c060fb2ad0de4078a4d1985284b82a14"
      }
     },
     "metadata": {},
     "output_type": "display_data"
    },
    {
     "data": {
      "text/plain": "  0%|          | 0/56 [00:00<?, ?it/s]",
      "application/vnd.jupyter.widget-view+json": {
       "version_major": 2,
       "version_minor": 0,
       "model_id": "4ada99376d3743969e963bd9d1cb6036"
      }
     },
     "metadata": {},
     "output_type": "display_data"
    },
    {
     "data": {
      "text/plain": "  0%|          | 0/79 [00:00<?, ?it/s]",
      "application/vnd.jupyter.widget-view+json": {
       "version_major": 2,
       "version_minor": 0,
       "model_id": "3cd1f95748dc4d76b3b5f5fd53676c6d"
      }
     },
     "metadata": {},
     "output_type": "display_data"
    },
    {
     "data": {
      "text/plain": "  0%|          | 0/111 [00:00<?, ?it/s]",
      "application/vnd.jupyter.widget-view+json": {
       "version_major": 2,
       "version_minor": 0,
       "model_id": "e7099566f3a54495a2a63cba3fc4dd4f"
      }
     },
     "metadata": {},
     "output_type": "display_data"
    },
    {
     "data": {
      "text/plain": "  0%|          | 0/155 [00:00<?, ?it/s]",
      "application/vnd.jupyter.widget-view+json": {
       "version_major": 2,
       "version_minor": 0,
       "model_id": "c3e0838e4481490dbe723f9efb84b42a"
      }
     },
     "metadata": {},
     "output_type": "display_data"
    },
    {
     "data": {
      "text/plain": "  0%|          | 0/217 [00:00<?, ?it/s]",
      "application/vnd.jupyter.widget-view+json": {
       "version_major": 2,
       "version_minor": 0,
       "model_id": "357f77d9ebe14670ad006a05a2b2c766"
      }
     },
     "metadata": {},
     "output_type": "display_data"
    },
    {
     "data": {
      "text/plain": "  0%|          | 0/300 [00:00<?, ?it/s]",
      "application/vnd.jupyter.widget-view+json": {
       "version_major": 2,
       "version_minor": 0,
       "model_id": "9b30be0c00464b268572c411c64e29ee"
      }
     },
     "metadata": {},
     "output_type": "display_data"
    },
    {
     "data": {
      "text/plain": "  0%|          | 0/300 [00:00<?, ?it/s]",
      "application/vnd.jupyter.widget-view+json": {
       "version_major": 2,
       "version_minor": 0,
       "model_id": "5ddee5337eac4159985d839e96a9a64a"
      }
     },
     "metadata": {},
     "output_type": "display_data"
    },
    {
     "data": {
      "text/plain": "  0%|          | 0/300 [00:00<?, ?it/s]",
      "application/vnd.jupyter.widget-view+json": {
       "version_major": 2,
       "version_minor": 0,
       "model_id": "515d4cf246d64982979a01a3146a4c31"
      }
     },
     "metadata": {},
     "output_type": "display_data"
    },
    {
     "name": "stdout",
     "output_type": "stream",
     "text": [
      "Wall time: 2h 55min 58s\n"
     ]
    }
   ],
   "source": [
    "%%time\n",
    "\n",
    "from datetime import datetime\n",
    "from sklearn.metrics import accuracy_score, precision_score, f1_score, recall_score\n",
    "from cri98tj.distancers.RotatingEuclidean_distancer import RotatingEuclidean_distancer, \\\n",
    "    rotatingEuclideanBestFitting\n",
    "\n",
    "precision = 6\n",
    "iter = 1\n",
    "\n",
    "res = []\n",
    "n_mov_rig = []\n",
    "time = []\n",
    "for i in tqdm(range(2, 20)):\n",
    "    df = df_original[[\"tid\", \"class\", \"c1\", \"c2\"]].copy()\n",
    "    \n",
    "    res.append((.0, .0, .0, .0, .0))\n",
    "    n_mov_rig.append(0)\n",
    "    time.append(.0)\n",
    "\n",
    "    for _ in range(iter):\n",
    "        normalizer = FirstPoint_normalizer(spatioTemporalColumns=spatioTemporalCols, fillna=None, verbose=verbose)\n",
    "        distancer = RotatingEuclidean_distancer(normalizer=normalizer, spatioTemporalColumns=spatioTemporalCols, n_jobs=n_jobs, verbose=verbose)\n",
    "        partitioner = Geohash_partitioner(precision=precision, spatioTemporalColumns=spatioTemporalCols, verbose=verbose)\n",
    "\n",
    "        start = datetime.now()\n",
    "        part = partitioner.fit_transform(df[df.tid.isin(tid_train)].values)\n",
    "        selector = RandomInformationGain_selector(top_k=int(1.4**i), bestFittingMeasure=rotatingEuclideanBestFitting, movelets_per_class=300, trajectories_for_orderline=50, n_jobs=n_jobs, spatioTemporalColumns=spatioTemporalCols, normalizer=normalizer, verbose=verbose)\n",
    "        shapelets = selector.fit_transform(part)\n",
    "        _, dist_np = distancer.fit_transform((df.values, shapelets))\n",
    "        stop = start - datetime.now()\n",
    "\n",
    "        n_mov_rig[i-2] += (dist_np.shape[1])\n",
    "\n",
    "        clf = RandomForestClassifier(max_depth=3, random_state=3, n_jobs=n_jobs, n_estimators=5000)\n",
    "\n",
    "        dist_np_df = pd.DataFrame(dist_np)\n",
    "        X = dist_np_df.drop(columns=[0]).values\n",
    "        y = dist_np_df[0].values\n",
    "\n",
    "        X_train, X_test, y_train, y_test = train_test_split(X, y, test_size=.3, stratify=y, random_state=3)\n",
    "\n",
    "        clf.fit(X_train, y_train)\n",
    "\n",
    "        y_pred = clf.predict(X_test)\n",
    "\n",
    "        res[i-2] = tuple(a+b for a, b in zip(compute_measures(y_test, y_pred), res[i-2]))\n",
    "        time[i-2] += stop.total_seconds()*1000 #millisecondi\n",
    "\n",
    "    res[i-2] = list(map(lambda x: x/iter, res[i-2]))\n",
    "    n_mov_rig[i-2] /= iter\n",
    "    time[i-2] /= iter"
   ]
  },
  {
   "cell_type": "code",
   "execution_count": 9,
   "metadata": {},
   "outputs": [],
   "source": [
    "df_res_rig = pd.DataFrame(res, columns=[\"acc\", \"prec\", \"f1\", \"recall\"])\n",
    "\n",
    "df_res_rig[\"t\"] = time\n",
    "\n",
    "df_res_rig.t *= -1\n",
    "\n",
    "df_res_rig[\"n\"] = n_mov_rig\n",
    "\n",
    "df_res_rig.to_csv(f\"Test n_movelet rotatingED vehicle RIG {precision}.csv\", index=None)"
   ]
  },
  {
   "cell_type": "code",
   "execution_count": 8,
   "metadata": {},
   "outputs": [
    {
     "data": {
      "text/plain": "         acc      prec        f1    recall            t      n\n0   0.878261  0.878261  0.878261  0.878261   255908.601    2.0\n1   0.982609  0.982609  0.982609  0.982609   257324.497    3.0\n2   0.965217  0.965217  0.965217  0.965217   244293.204    4.0\n3   0.973913  0.973913  0.973913  0.973913   245602.987    6.0\n4   0.982609  0.982609  0.982609  0.982609   247480.286    8.0\n5   0.973913  0.973913  0.973913  0.973913   247325.890   11.0\n6   0.973913  0.973913  0.973913  0.973913   256995.468   15.0\n7   0.965217  0.965217  0.965217  0.965217   271543.886   21.0\n8   0.965217  0.965217  0.965217  0.965217   299776.570   29.0\n9   0.965217  0.965217  0.965217  0.965217   362103.874   41.0\n10  0.956522  0.956522  0.956522  0.956522   425924.921   57.0\n11  0.939130  0.939130  0.939130  0.939130   511431.759   80.0\n12  0.939130  0.939130  0.939130  0.939130   640128.545  112.0\n13  0.930435  0.930435  0.930435  0.930435   832372.456  156.0\n14  0.930435  0.930435  0.930435  0.930435  1077043.009  218.0\n15  0.921739  0.921739  0.921739  0.921739  1434880.556  301.0\n16  0.930435  0.930435  0.930435  0.930435  1429078.046  301.0\n17  0.921739  0.921739  0.921739  0.921739  1413093.134  301.0",
      "text/html": "<div>\n<style scoped>\n    .dataframe tbody tr th:only-of-type {\n        vertical-align: middle;\n    }\n\n    .dataframe tbody tr th {\n        vertical-align: top;\n    }\n\n    .dataframe thead th {\n        text-align: right;\n    }\n</style>\n<table border=\"1\" class=\"dataframe\">\n  <thead>\n    <tr style=\"text-align: right;\">\n      <th></th>\n      <th>acc</th>\n      <th>prec</th>\n      <th>f1</th>\n      <th>recall</th>\n      <th>t</th>\n      <th>n</th>\n    </tr>\n  </thead>\n  <tbody>\n    <tr>\n      <th>0</th>\n      <td>0.878261</td>\n      <td>0.878261</td>\n      <td>0.878261</td>\n      <td>0.878261</td>\n      <td>255908.601</td>\n      <td>2.0</td>\n    </tr>\n    <tr>\n      <th>1</th>\n      <td>0.982609</td>\n      <td>0.982609</td>\n      <td>0.982609</td>\n      <td>0.982609</td>\n      <td>257324.497</td>\n      <td>3.0</td>\n    </tr>\n    <tr>\n      <th>2</th>\n      <td>0.965217</td>\n      <td>0.965217</td>\n      <td>0.965217</td>\n      <td>0.965217</td>\n      <td>244293.204</td>\n      <td>4.0</td>\n    </tr>\n    <tr>\n      <th>3</th>\n      <td>0.973913</td>\n      <td>0.973913</td>\n      <td>0.973913</td>\n      <td>0.973913</td>\n      <td>245602.987</td>\n      <td>6.0</td>\n    </tr>\n    <tr>\n      <th>4</th>\n      <td>0.982609</td>\n      <td>0.982609</td>\n      <td>0.982609</td>\n      <td>0.982609</td>\n      <td>247480.286</td>\n      <td>8.0</td>\n    </tr>\n    <tr>\n      <th>5</th>\n      <td>0.973913</td>\n      <td>0.973913</td>\n      <td>0.973913</td>\n      <td>0.973913</td>\n      <td>247325.890</td>\n      <td>11.0</td>\n    </tr>\n    <tr>\n      <th>6</th>\n      <td>0.973913</td>\n      <td>0.973913</td>\n      <td>0.973913</td>\n      <td>0.973913</td>\n      <td>256995.468</td>\n      <td>15.0</td>\n    </tr>\n    <tr>\n      <th>7</th>\n      <td>0.965217</td>\n      <td>0.965217</td>\n      <td>0.965217</td>\n      <td>0.965217</td>\n      <td>271543.886</td>\n      <td>21.0</td>\n    </tr>\n    <tr>\n      <th>8</th>\n      <td>0.965217</td>\n      <td>0.965217</td>\n      <td>0.965217</td>\n      <td>0.965217</td>\n      <td>299776.570</td>\n      <td>29.0</td>\n    </tr>\n    <tr>\n      <th>9</th>\n      <td>0.965217</td>\n      <td>0.965217</td>\n      <td>0.965217</td>\n      <td>0.965217</td>\n      <td>362103.874</td>\n      <td>41.0</td>\n    </tr>\n    <tr>\n      <th>10</th>\n      <td>0.956522</td>\n      <td>0.956522</td>\n      <td>0.956522</td>\n      <td>0.956522</td>\n      <td>425924.921</td>\n      <td>57.0</td>\n    </tr>\n    <tr>\n      <th>11</th>\n      <td>0.939130</td>\n      <td>0.939130</td>\n      <td>0.939130</td>\n      <td>0.939130</td>\n      <td>511431.759</td>\n      <td>80.0</td>\n    </tr>\n    <tr>\n      <th>12</th>\n      <td>0.939130</td>\n      <td>0.939130</td>\n      <td>0.939130</td>\n      <td>0.939130</td>\n      <td>640128.545</td>\n      <td>112.0</td>\n    </tr>\n    <tr>\n      <th>13</th>\n      <td>0.930435</td>\n      <td>0.930435</td>\n      <td>0.930435</td>\n      <td>0.930435</td>\n      <td>832372.456</td>\n      <td>156.0</td>\n    </tr>\n    <tr>\n      <th>14</th>\n      <td>0.930435</td>\n      <td>0.930435</td>\n      <td>0.930435</td>\n      <td>0.930435</td>\n      <td>1077043.009</td>\n      <td>218.0</td>\n    </tr>\n    <tr>\n      <th>15</th>\n      <td>0.921739</td>\n      <td>0.921739</td>\n      <td>0.921739</td>\n      <td>0.921739</td>\n      <td>1434880.556</td>\n      <td>301.0</td>\n    </tr>\n    <tr>\n      <th>16</th>\n      <td>0.930435</td>\n      <td>0.930435</td>\n      <td>0.930435</td>\n      <td>0.930435</td>\n      <td>1429078.046</td>\n      <td>301.0</td>\n    </tr>\n    <tr>\n      <th>17</th>\n      <td>0.921739</td>\n      <td>0.921739</td>\n      <td>0.921739</td>\n      <td>0.921739</td>\n      <td>1413093.134</td>\n      <td>301.0</td>\n    </tr>\n  </tbody>\n</table>\n</div>"
     },
     "execution_count": 8,
     "metadata": {},
     "output_type": "execute_result"
    }
   ],
   "source": [
    "df_res_rig"
   ]
  },
  {
   "cell_type": "code",
   "execution_count": 10,
   "metadata": {},
   "outputs": [
    {
     "data": {
      "text/plain": "         acc      prec        f1    recall            t      n\n0   0.878261  0.878261  0.878261  0.878261   255908.601    2.0\n1   0.982609  0.982609  0.982609  0.982609   257324.497    3.0\n2   0.965217  0.965217  0.965217  0.965217   244293.204    4.0\n3   0.973913  0.973913  0.973913  0.973913   245602.987    6.0\n4   0.982609  0.982609  0.982609  0.982609   247480.286    8.0\n5   0.973913  0.973913  0.973913  0.973913   247325.890   11.0\n6   0.973913  0.973913  0.973913  0.973913   256995.468   15.0\n7   0.965217  0.965217  0.965217  0.965217   271543.886   21.0\n8   0.965217  0.965217  0.965217  0.965217   299776.570   29.0\n9   0.965217  0.965217  0.965217  0.965217   362103.874   41.0\n10  0.956522  0.956522  0.956522  0.956522   425924.921   57.0\n11  0.939130  0.939130  0.939130  0.939130   511431.759   80.0\n12  0.939130  0.939130  0.939130  0.939130   640128.545  112.0\n13  0.930435  0.930435  0.930435  0.930435   832372.456  156.0\n14  0.930435  0.930435  0.930435  0.930435  1077043.009  218.0\n15  0.921739  0.921739  0.921739  0.921739  1434880.556  301.0\n16  0.930435  0.930435  0.930435  0.930435  1429078.046  301.0\n17  0.921739  0.921739  0.921739  0.921739  1413093.134  301.0",
      "text/html": "<div>\n<style scoped>\n    .dataframe tbody tr th:only-of-type {\n        vertical-align: middle;\n    }\n\n    .dataframe tbody tr th {\n        vertical-align: top;\n    }\n\n    .dataframe thead th {\n        text-align: right;\n    }\n</style>\n<table border=\"1\" class=\"dataframe\">\n  <thead>\n    <tr style=\"text-align: right;\">\n      <th></th>\n      <th>acc</th>\n      <th>prec</th>\n      <th>f1</th>\n      <th>recall</th>\n      <th>t</th>\n      <th>n</th>\n    </tr>\n  </thead>\n  <tbody>\n    <tr>\n      <th>0</th>\n      <td>0.878261</td>\n      <td>0.878261</td>\n      <td>0.878261</td>\n      <td>0.878261</td>\n      <td>255908.601</td>\n      <td>2.0</td>\n    </tr>\n    <tr>\n      <th>1</th>\n      <td>0.982609</td>\n      <td>0.982609</td>\n      <td>0.982609</td>\n      <td>0.982609</td>\n      <td>257324.497</td>\n      <td>3.0</td>\n    </tr>\n    <tr>\n      <th>2</th>\n      <td>0.965217</td>\n      <td>0.965217</td>\n      <td>0.965217</td>\n      <td>0.965217</td>\n      <td>244293.204</td>\n      <td>4.0</td>\n    </tr>\n    <tr>\n      <th>3</th>\n      <td>0.973913</td>\n      <td>0.973913</td>\n      <td>0.973913</td>\n      <td>0.973913</td>\n      <td>245602.987</td>\n      <td>6.0</td>\n    </tr>\n    <tr>\n      <th>4</th>\n      <td>0.982609</td>\n      <td>0.982609</td>\n      <td>0.982609</td>\n      <td>0.982609</td>\n      <td>247480.286</td>\n      <td>8.0</td>\n    </tr>\n    <tr>\n      <th>5</th>\n      <td>0.973913</td>\n      <td>0.973913</td>\n      <td>0.973913</td>\n      <td>0.973913</td>\n      <td>247325.890</td>\n      <td>11.0</td>\n    </tr>\n    <tr>\n      <th>6</th>\n      <td>0.973913</td>\n      <td>0.973913</td>\n      <td>0.973913</td>\n      <td>0.973913</td>\n      <td>256995.468</td>\n      <td>15.0</td>\n    </tr>\n    <tr>\n      <th>7</th>\n      <td>0.965217</td>\n      <td>0.965217</td>\n      <td>0.965217</td>\n      <td>0.965217</td>\n      <td>271543.886</td>\n      <td>21.0</td>\n    </tr>\n    <tr>\n      <th>8</th>\n      <td>0.965217</td>\n      <td>0.965217</td>\n      <td>0.965217</td>\n      <td>0.965217</td>\n      <td>299776.570</td>\n      <td>29.0</td>\n    </tr>\n    <tr>\n      <th>9</th>\n      <td>0.965217</td>\n      <td>0.965217</td>\n      <td>0.965217</td>\n      <td>0.965217</td>\n      <td>362103.874</td>\n      <td>41.0</td>\n    </tr>\n    <tr>\n      <th>10</th>\n      <td>0.956522</td>\n      <td>0.956522</td>\n      <td>0.956522</td>\n      <td>0.956522</td>\n      <td>425924.921</td>\n      <td>57.0</td>\n    </tr>\n    <tr>\n      <th>11</th>\n      <td>0.939130</td>\n      <td>0.939130</td>\n      <td>0.939130</td>\n      <td>0.939130</td>\n      <td>511431.759</td>\n      <td>80.0</td>\n    </tr>\n    <tr>\n      <th>12</th>\n      <td>0.939130</td>\n      <td>0.939130</td>\n      <td>0.939130</td>\n      <td>0.939130</td>\n      <td>640128.545</td>\n      <td>112.0</td>\n    </tr>\n    <tr>\n      <th>13</th>\n      <td>0.930435</td>\n      <td>0.930435</td>\n      <td>0.930435</td>\n      <td>0.930435</td>\n      <td>832372.456</td>\n      <td>156.0</td>\n    </tr>\n    <tr>\n      <th>14</th>\n      <td>0.930435</td>\n      <td>0.930435</td>\n      <td>0.930435</td>\n      <td>0.930435</td>\n      <td>1077043.009</td>\n      <td>218.0</td>\n    </tr>\n    <tr>\n      <th>15</th>\n      <td>0.921739</td>\n      <td>0.921739</td>\n      <td>0.921739</td>\n      <td>0.921739</td>\n      <td>1434880.556</td>\n      <td>301.0</td>\n    </tr>\n    <tr>\n      <th>16</th>\n      <td>0.930435</td>\n      <td>0.930435</td>\n      <td>0.930435</td>\n      <td>0.930435</td>\n      <td>1429078.046</td>\n      <td>301.0</td>\n    </tr>\n    <tr>\n      <th>17</th>\n      <td>0.921739</td>\n      <td>0.921739</td>\n      <td>0.921739</td>\n      <td>0.921739</td>\n      <td>1413093.134</td>\n      <td>301.0</td>\n    </tr>\n  </tbody>\n</table>\n</div>"
     },
     "execution_count": 10,
     "metadata": {},
     "output_type": "execute_result"
    }
   ],
   "source": [
    "df_res_rig = pd.read_csv(f\"Test n_movelet rotatingED vehicle RIG {precision}.csv\")\n",
    "df_res_rig"
   ]
  },
  {
   "cell_type": "code",
   "execution_count": 10,
   "metadata": {},
   "outputs": [],
   "source": []
  },
  {
   "cell_type": "code",
   "execution_count": 12,
   "metadata": {},
   "outputs": [
    {
     "data": {
      "text/plain": "  0%|          | 0/16 [00:00<?, ?it/s]",
      "application/vnd.jupyter.widget-view+json": {
       "version_major": 2,
       "version_minor": 0,
       "model_id": "6a164552863f467a818dacf69d4978bc"
      }
     },
     "metadata": {},
     "output_type": "display_data"
    },
    {
     "data": {
      "text/plain": "  0%|          | 0/2 [00:00<?, ?it/s]",
      "application/vnd.jupyter.widget-view+json": {
       "version_major": 2,
       "version_minor": 0,
       "model_id": "533103e1d64c485084b90cbc45f914a2"
      }
     },
     "metadata": {},
     "output_type": "display_data"
    },
    {
     "data": {
      "text/plain": "  0%|          | 0/2 [00:00<?, ?it/s]",
      "application/vnd.jupyter.widget-view+json": {
       "version_major": 2,
       "version_minor": 0,
       "model_id": "b998b278740043758a163818a3966ecd"
      }
     },
     "metadata": {},
     "output_type": "display_data"
    },
    {
     "data": {
      "text/plain": "  0%|          | 0/4 [00:00<?, ?it/s]",
      "application/vnd.jupyter.widget-view+json": {
       "version_major": 2,
       "version_minor": 0,
       "model_id": "c0c8a645fcf6437a97ef9026015dbb58"
      }
     },
     "metadata": {},
     "output_type": "display_data"
    },
    {
     "data": {
      "text/plain": "  0%|          | 0/6 [00:00<?, ?it/s]",
      "application/vnd.jupyter.widget-view+json": {
       "version_major": 2,
       "version_minor": 0,
       "model_id": "13396dd884e444f88e6751316c2fc50f"
      }
     },
     "metadata": {},
     "output_type": "display_data"
    },
    {
     "data": {
      "text/plain": "  0%|          | 0/8 [00:00<?, ?it/s]",
      "application/vnd.jupyter.widget-view+json": {
       "version_major": 2,
       "version_minor": 0,
       "model_id": "9eb56ef590ac45b5a075dcfa54d98906"
      }
     },
     "metadata": {},
     "output_type": "display_data"
    },
    {
     "data": {
      "text/plain": "  0%|          | 0/10 [00:00<?, ?it/s]",
      "application/vnd.jupyter.widget-view+json": {
       "version_major": 2,
       "version_minor": 0,
       "model_id": "16396daf492746bca2b22035a6e440fe"
      }
     },
     "metadata": {},
     "output_type": "display_data"
    },
    {
     "data": {
      "text/plain": "  0%|          | 0/14 [00:00<?, ?it/s]",
      "application/vnd.jupyter.widget-view+json": {
       "version_major": 2,
       "version_minor": 0,
       "model_id": "7df2a54e0f284f44a5e478a826f9fdd9"
      }
     },
     "metadata": {},
     "output_type": "display_data"
    },
    {
     "data": {
      "text/plain": "  0%|          | 0/20 [00:00<?, ?it/s]",
      "application/vnd.jupyter.widget-view+json": {
       "version_major": 2,
       "version_minor": 0,
       "model_id": "831100da17a44d05853bdf5723fc8b6e"
      }
     },
     "metadata": {},
     "output_type": "display_data"
    },
    {
     "data": {
      "text/plain": "  0%|          | 0/28 [00:00<?, ?it/s]",
      "application/vnd.jupyter.widget-view+json": {
       "version_major": 2,
       "version_minor": 0,
       "model_id": "ca196b91f7984bc2a74c0cb3ae20303d"
      }
     },
     "metadata": {},
     "output_type": "display_data"
    },
    {
     "data": {
      "text/plain": "  0%|          | 0/40 [00:00<?, ?it/s]",
      "application/vnd.jupyter.widget-view+json": {
       "version_major": 2,
       "version_minor": 0,
       "model_id": "e5988de23e6e4d77a2c272ea2f8d4371"
      }
     },
     "metadata": {},
     "output_type": "display_data"
    },
    {
     "data": {
      "text/plain": "  0%|          | 0/56 [00:00<?, ?it/s]",
      "application/vnd.jupyter.widget-view+json": {
       "version_major": 2,
       "version_minor": 0,
       "model_id": "81dabcb1d61a4a9fbe20503e101abbdf"
      }
     },
     "metadata": {},
     "output_type": "display_data"
    },
    {
     "data": {
      "text/plain": "  0%|          | 0/80 [00:00<?, ?it/s]",
      "application/vnd.jupyter.widget-view+json": {
       "version_major": 2,
       "version_minor": 0,
       "model_id": "d5671ad30ce84b0a91f0ee7567b18098"
      }
     },
     "metadata": {},
     "output_type": "display_data"
    },
    {
     "data": {
      "text/plain": "  0%|          | 0/112 [00:00<?, ?it/s]",
      "application/vnd.jupyter.widget-view+json": {
       "version_major": 2,
       "version_minor": 0,
       "model_id": "0cc3c27aae47492c8a465a6d2baa17d0"
      }
     },
     "metadata": {},
     "output_type": "display_data"
    },
    {
     "data": {
      "text/plain": "  0%|          | 0/156 [00:00<?, ?it/s]",
      "application/vnd.jupyter.widget-view+json": {
       "version_major": 2,
       "version_minor": 0,
       "model_id": "e7074eb9c79c44489402bc6f22f96679"
      }
     },
     "metadata": {},
     "output_type": "display_data"
    },
    {
     "data": {
      "text/plain": "  0%|          | 0/218 [00:00<?, ?it/s]",
      "application/vnd.jupyter.widget-view+json": {
       "version_major": 2,
       "version_minor": 0,
       "model_id": "e589495e7d564774b54a18496b9f5347"
      }
     },
     "metadata": {},
     "output_type": "display_data"
    },
    {
     "data": {
      "text/plain": "  0%|          | 0/300 [00:00<?, ?it/s]",
      "application/vnd.jupyter.widget-view+json": {
       "version_major": 2,
       "version_minor": 0,
       "model_id": "c4b5629b2c4d49e9a8f58774d0cb317e"
      }
     },
     "metadata": {},
     "output_type": "display_data"
    },
    {
     "name": "stdout",
     "output_type": "stream",
     "text": [
      "Wall time: 1h 23min 29s\n"
     ]
    }
   ],
   "source": [
    "%%time\n",
    "from cri98tj.selectors.Random_selector import Random_selector\n",
    "from sklearn.metrics import accuracy_score\n",
    "from datetime import datetime\n",
    "\n",
    "res = []\n",
    "n_mov_r = []\n",
    "time = []\n",
    "i=1\n",
    "for n in tqdm(df_res_rig.n.unique()):\n",
    "    df = df_original[[\"tid\", \"class\", \"c1\", \"c2\"]].copy()\n",
    "    \n",
    "    res.append((.0, .0, .0, .0, .0))\n",
    "    n_mov_r.append(0)\n",
    "    time.append(.0)\n",
    "    \n",
    "    c = 0\n",
    "    \n",
    "    while c < iter:\n",
    "        try:#for _ in tqdm(range(5)):\n",
    "            normalizer = FirstPoint_normalizer(spatioTemporalColumns=spatioTemporalCols, fillna=None, verbose=verbose)\n",
    "            distancer = RotatingEuclidean_distancer(normalizer=normalizer, spatioTemporalColumns=spatioTemporalCols, n_jobs=n_jobs, verbose=verbose)\n",
    "            partitioner = Geohash_partitioner(precision=precision, spatioTemporalColumns=spatioTemporalCols, verbose=verbose)\n",
    "\n",
    "            start = datetime.now()\n",
    "            part = partitioner.fit_transform(df[df.tid.isin(tid_train)].values)\n",
    "            selector = Random_selector(movelets_per_class=max(1, n//2), n_jobs=n_jobs, spatioTemporalColumns=spatioTemporalCols, normalizer=normalizer, verbose=verbose)\n",
    "            shapelets = selector.fit_transform(part)\n",
    "\n",
    "            _, dist_np = distancer.fit_transform((df.values, shapelets))\n",
    "            stop = start - datetime.now()\n",
    "\n",
    "            n_mov_r[i-1] += (dist_np.shape[1])\n",
    "\n",
    "            clf = RandomForestClassifier(max_depth=3, random_state=3, n_jobs=n_jobs, n_estimators=5000)\n",
    "\n",
    "            dist_np_df = pd.DataFrame(dist_np)\n",
    "            X = dist_np_df.drop(columns=[0]).values\n",
    "            y = dist_np_df[0].values\n",
    "\n",
    "            X_train, X_test, y_train, y_test = train_test_split(X, y, test_size=.3, stratify=y, random_state=3)\n",
    "\n",
    "            clf.fit(X_train, y_train)\n",
    "\n",
    "            y_pred = clf.predict(X_test)\n",
    "\n",
    "            res[i-1] = tuple(a+b for a, b in zip(compute_measures(y_test, y_pred), res[i-1]))\n",
    "            time[i-1] += stop.total_seconds()*1000 #millisecondi\n",
    "            \n",
    "            c += 1\n",
    "        except:\n",
    "            print(\"failed\")\n",
    "\n",
    "    res[i-1] = list(map(lambda x: x/iter, res[i-1]))\n",
    "    n_mov_r[i-1] /= iter\n",
    "    time[i-1] /= iter\n",
    "    \n",
    "    i +=1"
   ]
  },
  {
   "cell_type": "code",
   "execution_count": 13,
   "metadata": {},
   "outputs": [
    {
     "data": {
      "text/plain": "         acc      prec        f1    recall\n0   0.721739  0.721739  0.721739  0.721739\n1   0.721739  0.721739  0.721739  0.721739\n2   0.704348  0.704348  0.704348  0.704348\n3   0.739130  0.739130  0.739130  0.739130\n4   0.808696  0.808696  0.808696  0.808696\n5   0.800000  0.800000  0.800000  0.800000\n6   0.800000  0.800000  0.800000  0.800000\n7   0.782609  0.782609  0.782609  0.782609\n8   0.782609  0.782609  0.782609  0.782609\n9   0.843478  0.843478  0.843478  0.843478\n10  0.904348  0.904348  0.904348  0.904348\n11  0.834783  0.834783  0.834783  0.834783\n12  0.886957  0.886957  0.886957  0.886957\n13  0.939130  0.939130  0.939130  0.939130\n14  0.921739  0.921739  0.921739  0.921739\n15  0.921739  0.921739  0.921739  0.921739",
      "text/html": "<div>\n<style scoped>\n    .dataframe tbody tr th:only-of-type {\n        vertical-align: middle;\n    }\n\n    .dataframe tbody tr th {\n        vertical-align: top;\n    }\n\n    .dataframe thead th {\n        text-align: right;\n    }\n</style>\n<table border=\"1\" class=\"dataframe\">\n  <thead>\n    <tr style=\"text-align: right;\">\n      <th></th>\n      <th>acc</th>\n      <th>prec</th>\n      <th>f1</th>\n      <th>recall</th>\n    </tr>\n  </thead>\n  <tbody>\n    <tr>\n      <th>0</th>\n      <td>0.721739</td>\n      <td>0.721739</td>\n      <td>0.721739</td>\n      <td>0.721739</td>\n    </tr>\n    <tr>\n      <th>1</th>\n      <td>0.721739</td>\n      <td>0.721739</td>\n      <td>0.721739</td>\n      <td>0.721739</td>\n    </tr>\n    <tr>\n      <th>2</th>\n      <td>0.704348</td>\n      <td>0.704348</td>\n      <td>0.704348</td>\n      <td>0.704348</td>\n    </tr>\n    <tr>\n      <th>3</th>\n      <td>0.739130</td>\n      <td>0.739130</td>\n      <td>0.739130</td>\n      <td>0.739130</td>\n    </tr>\n    <tr>\n      <th>4</th>\n      <td>0.808696</td>\n      <td>0.808696</td>\n      <td>0.808696</td>\n      <td>0.808696</td>\n    </tr>\n    <tr>\n      <th>5</th>\n      <td>0.800000</td>\n      <td>0.800000</td>\n      <td>0.800000</td>\n      <td>0.800000</td>\n    </tr>\n    <tr>\n      <th>6</th>\n      <td>0.800000</td>\n      <td>0.800000</td>\n      <td>0.800000</td>\n      <td>0.800000</td>\n    </tr>\n    <tr>\n      <th>7</th>\n      <td>0.782609</td>\n      <td>0.782609</td>\n      <td>0.782609</td>\n      <td>0.782609</td>\n    </tr>\n    <tr>\n      <th>8</th>\n      <td>0.782609</td>\n      <td>0.782609</td>\n      <td>0.782609</td>\n      <td>0.782609</td>\n    </tr>\n    <tr>\n      <th>9</th>\n      <td>0.843478</td>\n      <td>0.843478</td>\n      <td>0.843478</td>\n      <td>0.843478</td>\n    </tr>\n    <tr>\n      <th>10</th>\n      <td>0.904348</td>\n      <td>0.904348</td>\n      <td>0.904348</td>\n      <td>0.904348</td>\n    </tr>\n    <tr>\n      <th>11</th>\n      <td>0.834783</td>\n      <td>0.834783</td>\n      <td>0.834783</td>\n      <td>0.834783</td>\n    </tr>\n    <tr>\n      <th>12</th>\n      <td>0.886957</td>\n      <td>0.886957</td>\n      <td>0.886957</td>\n      <td>0.886957</td>\n    </tr>\n    <tr>\n      <th>13</th>\n      <td>0.939130</td>\n      <td>0.939130</td>\n      <td>0.939130</td>\n      <td>0.939130</td>\n    </tr>\n    <tr>\n      <th>14</th>\n      <td>0.921739</td>\n      <td>0.921739</td>\n      <td>0.921739</td>\n      <td>0.921739</td>\n    </tr>\n    <tr>\n      <th>15</th>\n      <td>0.921739</td>\n      <td>0.921739</td>\n      <td>0.921739</td>\n      <td>0.921739</td>\n    </tr>\n  </tbody>\n</table>\n</div>"
     },
     "execution_count": 13,
     "metadata": {},
     "output_type": "execute_result"
    }
   ],
   "source": [
    "pd.DataFrame(res, columns=[\"acc\", \"prec\", \"f1\", \"recall\"])"
   ]
  },
  {
   "cell_type": "code",
   "execution_count": 14,
   "metadata": {},
   "outputs": [],
   "source": [
    "df_res_r = pd.DataFrame(res, columns=[\"acc\", \"prec\", \"f1\", \"recall\"])\n",
    "\n",
    "df_res_r[\"t\"] = time\n",
    "\n",
    "df_res_r.t *= -1\n",
    "\n",
    "df_res_r[\"n\"] = n_mov_r\n",
    "\n",
    "df_res_r.to_csv(f\"Test n_movelet rotatingED vehicle R {precision}.csv\", index=None)"
   ]
  },
  {
   "cell_type": "code",
   "execution_count": 15,
   "metadata": {},
   "outputs": [],
   "source": [
    "df_res_r = pd.read_csv(f\"Test n_movelet rotatingED vehicle R {precision}.csv\")"
   ]
  },
  {
   "cell_type": "code",
   "execution_count": 16,
   "metadata": {},
   "outputs": [
    {
     "data": {
      "text/plain": "         acc      prec        f1    recall            t      n\n0   0.721739  0.721739  0.721739  0.721739    65600.558    3.0\n1   0.721739  0.721739  0.721739  0.721739    64190.550    3.0\n2   0.704348  0.704348  0.704348  0.704348    67683.713    5.0\n3   0.739130  0.739130  0.739130  0.739130    78347.301    7.0\n4   0.808696  0.808696  0.808696  0.808696    76559.301    9.0\n5   0.800000  0.800000  0.800000  0.800000    79323.955   11.0\n6   0.800000  0.800000  0.800000  0.800000    81138.590   15.0\n7   0.782609  0.782609  0.782609  0.782609   101113.634   21.0\n8   0.782609  0.782609  0.782609  0.782609   152110.328   29.0\n9   0.843478  0.843478  0.843478  0.843478   194692.587   41.0\n10  0.904348  0.904348  0.904348  0.904348   254991.863   57.0\n11  0.834783  0.834783  0.834783  0.834783   352390.495   81.0\n12  0.886957  0.886957  0.886957  0.886957   485466.609  113.0\n13  0.939130  0.939130  0.939130  0.939130   679578.690  157.0\n14  0.921739  0.921739  0.921739  0.921739   929906.762  219.0\n15  0.921739  0.921739  0.921739  0.921739  1252618.156  301.0",
      "text/html": "<div>\n<style scoped>\n    .dataframe tbody tr th:only-of-type {\n        vertical-align: middle;\n    }\n\n    .dataframe tbody tr th {\n        vertical-align: top;\n    }\n\n    .dataframe thead th {\n        text-align: right;\n    }\n</style>\n<table border=\"1\" class=\"dataframe\">\n  <thead>\n    <tr style=\"text-align: right;\">\n      <th></th>\n      <th>acc</th>\n      <th>prec</th>\n      <th>f1</th>\n      <th>recall</th>\n      <th>t</th>\n      <th>n</th>\n    </tr>\n  </thead>\n  <tbody>\n    <tr>\n      <th>0</th>\n      <td>0.721739</td>\n      <td>0.721739</td>\n      <td>0.721739</td>\n      <td>0.721739</td>\n      <td>65600.558</td>\n      <td>3.0</td>\n    </tr>\n    <tr>\n      <th>1</th>\n      <td>0.721739</td>\n      <td>0.721739</td>\n      <td>0.721739</td>\n      <td>0.721739</td>\n      <td>64190.550</td>\n      <td>3.0</td>\n    </tr>\n    <tr>\n      <th>2</th>\n      <td>0.704348</td>\n      <td>0.704348</td>\n      <td>0.704348</td>\n      <td>0.704348</td>\n      <td>67683.713</td>\n      <td>5.0</td>\n    </tr>\n    <tr>\n      <th>3</th>\n      <td>0.739130</td>\n      <td>0.739130</td>\n      <td>0.739130</td>\n      <td>0.739130</td>\n      <td>78347.301</td>\n      <td>7.0</td>\n    </tr>\n    <tr>\n      <th>4</th>\n      <td>0.808696</td>\n      <td>0.808696</td>\n      <td>0.808696</td>\n      <td>0.808696</td>\n      <td>76559.301</td>\n      <td>9.0</td>\n    </tr>\n    <tr>\n      <th>5</th>\n      <td>0.800000</td>\n      <td>0.800000</td>\n      <td>0.800000</td>\n      <td>0.800000</td>\n      <td>79323.955</td>\n      <td>11.0</td>\n    </tr>\n    <tr>\n      <th>6</th>\n      <td>0.800000</td>\n      <td>0.800000</td>\n      <td>0.800000</td>\n      <td>0.800000</td>\n      <td>81138.590</td>\n      <td>15.0</td>\n    </tr>\n    <tr>\n      <th>7</th>\n      <td>0.782609</td>\n      <td>0.782609</td>\n      <td>0.782609</td>\n      <td>0.782609</td>\n      <td>101113.634</td>\n      <td>21.0</td>\n    </tr>\n    <tr>\n      <th>8</th>\n      <td>0.782609</td>\n      <td>0.782609</td>\n      <td>0.782609</td>\n      <td>0.782609</td>\n      <td>152110.328</td>\n      <td>29.0</td>\n    </tr>\n    <tr>\n      <th>9</th>\n      <td>0.843478</td>\n      <td>0.843478</td>\n      <td>0.843478</td>\n      <td>0.843478</td>\n      <td>194692.587</td>\n      <td>41.0</td>\n    </tr>\n    <tr>\n      <th>10</th>\n      <td>0.904348</td>\n      <td>0.904348</td>\n      <td>0.904348</td>\n      <td>0.904348</td>\n      <td>254991.863</td>\n      <td>57.0</td>\n    </tr>\n    <tr>\n      <th>11</th>\n      <td>0.834783</td>\n      <td>0.834783</td>\n      <td>0.834783</td>\n      <td>0.834783</td>\n      <td>352390.495</td>\n      <td>81.0</td>\n    </tr>\n    <tr>\n      <th>12</th>\n      <td>0.886957</td>\n      <td>0.886957</td>\n      <td>0.886957</td>\n      <td>0.886957</td>\n      <td>485466.609</td>\n      <td>113.0</td>\n    </tr>\n    <tr>\n      <th>13</th>\n      <td>0.939130</td>\n      <td>0.939130</td>\n      <td>0.939130</td>\n      <td>0.939130</td>\n      <td>679578.690</td>\n      <td>157.0</td>\n    </tr>\n    <tr>\n      <th>14</th>\n      <td>0.921739</td>\n      <td>0.921739</td>\n      <td>0.921739</td>\n      <td>0.921739</td>\n      <td>929906.762</td>\n      <td>219.0</td>\n    </tr>\n    <tr>\n      <th>15</th>\n      <td>0.921739</td>\n      <td>0.921739</td>\n      <td>0.921739</td>\n      <td>0.921739</td>\n      <td>1252618.156</td>\n      <td>301.0</td>\n    </tr>\n  </tbody>\n</table>\n</div>"
     },
     "execution_count": 16,
     "metadata": {},
     "output_type": "execute_result"
    }
   ],
   "source": [
    "df_res_r"
   ]
  },
  {
   "cell_type": "code",
   "execution_count": null,
   "metadata": {},
   "outputs": [],
   "source": []
  },
  {
   "cell_type": "code",
   "execution_count": null,
   "metadata": {},
   "outputs": [],
   "source": []
  },
  {
   "cell_type": "code",
   "execution_count": null,
   "metadata": {},
   "outputs": [],
   "source": [
    "%%time\n",
    "from cri98tj.selectors.Random_selector import Random_selector\n",
    "from sklearn.metrics import accuracy_score\n",
    "from cri98tj.distancers.InterpolatedRootDistance_distancer import InterpolatedRootDistance_distancer, \\\n",
    "    InterpolatedRootDistanceBestFitting\n",
    "from datetime import datetime\n",
    "from cri98tj.partitioners.Voronoi_partitioner import Voronoi_partitioner\n",
    "\n",
    "res = []\n",
    "n_mov_r = []\n",
    "time = []\n",
    "i=1\n",
    "for n in tqdm(df_res_rig.n.unique()):\n",
    "    df = df_original[[\"tid\", \"class\", \"c1\", \"c2\", \"t\"]].copy()\n",
    "    \n",
    "    res.append((.0, .0, .0, .0, .0))\n",
    "    n_mov_r.append(0)\n",
    "    time.append(.0)\n",
    "    \n",
    "    \n",
    "    for _ in range(3): \n",
    "        normalizer = FirstPoint_normalizer(spatioTemporalColumns=spatioTemporalCols, fillna=None, verbose=verbose)\n",
    "        distancer = InterpolatedRootDistance_distancer(normalizer=normalizer, spatioTemporalColumns=spatioTemporalCols, n_jobs=n_jobs, verbose=verbose)\n",
    "        partitioner = Voronoi_partitioner(spatioTemporalColumns=spatioTemporalCols, radius=600, stop_distance=10, stop_seconds=600)\n",
    "\n",
    "        start = datetime.now()\n",
    "        part = partitioner.fit_transform(df[df.tid.isin(tid_train)].values)\n",
    "        selector = RandomInformationGain_selector(top_k=int(1.4**i), \n",
    "                                                  bestFittingMeasure=InterpolatedRootDistanceBestFitting, \n",
    "                                                  movelets_per_class=300, trajectories_for_orderline=100, \n",
    "                                                  n_jobs=n_jobs, spatioTemporalColumns=spatioTemporalCols, \n",
    "                                                  normalizer=normalizer, verbose=verbose)\n",
    "        shapelets = selector.fit_transform(part)\n",
    "\n",
    "        _, dist_np = distancer.fit_transform((df.values, shapelets))\n",
    "        stop = start - datetime.now()\n",
    "\n",
    "        n_mov_r[i-1] += (dist_np.shape[1])\n",
    "\n",
    "        clf = RandomForestClassifier(max_depth=3, random_state=3, n_jobs=n_jobs, n_estimators=5000)\n",
    "\n",
    "        dist_np_df = pd.DataFrame(dist_np)\n",
    "        X = dist_np_df.drop(columns=[0]).values\n",
    "        y = dist_np_df[0].values\n",
    "\n",
    "        X_train, X_test, y_train, y_test = train_test_split(X, y, test_size=.3, stratify=y, random_state=3)\n",
    "\n",
    "        clf.fit(X_train, y_train)\n",
    "\n",
    "        y_pred = clf.predict(X_test)\n",
    "\n",
    "        res[i-1] = tuple(a+b for a, b in zip(compute_measures(y_test, y_pred), res[i-1]))\n",
    "        time[i-1] += stop.total_seconds()*1000 #millisecondi\n",
    "\n",
    "\n",
    "    res[i-1] = list(map(lambda x: x/3, res[i-1]))\n",
    "    n_mov_r[i-1] /= 3\n",
    "    time[i-1] /= 3\n",
    "    \n",
    "    i +=1"
   ]
  },
  {
   "cell_type": "code",
   "execution_count": null,
   "metadata": {},
   "outputs": [],
   "source": [
    "df_res_rig_v = pd.DataFrame(res, columns=[\"acc\", \"prec\", \"f1\", \"recall\"])\n",
    "\n",
    "df_res_rig_v[\"t\"] = time\n",
    "\n",
    "df_res_rig_v.t *= -1\n",
    "\n",
    "df_res_rig_v[\"n\"] = n_mov_r\n",
    "\n",
    "df_res_rig_v.to_csv(f\"Test n_movelet vehicle RIG voronoi.csv\", index=None)"
   ]
  },
  {
   "cell_type": "code",
   "execution_count": null,
   "metadata": {},
   "outputs": [],
   "source": [
    "df_res_rig_v"
   ]
  },
  {
   "cell_type": "code",
   "execution_count": null,
   "metadata": {},
   "outputs": [],
   "source": []
  },
  {
   "cell_type": "code",
   "execution_count": null,
   "metadata": {},
   "outputs": [],
   "source": []
  },
  {
   "cell_type": "code",
   "execution_count": null,
   "metadata": {},
   "outputs": [],
   "source": []
  },
  {
   "cell_type": "code",
   "execution_count": null,
   "metadata": {},
   "outputs": [],
   "source": []
  },
  {
   "cell_type": "code",
   "execution_count": null,
   "metadata": {},
   "outputs": [],
   "source": []
  }
 ],
 "metadata": {
  "kernelspec": {
   "display_name": "Python 3",
   "language": "python",
   "name": "python3"
  },
  "language_info": {
   "codemirror_mode": {
    "name": "ipython",
    "version": 3
   },
   "file_extension": ".py",
   "mimetype": "text/x-python",
   "name": "python",
   "nbconvert_exporter": "python",
   "pygments_lexer": "ipython3",
   "version": "3.8.8"
  }
 },
 "nbformat": 4,
 "nbformat_minor": 1
}
