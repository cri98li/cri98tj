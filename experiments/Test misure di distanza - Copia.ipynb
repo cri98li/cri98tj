{
 "cells": [
  {
   "cell_type": "markdown",
   "source": [
    "# Testing delle misure di distanza al variare della precision"
   ],
   "metadata": {
    "collapsed": false,
    "pycharm": {
     "name": "#%% md\n"
    }
   }
  },
  {
   "cell_type": "code",
   "execution_count": 39,
   "outputs": [],
   "source": [
    "from sklearn.ensemble import RandomForestClassifier\n",
    "from sklearn.metrics import classification_report\n",
    "import pandas as pd\n",
    "from tqdm.auto import tqdm"
   ],
   "metadata": {
    "collapsed": false,
    "pycharm": {
     "name": "#%%\n"
    }
   }
  },
  {
   "cell_type": "code",
   "execution_count": 40,
   "outputs": [],
   "source": [
    "from cri98tj.partitioners.Geohash_partitioner import Geohash_partitioner\n",
    "from cri98tj.normalizers.FirstPoint_normalizer import FirstPoint_normalizer\n",
    "from cri98tj.selectors.RandomInformationGain_selector import RandomInformationGain_selector\n",
    "from cri98tj.distancers.Euclidean_distancer import Euclidean_distancer\n",
    "from sklearn.model_selection import train_test_split\n",
    "from cri98tj.selectors.Random_selector import Random_selector"
   ],
   "metadata": {
    "collapsed": false,
    "pycharm": {
     "name": "#%%\n"
    }
   }
  },
  {
   "cell_type": "code",
   "execution_count": 41,
   "outputs": [],
   "source": [
    "df = pd.read_csv('../examples/Animals Dataset/data/animals_preapred.zip').sort_values(by=[\"tid\", \"t\"])# precision=5, 50 movelet, DTW"
   ],
   "metadata": {
    "collapsed": false,
    "pycharm": {
     "name": "#%%\n"
    }
   }
  },
  {
   "cell_type": "code",
   "execution_count": 42,
   "outputs": [
    {
     "data": {
      "text/plain": "   tid class   t       c1       c2\n0    1     D   0  50.1066  3.79665\n1    1     D   4  50.1045  3.79455\n2    1     D   7  50.1111  3.79845\n3    1     D   9  50.1072  3.79845\n4    1     D  15  50.1132  3.79965",
      "text/html": "<div>\n<style scoped>\n    .dataframe tbody tr th:only-of-type {\n        vertical-align: middle;\n    }\n\n    .dataframe tbody tr th {\n        vertical-align: top;\n    }\n\n    .dataframe thead th {\n        text-align: right;\n    }\n</style>\n<table border=\"1\" class=\"dataframe\">\n  <thead>\n    <tr style=\"text-align: right;\">\n      <th></th>\n      <th>tid</th>\n      <th>class</th>\n      <th>t</th>\n      <th>c1</th>\n      <th>c2</th>\n    </tr>\n  </thead>\n  <tbody>\n    <tr>\n      <th>0</th>\n      <td>1</td>\n      <td>D</td>\n      <td>0</td>\n      <td>50.1066</td>\n      <td>3.79665</td>\n    </tr>\n    <tr>\n      <th>1</th>\n      <td>1</td>\n      <td>D</td>\n      <td>4</td>\n      <td>50.1045</td>\n      <td>3.79455</td>\n    </tr>\n    <tr>\n      <th>2</th>\n      <td>1</td>\n      <td>D</td>\n      <td>7</td>\n      <td>50.1111</td>\n      <td>3.79845</td>\n    </tr>\n    <tr>\n      <th>3</th>\n      <td>1</td>\n      <td>D</td>\n      <td>9</td>\n      <td>50.1072</td>\n      <td>3.79845</td>\n    </tr>\n    <tr>\n      <th>4</th>\n      <td>1</td>\n      <td>D</td>\n      <td>15</td>\n      <td>50.1132</td>\n      <td>3.79965</td>\n    </tr>\n  </tbody>\n</table>\n</div>"
     },
     "execution_count": 42,
     "metadata": {},
     "output_type": "execute_result"
    }
   ],
   "source": [
    "df.head()"
   ],
   "metadata": {
    "collapsed": false,
    "pycharm": {
     "name": "#%%\n"
    }
   }
  },
  {
   "cell_type": "code",
   "execution_count": 43,
   "outputs": [],
   "source": [
    "tid_train, tid_test, _, _ = train_test_split(df.groupby(by=[\"tid\"]).max().reset_index()[\"tid\"],\n",
    "                                                        df.groupby(by=[\"tid\"]).max().reset_index()[\"class\"],\n",
    "                                                        test_size=.3,\n",
    "                                                        stratify=df.groupby(by=[\"tid\"]).max().reset_index()[\"class\"],\n",
    "                                                        random_state=3)\n",
    "\n",
    "spatioTemporalCols = [\"c1\", \"c2\", \"t\"]\n",
    "n_movelets=50\n",
    "n_jobs = 10\n",
    "verbose = False"
   ],
   "metadata": {
    "collapsed": false,
    "pycharm": {
     "name": "#%%\n"
    }
   }
  },
  {
   "cell_type": "markdown",
   "source": [
    "## Distanza euclidea, k=range(2,7)"
   ],
   "metadata": {
    "collapsed": false,
    "pycharm": {
     "name": "#%% md\n"
    }
   }
  },
  {
   "cell_type": "code",
   "execution_count": 44,
   "outputs": [
    {
     "data": {
      "text/plain": "  0%|          | 0/5 [00:00<?, ?it/s]",
      "application/vnd.jupyter.widget-view+json": {
       "version_major": 2,
       "version_minor": 0,
       "model_id": "9b4101cb73cd4ca4b03fbd4c979847b3"
      }
     },
     "metadata": {},
     "output_type": "display_data"
    },
    {
     "name": "stderr",
     "output_type": "stream",
     "text": [
      "C:\\Users\\cri98\\Documents\\cri98tj\\cri98tj\\normalizers\\normalizer_utils.py:17: FutureWarning: merging between different levels is deprecated and will be removed in a future version. (2 levels on the left, 1 on the right)\n",
      "  df_pivot = df_pivot.merge(df.groupby(['partId'])['class'].max().reset_index(), on=[\"partId\"])\n",
      "C:\\Users\\cri98\\anaconda3\\envs\\cri98lj\\lib\\site-packages\\pandas\\core\\common.py:241: VisibleDeprecationWarning: Creating an ndarray from ragged nested sequences (which is a list-or-tuple of lists-or-tuples-or ndarrays with different lengths or shapes) is deprecated. If you meant to do this, you must specify 'dtype=object' when creating the ndarray.\n",
      "  result = np.asarray(values, dtype=dtype)\n",
      "C:\\Users\\cri98\\Documents\\cri98tj\\cri98tj\\normalizers\\normalizer_utils.py:17: FutureWarning: merging between different levels is deprecated and will be removed in a future version. (2 levels on the left, 1 on the right)\n",
      "  df_pivot = df_pivot.merge(df.groupby(['partId'])['class'].max().reset_index(), on=[\"partId\"])\n",
      "C:\\Users\\cri98\\anaconda3\\envs\\cri98lj\\lib\\site-packages\\pandas\\core\\common.py:241: VisibleDeprecationWarning: Creating an ndarray from ragged nested sequences (which is a list-or-tuple of lists-or-tuples-or ndarrays with different lengths or shapes) is deprecated. If you meant to do this, you must specify 'dtype=object' when creating the ndarray.\n",
      "  result = np.asarray(values, dtype=dtype)\n"
     ]
    },
    {
     "data": {
      "text/plain": "  0%|          | 0/225 [00:00<?, ?it/s]",
      "application/vnd.jupyter.widget-view+json": {
       "version_major": 2,
       "version_minor": 0,
       "model_id": "0c32f7f2e0ab42ff8e88d2bb253affbc"
      }
     },
     "metadata": {},
     "output_type": "display_data"
    },
    {
     "name": "stderr",
     "output_type": "stream",
     "text": [
      "C:\\Users\\cri98\\anaconda3\\envs\\cri98lj\\lib\\site-packages\\sklearn\\utils\\validation.py:993: DataConversionWarning: A column-vector y was passed when a 1d array was expected. Please change the shape of y to (n_samples, ), for example using ravel().\n",
      "  y = column_or_1d(y, warn=True)\n",
      "C:\\Users\\cri98\\Documents\\cri98tj\\cri98tj\\normalizers\\normalizer_utils.py:17: FutureWarning: merging between different levels is deprecated and will be removed in a future version. (2 levels on the left, 1 on the right)\n",
      "  df_pivot = df_pivot.merge(df.groupby(['partId'])['class'].max().reset_index(), on=[\"partId\"])\n",
      "C:\\Users\\cri98\\anaconda3\\envs\\cri98lj\\lib\\site-packages\\pandas\\core\\common.py:241: VisibleDeprecationWarning: Creating an ndarray from ragged nested sequences (which is a list-or-tuple of lists-or-tuples-or ndarrays with different lengths or shapes) is deprecated. If you meant to do this, you must specify 'dtype=object' when creating the ndarray.\n",
      "  result = np.asarray(values, dtype=dtype)\n"
     ]
    },
    {
     "data": {
      "text/plain": "  0%|          | 0/26 [00:00<?, ?it/s]",
      "application/vnd.jupyter.widget-view+json": {
       "version_major": 2,
       "version_minor": 0,
       "model_id": "e4e850a93d5a4c6b8ee1fa1a43d3b399"
      }
     },
     "metadata": {},
     "output_type": "display_data"
    },
    {
     "name": "stderr",
     "output_type": "stream",
     "text": [
      "C:\\Users\\cri98\\Documents\\cri98tj\\cri98tj\\normalizers\\normalizer_utils.py:17: FutureWarning: merging between different levels is deprecated and will be removed in a future version. (2 levels on the left, 1 on the right)\n",
      "  df_pivot = df_pivot.merge(df.groupby(['partId'])['class'].max().reset_index(), on=[\"partId\"])\n",
      "C:\\Users\\cri98\\anaconda3\\envs\\cri98lj\\lib\\site-packages\\pandas\\core\\common.py:241: VisibleDeprecationWarning: Creating an ndarray from ragged nested sequences (which is a list-or-tuple of lists-or-tuples-or ndarrays with different lengths or shapes) is deprecated. If you meant to do this, you must specify 'dtype=object' when creating the ndarray.\n",
      "  result = np.asarray(values, dtype=dtype)\n",
      "C:\\Users\\cri98\\Documents\\cri98tj\\cri98tj\\normalizers\\normalizer_utils.py:17: FutureWarning: merging between different levels is deprecated and will be removed in a future version. (2 levels on the left, 1 on the right)\n",
      "  df_pivot = df_pivot.merge(df.groupby(['partId'])['class'].max().reset_index(), on=[\"partId\"])\n",
      "C:\\Users\\cri98\\anaconda3\\envs\\cri98lj\\lib\\site-packages\\pandas\\core\\common.py:241: VisibleDeprecationWarning: Creating an ndarray from ragged nested sequences (which is a list-or-tuple of lists-or-tuples-or ndarrays with different lengths or shapes) is deprecated. If you meant to do this, you must specify 'dtype=object' when creating the ndarray.\n",
      "  result = np.asarray(values, dtype=dtype)\n"
     ]
    },
    {
     "data": {
      "text/plain": "  0%|          | 0/225 [00:00<?, ?it/s]",
      "application/vnd.jupyter.widget-view+json": {
       "version_major": 2,
       "version_minor": 0,
       "model_id": "61b7f44b3e834a0083d4a3cffbf6ef5f"
      }
     },
     "metadata": {},
     "output_type": "display_data"
    },
    {
     "name": "stderr",
     "output_type": "stream",
     "text": [
      "C:\\Users\\cri98\\anaconda3\\envs\\cri98lj\\lib\\site-packages\\sklearn\\utils\\validation.py:993: DataConversionWarning: A column-vector y was passed when a 1d array was expected. Please change the shape of y to (n_samples, ), for example using ravel().\n",
      "  y = column_or_1d(y, warn=True)\n",
      "C:\\Users\\cri98\\Documents\\cri98tj\\cri98tj\\normalizers\\normalizer_utils.py:17: FutureWarning: merging between different levels is deprecated and will be removed in a future version. (2 levels on the left, 1 on the right)\n",
      "  df_pivot = df_pivot.merge(df.groupby(['partId'])['class'].max().reset_index(), on=[\"partId\"])\n",
      "C:\\Users\\cri98\\anaconda3\\envs\\cri98lj\\lib\\site-packages\\pandas\\core\\common.py:241: VisibleDeprecationWarning: Creating an ndarray from ragged nested sequences (which is a list-or-tuple of lists-or-tuples-or ndarrays with different lengths or shapes) is deprecated. If you meant to do this, you must specify 'dtype=object' when creating the ndarray.\n",
      "  result = np.asarray(values, dtype=dtype)\n"
     ]
    },
    {
     "data": {
      "text/plain": "  0%|          | 0/26 [00:00<?, ?it/s]",
      "application/vnd.jupyter.widget-view+json": {
       "version_major": 2,
       "version_minor": 0,
       "model_id": "691c6f88ebf740d4b9bfa328ee2609ad"
      }
     },
     "metadata": {},
     "output_type": "display_data"
    },
    {
     "name": "stderr",
     "output_type": "stream",
     "text": [
      "C:\\Users\\cri98\\Documents\\cri98tj\\cri98tj\\normalizers\\normalizer_utils.py:17: FutureWarning: merging between different levels is deprecated and will be removed in a future version. (2 levels on the left, 1 on the right)\n",
      "  df_pivot = df_pivot.merge(df.groupby(['partId'])['class'].max().reset_index(), on=[\"partId\"])\n",
      "C:\\Users\\cri98\\anaconda3\\envs\\cri98lj\\lib\\site-packages\\pandas\\core\\common.py:241: VisibleDeprecationWarning: Creating an ndarray from ragged nested sequences (which is a list-or-tuple of lists-or-tuples-or ndarrays with different lengths or shapes) is deprecated. If you meant to do this, you must specify 'dtype=object' when creating the ndarray.\n",
      "  result = np.asarray(values, dtype=dtype)\n",
      "C:\\Users\\cri98\\Documents\\cri98tj\\cri98tj\\normalizers\\normalizer_utils.py:17: FutureWarning: merging between different levels is deprecated and will be removed in a future version. (2 levels on the left, 1 on the right)\n",
      "  df_pivot = df_pivot.merge(df.groupby(['partId'])['class'].max().reset_index(), on=[\"partId\"])\n",
      "C:\\Users\\cri98\\anaconda3\\envs\\cri98lj\\lib\\site-packages\\pandas\\core\\common.py:241: VisibleDeprecationWarning: Creating an ndarray from ragged nested sequences (which is a list-or-tuple of lists-or-tuples-or ndarrays with different lengths or shapes) is deprecated. If you meant to do this, you must specify 'dtype=object' when creating the ndarray.\n",
      "  result = np.asarray(values, dtype=dtype)\n"
     ]
    },
    {
     "data": {
      "text/plain": "  0%|          | 0/225 [00:00<?, ?it/s]",
      "application/vnd.jupyter.widget-view+json": {
       "version_major": 2,
       "version_minor": 0,
       "model_id": "b7b89964aeee48eab93018dd9a052e9b"
      }
     },
     "metadata": {},
     "output_type": "display_data"
    },
    {
     "name": "stderr",
     "output_type": "stream",
     "text": [
      "C:\\Users\\cri98\\anaconda3\\envs\\cri98lj\\lib\\site-packages\\sklearn\\utils\\validation.py:993: DataConversionWarning: A column-vector y was passed when a 1d array was expected. Please change the shape of y to (n_samples, ), for example using ravel().\n",
      "  y = column_or_1d(y, warn=True)\n",
      "C:\\Users\\cri98\\Documents\\cri98tj\\cri98tj\\normalizers\\normalizer_utils.py:17: FutureWarning: merging between different levels is deprecated and will be removed in a future version. (2 levels on the left, 1 on the right)\n",
      "  df_pivot = df_pivot.merge(df.groupby(['partId'])['class'].max().reset_index(), on=[\"partId\"])\n",
      "C:\\Users\\cri98\\anaconda3\\envs\\cri98lj\\lib\\site-packages\\pandas\\core\\common.py:241: VisibleDeprecationWarning: Creating an ndarray from ragged nested sequences (which is a list-or-tuple of lists-or-tuples-or ndarrays with different lengths or shapes) is deprecated. If you meant to do this, you must specify 'dtype=object' when creating the ndarray.\n",
      "  result = np.asarray(values, dtype=dtype)\n"
     ]
    },
    {
     "data": {
      "text/plain": "  0%|          | 0/26 [00:00<?, ?it/s]",
      "application/vnd.jupyter.widget-view+json": {
       "version_major": 2,
       "version_minor": 0,
       "model_id": "d240b4c957c4482f84d88964ac676388"
      }
     },
     "metadata": {},
     "output_type": "display_data"
    },
    {
     "name": "stderr",
     "output_type": "stream",
     "text": [
      "C:\\Users\\cri98\\Documents\\cri98tj\\cri98tj\\normalizers\\normalizer_utils.py:17: FutureWarning: merging between different levels is deprecated and will be removed in a future version. (2 levels on the left, 1 on the right)\n",
      "  df_pivot = df_pivot.merge(df.groupby(['partId'])['class'].max().reset_index(), on=[\"partId\"])\n",
      "C:\\Users\\cri98\\anaconda3\\envs\\cri98lj\\lib\\site-packages\\pandas\\core\\common.py:241: VisibleDeprecationWarning: Creating an ndarray from ragged nested sequences (which is a list-or-tuple of lists-or-tuples-or ndarrays with different lengths or shapes) is deprecated. If you meant to do this, you must specify 'dtype=object' when creating the ndarray.\n",
      "  result = np.asarray(values, dtype=dtype)\n",
      "C:\\Users\\cri98\\Documents\\cri98tj\\cri98tj\\normalizers\\normalizer_utils.py:17: FutureWarning: merging between different levels is deprecated and will be removed in a future version. (2 levels on the left, 1 on the right)\n",
      "  df_pivot = df_pivot.merge(df.groupby(['partId'])['class'].max().reset_index(), on=[\"partId\"])\n",
      "C:\\Users\\cri98\\anaconda3\\envs\\cri98lj\\lib\\site-packages\\pandas\\core\\common.py:241: VisibleDeprecationWarning: Creating an ndarray from ragged nested sequences (which is a list-or-tuple of lists-or-tuples-or ndarrays with different lengths or shapes) is deprecated. If you meant to do this, you must specify 'dtype=object' when creating the ndarray.\n",
      "  result = np.asarray(values, dtype=dtype)\n"
     ]
    },
    {
     "data": {
      "text/plain": "  0%|          | 0/225 [00:00<?, ?it/s]",
      "application/vnd.jupyter.widget-view+json": {
       "version_major": 2,
       "version_minor": 0,
       "model_id": "7621e4584e4a4fda8a7d8a33649ab99d"
      }
     },
     "metadata": {},
     "output_type": "display_data"
    },
    {
     "name": "stderr",
     "output_type": "stream",
     "text": [
      "C:\\Users\\cri98\\anaconda3\\envs\\cri98lj\\lib\\site-packages\\sklearn\\utils\\validation.py:993: DataConversionWarning: A column-vector y was passed when a 1d array was expected. Please change the shape of y to (n_samples, ), for example using ravel().\n",
      "  y = column_or_1d(y, warn=True)\n",
      "C:\\Users\\cri98\\Documents\\cri98tj\\cri98tj\\normalizers\\normalizer_utils.py:17: FutureWarning: merging between different levels is deprecated and will be removed in a future version. (2 levels on the left, 1 on the right)\n",
      "  df_pivot = df_pivot.merge(df.groupby(['partId'])['class'].max().reset_index(), on=[\"partId\"])\n",
      "C:\\Users\\cri98\\anaconda3\\envs\\cri98lj\\lib\\site-packages\\pandas\\core\\common.py:241: VisibleDeprecationWarning: Creating an ndarray from ragged nested sequences (which is a list-or-tuple of lists-or-tuples-or ndarrays with different lengths or shapes) is deprecated. If you meant to do this, you must specify 'dtype=object' when creating the ndarray.\n",
      "  result = np.asarray(values, dtype=dtype)\n"
     ]
    },
    {
     "data": {
      "text/plain": "  0%|          | 0/26 [00:00<?, ?it/s]",
      "application/vnd.jupyter.widget-view+json": {
       "version_major": 2,
       "version_minor": 0,
       "model_id": "08fb4268b5ad44b599dda117c5cd7526"
      }
     },
     "metadata": {},
     "output_type": "display_data"
    },
    {
     "name": "stderr",
     "output_type": "stream",
     "text": [
      "C:\\Users\\cri98\\Documents\\cri98tj\\cri98tj\\normalizers\\normalizer_utils.py:17: FutureWarning: merging between different levels is deprecated and will be removed in a future version. (2 levels on the left, 1 on the right)\n",
      "  df_pivot = df_pivot.merge(df.groupby(['partId'])['class'].max().reset_index(), on=[\"partId\"])\n",
      "C:\\Users\\cri98\\anaconda3\\envs\\cri98lj\\lib\\site-packages\\pandas\\core\\common.py:241: VisibleDeprecationWarning: Creating an ndarray from ragged nested sequences (which is a list-or-tuple of lists-or-tuples-or ndarrays with different lengths or shapes) is deprecated. If you meant to do this, you must specify 'dtype=object' when creating the ndarray.\n",
      "  result = np.asarray(values, dtype=dtype)\n",
      "C:\\Users\\cri98\\Documents\\cri98tj\\cri98tj\\normalizers\\normalizer_utils.py:17: FutureWarning: merging between different levels is deprecated and will be removed in a future version. (2 levels on the left, 1 on the right)\n",
      "  df_pivot = df_pivot.merge(df.groupby(['partId'])['class'].max().reset_index(), on=[\"partId\"])\n",
      "C:\\Users\\cri98\\anaconda3\\envs\\cri98lj\\lib\\site-packages\\pandas\\core\\common.py:241: VisibleDeprecationWarning: Creating an ndarray from ragged nested sequences (which is a list-or-tuple of lists-or-tuples-or ndarrays with different lengths or shapes) is deprecated. If you meant to do this, you must specify 'dtype=object' when creating the ndarray.\n",
      "  result = np.asarray(values, dtype=dtype)\n"
     ]
    },
    {
     "data": {
      "text/plain": "  0%|          | 0/225 [00:00<?, ?it/s]",
      "application/vnd.jupyter.widget-view+json": {
       "version_major": 2,
       "version_minor": 0,
       "model_id": "bf40655b8f3449ff8a00fa80a0da0157"
      }
     },
     "metadata": {},
     "output_type": "display_data"
    },
    {
     "name": "stderr",
     "output_type": "stream",
     "text": [
      "C:\\Users\\cri98\\anaconda3\\envs\\cri98lj\\lib\\site-packages\\sklearn\\utils\\validation.py:993: DataConversionWarning: A column-vector y was passed when a 1d array was expected. Please change the shape of y to (n_samples, ), for example using ravel().\n",
      "  y = column_or_1d(y, warn=True)\n",
      "C:\\Users\\cri98\\Documents\\cri98tj\\cri98tj\\normalizers\\normalizer_utils.py:17: FutureWarning: merging between different levels is deprecated and will be removed in a future version. (2 levels on the left, 1 on the right)\n",
      "  df_pivot = df_pivot.merge(df.groupby(['partId'])['class'].max().reset_index(), on=[\"partId\"])\n",
      "C:\\Users\\cri98\\anaconda3\\envs\\cri98lj\\lib\\site-packages\\pandas\\core\\common.py:241: VisibleDeprecationWarning: Creating an ndarray from ragged nested sequences (which is a list-or-tuple of lists-or-tuples-or ndarrays with different lengths or shapes) is deprecated. If you meant to do this, you must specify 'dtype=object' when creating the ndarray.\n",
      "  result = np.asarray(values, dtype=dtype)\n"
     ]
    },
    {
     "data": {
      "text/plain": "  0%|          | 0/26 [00:00<?, ?it/s]",
      "application/vnd.jupyter.widget-view+json": {
       "version_major": 2,
       "version_minor": 0,
       "model_id": "443c1d2bb5964e359295d391956f131f"
      }
     },
     "metadata": {},
     "output_type": "display_data"
    }
   ],
   "source": [
    "from cri98tj.distancers.Euclidean_distancer import euclideanBestFitting\n",
    "\n",
    "normalizer = FirstPoint_normalizer(spatioTemporalColumns=spatioTemporalCols, fillna=None, verbose=verbose)\n",
    "selector = RandomInformationGain_selector(top_k=n_movelets, bestFittingMeasure=euclideanBestFitting, movelets_per_class=n_movelets*3, trajectories_for_orderline=100, n_jobs=n_jobs, spatioTemporalColumns=spatioTemporalCols, normalizer=normalizer, verbose=verbose)\n",
    "distancer = Euclidean_distancer(normalizer=normalizer, spatioTemporalColumns=spatioTemporalCols, n_jobs=n_jobs, verbose=verbose)\n",
    "\n",
    "res = {}\n",
    "for precision in tqdm(range(2,7)):\n",
    "    partitioner = Geohash_partitioner(precision=precision, spatioTemporalColumns=spatioTemporalCols, verbose=verbose)\n",
    "    part = partitioner.fit_transform(df[df.tid.isin(tid_train)].values)\n",
    "    shapelets = selector.fit_transform(part)\n",
    "    dist_np = distancer.fit_transform((df.values, shapelets))\n",
    "\n",
    "    clf = RandomForestClassifier(max_depth=3, random_state=3, n_jobs=n_jobs, n_estimators=1000)\n",
    "\n",
    "    dist_np_df = pd.DataFrame(dist_np)\n",
    "    X = dist_np_df.drop(columns=[0]).values\n",
    "    y = dist_np_df[0].values\n",
    "\n",
    "    X_train, X_test, y_train, y_test = train_test_split(X, y, test_size=.3, stratify=y, random_state=3)\n",
    "\n",
    "    clf.fit(X_train, y_train)\n",
    "\n",
    "    y_pred = clf.predict(X_test)\n",
    "\n",
    "    res[str(precision)] = classification_report(y_test, y_pred)"
   ],
   "metadata": {
    "collapsed": false,
    "pycharm": {
     "name": "#%%\n"
    }
   }
  },
  {
   "cell_type": "code",
   "execution_count": 45,
   "outputs": [
    {
     "name": "stdout",
     "output_type": "stream",
     "text": [
      "PRECISION=2\n",
      "              precision    recall  f1-score   support\n",
      "\n",
      "           C       1.00      1.00      1.00        10\n",
      "           D       0.58      0.78      0.67         9\n",
      "           E       0.78      0.58      0.67        12\n",
      "\n",
      "    accuracy                           0.77        31\n",
      "   macro avg       0.79      0.79      0.78        31\n",
      "weighted avg       0.79      0.77      0.77        31\n",
      "\n",
      "\r\n",
      "\r\n",
      "\r\n",
      "\r\n",
      "\n",
      "PRECISION=3\n",
      "              precision    recall  f1-score   support\n",
      "\n",
      "           C       0.91      1.00      0.95        10\n",
      "           D       0.45      0.56      0.50         9\n",
      "           E       0.67      0.50      0.57        12\n",
      "\n",
      "    accuracy                           0.68        31\n",
      "   macro avg       0.68      0.69      0.67        31\n",
      "weighted avg       0.68      0.68      0.67        31\n",
      "\n",
      "\r\n",
      "\r\n",
      "\r\n",
      "\r\n",
      "\n",
      "PRECISION=4\n",
      "              precision    recall  f1-score   support\n",
      "\n",
      "           C       0.91      1.00      0.95        10\n",
      "           D       0.56      0.56      0.56         9\n",
      "           E       0.73      0.67      0.70        12\n",
      "\n",
      "    accuracy                           0.74        31\n",
      "   macro avg       0.73      0.74      0.73        31\n",
      "weighted avg       0.74      0.74      0.74        31\n",
      "\n",
      "\r\n",
      "\r\n",
      "\r\n",
      "\r\n",
      "\n",
      "PRECISION=5\n",
      "              precision    recall  f1-score   support\n",
      "\n",
      "           C       0.91      1.00      0.95        10\n",
      "           D       0.60      0.67      0.63         9\n",
      "           E       0.80      0.67      0.73        12\n",
      "\n",
      "    accuracy                           0.77        31\n",
      "   macro avg       0.77      0.78      0.77        31\n",
      "weighted avg       0.78      0.77      0.77        31\n",
      "\n",
      "\r\n",
      "\r\n",
      "\r\n",
      "\r\n",
      "\n",
      "PRECISION=6\n",
      "              precision    recall  f1-score   support\n",
      "\n",
      "           C       0.91      1.00      0.95        10\n",
      "           D       0.67      0.44      0.53         9\n",
      "           E       0.71      0.83      0.77        12\n",
      "\n",
      "    accuracy                           0.77        31\n",
      "   macro avg       0.76      0.76      0.75        31\n",
      "weighted avg       0.76      0.77      0.76        31\n",
      "\n",
      "\r\n",
      "\r\n",
      "\r\n",
      "\r\n",
      "\n"
     ]
    }
   ],
   "source": [
    "for precisione, r in res.items():\n",
    "    print(F\"PRECISION={precisione}\")\n",
    "    print(r)\n",
    "    print(\"\\r\\n\\r\\n\\r\\n\\r\\n\")"
   ],
   "metadata": {
    "collapsed": false,
    "pycharm": {
     "name": "#%%\n"
    }
   }
  },
  {
   "cell_type": "markdown",
   "source": [
    "## Distanza Prof"
   ],
   "metadata": {
    "collapsed": false,
    "pycharm": {
     "name": "#%% md\n"
    }
   }
  },
  {
   "cell_type": "code",
   "execution_count": 46,
   "outputs": [
    {
     "data": {
      "text/plain": "  0%|          | 0/5 [00:00<?, ?it/s]",
      "application/vnd.jupyter.widget-view+json": {
       "version_major": 2,
       "version_minor": 0,
       "model_id": "fd7a1c39c7924427a64914f489a5caf0"
      }
     },
     "metadata": {},
     "output_type": "display_data"
    },
    {
     "name": "stderr",
     "output_type": "stream",
     "text": [
      "C:\\Users\\cri98\\Documents\\cri98tj\\cri98tj\\normalizers\\normalizer_utils.py:17: FutureWarning: merging between different levels is deprecated and will be removed in a future version. (2 levels on the left, 1 on the right)\n",
      "  df_pivot = df_pivot.merge(df.groupby(['partId'])['class'].max().reset_index(), on=[\"partId\"])\n",
      "C:\\Users\\cri98\\anaconda3\\envs\\cri98lj\\lib\\site-packages\\pandas\\core\\common.py:241: VisibleDeprecationWarning: Creating an ndarray from ragged nested sequences (which is a list-or-tuple of lists-or-tuples-or ndarrays with different lengths or shapes) is deprecated. If you meant to do this, you must specify 'dtype=object' when creating the ndarray.\n",
      "  result = np.asarray(values, dtype=dtype)\n",
      "C:\\Users\\cri98\\Documents\\cri98tj\\cri98tj\\normalizers\\normalizer_utils.py:17: FutureWarning: merging between different levels is deprecated and will be removed in a future version. (2 levels on the left, 1 on the right)\n",
      "  df_pivot = df_pivot.merge(df.groupby(['partId'])['class'].max().reset_index(), on=[\"partId\"])\n",
      "C:\\Users\\cri98\\anaconda3\\envs\\cri98lj\\lib\\site-packages\\pandas\\core\\common.py:241: VisibleDeprecationWarning: Creating an ndarray from ragged nested sequences (which is a list-or-tuple of lists-or-tuples-or ndarrays with different lengths or shapes) is deprecated. If you meant to do this, you must specify 'dtype=object' when creating the ndarray.\n",
      "  result = np.asarray(values, dtype=dtype)\n"
     ]
    },
    {
     "data": {
      "text/plain": "  0%|          | 0/225 [00:00<?, ?it/s]",
      "application/vnd.jupyter.widget-view+json": {
       "version_major": 2,
       "version_minor": 0,
       "model_id": "fabe1f9323024d24ac83a56f5c27b237"
      }
     },
     "metadata": {},
     "output_type": "display_data"
    },
    {
     "name": "stderr",
     "output_type": "stream",
     "text": [
      "C:\\Users\\cri98\\anaconda3\\envs\\cri98lj\\lib\\site-packages\\sklearn\\utils\\validation.py:993: DataConversionWarning: A column-vector y was passed when a 1d array was expected. Please change the shape of y to (n_samples, ), for example using ravel().\n",
      "  y = column_or_1d(y, warn=True)\n",
      "C:\\Users\\cri98\\Documents\\cri98tj\\cri98tj\\normalizers\\normalizer_utils.py:17: FutureWarning: merging between different levels is deprecated and will be removed in a future version. (2 levels on the left, 1 on the right)\n",
      "  df_pivot = df_pivot.merge(df.groupby(['partId'])['class'].max().reset_index(), on=[\"partId\"])\n",
      "C:\\Users\\cri98\\anaconda3\\envs\\cri98lj\\lib\\site-packages\\pandas\\core\\common.py:241: VisibleDeprecationWarning: Creating an ndarray from ragged nested sequences (which is a list-or-tuple of lists-or-tuples-or ndarrays with different lengths or shapes) is deprecated. If you meant to do this, you must specify 'dtype=object' when creating the ndarray.\n",
      "  result = np.asarray(values, dtype=dtype)\n"
     ]
    },
    {
     "data": {
      "text/plain": "  0%|          | 0/26 [00:00<?, ?it/s]",
      "application/vnd.jupyter.widget-view+json": {
       "version_major": 2,
       "version_minor": 0,
       "model_id": "5af61d647c6a47fda3809da2915824c0"
      }
     },
     "metadata": {},
     "output_type": "display_data"
    },
    {
     "name": "stderr",
     "output_type": "stream",
     "text": [
      "C:\\Users\\cri98\\Documents\\cri98tj\\cri98tj\\normalizers\\normalizer_utils.py:17: FutureWarning: merging between different levels is deprecated and will be removed in a future version. (2 levels on the left, 1 on the right)\n",
      "  df_pivot = df_pivot.merge(df.groupby(['partId'])['class'].max().reset_index(), on=[\"partId\"])\n",
      "C:\\Users\\cri98\\anaconda3\\envs\\cri98lj\\lib\\site-packages\\pandas\\core\\common.py:241: VisibleDeprecationWarning: Creating an ndarray from ragged nested sequences (which is a list-or-tuple of lists-or-tuples-or ndarrays with different lengths or shapes) is deprecated. If you meant to do this, you must specify 'dtype=object' when creating the ndarray.\n",
      "  result = np.asarray(values, dtype=dtype)\n",
      "C:\\Users\\cri98\\Documents\\cri98tj\\cri98tj\\normalizers\\normalizer_utils.py:17: FutureWarning: merging between different levels is deprecated and will be removed in a future version. (2 levels on the left, 1 on the right)\n",
      "  df_pivot = df_pivot.merge(df.groupby(['partId'])['class'].max().reset_index(), on=[\"partId\"])\n",
      "C:\\Users\\cri98\\anaconda3\\envs\\cri98lj\\lib\\site-packages\\pandas\\core\\common.py:241: VisibleDeprecationWarning: Creating an ndarray from ragged nested sequences (which is a list-or-tuple of lists-or-tuples-or ndarrays with different lengths or shapes) is deprecated. If you meant to do this, you must specify 'dtype=object' when creating the ndarray.\n",
      "  result = np.asarray(values, dtype=dtype)\n"
     ]
    },
    {
     "data": {
      "text/plain": "  0%|          | 0/225 [00:00<?, ?it/s]",
      "application/vnd.jupyter.widget-view+json": {
       "version_major": 2,
       "version_minor": 0,
       "model_id": "c206bc6c2a4d415e8797f14af951755d"
      }
     },
     "metadata": {},
     "output_type": "display_data"
    },
    {
     "name": "stderr",
     "output_type": "stream",
     "text": [
      "C:\\Users\\cri98\\anaconda3\\envs\\cri98lj\\lib\\site-packages\\sklearn\\utils\\validation.py:993: DataConversionWarning: A column-vector y was passed when a 1d array was expected. Please change the shape of y to (n_samples, ), for example using ravel().\n",
      "  y = column_or_1d(y, warn=True)\n",
      "C:\\Users\\cri98\\Documents\\cri98tj\\cri98tj\\normalizers\\normalizer_utils.py:17: FutureWarning: merging between different levels is deprecated and will be removed in a future version. (2 levels on the left, 1 on the right)\n",
      "  df_pivot = df_pivot.merge(df.groupby(['partId'])['class'].max().reset_index(), on=[\"partId\"])\n",
      "C:\\Users\\cri98\\anaconda3\\envs\\cri98lj\\lib\\site-packages\\pandas\\core\\common.py:241: VisibleDeprecationWarning: Creating an ndarray from ragged nested sequences (which is a list-or-tuple of lists-or-tuples-or ndarrays with different lengths or shapes) is deprecated. If you meant to do this, you must specify 'dtype=object' when creating the ndarray.\n",
      "  result = np.asarray(values, dtype=dtype)\n"
     ]
    },
    {
     "data": {
      "text/plain": "  0%|          | 0/26 [00:00<?, ?it/s]",
      "application/vnd.jupyter.widget-view+json": {
       "version_major": 2,
       "version_minor": 0,
       "model_id": "9c4d0460a73e4b59b5960c42cf7fd4c8"
      }
     },
     "metadata": {},
     "output_type": "display_data"
    },
    {
     "name": "stderr",
     "output_type": "stream",
     "text": [
      "C:\\Users\\cri98\\Documents\\cri98tj\\cri98tj\\normalizers\\normalizer_utils.py:17: FutureWarning: merging between different levels is deprecated and will be removed in a future version. (2 levels on the left, 1 on the right)\n",
      "  df_pivot = df_pivot.merge(df.groupby(['partId'])['class'].max().reset_index(), on=[\"partId\"])\n",
      "C:\\Users\\cri98\\anaconda3\\envs\\cri98lj\\lib\\site-packages\\pandas\\core\\common.py:241: VisibleDeprecationWarning: Creating an ndarray from ragged nested sequences (which is a list-or-tuple of lists-or-tuples-or ndarrays with different lengths or shapes) is deprecated. If you meant to do this, you must specify 'dtype=object' when creating the ndarray.\n",
      "  result = np.asarray(values, dtype=dtype)\n",
      "C:\\Users\\cri98\\Documents\\cri98tj\\cri98tj\\normalizers\\normalizer_utils.py:17: FutureWarning: merging between different levels is deprecated and will be removed in a future version. (2 levels on the left, 1 on the right)\n",
      "  df_pivot = df_pivot.merge(df.groupby(['partId'])['class'].max().reset_index(), on=[\"partId\"])\n",
      "C:\\Users\\cri98\\anaconda3\\envs\\cri98lj\\lib\\site-packages\\pandas\\core\\common.py:241: VisibleDeprecationWarning: Creating an ndarray from ragged nested sequences (which is a list-or-tuple of lists-or-tuples-or ndarrays with different lengths or shapes) is deprecated. If you meant to do this, you must specify 'dtype=object' when creating the ndarray.\n",
      "  result = np.asarray(values, dtype=dtype)\n"
     ]
    },
    {
     "data": {
      "text/plain": "  0%|          | 0/225 [00:00<?, ?it/s]",
      "application/vnd.jupyter.widget-view+json": {
       "version_major": 2,
       "version_minor": 0,
       "model_id": "a7e06e85efd048459b0f2c5f1e958ad2"
      }
     },
     "metadata": {},
     "output_type": "display_data"
    },
    {
     "name": "stderr",
     "output_type": "stream",
     "text": [
      "C:\\Users\\cri98\\anaconda3\\envs\\cri98lj\\lib\\site-packages\\sklearn\\utils\\validation.py:993: DataConversionWarning: A column-vector y was passed when a 1d array was expected. Please change the shape of y to (n_samples, ), for example using ravel().\n",
      "  y = column_or_1d(y, warn=True)\n",
      "C:\\Users\\cri98\\Documents\\cri98tj\\cri98tj\\normalizers\\normalizer_utils.py:17: FutureWarning: merging between different levels is deprecated and will be removed in a future version. (2 levels on the left, 1 on the right)\n",
      "  df_pivot = df_pivot.merge(df.groupby(['partId'])['class'].max().reset_index(), on=[\"partId\"])\n",
      "C:\\Users\\cri98\\anaconda3\\envs\\cri98lj\\lib\\site-packages\\pandas\\core\\common.py:241: VisibleDeprecationWarning: Creating an ndarray from ragged nested sequences (which is a list-or-tuple of lists-or-tuples-or ndarrays with different lengths or shapes) is deprecated. If you meant to do this, you must specify 'dtype=object' when creating the ndarray.\n",
      "  result = np.asarray(values, dtype=dtype)\n"
     ]
    },
    {
     "data": {
      "text/plain": "  0%|          | 0/26 [00:00<?, ?it/s]",
      "application/vnd.jupyter.widget-view+json": {
       "version_major": 2,
       "version_minor": 0,
       "model_id": "da8e618cc7b9485da20710f64a35c075"
      }
     },
     "metadata": {},
     "output_type": "display_data"
    },
    {
     "name": "stderr",
     "output_type": "stream",
     "text": [
      "C:\\Users\\cri98\\Documents\\cri98tj\\cri98tj\\normalizers\\normalizer_utils.py:17: FutureWarning: merging between different levels is deprecated and will be removed in a future version. (2 levels on the left, 1 on the right)\n",
      "  df_pivot = df_pivot.merge(df.groupby(['partId'])['class'].max().reset_index(), on=[\"partId\"])\n",
      "C:\\Users\\cri98\\anaconda3\\envs\\cri98lj\\lib\\site-packages\\pandas\\core\\common.py:241: VisibleDeprecationWarning: Creating an ndarray from ragged nested sequences (which is a list-or-tuple of lists-or-tuples-or ndarrays with different lengths or shapes) is deprecated. If you meant to do this, you must specify 'dtype=object' when creating the ndarray.\n",
      "  result = np.asarray(values, dtype=dtype)\n",
      "C:\\Users\\cri98\\Documents\\cri98tj\\cri98tj\\normalizers\\normalizer_utils.py:17: FutureWarning: merging between different levels is deprecated and will be removed in a future version. (2 levels on the left, 1 on the right)\n",
      "  df_pivot = df_pivot.merge(df.groupby(['partId'])['class'].max().reset_index(), on=[\"partId\"])\n",
      "C:\\Users\\cri98\\anaconda3\\envs\\cri98lj\\lib\\site-packages\\pandas\\core\\common.py:241: VisibleDeprecationWarning: Creating an ndarray from ragged nested sequences (which is a list-or-tuple of lists-or-tuples-or ndarrays with different lengths or shapes) is deprecated. If you meant to do this, you must specify 'dtype=object' when creating the ndarray.\n",
      "  result = np.asarray(values, dtype=dtype)\n"
     ]
    },
    {
     "data": {
      "text/plain": "  0%|          | 0/225 [00:00<?, ?it/s]",
      "application/vnd.jupyter.widget-view+json": {
       "version_major": 2,
       "version_minor": 0,
       "model_id": "365a26096c0340678021cd8d0a3a365c"
      }
     },
     "metadata": {},
     "output_type": "display_data"
    },
    {
     "name": "stderr",
     "output_type": "stream",
     "text": [
      "C:\\Users\\cri98\\anaconda3\\envs\\cri98lj\\lib\\site-packages\\sklearn\\utils\\validation.py:993: DataConversionWarning: A column-vector y was passed when a 1d array was expected. Please change the shape of y to (n_samples, ), for example using ravel().\n",
      "  y = column_or_1d(y, warn=True)\n",
      "C:\\Users\\cri98\\Documents\\cri98tj\\cri98tj\\normalizers\\normalizer_utils.py:17: FutureWarning: merging between different levels is deprecated and will be removed in a future version. (2 levels on the left, 1 on the right)\n",
      "  df_pivot = df_pivot.merge(df.groupby(['partId'])['class'].max().reset_index(), on=[\"partId\"])\n",
      "C:\\Users\\cri98\\anaconda3\\envs\\cri98lj\\lib\\site-packages\\pandas\\core\\common.py:241: VisibleDeprecationWarning: Creating an ndarray from ragged nested sequences (which is a list-or-tuple of lists-or-tuples-or ndarrays with different lengths or shapes) is deprecated. If you meant to do this, you must specify 'dtype=object' when creating the ndarray.\n",
      "  result = np.asarray(values, dtype=dtype)\n"
     ]
    },
    {
     "data": {
      "text/plain": "  0%|          | 0/26 [00:00<?, ?it/s]",
      "application/vnd.jupyter.widget-view+json": {
       "version_major": 2,
       "version_minor": 0,
       "model_id": "34cb160e909249399c27a4d001e0e060"
      }
     },
     "metadata": {},
     "output_type": "display_data"
    },
    {
     "name": "stderr",
     "output_type": "stream",
     "text": [
      "C:\\Users\\cri98\\Documents\\cri98tj\\cri98tj\\normalizers\\normalizer_utils.py:17: FutureWarning: merging between different levels is deprecated and will be removed in a future version. (2 levels on the left, 1 on the right)\n",
      "  df_pivot = df_pivot.merge(df.groupby(['partId'])['class'].max().reset_index(), on=[\"partId\"])\n",
      "C:\\Users\\cri98\\anaconda3\\envs\\cri98lj\\lib\\site-packages\\pandas\\core\\common.py:241: VisibleDeprecationWarning: Creating an ndarray from ragged nested sequences (which is a list-or-tuple of lists-or-tuples-or ndarrays with different lengths or shapes) is deprecated. If you meant to do this, you must specify 'dtype=object' when creating the ndarray.\n",
      "  result = np.asarray(values, dtype=dtype)\n",
      "C:\\Users\\cri98\\Documents\\cri98tj\\cri98tj\\normalizers\\normalizer_utils.py:17: FutureWarning: merging between different levels is deprecated and will be removed in a future version. (2 levels on the left, 1 on the right)\n",
      "  df_pivot = df_pivot.merge(df.groupby(['partId'])['class'].max().reset_index(), on=[\"partId\"])\n",
      "C:\\Users\\cri98\\anaconda3\\envs\\cri98lj\\lib\\site-packages\\pandas\\core\\common.py:241: VisibleDeprecationWarning: Creating an ndarray from ragged nested sequences (which is a list-or-tuple of lists-or-tuples-or ndarrays with different lengths or shapes) is deprecated. If you meant to do this, you must specify 'dtype=object' when creating the ndarray.\n",
      "  result = np.asarray(values, dtype=dtype)\n"
     ]
    },
    {
     "data": {
      "text/plain": "  0%|          | 0/225 [00:00<?, ?it/s]",
      "application/vnd.jupyter.widget-view+json": {
       "version_major": 2,
       "version_minor": 0,
       "model_id": "cc404cc048004a6eb570b5bf8494b5a2"
      }
     },
     "metadata": {},
     "output_type": "display_data"
    },
    {
     "name": "stderr",
     "output_type": "stream",
     "text": [
      "C:\\Users\\cri98\\anaconda3\\envs\\cri98lj\\lib\\site-packages\\sklearn\\utils\\validation.py:993: DataConversionWarning: A column-vector y was passed when a 1d array was expected. Please change the shape of y to (n_samples, ), for example using ravel().\n",
      "  y = column_or_1d(y, warn=True)\n",
      "C:\\Users\\cri98\\Documents\\cri98tj\\cri98tj\\normalizers\\normalizer_utils.py:17: FutureWarning: merging between different levels is deprecated and will be removed in a future version. (2 levels on the left, 1 on the right)\n",
      "  df_pivot = df_pivot.merge(df.groupby(['partId'])['class'].max().reset_index(), on=[\"partId\"])\n",
      "C:\\Users\\cri98\\anaconda3\\envs\\cri98lj\\lib\\site-packages\\pandas\\core\\common.py:241: VisibleDeprecationWarning: Creating an ndarray from ragged nested sequences (which is a list-or-tuple of lists-or-tuples-or ndarrays with different lengths or shapes) is deprecated. If you meant to do this, you must specify 'dtype=object' when creating the ndarray.\n",
      "  result = np.asarray(values, dtype=dtype)\n"
     ]
    },
    {
     "data": {
      "text/plain": "  0%|          | 0/26 [00:00<?, ?it/s]",
      "application/vnd.jupyter.widget-view+json": {
       "version_major": 2,
       "version_minor": 0,
       "model_id": "088c4db774964ccaae208bfb76dad3a7"
      }
     },
     "metadata": {},
     "output_type": "display_data"
    }
   ],
   "source": [
    "from cri98tj.distancers.InterpolatedRootDistance_distancer import InterpolatedRootDistance_distancer, \\\n",
    "    InterpolatedRootDistanceBestFitting\n",
    "\n",
    "normalizer = FirstPoint_normalizer(spatioTemporalColumns=spatioTemporalCols, fillna=None, verbose=verbose)\n",
    "selector = RandomInformationGain_selector(top_k=n_movelets, bestFittingMeasure=InterpolatedRootDistanceBestFitting, movelets_per_class=n_movelets*3, trajectories_for_orderline=100, n_jobs=n_jobs, spatioTemporalColumns=spatioTemporalCols, normalizer=normalizer, verbose=verbose)\n",
    "distancer = InterpolatedRootDistance_distancer(normalizer=normalizer, spatioTemporalColumns=spatioTemporalCols, n_jobs=n_jobs, verbose=verbose)\n",
    "\n",
    "res = {}\n",
    "for precision in tqdm(range(2,7)):\n",
    "    partitioner = Geohash_partitioner(precision=precision, spatioTemporalColumns=spatioTemporalCols, verbose=verbose)\n",
    "    part = partitioner.fit_transform(df[df.tid.isin(tid_train)].values)\n",
    "    shapelets = selector.fit_transform(part)\n",
    "    dist_np = distancer.fit_transform((df.values, shapelets))\n",
    "\n",
    "    clf = RandomForestClassifier(max_depth=3, random_state=3, n_jobs=n_jobs, n_estimators=1000)\n",
    "\n",
    "    dist_np_df = pd.DataFrame(dist_np)\n",
    "    X = dist_np_df.drop(columns=[0]).values\n",
    "    y = dist_np_df[0].values\n",
    "\n",
    "    X_train, X_test, y_train, y_test = train_test_split(X, y, test_size=.3, stratify=y, random_state=3)\n",
    "\n",
    "    clf.fit(X_train, y_train)\n",
    "\n",
    "    y_pred = clf.predict(X_test)\n",
    "\n",
    "    res[str(precision)] = classification_report(y_test, y_pred)"
   ],
   "metadata": {
    "collapsed": false,
    "pycharm": {
     "name": "#%%\n"
    }
   }
  },
  {
   "cell_type": "code",
   "execution_count": 47,
   "outputs": [
    {
     "name": "stdout",
     "output_type": "stream",
     "text": [
      "PRECISION=2\n",
      "              precision    recall  f1-score   support\n",
      "\n",
      "           C       0.91      1.00      0.95        10\n",
      "           D       0.50      0.56      0.53         9\n",
      "           E       0.70      0.58      0.64        12\n",
      "\n",
      "    accuracy                           0.71        31\n",
      "   macro avg       0.70      0.71      0.71        31\n",
      "weighted avg       0.71      0.71      0.71        31\n",
      "\n",
      "\r\n",
      "\r\n",
      "\r\n",
      "\r\n",
      "\n",
      "PRECISION=3\n",
      "              precision    recall  f1-score   support\n",
      "\n",
      "           C       0.91      1.00      0.95        10\n",
      "           D       0.60      0.67      0.63         9\n",
      "           E       0.80      0.67      0.73        12\n",
      "\n",
      "    accuracy                           0.77        31\n",
      "   macro avg       0.77      0.78      0.77        31\n",
      "weighted avg       0.78      0.77      0.77        31\n",
      "\n",
      "\r\n",
      "\r\n",
      "\r\n",
      "\r\n",
      "\n",
      "PRECISION=4\n",
      "              precision    recall  f1-score   support\n",
      "\n",
      "           C       0.91      1.00      0.95        10\n",
      "           D       0.62      0.56      0.59         9\n",
      "           E       0.75      0.75      0.75        12\n",
      "\n",
      "    accuracy                           0.77        31\n",
      "   macro avg       0.76      0.77      0.76        31\n",
      "weighted avg       0.77      0.77      0.77        31\n",
      "\n",
      "\r\n",
      "\r\n",
      "\r\n",
      "\r\n",
      "\n",
      "PRECISION=5\n",
      "              precision    recall  f1-score   support\n",
      "\n",
      "           C       0.91      1.00      0.95        10\n",
      "           D       0.56      0.56      0.56         9\n",
      "           E       0.73      0.67      0.70        12\n",
      "\n",
      "    accuracy                           0.74        31\n",
      "   macro avg       0.73      0.74      0.73        31\n",
      "weighted avg       0.74      0.74      0.74        31\n",
      "\n",
      "\r\n",
      "\r\n",
      "\r\n",
      "\r\n",
      "\n",
      "PRECISION=6\n",
      "              precision    recall  f1-score   support\n",
      "\n",
      "           C       1.00      0.80      0.89        10\n",
      "           D       0.67      0.44      0.53         9\n",
      "           E       0.65      0.92      0.76        12\n",
      "\n",
      "    accuracy                           0.74        31\n",
      "   macro avg       0.77      0.72      0.73        31\n",
      "weighted avg       0.77      0.74      0.74        31\n",
      "\n",
      "\r\n",
      "\r\n",
      "\r\n",
      "\r\n",
      "\n"
     ]
    }
   ],
   "source": [
    "for precisione, r in res.items():\n",
    "    print(F\"PRECISION={precisione}\")\n",
    "    print(r)\n",
    "    print(\"\\r\\n\\r\\n\\r\\n\\r\\n\")"
   ],
   "metadata": {
    "collapsed": false,
    "pycharm": {
     "name": "#%%\n"
    }
   }
  },
  {
   "cell_type": "code",
   "execution_count": 47,
   "outputs": [],
   "source": [],
   "metadata": {
    "collapsed": false,
    "pycharm": {
     "name": "#%%\n"
    }
   }
  },
  {
   "cell_type": "code",
   "execution_count": 47,
   "outputs": [],
   "source": [],
   "metadata": {
    "collapsed": false,
    "pycharm": {
     "name": "#%%\n"
    }
   }
  },
  {
   "cell_type": "code",
   "execution_count": 47,
   "outputs": [],
   "source": [],
   "metadata": {
    "collapsed": false,
    "pycharm": {
     "name": "#%%\n"
    }
   }
  }
 ],
 "metadata": {
  "kernelspec": {
   "display_name": "Python 3",
   "language": "python",
   "name": "python3"
  },
  "language_info": {
   "codemirror_mode": {
    "name": "ipython",
    "version": 2
   },
   "file_extension": ".py",
   "mimetype": "text/x-python",
   "name": "python",
   "nbconvert_exporter": "python",
   "pygments_lexer": "ipython2",
   "version": "2.7.6"
  }
 },
 "nbformat": 4,
 "nbformat_minor": 0
}